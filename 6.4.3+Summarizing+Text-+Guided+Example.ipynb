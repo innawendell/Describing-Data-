{
 "cells": [
  {
   "cell_type": "code",
   "execution_count": 1,
   "metadata": {},
   "outputs": [],
   "source": [
    "import numpy as np\n",
    "import pandas as pd\n",
    "import scipy\n",
    "import matplotlib.pyplot as plt\n",
    "import networkx as nx\n",
    "import spacy\n",
    "from sklearn.feature_extraction.text import TfidfVectorizer\n",
    "%matplotlib inline"
   ]
  },
  {
   "cell_type": "markdown",
   "metadata": {},
   "source": [
    "# Summarizing Text\n",
    "\n",
    "Let's try out extractive summarization using the first four paragraphs of [The Great Gatsby](http://gutenberg.net.au/ebooks02/0200041h.html).\n",
    "\n",
    "First, we'll try to extract the most representative sentence.  Then, we'll extract keywords.\n",
    "\n",
    "## I. Sentence extraction\n",
    "\n",
    "The steps of our sentence extraction process:\n",
    "\n",
    "1. Parse and tokenize the text using spaCy, and divide into sentences.\n",
    "2. Calculate the tf-idf matrix.\n",
    "3. Calculate similarity scores.\n",
    "4. Calculate TextRank: We're going to use the `networkx` package to run the TextRank algorithm.\n",
    "\n",
    "Let's get started!\n"
   ]
  },
  {
   "cell_type": "code",
   "execution_count": 2,
   "metadata": {},
   "outputs": [],
   "source": [
    "# Importing the text the lazy way.\n",
    "gatsby=\"In my younger and more vulnerable years my father gave me some advice that I've been turning over in my mind ever since. \\\"Whenever you feel like criticizing any one,\\\" he told me, \\\"just remember that all the people in this world haven't had the advantages that you've had.\\\" He didn't say any more but we've always been unusually communicative in a reserved way, and I understood that he meant a great deal more than that. In consequence I'm inclined to reserve all judgments, a habit that has opened up many curious natures to me and also made me the victim of not a few veteran bores. The abnormal mind is quick to detect and attach itself to this quality when it appears in a normal person, and so it came about that in college I was unjustly accused of being a politician, because I was privy to the secret griefs of wild, unknown men. Most of the confidences were unsought--frequently I have feigned sleep, preoccupation, or a hostile levity when I realized by some unmistakable sign that an intimate revelation was quivering on the horizon--for the intimate revelations of young men or at least the terms in which they express them are usually plagiaristic and marred by obvious suppressions. Reserving judgments is a matter of infinite hope. I am still a little afraid of missing something if I forget that, as my father snobbishly suggested, and I snobbishly repeat a sense of the fundamental decencies is parcelled out unequally at birth. And, after boasting this way of my tolerance, I come to the admission that it has a limit. Conduct may be founded on the hard rock or the wet marshes but after a certain point I don't care what it's founded on. When I came back from the East last autumn I felt that I wanted the world to be in uniform and at a sort of moral attention forever; I wanted no more riotous excursions with privileged glimpses into the human heart. Only Gatsby, the man who gives his name to this book, was exempt from my reaction--Gatsby who represented everything for which I have an unaffected scorn. If personality is an unbroken series of successful gestures, then there was something gorgeous about him, some heightened sensitivity to the promises of life, as if he were related to one of those intricate machines that register earthquakes ten thousand miles away. This responsiveness had nothing to do with that flabby impressionability which is dignified under the name of the \\\"creative temperament\\\"--it was an extraordinary gift for hope, a romantic readiness such as I have never found in any other person and which it is not likely I shall ever find again. No--Gatsby turned out all right at the end; it is what preyed on Gatsby, what foul dust floated in the wake of his dreams that temporarily closed out my interest in the abortive sorrows and short-winded elations of men.\"\n",
    "\n",
    "# no.1\n",
    "\n",
    "# We want to use the standard english-language parser.\n",
    "parser = spacy.load('en')\n",
    "\n",
    "# Parsing Gatsby.\n",
    "gatsby = parser(gatsby)\n",
    "\n",
    "# Dividing the text into sentences and storing them as a list of strings.\n",
    "sentences=[]\n",
    "for span in gatsby.sents:\n",
    "    # go from the start to the end of each span, returning each token in the sentence\n",
    "    # combine each token using join()\n",
    "    sent = ''.join(gatsby[i].string for i in range(span.start, span.end)).strip()\n",
    "    sentences.append(sent)\n",
    "\n",
    "# no. 2\n",
    "# Creating the tf-idf matrix.\n",
    "counter = TfidfVectorizer(lowercase=False, \n",
    "                          stop_words=None,\n",
    "                          ngram_range=(1, 1), \n",
    "                          analyzer=u'word', \n",
    "                          max_df=.5, \n",
    "                          min_df=1,\n",
    "                          max_features=None, \n",
    "                          vocabulary=None, \n",
    "                          binary=False)\n",
    "\n",
    "#Applying the vectorizer\n",
    "data_counts=counter.fit_transform(sentences)"
   ]
  },
  {
   "cell_type": "markdown",
   "metadata": {},
   "source": [
    "# Similarity\n",
    "\n",
    "So far, this is all (hopefully) familiar: We've done text parsing and the tf-idf calculation before.  We should now have sentences represented as vectors, with each word having a score based on how often it occurs in the sentence divided by how often it occurs in the whole text.\n",
    "\n",
    "Now let's calculate the similarity scores for the sentences and apply the TextRank algorithm.  Because TextRank is based on Google's PageRank algorithm, the function is called 'pagerank'.  The hyperparameters are the damping parameter ´alpha´ and the convergence parameter ´tol´."
   ]
  },
  {
   "cell_type": "code",
   "execution_count": 3,
   "metadata": {},
   "outputs": [
    {
     "name": "stdout",
     "output_type": "stream",
     "text": [
      "(0.07478177112861596, 'This responsiveness had nothing to do with that flabby impressionability which is dignified under the name of the \"creative temperament\"--it was an extraordinary gift for hope, a romantic readiness such as I have never found in any other person and which it is not likely I shall ever find again.')\n"
     ]
    }
   ],
   "source": [
    "# no. 3\n",
    "\n",
    "# Calculating similarity\n",
    "similarity = data_counts * data_counts.T\n",
    "\n",
    "# no. 4\n",
    "\n",
    "# Identifying the sentence with the highest rank.\n",
    "nx_graph = nx.from_scipy_sparse_matrix(similarity)\n",
    "ranks=nx.pagerank(nx_graph, alpha=.85, tol=.00000001)\n",
    "\n",
    "ranked = sorted(((ranks[i],s) for i,s in enumerate(sentences)),\n",
    "                reverse=True)\n",
    "print(ranked[0])\n"
   ]
  },
  {
   "cell_type": "markdown",
   "metadata": {
    "collapsed": true
   },
   "source": [
    "Since a lot of Gatsby is about the narrator acting as the observer of other peoples' sordid secrets, this seems pretty good.  Now, let's extract some keywords.\n",
    "\n",
    "# II. Keyword summarization\n",
    "\n",
    "1) Parse and tokenize text (already done).  \n",
    "2) Filter out stopwords, choose only nouns and adjectives.  \n",
    "3) Calculate the neighbors of words (we'll use a window of 4).  \n",
    "4) Run TextRank on the neighbor matrix.  \n"
   ]
  },
  {
   "cell_type": "code",
   "execution_count": 4,
   "metadata": {
    "scrolled": true
   },
   "outputs": [
    {
     "name": "stdout",
     "output_type": "stream",
     "text": [
      "done!\n"
     ]
    }
   ],
   "source": [
    "# no. 2\n",
    "\n",
    "# Removing stop words and punctuation, then getting a list of all unique words in the text\n",
    "gatsby_filt = [word for word in gatsby if word.is_stop==False and (word.pos_=='NOUN' or word.pos_=='ADJ')]\n",
    "words=set(gatsby_filt)\n",
    "\n",
    "#Creating a grid indicating whether words are within 4 places of the target word\n",
    "adjacency=pd.DataFrame(columns=words,index=words,data=0)\n",
    "\n",
    "#Iterating through each word in the text and indicating which of the unique words are its neighbors\n",
    "for i,word in enumerate(gatsby):\n",
    "\n",
    "    # Checking if any of the word's next four neighbors are in the word list \n",
    "    if any([word == item for item in gatsby_filt]):\n",
    "       \n",
    "        # Making sure to stop at the end of the string, even if there are less than four words left after the target.\n",
    "        end=max(0,len(gatsby)-(len(gatsby)-(i+5)))\n",
    "        # The potential neighbors.\n",
    "        nextwords=gatsby[i+1:end]\n",
    "        \n",
    "        # Filtering the neighbors to select only those in the word list\n",
    "        inset=[x in gatsby_filt for x in nextwords] # boolean True or False \n",
    "        neighbors=[nextwords[i] for i in range(len(nextwords)) if inset[i]] # if returns True\n",
    "        \n",
    "        # Adding 1 to the adjacency matrix for neighbors of the target word\n",
    "        if neighbors:\n",
    "            adjacency.loc[word,neighbors]=adjacency.loc[word,neighbors]+1\n",
    "\n",
    "print('done!')\n",
    "        \n",
    "\n"
   ]
  },
  {
   "cell_type": "code",
   "execution_count": 5,
   "metadata": {},
   "outputs": [
    {
     "name": "stdout",
     "output_type": "stream",
     "text": [
      "[(0.013370948308795436, hope), (0.012223431176324349, promises), (0.012223431176324349, exempt), (0.01214206885054891, glimpses), (0.011895137937387881, intimate)]\n"
     ]
    },
    {
     "name": "stderr",
     "output_type": "stream",
     "text": [
      "/usr/local/lib/python3.7/site-packages/ipykernel_launcher.py:4: FutureWarning: Method .as_matrix will be removed in a future version. Use .values instead.\n",
      "  after removing the cwd from sys.path.\n"
     ]
    }
   ],
   "source": [
    "# no. 4\n",
    "\n",
    "# Running TextRank\n",
    "nx_words = nx.from_numpy_matrix(adjacency.as_matrix())\n",
    "ranks=nx.pagerank(nx_words, alpha=.85, tol=.00000001)\n",
    "\n",
    "# Identifying the five most highly ranked keywords\n",
    "ranked = sorted(((ranks[i],s) for i,s in enumerate(words)),\n",
    "                reverse=True) # descending order\n",
    "print(ranked[:5])"
   ]
  },
  {
   "cell_type": "markdown",
   "metadata": {
    "collapsed": true
   },
   "source": [
    "These results are less impressive.  'Hope', 'promises', and 'glimpses' certainly fit the elegiac, on-the-outside-looking-in tone of the book, but 'exempt' and 'world' are pretty generic.  TextRank may perform better on a larger text sample.\n",
    "\n",
    "# Drill\n",
    "\n",
    "It is also possible that keyword phrases will work better.  Modfiy the keyword extraction code to extract two-word phrases (digrams) rather than single words.  Then try it with trigrams.  You will probably want to broaden the window that defines 'neighbors.'  Try a few different modifications, and write up your observations in your notebook.  Discuss with your mentor."
   ]
  },
  {
   "cell_type": "markdown",
   "metadata": {},
   "source": [
    "## III. Digrams"
   ]
  },
  {
   "cell_type": "code",
   "execution_count": 6,
   "metadata": {},
   "outputs": [
    {
     "data": {
      "text/plain": [
       "In my younger and more vulnerable years my father gave me some advice that I've been turning over in"
      ]
     },
     "execution_count": 6,
     "metadata": {},
     "output_type": "execute_result"
    }
   ],
   "source": [
    "gatsby[:20]"
   ]
  },
  {
   "cell_type": "code",
   "execution_count": 7,
   "metadata": {},
   "outputs": [],
   "source": [
    "# creation of digrams\n",
    "\n",
    "new_gats = []\n",
    "one = 0\n",
    "two = 2\n",
    "for i in range(len(gatsby)):\n",
    "    digram = gatsby[one:two]\n",
    "    new_gats.append(digram)\n",
    "    one+=1\n",
    "    two+=1"
   ]
  },
  {
   "cell_type": "code",
   "execution_count": 8,
   "metadata": {},
   "outputs": [],
   "source": [
    "# remove punctuation from our digrams\n",
    "second_gats = [digram for digram in new_gats[:-2] if digram[0].is_punct==False and digram[1].is_punct==False]"
   ]
  },
  {
   "cell_type": "code",
   "execution_count": 9,
   "metadata": {},
   "outputs": [],
   "source": [
    "# remove digrams that contain at least one stop word\n",
    "shorter_gats = [digram for digram in second_gats if digram[0].is_stop==False and digram[1].is_stop==False]"
   ]
  },
  {
   "cell_type": "code",
   "execution_count": 10,
   "metadata": {},
   "outputs": [],
   "source": [
    "new_gats_filt = [digram for digram in shorter_gats if digram[0].pos_=='ADJ' \n",
    "                 and digram[1].pos_=='NOUN']\n",
    "\n",
    "new_gats_words=set(shorter_gats)"
   ]
  },
  {
   "cell_type": "code",
   "execution_count": 11,
   "metadata": {},
   "outputs": [
    {
     "data": {
      "text/plain": [
       "[father gave, I've, feel like, like criticizing]"
      ]
     },
     "execution_count": 11,
     "metadata": {},
     "output_type": "execute_result"
    }
   ],
   "source": [
    "shorter_gats[1:5]"
   ]
  },
  {
   "cell_type": "code",
   "execution_count": 12,
   "metadata": {},
   "outputs": [
    {
     "name": "stdout",
     "output_type": "stream",
     "text": [
      "done!\n"
     ]
    }
   ],
   "source": [
    "adjacency_digr=pd.DataFrame(columns=[str(i) for i in new_gats_words] ,index=[str(i) for i in new_gats_words],data=0)\n",
    "\n",
    "#Iterating through each word in the text and indicating which of the unique words are its neighbors\n",
    "for i,digr in enumerate(shorter_gats):\n",
    "\n",
    "    if any([digr == item for item in new_gats_filt]):\n",
    "       \n",
    "       \n",
    "        end=max(0,len(shorter_gats)-(len(shorter_gats)-(i+15)))\n",
    "        \n",
    "       \n",
    "        nextwords=shorter_gats[i+1:end]\n",
    "        \n",
    "        \n",
    "        inset=[x in new_gats_filt for x in nextwords] # boolean True or False \n",
    "        neighbors=[nextwords[i] for i in range(len(nextwords)) if inset[i]] # if returns True\n",
    "        \n",
    "    \n",
    "        if neighbors:\n",
    "            for i in neighbors:\n",
    "                adjacency_digr.loc[str(digr),str(i)]=adjacency_digr.loc[str(digr),str(i)]+1\n",
    "\n",
    "print('done!')"
   ]
  },
  {
   "cell_type": "code",
   "execution_count": 13,
   "metadata": {},
   "outputs": [
    {
     "data": {
      "text/html": [
       "<div>\n",
       "<style scoped>\n",
       "    .dataframe tbody tr th:only-of-type {\n",
       "        vertical-align: middle;\n",
       "    }\n",
       "\n",
       "    .dataframe tbody tr th {\n",
       "        vertical-align: top;\n",
       "    }\n",
       "\n",
       "    .dataframe thead th {\n",
       "        text-align: right;\n",
       "    }\n",
       "</style>\n",
       "<table border=\"1\" class=\"dataframe\">\n",
       "  <thead>\n",
       "    <tr style=\"text-align: right;\">\n",
       "      <th></th>\n",
       "      <th>I snobbishly</th>\n",
       "      <th>riotous excursions</th>\n",
       "      <th>foul dust</th>\n",
       "      <th>like criticizing</th>\n",
       "      <th>'m inclined</th>\n",
       "      <th>likely I</th>\n",
       "      <th>flabby impressionability</th>\n",
       "      <th>I've</th>\n",
       "      <th>college I</th>\n",
       "      <th>creative temperament</th>\n",
       "      <th>...</th>\n",
       "      <th>unaffected scorn</th>\n",
       "      <th>feigned sleep</th>\n",
       "      <th>unjustly accused</th>\n",
       "      <th>intimate revelations</th>\n",
       "      <th>secret griefs</th>\n",
       "      <th>I come</th>\n",
       "      <th>snobbishly suggested</th>\n",
       "      <th>curious natures</th>\n",
       "      <th>infinite hope</th>\n",
       "      <th>little afraid</th>\n",
       "    </tr>\n",
       "  </thead>\n",
       "  <tbody>\n",
       "    <tr>\n",
       "      <th>I snobbishly</th>\n",
       "      <td>0</td>\n",
       "      <td>0</td>\n",
       "      <td>0</td>\n",
       "      <td>0</td>\n",
       "      <td>0</td>\n",
       "      <td>0</td>\n",
       "      <td>0</td>\n",
       "      <td>0</td>\n",
       "      <td>0</td>\n",
       "      <td>0</td>\n",
       "      <td>...</td>\n",
       "      <td>0</td>\n",
       "      <td>0</td>\n",
       "      <td>0</td>\n",
       "      <td>0</td>\n",
       "      <td>0</td>\n",
       "      <td>0</td>\n",
       "      <td>0</td>\n",
       "      <td>0</td>\n",
       "      <td>0</td>\n",
       "      <td>0</td>\n",
       "    </tr>\n",
       "    <tr>\n",
       "      <th>riotous excursions</th>\n",
       "      <td>0</td>\n",
       "      <td>0</td>\n",
       "      <td>0</td>\n",
       "      <td>0</td>\n",
       "      <td>0</td>\n",
       "      <td>0</td>\n",
       "      <td>1</td>\n",
       "      <td>0</td>\n",
       "      <td>0</td>\n",
       "      <td>0</td>\n",
       "      <td>...</td>\n",
       "      <td>1</td>\n",
       "      <td>0</td>\n",
       "      <td>0</td>\n",
       "      <td>0</td>\n",
       "      <td>0</td>\n",
       "      <td>0</td>\n",
       "      <td>0</td>\n",
       "      <td>0</td>\n",
       "      <td>0</td>\n",
       "      <td>0</td>\n",
       "    </tr>\n",
       "    <tr>\n",
       "      <th>foul dust</th>\n",
       "      <td>0</td>\n",
       "      <td>0</td>\n",
       "      <td>0</td>\n",
       "      <td>0</td>\n",
       "      <td>0</td>\n",
       "      <td>0</td>\n",
       "      <td>0</td>\n",
       "      <td>0</td>\n",
       "      <td>0</td>\n",
       "      <td>0</td>\n",
       "      <td>...</td>\n",
       "      <td>0</td>\n",
       "      <td>0</td>\n",
       "      <td>0</td>\n",
       "      <td>0</td>\n",
       "      <td>0</td>\n",
       "      <td>0</td>\n",
       "      <td>0</td>\n",
       "      <td>0</td>\n",
       "      <td>0</td>\n",
       "      <td>0</td>\n",
       "    </tr>\n",
       "    <tr>\n",
       "      <th>like criticizing</th>\n",
       "      <td>0</td>\n",
       "      <td>0</td>\n",
       "      <td>0</td>\n",
       "      <td>0</td>\n",
       "      <td>0</td>\n",
       "      <td>0</td>\n",
       "      <td>0</td>\n",
       "      <td>0</td>\n",
       "      <td>0</td>\n",
       "      <td>0</td>\n",
       "      <td>...</td>\n",
       "      <td>0</td>\n",
       "      <td>0</td>\n",
       "      <td>0</td>\n",
       "      <td>0</td>\n",
       "      <td>0</td>\n",
       "      <td>0</td>\n",
       "      <td>0</td>\n",
       "      <td>0</td>\n",
       "      <td>0</td>\n",
       "      <td>0</td>\n",
       "    </tr>\n",
       "    <tr>\n",
       "      <th>'m inclined</th>\n",
       "      <td>0</td>\n",
       "      <td>0</td>\n",
       "      <td>0</td>\n",
       "      <td>0</td>\n",
       "      <td>0</td>\n",
       "      <td>0</td>\n",
       "      <td>0</td>\n",
       "      <td>0</td>\n",
       "      <td>0</td>\n",
       "      <td>0</td>\n",
       "      <td>...</td>\n",
       "      <td>0</td>\n",
       "      <td>0</td>\n",
       "      <td>0</td>\n",
       "      <td>0</td>\n",
       "      <td>0</td>\n",
       "      <td>0</td>\n",
       "      <td>0</td>\n",
       "      <td>0</td>\n",
       "      <td>0</td>\n",
       "      <td>0</td>\n",
       "    </tr>\n",
       "  </tbody>\n",
       "</table>\n",
       "<p>5 rows × 82 columns</p>\n",
       "</div>"
      ],
      "text/plain": [
       "                    I snobbishly  riotous excursions  foul dust  \\\n",
       "I snobbishly                   0                   0          0   \n",
       "riotous excursions             0                   0          0   \n",
       "foul dust                      0                   0          0   \n",
       "like criticizing               0                   0          0   \n",
       "'m inclined                    0                   0          0   \n",
       "\n",
       "                    like criticizing  'm inclined  likely I  \\\n",
       "I snobbishly                       0            0         0   \n",
       "riotous excursions                 0            0         0   \n",
       "foul dust                          0            0         0   \n",
       "like criticizing                   0            0         0   \n",
       "'m inclined                        0            0         0   \n",
       "\n",
       "                    flabby impressionability  I've  college I  \\\n",
       "I snobbishly                               0     0          0   \n",
       "riotous excursions                         1     0          0   \n",
       "foul dust                                  0     0          0   \n",
       "like criticizing                           0     0          0   \n",
       "'m inclined                                0     0          0   \n",
       "\n",
       "                    creative temperament      ...        unaffected scorn  \\\n",
       "I snobbishly                           0      ...                       0   \n",
       "riotous excursions                     0      ...                       1   \n",
       "foul dust                              0      ...                       0   \n",
       "like criticizing                       0      ...                       0   \n",
       "'m inclined                            0      ...                       0   \n",
       "\n",
       "                    feigned sleep  unjustly accused  intimate revelations  \\\n",
       "I snobbishly                    0                 0                     0   \n",
       "riotous excursions              0                 0                     0   \n",
       "foul dust                       0                 0                     0   \n",
       "like criticizing                0                 0                     0   \n",
       "'m inclined                     0                 0                     0   \n",
       "\n",
       "                    secret griefs  I come  snobbishly suggested  \\\n",
       "I snobbishly                    0       0                     0   \n",
       "riotous excursions              0       0                     0   \n",
       "foul dust                       0       0                     0   \n",
       "like criticizing                0       0                     0   \n",
       "'m inclined                     0       0                     0   \n",
       "\n",
       "                    curious natures  infinite hope  little afraid  \n",
       "I snobbishly                      0              0              0  \n",
       "riotous excursions                0              0              0  \n",
       "foul dust                         0              0              0  \n",
       "like criticizing                  0              0              0  \n",
       "'m inclined                       0              0              0  \n",
       "\n",
       "[5 rows x 82 columns]"
      ]
     },
     "execution_count": 13,
     "metadata": {},
     "output_type": "execute_result"
    }
   ],
   "source": [
    "adjacency_digr.head()"
   ]
  },
  {
   "cell_type": "code",
   "execution_count": 14,
   "metadata": {},
   "outputs": [
    {
     "name": "stdout",
     "output_type": "stream",
     "text": [
      "[(0.030328474809822002, secret griefs), (0.029510403052610056, obvious suppressions), (0.029500169146201304, young men), (0.02882335703739154, flabby impressionability), (0.028421675887912536, intricate machines)]\n"
     ]
    },
    {
     "name": "stderr",
     "output_type": "stream",
     "text": [
      "/usr/local/lib/python3.7/site-packages/ipykernel_launcher.py:2: FutureWarning: Method .as_matrix will be removed in a future version. Use .values instead.\n",
      "  \n"
     ]
    }
   ],
   "source": [
    "# Running TextRank\n",
    "nx_words_digr = nx.from_numpy_matrix(adjacency_digr.as_matrix())\n",
    "ranks_digr=nx.pagerank(nx_words_digr, alpha=.85, tol=.00000001)\n",
    "\n",
    "# Identifying the five most highly ranked keywords\n",
    "ranked_digr = sorted(((ranks_digr[i],s) for i,s in enumerate(new_gats_words)),\n",
    "                reverse=True) # descending order\n",
    "print(ranked_digr[:5])"
   ]
  },
  {
   "cell_type": "markdown",
   "metadata": {},
   "source": [
    "### IV. Trigrams"
   ]
  },
  {
   "cell_type": "code",
   "execution_count": 15,
   "metadata": {},
   "outputs": [],
   "source": [
    "# creation of trigrams\n",
    "\n",
    "trig_gats = []\n",
    "\n",
    "for i in range(len(gatsby)):\n",
    "    trigram = gatsby[i:i+3]\n",
    "    trig_gats.append(trigram)"
   ]
  },
  {
   "cell_type": "code",
   "execution_count": 16,
   "metadata": {},
   "outputs": [
    {
     "data": {
      "text/plain": [
       "In my younger"
      ]
     },
     "execution_count": 16,
     "metadata": {},
     "output_type": "execute_result"
    }
   ],
   "source": [
    "#indeed three words\n",
    "trig_gats[0]"
   ]
  },
  {
   "cell_type": "code",
   "execution_count": 17,
   "metadata": {},
   "outputs": [],
   "source": [
    "# remove punctuation from our trigrams and stop words\n",
    "trig_gats = [trigram for trigram in trig_gats[:-2] \n",
    "             if trigram[0].is_punct==False \n",
    "             and trigram[1].is_punct==False \n",
    "             and trigram[2].is_punct==False]"
   ]
  },
  {
   "cell_type": "code",
   "execution_count": 18,
   "metadata": {},
   "outputs": [],
   "source": [
    "trig_gats_filt = [trigram for trigram in trig_gats \n",
    "                 if trigram[0].is_stop==False \n",
    "                 or (trigram[1].is_stop==False \n",
    "                 and trigram[2].is_stop==False) ]\n",
    "\n",
    "\n",
    "trig_gats_words=set(trig_gats_filt)"
   ]
  },
  {
   "cell_type": "code",
   "execution_count": 19,
   "metadata": {},
   "outputs": [
    {
     "name": "stdout",
     "output_type": "stream",
     "text": [
      "done!\n"
     ]
    }
   ],
   "source": [
    "#Creating a grid indicating whether words are within 4 places of the target word\n",
    "adjacency_trigr=pd.DataFrame(columns=[str(i) for i in trig_gats] ,index=[str(i) for i in trig_gats],data=0)\n",
    "\n",
    "#Iterating through each word in the text and indicating which of the unique words are its neighbors\n",
    "for i,trigr in enumerate(shorter_gats):\n",
    "\n",
    "    if any([trigr == item for item in trig_gats_filt]):\n",
    "       \n",
    "       \n",
    "        end=max(0,len(trig_gats)-(len(trig_gats)-(i+15)))\n",
    "        \n",
    "       \n",
    "        nextwords=trig_gats[i+1:end]\n",
    "        \n",
    "        \n",
    "        inset=[x in trig_gats_filt for x in nextwords] # boolean True or False \n",
    "        neighbors=[nextwords[i] for i in range(len(nextwords)) if inset[i]] # if returns True\n",
    "        \n",
    "    \n",
    "        if neighbors:\n",
    "            for i in neighbors:\n",
    "                adjacency_trigr.loc[str(trigr),str(i)]=adjacency_trigr.loc[str(trigr),str(i)]+1\n",
    "\n",
    "print('done!')"
   ]
  },
  {
   "cell_type": "code",
   "execution_count": 20,
   "metadata": {},
   "outputs": [
    {
     "name": "stdout",
     "output_type": "stream",
     "text": [
      "[(0.0023752969121140196, elations of men), (0.0023752969121140196, winded elations of), (0.0023752969121140196, sorrows and short), (0.0023752969121140196, abortive sorrows and), (0.0023752969121140196, the abortive sorrows)]\n"
     ]
    },
    {
     "name": "stderr",
     "output_type": "stream",
     "text": [
      "/usr/local/lib/python3.7/site-packages/ipykernel_launcher.py:2: FutureWarning: Method .as_matrix will be removed in a future version. Use .values instead.\n",
      "  \n"
     ]
    }
   ],
   "source": [
    "# Running TextRank\n",
    "nx_words_trigr = nx.from_numpy_matrix(adjacency_trigr.as_matrix())\n",
    "ranks_trigr=nx.pagerank(nx_words_trigr, alpha=.85, tol=.00000001)\n",
    "\n",
    "# Identifying the five most highly ranked keywords\n",
    "ranked_trigr = sorted(((ranks_trigr[i],s) for i,s in enumerate(trig_gats_words)),\n",
    "                reverse=True) # descending order\n",
    "print(ranked_trigr[:5])"
   ]
  },
  {
   "cell_type": "code",
   "execution_count": null,
   "metadata": {},
   "outputs": [],
   "source": []
  }
 ],
 "metadata": {
  "hide_input": false,
  "kernelspec": {
   "display_name": "Python 3",
   "language": "python",
   "name": "python3"
  },
  "language_info": {
   "codemirror_mode": {
    "name": "ipython",
    "version": 3
   },
   "file_extension": ".py",
   "mimetype": "text/x-python",
   "name": "python",
   "nbconvert_exporter": "python",
   "pygments_lexer": "ipython3",
   "version": "3.7.0"
  }
 },
 "nbformat": 4,
 "nbformat_minor": 2
}
