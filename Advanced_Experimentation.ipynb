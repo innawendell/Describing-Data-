{
 "cells": [
  {
   "cell_type": "code",
   "execution_count": 1,
   "metadata": {},
   "outputs": [],
   "source": [
    "import numpy as np\n",
    "import pandas as pd\n",
    "import matplotlib.pyplot as plt\n",
    "import seaborn as sns\n",
    "%matplotlib inline\n",
    "import scipy.stats as stats\n",
    "import warnings\n",
    "warnings.filterwarnings('ignore')\n",
    "from scipy.stats import median_test\n",
    "from scipy.stats import kruskal"
   ]
  },
  {
   "cell_type": "code",
   "execution_count": 2,
   "metadata": {},
   "outputs": [],
   "source": [
    "#load the data\n",
    "survey = pd.read_csv('/Users/admin/Documents/Thinkful_Projects/ESSdata_Thinkful.csv')"
   ]
  },
  {
   "cell_type": "code",
   "execution_count": 3,
   "metadata": {},
   "outputs": [
    {
     "data": {
      "text/html": [
       "<div>\n",
       "<style scoped>\n",
       "    .dataframe tbody tr th:only-of-type {\n",
       "        vertical-align: middle;\n",
       "    }\n",
       "\n",
       "    .dataframe tbody tr th {\n",
       "        vertical-align: top;\n",
       "    }\n",
       "\n",
       "    .dataframe thead th {\n",
       "        text-align: right;\n",
       "    }\n",
       "</style>\n",
       "<table border=\"1\" class=\"dataframe\">\n",
       "  <thead>\n",
       "    <tr style=\"text-align: right;\">\n",
       "      <th></th>\n",
       "      <th>cntry</th>\n",
       "      <th>idno</th>\n",
       "      <th>year</th>\n",
       "      <th>tvtot</th>\n",
       "      <th>ppltrst</th>\n",
       "      <th>pplfair</th>\n",
       "      <th>pplhlp</th>\n",
       "      <th>happy</th>\n",
       "      <th>sclmeet</th>\n",
       "      <th>sclact</th>\n",
       "      <th>gndr</th>\n",
       "      <th>agea</th>\n",
       "      <th>partner</th>\n",
       "    </tr>\n",
       "  </thead>\n",
       "  <tbody>\n",
       "    <tr>\n",
       "      <th>0</th>\n",
       "      <td>CH</td>\n",
       "      <td>5.0</td>\n",
       "      <td>6</td>\n",
       "      <td>3.0</td>\n",
       "      <td>3.0</td>\n",
       "      <td>10.0</td>\n",
       "      <td>5.0</td>\n",
       "      <td>8.0</td>\n",
       "      <td>5.0</td>\n",
       "      <td>4.0</td>\n",
       "      <td>2.0</td>\n",
       "      <td>60.0</td>\n",
       "      <td>1.0</td>\n",
       "    </tr>\n",
       "    <tr>\n",
       "      <th>1</th>\n",
       "      <td>CH</td>\n",
       "      <td>25.0</td>\n",
       "      <td>6</td>\n",
       "      <td>6.0</td>\n",
       "      <td>5.0</td>\n",
       "      <td>7.0</td>\n",
       "      <td>5.0</td>\n",
       "      <td>9.0</td>\n",
       "      <td>3.0</td>\n",
       "      <td>2.0</td>\n",
       "      <td>2.0</td>\n",
       "      <td>59.0</td>\n",
       "      <td>1.0</td>\n",
       "    </tr>\n",
       "    <tr>\n",
       "      <th>2</th>\n",
       "      <td>CH</td>\n",
       "      <td>26.0</td>\n",
       "      <td>6</td>\n",
       "      <td>1.0</td>\n",
       "      <td>8.0</td>\n",
       "      <td>8.0</td>\n",
       "      <td>8.0</td>\n",
       "      <td>7.0</td>\n",
       "      <td>6.0</td>\n",
       "      <td>3.0</td>\n",
       "      <td>1.0</td>\n",
       "      <td>24.0</td>\n",
       "      <td>2.0</td>\n",
       "    </tr>\n",
       "    <tr>\n",
       "      <th>3</th>\n",
       "      <td>CH</td>\n",
       "      <td>28.0</td>\n",
       "      <td>6</td>\n",
       "      <td>4.0</td>\n",
       "      <td>6.0</td>\n",
       "      <td>6.0</td>\n",
       "      <td>7.0</td>\n",
       "      <td>10.0</td>\n",
       "      <td>6.0</td>\n",
       "      <td>2.0</td>\n",
       "      <td>2.0</td>\n",
       "      <td>64.0</td>\n",
       "      <td>1.0</td>\n",
       "    </tr>\n",
       "    <tr>\n",
       "      <th>4</th>\n",
       "      <td>CH</td>\n",
       "      <td>29.0</td>\n",
       "      <td>6</td>\n",
       "      <td>5.0</td>\n",
       "      <td>6.0</td>\n",
       "      <td>7.0</td>\n",
       "      <td>5.0</td>\n",
       "      <td>8.0</td>\n",
       "      <td>7.0</td>\n",
       "      <td>2.0</td>\n",
       "      <td>2.0</td>\n",
       "      <td>55.0</td>\n",
       "      <td>1.0</td>\n",
       "    </tr>\n",
       "  </tbody>\n",
       "</table>\n",
       "</div>"
      ],
      "text/plain": [
       "  cntry  idno  year  tvtot  ppltrst  pplfair  pplhlp  happy  sclmeet  sclact  \\\n",
       "0    CH   5.0     6    3.0      3.0     10.0     5.0    8.0      5.0     4.0   \n",
       "1    CH  25.0     6    6.0      5.0      7.0     5.0    9.0      3.0     2.0   \n",
       "2    CH  26.0     6    1.0      8.0      8.0     8.0    7.0      6.0     3.0   \n",
       "3    CH  28.0     6    4.0      6.0      6.0     7.0   10.0      6.0     2.0   \n",
       "4    CH  29.0     6    5.0      6.0      7.0     5.0    8.0      7.0     2.0   \n",
       "\n",
       "   gndr  agea  partner  \n",
       "0   2.0  60.0      1.0  \n",
       "1   2.0  59.0      1.0  \n",
       "2   1.0  24.0      2.0  \n",
       "3   2.0  64.0      1.0  \n",
       "4   2.0  55.0      1.0  "
      ]
     },
     "execution_count": 3,
     "metadata": {},
     "output_type": "execute_result"
    }
   ],
   "source": [
    "survey.head()"
   ]
  },
  {
   "cell_type": "code",
   "execution_count": 4,
   "metadata": {},
   "outputs": [
    {
     "data": {
      "text/plain": [
       "(8594, 13)"
      ]
     },
     "execution_count": 4,
     "metadata": {},
     "output_type": "execute_result"
    }
   ],
   "source": [
    "survey.shape"
   ]
  },
  {
   "cell_type": "code",
   "execution_count": 5,
   "metadata": {},
   "outputs": [
    {
     "name": "stdout",
     "output_type": "stream",
     "text": [
      "<class 'pandas.core.frame.DataFrame'>\n",
      "RangeIndex: 8594 entries, 0 to 8593\n",
      "Data columns (total 13 columns):\n",
      "cntry      8594 non-null object\n",
      "idno       8594 non-null float64\n",
      "year       8594 non-null int64\n",
      "tvtot      8586 non-null float64\n",
      "ppltrst    8580 non-null float64\n",
      "pplfair    8555 non-null float64\n",
      "pplhlp     8569 non-null float64\n",
      "happy      8563 non-null float64\n",
      "sclmeet    8579 non-null float64\n",
      "sclact     8500 non-null float64\n",
      "gndr       8584 non-null float64\n",
      "agea       8355 non-null float64\n",
      "partner    8577 non-null float64\n",
      "dtypes: float64(11), int64(1), object(1)\n",
      "memory usage: 872.9+ KB\n"
     ]
    }
   ],
   "source": [
    "survey.info()"
   ]
  },
  {
   "cell_type": "code",
   "execution_count": 6,
   "metadata": {},
   "outputs": [],
   "source": [
    "# fill null values with the means\n",
    "survey[['tvtot', 'ppltrst', 'pplfair', 'pplhlp', 'sclmeet', 'happy', 'sclact']] = survey[['tvtot', 'ppltrst', 'pplfair', 'pplhlp', 'sclmeet','happy', 'sclact']].apply(lambda x: x.fillna(x.mean()))"
   ]
  },
  {
   "cell_type": "code",
   "execution_count": 7,
   "metadata": {},
   "outputs": [],
   "source": [
    "# address the null values, fill in with the most frequent value\n",
    "survey[['partner', 'gndr']] = survey[['partner', 'gndr']].apply(lambda x: x.fillna(x.value_counts().index[0]))"
   ]
  },
  {
   "cell_type": "code",
   "execution_count": 8,
   "metadata": {},
   "outputs": [
    {
     "name": "stdout",
     "output_type": "stream",
     "text": [
      "<class 'pandas.core.frame.DataFrame'>\n",
      "RangeIndex: 8594 entries, 0 to 8593\n",
      "Data columns (total 13 columns):\n",
      "cntry      8594 non-null object\n",
      "idno       8594 non-null float64\n",
      "year       8594 non-null int64\n",
      "tvtot      8594 non-null float64\n",
      "ppltrst    8594 non-null float64\n",
      "pplfair    8594 non-null float64\n",
      "pplhlp     8594 non-null float64\n",
      "happy      8594 non-null float64\n",
      "sclmeet    8594 non-null float64\n",
      "sclact     8594 non-null float64\n",
      "gndr       8594 non-null float64\n",
      "agea       8355 non-null float64\n",
      "partner    8594 non-null float64\n",
      "dtypes: float64(11), int64(1), object(1)\n",
      "memory usage: 872.9+ KB\n"
     ]
    }
   ],
   "source": [
    "survey.info()"
   ]
  },
  {
   "cell_type": "code",
   "execution_count": 9,
   "metadata": {},
   "outputs": [
    {
     "data": {
      "text/plain": [
       "array([6, 7])"
      ]
     },
     "execution_count": 9,
     "metadata": {},
     "output_type": "execute_result"
    }
   ],
   "source": [
    "# we have two values for the year category, a brief research tells us that round 6 corresponds to year 2012 \n",
    "# and round 7 is from 2014\n",
    "\n",
    "np.unique(survey['year'])"
   ]
  },
  {
   "cell_type": "markdown",
   "metadata": {},
   "source": [
    "### 1. Did people become less trusting from 2012 to 2014? Compute results for each country in the sample."
   ]
  },
  {
   "cell_type": "code",
   "execution_count": 10,
   "metadata": {},
   "outputs": [
    {
     "data": {
      "text/plain": [
       "(array(['CH', 'CZ', 'DE', 'ES', 'NO', 'SE'], dtype=object),\n",
       " array([1546, 1316,   28, 2426, 1462, 1816]))"
      ]
     },
     "execution_count": 10,
     "metadata": {},
     "output_type": "execute_result"
    }
   ],
   "source": [
    "# unique countries\n",
    "np.unique(survey.cntry, return_counts=True)"
   ]
  },
  {
   "cell_type": "code",
   "execution_count": 11,
   "metadata": {},
   "outputs": [
    {
     "data": {
      "text/plain": [
       "0"
      ]
     },
     "execution_count": 11,
     "metadata": {},
     "output_type": "execute_result"
    }
   ],
   "source": [
    "survey['ppltrst'].isnull().sum()"
   ]
  },
  {
   "cell_type": "code",
   "execution_count": 12,
   "metadata": {},
   "outputs": [
    {
     "data": {
      "image/png": "[encoded data removed]",
      "text/plain": [
       "<Figure size 1296x432 with 12 Axes>"
      ]
     },
     "metadata": {},
     "output_type": "display_data"
    }
   ],
   "source": [
    "g = sns.FacetGrid(data=survey,\n",
    "                 col = 'cntry',\n",
    "                 row='year',\n",
    "                 margin_titles=True,\n",
    "                 sharey=False)  #to make sure we can still see Germany\n",
    "g = g.map(plt.hist, 'ppltrst')\n",
    "plt.show()"
   ]
  },
  {
   "cell_type": "markdown",
   "metadata": {},
   "source": [
    "### Shapiro-Wilk Test for Normality"
   ]
  },
  {
   "cell_type": "markdown",
   "metadata": {},
   "source": [
    "Shapiro-Wilk test for normality returns very small p-values (way lower than 0.05 significance level), except for Germany (which has a small sample number - 28 datapoints total). Therefore, it makes sense to use non-parametric distribution comparison tests."
   ]
  },
  {
   "cell_type": "code",
   "execution_count": 13,
   "metadata": {},
   "outputs": [],
   "source": [
    "countries = ['CH', 'CZ', 'DE', 'ES', 'NO', 'SE']"
   ]
  },
  {
   "cell_type": "code",
   "execution_count": 14,
   "metadata": {},
   "outputs": [
    {
     "name": "stdout",
     "output_type": "stream",
     "text": [
      "CH 6 : (0.9519361853599548, 3.4958809444132896e-15)\n",
      "CH 7 : (0.9538647532463074, 7.692136586977955e-15)\n",
      "CZ 6 : (0.9687360525131226, 1.233489699270507e-10)\n",
      "CZ 7 : (0.9720805287361145, 7.076046970588834e-10)\n",
      "DE 6 : (0.9013110399246216, 0.1178363636136055)\n",
      "DE 7 : (0.9425466060638428, 0.4519253373146057)\n",
      "ES 6 : (0.9496549367904663, 5.989953442559737e-20)\n",
      "ES 7 : (0.9664199352264404, 3.8589161421724897e-16)\n",
      "NO 6 : (0.9216307401657104, 4.909956966501182e-19)\n",
      "NO 7 : (0.9299473166465759, 5.5013681502145986e-18)\n",
      "SE 6 : (0.935847818851471, 2.5399596589630506e-19)\n",
      "SE 7 : (0.9398238658905029, 1.0416553104982269e-18)\n"
     ]
    }
   ],
   "source": [
    "#Shaprio-Wilk Tests for normality\n",
    "for country in countries:\n",
    "    for year in [6, 7]:\n",
    "        print(country, year,':', \n",
    "              stats.shapiro(survey[survey['year']==year][survey['cntry']==country]['ppltrst']))"
   ]
  },
  {
   "cell_type": "markdown",
   "metadata": {},
   "source": [
    "The p-value for Germany is over 0.05, however, we have very few datapoints. Therefore, we will do non-parametric tests for all countries."
   ]
  },
  {
   "cell_type": "markdown",
   "metadata": {},
   "source": [
    "### Kruskal-Wallis Test for Two Independent Groups (A/B Test)"
   ]
  },
  {
   "cell_type": "code",
   "execution_count": 15,
   "metadata": {},
   "outputs": [
    {
     "name": "stdout",
     "output_type": "stream",
     "text": [
      "CH : KruskalResult(statistic=0.3016359964448019, pvalue=0.5828586111442048)\n",
      "CZ : KruskalResult(statistic=0.5340306520300221, pvalue=0.4649172016371461)\n",
      "DE : KruskalResult(statistic=0.03493591039585809, pvalue=0.8517300191250199)\n",
      "ES : KruskalResult(statistic=8.149961651374431, pvalue=0.004306207168095373)\n",
      "NO : KruskalResult(statistic=0.24569560721491657, pvalue=0.620122374635789)\n",
      "SE : KruskalResult(statistic=4.335895080514051, pvalue=0.037316790239688535)\n"
     ]
    }
   ],
   "source": [
    "for country in countries:\n",
    "    print(country, ':', \n",
    "          kruskal(survey[survey['year']==6][survey['cntry']==country]['ppltrst'], \n",
    "          survey[survey['year']==7][survey['cntry']==country]['ppltrst']))"
   ]
  },
  {
   "cell_type": "markdown",
   "metadata": {},
   "source": [
    "### Spain"
   ]
  },
  {
   "cell_type": "code",
   "execution_count": 16,
   "metadata": {},
   "outputs": [
    {
     "name": "stdout",
     "output_type": "stream",
     "text": [
      "Mean trust score in Spain in 2012: 5.114591920857379\n"
     ]
    }
   ],
   "source": [
    "# mean trust score in 2012\n",
    "print('Mean trust score in Spain in 2012:', survey[survey['year']==6][survey['cntry']=='ES']['ppltrst'].mean())"
   ]
  },
  {
   "cell_type": "code",
   "execution_count": 17,
   "metadata": {},
   "outputs": [
    {
     "name": "stdout",
     "output_type": "stream",
     "text": [
      "Mean trust score in Spain in 2014: 4.896224083693169\n"
     ]
    }
   ],
   "source": [
    "# mean trust score in 2014\n",
    "print('Mean trust score in Spain in 2014:', survey[survey['year']==7][survey['cntry']=='ES']['ppltrst'].mean())"
   ]
  },
  {
   "cell_type": "markdown",
   "metadata": {},
   "source": [
    "### Sweden"
   ]
  },
  {
   "cell_type": "code",
   "execution_count": 18,
   "metadata": {},
   "outputs": [
    {
     "name": "stdout",
     "output_type": "stream",
     "text": [
      "Mean trust score in Sweden in 2012: 6.057400675682614\n"
     ]
    }
   ],
   "source": [
    "# mean trust score in 2012\n",
    "print('Mean trust score in Sweden in 2012:', survey[survey['year']==6][survey['cntry']=='SE']['ppltrst'].mean())"
   ]
  },
  {
   "cell_type": "code",
   "execution_count": 19,
   "metadata": {},
   "outputs": [
    {
     "name": "stdout",
     "output_type": "stream",
     "text": [
      "Mean trust score in Sweden in 2014: 6.257709251101321\n"
     ]
    }
   ],
   "source": [
    "# mean trust score in 2012\n",
    "print('Mean trust score in Sweden in 2014:', survey[survey['year']==7][survey['cntry']=='SE']['ppltrst'].mean())"
   ]
  },
  {
   "cell_type": "markdown",
   "metadata": {},
   "source": [
    "**Conclusion:** the only statistically significant differences in trust occured in Spain (ES, p-value of appr. 0.007, we have to reject the null hypotheis of no change) and Sweden (p-value of 0.03, also reject the null hypothesis of no change). Trust in Spain declined whereas trust in Sweden increased. Changes in other countries were not statistically significant (p-values over 0.05)."
   ]
  },
  {
   "cell_type": "markdown",
   "metadata": {},
   "source": [
    "### 2. Did people become happier from 2012 to 2014? Compute results for each country in the sample."
   ]
  },
  {
   "cell_type": "code",
   "execution_count": 20,
   "metadata": {},
   "outputs": [
    {
     "data": {
      "image/png": "[encoded data removed]",
      "text/plain": [
       "<Figure size 1296x432 with 12 Axes>"
      ]
     },
     "metadata": {},
     "output_type": "display_data"
    }
   ],
   "source": [
    "g = sns.FacetGrid(data=survey,\n",
    "                 col = 'cntry',\n",
    "                 row='year',\n",
    "                 margin_titles=True,\n",
    "                 sharey=False)  #to make sure we can still see Germany\n",
    "g = g.map(plt.hist, 'happy')\n",
    "plt.show()"
   ]
  },
  {
   "cell_type": "markdown",
   "metadata": {},
   "source": [
    "### Shapiro-Wilk"
   ]
  },
  {
   "cell_type": "code",
   "execution_count": 21,
   "metadata": {},
   "outputs": [
    {
     "name": "stdout",
     "output_type": "stream",
     "text": [
      "CH 6 : (0.879397451877594, 5.1566204432223734e-24)\n",
      "CH 7 : (0.8895691633224487, 4.494222618578247e-23)\n",
      "CZ 6 : (0.9479058980941772, 1.8463171868655405e-14)\n",
      "CZ 7 : (0.9412063360214233, 1.834360596837041e-15)\n",
      "DE 6 : (0.916941225528717, 0.1986599564552307)\n",
      "DE 7 : (0.9213663339614868, 0.23006466031074524)\n",
      "ES 6 : (0.9024959206581116, 4.1471349937561674e-27)\n",
      "ES 7 : (0.9102272391319275, 3.772349488801598e-26)\n",
      "NO 6 : (0.8518766760826111, 1.3318143912810366e-25)\n",
      "NO 7 : (0.8809076547622681, 3.1033939472688407e-23)\n",
      "SE 6 : (0.9038991928100586, 1.9335739671157822e-23)\n",
      "SE 7 : (0.9123823642730713, 1.8441576248053754e-22)\n"
     ]
    }
   ],
   "source": [
    "#Shapiro-Wilk Tests for normality\n",
    "for country in countries:\n",
    "    for year in [6, 7]:\n",
    "        print(country,year, ':', \n",
    "              stats.shapiro(survey[survey['year']==year][survey['cntry']==country]['happy']))"
   ]
  },
  {
   "cell_type": "markdown",
   "metadata": {},
   "source": [
    "### Kruskal-Wallis Test for Two Independent Groups (A/B Test)"
   ]
  },
  {
   "cell_type": "code",
   "execution_count": 22,
   "metadata": {},
   "outputs": [
    {
     "name": "stdout",
     "output_type": "stream",
     "text": [
      "CH : (0.290200214764067, 0.5900922565247079)\n",
      "CZ : (1.37693130979392, 0.24062454923524212)\n",
      "DE : (0.39056749122656015, 0.532001255058662)\n",
      "ES : (4.086118020109992, 0.043236838117116295)\n",
      "NO : (18.352664983589847, 1.8356204614283526e-05)\n",
      "SE : (0.038506386752578475, 0.8444298011877086)\n"
     ]
    }
   ],
   "source": [
    "for country in countries:\n",
    "    print(country, ':', \n",
    "          kruskal(survey[survey['year']==6][survey['cntry']==country]['happy'], \n",
    "          survey[survey['year']==7][survey['cntry']==country]['happy'])[:2])"
   ]
  },
  {
   "cell_type": "markdown",
   "metadata": {},
   "source": [
    "### Norway"
   ]
  },
  {
   "cell_type": "code",
   "execution_count": 24,
   "metadata": {},
   "outputs": [
    {
     "name": "stdout",
     "output_type": "stream",
     "text": [
      "Mean trust score in Norway in 2012: 8.248670951424167\n"
     ]
    }
   ],
   "source": [
    "# mean happiness score in 2012\n",
    "print('Mean trust score in Norway in 2012:', survey[survey['year']==6][survey['cntry']=='NO']['happy'].mean())"
   ]
  },
  {
   "cell_type": "code",
   "execution_count": 25,
   "metadata": {},
   "outputs": [
    {
     "name": "stdout",
     "output_type": "stream",
     "text": [
      "Mean trust score in Norway in 2014: 7.9151846785225715\n"
     ]
    }
   ],
   "source": [
    "# mean happiness score in 2014\n",
    "print('Mean trust score in Norway in 2014:', survey[survey['year']==7][survey['cntry']=='NO']['happy'].mean())"
   ]
  },
  {
   "cell_type": "markdown",
   "metadata": {},
   "source": [
    "### Spain"
   ]
  },
  {
   "cell_type": "code",
   "execution_count": 65,
   "metadata": {},
   "outputs": [
    {
     "name": "stdout",
     "output_type": "stream",
     "text": [
      "Mean trust score in Norway in 2012: 7.548800178378208\n"
     ]
    }
   ],
   "source": [
    "# mean happiness score in 2012\n",
    "print('Mean trust score in Spain in 2012:', survey[survey['year']==6][survey['cntry']=='ES']['happy'].mean())"
   ]
  },
  {
   "cell_type": "code",
   "execution_count": 66,
   "metadata": {},
   "outputs": [
    {
     "name": "stdout",
     "output_type": "stream",
     "text": [
      "Mean trust score in Spain in 2012: 7.42019341827928\n"
     ]
    }
   ],
   "source": [
    "# mean happiness score in 2012\n",
    "print('Mean trust score in Spain in 2012:', survey[survey['year']==7][survey['cntry']=='ES']['happy'].mean())"
   ]
  },
  {
   "cell_type": "markdown",
   "metadata": {},
   "source": [
    "**Conclusion:**\n",
    "Norway and Spain are the only countries that had a statistically significant change in happiness scores (p-value much lower than 0.05). People in Norway and Spain became less happy."
   ]
  },
  {
   "cell_type": "markdown",
   "metadata": {},
   "source": [
    "### 3. Who reported watching more TV in 2012, men or women?"
   ]
  },
  {
   "cell_type": "code",
   "execution_count": 26,
   "metadata": {},
   "outputs": [
    {
     "data": {
      "image/png": "[encoded data removed]",
      "text/plain": [
       "<Figure size 1080x360 with 2 Axes>"
      ]
     },
     "metadata": {},
     "output_type": "display_data"
    }
   ],
   "source": [
    "plt.figure(figsize=(15, 5))\n",
    "\n",
    "plt.subplot(121)\n",
    "plt.hist(survey[survey['year']==6][survey['gndr']==1]['tvtot'])\n",
    "plt.title('Total Time Watching TV on Average Weekday By Men in 2012')\n",
    "plt.xlabel('Hours Spent Watching TV on Average Weekday')\n",
    "\n",
    "plt.subplot(122)\n",
    "plt.hist(survey[survey['year']==6][survey['gndr']==2]['tvtot'])\n",
    "plt.title('Total Time Watching TV on Average Weekday By Women in 2012')\n",
    "plt.xlabel('Hours Spent Watching TV on Average Weekday')\n",
    "\n",
    "plt.show()"
   ]
  },
  {
   "cell_type": "code",
   "execution_count": 27,
   "metadata": {},
   "outputs": [
    {
     "name": "stdout",
     "output_type": "stream",
     "text": [
      "Shapiro-Wilk Test for Normality (TV Watching By Men in 2012): \n",
      " (0.9435817003250122, 6.201978792307913e-28)\n"
     ]
    }
   ],
   "source": [
    "print('Shapiro-Wilk Test for Normality (TV Watching By Men in 2012):', '\\n', \n",
    "              stats.shapiro(survey[survey['year']==6][survey['gndr']==1]['tvtot']))"
   ]
  },
  {
   "cell_type": "code",
   "execution_count": 28,
   "metadata": {},
   "outputs": [
    {
     "name": "stdout",
     "output_type": "stream",
     "text": [
      "Shapiro-Wilk Test for Normality (TV Watching By Women in 2012): \n",
      " (0.9392496347427368, 8.958801377763711e-29)\n"
     ]
    }
   ],
   "source": [
    "print('Shapiro-Wilk Test for Normality (TV Watching By Women in 2012):', '\\n', \n",
    "              stats.shapiro(survey[survey['year']==6][survey['gndr']==2]['tvtot']))"
   ]
  },
  {
   "cell_type": "markdown",
   "metadata": {},
   "source": [
    "Both distributions are non-normal."
   ]
  },
  {
   "cell_type": "markdown",
   "metadata": {},
   "source": [
    "### Mood's Median Test for Non-Normally Distributed Independent Groups"
   ]
  },
  {
   "cell_type": "code",
   "execution_count": 29,
   "metadata": {},
   "outputs": [],
   "source": [
    "stat, p, med, tbl = median_test(survey[survey['year']==6][survey['gndr']==1]['tvtot'],\n",
    "                               survey[survey['year']==6][survey['gndr']==2]['tvtot'])"
   ]
  },
  {
   "cell_type": "code",
   "execution_count": 30,
   "metadata": {},
   "outputs": [
    {
     "name": "stdout",
     "output_type": "stream",
     "text": [
      "Test-statistic: 0.10426985208133409, p-value: 0.7467645942644672\n"
     ]
    }
   ],
   "source": [
    "print('Test-statistic: {}, p-value: {}'.format(stat, p))"
   ]
  },
  {
   "cell_type": "markdown",
   "metadata": {},
   "source": [
    "### Kruskal-Wallis Test for Non-Normally Distributed Independent Groups"
   ]
  },
  {
   "cell_type": "code",
   "execution_count": 32,
   "metadata": {},
   "outputs": [],
   "source": [
    "stat, p,  = kruskal(survey[survey['year']==6][survey['gndr']==1]['tvtot'],\n",
    "                               survey[survey['year']==6][survey['gndr']==2]['tvtot'])"
   ]
  },
  {
   "cell_type": "code",
   "execution_count": 33,
   "metadata": {},
   "outputs": [
    {
     "name": "stdout",
     "output_type": "stream",
     "text": [
      "Test-statistic: 0.5781642893743878, p-value: 0.4470327617567298\n"
     ]
    }
   ],
   "source": [
    "print('Test-statistic: {}, p-value: {}'.format(stat, p))"
   ]
  },
  {
   "cell_type": "markdown",
   "metadata": {},
   "source": [
    "At this point, we cannot reject the null hypothesis, that that men and women had no differences in TV watching time in 2012."
   ]
  },
  {
   "cell_type": "markdown",
   "metadata": {},
   "source": [
    "### 4. Who was more likely to believe people were fair in 2012, people living with a partner or people living alone?"
   ]
  },
  {
   "cell_type": "code",
   "execution_count": 34,
   "metadata": {},
   "outputs": [
    {
     "data": {
      "image/png": "[encoded data removed]",
      "text/plain": [
       "<Figure size 1080x360 with 2 Axes>"
      ]
     },
     "metadata": {},
     "output_type": "display_data"
    }
   ],
   "source": [
    "plt.figure(figsize=(15, 5))\n",
    "\n",
    "plt.subplot(121)\n",
    "plt.hist(survey[survey['year']==6][survey['partner']==1]['pplfair'])\n",
    "plt.title('Distribution of Fairness Scores Among People Living With a Partner')\n",
    "plt.xlabel('Fairness Scores')\n",
    "\n",
    "plt.subplot(122)\n",
    "plt.hist(survey[survey['year']==6][survey['partner']==2]['pplfair'])\n",
    "plt.title('Distribution of Fairness Scores Among People Living Alone')\n",
    "plt.xlabel('Fairness Scores')\n",
    "\n",
    "plt.show()"
   ]
  },
  {
   "cell_type": "markdown",
   "metadata": {},
   "source": [
    "### Shapiro-Wilk Normality Test"
   ]
  },
  {
   "cell_type": "code",
   "execution_count": 35,
   "metadata": {},
   "outputs": [
    {
     "name": "stdout",
     "output_type": "stream",
     "text": [
      "(0.9414710402488708, 2.5099143623813975e-31)\n"
     ]
    }
   ],
   "source": [
    "print(stats.shapiro(survey[survey['year']==6][survey['partner']==1]['pplfair']))"
   ]
  },
  {
   "cell_type": "code",
   "execution_count": 36,
   "metadata": {},
   "outputs": [
    {
     "name": "stdout",
     "output_type": "stream",
     "text": [
      "(0.9563143849372864, 1.3659136923756896e-21)\n"
     ]
    }
   ],
   "source": [
    "print(stats.shapiro(survey[survey['year']==6][survey['partner']==2]['pplfair']))"
   ]
  },
  {
   "cell_type": "markdown",
   "metadata": {},
   "source": [
    "Shapiro-Wilk tests returned very low p-values, therefore, we can assume that the distributions are not normal."
   ]
  },
  {
   "cell_type": "markdown",
   "metadata": {},
   "source": [
    "### Mood's Median Test for Non-Normally Distributed Independent Groups: A/B Test Two Independent Groups"
   ]
  },
  {
   "cell_type": "code",
   "execution_count": 37,
   "metadata": {},
   "outputs": [],
   "source": [
    "stat, p, med, tbl = median_test(survey[survey['year']==6][survey['partner']==1]['pplfair'],\n",
    "                     survey[survey['year']==6][survey['partner']==2]['pplfair'])"
   ]
  },
  {
   "cell_type": "code",
   "execution_count": 38,
   "metadata": {},
   "outputs": [
    {
     "name": "stdout",
     "output_type": "stream",
     "text": [
      "Test-statistic: 17.09731636723291, p-value: 3.551244969404655e-05\n"
     ]
    }
   ],
   "source": [
    "print('Test-statistic: {}, p-value: {}'.format(stat, p))"
   ]
  },
  {
   "cell_type": "markdown",
   "metadata": {},
   "source": [
    "### Kruskal-Wallis Test for Non-Normally Distributed Independent Groups A/B Test Two Independent Groups"
   ]
  },
  {
   "cell_type": "markdown",
   "metadata": {},
   "source": [
    "- Living With the Parter: 1\n",
    "- Living Alone: 2"
   ]
  },
  {
   "cell_type": "code",
   "execution_count": 39,
   "metadata": {},
   "outputs": [],
   "source": [
    "stat, p  = kruskal(survey[survey['year']==6][survey['partner']==1]['pplfair'],\n",
    "                     survey[survey['year']==6][survey['partner']==2]['pplfair'])"
   ]
  },
  {
   "cell_type": "code",
   "execution_count": 40,
   "metadata": {},
   "outputs": [
    {
     "name": "stdout",
     "output_type": "stream",
     "text": [
      "Test-statistic: 14.005030418982718, p-value: 0.00018232220134479254\n"
     ]
    }
   ],
   "source": [
    "print('Test-statistic: {}, p-value: {}'.format(stat, p))"
   ]
  },
  {
   "cell_type": "code",
   "execution_count": 41,
   "metadata": {},
   "outputs": [
    {
     "data": {
      "text/plain": [
       "7.0"
      ]
     },
     "execution_count": 41,
     "metadata": {},
     "output_type": "execute_result"
    }
   ],
   "source": [
    "survey[survey['year']==6][survey['partner']==1]['pplfair'].median()"
   ]
  },
  {
   "cell_type": "code",
   "execution_count": 42,
   "metadata": {},
   "outputs": [
    {
     "data": {
      "text/plain": [
       "6.0"
      ]
     },
     "execution_count": 42,
     "metadata": {},
     "output_type": "execute_result"
    }
   ],
   "source": [
    "survey[survey['year']==6][survey['partner']==2]['pplfair'].median()"
   ]
  },
  {
   "cell_type": "markdown",
   "metadata": {},
   "source": [
    "**Conclusion:**\n",
    "Both tests Mood's Median Test and Kruskal-Wallis return small p-values (lower than 0.05). We can reject the null hypothesis that there is no difference between the populations. Living with a partner does seem to have a positive effect on fairness scores."
   ]
  },
  {
   "cell_type": "markdown",
   "metadata": {},
   "source": [
    "### 5. Pick three or four of the countries in the sample and compare how often people met socially in 2014. Are there differences, and if so, which countries stand out?"
   ]
  },
  {
   "cell_type": "markdown",
   "metadata": {},
   "source": [
    "### Selected Countries: Norway, Spain, and Czech Republic"
   ]
  },
  {
   "cell_type": "code",
   "execution_count": 43,
   "metadata": {},
   "outputs": [
    {
     "data": {
      "image/png": "[encoded data removed]",
      "text/plain": [
       "<Figure size 1440x504 with 3 Axes>"
      ]
     },
     "metadata": {},
     "output_type": "display_data"
    }
   ],
   "source": [
    "plt.figure(figsize=(20, 7))\n",
    "\n",
    "plt.subplot(131)\n",
    "plt.hist(survey[survey['year']==7][survey['cntry']=='CZ']['sclmeet'])\n",
    "plt.title('Distribution of Frequency of Social Activity in Czech Republic in 2014')\n",
    "plt.xlabel('Frequency of Social Activity')\n",
    "\n",
    "\n",
    "plt.subplot(132)\n",
    "plt.hist(survey[survey['year']==7][survey['cntry']=='ES']['sclmeet'])\n",
    "plt.title('Distribution of Frequency of Social Activity in Spain in 2014')\n",
    "plt.xlabel('Frequency of Social Activity')\n",
    "\n",
    "plt.subplot(133)\n",
    "plt.hist(survey[survey['year']==7][survey['cntry']=='NO']['sclmeet'])\n",
    "plt.title('Distribution of Frequency of Social Activity in Norway in 2014')\n",
    "plt.xlabel('Frequency of Social Activity')\n",
    "\n",
    "\n",
    "plt.show()"
   ]
  },
  {
   "cell_type": "markdown",
   "metadata": {},
   "source": [
    "#### Keys to the Social Actitivies Scores:\n",
    "\n",
    "1: Never, 2: Less than once a month, 3: Once a month, 4: Several times a month, 5: Once a week, 6: Several times a week, 7: Every day"
   ]
  },
  {
   "cell_type": "markdown",
   "metadata": {},
   "source": [
    "### Shapiro-Wilk Normality Test"
   ]
  },
  {
   "cell_type": "code",
   "execution_count": 44,
   "metadata": {},
   "outputs": [
    {
     "data": {
      "text/plain": [
       "(0.9454979300498962, 7.872136170467177e-15)"
      ]
     },
     "execution_count": 44,
     "metadata": {},
     "output_type": "execute_result"
    }
   ],
   "source": [
    "stats.shapiro(survey[survey['year']==7][survey['cntry']=='CZ']['sclmeet'])"
   ]
  },
  {
   "cell_type": "code",
   "execution_count": 45,
   "metadata": {},
   "outputs": [
    {
     "data": {
      "text/plain": [
       "(0.888232946395874, 9.841071088993719e-29)"
      ]
     },
     "execution_count": 45,
     "metadata": {},
     "output_type": "execute_result"
    }
   ],
   "source": [
    "stats.shapiro(survey[survey['year']==7][survey['cntry']=='ES']['sclmeet'])"
   ]
  },
  {
   "cell_type": "code",
   "execution_count": 46,
   "metadata": {},
   "outputs": [
    {
     "data": {
      "text/plain": [
       "(0.8881818056106567, 1.422473605641294e-22)"
      ]
     },
     "execution_count": 46,
     "metadata": {},
     "output_type": "execute_result"
    }
   ],
   "source": [
    "stats.shapiro(survey[survey['year']==7][survey['cntry']=='NO']['sclmeet'])"
   ]
  },
  {
   "cell_type": "markdown",
   "metadata": {},
   "source": [
    "The normality test shows that the distributions are not normal."
   ]
  },
  {
   "cell_type": "markdown",
   "metadata": {},
   "source": [
    "### Mood's Median Test for Non-Normally Distributed Independent Groups: A/B/C Test Three Independent Groups"
   ]
  },
  {
   "cell_type": "code",
   "execution_count": 47,
   "metadata": {},
   "outputs": [],
   "source": [
    "stat, p, med, tbl = median_test(survey[survey['year']==7][survey['cntry']=='CZ']['sclmeet'],\n",
    "                                 survey[survey['year']==7][survey['cntry']=='ES']['sclmeet'],\n",
    "                                 survey[survey['year']==7][survey['cntry']=='NO']['sclmeet'])"
   ]
  },
  {
   "cell_type": "code",
   "execution_count": 48,
   "metadata": {},
   "outputs": [
    {
     "name": "stdout",
     "output_type": "stream",
     "text": [
      "Test-statistic: 137.0313014741693, p-value: 1.7540055405206635e-30\n"
     ]
    }
   ],
   "source": [
    "print('Test-statistic: {}, p-value: {}'.format(stat, p))"
   ]
  },
  {
   "cell_type": "markdown",
   "metadata": {},
   "source": [
    "Mood's Median Test shows that there are differences in the social activities accross the countries."
   ]
  },
  {
   "cell_type": "code",
   "execution_count": 49,
   "metadata": {},
   "outputs": [],
   "source": [
    "three_countries = ['CZ', 'ES', 'NO']"
   ]
  },
  {
   "cell_type": "code",
   "execution_count": 50,
   "metadata": {},
   "outputs": [],
   "source": [
    "import itertools"
   ]
  },
  {
   "cell_type": "code",
   "execution_count": 51,
   "metadata": {},
   "outputs": [
    {
     "data": {
      "text/plain": [
       "[('CZ', 'ES'), ('CZ', 'NO'), ('ES', 'NO')]"
      ]
     },
     "execution_count": 51,
     "metadata": {},
     "output_type": "execute_result"
    }
   ],
   "source": [
    "list(itertools.combinations(three_countries, 2))"
   ]
  },
  {
   "cell_type": "code",
   "execution_count": 52,
   "metadata": {},
   "outputs": [],
   "source": [
    "combos = list(itertools.combinations(three_countries, 2))"
   ]
  },
  {
   "cell_type": "code",
   "execution_count": 53,
   "metadata": {},
   "outputs": [
    {
     "name": "stdout",
     "output_type": "stream",
     "text": [
      "Mood's Median Test for CZ and ES : (104.6716333489829, 1.4415004465648213e-24)\n",
      "Mood's Median Test for CZ and NO : (113.71987767816833, 1.500810058192904e-26)\n",
      "Mood's Median Test for ES and NO : (1.030145931461536, 0.3101243950349878)\n"
     ]
    }
   ],
   "source": [
    "for combo in combos:\n",
    "    print('Mood\\'s Median Test for', combo[0], 'and', combo[1],':', median_test(survey[survey['year']==7][survey['cntry']==combo[0]]['sclmeet'],\n",
    "                        survey[survey['year']==7][survey['cntry']==combo[1]]['sclmeet'])[0:2])"
   ]
  },
  {
   "cell_type": "code",
   "execution_count": 54,
   "metadata": {},
   "outputs": [
    {
     "name": "stdout",
     "output_type": "stream",
     "text": [
      "Median social activities score in Czech: 4.0\n"
     ]
    }
   ],
   "source": [
    "print('Median social activities score in Czech: {}'.format(survey[survey['year']==7][survey['cntry']=='CZ']['sclmeet'].median()))"
   ]
  },
  {
   "cell_type": "code",
   "execution_count": 55,
   "metadata": {},
   "outputs": [
    {
     "name": "stdout",
     "output_type": "stream",
     "text": [
      "Median social activities score in Spain: 6.0\n"
     ]
    }
   ],
   "source": [
    "print('Median social activities score in Spain: {}'.format(survey[survey['year']==7][survey['cntry']=='ES']['sclmeet'].median()))"
   ]
  },
  {
   "cell_type": "code",
   "execution_count": 56,
   "metadata": {},
   "outputs": [
    {
     "name": "stdout",
     "output_type": "stream",
     "text": [
      "Median social activities score in Norway: 6.0\n"
     ]
    }
   ],
   "source": [
    "print('Median social activities score in Norway: {}'.format(survey[survey['year']==7][survey['cntry']=='NO']['sclmeet'].median()))"
   ]
  },
  {
   "cell_type": "markdown",
   "metadata": {},
   "source": [
    "** Conclusion:** Mood's median test showed that the differences in terms of social activity between Czech and Spain as well as differences between Czech and Norway are statistically significant. People in Czech are less likely to be socially active."
   ]
  },
  {
   "cell_type": "markdown",
   "metadata": {},
   "source": [
    "### 6. Pick three or four of the countries in the sample and compare how often people took part in social activities, relative to others their age, in 2014. Are there differences, and if so, which countries stand out?"
   ]
  },
  {
   "cell_type": "code",
   "execution_count": 57,
   "metadata": {},
   "outputs": [
    {
     "data": {
      "image/png": "[encoded data removed]",
      "text/plain": [
       "<Figure size 1440x432 with 3 Axes>"
      ]
     },
     "metadata": {},
     "output_type": "display_data"
    }
   ],
   "source": [
    "plt.figure(figsize=(20, 6))\n",
    "\n",
    "plt.subplot(131)\n",
    "plt.hist(survey[survey['year']==7][survey['cntry']=='CZ']['sclact'])\n",
    "plt.title('Distribution of Frequency of Social Meetings\\n Compared To Others of The Same Age in Czech')\n",
    "plt.xlabel('Frequency Compared to Others of The Same Age')\n",
    "\n",
    "\n",
    "plt.subplot(132)\n",
    "plt.hist(survey[survey['year']==7][survey['cntry']=='ES']['sclact'])\n",
    "plt.title('Distribution of Frequency of Social Meetings\\n Compared To Others of The Same Age in Spain')\n",
    "plt.xlabel('Frequency Compared to Others of The Same Age')\n",
    "\n",
    "plt.subplot(133)\n",
    "plt.hist(survey[survey['year']==7][survey['cntry']=='NO']['sclact'])\n",
    "plt.title('Distribution of Frequency of Social Meetings\\n Compared To Others of The Same Age in Norway')\n",
    "plt.xlabel('Frequency Compared to Others of The Same Age')\n",
    "\n",
    "plt.show()\n"
   ]
  },
  {
   "cell_type": "markdown",
   "metadata": {},
   "source": [
    "### Shaprio-Wilk Normality Test"
   ]
  },
  {
   "cell_type": "markdown",
   "metadata": {},
   "source": [
    "None of the distributions pass the tests for normality. We could stil use non-parametric tests to see if the populations are different."
   ]
  },
  {
   "cell_type": "code",
   "execution_count": 58,
   "metadata": {},
   "outputs": [
    {
     "name": "stdout",
     "output_type": "stream",
     "text": [
      "Normality test for Czech: (0.8530383706092834, 2.909881476280514e-24)\n",
      "Normality test for Spain: (0.8946458697319031, 5.039523107579748e-28)\n",
      "Normality test for Norway: (0.8678725957870483, 2.398206966061988e-24)\n"
     ]
    }
   ],
   "source": [
    "print('Normality test for Czech: {}'.format(\n",
    "stats.shapiro(survey[survey['year']==7][survey['cntry']=='CZ']['sclact'])))\n",
    "\n",
    "print('Normality test for Spain: {}'.format(\n",
    "stats.shapiro(survey[survey['year']==7][survey['cntry']=='ES']['sclact'])))\n",
    "\n",
    "print('Normality test for Norway: {}'.format(\n",
    "stats.shapiro(survey[survey['year']==7][survey['cntry']=='NO']['sclact'])))"
   ]
  },
  {
   "cell_type": "markdown",
   "metadata": {},
   "source": [
    "### Kruskal-Wallis Test"
   ]
  },
  {
   "cell_type": "code",
   "execution_count": 64,
   "metadata": {},
   "outputs": [
    {
     "data": {
      "text/plain": [
       "[('CZ', 'ES'), ('CZ', 'NO'), ('ES', 'NO')]"
      ]
     },
     "execution_count": 64,
     "metadata": {},
     "output_type": "execute_result"
    }
   ],
   "source": [
    "combos"
   ]
  },
  {
   "cell_type": "code",
   "execution_count": 59,
   "metadata": {},
   "outputs": [
    {
     "name": "stdout",
     "output_type": "stream",
     "text": [
      "Kruskal-Wallis test result CZ and ES : KruskalResult(statistic=6.108330835040009, pvalue=0.013454613643765932)\n",
      "Kruskal-Wallis test result CZ and NO : KruskalResult(statistic=8.562632941190861, pvalue=0.003431328120777815)\n",
      "Kruskal-Wallis test result ES and NO : KruskalResult(statistic=32.61116328247317, pvalue=1.1256634703906626e-08)\n"
     ]
    }
   ],
   "source": [
    "for combo in combos:\n",
    "    print('Kruskal-Wallis test result', combo[0], 'and', combo[1],':', kruskal(survey[survey['year']==7][survey['cntry']==combo[0]]['sclact'],\n",
    "                        survey[survey['year']==7][survey['cntry']==combo[1]]['sclact']))"
   ]
  },
  {
   "cell_type": "code",
   "execution_count": 61,
   "metadata": {},
   "outputs": [
    {
     "name": "stdout",
     "output_type": "stream",
     "text": [
      "Mean Social Activity Score in Czech: 2.703634543178974\n",
      "Mean Social Activity Score in Spain: 2.619926094757771: \n",
      "Mean Social Activity Score in Norway: 2.859097127222982\n"
     ]
    }
   ],
   "source": [
    "print('Mean Social Activity Score in Czech: {}'.format(survey[survey['year']==7][survey['cntry']=='CZ']['sclact'].mean()))\n",
    "print('Mean Social Activity Score in Spain: {}: '.format(survey[survey['year']==7][survey['cntry']=='ES']['sclact'].mean()))\n",
    "print('Mean Social Activity Score in Norway: {}'.format(survey[survey['year']==7][survey['cntry']=='NO']['sclact'].mean()))"
   ]
  },
  {
   "cell_type": "code",
   "execution_count": 62,
   "metadata": {},
   "outputs": [
    {
     "name": "stdout",
     "output_type": "stream",
     "text": [
      "Median Social Activity Score in Czech: 3.0\n",
      "Median Social Activity Score in Spain: 3.0 \n",
      "Median Social Activity Score in Norway: 3.0\n"
     ]
    }
   ],
   "source": [
    "print('Median Social Activity Score in Czech: {}'.format(survey[survey['year']==7][survey['cntry']=='CZ']['sclact'].median()))\n",
    "print('Median Social Activity Score in Spain: {} '.format(survey[survey['year']==7][survey['cntry']=='ES']['sclact'].median()))\n",
    "print('Median Social Activity Score in Norway: {}'.format(survey[survey['year']==7][survey['cntry']=='NO']['sclact'].median()))"
   ]
  },
  {
   "cell_type": "markdown",
   "metadata": {},
   "source": [
    "Kruskal-Wallis test shows that there are statistically significant differences between all three countries."
   ]
  },
  {
   "cell_type": "code",
   "execution_count": null,
   "metadata": {},
   "outputs": [],
   "source": []
  }
 ],
 "metadata": {
  "kernelspec": {
   "display_name": "Python 3",
   "language": "python",
   "name": "python3"
  },
  "language_info": {
   "codemirror_mode": {
    "name": "ipython",
    "version": 3
   },
   "file_extension": ".py",
   "mimetype": "text/x-python",
   "name": "python",
   "nbconvert_exporter": "python",
   "pygments_lexer": "ipython3",
   "version": "3.7.0"
  }
 },
 "nbformat": 4,
 "nbformat_minor": 2
}
