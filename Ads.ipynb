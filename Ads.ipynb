{
 "cells": [
  {
   "cell_type": "code",
   "execution_count": 1,
   "metadata": {},
   "outputs": [],
   "source": [
    "import pandas as pd\n",
    "import numpy as np\n",
    "import matplotlib.pyplot as plt\n",
    "%matplotlib inline\n",
    "import seaborn as sns\n",
    "from pymystem3 import Mystem\n",
    "from stop_words import get_stop_words\n",
    "from sklearn.model_selection import train_test_split\n",
    "from sklearn.linear_model import LogisticRegression\n",
    "import gensim\n",
    "from gensim.models import word2vec\n",
    "from sklearn.model_selection import cross_val_predict\n",
    "import re\n",
    "import string\n",
    "from sklearn.metrics.pairwise import cosine_similarity\n",
    "from sklearn.ensemble import RandomForestClassifier\n",
    "from xgboost import XGBClassifier\n",
    "from sklearn.utils import shuffle\n",
    "from sklearn.model_selection import cross_val_score, GridSearchCV\n",
    "from sklearn.manifold import TSNE\n",
    "import warnings\n",
    "warnings.filterwarnings('ignore')\n",
    "\n",
    "from keras.layers import Dense, Input, Embedding, Dropout, GRU, Bidirectional\n",
    "from keras.models import Sequential\n",
    "from keras.layers.normalization import BatchNormalization"
   ]
  },
  {
   "cell_type": "code",
   "execution_count": 2,
   "metadata": {},
   "outputs": [],
   "source": [
    "ads = pd.read_csv('/Users/admin/Documents/contextAdvertising1.csv')"
   ]
  },
  {
   "cell_type": "code",
   "execution_count": 3,
   "metadata": {},
   "outputs": [
    {
     "data": {
      "text/plain": [
       "(799999, 3)"
      ]
     },
     "execution_count": 3,
     "metadata": {},
     "output_type": "execute_result"
    }
   ],
   "source": [
    "ads.shape"
   ]
  },
  {
   "cell_type": "code",
   "execution_count": 4,
   "metadata": {},
   "outputs": [
    {
     "data": {
      "text/html": [
       "<div>\n",
       "<style scoped>\n",
       "    .dataframe tbody tr th:only-of-type {\n",
       "        vertical-align: middle;\n",
       "    }\n",
       "\n",
       "    .dataframe tbody tr th {\n",
       "        vertical-align: top;\n",
       "    }\n",
       "\n",
       "    .dataframe thead th {\n",
       "        text-align: right;\n",
       "    }\n",
       "</style>\n",
       "<table border=\"1\" class=\"dataframe\">\n",
       "  <thead>\n",
       "    <tr style=\"text-align: right;\">\n",
       "      <th></th>\n",
       "      <th>atitle</th>\n",
       "      <th>atext</th>\n",
       "      <th>adomain</th>\n",
       "    </tr>\n",
       "  </thead>\n",
       "  <tbody>\n",
       "    <tr>\n",
       "      <th>0</th>\n",
       "      <td>Клуб активного отдыха «0.67»</td>\n",
       "      <td>Детский пейнтбол. Спортивный пейнтбол. Тактиче...</td>\n",
       "      <td>0-67.relax.by</td>\n",
       "    </tr>\n",
       "    <tr>\n",
       "      <th>1</th>\n",
       "      <td>Антигравитационный чехол IPhone 5</td>\n",
       "      <td>Успейте купить антигравитационный чехол для IP...</td>\n",
       "      <td>0-antigravity.ru</td>\n",
       "    </tr>\n",
       "    <tr>\n",
       "      <th>2</th>\n",
       "      <td>Антигравитационный чехол купить!</td>\n",
       "      <td>Антигравитационный чехол для телефона купить з...</td>\n",
       "      <td>0-antigravity.ru</td>\n",
       "    </tr>\n",
       "    <tr>\n",
       "      <th>3</th>\n",
       "      <td>Беспроцентный заем от Moneyveo</td>\n",
       "      <td>Без справок! Получите до 3 000 грн. на карту п...</td>\n",
       "      <td>0-credit.moneyveo.ua</td>\n",
       "    </tr>\n",
       "    <tr>\n",
       "      <th>4</th>\n",
       "      <td>Беспроцентный заем сотруднику</td>\n",
       "      <td>Акция! Получите Кредит Онлайн под 0%. Без Спра...</td>\n",
       "      <td>0-credit.moneyveo.ua</td>\n",
       "    </tr>\n",
       "  </tbody>\n",
       "</table>\n",
       "</div>"
      ],
      "text/plain": [
       "                              atitle  \\\n",
       "0       Клуб активного отдыха «0.67»   \n",
       "1  Антигравитационный чехол IPhone 5   \n",
       "2   Антигравитационный чехол купить!   \n",
       "3     Беспроцентный заем от Moneyveo   \n",
       "4      Беспроцентный заем сотруднику   \n",
       "\n",
       "                                               atext               adomain  \n",
       "0  Детский пейнтбол. Спортивный пейнтбол. Тактиче...         0-67.relax.by  \n",
       "1  Успейте купить антигравитационный чехол для IP...      0-antigravity.ru  \n",
       "2  Антигравитационный чехол для телефона купить з...      0-antigravity.ru  \n",
       "3  Без справок! Получите до 3 000 грн. на карту п...  0-credit.moneyveo.ua  \n",
       "4  Акция! Получите Кредит Онлайн под 0%. Без Спра...  0-credit.moneyveo.ua  "
      ]
     },
     "execution_count": 4,
     "metadata": {},
     "output_type": "execute_result"
    }
   ],
   "source": [
    "ads.head()"
   ]
  },
  {
   "cell_type": "code",
   "execution_count": 5,
   "metadata": {},
   "outputs": [
    {
     "data": {
      "text/plain": [
       "atitle     571923\n",
       "atext      350006\n",
       "adomain     19181\n",
       "dtype: int64"
      ]
     },
     "execution_count": 5,
     "metadata": {},
     "output_type": "execute_result"
    }
   ],
   "source": [
    "ads.nunique()"
   ]
  },
  {
   "cell_type": "code",
   "execution_count": 6,
   "metadata": {},
   "outputs": [
    {
     "data": {
      "text/plain": [
       "792924"
      ]
     },
     "execution_count": 6,
     "metadata": {},
     "output_type": "execute_result"
    }
   ],
   "source": [
    "(ads['atitle'] + ads['atext']).nunique()"
   ]
  },
  {
   "cell_type": "code",
   "execution_count": 7,
   "metadata": {},
   "outputs": [],
   "source": [
    "unique_adstext =ads.drop_duplicates(subset = ['atext'], keep=False)"
   ]
  },
  {
   "cell_type": "code",
   "execution_count": 8,
   "metadata": {},
   "outputs": [
    {
     "data": {
      "text/plain": [
       "atitle     234515\n",
       "atext      323003\n",
       "adomain      4838\n",
       "dtype: int64"
      ]
     },
     "execution_count": 8,
     "metadata": {},
     "output_type": "execute_result"
    }
   ],
   "source": [
    "unique_adstext.nunique()"
   ]
  },
  {
   "cell_type": "code",
   "execution_count": 9,
   "metadata": {},
   "outputs": [
    {
     "data": {
      "text/plain": [
       "234515"
      ]
     },
     "execution_count": 9,
     "metadata": {},
     "output_type": "execute_result"
    }
   ],
   "source": [
    "#it appears that even after we remove duplicate ads texts, we still have duplicate titles \n",
    "unique_adstext['atitle'].nunique()"
   ]
  },
  {
   "cell_type": "code",
   "execution_count": 10,
   "metadata": {},
   "outputs": [],
   "source": [
    "unique =unique_adstext.drop_duplicates(subset = ['atitle'], keep=False)"
   ]
  },
  {
   "cell_type": "code",
   "execution_count": 11,
   "metadata": {},
   "outputs": [
    {
     "data": {
      "text/plain": [
       "atitle     204601\n",
       "atext      204601\n",
       "adomain      4589\n",
       "dtype: int64"
      ]
     },
     "execution_count": 11,
     "metadata": {},
     "output_type": "execute_result"
    }
   ],
   "source": [
    "unique.nunique()"
   ]
  },
  {
   "cell_type": "code",
   "execution_count": 12,
   "metadata": {},
   "outputs": [
    {
     "name": "stdout",
     "output_type": "stream",
     "text": [
      "<class 'pandas.core.frame.DataFrame'>\n",
      "Int64Index: 204601 entries, 0 to 772521\n",
      "Data columns (total 3 columns):\n",
      "atitle     204601 non-null object\n",
      "atext      204601 non-null object\n",
      "adomain    204601 non-null object\n",
      "dtypes: object(3)\n",
      "memory usage: 6.2+ MB\n"
     ]
    }
   ],
   "source": [
    "unique.info()"
   ]
  },
  {
   "cell_type": "code",
   "execution_count": 13,
   "metadata": {},
   "outputs": [
    {
     "data": {
      "text/html": [
       "<div>\n",
       "<style scoped>\n",
       "    .dataframe tbody tr th:only-of-type {\n",
       "        vertical-align: middle;\n",
       "    }\n",
       "\n",
       "    .dataframe tbody tr th {\n",
       "        vertical-align: top;\n",
       "    }\n",
       "\n",
       "    .dataframe thead th {\n",
       "        text-align: right;\n",
       "    }\n",
       "</style>\n",
       "<table border=\"1\" class=\"dataframe\">\n",
       "  <thead>\n",
       "    <tr style=\"text-align: right;\">\n",
       "      <th></th>\n",
       "      <th>atitle</th>\n",
       "      <th>atext</th>\n",
       "      <th>adomain</th>\n",
       "    </tr>\n",
       "  </thead>\n",
       "  <tbody>\n",
       "    <tr>\n",
       "      <th>0</th>\n",
       "      <td>Клуб активного отдыха «0.67»</td>\n",
       "      <td>Детский пейнтбол. Спортивный пейнтбол. Тактиче...</td>\n",
       "      <td>0-67.relax.by</td>\n",
       "    </tr>\n",
       "    <tr>\n",
       "      <th>1</th>\n",
       "      <td>Антигравитационный чехол IPhone 5</td>\n",
       "      <td>Успейте купить антигравитационный чехол для IP...</td>\n",
       "      <td>0-antigravity.ru</td>\n",
       "    </tr>\n",
       "    <tr>\n",
       "      <th>2</th>\n",
       "      <td>Антигравитационный чехол купить!</td>\n",
       "      <td>Антигравитационный чехол для телефона купить з...</td>\n",
       "      <td>0-antigravity.ru</td>\n",
       "    </tr>\n",
       "    <tr>\n",
       "      <th>3</th>\n",
       "      <td>Беспроцентный заем от Moneyveo</td>\n",
       "      <td>Без справок! Получите до 3 000 грн. на карту п...</td>\n",
       "      <td>0-credit.moneyveo.ua</td>\n",
       "    </tr>\n",
       "    <tr>\n",
       "      <th>4</th>\n",
       "      <td>Беспроцентный заем сотруднику</td>\n",
       "      <td>Акция! Получите Кредит Онлайн под 0%. Без Спра...</td>\n",
       "      <td>0-credit.moneyveo.ua</td>\n",
       "    </tr>\n",
       "  </tbody>\n",
       "</table>\n",
       "</div>"
      ],
      "text/plain": [
       "                              atitle  \\\n",
       "0       Клуб активного отдыха «0.67»   \n",
       "1  Антигравитационный чехол IPhone 5   \n",
       "2   Антигравитационный чехол купить!   \n",
       "3     Беспроцентный заем от Moneyveo   \n",
       "4      Беспроцентный заем сотруднику   \n",
       "\n",
       "                                               atext               adomain  \n",
       "0  Детский пейнтбол. Спортивный пейнтбол. Тактиче...         0-67.relax.by  \n",
       "1  Успейте купить антигравитационный чехол для IP...      0-antigravity.ru  \n",
       "2  Антигравитационный чехол для телефона купить з...      0-antigravity.ru  \n",
       "3  Без справок! Получите до 3 000 грн. на карту п...  0-credit.moneyveo.ua  \n",
       "4  Акция! Получите Кредит Онлайн под 0%. Без Спра...  0-credit.moneyveo.ua  "
      ]
     },
     "execution_count": 13,
     "metadata": {},
     "output_type": "execute_result"
    }
   ],
   "source": [
    "unique.head()"
   ]
  },
  {
   "cell_type": "code",
   "execution_count": 14,
   "metadata": {},
   "outputs": [
    {
     "data": {
      "text/plain": [
       "0    Детский пейнтбол. Спортивный пейнтбол. Тактиче...\n",
       "1    Успейте купить антигравитационный чехол для IP...\n",
       "2    Антигравитационный чехол для телефона купить з...\n",
       "3    Без справок! Получите до 3 000 грн. на карту п...\n",
       "4    Акция! Получите Кредит Онлайн под 0%. Без Спра...\n",
       "Name: atext, dtype: object"
      ]
     },
     "execution_count": 14,
     "metadata": {},
     "output_type": "execute_result"
    }
   ],
   "source": [
    "unique['atext'][:5]"
   ]
  },
  {
   "cell_type": "code",
   "execution_count": 15,
   "metadata": {},
   "outputs": [
    {
     "data": {
      "text/plain": [
       "pandas.core.series.Series"
      ]
     },
     "execution_count": 15,
     "metadata": {},
     "output_type": "execute_result"
    }
   ],
   "source": [
    "type(unique['atext'])"
   ]
  },
  {
   "cell_type": "code",
   "execution_count": 16,
   "metadata": {},
   "outputs": [],
   "source": [
    "#include all the punctuation signs\\n\",\n",
    "def punctuation_remover(row):\n",
    "    punctuation = '!\"#$&\\'()*+,-./:;<=>?@[\\\\]^_`{|}~«»'\n",
    "    \n",
    "    punctuationNoPeriod = \"[\" + re.sub(\"\\.\",\"\", punctuation) + \"]\"\n",
    "    row = re.sub(punctuationNoPeriod, \" \", str(row))\n",
    "    #to remove double white spaces and create space after %,\n",
    "    row = row.replace('  ', ' ')\n",
    "    row = row.replace('%', '% ')\n",
    "    return row.strip()\n"
   ]
  },
  {
   "cell_type": "code",
   "execution_count": 17,
   "metadata": {},
   "outputs": [
    {
     "data": {
      "text/plain": [
       "'Детский пейнтбол Спортивный пейнтбол Тактический пейнтбол Выездные игры'"
      ]
     },
     "execution_count": 17,
     "metadata": {},
     "output_type": "execute_result"
    }
   ],
   "source": [
    "punctuation_remover(unique['atext'][0])"
   ]
  },
  {
   "cell_type": "code",
   "execution_count": 18,
   "metadata": {},
   "outputs": [],
   "source": [
    "# remove punctuation from the ads text\n",
    "unique['atext'] = unique['atext'].apply(punctuation_remover)"
   ]
  },
  {
   "cell_type": "code",
   "execution_count": 19,
   "metadata": {},
   "outputs": [],
   "source": [
    "unique['atitle'] = unique['atitle'].apply(punctuation_remover)"
   ]
  },
  {
   "cell_type": "code",
   "execution_count": 20,
   "metadata": {},
   "outputs": [
    {
     "data": {
      "text/plain": [
       "0           Клуб активного отдыха 0 67\n",
       "1    Антигравитационный чехол IPhone 5\n",
       "2      Антигравитационный чехол купить\n",
       "3       Беспроцентный заем от Moneyveo\n",
       "4        Беспроцентный заем сотруднику\n",
       "Name: atitle, dtype: object"
      ]
     },
     "execution_count": 20,
     "metadata": {},
     "output_type": "execute_result"
    }
   ],
   "source": [
    "unique['atitle'][:5]"
   ]
  },
  {
   "cell_type": "code",
   "execution_count": 21,
   "metadata": {},
   "outputs": [
    {
     "data": {
      "text/plain": [
       "'Детский пейнтбол Спортивный пейнтбол Тактический пейнтбол Выездные игры'"
      ]
     },
     "execution_count": 21,
     "metadata": {},
     "output_type": "execute_result"
    }
   ],
   "source": [
    "unique['atext'].iloc[0]"
   ]
  },
  {
   "cell_type": "code",
   "execution_count": 22,
   "metadata": {},
   "outputs": [],
   "source": [
    "unique = unique.drop_duplicates(subset = ['atitle'], keep=False)"
   ]
  },
  {
   "cell_type": "code",
   "execution_count": 23,
   "metadata": {},
   "outputs": [],
   "source": [
    "unique = unique.drop_duplicates(subset = ['atext'], keep=False)"
   ]
  },
  {
   "cell_type": "code",
   "execution_count": 24,
   "metadata": {},
   "outputs": [
    {
     "data": {
      "text/plain": [
       "atitle     200718\n",
       "atext      200718\n",
       "adomain      4534\n",
       "dtype: int64"
      ]
     },
     "execution_count": 24,
     "metadata": {},
     "output_type": "execute_result"
    }
   ],
   "source": [
    "unique.nunique()"
   ]
  },
  {
   "cell_type": "markdown",
   "metadata": {},
   "source": [
    "m = Mystem()\n",
    "def text_parser(series, lemmatize=True): # do lemmatization if true \n",
    "    series_copy = series.copy()\n",
    " \n",
    "    # access each ad by index\n",
    "    for index in series_copy.index:\n",
    "        \n",
    "        text = series_copy[index]\n",
    "        if lemmatize ==True:\n",
    "            lemmas = m.lemmatize(text)\n",
    "\n",
    "            lem_no_punct = [lemma for lemma in lemmas if lemma!= ' '\n",
    "                           and lemma != '\\n']\n",
    "            \n",
    "            output = lem_no_punct\n",
    "        else:\n",
    "            output = text.split()\n",
    "        series_copy[index] =output\n",
    "    return series_copy"
   ]
  },
  {
   "cell_type": "code",
   "execution_count": 25,
   "metadata": {},
   "outputs": [],
   "source": [
    "m = Mystem()\n",
    "def text_parser(series, lemmatize=True): # do lemmatization if true \n",
    "    series_copy = series.copy()\n",
    " \n",
    "    # access each ad by index\n",
    "    for index in series_copy.index:\n",
    "        ad_string = ''\n",
    "        text = series_copy[index]\n",
    "        if lemmatize == True:\n",
    "            lemmas = m.lemmatize(text)\n",
    "            for count, lemma in enumerate(lemmas):\n",
    "                if (lemma !=  ' ' and lemma != '\\n' and count < len(lemmas)):\n",
    "                    ad_string += lemma.lower() +' '\n",
    "                                \n",
    "        else:\n",
    "            for number, word in enumerate(text):  \n",
    "                if number <len(text)-1:\n",
    "                    ad_string+=word +' '\n",
    "            ad_string = ad_string.lower()\n",
    "            ad_string.strip()        \n",
    "            #now it's actually a list of strings        \n",
    "            ad_string = ad_string.split() \n",
    "            \n",
    "        series_copy[index] =ad_string\n",
    "    return series_copy"
   ]
  },
  {
   "cell_type": "code",
   "execution_count": 26,
   "metadata": {},
   "outputs": [],
   "source": [
    "unique_lem = unique.copy()\n",
    "unique_lem['atitle'] = text_parser(unique['atitle'])"
   ]
  },
  {
   "cell_type": "code",
   "execution_count": 27,
   "metadata": {},
   "outputs": [],
   "source": [
    "unique_lem['atext'] = text_parser(unique['atext'])"
   ]
  },
  {
   "cell_type": "code",
   "execution_count": 28,
   "metadata": {},
   "outputs": [
    {
     "data": {
      "text/html": [
       "<div>\n",
       "<style scoped>\n",
       "    .dataframe tbody tr th:only-of-type {\n",
       "        vertical-align: middle;\n",
       "    }\n",
       "\n",
       "    .dataframe tbody tr th {\n",
       "        vertical-align: top;\n",
       "    }\n",
       "\n",
       "    .dataframe thead th {\n",
       "        text-align: right;\n",
       "    }\n",
       "</style>\n",
       "<table border=\"1\" class=\"dataframe\">\n",
       "  <thead>\n",
       "    <tr style=\"text-align: right;\">\n",
       "      <th></th>\n",
       "      <th>atitle</th>\n",
       "      <th>atext</th>\n",
       "      <th>adomain</th>\n",
       "    </tr>\n",
       "  </thead>\n",
       "  <tbody>\n",
       "    <tr>\n",
       "      <th>0</th>\n",
       "      <td>клуб активный отдых 0 67</td>\n",
       "      <td>детский пейнтбол спортивный пейнтбол тактическ...</td>\n",
       "      <td>0-67.relax.by</td>\n",
       "    </tr>\n",
       "    <tr>\n",
       "      <th>1</th>\n",
       "      <td>антигравитационный чехол IPhone 5</td>\n",
       "      <td>успевать купить антигравитационный чехол для I...</td>\n",
       "      <td>0-antigravity.ru</td>\n",
       "    </tr>\n",
       "    <tr>\n",
       "      <th>3</th>\n",
       "      <td>беспроцентный заем от Moneyveo</td>\n",
       "      <td>без справка получать до 3 000 грн на карта под...</td>\n",
       "      <td>0-credit.moneyveo.ua</td>\n",
       "    </tr>\n",
       "    <tr>\n",
       "      <th>4</th>\n",
       "      <td>беспроцентный заем сотрудник</td>\n",
       "      <td>акция получать кредит онлайн под 0 %   без спр...</td>\n",
       "      <td>0-credit.moneyveo.ua</td>\n",
       "    </tr>\n",
       "    <tr>\n",
       "      <th>11</th>\n",
       "      <td>Аnti Gravity Case</td>\n",
       "      <td>Аnti gravity case  –  уникальный антигравитаци...</td>\n",
       "      <td>0-gravity.online-shop-2017.ru</td>\n",
       "    </tr>\n",
       "  </tbody>\n",
       "</table>\n",
       "</div>"
      ],
      "text/plain": [
       "                                atitle  \\\n",
       "0            клуб активный отдых 0 67    \n",
       "1   антигравитационный чехол IPhone 5    \n",
       "3      беспроцентный заем от Moneyveo    \n",
       "4        беспроцентный заем сотрудник    \n",
       "11                  Аnti Gravity Case    \n",
       "\n",
       "                                                atext  \\\n",
       "0   детский пейнтбол спортивный пейнтбол тактическ...   \n",
       "1   успевать купить антигравитационный чехол для I...   \n",
       "3   без справка получать до 3 000 грн на карта под...   \n",
       "4   акция получать кредит онлайн под 0 %   без спр...   \n",
       "11  Аnti gravity case  –  уникальный антигравитаци...   \n",
       "\n",
       "                          adomain  \n",
       "0                   0-67.relax.by  \n",
       "1                0-antigravity.ru  \n",
       "3            0-credit.moneyveo.ua  \n",
       "4            0-credit.moneyveo.ua  \n",
       "11  0-gravity.online-shop-2017.ru  "
      ]
     },
     "execution_count": 28,
     "metadata": {},
     "output_type": "execute_result"
    }
   ],
   "source": [
    "unique_lem.head()"
   ]
  },
  {
   "cell_type": "code",
   "execution_count": 29,
   "metadata": {},
   "outputs": [
    {
     "data": {
      "text/plain": [
       "(200718, 3)"
      ]
     },
     "execution_count": 29,
     "metadata": {},
     "output_type": "execute_result"
    }
   ],
   "source": [
    "unique_lem.shape"
   ]
  },
  {
   "cell_type": "code",
   "execution_count": 30,
   "metadata": {},
   "outputs": [],
   "source": [
    "unique_lem = unique_lem.drop_duplicates(subset = ['atitle'], keep=False)"
   ]
  },
  {
   "cell_type": "code",
   "execution_count": 31,
   "metadata": {},
   "outputs": [],
   "source": [
    "unique_lem = unique_lem.drop_duplicates(subset = ['atext'], keep=False)"
   ]
  },
  {
   "cell_type": "code",
   "execution_count": 32,
   "metadata": {},
   "outputs": [
    {
     "data": {
      "text/plain": [
       "(195820, 3)"
      ]
     },
     "execution_count": 32,
     "metadata": {},
     "output_type": "execute_result"
    }
   ],
   "source": [
    "unique_lem.shape"
   ]
  },
  {
   "cell_type": "code",
   "execution_count": 33,
   "metadata": {},
   "outputs": [
    {
     "data": {
      "text/plain": [
       "atitle     195820\n",
       "atext      195820\n",
       "adomain      4492\n",
       "dtype: int64"
      ]
     },
     "execution_count": 33,
     "metadata": {},
     "output_type": "execute_result"
    }
   ],
   "source": [
    "unique_lem.nunique()"
   ]
  },
  {
   "cell_type": "code",
   "execution_count": 34,
   "metadata": {},
   "outputs": [],
   "source": [
    "unique_lem = unique_lem.drop_duplicates(keep=False)"
   ]
  },
  {
   "cell_type": "code",
   "execution_count": 35,
   "metadata": {},
   "outputs": [
    {
     "data": {
      "text/plain": [
       "atitle     195820\n",
       "atext      195820\n",
       "adomain      4492\n",
       "dtype: int64"
      ]
     },
     "execution_count": 35,
     "metadata": {},
     "output_type": "execute_result"
    }
   ],
   "source": [
    "unique_lem.nunique()"
   ]
  },
  {
   "cell_type": "code",
   "execution_count": 36,
   "metadata": {},
   "outputs": [
    {
     "data": {
      "text/plain": [
       "(195820, 3)"
      ]
     },
     "execution_count": 36,
     "metadata": {},
     "output_type": "execute_result"
    }
   ],
   "source": [
    "unique_lem.shape"
   ]
  },
  {
   "cell_type": "code",
   "execution_count": 37,
   "metadata": {},
   "outputs": [
    {
     "data": {
      "text/plain": [
       "195820"
      ]
     },
     "execution_count": 37,
     "metadata": {},
     "output_type": "execute_result"
    }
   ],
   "source": [
    "len(set(unique_lem['atext']))"
   ]
  },
  {
   "cell_type": "code",
   "execution_count": 38,
   "metadata": {},
   "outputs": [
    {
     "data": {
      "text/plain": [
       "195820"
      ]
     },
     "execution_count": 38,
     "metadata": {},
     "output_type": "execute_result"
    }
   ],
   "source": [
    "len(set(unique_lem['atitle']))"
   ]
  },
  {
   "cell_type": "code",
   "execution_count": 39,
   "metadata": {},
   "outputs": [
    {
     "data": {
      "text/plain": [
       "195820"
      ]
     },
     "execution_count": 39,
     "metadata": {},
     "output_type": "execute_result"
    }
   ],
   "source": [
    "len(unique_lem['atitle'])"
   ]
  },
  {
   "cell_type": "code",
   "execution_count": 40,
   "metadata": {},
   "outputs": [
    {
     "data": {
      "text/plain": [
       "195820"
      ]
     },
     "execution_count": 40,
     "metadata": {},
     "output_type": "execute_result"
    }
   ],
   "source": [
    "len(unique_lem['atext'])"
   ]
  },
  {
   "cell_type": "code",
   "execution_count": 41,
   "metadata": {},
   "outputs": [
    {
     "data": {
      "text/plain": [
       "atitle     0\n",
       "atext      0\n",
       "adomain    0\n",
       "dtype: int64"
      ]
     },
     "execution_count": 41,
     "metadata": {},
     "output_type": "execute_result"
    }
   ],
   "source": [
    "unique_lem.isnull().sum()"
   ]
  },
  {
   "cell_type": "code",
   "execution_count": 42,
   "metadata": {},
   "outputs": [],
   "source": [
    "unique_lem['atitle'] = unique_lem['atitle'].apply(lambda x: x.split())"
   ]
  },
  {
   "cell_type": "code",
   "execution_count": 43,
   "metadata": {},
   "outputs": [],
   "source": [
    "unique_lem['atext'] = unique_lem['atext'].apply(lambda x: x.split())"
   ]
  },
  {
   "cell_type": "code",
   "execution_count": 44,
   "metadata": {},
   "outputs": [],
   "source": [
    "X = unique_lem['atext']\n",
    "y = unique_lem['atitle']"
   ]
  },
  {
   "cell_type": "code",
   "execution_count": 45,
   "metadata": {},
   "outputs": [],
   "source": [
    "X_train, X_test, y_train, y_test = train_test_split(X, y, test_size=0.3, random_state=0)"
   ]
  },
  {
   "cell_type": "code",
   "execution_count": 46,
   "metadata": {},
   "outputs": [],
   "source": [
    "merged_list = X_train + y_train"
   ]
  },
  {
   "cell_type": "markdown",
   "metadata": {},
   "source": [
    "# Training Word2Vec"
   ]
  },
  {
   "cell_type": "code",
   "execution_count": 47,
   "metadata": {},
   "outputs": [],
   "source": [
    "model = word2vec.Word2Vec(\n",
    "    merged_list,\n",
    "    workers=4,     \n",
    "    min_count=5,   \n",
    "    window=50,      \n",
    "    sg=0,          \n",
    "    sample=1e-4 ,  \n",
    "    size=300,      \n",
    "    hs=1           \n",
    ")\n"
   ]
  },
  {
   "cell_type": "code",
   "execution_count": 48,
   "metadata": {},
   "outputs": [
    {
     "name": "stdout",
     "output_type": "stream",
     "text": [
      "21000\n"
     ]
    }
   ],
   "source": [
    "vocab = model.wv.vocab.keys()\n",
    "print(len(vocab))"
   ]
  },
  {
   "cell_type": "code",
   "execution_count": 49,
   "metadata": {},
   "outputs": [],
   "source": [
    "def tsne_plot(model):\n",
    "    #Creates and TSNE model and plots it\n",
    "    \n",
    "    labels = []\n",
    "    tokens = []\n",
    "\n",
    "    for word in model.wv.vocab:\n",
    "        if model.wv.vocab[word].count > 1000:\n",
    "            tokens.append(model[word])\n",
    "            labels.append(word)\n",
    "    \n",
    "    tsne_model = TSNE(perplexity=40, n_components=2, init='pca', n_iter=2500, random_state=108)\n",
    "    new_values = tsne_model.fit_transform(tokens)\n",
    "\n",
    "    x = []\n",
    "    y = []\n",
    "    \n",
    "    for value in new_values:\n",
    "        x.append(value[0])\n",
    "        y.append(value[1])\n",
    "        \n",
    "    plt.figure(figsize=(20, 20)) \n",
    "    for i in range(len(x)):\n",
    "        plt.scatter(x[i],y[i])\n",
    "        plt.annotate(labels[i],\n",
    "                     xy=(x[i], y[i]),\n",
    "                     xytext=(5, 2),\n",
    "                     textcoords='offset points',\n",
    "                     ha='right',\n",
    "                     va='bottom')\n",
    "    plt.show()"
   ]
  },
  {
   "cell_type": "code",
   "execution_count": 50,
   "metadata": {},
   "outputs": [
    {
     "data": {
      "image/png": "[encoded data removed]",
      "text/plain": [
       "<Figure size 1440x1440 with 1 Axes>"
      ]
     },
     "metadata": {
      "needs_background": "light"
     },
     "output_type": "display_data"
    }
   ],
   "source": [
    "tsne_plot(model)"
   ]
  },
  {
   "cell_type": "markdown",
   "metadata": {},
   "source": [
    "# Sample For Evaluation"
   ]
  },
  {
   "cell_type": "code",
   "execution_count": 51,
   "metadata": {},
   "outputs": [],
   "source": [
    "indices = X_test.index"
   ]
  },
  {
   "cell_type": "code",
   "execution_count": 52,
   "metadata": {},
   "outputs": [],
   "source": [
    "test_df = pd.DataFrame(X_test, index = indices)"
   ]
  },
  {
   "cell_type": "code",
   "execution_count": 53,
   "metadata": {},
   "outputs": [
    {
     "data": {
      "text/html": [
       "<div>\n",
       "<style scoped>\n",
       "    .dataframe tbody tr th:only-of-type {\n",
       "        vertical-align: middle;\n",
       "    }\n",
       "\n",
       "    .dataframe tbody tr th {\n",
       "        vertical-align: top;\n",
       "    }\n",
       "\n",
       "    .dataframe thead th {\n",
       "        text-align: right;\n",
       "    }\n",
       "</style>\n",
       "<table border=\"1\" class=\"dataframe\">\n",
       "  <thead>\n",
       "    <tr style=\"text-align: right;\">\n",
       "      <th></th>\n",
       "      <th>atext</th>\n",
       "    </tr>\n",
       "  </thead>\n",
       "  <tbody>\n",
       "    <tr>\n",
       "      <th>379691</th>\n",
       "      <td>[электрочайник, Zigmund, Shtain, KE, 81, SD, 1...</td>\n",
       "    </tr>\n",
       "    <tr>\n",
       "      <th>520472</th>\n",
       "      <td>[сабвуфер, огромный, ассортимент, бесплатный, ...</td>\n",
       "    </tr>\n",
       "    <tr>\n",
       "      <th>19942</th>\n",
       "      <td>[Onkyo, Tx, nr545, Black, в, наличие, быстрый,...</td>\n",
       "    </tr>\n",
       "    <tr>\n",
       "      <th>153486</th>\n",
       "      <td>[шаблон, ордер, входить, в, состав, сборник, 1...</td>\n",
       "    </tr>\n",
       "    <tr>\n",
       "      <th>700377</th>\n",
       "      <td>[шпаклевка, финишный, белый, сравнивать, цена,...</td>\n",
       "    </tr>\n",
       "  </tbody>\n",
       "</table>\n",
       "</div>"
      ],
      "text/plain": [
       "                                                    atext\n",
       "379691  [электрочайник, Zigmund, Shtain, KE, 81, SD, 1...\n",
       "520472  [сабвуфер, огромный, ассортимент, бесплатный, ...\n",
       "19942   [Onkyo, Tx, nr545, Black, в, наличие, быстрый,...\n",
       "153486  [шаблон, ордер, входить, в, состав, сборник, 1...\n",
       "700377  [шпаклевка, финишный, белый, сравнивать, цена,..."
      ]
     },
     "execution_count": 53,
     "metadata": {},
     "output_type": "execute_result"
    }
   ],
   "source": [
    "test_df.head()"
   ]
  },
  {
   "cell_type": "code",
   "execution_count": 54,
   "metadata": {},
   "outputs": [],
   "source": [
    "test_df['atitle'] = y_test"
   ]
  },
  {
   "cell_type": "code",
   "execution_count": 55,
   "metadata": {},
   "outputs": [
    {
     "data": {
      "text/plain": [
       "(58746, 2)"
      ]
     },
     "execution_count": 55,
     "metadata": {},
     "output_type": "execute_result"
    }
   ],
   "source": [
    "test_df.shape"
   ]
  },
  {
   "cell_type": "code",
   "execution_count": 56,
   "metadata": {},
   "outputs": [],
   "source": [
    "# we can't fit all the examples in our memory\n",
    "\n",
    "test_sample = test_df.sample(1000)"
   ]
  },
  {
   "cell_type": "code",
   "execution_count": 57,
   "metadata": {},
   "outputs": [],
   "source": [
    "test_text_sample = test_sample['atext']\n",
    "test_title_sample = test_sample['atitle']"
   ]
  },
  {
   "cell_type": "code",
   "execution_count": 58,
   "metadata": {},
   "outputs": [],
   "source": [
    "from sklearn.preprocessing import normalize\n",
    "\n",
    "\n",
    "def result_vector(text):\n",
    "    result = np.zeros(300)\n",
    "    count = 0\n",
    "    for word in text:\n",
    "        if word in vocab:\n",
    "            result+=model.wv[word]\n",
    "            count+=1\n",
    "    if count == 0:\n",
    "        return None\n",
    "    #result = (result / count).reshape(1, -1)\n",
    "    result = normalize(result.reshape(1, -1))     \n",
    "    return result"
   ]
  },
  {
   "cell_type": "code",
   "execution_count": 59,
   "metadata": {},
   "outputs": [],
   "source": [
    "ad_vectors = []\n",
    "for ad_text in test_text_sample:\n",
    "        vector = result_vector(ad_text)\n",
    "        if vector is not None:\n",
    "            ad_vectors.append(vector)\n",
    "        else:\n",
    "            ad_vectors.append('M')"
   ]
  },
  {
   "cell_type": "code",
   "execution_count": 60,
   "metadata": {},
   "outputs": [],
   "source": [
    "title_vectors = []\n",
    "for ad_title in test_title_sample:\n",
    "    vector = result_vector(ad_title)\n",
    "    if vector is not None:\n",
    "        title_vectors.append(vector)\n",
    "    else:\n",
    "        title_vectors.append('M')"
   ]
  },
  {
   "cell_type": "code",
   "execution_count": 61,
   "metadata": {},
   "outputs": [],
   "source": [
    "def cosine_calculator(vector_one, other_vectors):\n",
    "    cosines = []\n",
    "    for each in other_vectors:\n",
    "        if each != 'M':\n",
    "            sim_score = cosine_similarity(vector_one, each)\n",
    "            cosines.extend(sim_score) \n",
    "        else:\n",
    "            cosines.append('M')\n",
    "    return cosines"
   ]
  },
  {
   "cell_type": "code",
   "execution_count": 62,
   "metadata": {},
   "outputs": [],
   "source": [
    "def rank_checker(first_vector_set, other_vectors, smpl_df, number):\n",
    "    cosines_results = cosine_calculator(first_vector_set[number], other_vectors)\n",
    "    series = pd.Series(cosines_results, index =smpl_df.index)\n",
    "    \n",
    "    #cleaning the series for sorting, 'M' stands for missing, was added if no words in the text were found in w2v vocab\n",
    "    cleaned = series[series != 'M']\n",
    "    sorted_df = cleaned.sort_values(ascending=False)\n",
    "    sorted_index = sorted_df.index\n",
    "    \n",
    "    for rank, entry in enumerate(sorted_index):\n",
    "        if entry == smpl_df.index[number]:\n",
    "            return rank"
   ]
  },
  {
   "cell_type": "code",
   "execution_count": 63,
   "metadata": {},
   "outputs": [],
   "source": [
    "ranks = []\n",
    "for row in range(len(test_sample)):\n",
    "    rank = rank_checker(ad_vectors, title_vectors, test_sample, row)\n",
    "    ranks.append(rank)"
   ]
  },
  {
   "cell_type": "code",
   "execution_count": 64,
   "metadata": {},
   "outputs": [
    {
     "data": {
      "image/png": "[encoded data removed]",
      "text/plain": [
       "<Figure size 720x360 with 1 Axes>"
      ]
     },
     "metadata": {
      "needs_background": "light"
     },
     "output_type": "display_data"
    }
   ],
   "source": [
    "plt.figure(figsize=(10, 5))\n",
    "plt.hist([rank for rank in ranks if rank is not None])\n",
    "plt.show()"
   ]
  },
  {
   "cell_type": "code",
   "execution_count": 65,
   "metadata": {},
   "outputs": [
    {
     "data": {
      "text/plain": [
       "18.624493927125506"
      ]
     },
     "execution_count": 65,
     "metadata": {},
     "output_type": "execute_result"
    }
   ],
   "source": [
    "#average rank\n",
    "sum([rank for rank in ranks if rank is not None])/ len([rank for rank in ranks if rank is not None])"
   ]
  },
  {
   "cell_type": "code",
   "execution_count": 66,
   "metadata": {},
   "outputs": [],
   "source": [
    "small = []\n",
    "for rank in ranks:\n",
    "    if rank is not None and rank <=10:\n",
    "        small.append(rank) "
   ]
  },
  {
   "cell_type": "code",
   "execution_count": 67,
   "metadata": {},
   "outputs": [
    {
     "data": {
      "text/plain": [
       "0.8927125506072875"
      ]
     },
     "execution_count": 67,
     "metadata": {},
     "output_type": "execute_result"
    }
   ],
   "source": [
    "# proportion ranked as \n",
    "len(small) / len([rank for rank in ranks if rank is not None])"
   ]
  },
  {
   "cell_type": "markdown",
   "metadata": {},
   "source": [
    "# Supervised Solution"
   ]
  },
  {
   "cell_type": "code",
   "execution_count": 68,
   "metadata": {},
   "outputs": [],
   "source": [
    "training_df = pd.DataFrame()\n",
    "training_df['text vectors'] = X_train \n",
    "training_df['title vectors'] = y_train"
   ]
  },
  {
   "cell_type": "code",
   "execution_count": 69,
   "metadata": {},
   "outputs": [],
   "source": [
    "test_df = pd.DataFrame()\n",
    "test_df['text vectors'] = X_test\n",
    "test_df['title vectors'] = y_test"
   ]
  },
  {
   "cell_type": "code",
   "execution_count": 70,
   "metadata": {},
   "outputs": [
    {
     "data": {
      "text/plain": [
       "(137074, 2)"
      ]
     },
     "execution_count": 70,
     "metadata": {},
     "output_type": "execute_result"
    }
   ],
   "source": [
    "training_df.shape"
   ]
  },
  {
   "cell_type": "code",
   "execution_count": 71,
   "metadata": {},
   "outputs": [
    {
     "data": {
      "text/plain": [
       "(58746, 2)"
      ]
     },
     "execution_count": 71,
     "metadata": {},
     "output_type": "execute_result"
    }
   ],
   "source": [
    "test_df.shape"
   ]
  },
  {
   "cell_type": "code",
   "execution_count": 72,
   "metadata": {},
   "outputs": [],
   "source": [
    "def mixed_df_creator(df):\n",
    "    \n",
    "    df_copy = df.copy()\n",
    "    df_copy = df.reset_index(drop=True)\n",
    "    \n",
    "    first_half = df_copy.iloc[:int(len(df_copy)/2)]\n",
    "    second_half = df_copy.iloc[int(len(df_copy)/2):]\n",
    "    \n",
    "    shuffled_titles = shuffle(second_half['title vectors'])\n",
    "    shuffled_titles = shuffled_titles.reset_index(drop=True)\n",
    "    \n",
    "    second_half = second_half.reset_index(drop=True)\n",
    "    second_half['title vectors'] = shuffled_titles\n",
    "    \n",
    "    first_half['pair class'] = 1\n",
    "    second_half['pair class'] = 0\n",
    "    \n",
    "    #sim_score_one = first_half.apply(cosine_between_rows, axis = 1)\n",
    "    #sim_score_two = second_half.apply(cosine_between_rows, axis = 1)\n",
    "    \n",
    "    #print('Mean cosine similarity score: first half', np.mean(sim_score_one))\n",
    "    #print('Mean cosine similarity score: second half', np.mean(sim_score_two))\n",
    "    \n",
    "    concat_result = pd.concat([first_half, second_half], axis=0, ignore_index = True)\n",
    "    \n",
    "    return concat_result"
   ]
  },
  {
   "cell_type": "code",
   "execution_count": 73,
   "metadata": {},
   "outputs": [],
   "source": [
    "training_df_mixed = mixed_df_creator(training_df)"
   ]
  },
  {
   "cell_type": "code",
   "execution_count": 74,
   "metadata": {},
   "outputs": [],
   "source": [
    "test_df_mixed = mixed_df_creator(test_df)"
   ]
  },
  {
   "cell_type": "code",
   "execution_count": 75,
   "metadata": {},
   "outputs": [
    {
     "data": {
      "text/html": [
       "<div>\n",
       "<style scoped>\n",
       "    .dataframe tbody tr th:only-of-type {\n",
       "        vertical-align: middle;\n",
       "    }\n",
       "\n",
       "    .dataframe tbody tr th {\n",
       "        vertical-align: top;\n",
       "    }\n",
       "\n",
       "    .dataframe thead th {\n",
       "        text-align: right;\n",
       "    }\n",
       "</style>\n",
       "<table border=\"1\" class=\"dataframe\">\n",
       "  <thead>\n",
       "    <tr style=\"text-align: right;\">\n",
       "      <th></th>\n",
       "      <th>text vectors</th>\n",
       "      <th>title vectors</th>\n",
       "      <th>pair class</th>\n",
       "    </tr>\n",
       "  </thead>\n",
       "  <tbody>\n",
       "    <tr>\n",
       "      <th>0</th>\n",
       "      <td>[lg, sh7b, от, 819, 00, доставка]</td>\n",
       "      <td>[lg, sh7b]</td>\n",
       "      <td>1</td>\n",
       "    </tr>\n",
       "    <tr>\n",
       "      <th>1</th>\n",
       "      <td>[нужный, перевод, медицинский, документация, к...</td>\n",
       "      <td>[перевод, медицинский, документация]</td>\n",
       "      <td>1</td>\n",
       "    </tr>\n",
       "    <tr>\n",
       "      <th>2</th>\n",
       "      <td>[результат, на, 3, день, зубной, паста, крест,...</td>\n",
       "      <td>[зубной, паста, крест]</td>\n",
       "      <td>1</td>\n",
       "    </tr>\n",
       "    <tr>\n",
       "      <th>3</th>\n",
       "      <td>[массив, бук, и, дуб, древесный, шпон, ciplex,...</td>\n",
       "      <td>[межкомнатный, дверь, из, россия]</td>\n",
       "      <td>1</td>\n",
       "    </tr>\n",
       "    <tr>\n",
       "      <th>4</th>\n",
       "      <td>[купить, Gerat, лента, пробивной, Gerat, 19мм,...</td>\n",
       "      <td>[Gerat, 19мм, 3, 2мм, 30м, 50327]</td>\n",
       "      <td>1</td>\n",
       "    </tr>\n",
       "  </tbody>\n",
       "</table>\n",
       "</div>"
      ],
      "text/plain": [
       "                                        text vectors  \\\n",
       "0                  [lg, sh7b, от, 819, 00, доставка]   \n",
       "1  [нужный, перевод, медицинский, документация, к...   \n",
       "2  [результат, на, 3, день, зубной, паста, крест,...   \n",
       "3  [массив, бук, и, дуб, древесный, шпон, ciplex,...   \n",
       "4  [купить, Gerat, лента, пробивной, Gerat, 19мм,...   \n",
       "\n",
       "                          title vectors  pair class  \n",
       "0                            [lg, sh7b]           1  \n",
       "1  [перевод, медицинский, документация]           1  \n",
       "2                [зубной, паста, крест]           1  \n",
       "3     [межкомнатный, дверь, из, россия]           1  \n",
       "4     [Gerat, 19мм, 3, 2мм, 30м, 50327]           1  "
      ]
     },
     "execution_count": 75,
     "metadata": {},
     "output_type": "execute_result"
    }
   ],
   "source": [
    "training_df_mixed.head()"
   ]
  },
  {
   "cell_type": "code",
   "execution_count": 76,
   "metadata": {},
   "outputs": [
    {
     "data": {
      "text/plain": [
       "(137074, 3)"
      ]
     },
     "execution_count": 76,
     "metadata": {},
     "output_type": "execute_result"
    }
   ],
   "source": [
    "training_df_mixed.shape"
   ]
  },
  {
   "cell_type": "code",
   "execution_count": 77,
   "metadata": {},
   "outputs": [
    {
     "data": {
      "text/plain": [
       "300"
      ]
     },
     "execution_count": 77,
     "metadata": {},
     "output_type": "execute_result"
    }
   ],
   "source": [
    "len(result_vector(training_df_mixed.iloc[0, 0])[0])"
   ]
  },
  {
   "cell_type": "code",
   "execution_count": 78,
   "metadata": {},
   "outputs": [],
   "source": [
    "# vectorization of the ads text\n",
    "text_vectors = []\n",
    "for row in range(len(training_df_mixed)):\n",
    "    vector = result_vector(training_df_mixed.iloc[row, 0])\n",
    "    if vector is not None:  \n",
    "        text_vectors.append(vector[0])\n",
    "    else:\n",
    "        text_vectors.append('M')"
   ]
  },
  {
   "cell_type": "code",
   "execution_count": 79,
   "metadata": {},
   "outputs": [],
   "source": [
    "training_df_mixed_vectorized = training_df_mixed.copy()"
   ]
  },
  {
   "cell_type": "code",
   "execution_count": 80,
   "metadata": {},
   "outputs": [],
   "source": [
    "training_df_mixed_vectorized['text vectors'] = text_vectors"
   ]
  },
  {
   "cell_type": "code",
   "execution_count": 81,
   "metadata": {},
   "outputs": [],
   "source": [
    "# vectorization of the ads text\n",
    "text_vectors_test = []\n",
    "for row in range(len(test_df_mixed)):\n",
    "    vector = result_vector(test_df_mixed.iloc[row, 0])\n",
    "    if vector is not None:  \n",
    "        text_vectors_test.append(vector[0])\n",
    "    else:\n",
    "        text_vectors_test.append('M')"
   ]
  },
  {
   "cell_type": "code",
   "execution_count": 82,
   "metadata": {},
   "outputs": [],
   "source": [
    "test_df_mixed_vectorized = test_df_mixed.copy()"
   ]
  },
  {
   "cell_type": "code",
   "execution_count": 83,
   "metadata": {},
   "outputs": [],
   "source": [
    "test_df_mixed_vectorized['text vectors'] = text_vectors_test"
   ]
  },
  {
   "cell_type": "code",
   "execution_count": 84,
   "metadata": {},
   "outputs": [],
   "source": [
    "# vectorization of the ads title\n",
    "title_vectors_tr = []\n",
    "for row in range(len(training_df_mixed)):\n",
    "    vector = result_vector(training_df_mixed.iloc[row, 1])\n",
    "    if vector is not None:  \n",
    "        title_vectors_tr.append(vector[0])\n",
    "    else:\n",
    "        title_vectors_tr.append('M')"
   ]
  },
  {
   "cell_type": "code",
   "execution_count": 85,
   "metadata": {},
   "outputs": [],
   "source": [
    "training_df_mixed_vectorized['title vectors'] = title_vectors_tr"
   ]
  },
  {
   "cell_type": "code",
   "execution_count": 86,
   "metadata": {},
   "outputs": [],
   "source": [
    "# vectorization of the ads title\n",
    "title_vectors_test = []\n",
    "for row in range(len(test_df_mixed)):\n",
    "    vector = result_vector(test_df_mixed.iloc[row, 1])\n",
    "    if vector is not None:  \n",
    "        title_vectors_test.append(vector[0])\n",
    "    else:\n",
    "        title_vectors_test.append('M')"
   ]
  },
  {
   "cell_type": "code",
   "execution_count": 87,
   "metadata": {},
   "outputs": [],
   "source": [
    "test_df_mixed_vectorized['title vectors'] = title_vectors_test"
   ]
  },
  {
   "cell_type": "code",
   "execution_count": 88,
   "metadata": {},
   "outputs": [],
   "source": [
    "# remove vectors with that are comprised exclusively of the words that are missing from our vocabulary\n",
    "\n",
    "training_df_mixed_vectorized= training_df_mixed_vectorized[training_df_mixed_vectorized['text vectors'] != 'M']\n",
    "training_df_mixed_vectorized = training_df_mixed_vectorized[training_df_mixed_vectorized['title vectors'] != 'M']\n",
    "\n",
    "test_df_mixed_vectorized= test_df_mixed_vectorized[test_df_mixed_vectorized['text vectors'] != 'M']\n",
    "test_df_mixed_vectorized = test_df_mixed_vectorized[test_df_mixed_vectorized['title vectors'] != 'M']"
   ]
  },
  {
   "cell_type": "code",
   "execution_count": 89,
   "metadata": {},
   "outputs": [
    {
     "data": {
      "text/html": [
       "<div>\n",
       "<style scoped>\n",
       "    .dataframe tbody tr th:only-of-type {\n",
       "        vertical-align: middle;\n",
       "    }\n",
       "\n",
       "    .dataframe tbody tr th {\n",
       "        vertical-align: top;\n",
       "    }\n",
       "\n",
       "    .dataframe thead th {\n",
       "        text-align: right;\n",
       "    }\n",
       "</style>\n",
       "<table border=\"1\" class=\"dataframe\">\n",
       "  <thead>\n",
       "    <tr style=\"text-align: right;\">\n",
       "      <th></th>\n",
       "      <th>text vectors</th>\n",
       "      <th>title vectors</th>\n",
       "      <th>pair class</th>\n",
       "    </tr>\n",
       "  </thead>\n",
       "  <tbody>\n",
       "    <tr>\n",
       "      <th>0</th>\n",
       "      <td>[-0.0027742561401566217, 0.03461939136532193, ...</td>\n",
       "      <td>[0.024540292744303926, -0.009632373470928846, ...</td>\n",
       "      <td>1</td>\n",
       "    </tr>\n",
       "    <tr>\n",
       "      <th>1</th>\n",
       "      <td>[-0.0844200928998112, 0.002986090694611397, 0....</td>\n",
       "      <td>[-0.0391659416847272, -0.03676063017640007, 0....</td>\n",
       "      <td>1</td>\n",
       "    </tr>\n",
       "    <tr>\n",
       "      <th>2</th>\n",
       "      <td>[-0.06966013043018048, -0.025306771094227645, ...</td>\n",
       "      <td>[0.027623420126889384, 0.04848150487022256, 0....</td>\n",
       "      <td>1</td>\n",
       "    </tr>\n",
       "    <tr>\n",
       "      <th>3</th>\n",
       "      <td>[-0.06797899979074326, 0.033551506469868396, -...</td>\n",
       "      <td>[-0.03887591419698565, 0.10304372088306155, -0...</td>\n",
       "      <td>1</td>\n",
       "    </tr>\n",
       "    <tr>\n",
       "      <th>4</th>\n",
       "      <td>[-0.014834204166066456, 0.004732871588807515, ...</td>\n",
       "      <td>[0.03466587521078149, 0.04273233717066049, -0....</td>\n",
       "      <td>1</td>\n",
       "    </tr>\n",
       "  </tbody>\n",
       "</table>\n",
       "</div>"
      ],
      "text/plain": [
       "                                        text vectors  \\\n",
       "0  [-0.0027742561401566217, 0.03461939136532193, ...   \n",
       "1  [-0.0844200928998112, 0.002986090694611397, 0....   \n",
       "2  [-0.06966013043018048, -0.025306771094227645, ...   \n",
       "3  [-0.06797899979074326, 0.033551506469868396, -...   \n",
       "4  [-0.014834204166066456, 0.004732871588807515, ...   \n",
       "\n",
       "                                       title vectors  pair class  \n",
       "0  [0.024540292744303926, -0.009632373470928846, ...           1  \n",
       "1  [-0.0391659416847272, -0.03676063017640007, 0....           1  \n",
       "2  [0.027623420126889384, 0.04848150487022256, 0....           1  \n",
       "3  [-0.03887591419698565, 0.10304372088306155, -0...           1  \n",
       "4  [0.03466587521078149, 0.04273233717066049, -0....           1  "
      ]
     },
     "execution_count": 89,
     "metadata": {},
     "output_type": "execute_result"
    }
   ],
   "source": [
    "training_df_mixed_vectorized.head()"
   ]
  },
  {
   "cell_type": "code",
   "execution_count": 90,
   "metadata": {},
   "outputs": [
    {
     "data": {
      "text/html": [
       "<div>\n",
       "<style scoped>\n",
       "    .dataframe tbody tr th:only-of-type {\n",
       "        vertical-align: middle;\n",
       "    }\n",
       "\n",
       "    .dataframe tbody tr th {\n",
       "        vertical-align: top;\n",
       "    }\n",
       "\n",
       "    .dataframe thead th {\n",
       "        text-align: right;\n",
       "    }\n",
       "</style>\n",
       "<table border=\"1\" class=\"dataframe\">\n",
       "  <thead>\n",
       "    <tr style=\"text-align: right;\">\n",
       "      <th></th>\n",
       "      <th>text vectors</th>\n",
       "      <th>title vectors</th>\n",
       "      <th>pair class</th>\n",
       "    </tr>\n",
       "  </thead>\n",
       "  <tbody>\n",
       "    <tr>\n",
       "      <th>0</th>\n",
       "      <td>[-0.021196018095643625, 0.021109890762787367, ...</td>\n",
       "      <td>[-0.06631127555266361, 0.03698774453357387, 0....</td>\n",
       "      <td>1</td>\n",
       "    </tr>\n",
       "    <tr>\n",
       "      <th>1</th>\n",
       "      <td>[-0.13091671909286354, -0.06633060151462958, -...</td>\n",
       "      <td>[-0.061542388023199585, 0.024764664441110484, ...</td>\n",
       "      <td>1</td>\n",
       "    </tr>\n",
       "    <tr>\n",
       "      <th>2</th>\n",
       "      <td>[-0.051841686368287454, 0.0816106348686147, 0....</td>\n",
       "      <td>[-0.017910044585391926, 0.023081066257000217, ...</td>\n",
       "      <td>1</td>\n",
       "    </tr>\n",
       "    <tr>\n",
       "      <th>3</th>\n",
       "      <td>[-0.0616991797581098, -0.05254760266971141, -0...</td>\n",
       "      <td>[-0.022093441067550658, 0.01875982351413886, -...</td>\n",
       "      <td>1</td>\n",
       "    </tr>\n",
       "    <tr>\n",
       "      <th>4</th>\n",
       "      <td>[-0.047522453786995704, 0.016083370700846717, ...</td>\n",
       "      <td>[-0.021573949851945103, 0.027799315254393803, ...</td>\n",
       "      <td>1</td>\n",
       "    </tr>\n",
       "  </tbody>\n",
       "</table>\n",
       "</div>"
      ],
      "text/plain": [
       "                                        text vectors  \\\n",
       "0  [-0.021196018095643625, 0.021109890762787367, ...   \n",
       "1  [-0.13091671909286354, -0.06633060151462958, -...   \n",
       "2  [-0.051841686368287454, 0.0816106348686147, 0....   \n",
       "3  [-0.0616991797581098, -0.05254760266971141, -0...   \n",
       "4  [-0.047522453786995704, 0.016083370700846717, ...   \n",
       "\n",
       "                                       title vectors  pair class  \n",
       "0  [-0.06631127555266361, 0.03698774453357387, 0....           1  \n",
       "1  [-0.061542388023199585, 0.024764664441110484, ...           1  \n",
       "2  [-0.017910044585391926, 0.023081066257000217, ...           1  \n",
       "3  [-0.022093441067550658, 0.01875982351413886, -...           1  \n",
       "4  [-0.021573949851945103, 0.027799315254393803, ...           1  "
      ]
     },
     "execution_count": 90,
     "metadata": {},
     "output_type": "execute_result"
    }
   ],
   "source": [
    "test_df_mixed_vectorized.head()"
   ]
  },
  {
   "cell_type": "code",
   "execution_count": 91,
   "metadata": {},
   "outputs": [],
   "source": [
    "def cosine_between_rows(row):\n",
    "    sim = cosine_similarity(row['text vectors'].reshape(1, -1), row['title vectors'].reshape(1, -1))\n",
    "    return sim"
   ]
  },
  {
   "cell_type": "markdown",
   "metadata": {},
   "source": [
    "# Cosine Consistency Check"
   ]
  },
  {
   "cell_type": "code",
   "execution_count": 92,
   "metadata": {},
   "outputs": [
    {
     "name": "stdout",
     "output_type": "stream",
     "text": [
      "Mean cosine similarity score: first half [[0.77957209]]\n",
      "Mean cosine similarity score: second half [[0.23982956]]\n"
     ]
    }
   ],
   "source": [
    "sim_score_one = training_df_mixed_vectorized.iloc[:int(len(training_df_mixed_vectorized)/2)].apply(cosine_between_rows, axis = 1)\n",
    "sim_score_two = training_df_mixed_vectorized.iloc[int(len(training_df_mixed_vectorized)/2):].apply(cosine_between_rows, axis = 1)\n",
    "\n",
    "print('Mean cosine similarity score: first half', np.mean(sim_score_one))\n",
    "print('Mean cosine similarity score: second half', np.mean(sim_score_two))"
   ]
  },
  {
   "cell_type": "code",
   "execution_count": 93,
   "metadata": {},
   "outputs": [
    {
     "name": "stdout",
     "output_type": "stream",
     "text": [
      "Mean cosine similarity score: first half [[0.77275878]]\n",
      "Mean cosine similarity score: second half [[0.24336623]]\n"
     ]
    }
   ],
   "source": [
    "sim_score_one_test = test_df_mixed_vectorized.iloc[:int(len(test_df_mixed_vectorized)/2)].apply(cosine_between_rows, axis = 1)\n",
    "sim_score_two_test = test_df_mixed_vectorized.iloc[int(len(test_df_mixed_vectorized)/2):].apply(cosine_between_rows, axis = 1)\n",
    "\n",
    "print('Mean cosine similarity score: first half', np.mean(sim_score_one_test))\n",
    "print('Mean cosine similarity score: second half', np.mean(sim_score_two_test))"
   ]
  },
  {
   "cell_type": "code",
   "execution_count": 94,
   "metadata": {},
   "outputs": [
    {
     "data": {
      "text/html": [
       "<div>\n",
       "<style scoped>\n",
       "    .dataframe tbody tr th:only-of-type {\n",
       "        vertical-align: middle;\n",
       "    }\n",
       "\n",
       "    .dataframe tbody tr th {\n",
       "        vertical-align: top;\n",
       "    }\n",
       "\n",
       "    .dataframe thead th {\n",
       "        text-align: right;\n",
       "    }\n",
       "</style>\n",
       "<table border=\"1\" class=\"dataframe\">\n",
       "  <thead>\n",
       "    <tr style=\"text-align: right;\">\n",
       "      <th></th>\n",
       "      <th>text vectors</th>\n",
       "      <th>title vectors</th>\n",
       "      <th>pair class</th>\n",
       "    </tr>\n",
       "  </thead>\n",
       "  <tbody>\n",
       "    <tr>\n",
       "      <th>0</th>\n",
       "      <td>[lg, sh7b, от, 819, 00, доставка]</td>\n",
       "      <td>[lg, sh7b]</td>\n",
       "      <td>1</td>\n",
       "    </tr>\n",
       "    <tr>\n",
       "      <th>1</th>\n",
       "      <td>[нужный, перевод, медицинский, документация, к...</td>\n",
       "      <td>[перевод, медицинский, документация]</td>\n",
       "      <td>1</td>\n",
       "    </tr>\n",
       "    <tr>\n",
       "      <th>2</th>\n",
       "      <td>[результат, на, 3, день, зубной, паста, крест,...</td>\n",
       "      <td>[зубной, паста, крест]</td>\n",
       "      <td>1</td>\n",
       "    </tr>\n",
       "    <tr>\n",
       "      <th>3</th>\n",
       "      <td>[массив, бук, и, дуб, древесный, шпон, ciplex,...</td>\n",
       "      <td>[межкомнатный, дверь, из, россия]</td>\n",
       "      <td>1</td>\n",
       "    </tr>\n",
       "    <tr>\n",
       "      <th>4</th>\n",
       "      <td>[купить, Gerat, лента, пробивной, Gerat, 19мм,...</td>\n",
       "      <td>[Gerat, 19мм, 3, 2мм, 30м, 50327]</td>\n",
       "      <td>1</td>\n",
       "    </tr>\n",
       "  </tbody>\n",
       "</table>\n",
       "</div>"
      ],
      "text/plain": [
       "                                        text vectors  \\\n",
       "0                  [lg, sh7b, от, 819, 00, доставка]   \n",
       "1  [нужный, перевод, медицинский, документация, к...   \n",
       "2  [результат, на, 3, день, зубной, паста, крест,...   \n",
       "3  [массив, бук, и, дуб, древесный, шпон, ciplex,...   \n",
       "4  [купить, Gerat, лента, пробивной, Gerat, 19мм,...   \n",
       "\n",
       "                          title vectors  pair class  \n",
       "0                            [lg, sh7b]           1  \n",
       "1  [перевод, медицинский, документация]           1  \n",
       "2                [зубной, паста, крест]           1  \n",
       "3     [межкомнатный, дверь, из, россия]           1  \n",
       "4     [Gerat, 19мм, 3, 2мм, 30м, 50327]           1  "
      ]
     },
     "execution_count": 94,
     "metadata": {},
     "output_type": "execute_result"
    }
   ],
   "source": [
    "training_df_mixed.head()"
   ]
  },
  {
   "cell_type": "code",
   "execution_count": 95,
   "metadata": {},
   "outputs": [
    {
     "data": {
      "text/plain": [
       "text vectors     0\n",
       "title vectors    0\n",
       "pair class       0\n",
       "dtype: int64"
      ]
     },
     "execution_count": 95,
     "metadata": {},
     "output_type": "execute_result"
    }
   ],
   "source": [
    "training_df_mixed.isnull().sum()"
   ]
  },
  {
   "cell_type": "code",
   "execution_count": 96,
   "metadata": {},
   "outputs": [
    {
     "data": {
      "text/html": [
       "<div>\n",
       "<style scoped>\n",
       "    .dataframe tbody tr th:only-of-type {\n",
       "        vertical-align: middle;\n",
       "    }\n",
       "\n",
       "    .dataframe tbody tr th {\n",
       "        vertical-align: top;\n",
       "    }\n",
       "\n",
       "    .dataframe thead th {\n",
       "        text-align: right;\n",
       "    }\n",
       "</style>\n",
       "<table border=\"1\" class=\"dataframe\">\n",
       "  <thead>\n",
       "    <tr style=\"text-align: right;\">\n",
       "      <th></th>\n",
       "      <th>text vectors</th>\n",
       "      <th>title vectors</th>\n",
       "      <th>pair class</th>\n",
       "    </tr>\n",
       "  </thead>\n",
       "  <tbody>\n",
       "    <tr>\n",
       "      <th>0</th>\n",
       "      <td>[lg, sh7b, от, 819, 00, доставка]</td>\n",
       "      <td>[lg, sh7b]</td>\n",
       "      <td>1</td>\n",
       "    </tr>\n",
       "    <tr>\n",
       "      <th>1</th>\n",
       "      <td>[нужный, перевод, медицинский, документация, к...</td>\n",
       "      <td>[перевод, медицинский, документация]</td>\n",
       "      <td>1</td>\n",
       "    </tr>\n",
       "    <tr>\n",
       "      <th>2</th>\n",
       "      <td>[результат, на, 3, день, зубной, паста, крест,...</td>\n",
       "      <td>[зубной, паста, крест]</td>\n",
       "      <td>1</td>\n",
       "    </tr>\n",
       "    <tr>\n",
       "      <th>3</th>\n",
       "      <td>[массив, бук, и, дуб, древесный, шпон, ciplex,...</td>\n",
       "      <td>[межкомнатный, дверь, из, россия]</td>\n",
       "      <td>1</td>\n",
       "    </tr>\n",
       "    <tr>\n",
       "      <th>4</th>\n",
       "      <td>[купить, Gerat, лента, пробивной, Gerat, 19мм,...</td>\n",
       "      <td>[Gerat, 19мм, 3, 2мм, 30м, 50327]</td>\n",
       "      <td>1</td>\n",
       "    </tr>\n",
       "  </tbody>\n",
       "</table>\n",
       "</div>"
      ],
      "text/plain": [
       "                                        text vectors  \\\n",
       "0                  [lg, sh7b, от, 819, 00, доставка]   \n",
       "1  [нужный, перевод, медицинский, документация, к...   \n",
       "2  [результат, на, 3, день, зубной, паста, крест,...   \n",
       "3  [массив, бук, и, дуб, древесный, шпон, ciplex,...   \n",
       "4  [купить, Gerat, лента, пробивной, Gerat, 19мм,...   \n",
       "\n",
       "                          title vectors  pair class  \n",
       "0                            [lg, sh7b]           1  \n",
       "1  [перевод, медицинский, документация]           1  \n",
       "2                [зубной, паста, крест]           1  \n",
       "3     [межкомнатный, дверь, из, россия]           1  \n",
       "4     [Gerat, 19мм, 3, 2мм, 30м, 50327]           1  "
      ]
     },
     "execution_count": 96,
     "metadata": {},
     "output_type": "execute_result"
    }
   ],
   "source": [
    "training_df_mixed.head()"
   ]
  },
  {
   "cell_type": "code",
   "execution_count": 97,
   "metadata": {},
   "outputs": [
    {
     "data": {
      "text/plain": [
       "text vectors     0\n",
       "title vectors    0\n",
       "pair class       0\n",
       "dtype: int64"
      ]
     },
     "execution_count": 97,
     "metadata": {},
     "output_type": "execute_result"
    }
   ],
   "source": [
    "test_df_mixed.isnull().sum()"
   ]
  },
  {
   "cell_type": "code",
   "execution_count": 98,
   "metadata": {},
   "outputs": [],
   "source": [
    "def df_converter(df):\n",
    "    resultant_lists = df['text vectors'].apply(list) + df['title vectors'].apply(list)\n",
    "    \n",
    "    #print length for checking the length of concatenated vectors\n",
    "    print(len(resultant_lists.iloc[0]))\n",
    "    \n",
    "    arrays = np.array(list(resultant_lists))\n",
    "    return arrays"
   ]
  },
  {
   "cell_type": "code",
   "execution_count": 99,
   "metadata": {},
   "outputs": [
    {
     "data": {
      "text/html": [
       "<div>\n",
       "<style scoped>\n",
       "    .dataframe tbody tr th:only-of-type {\n",
       "        vertical-align: middle;\n",
       "    }\n",
       "\n",
       "    .dataframe tbody tr th {\n",
       "        vertical-align: top;\n",
       "    }\n",
       "\n",
       "    .dataframe thead th {\n",
       "        text-align: right;\n",
       "    }\n",
       "</style>\n",
       "<table border=\"1\" class=\"dataframe\">\n",
       "  <thead>\n",
       "    <tr style=\"text-align: right;\">\n",
       "      <th></th>\n",
       "      <th>atext</th>\n",
       "      <th>atitle</th>\n",
       "    </tr>\n",
       "  </thead>\n",
       "  <tbody>\n",
       "    <tr>\n",
       "      <th>681634</th>\n",
       "      <td>[мфу, Oki, сравнивать, цена, весь, интернет, м...</td>\n",
       "      <td>[мфу, Oki]</td>\n",
       "    </tr>\n",
       "    <tr>\n",
       "      <th>245968</th>\n",
       "      <td>[купить, аккумулятор, на, KIA, доставка, по, б...</td>\n",
       "      <td>[аккумулятор, на, KIA, с, доставка]</td>\n",
       "    </tr>\n",
       "    <tr>\n",
       "      <th>677647</th>\n",
       "      <td>[ковролин, нева, тафт, сравнивать, цена, весь,...</td>\n",
       "      <td>[ковролин, нева, тафт]</td>\n",
       "    </tr>\n",
       "    <tr>\n",
       "      <th>30041</th>\n",
       "      <td>[купить, Electrolux, вытяжка, Electrolux, EFP6...</td>\n",
       "      <td>[вытяжка, Electrolux, EFP6411X]</td>\n",
       "    </tr>\n",
       "    <tr>\n",
       "      <th>200262</th>\n",
       "      <td>[краскопульт, Bosch, PFS, 5000E]</td>\n",
       "      <td>[PFS, 5000E, 9870p]</td>\n",
       "    </tr>\n",
       "  </tbody>\n",
       "</table>\n",
       "</div>"
      ],
      "text/plain": [
       "                                                    atext  \\\n",
       "681634  [мфу, Oki, сравнивать, цена, весь, интернет, м...   \n",
       "245968  [купить, аккумулятор, на, KIA, доставка, по, б...   \n",
       "677647  [ковролин, нева, тафт, сравнивать, цена, весь,...   \n",
       "30041   [купить, Electrolux, вытяжка, Electrolux, EFP6...   \n",
       "200262                   [краскопульт, Bosch, PFS, 5000E]   \n",
       "\n",
       "                                     atitle  \n",
       "681634                           [мфу, Oki]  \n",
       "245968  [аккумулятор, на, KIA, с, доставка]  \n",
       "677647               [ковролин, нева, тафт]  \n",
       "30041       [вытяжка, Electrolux, EFP6411X]  \n",
       "200262                  [PFS, 5000E, 9870p]  "
      ]
     },
     "execution_count": 99,
     "metadata": {},
     "output_type": "execute_result"
    }
   ],
   "source": [
    "test_sample.head()"
   ]
  },
  {
   "cell_type": "code",
   "execution_count": 100,
   "metadata": {},
   "outputs": [
    {
     "data": {
      "text/plain": [
       "(1000, 2)"
      ]
     },
     "execution_count": 100,
     "metadata": {},
     "output_type": "execute_result"
    }
   ],
   "source": [
    "test_sample.shape"
   ]
  },
  {
   "cell_type": "code",
   "execution_count": 101,
   "metadata": {},
   "outputs": [
    {
     "name": "stdout",
     "output_type": "stream",
     "text": [
      "600\n"
     ]
    }
   ],
   "source": [
    "all_training_vectors = df_converter(training_df_mixed_vectorized)"
   ]
  },
  {
   "cell_type": "code",
   "execution_count": 102,
   "metadata": {},
   "outputs": [
    {
     "name": "stdout",
     "output_type": "stream",
     "text": [
      "600\n"
     ]
    }
   ],
   "source": [
    "all_test_vectors = df_converter(test_df_mixed_vectorized)"
   ]
  },
  {
   "cell_type": "code",
   "execution_count": 103,
   "metadata": {},
   "outputs": [],
   "source": [
    "new_y_training = training_df_mixed_vectorized['pair class']"
   ]
  },
  {
   "cell_type": "code",
   "execution_count": 104,
   "metadata": {},
   "outputs": [],
   "source": [
    "new_y_test = test_df_mixed_vectorized['pair class']"
   ]
  },
  {
   "cell_type": "markdown",
   "metadata": {},
   "source": [
    "# Sample for Parameter Finetuning"
   ]
  },
  {
   "cell_type": "code",
   "execution_count": 105,
   "metadata": {},
   "outputs": [],
   "source": [
    "sample_training_df = training_df_mixed_vectorized.sample(10000)"
   ]
  },
  {
   "cell_type": "code",
   "execution_count": 106,
   "metadata": {},
   "outputs": [
    {
     "data": {
      "text/html": [
       "<div>\n",
       "<style scoped>\n",
       "    .dataframe tbody tr th:only-of-type {\n",
       "        vertical-align: middle;\n",
       "    }\n",
       "\n",
       "    .dataframe tbody tr th {\n",
       "        vertical-align: top;\n",
       "    }\n",
       "\n",
       "    .dataframe thead th {\n",
       "        text-align: right;\n",
       "    }\n",
       "</style>\n",
       "<table border=\"1\" class=\"dataframe\">\n",
       "  <thead>\n",
       "    <tr style=\"text-align: right;\">\n",
       "      <th></th>\n",
       "      <th>text vectors</th>\n",
       "      <th>title vectors</th>\n",
       "      <th>pair class</th>\n",
       "    </tr>\n",
       "  </thead>\n",
       "  <tbody>\n",
       "    <tr>\n",
       "      <th>123733</th>\n",
       "      <td>[-0.013602399312096352, -0.0055048723827680335...</td>\n",
       "      <td>[-0.01959503928326024, -0.016215580556794063, ...</td>\n",
       "      <td>0</td>\n",
       "    </tr>\n",
       "    <tr>\n",
       "      <th>134813</th>\n",
       "      <td>[-0.001973661009058733, 0.11635021313813973, -...</td>\n",
       "      <td>[-0.0702424975738136, 0.05785772726890166, -0....</td>\n",
       "      <td>0</td>\n",
       "    </tr>\n",
       "    <tr>\n",
       "      <th>67695</th>\n",
       "      <td>[-0.04658829938102245, -0.029769276412652902, ...</td>\n",
       "      <td>[0.056951598033105996, -0.011048820936507591, ...</td>\n",
       "      <td>1</td>\n",
       "    </tr>\n",
       "    <tr>\n",
       "      <th>65348</th>\n",
       "      <td>[-0.04956321136175047, -0.03726876435152922, -...</td>\n",
       "      <td>[-0.02598522938787214, -0.10969580025408562, 0...</td>\n",
       "      <td>1</td>\n",
       "    </tr>\n",
       "    <tr>\n",
       "      <th>76211</th>\n",
       "      <td>[-0.10424137574895415, -0.011810597929236437, ...</td>\n",
       "      <td>[0.016664435532191196, -0.029009996506786328, ...</td>\n",
       "      <td>0</td>\n",
       "    </tr>\n",
       "  </tbody>\n",
       "</table>\n",
       "</div>"
      ],
      "text/plain": [
       "                                             text vectors  \\\n",
       "123733  [-0.013602399312096352, -0.0055048723827680335...   \n",
       "134813  [-0.001973661009058733, 0.11635021313813973, -...   \n",
       "67695   [-0.04658829938102245, -0.029769276412652902, ...   \n",
       "65348   [-0.04956321136175047, -0.03726876435152922, -...   \n",
       "76211   [-0.10424137574895415, -0.011810597929236437, ...   \n",
       "\n",
       "                                            title vectors  pair class  \n",
       "123733  [-0.01959503928326024, -0.016215580556794063, ...           0  \n",
       "134813  [-0.0702424975738136, 0.05785772726890166, -0....           0  \n",
       "67695   [0.056951598033105996, -0.011048820936507591, ...           1  \n",
       "65348   [-0.02598522938787214, -0.10969580025408562, 0...           1  \n",
       "76211   [0.016664435532191196, -0.029009996506786328, ...           0  "
      ]
     },
     "execution_count": 106,
     "metadata": {},
     "output_type": "execute_result"
    }
   ],
   "source": [
    "sample_training_df.head()"
   ]
  },
  {
   "cell_type": "code",
   "execution_count": 107,
   "metadata": {},
   "outputs": [],
   "source": [
    "from sklearn.decomposition import PCA\n",
    "\n",
    "pca = PCA(n_components = 150)\n",
    "X_train_pca = pca.fit_transform(all_training_vectors)"
   ]
  },
  {
   "cell_type": "code",
   "execution_count": 108,
   "metadata": {},
   "outputs": [
    {
     "name": "stdout",
     "output_type": "stream",
     "text": [
      "0.8767455024690076\n"
     ]
    }
   ],
   "source": [
    "print(sum(pca.explained_variance_ratio_))"
   ]
  },
  {
   "cell_type": "code",
   "execution_count": 109,
   "metadata": {},
   "outputs": [],
   "source": [
    "X_test_pca = pca.transform(all_test_vectors)"
   ]
  },
  {
   "cell_type": "code",
   "execution_count": 110,
   "metadata": {},
   "outputs": [
    {
     "data": {
      "text/plain": [
       "(58275, 150)"
      ]
     },
     "execution_count": 110,
     "metadata": {},
     "output_type": "execute_result"
    }
   ],
   "source": [
    "X_test_pca.shape"
   ]
  },
  {
   "cell_type": "markdown",
   "metadata": {},
   "source": [
    "# Finetuning Models"
   ]
  },
  {
   "cell_type": "code",
   "execution_count": 111,
   "metadata": {},
   "outputs": [
    {
     "name": "stdout",
     "output_type": "stream",
     "text": [
      "600\n"
     ]
    }
   ],
   "source": [
    "sample_training_arrays = df_converter(sample_training_df)"
   ]
  },
  {
   "cell_type": "code",
   "execution_count": 112,
   "metadata": {},
   "outputs": [],
   "source": [
    "sample_y = sample_training_df['pair class']"
   ]
  },
  {
   "cell_type": "code",
   "execution_count": 113,
   "metadata": {},
   "outputs": [],
   "source": [
    "pca_sample = PCA(n_components = 150)\n",
    "X_train_sample_pca = pca_sample.fit_transform(sample_training_arrays)"
   ]
  },
  {
   "cell_type": "code",
   "execution_count": 114,
   "metadata": {},
   "outputs": [
    {
     "data": {
      "text/plain": [
       "(10000, 150)"
      ]
     },
     "execution_count": 114,
     "metadata": {},
     "output_type": "execute_result"
    }
   ],
   "source": [
    "X_train_sample_pca.shape"
   ]
  },
  {
   "cell_type": "code",
   "execution_count": 115,
   "metadata": {},
   "outputs": [
    {
     "name": "stdout",
     "output_type": "stream",
     "text": [
      "0.8793949951051466\n"
     ]
    }
   ],
   "source": [
    "print(sum(pca_sample.explained_variance_ratio_))"
   ]
  },
  {
   "cell_type": "code",
   "execution_count": 116,
   "metadata": {},
   "outputs": [
    {
     "data": {
      "image/png": "[encoded data removed]",
      "text/plain": [
       "<Figure size 864x504 with 1 Axes>"
      ]
     },
     "metadata": {
      "needs_background": "light"
     },
     "output_type": "display_data"
    }
   ],
   "source": [
    "plt.figure(figsize=(12, 7))\n",
    "plt.title('First Two PCA Components')\n",
    "sns.scatterplot(X_train_sample_pca[:, 0], X_train_sample_pca[:, 1])\n",
    "plt.xlabel('First PCA Component')\n",
    "plt.ylabel('Second PCA Componenet')\n",
    "\n",
    "plt.show()"
   ]
  },
  {
   "cell_type": "code",
   "execution_count": 117,
   "metadata": {},
   "outputs": [
    {
     "name": "stdout",
     "output_type": "stream",
     "text": [
      "Fitting 3 folds for each of 12 candidates, totalling 36 fits\n"
     ]
    },
    {
     "name": "stderr",
     "output_type": "stream",
     "text": [
      "[Parallel(n_jobs=1)]: Done  36 out of  36 | elapsed:    2.1s finished\n"
     ]
    },
    {
     "data": {
      "text/plain": [
       "GridSearchCV(cv=3, error_score='raise',\n",
       "       estimator=LogisticRegression(C=1.0, class_weight=None, dual=False, fit_intercept=True,\n",
       "          intercept_scaling=1, max_iter=100, multi_class='ovr', n_jobs=1,\n",
       "          penalty='l2', random_state=None, solver='liblinear', tol=0.0001,\n",
       "          verbose=0, warm_start=False),\n",
       "       fit_params=None, iid=True, n_jobs=1,\n",
       "       param_grid=[{'C': [1e-20, 0.001, 0.001, 10, 100.0, 1000.0], 'penalty': ['l1', 'l2']}],\n",
       "       pre_dispatch='2*n_jobs', refit=True, return_train_score='warn',\n",
       "       scoring='accuracy', verbose=1)"
      ]
     },
     "execution_count": 117,
     "metadata": {},
     "output_type": "execute_result"
    }
   ],
   "source": [
    "from sklearn.linear_model import LogisticRegression\n",
    "\n",
    "param_grid = [\n",
    "    {'C': [1e-20, 1e-3,1e-3,  10, 1e2, 1e3],\n",
    "    'penalty': ['l1', 'l2']}\n",
    "]\n",
    "lr = LogisticRegression()\n",
    "\n",
    "grid_search = GridSearchCV(lr, param_grid, cv =3,\n",
    "                          scoring= 'accuracy', verbose=1)\n",
    "\n",
    "grid_search.fit(X_train_sample_pca, sample_y)"
   ]
  },
  {
   "cell_type": "code",
   "execution_count": 118,
   "metadata": {},
   "outputs": [
    {
     "name": "stdout",
     "output_type": "stream",
     "text": [
      "Best score 0.5167\n",
      "Best parameters {'C': 10, 'penalty': 'l1'}\n"
     ]
    }
   ],
   "source": [
    "print('Best score', grid_search.best_score_)\n",
    "print('Best parameters', grid_search.best_params_)"
   ]
  },
  {
   "cell_type": "code",
   "execution_count": 119,
   "metadata": {},
   "outputs": [
    {
     "data": {
      "text/plain": [
       "GridSearchCV(cv=3, error_score='raise',\n",
       "       estimator=RandomForestClassifier(bootstrap=True, class_weight=None, criterion='gini',\n",
       "            max_depth=None, max_features='auto', max_leaf_nodes=None,\n",
       "            min_impurity_decrease=0.0, min_impurity_split=None,\n",
       "            min_samples_leaf=1, min_samples_split=2,\n",
       "            min_weight_fraction_leaf=0.0, n_estimators=10, n_jobs=-1,\n",
       "            oob_score=False, random_state=None, verbose=0,\n",
       "            warm_start=False),\n",
       "       fit_params=None, iid=True, n_jobs=-1,\n",
       "       param_grid=[{'n_estimators': [100, 500, 700], 'max_depth': [5, 8, 12, 20, 30]}],\n",
       "       pre_dispatch='2*n_jobs', refit=True, return_train_score='warn',\n",
       "       scoring='accuracy', verbose=0)"
      ]
     },
     "execution_count": 119,
     "metadata": {},
     "output_type": "execute_result"
    }
   ],
   "source": [
    "param_grid_rfc = [\n",
    "    {'n_estimators': [100, 500, 700],\n",
    "    'max_depth': [5, 8, 12, 20, 30]}\n",
    "]\n",
    "rfc = RandomForestClassifier(n_jobs = -1)\n",
    "\n",
    "grid_search_rfc = GridSearchCV(rfc, param_grid_rfc, cv =3,\n",
    "                          scoring= 'accuracy', verbose=0,\n",
    "                          n_jobs = -1)\n",
    "\n",
    "grid_search_rfc.fit(X_train_sample_pca, sample_y)"
   ]
  },
  {
   "cell_type": "code",
   "execution_count": 120,
   "metadata": {},
   "outputs": [
    {
     "name": "stdout",
     "output_type": "stream",
     "text": [
      "Best score 0.8822\n",
      "Best parameters {'max_depth': 30, 'n_estimators': 700}\n"
     ]
    }
   ],
   "source": [
    "print('Best score', grid_search_rfc.best_score_)\n",
    "print('Best parameters', grid_search_rfc.best_params_)"
   ]
  },
  {
   "cell_type": "code",
   "execution_count": 121,
   "metadata": {},
   "outputs": [
    {
     "data": {
      "text/plain": [
       "GridSearchCV(cv=3, error_score='raise',\n",
       "       estimator=RandomForestClassifier(bootstrap=True, class_weight=None, criterion='gini',\n",
       "            max_depth=None, max_features='auto', max_leaf_nodes=None,\n",
       "            min_impurity_decrease=0.0, min_impurity_split=None,\n",
       "            min_samples_leaf=1, min_samples_split=2,\n",
       "            min_weight_fraction_leaf=0.0, n_estimators=10, n_jobs=-1,\n",
       "            oob_score=False, random_state=None, verbose=0,\n",
       "            warm_start=False),\n",
       "       fit_params=None, iid=True, n_jobs=-1,\n",
       "       param_grid=[{'n_estimators': [1000, 1200], 'max_depth': [40, 50]}],\n",
       "       pre_dispatch='2*n_jobs', refit=True, return_train_score='warn',\n",
       "       scoring='accuracy', verbose=0)"
      ]
     },
     "execution_count": 121,
     "metadata": {},
     "output_type": "execute_result"
    }
   ],
   "source": [
    "param_grid_rfc = [\n",
    "    {'n_estimators': [1000, 1200],\n",
    "    'max_depth': [40, 50]}\n",
    "]\n",
    "rfc_one = RandomForestClassifier(n_jobs = -1)\n",
    "\n",
    "grid_search_rfc_one = GridSearchCV(rfc, param_grid_rfc, cv =3,\n",
    "                          scoring= 'accuracy', verbose=0,\n",
    "                          n_jobs = -1)\n",
    "\n",
    "grid_search_rfc_one.fit(X_train_sample_pca, sample_y)"
   ]
  },
  {
   "cell_type": "code",
   "execution_count": 122,
   "metadata": {},
   "outputs": [
    {
     "name": "stdout",
     "output_type": "stream",
     "text": [
      "Best score 0.8853\n",
      "Best parameters {'max_depth': 50, 'n_estimators': 1000}\n"
     ]
    }
   ],
   "source": [
    "print('Best score', grid_search_rfc_one.best_score_)\n",
    "print('Best parameters', grid_search_rfc_one.best_params_)"
   ]
  },
  {
   "cell_type": "code",
   "execution_count": 123,
   "metadata": {},
   "outputs": [
    {
     "data": {
      "text/plain": [
       "GridSearchCV(cv=3, error_score='raise',\n",
       "       estimator=XGBClassifier(base_score=0.5, booster='gbtree', colsample_bylevel=1,\n",
       "       colsample_bytree=1, gamma=0, learning_rate=0.1, max_delta_step=0,\n",
       "       max_depth=3, min_child_weight=1, missing=None, n_estimators=100,\n",
       "       n_jobs=-1, nthread=None, objective='binary:logistic',\n",
       "       random_state=0, reg_alpha=0, reg_lambda=1, scale_pos_weight=1,\n",
       "       seed=None, silent=True, subsample=1),\n",
       "       fit_params=None, iid=True, n_jobs=-1,\n",
       "       param_grid=[{'n_estimators': [100, 500, 700], 'max_depth': [2, 4, 6, 8]}],\n",
       "       pre_dispatch='2*n_jobs', refit=True, return_train_score='warn',\n",
       "       scoring='accuracy', verbose=0)"
      ]
     },
     "execution_count": 123,
     "metadata": {},
     "output_type": "execute_result"
    }
   ],
   "source": [
    "from xgboost import XGBClassifier\n",
    "\n",
    "param_grid_xgb = [\n",
    "    {'n_estimators': [100, 500, 700],\n",
    "    'max_depth': [2, 4, 6, 8],\n",
    "    #'learning_rate': [1e-3, 0.5, 0.1],\n",
    "    }\n",
    "]\n",
    "xgb = XGBClassifier(n_jobs = -1)\n",
    "\n",
    "grid_search_xgb = GridSearchCV(xgb, param_grid_xgb, cv =3,\n",
    "                          scoring= 'accuracy', verbose=0,\n",
    "                          n_jobs = -1)\n",
    "\n",
    "grid_search_xgb.fit(X_train_sample_pca, sample_y)"
   ]
  },
  {
   "cell_type": "code",
   "execution_count": 124,
   "metadata": {},
   "outputs": [
    {
     "name": "stdout",
     "output_type": "stream",
     "text": [
      "Best score 0.9254\n",
      "Best parameters {'max_depth': 8, 'n_estimators': 700}\n"
     ]
    }
   ],
   "source": [
    "print('Best score', grid_search_xgb.best_score_)\n",
    "print('Best parameters', grid_search_xgb.best_params_)"
   ]
  },
  {
   "cell_type": "code",
   "execution_count": 126,
   "metadata": {},
   "outputs": [
    {
     "data": {
      "text/plain": [
       "GridSearchCV(cv=3, error_score='raise',\n",
       "       estimator=XGBClassifier(base_score=0.5, booster='gbtree', colsample_bylevel=1,\n",
       "       colsample_bytree=1, gamma=0, learning_rate=0.1, max_delta_step=0,\n",
       "       max_depth=8, min_child_weight=1, missing=None, n_estimators=100,\n",
       "       n_jobs=-1, nthread=None, objective='binary:logistic',\n",
       "       random_state=0, reg_alpha=0, reg_lambda=1, scale_pos_weight=1,\n",
       "       seed=None, silent=True, subsample=1),\n",
       "       fit_params=None, iid=True, n_jobs=-1,\n",
       "       param_grid=[{'n_estimators': [700, 1000], 'learning_rate': [0.001, 0.5, 0.1]}],\n",
       "       pre_dispatch='2*n_jobs', refit=True, return_train_score='warn',\n",
       "       scoring='accuracy', verbose=0)"
      ]
     },
     "execution_count": 126,
     "metadata": {},
     "output_type": "execute_result"
    }
   ],
   "source": [
    "param_grid_xgb_one = [\n",
    "    {'n_estimators': [700, 1000],\n",
    "    'learning_rate': [1e-3, 0.5, 0.1],\n",
    "    }\n",
    "]\n",
    "xgb = XGBClassifier(n_jobs = -1, max_depth= 8)\n",
    "\n",
    "grid_search_xgb_one = GridSearchCV(xgb, param_grid_xgb_one, cv =3,\n",
    "                          scoring= 'accuracy', verbose=0,\n",
    "                          n_jobs = -1)\n",
    "\n",
    "grid_search_xgb_one.fit(X_train_sample_pca, sample_y)"
   ]
  },
  {
   "cell_type": "code",
   "execution_count": 127,
   "metadata": {},
   "outputs": [
    {
     "name": "stdout",
     "output_type": "stream",
     "text": [
      "Best score 0.9254\n",
      "Best parameters {'learning_rate': 0.1, 'n_estimators': 700}\n"
     ]
    }
   ],
   "source": [
    "print('Best score', grid_search_xgb_one.best_score_)\n",
    "print('Best parameters', grid_search_xgb_one.best_params_)"
   ]
  },
  {
   "cell_type": "code",
   "execution_count": 128,
   "metadata": {},
   "outputs": [
    {
     "data": {
      "text/plain": [
       "GridSearchCV(cv=3, error_score='raise',\n",
       "       estimator=XGBClassifier(base_score=0.5, booster='gbtree', colsample_bylevel=1,\n",
       "       colsample_bytree=1, gamma=0, learning_rate=0.1, max_delta_step=0,\n",
       "       max_depth=8, min_child_weight=1, missing=None, n_estimators=700,\n",
       "       n_jobs=-1, nthread=None, objective='binary:logistic',\n",
       "       random_state=0, reg_alpha=0, reg_lambda=1, scale_pos_weight=1,\n",
       "       seed=None, silent=True, subsample=1),\n",
       "       fit_params=None, iid=True, n_jobs=-1,\n",
       "       param_grid=[{'subsample': [0.25, 0.5, 1]}], pre_dispatch='2*n_jobs',\n",
       "       refit=True, return_train_score='warn', scoring='accuracy',\n",
       "       verbose=0)"
      ]
     },
     "execution_count": 128,
     "metadata": {},
     "output_type": "execute_result"
    }
   ],
   "source": [
    "param_grid_xgb_two = [\n",
    "    {'subsample': [0.25, 0.5, 1],\n",
    "    }\n",
    "]\n",
    "xgb = XGBClassifier(n_jobs = -1, max_depth= 8, n_estimators=700, learning_rate=0.1, )\n",
    "\n",
    "grid_search_xgb_two = GridSearchCV(xgb, param_grid_xgb_two, cv =3,\n",
    "                          scoring= 'accuracy', verbose=0,\n",
    "                          n_jobs = -1)\n",
    "\n",
    "grid_search_xgb_two.fit(X_train_sample_pca, sample_y)"
   ]
  },
  {
   "cell_type": "code",
   "execution_count": 129,
   "metadata": {},
   "outputs": [
    {
     "name": "stdout",
     "output_type": "stream",
     "text": [
      "Best score 0.9271\n",
      "Best parameters {'subsample': 0.5}\n"
     ]
    }
   ],
   "source": [
    "print('Best score', grid_search_xgb_two.best_score_)\n",
    "print('Best parameters', grid_search_xgb_two.best_params_)"
   ]
  },
  {
   "cell_type": "markdown",
   "metadata": {},
   "source": [
    "# Test Set"
   ]
  },
  {
   "cell_type": "code",
   "execution_count": 130,
   "metadata": {},
   "outputs": [
    {
     "name": "stdout",
     "output_type": "stream",
     "text": [
      "0.4978120978120978\n"
     ]
    }
   ],
   "source": [
    "from sklearn.metrics import f1_score, confusion_matrix, precision_score, recall_score\n",
    "lr_test = LogisticRegression(C= 10, penalty= 'l1')\n",
    "\n",
    "lr_test.fit(X_train_pca, new_y_training)\n",
    "\n",
    "print(lr_test.score(X_test_pca, new_y_test))"
   ]
  },
  {
   "cell_type": "code",
   "execution_count": 131,
   "metadata": {},
   "outputs": [
    {
     "name": "stdout",
     "output_type": "stream",
     "text": [
      "0.9367824967824968\n"
     ]
    }
   ],
   "source": [
    "rfc_test = RandomForestClassifier(n_jobs = -1, \n",
    "                            n_estimators = 1000,\n",
    "                            max_depth = 50)\n",
    "\n",
    "rfc_test.fit(X_train_pca, new_y_training)\n",
    "\n",
    "print(rfc_test.score(X_test_pca, new_y_test))"
   ]
  },
  {
   "cell_type": "code",
   "execution_count": 266,
   "metadata": {},
   "outputs": [
    {
     "name": "stdout",
     "output_type": "stream",
     "text": [
      "[[27838  1286]\n",
      " [ 2398 26753]]\n"
     ]
    }
   ],
   "source": [
    "rfc_pred = rfc_test.predict(X_test_pca)\n",
    "print(confusion_matrix(new_y_test, rfc_pred ))"
   ]
  },
  {
   "cell_type": "code",
   "execution_count": 267,
   "metadata": {},
   "outputs": [
    {
     "name": "stdout",
     "output_type": "stream",
     "text": [
      "0.9355831439062774\n"
     ]
    }
   ],
   "source": [
    "print(f1_score(new_y_test, rfc_pred ))"
   ]
  },
  {
   "cell_type": "code",
   "execution_count": 268,
   "metadata": {},
   "outputs": [
    {
     "name": "stdout",
     "output_type": "stream",
     "text": [
      "0.9177386710575967\n"
     ]
    }
   ],
   "source": [
    "print(recall_score(new_y_test, rfc_pred ))"
   ]
  },
  {
   "cell_type": "code",
   "execution_count": 269,
   "metadata": {},
   "outputs": [
    {
     "name": "stdout",
     "output_type": "stream",
     "text": [
      "0.9541353115303685\n"
     ]
    }
   ],
   "source": [
    "print(precision_score(new_y_test, rfc_pred ))"
   ]
  },
  {
   "cell_type": "code",
   "execution_count": 132,
   "metadata": {},
   "outputs": [
    {
     "name": "stdout",
     "output_type": "stream",
     "text": [
      "0.9616816816816817\n"
     ]
    }
   ],
   "source": [
    "xgb_test = XGBClassifier(n_estimators = 700,\n",
    "                        max_depth = 6,\n",
    "                        learning_rate= 0.1,\n",
    "                        subsample = 0.5)\n",
    "\n",
    "xgb_test.fit(X_train_pca, new_y_training)\n",
    "\n",
    "print(xgb_test.score(X_test_pca, new_y_test))"
   ]
  },
  {
   "cell_type": "code",
   "execution_count": 133,
   "metadata": {},
   "outputs": [
    {
     "name": "stdout",
     "output_type": "stream",
     "text": [
      "0.9616816816816817\n"
     ]
    }
   ],
   "source": [
    "print(xgb_test.score(X_test_pca, new_y_test))"
   ]
  },
  {
   "cell_type": "code",
   "execution_count": 134,
   "metadata": {},
   "outputs": [
    {
     "data": {
      "text/plain": [
       "58275"
      ]
     },
     "execution_count": 134,
     "metadata": {},
     "output_type": "execute_result"
    }
   ],
   "source": [
    "len(X_test_pca)"
   ]
  },
  {
   "cell_type": "code",
   "execution_count": 135,
   "metadata": {},
   "outputs": [
    {
     "data": {
      "text/plain": [
       "58746"
      ]
     },
     "execution_count": 135,
     "metadata": {},
     "output_type": "execute_result"
    }
   ],
   "source": [
    "len(test_df_mixed['text vectors'])"
   ]
  },
  {
   "cell_type": "code",
   "execution_count": 136,
   "metadata": {},
   "outputs": [],
   "source": [
    "predictions = pd.DataFrame(test_df_mixed['text vectors'].iloc[:200])\n",
    "predictions['title vectors'] = test_df_mixed['title vectors'].iloc[:200]\n",
    "predictions['pair class'] = test_df_mixed['pair class'].iloc[:200]\n",
    "predictions['predicted class'] = xgb_test.predict_proba(X_test_pca[:200])[:, 1]"
   ]
  },
  {
   "cell_type": "code",
   "execution_count": 137,
   "metadata": {},
   "outputs": [
    {
     "data": {
      "text/plain": [
       "array([0.986152], dtype=float32)"
      ]
     },
     "execution_count": 137,
     "metadata": {},
     "output_type": "execute_result"
    }
   ],
   "source": [
    "xgb_test.predict_proba(X_test_pca[0].reshape(1, -1))[:, 1]"
   ]
  },
  {
   "cell_type": "code",
   "execution_count": 138,
   "metadata": {},
   "outputs": [
    {
     "data": {
      "text/html": [
       "<div>\n",
       "<style scoped>\n",
       "    .dataframe tbody tr th:only-of-type {\n",
       "        vertical-align: middle;\n",
       "    }\n",
       "\n",
       "    .dataframe tbody tr th {\n",
       "        vertical-align: top;\n",
       "    }\n",
       "\n",
       "    .dataframe thead th {\n",
       "        text-align: right;\n",
       "    }\n",
       "</style>\n",
       "<table border=\"1\" class=\"dataframe\">\n",
       "  <thead>\n",
       "    <tr style=\"text-align: right;\">\n",
       "      <th></th>\n",
       "      <th>text vectors</th>\n",
       "      <th>title vectors</th>\n",
       "      <th>pair class</th>\n",
       "      <th>predicted class</th>\n",
       "    </tr>\n",
       "  </thead>\n",
       "  <tbody>\n",
       "    <tr>\n",
       "      <th>0</th>\n",
       "      <td>[электрочайник, Zigmund, Shtain, KE, 81, SD, 1...</td>\n",
       "      <td>[KE, 81, SD, 119, 00, р]</td>\n",
       "      <td>1</td>\n",
       "      <td>0.986152</td>\n",
       "    </tr>\n",
       "    <tr>\n",
       "      <th>1</th>\n",
       "      <td>[сабвуфер, огромный, ассортимент, бесплатный, ...</td>\n",
       "      <td>[сабвуфер, купить, в, красноярск]</td>\n",
       "      <td>1</td>\n",
       "      <td>0.996636</td>\n",
       "    </tr>\n",
       "    <tr>\n",
       "      <th>2</th>\n",
       "      <td>[Onkyo, Tx, nr545, Black, в, наличие, быстрый,...</td>\n",
       "      <td>[Onkyo, Tx, nr545, Black, всего, 42390р]</td>\n",
       "      <td>1</td>\n",
       "      <td>0.984310</td>\n",
       "    </tr>\n",
       "    <tr>\n",
       "      <th>3</th>\n",
       "      <td>[шаблон, ордер, входить, в, состав, сборник, 1...</td>\n",
       "      <td>[шаблон, ордер]</td>\n",
       "      <td>1</td>\n",
       "      <td>0.990837</td>\n",
       "    </tr>\n",
       "    <tr>\n",
       "      <th>4</th>\n",
       "      <td>[шпаклевка, финишный, белый, сравнивать, цена,...</td>\n",
       "      <td>[шпаклевка, финишный, белый]</td>\n",
       "      <td>1</td>\n",
       "      <td>0.764447</td>\n",
       "    </tr>\n",
       "    <tr>\n",
       "      <th>5</th>\n",
       "      <td>[акция, аккумулятор, на, Toyota, Corolla, розн...</td>\n",
       "      <td>[аккумулятор, на, Toyota, Corolla]</td>\n",
       "      <td>1</td>\n",
       "      <td>0.994654</td>\n",
       "    </tr>\n",
       "    <tr>\n",
       "      <th>6</th>\n",
       "      <td>[пила, торцовочный, только, сегодня, за, 6499,...</td>\n",
       "      <td>[пила, торцовочный, Hammer]</td>\n",
       "      <td>1</td>\n",
       "      <td>0.982314</td>\n",
       "    </tr>\n",
       "    <tr>\n",
       "      <th>7</th>\n",
       "      <td>[по, низкий, цена, шуруповерт, макит, в, спб, ...</td>\n",
       "      <td>[купить, шуруповерт, макит, в, спб]</td>\n",
       "      <td>1</td>\n",
       "      <td>0.990650</td>\n",
       "    </tr>\n",
       "    <tr>\n",
       "      <th>8</th>\n",
       "      <td>[купить, Makita, уровень, Makita, Skr200z, 174...</td>\n",
       "      <td>[уровень, Makita, Skr200z, 174614]</td>\n",
       "      <td>1</td>\n",
       "      <td>0.997554</td>\n",
       "    </tr>\n",
       "    <tr>\n",
       "      <th>9</th>\n",
       "      <td>[дезодорант, регулир, потоотделение, сравниват...</td>\n",
       "      <td>[дезодорант, регулир, потоотделение]</td>\n",
       "      <td>1</td>\n",
       "      <td>0.980606</td>\n",
       "    </tr>\n",
       "    <tr>\n",
       "      <th>10</th>\n",
       "      <td>[удлинитель, 10, м, сравнивать, цена, весь, ин...</td>\n",
       "      <td>[удлинитель, 10, м]</td>\n",
       "      <td>1</td>\n",
       "      <td>0.862464</td>\n",
       "    </tr>\n",
       "    <tr>\n",
       "      <th>11</th>\n",
       "      <td>[замена, ГРМ, с5, в, день, обращение, от, 2500...</td>\n",
       "      <td>[замена, ГРМ, с5]</td>\n",
       "      <td>1</td>\n",
       "      <td>0.992511</td>\n",
       "    </tr>\n",
       "    <tr>\n",
       "      <th>12</th>\n",
       "      <td>[простой, способ, изучение, офисный, программа...</td>\n",
       "      <td>[Excel, для, начинающий]</td>\n",
       "      <td>1</td>\n",
       "      <td>0.993477</td>\n",
       "    </tr>\n",
       "    <tr>\n",
       "      <th>13</th>\n",
       "      <td>[купить, Supra, автомагнитола, USB, SD, Supra,...</td>\n",
       "      <td>[USB, SD, Supra, SFD, 121USC, недорого]</td>\n",
       "      <td>1</td>\n",
       "      <td>0.993630</td>\n",
       "    </tr>\n",
       "    <tr>\n",
       "      <th>14</th>\n",
       "      <td>[телевизор, LG, 49UH750V, 2183, 90, р, гаранти...</td>\n",
       "      <td>[LG, 49UH750V, 2183, 90, руб]</td>\n",
       "      <td>1</td>\n",
       "      <td>0.990935</td>\n",
       "    </tr>\n",
       "    <tr>\n",
       "      <th>15</th>\n",
       "      <td>[ZyXEL, Keenetic, 4G, III, сравнивать, цена, в...</td>\n",
       "      <td>[ZyXEL, Keenetic, 4G, III]</td>\n",
       "      <td>1</td>\n",
       "      <td>0.989028</td>\n",
       "    </tr>\n",
       "    <tr>\n",
       "      <th>16</th>\n",
       "      <td>[купить, ASUS, ноутбук, ASUS, ROG, G771JW, 17,...</td>\n",
       "      <td>[ASUS, ROG, G771JW, 17, 3, 1920x1080, In]</td>\n",
       "      <td>1</td>\n",
       "      <td>0.969344</td>\n",
       "    </tr>\n",
       "    <tr>\n",
       "      <th>17</th>\n",
       "      <td>[санки, скандинавия, сравнивать, цена, весь, и...</td>\n",
       "      <td>[санки, скандинавия]</td>\n",
       "      <td>1</td>\n",
       "      <td>0.981532</td>\n",
       "    </tr>\n",
       "    <tr>\n",
       "      <th>18</th>\n",
       "      <td>[инвертор, сварочный, ударник, уис, 180, 189, ...</td>\n",
       "      <td>[ударник, уис, 180, 189, 90, руб]</td>\n",
       "      <td>1</td>\n",
       "      <td>0.979288</td>\n",
       "    </tr>\n",
       "    <tr>\n",
       "      <th>19</th>\n",
       "      <td>[купить, Hammer, торцовочный, пила, Hammer, St...</td>\n",
       "      <td>[торцовочный, пила, Hammer, Stl1800b]</td>\n",
       "      <td>1</td>\n",
       "      <td>0.997941</td>\n",
       "    </tr>\n",
       "    <tr>\n",
       "      <th>20</th>\n",
       "      <td>[шкаф, рим, 150, от, производитель, в, краснод...</td>\n",
       "      <td>[шкаф, рим, 150]</td>\n",
       "      <td>1</td>\n",
       "      <td>0.936201</td>\n",
       "    </tr>\n",
       "    <tr>\n",
       "      <th>21</th>\n",
       "      <td>[ноутбук, Lenovo, IdeaPad, G50, 45, 854, 32, р...</td>\n",
       "      <td>[Lenovo, IdeaPad, G50, 45, 854, 32, р]</td>\n",
       "      <td>1</td>\n",
       "      <td>0.986917</td>\n",
       "    </tr>\n",
       "    <tr>\n",
       "      <th>22</th>\n",
       "      <td>[дешевый, фасадный, панель, низкий, цена, прям...</td>\n",
       "      <td>[дешевый, фасадный, панель, скидка]</td>\n",
       "      <td>1</td>\n",
       "      <td>0.987303</td>\n",
       "    </tr>\n",
       "    <tr>\n",
       "      <th>23</th>\n",
       "      <td>[курсы, 1С, зарплата, и, кадр, в, красноярск, ...</td>\n",
       "      <td>[курсы, по, программа, 1С, зарплата]</td>\n",
       "      <td>1</td>\n",
       "      <td>0.998327</td>\n",
       "    </tr>\n",
       "    <tr>\n",
       "      <th>24</th>\n",
       "      <td>[цена, весь, 1727, руб, купить, реле, напряжен...</td>\n",
       "      <td>[реле, напряжение, Digitop, Vp, 16a]</td>\n",
       "      <td>1</td>\n",
       "      <td>0.993563</td>\n",
       "    </tr>\n",
       "    <tr>\n",
       "      <th>25</th>\n",
       "      <td>[kil82af30r, от, 1612, 00, доставка]</td>\n",
       "      <td>[kil82af30r]</td>\n",
       "      <td>1</td>\n",
       "      <td>0.986564</td>\n",
       "    </tr>\n",
       "    <tr>\n",
       "      <th>26</th>\n",
       "      <td>[транспорт, быть, тут, перевозка, груз, уфа, р...</td>\n",
       "      <td>[перевозка, груз, уфа]</td>\n",
       "      <td>1</td>\n",
       "      <td>0.997609</td>\n",
       "    </tr>\n",
       "    <tr>\n",
       "      <th>27</th>\n",
       "      <td>[телевизор, Mystery, MTV, 3230LT2, 441, 45, р,...</td>\n",
       "      <td>[Mystery, MTV, 3230LT2, 441, 45, руб]</td>\n",
       "      <td>1</td>\n",
       "      <td>0.988245</td>\n",
       "    </tr>\n",
       "    <tr>\n",
       "      <th>28</th>\n",
       "      <td>[кулер, HotFrost, сравнивать, цена, весь, инте...</td>\n",
       "      <td>[кулер, HotFrost]</td>\n",
       "      <td>1</td>\n",
       "      <td>0.963589</td>\n",
       "    </tr>\n",
       "    <tr>\n",
       "      <th>29</th>\n",
       "      <td>[выпрямитель, для, волос, Bosch, PHS5947, 125,...</td>\n",
       "      <td>[Bosch, PHS5947, 125, 61, руб]</td>\n",
       "      <td>1</td>\n",
       "      <td>0.985127</td>\n",
       "    </tr>\n",
       "    <tr>\n",
       "      <th>30</th>\n",
       "      <td>[уличный, настенный, светильник, в, наличие, о...</td>\n",
       "      <td>[настенный, светильник, от, 1000р]</td>\n",
       "      <td>1</td>\n",
       "      <td>0.993706</td>\n",
       "    </tr>\n",
       "    <tr>\n",
       "      <th>31</th>\n",
       "      <td>[нужный, корпус, для, мп26б, 3D, печать, на, з...</td>\n",
       "      <td>[3D, печать, корпус, для, мп26б]</td>\n",
       "      <td>1</td>\n",
       "      <td>0.997352</td>\n",
       "    </tr>\n",
       "    <tr>\n",
       "      <th>32</th>\n",
       "      <td>[купить, Intel, модуль, управление, Intel, Ori...</td>\n",
       "      <td>[Intel, Original, RS2BL080, PCI, E, x8]</td>\n",
       "      <td>1</td>\n",
       "      <td>0.999096</td>\n",
       "    </tr>\n",
       "    <tr>\n",
       "      <th>33</th>\n",
       "      <td>[смеситель, BLANCO, ELOSCOPE, F, II, официальн...</td>\n",
       "      <td>[смеситель, BLANCO, ELOSCOPE, F, II]</td>\n",
       "      <td>1</td>\n",
       "      <td>0.996314</td>\n",
       "    </tr>\n",
       "    <tr>\n",
       "      <th>34</th>\n",
       "      <td>[кухня, из, ЛДСП, сравнивать, цена, весь, инте...</td>\n",
       "      <td>[кухня, из, ЛДСП]</td>\n",
       "      <td>1</td>\n",
       "      <td>0.998302</td>\n",
       "    </tr>\n",
       "    <tr>\n",
       "      <th>35</th>\n",
       "      <td>[перевозить, груз, грузоперевозка, баймак, реш...</td>\n",
       "      <td>[грузоперевозка, баймак]</td>\n",
       "      <td>1</td>\n",
       "      <td>0.953983</td>\n",
       "    </tr>\n",
       "    <tr>\n",
       "      <th>36</th>\n",
       "      <td>[смартфон, Highscreen, Easy, F, 157, 66, р, га...</td>\n",
       "      <td>[Highscreen, Easy, F, 157, 66, р]</td>\n",
       "      <td>1</td>\n",
       "      <td>0.989421</td>\n",
       "    </tr>\n",
       "    <tr>\n",
       "      <th>37</th>\n",
       "      <td>[HP, Pavilion, 17, g152ur, за, 34680р, в, инте...</td>\n",
       "      <td>[HP, Pavilion, 17, g152ur, за, 34680, р]</td>\n",
       "      <td>1</td>\n",
       "      <td>0.996602</td>\n",
       "    </tr>\n",
       "    <tr>\n",
       "      <th>38</th>\n",
       "      <td>[семя, портулак, сравнивать, цена, весь, интер...</td>\n",
       "      <td>[семя, портулак]</td>\n",
       "      <td>1</td>\n",
       "      <td>0.802575</td>\n",
       "    </tr>\n",
       "    <tr>\n",
       "      <th>39</th>\n",
       "      <td>[зубило, пикообразный, сравнивать, цена, весь,...</td>\n",
       "      <td>[зубило, пикообразный]</td>\n",
       "      <td>1</td>\n",
       "      <td>0.966660</td>\n",
       "    </tr>\n",
       "    <tr>\n",
       "      <th>40</th>\n",
       "      <td>[перевозить, груз, грузоперевозка, липецк, реш...</td>\n",
       "      <td>[грузоперевозка, липецк]</td>\n",
       "      <td>1</td>\n",
       "      <td>0.999246</td>\n",
       "    </tr>\n",
       "    <tr>\n",
       "      <th>41</th>\n",
       "      <td>[недвижимость, в, испания, от, застройщик, мно...</td>\n",
       "      <td>[недвижимость, в, испания]</td>\n",
       "      <td>1</td>\n",
       "      <td>0.998938</td>\n",
       "    </tr>\n",
       "    <tr>\n",
       "      <th>42</th>\n",
       "      <td>[здесь, низкий, цена, капот, RENAULT, SCENIC, ...</td>\n",
       "      <td>[капот, RENAULT, SCENIC]</td>\n",
       "      <td>1</td>\n",
       "      <td>0.953232</td>\n",
       "    </tr>\n",
       "    <tr>\n",
       "      <th>43</th>\n",
       "      <td>[по, низкий, цена, мини, болгарка, в, москва, ...</td>\n",
       "      <td>[купить, мини, болгарка, в, москва, тут]</td>\n",
       "      <td>1</td>\n",
       "      <td>0.980844</td>\n",
       "    </tr>\n",
       "    <tr>\n",
       "      <th>44</th>\n",
       "      <td>[здесь, кабельный, канал, пвх, от, 10, завод, ...</td>\n",
       "      <td>[кабель, –, канал, пвх]</td>\n",
       "      <td>1</td>\n",
       "      <td>0.967315</td>\n",
       "    </tr>\n",
       "    <tr>\n",
       "      <th>45</th>\n",
       "      <td>[цена, 6, 390, р, купить, дисковый, мини, пить...</td>\n",
       "      <td>[Einhell, Bt, cs, 860, kit, в, наличие]</td>\n",
       "      <td>1</td>\n",
       "      <td>0.977122</td>\n",
       "    </tr>\n",
       "    <tr>\n",
       "      <th>46</th>\n",
       "      <td>[со, скидка, 70, %, спортивный, блютуз, наушни...</td>\n",
       "      <td>[спортивный, блютуз, наушники]</td>\n",
       "      <td>1</td>\n",
       "      <td>0.997840</td>\n",
       "    </tr>\n",
       "    <tr>\n",
       "      <th>47</th>\n",
       "      <td>[изготовление, и, монтаж, пожарный, лестница, ...</td>\n",
       "      <td>[изготовление, пожарный, лестница]</td>\n",
       "      <td>1</td>\n",
       "      <td>0.884546</td>\n",
       "    </tr>\n",
       "    <tr>\n",
       "      <th>48</th>\n",
       "      <td>[топ, котел, сравнивать, цена, весь, интернет,...</td>\n",
       "      <td>[топ, котел]</td>\n",
       "      <td>1</td>\n",
       "      <td>0.996728</td>\n",
       "    </tr>\n",
       "    <tr>\n",
       "      <th>49</th>\n",
       "      <td>[анкерный, зажим, цена, вечный, недорогой, про...</td>\n",
       "      <td>[анкерный, зажим, цена]</td>\n",
       "      <td>1</td>\n",
       "      <td>0.993381</td>\n",
       "    </tr>\n",
       "  </tbody>\n",
       "</table>\n",
       "</div>"
      ],
      "text/plain": [
       "                                         text vectors  \\\n",
       "0   [электрочайник, Zigmund, Shtain, KE, 81, SD, 1...   \n",
       "1   [сабвуфер, огромный, ассортимент, бесплатный, ...   \n",
       "2   [Onkyo, Tx, nr545, Black, в, наличие, быстрый,...   \n",
       "3   [шаблон, ордер, входить, в, состав, сборник, 1...   \n",
       "4   [шпаклевка, финишный, белый, сравнивать, цена,...   \n",
       "5   [акция, аккумулятор, на, Toyota, Corolla, розн...   \n",
       "6   [пила, торцовочный, только, сегодня, за, 6499,...   \n",
       "7   [по, низкий, цена, шуруповерт, макит, в, спб, ...   \n",
       "8   [купить, Makita, уровень, Makita, Skr200z, 174...   \n",
       "9   [дезодорант, регулир, потоотделение, сравниват...   \n",
       "10  [удлинитель, 10, м, сравнивать, цена, весь, ин...   \n",
       "11  [замена, ГРМ, с5, в, день, обращение, от, 2500...   \n",
       "12  [простой, способ, изучение, офисный, программа...   \n",
       "13  [купить, Supra, автомагнитола, USB, SD, Supra,...   \n",
       "14  [телевизор, LG, 49UH750V, 2183, 90, р, гаранти...   \n",
       "15  [ZyXEL, Keenetic, 4G, III, сравнивать, цена, в...   \n",
       "16  [купить, ASUS, ноутбук, ASUS, ROG, G771JW, 17,...   \n",
       "17  [санки, скандинавия, сравнивать, цена, весь, и...   \n",
       "18  [инвертор, сварочный, ударник, уис, 180, 189, ...   \n",
       "19  [купить, Hammer, торцовочный, пила, Hammer, St...   \n",
       "20  [шкаф, рим, 150, от, производитель, в, краснод...   \n",
       "21  [ноутбук, Lenovo, IdeaPad, G50, 45, 854, 32, р...   \n",
       "22  [дешевый, фасадный, панель, низкий, цена, прям...   \n",
       "23  [курсы, 1С, зарплата, и, кадр, в, красноярск, ...   \n",
       "24  [цена, весь, 1727, руб, купить, реле, напряжен...   \n",
       "25               [kil82af30r, от, 1612, 00, доставка]   \n",
       "26  [транспорт, быть, тут, перевозка, груз, уфа, р...   \n",
       "27  [телевизор, Mystery, MTV, 3230LT2, 441, 45, р,...   \n",
       "28  [кулер, HotFrost, сравнивать, цена, весь, инте...   \n",
       "29  [выпрямитель, для, волос, Bosch, PHS5947, 125,...   \n",
       "30  [уличный, настенный, светильник, в, наличие, о...   \n",
       "31  [нужный, корпус, для, мп26б, 3D, печать, на, з...   \n",
       "32  [купить, Intel, модуль, управление, Intel, Ori...   \n",
       "33  [смеситель, BLANCO, ELOSCOPE, F, II, официальн...   \n",
       "34  [кухня, из, ЛДСП, сравнивать, цена, весь, инте...   \n",
       "35  [перевозить, груз, грузоперевозка, баймак, реш...   \n",
       "36  [смартфон, Highscreen, Easy, F, 157, 66, р, га...   \n",
       "37  [HP, Pavilion, 17, g152ur, за, 34680р, в, инте...   \n",
       "38  [семя, портулак, сравнивать, цена, весь, интер...   \n",
       "39  [зубило, пикообразный, сравнивать, цена, весь,...   \n",
       "40  [перевозить, груз, грузоперевозка, липецк, реш...   \n",
       "41  [недвижимость, в, испания, от, застройщик, мно...   \n",
       "42  [здесь, низкий, цена, капот, RENAULT, SCENIC, ...   \n",
       "43  [по, низкий, цена, мини, болгарка, в, москва, ...   \n",
       "44  [здесь, кабельный, канал, пвх, от, 10, завод, ...   \n",
       "45  [цена, 6, 390, р, купить, дисковый, мини, пить...   \n",
       "46  [со, скидка, 70, %, спортивный, блютуз, наушни...   \n",
       "47  [изготовление, и, монтаж, пожарный, лестница, ...   \n",
       "48  [топ, котел, сравнивать, цена, весь, интернет,...   \n",
       "49  [анкерный, зажим, цена, вечный, недорогой, про...   \n",
       "\n",
       "                                title vectors  pair class  predicted class  \n",
       "0                    [KE, 81, SD, 119, 00, р]           1         0.986152  \n",
       "1           [сабвуфер, купить, в, красноярск]           1         0.996636  \n",
       "2    [Onkyo, Tx, nr545, Black, всего, 42390р]           1         0.984310  \n",
       "3                             [шаблон, ордер]           1         0.990837  \n",
       "4                [шпаклевка, финишный, белый]           1         0.764447  \n",
       "5          [аккумулятор, на, Toyota, Corolla]           1         0.994654  \n",
       "6                 [пила, торцовочный, Hammer]           1         0.982314  \n",
       "7         [купить, шуруповерт, макит, в, спб]           1         0.990650  \n",
       "8          [уровень, Makita, Skr200z, 174614]           1         0.997554  \n",
       "9        [дезодорант, регулир, потоотделение]           1         0.980606  \n",
       "10                        [удлинитель, 10, м]           1         0.862464  \n",
       "11                          [замена, ГРМ, с5]           1         0.992511  \n",
       "12                   [Excel, для, начинающий]           1         0.993477  \n",
       "13    [USB, SD, Supra, SFD, 121USC, недорого]           1         0.993630  \n",
       "14              [LG, 49UH750V, 2183, 90, руб]           1         0.990935  \n",
       "15                 [ZyXEL, Keenetic, 4G, III]           1         0.989028  \n",
       "16  [ASUS, ROG, G771JW, 17, 3, 1920x1080, In]           1         0.969344  \n",
       "17                       [санки, скандинавия]           1         0.981532  \n",
       "18          [ударник, уис, 180, 189, 90, руб]           1         0.979288  \n",
       "19      [торцовочный, пила, Hammer, Stl1800b]           1         0.997941  \n",
       "20                           [шкаф, рим, 150]           1         0.936201  \n",
       "21     [Lenovo, IdeaPad, G50, 45, 854, 32, р]           1         0.986917  \n",
       "22        [дешевый, фасадный, панель, скидка]           1         0.987303  \n",
       "23       [курсы, по, программа, 1С, зарплата]           1         0.998327  \n",
       "24       [реле, напряжение, Digitop, Vp, 16a]           1         0.993563  \n",
       "25                               [kil82af30r]           1         0.986564  \n",
       "26                     [перевозка, груз, уфа]           1         0.997609  \n",
       "27      [Mystery, MTV, 3230LT2, 441, 45, руб]           1         0.988245  \n",
       "28                          [кулер, HotFrost]           1         0.963589  \n",
       "29             [Bosch, PHS5947, 125, 61, руб]           1         0.985127  \n",
       "30         [настенный, светильник, от, 1000р]           1         0.993706  \n",
       "31           [3D, печать, корпус, для, мп26б]           1         0.997352  \n",
       "32    [Intel, Original, RS2BL080, PCI, E, x8]           1         0.999096  \n",
       "33       [смеситель, BLANCO, ELOSCOPE, F, II]           1         0.996314  \n",
       "34                          [кухня, из, ЛДСП]           1         0.998302  \n",
       "35                   [грузоперевозка, баймак]           1         0.953983  \n",
       "36          [Highscreen, Easy, F, 157, 66, р]           1         0.989421  \n",
       "37   [HP, Pavilion, 17, g152ur, за, 34680, р]           1         0.996602  \n",
       "38                           [семя, портулак]           1         0.802575  \n",
       "39                     [зубило, пикообразный]           1         0.966660  \n",
       "40                   [грузоперевозка, липецк]           1         0.999246  \n",
       "41                 [недвижимость, в, испания]           1         0.998938  \n",
       "42                   [капот, RENAULT, SCENIC]           1         0.953232  \n",
       "43   [купить, мини, болгарка, в, москва, тут]           1         0.980844  \n",
       "44                    [кабель, –, канал, пвх]           1         0.967315  \n",
       "45    [Einhell, Bt, cs, 860, kit, в, наличие]           1         0.977122  \n",
       "46             [спортивный, блютуз, наушники]           1         0.997840  \n",
       "47         [изготовление, пожарный, лестница]           1         0.884546  \n",
       "48                               [топ, котел]           1         0.996728  \n",
       "49                    [анкерный, зажим, цена]           1         0.993381  "
      ]
     },
     "execution_count": 138,
     "metadata": {},
     "output_type": "execute_result"
    }
   ],
   "source": [
    "predictions.iloc[:20, :]"
   ]
  },
  {
   "cell_type": "code",
   "execution_count": 139,
   "metadata": {},
   "outputs": [],
   "source": [
    "predictions = pd.DataFrame(test_df_mixed['text vectors'].iloc[-200:])\n",
    "predictions['title vectors'] = test_df_mixed['title vectors'].iloc[-200:]\n",
    "predictions['pair class'] = test_df_mixed['pair class'].iloc[-200:]\n",
    "predictions['predicted class'] = xgb_test.predict_proba(X_test_pca[-200:])[:, 1]"
   ]
  },
  {
   "cell_type": "code",
   "execution_count": 140,
   "metadata": {},
   "outputs": [
    {
     "data": {
      "text/plain": [
       "(150,)"
      ]
     },
     "execution_count": 140,
     "metadata": {},
     "output_type": "execute_result"
    }
   ],
   "source": [
    "X_test_pca[0].shape"
   ]
  },
  {
   "cell_type": "code",
   "execution_count": 142,
   "metadata": {},
   "outputs": [
    {
     "data": {
      "text/html": [
       "<div>\n",
       "<style scoped>\n",
       "    .dataframe tbody tr th:only-of-type {\n",
       "        vertical-align: middle;\n",
       "    }\n",
       "\n",
       "    .dataframe tbody tr th {\n",
       "        vertical-align: top;\n",
       "    }\n",
       "\n",
       "    .dataframe thead th {\n",
       "        text-align: right;\n",
       "    }\n",
       "</style>\n",
       "<table border=\"1\" class=\"dataframe\">\n",
       "  <thead>\n",
       "    <tr style=\"text-align: right;\">\n",
       "      <th></th>\n",
       "      <th>text vectors</th>\n",
       "      <th>title vectors</th>\n",
       "      <th>pair class</th>\n",
       "      <th>predicted class</th>\n",
       "    </tr>\n",
       "  </thead>\n",
       "  <tbody>\n",
       "    <tr>\n",
       "      <th>58546</th>\n",
       "      <td>[адресный, табличка, изготовление, 1, день, бо...</td>\n",
       "      <td>[купить, заколка, для, волос]</td>\n",
       "      <td>0</td>\n",
       "      <td>0.025990</td>\n",
       "    </tr>\n",
       "    <tr>\n",
       "      <th>58547</th>\n",
       "      <td>[телефон, Highscreen, Boost, сравнивать, цена,...</td>\n",
       "      <td>[кроссовок, пума]</td>\n",
       "      <td>0</td>\n",
       "      <td>0.001028</td>\n",
       "    </tr>\n",
       "    <tr>\n",
       "      <th>58548</th>\n",
       "      <td>[электродный, котел, сравнивать, цена, весь, и...</td>\n",
       "      <td>[получать, 380000, в, кредит]</td>\n",
       "      <td>0</td>\n",
       "      <td>0.002775</td>\n",
       "    </tr>\n",
       "    <tr>\n",
       "      <th>58549</th>\n",
       "      <td>[быть, в, наличие, сейчас, рубанок, BLACK, AND...</td>\n",
       "      <td>[такси, стоимость, звонить]</td>\n",
       "      <td>0</td>\n",
       "      <td>0.051416</td>\n",
       "    </tr>\n",
       "    <tr>\n",
       "      <th>58550</th>\n",
       "      <td>[мфу, Brother, DCP, J100, 360, 86, р, гарантия...</td>\n",
       "      <td>[купить, кофе, мексика, марагоджип]</td>\n",
       "      <td>0</td>\n",
       "      <td>0.000308</td>\n",
       "    </tr>\n",
       "    <tr>\n",
       "      <th>58551</th>\n",
       "      <td>[наушник, вкладыш, большой, выбор, наушник, по...</td>\n",
       "      <td>[недорогой, такси, в, спб, от, 125, р]</td>\n",
       "      <td>0</td>\n",
       "      <td>0.017126</td>\n",
       "    </tr>\n",
       "    <tr>\n",
       "      <th>58552</th>\n",
       "      <td>[звонить, сейчас, купить, дом, на, авито, стро...</td>\n",
       "      <td>[panasonic, nn, cs894bzpe]</td>\n",
       "      <td>0</td>\n",
       "      <td>0.001470</td>\n",
       "    </tr>\n",
       "    <tr>\n",
       "      <th>58553</th>\n",
       "      <td>[имплантация, и, профессиональный, протезирова...</td>\n",
       "      <td>[коврик, для, мышь, Defender]</td>\n",
       "      <td>0</td>\n",
       "      <td>0.066370</td>\n",
       "    </tr>\n",
       "    <tr>\n",
       "      <th>58554</th>\n",
       "      <td>[холодильник, Liebherr, CTP, 3316, низкий, цен...</td>\n",
       "      <td>[Microlab, FC, 730, 237, 12, р]</td>\n",
       "      <td>0</td>\n",
       "      <td>0.000760</td>\n",
       "    </tr>\n",
       "    <tr>\n",
       "      <th>58555</th>\n",
       "      <td>[жакет, теплый, сравнивать, цена, весь, интерн...</td>\n",
       "      <td>[как, бороться, с, клещ]</td>\n",
       "      <td>0</td>\n",
       "      <td>0.001885</td>\n",
       "    </tr>\n",
       "    <tr>\n",
       "      <th>58556</th>\n",
       "      <td>[купить, QNAP, сетевой, хранилище, QNAP, TS, 2...</td>\n",
       "      <td>[вернуть, налог, за, обучение, ребенок]</td>\n",
       "      <td>0</td>\n",
       "      <td>0.019853</td>\n",
       "    </tr>\n",
       "    <tr>\n",
       "      <th>58557</th>\n",
       "      <td>[блузка, нарядный, сравнивать, цена, весь, инт...</td>\n",
       "      <td>[кондиционер, канальный, Daikin]</td>\n",
       "      <td>0</td>\n",
       "      <td>0.023770</td>\n",
       "    </tr>\n",
       "    <tr>\n",
       "      <th>58558</th>\n",
       "      <td>[секция, универсал, 5М, 6М, со, склад, ниппель...</td>\n",
       "      <td>[Xerox, Phaser, 3020BI, недорого]</td>\n",
       "      <td>0</td>\n",
       "      <td>0.000028</td>\n",
       "    </tr>\n",
       "    <tr>\n",
       "      <th>58559</th>\n",
       "      <td>[кондиционер, в, краснодар, скидка, 35, %, рас...</td>\n",
       "      <td>[Serge, Lutens, туалетный, вода]</td>\n",
       "      <td>0</td>\n",
       "      <td>0.002124</td>\n",
       "    </tr>\n",
       "    <tr>\n",
       "      <th>58560</th>\n",
       "      <td>[купить, Siemens, встраивать, газовый, варочны...</td>\n",
       "      <td>[швейный, машина, Janome, LW, 20]</td>\n",
       "      <td>0</td>\n",
       "      <td>0.005098</td>\n",
       "    </tr>\n",
       "    <tr>\n",
       "      <th>58561</th>\n",
       "      <td>[гриль, Steba, FG, 70, за, 8, 950, руб, качест...</td>\n",
       "      <td>[LP154WX5]</td>\n",
       "      <td>0</td>\n",
       "      <td>0.000845</td>\n",
       "    </tr>\n",
       "    <tr>\n",
       "      <th>58562</th>\n",
       "      <td>[доставка, такси, подавать, за, 5, мина, тариф...</td>\n",
       "      <td>[простой, бухучет, ломбард]</td>\n",
       "      <td>0</td>\n",
       "      <td>0.032056</td>\n",
       "    </tr>\n",
       "    <tr>\n",
       "      <th>58563</th>\n",
       "      <td>[звонить, сейчас, набор, уже, идти, запись, на...</td>\n",
       "      <td>[Stromberg, OKYM]</td>\n",
       "      <td>0</td>\n",
       "      <td>0.772350</td>\n",
       "    </tr>\n",
       "    <tr>\n",
       "      <th>58564</th>\n",
       "      <td>[эхолот, практик, большой, выбор, качественный...</td>\n",
       "      <td>[MSI, H170A, GAMING, PRO, Socket, 1151]</td>\n",
       "      <td>0</td>\n",
       "      <td>0.014353</td>\n",
       "    </tr>\n",
       "    <tr>\n",
       "      <th>58565</th>\n",
       "      <td>[для, мой, iPhone, 4S, нужный, новый, аккумуля...</td>\n",
       "      <td>[замена, фурнитура, пвх, новокузнецк]</td>\n",
       "      <td>0</td>\n",
       "      <td>0.175485</td>\n",
       "    </tr>\n",
       "    <tr>\n",
       "      <th>58566</th>\n",
       "      <td>[купить, Scher, сигнализация, Scher, khan, Mag...</td>\n",
       "      <td>[жакет, кимоно]</td>\n",
       "      <td>0</td>\n",
       "      <td>0.012686</td>\n",
       "    </tr>\n",
       "    <tr>\n",
       "      <th>58567</th>\n",
       "      <td>[перевозить, груз, грузоперевозка, псков, реша...</td>\n",
       "      <td>[монитор, 34, LG, 34UM68, P, ARUZ]</td>\n",
       "      <td>0</td>\n",
       "      <td>0.000049</td>\n",
       "    </tr>\n",
       "    <tr>\n",
       "      <th>58568</th>\n",
       "      <td>[цена, всего, 2, 889, р, электрический, теплов...</td>\n",
       "      <td>[1С8, 2, исправлять, ошибка, доработка]</td>\n",
       "      <td>0</td>\n",
       "      <td>0.022958</td>\n",
       "    </tr>\n",
       "    <tr>\n",
       "      <th>58569</th>\n",
       "      <td>[телевизор, Mystery, MTV, 3223LT2, 476, 22, р,...</td>\n",
       "      <td>[доход, физический, лицо, 2016]</td>\n",
       "      <td>0</td>\n",
       "      <td>0.000016</td>\n",
       "    </tr>\n",
       "    <tr>\n",
       "      <th>58570</th>\n",
       "      <td>[усилитель, Wi, Fi, сравнивать, цена, весь, ин...</td>\n",
       "      <td>[пеня, по, налог, физический, лицо]</td>\n",
       "      <td>0</td>\n",
       "      <td>0.000103</td>\n",
       "    </tr>\n",
       "    <tr>\n",
       "      <th>58571</th>\n",
       "      <td>[совместный, покупка, покупать, за, полцены, з...</td>\n",
       "      <td>[подсветка, вывеска, со, скидка]</td>\n",
       "      <td>0</td>\n",
       "      <td>0.005148</td>\n",
       "    </tr>\n",
       "    <tr>\n",
       "      <th>58572</th>\n",
       "      <td>[цена, весь, 2469, руб, купить, Thermex, Strea...</td>\n",
       "      <td>[энкор, корвет, 223, в, наличие]</td>\n",
       "      <td>0</td>\n",
       "      <td>0.008665</td>\n",
       "    </tr>\n",
       "    <tr>\n",
       "      <th>58573</th>\n",
       "      <td>[в, наличие, за, 8660, руб, купить]</td>\n",
       "      <td>[цена, на, недвижимость, в, москва]</td>\n",
       "      <td>0</td>\n",
       "      <td>0.025915</td>\n",
       "    </tr>\n",
       "    <tr>\n",
       "      <th>58574</th>\n",
       "      <td>[GEFEST, 3200, 06, 19, от, 319, 000, доставка]</td>\n",
       "      <td>[сайдинг, пвх, наружный, в, могилев]</td>\n",
       "      <td>0</td>\n",
       "      <td>0.000032</td>\n",
       "    </tr>\n",
       "    <tr>\n",
       "      <th>58575</th>\n",
       "      <td>[радиатор, панельный, сравнивать, цена, весь, ...</td>\n",
       "      <td>[картридж, Sharp, AR020T, недорого]</td>\n",
       "      <td>0</td>\n",
       "      <td>0.000312</td>\n",
       "    </tr>\n",
       "    <tr>\n",
       "      <th>58576</th>\n",
       "      <td>[жать, вставлять, окно, в, квартира, цена, ски...</td>\n",
       "      <td>[микрофон, ручной]</td>\n",
       "      <td>0</td>\n",
       "      <td>0.004029</td>\n",
       "    </tr>\n",
       "    <tr>\n",
       "      <th>58577</th>\n",
       "      <td>[сумка, лансель, купить, новый, модель, беспла...</td>\n",
       "      <td>[Brother, HL, 2132R, 164, 02, руб]</td>\n",
       "      <td>0</td>\n",
       "      <td>0.024113</td>\n",
       "    </tr>\n",
       "    <tr>\n",
       "      <th>58578</th>\n",
       "      <td>[от, 400, рубль, налог, на, имущество, вычет, ...</td>\n",
       "      <td>[Philips, FY1114, 10, недорого]</td>\n",
       "      <td>0</td>\n",
       "      <td>0.023784</td>\n",
       "    </tr>\n",
       "    <tr>\n",
       "      <th>58579</th>\n",
       "      <td>[Neoclima, dp, 900, dn, скидка, 35, %, распрод...</td>\n",
       "      <td>[холодильник, Atlant, хм, 6026, 031]</td>\n",
       "      <td>0</td>\n",
       "      <td>0.028328</td>\n",
       "    </tr>\n",
       "    <tr>\n",
       "      <th>58580</th>\n",
       "      <td>[aeg, pst, 500, x, от, 222, 00, доставка]</td>\n",
       "      <td>[Acer, PB, ENLG71BM, C5JV, 17, 3, 1600, x]</td>\n",
       "      <td>0</td>\n",
       "      <td>0.608703</td>\n",
       "    </tr>\n",
       "    <tr>\n",
       "      <th>58581</th>\n",
       "      <td>[розетка, 3, оп, ликвидация, склад, дешево, ра...</td>\n",
       "      <td>[Separett, 9000, villa, недорого]</td>\n",
       "      <td>0</td>\n",
       "      <td>0.066189</td>\n",
       "    </tr>\n",
       "    <tr>\n",
       "      <th>58582</th>\n",
       "      <td>[электрический, модель, безвоздушный, краскопу...</td>\n",
       "      <td>[компрессор, от, прикуриватель]</td>\n",
       "      <td>0</td>\n",
       "      <td>0.171827</td>\n",
       "    </tr>\n",
       "    <tr>\n",
       "      <th>58583</th>\n",
       "      <td>[ковер, синтелон, сравнивать, цена, весь, инте...</td>\n",
       "      <td>[3D, печать, корпус, для, ипать, 20]</td>\n",
       "      <td>0</td>\n",
       "      <td>0.002183</td>\n",
       "    </tr>\n",
       "    <tr>\n",
       "      <th>58584</th>\n",
       "      <td>[купить, диолд, рубанок, диолд, РЭ, 2000, 1008...</td>\n",
       "      <td>[Peg, Perego, Book, Completo, Cross, as]</td>\n",
       "      <td>0</td>\n",
       "      <td>0.000914</td>\n",
       "    </tr>\n",
       "    <tr>\n",
       "      <th>58585</th>\n",
       "      <td>[кровля, мягкий, черепица, немецкий, качество,...</td>\n",
       "      <td>[детский, смесь, симилак]</td>\n",
       "      <td>0</td>\n",
       "      <td>0.006631</td>\n",
       "    </tr>\n",
       "    <tr>\n",
       "      <th>58586</th>\n",
       "      <td>[искать, квартира, на, длительный, срок, от, 4...</td>\n",
       "      <td>[студийный, портрет, москва]</td>\n",
       "      <td>0</td>\n",
       "      <td>0.187221</td>\n",
       "    </tr>\n",
       "    <tr>\n",
       "      <th>58587</th>\n",
       "      <td>[где, взять, налог, на, квартира, оформлять, 3...</td>\n",
       "      <td>[инверторный, генератор, Dde]</td>\n",
       "      <td>0</td>\n",
       "      <td>0.001337</td>\n",
       "    </tr>\n",
       "    <tr>\n",
       "      <th>58588</th>\n",
       "      <td>[в, наличие, за, 29533, руб, купить]</td>\n",
       "      <td>[усилитель, интернет, сигнал, жать]</td>\n",
       "      <td>0</td>\n",
       "      <td>0.033104</td>\n",
       "    </tr>\n",
       "    <tr>\n",
       "      <th>58589</th>\n",
       "      <td>[мультиварка, Sinbo, SCO, 5034, 100, 54, р, га...</td>\n",
       "      <td>[фитнес, трекер, полар]</td>\n",
       "      <td>0</td>\n",
       "      <td>0.000291</td>\n",
       "    </tr>\n",
       "    <tr>\n",
       "      <th>58590</th>\n",
       "      <td>[беспроводной, маршрутизатор, Asus, RT, N11P, ...</td>\n",
       "      <td>[сейф, мебельный, рипост, р, 06, н]</td>\n",
       "      <td>0</td>\n",
       "      <td>0.017379</td>\n",
       "    </tr>\n",
       "    <tr>\n",
       "      <th>58591</th>\n",
       "      <td>[хотеть, попадать, в, топ, 10, продвижение, са...</td>\n",
       "      <td>[внешний, DVD, привод, LG, GP50NB41]</td>\n",
       "      <td>0</td>\n",
       "      <td>0.003632</td>\n",
       "    </tr>\n",
       "    <tr>\n",
       "      <th>58592</th>\n",
       "      <td>[купить, Upvel, беспроводный, 3D, мышь, клавиа...</td>\n",
       "      <td>[Unipump, MH, 400, A, 261, 60, р]</td>\n",
       "      <td>0</td>\n",
       "      <td>0.001806</td>\n",
       "    </tr>\n",
       "    <tr>\n",
       "      <th>58593</th>\n",
       "      <td>[свежий, новость, казахстан, и, мир, видео, фо...</td>\n",
       "      <td>[детский, сотовый, телефон, для]</td>\n",
       "      <td>0</td>\n",
       "      <td>0.240270</td>\n",
       "    </tr>\n",
       "    <tr>\n",
       "      <th>58594</th>\n",
       "      <td>[устанавливать, водосчетчик, опытный, мастер, ...</td>\n",
       "      <td>[куртка, Moncler]</td>\n",
       "      <td>0</td>\n",
       "      <td>0.001005</td>\n",
       "    </tr>\n",
       "    <tr>\n",
       "      <th>58595</th>\n",
       "      <td>[обновление, навител, навигатор, explay, жать]</td>\n",
       "      <td>[купить, геодезический, штатив, у, мы]</td>\n",
       "      <td>0</td>\n",
       "      <td>0.004522</td>\n",
       "    </tr>\n",
       "  </tbody>\n",
       "</table>\n",
       "</div>"
      ],
      "text/plain": [
       "                                            text vectors  \\\n",
       "58546  [адресный, табличка, изготовление, 1, день, бо...   \n",
       "58547  [телефон, Highscreen, Boost, сравнивать, цена,...   \n",
       "58548  [электродный, котел, сравнивать, цена, весь, и...   \n",
       "58549  [быть, в, наличие, сейчас, рубанок, BLACK, AND...   \n",
       "58550  [мфу, Brother, DCP, J100, 360, 86, р, гарантия...   \n",
       "58551  [наушник, вкладыш, большой, выбор, наушник, по...   \n",
       "58552  [звонить, сейчас, купить, дом, на, авито, стро...   \n",
       "58553  [имплантация, и, профессиональный, протезирова...   \n",
       "58554  [холодильник, Liebherr, CTP, 3316, низкий, цен...   \n",
       "58555  [жакет, теплый, сравнивать, цена, весь, интерн...   \n",
       "58556  [купить, QNAP, сетевой, хранилище, QNAP, TS, 2...   \n",
       "58557  [блузка, нарядный, сравнивать, цена, весь, инт...   \n",
       "58558  [секция, универсал, 5М, 6М, со, склад, ниппель...   \n",
       "58559  [кондиционер, в, краснодар, скидка, 35, %, рас...   \n",
       "58560  [купить, Siemens, встраивать, газовый, варочны...   \n",
       "58561  [гриль, Steba, FG, 70, за, 8, 950, руб, качест...   \n",
       "58562  [доставка, такси, подавать, за, 5, мина, тариф...   \n",
       "58563  [звонить, сейчас, набор, уже, идти, запись, на...   \n",
       "58564  [эхолот, практик, большой, выбор, качественный...   \n",
       "58565  [для, мой, iPhone, 4S, нужный, новый, аккумуля...   \n",
       "58566  [купить, Scher, сигнализация, Scher, khan, Mag...   \n",
       "58567  [перевозить, груз, грузоперевозка, псков, реша...   \n",
       "58568  [цена, всего, 2, 889, р, электрический, теплов...   \n",
       "58569  [телевизор, Mystery, MTV, 3223LT2, 476, 22, р,...   \n",
       "58570  [усилитель, Wi, Fi, сравнивать, цена, весь, ин...   \n",
       "58571  [совместный, покупка, покупать, за, полцены, з...   \n",
       "58572  [цена, весь, 2469, руб, купить, Thermex, Strea...   \n",
       "58573                [в, наличие, за, 8660, руб, купить]   \n",
       "58574     [GEFEST, 3200, 06, 19, от, 319, 000, доставка]   \n",
       "58575  [радиатор, панельный, сравнивать, цена, весь, ...   \n",
       "58576  [жать, вставлять, окно, в, квартира, цена, ски...   \n",
       "58577  [сумка, лансель, купить, новый, модель, беспла...   \n",
       "58578  [от, 400, рубль, налог, на, имущество, вычет, ...   \n",
       "58579  [Neoclima, dp, 900, dn, скидка, 35, %, распрод...   \n",
       "58580          [aeg, pst, 500, x, от, 222, 00, доставка]   \n",
       "58581  [розетка, 3, оп, ликвидация, склад, дешево, ра...   \n",
       "58582  [электрический, модель, безвоздушный, краскопу...   \n",
       "58583  [ковер, синтелон, сравнивать, цена, весь, инте...   \n",
       "58584  [купить, диолд, рубанок, диолд, РЭ, 2000, 1008...   \n",
       "58585  [кровля, мягкий, черепица, немецкий, качество,...   \n",
       "58586  [искать, квартира, на, длительный, срок, от, 4...   \n",
       "58587  [где, взять, налог, на, квартира, оформлять, 3...   \n",
       "58588               [в, наличие, за, 29533, руб, купить]   \n",
       "58589  [мультиварка, Sinbo, SCO, 5034, 100, 54, р, га...   \n",
       "58590  [беспроводной, маршрутизатор, Asus, RT, N11P, ...   \n",
       "58591  [хотеть, попадать, в, топ, 10, продвижение, са...   \n",
       "58592  [купить, Upvel, беспроводный, 3D, мышь, клавиа...   \n",
       "58593  [свежий, новость, казахстан, и, мир, видео, фо...   \n",
       "58594  [устанавливать, водосчетчик, опытный, мастер, ...   \n",
       "58595     [обновление, навител, навигатор, explay, жать]   \n",
       "\n",
       "                                    title vectors  pair class  predicted class  \n",
       "58546               [купить, заколка, для, волос]           0         0.025990  \n",
       "58547                           [кроссовок, пума]           0         0.001028  \n",
       "58548               [получать, 380000, в, кредит]           0         0.002775  \n",
       "58549                 [такси, стоимость, звонить]           0         0.051416  \n",
       "58550         [купить, кофе, мексика, марагоджип]           0         0.000308  \n",
       "58551      [недорогой, такси, в, спб, от, 125, р]           0         0.017126  \n",
       "58552                  [panasonic, nn, cs894bzpe]           0         0.001470  \n",
       "58553               [коврик, для, мышь, Defender]           0         0.066370  \n",
       "58554             [Microlab, FC, 730, 237, 12, р]           0         0.000760  \n",
       "58555                    [как, бороться, с, клещ]           0         0.001885  \n",
       "58556     [вернуть, налог, за, обучение, ребенок]           0         0.019853  \n",
       "58557            [кондиционер, канальный, Daikin]           0         0.023770  \n",
       "58558           [Xerox, Phaser, 3020BI, недорого]           0         0.000028  \n",
       "58559            [Serge, Lutens, туалетный, вода]           0         0.002124  \n",
       "58560           [швейный, машина, Janome, LW, 20]           0         0.005098  \n",
       "58561                                  [LP154WX5]           0         0.000845  \n",
       "58562                 [простой, бухучет, ломбард]           0         0.032056  \n",
       "58563                           [Stromberg, OKYM]           0         0.772350  \n",
       "58564     [MSI, H170A, GAMING, PRO, Socket, 1151]           0         0.014353  \n",
       "58565       [замена, фурнитура, пвх, новокузнецк]           0         0.175485  \n",
       "58566                             [жакет, кимоно]           0         0.012686  \n",
       "58567          [монитор, 34, LG, 34UM68, P, ARUZ]           0         0.000049  \n",
       "58568     [1С8, 2, исправлять, ошибка, доработка]           0         0.022958  \n",
       "58569             [доход, физический, лицо, 2016]           0         0.000016  \n",
       "58570         [пеня, по, налог, физический, лицо]           0         0.000103  \n",
       "58571            [подсветка, вывеска, со, скидка]           0         0.005148  \n",
       "58572            [энкор, корвет, 223, в, наличие]           0         0.008665  \n",
       "58573         [цена, на, недвижимость, в, москва]           0         0.025915  \n",
       "58574        [сайдинг, пвх, наружный, в, могилев]           0         0.000032  \n",
       "58575         [картридж, Sharp, AR020T, недорого]           0         0.000312  \n",
       "58576                          [микрофон, ручной]           0         0.004029  \n",
       "58577          [Brother, HL, 2132R, 164, 02, руб]           0         0.024113  \n",
       "58578             [Philips, FY1114, 10, недорого]           0         0.023784  \n",
       "58579        [холодильник, Atlant, хм, 6026, 031]           0         0.028328  \n",
       "58580  [Acer, PB, ENLG71BM, C5JV, 17, 3, 1600, x]           0         0.608703  \n",
       "58581           [Separett, 9000, villa, недорого]           0         0.066189  \n",
       "58582             [компрессор, от, прикуриватель]           0         0.171827  \n",
       "58583        [3D, печать, корпус, для, ипать, 20]           0         0.002183  \n",
       "58584    [Peg, Perego, Book, Completo, Cross, as]           0         0.000914  \n",
       "58585                   [детский, смесь, симилак]           0         0.006631  \n",
       "58586                [студийный, портрет, москва]           0         0.187221  \n",
       "58587               [инверторный, генератор, Dde]           0         0.001337  \n",
       "58588         [усилитель, интернет, сигнал, жать]           0         0.033104  \n",
       "58589                     [фитнес, трекер, полар]           0         0.000291  \n",
       "58590         [сейф, мебельный, рипост, р, 06, н]           0         0.017379  \n",
       "58591        [внешний, DVD, привод, LG, GP50NB41]           0         0.003632  \n",
       "58592           [Unipump, MH, 400, A, 261, 60, р]           0         0.001806  \n",
       "58593            [детский, сотовый, телефон, для]           0         0.240270  \n",
       "58594                           [куртка, Moncler]           0         0.001005  \n",
       "58595      [купить, геодезический, штатив, у, мы]           0         0.004522  "
      ]
     },
     "execution_count": 142,
     "metadata": {},
     "output_type": "execute_result"
    }
   ],
   "source": [
    "predictions.iloc[:20, :]"
   ]
  },
  {
   "cell_type": "code",
   "execution_count": 143,
   "metadata": {},
   "outputs": [
    {
     "name": "stdout",
     "output_type": "stream",
     "text": [
      "0.9615669265589233\n"
     ]
    }
   ],
   "source": [
    "from sklearn.metrics import f1_score, confusion_matrix, precision_score, recall_score\n",
    "\n",
    "xgb_pred = xgb_test.predict(X_test_pca)\n",
    "print(f1_score(new_y_test, xgb_pred ))"
   ]
  },
  {
   "cell_type": "code",
   "execution_count": 144,
   "metadata": {},
   "outputs": [
    {
     "data": {
      "text/plain": [
       "array([[28108,  1016],\n",
       "       [ 1217, 27934]])"
      ]
     },
     "execution_count": 144,
     "metadata": {},
     "output_type": "execute_result"
    }
   ],
   "source": [
    "from sklearn.metrics import confusion_matrix\n",
    "confusion_matrix(new_y_test, xgb_pred)"
   ]
  },
  {
   "cell_type": "code",
   "execution_count": 145,
   "metadata": {},
   "outputs": [
    {
     "data": {
      "text/plain": [
       "0.9649050086355786"
      ]
     },
     "execution_count": 145,
     "metadata": {},
     "output_type": "execute_result"
    }
   ],
   "source": [
    "precision_score(new_y_test, xgb_pred)"
   ]
  },
  {
   "cell_type": "code",
   "execution_count": 146,
   "metadata": {},
   "outputs": [
    {
     "data": {
      "text/plain": [
       "0.9582518609996227"
      ]
     },
     "execution_count": 146,
     "metadata": {},
     "output_type": "execute_result"
    }
   ],
   "source": [
    "recall_score(new_y_test, xgb_pred)"
   ]
  },
  {
   "cell_type": "code",
   "execution_count": 147,
   "metadata": {},
   "outputs": [],
   "source": [
    "sample_test_df_checking = test_df.sample(1000)"
   ]
  },
  {
   "cell_type": "code",
   "execution_count": 148,
   "metadata": {},
   "outputs": [],
   "source": [
    "sample_test_df_checking = sample_test_df_checking.reset_index(drop=True)"
   ]
  },
  {
   "cell_type": "code",
   "execution_count": 149,
   "metadata": {},
   "outputs": [
    {
     "data": {
      "text/html": [
       "<div>\n",
       "<style scoped>\n",
       "    .dataframe tbody tr th:only-of-type {\n",
       "        vertical-align: middle;\n",
       "    }\n",
       "\n",
       "    .dataframe tbody tr th {\n",
       "        vertical-align: top;\n",
       "    }\n",
       "\n",
       "    .dataframe thead th {\n",
       "        text-align: right;\n",
       "    }\n",
       "</style>\n",
       "<table border=\"1\" class=\"dataframe\">\n",
       "  <thead>\n",
       "    <tr style=\"text-align: right;\">\n",
       "      <th></th>\n",
       "      <th>text vectors</th>\n",
       "      <th>title vectors</th>\n",
       "    </tr>\n",
       "  </thead>\n",
       "  <tbody>\n",
       "    <tr>\n",
       "      <th>0</th>\n",
       "      <td>[холодильник, с, морозильник, Candy, CKBS, 618...</td>\n",
       "      <td>[CKBS, 6180, W, 599, 00, р]</td>\n",
       "    </tr>\n",
       "    <tr>\n",
       "      <th>1</th>\n",
       "      <td>[смартфон, Microsoft, сравнивать, цена, весь, ...</td>\n",
       "      <td>[смартфон, Microsoft]</td>\n",
       "    </tr>\n",
       "    <tr>\n",
       "      <th>2</th>\n",
       "      <td>[наушник, Ritmix, RH, 125, 29, 10, р, гарантия...</td>\n",
       "      <td>[Ritmix, RH, 125, 29, 10, руб]</td>\n",
       "    </tr>\n",
       "    <tr>\n",
       "      <th>3</th>\n",
       "      <td>[бампер, задний, на, KIA, SPORTAGE, купить, на...</td>\n",
       "      <td>[запчасть, киа, спортейдж, 07, 10, г]</td>\n",
       "    </tr>\n",
       "    <tr>\n",
       "      <th>4</th>\n",
       "      <td>[шина, популярный, бренд, доступный, цена, дос...</td>\n",
       "      <td>[купить, зимний, шина, с, доставка]</td>\n",
       "    </tr>\n",
       "  </tbody>\n",
       "</table>\n",
       "</div>"
      ],
      "text/plain": [
       "                                        text vectors  \\\n",
       "0  [холодильник, с, морозильник, Candy, CKBS, 618...   \n",
       "1  [смартфон, Microsoft, сравнивать, цена, весь, ...   \n",
       "2  [наушник, Ritmix, RH, 125, 29, 10, р, гарантия...   \n",
       "3  [бампер, задний, на, KIA, SPORTAGE, купить, на...   \n",
       "4  [шина, популярный, бренд, доступный, цена, дос...   \n",
       "\n",
       "                           title vectors  \n",
       "0            [CKBS, 6180, W, 599, 00, р]  \n",
       "1                  [смартфон, Microsoft]  \n",
       "2         [Ritmix, RH, 125, 29, 10, руб]  \n",
       "3  [запчасть, киа, спортейдж, 07, 10, г]  \n",
       "4    [купить, зимний, шина, с, доставка]  "
      ]
     },
     "execution_count": 149,
     "metadata": {},
     "output_type": "execute_result"
    }
   ],
   "source": [
    "sample_test_df_checking.head()"
   ]
  },
  {
   "cell_type": "code",
   "execution_count": 150,
   "metadata": {},
   "outputs": [],
   "source": [
    "sample_text_vectors_test = []\n",
    "for row in range(len(sample_test_df_checking)):\n",
    "    vector = result_vector(sample_test_df_checking.iloc[row, 0])\n",
    "    if vector is not None:  \n",
    "        sample_text_vectors_test.append(vector[0])\n",
    "    else:\n",
    "        sample_text_vectors_test.append('M')"
   ]
  },
  {
   "cell_type": "code",
   "execution_count": 151,
   "metadata": {},
   "outputs": [],
   "source": [
    "sample_title_vectors_test = []\n",
    "for row in range(len(sample_test_df_checking)):\n",
    "    vector = result_vector(sample_test_df_checking.iloc[row, 1])\n",
    "    if vector is not None:  \n",
    "        sample_title_vectors_test.append(vector[0])\n",
    "    else:\n",
    "        sample_title_vectors_test.append('M')"
   ]
  },
  {
   "cell_type": "code",
   "execution_count": 152,
   "metadata": {},
   "outputs": [],
   "source": [
    "test_sample_vectorized = sample_test_df_checking.copy()\n",
    "test_sample_vectorized['text vectors'] = sample_text_vectors_test\n",
    "test_sample_vectorized['title vectors'] = sample_title_vectors_test"
   ]
  },
  {
   "cell_type": "code",
   "execution_count": 153,
   "metadata": {},
   "outputs": [
    {
     "data": {
      "text/html": [
       "<div>\n",
       "<style scoped>\n",
       "    .dataframe tbody tr th:only-of-type {\n",
       "        vertical-align: middle;\n",
       "    }\n",
       "\n",
       "    .dataframe tbody tr th {\n",
       "        vertical-align: top;\n",
       "    }\n",
       "\n",
       "    .dataframe thead th {\n",
       "        text-align: right;\n",
       "    }\n",
       "</style>\n",
       "<table border=\"1\" class=\"dataframe\">\n",
       "  <thead>\n",
       "    <tr style=\"text-align: right;\">\n",
       "      <th></th>\n",
       "      <th>text vectors</th>\n",
       "      <th>title vectors</th>\n",
       "    </tr>\n",
       "  </thead>\n",
       "  <tbody>\n",
       "    <tr>\n",
       "      <th>0</th>\n",
       "      <td>[0.008834114481816448, 0.05166873736198561, -0...</td>\n",
       "      <td>[0.040770919971266126, 0.02212772196924937, -0...</td>\n",
       "    </tr>\n",
       "    <tr>\n",
       "      <th>1</th>\n",
       "      <td>[-0.04595350526754455, 0.05047324200943339, -0...</td>\n",
       "      <td>[-0.012668296569971172, 0.08048460857437947, 0...</td>\n",
       "    </tr>\n",
       "    <tr>\n",
       "      <th>2</th>\n",
       "      <td>[-0.05915092547000351, -0.002569132896685051, ...</td>\n",
       "      <td>[-0.040710699278773604, -0.04334424421439586, ...</td>\n",
       "    </tr>\n",
       "    <tr>\n",
       "      <th>3</th>\n",
       "      <td>[-0.019015265903291584, 0.15123159556118845, -...</td>\n",
       "      <td>[0.0076860149448073995, 0.047660269854411665, ...</td>\n",
       "    </tr>\n",
       "    <tr>\n",
       "      <th>4</th>\n",
       "      <td>[-0.12990275646026334, -0.008399360124800782, ...</td>\n",
       "      <td>[-0.053393402950479556, 0.05670180141290753, 0...</td>\n",
       "    </tr>\n",
       "  </tbody>\n",
       "</table>\n",
       "</div>"
      ],
      "text/plain": [
       "                                        text vectors  \\\n",
       "0  [0.008834114481816448, 0.05166873736198561, -0...   \n",
       "1  [-0.04595350526754455, 0.05047324200943339, -0...   \n",
       "2  [-0.05915092547000351, -0.002569132896685051, ...   \n",
       "3  [-0.019015265903291584, 0.15123159556118845, -...   \n",
       "4  [-0.12990275646026334, -0.008399360124800782, ...   \n",
       "\n",
       "                                       title vectors  \n",
       "0  [0.040770919971266126, 0.02212772196924937, -0...  \n",
       "1  [-0.012668296569971172, 0.08048460857437947, 0...  \n",
       "2  [-0.040710699278773604, -0.04334424421439586, ...  \n",
       "3  [0.0076860149448073995, 0.047660269854411665, ...  \n",
       "4  [-0.053393402950479556, 0.05670180141290753, 0...  "
      ]
     },
     "execution_count": 153,
     "metadata": {},
     "output_type": "execute_result"
    }
   ],
   "source": [
    "test_sample_vectorized.head()"
   ]
  },
  {
   "cell_type": "code",
   "execution_count": 154,
   "metadata": {},
   "outputs": [
    {
     "data": {
      "text/plain": [
       "(1000, 2)"
      ]
     },
     "execution_count": 154,
     "metadata": {},
     "output_type": "execute_result"
    }
   ],
   "source": [
    "test_sample_vectorized.shape"
   ]
  },
  {
   "cell_type": "code",
   "execution_count": 155,
   "metadata": {},
   "outputs": [],
   "source": [
    "test_sample_vectorized= test_sample_vectorized[test_sample_vectorized['text vectors'] != 'M']\n",
    "test_sample_vectorized = test_sample_vectorized[test_sample_vectorized['title vectors'] != 'M']"
   ]
  },
  {
   "cell_type": "code",
   "execution_count": 156,
   "metadata": {},
   "outputs": [
    {
     "data": {
      "text/plain": [
       "(990, 2)"
      ]
     },
     "execution_count": 156,
     "metadata": {},
     "output_type": "execute_result"
    }
   ],
   "source": [
    "test_sample_vectorized.shape"
   ]
  },
  {
   "cell_type": "code",
   "execution_count": 395,
   "metadata": {},
   "outputs": [],
   "source": [
    "def probability_calculator(text_vector, title_vectors, model):\n",
    "    list_concat_arrays = []\n",
    "    for each in title_vectors:\n",
    "        resultant_list = list(text_vector) +list(each)\n",
    "        resultant_array = np.array(list(resultant_list))\n",
    "        list_concat_arrays.append(resultant_array)\n",
    "    \n",
    "    made_array = np.array(list_concat_arrays)\n",
    "    pca_transformed = pca.transform(made_array)\n",
    "    predictions = model.predict_proba(pca_transformed)[:, 1]\n",
    "        \n",
    "    return predictions"
   ]
  },
  {
   "cell_type": "code",
   "execution_count": 399,
   "metadata": {},
   "outputs": [],
   "source": [
    "def rank_checker(df, number, model):\n",
    "    probabilities = probability_calculator(df.iloc[number, 0], df.iloc[:, 1], model)\n",
    "    series = pd.Series(probabilities, index =df.index)\n",
    "\n",
    "    sorted_df = series.sort_values(ascending=False)\n",
    "    sorted_index = sorted_df.index\n",
    "    \n",
    "    for rank, entry in enumerate(sorted_index):\n",
    "        if entry == df.index[number]:\n",
    "            return rank"
   ]
  },
  {
   "cell_type": "code",
   "execution_count": 450,
   "metadata": {},
   "outputs": [],
   "source": [
    "def ranks_evaluation(df, model)\n",
    "ranks = []\n",
    "for row in range(len(test_sample_vectorized)):     \n",
    "    rank = rank_checker(test_sample_vectorized, row, model)\n",
    "    ranks.append(rank)\n",
    "\n",
    "small = []\n",
    "for rank in ranks:\n",
    "    if rank <=3:\n",
    "        small.append(rank)   \n",
    "        \n",
    "print(str(model), \n",
    "print('Mean Rank: ', np.mean(ranks))    \n",
    "print('Proportion of the Correct Titles In The Top Three Results: ', len(small) / len(ranks)) \n",
    "      \n",
    "plt.figure(figsize=(10, 5))\n",
    "plt.hist(ranks)\n",
    "plt.title('Ranks of The Correct Title as Predicted By the Model: ', str(model))\n",
    "plt.show()"
   ]
  },
  {
   "cell_type": "code",
   "execution_count": 270,
   "metadata": {},
   "outputs": [
    {
     "data": {
      "text/html": [
       "<div>\n",
       "<style scoped>\n",
       "    .dataframe tbody tr th:only-of-type {\n",
       "        vertical-align: middle;\n",
       "    }\n",
       "\n",
       "    .dataframe tbody tr th {\n",
       "        vertical-align: top;\n",
       "    }\n",
       "\n",
       "    .dataframe thead th {\n",
       "        text-align: right;\n",
       "    }\n",
       "</style>\n",
       "<table border=\"1\" class=\"dataframe\">\n",
       "  <thead>\n",
       "    <tr style=\"text-align: right;\">\n",
       "      <th></th>\n",
       "      <th>text vectors</th>\n",
       "      <th>title vectors</th>\n",
       "    </tr>\n",
       "  </thead>\n",
       "  <tbody>\n",
       "    <tr>\n",
       "      <th>0</th>\n",
       "      <td>[0.008834114481816448, 0.05166873736198561, -0...</td>\n",
       "      <td>[0.040770919971266126, 0.02212772196924937, -0...</td>\n",
       "    </tr>\n",
       "    <tr>\n",
       "      <th>1</th>\n",
       "      <td>[-0.04595350526754455, 0.05047324200943339, -0...</td>\n",
       "      <td>[-0.012668296569971172, 0.08048460857437947, 0...</td>\n",
       "    </tr>\n",
       "    <tr>\n",
       "      <th>2</th>\n",
       "      <td>[-0.05915092547000351, -0.002569132896685051, ...</td>\n",
       "      <td>[-0.040710699278773604, -0.04334424421439586, ...</td>\n",
       "    </tr>\n",
       "    <tr>\n",
       "      <th>3</th>\n",
       "      <td>[-0.019015265903291584, 0.15123159556118845, -...</td>\n",
       "      <td>[0.0076860149448073995, 0.047660269854411665, ...</td>\n",
       "    </tr>\n",
       "    <tr>\n",
       "      <th>4</th>\n",
       "      <td>[-0.12990275646026334, -0.008399360124800782, ...</td>\n",
       "      <td>[-0.053393402950479556, 0.05670180141290753, 0...</td>\n",
       "    </tr>\n",
       "  </tbody>\n",
       "</table>\n",
       "</div>"
      ],
      "text/plain": [
       "                                        text vectors  \\\n",
       "0  [0.008834114481816448, 0.05166873736198561, -0...   \n",
       "1  [-0.04595350526754455, 0.05047324200943339, -0...   \n",
       "2  [-0.05915092547000351, -0.002569132896685051, ...   \n",
       "3  [-0.019015265903291584, 0.15123159556118845, -...   \n",
       "4  [-0.12990275646026334, -0.008399360124800782, ...   \n",
       "\n",
       "                                       title vectors  \n",
       "0  [0.040770919971266126, 0.02212772196924937, -0...  \n",
       "1  [-0.012668296569971172, 0.08048460857437947, 0...  \n",
       "2  [-0.040710699278773604, -0.04334424421439586, ...  \n",
       "3  [0.0076860149448073995, 0.047660269854411665, ...  \n",
       "4  [-0.053393402950479556, 0.05670180141290753, 0...  "
      ]
     },
     "execution_count": 270,
     "metadata": {},
     "output_type": "execute_result"
    }
   ],
   "source": [
    "test_sample_vectorized.head()"
   ]
  },
  {
   "cell_type": "code",
   "execution_count": 165,
   "metadata": {},
   "outputs": [
    {
     "data": {
      "text/html": [
       "<div>\n",
       "<style scoped>\n",
       "    .dataframe tbody tr th:only-of-type {\n",
       "        vertical-align: middle;\n",
       "    }\n",
       "\n",
       "    .dataframe tbody tr th {\n",
       "        vertical-align: top;\n",
       "    }\n",
       "\n",
       "    .dataframe thead th {\n",
       "        text-align: right;\n",
       "    }\n",
       "</style>\n",
       "<table border=\"1\" class=\"dataframe\">\n",
       "  <thead>\n",
       "    <tr style=\"text-align: right;\">\n",
       "      <th></th>\n",
       "      <th>text vectors</th>\n",
       "      <th>title vectors</th>\n",
       "      <th>pair class</th>\n",
       "    </tr>\n",
       "  </thead>\n",
       "  <tbody>\n",
       "    <tr>\n",
       "      <th>0</th>\n",
       "      <td>[lg, sh7b, от, 819, 00, доставка]</td>\n",
       "      <td>[lg, sh7b]</td>\n",
       "      <td>1</td>\n",
       "    </tr>\n",
       "    <tr>\n",
       "      <th>1</th>\n",
       "      <td>[нужный, перевод, медицинский, документация, к...</td>\n",
       "      <td>[перевод, медицинский, документация]</td>\n",
       "      <td>1</td>\n",
       "    </tr>\n",
       "    <tr>\n",
       "      <th>2</th>\n",
       "      <td>[результат, на, 3, день, зубной, паста, крест,...</td>\n",
       "      <td>[зубной, паста, крест]</td>\n",
       "      <td>1</td>\n",
       "    </tr>\n",
       "    <tr>\n",
       "      <th>3</th>\n",
       "      <td>[массив, бук, и, дуб, древесный, шпон, ciplex,...</td>\n",
       "      <td>[межкомнатный, дверь, из, россия]</td>\n",
       "      <td>1</td>\n",
       "    </tr>\n",
       "    <tr>\n",
       "      <th>4</th>\n",
       "      <td>[купить, Gerat, лента, пробивной, Gerat, 19мм,...</td>\n",
       "      <td>[Gerat, 19мм, 3, 2мм, 30м, 50327]</td>\n",
       "      <td>1</td>\n",
       "    </tr>\n",
       "  </tbody>\n",
       "</table>\n",
       "</div>"
      ],
      "text/plain": [
       "                                        text vectors  \\\n",
       "0                  [lg, sh7b, от, 819, 00, доставка]   \n",
       "1  [нужный, перевод, медицинский, документация, к...   \n",
       "2  [результат, на, 3, день, зубной, паста, крест,...   \n",
       "3  [массив, бук, и, дуб, древесный, шпон, ciplex,...   \n",
       "4  [купить, Gerat, лента, пробивной, Gerat, 19мм,...   \n",
       "\n",
       "                          title vectors  pair class  \n",
       "0                            [lg, sh7b]           1  \n",
       "1  [перевод, медицинский, документация]           1  \n",
       "2                [зубной, паста, крест]           1  \n",
       "3     [межкомнатный, дверь, из, россия]           1  \n",
       "4     [Gerat, 19мм, 3, 2мм, 30м, 50327]           1  "
      ]
     },
     "execution_count": 165,
     "metadata": {},
     "output_type": "execute_result"
    }
   ],
   "source": [
    "training_df_mixed.head()"
   ]
  },
  {
   "cell_type": "code",
   "execution_count": 166,
   "metadata": {},
   "outputs": [
    {
     "data": {
      "text/plain": [
       "0                              [lg, sh7b]\n",
       "1    [перевод, медицинский, документация]\n",
       "2                  [зубной, паста, крест]\n",
       "3       [межкомнатный, дверь, из, россия]\n",
       "4       [Gerat, 19мм, 3, 2мм, 30м, 50327]\n",
       "Name: title vectors, dtype: object"
      ]
     },
     "execution_count": 166,
     "metadata": {},
     "output_type": "execute_result"
    }
   ],
   "source": [
    "training_df_mixed.iloc[:5, 1]"
   ]
  },
  {
   "cell_type": "code",
   "execution_count": 167,
   "metadata": {},
   "outputs": [],
   "source": [
    "merged_trainig_examples = training_df_mixed.iloc[:, 1]+training_df_mixed.iloc[:, 0]"
   ]
  },
  {
   "cell_type": "code",
   "execution_count": 168,
   "metadata": {},
   "outputs": [
    {
     "data": {
      "text/plain": [
       "137074"
      ]
     },
     "execution_count": 168,
     "metadata": {},
     "output_type": "execute_result"
    }
   ],
   "source": [
    "len(merged_trainig_examples)"
   ]
  },
  {
   "cell_type": "code",
   "execution_count": 169,
   "metadata": {},
   "outputs": [],
   "source": [
    "merged_test_examples = test_df_mixed.iloc[:, 1]+test_df_mixed.iloc[:, 0]"
   ]
  },
  {
   "cell_type": "code",
   "execution_count": 170,
   "metadata": {},
   "outputs": [
    {
     "data": {
      "text/plain": [
       "58746"
      ]
     },
     "execution_count": 170,
     "metadata": {},
     "output_type": "execute_result"
    }
   ],
   "source": [
    "len(merged_test_examples)"
   ]
  },
  {
   "cell_type": "code",
   "execution_count": 171,
   "metadata": {},
   "outputs": [
    {
     "data": {
      "text/plain": [
       "30"
      ]
     },
     "execution_count": 171,
     "metadata": {},
     "output_type": "execute_result"
    }
   ],
   "source": [
    "max([len(x) for x in merged_trainig_examples])"
   ]
  },
  {
   "cell_type": "code",
   "execution_count": 172,
   "metadata": {},
   "outputs": [
    {
     "data": {
      "text/plain": [
       "29"
      ]
     },
     "execution_count": 172,
     "metadata": {},
     "output_type": "execute_result"
    }
   ],
   "source": [
    "max([len(x) for x in merged_test_examples])"
   ]
  },
  {
   "cell_type": "code",
   "execution_count": 173,
   "metadata": {},
   "outputs": [],
   "source": [
    "training_df_mixed['concatenated_text_title'] = training_df_mixed['text vectors'] + training_df_mixed['title vectors']"
   ]
  },
  {
   "cell_type": "code",
   "execution_count": 174,
   "metadata": {},
   "outputs": [],
   "source": [
    "test_df_mixed['concatenated_text_title'] = test_df_mixed['text vectors'] + test_df_mixed['title vectors']"
   ]
  },
  {
   "cell_type": "code",
   "execution_count": 175,
   "metadata": {},
   "outputs": [
    {
     "data": {
      "text/plain": [
       "0    [электрочайник, Zigmund, Shtain, KE, 81, SD, 1...\n",
       "1    [сабвуфер, огромный, ассортимент, бесплатный, ...\n",
       "2    [Onkyo, Tx, nr545, Black, в, наличие, быстрый,...\n",
       "3    [шаблон, ордер, входить, в, состав, сборник, 1...\n",
       "4    [шпаклевка, финишный, белый, сравнивать, цена,...\n",
       "Name: concatenated_text_title, dtype: object"
      ]
     },
     "execution_count": 175,
     "metadata": {},
     "output_type": "execute_result"
    }
   ],
   "source": [
    "test_df_mixed['concatenated_text_title'].head()"
   ]
  },
  {
   "cell_type": "code",
   "execution_count": 176,
   "metadata": {},
   "outputs": [
    {
     "data": {
      "text/plain": [
       "['нужный',\n",
       " 'перевод',\n",
       " 'медицинский',\n",
       " 'документация',\n",
       " 'качество',\n",
       " 'и',\n",
       " 'скорость',\n",
       " 'звонить',\n",
       " 'сейчас',\n",
       " 'перевод',\n",
       " 'медицинский',\n",
       " 'документация']"
      ]
     },
     "execution_count": 176,
     "metadata": {},
     "output_type": "execute_result"
    }
   ],
   "source": [
    "training_df_mixed['concatenated_text_title'][1]"
   ]
  },
  {
   "cell_type": "code",
   "execution_count": 177,
   "metadata": {},
   "outputs": [
    {
     "name": "stderr",
     "output_type": "stream",
     "text": [
      "Using TensorFlow backend.\n"
     ]
    }
   ],
   "source": [
    "import keras.utils as ku \n",
    "from keras.preprocessing.sequence import pad_sequences"
   ]
  },
  {
   "cell_type": "code",
   "execution_count": 178,
   "metadata": {},
   "outputs": [],
   "source": [
    "import keras\n",
    "\n",
    "from keras.utils import to_categorical\n",
    "y_reshaped_tr = to_categorical(training_df_mixed['pair class'], 2)\n",
    "y_reshaped_test = to_categorical(test_df_mixed['pair class'], 2)"
   ]
  },
  {
   "cell_type": "code",
   "execution_count": 179,
   "metadata": {},
   "outputs": [],
   "source": [
    "word_vectors = model.wv"
   ]
  },
  {
   "cell_type": "code",
   "execution_count": 180,
   "metadata": {},
   "outputs": [
    {
     "data": {
      "text/plain": [
       "300"
      ]
     },
     "execution_count": 180,
     "metadata": {},
     "output_type": "execute_result"
    }
   ],
   "source": [
    "len(word_vectors['нужно'])"
   ]
  },
  {
   "cell_type": "code",
   "execution_count": 181,
   "metadata": {},
   "outputs": [
    {
     "name": "stdout",
     "output_type": "stream",
     "text": [
      "Number of word vectors: 21000\n"
     ]
    }
   ],
   "source": [
    "print(\"Number of word vectors: {}\".format(len(word_vectors.vocab)))"
   ]
  },
  {
   "cell_type": "code",
   "execution_count": 182,
   "metadata": {},
   "outputs": [
    {
     "data": {
      "text/plain": [
       "[('компьютерный', 0.7494558095932007),\n",
       " ('Multitronics', 0.7406046986579895),\n",
       " ('пк', 0.7373472452163696),\n",
       " ('чистка', 0.7356412410736084),\n",
       " ('надо', 0.7342972755432129),\n",
       " ('настройка', 0.7297109961509705),\n",
       " ('обслуживание', 0.7271108627319336),\n",
       " ('починять', 0.7242568731307983),\n",
       " ('ноутбук', 0.7236716151237488),\n",
       " ('администратор', 0.7209975123405457)]"
      ]
     },
     "execution_count": 182,
     "metadata": {},
     "output_type": "execute_result"
    }
   ],
   "source": [
    "model.wv.most_similar_cosmul(positive=['компьютер']) #negative=['man'])"
   ]
  },
  {
   "cell_type": "code",
   "execution_count": 183,
   "metadata": {},
   "outputs": [],
   "source": [
    "MAX_NB_WORDS = len(word_vectors.vocab)\n",
    "MAX_SEQUENCE_LENGTH = 30"
   ]
  },
  {
   "cell_type": "code",
   "execution_count": 184,
   "metadata": {},
   "outputs": [],
   "source": [
    "from collections import Counter\n",
    "vocab=Counter()\n",
    "\n",
    "for entry in training_df_mixed['concatenated_text_title']:\n",
    "    vocab.update(entry)"
   ]
  },
  {
   "cell_type": "code",
   "execution_count": 186,
   "metadata": {},
   "outputs": [
    {
     "data": {
      "text/plain": [
       "21000"
      ]
     },
     "execution_count": 186,
     "metadata": {},
     "output_type": "execute_result"
    }
   ],
   "source": [
    "MAX_NB_WORDS"
   ]
  },
  {
   "cell_type": "code",
   "execution_count": 187,
   "metadata": {},
   "outputs": [],
   "source": [
    "word_index = {t[0]: i+1 for i,t in enumerate(vocab.most_common(MAX_NB_WORDS))}"
   ]
  },
  {
   "cell_type": "code",
   "execution_count": 188,
   "metadata": {},
   "outputs": [],
   "source": [
    "training_sequences = [[word_index.get(t, 0) for t in ad_title_combo]\n",
    "             for ad_title_combo in training_df_mixed['concatenated_text_title']]"
   ]
  },
  {
   "cell_type": "code",
   "execution_count": 189,
   "metadata": {},
   "outputs": [],
   "source": [
    "test_sequences = [[word_index.get(t, 0)  for t in ad_title_combo] \n",
    "                  for ad_title_combo in test_df_mixed['concatenated_text_title']]"
   ]
  },
  {
   "cell_type": "code",
   "execution_count": 190,
   "metadata": {},
   "outputs": [],
   "source": [
    "# pad sequences\n",
    "data = pad_sequences(training_sequences, maxlen=MAX_SEQUENCE_LENGTH, \n",
    "                     padding=\"pre\", truncating=\"post\")"
   ]
  },
  {
   "cell_type": "code",
   "execution_count": 191,
   "metadata": {},
   "outputs": [
    {
     "data": {
      "text/html": [
       "<div>\n",
       "<style scoped>\n",
       "    .dataframe tbody tr th:only-of-type {\n",
       "        vertical-align: middle;\n",
       "    }\n",
       "\n",
       "    .dataframe tbody tr th {\n",
       "        vertical-align: top;\n",
       "    }\n",
       "\n",
       "    .dataframe thead th {\n",
       "        text-align: right;\n",
       "    }\n",
       "</style>\n",
       "<table border=\"1\" class=\"dataframe\">\n",
       "  <thead>\n",
       "    <tr style=\"text-align: right;\">\n",
       "      <th></th>\n",
       "      <th>text vectors</th>\n",
       "      <th>title vectors</th>\n",
       "      <th>pair class</th>\n",
       "      <th>concatenated_text_title</th>\n",
       "    </tr>\n",
       "  </thead>\n",
       "  <tbody>\n",
       "    <tr>\n",
       "      <th>0</th>\n",
       "      <td>[lg, sh7b, от, 819, 00, доставка]</td>\n",
       "      <td>[lg, sh7b]</td>\n",
       "      <td>1</td>\n",
       "      <td>[lg, sh7b, от, 819, 00, доставка, lg, sh7b]</td>\n",
       "    </tr>\n",
       "    <tr>\n",
       "      <th>1</th>\n",
       "      <td>[нужный, перевод, медицинский, документация, к...</td>\n",
       "      <td>[перевод, медицинский, документация]</td>\n",
       "      <td>1</td>\n",
       "      <td>[нужный, перевод, медицинский, документация, к...</td>\n",
       "    </tr>\n",
       "    <tr>\n",
       "      <th>2</th>\n",
       "      <td>[результат, на, 3, день, зубной, паста, крест,...</td>\n",
       "      <td>[зубной, паста, крест]</td>\n",
       "      <td>1</td>\n",
       "      <td>[результат, на, 3, день, зубной, паста, крест,...</td>\n",
       "    </tr>\n",
       "    <tr>\n",
       "      <th>3</th>\n",
       "      <td>[массив, бук, и, дуб, древесный, шпон, ciplex,...</td>\n",
       "      <td>[межкомнатный, дверь, из, россия]</td>\n",
       "      <td>1</td>\n",
       "      <td>[массив, бук, и, дуб, древесный, шпон, ciplex,...</td>\n",
       "    </tr>\n",
       "    <tr>\n",
       "      <th>4</th>\n",
       "      <td>[купить, Gerat, лента, пробивной, Gerat, 19мм,...</td>\n",
       "      <td>[Gerat, 19мм, 3, 2мм, 30м, 50327]</td>\n",
       "      <td>1</td>\n",
       "      <td>[купить, Gerat, лента, пробивной, Gerat, 19мм,...</td>\n",
       "    </tr>\n",
       "  </tbody>\n",
       "</table>\n",
       "</div>"
      ],
      "text/plain": [
       "                                        text vectors  \\\n",
       "0                  [lg, sh7b, от, 819, 00, доставка]   \n",
       "1  [нужный, перевод, медицинский, документация, к...   \n",
       "2  [результат, на, 3, день, зубной, паста, крест,...   \n",
       "3  [массив, бук, и, дуб, древесный, шпон, ciplex,...   \n",
       "4  [купить, Gerat, лента, пробивной, Gerat, 19мм,...   \n",
       "\n",
       "                          title vectors  pair class  \\\n",
       "0                            [lg, sh7b]           1   \n",
       "1  [перевод, медицинский, документация]           1   \n",
       "2                [зубной, паста, крест]           1   \n",
       "3     [межкомнатный, дверь, из, россия]           1   \n",
       "4     [Gerat, 19мм, 3, 2мм, 30м, 50327]           1   \n",
       "\n",
       "                             concatenated_text_title  \n",
       "0        [lg, sh7b, от, 819, 00, доставка, lg, sh7b]  \n",
       "1  [нужный, перевод, медицинский, документация, к...  \n",
       "2  [результат, на, 3, день, зубной, паста, крест,...  \n",
       "3  [массив, бук, и, дуб, древесный, шпон, ciplex,...  \n",
       "4  [купить, Gerat, лента, пробивной, Gerat, 19мм,...  "
      ]
     },
     "execution_count": 191,
     "metadata": {},
     "output_type": "execute_result"
    }
   ],
   "source": [
    "training_df_mixed.head()"
   ]
  },
  {
   "cell_type": "code",
   "execution_count": 192,
   "metadata": {},
   "outputs": [
    {
     "data": {
      "text/plain": [
       "(137074, 30)"
      ]
     },
     "execution_count": 192,
     "metadata": {},
     "output_type": "execute_result"
    }
   ],
   "source": [
    "data.shape"
   ]
  },
  {
   "cell_type": "code",
   "execution_count": 193,
   "metadata": {},
   "outputs": [
    {
     "data": {
      "text/plain": [
       "0"
      ]
     },
     "execution_count": 193,
     "metadata": {},
     "output_type": "execute_result"
    }
   ],
   "source": [
    "word_index.get('цены', 0)"
   ]
  },
  {
   "cell_type": "code",
   "execution_count": 195,
   "metadata": {},
   "outputs": [],
   "source": [
    "# pad sequences\n",
    "test_data = pad_sequences(test_sequences, maxlen=MAX_SEQUENCE_LENGTH, \n",
    "                     padding=\"pre\", truncating=\"post\")"
   ]
  },
  {
   "cell_type": "code",
   "execution_count": 196,
   "metadata": {},
   "outputs": [
    {
     "data": {
      "text/plain": [
       "(58746, 30)"
      ]
     },
     "execution_count": 196,
     "metadata": {},
     "output_type": "execute_result"
    }
   ],
   "source": [
    "test_data.shape"
   ]
  },
  {
   "cell_type": "code",
   "execution_count": 197,
   "metadata": {},
   "outputs": [
    {
     "data": {
      "text/plain": [
       "(137074, 2)"
      ]
     },
     "execution_count": 197,
     "metadata": {},
     "output_type": "execute_result"
    }
   ],
   "source": [
    "y_reshaped_tr.shape"
   ]
  },
  {
   "cell_type": "code",
   "execution_count": 198,
   "metadata": {},
   "outputs": [
    {
     "data": {
      "text/plain": [
       "(58746, 2)"
      ]
     },
     "execution_count": 198,
     "metadata": {},
     "output_type": "execute_result"
    }
   ],
   "source": [
    "y_reshaped_test.shape"
   ]
  },
  {
   "cell_type": "code",
   "execution_count": 200,
   "metadata": {},
   "outputs": [
    {
     "data": {
      "text/plain": [
       "21000"
      ]
     },
     "execution_count": 200,
     "metadata": {},
     "output_type": "execute_result"
    }
   ],
   "source": [
    "MAX_NB_WORDS"
   ]
  },
  {
   "cell_type": "code",
   "execution_count": 202,
   "metadata": {},
   "outputs": [
    {
     "data": {
      "text/plain": [
       "21000"
      ]
     },
     "execution_count": 202,
     "metadata": {},
     "output_type": "execute_result"
    }
   ],
   "source": [
    "len(word_vectors.vocab)"
   ]
  },
  {
   "cell_type": "code",
   "execution_count": 203,
   "metadata": {},
   "outputs": [],
   "source": [
    "WV_DIM = 300\n",
    "nb_words = min(MAX_NB_WORDS, len(word_vectors.vocab))"
   ]
  },
  {
   "cell_type": "code",
   "execution_count": 204,
   "metadata": {},
   "outputs": [],
   "source": [
    "length_maxtrix = len(word_vectors.vocab)+1\n",
    "\n",
    "embedding_matrix = np.zeros((length_maxtrix, 300))\n",
    "\n",
    "for word, i in word_index.items():\n",
    "    if i >= MAX_NB_WORDS:\n",
    "            continue\n",
    "    try:        \n",
    "        embedding_vector = word_vectors[word]\n",
    "        # words not found in embedding index will be all-zeros.\n",
    "        if embedding_vector is not None:  \n",
    "            embedding_matrix[i] = embedding_vector\n",
    "    except:\n",
    "        pass"
   ]
  },
  {
   "cell_type": "code",
   "execution_count": 206,
   "metadata": {},
   "outputs": [
    {
     "data": {
      "text/plain": [
       "(21001, 300)"
      ]
     },
     "execution_count": 206,
     "metadata": {},
     "output_type": "execute_result"
    }
   ],
   "source": [
    "embedding_matrix.shape"
   ]
  },
  {
   "cell_type": "code",
   "execution_count": 529,
   "metadata": {},
   "outputs": [],
   "source": [
    "from keras.layers import Dense, Input, Embedding, Dropout, LSTM, GRU, Bidirectional\n",
    "from keras.models import Sequential\n",
    "from keras.layers.normalization import BatchNormalization"
   ]
  },
  {
   "cell_type": "code",
   "execution_count": 549,
   "metadata": {},
   "outputs": [],
   "source": [
    "model_rnn = Sequential()\n",
    "model_rnn.add(Embedding(nb_words+1,\n",
    "                     WV_DIM,\n",
    "                     mask_zero=False,\n",
    "                     weights=[embedding_matrix],\n",
    "                     input_length=MAX_SEQUENCE_LENGTH,\n",
    "                     trainable=False))\n",
    "\n",
    "model_rnn.add(Bidirectional(GRU(400)))\n",
    "model_rnn.add(Dropout(0.5))\n",
    "model_rnn.add(BatchNormalization())\n",
    "model_rnn.add(Dense(2, activation = 'softmax'))\n",
    "\n",
    "model_rnn.compile(loss='categorical_crossentropy', \n",
    "                   optimizer = 'adam', \n",
    "                   metrics = ['accuracy']) "
   ]
  },
  {
   "cell_type": "code",
   "execution_count": 209,
   "metadata": {},
   "outputs": [
    {
     "data": {
      "text/plain": [
       "137074"
      ]
     },
     "execution_count": 209,
     "metadata": {},
     "output_type": "execute_result"
    }
   ],
   "source": [
    "len(y_reshaped_tr)"
   ]
  },
  {
   "cell_type": "code",
   "execution_count": 550,
   "metadata": {},
   "outputs": [
    {
     "name": "stdout",
     "output_type": "stream",
     "text": [
      "Train on 137074 samples, validate on 58746 samples\n",
      "Epoch 1/15\n",
      "137074/137074 [==============================] - 468s 3ms/step - loss: 0.3738 - acc: 0.8228 - val_loss: 0.1746 - val_acc: 0.9332\n",
      "Epoch 2/15\n",
      "137074/137074 [==============================] - 474s 3ms/step - loss: 0.1311 - acc: 0.9518 - val_loss: 0.1208 - val_acc: 0.9547\n",
      "Epoch 3/15\n",
      "137074/137074 [==============================] - 484s 4ms/step - loss: 0.0767 - acc: 0.9725 - val_loss: 0.1127 - val_acc: 0.9601\n",
      "Epoch 4/15\n",
      "137074/137074 [==============================] - 503s 4ms/step - loss: 0.0526 - acc: 0.9811 - val_loss: 0.1119 - val_acc: 0.9626\n",
      "Epoch 5/15\n",
      "137074/137074 [==============================] - 468s 3ms/step - loss: 0.0362 - acc: 0.9871 - val_loss: 0.1257 - val_acc: 0.9627\n",
      "Epoch 6/15\n",
      "137074/137074 [==============================] - 464s 3ms/step - loss: 0.0288 - acc: 0.9898 - val_loss: 0.1254 - val_acc: 0.9651\n",
      "Epoch 7/15\n",
      "137074/137074 [==============================] - 466s 3ms/step - loss: 0.0231 - acc: 0.9920 - val_loss: 0.1444 - val_acc: 0.9628\n",
      "Epoch 8/15\n",
      "137074/137074 [==============================] - 466s 3ms/step - loss: 0.0221 - acc: 0.9926 - val_loss: 0.1367 - val_acc: 0.9655\n",
      "Epoch 9/15\n",
      "137074/137074 [==============================] - 491s 4ms/step - loss: 0.0178 - acc: 0.9939 - val_loss: 0.1497 - val_acc: 0.9623\n",
      "Epoch 10/15\n",
      "137074/137074 [==============================] - 474s 3ms/step - loss: 0.0176 - acc: 0.9941 - val_loss: 0.1451 - val_acc: 0.9642\n",
      "Epoch 11/15\n",
      "137074/137074 [==============================] - 477s 3ms/step - loss: 0.0153 - acc: 0.9949 - val_loss: 0.1550 - val_acc: 0.9641\n",
      "Epoch 12/15\n",
      "137074/137074 [==============================] - 469s 3ms/step - loss: 0.0151 - acc: 0.9947 - val_loss: 0.1554 - val_acc: 0.9658\n",
      "Epoch 13/15\n",
      "137074/137074 [==============================] - 465s 3ms/step - loss: 0.0153 - acc: 0.9949 - val_loss: 0.1503 - val_acc: 0.9659\n",
      "Epoch 14/15\n",
      "137074/137074 [==============================] - 467s 3ms/step - loss: 0.0135 - acc: 0.9956 - val_loss: 0.1591 - val_acc: 0.9653\n",
      "Epoch 15/15\n",
      "137074/137074 [==============================] - 489s 4ms/step - loss: 0.0130 - acc: 0.9956 - val_loss: 0.1548 - val_acc: 0.9655\n"
     ]
    },
    {
     "data": {
      "text/plain": [
       "<keras.callbacks.History at 0x2a99b98d0>"
      ]
     },
     "execution_count": 550,
     "metadata": {},
     "output_type": "execute_result"
    }
   ],
   "source": [
    "model_rnn.fit(data, y_reshaped_tr, \n",
    "               verbose = 1, \n",
    "               epochs=15, \n",
    "               batch_size=256,\n",
    "               shuffle=True,\n",
    "               validation_data = (test_data, y_reshaped_test))"
   ]
  },
  {
   "cell_type": "code",
   "execution_count": 533,
   "metadata": {},
   "outputs": [
    {
     "name": "stdout",
     "output_type": "stream",
     "text": [
      "Test loss: 0.1633272879462693\n",
      "Test accuracy: 0.9631123821074583\n"
     ]
    }
   ],
   "source": [
    "scores = model_rnn.evaluate(test_data, y_reshaped_test, verbose=0)\n",
    "print('Test loss:', scores[0])\n",
    "print('Test accuracy:', scores[1])"
   ]
  },
  {
   "cell_type": "code",
   "execution_count": 421,
   "metadata": {},
   "outputs": [],
   "source": [
    "def probability_calculator_rnn(text_vector, title_vectors, model):\n",
    "    list_concat_arrays = []\n",
    "    for each in title_vectors:\n",
    "        resultant_list = list(text_vector) +list(each)\n",
    "        resultant_array = np.array(list(resultant_list))\n",
    "        list_concat_arrays.append(resultant_array)\n",
    "    \n",
    "    made_array = np.array(list_concat_arrays)\n",
    "    training_sequences = [[word_index.get(t, 0) for t in combo]\n",
    "                         for combo in  made_array]\n",
    "    training_padded = pad_sequences(training_sequences, maxlen=MAX_SEQUENCE_LENGTH, \n",
    "                     padding=\"pre\", truncating=\"post\")         \n",
    "    predictions = model.predict(training_padded)[:, 1]\n",
    "        \n",
    "    return predictions"
   ]
  },
  {
   "cell_type": "code",
   "execution_count": 426,
   "metadata": {},
   "outputs": [],
   "source": [
    "def rank_checker_rnn (df, number):\n",
    "    probabilities = probability_calculator_lstm(df.iloc[number, 0], df.iloc[:, 1])\n",
    "    series = pd.Series(probabilities, index =df.index)\n",
    "\n",
    "    sorted_df = series.sort_values(ascending=False)\n",
    "    sorted_index = sorted_df.index\n",
    "    \n",
    "    for rank, entry in enumerate(sorted_index):\n",
    "        if entry == df.index[number]:\n",
    "            return rank"
   ]
  },
  {
   "cell_type": "code",
   "execution_count": 551,
   "metadata": {},
   "outputs": [
    {
     "name": "stdout",
     "output_type": "stream",
     "text": [
      "0\n",
      "0\n",
      "0\n",
      "4\n",
      "1\n",
      "0\n",
      "0\n",
      "30\n",
      "2\n",
      "2\n",
      "59\n",
      "113\n",
      "1\n",
      "0\n",
      "0\n",
      "0\n",
      "0\n",
      "0\n",
      "0\n",
      "0\n",
      "6\n",
      "0\n",
      "0\n",
      "0\n",
      "0\n",
      "67\n",
      "0\n",
      "46\n",
      "449\n",
      "0\n",
      "1\n",
      "1\n",
      "0\n",
      "2\n",
      "3\n",
      "0\n",
      "0\n",
      "8\n",
      "0\n",
      "1\n",
      "4\n",
      "0\n",
      "2\n",
      "0\n",
      "0\n",
      "0\n",
      "0\n",
      "0\n",
      "5\n",
      "1\n",
      "0\n",
      "1\n",
      "21\n",
      "0\n",
      "0\n",
      "0\n",
      "0\n",
      "0\n",
      "345\n",
      "1\n",
      "1\n",
      "0\n",
      "4\n",
      "7\n",
      "1\n",
      "0\n",
      "0\n",
      "1\n",
      "0\n",
      "3\n",
      "0\n",
      "3\n",
      "0\n",
      "0\n",
      "0\n",
      "107\n",
      "10\n",
      "7\n",
      "3\n",
      "0\n",
      "0\n",
      "0\n",
      "0\n",
      "0\n",
      "0\n",
      "0\n",
      "0\n",
      "0\n",
      "34\n",
      "4\n",
      "7\n",
      "0\n",
      "16\n",
      "0\n",
      "0\n",
      "0\n",
      "3\n",
      "1\n",
      "1\n",
      "0\n",
      "0\n",
      "0\n",
      "5\n",
      "3\n",
      "18\n",
      "6\n",
      "0\n",
      "1\n",
      "0\n",
      "0\n",
      "0\n",
      "1\n",
      "0\n",
      "32\n",
      "0\n",
      "4\n",
      "0\n",
      "1\n",
      "0\n",
      "2\n",
      "0\n",
      "13\n",
      "0\n",
      "0\n",
      "5\n",
      "0\n",
      "0\n",
      "0\n",
      "0\n",
      "7\n",
      "8\n",
      "0\n",
      "0\n",
      "0\n",
      "9\n",
      "1\n",
      "0\n",
      "0\n",
      "3\n",
      "0\n",
      "0\n",
      "0\n",
      "0\n",
      "0\n",
      "8\n",
      "0\n",
      "1\n",
      "8\n",
      "2\n",
      "0\n",
      "36\n",
      "1\n",
      "0\n",
      "1\n",
      "4\n",
      "0\n",
      "1\n",
      "0\n",
      "2\n",
      "1\n",
      "0\n",
      "3\n",
      "0\n",
      "1\n",
      "1\n",
      "0\n",
      "11\n",
      "0\n",
      "0\n",
      "0\n",
      "8\n",
      "0\n",
      "206\n",
      "0\n",
      "13\n",
      "0\n",
      "6\n",
      "0\n",
      "17\n",
      "1\n",
      "1\n",
      "0\n",
      "0\n",
      "0\n",
      "0\n",
      "0\n",
      "0\n",
      "29\n",
      "0\n",
      "0\n",
      "1\n",
      "0\n",
      "7\n",
      "0\n",
      "0\n",
      "0\n",
      "2\n",
      "0\n",
      "0\n",
      "3\n",
      "0\n",
      "0\n",
      "1\n",
      "0\n",
      "1\n",
      "0\n",
      "0\n",
      "0\n",
      "0\n",
      "2\n",
      "0\n",
      "5\n",
      "0\n",
      "4\n",
      "0\n",
      "16\n",
      "0\n",
      "9\n",
      "1\n",
      "0\n",
      "57\n",
      "0\n",
      "0\n",
      "0\n",
      "0\n",
      "0\n",
      "0\n",
      "1\n",
      "18\n",
      "0\n",
      "34\n",
      "0\n",
      "0\n",
      "0\n",
      "1\n",
      "0\n",
      "1\n",
      "1\n",
      "17\n",
      "24\n",
      "0\n",
      "0\n",
      "5\n",
      "1\n",
      "2\n",
      "3\n",
      "0\n",
      "2\n",
      "0\n",
      "1\n",
      "0\n",
      "0\n",
      "0\n",
      "0\n",
      "0\n",
      "0\n",
      "0\n",
      "3\n",
      "1\n",
      "0\n",
      "1\n",
      "7\n",
      "0\n",
      "0\n",
      "81\n",
      "0\n",
      "2\n",
      "1\n",
      "4\n",
      "0\n",
      "0\n",
      "0\n",
      "0\n",
      "19\n",
      "1\n",
      "0\n",
      "0\n",
      "0\n",
      "1\n",
      "0\n",
      "73\n",
      "2\n",
      "0\n",
      "1\n",
      "0\n",
      "1\n",
      "2\n",
      "0\n",
      "0\n",
      "1\n",
      "0\n",
      "0\n",
      "0\n",
      "0\n",
      "4\n",
      "3\n",
      "0\n",
      "0\n",
      "0\n",
      "4\n",
      "1\n",
      "58\n",
      "1\n",
      "0\n",
      "36\n",
      "1\n",
      "0\n",
      "2\n",
      "0\n",
      "0\n",
      "0\n",
      "0\n",
      "9\n",
      "1\n",
      "0\n",
      "0\n",
      "0\n",
      "0\n",
      "0\n",
      "1\n",
      "103\n",
      "0\n",
      "1\n",
      "2\n",
      "4\n",
      "0\n",
      "1\n",
      "103\n",
      "0\n",
      "5\n",
      "0\n",
      "0\n",
      "153\n",
      "0\n",
      "2\n",
      "0\n",
      "0\n",
      "4\n",
      "1\n",
      "30\n",
      "0\n",
      "0\n",
      "0\n",
      "0\n",
      "0\n",
      "4\n",
      "0\n",
      "0\n",
      "1\n",
      "83\n",
      "0\n",
      "0\n",
      "3\n",
      "0\n",
      "0\n",
      "1\n",
      "0\n",
      "0\n",
      "0\n",
      "0\n",
      "1\n",
      "60\n",
      "0\n",
      "0\n",
      "5\n",
      "156\n",
      "0\n",
      "0\n",
      "2\n",
      "0\n",
      "0\n",
      "1\n",
      "1\n",
      "0\n",
      "9\n",
      "0\n",
      "0\n",
      "3\n",
      "13\n",
      "6\n",
      "0\n",
      "0\n",
      "16\n",
      "0\n",
      "2\n",
      "0\n",
      "4\n",
      "2\n",
      "0\n",
      "0\n",
      "5\n",
      "0\n",
      "6\n",
      "0\n",
      "0\n",
      "17\n",
      "0\n",
      "0\n",
      "0\n",
      "18\n",
      "1\n",
      "9\n",
      "0\n",
      "7\n",
      "2\n",
      "3\n",
      "0\n",
      "0\n",
      "1\n",
      "1\n",
      "0\n",
      "3\n",
      "0\n",
      "87\n",
      "0\n",
      "24\n",
      "0\n",
      "0\n",
      "21\n",
      "0\n",
      "157\n",
      "0\n",
      "0\n",
      "5\n",
      "0\n",
      "0\n",
      "0\n",
      "312\n",
      "2\n",
      "0\n",
      "4\n",
      "0\n",
      "7\n",
      "0\n",
      "0\n",
      "6\n",
      "0\n",
      "0\n",
      "0\n",
      "0\n",
      "0\n",
      "2\n",
      "0\n",
      "0\n",
      "0\n",
      "0\n",
      "2\n",
      "8\n",
      "0\n",
      "0\n",
      "0\n",
      "1\n",
      "0\n",
      "4\n",
      "0\n",
      "2\n",
      "0\n",
      "3\n",
      "0\n",
      "0\n",
      "10\n",
      "5\n",
      "0\n",
      "2\n",
      "1\n",
      "72\n",
      "5\n",
      "0\n",
      "4\n",
      "0\n",
      "0\n",
      "11\n",
      "0\n",
      "0\n",
      "4\n",
      "2\n",
      "0\n",
      "3\n",
      "0\n",
      "0\n",
      "0\n",
      "1\n",
      "172\n",
      "0\n",
      "0\n",
      "0\n",
      "0\n",
      "2\n",
      "0\n",
      "43\n",
      "1\n",
      "0\n",
      "14\n",
      "1\n",
      "0\n",
      "3\n",
      "0\n",
      "2\n",
      "0\n",
      "0\n",
      "1\n",
      "0\n",
      "0\n",
      "0\n",
      "0\n",
      "5\n",
      "1\n",
      "0\n",
      "0\n",
      "0\n",
      "12\n",
      "0\n",
      "0\n",
      "30\n",
      "0\n",
      "2\n",
      "0\n",
      "1\n",
      "281\n",
      "0\n",
      "0\n",
      "0\n",
      "0\n",
      "4\n",
      "1\n",
      "45\n",
      "1\n",
      "0\n",
      "0\n",
      "0\n",
      "4\n",
      "34\n",
      "0\n",
      "0\n",
      "0\n",
      "0\n",
      "0\n",
      "1\n",
      "0\n",
      "0\n",
      "0\n",
      "17\n",
      "0\n",
      "4\n",
      "1\n",
      "0\n",
      "7\n",
      "0\n",
      "0\n",
      "1\n",
      "0\n",
      "2\n",
      "1\n",
      "46\n",
      "0\n",
      "0\n",
      "4\n",
      "0\n",
      "1\n",
      "0\n",
      "0\n",
      "0\n",
      "212\n",
      "0\n",
      "1\n",
      "0\n",
      "0\n",
      "1\n",
      "0\n",
      "0\n",
      "1\n",
      "2\n",
      "0\n",
      "0\n",
      "0\n",
      "0\n",
      "1\n",
      "0\n",
      "0\n",
      "8\n",
      "4\n",
      "0\n",
      "1\n",
      "3\n",
      "33\n",
      "0\n",
      "2\n",
      "1\n",
      "0\n",
      "1\n",
      "0\n",
      "215\n",
      "0\n",
      "0\n",
      "0\n",
      "12\n",
      "0\n",
      "0\n",
      "142\n",
      "40\n",
      "10\n",
      "38\n",
      "0\n",
      "0\n",
      "0\n",
      "1\n",
      "2\n",
      "0\n",
      "0\n",
      "0\n",
      "0\n",
      "4\n",
      "0\n",
      "6\n",
      "2\n",
      "0\n",
      "29\n",
      "1\n",
      "1\n",
      "10\n",
      "0\n",
      "0\n",
      "1\n",
      "0\n",
      "3\n",
      "0\n",
      "0\n",
      "0\n",
      "0\n",
      "0\n",
      "0\n",
      "0\n",
      "216\n",
      "1\n",
      "0\n",
      "0\n",
      "0\n",
      "0\n",
      "0\n",
      "2\n",
      "4\n",
      "0\n",
      "39\n",
      "0\n",
      "6\n",
      "38\n",
      "1\n",
      "1\n",
      "0\n",
      "0\n",
      "0\n",
      "0\n",
      "0\n",
      "2\n",
      "0\n",
      "5\n",
      "0\n",
      "0\n",
      "0\n",
      "0\n",
      "3\n",
      "10\n",
      "0\n",
      "2\n",
      "0\n",
      "0\n",
      "2\n",
      "0\n",
      "1\n",
      "0\n",
      "0\n",
      "0\n",
      "0\n",
      "0\n",
      "0\n",
      "0\n",
      "0\n",
      "11\n",
      "6\n",
      "2\n",
      "0\n",
      "1\n",
      "0\n",
      "4\n",
      "20\n",
      "4\n",
      "7\n",
      "0\n",
      "0\n",
      "1\n",
      "0\n",
      "0\n",
      "0\n",
      "2\n",
      "2\n",
      "0\n",
      "1\n",
      "0\n",
      "4\n",
      "0\n",
      "2\n",
      "96\n",
      "0\n",
      "0\n",
      "0\n",
      "0\n",
      "1\n",
      "0\n",
      "0\n",
      "0\n",
      "3\n",
      "18\n",
      "2\n",
      "2\n",
      "0\n",
      "22\n",
      "0\n",
      "1\n",
      "22\n",
      "0\n",
      "50\n",
      "0\n",
      "184\n",
      "0\n",
      "0\n",
      "0\n",
      "2\n",
      "0\n",
      "2\n",
      "1\n",
      "0\n",
      "0\n",
      "2\n",
      "5\n",
      "3\n",
      "0\n",
      "0\n",
      "1\n",
      "1\n",
      "0\n",
      "0\n",
      "0\n",
      "48\n",
      "0\n",
      "0\n",
      "10\n",
      "0\n",
      "0\n",
      "1\n",
      "1\n",
      "0\n",
      "0\n",
      "0\n",
      "19\n",
      "0\n",
      "0\n",
      "0\n",
      "4\n",
      "7\n",
      "0\n",
      "0\n",
      "0\n",
      "1\n",
      "0\n",
      "15\n",
      "0\n",
      "2\n",
      "0\n",
      "0\n",
      "0\n",
      "0\n",
      "2\n",
      "1\n",
      "36\n",
      "3\n",
      "2\n",
      "0\n",
      "0\n",
      "0\n",
      "0\n",
      "0\n",
      "0\n",
      "0\n",
      "0\n",
      "1\n",
      "0\n",
      "0\n",
      "0\n",
      "1\n",
      "0\n",
      "0\n",
      "0\n",
      "0\n",
      "4\n",
      "0\n",
      "0\n",
      "0\n",
      "2\n",
      "0\n",
      "1\n",
      "5\n",
      "17\n",
      "0\n",
      "0\n",
      "0\n",
      "0\n",
      "0\n",
      "2\n",
      "0\n",
      "0\n",
      "4\n",
      "1\n",
      "0\n",
      "4\n",
      "0\n",
      "9\n",
      "1\n",
      "1\n",
      "0\n",
      "1\n",
      "5\n",
      "0\n",
      "0\n",
      "0\n",
      "0\n",
      "2\n",
      "0\n",
      "32\n",
      "0\n",
      "0\n",
      "0\n",
      "1\n",
      "0\n",
      "1\n",
      "1\n",
      "3\n",
      "6\n",
      "82\n",
      "5\n",
      "1\n",
      "0\n",
      "17\n",
      "0\n",
      "0\n",
      "0\n",
      "50\n",
      "0\n",
      "0\n",
      "3\n",
      "19\n",
      "0\n",
      "38\n",
      "1\n",
      "1\n",
      "0\n",
      "26\n",
      "3\n",
      "1\n",
      "2\n",
      "0\n",
      "0\n",
      "1\n",
      "36\n",
      "0\n",
      "0\n",
      "0\n",
      "12\n",
      "0\n",
      "0\n",
      "0\n",
      "0\n",
      "168\n",
      "2\n",
      "1\n",
      "0\n",
      "0\n",
      "4\n",
      "4\n",
      "0\n",
      "0\n",
      "8\n",
      "0\n",
      "1\n",
      "4\n",
      "0\n",
      "0\n",
      "4\n",
      "0\n",
      "0\n",
      "1\n",
      "0\n",
      "3\n",
      "0\n",
      "0\n",
      "2\n",
      "0\n",
      "0\n",
      "0\n",
      "0\n",
      "2\n",
      "0\n",
      "0\n",
      "0\n",
      "8\n",
      "1\n",
      "0\n",
      "0\n",
      "0\n",
      "4\n",
      "0\n",
      "2\n",
      "6\n",
      "11\n",
      "0\n",
      "4\n",
      "33\n",
      "0\n",
      "2\n",
      "0\n",
      "0\n",
      "1\n",
      "0\n",
      "2\n",
      "0\n",
      "6\n",
      "14\n",
      "1\n",
      "2\n",
      "1\n",
      "659\n",
      "1\n",
      "0\n",
      "0\n",
      "0\n",
      "1\n",
      "0\n",
      "7\n",
      "0\n",
      "14\n",
      "0\n",
      "0\n",
      "2\n",
      "0\n",
      "1\n",
      "0\n",
      "0\n",
      "5\n",
      "0\n",
      "10\n",
      "0\n",
      "1\n",
      "0\n",
      "0\n",
      "10\n",
      "0\n",
      "177\n",
      "0\n",
      "2\n",
      "0\n",
      "0\n",
      "0\n",
      "0\n",
      "0\n",
      "0\n",
      "1\n",
      "0\n",
      "0\n",
      "2\n",
      "5\n",
      "0\n",
      "0\n",
      "186\n",
      "1\n",
      "0\n",
      "4\n",
      "0\n",
      "0\n",
      "0\n",
      "0\n",
      "2\n",
      "2\n",
      "6\n",
      "3\n",
      "1\n",
      "0\n",
      "0\n",
      "11\n",
      "2\n",
      "0\n",
      "0\n",
      "0\n",
      "0\n",
      "0\n",
      "0\n",
      "0\n",
      "3\n",
      "0\n",
      "0\n",
      "0\n",
      "3\n"
     ]
    }
   ],
   "source": [
    "ranks_rnn = []\n",
    "for row in range(len(sample_test_df_checking)):     \n",
    "    rank = rank_checker_rnn(sample_test_df_checking, row)\n",
    "\n",
    "    ranks_rnn.append(rank)"
   ]
  },
  {
   "cell_type": "code",
   "execution_count": 552,
   "metadata": {},
   "outputs": [
    {
     "data": {
      "text/plain": [
       "8.364"
      ]
     },
     "execution_count": 552,
     "metadata": {},
     "output_type": "execute_result"
    }
   ],
   "source": [
    "np.mean(ranks_rnn)"
   ]
  },
  {
   "cell_type": "code",
   "execution_count": 559,
   "metadata": {},
   "outputs": [],
   "source": [
    "small_rnn = []\n",
    "for rank in ranks_lstm:\n",
    "    if rank <=3:\n",
    "        small_lstm.append(rank)"
   ]
  },
  {
   "cell_type": "code",
   "execution_count": 562,
   "metadata": {},
   "outputs": [
    {
     "data": {
      "text/plain": [
       "0.793"
      ]
     },
     "execution_count": 562,
     "metadata": {},
     "output_type": "execute_result"
    }
   ],
   "source": [
    "len(small_lstm)/ len(ranks_lstm)"
   ]
  },
  {
   "cell_type": "code",
   "execution_count": 571,
   "metadata": {},
   "outputs": [
    {
     "data": {
      "text/plain": [
       "659"
      ]
     },
     "execution_count": 571,
     "metadata": {},
     "output_type": "execute_result"
    }
   ],
   "source": [
    "np.max(ranks_lstm)"
   ]
  },
  {
   "cell_type": "code",
   "execution_count": 572,
   "metadata": {},
   "outputs": [
    {
     "data": {
      "image/png": "[encoded data removed]",
      "text/plain": [
       "<Figure size 720x360 with 1 Axes>"
      ]
     },
     "metadata": {
      "needs_background": "light"
     },
     "output_type": "display_data"
    }
   ],
   "source": [
    "plt.figure(figsize=(10, 5))\n",
    "plt.hist([rank for rank in ranks_lstm])\n",
    "plt.title('Ranks of The Correct Title as Predicted By GRU')\n",
    "plt.show()"
   ]
  },
  {
   "cell_type": "code",
   "execution_count": 221,
   "metadata": {},
   "outputs": [],
   "source": [
    "ngram_inputs = []\n",
    "for i in range (1, len(training_sequences[1])):\n",
    "    ngram_seq = training_sequences[1][:i+1]\n",
    "    ngram_inputs.append(ngram_seq)"
   ]
  },
  {
   "cell_type": "code",
   "execution_count": 222,
   "metadata": {},
   "outputs": [
    {
     "data": {
      "text/plain": [
       "[[246, 1890],\n",
       " [246, 1890, 625],\n",
       " [246, 1890, 625, 8380],\n",
       " [246, 1890, 625, 8380, 105],\n",
       " [246, 1890, 625, 8380, 105, 17],\n",
       " [246, 1890, 625, 8380, 105, 17, 3795],\n",
       " [246, 1890, 625, 8380, 105, 17, 3795, 19],\n",
       " [246, 1890, 625, 8380, 105, 17, 3795, 19, 71],\n",
       " [246, 1890, 625, 8380, 105, 17, 3795, 19, 71, 1890],\n",
       " [246, 1890, 625, 8380, 105, 17, 3795, 19, 71, 1890, 625],\n",
       " [246, 1890, 625, 8380, 105, 17, 3795, 19, 71, 1890, 625, 8380]]"
      ]
     },
     "execution_count": 222,
     "metadata": {},
     "output_type": "execute_result"
    }
   ],
   "source": [
    "ngram_inputs"
   ]
  },
  {
   "cell_type": "code",
   "execution_count": 223,
   "metadata": {},
   "outputs": [
    {
     "data": {
      "text/plain": [
       "[246, 1890, 625, 8380, 105, 17, 3795, 19, 71, 1890, 625, 8380]"
      ]
     },
     "execution_count": 223,
     "metadata": {},
     "output_type": "execute_result"
    }
   ],
   "source": [
    "training_sequences[1]"
   ]
  },
  {
   "cell_type": "code",
   "execution_count": 224,
   "metadata": {},
   "outputs": [],
   "source": [
    "def ngram_sequence_generator(input_text):\n",
    "    ngram_inputs = []\n",
    "    for entry in input_text:\n",
    "        for i in range(1, len(entry)):\n",
    "            ngram_seq = entry[:i+1]\n",
    "            ngram_inputs.append(ngram_seq)\n",
    "            \n",
    "    return ngram_inputs"
   ]
  },
  {
   "cell_type": "code",
   "execution_count": 225,
   "metadata": {},
   "outputs": [],
   "source": [
    "ngram_input_sequences_training = ngram_sequence_generator(training_sequences)"
   ]
  },
  {
   "cell_type": "code",
   "execution_count": 365,
   "metadata": {},
   "outputs": [
    {
     "data": {
      "text/plain": [
       "[[602, 0],\n",
       " [602, 0, 9],\n",
       " [602, 0, 9, 5889],\n",
       " [602, 0, 9, 5889, 24],\n",
       " [602, 0, 9, 5889, 24, 7],\n",
       " [602, 0, 9, 5889, 24, 7, 602],\n",
       " [602, 0, 9, 5889, 24, 7, 602, 0],\n",
       " [246, 1890],\n",
       " [246, 1890, 625],\n",
       " [246, 1890, 625, 8380],\n",
       " [246, 1890, 625, 8380, 105],\n",
       " [246, 1890, 625, 8380, 105, 17],\n",
       " [246, 1890, 625, 8380, 105, 17, 3795],\n",
       " [246, 1890, 625, 8380, 105, 17, 3795, 19],\n",
       " [246, 1890, 625, 8380, 105, 17, 3795, 19, 71],\n",
       " [246, 1890, 625, 8380, 105, 17, 3795, 19, 71, 1890],\n",
       " [246, 1890, 625, 8380, 105, 17, 3795, 19, 71, 1890, 625],\n",
       " [246, 1890, 625, 8380, 105, 17, 3795, 19, 71, 1890, 625, 8380],\n",
       " [691, 14],\n",
       " [691, 14, 29],\n",
       " [691, 14, 29, 30],\n",
       " [691, 14, 29, 30, 1096],\n",
       " [691, 14, 29, 30, 1096, 2374],\n",
       " [691, 14, 29, 30, 1096, 2374, 3575],\n",
       " [691, 14, 29, 30, 1096, 2374, 3575, 499],\n",
       " [691, 14, 29, 30, 1096, 2374, 3575, 499, 1676],\n",
       " [691, 14, 29, 30, 1096, 2374, 3575, 499, 1676, 38],\n",
       " [691, 14, 29, 30, 1096, 2374, 3575, 499, 1676, 38, 14],\n",
       " [691, 14, 29, 30, 1096, 2374, 3575, 499, 1676, 38, 14, 63],\n",
       " [691, 14, 29, 30, 1096, 2374, 3575, 499, 1676, 38, 14, 63, 1096],\n",
       " [691, 14, 29, 30, 1096, 2374, 3575, 499, 1676, 38, 14, 63, 1096, 2374],\n",
       " [691, 14, 29, 30, 1096, 2374, 3575, 499, 1676, 38, 14, 63, 1096, 2374, 3575],\n",
       " [3066, 5581],\n",
       " [3066, 5581, 17],\n",
       " [3066, 5581, 17, 2648],\n",
       " [3066, 5581, 17, 2648, 8055],\n",
       " [3066, 5581, 17, 2648, 8055, 8056],\n",
       " [3066, 5581, 17, 2648, 8055, 8056, 0],\n",
       " [3066, 5581, 17, 2648, 8055, 8056, 0, 36],\n",
       " [3066, 5581, 17, 2648, 8055, 8056, 0, 36, 43],\n",
       " [3066, 5581, 17, 2648, 8055, 8056, 0, 36, 43, 1961],\n",
       " [3066, 5581, 17, 2648, 8055, 8056, 0, 36, 43, 1961, 56],\n",
       " [3066, 5581, 17, 2648, 8055, 8056, 0, 36, 43, 1961, 56, 13],\n",
       " [3066, 5581, 17, 2648, 8055, 8056, 0, 36, 43, 1961, 56, 13, 800],\n",
       " [3066, 5581, 17, 2648, 8055, 8056, 0, 36, 43, 1961, 56, 13, 800, 62],\n",
       " [3066, 5581, 17, 2648, 8055, 8056, 0, 36, 43, 1961, 56, 13, 800, 62, 44],\n",
       " [3066, 5581, 17, 2648, 8055, 8056, 0, 36, 43, 1961, 56, 13, 800, 62, 44, 119],\n",
       " [2, 6905],\n",
       " [2, 6905, 2253],\n",
       " [2, 6905, 2253, 0],\n",
       " [2, 6905, 2253, 0, 6905],\n",
       " [2, 6905, 2253, 0, 6905, 19426],\n",
       " [2, 6905, 2253, 0, 6905, 19426, 29],\n",
       " [2, 6905, 2253, 0, 6905, 19426, 29, 0],\n",
       " [2, 6905, 2253, 0, 6905, 19426, 29, 0, 11088],\n",
       " [2, 6905, 2253, 0, 6905, 19426, 29, 0, 11088, 0],\n",
       " [2, 6905, 2253, 0, 6905, 19426, 29, 0, 11088, 0, 459],\n",
       " [2, 6905, 2253, 0, 6905, 19426, 29, 0, 11088, 0, 459, 11],\n",
       " [2, 6905, 2253, 0, 6905, 19426, 29, 0, 11088, 0, 459, 11, 20],\n",
       " [2, 6905, 2253, 0, 6905, 19426, 29, 0, 11088, 0, 459, 11, 20, 6905],\n",
       " [2, 6905, 2253, 0, 6905, 19426, 29, 0, 11088, 0, 459, 11, 20, 6905, 19426],\n",
       " [2,\n",
       "  6905,\n",
       "  2253,\n",
       "  0,\n",
       "  6905,\n",
       "  19426,\n",
       "  29,\n",
       "  0,\n",
       "  11088,\n",
       "  0,\n",
       "  459,\n",
       "  11,\n",
       "  20,\n",
       "  6905,\n",
       "  19426,\n",
       "  29],\n",
       " [2,\n",
       "  6905,\n",
       "  2253,\n",
       "  0,\n",
       "  6905,\n",
       "  19426,\n",
       "  29,\n",
       "  0,\n",
       "  11088,\n",
       "  0,\n",
       "  459,\n",
       "  11,\n",
       "  20,\n",
       "  6905,\n",
       "  19426,\n",
       "  29,\n",
       "  0],\n",
       " [2,\n",
       "  6905,\n",
       "  2253,\n",
       "  0,\n",
       "  6905,\n",
       "  19426,\n",
       "  29,\n",
       "  0,\n",
       "  11088,\n",
       "  0,\n",
       "  459,\n",
       "  11,\n",
       "  20,\n",
       "  6905,\n",
       "  19426,\n",
       "  29,\n",
       "  0,\n",
       "  11088],\n",
       " [2,\n",
       "  6905,\n",
       "  2253,\n",
       "  0,\n",
       "  6905,\n",
       "  19426,\n",
       "  29,\n",
       "  0,\n",
       "  11088,\n",
       "  0,\n",
       "  459,\n",
       "  11,\n",
       "  20,\n",
       "  6905,\n",
       "  19426,\n",
       "  29,\n",
       "  0,\n",
       "  11088,\n",
       "  0],\n",
       " [998, 2766],\n",
       " [998, 2766, 8],\n",
       " [998, 2766, 8, 1],\n",
       " [998, 2766, 8, 1, 5],\n",
       " [998, 2766, 8, 1, 5, 6],\n",
       " [998, 2766, 8, 1, 5, 6, 4],\n",
       " [998, 2766, 8, 1, 5, 6, 4, 998],\n",
       " [998, 2766, 8, 1, 5, 6, 4, 998, 2766],\n",
       " [2, 4186],\n",
       " [2, 4186, 279],\n",
       " [2, 4186, 279, 1742],\n",
       " [2, 4186, 279, 1742, 33],\n",
       " [2, 4186, 279, 1742, 33, 3],\n",
       " [2, 4186, 279, 1742, 33, 3, 28],\n",
       " [2, 4186, 279, 1742, 33, 3, 28, 4186],\n",
       " [2, 4186, 279, 1742, 33, 3, 28, 4186, 5890],\n",
       " [2, 4186, 279, 1742, 33, 3, 28, 4186, 5890, 0],\n",
       " [2, 4186, 279, 1742, 33, 3, 28, 4186, 5890, 0, 4974],\n",
       " [2, 4186, 279, 1742, 33, 3, 28, 4186, 5890, 0, 4974, 0],\n",
       " [2, 4186, 279, 1742, 33, 3, 28, 4186, 5890, 0, 4974, 0, 33],\n",
       " [2, 4186, 279, 1742, 33, 3, 28, 4186, 5890, 0, 4974, 0, 33, 28],\n",
       " [2, 4186, 279, 1742, 33, 3, 28, 4186, 5890, 0, 4974, 0, 33, 28, 4186],\n",
       " [2, 4186, 279, 1742, 33, 3, 28, 4186, 5890, 0, 4974, 0, 33, 28, 4186, 5890],\n",
       " [2,\n",
       "  4186,\n",
       "  279,\n",
       "  1742,\n",
       "  33,\n",
       "  3,\n",
       "  28,\n",
       "  4186,\n",
       "  5890,\n",
       "  0,\n",
       "  4974,\n",
       "  0,\n",
       "  33,\n",
       "  28,\n",
       "  4186,\n",
       "  5890,\n",
       "  0],\n",
       " [2,\n",
       "  4186,\n",
       "  279,\n",
       "  1742,\n",
       "  33,\n",
       "  3,\n",
       "  28,\n",
       "  4186,\n",
       "  5890,\n",
       "  0,\n",
       "  4974,\n",
       "  0,\n",
       "  33,\n",
       "  28,\n",
       "  4186,\n",
       "  5890,\n",
       "  0,\n",
       "  4974],\n",
       " [2,\n",
       "  4186,\n",
       "  279,\n",
       "  1742,\n",
       "  33,\n",
       "  3,\n",
       "  28,\n",
       "  4186,\n",
       "  5890,\n",
       "  0,\n",
       "  4974,\n",
       "  0,\n",
       "  33,\n",
       "  28,\n",
       "  4186,\n",
       "  5890,\n",
       "  0,\n",
       "  4974,\n",
       "  0],\n",
       " [3376, 835],\n",
       " [3376, 835, 13449],\n",
       " [3376, 835, 13449, 296],\n",
       " [3376, 835, 13449, 296, 35],\n",
       " [3376, 835, 13449, 296, 35, 94],\n",
       " [3376, 835, 13449, 296, 35, 94, 1],\n",
       " [3376, 835, 13449, 296, 35, 94, 1, 7],\n",
       " [3376, 835, 13449, 296, 35, 94, 1, 7, 25],\n",
       " [3376, 835, 13449, 296, 35, 94, 1, 7, 25, 3376],\n",
       " [3376, 835, 13449, 296, 35, 94, 1, 7, 25, 3376, 835],\n",
       " [3376, 835, 13449, 296, 35, 94, 1, 7, 25, 3376, 835, 13449],\n",
       " [3376, 835, 13449, 296, 35, 94, 1, 7, 25, 3376, 835, 13449, 23],\n",
       " [2, 126],\n",
       " [2, 126, 7647],\n",
       " [2, 126, 7647, 658],\n",
       " [2, 126, 7647, 658, 126],\n",
       " [2, 126, 7647, 658, 126, 0],\n",
       " [2, 126, 7647, 658, 126, 0, 0],\n",
       " [2, 126, 7647, 658, 126, 0, 0, 1908],\n",
       " [2, 126, 7647, 658, 126, 0, 0, 1908, 3283],\n",
       " [2, 126, 7647, 658, 126, 0, 0, 1908, 3283, 0],\n",
       " [2, 126, 7647, 658, 126, 0, 0, 1908, 3283, 0, 126],\n",
       " [2, 126, 7647, 658, 126, 0, 0, 1908, 3283, 0, 126, 0],\n",
       " [2, 126, 7647, 658, 126, 0, 0, 1908, 3283, 0, 126, 0, 0],\n",
       " [2, 126, 7647, 658, 126, 0, 0, 1908, 3283, 0, 126, 0, 0, 1908],\n",
       " [2, 126, 7647, 658, 126, 0, 0, 1908, 3283, 0, 126, 0, 0, 1908, 3283],\n",
       " [443, 11],\n",
       " [443, 11, 828],\n",
       " [443, 11, 828, 348],\n",
       " [443, 11, 828, 348, 64],\n",
       " [443, 11, 828, 348, 64, 7648],\n",
       " [443, 11, 828, 348, 64, 7648, 75],\n",
       " [443, 11, 828, 348, 64, 7648, 75, 425],\n",
       " [443, 11, 828, 348, 64, 7648, 75, 425, 7426],\n",
       " [443, 11, 828, 348, 64, 7648, 75, 425, 7426, 10],\n",
       " [443, 11, 828, 348, 64, 7648, 75, 425, 7426, 10, 16],\n",
       " [443, 11, 828, 348, 64, 7648, 75, 425, 7426, 10, 16, 13],\n",
       " [443, 11, 828, 348, 64, 7648, 75, 425, 7426, 10, 16, 13, 7648],\n",
       " [443, 11, 828, 348, 64, 7648, 75, 425, 7426, 10, 16, 13, 7648, 75],\n",
       " [443, 11, 828, 348, 64, 7648, 75, 425, 7426, 10, 16, 13, 7648, 75, 425],\n",
       " [443, 11, 828, 348, 64, 7648, 75, 425, 7426, 10, 16, 13, 7648, 75, 425, 882],\n",
       " [443,\n",
       "  11,\n",
       "  828,\n",
       "  348,\n",
       "  64,\n",
       "  7648,\n",
       "  75,\n",
       "  425,\n",
       "  7426,\n",
       "  10,\n",
       "  16,\n",
       "  13,\n",
       "  7648,\n",
       "  75,\n",
       "  425,\n",
       "  882,\n",
       "  12],\n",
       " [89, 11089],\n",
       " [89, 11089, 1],\n",
       " [89, 11089, 1, 277],\n",
       " [89, 11089, 1, 277, 275],\n",
       " [89, 11089, 1, 277, 275, 15],\n",
       " [89, 11089, 1, 277, 275, 15, 78],\n",
       " [89, 11089, 1, 277, 275, 15, 78, 7],\n",
       " [89, 11089, 1, 277, 275, 15, 78, 7, 342],\n",
       " [89, 11089, 1, 277, 275, 15, 78, 7, 342, 17],\n",
       " [89, 11089, 1, 277, 275, 15, 78, 7, 342, 17, 1725],\n",
       " [89, 11089, 1, 277, 275, 15, 78, 7, 342, 17, 1725, 14],\n",
       " [89, 11089, 1, 277, 275, 15, 78, 7, 342, 17, 1725, 14, 29],\n",
       " [89, 11089, 1, 277, 275, 15, 78, 7, 342, 17, 1725, 14, 29, 652],\n",
       " [89, 11089, 1, 277, 275, 15, 78, 7, 342, 17, 1725, 14, 29, 652, 89],\n",
       " [89, 11089, 1, 277, 275, 15, 78, 7, 342, 17, 1725, 14, 29, 652, 89, 692],\n",
       " [89,\n",
       "  11089,\n",
       "  1,\n",
       "  277,\n",
       "  275,\n",
       "  15,\n",
       "  78,\n",
       "  7,\n",
       "  342,\n",
       "  17,\n",
       "  1725,\n",
       "  14,\n",
       "  29,\n",
       "  652,\n",
       "  89,\n",
       "  692,\n",
       "  2877],\n",
       " [89,\n",
       "  11089,\n",
       "  1,\n",
       "  277,\n",
       "  275,\n",
       "  15,\n",
       "  78,\n",
       "  7,\n",
       "  342,\n",
       "  17,\n",
       "  1725,\n",
       "  14,\n",
       "  29,\n",
       "  652,\n",
       "  89,\n",
       "  692,\n",
       "  2877,\n",
       "  1007],\n",
       " [0, 266],\n",
       " [0, 266, 57],\n",
       " [0, 266, 57, 98],\n",
       " [0, 266, 57, 98, 29],\n",
       " [0, 266, 57, 98, 29, 57],\n",
       " [0, 266, 57, 98, 29, 57, 22],\n",
       " [0, 266, 57, 98, 29, 57, 22, 28],\n",
       " [0, 266, 57, 98, 29, 57, 22, 28, 30],\n",
       " [0, 266, 57, 98, 29, 57, 22, 28, 30, 96],\n",
       " [0, 266, 57, 98, 29, 57, 22, 28, 30, 96, 19],\n",
       " [0, 266, 57, 98, 29, 57, 22, 28, 30, 96, 19, 0],\n",
       " [0, 266, 57, 98, 29, 57, 22, 28, 30, 96, 19, 0, 266],\n",
       " [0, 266, 57, 98, 29, 57, 22, 28, 30, 96, 19, 0, 266, 57],\n",
       " [287, 64],\n",
       " [287, 64, 12755],\n",
       " [287, 64, 12755, 281],\n",
       " [287, 64, 12755, 281, 4283],\n",
       " [287, 64, 12755, 281, 4283, 49],\n",
       " [287, 64, 12755, 281, 4283, 49, 12],\n",
       " [287, 64, 12755, 281, 4283, 49, 12, 10],\n",
       " [287, 64, 12755, 281, 4283, 49, 12, 10, 16],\n",
       " [287, 64, 12755, 281, 4283, 49, 12, 10, 16, 13],\n",
       " [287, 64, 12755, 281, 4283, 49, 12, 10, 16, 13, 2],\n",
       " [287, 64, 12755, 281, 4283, 49, 12, 10, 16, 13, 2, 31],\n",
       " [287, 64, 12755, 281, 4283, 49, 12, 10, 16, 13, 2, 31, 64],\n",
       " [287, 64, 12755, 281, 4283, 49, 12, 10, 16, 13, 2, 31, 64, 12755],\n",
       " [287, 64, 12755, 281, 4283, 49, 12, 10, 16, 13, 2, 31, 64, 12755, 281],\n",
       " [287, 64, 12755, 281, 4283, 49, 12, 10, 16, 13, 2, 31, 64, 12755, 281, 4283],\n",
       " [287,\n",
       "  64,\n",
       "  12755,\n",
       "  281,\n",
       "  4283,\n",
       "  49,\n",
       "  12,\n",
       "  10,\n",
       "  16,\n",
       "  13,\n",
       "  2,\n",
       "  31,\n",
       "  64,\n",
       "  12755,\n",
       "  281,\n",
       "  4283,\n",
       "  49],\n",
       " [287,\n",
       "  64,\n",
       "  12755,\n",
       "  281,\n",
       "  4283,\n",
       "  49,\n",
       "  12,\n",
       "  10,\n",
       "  16,\n",
       "  13,\n",
       "  2,\n",
       "  31,\n",
       "  64,\n",
       "  12755,\n",
       "  281,\n",
       "  4283,\n",
       "  49,\n",
       "  15],\n",
       " [7427, 2050],\n",
       " [7427, 2050, 16192],\n",
       " [7427, 2050, 16192, 2649],\n",
       " [7427, 2050, 16192, 2649, 0],\n",
       " [7427, 2050, 16192, 2649, 0, 6257],\n",
       " [7427, 2050, 16192, 2649, 0, 6257, 0],\n",
       " [7427, 2050, 16192, 2649, 0, 6257, 0, 10],\n",
       " [7427, 2050, 16192, 2649, 0, 6257, 0, 10, 0],\n",
       " [7427, 2050, 16192, 2649, 0, 6257, 0, 10, 0, 2649],\n",
       " [7427, 2050, 16192, 2649, 0, 6257, 0, 10, 0, 2649, 0],\n",
       " [7427, 2050, 16192, 2649, 0, 6257, 0, 10, 0, 2649, 0, 25],\n",
       " [172, 2593],\n",
       " [172, 2593, 3],\n",
       " [172, 2593, 3, 27],\n",
       " [172, 2593, 3, 27, 47],\n",
       " [172, 2593, 3, 27, 47, 1453],\n",
       " [172, 2593, 3, 27, 47, 1453, 18],\n",
       " [172, 2593, 3, 27, 47, 1453, 18, 52],\n",
       " [172, 2593, 3, 27, 47, 1453, 18, 52, 23],\n",
       " [172, 2593, 3, 27, 47, 1453, 18, 52, 23, 95],\n",
       " [172, 2593, 3, 27, 47, 1453, 18, 52, 23, 95, 13],\n",
       " [172, 2593, 3, 27, 47, 1453, 18, 52, 23, 95, 13, 2],\n",
       " [172, 2593, 3, 27, 47, 1453, 18, 52, 23, 95, 13, 2, 172],\n",
       " [172, 2593, 3, 27, 47, 1453, 18, 52, 23, 95, 13, 2, 172, 2593],\n",
       " [172, 2593, 3, 27, 47, 1453, 18, 52, 23, 95, 13, 2, 172, 2593, 25],\n",
       " [2, 45],\n",
       " [2, 45, 408],\n",
       " [2, 45, 408, 115],\n",
       " [2, 45, 408, 115, 20],\n",
       " [2, 45, 408, 115, 20, 885],\n",
       " [2, 45, 408, 115, 20, 885, 45],\n",
       " [2, 45, 408, 115, 20, 885, 45, 0],\n",
       " [2, 45, 408, 115, 20, 885, 45, 0, 33],\n",
       " [2, 45, 408, 115, 20, 885, 45, 0, 33, 2347],\n",
       " [2, 45, 408, 115, 20, 885, 45, 0, 33, 2347, 45],\n",
       " [2, 45, 408, 115, 20, 885, 45, 0, 33, 2347, 45, 0],\n",
       " [2, 45, 408, 115, 20, 885, 45, 0, 33, 2347, 45, 0, 33],\n",
       " [2, 45, 408, 115, 20, 885, 45, 0, 33, 2347, 45, 0, 33, 2347],\n",
       " [2, 45, 408, 115, 20, 885, 45, 0, 33, 2347, 45, 0, 33, 2347, 21],\n",
       " [168, 55],\n",
       " [168, 55, 53],\n",
       " [168, 55, 53, 9200],\n",
       " [168, 55, 53, 9200, 7649],\n",
       " [168, 55, 53, 9200, 7649, 654],\n",
       " [168, 55, 53, 9200, 7649, 654, 12],\n",
       " [168, 55, 53, 9200, 7649, 654, 12, 10],\n",
       " [168, 55, 53, 9200, 7649, 654, 12, 10, 16],\n",
       " [168, 55, 53, 9200, 7649, 654, 12, 10, 16, 13],\n",
       " [168, 55, 53, 9200, 7649, 654, 12, 10, 16, 13, 2],\n",
       " [168, 55, 53, 9200, 7649, 654, 12, 10, 16, 13, 2, 31],\n",
       " [168, 55, 53, 9200, 7649, 654, 12, 10, 16, 13, 2, 31, 53],\n",
       " [168, 55, 53, 9200, 7649, 654, 12, 10, 16, 13, 2, 31, 53, 9200],\n",
       " [168, 55, 53, 9200, 7649, 654, 12, 10, 16, 13, 2, 31, 53, 9200, 7649],\n",
       " [168, 55, 53, 9200, 7649, 654, 12, 10, 16, 13, 2, 31, 53, 9200, 7649, 654],\n",
       " [168,\n",
       "  55,\n",
       "  53,\n",
       "  9200,\n",
       "  7649,\n",
       "  654,\n",
       "  12,\n",
       "  10,\n",
       "  16,\n",
       "  13,\n",
       "  2,\n",
       "  31,\n",
       "  53,\n",
       "  9200,\n",
       "  7649,\n",
       "  654,\n",
       "  15],\n",
       " [179, 6094],\n",
       " [179, 6094, 738],\n",
       " [179, 6094, 738, 741],\n",
       " [179, 6094, 738, 741, 22],\n",
       " [179, 6094, 738, 741, 22, 29],\n",
       " [179, 6094, 738, 741, 22, 29, 30],\n",
       " [179, 6094, 738, 741, 22, 29, 30, 190],\n",
       " [179, 6094, 738, 741, 22, 29, 30, 190, 1],\n",
       " [179, 6094, 738, 741, 22, 29, 30, 190, 1, 179],\n",
       " [179, 6094, 738, 741, 22, 29, 30, 190, 1, 179, 6094],\n",
       " [179, 6094, 738, 741, 22, 29, 30, 190, 1, 179, 6094, 738],\n",
       " [150, 1698],\n",
       " [150, 1698, 17],\n",
       " [150, 1698, 17, 6258],\n",
       " [150, 1698, 17, 6258, 21],\n",
       " [150, 1698, 17, 6258, 21, 31],\n",
       " [150, 1698, 17, 6258, 21, 31, 4],\n",
       " [150, 1698, 17, 6258, 21, 31, 4, 462],\n",
       " [150, 1698, 17, 6258, 21, 31, 4, 462, 1698],\n",
       " [2, 1369],\n",
       " [2, 1369, 1065],\n",
       " [2, 1369, 1065, 141],\n",
       " [2, 1369, 1065, 141, 1369],\n",
       " [2, 1369, 1065, 141, 1369, 11090],\n",
       " [2, 1369, 1065, 141, 1369, 11090, 0],\n",
       " [2, 1369, 1065, 141, 1369, 11090, 0, 141],\n",
       " [2, 1369, 1065, 141, 1369, 11090, 0, 141, 871],\n",
       " [2, 1369, 1065, 141, 1369, 11090, 0, 141, 871, 1369],\n",
       " [2, 1369, 1065, 141, 1369, 11090, 0, 141, 871, 1369, 11090],\n",
       " [2, 1369, 1065, 141, 1369, 11090, 0, 141, 871, 1369, 11090, 0],\n",
       " [2, 1369, 1065, 141, 1369, 11090, 0, 141, 871, 1369, 11090, 0, 21],\n",
       " [111, 601],\n",
       " [111, 601, 199],\n",
       " [111, 601, 199, 1426],\n",
       " [111, 601, 199, 1426, 1755],\n",
       " [111, 601, 199, 1426, 1755, 1677],\n",
       " [111, 601, 199, 1426, 1755, 1677, 1284],\n",
       " [111, 601, 199, 1426, 1755, 1677, 1284, 11091],\n",
       " [111, 601, 199, 1426, 1755, 1677, 1284, 11091, 10],\n",
       " [111, 601, 199, 1426, 1755, 1677, 1284, 11091, 10, 16],\n",
       " [111, 601, 199, 1426, 1755, 1677, 1284, 11091, 10, 16, 13],\n",
       " [111, 601, 199, 1426, 1755, 1677, 1284, 11091, 10, 16, 13, 1755],\n",
       " [111, 601, 199, 1426, 1755, 1677, 1284, 11091, 10, 16, 13, 1755, 1677],\n",
       " [111, 601, 199, 1426, 1755, 1677, 1284, 11091, 10, 16, 13, 1755, 1677, 1284],\n",
       " [111,\n",
       "  601,\n",
       "  199,\n",
       "  1426,\n",
       "  1755,\n",
       "  1677,\n",
       "  1284,\n",
       "  11091,\n",
       "  10,\n",
       "  16,\n",
       "  13,\n",
       "  1755,\n",
       "  1677,\n",
       "  1284,\n",
       "  891],\n",
       " [111,\n",
       "  601,\n",
       "  199,\n",
       "  1426,\n",
       "  1755,\n",
       "  1677,\n",
       "  1284,\n",
       "  11091,\n",
       "  10,\n",
       "  16,\n",
       "  13,\n",
       "  1755,\n",
       "  1677,\n",
       "  1284,\n",
       "  891,\n",
       "  12],\n",
       " [104, 250],\n",
       " [104, 250, 16193],\n",
       " [104, 250, 16193, 19427],\n",
       " [104, 250, 16193, 19427, 8],\n",
       " [104, 250, 16193, 19427, 8, 1],\n",
       " [104, 250, 16193, 19427, 8, 1, 5],\n",
       " [104, 250, 16193, 19427, 8, 1, 5, 6],\n",
       " [104, 250, 16193, 19427, 8, 1, 5, 6, 4],\n",
       " [104, 250, 16193, 19427, 8, 1, 5, 6, 4, 104],\n",
       " [104, 250, 16193, 19427, 8, 1, 5, 6, 4, 104, 250],\n",
       " [104, 250, 16193, 19427, 8, 1, 5, 6, 4, 104, 250, 16193],\n",
       " [104, 250, 16193, 19427, 8, 1, 5, 6, 4, 104, 250, 16193, 19427],\n",
       " [296, 35],\n",
       " [296, 35, 459],\n",
       " [296, 35, 459, 804],\n",
       " [296, 35, 459, 804, 11608],\n",
       " [296, 35, 459, 804, 11608, 10],\n",
       " [296, 35, 459, 804, 11608, 10, 29],\n",
       " [296, 35, 459, 804, 11608, 10, 29, 41],\n",
       " [296, 35, 459, 804, 11608, 10, 29, 41, 2],\n",
       " [296, 35, 459, 804, 11608, 10, 29, 41, 2, 31],\n",
       " [296, 35, 459, 804, 11608, 10, 29, 41, 2, 31, 459],\n",
       " [296, 35, 459, 804, 11608, 10, 29, 41, 2, 31, 459, 804],\n",
       " [296, 35, 459, 804, 11608, 10, 29, 41, 2, 31, 459, 804, 11608],\n",
       " [296, 35, 459, 804, 11608, 10, 29, 41, 2, 31, 459, 804, 11608, 23],\n",
       " [2, 617],\n",
       " [2, 617, 345],\n",
       " [2, 617, 345, 579],\n",
       " [2, 617, 345, 579, 2088],\n",
       " [2, 617, 345, 579, 2088, 1950],\n",
       " [2, 617, 345, 579, 2088, 1950, 7428],\n",
       " [2, 617, 345, 579, 2088, 1950, 7428, 0],\n",
       " [2, 617, 345, 579, 2088, 1950, 7428, 0, 0],\n",
       " [2, 617, 345, 579, 2088, 1950, 7428, 0, 0, 345],\n",
       " [2, 617, 345, 579, 2088, 1950, 7428, 0, 0, 345, 579],\n",
       " [2, 617, 345, 579, 2088, 1950, 7428, 0, 0, 345, 579, 2088],\n",
       " [2, 617, 345, 579, 2088, 1950, 7428, 0, 0, 345, 579, 2088, 1950],\n",
       " [2, 617, 345, 579, 2088, 1950, 7428, 0, 0, 345, 579, 2088, 1950, 7428],\n",
       " [2, 617, 345, 579, 2088, 1950, 7428, 0, 0, 345, 579, 2088, 1950, 7428, 0],\n",
       " [2, 617, 345, 579, 2088, 1950, 7428, 0, 0, 345, 579, 2088, 1950, 7428, 0, 0],\n",
       " [428, 9],\n",
       " [428, 9, 0],\n",
       " [428, 9, 0, 124],\n",
       " [428, 9, 0, 124, 125],\n",
       " [428, 9, 0, 124, 125, 75],\n",
       " [428, 9, 0, 124, 125, 75, 13],\n",
       " [428, 9, 0, 124, 125, 75, 13, 259],\n",
       " [428, 9, 0, 124, 125, 75, 13, 259, 67],\n",
       " [428, 9, 0, 124, 125, 75, 13, 259, 67, 132],\n",
       " [428, 9, 0, 124, 125, 75, 13, 259, 67, 132, 22],\n",
       " [428, 9, 0, 124, 125, 75, 13, 259, 67, 132, 22, 29],\n",
       " [428, 9, 0, 124, 125, 75, 13, 259, 67, 132, 22, 29, 107],\n",
       " [428, 9, 0, 124, 125, 75, 13, 259, 67, 132, 22, 29, 107, 107],\n",
       " [428, 9, 0, 124, 125, 75, 13, 259, 67, 132, 22, 29, 107, 107, 236],\n",
       " [428, 9, 0, 124, 125, 75, 13, 259, 67, 132, 22, 29, 107, 107, 236, 9832],\n",
       " [428, 9, 0, 124, 125, 75, 13, 259, 67, 132, 22, 29, 107, 107, 236, 9832, 0],\n",
       " [1, 9],\n",
       " [1, 9, 239],\n",
       " [1, 9, 239, 15],\n",
       " [1, 9, 239, 15, 361],\n",
       " [1, 9, 239, 15, 361, 289],\n",
       " [1, 9, 239, 15, 361, 289, 47],\n",
       " [1, 9, 239, 15, 361, 289, 47, 370],\n",
       " [1, 9, 239, 15, 361, 289, 47, 370, 68],\n",
       " [1, 9, 239, 15, 361, 289, 47, 370, 68, 474],\n",
       " [1, 9, 239, 15, 361, 289, 47, 370, 68, 474, 0],\n",
       " [1, 9, 239, 15, 361, 289, 47, 370, 68, 474, 0, 99],\n",
       " [1, 9, 239, 15, 361, 289, 47, 370, 68, 474, 0, 99, 474],\n",
       " [1, 9, 239, 15, 361, 289, 47, 370, 68, 474, 0, 99, 474, 0],\n",
       " [1, 9, 239, 15, 361, 289, 47, 370, 68, 474, 0, 99, 474, 0, 2089],\n",
       " [8381, 11],\n",
       " [8381, 11, 625],\n",
       " [8381, 11, 625, 847],\n",
       " [8381, 11, 625, 847, 1052],\n",
       " [8381, 11, 625, 847, 1052, 209],\n",
       " [8381, 11, 625, 847, 1052, 209, 1103],\n",
       " [8381, 11, 625, 847, 1052, 209, 1103, 8381],\n",
       " [8381, 11, 625, 847, 1052, 209, 1103, 8381, 11],\n",
       " [8381, 11, 625, 847, 1052, 209, 1103, 8381, 11, 625],\n",
       " [8381, 11, 625, 847, 1052, 209, 1103, 8381, 11, 625, 847],\n",
       " [713, 20],\n",
       " [713, 20, 1297],\n",
       " [713, 20, 1297, 7],\n",
       " [713, 20, 1297, 7, 78],\n",
       " [713, 20, 1297, 7, 78, 28],\n",
       " [713, 20, 1297, 7, 78, 28, 107],\n",
       " [713, 20, 1297, 7, 78, 28, 107, 3],\n",
       " [713, 20, 1297, 7, 78, 28, 107, 3, 27],\n",
       " [713, 20, 1297, 7, 78, 28, 107, 3, 27, 963],\n",
       " [713, 20, 1297, 7, 78, 28, 107, 3, 27, 963, 10],\n",
       " [713, 20, 1297, 7, 78, 28, 107, 3, 27, 963, 10, 16],\n",
       " [713, 20, 1297, 7, 78, 28, 107, 3, 27, 963, 10, 16, 13],\n",
       " [713, 20, 1297, 7, 78, 28, 107, 3, 27, 963, 10, 16, 13, 713],\n",
       " [713, 20, 1297, 7, 78, 28, 107, 3, 27, 963, 10, 16, 13, 713, 3],\n",
       " [713, 20, 1297, 7, 78, 28, 107, 3, 27, 963, 10, 16, 13, 713, 3, 4862],\n",
       " [713, 20, 1297, 7, 78, 28, 107, 3, 27, 963, 10, 16, 13, 713, 3, 4862, 1297],\n",
       " [713,\n",
       "  20,\n",
       "  1297,\n",
       "  7,\n",
       "  78,\n",
       "  28,\n",
       "  107,\n",
       "  3,\n",
       "  27,\n",
       "  963,\n",
       "  10,\n",
       "  16,\n",
       "  13,\n",
       "  713,\n",
       "  3,\n",
       "  4862,\n",
       "  1297,\n",
       "  9],\n",
       " [713,\n",
       "  20,\n",
       "  1297,\n",
       "  7,\n",
       "  78,\n",
       "  28,\n",
       "  107,\n",
       "  3,\n",
       "  27,\n",
       "  963,\n",
       "  10,\n",
       "  16,\n",
       "  13,\n",
       "  713,\n",
       "  3,\n",
       "  4862,\n",
       "  1297,\n",
       "  9,\n",
       "  643],\n",
       " [713,\n",
       "  20,\n",
       "  1297,\n",
       "  7,\n",
       "  78,\n",
       "  28,\n",
       "  107,\n",
       "  3,\n",
       "  27,\n",
       "  963,\n",
       "  10,\n",
       "  16,\n",
       "  13,\n",
       "  713,\n",
       "  3,\n",
       "  4862,\n",
       "  1297,\n",
       "  9,\n",
       "  643,\n",
       "  15],\n",
       " [77, 14],\n",
       " [77, 14, 41],\n",
       " [77, 14, 41, 749],\n",
       " [77, 14, 41, 749, 7120],\n",
       " [77, 14, 41, 749, 7120, 112],\n",
       " [77, 14, 41, 749, 7120, 112, 439],\n",
       " [77, 14, 41, 749, 7120, 112, 439, 20],\n",
       " [77, 14, 41, 749, 7120, 112, 439, 20, 1909],\n",
       " [77, 14, 41, 749, 7120, 112, 439, 20, 1909, 1332],\n",
       " [77, 14, 41, 749, 7120, 112, 439, 20, 1909, 1332, 9],\n",
       " [77, 14, 41, 749, 7120, 112, 439, 20, 1909, 1332, 9, 1872],\n",
       " [77, 14, 41, 749, 7120, 112, 439, 20, 1909, 1332, 9, 1872, 25],\n",
       " [77, 14, 41, 749, 7120, 112, 439, 20, 1909, 1332, 9, 1872, 25, 77],\n",
       " [77, 14, 41, 749, 7120, 112, 439, 20, 1909, 1332, 9, 1872, 25, 77, 14],\n",
       " [77, 14, 41, 749, 7120, 112, 439, 20, 1909, 1332, 9, 1872, 25, 77, 14, 41],\n",
       " [77,\n",
       "  14,\n",
       "  41,\n",
       "  749,\n",
       "  7120,\n",
       "  112,\n",
       "  439,\n",
       "  20,\n",
       "  1909,\n",
       "  1332,\n",
       "  9,\n",
       "  1872,\n",
       "  25,\n",
       "  77,\n",
       "  14,\n",
       "  41,\n",
       "  749],\n",
       " [77,\n",
       "  14,\n",
       "  41,\n",
       "  749,\n",
       "  7120,\n",
       "  112,\n",
       "  439,\n",
       "  20,\n",
       "  1909,\n",
       "  1332,\n",
       "  9,\n",
       "  1872,\n",
       "  25,\n",
       "  77,\n",
       "  14,\n",
       "  41,\n",
       "  749,\n",
       "  7120],\n",
       " [2, 189],\n",
       " [2, 189, 4560],\n",
       " [2, 189, 4560, 2422],\n",
       " [2, 189, 4560, 2422, 189],\n",
       " [2, 189, 4560, 2422, 189, 0],\n",
       " [2, 189, 4560, 2422, 189, 0, 0],\n",
       " [2, 189, 4560, 2422, 189, 0, 0, 505],\n",
       " [2, 189, 4560, 2422, 189, 0, 0, 505, 4560],\n",
       " [2, 189, 4560, 2422, 189, 0, 0, 505, 4560, 2422],\n",
       " [2, 189, 4560, 2422, 189, 0, 0, 505, 4560, 2422, 189],\n",
       " [2, 189, 4560, 2422, 189, 0, 0, 505, 4560, 2422, 189, 0],\n",
       " [2, 189, 4560, 2422, 189, 0, 0, 505, 4560, 2422, 189, 0, 310],\n",
       " [1, 9],\n",
       " [1, 9, 1910],\n",
       " [1, 9, 1910, 733],\n",
       " [1, 9, 1910, 733, 256],\n",
       " [1, 9, 1910, 733, 256, 1756],\n",
       " [1, 9, 1910, 733, 256, 1756, 956],\n",
       " [1, 9, 1910, 733, 256, 1756, 956, 0],\n",
       " [1, 9, 1910, 733, 256, 1756, 956, 0, 603],\n",
       " [1, 9, 1910, 733, 256, 1756, 956, 0, 603, 274],\n",
       " [1, 9, 1910, 733, 256, 1756, 956, 0, 603, 274, 1756],\n",
       " [1, 9, 1910, 733, 256, 1756, 956, 0, 603, 274, 1756, 956],\n",
       " [1, 9, 1910, 733, 256, 1756, 956, 0, 603, 274, 1756, 956, 0],\n",
       " [0, 0],\n",
       " [0, 0, 0],\n",
       " [0, 0, 0, 9],\n",
       " [0, 0, 0, 9, 4375],\n",
       " [0, 0, 0, 9, 4375, 24],\n",
       " [0, 0, 0, 9, 4375, 24, 7],\n",
       " [0, 0, 0, 9, 4375, 24, 7, 0],\n",
       " [0, 0, 0, 9, 4375, 24, 7, 0, 0],\n",
       " [0, 0, 0, 9, 4375, 24, 7, 0, 0, 0],\n",
       " [921, 1860],\n",
       " [921, 1860, 1043],\n",
       " [921, 1860, 1043, 8],\n",
       " [921, 1860, 1043, 8, 1],\n",
       " [921, 1860, 1043, 8, 1, 5],\n",
       " [921, 1860, 1043, 8, 1, 5, 6],\n",
       " [921, 1860, 1043, 8, 1, 5, 6, 4],\n",
       " [921, 1860, 1043, 8, 1, 5, 6, 4, 921],\n",
       " [921, 1860, 1043, 8, 1, 5, 6, 4, 921, 1860],\n",
       " [921, 1860, 1043, 8, 1, 5, 6, 4, 921, 1860, 1043],\n",
       " [2, 319],\n",
       " [2, 319, 111],\n",
       " [2, 319, 111, 199],\n",
       " [2, 319, 111, 199, 319],\n",
       " [2, 319, 111, 199, 319, 16194],\n",
       " [2, 319, 111, 199, 319, 16194, 183],\n",
       " [2, 319, 111, 199, 319, 16194, 183, 111],\n",
       " [2, 319, 111, 199, 319, 16194, 183, 111, 199],\n",
       " [2, 319, 111, 199, 319, 16194, 183, 111, 199, 319],\n",
       " [2, 319, 111, 199, 319, 16194, 183, 111, 199, 319, 16194],\n",
       " [2, 319, 111, 199, 319, 16194, 183, 111, 199, 319, 16194, 21],\n",
       " [2, 64],\n",
       " [2, 64, 83],\n",
       " [2, 64, 83, 64],\n",
       " [2, 64, 83, 64, 0],\n",
       " [2, 64, 83, 64, 0, 185],\n",
       " [2, 64, 83, 64, 0, 185, 83],\n",
       " [2, 64, 83, 64, 0, 185, 83, 83],\n",
       " [2, 64, 83, 64, 0, 185, 83, 83, 64],\n",
       " [2, 64, 83, 64, 0, 185, 83, 83, 64, 0],\n",
       " [2, 64, 83, 64, 0, 185, 83, 83, 64, 0, 185],\n",
       " [381, 1],\n",
       " [381, 1, 2],\n",
       " [381, 1, 2, 1976],\n",
       " [381, 1, 2, 1976, 3981],\n",
       " [381, 1, 2, 1976, 3981, 40],\n",
       " [381, 1, 2, 1976, 3981, 40, 1],\n",
       " [381, 1, 2, 1976, 3981, 40, 1, 10],\n",
       " [381, 1, 2, 1976, 3981, 40, 1, 10, 105],\n",
       " [381, 1, 2, 1976, 3981, 40, 1, 10, 105, 19],\n",
       " [381, 1, 2, 1976, 3981, 40, 1, 10, 105, 19, 2],\n",
       " [381, 1, 2, 1976, 3981, 40, 1, 10, 105, 19, 2, 1976],\n",
       " [381, 1, 2, 1976, 3981, 40, 1, 10, 105, 19, 2, 1976, 3981],\n",
       " [381, 1, 2, 1976, 3981, 40, 1, 10, 105, 19, 2, 1976, 3981, 40],\n",
       " [381, 1, 2, 1976, 3981, 40, 1, 10, 105, 19, 2, 1976, 3981, 40, 1],\n",
       " [7650, 1097],\n",
       " [7650, 1097, 11],\n",
       " [7650, 1097, 11, 58],\n",
       " [7650, 1097, 11, 58, 228],\n",
       " [7650, 1097, 11, 58, 228, 154],\n",
       " [7650, 1097, 11, 58, 228, 154, 140],\n",
       " [7650, 1097, 11, 58, 228, 154, 140, 1484],\n",
       " [7650, 1097, 11, 58, 228, 154, 140, 1484, 1],\n",
       " [7650, 1097, 11, 58, 228, 154, 140, 1484, 1, 7650],\n",
       " [7650, 1097, 11, 58, 228, 154, 140, 1484, 1, 7650, 1097],\n",
       " [7650, 1097, 11, 58, 228, 154, 140, 1484, 1, 7650, 1097, 11],\n",
       " [7650, 1097, 11, 58, 228, 154, 140, 1484, 1, 7650, 1097, 11, 58],\n",
       " [1097, 11],\n",
       " [1097, 11, 1427],\n",
       " [1097, 11, 1427, 8],\n",
       " [1097, 11, 1427, 8, 1],\n",
       " [1097, 11, 1427, 8, 1, 5],\n",
       " [1097, 11, 1427, 8, 1, 5, 6],\n",
       " [1097, 11, 1427, 8, 1, 5, 6, 4],\n",
       " [1097, 11, 1427, 8, 1, 5, 6, 4, 1097],\n",
       " [1097, 11, 1427, 8, 1, 5, 6, 4, 1097, 11],\n",
       " [1097, 11, 1427, 8, 1, 5, 6, 4, 1097, 11, 1427],\n",
       " [6659, 0],\n",
       " [6659, 0, 9],\n",
       " [6659, 0, 9, 6259],\n",
       " [6659, 0, 9, 6259, 56],\n",
       " [6659, 0, 9, 6259, 56, 7],\n",
       " [6659, 0, 9, 6259, 56, 7, 6659],\n",
       " [6659, 0, 9, 6259, 56, 7, 6659, 0],\n",
       " [2, 2911],\n",
       " [2, 2911, 76],\n",
       " [2, 2911, 76, 1977],\n",
       " [2, 2911, 76, 1977, 2911],\n",
       " [2, 2911, 76, 1977, 2911, 0],\n",
       " [2, 2911, 76, 1977, 2911, 0, 403],\n",
       " [2, 2911, 76, 1977, 2911, 0, 403, 1173],\n",
       " [2, 2911, 76, 1977, 2911, 0, 403, 1173, 76],\n",
       " [2, 2911, 76, 1977, 2911, 0, 403, 1173, 76, 1977],\n",
       " [2, 2911, 76, 1977, 2911, 0, 403, 1173, 76, 1977, 2911],\n",
       " [2, 2911, 76, 1977, 2911, 0, 403, 1173, 76, 1977, 2911, 0],\n",
       " [1538, 205],\n",
       " [1538, 205, 753],\n",
       " [1538, 205, 753, 922],\n",
       " [1538, 205, 753, 922, 15],\n",
       " [1538, 205, 753, 922, 15, 3332],\n",
       " [1538, 205, 753, 922, 15, 3332, 3377],\n",
       " [1538, 205, 753, 922, 15, 3332, 3377, 17],\n",
       " [1538, 205, 753, 922, 15, 3332, 3377, 17, 66],\n",
       " [1538, 205, 753, 922, 15, 3332, 3377, 17, 66, 355],\n",
       " [1538, 205, 753, 922, 15, 3332, 3377, 17, 66, 355, 22],\n",
       " [1538, 205, 753, 922, 15, 3332, 3377, 17, 66, 355, 22, 280],\n",
       " [1538, 205, 753, 922, 15, 3332, 3377, 17, 66, 355, 22, 280, 2808],\n",
       " [1538, 205, 753, 922, 15, 3332, 3377, 17, 66, 355, 22, 280, 2808, 1583],\n",
       " [1538, 205, 753, 922, 15, 3332, 3377, 17, 66, 355, 22, 280, 2808, 1583, 242],\n",
       " [1538,\n",
       "  205,\n",
       "  753,\n",
       "  922,\n",
       "  15,\n",
       "  3332,\n",
       "  3377,\n",
       "  17,\n",
       "  66,\n",
       "  355,\n",
       "  22,\n",
       "  280,\n",
       "  2808,\n",
       "  1583,\n",
       "  242,\n",
       "  14],\n",
       " [1538,\n",
       "  205,\n",
       "  753,\n",
       "  922,\n",
       "  15,\n",
       "  3332,\n",
       "  3377,\n",
       "  17,\n",
       "  66,\n",
       "  355,\n",
       "  22,\n",
       "  280,\n",
       "  2808,\n",
       "  1583,\n",
       "  242,\n",
       "  14,\n",
       "  165],\n",
       " [1538,\n",
       "  205,\n",
       "  753,\n",
       "  922,\n",
       "  15,\n",
       "  3332,\n",
       "  3377,\n",
       "  17,\n",
       "  66,\n",
       "  355,\n",
       "  22,\n",
       "  280,\n",
       "  2808,\n",
       "  1583,\n",
       "  242,\n",
       "  14,\n",
       "  165,\n",
       "  226],\n",
       " [455, 2348],\n",
       " [455, 2348, 75],\n",
       " [455, 2348, 75, 8],\n",
       " [455, 2348, 75, 8, 1],\n",
       " [455, 2348, 75, 8, 1, 5],\n",
       " [455, 2348, 75, 8, 1, 5, 6],\n",
       " [455, 2348, 75, 8, 1, 5, 6, 4],\n",
       " [455, 2348, 75, 8, 1, 5, 6, 4, 455],\n",
       " [455, 2348, 75, 8, 1, 5, 6, 4, 455, 2348],\n",
       " [455, 2348, 75, 8, 1, 5, 6, 4, 455, 2348, 75],\n",
       " [255, 7651],\n",
       " [255, 7651, 8],\n",
       " [255, 7651, 8, 1],\n",
       " [255, 7651, 8, 1, 5],\n",
       " [255, 7651, 8, 1, 5, 6],\n",
       " [255, 7651, 8, 1, 5, 6, 4],\n",
       " [255, 7651, 8, 1, 5, 6, 4, 255],\n",
       " [255, 7651, 8, 1, 5, 6, 4, 255, 7651],\n",
       " [2709, 894],\n",
       " [2709, 894, 17],\n",
       " [2709, 894, 17, 1158],\n",
       " [2709, 894, 17, 1158, 101],\n",
       " [2709, 894, 17, 1158, 101, 9],\n",
       " [2709, 894, 17, 1158, 101, 9, 65],\n",
       " [2709, 894, 17, 1158, 101, 9, 65, 47],\n",
       " [2709, 894, 17, 1158, 101, 9, 65, 47, 501],\n",
       " [2709, 894, 17, 1158, 101, 9, 65, 47, 501, 23],\n",
       " [2709, 894, 17, 1158, 101, 9, 65, 47, 501, 23, 17],\n",
       " [2709, 894, 17, 1158, 101, 9, 65, 47, 501, 23, 17, 36],\n",
       " [2709, 894, 17, 1158, 101, 9, 65, 47, 501, 23, 17, 36, 1333],\n",
       " [2709, 894, 17, 1158, 101, 9, 65, 47, 501, 23, 17, 36, 1333, 894],\n",
       " [2709, 894, 17, 1158, 101, 9, 65, 47, 501, 23, 17, 36, 1333, 894, 17],\n",
       " [2709, 894, 17, 1158, 101, 9, 65, 47, 501, 23, 17, 36, 1333, 894, 17, 76],\n",
       " [2709,\n",
       "  894,\n",
       "  17,\n",
       "  1158,\n",
       "  101,\n",
       "  9,\n",
       "  65,\n",
       "  47,\n",
       "  501,\n",
       "  23,\n",
       "  17,\n",
       "  36,\n",
       "  1333,\n",
       "  894,\n",
       "  17,\n",
       "  76,\n",
       "  101],\n",
       " [151, 899],\n",
       " [151, 899, 8],\n",
       " [151, 899, 8, 1],\n",
       " [151, 899, 8, 1, 5],\n",
       " [151, 899, 8, 1, 5, 6],\n",
       " [151, 899, 8, 1, 5, 6, 4],\n",
       " [151, 899, 8, 1, 5, 6, 4, 151],\n",
       " [151, 899, 8, 1, 5, 6, 4, 151, 899],\n",
       " [2, 64],\n",
       " [2, 64, 2767],\n",
       " [2, 64, 2767, 11],\n",
       " [2, 64, 2767, 11, 348],\n",
       " [2, 64, 2767, 11, 348, 64],\n",
       " [2, 64, 2767, 11, 348, 64, 16195],\n",
       " [2, 64, 2767, 11, 348, 64, 16195, 24],\n",
       " [2, 64, 2767, 11, 348, 64, 16195, 24, 2767],\n",
       " [2, 64, 2767, 11, 348, 64, 16195, 24, 2767, 11],\n",
       " [2, 64, 2767, 11, 348, 64, 16195, 24, 2767, 11, 348],\n",
       " [2, 64, 2767, 11, 348, 64, 16195, 24, 2767, 11, 348, 64],\n",
       " [2, 64, 2767, 11, 348, 64, 16195, 24, 2767, 11, 348, 64, 16195],\n",
       " [2, 64, 2767, 11, 348, 64, 16195, 24, 2767, 11, 348, 64, 16195, 24],\n",
       " [2029, 11],\n",
       " [2029, 11, 66],\n",
       " [2029, 11, 66, 3726],\n",
       " [2029, 11, 66, 3726, 3],\n",
       " [2029, 11, 66, 3726, 3, 27],\n",
       " [2029, 11, 66, 3726, 3, 27, 18],\n",
       " [2029, 11, 66, 3726, 3, 27, 18, 334],\n",
       " [2029, 11, 66, 3726, 3, 27, 18, 334, 1],\n",
       " [2029, 11, 66, 3726, 3, 27, 18, 334, 1, 7],\n",
       " [2029, 11, 66, 3726, 3, 27, 18, 334, 1, 7, 18],\n",
       " [2029, 11, 66, 3726, 3, 27, 18, 334, 1, 7, 18, 52],\n",
       " [2029, 11, 66, 3726, 3, 27, 18, 334, 1, 7, 18, 52, 2029],\n",
       " [2029, 11, 66, 3726, 3, 27, 18, 334, 1, 7, 18, 52, 2029, 11],\n",
       " [2029, 11, 66, 3726, 3, 27, 18, 334, 1, 7, 18, 52, 2029, 11, 66],\n",
       " [2029, 11, 66, 3726, 3, 27, 18, 334, 1, 7, 18, 52, 2029, 11, 66, 3726],\n",
       " [2029, 11, 66, 3726, 3, 27, 18, 334, 1, 7, 18, 52, 2029, 11, 66, 3726, 0],\n",
       " [2029, 11, 66, 3726, 3, 27, 18, 334, 1, 7, 18, 52, 2029, 11, 66, 3726, 0, 15],\n",
       " [2, 142],\n",
       " [2, 142, 333],\n",
       " [2, 142, 333, 152],\n",
       " [2, 142, 333, 152, 192],\n",
       " [2, 142, 333, 152, 192, 142],\n",
       " [2, 142, 333, 152, 192, 142, 0],\n",
       " [2, 142, 333, 152, 192, 142, 0, 0],\n",
       " [2, 142, 333, 152, 192, 142, 0, 0, 0],\n",
       " [2, 142, 333, 152, 192, 142, 0, 0, 0, 142],\n",
       " [2, 142, 333, 152, 192, 142, 0, 0, 0, 142, 0],\n",
       " [2, 142, 333, 152, 192, 142, 0, 0, 0, 142, 0, 0],\n",
       " [2, 142, 333, 152, 192, 142, 0, 0, 0, 142, 0, 0, 21],\n",
       " [2, 189],\n",
       " [2, 189, 1568],\n",
       " [2, 189, 1568, 4560],\n",
       " [2, 189, 1568, 4560, 915],\n",
       " [2, 189, 1568, 4560, 915, 6906],\n",
       " [2, 189, 1568, 4560, 915, 6906, 189],\n",
       " [2, 189, 1568, 4560, 915, 6906, 189, 5327],\n",
       " [2, 189, 1568, 4560, 915, 6906, 189, 5327, 0],\n",
       " [2, 189, 1568, 4560, 915, 6906, 189, 5327, 0, 0],\n",
       " [2, 189, 1568, 4560, 915, 6906, 189, 5327, 0, 0, 451],\n",
       " [2, 189, 1568, 4560, 915, 6906, 189, 5327, 0, 0, 451, 4560],\n",
       " [2, 189, 1568, 4560, 915, 6906, 189, 5327, 0, 0, 451, 4560, 915],\n",
       " [2, 189, 1568, 4560, 915, 6906, 189, 5327, 0, 0, 451, 4560, 915, 6906],\n",
       " [2, 189, 1568, 4560, 915, 6906, 189, 5327, 0, 0, 451, 4560, 915, 6906, 189],\n",
       " [2,\n",
       "  189,\n",
       "  1568,\n",
       "  4560,\n",
       "  915,\n",
       "  6906,\n",
       "  189,\n",
       "  5327,\n",
       "  0,\n",
       "  0,\n",
       "  451,\n",
       "  4560,\n",
       "  915,\n",
       "  6906,\n",
       "  189,\n",
       "  5327],\n",
       " [585, 0],\n",
       " [585, 0, 17],\n",
       " [585, 0, 17, 0],\n",
       " [585, 0, 17, 0, 468],\n",
       " [585, 0, 17, 0, 468, 20],\n",
       " [585, 0, 17, 0, 468, 20, 81],\n",
       " [585, 0, 17, 0, 468, 20, 81, 4863],\n",
       " [585, 0, 17, 0, 468, 20, 81, 4863, 401],\n",
       " [585, 0, 17, 0, 468, 20, 81, 4863, 401, 17],\n",
       " [585, 0, 17, 0, 468, 20, 81, 4863, 401, 17, 133],\n",
       " [585, 0, 17, 0, 468, 20, 81, 4863, 401, 17, 133, 7],\n",
       " [585, 0, 17, 0, 468, 20, 81, 4863, 401, 17, 133, 7, 18],\n",
       " [585, 0, 17, 0, 468, 20, 81, 4863, 401, 17, 133, 7, 18, 52],\n",
       " [585, 0, 17, 0, 468, 20, 81, 4863, 401, 17, 133, 7, 18, 52, 1632],\n",
       " [585, 0, 17, 0, 468, 20, 81, 4863, 401, 17, 133, 7, 18, 52, 1632, 1077],\n",
       " [585, 0, 17, 0, 468, 20, 81, 4863, 401, 17, 133, 7, 18, 52, 1632, 1077, 17],\n",
       " [585,\n",
       "  0,\n",
       "  17,\n",
       "  0,\n",
       "  468,\n",
       "  20,\n",
       "  81,\n",
       "  4863,\n",
       "  401,\n",
       "  17,\n",
       "  133,\n",
       "  7,\n",
       "  18,\n",
       "  52,\n",
       "  1632,\n",
       "  1077,\n",
       "  17,\n",
       "  772],\n",
       " [585,\n",
       "  0,\n",
       "  17,\n",
       "  0,\n",
       "  468,\n",
       "  20,\n",
       "  81,\n",
       "  4863,\n",
       "  401,\n",
       "  17,\n",
       "  133,\n",
       "  7,\n",
       "  18,\n",
       "  52,\n",
       "  1632,\n",
       "  1077,\n",
       "  17,\n",
       "  772,\n",
       "  1145],\n",
       " [585,\n",
       "  0,\n",
       "  17,\n",
       "  0,\n",
       "  468,\n",
       "  20,\n",
       "  81,\n",
       "  4863,\n",
       "  401,\n",
       "  17,\n",
       "  133,\n",
       "  7,\n",
       "  18,\n",
       "  52,\n",
       "  1632,\n",
       "  1077,\n",
       "  17,\n",
       "  772,\n",
       "  1145,\n",
       "  714],\n",
       " [585,\n",
       "  0,\n",
       "  17,\n",
       "  0,\n",
       "  468,\n",
       "  20,\n",
       "  81,\n",
       "  4863,\n",
       "  401,\n",
       "  17,\n",
       "  133,\n",
       "  7,\n",
       "  18,\n",
       "  52,\n",
       "  1632,\n",
       "  1077,\n",
       "  17,\n",
       "  772,\n",
       "  1145,\n",
       "  714,\n",
       "  585],\n",
       " [561, 0],\n",
       " [561, 0, 8],\n",
       " [561, 0, 8, 1],\n",
       " [561, 0, 8, 1, 5],\n",
       " [561, 0, 8, 1, 5, 6],\n",
       " [561, 0, 8, 1, 5, 6, 4],\n",
       " [561, 0, 8, 1, 5, 6, 4, 561],\n",
       " [561, 0, 8, 1, 5, 6, 4, 561, 0],\n",
       " [80, 604],\n",
       " [80, 604, 6660],\n",
       " [80, 604, 6660, 5891],\n",
       " [80, 604, 6660, 5891, 904],\n",
       " [80, 604, 6660, 5891, 904, 12],\n",
       " [80, 604, 6660, 5891, 904, 12, 10],\n",
       " [80, 604, 6660, 5891, 904, 12, 10, 16],\n",
       " [80, 604, 6660, 5891, 904, 12, 10, 16, 13],\n",
       " [80, 604, 6660, 5891, 904, 12, 10, 16, 13, 2],\n",
       " [80, 604, 6660, 5891, 904, 12, 10, 16, 13, 2, 31],\n",
       " [80, 604, 6660, 5891, 904, 12, 10, 16, 13, 2, 31, 604],\n",
       " [80, 604, 6660, 5891, 904, 12, 10, 16, 13, 2, 31, 604, 6660],\n",
       " [80, 604, 6660, 5891, 904, 12, 10, 16, 13, 2, 31, 604, 6660, 5891],\n",
       " [80, 604, 6660, 5891, 904, 12, 10, 16, 13, 2, 31, 604, 6660, 5891, 904],\n",
       " [80, 604, 6660, 5891, 904, 12, 10, 16, 13, 2, 31, 604, 6660, 5891, 904, 15],\n",
       " [55, 2768],\n",
       " [55, 2768, 1190],\n",
       " [55, 2768, 1190, 18],\n",
       " [55, 2768, 1190, 18, 219],\n",
       " [55, 2768, 1190, 18, 219, 1],\n",
       " [55, 2768, 1190, 18, 219, 1, 50],\n",
       " [55, 2768, 1190, 18, 219, 1, 50, 7],\n",
       " [55, 2768, 1190, 18, 219, 1, 50, 7, 9],\n",
       " [55, 2768, 1190, 18, 219, 1, 50, 7, 9, 879],\n",
       " [55, 2768, 1190, 18, 219, 1, 50, 7, 9, 879, 12],\n",
       " [55, 2768, 1190, 18, 219, 1, 50, 7, 9, 879, 12, 55],\n",
       " [55, 2768, 1190, 18, 219, 1, 50, 7, 9, 879, 12, 55, 2768],\n",
       " [55, 2768, 1190, 18, 219, 1, 50, 7, 9, 879, 12, 55, 2768, 1190],\n",
       " [287, 491],\n",
       " [287, 491, 13450],\n",
       " [287, 491, 13450, 3576],\n",
       " [287, 491, 13450, 3576, 24],\n",
       " [287, 491, 13450, 3576, 24, 12],\n",
       " [287, 491, 13450, 3576, 24, 12, 10],\n",
       " [287, 491, 13450, 3576, 24, 12, 10, 16],\n",
       " [287, 491, 13450, 3576, 24, 12, 10, 16, 13],\n",
       " [287, 491, 13450, 3576, 24, 12, 10, 16, 13, 2],\n",
       " [287, 491, 13450, 3576, 24, 12, 10, 16, 13, 2, 31],\n",
       " [287, 491, 13450, 3576, 24, 12, 10, 16, 13, 2, 31, 491],\n",
       " [287, 491, 13450, 3576, 24, 12, 10, 16, 13, 2, 31, 491, 13450],\n",
       " [287, 491, 13450, 3576, 24, 12, 10, 16, 13, 2, 31, 491, 13450, 3576],\n",
       " [287, 491, 13450, 3576, 24, 12, 10, 16, 13, 2, 31, 491, 13450, 3576, 24],\n",
       " [287, 491, 13450, 3576, 24, 12, 10, 16, 13, 2, 31, 491, 13450, 3576, 24, 15],\n",
       " [116, 15235],\n",
       " [116, 15235, 21],\n",
       " [116, 15235, 21, 451],\n",
       " [116, 15235, 21, 451, 3],\n",
       " [116, 15235, 21, 451, 3, 413],\n",
       " [116, 15235, 21, 451, 3, 413, 641],\n",
       " [116, 15235, 21, 451, 3, 413, 641, 92],\n",
       " [116, 15235, 21, 451, 3, 413, 641, 92, 215],\n",
       " [116, 15235, 21, 451, 3, 413, 641, 92, 215, 116],\n",
       " [116, 15235, 21, 451, 3, 413, 641, 92, 215, 116, 15235],\n",
       " [116, 15235, 21, 451, 3, 413, 641, 92, 215, 116, 15235, 36],\n",
       " [558, 628],\n",
       " [558, 628, 145],\n",
       " [558, 628, 145, 0],\n",
       " [558, 628, 145, 0, 754],\n",
       " [558, 628, 145, 0, 754, 1594],\n",
       " [558, 628, 145, 0, 754, 1594, 145],\n",
       " [558, 628, 145, 0, 754, 1594, 145, 0],\n",
       " [1, 86],\n",
       " [1, 86, 40],\n",
       " [1, 86, 40, 9201],\n",
       " [1, 86, 40, 9201, 12],\n",
       " [1, 86, 40, 9201, 12, 2],\n",
       " [1, 86, 40, 9201, 12, 2, 2568],\n",
       " [1, 86, 40, 9201, 12, 2, 2568, 3284],\n",
       " [1, 86, 40, 9201, 12, 2, 2568, 3284, 0],\n",
       " [1, 86, 40, 9201, 12, 2, 2568, 3284, 0, 1159],\n",
       " [1, 86, 40, 9201, 12, 2, 2568, 3284, 0, 1159, 3],\n",
       " [1, 86, 40, 9201, 12, 2, 2568, 3284, 0, 1159, 3, 48],\n",
       " [1, 86, 40, 9201, 12, 2, 2568, 3284, 0, 1159, 3, 48, 59],\n",
       " [1, 86, 40, 9201, 12, 2, 2568, 3284, 0, 1159, 3, 48, 59, 2568],\n",
       " [1, 86, 40, 9201, 12, 2, 2568, 3284, 0, 1159, 3, 48, 59, 2568, 3284],\n",
       " [1, 86, 40, 9201, 12, 2, 2568, 3284, 0, 1159, 3, 48, 59, 2568, 3284, 0],\n",
       " [1, 86, 40, 9201, 12, 2, 2568, 3284, 0, 1159, 3, 48, 59, 2568, 3284, 0, 1159],\n",
       " [1,\n",
       "  86,\n",
       "  40,\n",
       "  9201,\n",
       "  12,\n",
       "  2,\n",
       "  2568,\n",
       "  3284,\n",
       "  0,\n",
       "  1159,\n",
       "  3,\n",
       "  48,\n",
       "  59,\n",
       "  2568,\n",
       "  3284,\n",
       "  0,\n",
       "  1159,\n",
       "  3],\n",
       " [1,\n",
       "  86,\n",
       "  40,\n",
       "  9201,\n",
       "  12,\n",
       "  2,\n",
       "  2568,\n",
       "  3284,\n",
       "  0,\n",
       "  1159,\n",
       "  3,\n",
       "  48,\n",
       "  59,\n",
       "  2568,\n",
       "  3284,\n",
       "  0,\n",
       "  1159,\n",
       "  3,\n",
       "  27],\n",
       " [3154, 469],\n",
       " [3154, 469, 18],\n",
       " [3154, 469, 18, 1510],\n",
       " [3154, 469, 18, 1510, 55],\n",
       " [3154, 469, 18, 1510, 55, 9],\n",
       " [3154, 469, 18, 1510, 55, 9, 28],\n",
       " [3154, 469, 18, 1510, 55, 9, 28, 275],\n",
       " [3154, 469, 18, 1510, 55, 9, 28, 275, 253],\n",
       " [3154, 469, 18, 1510, 55, 9, 28, 275, 253, 0],\n",
       " [3154, 469, 18, 1510, 55, 9, 28, 275, 253, 0, 3154],\n",
       " [3154, 469, 18, 1510, 55, 9, 28, 275, 253, 0, 3154, 469],\n",
       " [3154, 469, 18, 1510, 55, 9, 28, 275, 253, 0, 3154, 469, 14],\n",
       " [3154, 469, 18, 1510, 55, 9, 28, 275, 253, 0, 3154, 469, 14, 67],\n",
       " [3154, 469, 18, 1510, 55, 9, 28, 275, 253, 0, 3154, 469, 14, 67, 9],\n",
       " [3154, 469, 18, 1510, 55, 9, 28, 275, 253, 0, 3154, 469, 14, 67, 9, 28],\n",
       " [3154, 469, 18, 1510, 55, 9, 28, 275, 253, 0, 3154, 469, 14, 67, 9, 28, 30],\n",
       " [130, 111],\n",
       " [130, 111, 936],\n",
       " [130, 111, 936, 9],\n",
       " [130, 111, 936, 9, 311],\n",
       " [130, 111, 936, 9, 311, 138],\n",
       " [130, 111, 936, 9, 311, 138, 50],\n",
       " [130, 111, 936, 9, 311, 138, 50, 186],\n",
       " [130, 111, 936, 9, 311, 138, 50, 186, 297],\n",
       " [130, 111, 936, 9, 311, 138, 50, 186, 297, 130],\n",
       " [130, 111, 936, 9, 311, 138, 50, 186, 297, 130, 111],\n",
       " [130, 111, 936, 9, 311, 138, 50, 186, 297, 130, 111, 936],\n",
       " [152, 37],\n",
       " [152, 37, 2621],\n",
       " [152, 37, 2621, 239],\n",
       " [152, 37, 2621, 239, 2650],\n",
       " [152, 37, 2621, 239, 2650, 187],\n",
       " [152, 37, 2621, 239, 2650, 187, 277],\n",
       " [152, 37, 2621, 239, 2650, 187, 277, 12],\n",
       " [152, 37, 2621, 239, 2650, 187, 277, 12, 10],\n",
       " [152, 37, 2621, 239, 2650, 187, 277, 12, 10, 16],\n",
       " [152, 37, 2621, 239, 2650, 187, 277, 12, 10, 16, 13],\n",
       " [152, 37, 2621, 239, 2650, 187, 277, 12, 10, 16, 13, 32],\n",
       " [152, 37, 2621, 239, 2650, 187, 277, 12, 10, 16, 13, 32, 37],\n",
       " [152, 37, 2621, 239, 2650, 187, 277, 12, 10, 16, 13, 32, 37, 2621],\n",
       " [152, 37, 2621, 239, 2650, 187, 277, 12, 10, 16, 13, 32, 37, 2621, 239],\n",
       " [152, 37, 2621, 239, 2650, 187, 277, 12, 10, 16, 13, 32, 37, 2621, 239, 2650],\n",
       " [152,\n",
       "  37,\n",
       "  2621,\n",
       "  239,\n",
       "  2650,\n",
       "  187,\n",
       "  277,\n",
       "  12,\n",
       "  10,\n",
       "  16,\n",
       "  13,\n",
       "  32,\n",
       "  37,\n",
       "  2621,\n",
       "  239,\n",
       "  2650,\n",
       "  187],\n",
       " [152,\n",
       "  37,\n",
       "  2621,\n",
       "  239,\n",
       "  2650,\n",
       "  187,\n",
       "  277,\n",
       "  12,\n",
       "  10,\n",
       "  16,\n",
       "  13,\n",
       "  32,\n",
       "  37,\n",
       "  2621,\n",
       "  239,\n",
       "  2650,\n",
       "  187,\n",
       "  277],\n",
       " [152,\n",
       "  37,\n",
       "  2621,\n",
       "  239,\n",
       "  2650,\n",
       "  187,\n",
       "  277,\n",
       "  12,\n",
       "  10,\n",
       "  16,\n",
       "  13,\n",
       "  32,\n",
       "  37,\n",
       "  2621,\n",
       "  239,\n",
       "  2650,\n",
       "  187,\n",
       "  277,\n",
       "  12],\n",
       " [2, 734],\n",
       " [2, 734, 408],\n",
       " [2, 734, 408, 115],\n",
       " [2, 734, 408, 115, 20],\n",
       " [2, 734, 408, 115, 20, 885],\n",
       " [2, 734, 408, 115, 20, 885, 734],\n",
       " [2, 734, 408, 115, 20, 885, 734, 0],\n",
       " [2, 734, 408, 115, 20, 885, 734, 0, 734],\n",
       " [2, 734, 408, 115, 20, 885, 734, 0, 734, 0],\n",
       " [2, 734, 408, 115, 20, 885, 734, 0, 734, 0, 21],\n",
       " [2, 64],\n",
       " [2, 64, 141],\n",
       " [2, 64, 141, 64],\n",
       " [2, 64, 141, 64, 1539],\n",
       " [2, 64, 141, 64, 1539, 0],\n",
       " [2, 64, 141, 64, 1539, 0, 375],\n",
       " [2, 64, 141, 64, 1539, 0, 375, 0],\n",
       " [2, 64, 141, 64, 1539, 0, 375, 0, 2912],\n",
       " [2, 64, 141, 64, 1539, 0, 375, 0, 2912, 141],\n",
       " [2, 64, 141, 64, 1539, 0, 375, 0, 2912, 141, 141],\n",
       " [2, 64, 141, 64, 1539, 0, 375, 0, 2912, 141, 141, 64],\n",
       " [2, 64, 141, 64, 1539, 0, 375, 0, 2912, 141, 141, 64, 1539],\n",
       " [2, 64, 141, 64, 1539, 0, 375, 0, 2912, 141, 141, 64, 1539, 0],\n",
       " [2, 64, 141, 64, 1539, 0, 375, 0, 2912, 141, 141, 64, 1539, 0, 375],\n",
       " [2, 64, 141, 64, 1539, 0, 375, 0, 2912, 141, 141, 64, 1539, 0, 375, 0],\n",
       " [7429, 518],\n",
       " [7429, 518, 634],\n",
       " [7429, 518, 634, 1699],\n",
       " [7429, 518, 634, 1699, 518],\n",
       " [7429, 518, 634, 1699, 518, 18],\n",
       " [7429, 518, 634, 1699, 518, 18, 5076],\n",
       " [7429, 518, 634, 1699, 518, 18, 5076, 7429],\n",
       " [7429, 518, 634, 1699, 518, 18, 5076, 7429, 518],\n",
       " [7429, 518, 634, 1699, 518, 18, 5076, 7429, 518, 981],\n",
       " [7429, 518, 634, 1699, 518, 18, 5076, 7429, 518, 981, 1007],\n",
       " [2, 338],\n",
       " [2, 338, 393],\n",
       " [2, 338, 393, 177],\n",
       " [2, 338, 393, 177, 101],\n",
       " [2, 338, 393, 177, 101, 338],\n",
       " [2, 338, 393, 177, 101, 338, 0],\n",
       " [2, 338, 393, 177, 101, 338, 0, 0],\n",
       " [2, 338, 393, 177, 101, 338, 0, 0, 338],\n",
       " [2, 338, 393, 177, 101, 338, 0, 0, 338, 0],\n",
       " [2, 338, 393, 177, 101, 338, 0, 0, 338, 0, 0],\n",
       " [3, 27],\n",
       " [3, 27, 22],\n",
       " [3, 27, 22, 0],\n",
       " [3, 27, 22, 0, 15],\n",
       " [3, 27, 22, 0, 15, 2],\n",
       " [3, 27, 22, 0, 15, 2, 2516],\n",
       " [3, 27, 22, 0, 15, 2, 2516, 1393],\n",
       " [3, 27, 22, 0, 15, 2, 2516, 1393, 16196],\n",
       " [3, 27, 22, 0, 15, 2, 2516, 1393, 16196, 2267],\n",
       " [1978, 2569],\n",
       " [1978, 2569, 3067],\n",
       " [1978, 2569, 3067, 42],\n",
       " [1978, 2569, 3067, 42, 35],\n",
       " [1978, 2569, 3067, 42, 35, 1978],\n",
       " [1978, 2569, 3067, 42, 35, 1978, 2569],\n",
       " [1978, 2569, 3067, 42, 35, 1978, 2569, 18],\n",
       " [1978, 2569, 3067, 42, 35, 1978, 2569, 18, 26],\n",
       " [1978, 2569, 3067, 42, 35, 1978, 2569, 18, 26, 1],\n",
       " [1978, 2569, 3067, 42, 35, 1978, 2569, 18, 26, 1, 1978],\n",
       " [1978, 2569, 3067, 42, 35, 1978, 2569, 18, 26, 1, 1978, 2569],\n",
       " [1978, 2569, 3067, 42, 35, 1978, 2569, 18, 26, 1, 1978, 2569, 3067],\n",
       " [88, 3],\n",
       " [88, 3, 27],\n",
       " [88, 3, 27, 192],\n",
       " [88, 3, 27, 192, 509],\n",
       " [88, 3, 27, 192, 509, 127],\n",
       " [88, 3, 27, 192, 509, 127, 59],\n",
       " [88, 3, 27, 192, 509, 127, 59, 18],\n",
       " [88, 3, 27, 192, 509, 127, 59, 18, 26],\n",
       " [88, 3, 27, 192, 509, 127, 59, 18, 26, 1],\n",
       " [88, 3, 27, 192, 509, 127, 59, 18, 26, 1, 7],\n",
       " [88, 3, 27, 192, 509, 127, 59, 18, 26, 1, 7, 2],\n",
       " [88, 3, 27, 192, 509, 127, 59, 18, 26, 1, 7, 2, 38],\n",
       " [88, 3, 27, 192, 509, 127, 59, 18, 26, 1, 7, 2, 38, 192],\n",
       " [88, 3, 27, 192, 509, 127, 59, 18, 26, 1, 7, 2, 38, 192, 509],\n",
       " [88, 3, 27, 192, 509, 127, 59, 18, 26, 1, 7, 2, 38, 192, 509, 127],\n",
       " [88, 3, 27, 192, 509, 127, 59, 18, 26, 1, 7, 2, 38, 192, 509, 127, 59],\n",
       " [3285, 146],\n",
       " [3285, 146, 8],\n",
       " [3285, 146, 8, 1],\n",
       " [3285, 146, 8, 1, 5],\n",
       " [3285, 146, 8, 1, 5, 6],\n",
       " [3285, 146, 8, 1, 5, 6, 4],\n",
       " [3285, 146, 8, 1, 5, 6, 4, 3285],\n",
       " [3285, 146, 8, 1, 5, 6, 4, 3285, 146],\n",
       " [2051, 0],\n",
       " [2051, 0, 8],\n",
       " [2051, 0, 8, 1],\n",
       " [2051, 0, 8, 1, 5],\n",
       " [2051, 0, 8, 1, 5, 6],\n",
       " [2051, 0, 8, 1, 5, 6, 4],\n",
       " [2051, 0, 8, 1, 5, 6, 4, 2051],\n",
       " [2051, 0, 8, 1, 5, 6, 4, 2051, 0],\n",
       " [300, 637],\n",
       " [300, 637, 270],\n",
       " [300, 637, 270, 416],\n",
       " [300, 637, 270, 416, 98],\n",
       " [300, 637, 270, 416, 98, 29],\n",
       " [300, 637, 270, 416, 98, 29, 57],\n",
       " [300, 637, 270, 416, 98, 29, 57, 22],\n",
       " [300, 637, 270, 416, 98, 29, 57, 22, 28],\n",
       " [300, 637, 270, 416, 98, 29, 57, 22, 28, 30],\n",
       " [300, 637, 270, 416, 98, 29, 57, 22, 28, 30, 96],\n",
       " [300, 637, 270, 416, 98, 29, 57, 22, 28, 30, 96, 19],\n",
       " [300, 637, 270, 416, 98, 29, 57, 22, 28, 30, 96, 19, 300],\n",
       " [300, 637, 270, 416, 98, 29, 57, 22, 28, 30, 96, 19, 300, 637],\n",
       " [300, 637, 270, 416, 98, 29, 57, 22, 28, 30, 96, 19, 300, 637, 270],\n",
       " [300, 637, 270, 416, 98, 29, 57, 22, 28, 30, 96, 19, 300, 637, 270, 416],\n",
       " [568, 282],\n",
       " [568, 282, 0],\n",
       " [568, 282, 0, 18],\n",
       " [568, 282, 0, 18, 160],\n",
       " [568, 282, 0, 18, 160, 1],\n",
       " [568, 282, 0, 18, 160, 1, 10],\n",
       " [568, 282, 0, 18, 160, 1, 10, 0],\n",
       " [568, 282, 0, 18, 160, 1, 10, 0, 3],\n",
       " [568, 282, 0, 18, 160, 1, 10, 0, 3, 34],\n",
       " [9, 196],\n",
       " [9, 196, 15],\n",
       " [9, 196, 15, 3],\n",
       " [9, 196, 15, 3, 107],\n",
       " [9, 196, 15, 3, 107, 130],\n",
       " [9, 196, 15, 3, 107, 130, 181],\n",
       " [9, 196, 15, 3, 107, 130, 181, 179],\n",
       " [9, 196, 15, 3, 107, 130, 181, 179, 110],\n",
       " [9, 196, 15, 3, 107, 130, 181, 179, 110, 130],\n",
       " [9, 196, 15, 3, 107, 130, 181, 179, 110, 130, 181],\n",
       " [9, 196, 15, 3, 107, 130, 181, 179, 110, 130, 181, 179],\n",
       " [168, 55],\n",
       " [168, 55, 45],\n",
       " [168, 55, 45, 16197],\n",
       " [168, 55, 45, 16197, 10250],\n",
       " [168, 55, 45, 16197, 10250, 24],\n",
       " [168, 55, 45, 16197, 10250, 24, 12],\n",
       " [168, 55, 45, 16197, 10250, 24, 12, 10],\n",
       " [168, 55, 45, 16197, 10250, 24, 12, 10, 16],\n",
       " [168, 55, 45, 16197, 10250, 24, 12, 10, 16, 13],\n",
       " [168, 55, 45, 16197, 10250, 24, 12, 10, 16, 13, 32],\n",
       " [168, 55, 45, 16197, 10250, 24, 12, 10, 16, 13, 32, 45],\n",
       " [168, 55, 45, 16197, 10250, 24, 12, 10, 16, 13, 32, 45, 16197],\n",
       " [168, 55, 45, 16197, 10250, 24, 12, 10, 16, 13, 32, 45, 16197, 10250],\n",
       " [168, 55, 45, 16197, 10250, 24, 12, 10, 16, 13, 32, 45, 16197, 10250, 24],\n",
       " [168, 55, 45, 16197, 10250, 24, 12, 10, 16, 13, 32, 45, 16197, 10250, 24, 15],\n",
       " [3917, 14],\n",
       " [3917, 14, 67],\n",
       " [3917, 14, 67, 23],\n",
       " [3917, 14, 67, 23, 661],\n",
       " [3917, 14, 67, 23, 661, 93],\n",
       " [3917, 14, 67, 23, 661, 93, 139],\n",
       " [3917, 14, 67, 23, 661, 93, 139, 6095],\n",
       " [3917, 14, 67, 23, 661, 93, 139, 6095, 2545],\n",
       " [3917, 14, 67, 23, 661, 93, 139, 6095, 2545, 17],\n",
       " [3917, 14, 67, 23, 661, 93, 139, 6095, 2545, 17, 7],\n",
       " [3917, 14, 67, 23, 661, 93, 139, 6095, 2545, 17, 7, 25],\n",
       " [3917, 14, 67, 23, 661, 93, 139, 6095, 2545, 17, 7, 25, 3917],\n",
       " [3917, 14, 67, 23, 661, 93, 139, 6095, 2545, 17, 7, 25, 3917, 14],\n",
       " [3917, 14, 67, 23, 661, 93, 139, 6095, 2545, 17, 7, 25, 3917, 14, 67],\n",
       " [2, 45],\n",
       " [2, 45, 83],\n",
       " [2, 45, 83, 328],\n",
       " [2, 45, 83, 328, 45],\n",
       " [2, 45, 83, 328, 45, 0],\n",
       " [2, 45, 83, 328, 45, 0, 194],\n",
       " [2, 45, 83, 328, 45, 0, 194, 703],\n",
       " [2, 45, 83, 328, 45, 0, 194, 703, 91],\n",
       " [2, 45, 83, 328, 45, 0, 194, 703, 91, 5328],\n",
       " [2, 45, 83, 328, 45, 0, 194, 703, 91, 5328, 262],\n",
       " [2, 45, 83, 328, 45, 0, 194, 703, 91, 5328, 262, 328],\n",
       " [2, 45, 83, 328, 45, 0, 194, 703, 91, 5328, 262, 328, 45],\n",
       " [2, 45, 83, 328, 45, 0, 194, 703, 91, 5328, 262, 328, 45, 0],\n",
       " [2, 45, 83, 328, 45, 0, 194, 703, 91, 5328, 262, 328, 45, 0, 9833],\n",
       " [42, 35],\n",
       " [42, 35, 673],\n",
       " [42, 35, 673, 1358],\n",
       " [42, 35, 673, 1358, 11],\n",
       " [42, 35, 673, 1358, 11, 2517],\n",
       " [42, 35, 673, 1358, 11, 2517, 129],\n",
       " [42, 35, 673, 1358, 11, 2517, 129, 1358],\n",
       " [42, 35, 673, 1358, 11, 2517, 129, 1358, 2517],\n",
       " [602, 4099],\n",
       " [602, 4099, 0],\n",
       " [602, 4099, 0, 9],\n",
       " [602, 4099, 0, 9, 0],\n",
       " [602, 4099, 0, 9, 0, 24],\n",
       " [602, 4099, 0, 9, 0, 24, 7],\n",
       " [602, 4099, 0, 9, 0, 24, 7, 602],\n",
       " [602, 4099, 0, 9, 0, 24, 7, 602, 4099],\n",
       " [602, 4099, 0, 9, 0, 24, 7, 602, 4099, 0],\n",
       " [151, 3068],\n",
       " [151, 3068, 1873],\n",
       " [151, 3068, 1873, 661],\n",
       " [151, 3068, 1873, 661, 130],\n",
       " [151, 3068, 1873, 661, 130, 22],\n",
       " [151, 3068, 1873, 661, 130, 22, 28],\n",
       " [151, 3068, 1873, 661, 130, 22, 28, 33],\n",
       " [151, 3068, 1873, 661, 130, 22, 28, 33, 30],\n",
       " [151, 3068, 1873, 661, 130, 22, 28, 33, 30, 190],\n",
       " [151, 3068, 1873, 661, 130, 22, 28, 33, 30, 190, 84],\n",
       " [151, 3068, 1873, 661, 130, 22, 28, 33, 30, 190, 84, 151],\n",
       " [151, 3068, 1873, 661, 130, 22, 28, 33, 30, 190, 84, 151, 3068],\n",
       " [151, 3068, 1873, 661, 130, 22, 28, 33, 30, 190, 84, 151, 3068, 1873],\n",
       " [525, 1245],\n",
       " [525, 1245, 85],\n",
       " [525, 1245, 85, 8],\n",
       " [525, 1245, 85, 8, 1],\n",
       " [525, 1245, 85, 8, 1, 5],\n",
       " [525, 1245, 85, 8, 1, 5, 6],\n",
       " [525, 1245, 85, 8, 1, 5, 6, 4],\n",
       " [525, 1245, 85, 8, 1, 5, 6, 4, 525],\n",
       " [525, 1245, 85, 8, 1, 5, 6, 4, 525, 1245],\n",
       " [525, 1245, 85, 8, 1, 5, 6, 4, 525, 1245, 85],\n",
       " [8865, 36],\n",
       " ...]"
      ]
     },
     "execution_count": 365,
     "metadata": {},
     "output_type": "execute_result"
    }
   ],
   "source": [
    "ngram_input_sequences_training"
   ]
  },
  {
   "cell_type": "code",
   "execution_count": 249,
   "metadata": {},
   "outputs": [],
   "source": [
    "def generate_padded_sequence(input_sequences):\n",
    "    input_sequences = pad_sequences(test_sequences, maxlen=MAX_SEQUENCE_LENGTH, \n",
    "                     padding=\"pre\", truncating=\"post\")\n",
    "    \n",
    "    #input_sequences = np.array(pad_sequences(input_sequences, maxlen=30, padding='pre'))\n",
    "    \n",
    "    predictors, label = input_sequences[:,:-1],input_sequences[:,-1]\n",
    "    label = ku.to_categorical(label, num_classes=MAX_NB_WORDS+1)\n",
    "    return predictors, label, max_sequence_len"
   ]
  },
  {
   "cell_type": "code",
   "execution_count": 250,
   "metadata": {},
   "outputs": [],
   "source": [
    "predictors, label, max_sequence_len = generate_padded_sequences(ngram_input_sequences_training)"
   ]
  },
  {
   "cell_type": "code",
   "execution_count": 254,
   "metadata": {},
   "outputs": [],
   "source": [
    "model_genn = Sequential()\n",
    "model_genn.add(Embedding(nb_words+1,\n",
    "                     WV_DIM,\n",
    "                     mask_zero=False,\n",
    "                     weights=[embedding_matrix],\n",
    "                     input_length=MAX_SEQUENCE_LENGTH-1,\n",
    "                     trainable=False))\n",
    "\n",
    "model_genn.add(LSTM(200))\n",
    "model_genn.add(Dropout(0.2))\n",
    "model_genn.add(Dense(MAX_NB_WORDS+1, activation = 'softmax'))\n",
    "\n",
    "model_genn.compile(loss='categorical_crossentropy', \n",
    "                   optimizer = 'adam',\n",
    "                   metrics = ['accuracy']) "
   ]
  },
  {
   "cell_type": "code",
   "execution_count": 256,
   "metadata": {},
   "outputs": [
    {
     "data": {
      "text/plain": [
       "1716751"
      ]
     },
     "execution_count": 256,
     "metadata": {},
     "output_type": "execute_result"
    }
   ],
   "source": [
    "len(predictors)"
   ]
  },
  {
   "cell_type": "code",
   "execution_count": 258,
   "metadata": {},
   "outputs": [
    {
     "name": "stdout",
     "output_type": "stream",
     "text": [
      "Epoch 1/100\n",
      " - 28s - loss: 6.8554 - acc: 0.0662\n",
      "Epoch 2/100\n",
      " - 29s - loss: 6.8363 - acc: 0.0703\n",
      "Epoch 3/100\n",
      " - 29s - loss: 6.8140 - acc: 0.0727\n",
      "Epoch 4/100\n",
      " - 29s - loss: 6.7897 - acc: 0.0759\n",
      "Epoch 5/100\n",
      " - 30s - loss: 6.7591 - acc: 0.0782\n",
      "Epoch 6/100\n",
      " - 30s - loss: 6.7478 - acc: 0.0773\n",
      "Epoch 7/100\n",
      " - 30s - loss: 6.7257 - acc: 0.0790\n",
      "Epoch 8/100\n",
      " - 30s - loss: 6.6944 - acc: 0.0840\n",
      "Epoch 9/100\n",
      " - 30s - loss: 6.6600 - acc: 0.0867\n",
      "Epoch 10/100\n",
      " - 30s - loss: 6.6300 - acc: 0.0907\n",
      "Epoch 11/100\n",
      " - 30s - loss: 6.5906 - acc: 0.0921\n",
      "Epoch 12/100\n",
      " - 30s - loss: 6.5661 - acc: 0.0979\n",
      "Epoch 13/100\n",
      " - 31s - loss: 6.5467 - acc: 0.0976\n",
      "Epoch 14/100\n",
      " - 31s - loss: 6.4990 - acc: 0.0986\n",
      "Epoch 15/100\n",
      " - 30s - loss: 6.4720 - acc: 0.0989\n",
      "Epoch 16/100\n",
      " - 30s - loss: 6.4541 - acc: 0.0984\n",
      "Epoch 17/100\n",
      " - 31s - loss: 6.4415 - acc: 0.0984\n",
      "Epoch 18/100\n",
      " - 29s - loss: 6.4083 - acc: 0.0977\n",
      "Epoch 19/100\n",
      " - 29s - loss: 6.3942 - acc: 0.1013\n",
      "Epoch 20/100\n",
      " - 29s - loss: 6.3766 - acc: 0.1027\n",
      "Epoch 21/100\n",
      " - 30s - loss: 6.3667 - acc: 0.1004\n",
      "Epoch 22/100\n",
      " - 30s - loss: 6.3420 - acc: 0.1032\n",
      "Epoch 23/100\n",
      " - 30s - loss: 6.3263 - acc: 0.1021\n",
      "Epoch 24/100\n",
      " - 30s - loss: 6.3278 - acc: 0.1022\n",
      "Epoch 25/100\n",
      " - 30s - loss: 6.3018 - acc: 0.1023\n",
      "Epoch 26/100\n",
      " - 31s - loss: 6.3004 - acc: 0.1030\n",
      "Epoch 27/100\n",
      " - 31s - loss: 6.2806 - acc: 0.1047\n",
      "Epoch 28/100\n",
      " - 31s - loss: 6.2631 - acc: 0.1033\n",
      "Epoch 29/100\n",
      " - 31s - loss: 6.2105 - acc: 0.1011\n",
      "Epoch 30/100\n",
      " - 31s - loss: 6.1211 - acc: 0.1136\n",
      "Epoch 31/100\n",
      " - 31s - loss: 6.0560 - acc: 0.1223\n",
      "Epoch 32/100\n",
      " - 31s - loss: 5.9946 - acc: 0.1320\n",
      "Epoch 33/100\n",
      " - 30s - loss: 5.9315 - acc: 0.1328\n",
      "Epoch 34/100\n",
      " - 30s - loss: 5.8436 - acc: 0.1432\n",
      "Epoch 35/100\n",
      " - 30s - loss: 5.7579 - acc: 0.1518\n",
      "Epoch 36/100\n",
      " - 30s - loss: 5.6794 - acc: 0.1620\n",
      "Epoch 37/100\n",
      " - 30s - loss: 5.5820 - acc: 0.1651\n",
      "Epoch 38/100\n",
      " - 30s - loss: 5.4817 - acc: 0.1700\n",
      "Epoch 39/100\n",
      " - 30s - loss: 5.4089 - acc: 0.1760\n",
      "Epoch 40/100\n",
      " - 30s - loss: 5.3206 - acc: 0.1807\n",
      "Epoch 41/100\n",
      " - 30s - loss: 5.2248 - acc: 0.1847\n",
      "Epoch 42/100\n",
      " - 30s - loss: 5.1146 - acc: 0.1874\n",
      "Epoch 43/100\n",
      " - 30s - loss: 4.9849 - acc: 0.1925\n",
      "Epoch 44/100\n",
      " - 30s - loss: 4.9011 - acc: 0.1948\n",
      "Epoch 45/100\n",
      " - 31s - loss: 4.7925 - acc: 0.1984\n",
      "Epoch 46/100\n",
      " - 30s - loss: 4.6814 - acc: 0.2004\n",
      "Epoch 47/100\n",
      " - 30s - loss: 4.5713 - acc: 0.2072\n",
      "Epoch 48/100\n",
      " - 31s - loss: 4.4672 - acc: 0.2134\n",
      "Epoch 49/100\n",
      " - 30s - loss: 4.3469 - acc: 0.2169\n",
      "Epoch 50/100\n",
      " - 29s - loss: 4.2566 - acc: 0.2214\n",
      "Epoch 51/100\n",
      " - 29s - loss: 4.1590 - acc: 0.2331\n",
      "Epoch 52/100\n",
      " - 30s - loss: 4.0609 - acc: 0.2357\n",
      "Epoch 53/100\n",
      " - 30s - loss: 3.9602 - acc: 0.2496\n",
      "Epoch 54/100\n",
      " - 30s - loss: 3.8779 - acc: 0.2497\n",
      "Epoch 55/100\n",
      " - 30s - loss: 3.7705 - acc: 0.2679\n",
      "Epoch 56/100\n",
      " - 30s - loss: 3.7101 - acc: 0.2714\n",
      "Epoch 57/100\n",
      " - 30s - loss: 3.6358 - acc: 0.2763\n",
      "Epoch 58/100\n",
      " - 30s - loss: 3.5736 - acc: 0.2915\n",
      "Epoch 59/100\n",
      " - 30s - loss: 3.5013 - acc: 0.2930\n",
      "Epoch 60/100\n",
      " - 30s - loss: 3.4558 - acc: 0.2973\n",
      "Epoch 61/100\n",
      " - 30s - loss: 3.3936 - acc: 0.3032\n",
      "Epoch 62/100\n",
      " - 30s - loss: 3.3373 - acc: 0.3132\n",
      "Epoch 63/100\n",
      " - 30s - loss: 3.2776 - acc: 0.3192\n",
      "Epoch 64/100\n",
      " - 31s - loss: 3.2320 - acc: 0.3253\n",
      "Epoch 65/100\n",
      " - 30s - loss: 3.1600 - acc: 0.3357\n",
      "Epoch 66/100\n",
      " - 30s - loss: 3.0950 - acc: 0.3475\n",
      "Epoch 67/100\n",
      " - 31s - loss: 3.0250 - acc: 0.3561\n",
      "Epoch 68/100\n",
      " - 31s - loss: 2.9559 - acc: 0.3619\n",
      "Epoch 69/100\n",
      " - 31s - loss: 2.8897 - acc: 0.3777\n",
      "Epoch 70/100\n",
      " - 31s - loss: 2.8096 - acc: 0.3881\n",
      "Epoch 71/100\n",
      " - 30s - loss: 2.7469 - acc: 0.3932\n",
      "Epoch 72/100\n",
      " - 31s - loss: 2.6900 - acc: 0.4015\n",
      "Epoch 73/100\n",
      " - 30s - loss: 2.6086 - acc: 0.4167\n",
      "Epoch 74/100\n",
      " - 31s - loss: 2.5298 - acc: 0.4260\n",
      "Epoch 75/100\n",
      " - 30s - loss: 2.4635 - acc: 0.4395\n",
      "Epoch 76/100\n",
      " - 31s - loss: 2.3965 - acc: 0.4530\n",
      "Epoch 77/100\n",
      " - 30s - loss: 2.3424 - acc: 0.4633\n",
      "Epoch 78/100\n",
      " - 31s - loss: 2.2593 - acc: 0.4719\n",
      "Epoch 79/100\n",
      " - 31s - loss: 2.1929 - acc: 0.4871\n",
      "Epoch 80/100\n",
      " - 31s - loss: 2.1301 - acc: 0.4936\n",
      "Epoch 81/100\n",
      " - 30s - loss: 2.0642 - acc: 0.5077\n",
      "Epoch 82/100\n",
      " - 30s - loss: 2.0021 - acc: 0.5246\n",
      "Epoch 83/100\n",
      " - 30s - loss: 1.9383 - acc: 0.5340\n",
      "Epoch 84/100\n",
      " - 31s - loss: 1.8730 - acc: 0.5492\n",
      "Epoch 85/100\n",
      " - 31s - loss: 1.8140 - acc: 0.5572\n",
      "Epoch 86/100\n",
      " - 31s - loss: 1.7525 - acc: 0.5715\n",
      "Epoch 87/100\n",
      " - 31s - loss: 1.6952 - acc: 0.5841\n",
      "Epoch 88/100\n",
      " - 31s - loss: 1.6405 - acc: 0.5940\n",
      "Epoch 89/100\n",
      " - 31s - loss: 1.5744 - acc: 0.6048\n",
      "Epoch 90/100\n",
      " - 31s - loss: 1.5349 - acc: 0.6170\n",
      "Epoch 91/100\n",
      " - 37s - loss: 1.4876 - acc: 0.6268\n",
      "Epoch 92/100\n",
      " - 50s - loss: 1.4379 - acc: 0.6381\n",
      "Epoch 93/100\n",
      " - 51s - loss: 1.3810 - acc: 0.6492\n",
      "Epoch 94/100\n",
      " - 50s - loss: 1.3378 - acc: 0.6607\n",
      "Epoch 95/100\n",
      " - 51s - loss: 1.3027 - acc: 0.6651\n",
      "Epoch 96/100\n",
      " - 50s - loss: 1.2644 - acc: 0.6733\n",
      "Epoch 97/100\n",
      " - 50s - loss: 1.2239 - acc: 0.6873\n",
      "Epoch 98/100\n",
      " - 52s - loss: 1.1896 - acc: 0.6959\n",
      "Epoch 99/100\n",
      " - 59s - loss: 1.1526 - acc: 0.6992\n",
      "Epoch 100/100\n",
      " - 59s - loss: 1.1078 - acc: 0.7098\n"
     ]
    },
    {
     "data": {
      "text/plain": [
       "<keras.callbacks.History at 0x266e9b7f0>"
      ]
     },
     "execution_count": 258,
     "metadata": {},
     "output_type": "execute_result"
    }
   ],
   "source": [
    "model_genn.fit(predictors[:10000], label[:10000], epochs = 100, verbose=2)"
   ]
  },
  {
   "cell_type": "code",
   "execution_count": 624,
   "metadata": {},
   "outputs": [],
   "source": [
    "def generate_text(seed_text, next_words, model, max_sequence_len):\n",
    "    output_sequence = ''\n",
    "    for _ in range(next_words):\n",
    "        seed_text = seed_text.lower()\n",
    "        seed_list = seed_text.split()\n",
    "        token_list = [word_index.get(word)for word in seed_list]\n",
    "        \n",
    "        token_list= pad_sequences([token_list], maxlen=MAX_SEQUENCE_LENGTH-1, padding=\"pre\")\n",
    "        predicted = model.predict_classes(token_list, verbose=0)\n",
    "        \n",
    "        output_word = \"\"\n",
    "        for word,index in word_index.items():\n",
    "            if index == predicted:\n",
    "                output_word = word\n",
    "                break\n",
    "        seed_text += \" \"+output_word\n",
    "    for word in seed_list:\n",
    "        output_sequence+=word+ ' '\n",
    "    return output_sequence.strip()"
   ]
  },
  {
   "cell_type": "code",
   "execution_count": 633,
   "metadata": {},
   "outputs": [
    {
     "data": {
      "text/plain": [
       "'компьютер опт розница'"
      ]
     },
     "execution_count": 633,
     "metadata": {},
     "output_type": "execute_result"
    }
   ],
   "source": [
    "generate_text('компьютер', 3, model_genn, 3)"
   ]
  },
  {
   "cell_type": "code",
   "execution_count": null,
   "metadata": {},
   "outputs": [],
   "source": []
  }
 ],
 "metadata": {
  "kernelspec": {
   "display_name": "Python 3",
   "language": "python",
   "name": "python3"
  },
  "language_info": {
   "codemirror_mode": {
    "name": "ipython",
    "version": 3
   },
   "file_extension": ".py",
   "mimetype": "text/x-python",
   "name": "python",
   "nbconvert_exporter": "python",
   "pygments_lexer": "ipython3",
   "version": "3.6.5"
  }
 },
 "nbformat": 4,
 "nbformat_minor": 2
}
