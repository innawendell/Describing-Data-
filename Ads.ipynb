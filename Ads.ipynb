{
 "cells": [
  {
   "cell_type": "code",
   "execution_count": 1,
   "metadata": {},
   "outputs": [],
   "source": [
    "import pandas as pd\n",
    "import numpy as np\n",
    "import matplotlib.pyplot as plt\n",
    "%matplotlib inline\n",
    "import seaborn as sns\n",
    "from pymystem3 import Mystem\n",
    "from stop_words import get_stop_words\n",
    "from sklearn.model_selection import train_test_split\n",
    "from sklearn.linear_model import LogisticRegression\n",
    "import gensim\n",
    "from gensim.models import word2vec\n",
    "from sklearn.model_selection import cross_val_predict\n",
    "import re\n",
    "import string\n",
    "from sklearn.metrics.pairwise import cosine_similarity\n",
    "from sklearn.ensemble import RandomForestClassifier\n",
    "from xgboost import XGBClassifier\n",
    "from sklearn.utils import shuffle\n",
    "from sklearn.model_selection import cross_val_score, GridSearchCV\n",
    "from sklearn.manifold import TSNE\n",
    "import warnings\n",
    "warnings.filterwarnings('ignore')"
   ]
  },
  {
   "cell_type": "code",
   "execution_count": 2,
   "metadata": {},
   "outputs": [],
   "source": [
    "ads = pd.read_csv('/Users/admin/Documents/contextAdvertising1.csv')"
   ]
  },
  {
   "cell_type": "code",
   "execution_count": 3,
   "metadata": {},
   "outputs": [
    {
     "data": {
      "text/plain": [
       "(799999, 3)"
      ]
     },
     "execution_count": 3,
     "metadata": {},
     "output_type": "execute_result"
    }
   ],
   "source": [
    "ads.shape"
   ]
  },
  {
   "cell_type": "code",
   "execution_count": 4,
   "metadata": {},
   "outputs": [
    {
     "data": {
      "text/html": [
       "<div>\n",
       "<style scoped>\n",
       "    .dataframe tbody tr th:only-of-type {\n",
       "        vertical-align: middle;\n",
       "    }\n",
       "\n",
       "    .dataframe tbody tr th {\n",
       "        vertical-align: top;\n",
       "    }\n",
       "\n",
       "    .dataframe thead th {\n",
       "        text-align: right;\n",
       "    }\n",
       "</style>\n",
       "<table border=\"1\" class=\"dataframe\">\n",
       "  <thead>\n",
       "    <tr style=\"text-align: right;\">\n",
       "      <th></th>\n",
       "      <th>atitle</th>\n",
       "      <th>atext</th>\n",
       "      <th>adomain</th>\n",
       "    </tr>\n",
       "  </thead>\n",
       "  <tbody>\n",
       "    <tr>\n",
       "      <th>0</th>\n",
       "      <td>Клуб активного отдыха «0.67»</td>\n",
       "      <td>Детский пейнтбол. Спортивный пейнтбол. Тактиче...</td>\n",
       "      <td>0-67.relax.by</td>\n",
       "    </tr>\n",
       "    <tr>\n",
       "      <th>1</th>\n",
       "      <td>Антигравитационный чехол IPhone 5</td>\n",
       "      <td>Успейте купить антигравитационный чехол для IP...</td>\n",
       "      <td>0-antigravity.ru</td>\n",
       "    </tr>\n",
       "    <tr>\n",
       "      <th>2</th>\n",
       "      <td>Антигравитационный чехол купить!</td>\n",
       "      <td>Антигравитационный чехол для телефона купить з...</td>\n",
       "      <td>0-antigravity.ru</td>\n",
       "    </tr>\n",
       "    <tr>\n",
       "      <th>3</th>\n",
       "      <td>Беспроцентный заем от Moneyveo</td>\n",
       "      <td>Без справок! Получите до 3 000 грн. на карту п...</td>\n",
       "      <td>0-credit.moneyveo.ua</td>\n",
       "    </tr>\n",
       "    <tr>\n",
       "      <th>4</th>\n",
       "      <td>Беспроцентный заем сотруднику</td>\n",
       "      <td>Акция! Получите Кредит Онлайн под 0%. Без Спра...</td>\n",
       "      <td>0-credit.moneyveo.ua</td>\n",
       "    </tr>\n",
       "  </tbody>\n",
       "</table>\n",
       "</div>"
      ],
      "text/plain": [
       "                              atitle  \\\n",
       "0       Клуб активного отдыха «0.67»   \n",
       "1  Антигравитационный чехол IPhone 5   \n",
       "2   Антигравитационный чехол купить!   \n",
       "3     Беспроцентный заем от Moneyveo   \n",
       "4      Беспроцентный заем сотруднику   \n",
       "\n",
       "                                               atext               adomain  \n",
       "0  Детский пейнтбол. Спортивный пейнтбол. Тактиче...         0-67.relax.by  \n",
       "1  Успейте купить антигравитационный чехол для IP...      0-antigravity.ru  \n",
       "2  Антигравитационный чехол для телефона купить з...      0-antigravity.ru  \n",
       "3  Без справок! Получите до 3 000 грн. на карту п...  0-credit.moneyveo.ua  \n",
       "4  Акция! Получите Кредит Онлайн под 0%. Без Спра...  0-credit.moneyveo.ua  "
      ]
     },
     "execution_count": 4,
     "metadata": {},
     "output_type": "execute_result"
    }
   ],
   "source": [
    "ads.head()"
   ]
  },
  {
   "cell_type": "code",
   "execution_count": 5,
   "metadata": {},
   "outputs": [
    {
     "data": {
      "text/plain": [
       "atitle     571923\n",
       "atext      350006\n",
       "adomain     19181\n",
       "dtype: int64"
      ]
     },
     "execution_count": 5,
     "metadata": {},
     "output_type": "execute_result"
    }
   ],
   "source": [
    "ads.nunique()"
   ]
  },
  {
   "cell_type": "code",
   "execution_count": 6,
   "metadata": {},
   "outputs": [
    {
     "data": {
      "text/plain": [
       "792924"
      ]
     },
     "execution_count": 6,
     "metadata": {},
     "output_type": "execute_result"
    }
   ],
   "source": [
    "(ads['atitle'] + ads['atext']).nunique()"
   ]
  },
  {
   "cell_type": "code",
   "execution_count": 202,
   "metadata": {},
   "outputs": [],
   "source": [
    "unique_adstext =ads.drop_duplicates(subset = ['atext'], keep=False)"
   ]
  },
  {
   "cell_type": "code",
   "execution_count": 203,
   "metadata": {},
   "outputs": [
    {
     "data": {
      "text/plain": [
       "atitle     234515\n",
       "atext      323003\n",
       "adomain      4838\n",
       "dtype: int64"
      ]
     },
     "execution_count": 203,
     "metadata": {},
     "output_type": "execute_result"
    }
   ],
   "source": [
    "unique_adstext.nunique()"
   ]
  },
  {
   "cell_type": "code",
   "execution_count": 204,
   "metadata": {},
   "outputs": [
    {
     "data": {
      "text/plain": [
       "234515"
      ]
     },
     "execution_count": 204,
     "metadata": {},
     "output_type": "execute_result"
    }
   ],
   "source": [
    "#it appears that even after we remove duplicate ads texts, we still have duplicate titles \n",
    "unique_adstext['atitle'].nunique()"
   ]
  },
  {
   "cell_type": "code",
   "execution_count": 205,
   "metadata": {},
   "outputs": [],
   "source": [
    "unique =unique_adstext.drop_duplicates(subset = ['atitle'], keep=False)"
   ]
  },
  {
   "cell_type": "code",
   "execution_count": 206,
   "metadata": {},
   "outputs": [
    {
     "data": {
      "text/plain": [
       "atitle     204601\n",
       "atext      204601\n",
       "adomain      4589\n",
       "dtype: int64"
      ]
     },
     "execution_count": 206,
     "metadata": {},
     "output_type": "execute_result"
    }
   ],
   "source": [
    "unique.nunique()"
   ]
  },
  {
   "cell_type": "code",
   "execution_count": 207,
   "metadata": {},
   "outputs": [
    {
     "name": "stdout",
     "output_type": "stream",
     "text": [
      "<class 'pandas.core.frame.DataFrame'>\n",
      "Int64Index: 204601 entries, 0 to 772521\n",
      "Data columns (total 3 columns):\n",
      "atitle     204601 non-null object\n",
      "atext      204601 non-null object\n",
      "adomain    204601 non-null object\n",
      "dtypes: object(3)\n",
      "memory usage: 6.2+ MB\n"
     ]
    }
   ],
   "source": [
    "unique.info()"
   ]
  },
  {
   "cell_type": "code",
   "execution_count": 208,
   "metadata": {},
   "outputs": [
    {
     "data": {
      "text/html": [
       "<div>\n",
       "<style scoped>\n",
       "    .dataframe tbody tr th:only-of-type {\n",
       "        vertical-align: middle;\n",
       "    }\n",
       "\n",
       "    .dataframe tbody tr th {\n",
       "        vertical-align: top;\n",
       "    }\n",
       "\n",
       "    .dataframe thead th {\n",
       "        text-align: right;\n",
       "    }\n",
       "</style>\n",
       "<table border=\"1\" class=\"dataframe\">\n",
       "  <thead>\n",
       "    <tr style=\"text-align: right;\">\n",
       "      <th></th>\n",
       "      <th>atitle</th>\n",
       "      <th>atext</th>\n",
       "      <th>adomain</th>\n",
       "    </tr>\n",
       "  </thead>\n",
       "  <tbody>\n",
       "    <tr>\n",
       "      <th>0</th>\n",
       "      <td>Клуб активного отдыха «0.67»</td>\n",
       "      <td>Детский пейнтбол. Спортивный пейнтбол. Тактиче...</td>\n",
       "      <td>0-67.relax.by</td>\n",
       "    </tr>\n",
       "    <tr>\n",
       "      <th>1</th>\n",
       "      <td>Антигравитационный чехол IPhone 5</td>\n",
       "      <td>Успейте купить антигравитационный чехол для IP...</td>\n",
       "      <td>0-antigravity.ru</td>\n",
       "    </tr>\n",
       "    <tr>\n",
       "      <th>2</th>\n",
       "      <td>Антигравитационный чехол купить!</td>\n",
       "      <td>Антигравитационный чехол для телефона купить з...</td>\n",
       "      <td>0-antigravity.ru</td>\n",
       "    </tr>\n",
       "    <tr>\n",
       "      <th>3</th>\n",
       "      <td>Беспроцентный заем от Moneyveo</td>\n",
       "      <td>Без справок! Получите до 3 000 грн. на карту п...</td>\n",
       "      <td>0-credit.moneyveo.ua</td>\n",
       "    </tr>\n",
       "    <tr>\n",
       "      <th>4</th>\n",
       "      <td>Беспроцентный заем сотруднику</td>\n",
       "      <td>Акция! Получите Кредит Онлайн под 0%. Без Спра...</td>\n",
       "      <td>0-credit.moneyveo.ua</td>\n",
       "    </tr>\n",
       "  </tbody>\n",
       "</table>\n",
       "</div>"
      ],
      "text/plain": [
       "                              atitle  \\\n",
       "0       Клуб активного отдыха «0.67»   \n",
       "1  Антигравитационный чехол IPhone 5   \n",
       "2   Антигравитационный чехол купить!   \n",
       "3     Беспроцентный заем от Moneyveo   \n",
       "4      Беспроцентный заем сотруднику   \n",
       "\n",
       "                                               atext               adomain  \n",
       "0  Детский пейнтбол. Спортивный пейнтбол. Тактиче...         0-67.relax.by  \n",
       "1  Успейте купить антигравитационный чехол для IP...      0-antigravity.ru  \n",
       "2  Антигравитационный чехол для телефона купить з...      0-antigravity.ru  \n",
       "3  Без справок! Получите до 3 000 грн. на карту п...  0-credit.moneyveo.ua  \n",
       "4  Акция! Получите Кредит Онлайн под 0%. Без Спра...  0-credit.moneyveo.ua  "
      ]
     },
     "execution_count": 208,
     "metadata": {},
     "output_type": "execute_result"
    }
   ],
   "source": [
    "unique.head()"
   ]
  },
  {
   "cell_type": "code",
   "execution_count": 209,
   "metadata": {},
   "outputs": [
    {
     "data": {
      "text/plain": [
       "0    Детский пейнтбол. Спортивный пейнтбол. Тактиче...\n",
       "1    Успейте купить антигравитационный чехол для IP...\n",
       "2    Антигравитационный чехол для телефона купить з...\n",
       "3    Без справок! Получите до 3 000 грн. на карту п...\n",
       "4    Акция! Получите Кредит Онлайн под 0%. Без Спра...\n",
       "Name: atext, dtype: object"
      ]
     },
     "execution_count": 209,
     "metadata": {},
     "output_type": "execute_result"
    }
   ],
   "source": [
    "unique['atext'][:5]"
   ]
  },
  {
   "cell_type": "code",
   "execution_count": 210,
   "metadata": {},
   "outputs": [
    {
     "data": {
      "text/plain": [
       "pandas.core.series.Series"
      ]
     },
     "execution_count": 210,
     "metadata": {},
     "output_type": "execute_result"
    }
   ],
   "source": [
    "type(unique['atext'])"
   ]
  },
  {
   "cell_type": "code",
   "execution_count": 211,
   "metadata": {},
   "outputs": [],
   "source": [
    "#include all the punctuation signs\\n\",\n",
    "def punctuation_remover(row):\n",
    "    punctuation = '!\"#$&\\'()*+,-./:;<=>?@[\\\\]^_`{|}~«»'\n",
    "    \n",
    "    punctuationNoPeriod = \"[\" + re.sub(\"\\.\",\"\", punctuation) + \"]\"\n",
    "    row = re.sub(punctuationNoPeriod, \" \", str(row))\n",
    "    #to remove double white spaces and create space after %,\n",
    "    row = row.replace('  ', ' ')\n",
    "    row = row.replace('%', '% ')\n",
    "    return row.strip()\n"
   ]
  },
  {
   "cell_type": "code",
   "execution_count": 212,
   "metadata": {},
   "outputs": [
    {
     "data": {
      "text/plain": [
       "'Детский пейнтбол Спортивный пейнтбол Тактический пейнтбол Выездные игры'"
      ]
     },
     "execution_count": 212,
     "metadata": {},
     "output_type": "execute_result"
    }
   ],
   "source": [
    "punctuation_remover(unique['atext'][0])"
   ]
  },
  {
   "cell_type": "code",
   "execution_count": 213,
   "metadata": {},
   "outputs": [],
   "source": [
    "# remove punctuation from the ads text\n",
    "unique['atext'] = unique['atext'].apply(punctuation_remover)"
   ]
  },
  {
   "cell_type": "code",
   "execution_count": 214,
   "metadata": {},
   "outputs": [],
   "source": [
    "unique['atitle'] = unique['atitle'].apply(punctuation_remover)"
   ]
  },
  {
   "cell_type": "code",
   "execution_count": 215,
   "metadata": {},
   "outputs": [
    {
     "data": {
      "text/plain": [
       "0           Клуб активного отдыха 0 67\n",
       "1    Антигравитационный чехол IPhone 5\n",
       "2      Антигравитационный чехол купить\n",
       "3       Беспроцентный заем от Moneyveo\n",
       "4        Беспроцентный заем сотруднику\n",
       "Name: atitle, dtype: object"
      ]
     },
     "execution_count": 215,
     "metadata": {},
     "output_type": "execute_result"
    }
   ],
   "source": [
    "unique['atitle'][:5]"
   ]
  },
  {
   "cell_type": "code",
   "execution_count": 216,
   "metadata": {},
   "outputs": [
    {
     "data": {
      "text/plain": [
       "'Детский пейнтбол Спортивный пейнтбол Тактический пейнтбол Выездные игры'"
      ]
     },
     "execution_count": 216,
     "metadata": {},
     "output_type": "execute_result"
    }
   ],
   "source": [
    "unique['atext'].iloc[0]"
   ]
  },
  {
   "cell_type": "code",
   "execution_count": 217,
   "metadata": {},
   "outputs": [],
   "source": [
    "unique = unique.drop_duplicates(subset = ['atitle'], keep=False)"
   ]
  },
  {
   "cell_type": "code",
   "execution_count": 218,
   "metadata": {},
   "outputs": [],
   "source": [
    "unique = unique.drop_duplicates(subset = ['atext'], keep=False)"
   ]
  },
  {
   "cell_type": "code",
   "execution_count": 24,
   "metadata": {},
   "outputs": [
    {
     "data": {
      "text/plain": [
       "atitle     200718\n",
       "atext      200718\n",
       "adomain      4534\n",
       "dtype: int64"
      ]
     },
     "execution_count": 24,
     "metadata": {},
     "output_type": "execute_result"
    }
   ],
   "source": [
    "unique.nunique()"
   ]
  },
  {
   "cell_type": "markdown",
   "metadata": {},
   "source": [
    "m = Mystem()\n",
    "def text_parser(series, lemmatize=True): # do lemmatization if true \n",
    "    series_copy = series.copy()\n",
    " \n",
    "    # access each ad by index\n",
    "    for index in series_copy.index:\n",
    "        \n",
    "        text = series_copy[index]\n",
    "        if lemmatize ==True:\n",
    "            lemmas = m.lemmatize(text)\n",
    "\n",
    "            lem_no_punct = [lemma for lemma in lemmas if lemma!= ' '\n",
    "                           and lemma != '\\n']\n",
    "            \n",
    "            output = lem_no_punct\n",
    "        else:\n",
    "            output = text.split()\n",
    "        series_copy[index] =output\n",
    "    return series_copy"
   ]
  },
  {
   "cell_type": "code",
   "execution_count": 192,
   "metadata": {},
   "outputs": [],
   "source": [
    "m = Mystem()\n",
    "def text_parser(series, lemmatize=True): # do lemmatization if true \n",
    "    series_copy = series.copy()\n",
    " \n",
    "    # access each ad by index\n",
    "    for index in series_copy.index:\n",
    "        ad_string = ''\n",
    "        text = series_copy[index]\n",
    "        if lemmatize == True:\n",
    "            lemmas = m.lemmatize(text)\n",
    "            for count, lemma in enumerate(lemmas):\n",
    "                if (lemma !=  ' ' and lemma != '\\n' and count < len(lemmas)):\n",
    "                    ad_string += lemma +' '\n",
    "                                \n",
    "        else:\n",
    "            for number, word in enumerate(text):  \n",
    "                if number <len(text)-1:\n",
    "                    ad_string+=word +' '\n",
    "            ad_string.strip()        \n",
    "            #now it's actually a list of strings        \n",
    "            ad_string = ad_string.strip()\n",
    "            ad_string = ad_string.split() \n",
    "            \n",
    "        series_copy[index] =ad_string\n",
    "    return series_copy"
   ]
  },
  {
   "cell_type": "code",
   "execution_count": 26,
   "metadata": {},
   "outputs": [],
   "source": [
    "unique_lem['atitle'] = text_parser(unique['atitle'])"
   ]
  },
  {
   "cell_type": "code",
   "execution_count": 27,
   "metadata": {},
   "outputs": [],
   "source": [
    "unique_lem['atext'] = text_parser(unique['atext'])"
   ]
  },
  {
   "cell_type": "code",
   "execution_count": 28,
   "metadata": {},
   "outputs": [
    {
     "data": {
      "text/html": [
       "<div>\n",
       "<style scoped>\n",
       "    .dataframe tbody tr th:only-of-type {\n",
       "        vertical-align: middle;\n",
       "    }\n",
       "\n",
       "    .dataframe tbody tr th {\n",
       "        vertical-align: top;\n",
       "    }\n",
       "\n",
       "    .dataframe thead th {\n",
       "        text-align: right;\n",
       "    }\n",
       "</style>\n",
       "<table border=\"1\" class=\"dataframe\">\n",
       "  <thead>\n",
       "    <tr style=\"text-align: right;\">\n",
       "      <th></th>\n",
       "      <th>atitle</th>\n",
       "      <th>atext</th>\n",
       "      <th>adomain</th>\n",
       "    </tr>\n",
       "  </thead>\n",
       "  <tbody>\n",
       "    <tr>\n",
       "      <th>0</th>\n",
       "      <td>клуб активный отдых 0 67</td>\n",
       "      <td>детский пейнтбол спортивный пейнтбол тактическ...</td>\n",
       "      <td>0-67.relax.by</td>\n",
       "    </tr>\n",
       "    <tr>\n",
       "      <th>1</th>\n",
       "      <td>антигравитационный чехол IPhone 5</td>\n",
       "      <td>успевать купить антигравитационный чехол для I...</td>\n",
       "      <td>0-antigravity.ru</td>\n",
       "    </tr>\n",
       "    <tr>\n",
       "      <th>3</th>\n",
       "      <td>беспроцентный заем от Moneyveo</td>\n",
       "      <td>без справка получать до 3 000 грн на карта под...</td>\n",
       "      <td>0-credit.moneyveo.ua</td>\n",
       "    </tr>\n",
       "    <tr>\n",
       "      <th>4</th>\n",
       "      <td>беспроцентный заем сотрудник</td>\n",
       "      <td>акция получать кредит онлайн под 0 %   без спр...</td>\n",
       "      <td>0-credit.moneyveo.ua</td>\n",
       "    </tr>\n",
       "    <tr>\n",
       "      <th>11</th>\n",
       "      <td>Аnti Gravity Case</td>\n",
       "      <td>Аnti gravity case  –  уникальный антигравитаци...</td>\n",
       "      <td>0-gravity.online-shop-2017.ru</td>\n",
       "    </tr>\n",
       "  </tbody>\n",
       "</table>\n",
       "</div>"
      ],
      "text/plain": [
       "                               atitle  \\\n",
       "0            клуб активный отдых 0 67   \n",
       "1   антигравитационный чехол IPhone 5   \n",
       "3      беспроцентный заем от Moneyveo   \n",
       "4        беспроцентный заем сотрудник   \n",
       "11                  Аnti Gravity Case   \n",
       "\n",
       "                                                atext  \\\n",
       "0   детский пейнтбол спортивный пейнтбол тактическ...   \n",
       "1   успевать купить антигравитационный чехол для I...   \n",
       "3   без справка получать до 3 000 грн на карта под...   \n",
       "4   акция получать кредит онлайн под 0 %   без спр...   \n",
       "11  Аnti gravity case  –  уникальный антигравитаци...   \n",
       "\n",
       "                          adomain  \n",
       "0                   0-67.relax.by  \n",
       "1                0-antigravity.ru  \n",
       "3            0-credit.moneyveo.ua  \n",
       "4            0-credit.moneyveo.ua  \n",
       "11  0-gravity.online-shop-2017.ru  "
      ]
     },
     "execution_count": 28,
     "metadata": {},
     "output_type": "execute_result"
    }
   ],
   "source": [
    "unique_lem.head()"
   ]
  },
  {
   "cell_type": "code",
   "execution_count": 29,
   "metadata": {},
   "outputs": [
    {
     "data": {
      "text/plain": [
       "(200718, 3)"
      ]
     },
     "execution_count": 29,
     "metadata": {},
     "output_type": "execute_result"
    }
   ],
   "source": [
    "unique_lem.shape"
   ]
  },
  {
   "cell_type": "code",
   "execution_count": 30,
   "metadata": {},
   "outputs": [],
   "source": [
    "unique_lem = unique.drop_duplicates(subset = ['atitle'], keep=False)"
   ]
  },
  {
   "cell_type": "code",
   "execution_count": 31,
   "metadata": {},
   "outputs": [],
   "source": [
    "unique_lem = unique.drop_duplicates(subset = ['atext'], keep=False)"
   ]
  },
  {
   "cell_type": "code",
   "execution_count": 32,
   "metadata": {},
   "outputs": [
    {
     "data": {
      "text/plain": [
       "(195820, 3)"
      ]
     },
     "execution_count": 32,
     "metadata": {},
     "output_type": "execute_result"
    }
   ],
   "source": [
    "unique_lem.shape"
   ]
  },
  {
   "cell_type": "code",
   "execution_count": 33,
   "metadata": {},
   "outputs": [
    {
     "data": {
      "text/plain": [
       "atitle     195820\n",
       "atext      195820\n",
       "adomain      4492\n",
       "dtype: int64"
      ]
     },
     "execution_count": 33,
     "metadata": {},
     "output_type": "execute_result"
    }
   ],
   "source": [
    "unique_lem.nunique()"
   ]
  },
  {
   "cell_type": "code",
   "execution_count": 34,
   "metadata": {},
   "outputs": [],
   "source": [
    "unique_lem = unique_lem.drop_duplicates(keep=False)"
   ]
  },
  {
   "cell_type": "code",
   "execution_count": 35,
   "metadata": {},
   "outputs": [
    {
     "data": {
      "text/plain": [
       "atitle     195820\n",
       "atext      195820\n",
       "adomain      4492\n",
       "dtype: int64"
      ]
     },
     "execution_count": 35,
     "metadata": {},
     "output_type": "execute_result"
    }
   ],
   "source": [
    "unique_lem.nunique()"
   ]
  },
  {
   "cell_type": "code",
   "execution_count": 36,
   "metadata": {},
   "outputs": [
    {
     "data": {
      "text/plain": [
       "(195820, 3)"
      ]
     },
     "execution_count": 36,
     "metadata": {},
     "output_type": "execute_result"
    }
   ],
   "source": [
    "unique_lem.shape"
   ]
  },
  {
   "cell_type": "code",
   "execution_count": 37,
   "metadata": {},
   "outputs": [
    {
     "data": {
      "text/plain": [
       "195820"
      ]
     },
     "execution_count": 37,
     "metadata": {},
     "output_type": "execute_result"
    }
   ],
   "source": [
    "len(set(unique_lem['atext']))"
   ]
  },
  {
   "cell_type": "code",
   "execution_count": 38,
   "metadata": {},
   "outputs": [
    {
     "data": {
      "text/plain": [
       "195820"
      ]
     },
     "execution_count": 38,
     "metadata": {},
     "output_type": "execute_result"
    }
   ],
   "source": [
    "len(set(unique_lem['atitle']))"
   ]
  },
  {
   "cell_type": "code",
   "execution_count": 39,
   "metadata": {},
   "outputs": [
    {
     "data": {
      "text/plain": [
       "195820"
      ]
     },
     "execution_count": 39,
     "metadata": {},
     "output_type": "execute_result"
    }
   ],
   "source": [
    "len(unique_lem['atitle'])"
   ]
  },
  {
   "cell_type": "code",
   "execution_count": 40,
   "metadata": {},
   "outputs": [
    {
     "data": {
      "text/plain": [
       "195820"
      ]
     },
     "execution_count": 40,
     "metadata": {},
     "output_type": "execute_result"
    }
   ],
   "source": [
    "len(unique_lem['atext'])"
   ]
  },
  {
   "cell_type": "code",
   "execution_count": 41,
   "metadata": {},
   "outputs": [
    {
     "data": {
      "text/plain": [
       "atitle     0\n",
       "atext      0\n",
       "adomain    0\n",
       "dtype: int64"
      ]
     },
     "execution_count": 41,
     "metadata": {},
     "output_type": "execute_result"
    }
   ],
   "source": [
    "unique_lem.isnull().sum()"
   ]
  },
  {
   "cell_type": "code",
   "execution_count": 42,
   "metadata": {},
   "outputs": [],
   "source": [
    "unique_lem['atitle'] = unique_lem['atitle'].apply(lambda x: x.split())"
   ]
  },
  {
   "cell_type": "code",
   "execution_count": 43,
   "metadata": {},
   "outputs": [],
   "source": [
    "unique_lem['atext'] = unique_lem['atext'].apply(lambda x: x.split())"
   ]
  },
  {
   "cell_type": "code",
   "execution_count": 44,
   "metadata": {},
   "outputs": [],
   "source": [
    "X = unique_lem['atext']\n",
    "y = unique_lem['atitle']"
   ]
  },
  {
   "cell_type": "code",
   "execution_count": 45,
   "metadata": {},
   "outputs": [],
   "source": [
    "X_train, X_test, y_train, y_test = train_test_split(X, y, test_size=0.3, random_state=0)"
   ]
  },
  {
   "cell_type": "code",
   "execution_count": 46,
   "metadata": {},
   "outputs": [],
   "source": [
    "merged_list = X_train + y_train"
   ]
  },
  {
   "cell_type": "markdown",
   "metadata": {},
   "source": [
    "# Training Word2Vec"
   ]
  },
  {
   "cell_type": "code",
   "execution_count": 47,
   "metadata": {},
   "outputs": [],
   "source": [
    "model = word2vec.Word2Vec(\n",
    "    merged_list,\n",
    "    workers=4,     \n",
    "    min_count=5,   \n",
    "    window=50,      \n",
    "    sg=0,          \n",
    "    sample=1e-4 ,  \n",
    "    size=300,      \n",
    "    hs=1           \n",
    ")\n"
   ]
  },
  {
   "cell_type": "code",
   "execution_count": 48,
   "metadata": {},
   "outputs": [
    {
     "name": "stdout",
     "output_type": "stream",
     "text": [
      "21000\n"
     ]
    }
   ],
   "source": [
    "vocab = model.wv.vocab.keys()\n",
    "print(len(vocab))"
   ]
  },
  {
   "cell_type": "code",
   "execution_count": 49,
   "metadata": {},
   "outputs": [],
   "source": [
    "def tsne_plot(model):\n",
    "    #Creates and TSNE model and plots it\n",
    "    \n",
    "    labels = []\n",
    "    tokens = []\n",
    "\n",
    "    for word in model.wv.vocab:\n",
    "        if model.wv.vocab[word].count > 800:\n",
    "            tokens.append(model[word])\n",
    "            labels.append(word)\n",
    "    \n",
    "    tsne_model = TSNE(perplexity=40, n_components=2, init='pca', n_iter=2500, random_state=108)\n",
    "    new_values = tsne_model.fit_transform(tokens)\n",
    "\n",
    "    x = []\n",
    "    y = []\n",
    "    \n",
    "    for value in new_values:\n",
    "        x.append(value[0])\n",
    "        y.append(value[1])\n",
    "        \n",
    "    plt.figure(figsize=(20, 20)) \n",
    "    for i in range(len(x)):\n",
    "        plt.scatter(x[i],y[i])\n",
    "        plt.annotate(labels[i],\n",
    "                     xy=(x[i], y[i]),\n",
    "                     xytext=(5, 2),\n",
    "                     textcoords='offset points',\n",
    "                     ha='right',\n",
    "                     va='bottom')\n",
    "    plt.show()"
   ]
  },
  {
   "cell_type": "code",
   "execution_count": 50,
   "metadata": {},
   "outputs": [
    {
     "data": {
      "image/png": "[encoded data removed]",
      "text/plain": [
       "<Figure size 1440x1440 with 1 Axes>"
      ]
     },
     "metadata": {
      "needs_background": "light"
     },
     "output_type": "display_data"
    }
   ],
   "source": [
    "tsne_plot(model)"
   ]
  },
  {
   "cell_type": "markdown",
   "metadata": {},
   "source": [
    "# Sample For Evaluation"
   ]
  },
  {
   "cell_type": "code",
   "execution_count": 51,
   "metadata": {},
   "outputs": [],
   "source": [
    "indices = X_test.index"
   ]
  },
  {
   "cell_type": "code",
   "execution_count": 52,
   "metadata": {},
   "outputs": [],
   "source": [
    "test_df = pd.DataFrame(X_test, index = indices)"
   ]
  },
  {
   "cell_type": "code",
   "execution_count": 53,
   "metadata": {},
   "outputs": [
    {
     "data": {
      "text/html": [
       "<div>\n",
       "<style scoped>\n",
       "    .dataframe tbody tr th:only-of-type {\n",
       "        vertical-align: middle;\n",
       "    }\n",
       "\n",
       "    .dataframe tbody tr th {\n",
       "        vertical-align: top;\n",
       "    }\n",
       "\n",
       "    .dataframe thead th {\n",
       "        text-align: right;\n",
       "    }\n",
       "</style>\n",
       "<table border=\"1\" class=\"dataframe\">\n",
       "  <thead>\n",
       "    <tr style=\"text-align: right;\">\n",
       "      <th></th>\n",
       "      <th>atext</th>\n",
       "    </tr>\n",
       "  </thead>\n",
       "  <tbody>\n",
       "    <tr>\n",
       "      <th>379691</th>\n",
       "      <td>[электрочайник, Zigmund, Shtain, KE, 81, SD, 1...</td>\n",
       "    </tr>\n",
       "    <tr>\n",
       "      <th>520472</th>\n",
       "      <td>[сабвуфер, огромный, ассортимент, бесплатный, ...</td>\n",
       "    </tr>\n",
       "    <tr>\n",
       "      <th>19942</th>\n",
       "      <td>[Onkyo, Tx, nr545, Black, в, наличие, быстрый,...</td>\n",
       "    </tr>\n",
       "    <tr>\n",
       "      <th>153486</th>\n",
       "      <td>[шаблон, ордер, входить, в, состав, сборник, 1...</td>\n",
       "    </tr>\n",
       "    <tr>\n",
       "      <th>700377</th>\n",
       "      <td>[шпаклевка, финишный, белый, сравнивать, цена,...</td>\n",
       "    </tr>\n",
       "  </tbody>\n",
       "</table>\n",
       "</div>"
      ],
      "text/plain": [
       "                                                    atext\n",
       "379691  [электрочайник, Zigmund, Shtain, KE, 81, SD, 1...\n",
       "520472  [сабвуфер, огромный, ассортимент, бесплатный, ...\n",
       "19942   [Onkyo, Tx, nr545, Black, в, наличие, быстрый,...\n",
       "153486  [шаблон, ордер, входить, в, состав, сборник, 1...\n",
       "700377  [шпаклевка, финишный, белый, сравнивать, цена,..."
      ]
     },
     "execution_count": 53,
     "metadata": {},
     "output_type": "execute_result"
    }
   ],
   "source": [
    "test_df.head()"
   ]
  },
  {
   "cell_type": "code",
   "execution_count": 54,
   "metadata": {},
   "outputs": [],
   "source": [
    "test_df['atitle'] = y_test"
   ]
  },
  {
   "cell_type": "code",
   "execution_count": 55,
   "metadata": {},
   "outputs": [
    {
     "data": {
      "text/plain": [
       "(58746, 2)"
      ]
     },
     "execution_count": 55,
     "metadata": {},
     "output_type": "execute_result"
    }
   ],
   "source": [
    "test_df.shape"
   ]
  },
  {
   "cell_type": "code",
   "execution_count": 56,
   "metadata": {},
   "outputs": [],
   "source": [
    "# we can't fit all the examples in our memory\n",
    "\n",
    "test_sample = test_df.sample(1000)"
   ]
  },
  {
   "cell_type": "code",
   "execution_count": 57,
   "metadata": {},
   "outputs": [],
   "source": [
    "test_text_sample = test_sample['atext']\n",
    "test_title_sample = test_sample['atitle']"
   ]
  },
  {
   "cell_type": "code",
   "execution_count": 58,
   "metadata": {},
   "outputs": [],
   "source": [
    "from sklearn.preprocessing import normalize\n",
    "\n",
    "\n",
    "def result_vector(text):\n",
    "    result = np.zeros(300)\n",
    "    count = 0\n",
    "    for word in text:\n",
    "        if word in vocab:\n",
    "            result+=model.wv[word]\n",
    "            count+=1\n",
    "    if count == 0:\n",
    "        return None\n",
    "    #result = (result / count).reshape(1, -1)\n",
    "    result = normalize(result.reshape(1, -1))     \n",
    "    return result"
   ]
  },
  {
   "cell_type": "code",
   "execution_count": 59,
   "metadata": {},
   "outputs": [],
   "source": [
    "ad_vectors = []\n",
    "for ad_text in test_text_sample:\n",
    "        vector = result_vector(ad_text)\n",
    "        if vector is not None:\n",
    "            ad_vectors.append(vector)\n",
    "        else:\n",
    "            ad_vectors.append('M')"
   ]
  },
  {
   "cell_type": "code",
   "execution_count": 60,
   "metadata": {},
   "outputs": [],
   "source": [
    "title_vectors = []\n",
    "for ad_title in test_title_sample:\n",
    "    vector = result_vector(ad_title)\n",
    "    if vector is not None:\n",
    "        title_vectors.append(vector)\n",
    "    else:\n",
    "        title_vectors.append('M')"
   ]
  },
  {
   "cell_type": "code",
   "execution_count": 61,
   "metadata": {},
   "outputs": [],
   "source": [
    "def cosine_calculator(vector_one, other_vectors):\n",
    "    cosines = []\n",
    "    for each in other_vectors:\n",
    "        if each != 'M':\n",
    "            sim_score = cosine_similarity(vector_one, each)\n",
    "            cosines.extend(sim_score) \n",
    "        else:\n",
    "            cosines.append('M')\n",
    "    return cosines"
   ]
  },
  {
   "cell_type": "code",
   "execution_count": 62,
   "metadata": {},
   "outputs": [],
   "source": [
    "def rank_checker(first_vector_set, other_vectors, smpl_df, number):\n",
    "    cosines_results = cosine_calculator(first_vector_set[number], other_vectors)\n",
    "    series = pd.Series(cosines_results, index =smpl_df.index)\n",
    "    \n",
    "    #cleaning the series for sorting, 'M' stands for missing, was added if no words in the text were found in w2v vocab\n",
    "    cleaned = series[series != 'M']\n",
    "    sorted_df = cleaned.sort_values(ascending=False)\n",
    "    sorted_index = sorted_df.index\n",
    "    \n",
    "    for rank, entry in enumerate(sorted_index):\n",
    "        if entry == smpl_df.index[number]:\n",
    "            return rank"
   ]
  },
  {
   "cell_type": "code",
   "execution_count": 63,
   "metadata": {},
   "outputs": [],
   "source": [
    "ranks = []\n",
    "for row in range(len(test_sample)):\n",
    "    rank = rank_checker(ad_vectors, title_vectors, test_sample, row)\n",
    "    ranks.append(rank)"
   ]
  },
  {
   "cell_type": "code",
   "execution_count": 64,
   "metadata": {},
   "outputs": [
    {
     "data": {
      "image/png": "[encoded data removed]",
      "text/plain": [
       "<Figure size 720x360 with 1 Axes>"
      ]
     },
     "metadata": {
      "needs_background": "light"
     },
     "output_type": "display_data"
    }
   ],
   "source": [
    "plt.figure(figsize=(10, 5))\n",
    "plt.hist([rank for rank in ranks if rank is not None])\n",
    "plt.show()"
   ]
  },
  {
   "cell_type": "code",
   "execution_count": 65,
   "metadata": {},
   "outputs": [
    {
     "data": {
      "text/plain": [
       "15.448692152917506"
      ]
     },
     "execution_count": 65,
     "metadata": {},
     "output_type": "execute_result"
    }
   ],
   "source": [
    "#average rank\n",
    "sum([rank for rank in ranks if rank is not None])/ len([rank for rank in ranks if rank is not None])"
   ]
  },
  {
   "cell_type": "code",
   "execution_count": 66,
   "metadata": {},
   "outputs": [],
   "source": [
    "small = []\n",
    "for rank in ranks:\n",
    "    if rank is not None and rank <=10:\n",
    "        small.append(rank) "
   ]
  },
  {
   "cell_type": "code",
   "execution_count": 67,
   "metadata": {},
   "outputs": [
    {
     "data": {
      "text/plain": [
       "0.9054325955734407"
      ]
     },
     "execution_count": 67,
     "metadata": {},
     "output_type": "execute_result"
    }
   ],
   "source": [
    "# proportion ranked as \n",
    "len(small) / len([rank for rank in ranks if rank is not None])"
   ]
  },
  {
   "cell_type": "markdown",
   "metadata": {},
   "source": [
    "# Supervised Solution"
   ]
  },
  {
   "cell_type": "code",
   "execution_count": 68,
   "metadata": {},
   "outputs": [],
   "source": [
    "training_df = pd.DataFrame()\n",
    "training_df['text vectors'] = X_train \n",
    "training_df['title vectors'] = y_train"
   ]
  },
  {
   "cell_type": "code",
   "execution_count": 69,
   "metadata": {},
   "outputs": [],
   "source": [
    "test_df = pd.DataFrame()\n",
    "test_df['text vectors'] = X_test\n",
    "test_df['title vectors'] = y_test"
   ]
  },
  {
   "cell_type": "code",
   "execution_count": 70,
   "metadata": {},
   "outputs": [
    {
     "data": {
      "text/plain": [
       "(137074, 2)"
      ]
     },
     "execution_count": 70,
     "metadata": {},
     "output_type": "execute_result"
    }
   ],
   "source": [
    "training_df.shape"
   ]
  },
  {
   "cell_type": "code",
   "execution_count": 71,
   "metadata": {},
   "outputs": [
    {
     "data": {
      "text/plain": [
       "(58746, 2)"
      ]
     },
     "execution_count": 71,
     "metadata": {},
     "output_type": "execute_result"
    }
   ],
   "source": [
    "test_df.shape"
   ]
  },
  {
   "cell_type": "code",
   "execution_count": 72,
   "metadata": {},
   "outputs": [],
   "source": [
    "def mixed_df_creator(df):\n",
    "    \n",
    "    df_copy = df.copy()\n",
    "    df_copy = df.reset_index(drop=True)\n",
    "    \n",
    "    first_half = df_copy.iloc[:int(len(df_copy)/2)]\n",
    "    second_half = df_copy.iloc[int(len(df_copy)/2):]\n",
    "    \n",
    "    shuffled_titles = shuffle(second_half['title vectors'])\n",
    "    shuffled_titles = shuffled_titles.reset_index(drop=True)\n",
    "    \n",
    "    second_half = second_half.reset_index(drop=True)\n",
    "    second_half['title vectors'] = shuffled_titles\n",
    "    \n",
    "    first_half['pair class'] = 1\n",
    "    second_half['pair class'] = 0\n",
    "    \n",
    "    #sim_score_one = first_half.apply(cosine_between_rows, axis = 1)\n",
    "    #sim_score_two = second_half.apply(cosine_between_rows, axis = 1)\n",
    "    \n",
    "    #print('Mean cosine similarity score: first half', np.mean(sim_score_one))\n",
    "    #print('Mean cosine similarity score: second half', np.mean(sim_score_two))\n",
    "    \n",
    "    concat_result = pd.concat([first_half, second_half], axis=0, ignore_index = True)\n",
    "    \n",
    "    return concat_result"
   ]
  },
  {
   "cell_type": "code",
   "execution_count": 73,
   "metadata": {},
   "outputs": [],
   "source": [
    "training_df_mixed = mixed_df_creator(training_df)"
   ]
  },
  {
   "cell_type": "code",
   "execution_count": 74,
   "metadata": {},
   "outputs": [],
   "source": [
    "test_df_mixed = mixed_df_creator(test_df)"
   ]
  },
  {
   "cell_type": "code",
   "execution_count": 75,
   "metadata": {},
   "outputs": [
    {
     "data": {
      "text/html": [
       "<div>\n",
       "<style scoped>\n",
       "    .dataframe tbody tr th:only-of-type {\n",
       "        vertical-align: middle;\n",
       "    }\n",
       "\n",
       "    .dataframe tbody tr th {\n",
       "        vertical-align: top;\n",
       "    }\n",
       "\n",
       "    .dataframe thead th {\n",
       "        text-align: right;\n",
       "    }\n",
       "</style>\n",
       "<table border=\"1\" class=\"dataframe\">\n",
       "  <thead>\n",
       "    <tr style=\"text-align: right;\">\n",
       "      <th></th>\n",
       "      <th>text vectors</th>\n",
       "      <th>title vectors</th>\n",
       "      <th>pair class</th>\n",
       "    </tr>\n",
       "  </thead>\n",
       "  <tbody>\n",
       "    <tr>\n",
       "      <th>0</th>\n",
       "      <td>[lg, sh7b, от, 819, 00, доставка]</td>\n",
       "      <td>[lg, sh7b]</td>\n",
       "      <td>1</td>\n",
       "    </tr>\n",
       "    <tr>\n",
       "      <th>1</th>\n",
       "      <td>[нужный, перевод, медицинский, документация, к...</td>\n",
       "      <td>[перевод, медицинский, документация]</td>\n",
       "      <td>1</td>\n",
       "    </tr>\n",
       "    <tr>\n",
       "      <th>2</th>\n",
       "      <td>[результат, на, 3, день, зубной, паста, крест,...</td>\n",
       "      <td>[зубной, паста, крест]</td>\n",
       "      <td>1</td>\n",
       "    </tr>\n",
       "    <tr>\n",
       "      <th>3</th>\n",
       "      <td>[массив, бук, и, дуб, древесный, шпон, ciplex,...</td>\n",
       "      <td>[межкомнатный, дверь, из, россия]</td>\n",
       "      <td>1</td>\n",
       "    </tr>\n",
       "    <tr>\n",
       "      <th>4</th>\n",
       "      <td>[купить, Gerat, лента, пробивной, Gerat, 19мм,...</td>\n",
       "      <td>[Gerat, 19мм, 3, 2мм, 30м, 50327]</td>\n",
       "      <td>1</td>\n",
       "    </tr>\n",
       "  </tbody>\n",
       "</table>\n",
       "</div>"
      ],
      "text/plain": [
       "                                        text vectors  \\\n",
       "0                  [lg, sh7b, от, 819, 00, доставка]   \n",
       "1  [нужный, перевод, медицинский, документация, к...   \n",
       "2  [результат, на, 3, день, зубной, паста, крест,...   \n",
       "3  [массив, бук, и, дуб, древесный, шпон, ciplex,...   \n",
       "4  [купить, Gerat, лента, пробивной, Gerat, 19мм,...   \n",
       "\n",
       "                          title vectors  pair class  \n",
       "0                            [lg, sh7b]           1  \n",
       "1  [перевод, медицинский, документация]           1  \n",
       "2                [зубной, паста, крест]           1  \n",
       "3     [межкомнатный, дверь, из, россия]           1  \n",
       "4     [Gerat, 19мм, 3, 2мм, 30м, 50327]           1  "
      ]
     },
     "execution_count": 75,
     "metadata": {},
     "output_type": "execute_result"
    }
   ],
   "source": [
    "training_df_mixed.head()"
   ]
  },
  {
   "cell_type": "code",
   "execution_count": 76,
   "metadata": {},
   "outputs": [
    {
     "data": {
      "text/plain": [
       "(137074, 3)"
      ]
     },
     "execution_count": 76,
     "metadata": {},
     "output_type": "execute_result"
    }
   ],
   "source": [
    "training_df_mixed.shape"
   ]
  },
  {
   "cell_type": "code",
   "execution_count": 77,
   "metadata": {},
   "outputs": [
    {
     "data": {
      "text/plain": [
       "300"
      ]
     },
     "execution_count": 77,
     "metadata": {},
     "output_type": "execute_result"
    }
   ],
   "source": [
    "len(result_vector(training_df_mixed.iloc[0, 0])[0])"
   ]
  },
  {
   "cell_type": "code",
   "execution_count": 78,
   "metadata": {},
   "outputs": [],
   "source": [
    "# vectorization of the ads text\n",
    "text_vectors = []\n",
    "for row in range(len(training_df_mixed)):\n",
    "    vector = result_vector(training_df_mixed.iloc[row, 0])\n",
    "    if vector is not None:  \n",
    "        text_vectors.append(vector[0])\n",
    "    else:\n",
    "        text_vectors.append('M')"
   ]
  },
  {
   "cell_type": "code",
   "execution_count": 79,
   "metadata": {},
   "outputs": [],
   "source": [
    "training_df_mixed_vectorized = training_df_mixed.copy()"
   ]
  },
  {
   "cell_type": "code",
   "execution_count": 80,
   "metadata": {},
   "outputs": [],
   "source": [
    "training_df_mixed_vectorized['text vectors'] = text_vectors"
   ]
  },
  {
   "cell_type": "code",
   "execution_count": 81,
   "metadata": {},
   "outputs": [],
   "source": [
    "# vectorization of the ads text\n",
    "text_vectors_test = []\n",
    "for row in range(len(test_df_mixed)):\n",
    "    vector = result_vector(test_df_mixed.iloc[row, 0])\n",
    "    if vector is not None:  \n",
    "        text_vectors_test.append(vector[0])\n",
    "    else:\n",
    "        text_vectors_test.append('M')"
   ]
  },
  {
   "cell_type": "code",
   "execution_count": 82,
   "metadata": {},
   "outputs": [],
   "source": [
    "test_df_mixed_vectorized = test_df_mixed.copy()"
   ]
  },
  {
   "cell_type": "code",
   "execution_count": 83,
   "metadata": {},
   "outputs": [],
   "source": [
    "test_df_mixed_vectorized['text vectors'] = text_vectors_test"
   ]
  },
  {
   "cell_type": "code",
   "execution_count": 84,
   "metadata": {},
   "outputs": [],
   "source": [
    "# vectorization of the ads title\n",
    "title_vectors_tr = []\n",
    "for row in range(len(training_df_mixed)):\n",
    "    vector = result_vector(training_df_mixed.iloc[row, 1])\n",
    "    if vector is not None:  \n",
    "        title_vectors_tr.append(vector[0])\n",
    "    else:\n",
    "        title_vectors_tr.append('M')"
   ]
  },
  {
   "cell_type": "code",
   "execution_count": 85,
   "metadata": {},
   "outputs": [],
   "source": [
    "training_df_mixed_vectorized['title vectors'] = title_vectors_tr"
   ]
  },
  {
   "cell_type": "code",
   "execution_count": 86,
   "metadata": {},
   "outputs": [],
   "source": [
    "# vectorization of the ads title\n",
    "title_vectors_test = []\n",
    "for row in range(len(test_df_mixed)):\n",
    "    vector = result_vector(test_df_mixed.iloc[row, 1])\n",
    "    if vector is not None:  \n",
    "        title_vectors_test.append(vector[0])\n",
    "    else:\n",
    "        title_vectors_test.append('M')"
   ]
  },
  {
   "cell_type": "code",
   "execution_count": 87,
   "metadata": {},
   "outputs": [],
   "source": [
    "test_df_mixed_vectorized['title vectors'] = title_vectors_test"
   ]
  },
  {
   "cell_type": "code",
   "execution_count": 88,
   "metadata": {},
   "outputs": [],
   "source": [
    "# remove vectors with that are comprised exclusively of the words that are missing from our vocabulary\n",
    "\n",
    "training_df_mixed_vectorized= training_df_mixed_vectorized[training_df_mixed_vectorized['text vectors'] != 'M']\n",
    "training_df_mixed_vectorized = training_df_mixed_vectorized[training_df_mixed_vectorized['title vectors'] != 'M']\n",
    "\n",
    "test_df_mixed_vectorized= test_df_mixed_vectorized[test_df_mixed_vectorized['text vectors'] != 'M']\n",
    "test_df_mixed_vectorized = test_df_mixed_vectorized[test_df_mixed_vectorized['title vectors'] != 'M']"
   ]
  },
  {
   "cell_type": "code",
   "execution_count": 89,
   "metadata": {},
   "outputs": [
    {
     "data": {
      "text/html": [
       "<div>\n",
       "<style scoped>\n",
       "    .dataframe tbody tr th:only-of-type {\n",
       "        vertical-align: middle;\n",
       "    }\n",
       "\n",
       "    .dataframe tbody tr th {\n",
       "        vertical-align: top;\n",
       "    }\n",
       "\n",
       "    .dataframe thead th {\n",
       "        text-align: right;\n",
       "    }\n",
       "</style>\n",
       "<table border=\"1\" class=\"dataframe\">\n",
       "  <thead>\n",
       "    <tr style=\"text-align: right;\">\n",
       "      <th></th>\n",
       "      <th>text vectors</th>\n",
       "      <th>title vectors</th>\n",
       "      <th>pair class</th>\n",
       "    </tr>\n",
       "  </thead>\n",
       "  <tbody>\n",
       "    <tr>\n",
       "      <th>0</th>\n",
       "      <td>[-0.09769867784780527, -0.061115555833197686, ...</td>\n",
       "      <td>[-0.049366836243145445, -0.03596356067177696, ...</td>\n",
       "      <td>1</td>\n",
       "    </tr>\n",
       "    <tr>\n",
       "      <th>1</th>\n",
       "      <td>[-0.09798052369211248, 0.026822177874674155, 0...</td>\n",
       "      <td>[-0.043635531786860325, 0.03474029436104697, 0...</td>\n",
       "      <td>1</td>\n",
       "    </tr>\n",
       "    <tr>\n",
       "      <th>2</th>\n",
       "      <td>[-0.11090856274964765, 0.09939087001422438, -0...</td>\n",
       "      <td>[-0.022173429932130923, 0.10627881093602322, 0...</td>\n",
       "      <td>1</td>\n",
       "    </tr>\n",
       "    <tr>\n",
       "      <th>3</th>\n",
       "      <td>[-0.05994962719710779, 0.007375251393904025, -...</td>\n",
       "      <td>[-0.03757043483240444, -0.021373082798897842, ...</td>\n",
       "      <td>1</td>\n",
       "    </tr>\n",
       "    <tr>\n",
       "      <th>4</th>\n",
       "      <td>[0.013162675176291569, 0.09739772888436832, -0...</td>\n",
       "      <td>[0.040101978243317925, 0.0903473107753642, -0....</td>\n",
       "      <td>1</td>\n",
       "    </tr>\n",
       "  </tbody>\n",
       "</table>\n",
       "</div>"
      ],
      "text/plain": [
       "                                        text vectors  \\\n",
       "0  [-0.09769867784780527, -0.061115555833197686, ...   \n",
       "1  [-0.09798052369211248, 0.026822177874674155, 0...   \n",
       "2  [-0.11090856274964765, 0.09939087001422438, -0...   \n",
       "3  [-0.05994962719710779, 0.007375251393904025, -...   \n",
       "4  [0.013162675176291569, 0.09739772888436832, -0...   \n",
       "\n",
       "                                       title vectors  pair class  \n",
       "0  [-0.049366836243145445, -0.03596356067177696, ...           1  \n",
       "1  [-0.043635531786860325, 0.03474029436104697, 0...           1  \n",
       "2  [-0.022173429932130923, 0.10627881093602322, 0...           1  \n",
       "3  [-0.03757043483240444, -0.021373082798897842, ...           1  \n",
       "4  [0.040101978243317925, 0.0903473107753642, -0....           1  "
      ]
     },
     "execution_count": 89,
     "metadata": {},
     "output_type": "execute_result"
    }
   ],
   "source": [
    "training_df_mixed_vectorized.head()"
   ]
  },
  {
   "cell_type": "code",
   "execution_count": 90,
   "metadata": {},
   "outputs": [
    {
     "data": {
      "text/html": [
       "<div>\n",
       "<style scoped>\n",
       "    .dataframe tbody tr th:only-of-type {\n",
       "        vertical-align: middle;\n",
       "    }\n",
       "\n",
       "    .dataframe tbody tr th {\n",
       "        vertical-align: top;\n",
       "    }\n",
       "\n",
       "    .dataframe thead th {\n",
       "        text-align: right;\n",
       "    }\n",
       "</style>\n",
       "<table border=\"1\" class=\"dataframe\">\n",
       "  <thead>\n",
       "    <tr style=\"text-align: right;\">\n",
       "      <th></th>\n",
       "      <th>text vectors</th>\n",
       "      <th>title vectors</th>\n",
       "      <th>pair class</th>\n",
       "    </tr>\n",
       "  </thead>\n",
       "  <tbody>\n",
       "    <tr>\n",
       "      <th>0</th>\n",
       "      <td>[-0.07165920886421723, 0.06565242621313824, -0...</td>\n",
       "      <td>[-0.021773104500447626, 0.05458610764250942, -...</td>\n",
       "      <td>1</td>\n",
       "    </tr>\n",
       "    <tr>\n",
       "      <th>1</th>\n",
       "      <td>[-0.10686254860108933, 0.08799862882607107, 0....</td>\n",
       "      <td>[-0.06523840541462018, 0.1210428454629412, 0.0...</td>\n",
       "      <td>1</td>\n",
       "    </tr>\n",
       "    <tr>\n",
       "      <th>2</th>\n",
       "      <td>[-0.14737444500252272, 0.0477685306188213, 0.0...</td>\n",
       "      <td>[-0.09333348265327508, 0.057961477782754026, 0...</td>\n",
       "      <td>1</td>\n",
       "    </tr>\n",
       "    <tr>\n",
       "      <th>3</th>\n",
       "      <td>[-0.10900243069439122, 0.04217269800107119, 0....</td>\n",
       "      <td>[-0.052745812736997785, 0.02359298494622693, 0...</td>\n",
       "      <td>1</td>\n",
       "    </tr>\n",
       "    <tr>\n",
       "      <th>4</th>\n",
       "      <td>[-0.0052876368459525945, 0.1345028153217125, 0...</td>\n",
       "      <td>[-0.009416259585892602, 0.16921837183912025, 0...</td>\n",
       "      <td>1</td>\n",
       "    </tr>\n",
       "  </tbody>\n",
       "</table>\n",
       "</div>"
      ],
      "text/plain": [
       "                                        text vectors  \\\n",
       "0  [-0.07165920886421723, 0.06565242621313824, -0...   \n",
       "1  [-0.10686254860108933, 0.08799862882607107, 0....   \n",
       "2  [-0.14737444500252272, 0.0477685306188213, 0.0...   \n",
       "3  [-0.10900243069439122, 0.04217269800107119, 0....   \n",
       "4  [-0.0052876368459525945, 0.1345028153217125, 0...   \n",
       "\n",
       "                                       title vectors  pair class  \n",
       "0  [-0.021773104500447626, 0.05458610764250942, -...           1  \n",
       "1  [-0.06523840541462018, 0.1210428454629412, 0.0...           1  \n",
       "2  [-0.09333348265327508, 0.057961477782754026, 0...           1  \n",
       "3  [-0.052745812736997785, 0.02359298494622693, 0...           1  \n",
       "4  [-0.009416259585892602, 0.16921837183912025, 0...           1  "
      ]
     },
     "execution_count": 90,
     "metadata": {},
     "output_type": "execute_result"
    }
   ],
   "source": [
    "test_df_mixed_vectorized.head()"
   ]
  },
  {
   "cell_type": "code",
   "execution_count": 91,
   "metadata": {},
   "outputs": [],
   "source": [
    "def cosine_between_rows(row):\n",
    "    sim = cosine_similarity(row['text vectors'].reshape(1, -1), row['title vectors'].reshape(1, -1))\n",
    "    return sim"
   ]
  },
  {
   "cell_type": "markdown",
   "metadata": {},
   "source": [
    "# Cosine Consistency Check"
   ]
  },
  {
   "cell_type": "code",
   "execution_count": 92,
   "metadata": {},
   "outputs": [
    {
     "name": "stdout",
     "output_type": "stream",
     "text": [
      "Mean cosine similarity score: first half [[0.77849091]]\n",
      "Mean cosine similarity score: second half [[0.2391495]]\n"
     ]
    }
   ],
   "source": [
    "sim_score_one = training_df_mixed_vectorized.iloc[:int(len(training_df_mixed_vectorized)/2)].apply(cosine_between_rows, axis = 1)\n",
    "sim_score_two = training_df_mixed_vectorized.iloc[int(len(training_df_mixed_vectorized)/2):].apply(cosine_between_rows, axis = 1)\n",
    "\n",
    "print('Mean cosine similarity score: first half', np.mean(sim_score_one))\n",
    "print('Mean cosine similarity score: second half', np.mean(sim_score_two))"
   ]
  },
  {
   "cell_type": "code",
   "execution_count": 93,
   "metadata": {},
   "outputs": [
    {
     "name": "stdout",
     "output_type": "stream",
     "text": [
      "Mean cosine similarity score: first half [[0.77177651]]\n",
      "Mean cosine similarity score: second half [[0.24133522]]\n"
     ]
    }
   ],
   "source": [
    "sim_score_one_test = test_df_mixed_vectorized.iloc[:int(len(test_df_mixed_vectorized)/2)].apply(cosine_between_rows, axis = 1)\n",
    "sim_score_two_test = test_df_mixed_vectorized.iloc[int(len(test_df_mixed_vectorized)/2):].apply(cosine_between_rows, axis = 1)\n",
    "\n",
    "print('Mean cosine similarity score: first half', np.mean(sim_score_one_test))\n",
    "print('Mean cosine similarity score: second half', np.mean(sim_score_two_test))"
   ]
  },
  {
   "cell_type": "code",
   "execution_count": 94,
   "metadata": {},
   "outputs": [
    {
     "data": {
      "text/html": [
       "<div>\n",
       "<style scoped>\n",
       "    .dataframe tbody tr th:only-of-type {\n",
       "        vertical-align: middle;\n",
       "    }\n",
       "\n",
       "    .dataframe tbody tr th {\n",
       "        vertical-align: top;\n",
       "    }\n",
       "\n",
       "    .dataframe thead th {\n",
       "        text-align: right;\n",
       "    }\n",
       "</style>\n",
       "<table border=\"1\" class=\"dataframe\">\n",
       "  <thead>\n",
       "    <tr style=\"text-align: right;\">\n",
       "      <th></th>\n",
       "      <th>text vectors</th>\n",
       "      <th>title vectors</th>\n",
       "      <th>pair class</th>\n",
       "    </tr>\n",
       "  </thead>\n",
       "  <tbody>\n",
       "    <tr>\n",
       "      <th>0</th>\n",
       "      <td>[lg, sh7b, от, 819, 00, доставка]</td>\n",
       "      <td>[lg, sh7b]</td>\n",
       "      <td>1</td>\n",
       "    </tr>\n",
       "    <tr>\n",
       "      <th>1</th>\n",
       "      <td>[нужный, перевод, медицинский, документация, к...</td>\n",
       "      <td>[перевод, медицинский, документация]</td>\n",
       "      <td>1</td>\n",
       "    </tr>\n",
       "    <tr>\n",
       "      <th>2</th>\n",
       "      <td>[результат, на, 3, день, зубной, паста, крест,...</td>\n",
       "      <td>[зубной, паста, крест]</td>\n",
       "      <td>1</td>\n",
       "    </tr>\n",
       "    <tr>\n",
       "      <th>3</th>\n",
       "      <td>[массив, бук, и, дуб, древесный, шпон, ciplex,...</td>\n",
       "      <td>[межкомнатный, дверь, из, россия]</td>\n",
       "      <td>1</td>\n",
       "    </tr>\n",
       "    <tr>\n",
       "      <th>4</th>\n",
       "      <td>[купить, Gerat, лента, пробивной, Gerat, 19мм,...</td>\n",
       "      <td>[Gerat, 19мм, 3, 2мм, 30м, 50327]</td>\n",
       "      <td>1</td>\n",
       "    </tr>\n",
       "  </tbody>\n",
       "</table>\n",
       "</div>"
      ],
      "text/plain": [
       "                                        text vectors  \\\n",
       "0                  [lg, sh7b, от, 819, 00, доставка]   \n",
       "1  [нужный, перевод, медицинский, документация, к...   \n",
       "2  [результат, на, 3, день, зубной, паста, крест,...   \n",
       "3  [массив, бук, и, дуб, древесный, шпон, ciplex,...   \n",
       "4  [купить, Gerat, лента, пробивной, Gerat, 19мм,...   \n",
       "\n",
       "                          title vectors  pair class  \n",
       "0                            [lg, sh7b]           1  \n",
       "1  [перевод, медицинский, документация]           1  \n",
       "2                [зубной, паста, крест]           1  \n",
       "3     [межкомнатный, дверь, из, россия]           1  \n",
       "4     [Gerat, 19мм, 3, 2мм, 30м, 50327]           1  "
      ]
     },
     "execution_count": 94,
     "metadata": {},
     "output_type": "execute_result"
    }
   ],
   "source": [
    "training_df_mixed.head()"
   ]
  },
  {
   "cell_type": "code",
   "execution_count": 95,
   "metadata": {},
   "outputs": [
    {
     "data": {
      "text/plain": [
       "text vectors     0\n",
       "title vectors    0\n",
       "pair class       0\n",
       "dtype: int64"
      ]
     },
     "execution_count": 95,
     "metadata": {},
     "output_type": "execute_result"
    }
   ],
   "source": [
    "training_df_mixed.isnull().sum()"
   ]
  },
  {
   "cell_type": "code",
   "execution_count": 96,
   "metadata": {},
   "outputs": [
    {
     "data": {
      "text/html": [
       "<div>\n",
       "<style scoped>\n",
       "    .dataframe tbody tr th:only-of-type {\n",
       "        vertical-align: middle;\n",
       "    }\n",
       "\n",
       "    .dataframe tbody tr th {\n",
       "        vertical-align: top;\n",
       "    }\n",
       "\n",
       "    .dataframe thead th {\n",
       "        text-align: right;\n",
       "    }\n",
       "</style>\n",
       "<table border=\"1\" class=\"dataframe\">\n",
       "  <thead>\n",
       "    <tr style=\"text-align: right;\">\n",
       "      <th></th>\n",
       "      <th>text vectors</th>\n",
       "      <th>title vectors</th>\n",
       "      <th>pair class</th>\n",
       "    </tr>\n",
       "  </thead>\n",
       "  <tbody>\n",
       "    <tr>\n",
       "      <th>0</th>\n",
       "      <td>[lg, sh7b, от, 819, 00, доставка]</td>\n",
       "      <td>[lg, sh7b]</td>\n",
       "      <td>1</td>\n",
       "    </tr>\n",
       "    <tr>\n",
       "      <th>1</th>\n",
       "      <td>[нужный, перевод, медицинский, документация, к...</td>\n",
       "      <td>[перевод, медицинский, документация]</td>\n",
       "      <td>1</td>\n",
       "    </tr>\n",
       "    <tr>\n",
       "      <th>2</th>\n",
       "      <td>[результат, на, 3, день, зубной, паста, крест,...</td>\n",
       "      <td>[зубной, паста, крест]</td>\n",
       "      <td>1</td>\n",
       "    </tr>\n",
       "    <tr>\n",
       "      <th>3</th>\n",
       "      <td>[массив, бук, и, дуб, древесный, шпон, ciplex,...</td>\n",
       "      <td>[межкомнатный, дверь, из, россия]</td>\n",
       "      <td>1</td>\n",
       "    </tr>\n",
       "    <tr>\n",
       "      <th>4</th>\n",
       "      <td>[купить, Gerat, лента, пробивной, Gerat, 19мм,...</td>\n",
       "      <td>[Gerat, 19мм, 3, 2мм, 30м, 50327]</td>\n",
       "      <td>1</td>\n",
       "    </tr>\n",
       "  </tbody>\n",
       "</table>\n",
       "</div>"
      ],
      "text/plain": [
       "                                        text vectors  \\\n",
       "0                  [lg, sh7b, от, 819, 00, доставка]   \n",
       "1  [нужный, перевод, медицинский, документация, к...   \n",
       "2  [результат, на, 3, день, зубной, паста, крест,...   \n",
       "3  [массив, бук, и, дуб, древесный, шпон, ciplex,...   \n",
       "4  [купить, Gerat, лента, пробивной, Gerat, 19мм,...   \n",
       "\n",
       "                          title vectors  pair class  \n",
       "0                            [lg, sh7b]           1  \n",
       "1  [перевод, медицинский, документация]           1  \n",
       "2                [зубной, паста, крест]           1  \n",
       "3     [межкомнатный, дверь, из, россия]           1  \n",
       "4     [Gerat, 19мм, 3, 2мм, 30м, 50327]           1  "
      ]
     },
     "execution_count": 96,
     "metadata": {},
     "output_type": "execute_result"
    }
   ],
   "source": [
    "training_df_mixed.head()"
   ]
  },
  {
   "cell_type": "code",
   "execution_count": 97,
   "metadata": {},
   "outputs": [
    {
     "data": {
      "text/plain": [
       "text vectors     0\n",
       "title vectors    0\n",
       "pair class       0\n",
       "dtype: int64"
      ]
     },
     "execution_count": 97,
     "metadata": {},
     "output_type": "execute_result"
    }
   ],
   "source": [
    "test_df_mixed.isnull().sum()"
   ]
  },
  {
   "cell_type": "code",
   "execution_count": 98,
   "metadata": {},
   "outputs": [],
   "source": [
    "def df_converter(df):\n",
    "    resultant_lists = df['text vectors'].apply(list) + df['title vectors'].apply(list)\n",
    "    \n",
    "    #print length for checking the length of concatenated vectors\n",
    "    print(len(resultant_lists.iloc[0]))\n",
    "    \n",
    "    arrays = np.array(list(resultant_lists))\n",
    "    return arrays"
   ]
  },
  {
   "cell_type": "code",
   "execution_count": 99,
   "metadata": {},
   "outputs": [
    {
     "data": {
      "text/html": [
       "<div>\n",
       "<style scoped>\n",
       "    .dataframe tbody tr th:only-of-type {\n",
       "        vertical-align: middle;\n",
       "    }\n",
       "\n",
       "    .dataframe tbody tr th {\n",
       "        vertical-align: top;\n",
       "    }\n",
       "\n",
       "    .dataframe thead th {\n",
       "        text-align: right;\n",
       "    }\n",
       "</style>\n",
       "<table border=\"1\" class=\"dataframe\">\n",
       "  <thead>\n",
       "    <tr style=\"text-align: right;\">\n",
       "      <th></th>\n",
       "      <th>atext</th>\n",
       "      <th>atitle</th>\n",
       "    </tr>\n",
       "  </thead>\n",
       "  <tbody>\n",
       "    <tr>\n",
       "      <th>699034</th>\n",
       "      <td>[чайник, Leran, сравнивать, цена, весь, интерн...</td>\n",
       "      <td>[чайник, Leran]</td>\n",
       "    </tr>\n",
       "    <tr>\n",
       "      <th>34195</th>\n",
       "      <td>[большой, выбор, ростест, микроволновый, печь,...</td>\n",
       "      <td>[микроволновка, в, магазин, 003, ru]</td>\n",
       "    </tr>\n",
       "    <tr>\n",
       "      <th>665881</th>\n",
       "      <td>[подарок, на, юбилей, свадьба, фото, светильни...</td>\n",
       "      <td>[подарок, на, юбилей, свадьба]</td>\n",
       "    </tr>\n",
       "    <tr>\n",
       "      <th>679769</th>\n",
       "      <td>[краска, Feidal, сравнивать, цена, весь, интер...</td>\n",
       "      <td>[краска, Feidal]</td>\n",
       "    </tr>\n",
       "    <tr>\n",
       "      <th>623898</th>\n",
       "      <td>[новый, модель, час, AMST, оценивать, успевать...</td>\n",
       "      <td>[новый, час, AMST, официальный, сайт]</td>\n",
       "    </tr>\n",
       "  </tbody>\n",
       "</table>\n",
       "</div>"
      ],
      "text/plain": [
       "                                                    atext  \\\n",
       "699034  [чайник, Leran, сравнивать, цена, весь, интерн...   \n",
       "34195   [большой, выбор, ростест, микроволновый, печь,...   \n",
       "665881  [подарок, на, юбилей, свадьба, фото, светильни...   \n",
       "679769  [краска, Feidal, сравнивать, цена, весь, интер...   \n",
       "623898  [новый, модель, час, AMST, оценивать, успевать...   \n",
       "\n",
       "                                       atitle  \n",
       "699034                        [чайник, Leran]  \n",
       "34195    [микроволновка, в, магазин, 003, ru]  \n",
       "665881         [подарок, на, юбилей, свадьба]  \n",
       "679769                       [краска, Feidal]  \n",
       "623898  [новый, час, AMST, официальный, сайт]  "
      ]
     },
     "execution_count": 99,
     "metadata": {},
     "output_type": "execute_result"
    }
   ],
   "source": [
    "test_sample.head()"
   ]
  },
  {
   "cell_type": "code",
   "execution_count": 100,
   "metadata": {},
   "outputs": [
    {
     "data": {
      "text/plain": [
       "(1000, 2)"
      ]
     },
     "execution_count": 100,
     "metadata": {},
     "output_type": "execute_result"
    }
   ],
   "source": [
    "test_sample.shape"
   ]
  },
  {
   "cell_type": "code",
   "execution_count": 101,
   "metadata": {},
   "outputs": [
    {
     "name": "stdout",
     "output_type": "stream",
     "text": [
      "600\n"
     ]
    }
   ],
   "source": [
    "all_training_vectors = df_converter(training_df_mixed_vectorized)"
   ]
  },
  {
   "cell_type": "code",
   "execution_count": 102,
   "metadata": {},
   "outputs": [
    {
     "name": "stdout",
     "output_type": "stream",
     "text": [
      "600\n"
     ]
    }
   ],
   "source": [
    "all_test_vectors = df_converter(test_df_mixed_vectorized)"
   ]
  },
  {
   "cell_type": "code",
   "execution_count": 103,
   "metadata": {},
   "outputs": [],
   "source": [
    "new_y_training = training_df_mixed_vectorized['pair class']"
   ]
  },
  {
   "cell_type": "code",
   "execution_count": 104,
   "metadata": {},
   "outputs": [],
   "source": [
    "new_y_test = test_df_mixed_vectorized['pair class']"
   ]
  },
  {
   "cell_type": "markdown",
   "metadata": {},
   "source": [
    "# Sample for Parameter Finetuning"
   ]
  },
  {
   "cell_type": "code",
   "execution_count": 105,
   "metadata": {},
   "outputs": [],
   "source": [
    "sample_training_df = training_df_mixed_vectorized.sample(10000)"
   ]
  },
  {
   "cell_type": "code",
   "execution_count": 106,
   "metadata": {},
   "outputs": [
    {
     "data": {
      "text/html": [
       "<div>\n",
       "<style scoped>\n",
       "    .dataframe tbody tr th:only-of-type {\n",
       "        vertical-align: middle;\n",
       "    }\n",
       "\n",
       "    .dataframe tbody tr th {\n",
       "        vertical-align: top;\n",
       "    }\n",
       "\n",
       "    .dataframe thead th {\n",
       "        text-align: right;\n",
       "    }\n",
       "</style>\n",
       "<table border=\"1\" class=\"dataframe\">\n",
       "  <thead>\n",
       "    <tr style=\"text-align: right;\">\n",
       "      <th></th>\n",
       "      <th>text vectors</th>\n",
       "      <th>title vectors</th>\n",
       "      <th>pair class</th>\n",
       "    </tr>\n",
       "  </thead>\n",
       "  <tbody>\n",
       "    <tr>\n",
       "      <th>57905</th>\n",
       "      <td>[-0.0504131020293922, 0.08136678893901808, -0....</td>\n",
       "      <td>[-0.06235598104714084, 0.14457928839957465, -0...</td>\n",
       "      <td>1</td>\n",
       "    </tr>\n",
       "    <tr>\n",
       "      <th>15340</th>\n",
       "      <td>[-0.0360864246983486, 0.06547344394431176, 0.0...</td>\n",
       "      <td>[-0.09102079018199796, 0.08779689875695544, 0....</td>\n",
       "      <td>1</td>\n",
       "    </tr>\n",
       "    <tr>\n",
       "      <th>85891</th>\n",
       "      <td>[-0.01304844969234746, -0.07018732798111822, 0...</td>\n",
       "      <td>[-0.05438633666481561, 0.12815890926114604, 0....</td>\n",
       "      <td>0</td>\n",
       "    </tr>\n",
       "    <tr>\n",
       "      <th>81420</th>\n",
       "      <td>[-0.05223521163737365, 0.02359936182591435, -0...</td>\n",
       "      <td>[-0.04939974110747408, 0.11568968879082427, 0....</td>\n",
       "      <td>0</td>\n",
       "    </tr>\n",
       "    <tr>\n",
       "      <th>68899</th>\n",
       "      <td>[-0.11219315906395994, -0.0053895539108838025,...</td>\n",
       "      <td>[-0.041891985072558556, 0.15006687582318132, -...</td>\n",
       "      <td>0</td>\n",
       "    </tr>\n",
       "  </tbody>\n",
       "</table>\n",
       "</div>"
      ],
      "text/plain": [
       "                                            text vectors  \\\n",
       "57905  [-0.0504131020293922, 0.08136678893901808, -0....   \n",
       "15340  [-0.0360864246983486, 0.06547344394431176, 0.0...   \n",
       "85891  [-0.01304844969234746, -0.07018732798111822, 0...   \n",
       "81420  [-0.05223521163737365, 0.02359936182591435, -0...   \n",
       "68899  [-0.11219315906395994, -0.0053895539108838025,...   \n",
       "\n",
       "                                           title vectors  pair class  \n",
       "57905  [-0.06235598104714084, 0.14457928839957465, -0...           1  \n",
       "15340  [-0.09102079018199796, 0.08779689875695544, 0....           1  \n",
       "85891  [-0.05438633666481561, 0.12815890926114604, 0....           0  \n",
       "81420  [-0.04939974110747408, 0.11568968879082427, 0....           0  \n",
       "68899  [-0.041891985072558556, 0.15006687582318132, -...           0  "
      ]
     },
     "execution_count": 106,
     "metadata": {},
     "output_type": "execute_result"
    }
   ],
   "source": [
    "sample_training_df.head()"
   ]
  },
  {
   "cell_type": "code",
   "execution_count": 107,
   "metadata": {},
   "outputs": [],
   "source": [
    "from sklearn.decomposition import PCA\n",
    "\n",
    "pca = PCA(n_components = 150)\n",
    "X_train_pca = pca.fit_transform(all_training_vectors)"
   ]
  },
  {
   "cell_type": "code",
   "execution_count": 108,
   "metadata": {},
   "outputs": [
    {
     "name": "stdout",
     "output_type": "stream",
     "text": [
      "0.8763373428311206\n"
     ]
    }
   ],
   "source": [
    "print(sum(pca.explained_variance_ratio_))"
   ]
  },
  {
   "cell_type": "code",
   "execution_count": 109,
   "metadata": {},
   "outputs": [],
   "source": [
    "X_test_pca = pca.transform(all_test_vectors)"
   ]
  },
  {
   "cell_type": "code",
   "execution_count": 110,
   "metadata": {},
   "outputs": [
    {
     "data": {
      "text/plain": [
       "(58275, 150)"
      ]
     },
     "execution_count": 110,
     "metadata": {},
     "output_type": "execute_result"
    }
   ],
   "source": [
    "X_test_pca.shape"
   ]
  },
  {
   "cell_type": "markdown",
   "metadata": {},
   "source": [
    "# Finetuning Models"
   ]
  },
  {
   "cell_type": "code",
   "execution_count": 111,
   "metadata": {},
   "outputs": [
    {
     "name": "stdout",
     "output_type": "stream",
     "text": [
      "600\n"
     ]
    }
   ],
   "source": [
    "sample_training_arrays = df_converter(sample_training_df)"
   ]
  },
  {
   "cell_type": "code",
   "execution_count": 112,
   "metadata": {},
   "outputs": [],
   "source": [
    "sample_y = sample_training_df['pair class']"
   ]
  },
  {
   "cell_type": "code",
   "execution_count": 113,
   "metadata": {},
   "outputs": [],
   "source": [
    "pca_sample = PCA(n_components = 150)\n",
    "X_train_sample_pca = pca_sample.fit_transform(sample_training_arrays)"
   ]
  },
  {
   "cell_type": "code",
   "execution_count": 114,
   "metadata": {},
   "outputs": [
    {
     "data": {
      "text/plain": [
       "(10000, 150)"
      ]
     },
     "execution_count": 114,
     "metadata": {},
     "output_type": "execute_result"
    }
   ],
   "source": [
    "X_train_sample_pca.shape"
   ]
  },
  {
   "cell_type": "code",
   "execution_count": 115,
   "metadata": {},
   "outputs": [
    {
     "name": "stdout",
     "output_type": "stream",
     "text": [
      "0.8788698224166304\n"
     ]
    }
   ],
   "source": [
    "print(sum(pca_sample.explained_variance_ratio_))"
   ]
  },
  {
   "cell_type": "code",
   "execution_count": 116,
   "metadata": {},
   "outputs": [
    {
     "data": {
      "image/png": "[encoded data removed]",
      "text/plain": [
       "<Figure size 864x504 with 1 Axes>"
      ]
     },
     "metadata": {
      "needs_background": "light"
     },
     "output_type": "display_data"
    }
   ],
   "source": [
    "plt.figure(figsize=(12, 7))\n",
    "plt.title('First Two PCA Components')\n",
    "sns.scatterplot(X_train_sample_pca[:, 0], X_train_sample_pca[:, 1])\n",
    "plt.xlabel('First PCA Component')\n",
    "plt.ylabel('Second PCA Componenet')\n",
    "\n",
    "plt.show()"
   ]
  },
  {
   "cell_type": "code",
   "execution_count": 117,
   "metadata": {},
   "outputs": [
    {
     "name": "stdout",
     "output_type": "stream",
     "text": [
      "Fitting 3 folds for each of 12 candidates, totalling 36 fits\n"
     ]
    },
    {
     "name": "stderr",
     "output_type": "stream",
     "text": [
      "[Parallel(n_jobs=1)]: Done  36 out of  36 | elapsed:    2.3s finished\n"
     ]
    },
    {
     "data": {
      "text/plain": [
       "GridSearchCV(cv=3, error_score='raise',\n",
       "       estimator=LogisticRegression(C=1.0, class_weight=None, dual=False, fit_intercept=True,\n",
       "          intercept_scaling=1, max_iter=100, multi_class='ovr', n_jobs=1,\n",
       "          penalty='l2', random_state=None, solver='liblinear', tol=0.0001,\n",
       "          verbose=0, warm_start=False),\n",
       "       fit_params=None, iid=True, n_jobs=1,\n",
       "       param_grid=[{'C': [1e-20, 0.001, 0.001, 10, 100.0, 1000.0], 'penalty': ['l1', 'l2']}],\n",
       "       pre_dispatch='2*n_jobs', refit=True, return_train_score='warn',\n",
       "       scoring='accuracy', verbose=1)"
      ]
     },
     "execution_count": 117,
     "metadata": {},
     "output_type": "execute_result"
    }
   ],
   "source": [
    "from sklearn.linear_model import LogisticRegression\n",
    "\n",
    "param_grid = [\n",
    "    {'C': [1e-20, 1e-3,1e-3,  10, 1e2, 1e3],\n",
    "    'penalty': ['l1', 'l2']}\n",
    "]\n",
    "lr = LogisticRegression()\n",
    "\n",
    "grid_search = GridSearchCV(lr, param_grid, cv =3,\n",
    "                          scoring= 'accuracy', verbose=1)\n",
    "\n",
    "grid_search.fit(X_train_sample_pca, sample_y)"
   ]
  },
  {
   "cell_type": "code",
   "execution_count": 118,
   "metadata": {},
   "outputs": [
    {
     "name": "stdout",
     "output_type": "stream",
     "text": [
      "Best score 0.5051\n",
      "Best parameters {'C': 10, 'penalty': 'l2'}\n"
     ]
    }
   ],
   "source": [
    "print('Best score', grid_search.best_score_)\n",
    "print('Best parameters', grid_search.best_params_)"
   ]
  },
  {
   "cell_type": "code",
   "execution_count": 119,
   "metadata": {},
   "outputs": [
    {
     "data": {
      "text/plain": [
       "GridSearchCV(cv=3, error_score='raise',\n",
       "       estimator=RandomForestClassifier(bootstrap=True, class_weight=None, criterion='gini',\n",
       "            max_depth=None, max_features='auto', max_leaf_nodes=None,\n",
       "            min_impurity_decrease=0.0, min_impurity_split=None,\n",
       "            min_samples_leaf=1, min_samples_split=2,\n",
       "            min_weight_fraction_leaf=0.0, n_estimators=10, n_jobs=-1,\n",
       "            oob_score=False, random_state=None, verbose=0,\n",
       "            warm_start=False),\n",
       "       fit_params=None, iid=True, n_jobs=-1,\n",
       "       param_grid=[{'n_estimators': [100, 500, 700], 'max_depth': [5, 8, 12, 20, 30]}],\n",
       "       pre_dispatch='2*n_jobs', refit=True, return_train_score='warn',\n",
       "       scoring='accuracy', verbose=0)"
      ]
     },
     "execution_count": 119,
     "metadata": {},
     "output_type": "execute_result"
    }
   ],
   "source": [
    "param_grid_rfc = [\n",
    "    {'n_estimators': [100, 500, 700],\n",
    "    'max_depth': [5, 8, 12, 20, 30]}\n",
    "]\n",
    "rfc = RandomForestClassifier(n_jobs = -1)\n",
    "\n",
    "grid_search_rfc = GridSearchCV(rfc, param_grid_rfc, cv =3,\n",
    "                          scoring= 'accuracy', verbose=0,\n",
    "                          n_jobs = -1)\n",
    "\n",
    "grid_search_rfc.fit(X_train_sample_pca, sample_y)"
   ]
  },
  {
   "cell_type": "code",
   "execution_count": 120,
   "metadata": {},
   "outputs": [
    {
     "name": "stdout",
     "output_type": "stream",
     "text": [
      "Best score 0.886\n",
      "Best parameters {'max_depth': 30, 'n_estimators': 700}\n"
     ]
    }
   ],
   "source": [
    "print('Best score', grid_search_rfc.best_score_)\n",
    "print('Best parameters', grid_search_rfc.best_params_)"
   ]
  },
  {
   "cell_type": "code",
   "execution_count": 121,
   "metadata": {},
   "outputs": [
    {
     "data": {
      "text/plain": [
       "GridSearchCV(cv=3, error_score='raise',\n",
       "       estimator=RandomForestClassifier(bootstrap=True, class_weight=None, criterion='gini',\n",
       "            max_depth=None, max_features='auto', max_leaf_nodes=None,\n",
       "            min_impurity_decrease=0.0, min_impurity_split=None,\n",
       "            min_samples_leaf=1, min_samples_split=2,\n",
       "            min_weight_fraction_leaf=0.0, n_estimators=10, n_jobs=-1,\n",
       "            oob_score=False, random_state=None, verbose=0,\n",
       "            warm_start=False),\n",
       "       fit_params=None, iid=True, n_jobs=-1,\n",
       "       param_grid=[{'n_estimators': [1000, 1200], 'max_depth': [40, 50]}],\n",
       "       pre_dispatch='2*n_jobs', refit=True, return_train_score='warn',\n",
       "       scoring='accuracy', verbose=0)"
      ]
     },
     "execution_count": 121,
     "metadata": {},
     "output_type": "execute_result"
    }
   ],
   "source": [
    "param_grid_rfc = [\n",
    "    {'n_estimators': [1000, 1200],\n",
    "    'max_depth': [40, 50]}\n",
    "]\n",
    "rfc_one = RandomForestClassifier(n_jobs = -1)\n",
    "\n",
    "grid_search_rfc_one = GridSearchCV(rfc, param_grid_rfc, cv =3,\n",
    "                          scoring= 'accuracy', verbose=0,\n",
    "                          n_jobs = -1)\n",
    "\n",
    "grid_search_rfc_one.fit(X_train_sample_pca, sample_y)"
   ]
  },
  {
   "cell_type": "code",
   "execution_count": 122,
   "metadata": {},
   "outputs": [
    {
     "name": "stdout",
     "output_type": "stream",
     "text": [
      "Best score 0.8881\n",
      "Best parameters {'max_depth': 40, 'n_estimators': 1200}\n"
     ]
    }
   ],
   "source": [
    "print('Best score', grid_search_rfc_one.best_score_)\n",
    "print('Best parameters', grid_search_rfc_one.best_params_)"
   ]
  },
  {
   "cell_type": "code",
   "execution_count": 123,
   "metadata": {},
   "outputs": [
    {
     "data": {
      "text/plain": [
       "GridSearchCV(cv=3, error_score='raise',\n",
       "       estimator=XGBClassifier(base_score=0.5, booster='gbtree', colsample_bylevel=1,\n",
       "       colsample_bytree=1, gamma=0, learning_rate=0.1, max_delta_step=0,\n",
       "       max_depth=3, min_child_weight=1, missing=None, n_estimators=100,\n",
       "       n_jobs=-1, nthread=None, objective='binary:logistic',\n",
       "       random_state=0, reg_alpha=0, reg_lambda=1, scale_pos_weight=1,\n",
       "       seed=None, silent=True, subsample=1),\n",
       "       fit_params=None, iid=True, n_jobs=-1,\n",
       "       param_grid=[{'n_estimators': [100, 500, 700], 'max_depth': [2, 4, 6, 8]}],\n",
       "       pre_dispatch='2*n_jobs', refit=True, return_train_score='warn',\n",
       "       scoring='accuracy', verbose=0)"
      ]
     },
     "execution_count": 123,
     "metadata": {},
     "output_type": "execute_result"
    }
   ],
   "source": [
    "from xgboost import XGBClassifier\n",
    "\n",
    "param_grid_xgb = [\n",
    "    {'n_estimators': [100, 500, 700],\n",
    "    'max_depth': [2, 4, 6, 8],\n",
    "    #'learning_rate': [1e-3, 0.5, 0.1],\n",
    "    }\n",
    "]\n",
    "xgb = XGBClassifier(n_jobs = -1)\n",
    "\n",
    "grid_search_xgb = GridSearchCV(xgb, param_grid_xgb, cv =3,\n",
    "                          scoring= 'accuracy', verbose=0,\n",
    "                          n_jobs = -1)\n",
    "\n",
    "grid_search_xgb.fit(X_train_sample_pca, sample_y)"
   ]
  },
  {
   "cell_type": "code",
   "execution_count": 124,
   "metadata": {},
   "outputs": [
    {
     "name": "stdout",
     "output_type": "stream",
     "text": [
      "Best score 0.9227\n",
      "Best parameters {'max_depth': 6, 'n_estimators': 700}\n"
     ]
    }
   ],
   "source": [
    "print('Best score', grid_search_xgb.best_score_)\n",
    "print('Best parameters', grid_search_xgb.best_params_)"
   ]
  },
  {
   "cell_type": "code",
   "execution_count": 125,
   "metadata": {},
   "outputs": [
    {
     "data": {
      "text/plain": [
       "GridSearchCV(cv=3, error_score='raise',\n",
       "       estimator=XGBClassifier(base_score=0.5, booster='gbtree', colsample_bylevel=1,\n",
       "       colsample_bytree=1, gamma=0, learning_rate=0.1, max_delta_step=0,\n",
       "       max_depth=6, min_child_weight=1, missing=None, n_estimators=100,\n",
       "       n_jobs=-1, nthread=None, objective='binary:logistic',\n",
       "       random_state=0, reg_alpha=0, reg_lambda=1, scale_pos_weight=1,\n",
       "       seed=None, silent=True, subsample=1),\n",
       "       fit_params=None, iid=True, n_jobs=-1,\n",
       "       param_grid=[{'n_estimators': [700, 1000], 'learning_rate': [0.001, 0.5, 0.1]}],\n",
       "       pre_dispatch='2*n_jobs', refit=True, return_train_score='warn',\n",
       "       scoring='accuracy', verbose=0)"
      ]
     },
     "execution_count": 125,
     "metadata": {},
     "output_type": "execute_result"
    }
   ],
   "source": [
    "param_grid_xgb_one = [\n",
    "    {'n_estimators': [700, 1000],\n",
    "    'learning_rate': [1e-3, 0.5, 0.1],\n",
    "    }\n",
    "]\n",
    "xgb = XGBClassifier(n_jobs = -1, max_depth= 6)\n",
    "\n",
    "grid_search_xgb_one = GridSearchCV(xgb, param_grid_xgb_one, cv =3,\n",
    "                          scoring= 'accuracy', verbose=0,\n",
    "                          n_jobs = -1)\n",
    "\n",
    "grid_search_xgb_one.fit(X_train_sample_pca, sample_y)"
   ]
  },
  {
   "cell_type": "code",
   "execution_count": 126,
   "metadata": {},
   "outputs": [
    {
     "name": "stdout",
     "output_type": "stream",
     "text": [
      "Best score 0.9255\n",
      "Best parameters {'learning_rate': 0.1, 'n_estimators': 1000}\n"
     ]
    }
   ],
   "source": [
    "print('Best score', grid_search_xgb_one.best_score_)\n",
    "print('Best parameters', grid_search_xgb_one.best_params_)"
   ]
  },
  {
   "cell_type": "code",
   "execution_count": 127,
   "metadata": {},
   "outputs": [
    {
     "data": {
      "text/plain": [
       "GridSearchCV(cv=3, error_score='raise',\n",
       "       estimator=XGBClassifier(base_score=0.5, booster='gbtree', colsample_bylevel=1,\n",
       "       colsample_bytree=1, gamma=0, learning_rate=0.1, max_delta_step=0,\n",
       "       max_depth=6, min_child_weight=1, missing=None, n_estimators=1000,\n",
       "       n_jobs=-1, nthread=None, objective='binary:logistic',\n",
       "       random_state=0, reg_alpha=0, reg_lambda=1, scale_pos_weight=1,\n",
       "       seed=None, silent=True, subsample=1),\n",
       "       fit_params=None, iid=True, n_jobs=-1,\n",
       "       param_grid=[{'subsample': [0.25, 0.5, 1]}], pre_dispatch='2*n_jobs',\n",
       "       refit=True, return_train_score='warn', scoring='accuracy',\n",
       "       verbose=0)"
      ]
     },
     "execution_count": 127,
     "metadata": {},
     "output_type": "execute_result"
    }
   ],
   "source": [
    "param_grid_xgb_two = [\n",
    "    {'subsample': [0.25, 0.5, 1],\n",
    "    }\n",
    "]\n",
    "xgb = XGBClassifier(n_jobs = -1, max_depth= 6, n_estimators=1000, learning_rate=0.1, )\n",
    "\n",
    "grid_search_xgb_two = GridSearchCV(xgb, param_grid_xgb_two, cv =3,\n",
    "                          scoring= 'accuracy', verbose=0,\n",
    "                          n_jobs = -1)\n",
    "\n",
    "grid_search_xgb_two.fit(X_train_sample_pca, sample_y)"
   ]
  },
  {
   "cell_type": "code",
   "execution_count": 128,
   "metadata": {},
   "outputs": [
    {
     "name": "stdout",
     "output_type": "stream",
     "text": [
      "Best score 0.9262\n",
      "Best parameters {'subsample': 0.5}\n"
     ]
    }
   ],
   "source": [
    "print('Best score', grid_search_xgb_two.best_score_)\n",
    "print('Best parameters', grid_search_xgb_two.best_params_)"
   ]
  },
  {
   "cell_type": "markdown",
   "metadata": {},
   "source": [
    "# Test Set"
   ]
  },
  {
   "cell_type": "code",
   "execution_count": 173,
   "metadata": {},
   "outputs": [
    {
     "name": "stdout",
     "output_type": "stream",
     "text": [
      "0.4998198198198198\n"
     ]
    }
   ],
   "source": [
    "from sklearn.metrics import roc_auc_score\n",
    "lr_test = LogisticRegression(C= 10, penalty= 'l2')\n",
    "\n",
    "lr_test.fit(X_train_pca, new_y_training)\n",
    "\n",
    "print(lr_test.score(X_test_pca, new_y_test))"
   ]
  },
  {
   "cell_type": "code",
   "execution_count": 174,
   "metadata": {},
   "outputs": [
    {
     "name": "stdout",
     "output_type": "stream",
     "text": [
      "0.9361475761475762\n"
     ]
    }
   ],
   "source": [
    "rfc_test = RandomForestClassifier(n_jobs = -1, \n",
    "                            n_estimators = 1200,\n",
    "                            max_depth = 40)\n",
    "\n",
    "rfc_test.fit(X_train_pca, new_y_training)\n",
    "\n",
    "print(rfc_test.score(X_test_pca, new_y_test))"
   ]
  },
  {
   "cell_type": "code",
   "execution_count": 131,
   "metadata": {},
   "outputs": [
    {
     "name": "stdout",
     "output_type": "stream",
     "text": [
      "0.9646503646503647\n"
     ]
    }
   ],
   "source": [
    "xgb_test = XGBClassifier(n_estimators = 1000,\n",
    "                        max_depth = 6,\n",
    "                        learning_rate= 0.1,\n",
    "                        subsample = 0.5)\n",
    "\n",
    "xgb_test.fit(X_train_pca, new_y_training)\n",
    "\n",
    "print(xgb_test.score(X_test_pca, new_y_test))"
   ]
  },
  {
   "cell_type": "code",
   "execution_count": 132,
   "metadata": {},
   "outputs": [
    {
     "name": "stdout",
     "output_type": "stream",
     "text": [
      "0.9646503646503647\n"
     ]
    }
   ],
   "source": [
    "print(xgb_test.score(X_test_pca, new_y_test))"
   ]
  },
  {
   "cell_type": "code",
   "execution_count": 133,
   "metadata": {},
   "outputs": [
    {
     "data": {
      "text/plain": [
       "58275"
      ]
     },
     "execution_count": 133,
     "metadata": {},
     "output_type": "execute_result"
    }
   ],
   "source": [
    "len(X_test_pca)"
   ]
  },
  {
   "cell_type": "code",
   "execution_count": 134,
   "metadata": {},
   "outputs": [
    {
     "data": {
      "text/plain": [
       "58746"
      ]
     },
     "execution_count": 134,
     "metadata": {},
     "output_type": "execute_result"
    }
   ],
   "source": [
    "len(test_df_mixed['text vectors'])"
   ]
  },
  {
   "cell_type": "code",
   "execution_count": 135,
   "metadata": {},
   "outputs": [],
   "source": [
    "predictions = pd.DataFrame(test_df_mixed['text vectors'].iloc[:200])\n",
    "predictions['title vectors'] = test_df_mixed['title vectors'].iloc[:200]\n",
    "predictions['pair class'] = test_df_mixed['pair class'].iloc[:200]\n",
    "predictions['predicted class'] = xgb_test.predict_proba(X_test_pca[:200])[:, 1]"
   ]
  },
  {
   "cell_type": "code",
   "execution_count": 136,
   "metadata": {},
   "outputs": [
    {
     "data": {
      "text/plain": [
       "array([0.9795941], dtype=float32)"
      ]
     },
     "execution_count": 136,
     "metadata": {},
     "output_type": "execute_result"
    }
   ],
   "source": [
    "xgb_test.predict_proba(X_test_pca[0].reshape(1, -1))[:, 1]"
   ]
  },
  {
   "cell_type": "code",
   "execution_count": 137,
   "metadata": {},
   "outputs": [
    {
     "data": {
      "text/html": [
       "<div>\n",
       "<style scoped>\n",
       "    .dataframe tbody tr th:only-of-type {\n",
       "        vertical-align: middle;\n",
       "    }\n",
       "\n",
       "    .dataframe tbody tr th {\n",
       "        vertical-align: top;\n",
       "    }\n",
       "\n",
       "    .dataframe thead th {\n",
       "        text-align: right;\n",
       "    }\n",
       "</style>\n",
       "<table border=\"1\" class=\"dataframe\">\n",
       "  <thead>\n",
       "    <tr style=\"text-align: right;\">\n",
       "      <th></th>\n",
       "      <th>text vectors</th>\n",
       "      <th>title vectors</th>\n",
       "      <th>pair class</th>\n",
       "      <th>predicted class</th>\n",
       "    </tr>\n",
       "  </thead>\n",
       "  <tbody>\n",
       "    <tr>\n",
       "      <th>0</th>\n",
       "      <td>[электрочайник, Zigmund, Shtain, KE, 81, SD, 1...</td>\n",
       "      <td>[KE, 81, SD, 119, 00, р]</td>\n",
       "      <td>1</td>\n",
       "      <td>0.979594</td>\n",
       "    </tr>\n",
       "    <tr>\n",
       "      <th>1</th>\n",
       "      <td>[сабвуфер, огромный, ассортимент, бесплатный, ...</td>\n",
       "      <td>[сабвуфер, купить, в, красноярск]</td>\n",
       "      <td>1</td>\n",
       "      <td>0.989562</td>\n",
       "    </tr>\n",
       "    <tr>\n",
       "      <th>2</th>\n",
       "      <td>[Onkyo, Tx, nr545, Black, в, наличие, быстрый,...</td>\n",
       "      <td>[Onkyo, Tx, nr545, Black, всего, 42390р]</td>\n",
       "      <td>1</td>\n",
       "      <td>0.998748</td>\n",
       "    </tr>\n",
       "    <tr>\n",
       "      <th>3</th>\n",
       "      <td>[шаблон, ордер, входить, в, состав, сборник, 1...</td>\n",
       "      <td>[шаблон, ордер]</td>\n",
       "      <td>1</td>\n",
       "      <td>0.983236</td>\n",
       "    </tr>\n",
       "    <tr>\n",
       "      <th>4</th>\n",
       "      <td>[шпаклевка, финишный, белый, сравнивать, цена,...</td>\n",
       "      <td>[шпаклевка, финишный, белый]</td>\n",
       "      <td>1</td>\n",
       "      <td>0.984698</td>\n",
       "    </tr>\n",
       "    <tr>\n",
       "      <th>5</th>\n",
       "      <td>[акция, аккумулятор, на, Toyota, Corolla, розн...</td>\n",
       "      <td>[аккумулятор, на, Toyota, Corolla]</td>\n",
       "      <td>1</td>\n",
       "      <td>0.994536</td>\n",
       "    </tr>\n",
       "    <tr>\n",
       "      <th>6</th>\n",
       "      <td>[пила, торцовочный, только, сегодня, за, 6499,...</td>\n",
       "      <td>[пила, торцовочный, Hammer]</td>\n",
       "      <td>1</td>\n",
       "      <td>0.971493</td>\n",
       "    </tr>\n",
       "    <tr>\n",
       "      <th>7</th>\n",
       "      <td>[по, низкий, цена, шуруповерт, макит, в, спб, ...</td>\n",
       "      <td>[купить, шуруповерт, макит, в, спб]</td>\n",
       "      <td>1</td>\n",
       "      <td>0.993659</td>\n",
       "    </tr>\n",
       "    <tr>\n",
       "      <th>8</th>\n",
       "      <td>[купить, Makita, уровень, Makita, Skr200z, 174...</td>\n",
       "      <td>[уровень, Makita, Skr200z, 174614]</td>\n",
       "      <td>1</td>\n",
       "      <td>0.989779</td>\n",
       "    </tr>\n",
       "    <tr>\n",
       "      <th>9</th>\n",
       "      <td>[дезодорант, регулир, потоотделение, сравниват...</td>\n",
       "      <td>[дезодорант, регулир, потоотделение]</td>\n",
       "      <td>1</td>\n",
       "      <td>0.991353</td>\n",
       "    </tr>\n",
       "    <tr>\n",
       "      <th>10</th>\n",
       "      <td>[удлинитель, 10, м, сравнивать, цена, весь, ин...</td>\n",
       "      <td>[удлинитель, 10, м]</td>\n",
       "      <td>1</td>\n",
       "      <td>0.918005</td>\n",
       "    </tr>\n",
       "    <tr>\n",
       "      <th>11</th>\n",
       "      <td>[замена, ГРМ, с5, в, день, обращение, от, 2500...</td>\n",
       "      <td>[замена, ГРМ, с5]</td>\n",
       "      <td>1</td>\n",
       "      <td>0.999599</td>\n",
       "    </tr>\n",
       "    <tr>\n",
       "      <th>12</th>\n",
       "      <td>[простой, способ, изучение, офисный, программа...</td>\n",
       "      <td>[Excel, для, начинающий]</td>\n",
       "      <td>1</td>\n",
       "      <td>0.998575</td>\n",
       "    </tr>\n",
       "    <tr>\n",
       "      <th>13</th>\n",
       "      <td>[купить, Supra, автомагнитола, USB, SD, Supra,...</td>\n",
       "      <td>[USB, SD, Supra, SFD, 121USC, недорого]</td>\n",
       "      <td>1</td>\n",
       "      <td>0.998565</td>\n",
       "    </tr>\n",
       "    <tr>\n",
       "      <th>14</th>\n",
       "      <td>[телевизор, LG, 49UH750V, 2183, 90, р, гаранти...</td>\n",
       "      <td>[LG, 49UH750V, 2183, 90, руб]</td>\n",
       "      <td>1</td>\n",
       "      <td>0.995489</td>\n",
       "    </tr>\n",
       "    <tr>\n",
       "      <th>15</th>\n",
       "      <td>[ZyXEL, Keenetic, 4G, III, сравнивать, цена, в...</td>\n",
       "      <td>[ZyXEL, Keenetic, 4G, III]</td>\n",
       "      <td>1</td>\n",
       "      <td>0.998157</td>\n",
       "    </tr>\n",
       "    <tr>\n",
       "      <th>16</th>\n",
       "      <td>[купить, ASUS, ноутбук, ASUS, ROG, G771JW, 17,...</td>\n",
       "      <td>[ASUS, ROG, G771JW, 17, 3, 1920x1080, In]</td>\n",
       "      <td>1</td>\n",
       "      <td>0.999076</td>\n",
       "    </tr>\n",
       "    <tr>\n",
       "      <th>17</th>\n",
       "      <td>[санки, скандинавия, сравнивать, цена, весь, и...</td>\n",
       "      <td>[санки, скандинавия]</td>\n",
       "      <td>1</td>\n",
       "      <td>0.997841</td>\n",
       "    </tr>\n",
       "    <tr>\n",
       "      <th>18</th>\n",
       "      <td>[инвертор, сварочный, ударник, уис, 180, 189, ...</td>\n",
       "      <td>[ударник, уис, 180, 189, 90, руб]</td>\n",
       "      <td>1</td>\n",
       "      <td>0.959577</td>\n",
       "    </tr>\n",
       "    <tr>\n",
       "      <th>19</th>\n",
       "      <td>[купить, Hammer, торцовочный, пила, Hammer, St...</td>\n",
       "      <td>[торцовочный, пила, Hammer, Stl1800b]</td>\n",
       "      <td>1</td>\n",
       "      <td>0.990114</td>\n",
       "    </tr>\n",
       "    <tr>\n",
       "      <th>20</th>\n",
       "      <td>[шкаф, рим, 150, от, производитель, в, краснод...</td>\n",
       "      <td>[шкаф, рим, 150]</td>\n",
       "      <td>1</td>\n",
       "      <td>0.996610</td>\n",
       "    </tr>\n",
       "    <tr>\n",
       "      <th>21</th>\n",
       "      <td>[ноутбук, Lenovo, IdeaPad, G50, 45, 854, 32, р...</td>\n",
       "      <td>[Lenovo, IdeaPad, G50, 45, 854, 32, р]</td>\n",
       "      <td>1</td>\n",
       "      <td>0.999327</td>\n",
       "    </tr>\n",
       "    <tr>\n",
       "      <th>22</th>\n",
       "      <td>[дешевый, фасадный, панель, низкий, цена, прям...</td>\n",
       "      <td>[дешевый, фасадный, панель, скидка]</td>\n",
       "      <td>1</td>\n",
       "      <td>0.994369</td>\n",
       "    </tr>\n",
       "    <tr>\n",
       "      <th>23</th>\n",
       "      <td>[курсы, 1С, зарплата, и, кадр, в, красноярск, ...</td>\n",
       "      <td>[курсы, по, программа, 1С, зарплата]</td>\n",
       "      <td>1</td>\n",
       "      <td>0.978763</td>\n",
       "    </tr>\n",
       "    <tr>\n",
       "      <th>24</th>\n",
       "      <td>[цена, весь, 1727, руб, купить, реле, напряжен...</td>\n",
       "      <td>[реле, напряжение, Digitop, Vp, 16a]</td>\n",
       "      <td>1</td>\n",
       "      <td>0.998463</td>\n",
       "    </tr>\n",
       "    <tr>\n",
       "      <th>25</th>\n",
       "      <td>[kil82af30r, от, 1612, 00, доставка]</td>\n",
       "      <td>[kil82af30r]</td>\n",
       "      <td>1</td>\n",
       "      <td>0.998181</td>\n",
       "    </tr>\n",
       "    <tr>\n",
       "      <th>26</th>\n",
       "      <td>[транспорт, быть, тут, перевозка, груз, уфа, р...</td>\n",
       "      <td>[перевозка, груз, уфа]</td>\n",
       "      <td>1</td>\n",
       "      <td>0.999269</td>\n",
       "    </tr>\n",
       "    <tr>\n",
       "      <th>27</th>\n",
       "      <td>[телевизор, Mystery, MTV, 3230LT2, 441, 45, р,...</td>\n",
       "      <td>[Mystery, MTV, 3230LT2, 441, 45, руб]</td>\n",
       "      <td>1</td>\n",
       "      <td>0.991471</td>\n",
       "    </tr>\n",
       "    <tr>\n",
       "      <th>28</th>\n",
       "      <td>[кулер, HotFrost, сравнивать, цена, весь, инте...</td>\n",
       "      <td>[кулер, HotFrost]</td>\n",
       "      <td>1</td>\n",
       "      <td>0.978382</td>\n",
       "    </tr>\n",
       "    <tr>\n",
       "      <th>29</th>\n",
       "      <td>[выпрямитель, для, волос, Bosch, PHS5947, 125,...</td>\n",
       "      <td>[Bosch, PHS5947, 125, 61, руб]</td>\n",
       "      <td>1</td>\n",
       "      <td>0.992669</td>\n",
       "    </tr>\n",
       "    <tr>\n",
       "      <th>...</th>\n",
       "      <td>...</td>\n",
       "      <td>...</td>\n",
       "      <td>...</td>\n",
       "      <td>...</td>\n",
       "    </tr>\n",
       "    <tr>\n",
       "      <th>170</th>\n",
       "      <td>[ноутбук, AsusK751SJ, TY034D, за, 25202, руб, ...</td>\n",
       "      <td>[ноутбук, AsusK751SJ, TY034D]</td>\n",
       "      <td>1</td>\n",
       "      <td>0.983874</td>\n",
       "    </tr>\n",
       "    <tr>\n",
       "      <th>171</th>\n",
       "      <td>[швейный, машина, Janome, 6600P, большой, выбо...</td>\n",
       "      <td>[Janome, 6600P, купить]</td>\n",
       "      <td>1</td>\n",
       "      <td>0.996841</td>\n",
       "    </tr>\n",
       "    <tr>\n",
       "      <th>172</th>\n",
       "      <td>[телескоп, азимутальный, сравнивать, цена, вес...</td>\n",
       "      <td>[телескоп, азимутальный]</td>\n",
       "      <td>1</td>\n",
       "      <td>0.997616</td>\n",
       "    </tr>\n",
       "    <tr>\n",
       "      <th>173</th>\n",
       "      <td>[купить, Bork, пылесос, Bork, V706, пылесос, с...</td>\n",
       "      <td>[пылесос, Bork, V706, недорого]</td>\n",
       "      <td>1</td>\n",
       "      <td>0.993740</td>\n",
       "    </tr>\n",
       "    <tr>\n",
       "      <th>174</th>\n",
       "      <td>[брюки, прямой, сравнивать, цена, весь, интерн...</td>\n",
       "      <td>[брюки, прямой]</td>\n",
       "      <td>1</td>\n",
       "      <td>0.998234</td>\n",
       "    </tr>\n",
       "    <tr>\n",
       "      <th>175</th>\n",
       "      <td>[Lg, 75Uh780v, в, наличие, быстрый, доставка, ...</td>\n",
       "      <td>[Lg, 75Uh780v, всего, 299990р]</td>\n",
       "      <td>1</td>\n",
       "      <td>0.999313</td>\n",
       "    </tr>\n",
       "    <tr>\n",
       "      <th>176</th>\n",
       "      <td>[наушник, гарнитур, Sven, AP, 930M, 32, 92, р,...</td>\n",
       "      <td>[Sven, AP, 930M, 32, 92, р]</td>\n",
       "      <td>1</td>\n",
       "      <td>0.998412</td>\n",
       "    </tr>\n",
       "    <tr>\n",
       "      <th>177</th>\n",
       "      <td>[ведущий, специалист, липосакция, грудь, новый...</td>\n",
       "      <td>[липосакция, грудь, от, 18, 000, руб]</td>\n",
       "      <td>1</td>\n",
       "      <td>0.366070</td>\n",
       "    </tr>\n",
       "    <tr>\n",
       "      <th>178</th>\n",
       "      <td>[SSD, диск, Kingston, HyperX, Fury, 120GB, 113...</td>\n",
       "      <td>[HyperX, Fury, 120GB, 113, 33, р]</td>\n",
       "      <td>1</td>\n",
       "      <td>0.646943</td>\n",
       "    </tr>\n",
       "    <tr>\n",
       "      <th>179</th>\n",
       "      <td>[бесплатный, доставка, и, настройка, доработка...</td>\n",
       "      <td>[продажа, 1C, бухгалтерия, 7, 7, самара]</td>\n",
       "      <td>1</td>\n",
       "      <td>0.993046</td>\n",
       "    </tr>\n",
       "    <tr>\n",
       "      <th>180</th>\n",
       "      <td>[chairman, 653, от, 661, 00, доставка]</td>\n",
       "      <td>[chairman, 653]</td>\n",
       "      <td>1</td>\n",
       "      <td>0.950885</td>\n",
       "    </tr>\n",
       "    <tr>\n",
       "      <th>181</th>\n",
       "      <td>[ламинат, венг, сравнивать, цена, весь, интерн...</td>\n",
       "      <td>[ламинат, венг]</td>\n",
       "      <td>1</td>\n",
       "      <td>0.999705</td>\n",
       "    </tr>\n",
       "    <tr>\n",
       "      <th>182</th>\n",
       "      <td>[комод, лилия, недорого, а, в, салон, еще, деш...</td>\n",
       "      <td>[комод, лилия, москва]</td>\n",
       "      <td>1</td>\n",
       "      <td>0.979486</td>\n",
       "    </tr>\n",
       "    <tr>\n",
       "      <th>183</th>\n",
       "      <td>[огромный, выбор, доставка, 199, руб, москва, ...</td>\n",
       "      <td>[чехол, для, iPhone, 5]</td>\n",
       "      <td>1</td>\n",
       "      <td>0.998347</td>\n",
       "    </tr>\n",
       "    <tr>\n",
       "      <th>184</th>\n",
       "      <td>[продажа, от, 1, метр, ситец, в, рулон, достав...</td>\n",
       "      <td>[ситец, в, рулон, низкий, цена, жать]</td>\n",
       "      <td>1</td>\n",
       "      <td>0.999922</td>\n",
       "    </tr>\n",
       "    <tr>\n",
       "      <th>185</th>\n",
       "      <td>[мфу, Brother, MFC, L2740DWR, 747, 51, р, гара...</td>\n",
       "      <td>[Brother, MFC, L2740DWR, 747, 51, р]</td>\n",
       "      <td>1</td>\n",
       "      <td>0.905825</td>\n",
       "    </tr>\n",
       "    <tr>\n",
       "      <th>186</th>\n",
       "      <td>[купить, Gorenje, стеклокерамический, варочный...</td>\n",
       "      <td>[Gorenje, ECK63CLB, недорого]</td>\n",
       "      <td>1</td>\n",
       "      <td>0.881843</td>\n",
       "    </tr>\n",
       "    <tr>\n",
       "      <th>187</th>\n",
       "      <td>[от, 2, х, день, независимый, оценка, загородн...</td>\n",
       "      <td>[независимый, оценка, дома]</td>\n",
       "      <td>1</td>\n",
       "      <td>0.918165</td>\n",
       "    </tr>\n",
       "    <tr>\n",
       "      <th>188</th>\n",
       "      <td>[посадка, и, уход, подбор, растение, для, живо...</td>\n",
       "      <td>[живой, изгородь]</td>\n",
       "      <td>1</td>\n",
       "      <td>0.999663</td>\n",
       "    </tr>\n",
       "    <tr>\n",
       "      <th>189</th>\n",
       "      <td>[отличный, ящик, для, хранение, деньги, устано...</td>\n",
       "      <td>[заказывать, денежный, ящик, штрих, м]</td>\n",
       "      <td>1</td>\n",
       "      <td>0.999101</td>\n",
       "    </tr>\n",
       "    <tr>\n",
       "      <th>190</th>\n",
       "      <td>[от, 900, руб, в, час, обработка, данные, в, 1...</td>\n",
       "      <td>[обработка, данные, в, 1с, что, это]</td>\n",
       "      <td>1</td>\n",
       "      <td>0.999501</td>\n",
       "    </tr>\n",
       "    <tr>\n",
       "      <th>191</th>\n",
       "      <td>[наливной, промышленный, пол, сравнивать, цена...</td>\n",
       "      <td>[наливной, промышленный, пол]</td>\n",
       "      <td>1</td>\n",
       "      <td>0.997169</td>\n",
       "    </tr>\n",
       "    <tr>\n",
       "      <th>192</th>\n",
       "      <td>[б, у, дверь, задний, правый, Audi, A6, C5, ор...</td>\n",
       "      <td>[дверь, задний, правый, Audi, A6, C5]</td>\n",
       "      <td>1</td>\n",
       "      <td>0.984747</td>\n",
       "    </tr>\n",
       "    <tr>\n",
       "      <th>193</th>\n",
       "      <td>[пылесос, Samsung, SC4520, 137, 00, р, гаранти...</td>\n",
       "      <td>[Samsung, SC4520, 137, 00, р]</td>\n",
       "      <td>1</td>\n",
       "      <td>0.913901</td>\n",
       "    </tr>\n",
       "    <tr>\n",
       "      <th>194</th>\n",
       "      <td>[комплект, постельный, белье, Tutti, Bambini, ...</td>\n",
       "      <td>[Bambini, 11200p]</td>\n",
       "      <td>1</td>\n",
       "      <td>0.997530</td>\n",
       "    </tr>\n",
       "    <tr>\n",
       "      <th>195</th>\n",
       "      <td>[стиральный, машина, Beko, WKB, 61021, PTYS, 5...</td>\n",
       "      <td>[Beko, WKB, 61021, PTYS, 567, 00, руб]</td>\n",
       "      <td>1</td>\n",
       "      <td>0.999062</td>\n",
       "    </tr>\n",
       "    <tr>\n",
       "      <th>196</th>\n",
       "      <td>[телевизор, хайсенс, сравнивать, цена, весь, и...</td>\n",
       "      <td>[телевизор, хайсенс]</td>\n",
       "      <td>1</td>\n",
       "      <td>0.998999</td>\n",
       "    </tr>\n",
       "    <tr>\n",
       "      <th>197</th>\n",
       "      <td>[по, низкий, цена, малярный, краскопульт, поку...</td>\n",
       "      <td>[заказывать, малярный, краскопульт, тут]</td>\n",
       "      <td>1</td>\n",
       "      <td>0.999696</td>\n",
       "    </tr>\n",
       "    <tr>\n",
       "      <th>198</th>\n",
       "      <td>[возврат, деньги, за, страховка, осаго, оформл...</td>\n",
       "      <td>[возврат, деньги, за, страховка, осаго]</td>\n",
       "      <td>1</td>\n",
       "      <td>0.999808</td>\n",
       "    </tr>\n",
       "    <tr>\n",
       "      <th>199</th>\n",
       "      <td>[смеситель, Kordi, сравнивать, цена, весь, инт...</td>\n",
       "      <td>[смеситель, Kordi]</td>\n",
       "      <td>1</td>\n",
       "      <td>0.988705</td>\n",
       "    </tr>\n",
       "  </tbody>\n",
       "</table>\n",
       "<p>200 rows × 4 columns</p>\n",
       "</div>"
      ],
      "text/plain": [
       "                                          text vectors  \\\n",
       "0    [электрочайник, Zigmund, Shtain, KE, 81, SD, 1...   \n",
       "1    [сабвуфер, огромный, ассортимент, бесплатный, ...   \n",
       "2    [Onkyo, Tx, nr545, Black, в, наличие, быстрый,...   \n",
       "3    [шаблон, ордер, входить, в, состав, сборник, 1...   \n",
       "4    [шпаклевка, финишный, белый, сравнивать, цена,...   \n",
       "5    [акция, аккумулятор, на, Toyota, Corolla, розн...   \n",
       "6    [пила, торцовочный, только, сегодня, за, 6499,...   \n",
       "7    [по, низкий, цена, шуруповерт, макит, в, спб, ...   \n",
       "8    [купить, Makita, уровень, Makita, Skr200z, 174...   \n",
       "9    [дезодорант, регулир, потоотделение, сравниват...   \n",
       "10   [удлинитель, 10, м, сравнивать, цена, весь, ин...   \n",
       "11   [замена, ГРМ, с5, в, день, обращение, от, 2500...   \n",
       "12   [простой, способ, изучение, офисный, программа...   \n",
       "13   [купить, Supra, автомагнитола, USB, SD, Supra,...   \n",
       "14   [телевизор, LG, 49UH750V, 2183, 90, р, гаранти...   \n",
       "15   [ZyXEL, Keenetic, 4G, III, сравнивать, цена, в...   \n",
       "16   [купить, ASUS, ноутбук, ASUS, ROG, G771JW, 17,...   \n",
       "17   [санки, скандинавия, сравнивать, цена, весь, и...   \n",
       "18   [инвертор, сварочный, ударник, уис, 180, 189, ...   \n",
       "19   [купить, Hammer, торцовочный, пила, Hammer, St...   \n",
       "20   [шкаф, рим, 150, от, производитель, в, краснод...   \n",
       "21   [ноутбук, Lenovo, IdeaPad, G50, 45, 854, 32, р...   \n",
       "22   [дешевый, фасадный, панель, низкий, цена, прям...   \n",
       "23   [курсы, 1С, зарплата, и, кадр, в, красноярск, ...   \n",
       "24   [цена, весь, 1727, руб, купить, реле, напряжен...   \n",
       "25                [kil82af30r, от, 1612, 00, доставка]   \n",
       "26   [транспорт, быть, тут, перевозка, груз, уфа, р...   \n",
       "27   [телевизор, Mystery, MTV, 3230LT2, 441, 45, р,...   \n",
       "28   [кулер, HotFrost, сравнивать, цена, весь, инте...   \n",
       "29   [выпрямитель, для, волос, Bosch, PHS5947, 125,...   \n",
       "..                                                 ...   \n",
       "170  [ноутбук, AsusK751SJ, TY034D, за, 25202, руб, ...   \n",
       "171  [швейный, машина, Janome, 6600P, большой, выбо...   \n",
       "172  [телескоп, азимутальный, сравнивать, цена, вес...   \n",
       "173  [купить, Bork, пылесос, Bork, V706, пылесос, с...   \n",
       "174  [брюки, прямой, сравнивать, цена, весь, интерн...   \n",
       "175  [Lg, 75Uh780v, в, наличие, быстрый, доставка, ...   \n",
       "176  [наушник, гарнитур, Sven, AP, 930M, 32, 92, р,...   \n",
       "177  [ведущий, специалист, липосакция, грудь, новый...   \n",
       "178  [SSD, диск, Kingston, HyperX, Fury, 120GB, 113...   \n",
       "179  [бесплатный, доставка, и, настройка, доработка...   \n",
       "180             [chairman, 653, от, 661, 00, доставка]   \n",
       "181  [ламинат, венг, сравнивать, цена, весь, интерн...   \n",
       "182  [комод, лилия, недорого, а, в, салон, еще, деш...   \n",
       "183  [огромный, выбор, доставка, 199, руб, москва, ...   \n",
       "184  [продажа, от, 1, метр, ситец, в, рулон, достав...   \n",
       "185  [мфу, Brother, MFC, L2740DWR, 747, 51, р, гара...   \n",
       "186  [купить, Gorenje, стеклокерамический, варочный...   \n",
       "187  [от, 2, х, день, независимый, оценка, загородн...   \n",
       "188  [посадка, и, уход, подбор, растение, для, живо...   \n",
       "189  [отличный, ящик, для, хранение, деньги, устано...   \n",
       "190  [от, 900, руб, в, час, обработка, данные, в, 1...   \n",
       "191  [наливной, промышленный, пол, сравнивать, цена...   \n",
       "192  [б, у, дверь, задний, правый, Audi, A6, C5, ор...   \n",
       "193  [пылесос, Samsung, SC4520, 137, 00, р, гаранти...   \n",
       "194  [комплект, постельный, белье, Tutti, Bambini, ...   \n",
       "195  [стиральный, машина, Beko, WKB, 61021, PTYS, 5...   \n",
       "196  [телевизор, хайсенс, сравнивать, цена, весь, и...   \n",
       "197  [по, низкий, цена, малярный, краскопульт, поку...   \n",
       "198  [возврат, деньги, за, страховка, осаго, оформл...   \n",
       "199  [смеситель, Kordi, сравнивать, цена, весь, инт...   \n",
       "\n",
       "                                 title vectors  pair class  predicted class  \n",
       "0                     [KE, 81, SD, 119, 00, р]           1         0.979594  \n",
       "1            [сабвуфер, купить, в, красноярск]           1         0.989562  \n",
       "2     [Onkyo, Tx, nr545, Black, всего, 42390р]           1         0.998748  \n",
       "3                              [шаблон, ордер]           1         0.983236  \n",
       "4                 [шпаклевка, финишный, белый]           1         0.984698  \n",
       "5           [аккумулятор, на, Toyota, Corolla]           1         0.994536  \n",
       "6                  [пила, торцовочный, Hammer]           1         0.971493  \n",
       "7          [купить, шуруповерт, макит, в, спб]           1         0.993659  \n",
       "8           [уровень, Makita, Skr200z, 174614]           1         0.989779  \n",
       "9         [дезодорант, регулир, потоотделение]           1         0.991353  \n",
       "10                         [удлинитель, 10, м]           1         0.918005  \n",
       "11                           [замена, ГРМ, с5]           1         0.999599  \n",
       "12                    [Excel, для, начинающий]           1         0.998575  \n",
       "13     [USB, SD, Supra, SFD, 121USC, недорого]           1         0.998565  \n",
       "14               [LG, 49UH750V, 2183, 90, руб]           1         0.995489  \n",
       "15                  [ZyXEL, Keenetic, 4G, III]           1         0.998157  \n",
       "16   [ASUS, ROG, G771JW, 17, 3, 1920x1080, In]           1         0.999076  \n",
       "17                        [санки, скандинавия]           1         0.997841  \n",
       "18           [ударник, уис, 180, 189, 90, руб]           1         0.959577  \n",
       "19       [торцовочный, пила, Hammer, Stl1800b]           1         0.990114  \n",
       "20                            [шкаф, рим, 150]           1         0.996610  \n",
       "21      [Lenovo, IdeaPad, G50, 45, 854, 32, р]           1         0.999327  \n",
       "22         [дешевый, фасадный, панель, скидка]           1         0.994369  \n",
       "23        [курсы, по, программа, 1С, зарплата]           1         0.978763  \n",
       "24        [реле, напряжение, Digitop, Vp, 16a]           1         0.998463  \n",
       "25                                [kil82af30r]           1         0.998181  \n",
       "26                      [перевозка, груз, уфа]           1         0.999269  \n",
       "27       [Mystery, MTV, 3230LT2, 441, 45, руб]           1         0.991471  \n",
       "28                           [кулер, HotFrost]           1         0.978382  \n",
       "29              [Bosch, PHS5947, 125, 61, руб]           1         0.992669  \n",
       "..                                         ...         ...              ...  \n",
       "170              [ноутбук, AsusK751SJ, TY034D]           1         0.983874  \n",
       "171                    [Janome, 6600P, купить]           1         0.996841  \n",
       "172                   [телескоп, азимутальный]           1         0.997616  \n",
       "173            [пылесос, Bork, V706, недорого]           1         0.993740  \n",
       "174                            [брюки, прямой]           1         0.998234  \n",
       "175             [Lg, 75Uh780v, всего, 299990р]           1         0.999313  \n",
       "176                [Sven, AP, 930M, 32, 92, р]           1         0.998412  \n",
       "177      [липосакция, грудь, от, 18, 000, руб]           1         0.366070  \n",
       "178          [HyperX, Fury, 120GB, 113, 33, р]           1         0.646943  \n",
       "179   [продажа, 1C, бухгалтерия, 7, 7, самара]           1         0.993046  \n",
       "180                            [chairman, 653]           1         0.950885  \n",
       "181                            [ламинат, венг]           1         0.999705  \n",
       "182                     [комод, лилия, москва]           1         0.979486  \n",
       "183                    [чехол, для, iPhone, 5]           1         0.998347  \n",
       "184      [ситец, в, рулон, низкий, цена, жать]           1         0.999922  \n",
       "185       [Brother, MFC, L2740DWR, 747, 51, р]           1         0.905825  \n",
       "186              [Gorenje, ECK63CLB, недорого]           1         0.881843  \n",
       "187                [независимый, оценка, дома]           1         0.918165  \n",
       "188                          [живой, изгородь]           1         0.999663  \n",
       "189     [заказывать, денежный, ящик, штрих, м]           1         0.999101  \n",
       "190       [обработка, данные, в, 1с, что, это]           1         0.999501  \n",
       "191              [наливной, промышленный, пол]           1         0.997169  \n",
       "192      [дверь, задний, правый, Audi, A6, C5]           1         0.984747  \n",
       "193              [Samsung, SC4520, 137, 00, р]           1         0.913901  \n",
       "194                          [Bambini, 11200p]           1         0.997530  \n",
       "195     [Beko, WKB, 61021, PTYS, 567, 00, руб]           1         0.999062  \n",
       "196                       [телевизор, хайсенс]           1         0.998999  \n",
       "197   [заказывать, малярный, краскопульт, тут]           1         0.999696  \n",
       "198    [возврат, деньги, за, страховка, осаго]           1         0.999808  \n",
       "199                         [смеситель, Kordi]           1         0.988705  \n",
       "\n",
       "[200 rows x 4 columns]"
      ]
     },
     "execution_count": 137,
     "metadata": {},
     "output_type": "execute_result"
    }
   ],
   "source": [
    "predictions"
   ]
  },
  {
   "cell_type": "code",
   "execution_count": 138,
   "metadata": {},
   "outputs": [],
   "source": [
    "predictions = pd.DataFrame(test_df_mixed['text vectors'].iloc[-200:])\n",
    "predictions['title vectors'] = test_df_mixed['title vectors'].iloc[-200:]\n",
    "predictions['pair class'] = test_df_mixed['pair class'].iloc[-200:]\n",
    "predictions['predicted class'] = xgb_test.predict_proba(X_test_pca[-200:])[:, 1]"
   ]
  },
  {
   "cell_type": "code",
   "execution_count": 139,
   "metadata": {},
   "outputs": [
    {
     "data": {
      "text/plain": [
       "(150,)"
      ]
     },
     "execution_count": 139,
     "metadata": {},
     "output_type": "execute_result"
    }
   ],
   "source": [
    "X_test_pca[0].shape"
   ]
  },
  {
   "cell_type": "code",
   "execution_count": 140,
   "metadata": {},
   "outputs": [
    {
     "data": {
      "text/html": [
       "<div>\n",
       "<style scoped>\n",
       "    .dataframe tbody tr th:only-of-type {\n",
       "        vertical-align: middle;\n",
       "    }\n",
       "\n",
       "    .dataframe tbody tr th {\n",
       "        vertical-align: top;\n",
       "    }\n",
       "\n",
       "    .dataframe thead th {\n",
       "        text-align: right;\n",
       "    }\n",
       "</style>\n",
       "<table border=\"1\" class=\"dataframe\">\n",
       "  <thead>\n",
       "    <tr style=\"text-align: right;\">\n",
       "      <th></th>\n",
       "      <th>text vectors</th>\n",
       "      <th>title vectors</th>\n",
       "      <th>pair class</th>\n",
       "      <th>predicted class</th>\n",
       "    </tr>\n",
       "  </thead>\n",
       "  <tbody>\n",
       "    <tr>\n",
       "      <th>58546</th>\n",
       "      <td>[адресный, табличка, изготовление, 1, день, бо...</td>\n",
       "      <td>[Prology, iOne, 1000, 467, 15, руб]</td>\n",
       "      <td>0</td>\n",
       "      <td>0.001919</td>\n",
       "    </tr>\n",
       "    <tr>\n",
       "      <th>58547</th>\n",
       "      <td>[телефон, Highscreen, Boost, сравнивать, цена,...</td>\n",
       "      <td>[совместный, покупка, ярославль]</td>\n",
       "      <td>0</td>\n",
       "      <td>0.000343</td>\n",
       "    </tr>\n",
       "    <tr>\n",
       "      <th>58548</th>\n",
       "      <td>[электродный, котел, сравнивать, цена, весь, и...</td>\n",
       "      <td>[бампер, на, Opel, Astra, H]</td>\n",
       "      <td>0</td>\n",
       "      <td>0.000313</td>\n",
       "    </tr>\n",
       "    <tr>\n",
       "      <th>58549</th>\n",
       "      <td>[быть, в, наличие, сейчас, рубанок, BLACK, AND...</td>\n",
       "      <td>[микроскоп, levenhuk, 2l]</td>\n",
       "      <td>0</td>\n",
       "      <td>0.078692</td>\n",
       "    </tr>\n",
       "    <tr>\n",
       "      <th>58550</th>\n",
       "      <td>[мфу, Brother, DCP, J100, 360, 86, р, гарантия...</td>\n",
       "      <td>[Brother, DCP, L2540DNR, 584, 38, р]</td>\n",
       "      <td>0</td>\n",
       "      <td>0.989911</td>\n",
       "    </tr>\n",
       "    <tr>\n",
       "      <th>58551</th>\n",
       "      <td>[наушник, вкладыш, большой, выбор, наушник, по...</td>\n",
       "      <td>[ст, 222, ук, рф, 100, юрист]</td>\n",
       "      <td>0</td>\n",
       "      <td>0.001256</td>\n",
       "    </tr>\n",
       "    <tr>\n",
       "      <th>58552</th>\n",
       "      <td>[звонить, сейчас, купить, дом, на, авито, стро...</td>\n",
       "      <td>[аккумулятор, для, K50AB]</td>\n",
       "      <td>0</td>\n",
       "      <td>0.024118</td>\n",
       "    </tr>\n",
       "    <tr>\n",
       "      <th>58553</th>\n",
       "      <td>[имплантация, и, профессиональный, протезирова...</td>\n",
       "      <td>[мариборский, университет, жать]</td>\n",
       "      <td>0</td>\n",
       "      <td>0.314296</td>\n",
       "    </tr>\n",
       "    <tr>\n",
       "      <th>58554</th>\n",
       "      <td>[холодильник, Liebherr, CTP, 3316, низкий, цен...</td>\n",
       "      <td>[согласование, наружный, реклама]</td>\n",
       "      <td>0</td>\n",
       "      <td>0.000268</td>\n",
       "    </tr>\n",
       "    <tr>\n",
       "      <th>58555</th>\n",
       "      <td>[жакет, теплый, сравнивать, цена, весь, интерн...</td>\n",
       "      <td>[benq, bl2710pt]</td>\n",
       "      <td>0</td>\n",
       "      <td>0.000319</td>\n",
       "    </tr>\n",
       "    <tr>\n",
       "      <th>58556</th>\n",
       "      <td>[купить, QNAP, сетевой, хранилище, QNAP, TS, 2...</td>\n",
       "      <td>[отбеливатель, хлорный]</td>\n",
       "      <td>0</td>\n",
       "      <td>0.003015</td>\n",
       "    </tr>\n",
       "    <tr>\n",
       "      <th>58557</th>\n",
       "      <td>[блузка, нарядный, сравнивать, цена, весь, инт...</td>\n",
       "      <td>[строительный, пылесос]</td>\n",
       "      <td>0</td>\n",
       "      <td>0.020395</td>\n",
       "    </tr>\n",
       "    <tr>\n",
       "      <th>58558</th>\n",
       "      <td>[секция, универсал, 5М, 6М, со, склад, ниппель...</td>\n",
       "      <td>[обмен, приемник, триколор, москва]</td>\n",
       "      <td>0</td>\n",
       "      <td>0.002940</td>\n",
       "    </tr>\n",
       "    <tr>\n",
       "      <th>58559</th>\n",
       "      <td>[кондиционер, в, краснодар, скидка, 35, %, рас...</td>\n",
       "      <td>[Pioneer, MVH, 570AV]</td>\n",
       "      <td>0</td>\n",
       "      <td>0.000356</td>\n",
       "    </tr>\n",
       "    <tr>\n",
       "      <th>58560</th>\n",
       "      <td>[купить, Siemens, встраивать, газовый, варочны...</td>\n",
       "      <td>[балконный, дверь, пластиковый, фото]</td>\n",
       "      <td>0</td>\n",
       "      <td>0.000231</td>\n",
       "    </tr>\n",
       "    <tr>\n",
       "      <th>58561</th>\n",
       "      <td>[гриль, Steba, FG, 70, за, 8, 950, руб, качест...</td>\n",
       "      <td>[коляска, Jetem, Holiday]</td>\n",
       "      <td>0</td>\n",
       "      <td>0.002360</td>\n",
       "    </tr>\n",
       "    <tr>\n",
       "      <th>58562</th>\n",
       "      <td>[доставка, такси, подавать, за, 5, мина, тариф...</td>\n",
       "      <td>[часть, шкаф, купе, без, наценка]</td>\n",
       "      <td>0</td>\n",
       "      <td>0.004021</td>\n",
       "    </tr>\n",
       "    <tr>\n",
       "      <th>58563</th>\n",
       "      <td>[звонить, сейчас, набор, уже, идти, запись, на...</td>\n",
       "      <td>[фундамент, для, частный, дом]</td>\n",
       "      <td>0</td>\n",
       "      <td>0.016502</td>\n",
       "    </tr>\n",
       "    <tr>\n",
       "      <th>58564</th>\n",
       "      <td>[эхолот, практик, большой, выбор, качественный...</td>\n",
       "      <td>[такси, тариф, цена, от, 30, рубль]</td>\n",
       "      <td>0</td>\n",
       "      <td>0.008383</td>\n",
       "    </tr>\n",
       "    <tr>\n",
       "      <th>58565</th>\n",
       "      <td>[для, мой, iPhone, 4S, нужный, новый, аккумуля...</td>\n",
       "      <td>[установка, снегозадержатель]</td>\n",
       "      <td>0</td>\n",
       "      <td>0.700278</td>\n",
       "    </tr>\n",
       "    <tr>\n",
       "      <th>58566</th>\n",
       "      <td>[купить, Scher, сигнализация, Scher, khan, Mag...</td>\n",
       "      <td>[оценка, бизнес, в, волгоград]</td>\n",
       "      <td>0</td>\n",
       "      <td>0.002224</td>\n",
       "    </tr>\n",
       "    <tr>\n",
       "      <th>58567</th>\n",
       "      <td>[перевозить, груз, грузоперевозка, псков, реша...</td>\n",
       "      <td>[недвижимость, на, солнечный, берег]</td>\n",
       "      <td>0</td>\n",
       "      <td>0.001648</td>\n",
       "    </tr>\n",
       "    <tr>\n",
       "      <th>58568</th>\n",
       "      <td>[цена, всего, 2, 889, р, электрический, теплов...</td>\n",
       "      <td>[смесь, для, штукатурка, недорого]</td>\n",
       "      <td>0</td>\n",
       "      <td>0.014458</td>\n",
       "    </tr>\n",
       "    <tr>\n",
       "      <th>58569</th>\n",
       "      <td>[телевизор, Mystery, MTV, 3223LT2, 476, 22, р,...</td>\n",
       "      <td>[интересный, эксперимент, для, ребенок]</td>\n",
       "      <td>0</td>\n",
       "      <td>0.000826</td>\n",
       "    </tr>\n",
       "    <tr>\n",
       "      <th>58570</th>\n",
       "      <td>[усилитель, Wi, Fi, сравнивать, цена, весь, ин...</td>\n",
       "      <td>[печать, учебный, материал]</td>\n",
       "      <td>0</td>\n",
       "      <td>0.000102</td>\n",
       "    </tr>\n",
       "    <tr>\n",
       "      <th>58571</th>\n",
       "      <td>[совместный, покупка, покупать, за, полцены, з...</td>\n",
       "      <td>[подоконник, пвх, 250, мм, в, спб]</td>\n",
       "      <td>0</td>\n",
       "      <td>0.003090</td>\n",
       "    </tr>\n",
       "    <tr>\n",
       "      <th>58572</th>\n",
       "      <td>[цена, весь, 2469, руб, купить, Thermex, Strea...</td>\n",
       "      <td>[такси, в, пушкин, дешево, от, 125, р]</td>\n",
       "      <td>0</td>\n",
       "      <td>0.181811</td>\n",
       "    </tr>\n",
       "    <tr>\n",
       "      <th>58573</th>\n",
       "      <td>[в, наличие, за, 8660, руб, купить]</td>\n",
       "      <td>[Nord, дм, 155, 010]</td>\n",
       "      <td>0</td>\n",
       "      <td>0.146266</td>\n",
       "    </tr>\n",
       "    <tr>\n",
       "      <th>58574</th>\n",
       "      <td>[GEFEST, 3200, 06, 19, от, 319, 000, доставка]</td>\n",
       "      <td>[101, отель, гостиница, волгоград]</td>\n",
       "      <td>0</td>\n",
       "      <td>0.000147</td>\n",
       "    </tr>\n",
       "    <tr>\n",
       "      <th>58575</th>\n",
       "      <td>[радиатор, панельный, сравнивать, цена, весь, ...</td>\n",
       "      <td>[кондиционер, Midea]</td>\n",
       "      <td>0</td>\n",
       "      <td>0.002447</td>\n",
       "    </tr>\n",
       "    <tr>\n",
       "      <th>...</th>\n",
       "      <td>...</td>\n",
       "      <td>...</td>\n",
       "      <td>...</td>\n",
       "      <td>...</td>\n",
       "    </tr>\n",
       "    <tr>\n",
       "      <th>58716</th>\n",
       "      <td>[цена, весь, 13990, руб, купить, Champion, Ps2...</td>\n",
       "      <td>[увеличение, потенция, в, клиника, 1М]</td>\n",
       "      <td>0</td>\n",
       "      <td>0.000082</td>\n",
       "    </tr>\n",
       "    <tr>\n",
       "      <th>58717</th>\n",
       "      <td>[купить, Bosch, дрель, ударный, Bosch, Gsb, 21...</td>\n",
       "      <td>[чехол, для, HTC, One, M10]</td>\n",
       "      <td>0</td>\n",
       "      <td>0.000533</td>\n",
       "    </tr>\n",
       "    <tr>\n",
       "      <th>58718</th>\n",
       "      <td>[ванна, сибирячка, сравнивать, цена, весь, инт...</td>\n",
       "      <td>[доставка, такси, цена, от, 30, руб]</td>\n",
       "      <td>0</td>\n",
       "      <td>0.015647</td>\n",
       "    </tr>\n",
       "    <tr>\n",
       "      <th>58719</th>\n",
       "      <td>[огнетушитель, оп, 8, 718, руб, опт, и, розниц...</td>\n",
       "      <td>[лечить, психологический, бесплодие]</td>\n",
       "      <td>0</td>\n",
       "      <td>0.034801</td>\n",
       "    </tr>\n",
       "    <tr>\n",
       "      <th>58720</th>\n",
       "      <td>[автокресло, Heyner, сравнивать, цена, весь, и...</td>\n",
       "      <td>[купить, роутер, Novatel, 5510L]</td>\n",
       "      <td>0</td>\n",
       "      <td>0.034321</td>\n",
       "    </tr>\n",
       "    <tr>\n",
       "      <th>58721</th>\n",
       "      <td>[купить, Supra, автомобильный, медиастанция, S...</td>\n",
       "      <td>[рейтинг, вентилятор]</td>\n",
       "      <td>0</td>\n",
       "      <td>0.002804</td>\n",
       "    </tr>\n",
       "    <tr>\n",
       "      <th>58722</th>\n",
       "      <td>[гайка, большой, выбор, свыше, 7000, наименова...</td>\n",
       "      <td>[Korting, KMI, 825, XN, недорого]</td>\n",
       "      <td>0</td>\n",
       "      <td>0.007590</td>\n",
       "    </tr>\n",
       "    <tr>\n",
       "      <th>58723</th>\n",
       "      <td>[холодильник, с, морозильник, Gorenje, RK61FSY...</td>\n",
       "      <td>[картридж, Sharp, AR, 270LT, недорого]</td>\n",
       "      <td>0</td>\n",
       "      <td>0.000627</td>\n",
       "    </tr>\n",
       "    <tr>\n",
       "      <th>58724</th>\n",
       "      <td>[смартфон, Xiaomi, Mi, 5, 128Gb, 1090, 43, р, ...</td>\n",
       "      <td>[изготовление, 3d, модель, в, спб]</td>\n",
       "      <td>0</td>\n",
       "      <td>0.000033</td>\n",
       "    </tr>\n",
       "    <tr>\n",
       "      <th>58725</th>\n",
       "      <td>[магазин, телескоп, в, хабаровск, огромный, вы...</td>\n",
       "      <td>[коммутатор, HP, 2920, 24G, недорого]</td>\n",
       "      <td>0</td>\n",
       "      <td>0.012992</td>\n",
       "    </tr>\n",
       "    <tr>\n",
       "      <th>58726</th>\n",
       "      <td>[сеть, клиника, первый, доктор, вызов, стомато...</td>\n",
       "      <td>[P, 791R, V2, 15130p]</td>\n",
       "      <td>0</td>\n",
       "      <td>0.000716</td>\n",
       "    </tr>\n",
       "    <tr>\n",
       "      <th>58727</th>\n",
       "      <td>[дорожный, техника, ремонт, спецтехника, новый...</td>\n",
       "      <td>[усилитель, аналоговый]</td>\n",
       "      <td>0</td>\n",
       "      <td>0.010415</td>\n",
       "    </tr>\n",
       "    <tr>\n",
       "      <th>58728</th>\n",
       "      <td>[перевозка, тут, транспортный, компания, рыбин...</td>\n",
       "      <td>[сайт, продажа, ЖК, полянка, 44]</td>\n",
       "      <td>0</td>\n",
       "      <td>0.001913</td>\n",
       "    </tr>\n",
       "    <tr>\n",
       "      <th>58729</th>\n",
       "      <td>[шпатлевка, потолок, экономия, до, 50, %, на, ...</td>\n",
       "      <td>[тканевый, роллета, купить]</td>\n",
       "      <td>0</td>\n",
       "      <td>0.077145</td>\n",
       "    </tr>\n",
       "    <tr>\n",
       "      <th>58730</th>\n",
       "      <td>[автокресло, Baby, Care, сравнивать, цена, вес...</td>\n",
       "      <td>[1С, бухгалтерия, ред, 8, 3, обновлять]</td>\n",
       "      <td>0</td>\n",
       "      <td>0.000069</td>\n",
       "    </tr>\n",
       "    <tr>\n",
       "      <th>58731</th>\n",
       "      <td>[карандаш, для, глаз, жидкий, сравнивать, цена...</td>\n",
       "      <td>[заказывать, перфоратор, калибр, мастер]</td>\n",
       "      <td>0</td>\n",
       "      <td>0.002514</td>\n",
       "    </tr>\n",
       "    <tr>\n",
       "      <th>58732</th>\n",
       "      <td>[надежный, уничтожение, мышь, в, дом, гарантия...</td>\n",
       "      <td>[ст, 488, гк, рф, 100, юрист]</td>\n",
       "      <td>0</td>\n",
       "      <td>0.000007</td>\n",
       "    </tr>\n",
       "    <tr>\n",
       "      <th>58733</th>\n",
       "      <td>[за, 4586, руб, доставка]</td>\n",
       "      <td>[умягчитель, для, вода, казань]</td>\n",
       "      <td>0</td>\n",
       "      <td>0.022603</td>\n",
       "    </tr>\n",
       "    <tr>\n",
       "      <th>58734</th>\n",
       "      <td>[отличный, цена, установка, антенна, триколор,...</td>\n",
       "      <td>[обувь, мурс]</td>\n",
       "      <td>0</td>\n",
       "      <td>0.007501</td>\n",
       "    </tr>\n",
       "    <tr>\n",
       "      <th>58735</th>\n",
       "      <td>[вывеска, для, магазин, цена, дизайн, и, табли...</td>\n",
       "      <td>[грузоперевозка, из, тюмень]</td>\n",
       "      <td>0</td>\n",
       "      <td>0.001768</td>\n",
       "    </tr>\n",
       "    <tr>\n",
       "      <th>58736</th>\n",
       "      <td>[взять, на, себя, весь, забота, веселый, прогр...</td>\n",
       "      <td>[asrock, z170, pro4s]</td>\n",
       "      <td>0</td>\n",
       "      <td>0.000233</td>\n",
       "    </tr>\n",
       "    <tr>\n",
       "      <th>58737</th>\n",
       "      <td>[нужный, корпус, для, DL, 3DZ2R, 3D, печать, н...</td>\n",
       "      <td>[стоимость, установка, окно, пвх, за]</td>\n",
       "      <td>0</td>\n",
       "      <td>0.015191</td>\n",
       "    </tr>\n",
       "    <tr>\n",
       "      <th>58738</th>\n",
       "      <td>[Janome, LW, 30, от, 390, 00, доставка]</td>\n",
       "      <td>[ролик, актион]</td>\n",
       "      <td>0</td>\n",
       "      <td>0.000060</td>\n",
       "    </tr>\n",
       "    <tr>\n",
       "      <th>58739</th>\n",
       "      <td>[уборка, квартира, коттедж, низкий, цена, бесп...</td>\n",
       "      <td>[панель, кронштейн, на, заказ]</td>\n",
       "      <td>0</td>\n",
       "      <td>0.005738</td>\n",
       "    </tr>\n",
       "    <tr>\n",
       "      <th>58740</th>\n",
       "      <td>[чайник, Philips, HD9326, 20, большой, выбор, ...</td>\n",
       "      <td>[снегокатый, сноушторм]</td>\n",
       "      <td>0</td>\n",
       "      <td>0.079975</td>\n",
       "    </tr>\n",
       "    <tr>\n",
       "      <th>58741</th>\n",
       "      <td>[телевизор, Samsung, LT19C350EX, сравнивать, ц...</td>\n",
       "      <td>[гидроизоляция, основить]</td>\n",
       "      <td>0</td>\n",
       "      <td>0.000632</td>\n",
       "    </tr>\n",
       "    <tr>\n",
       "      <th>58742</th>\n",
       "      <td>[ведущий, специалист, эффективный, лечение, вн...</td>\n",
       "      <td>[ноутбук, Apple, MacBook, Pro, 13]</td>\n",
       "      <td>0</td>\n",
       "      <td>0.001791</td>\n",
       "    </tr>\n",
       "    <tr>\n",
       "      <th>58743</th>\n",
       "      <td>[телевизор, LG, 49LH520V, 1236, 71, р, гаранти...</td>\n",
       "      <td>[3D, принтер, Zenit, 10кг, ABS, PLA]</td>\n",
       "      <td>0</td>\n",
       "      <td>0.000057</td>\n",
       "    </tr>\n",
       "    <tr>\n",
       "      <th>58744</th>\n",
       "      <td>[перевозить, груз, грузоперевозка, кандалакша,...</td>\n",
       "      <td>[пробковый, клеевой, пол]</td>\n",
       "      <td>0</td>\n",
       "      <td>0.000211</td>\n",
       "    </tr>\n",
       "    <tr>\n",
       "      <th>58745</th>\n",
       "      <td>[и, не, только, от, 80, 000, руб, делать, из, ...</td>\n",
       "      <td>[шале, на, комсомольский, новосибирск]</td>\n",
       "      <td>0</td>\n",
       "      <td>0.485296</td>\n",
       "    </tr>\n",
       "  </tbody>\n",
       "</table>\n",
       "<p>200 rows × 4 columns</p>\n",
       "</div>"
      ],
      "text/plain": [
       "                                            text vectors  \\\n",
       "58546  [адресный, табличка, изготовление, 1, день, бо...   \n",
       "58547  [телефон, Highscreen, Boost, сравнивать, цена,...   \n",
       "58548  [электродный, котел, сравнивать, цена, весь, и...   \n",
       "58549  [быть, в, наличие, сейчас, рубанок, BLACK, AND...   \n",
       "58550  [мфу, Brother, DCP, J100, 360, 86, р, гарантия...   \n",
       "58551  [наушник, вкладыш, большой, выбор, наушник, по...   \n",
       "58552  [звонить, сейчас, купить, дом, на, авито, стро...   \n",
       "58553  [имплантация, и, профессиональный, протезирова...   \n",
       "58554  [холодильник, Liebherr, CTP, 3316, низкий, цен...   \n",
       "58555  [жакет, теплый, сравнивать, цена, весь, интерн...   \n",
       "58556  [купить, QNAP, сетевой, хранилище, QNAP, TS, 2...   \n",
       "58557  [блузка, нарядный, сравнивать, цена, весь, инт...   \n",
       "58558  [секция, универсал, 5М, 6М, со, склад, ниппель...   \n",
       "58559  [кондиционер, в, краснодар, скидка, 35, %, рас...   \n",
       "58560  [купить, Siemens, встраивать, газовый, варочны...   \n",
       "58561  [гриль, Steba, FG, 70, за, 8, 950, руб, качест...   \n",
       "58562  [доставка, такси, подавать, за, 5, мина, тариф...   \n",
       "58563  [звонить, сейчас, набор, уже, идти, запись, на...   \n",
       "58564  [эхолот, практик, большой, выбор, качественный...   \n",
       "58565  [для, мой, iPhone, 4S, нужный, новый, аккумуля...   \n",
       "58566  [купить, Scher, сигнализация, Scher, khan, Mag...   \n",
       "58567  [перевозить, груз, грузоперевозка, псков, реша...   \n",
       "58568  [цена, всего, 2, 889, р, электрический, теплов...   \n",
       "58569  [телевизор, Mystery, MTV, 3223LT2, 476, 22, р,...   \n",
       "58570  [усилитель, Wi, Fi, сравнивать, цена, весь, ин...   \n",
       "58571  [совместный, покупка, покупать, за, полцены, з...   \n",
       "58572  [цена, весь, 2469, руб, купить, Thermex, Strea...   \n",
       "58573                [в, наличие, за, 8660, руб, купить]   \n",
       "58574     [GEFEST, 3200, 06, 19, от, 319, 000, доставка]   \n",
       "58575  [радиатор, панельный, сравнивать, цена, весь, ...   \n",
       "...                                                  ...   \n",
       "58716  [цена, весь, 13990, руб, купить, Champion, Ps2...   \n",
       "58717  [купить, Bosch, дрель, ударный, Bosch, Gsb, 21...   \n",
       "58718  [ванна, сибирячка, сравнивать, цена, весь, инт...   \n",
       "58719  [огнетушитель, оп, 8, 718, руб, опт, и, розниц...   \n",
       "58720  [автокресло, Heyner, сравнивать, цена, весь, и...   \n",
       "58721  [купить, Supra, автомобильный, медиастанция, S...   \n",
       "58722  [гайка, большой, выбор, свыше, 7000, наименова...   \n",
       "58723  [холодильник, с, морозильник, Gorenje, RK61FSY...   \n",
       "58724  [смартфон, Xiaomi, Mi, 5, 128Gb, 1090, 43, р, ...   \n",
       "58725  [магазин, телескоп, в, хабаровск, огромный, вы...   \n",
       "58726  [сеть, клиника, первый, доктор, вызов, стомато...   \n",
       "58727  [дорожный, техника, ремонт, спецтехника, новый...   \n",
       "58728  [перевозка, тут, транспортный, компания, рыбин...   \n",
       "58729  [шпатлевка, потолок, экономия, до, 50, %, на, ...   \n",
       "58730  [автокресло, Baby, Care, сравнивать, цена, вес...   \n",
       "58731  [карандаш, для, глаз, жидкий, сравнивать, цена...   \n",
       "58732  [надежный, уничтожение, мышь, в, дом, гарантия...   \n",
       "58733                          [за, 4586, руб, доставка]   \n",
       "58734  [отличный, цена, установка, антенна, триколор,...   \n",
       "58735  [вывеска, для, магазин, цена, дизайн, и, табли...   \n",
       "58736  [взять, на, себя, весь, забота, веселый, прогр...   \n",
       "58737  [нужный, корпус, для, DL, 3DZ2R, 3D, печать, н...   \n",
       "58738            [Janome, LW, 30, от, 390, 00, доставка]   \n",
       "58739  [уборка, квартира, коттедж, низкий, цена, бесп...   \n",
       "58740  [чайник, Philips, HD9326, 20, большой, выбор, ...   \n",
       "58741  [телевизор, Samsung, LT19C350EX, сравнивать, ц...   \n",
       "58742  [ведущий, специалист, эффективный, лечение, вн...   \n",
       "58743  [телевизор, LG, 49LH520V, 1236, 71, р, гаранти...   \n",
       "58744  [перевозить, груз, грузоперевозка, кандалакша,...   \n",
       "58745  [и, не, только, от, 80, 000, руб, делать, из, ...   \n",
       "\n",
       "                                  title vectors  pair class  predicted class  \n",
       "58546       [Prology, iOne, 1000, 467, 15, руб]           0         0.001919  \n",
       "58547          [совместный, покупка, ярославль]           0         0.000343  \n",
       "58548              [бампер, на, Opel, Astra, H]           0         0.000313  \n",
       "58549                 [микроскоп, levenhuk, 2l]           0         0.078692  \n",
       "58550      [Brother, DCP, L2540DNR, 584, 38, р]           0         0.989911  \n",
       "58551             [ст, 222, ук, рф, 100, юрист]           0         0.001256  \n",
       "58552                 [аккумулятор, для, K50AB]           0         0.024118  \n",
       "58553          [мариборский, университет, жать]           0         0.314296  \n",
       "58554         [согласование, наружный, реклама]           0         0.000268  \n",
       "58555                          [benq, bl2710pt]           0         0.000319  \n",
       "58556                   [отбеливатель, хлорный]           0         0.003015  \n",
       "58557                   [строительный, пылесос]           0         0.020395  \n",
       "58558       [обмен, приемник, триколор, москва]           0         0.002940  \n",
       "58559                     [Pioneer, MVH, 570AV]           0         0.000356  \n",
       "58560     [балконный, дверь, пластиковый, фото]           0         0.000231  \n",
       "58561                 [коляска, Jetem, Holiday]           0         0.002360  \n",
       "58562         [часть, шкаф, купе, без, наценка]           0         0.004021  \n",
       "58563            [фундамент, для, частный, дом]           0         0.016502  \n",
       "58564       [такси, тариф, цена, от, 30, рубль]           0         0.008383  \n",
       "58565             [установка, снегозадержатель]           0         0.700278  \n",
       "58566            [оценка, бизнес, в, волгоград]           0         0.002224  \n",
       "58567      [недвижимость, на, солнечный, берег]           0         0.001648  \n",
       "58568        [смесь, для, штукатурка, недорого]           0         0.014458  \n",
       "58569   [интересный, эксперимент, для, ребенок]           0         0.000826  \n",
       "58570               [печать, учебный, материал]           0         0.000102  \n",
       "58571        [подоконник, пвх, 250, мм, в, спб]           0         0.003090  \n",
       "58572    [такси, в, пушкин, дешево, от, 125, р]           0         0.181811  \n",
       "58573                      [Nord, дм, 155, 010]           0         0.146266  \n",
       "58574        [101, отель, гостиница, волгоград]           0         0.000147  \n",
       "58575                      [кондиционер, Midea]           0         0.002447  \n",
       "...                                         ...         ...              ...  \n",
       "58716    [увеличение, потенция, в, клиника, 1М]           0         0.000082  \n",
       "58717               [чехол, для, HTC, One, M10]           0         0.000533  \n",
       "58718      [доставка, такси, цена, от, 30, руб]           0         0.015647  \n",
       "58719      [лечить, психологический, бесплодие]           0         0.034801  \n",
       "58720          [купить, роутер, Novatel, 5510L]           0         0.034321  \n",
       "58721                     [рейтинг, вентилятор]           0         0.002804  \n",
       "58722         [Korting, KMI, 825, XN, недорого]           0         0.007590  \n",
       "58723    [картридж, Sharp, AR, 270LT, недорого]           0         0.000627  \n",
       "58724        [изготовление, 3d, модель, в, спб]           0         0.000033  \n",
       "58725     [коммутатор, HP, 2920, 24G, недорого]           0         0.012992  \n",
       "58726                     [P, 791R, V2, 15130p]           0         0.000716  \n",
       "58727                   [усилитель, аналоговый]           0         0.010415  \n",
       "58728          [сайт, продажа, ЖК, полянка, 44]           0         0.001913  \n",
       "58729               [тканевый, роллета, купить]           0         0.077145  \n",
       "58730   [1С, бухгалтерия, ред, 8, 3, обновлять]           0         0.000069  \n",
       "58731  [заказывать, перфоратор, калибр, мастер]           0         0.002514  \n",
       "58732             [ст, 488, гк, рф, 100, юрист]           0         0.000007  \n",
       "58733           [умягчитель, для, вода, казань]           0         0.022603  \n",
       "58734                             [обувь, мурс]           0         0.007501  \n",
       "58735              [грузоперевозка, из, тюмень]           0         0.001768  \n",
       "58736                     [asrock, z170, pro4s]           0         0.000233  \n",
       "58737     [стоимость, установка, окно, пвх, за]           0         0.015191  \n",
       "58738                           [ролик, актион]           0         0.000060  \n",
       "58739            [панель, кронштейн, на, заказ]           0         0.005738  \n",
       "58740                   [снегокатый, сноушторм]           0         0.079975  \n",
       "58741                 [гидроизоляция, основить]           0         0.000632  \n",
       "58742        [ноутбук, Apple, MacBook, Pro, 13]           0         0.001791  \n",
       "58743      [3D, принтер, Zenit, 10кг, ABS, PLA]           0         0.000057  \n",
       "58744                 [пробковый, клеевой, пол]           0         0.000211  \n",
       "58745    [шале, на, комсомольский, новосибирск]           0         0.485296  \n",
       "\n",
       "[200 rows x 4 columns]"
      ]
     },
     "execution_count": 140,
     "metadata": {},
     "output_type": "execute_result"
    }
   ],
   "source": [
    "predictions"
   ]
  },
  {
   "cell_type": "code",
   "execution_count": 141,
   "metadata": {},
   "outputs": [
    {
     "name": "stdout",
     "output_type": "stream",
     "text": [
      "0.9645536513180536\n"
     ]
    }
   ],
   "source": [
    "from sklearn.metrics import f1_score\n",
    "print(f1_score(new_y_test, xgb_test.predict(X_test_pca)))"
   ]
  },
  {
   "cell_type": "code",
   "execution_count": 142,
   "metadata": {},
   "outputs": [
    {
     "data": {
      "text/plain": [
       "array([[28187,   937],\n",
       "       [ 1123, 28028]])"
      ]
     },
     "execution_count": 142,
     "metadata": {},
     "output_type": "execute_result"
    }
   ],
   "source": [
    "from sklearn.metrics import confusion_matrix\n",
    "confusion_matrix(new_y_test, xgb_test.predict(X_test_pca))"
   ]
  },
  {
   "cell_type": "code",
   "execution_count": 143,
   "metadata": {},
   "outputs": [
    {
     "data": {
      "text/plain": [
       "0.9800235424456446"
      ]
     },
     "execution_count": 143,
     "metadata": {},
     "output_type": "execute_result"
    }
   ],
   "source": [
    "28307 / (577+28307)"
   ]
  },
  {
   "cell_type": "code",
   "execution_count": 144,
   "metadata": {},
   "outputs": [
    {
     "data": {
      "text/plain": [
       "0.9685885372112917"
      ]
     },
     "execution_count": 144,
     "metadata": {},
     "output_type": "execute_result"
    }
   ],
   "source": [
    "28307 / (28307+918)"
   ]
  },
  {
   "cell_type": "code",
   "execution_count": 145,
   "metadata": {},
   "outputs": [],
   "source": [
    "sample_test_df_checking = test_df.sample(1000)"
   ]
  },
  {
   "cell_type": "code",
   "execution_count": 146,
   "metadata": {},
   "outputs": [],
   "source": [
    "sample_test_df_checking = sample_test_df_checking.reset_index(drop=True)"
   ]
  },
  {
   "cell_type": "code",
   "execution_count": 147,
   "metadata": {},
   "outputs": [
    {
     "data": {
      "text/html": [
       "<div>\n",
       "<style scoped>\n",
       "    .dataframe tbody tr th:only-of-type {\n",
       "        vertical-align: middle;\n",
       "    }\n",
       "\n",
       "    .dataframe tbody tr th {\n",
       "        vertical-align: top;\n",
       "    }\n",
       "\n",
       "    .dataframe thead th {\n",
       "        text-align: right;\n",
       "    }\n",
       "</style>\n",
       "<table border=\"1\" class=\"dataframe\">\n",
       "  <thead>\n",
       "    <tr style=\"text-align: right;\">\n",
       "      <th></th>\n",
       "      <th>text vectors</th>\n",
       "      <th>title vectors</th>\n",
       "    </tr>\n",
       "  </thead>\n",
       "  <tbody>\n",
       "    <tr>\n",
       "      <th>0</th>\n",
       "      <td>[Makita, 6271DWALE, от, 235, 38, доставка]</td>\n",
       "      <td>[Makita, 6271DWALE]</td>\n",
       "    </tr>\n",
       "    <tr>\n",
       "      <th>1</th>\n",
       "      <td>[за, 3, 642, 900, руб, доставка, по, минск, и,...</td>\n",
       "      <td>[пылесос, Zelmer, Aquawelt]</td>\n",
       "    </tr>\n",
       "    <tr>\n",
       "      <th>2</th>\n",
       "      <td>[в, наличие, за, 7582, руб, купить]</td>\n",
       "      <td>[Apple, MC380ZM, A]</td>\n",
       "    </tr>\n",
       "    <tr>\n",
       "      <th>3</th>\n",
       "      <td>[цена, весь, 5990, руб, купить, тележка, стелл...</td>\n",
       "      <td>[тележка, стелла, кг, 200, 200, к]</td>\n",
       "    </tr>\n",
       "    <tr>\n",
       "      <th>4</th>\n",
       "      <td>[Midea, AG720C4E, S, от, 170, 00, доставка]</td>\n",
       "      <td>[Midea, AG720C4E, S]</td>\n",
       "    </tr>\n",
       "  </tbody>\n",
       "</table>\n",
       "</div>"
      ],
      "text/plain": [
       "                                        text vectors  \\\n",
       "0         [Makita, 6271DWALE, от, 235, 38, доставка]   \n",
       "1  [за, 3, 642, 900, руб, доставка, по, минск, и,...   \n",
       "2                [в, наличие, за, 7582, руб, купить]   \n",
       "3  [цена, весь, 5990, руб, купить, тележка, стелл...   \n",
       "4        [Midea, AG720C4E, S, от, 170, 00, доставка]   \n",
       "\n",
       "                        title vectors  \n",
       "0                 [Makita, 6271DWALE]  \n",
       "1         [пылесос, Zelmer, Aquawelt]  \n",
       "2                 [Apple, MC380ZM, A]  \n",
       "3  [тележка, стелла, кг, 200, 200, к]  \n",
       "4                [Midea, AG720C4E, S]  "
      ]
     },
     "execution_count": 147,
     "metadata": {},
     "output_type": "execute_result"
    }
   ],
   "source": [
    "sample_test_df_checking.head()"
   ]
  },
  {
   "cell_type": "code",
   "execution_count": 148,
   "metadata": {},
   "outputs": [],
   "source": [
    "sample_text_vectors_test = []\n",
    "for row in range(len(sample_test_df_checking)):\n",
    "    vector = result_vector(sample_test_df_checking.iloc[row, 0])\n",
    "    if vector is not None:  \n",
    "        sample_text_vectors_test.append(vector[0])\n",
    "    else:\n",
    "        sample_text_vectors_test.append('M')"
   ]
  },
  {
   "cell_type": "code",
   "execution_count": 149,
   "metadata": {},
   "outputs": [],
   "source": [
    "sample_title_vectors_test = []\n",
    "for row in range(len(sample_test_df_checking)):\n",
    "    vector = result_vector(sample_test_df_checking.iloc[row, 1])\n",
    "    if vector is not None:  \n",
    "        sample_title_vectors_test.append(vector[0])\n",
    "    else:\n",
    "        sample_title_vectors_test.append('M')"
   ]
  },
  {
   "cell_type": "code",
   "execution_count": 150,
   "metadata": {},
   "outputs": [],
   "source": [
    "test_sample_vectorized = sample_test_df_checking.copy()\n",
    "test_sample_vectorized['text vectors'] = sample_text_vectors_test\n",
    "test_sample_vectorized['title vectors'] = sample_title_vectors_test"
   ]
  },
  {
   "cell_type": "code",
   "execution_count": 151,
   "metadata": {},
   "outputs": [
    {
     "data": {
      "text/html": [
       "<div>\n",
       "<style scoped>\n",
       "    .dataframe tbody tr th:only-of-type {\n",
       "        vertical-align: middle;\n",
       "    }\n",
       "\n",
       "    .dataframe tbody tr th {\n",
       "        vertical-align: top;\n",
       "    }\n",
       "\n",
       "    .dataframe thead th {\n",
       "        text-align: right;\n",
       "    }\n",
       "</style>\n",
       "<table border=\"1\" class=\"dataframe\">\n",
       "  <thead>\n",
       "    <tr style=\"text-align: right;\">\n",
       "      <th></th>\n",
       "      <th>text vectors</th>\n",
       "      <th>title vectors</th>\n",
       "    </tr>\n",
       "  </thead>\n",
       "  <tbody>\n",
       "    <tr>\n",
       "      <th>0</th>\n",
       "      <td>[-0.07741342707831118, 0.009104698882593798, 0...</td>\n",
       "      <td>[-0.10981967396141039, 0.09589167317070307, 0....</td>\n",
       "    </tr>\n",
       "    <tr>\n",
       "      <th>1</th>\n",
       "      <td>[-0.10288560861624262, -0.018997420775732545, ...</td>\n",
       "      <td>[0.0029413074567309896, 0.1325308551348102, -0...</td>\n",
       "    </tr>\n",
       "    <tr>\n",
       "      <th>2</th>\n",
       "      <td>[-0.0669456356892245, -0.023643816085802218, 0...</td>\n",
       "      <td>[-0.07117571241447762, 0.08119260450467572, 0....</td>\n",
       "    </tr>\n",
       "    <tr>\n",
       "      <th>3</th>\n",
       "      <td>[0.027217537280122918, 0.06741822372676884, 0....</td>\n",
       "      <td>[0.06424847283112275, 0.0646537771815778, 0.03...</td>\n",
       "    </tr>\n",
       "    <tr>\n",
       "      <th>4</th>\n",
       "      <td>[-0.14168974802620438, -0.0182662583636299, -0...</td>\n",
       "      <td>[-0.15206502215293005, 0.05999680345805086, -0...</td>\n",
       "    </tr>\n",
       "  </tbody>\n",
       "</table>\n",
       "</div>"
      ],
      "text/plain": [
       "                                        text vectors  \\\n",
       "0  [-0.07741342707831118, 0.009104698882593798, 0...   \n",
       "1  [-0.10288560861624262, -0.018997420775732545, ...   \n",
       "2  [-0.0669456356892245, -0.023643816085802218, 0...   \n",
       "3  [0.027217537280122918, 0.06741822372676884, 0....   \n",
       "4  [-0.14168974802620438, -0.0182662583636299, -0...   \n",
       "\n",
       "                                       title vectors  \n",
       "0  [-0.10981967396141039, 0.09589167317070307, 0....  \n",
       "1  [0.0029413074567309896, 0.1325308551348102, -0...  \n",
       "2  [-0.07117571241447762, 0.08119260450467572, 0....  \n",
       "3  [0.06424847283112275, 0.0646537771815778, 0.03...  \n",
       "4  [-0.15206502215293005, 0.05999680345805086, -0...  "
      ]
     },
     "execution_count": 151,
     "metadata": {},
     "output_type": "execute_result"
    }
   ],
   "source": [
    "test_sample_vectorized.head()"
   ]
  },
  {
   "cell_type": "code",
   "execution_count": 152,
   "metadata": {},
   "outputs": [
    {
     "data": {
      "text/plain": [
       "(1000, 2)"
      ]
     },
     "execution_count": 152,
     "metadata": {},
     "output_type": "execute_result"
    }
   ],
   "source": [
    "test_sample_vectorized.shape"
   ]
  },
  {
   "cell_type": "code",
   "execution_count": 153,
   "metadata": {},
   "outputs": [],
   "source": [
    "test_sample_vectorized= test_sample_vectorized[test_sample_vectorized['text vectors'] != 'M']\n",
    "test_sample_vectorized = test_sample_vectorized[test_sample_vectorized['title vectors'] != 'M']"
   ]
  },
  {
   "cell_type": "code",
   "execution_count": 154,
   "metadata": {},
   "outputs": [
    {
     "data": {
      "text/plain": [
       "(993, 2)"
      ]
     },
     "execution_count": 154,
     "metadata": {},
     "output_type": "execute_result"
    }
   ],
   "source": [
    "test_sample_vectorized.shape"
   ]
  },
  {
   "cell_type": "code",
   "execution_count": 155,
   "metadata": {},
   "outputs": [],
   "source": [
    "def probability_calculator(text_vector, title_vectors):\n",
    "    probs = []\n",
    "    for each in title_vectors:\n",
    "        resultant_list = list(text_vector) +list(each)\n",
    "        resultant_array = np.array(list(resultant_list))\n",
    "        \n",
    "        array_pca_tr = pca.transform(resultant_array.reshape(1,- 1))\n",
    "        probability = xgb_test.predict_proba(array_pca_tr.reshape(1, -1))[:, 1]\n",
    "        \n",
    "        probs.extend(probability)\n",
    "        \n",
    "    return probs"
   ]
  },
  {
   "cell_type": "code",
   "execution_count": 156,
   "metadata": {},
   "outputs": [],
   "source": [
    "def rank_checker_prob (df, number):\n",
    "    probabilities = probability_calculator(df.iloc[number, 0], df.iloc[:, 1])\n",
    "    series = pd.Series(probabilities, index =df.index)\n",
    "\n",
    "    sorted_df = series.sort_values(ascending=False)\n",
    "    sorted_index = sorted_df.index\n",
    "    \n",
    "    for rank, entry in enumerate(sorted_index):\n",
    "        if entry == df.index[number]:\n",
    "            return rank"
   ]
  },
  {
   "cell_type": "code",
   "execution_count": 157,
   "metadata": {},
   "outputs": [
    {
     "data": {
      "text/plain": [
       "0"
      ]
     },
     "execution_count": 157,
     "metadata": {},
     "output_type": "execute_result"
    }
   ],
   "source": [
    "test_sample_vectorized.index[0]"
   ]
  },
  {
   "cell_type": "code",
   "execution_count": 158,
   "metadata": {},
   "outputs": [
    {
     "data": {
      "text/plain": [
       "Int64Index([  0,   1,   2,   3,   4,   5,   6,   7,   8,   9,\n",
       "            ...\n",
       "            990, 991, 992, 993, 994, 995, 996, 997, 998, 999],\n",
       "           dtype='int64', length=993)"
      ]
     },
     "execution_count": 158,
     "metadata": {},
     "output_type": "execute_result"
    }
   ],
   "source": [
    "test_sample_vectorized.index"
   ]
  },
  {
   "cell_type": "code",
   "execution_count": 159,
   "metadata": {},
   "outputs": [],
   "source": [
    "ranks = []\n",
    "for row in range(len(test_sample_vectorized)):     \n",
    "    rank = rank_checker_prob(test_sample_vectorized, row)\n",
    "    ranks.append(rank)"
   ]
  },
  {
   "cell_type": "code",
   "execution_count": 160,
   "metadata": {},
   "outputs": [
    {
     "data": {
      "image/png": "[encoded data removed]",
      "text/plain": [
       "<Figure size 720x360 with 1 Axes>"
      ]
     },
     "metadata": {
      "needs_background": "light"
     },
     "output_type": "display_data"
    }
   ],
   "source": [
    "plt.figure(figsize=(10, 5))\n",
    "plt.hist([rank for rank in ranks if rank is not None])\n",
    "plt.show()"
   ]
  },
  {
   "cell_type": "code",
   "execution_count": 161,
   "metadata": {},
   "outputs": [
    {
     "data": {
      "text/plain": [
       "8.198388721047332"
      ]
     },
     "execution_count": 161,
     "metadata": {},
     "output_type": "execute_result"
    }
   ],
   "source": [
    "np.mean(ranks)"
   ]
  },
  {
   "cell_type": "code",
   "execution_count": 162,
   "metadata": {},
   "outputs": [],
   "source": [
    "small = []\n",
    "for val in ranks:\n",
    "    if val <=3:\n",
    "        small.append(val)       "
   ]
  },
  {
   "cell_type": "code",
   "execution_count": 163,
   "metadata": {},
   "outputs": [
    {
     "name": "stdout",
     "output_type": "stream",
     "text": [
      "Proportion of the correct titles at a rank equal or lower than three: 0.836\n"
     ]
    }
   ],
   "source": [
    "print('Proportion of the correct titles at a rank equal or lower than three:', len(small) / 1000)"
   ]
  },
  {
   "cell_type": "code",
   "execution_count": 164,
   "metadata": {},
   "outputs": [
    {
     "data": {
      "text/html": [
       "<div>\n",
       "<style scoped>\n",
       "    .dataframe tbody tr th:only-of-type {\n",
       "        vertical-align: middle;\n",
       "    }\n",
       "\n",
       "    .dataframe tbody tr th {\n",
       "        vertical-align: top;\n",
       "    }\n",
       "\n",
       "    .dataframe thead th {\n",
       "        text-align: right;\n",
       "    }\n",
       "</style>\n",
       "<table border=\"1\" class=\"dataframe\">\n",
       "  <thead>\n",
       "    <tr style=\"text-align: right;\">\n",
       "      <th></th>\n",
       "      <th>text vectors</th>\n",
       "      <th>title vectors</th>\n",
       "      <th>pair class</th>\n",
       "    </tr>\n",
       "  </thead>\n",
       "  <tbody>\n",
       "    <tr>\n",
       "      <th>0</th>\n",
       "      <td>[lg, sh7b, от, 819, 00, доставка]</td>\n",
       "      <td>[lg, sh7b]</td>\n",
       "      <td>1</td>\n",
       "    </tr>\n",
       "    <tr>\n",
       "      <th>1</th>\n",
       "      <td>[нужный, перевод, медицинский, документация, к...</td>\n",
       "      <td>[перевод, медицинский, документация]</td>\n",
       "      <td>1</td>\n",
       "    </tr>\n",
       "    <tr>\n",
       "      <th>2</th>\n",
       "      <td>[результат, на, 3, день, зубной, паста, крест,...</td>\n",
       "      <td>[зубной, паста, крест]</td>\n",
       "      <td>1</td>\n",
       "    </tr>\n",
       "    <tr>\n",
       "      <th>3</th>\n",
       "      <td>[массив, бук, и, дуб, древесный, шпон, ciplex,...</td>\n",
       "      <td>[межкомнатный, дверь, из, россия]</td>\n",
       "      <td>1</td>\n",
       "    </tr>\n",
       "    <tr>\n",
       "      <th>4</th>\n",
       "      <td>[купить, Gerat, лента, пробивной, Gerat, 19мм,...</td>\n",
       "      <td>[Gerat, 19мм, 3, 2мм, 30м, 50327]</td>\n",
       "      <td>1</td>\n",
       "    </tr>\n",
       "  </tbody>\n",
       "</table>\n",
       "</div>"
      ],
      "text/plain": [
       "                                        text vectors  \\\n",
       "0                  [lg, sh7b, от, 819, 00, доставка]   \n",
       "1  [нужный, перевод, медицинский, документация, к...   \n",
       "2  [результат, на, 3, день, зубной, паста, крест,...   \n",
       "3  [массив, бук, и, дуб, древесный, шпон, ciplex,...   \n",
       "4  [купить, Gerat, лента, пробивной, Gerat, 19мм,...   \n",
       "\n",
       "                          title vectors  pair class  \n",
       "0                            [lg, sh7b]           1  \n",
       "1  [перевод, медицинский, документация]           1  \n",
       "2                [зубной, паста, крест]           1  \n",
       "3     [межкомнатный, дверь, из, россия]           1  \n",
       "4     [Gerat, 19мм, 3, 2мм, 30м, 50327]           1  "
      ]
     },
     "execution_count": 164,
     "metadata": {},
     "output_type": "execute_result"
    }
   ],
   "source": [
    "training_df_mixed.head()"
   ]
  },
  {
   "cell_type": "code",
   "execution_count": 165,
   "metadata": {},
   "outputs": [
    {
     "data": {
      "text/plain": [
       "0                              [lg, sh7b]\n",
       "1    [перевод, медицинский, документация]\n",
       "2                  [зубной, паста, крест]\n",
       "3       [межкомнатный, дверь, из, россия]\n",
       "4       [Gerat, 19мм, 3, 2мм, 30м, 50327]\n",
       "Name: title vectors, dtype: object"
      ]
     },
     "execution_count": 165,
     "metadata": {},
     "output_type": "execute_result"
    }
   ],
   "source": [
    "training_df_mixed.iloc[:5, 1]"
   ]
  },
  {
   "cell_type": "code",
   "execution_count": 166,
   "metadata": {},
   "outputs": [],
   "source": [
    "merged_trainig_examples = training_df_mixed.iloc[:, 1]+training_df_mixed.iloc[:, 0]"
   ]
  },
  {
   "cell_type": "code",
   "execution_count": 167,
   "metadata": {},
   "outputs": [
    {
     "data": {
      "text/plain": [
       "137074"
      ]
     },
     "execution_count": 167,
     "metadata": {},
     "output_type": "execute_result"
    }
   ],
   "source": [
    "len(merged_trainig_examples)"
   ]
  },
  {
   "cell_type": "code",
   "execution_count": 168,
   "metadata": {},
   "outputs": [],
   "source": [
    "merged_test_examples = test_df_mixed.iloc[:, 1]+test_df_mixed.iloc[:, 0]"
   ]
  },
  {
   "cell_type": "code",
   "execution_count": 169,
   "metadata": {},
   "outputs": [
    {
     "data": {
      "text/plain": [
       "58746"
      ]
     },
     "execution_count": 169,
     "metadata": {},
     "output_type": "execute_result"
    }
   ],
   "source": [
    "len(merged_test_examples)"
   ]
  },
  {
   "cell_type": "code",
   "execution_count": 170,
   "metadata": {},
   "outputs": [
    {
     "data": {
      "text/plain": [
       "30"
      ]
     },
     "execution_count": 170,
     "metadata": {},
     "output_type": "execute_result"
    }
   ],
   "source": [
    "max([len(x) for x in merged_trainig_examples])"
   ]
  },
  {
   "cell_type": "code",
   "execution_count": 171,
   "metadata": {},
   "outputs": [
    {
     "data": {
      "text/plain": [
       "29"
      ]
     },
     "execution_count": 171,
     "metadata": {},
     "output_type": "execute_result"
    }
   ],
   "source": [
    "max([len(x) for x in merged_test_examples])"
   ]
  },
  {
   "cell_type": "code",
   "execution_count": 358,
   "metadata": {},
   "outputs": [],
   "source": [
    "training_df_mixed['concatenated_text_title'] = training_df_mixed['text vectors'] + training_df_mixed['title vectors']"
   ]
  },
  {
   "cell_type": "code",
   "execution_count": 359,
   "metadata": {},
   "outputs": [],
   "source": [
    "test_df_mixed['concatenated_text_title'] = test_df_mixed['text vectors'] + test_df_mixed['title vectors']"
   ]
  },
  {
   "cell_type": "code",
   "execution_count": 360,
   "metadata": {},
   "outputs": [],
   "source": [
    "from keras.preprocessing.text import Tokenizer\n",
    "\n",
    "tokenizer = Tokenizer()\n",
    "tokenizer.fit_on_texts(training_df_mixed['concatenated_text_title'])\n",
    "total_words = len(tokenizer.word_index)+1\n",
    "\n",
    "def tokenization(texts):\n",
    "    \n",
    "    input_sequences = []\n",
    "    for ad in texts:\n",
    "        token_list = tokenizer.texts_to_sequences([ad])\n",
    "        input_sequences.append(token_list)\n",
    "            \n",
    "    return input_sequences"
   ]
  },
  {
   "cell_type": "code",
   "execution_count": 361,
   "metadata": {},
   "outputs": [
    {
     "data": {
      "text/plain": [
       "71515"
      ]
     },
     "execution_count": 361,
     "metadata": {},
     "output_type": "execute_result"
    }
   ],
   "source": [
    "total_words"
   ]
  },
  {
   "cell_type": "code",
   "execution_count": 362,
   "metadata": {},
   "outputs": [
    {
     "data": {
      "text/plain": [
       "137074"
      ]
     },
     "execution_count": 362,
     "metadata": {},
     "output_type": "execute_result"
    }
   ],
   "source": [
    "len(input_sequences)"
   ]
  },
  {
   "cell_type": "code",
   "execution_count": 364,
   "metadata": {},
   "outputs": [],
   "source": [
    "input_sequences_test= generate_inputs(test_df_mixed['concatenated_text_title'])"
   ]
  },
  {
   "cell_type": "code",
   "execution_count": 365,
   "metadata": {},
   "outputs": [
    {
     "data": {
      "text/plain": [
       "58746"
      ]
     },
     "execution_count": 365,
     "metadata": {},
     "output_type": "execute_result"
    }
   ],
   "source": [
    "len(input_sequences_test)"
   ]
  },
  {
   "cell_type": "code",
   "execution_count": 366,
   "metadata": {},
   "outputs": [
    {
     "data": {
      "text/plain": [
       "0    [электрочайник, Zigmund, Shtain, KE, 81, SD, 1...\n",
       "1    [сабвуфер, огромный, ассортимент, бесплатный, ...\n",
       "2    [Onkyo, Tx, nr545, Black, в, наличие, быстрый,...\n",
       "3    [шаблон, ордер, входить, в, состав, сборник, 1...\n",
       "4    [шпаклевка, финишный, белый, сравнивать, цена,...\n",
       "Name: concatenated_text_title, dtype: object"
      ]
     },
     "execution_count": 366,
     "metadata": {},
     "output_type": "execute_result"
    }
   ],
   "source": [
    "test_df_mixed['concatenated_text_title'].head()"
   ]
  },
  {
   "cell_type": "code",
   "execution_count": 367,
   "metadata": {},
   "outputs": [
    {
     "data": {
      "text/plain": [
       "['нужный',\n",
       " 'перевод',\n",
       " 'медицинский',\n",
       " 'документация',\n",
       " 'качество',\n",
       " 'и',\n",
       " 'скорость',\n",
       " 'звонить',\n",
       " 'сейчас',\n",
       " 'перевод',\n",
       " 'медицинский',\n",
       " 'документация']"
      ]
     },
     "execution_count": 367,
     "metadata": {},
     "output_type": "execute_result"
    }
   ],
   "source": [
    "training_df_mixed['concatenated_text_title'][1]"
   ]
  },
  {
   "cell_type": "code",
   "execution_count": 372,
   "metadata": {},
   "outputs": [],
   "source": [
    "import keras.utils as ku \n",
    "from keras.preprocessing.sequence import pad_sequences\n",
    "\n",
    "max_sequence_len = max([len(entry) for entry in input_sequences])\n",
    "\n",
    "def generate_padded_sequences(input_sequences):\n",
    "    input_sequences_copy = np.array(pad_sequences(input_sequences, \n",
    "                                                  maxlen=max_sequence_len,\n",
    "                                                  padding = 'post'))\n",
    "    return input_sequences_copy"
   ]
  },
  {
   "cell_type": "code",
   "execution_count": 369,
   "metadata": {},
   "outputs": [],
   "source": [
    "padded_sequences_test = generate_padded_sequences(input_sequences_test)"
   ]
  },
  {
   "cell_type": "code",
   "execution_count": 370,
   "metadata": {},
   "outputs": [
    {
     "data": {
      "text/plain": [
       "137074"
      ]
     },
     "execution_count": 370,
     "metadata": {},
     "output_type": "execute_result"
    }
   ],
   "source": [
    "len(padded_sequences)"
   ]
  },
  {
   "cell_type": "code",
   "execution_count": 371,
   "metadata": {},
   "outputs": [
    {
     "data": {
      "text/plain": [
       "array([1436,  178,  319,   52,    7, 1436,    2,    3,  133,    0,    0,\n",
       "          0,    0,    0,    0,    0,    0,    0,    0,    0,    0,    0,\n",
       "          0,    0,    0,    0,    0,    0,    0,    0], dtype=int32)"
      ]
     },
     "execution_count": 371,
     "metadata": {},
     "output_type": "execute_result"
    }
   ],
   "source": [
    "padded_sequences_test[1]"
   ]
  },
  {
   "cell_type": "code",
   "execution_count": 373,
   "metadata": {},
   "outputs": [],
   "source": [
    "padded_sequences = generate_padded_sequences(input_sequences)"
   ]
  },
  {
   "cell_type": "code",
   "execution_count": 374,
   "metadata": {},
   "outputs": [],
   "source": [
    "import keras\n",
    "from keras.utils import to_categorical\n",
    "y_reshaped_tr = ku.to_categorical(training_df_mixed['pair class'], 2)\n",
    "y_reshaped_test = ku.to_categorical(test_df_mixed['pair class'], 2)"
   ]
  },
  {
   "cell_type": "code",
   "execution_count": 375,
   "metadata": {},
   "outputs": [
    {
     "data": {
      "text/plain": [
       "30"
      ]
     },
     "execution_count": 375,
     "metadata": {},
     "output_type": "execute_result"
    }
   ],
   "source": [
    "len(padded_sequences[0])"
   ]
  },
  {
   "cell_type": "code",
   "execution_count": 376,
   "metadata": {},
   "outputs": [
    {
     "data": {
      "text/plain": [
       "30"
      ]
     },
     "execution_count": 376,
     "metadata": {},
     "output_type": "execute_result"
    }
   ],
   "source": [
    "len(padded_sequences_test[0])"
   ]
  },
  {
   "cell_type": "code",
   "execution_count": 377,
   "metadata": {},
   "outputs": [],
   "source": [
    "padded_sequences_resh = padded_sequences.reshape(137074, 30, 1)"
   ]
  },
  {
   "cell_type": "code",
   "execution_count": 378,
   "metadata": {},
   "outputs": [
    {
     "data": {
      "text/plain": [
       "(58746, 30)"
      ]
     },
     "execution_count": 378,
     "metadata": {},
     "output_type": "execute_result"
    }
   ],
   "source": [
    "padded_sequences_test.shape"
   ]
  },
  {
   "cell_type": "code",
   "execution_count": 379,
   "metadata": {},
   "outputs": [
    {
     "data": {
      "text/plain": [
       "(58746, 30)"
      ]
     },
     "execution_count": 379,
     "metadata": {},
     "output_type": "execute_result"
    }
   ],
   "source": [
    "padded_sequences_test.shape"
   ]
  },
  {
   "cell_type": "code",
   "execution_count": 380,
   "metadata": {},
   "outputs": [],
   "source": [
    "padded_sequences_test_resh = padded_sequences_test.reshape(58746, 30, 1)"
   ]
  },
  {
   "cell_type": "code",
   "execution_count": 385,
   "metadata": {},
   "outputs": [
    {
     "data": {
      "text/plain": [
       "(58746, 30, 1)"
      ]
     },
     "execution_count": 385,
     "metadata": {},
     "output_type": "execute_result"
    }
   ],
   "source": [
    "padded_sequences_test_resh.shape"
   ]
  },
  {
   "cell_type": "code",
   "execution_count": 386,
   "metadata": {},
   "outputs": [
    {
     "data": {
      "text/plain": [
       "array([   45, 30151,     9,  5859,    24,     7,    45, 30151,     0,\n",
       "           0,     0,     0,     0,     0,     0,     0,     0,     0,\n",
       "           0,     0,     0,     0,     0,     0,     0,     0,     0,\n",
       "           0,     0,     0], dtype=int32)"
      ]
     },
     "execution_count": 386,
     "metadata": {},
     "output_type": "execute_result"
    }
   ],
   "source": [
    "padded_sequences[0]"
   ]
  },
  {
   "cell_type": "code",
   "execution_count": 403,
   "metadata": {},
   "outputs": [
    {
     "data": {
      "text/plain": [
       "array([[443],\n",
       "       [141],\n",
       "       [  9],\n",
       "       [ 67],\n",
       "       [  3],\n",
       "       [184],\n",
       "       [ 26],\n",
       "       [  1],\n",
       "       [443],\n",
       "       [141],\n",
       "       [  0],\n",
       "       [  0],\n",
       "       [  0],\n",
       "       [  0],\n",
       "       [  0],\n",
       "       [  0],\n",
       "       [  0],\n",
       "       [  0],\n",
       "       [  0],\n",
       "       [  0],\n",
       "       [  0],\n",
       "       [  0],\n",
       "       [  0],\n",
       "       [  0],\n",
       "       [  0],\n",
       "       [  0],\n",
       "       [  0],\n",
       "       [  0],\n",
       "       [  0],\n",
       "       [  0]], dtype=int32)"
      ]
     },
     "execution_count": 403,
     "metadata": {},
     "output_type": "execute_result"
    }
   ],
   "source": [
    "padded_sequences_resh[100]"
   ]
  },
  {
   "cell_type": "code",
   "execution_count": 401,
   "metadata": {},
   "outputs": [
    {
     "name": "stdout",
     "output_type": "stream",
     "text": [
      "Train on 137074 samples, validate on 58746 samples\n",
      "Epoch 1/10\n",
      "137074/137074 [==============================] - 80s 586us/step - loss: 0.7003 - acc: 0.5162 - val_loss: 0.7309 - val_acc: 0.5234\n",
      "Epoch 2/10\n",
      "137074/137074 [==============================] - 82s 596us/step - loss: 0.6926 - acc: 0.5176 - val_loss: 0.6965 - val_acc: 0.5072\n",
      "Epoch 3/10\n",
      "137074/137074 [==============================] - 82s 597us/step - loss: 0.6981 - acc: 0.5036 - val_loss: 0.6938 - val_acc: 0.5000\n",
      "Epoch 4/10\n",
      "137074/137074 [==============================] - 82s 601us/step - loss: 0.6979 - acc: 0.4993 - val_loss: 0.6956 - val_acc: 0.5000\n",
      "Epoch 5/10\n",
      "137074/137074 [==============================] - 83s 603us/step - loss: 0.6982 - acc: 0.5019 - val_loss: 0.6983 - val_acc: 0.5000\n",
      "Epoch 6/10\n",
      "137074/137074 [==============================] - 83s 605us/step - loss: 0.6981 - acc: 0.4972 - val_loss: 0.6942 - val_acc: 0.5000\n",
      "Epoch 7/10\n",
      " 23776/137074 [====>.........................] - ETA: 1:01 - loss: 0.6976 - acc: 0.5039"
     ]
    },
    {
     "ename": "KeyboardInterrupt",
     "evalue": "",
     "output_type": "error",
     "traceback": [
      "\u001b[0;31m---------------------------------------------------------------------------\u001b[0m",
      "\u001b[0;31mKeyboardInterrupt\u001b[0m                         Traceback (most recent call last)",
      "\u001b[0;32m<ipython-input-401-943d9f0d3551>\u001b[0m in \u001b[0;36m<module>\u001b[0;34m()\u001b[0m\n\u001b[1;32m     10\u001b[0m \u001b[0mmodel_rnn\u001b[0m\u001b[0;34m.\u001b[0m\u001b[0mcompile\u001b[0m\u001b[0;34m(\u001b[0m\u001b[0mloss\u001b[0m\u001b[0;34m=\u001b[0m\u001b[0;34m'categorical_crossentropy'\u001b[0m\u001b[0;34m,\u001b[0m \u001b[0moptimizer\u001b[0m\u001b[0;34m=\u001b[0m\u001b[0;34m'adam'\u001b[0m\u001b[0;34m,\u001b[0m \u001b[0mmetrics\u001b[0m \u001b[0;34m=\u001b[0m \u001b[0;34m[\u001b[0m\u001b[0;34m'accuracy'\u001b[0m\u001b[0;34m]\u001b[0m\u001b[0;34m)\u001b[0m\u001b[0;34m\u001b[0m\u001b[0m\n\u001b[1;32m     11\u001b[0m \u001b[0;34m\u001b[0m\u001b[0m\n\u001b[0;32m---> 12\u001b[0;31m \u001b[0mmodel_rnn\u001b[0m\u001b[0;34m.\u001b[0m\u001b[0mfit\u001b[0m\u001b[0;34m(\u001b[0m\u001b[0mpadded_sequences_resh\u001b[0m\u001b[0;34m,\u001b[0m \u001b[0my_reshaped_tr\u001b[0m\u001b[0;34m,\u001b[0m \u001b[0mepochs\u001b[0m\u001b[0;34m=\u001b[0m\u001b[0;36m10\u001b[0m\u001b[0;34m,\u001b[0m \u001b[0mverbose\u001b[0m \u001b[0;34m=\u001b[0m \u001b[0;36m1\u001b[0m\u001b[0;34m,\u001b[0m \u001b[0mvalidation_data\u001b[0m \u001b[0;34m=\u001b[0m \u001b[0;34m(\u001b[0m\u001b[0mpadded_sequences_test_resh\u001b[0m\u001b[0;34m,\u001b[0m \u001b[0my_reshaped_test\u001b[0m\u001b[0;34m)\u001b[0m\u001b[0;34m)\u001b[0m\u001b[0;34m\u001b[0m\u001b[0m\n\u001b[0m",
      "\u001b[0;32m/usr/local/lib/python3.6/site-packages/keras/engine/training.py\u001b[0m in \u001b[0;36mfit\u001b[0;34m(self, x, y, batch_size, epochs, verbose, callbacks, validation_split, validation_data, shuffle, class_weight, sample_weight, initial_epoch, steps_per_epoch, validation_steps, **kwargs)\u001b[0m\n\u001b[1;32m   1035\u001b[0m                                         \u001b[0minitial_epoch\u001b[0m\u001b[0;34m=\u001b[0m\u001b[0minitial_epoch\u001b[0m\u001b[0;34m,\u001b[0m\u001b[0;34m\u001b[0m\u001b[0m\n\u001b[1;32m   1036\u001b[0m                                         \u001b[0msteps_per_epoch\u001b[0m\u001b[0;34m=\u001b[0m\u001b[0msteps_per_epoch\u001b[0m\u001b[0;34m,\u001b[0m\u001b[0;34m\u001b[0m\u001b[0m\n\u001b[0;32m-> 1037\u001b[0;31m                                         validation_steps=validation_steps)\n\u001b[0m\u001b[1;32m   1038\u001b[0m \u001b[0;34m\u001b[0m\u001b[0m\n\u001b[1;32m   1039\u001b[0m     def evaluate(self, x=None, y=None,\n",
      "\u001b[0;32m/usr/local/lib/python3.6/site-packages/keras/engine/training_arrays.py\u001b[0m in \u001b[0;36mfit_loop\u001b[0;34m(model, f, ins, out_labels, batch_size, epochs, verbose, callbacks, val_f, val_ins, shuffle, callback_metrics, initial_epoch, steps_per_epoch, validation_steps)\u001b[0m\n\u001b[1;32m    197\u001b[0m                     \u001b[0mins_batch\u001b[0m\u001b[0;34m[\u001b[0m\u001b[0mi\u001b[0m\u001b[0;34m]\u001b[0m \u001b[0;34m=\u001b[0m \u001b[0mins_batch\u001b[0m\u001b[0;34m[\u001b[0m\u001b[0mi\u001b[0m\u001b[0;34m]\u001b[0m\u001b[0;34m.\u001b[0m\u001b[0mtoarray\u001b[0m\u001b[0;34m(\u001b[0m\u001b[0;34m)\u001b[0m\u001b[0;34m\u001b[0m\u001b[0m\n\u001b[1;32m    198\u001b[0m \u001b[0;34m\u001b[0m\u001b[0m\n\u001b[0;32m--> 199\u001b[0;31m                 \u001b[0mouts\u001b[0m \u001b[0;34m=\u001b[0m \u001b[0mf\u001b[0m\u001b[0;34m(\u001b[0m\u001b[0mins_batch\u001b[0m\u001b[0;34m)\u001b[0m\u001b[0;34m\u001b[0m\u001b[0m\n\u001b[0m\u001b[1;32m    200\u001b[0m                 \u001b[0mouts\u001b[0m \u001b[0;34m=\u001b[0m \u001b[0mto_list\u001b[0m\u001b[0;34m(\u001b[0m\u001b[0mouts\u001b[0m\u001b[0;34m)\u001b[0m\u001b[0;34m\u001b[0m\u001b[0m\n\u001b[1;32m    201\u001b[0m                 \u001b[0;32mfor\u001b[0m \u001b[0ml\u001b[0m\u001b[0;34m,\u001b[0m \u001b[0mo\u001b[0m \u001b[0;32min\u001b[0m \u001b[0mzip\u001b[0m\u001b[0;34m(\u001b[0m\u001b[0mout_labels\u001b[0m\u001b[0;34m,\u001b[0m \u001b[0mouts\u001b[0m\u001b[0;34m)\u001b[0m\u001b[0;34m:\u001b[0m\u001b[0;34m\u001b[0m\u001b[0m\n",
      "\u001b[0;32m/usr/local/lib/python3.6/site-packages/keras/backend/tensorflow_backend.py\u001b[0m in \u001b[0;36m__call__\u001b[0;34m(self, inputs)\u001b[0m\n\u001b[1;32m   2664\u001b[0m                 \u001b[0;32mreturn\u001b[0m \u001b[0mself\u001b[0m\u001b[0;34m.\u001b[0m\u001b[0m_legacy_call\u001b[0m\u001b[0;34m(\u001b[0m\u001b[0minputs\u001b[0m\u001b[0;34m)\u001b[0m\u001b[0;34m\u001b[0m\u001b[0m\n\u001b[1;32m   2665\u001b[0m \u001b[0;34m\u001b[0m\u001b[0m\n\u001b[0;32m-> 2666\u001b[0;31m             \u001b[0;32mreturn\u001b[0m \u001b[0mself\u001b[0m\u001b[0;34m.\u001b[0m\u001b[0m_call\u001b[0m\u001b[0;34m(\u001b[0m\u001b[0minputs\u001b[0m\u001b[0;34m)\u001b[0m\u001b[0;34m\u001b[0m\u001b[0m\n\u001b[0m\u001b[1;32m   2667\u001b[0m         \u001b[0;32melse\u001b[0m\u001b[0;34m:\u001b[0m\u001b[0;34m\u001b[0m\u001b[0m\n\u001b[1;32m   2668\u001b[0m             \u001b[0;32mif\u001b[0m \u001b[0mpy_any\u001b[0m\u001b[0;34m(\u001b[0m\u001b[0mis_tensor\u001b[0m\u001b[0;34m(\u001b[0m\u001b[0mx\u001b[0m\u001b[0;34m)\u001b[0m \u001b[0;32mfor\u001b[0m \u001b[0mx\u001b[0m \u001b[0;32min\u001b[0m \u001b[0minputs\u001b[0m\u001b[0;34m)\u001b[0m\u001b[0;34m:\u001b[0m\u001b[0;34m\u001b[0m\u001b[0m\n",
      "\u001b[0;32m/usr/local/lib/python3.6/site-packages/keras/backend/tensorflow_backend.py\u001b[0m in \u001b[0;36m_call\u001b[0;34m(self, inputs)\u001b[0m\n\u001b[1;32m   2634\u001b[0m                                 \u001b[0msymbol_vals\u001b[0m\u001b[0;34m,\u001b[0m\u001b[0;34m\u001b[0m\u001b[0m\n\u001b[1;32m   2635\u001b[0m                                 session)\n\u001b[0;32m-> 2636\u001b[0;31m         \u001b[0mfetched\u001b[0m \u001b[0;34m=\u001b[0m \u001b[0mself\u001b[0m\u001b[0;34m.\u001b[0m\u001b[0m_callable_fn\u001b[0m\u001b[0;34m(\u001b[0m\u001b[0;34m*\u001b[0m\u001b[0marray_vals\u001b[0m\u001b[0;34m)\u001b[0m\u001b[0;34m\u001b[0m\u001b[0m\n\u001b[0m\u001b[1;32m   2637\u001b[0m         \u001b[0;32mreturn\u001b[0m \u001b[0mfetched\u001b[0m\u001b[0;34m[\u001b[0m\u001b[0;34m:\u001b[0m\u001b[0mlen\u001b[0m\u001b[0;34m(\u001b[0m\u001b[0mself\u001b[0m\u001b[0;34m.\u001b[0m\u001b[0moutputs\u001b[0m\u001b[0;34m)\u001b[0m\u001b[0;34m]\u001b[0m\u001b[0;34m\u001b[0m\u001b[0m\n\u001b[1;32m   2638\u001b[0m \u001b[0;34m\u001b[0m\u001b[0m\n",
      "\u001b[0;32m/usr/local/lib/python3.6/site-packages/tensorflow/python/client/session.py\u001b[0m in \u001b[0;36m__call__\u001b[0;34m(self, *args, **kwargs)\u001b[0m\n\u001b[1;32m   1380\u001b[0m           ret = tf_session.TF_SessionRunCallable(\n\u001b[1;32m   1381\u001b[0m               \u001b[0mself\u001b[0m\u001b[0;34m.\u001b[0m\u001b[0m_session\u001b[0m\u001b[0;34m.\u001b[0m\u001b[0m_session\u001b[0m\u001b[0;34m,\u001b[0m \u001b[0mself\u001b[0m\u001b[0;34m.\u001b[0m\u001b[0m_handle\u001b[0m\u001b[0;34m,\u001b[0m \u001b[0margs\u001b[0m\u001b[0;34m,\u001b[0m \u001b[0mstatus\u001b[0m\u001b[0;34m,\u001b[0m\u001b[0;34m\u001b[0m\u001b[0m\n\u001b[0;32m-> 1382\u001b[0;31m               run_metadata_ptr)\n\u001b[0m\u001b[1;32m   1383\u001b[0m         \u001b[0;32mif\u001b[0m \u001b[0mrun_metadata\u001b[0m\u001b[0;34m:\u001b[0m\u001b[0;34m\u001b[0m\u001b[0m\n\u001b[1;32m   1384\u001b[0m           \u001b[0mproto_data\u001b[0m \u001b[0;34m=\u001b[0m \u001b[0mtf_session\u001b[0m\u001b[0;34m.\u001b[0m\u001b[0mTF_GetBuffer\u001b[0m\u001b[0;34m(\u001b[0m\u001b[0mrun_metadata_ptr\u001b[0m\u001b[0;34m)\u001b[0m\u001b[0;34m\u001b[0m\u001b[0m\n",
      "\u001b[0;31mKeyboardInterrupt\u001b[0m: "
     ]
    }
   ],
   "source": [
    "from keras.models import Sequential\n",
    "from keras.layers import SimpleRNN, Dense, Dropout, Embedding\n",
    "\n",
    "model_rnn = Sequential()\n",
    "model_rnn.add(SimpleRNN(100, input_shape=(30, 1), activation = 'relu'))\n",
    "\n",
    "model_rnn.add(Dense(2, activation='softmax'))\n",
    "#model_rnn.add(Dropout(0.2))\n",
    "#model.add(LSTM(400))\n",
    "model_rnn.compile(loss='categorical_crossentropy', optimizer='adam', metrics = ['accuracy'])\n",
    "\n",
    "model_rnn.fit(padded_sequences_resh, y_reshaped_tr, epochs=10, verbose = 1, validation_data = (padded_sequences_test_resh, y_reshaped_test))"
   ]
  },
  {
   "cell_type": "code",
   "execution_count": 405,
   "metadata": {},
   "outputs": [],
   "source": [
    "word_vectors = model.wv"
   ]
  },
  {
   "cell_type": "code",
   "execution_count": 406,
   "metadata": {},
   "outputs": [
    {
     "name": "stdout",
     "output_type": "stream",
     "text": [
      "Number of word vectors: 21000\n"
     ]
    }
   ],
   "source": [
    "print(\"Number of word vectors: {}\".format(len(word_vectors.vocab)))"
   ]
  },
  {
   "cell_type": "code",
   "execution_count": 408,
   "metadata": {},
   "outputs": [
    {
     "data": {
      "text/plain": [
       "[('настройка', 0.7556005716323853),\n",
       " ('Multitronics', 0.7483257055282593),\n",
       " ('изучать', 0.7379061579704285),\n",
       " ('чистка', 0.7377749681472778),\n",
       " ('пк', 0.7289078831672668),\n",
       " ('Deepcool', 0.7288321256637573),\n",
       " ('обслуживание', 0.7271099090576172),\n",
       " ('починять', 0.7255391478538513),\n",
       " ('компьютерный', 0.7254411578178406),\n",
       " ('администратор', 0.7243830561637878)]"
      ]
     },
     "execution_count": 408,
     "metadata": {},
     "output_type": "execute_result"
    }
   ],
   "source": [
    "model.wv.most_similar_cosmul(positive=['компьютер']) #negative=['man'])"
   ]
  },
  {
   "cell_type": "code",
   "execution_count": 409,
   "metadata": {},
   "outputs": [],
   "source": [
    "MAX_NB_WORDS = len(word_vectors.vocab)\n",
    "MAX_SEQUENCE_LENGTH = 30"
   ]
  },
  {
   "cell_type": "code",
   "execution_count": 422,
   "metadata": {},
   "outputs": [],
   "source": [
    "from collections import Counter\n",
    "vocab=Counter()\n",
    "\n",
    "for entry in training_df_mixed['concatenated_text_title']:\n",
    "    vocab.update(entry)"
   ]
  },
  {
   "cell_type": "code",
   "execution_count": 423,
   "metadata": {},
   "outputs": [
    {
     "data": {
      "text/plain": [
       "[('цена', 48732),\n",
       " ('купить', 40943),\n",
       " ('в', 37718),\n",
       " ('магазин', 27274),\n",
       " ('весь', 26879),\n",
       " ('интернет', 25764),\n",
       " ('доставка', 25010),\n",
       " ('сравнивать', 22934),\n",
       " ('от', 22185),\n",
       " ('гарантия', 21598),\n",
       " ('для', 20917),\n",
       " ('р', 18634),\n",
       " ('%', 18626),\n",
       " ('на', 18125),\n",
       " ('руб', 15672),\n",
       " ('100', 14091),\n",
       " ('и', 13066),\n",
       " ('по', 12769),\n",
       " ('звонить', 10626),\n",
       " ('с', 10149),\n",
       " ('недорого', 9973),\n",
       " ('за', 9855),\n",
       " ('скидка', 9501),\n",
       " ('00', 9088),\n",
       " ('жать', 8882),\n",
       " ('низкий', 7841),\n",
       " ('наличие', 6990),\n",
       " ('1', 6968),\n",
       " ('3', 6461),\n",
       " ('день', 5711),\n",
       " ('онлайн', 5359),\n",
       " ('покупать', 5089),\n",
       " ('2', 4864),\n",
       " ('москва', 4612),\n",
       " ('выбор', 4599),\n",
       " ('акция', 4293),\n",
       " ('Bosch', 4099),\n",
       " ('заказывать', 4040),\n",
       " ('HP', 3841),\n",
       " ('5', 3839),\n",
       " ('год', 3795),\n",
       " ('большой', 3467),\n",
       " ('до', 3460),\n",
       " ('из', 3298),\n",
       " ('Samsung', 3245),\n",
       " ('быстрый', 3141),\n",
       " ('без', 3127),\n",
       " ('220', 3099),\n",
       " ('10', 3016),\n",
       " ('бесплатный', 2960),\n",
       " ('чехол', 2941),\n",
       " ('рф', 2938),\n",
       " ('LG', 2903),\n",
       " ('у', 2893),\n",
       " ('машина', 2829),\n",
       " ('20', 2797),\n",
       " ('НДФЛ', 2728),\n",
       " ('дом', 2722),\n",
       " ('вольт', 2705),\n",
       " ('шкаф', 2703),\n",
       " ('30', 2688),\n",
       " ('дверь', 2657),\n",
       " ('сайт', 2644),\n",
       " ('Philips', 2567),\n",
       " ('производитель', 2545),\n",
       " ('ремонт', 2533),\n",
       " ('заказ', 2439),\n",
       " ('гостиница', 2389),\n",
       " ('квартира', 2385),\n",
       " ('Lenovo', 2377),\n",
       " ('сейчас', 2366),\n",
       " ('ноутбук', 2366),\n",
       " ('000', 2356),\n",
       " ('7', 2346),\n",
       " ('15', 2322),\n",
       " ('3D', 2311),\n",
       " ('подарок', 2287),\n",
       " ('бесплатно', 2285),\n",
       " ('продажа', 2243),\n",
       " ('монитор', 2123),\n",
       " ('любой', 2121),\n",
       " ('4', 2118),\n",
       " ('телевизор', 2087),\n",
       " ('здесь', 2073),\n",
       " ('6', 2068),\n",
       " ('всего', 2052),\n",
       " ('под', 2048),\n",
       " ('быть', 2045),\n",
       " ('1С', 2034),\n",
       " ('мы', 2030),\n",
       " ('50', 2028),\n",
       " ('дешево', 2017),\n",
       " ('печать', 2000),\n",
       " ('выгодный', 1993),\n",
       " ('8', 1989),\n",
       " ('опыт', 1965),\n",
       " ('тур', 1932),\n",
       " ('оформлять', 1925),\n",
       " ('отель', 1924),\n",
       " ('распродажа', 1860),\n",
       " ('панель', 1857),\n",
       " ('холодильник', 1842),\n",
       " ('детский', 1841),\n",
       " ('картридж', 1830),\n",
       " ('качество', 1815),\n",
       " ('шина', 1767),\n",
       " ('час', 1766),\n",
       " ('номер', 1757),\n",
       " ('телефон', 1747),\n",
       " ('заходить', 1710),\n",
       " ('электрический', 1709),\n",
       " ('фото', 1683),\n",
       " ('новый', 1679),\n",
       " ('отзыв', 1648),\n",
       " ('печь', 1642),\n",
       " ('мебель', 1642),\n",
       " ('24', 1640),\n",
       " ('0', 1611),\n",
       " ('россия', 1590),\n",
       " ('Sony', 1562),\n",
       " ('перевозка', 1562),\n",
       " ('Black', 1562),\n",
       " ('спешить', 1554),\n",
       " ('оригинал', 1546),\n",
       " ('сегодня', 1542),\n",
       " ('Canon', 1532),\n",
       " ('12', 1516),\n",
       " ('принтер', 1511),\n",
       " ('красноярск', 1504),\n",
       " ('установка', 1492),\n",
       " ('смартфон', 1488),\n",
       " ('доставлять', 1485),\n",
       " ('опт', 1476),\n",
       " ('работа', 1461),\n",
       " ('только', 1459),\n",
       " ('35', 1458),\n",
       " ('купе', 1454),\n",
       " ('рубль', 1449),\n",
       " ('б', 1449),\n",
       " ('контакт', 1441),\n",
       " ('пылесос', 1423),\n",
       " ('Makita', 1421),\n",
       " ('быстро', 1421),\n",
       " ('2016', 1408),\n",
       " ('лечение', 1389),\n",
       " ('окно', 1381),\n",
       " ('со', 1370),\n",
       " ('налог', 1366),\n",
       " ('аренда', 1363),\n",
       " ('система', 1358),\n",
       " ('кондиционер', 1358),\n",
       " ('дрель', 1358),\n",
       " ('женский', 1334),\n",
       " ('товар', 1327),\n",
       " ('выбирать', 1325),\n",
       " ('тут', 1322),\n",
       " ('качественный', 1314),\n",
       " ('официальный', 1310),\n",
       " ('40', 1305),\n",
       " ('доступный', 1271),\n",
       " ('Panasonic', 1271),\n",
       " ('Gorenje', 1270),\n",
       " ('аккумулятор', 1246),\n",
       " ('ru', 1244),\n",
       " ('авто', 1242),\n",
       " ('все', 1241),\n",
       " ('диск', 1236),\n",
       " ('стиральный', 1232),\n",
       " ('16', 1231),\n",
       " ('центр', 1226),\n",
       " ('ключ', 1221),\n",
       " ('двигатель', 1210),\n",
       " ('Electrolux', 1187),\n",
       " ('огромный', 1185),\n",
       " ('часы', 1184),\n",
       " ('газовый', 1178),\n",
       " ('варочный', 1177),\n",
       " ('набор', 1172),\n",
       " ('стоимость', 1166),\n",
       " ('ASUS', 1158),\n",
       " ('1с', 1154),\n",
       " ('краснодар', 1154),\n",
       " ('белый', 1131),\n",
       " ('спб', 1127),\n",
       " ('60', 1119),\n",
       " ('выезд', 1091),\n",
       " ('90', 1086),\n",
       " ('монтаж', 1080),\n",
       " ('Intel', 1078),\n",
       " ('узнавать', 1073),\n",
       " ('вычет', 1058),\n",
       " ('шуруповерт', 1054),\n",
       " ('чайник', 1051),\n",
       " ('черный', 1046),\n",
       " ('корпус', 1045),\n",
       " ('900', 1040),\n",
       " ('грузоперевозка', 1036),\n",
       " ('выгодно', 1027),\n",
       " ('плита', 1025),\n",
       " ('80', 1025),\n",
       " ('сумка', 1022),\n",
       " ('завтрак', 1015),\n",
       " ('14', 1013),\n",
       " ('хороший', 1012),\n",
       " ('25', 1008),\n",
       " ('Wi', 1007),\n",
       " ('адрес', 1006),\n",
       " ('котел', 1000),\n",
       " ('м', 998),\n",
       " ('клиника', 994),\n",
       " ('модель', 993),\n",
       " ('услуга', 991),\n",
       " ('Acer', 991),\n",
       " ('ручка', 983),\n",
       " ('рассрочка', 975),\n",
       " ('Supra', 975),\n",
       " ('Pro', 969),\n",
       " ('70', 967),\n",
       " ('супер', 959),\n",
       " ('недорогой', 959),\n",
       " ('карта', 959),\n",
       " ('18', 958),\n",
       " ('123', 956),\n",
       " ('00р', 955),\n",
       " ('склад', 941),\n",
       " ('компания', 933),\n",
       " ('Fi', 932),\n",
       " ('каталог', 921),\n",
       " ('ребенок', 919),\n",
       " ('размер', 917),\n",
       " ('высокий', 910),\n",
       " ('запчасть', 908),\n",
       " ('как', 908),\n",
       " ('Scarlett', 905),\n",
       " ('возврат', 904),\n",
       " ('мужской', 903),\n",
       " ('пила', 901),\n",
       " ('лазерный', 900),\n",
       " ('500', 899),\n",
       " ('баня', 897),\n",
       " ('дизайн', 894),\n",
       " ('такси', 890),\n",
       " ('вы', 890),\n",
       " ('минск', 889),\n",
       " ('к', 880),\n",
       " ('нужный', 879),\n",
       " ('стол', 879),\n",
       " ('пластиковый', 876),\n",
       " ('SC', 873),\n",
       " ('Xerox', 868),\n",
       " ('производство', 858),\n",
       " ('наушник', 853),\n",
       " ('не', 847),\n",
       " ('ваш', 843),\n",
       " ('перфоратор', 842),\n",
       " ('искать', 841),\n",
       " ('Asus', 834),\n",
       " ('кухонный', 832),\n",
       " ('при', 825),\n",
       " ('одежда', 823),\n",
       " ('11', 821),\n",
       " ('S', 819),\n",
       " ('первый', 816),\n",
       " ('успевать', 816),\n",
       " ('мини', 815),\n",
       " ('оплата', 814),\n",
       " ('Mystery', 812),\n",
       " ('D', 811),\n",
       " ('качественно', 807),\n",
       " ('налоговый', 805),\n",
       " ('замена', 804),\n",
       " ('консультация', 802),\n",
       " ('сделать', 799),\n",
       " ('заявка', 798),\n",
       " ('400', 792),\n",
       " ('вопрос', 787),\n",
       " ('17', 781),\n",
       " ('обувь', 780),\n",
       " ('коляска', 775),\n",
       " ('наш', 774),\n",
       " ('45', 773),\n",
       " ('оборудование', 772),\n",
       " ('кухня', 768),\n",
       " ('Brother', 767),\n",
       " ('изготовление', 764),\n",
       " ('вытяжка', 749),\n",
       " ('утюг', 742),\n",
       " ('Microlab', 733),\n",
       " ('бронировать', 732),\n",
       " ('задний', 732),\n",
       " ('фен', 730),\n",
       " ('решать', 729),\n",
       " ('самовывоз', 727),\n",
       " ('помощь', 717),\n",
       " ('Dell', 714),\n",
       " ('широкий', 713),\n",
       " ('мастер', 713),\n",
       " ('внимание', 711),\n",
       " ('B', 709),\n",
       " ('срок', 706),\n",
       " ('200', 702),\n",
       " ('мфу', 699),\n",
       " ('A', 694),\n",
       " ('генератор', 693),\n",
       " ('пол', 692),\n",
       " ('бампер', 691),\n",
       " ('Link', 690),\n",
       " ('ассортимент', 689),\n",
       " ('55', 688),\n",
       " ('9', 687),\n",
       " ('300', 686),\n",
       " ('сплит', 678),\n",
       " ('белгород', 678),\n",
       " ('оформление', 676),\n",
       " ('розетка', 676),\n",
       " ('костюм', 676),\n",
       " ('камера', 675),\n",
       " ('много', 674),\n",
       " ('Hansa', 670),\n",
       " ('духовой', 669),\n",
       " ('белье', 668),\n",
       " ('Indesit', 667),\n",
       " ('мм', 666),\n",
       " ('планшет', 659),\n",
       " ('Vitek', 658),\n",
       " ('Apple', 657),\n",
       " ('потолок', 655),\n",
       " ('32', 653),\n",
       " ('металлический', 653),\n",
       " ('смеситель', 651),\n",
       " ('новокузнецк', 649),\n",
       " ('дымоход', 648),\n",
       " ('аккумуляторный', 647),\n",
       " ('отличный', 646),\n",
       " ('насос', 646),\n",
       " ('виза', 646),\n",
       " ('петербург', 644),\n",
       " ('Siemens', 642),\n",
       " ('сауна', 640),\n",
       " ('айфон', 638),\n",
       " ('Redmond', 637),\n",
       " ('настройка', 636),\n",
       " ('пластик', 636),\n",
       " ('13', 636),\n",
       " ('блок', 635),\n",
       " ('1000', 635),\n",
       " ('250', 634),\n",
       " ('волос', 633),\n",
       " ('болгарка', 632),\n",
       " ('3d', 629),\n",
       " ('кабель', 628),\n",
       " ('оригинальный', 628),\n",
       " ('профессиональный', 627),\n",
       " ('23', 626),\n",
       " ('–', 625),\n",
       " ('ст', 623),\n",
       " ('акустика', 623),\n",
       " ('MSI', 623),\n",
       " ('125', 622),\n",
       " ('шок', 621),\n",
       " ('сут', 620),\n",
       " ('21', 617),\n",
       " ('бинокль', 617),\n",
       " ('автомагнитола', 616),\n",
       " ('150', 616),\n",
       " ('новосибирск', 615),\n",
       " ('иркутск', 615),\n",
       " ('швейный', 614),\n",
       " ('22', 614),\n",
       " ('комиссия', 611),\n",
       " ('рождение', 610),\n",
       " ('Ariston', 610),\n",
       " ('труба', 610),\n",
       " ('кожаный', 607),\n",
       " ('01', 604),\n",
       " ('LED', 599),\n",
       " ('мина', 596),\n",
       " ('Gefest', 594),\n",
       " ('X', 588),\n",
       " ('сеть', 581),\n",
       " ('оптовый', 578),\n",
       " ('опытный', 578),\n",
       " ('усилитель', 576),\n",
       " ('врач', 575),\n",
       " ('радиатор', 575),\n",
       " ('получать', 574),\n",
       " ('покупка', 574),\n",
       " ('27', 574),\n",
       " ('программа', 572),\n",
       " ('IdeaPad', 570),\n",
       " ('вода', 569),\n",
       " ('ЖК', 566),\n",
       " ('встраивать', 562),\n",
       " ('дешевый', 562),\n",
       " ('груз', 562),\n",
       " ('город', 560),\n",
       " ('условие', 559),\n",
       " ('гарнитур', 559),\n",
       " ('обучение', 558),\n",
       " ('регистрация', 558),\n",
       " ('розница', 557),\n",
       " ('триколор', 557),\n",
       " ('мультимедиа', 555),\n",
       " ('ворота', 554),\n",
       " ('Pioneer', 552),\n",
       " ('02', 552),\n",
       " ('Braun', 551),\n",
       " ('микроволновый', 549),\n",
       " ('DELL', 548),\n",
       " ('жесткий', 547),\n",
       " ('мойка', 546),\n",
       " ('Sven', 545),\n",
       " ('салон', 543),\n",
       " ('пвх', 540),\n",
       " ('Beko', 539),\n",
       " ('декларация', 535),\n",
       " ('летний', 535),\n",
       " ('рейтинг', 535),\n",
       " ('Kyocera', 535),\n",
       " ('балкон', 535),\n",
       " ('вид', 534),\n",
       " ('зуб', 534),\n",
       " ('люстра', 534),\n",
       " ('M', 533),\n",
       " ('65', 531),\n",
       " ('область', 531),\n",
       " ('транспортный', 531),\n",
       " ('стекло', 527),\n",
       " ('уровень', 526),\n",
       " ('сварочный', 525),\n",
       " ('ABS', 525),\n",
       " ('автомобильный', 524),\n",
       " ('Hotpoint', 523),\n",
       " ('дилер', 522),\n",
       " ('мобильный', 521),\n",
       " ('W', 520),\n",
       " ('мультиварка', 518),\n",
       " ('чемодан', 517),\n",
       " ('светильник', 514),\n",
       " ('Epson', 514),\n",
       " ('сервер', 512),\n",
       " ('600', 512),\n",
       " ('машинка', 510),\n",
       " ('где', 510),\n",
       " ('входной', 508),\n",
       " ('документ', 508),\n",
       " ('материал', 508),\n",
       " ('кровать', 506),\n",
       " ('блендер', 504),\n",
       " ('помогать', 503),\n",
       " ('а', 501),\n",
       " ('Galaxy', 500),\n",
       " ('19', 500),\n",
       " ('Janome', 500),\n",
       " ('водонагреватель', 499),\n",
       " ('посмотреть', 497),\n",
       " ('кольцо', 497),\n",
       " ('iPhone', 495),\n",
       " ('инструмент', 493),\n",
       " ('екатеринбург', 493),\n",
       " ('платье', 492),\n",
       " ('фильтр', 491),\n",
       " ('морозильник', 490),\n",
       " ('воздух', 490),\n",
       " ('Nikon', 490),\n",
       " ('телескоп', 489),\n",
       " ('ЛДСП', 488),\n",
       " ('работать', 487),\n",
       " ('проект', 486),\n",
       " ('BYN', 486),\n",
       " ('3д', 486),\n",
       " ('футболка', 483),\n",
       " ('C', 483),\n",
       " ('золотой', 482),\n",
       " ('куртка', 479),\n",
       " ('расчет', 479),\n",
       " ('поздравление', 479),\n",
       " ('800', 478),\n",
       " ('White', 476),\n",
       " ('продавать', 476),\n",
       " ('силиконовый', 475),\n",
       " ('станок', 475),\n",
       " ('реклама', 474),\n",
       " ('натяжной', 472),\n",
       " ('автомобиль', 472),\n",
       " ('E', 471),\n",
       " ('домен', 469),\n",
       " ('GA', 468),\n",
       " ('получение', 467),\n",
       " ('юрист', 466),\n",
       " ('Tefal', 465),\n",
       " ('передний', 465),\n",
       " ('BOSCH', 463),\n",
       " ('28', 461),\n",
       " ('недвижимость', 461),\n",
       " ('антенна', 459),\n",
       " ('Core', 459),\n",
       " ('Hitachi', 457),\n",
       " ('сэкономить', 456),\n",
       " ('36', 456),\n",
       " ('переплата', 455),\n",
       " ('TP', 454),\n",
       " ('минута', 453),\n",
       " ('мясорубка', 453),\n",
       " ('разный', 451),\n",
       " ('кодекс', 450),\n",
       " ('уборка', 446),\n",
       " ('сетевой', 445),\n",
       " ('бош', 442),\n",
       " ('доктор', 440),\n",
       " ('контейнер', 440),\n",
       " ('ванна', 440),\n",
       " ('мес', 438),\n",
       " ('Metabo', 438),\n",
       " ('деревянный', 436),\n",
       " ('x', 436),\n",
       " ('смотреть', 435),\n",
       " ('обслуживание', 434),\n",
       " ('компрессор', 434),\n",
       " ('интерскол', 432),\n",
       " ('владивосток', 431),\n",
       " ('нижний', 430),\n",
       " ('42', 429),\n",
       " ('циркулярный', 429),\n",
       " ('электронный', 428),\n",
       " ('75', 428),\n",
       " ('HTC', 428),\n",
       " ('VT', 428),\n",
       " ('Ballu', 427),\n",
       " ('отдых', 427),\n",
       " ('г', 425),\n",
       " ('бизнес', 425),\n",
       " ('снижать', 424),\n",
       " ('ручной', 424),\n",
       " ('1920x1080', 424),\n",
       " ('44', 424),\n",
       " ('микроскоп', 424),\n",
       " ('доска', 423),\n",
       " ('бензиновый', 422),\n",
       " ('надежный', 422),\n",
       " ('клавиатура', 421),\n",
       " ('отделка', 420),\n",
       " ('деньги', 420),\n",
       " ('перевозить', 419),\n",
       " ('Zanussi', 419),\n",
       " ('моноблок', 417),\n",
       " ('Kenwood', 415),\n",
       " ('комплект', 414),\n",
       " ('2015', 414),\n",
       " ('пуховик', 414),\n",
       " ('подбор', 411),\n",
       " ('новогодний', 411),\n",
       " ('санкт', 411),\n",
       " ('офис', 411),\n",
       " ('лампа', 410),\n",
       " ('кредит', 408),\n",
       " ('USB', 407),\n",
       " ('ведущий', 406),\n",
       " ('масло', 406),\n",
       " ('напольный', 406),\n",
       " ('фотоаппарат', 405),\n",
       " ('видеокарта', 404),\n",
       " ('26', 402),\n",
       " ('или', 401),\n",
       " ('унитаз', 401),\n",
       " ('постельный', 401),\n",
       " ('2000', 400),\n",
       " ('современный', 399),\n",
       " ('м2', 399),\n",
       " ('выходной', 398),\n",
       " ('более', 397),\n",
       " ('спортивный', 396),\n",
       " ('замирать', 394),\n",
       " ('беспроводной', 394),\n",
       " ('сколько', 393),\n",
       " ('обновление', 392),\n",
       " ('Logitech', 391),\n",
       " ('бензопила', 391),\n",
       " ('питание', 390),\n",
       " ('плитка', 390),\n",
       " ('резина', 389),\n",
       " ('зимний', 389),\n",
       " ('видеорегистратор', 389),\n",
       " ('лицо', 388),\n",
       " ('Huawei', 387),\n",
       " ('кликать', 387),\n",
       " ('база', 387),\n",
       " ('свой', 387),\n",
       " ('топ', 387),\n",
       " ('дсп', 386),\n",
       " ('тепловой', 385),\n",
       " ('закон', 384),\n",
       " ('один', 384),\n",
       " ('устройство', 384),\n",
       " ('техника', 383),\n",
       " ('стабилизатор', 383),\n",
       " ('о', 383),\n",
       " ('угловой', 382),\n",
       " ('сидение', 381),\n",
       " ('удобный', 381),\n",
       " ('настольный', 380),\n",
       " ('lg', 379),\n",
       " ('оставлять', 379),\n",
       " ('AOC', 378),\n",
       " ('надежно', 378),\n",
       " ('квт', 378),\n",
       " ('зеркало', 375),\n",
       " ('коммутатор', 375),\n",
       " ('перчатка', 375),\n",
       " ('Levenhuk', 374),\n",
       " ('цифровой', 372),\n",
       " ('запись', 371),\n",
       " ('1500', 371),\n",
       " ('посудомоечный', 370),\n",
       " ('ушма', 370),\n",
       " ('тонна', 370),\n",
       " ('Supermicro', 368),\n",
       " ('подбирать', 368),\n",
       " ('палатка', 367),\n",
       " ('APC', 367),\n",
       " ('тв', 366),\n",
       " ('200р', 366),\n",
       " ('плата', 366),\n",
       " ('asus', 366),\n",
       " ('медицинский', 364),\n",
       " ('уфа', 363),\n",
       " ('KX', 363),\n",
       " ('специалист', 362),\n",
       " ('88', 362),\n",
       " ('МДФ', 360),\n",
       " ('стальной', 359),\n",
       " ('левый', 359),\n",
       " ('объектив', 358),\n",
       " ('компьютер', 357),\n",
       " ('сканер', 357),\n",
       " ('прямой', 356),\n",
       " ('подача', 355),\n",
       " ('соковыжималка', 355),\n",
       " ('застройщик', 355),\n",
       " ('комната', 354),\n",
       " ('еще', 353),\n",
       " ('тариф', 353),\n",
       " ('199', 351),\n",
       " ('рюкзак', 349),\n",
       " ('записываться', 349),\n",
       " ('участок', 349),\n",
       " ('дача', 348),\n",
       " ('готовый', 348),\n",
       " ('договор', 347),\n",
       " ('конвектор', 347),\n",
       " ('гореть', 347),\n",
       " ('месяц', 345),\n",
       " ('парфюм', 345),\n",
       " ('03', 344),\n",
       " ('700', 344),\n",
       " ('круглосуточно', 344),\n",
       " ('европейский', 343),\n",
       " ('аппарат', 342),\n",
       " ('колонка', 342),\n",
       " ('IP', 342),\n",
       " ('срочный', 340),\n",
       " ('средство', 340),\n",
       " ('челябинск', 340),\n",
       " ('990', 339),\n",
       " ('зубр', 338),\n",
       " ('LaserJet', 338),\n",
       " ('оценка', 336),\n",
       " ('I', 335),\n",
       " ('52', 334),\n",
       " ('емкость', 334),\n",
       " ('кг', 334),\n",
       " ('навигатор', 334),\n",
       " ('неоригинальный', 333),\n",
       " ('спец', 333),\n",
       " ('Xiaomi', 333),\n",
       " ('дорого', 333),\n",
       " ('33', 333),\n",
       " ('самара', 333),\n",
       " ('дома', 333),\n",
       " ('samsung', 333),\n",
       " ('Fly', 332),\n",
       " ('наценка', 331),\n",
       " ('домашний', 331),\n",
       " ('диван', 331),\n",
       " ('38', 331),\n",
       " ('Whirlpool', 331),\n",
       " ('мо', 330),\n",
       " ('вывеска', 329),\n",
       " ('bosch', 329),\n",
       " ('72', 329),\n",
       " ('результат', 328),\n",
       " ('управление', 328),\n",
       " ('медтехника', 328),\n",
       " ('64', 328),\n",
       " ('ударный', 328),\n",
       " ('ламинат', 328),\n",
       " ('отопление', 328),\n",
       " ('удаление', 328),\n",
       " ('шлифовальный', 327),\n",
       " ('строительный', 326),\n",
       " ('снимать', 326),\n",
       " ('РБ', 326),\n",
       " ('1366x768', 325),\n",
       " ('новостройка', 325),\n",
       " ('время', 325),\n",
       " ('29', 324),\n",
       " ('такой', 324),\n",
       " ('формат', 324),\n",
       " ('триммер', 323),\n",
       " ('создание', 323),\n",
       " ('штатив', 323),\n",
       " ('31', 323),\n",
       " ('роза', 322),\n",
       " ('модем', 322),\n",
       " ('Sinbo', 322),\n",
       " ('мышь', 322),\n",
       " ('навител', 322),\n",
       " ('SSD', 322),\n",
       " ('750', 321),\n",
       " ('Bork', 321),\n",
       " ('стоить', 321),\n",
       " ('стена', 321),\n",
       " ('собака', 321),\n",
       " ('ростов', 320),\n",
       " ('путевка', 320),\n",
       " ('дерево', 319),\n",
       " ('s', 319),\n",
       " ('юбка', 318),\n",
       " ('обогреватель', 318),\n",
       " ('48', 317),\n",
       " ('сюда', 316),\n",
       " ('забронировать', 316),\n",
       " ('грн', 314),\n",
       " ('Rolsen', 314),\n",
       " ('вызов', 313),\n",
       " ('внешний', 313),\n",
       " ('AEG', 313),\n",
       " ('фундамент', 312),\n",
       " ('F', 312),\n",
       " ('прихожая', 312),\n",
       " ('изготавливать', 311),\n",
       " ('Dual', 311),\n",
       " ('бумага', 311),\n",
       " ('мех', 310),\n",
       " ('SP', 310),\n",
       " ('сервис', 310),\n",
       " ('устанавливать', 310),\n",
       " ('Rowenta', 309),\n",
       " ('свадьба', 308),\n",
       " ('газонокосилка', 308),\n",
       " ('56', 308),\n",
       " ('фонарь', 308),\n",
       " ('43', 307),\n",
       " ('индивидуальный', 307),\n",
       " ('1200', 307),\n",
       " ('SENSYS', 307),\n",
       " ('фара', 305),\n",
       " ('прикольный', 305),\n",
       " ('велосипед', 305),\n",
       " ('пушка', 305),\n",
       " ('99', 303),\n",
       " ('защита', 303),\n",
       " ('HD', 303),\n",
       " ('Polaris', 303),\n",
       " ('завод', 302),\n",
       " ('mAh', 301),\n",
       " ('санки', 300),\n",
       " ('24ч', 300),\n",
       " ('давать', 300),\n",
       " ('диагностика', 300),\n",
       " ('pro', 300),\n",
       " ('3G', 299),\n",
       " ('R', 299),\n",
       " ('девочка', 299),\n",
       " ('85', 299),\n",
       " ('красный', 299),\n",
       " ('пульт', 299),\n",
       " ('браслет', 298),\n",
       " ('что', 297),\n",
       " ('краскопульт', 297),\n",
       " ('34', 297),\n",
       " ('68', 297),\n",
       " ('увлажнитель', 296),\n",
       " ('жалюзи', 296),\n",
       " ('180', 295),\n",
       " ('i5', 295),\n",
       " ('правый', 295),\n",
       " ('калибр', 295),\n",
       " ('95', 295),\n",
       " ('казань', 294),\n",
       " ('класс', 294),\n",
       " ('ваз', 294),\n",
       " ('Daewoo', 293),\n",
       " ('накидка', 292),\n",
       " ('джинсы', 292),\n",
       " ('ванный', 292),\n",
       " ('i', 292),\n",
       " ('пальто', 292),\n",
       " ('Plus', 292),\n",
       " ('межкомнатный', 291),\n",
       " ('портативный', 291),\n",
       " ('цветок', 291),\n",
       " ('лобзик', 291),\n",
       " ('HAMMER', 290),\n",
       " ('клик', 290),\n",
       " ('Fluke', 290),\n",
       " ('весы', 290),\n",
       " ('миксер', 290),\n",
       " ('частный', 289),\n",
       " ('школа', 289),\n",
       " ('46', 289),\n",
       " ('PRO', 288),\n",
       " ('сразу', 288),\n",
       " ('BBK', 288),\n",
       " ('штукатурка', 288),\n",
       " ('форма', 287),\n",
       " ('универсальный', 287),\n",
       " ('вернуть', 287),\n",
       " ('шар', 287),\n",
       " ('сдавать', 286),\n",
       " ('комбинезон', 286),\n",
       " ('цвет', 286),\n",
       " ('авиабилет', 286),\n",
       " ('форд', 285),\n",
       " ('TL', 285),\n",
       " ('Elitech', 285),\n",
       " ('лист', 285),\n",
       " ('стрижка', 284),\n",
       " ('маршрутизатор', 284),\n",
       " ('метр', 284),\n",
       " ('Korting', 284),\n",
       " ('63', 283),\n",
       " ('хотеть', 283),\n",
       " ('сложность', 283),\n",
       " ('сайдинг', 282),\n",
       " ('поставка', 282),\n",
       " ('Aspire', 282),\n",
       " ('рубашка', 282),\n",
       " ('теплица', 282),\n",
       " ('Husqvarna', 281),\n",
       " ('T', 281),\n",
       " ('эвакуатор', 281),\n",
       " ('решение', 280),\n",
       " ('краска', 280),\n",
       " ('сертификат', 280),\n",
       " ('фабрика', 280),\n",
       " ('справка', 279),\n",
       " ('05', 279),\n",
       " ('74', 279),\n",
       " ('материнский', 279),\n",
       " ('66', 279),\n",
       " ('39', 279),\n",
       " ('04', 279),\n",
       " ('клиент', 278),\n",
       " ('GPS', 278),\n",
       " ('игрушка', 277),\n",
       " ('рука', 277),\n",
       " ('статья', 277),\n",
       " ('видеокамера', 274),\n",
       " ('ооо', 274),\n",
       " ('табличка', 273),\n",
       " ('P', 273),\n",
       " ('брюки', 272),\n",
       " ('Champion', 272),\n",
       " ('JVC', 271),\n",
       " ('H', 271),\n",
       " ('память', 271),\n",
       " ('53', 270),\n",
       " ('4000', 270),\n",
       " ('Celestron', 270),\n",
       " ('бытовой', 269),\n",
       " ('Moulinex', 267),\n",
       " ('подушка', 267),\n",
       " ('оперативно', 267),\n",
       " ('морозильный', 267),\n",
       " ('One', 267),\n",
       " ('шлифмашина', 267),\n",
       " ('ThinkPad', 267),\n",
       " ('5000', 266),\n",
       " ('новгород', 266),\n",
       " ('RU', 266),\n",
       " ('76', 265),\n",
       " ('поддержка', 265),\n",
       " ('кофеварка', 265),\n",
       " ('гриль', 264),\n",
       " ('предоплата', 264),\n",
       " ('видео', 264),\n",
       " ('3000', 264),\n",
       " ('кофемашина', 264),\n",
       " ('Karcher', 264),\n",
       " ('83', 263),\n",
       " ('самосвал', 263),\n",
       " ('7000', 263),\n",
       " ('камень', 262),\n",
       " ('G3', 262),\n",
       " ('Liebherr', 262),\n",
       " ('настенный', 262),\n",
       " ('i7', 262),\n",
       " ('Hyundai', 261),\n",
       " ('Sennheiser', 261),\n",
       " ('линза', 261),\n",
       " ('цветной', 261),\n",
       " ('теплый', 261),\n",
       " ('54', 260),\n",
       " ('62', 259),\n",
       " ('автокресло', 259),\n",
       " ('штора', 259),\n",
       " ('3500', 258),\n",
       " ('дальномер', 258),\n",
       " ('120', 257),\n",
       " ('автоматизация', 256),\n",
       " ('ч', 256),\n",
       " ('металл', 256),\n",
       " ('A4', 256),\n",
       " ('Smart', 255),\n",
       " ('59', 255),\n",
       " ('Ritmix', 255),\n",
       " ('шорты', 255),\n",
       " ('лестница', 255),\n",
       " ('Ricoh', 255),\n",
       " ('щетка', 254),\n",
       " ('тыс', 254),\n",
       " ('самый', 254),\n",
       " ('право', 254),\n",
       " ('92', 253),\n",
       " ('78', 253),\n",
       " ('клоп', 253),\n",
       " ('после', 253),\n",
       " ('парфюмерия', 252),\n",
       " ('ботинок', 252),\n",
       " ('нал', 251),\n",
       " ('Xperia', 251),\n",
       " ('забор', 251),\n",
       " ('объект', 251),\n",
       " ('93', 251),\n",
       " ('счетчик', 250),\n",
       " ('кв', 250),\n",
       " ('1М', 250),\n",
       " ('K', 250),\n",
       " ('бронирование', 250),\n",
       " ('пермь', 250),\n",
       " ('гайковерт', 249),\n",
       " ('бухгалтерия', 249),\n",
       " ('мотоблок', 249),\n",
       " ('самсунг', 248),\n",
       " ('гель', 248),\n",
       " ('садовый', 248),\n",
       " ('51', 247),\n",
       " ('TS', 247),\n",
       " ('раковина', 247),\n",
       " ('ресивер', 246),\n",
       " ('системный', 246),\n",
       " ('свитер', 246),\n",
       " ('II', 246),\n",
       " ('1001', 246),\n",
       " ('лодка', 245),\n",
       " ('прием', 245),\n",
       " ('49', 245),\n",
       " ('камин', 245),\n",
       " ('полный', 245),\n",
       " ('лицензия', 245),\n",
       " ('m', 245),\n",
       " ('всегда', 244),\n",
       " ('37', 244),\n",
       " ('61', 244),\n",
       " ('можно', 243),\n",
       " ('арматура', 243),\n",
       " ('Dewalt', 243),\n",
       " ('450', 243),\n",
       " ('ставрополь', 243),\n",
       " ('автомат', 243),\n",
       " ('игровой', 242),\n",
       " ('E5', 242),\n",
       " ('электроинструмент', 242),\n",
       " ('плиткорез', 242),\n",
       " ('пожарный', 242),\n",
       " ('пить', 241),\n",
       " ('беспроводный', 241),\n",
       " ('прямо', 241),\n",
       " ('фрезер', 241),\n",
       " ('пк', 240),\n",
       " ('учет', 240),\n",
       " ('v', 240),\n",
       " ('губа', 240),\n",
       " ('зарядный', 240),\n",
       " ('наклейка', 239),\n",
       " ('серьга', 239),\n",
       " ('Bort', 239),\n",
       " ('кафе', 238),\n",
       " ('96', 237),\n",
       " ('Diesel', 237),\n",
       " ('67', 237),\n",
       " ('помещение', 237),\n",
       " ('84', 236),\n",
       " ('чело', 236),\n",
       " ('Grohe', 236),\n",
       " ('колесо', 236),\n",
       " ('кроссовок', 235),\n",
       " ('мужчина', 235),\n",
       " ('41', 235),\n",
       " ...]"
      ]
     },
     "execution_count": 423,
     "metadata": {},
     "output_type": "execute_result"
    }
   ],
   "source": [
    "vocab.most_common()"
   ]
  },
  {
   "cell_type": "code",
   "execution_count": 424,
   "metadata": {},
   "outputs": [],
   "source": [
    "word_index = {t[0]: i+1 for i,t in enumerate(vocab.most_common(MAX_NB_WORDS))}"
   ]
  },
  {
   "cell_type": "code",
   "execution_count": 425,
   "metadata": {},
   "outputs": [],
   "source": [
    "training_sequences = [[word_index.get(t, 0) for t in ad_title_combo]\n",
    "             for ad_title_combo in training_df_mixed['concatenated_text_title']]"
   ]
  },
  {
   "cell_type": "code",
   "execution_count": 426,
   "metadata": {},
   "outputs": [],
   "source": [
    "test_sequences = [[word_index.get(t, 0)  for t in ad_title_combo] \n",
    "                  for ad_title_combo in test_df_mixed['concatenated_text_title']]"
   ]
  },
  {
   "cell_type": "code",
   "execution_count": 428,
   "metadata": {},
   "outputs": [],
   "source": [
    "# pad sequences\n",
    "data = pad_sequences(training_sequences, maxlen=MAX_SEQUENCE_LENGTH, \n",
    "                     padding=\"pre\", truncating=\"post\")"
   ]
  },
  {
   "cell_type": "code",
   "execution_count": 433,
   "metadata": {},
   "outputs": [
    {
     "data": {
      "text/html": [
       "<div>\n",
       "<style scoped>\n",
       "    .dataframe tbody tr th:only-of-type {\n",
       "        vertical-align: middle;\n",
       "    }\n",
       "\n",
       "    .dataframe tbody tr th {\n",
       "        vertical-align: top;\n",
       "    }\n",
       "\n",
       "    .dataframe thead th {\n",
       "        text-align: right;\n",
       "    }\n",
       "</style>\n",
       "<table border=\"1\" class=\"dataframe\">\n",
       "  <thead>\n",
       "    <tr style=\"text-align: right;\">\n",
       "      <th></th>\n",
       "      <th>text vectors</th>\n",
       "      <th>title vectors</th>\n",
       "      <th>pair class</th>\n",
       "      <th>concatenated_text_title</th>\n",
       "    </tr>\n",
       "  </thead>\n",
       "  <tbody>\n",
       "    <tr>\n",
       "      <th>0</th>\n",
       "      <td>[lg, sh7b, от, 819, 00, доставка]</td>\n",
       "      <td>[lg, sh7b]</td>\n",
       "      <td>1</td>\n",
       "      <td>[lg, sh7b, от, 819, 00, доставка, lg, sh7b]</td>\n",
       "    </tr>\n",
       "    <tr>\n",
       "      <th>1</th>\n",
       "      <td>[нужный, перевод, медицинский, документация, к...</td>\n",
       "      <td>[перевод, медицинский, документация]</td>\n",
       "      <td>1</td>\n",
       "      <td>[нужный, перевод, медицинский, документация, к...</td>\n",
       "    </tr>\n",
       "    <tr>\n",
       "      <th>2</th>\n",
       "      <td>[результат, на, 3, день, зубной, паста, крест,...</td>\n",
       "      <td>[зубной, паста, крест]</td>\n",
       "      <td>1</td>\n",
       "      <td>[результат, на, 3, день, зубной, паста, крест,...</td>\n",
       "    </tr>\n",
       "    <tr>\n",
       "      <th>3</th>\n",
       "      <td>[массив, бук, и, дуб, древесный, шпон, ciplex,...</td>\n",
       "      <td>[межкомнатный, дверь, из, россия]</td>\n",
       "      <td>1</td>\n",
       "      <td>[массив, бук, и, дуб, древесный, шпон, ciplex,...</td>\n",
       "    </tr>\n",
       "    <tr>\n",
       "      <th>4</th>\n",
       "      <td>[купить, Gerat, лента, пробивной, Gerat, 19мм,...</td>\n",
       "      <td>[Gerat, 19мм, 3, 2мм, 30м, 50327]</td>\n",
       "      <td>1</td>\n",
       "      <td>[купить, Gerat, лента, пробивной, Gerat, 19мм,...</td>\n",
       "    </tr>\n",
       "  </tbody>\n",
       "</table>\n",
       "</div>"
      ],
      "text/plain": [
       "                                        text vectors  \\\n",
       "0                  [lg, sh7b, от, 819, 00, доставка]   \n",
       "1  [нужный, перевод, медицинский, документация, к...   \n",
       "2  [результат, на, 3, день, зубной, паста, крест,...   \n",
       "3  [массив, бук, и, дуб, древесный, шпон, ciplex,...   \n",
       "4  [купить, Gerat, лента, пробивной, Gerat, 19мм,...   \n",
       "\n",
       "                          title vectors  pair class  \\\n",
       "0                            [lg, sh7b]           1   \n",
       "1  [перевод, медицинский, документация]           1   \n",
       "2                [зубной, паста, крест]           1   \n",
       "3     [межкомнатный, дверь, из, россия]           1   \n",
       "4     [Gerat, 19мм, 3, 2мм, 30м, 50327]           1   \n",
       "\n",
       "                             concatenated_text_title  \n",
       "0        [lg, sh7b, от, 819, 00, доставка, lg, sh7b]  \n",
       "1  [нужный, перевод, медицинский, документация, к...  \n",
       "2  [результат, на, 3, день, зубной, паста, крест,...  \n",
       "3  [массив, бук, и, дуб, древесный, шпон, ciplex,...  \n",
       "4  [купить, Gerat, лента, пробивной, Gerat, 19мм,...  "
      ]
     },
     "execution_count": 433,
     "metadata": {},
     "output_type": "execute_result"
    }
   ],
   "source": [
    "training_df_mixed.head()"
   ]
  },
  {
   "cell_type": "code",
   "execution_count": 436,
   "metadata": {},
   "outputs": [
    {
     "data": {
      "text/plain": [
       "(137074, 30)"
      ]
     },
     "execution_count": 436,
     "metadata": {},
     "output_type": "execute_result"
    }
   ],
   "source": [
    "data.shape"
   ]
  },
  {
   "cell_type": "code",
   "execution_count": 438,
   "metadata": {},
   "outputs": [],
   "source": [
    "# pad sequences\n",
    "test_data = pad_sequences(test_sequences, maxlen=MAX_SEQUENCE_LENGTH, \n",
    "                     padding=\"pre\", truncating=\"post\")"
   ]
  },
  {
   "cell_type": "code",
   "execution_count": 440,
   "metadata": {},
   "outputs": [
    {
     "data": {
      "text/plain": [
       "(58746, 30)"
      ]
     },
     "execution_count": 440,
     "metadata": {},
     "output_type": "execute_result"
    }
   ],
   "source": [
    "test_data.shape"
   ]
  },
  {
   "cell_type": "code",
   "execution_count": 443,
   "metadata": {},
   "outputs": [
    {
     "data": {
      "text/plain": [
       "(137074, 2)"
      ]
     },
     "execution_count": 443,
     "metadata": {},
     "output_type": "execute_result"
    }
   ],
   "source": [
    "y_reshaped_tr.shape"
   ]
  },
  {
   "cell_type": "code",
   "execution_count": 444,
   "metadata": {},
   "outputs": [
    {
     "data": {
      "text/plain": [
       "(58746, 2)"
      ]
     },
     "execution_count": 444,
     "metadata": {},
     "output_type": "execute_result"
    }
   ],
   "source": [
    "y_reshaped_test.shape"
   ]
  },
  {
   "cell_type": "code",
   "execution_count": 445,
   "metadata": {},
   "outputs": [],
   "source": [
    "WV_DIM = 300\n",
    "nb_words = min(MAX_NB_WORDS, len(word_vectors.vocab))\n",
    "\n",
    "# we initialize the matrix with random numbers\n",
    "wv_matrix = (np.random.rand(nb_words, WV_DIM) - 0.5) / 5.0\n",
    "for word, i in word_index.items():\n",
    "    if i >= MAX_NB_WORDS:\n",
    "        continue\n",
    "    try:\n",
    "        embedding_vector = word_vectors[word]\n",
    "        # words not found in embedding index will be all-zeros.\n",
    "        wv_matrix[i] = embedding_vector\n",
    "    except:\n",
    "        pass  "
   ]
  },
  {
   "cell_type": "code",
   "execution_count": 454,
   "metadata": {},
   "outputs": [],
   "source": [
    "from keras.layers import Dense, Input, Embedding, Dropout,SpatialDropout1D, Bidirectional, LSTM\n",
    "from keras.models import Model\n",
    "from keras.optimizers import Adam\n",
    "from keras.layers.normalization import BatchNormalization"
   ]
  },
  {
   "cell_type": "code",
   "execution_count": 459,
   "metadata": {},
   "outputs": [
    {
     "ename": "InvalidArgumentError",
     "evalue": "No OpKernel was registered to support Op 'CudnnRNN' with these attrs.  Registered devices: [CPU], Registered kernels:\n  <no registered kernels>\n\n\t [[Node: bidirectional_1/CudnnRNN = CudnnRNN[T=DT_FLOAT, direction=\"unidirectional\", dropout=0, input_mode=\"linear_input\", is_training=true, rnn_mode=\"lstm\", seed=87654321, seed2=0](bidirectional_1/transpose, bidirectional_1/ExpandDims_1, bidirectional_1/ExpandDims_2, bidirectional_1/concat)]]\n\nCaused by op 'bidirectional_1/CudnnRNN', defined at:\n  File \"/usr/local/Cellar/python/3.6.5_1/Frameworks/Python.framework/Versions/3.6/lib/python3.6/runpy.py\", line 193, in _run_module_as_main\n    \"__main__\", mod_spec)\n  File \"/usr/local/Cellar/python/3.6.5_1/Frameworks/Python.framework/Versions/3.6/lib/python3.6/runpy.py\", line 85, in _run_code\n    exec(code, run_globals)\n  File \"/usr/local/lib/python3.6/site-packages/ipykernel_launcher.py\", line 16, in <module>\n    app.launch_new_instance()\n  File \"/usr/local/lib/python3.6/site-packages/traitlets/config/application.py\", line 658, in launch_instance\n    app.start()\n  File \"/usr/local/lib/python3.6/site-packages/ipykernel/kernelapp.py\", line 497, in start\n    self.io_loop.start()\n  File \"/usr/local/lib/python3.6/site-packages/tornado/platform/asyncio.py\", line 132, in start\n    self.asyncio_loop.run_forever()\n  File \"/usr/local/Cellar/python/3.6.5_1/Frameworks/Python.framework/Versions/3.6/lib/python3.6/asyncio/base_events.py\", line 422, in run_forever\n    self._run_once()\n  File \"/usr/local/Cellar/python/3.6.5_1/Frameworks/Python.framework/Versions/3.6/lib/python3.6/asyncio/base_events.py\", line 1432, in _run_once\n    handle._run()\n  File \"/usr/local/Cellar/python/3.6.5_1/Frameworks/Python.framework/Versions/3.6/lib/python3.6/asyncio/events.py\", line 145, in _run\n    self._callback(*self._args)\n  File \"/usr/local/lib/python3.6/site-packages/tornado/platform/asyncio.py\", line 122, in _handle_events\n    handler_func(fileobj, events)\n  File \"/usr/local/lib/python3.6/site-packages/tornado/stack_context.py\", line 300, in null_wrapper\n    return fn(*args, **kwargs)\n  File \"/usr/local/lib/python3.6/site-packages/zmq/eventloop/zmqstream.py\", line 450, in _handle_events\n    self._handle_recv()\n  File \"/usr/local/lib/python3.6/site-packages/zmq/eventloop/zmqstream.py\", line 480, in _handle_recv\n    self._run_callback(callback, msg)\n  File \"/usr/local/lib/python3.6/site-packages/zmq/eventloop/zmqstream.py\", line 432, in _run_callback\n    callback(*args, **kwargs)\n  File \"/usr/local/lib/python3.6/site-packages/tornado/stack_context.py\", line 300, in null_wrapper\n    return fn(*args, **kwargs)\n  File \"/usr/local/lib/python3.6/site-packages/ipykernel/kernelbase.py\", line 283, in dispatcher\n    return self.dispatch_shell(stream, msg)\n  File \"/usr/local/lib/python3.6/site-packages/ipykernel/kernelbase.py\", line 233, in dispatch_shell\n    handler(stream, idents, msg)\n  File \"/usr/local/lib/python3.6/site-packages/ipykernel/kernelbase.py\", line 399, in execute_request\n    user_expressions, allow_stdin)\n  File \"/usr/local/lib/python3.6/site-packages/ipykernel/ipkernel.py\", line 208, in do_execute\n    res = shell.run_cell(code, store_history=store_history, silent=silent)\n  File \"/usr/local/lib/python3.6/site-packages/ipykernel/zmqshell.py\", line 537, in run_cell\n    return super(ZMQInteractiveShell, self).run_cell(*args, **kwargs)\n  File \"/usr/local/lib/python3.6/site-packages/IPython/core/interactiveshell.py\", line 2662, in run_cell\n    raw_cell, store_history, silent, shell_futures)\n  File \"/usr/local/lib/python3.6/site-packages/IPython/core/interactiveshell.py\", line 2785, in _run_cell\n    interactivity=interactivity, compiler=compiler, result=result)\n  File \"/usr/local/lib/python3.6/site-packages/IPython/core/interactiveshell.py\", line 2901, in run_ast_nodes\n    if self.run_code(code, result):\n  File \"/usr/local/lib/python3.6/site-packages/IPython/core/interactiveshell.py\", line 2961, in run_code\n    exec(code_obj, self.user_global_ns, self.user_ns)\n  File \"<ipython-input-447-cfcc53afa5e2>\", line 14, in <module>\n    x = Bidirectional(CuDNNLSTM(64, return_sequences=False))(embedded_sequences)\n  File \"/usr/local/lib/python3.6/site-packages/keras/layers/wrappers.py\", line 426, in __call__\n    return super(Bidirectional, self).__call__(inputs, **kwargs)\n  File \"/usr/local/lib/python3.6/site-packages/keras/engine/base_layer.py\", line 457, in __call__\n    output = self.call(inputs, **kwargs)\n  File \"/usr/local/lib/python3.6/site-packages/keras/layers/wrappers.py\", line 504, in call\n    y = self.forward_layer.call(inputs, **kwargs)\n  File \"/usr/local/lib/python3.6/site-packages/keras/layers/cudnn_recurrent.py\", line 90, in call\n    output, states = self._process_batch(inputs, initial_state)\n  File \"/usr/local/lib/python3.6/site-packages/keras/layers/cudnn_recurrent.py\", line 510, in _process_batch\n    is_training=True)\n  File \"/usr/local/lib/python3.6/site-packages/tensorflow/contrib/cudnn_rnn/python/ops/cudnn_rnn_ops.py\", line 1544, in __call__\n    input_data, input_h, input_c, params, is_training=is_training)\n  File \"/usr/local/lib/python3.6/site-packages/tensorflow/contrib/cudnn_rnn/python/ops/cudnn_rnn_ops.py\", line 1435, in __call__\n    seed=self._seed)\n  File \"/usr/local/lib/python3.6/site-packages/tensorflow/contrib/cudnn_rnn/python/ops/cudnn_rnn_ops.py\", line 922, in _cudnn_rnn\n    outputs, output_h, output_c, _ = gen_cudnn_rnn_ops.cudnn_rnn(**args)\n  File \"/usr/local/lib/python3.6/site-packages/tensorflow/python/ops/gen_cudnn_rnn_ops.py\", line 115, in cudnn_rnn\n    is_training=is_training, name=name)\n  File \"/usr/local/lib/python3.6/site-packages/tensorflow/python/framework/op_def_library.py\", line 787, in _apply_op_helper\n    op_def=op_def)\n  File \"/usr/local/lib/python3.6/site-packages/tensorflow/python/util/deprecation.py\", line 454, in new_func\n    return func(*args, **kwargs)\n  File \"/usr/local/lib/python3.6/site-packages/tensorflow/python/framework/ops.py\", line 3155, in create_op\n    op_def=op_def)\n  File \"/usr/local/lib/python3.6/site-packages/tensorflow/python/framework/ops.py\", line 1717, in __init__\n    self._traceback = tf_stack.extract_stack()\n\nInvalidArgumentError (see above for traceback): No OpKernel was registered to support Op 'CudnnRNN' with these attrs.  Registered devices: [CPU], Registered kernels:\n  <no registered kernels>\n\n\t [[Node: bidirectional_1/CudnnRNN = CudnnRNN[T=DT_FLOAT, direction=\"unidirectional\", dropout=0, input_mode=\"linear_input\", is_training=true, rnn_mode=\"lstm\", seed=87654321, seed2=0](bidirectional_1/transpose, bidirectional_1/ExpandDims_1, bidirectional_1/ExpandDims_2, bidirectional_1/concat)]]\n",
     "output_type": "error",
     "traceback": [
      "\u001b[0;31m---------------------------------------------------------------------------\u001b[0m",
      "\u001b[0;31mInvalidArgumentError\u001b[0m                      Traceback (most recent call last)",
      "\u001b[0;32m/usr/local/lib/python3.6/site-packages/tensorflow/python/client/session.py\u001b[0m in \u001b[0;36m_do_call\u001b[0;34m(self, fn, *args)\u001b[0m\n\u001b[1;32m   1277\u001b[0m     \u001b[0;32mtry\u001b[0m\u001b[0;34m:\u001b[0m\u001b[0;34m\u001b[0m\u001b[0m\n\u001b[0;32m-> 1278\u001b[0;31m       \u001b[0;32mreturn\u001b[0m \u001b[0mfn\u001b[0m\u001b[0;34m(\u001b[0m\u001b[0;34m*\u001b[0m\u001b[0margs\u001b[0m\u001b[0;34m)\u001b[0m\u001b[0;34m\u001b[0m\u001b[0m\n\u001b[0m\u001b[1;32m   1279\u001b[0m     \u001b[0;32mexcept\u001b[0m \u001b[0merrors\u001b[0m\u001b[0;34m.\u001b[0m\u001b[0mOpError\u001b[0m \u001b[0;32mas\u001b[0m \u001b[0me\u001b[0m\u001b[0;34m:\u001b[0m\u001b[0;34m\u001b[0m\u001b[0m\n",
      "\u001b[0;32m/usr/local/lib/python3.6/site-packages/tensorflow/python/client/session.py\u001b[0m in \u001b[0;36m_run_fn\u001b[0;34m(feed_dict, fetch_list, target_list, options, run_metadata)\u001b[0m\n\u001b[1;32m   1260\u001b[0m       \u001b[0;31m# Ensure any changes to the graph are reflected in the runtime.\u001b[0m\u001b[0;34m\u001b[0m\u001b[0;34m\u001b[0m\u001b[0m\n\u001b[0;32m-> 1261\u001b[0;31m       \u001b[0mself\u001b[0m\u001b[0;34m.\u001b[0m\u001b[0m_extend_graph\u001b[0m\u001b[0;34m(\u001b[0m\u001b[0;34m)\u001b[0m\u001b[0;34m\u001b[0m\u001b[0m\n\u001b[0m\u001b[1;32m   1262\u001b[0m       return self._call_tf_sessionrun(\n",
      "\u001b[0;32m/usr/local/lib/python3.6/site-packages/tensorflow/python/client/session.py\u001b[0m in \u001b[0;36m_extend_graph\u001b[0;34m(self)\u001b[0m\n\u001b[1;32m   1294\u001b[0m     \u001b[0;32mwith\u001b[0m \u001b[0mself\u001b[0m\u001b[0;34m.\u001b[0m\u001b[0m_graph\u001b[0m\u001b[0;34m.\u001b[0m\u001b[0m_session_run_lock\u001b[0m\u001b[0;34m(\u001b[0m\u001b[0;34m)\u001b[0m\u001b[0;34m:\u001b[0m  \u001b[0;31m# pylint: disable=protected-access\u001b[0m\u001b[0;34m\u001b[0m\u001b[0m\n\u001b[0;32m-> 1295\u001b[0;31m       \u001b[0mtf_session\u001b[0m\u001b[0;34m.\u001b[0m\u001b[0mExtendSession\u001b[0m\u001b[0;34m(\u001b[0m\u001b[0mself\u001b[0m\u001b[0;34m.\u001b[0m\u001b[0m_session\u001b[0m\u001b[0;34m)\u001b[0m\u001b[0;34m\u001b[0m\u001b[0m\n\u001b[0m\u001b[1;32m   1296\u001b[0m \u001b[0;34m\u001b[0m\u001b[0m\n",
      "\u001b[0;31mInvalidArgumentError\u001b[0m: No OpKernel was registered to support Op 'CudnnRNN' with these attrs.  Registered devices: [CPU], Registered kernels:\n  <no registered kernels>\n\n\t [[Node: bidirectional_1/CudnnRNN = CudnnRNN[T=DT_FLOAT, direction=\"unidirectional\", dropout=0, input_mode=\"linear_input\", is_training=true, rnn_mode=\"lstm\", seed=87654321, seed2=0](bidirectional_1/transpose, bidirectional_1/ExpandDims_1, bidirectional_1/ExpandDims_2, bidirectional_1/concat)]]",
      "\nDuring handling of the above exception, another exception occurred:\n",
      "\u001b[0;31mInvalidArgumentError\u001b[0m                      Traceback (most recent call last)",
      "\u001b[0;32m<ipython-input-459-d9c7e33e6358>\u001b[0m in \u001b[0;36m<module>\u001b[0;34m()\u001b[0m\n\u001b[1;32m      8\u001b[0m \u001b[0;31m# Inputs\u001b[0m\u001b[0;34m\u001b[0m\u001b[0;34m\u001b[0m\u001b[0m\n\u001b[1;32m      9\u001b[0m \u001b[0mcomment_input\u001b[0m \u001b[0;34m=\u001b[0m \u001b[0mInput\u001b[0m\u001b[0;34m(\u001b[0m\u001b[0mshape\u001b[0m\u001b[0;34m=\u001b[0m\u001b[0;34m(\u001b[0m\u001b[0mMAX_SEQUENCE_LENGTH\u001b[0m\u001b[0;34m,\u001b[0m\u001b[0;34m)\u001b[0m\u001b[0;34m,\u001b[0m \u001b[0mdtype\u001b[0m\u001b[0;34m=\u001b[0m\u001b[0;34m'int32'\u001b[0m\u001b[0;34m)\u001b[0m\u001b[0;34m\u001b[0m\u001b[0m\n\u001b[0;32m---> 10\u001b[0;31m \u001b[0membedded_sequences\u001b[0m \u001b[0;34m=\u001b[0m \u001b[0mwv_layer\u001b[0m\u001b[0;34m(\u001b[0m\u001b[0mcomment_input\u001b[0m\u001b[0;34m)\u001b[0m\u001b[0;34m\u001b[0m\u001b[0m\n\u001b[0m\u001b[1;32m     11\u001b[0m \u001b[0;34m\u001b[0m\u001b[0m\n\u001b[1;32m     12\u001b[0m \u001b[0;34m\u001b[0m\u001b[0m\n",
      "\u001b[0;32m/usr/local/lib/python3.6/site-packages/keras/engine/base_layer.py\u001b[0m in \u001b[0;36m__call__\u001b[0;34m(self, inputs, **kwargs)\u001b[0m\n\u001b[1;32m    434\u001b[0m                 \u001b[0;31m# Load weights that were specified at layer instantiation.\u001b[0m\u001b[0;34m\u001b[0m\u001b[0;34m\u001b[0m\u001b[0m\n\u001b[1;32m    435\u001b[0m                 \u001b[0;32mif\u001b[0m \u001b[0mself\u001b[0m\u001b[0;34m.\u001b[0m\u001b[0m_initial_weights\u001b[0m \u001b[0;32mis\u001b[0m \u001b[0;32mnot\u001b[0m \u001b[0;32mNone\u001b[0m\u001b[0;34m:\u001b[0m\u001b[0;34m\u001b[0m\u001b[0m\n\u001b[0;32m--> 436\u001b[0;31m                     \u001b[0mself\u001b[0m\u001b[0;34m.\u001b[0m\u001b[0mset_weights\u001b[0m\u001b[0;34m(\u001b[0m\u001b[0mself\u001b[0m\u001b[0;34m.\u001b[0m\u001b[0m_initial_weights\u001b[0m\u001b[0;34m)\u001b[0m\u001b[0;34m\u001b[0m\u001b[0m\n\u001b[0m\u001b[1;32m    437\u001b[0m \u001b[0;34m\u001b[0m\u001b[0m\n\u001b[1;32m    438\u001b[0m             \u001b[0;31m# Raise exceptions in case the input is not compatible\u001b[0m\u001b[0;34m\u001b[0m\u001b[0;34m\u001b[0m\u001b[0m\n",
      "\u001b[0;32m/usr/local/lib/python3.6/site-packages/keras/engine/base_layer.py\u001b[0m in \u001b[0;36mset_weights\u001b[0;34m(self, weights)\u001b[0m\n\u001b[1;32m   1049\u001b[0m             \u001b[0;32mreturn\u001b[0m\u001b[0;34m\u001b[0m\u001b[0m\n\u001b[1;32m   1050\u001b[0m         \u001b[0mweight_value_tuples\u001b[0m \u001b[0;34m=\u001b[0m \u001b[0;34m[\u001b[0m\u001b[0;34m]\u001b[0m\u001b[0;34m\u001b[0m\u001b[0m\n\u001b[0;32m-> 1051\u001b[0;31m         \u001b[0mparam_values\u001b[0m \u001b[0;34m=\u001b[0m \u001b[0mK\u001b[0m\u001b[0;34m.\u001b[0m\u001b[0mbatch_get_value\u001b[0m\u001b[0;34m(\u001b[0m\u001b[0mparams\u001b[0m\u001b[0;34m)\u001b[0m\u001b[0;34m\u001b[0m\u001b[0m\n\u001b[0m\u001b[1;32m   1052\u001b[0m         \u001b[0;32mfor\u001b[0m \u001b[0mpv\u001b[0m\u001b[0;34m,\u001b[0m \u001b[0mp\u001b[0m\u001b[0;34m,\u001b[0m \u001b[0mw\u001b[0m \u001b[0;32min\u001b[0m \u001b[0mzip\u001b[0m\u001b[0;34m(\u001b[0m\u001b[0mparam_values\u001b[0m\u001b[0;34m,\u001b[0m \u001b[0mparams\u001b[0m\u001b[0;34m,\u001b[0m \u001b[0mweights\u001b[0m\u001b[0;34m)\u001b[0m\u001b[0;34m:\u001b[0m\u001b[0;34m\u001b[0m\u001b[0m\n\u001b[1;32m   1053\u001b[0m             \u001b[0;32mif\u001b[0m \u001b[0mpv\u001b[0m\u001b[0;34m.\u001b[0m\u001b[0mshape\u001b[0m \u001b[0;34m!=\u001b[0m \u001b[0mw\u001b[0m\u001b[0;34m.\u001b[0m\u001b[0mshape\u001b[0m\u001b[0;34m:\u001b[0m\u001b[0;34m\u001b[0m\u001b[0m\n",
      "\u001b[0;32m/usr/local/lib/python3.6/site-packages/keras/backend/tensorflow_backend.py\u001b[0m in \u001b[0;36mbatch_get_value\u001b[0;34m(ops)\u001b[0m\n\u001b[1;32m   2388\u001b[0m     \"\"\"\n\u001b[1;32m   2389\u001b[0m     \u001b[0;32mif\u001b[0m \u001b[0mops\u001b[0m\u001b[0;34m:\u001b[0m\u001b[0;34m\u001b[0m\u001b[0m\n\u001b[0;32m-> 2390\u001b[0;31m         \u001b[0;32mreturn\u001b[0m \u001b[0mget_session\u001b[0m\u001b[0;34m(\u001b[0m\u001b[0;34m)\u001b[0m\u001b[0;34m.\u001b[0m\u001b[0mrun\u001b[0m\u001b[0;34m(\u001b[0m\u001b[0mops\u001b[0m\u001b[0;34m)\u001b[0m\u001b[0;34m\u001b[0m\u001b[0m\n\u001b[0m\u001b[1;32m   2391\u001b[0m     \u001b[0;32melse\u001b[0m\u001b[0;34m:\u001b[0m\u001b[0;34m\u001b[0m\u001b[0m\n\u001b[1;32m   2392\u001b[0m         \u001b[0;32mreturn\u001b[0m \u001b[0;34m[\u001b[0m\u001b[0;34m]\u001b[0m\u001b[0;34m\u001b[0m\u001b[0m\n",
      "\u001b[0;32m/usr/local/lib/python3.6/site-packages/keras/backend/tensorflow_backend.py\u001b[0m in \u001b[0;36mget_session\u001b[0;34m()\u001b[0m\n\u001b[1;32m    195\u001b[0m                 \u001b[0;31m# not already marked as initialized.\u001b[0m\u001b[0;34m\u001b[0m\u001b[0;34m\u001b[0m\u001b[0m\n\u001b[1;32m    196\u001b[0m                 is_initialized = session.run(\n\u001b[0;32m--> 197\u001b[0;31m                     [tf.is_variable_initialized(v) for v in candidate_vars])\n\u001b[0m\u001b[1;32m    198\u001b[0m                 \u001b[0muninitialized_vars\u001b[0m \u001b[0;34m=\u001b[0m \u001b[0;34m[\u001b[0m\u001b[0;34m]\u001b[0m\u001b[0;34m\u001b[0m\u001b[0m\n\u001b[1;32m    199\u001b[0m                 \u001b[0;32mfor\u001b[0m \u001b[0mflag\u001b[0m\u001b[0;34m,\u001b[0m \u001b[0mv\u001b[0m \u001b[0;32min\u001b[0m \u001b[0mzip\u001b[0m\u001b[0;34m(\u001b[0m\u001b[0mis_initialized\u001b[0m\u001b[0;34m,\u001b[0m \u001b[0mcandidate_vars\u001b[0m\u001b[0;34m)\u001b[0m\u001b[0;34m:\u001b[0m\u001b[0;34m\u001b[0m\u001b[0m\n",
      "\u001b[0;32m/usr/local/lib/python3.6/site-packages/tensorflow/python/client/session.py\u001b[0m in \u001b[0;36mrun\u001b[0;34m(self, fetches, feed_dict, options, run_metadata)\u001b[0m\n\u001b[1;32m    875\u001b[0m     \u001b[0;32mtry\u001b[0m\u001b[0;34m:\u001b[0m\u001b[0;34m\u001b[0m\u001b[0m\n\u001b[1;32m    876\u001b[0m       result = self._run(None, fetches, feed_dict, options_ptr,\n\u001b[0;32m--> 877\u001b[0;31m                          run_metadata_ptr)\n\u001b[0m\u001b[1;32m    878\u001b[0m       \u001b[0;32mif\u001b[0m \u001b[0mrun_metadata\u001b[0m\u001b[0;34m:\u001b[0m\u001b[0;34m\u001b[0m\u001b[0m\n\u001b[1;32m    879\u001b[0m         \u001b[0mproto_data\u001b[0m \u001b[0;34m=\u001b[0m \u001b[0mtf_session\u001b[0m\u001b[0;34m.\u001b[0m\u001b[0mTF_GetBuffer\u001b[0m\u001b[0;34m(\u001b[0m\u001b[0mrun_metadata_ptr\u001b[0m\u001b[0;34m)\u001b[0m\u001b[0;34m\u001b[0m\u001b[0m\n",
      "\u001b[0;32m/usr/local/lib/python3.6/site-packages/tensorflow/python/client/session.py\u001b[0m in \u001b[0;36m_run\u001b[0;34m(self, handle, fetches, feed_dict, options, run_metadata)\u001b[0m\n\u001b[1;32m   1098\u001b[0m     \u001b[0;32mif\u001b[0m \u001b[0mfinal_fetches\u001b[0m \u001b[0;32mor\u001b[0m \u001b[0mfinal_targets\u001b[0m \u001b[0;32mor\u001b[0m \u001b[0;34m(\u001b[0m\u001b[0mhandle\u001b[0m \u001b[0;32mand\u001b[0m \u001b[0mfeed_dict_tensor\u001b[0m\u001b[0;34m)\u001b[0m\u001b[0;34m:\u001b[0m\u001b[0;34m\u001b[0m\u001b[0m\n\u001b[1;32m   1099\u001b[0m       results = self._do_run(handle, final_targets, final_fetches,\n\u001b[0;32m-> 1100\u001b[0;31m                              feed_dict_tensor, options, run_metadata)\n\u001b[0m\u001b[1;32m   1101\u001b[0m     \u001b[0;32melse\u001b[0m\u001b[0;34m:\u001b[0m\u001b[0;34m\u001b[0m\u001b[0m\n\u001b[1;32m   1102\u001b[0m       \u001b[0mresults\u001b[0m \u001b[0;34m=\u001b[0m \u001b[0;34m[\u001b[0m\u001b[0;34m]\u001b[0m\u001b[0;34m\u001b[0m\u001b[0m\n",
      "\u001b[0;32m/usr/local/lib/python3.6/site-packages/tensorflow/python/client/session.py\u001b[0m in \u001b[0;36m_do_run\u001b[0;34m(self, handle, target_list, fetch_list, feed_dict, options, run_metadata)\u001b[0m\n\u001b[1;32m   1270\u001b[0m     \u001b[0;32mif\u001b[0m \u001b[0mhandle\u001b[0m \u001b[0;32mis\u001b[0m \u001b[0;32mNone\u001b[0m\u001b[0;34m:\u001b[0m\u001b[0;34m\u001b[0m\u001b[0m\n\u001b[1;32m   1271\u001b[0m       return self._do_call(_run_fn, feeds, fetches, targets, options,\n\u001b[0;32m-> 1272\u001b[0;31m                            run_metadata)\n\u001b[0m\u001b[1;32m   1273\u001b[0m     \u001b[0;32melse\u001b[0m\u001b[0;34m:\u001b[0m\u001b[0;34m\u001b[0m\u001b[0m\n\u001b[1;32m   1274\u001b[0m       \u001b[0;32mreturn\u001b[0m \u001b[0mself\u001b[0m\u001b[0;34m.\u001b[0m\u001b[0m_do_call\u001b[0m\u001b[0;34m(\u001b[0m\u001b[0m_prun_fn\u001b[0m\u001b[0;34m,\u001b[0m \u001b[0mhandle\u001b[0m\u001b[0;34m,\u001b[0m \u001b[0mfeeds\u001b[0m\u001b[0;34m,\u001b[0m \u001b[0mfetches\u001b[0m\u001b[0;34m)\u001b[0m\u001b[0;34m\u001b[0m\u001b[0m\n",
      "\u001b[0;32m/usr/local/lib/python3.6/site-packages/tensorflow/python/client/session.py\u001b[0m in \u001b[0;36m_do_call\u001b[0;34m(self, fn, *args)\u001b[0m\n\u001b[1;32m   1289\u001b[0m         \u001b[0;32mexcept\u001b[0m \u001b[0mKeyError\u001b[0m\u001b[0;34m:\u001b[0m\u001b[0;34m\u001b[0m\u001b[0m\n\u001b[1;32m   1290\u001b[0m           \u001b[0;32mpass\u001b[0m\u001b[0;34m\u001b[0m\u001b[0m\n\u001b[0;32m-> 1291\u001b[0;31m       \u001b[0;32mraise\u001b[0m \u001b[0mtype\u001b[0m\u001b[0;34m(\u001b[0m\u001b[0me\u001b[0m\u001b[0;34m)\u001b[0m\u001b[0;34m(\u001b[0m\u001b[0mnode_def\u001b[0m\u001b[0;34m,\u001b[0m \u001b[0mop\u001b[0m\u001b[0;34m,\u001b[0m \u001b[0mmessage\u001b[0m\u001b[0;34m)\u001b[0m\u001b[0;34m\u001b[0m\u001b[0m\n\u001b[0m\u001b[1;32m   1292\u001b[0m \u001b[0;34m\u001b[0m\u001b[0m\n\u001b[1;32m   1293\u001b[0m   \u001b[0;32mdef\u001b[0m \u001b[0m_extend_graph\u001b[0m\u001b[0;34m(\u001b[0m\u001b[0mself\u001b[0m\u001b[0;34m)\u001b[0m\u001b[0;34m:\u001b[0m\u001b[0;34m\u001b[0m\u001b[0m\n",
      "\u001b[0;31mInvalidArgumentError\u001b[0m: No OpKernel was registered to support Op 'CudnnRNN' with these attrs.  Registered devices: [CPU], Registered kernels:\n  <no registered kernels>\n\n\t [[Node: bidirectional_1/CudnnRNN = CudnnRNN[T=DT_FLOAT, direction=\"unidirectional\", dropout=0, input_mode=\"linear_input\", is_training=true, rnn_mode=\"lstm\", seed=87654321, seed2=0](bidirectional_1/transpose, bidirectional_1/ExpandDims_1, bidirectional_1/ExpandDims_2, bidirectional_1/concat)]]\n\nCaused by op 'bidirectional_1/CudnnRNN', defined at:\n  File \"/usr/local/Cellar/python/3.6.5_1/Frameworks/Python.framework/Versions/3.6/lib/python3.6/runpy.py\", line 193, in _run_module_as_main\n    \"__main__\", mod_spec)\n  File \"/usr/local/Cellar/python/3.6.5_1/Frameworks/Python.framework/Versions/3.6/lib/python3.6/runpy.py\", line 85, in _run_code\n    exec(code, run_globals)\n  File \"/usr/local/lib/python3.6/site-packages/ipykernel_launcher.py\", line 16, in <module>\n    app.launch_new_instance()\n  File \"/usr/local/lib/python3.6/site-packages/traitlets/config/application.py\", line 658, in launch_instance\n    app.start()\n  File \"/usr/local/lib/python3.6/site-packages/ipykernel/kernelapp.py\", line 497, in start\n    self.io_loop.start()\n  File \"/usr/local/lib/python3.6/site-packages/tornado/platform/asyncio.py\", line 132, in start\n    self.asyncio_loop.run_forever()\n  File \"/usr/local/Cellar/python/3.6.5_1/Frameworks/Python.framework/Versions/3.6/lib/python3.6/asyncio/base_events.py\", line 422, in run_forever\n    self._run_once()\n  File \"/usr/local/Cellar/python/3.6.5_1/Frameworks/Python.framework/Versions/3.6/lib/python3.6/asyncio/base_events.py\", line 1432, in _run_once\n    handle._run()\n  File \"/usr/local/Cellar/python/3.6.5_1/Frameworks/Python.framework/Versions/3.6/lib/python3.6/asyncio/events.py\", line 145, in _run\n    self._callback(*self._args)\n  File \"/usr/local/lib/python3.6/site-packages/tornado/platform/asyncio.py\", line 122, in _handle_events\n    handler_func(fileobj, events)\n  File \"/usr/local/lib/python3.6/site-packages/tornado/stack_context.py\", line 300, in null_wrapper\n    return fn(*args, **kwargs)\n  File \"/usr/local/lib/python3.6/site-packages/zmq/eventloop/zmqstream.py\", line 450, in _handle_events\n    self._handle_recv()\n  File \"/usr/local/lib/python3.6/site-packages/zmq/eventloop/zmqstream.py\", line 480, in _handle_recv\n    self._run_callback(callback, msg)\n  File \"/usr/local/lib/python3.6/site-packages/zmq/eventloop/zmqstream.py\", line 432, in _run_callback\n    callback(*args, **kwargs)\n  File \"/usr/local/lib/python3.6/site-packages/tornado/stack_context.py\", line 300, in null_wrapper\n    return fn(*args, **kwargs)\n  File \"/usr/local/lib/python3.6/site-packages/ipykernel/kernelbase.py\", line 283, in dispatcher\n    return self.dispatch_shell(stream, msg)\n  File \"/usr/local/lib/python3.6/site-packages/ipykernel/kernelbase.py\", line 233, in dispatch_shell\n    handler(stream, idents, msg)\n  File \"/usr/local/lib/python3.6/site-packages/ipykernel/kernelbase.py\", line 399, in execute_request\n    user_expressions, allow_stdin)\n  File \"/usr/local/lib/python3.6/site-packages/ipykernel/ipkernel.py\", line 208, in do_execute\n    res = shell.run_cell(code, store_history=store_history, silent=silent)\n  File \"/usr/local/lib/python3.6/site-packages/ipykernel/zmqshell.py\", line 537, in run_cell\n    return super(ZMQInteractiveShell, self).run_cell(*args, **kwargs)\n  File \"/usr/local/lib/python3.6/site-packages/IPython/core/interactiveshell.py\", line 2662, in run_cell\n    raw_cell, store_history, silent, shell_futures)\n  File \"/usr/local/lib/python3.6/site-packages/IPython/core/interactiveshell.py\", line 2785, in _run_cell\n    interactivity=interactivity, compiler=compiler, result=result)\n  File \"/usr/local/lib/python3.6/site-packages/IPython/core/interactiveshell.py\", line 2901, in run_ast_nodes\n    if self.run_code(code, result):\n  File \"/usr/local/lib/python3.6/site-packages/IPython/core/interactiveshell.py\", line 2961, in run_code\n    exec(code_obj, self.user_global_ns, self.user_ns)\n  File \"<ipython-input-447-cfcc53afa5e2>\", line 14, in <module>\n    x = Bidirectional(CuDNNLSTM(64, return_sequences=False))(embedded_sequences)\n  File \"/usr/local/lib/python3.6/site-packages/keras/layers/wrappers.py\", line 426, in __call__\n    return super(Bidirectional, self).__call__(inputs, **kwargs)\n  File \"/usr/local/lib/python3.6/site-packages/keras/engine/base_layer.py\", line 457, in __call__\n    output = self.call(inputs, **kwargs)\n  File \"/usr/local/lib/python3.6/site-packages/keras/layers/wrappers.py\", line 504, in call\n    y = self.forward_layer.call(inputs, **kwargs)\n  File \"/usr/local/lib/python3.6/site-packages/keras/layers/cudnn_recurrent.py\", line 90, in call\n    output, states = self._process_batch(inputs, initial_state)\n  File \"/usr/local/lib/python3.6/site-packages/keras/layers/cudnn_recurrent.py\", line 510, in _process_batch\n    is_training=True)\n  File \"/usr/local/lib/python3.6/site-packages/tensorflow/contrib/cudnn_rnn/python/ops/cudnn_rnn_ops.py\", line 1544, in __call__\n    input_data, input_h, input_c, params, is_training=is_training)\n  File \"/usr/local/lib/python3.6/site-packages/tensorflow/contrib/cudnn_rnn/python/ops/cudnn_rnn_ops.py\", line 1435, in __call__\n    seed=self._seed)\n  File \"/usr/local/lib/python3.6/site-packages/tensorflow/contrib/cudnn_rnn/python/ops/cudnn_rnn_ops.py\", line 922, in _cudnn_rnn\n    outputs, output_h, output_c, _ = gen_cudnn_rnn_ops.cudnn_rnn(**args)\n  File \"/usr/local/lib/python3.6/site-packages/tensorflow/python/ops/gen_cudnn_rnn_ops.py\", line 115, in cudnn_rnn\n    is_training=is_training, name=name)\n  File \"/usr/local/lib/python3.6/site-packages/tensorflow/python/framework/op_def_library.py\", line 787, in _apply_op_helper\n    op_def=op_def)\n  File \"/usr/local/lib/python3.6/site-packages/tensorflow/python/util/deprecation.py\", line 454, in new_func\n    return func(*args, **kwargs)\n  File \"/usr/local/lib/python3.6/site-packages/tensorflow/python/framework/ops.py\", line 3155, in create_op\n    op_def=op_def)\n  File \"/usr/local/lib/python3.6/site-packages/tensorflow/python/framework/ops.py\", line 1717, in __init__\n    self._traceback = tf_stack.extract_stack()\n\nInvalidArgumentError (see above for traceback): No OpKernel was registered to support Op 'CudnnRNN' with these attrs.  Registered devices: [CPU], Registered kernels:\n  <no registered kernels>\n\n\t [[Node: bidirectional_1/CudnnRNN = CudnnRNN[T=DT_FLOAT, direction=\"unidirectional\", dropout=0, input_mode=\"linear_input\", is_training=true, rnn_mode=\"lstm\", seed=87654321, seed2=0](bidirectional_1/transpose, bidirectional_1/ExpandDims_1, bidirectional_1/ExpandDims_2, bidirectional_1/concat)]]\n"
     ]
    }
   ],
   "source": [
    "wv_layer = Embedding(nb_words,\n",
    "                     WV_DIM,\n",
    "                     mask_zero=False,\n",
    "                     weights=[wv_matrix],\n",
    "                     input_length=MAX_SEQUENCE_LENGTH,\n",
    "                     trainable=False)\n",
    "\n",
    "# Inputs\n",
    "comment_input = Input(shape=(MAX_SEQUENCE_LENGTH,), dtype='int32')\n",
    "embedded_sequences = wv_layer(comment_input)\n",
    "\n",
    "\n",
    "embedded_sequences = SpatialDropout1D(0.2)(embedded_sequences)\n",
    "x = Bidirectional(LSTM(64, return_sequences=False))(embedded_sequences)\n",
    "\n",
    "# Output\n",
    "x = Dropout(0.2)(x)\n",
    "x = BatchNormalization()(x)\n",
    "preds = Dense(2, activation='sigmoid')(x)\n",
    "\n",
    "# build the model\n",
    "model = Model(inputs=[comment_input], outputs=preds)\n",
    "model.compile(loss='binary_crossentropy',\n",
    "              optimizer=Adam(lr=0.001, clipnorm=.25, beta_1=0.7, beta_2=0.99),\n",
    "              metrics=[])\n"
   ]
  },
  {
   "cell_type": "code",
   "execution_count": 457,
   "metadata": {},
   "outputs": [
    {
     "ename": "ValueError",
     "evalue": "Error when checking target: expected dense_28 to have shape (6,) but got array with shape (2,)",
     "output_type": "error",
     "traceback": [
      "\u001b[0;31m---------------------------------------------------------------------------\u001b[0m",
      "\u001b[0;31mValueError\u001b[0m                                Traceback (most recent call last)",
      "\u001b[0;32m<ipython-input-457-ab87742892d6>\u001b[0m in \u001b[0;36m<module>\u001b[0;34m()\u001b[0m\n\u001b[1;32m      1\u001b[0m hist = model.fit([data], y_reshaped_tr, validation_split=0.1,\n\u001b[0;32m----> 2\u001b[0;31m                  epochs=10, batch_size=256, shuffle=True)\n\u001b[0m",
      "\u001b[0;32m/usr/local/lib/python3.6/site-packages/keras/engine/training.py\u001b[0m in \u001b[0;36mfit\u001b[0;34m(self, x, y, batch_size, epochs, verbose, callbacks, validation_split, validation_data, shuffle, class_weight, sample_weight, initial_epoch, steps_per_epoch, validation_steps, **kwargs)\u001b[0m\n\u001b[1;32m    948\u001b[0m             \u001b[0msample_weight\u001b[0m\u001b[0;34m=\u001b[0m\u001b[0msample_weight\u001b[0m\u001b[0;34m,\u001b[0m\u001b[0;34m\u001b[0m\u001b[0m\n\u001b[1;32m    949\u001b[0m             \u001b[0mclass_weight\u001b[0m\u001b[0;34m=\u001b[0m\u001b[0mclass_weight\u001b[0m\u001b[0;34m,\u001b[0m\u001b[0;34m\u001b[0m\u001b[0m\n\u001b[0;32m--> 950\u001b[0;31m             batch_size=batch_size)\n\u001b[0m\u001b[1;32m    951\u001b[0m         \u001b[0;31m# Prepare validation data.\u001b[0m\u001b[0;34m\u001b[0m\u001b[0;34m\u001b[0m\u001b[0m\n\u001b[1;32m    952\u001b[0m         \u001b[0mdo_validation\u001b[0m \u001b[0;34m=\u001b[0m \u001b[0;32mFalse\u001b[0m\u001b[0;34m\u001b[0m\u001b[0m\n",
      "\u001b[0;32m/usr/local/lib/python3.6/site-packages/keras/engine/training.py\u001b[0m in \u001b[0;36m_standardize_user_data\u001b[0;34m(self, x, y, sample_weight, class_weight, check_array_lengths, batch_size)\u001b[0m\n\u001b[1;32m    785\u001b[0m                 \u001b[0mfeed_output_shapes\u001b[0m\u001b[0;34m,\u001b[0m\u001b[0;34m\u001b[0m\u001b[0m\n\u001b[1;32m    786\u001b[0m                 \u001b[0mcheck_batch_axis\u001b[0m\u001b[0;34m=\u001b[0m\u001b[0;32mFalse\u001b[0m\u001b[0;34m,\u001b[0m  \u001b[0;31m# Don't enforce the batch size.\u001b[0m\u001b[0;34m\u001b[0m\u001b[0m\n\u001b[0;32m--> 787\u001b[0;31m                 exception_prefix='target')\n\u001b[0m\u001b[1;32m    788\u001b[0m \u001b[0;34m\u001b[0m\u001b[0m\n\u001b[1;32m    789\u001b[0m             \u001b[0;31m# Generate sample-wise weight values given the `sample_weight` and\u001b[0m\u001b[0;34m\u001b[0m\u001b[0;34m\u001b[0m\u001b[0m\n",
      "\u001b[0;32m/usr/local/lib/python3.6/site-packages/keras/engine/training_utils.py\u001b[0m in \u001b[0;36mstandardize_input_data\u001b[0;34m(data, names, shapes, check_batch_axis, exception_prefix)\u001b[0m\n\u001b[1;32m    135\u001b[0m                             \u001b[0;34m': expected '\u001b[0m \u001b[0;34m+\u001b[0m \u001b[0mnames\u001b[0m\u001b[0;34m[\u001b[0m\u001b[0mi\u001b[0m\u001b[0;34m]\u001b[0m \u001b[0;34m+\u001b[0m \u001b[0;34m' to have shape '\u001b[0m \u001b[0;34m+\u001b[0m\u001b[0;34m\u001b[0m\u001b[0m\n\u001b[1;32m    136\u001b[0m                             \u001b[0mstr\u001b[0m\u001b[0;34m(\u001b[0m\u001b[0mshape\u001b[0m\u001b[0;34m)\u001b[0m \u001b[0;34m+\u001b[0m \u001b[0;34m' but got array with shape '\u001b[0m \u001b[0;34m+\u001b[0m\u001b[0;34m\u001b[0m\u001b[0m\n\u001b[0;32m--> 137\u001b[0;31m                             str(data_shape))\n\u001b[0m\u001b[1;32m    138\u001b[0m     \u001b[0;32mreturn\u001b[0m \u001b[0mdata\u001b[0m\u001b[0;34m\u001b[0m\u001b[0m\n\u001b[1;32m    139\u001b[0m \u001b[0;34m\u001b[0m\u001b[0m\n",
      "\u001b[0;31mValueError\u001b[0m: Error when checking target: expected dense_28 to have shape (6,) but got array with shape (2,)"
     ]
    }
   ],
   "source": [
    "hist = model.fit([data], y_reshaped_tr, validation_split=0.1,\n",
    "                 epochs=10, batch_size=256, shuffle=True)"
   ]
  },
  {
   "cell_type": "code",
   "execution_count": 193,
   "metadata": {},
   "outputs": [],
   "source": [
    "X_train_notlemmatized = text_parser(X_train, lemmatize=False)"
   ]
  },
  {
   "cell_type": "code",
   "execution_count": 201,
   "metadata": {},
   "outputs": [
    {
     "data": {
      "text/plain": [
       "['электрический',\n",
       " 'настольный',\n",
       " 'плита',\n",
       " 'Kitfort',\n",
       " 'KT',\n",
       " '106',\n",
       " '140',\n",
       " '83р',\n",
       " 'гарантия',\n",
       " '100',\n",
       " '%']"
      ]
     },
     "execution_count": 201,
     "metadata": {},
     "output_type": "execute_result"
    }
   ],
   "source": [
    "X_train[379814]"
   ]
  },
  {
   "cell_type": "code",
   "execution_count": 200,
   "metadata": {},
   "outputs": [
    {
     "data": {
      "text/plain": [
       "['электрический',\n",
       " 'настольный',\n",
       " 'плита',\n",
       " 'Kitfort',\n",
       " 'KT',\n",
       " '106',\n",
       " '140',\n",
       " '83р',\n",
       " 'гарантия',\n",
       " '100']"
      ]
     },
     "execution_count": 200,
     "metadata": {},
     "output_type": "execute_result"
    }
   ],
   "source": [
    "X_train_notlemmatized[379814] #.index[20]"
   ]
  },
  {
   "cell_type": "code",
   "execution_count": 314,
   "metadata": {},
   "outputs": [],
   "source": [
    "\n",
    "def padder(dataset, max_length = 30):\n",
    "\n",
    "    all_rows = []\n",
    "    for row in dataset:\n",
    "        difference = max_length - len(row)\n",
    "        if difference >0:\n",
    "            row_list = [word for word in row]\n",
    "            for times in range(difference):\n",
    "                row_list.append(0)\n",
    "        all_rows.append(row_list)\n",
    "    series = pd.Series(all_rows)\n",
    "    return series"
   ]
  },
  {
   "cell_type": "code",
   "execution_count": 315,
   "metadata": {},
   "outputs": [],
   "source": [
    "training_padded = padder(merged_trainig_examples)"
   ]
  },
  {
   "cell_type": "code",
   "execution_count": 316,
   "metadata": {},
   "outputs": [],
   "source": [
    "test_padded = padder(merged_test_examples)"
   ]
  },
  {
   "cell_type": "code",
   "execution_count": 317,
   "metadata": {},
   "outputs": [],
   "source": [
    "def vectorizer_of_series(series):\n",
    "    final_list = []\n",
    "    for row in series:\n",
    "        vectorized_pairs = []\n",
    "        for word in row: \n",
    "            if word== 0:\n",
    "                vectorized_pairs.append(np.zeros(300))\n",
    "            else:\n",
    "                if word in vocab:\n",
    "                    word_emb = model.wv[word]\n",
    "                    vectorized_pairs.append(word_emb)\n",
    "                else:\n",
    "                    vectorized_pairs.append(np.zeros(300))\n",
    "        final_list.append(vectorized_pairs)\n",
    "    return final_list"
   ]
  },
  {
   "cell_type": "code",
   "execution_count": 318,
   "metadata": {},
   "outputs": [],
   "source": [
    "vec_series_training = vectorizer_of_series(training_padded)"
   ]
  },
  {
   "cell_type": "code",
   "execution_count": 319,
   "metadata": {},
   "outputs": [],
   "source": [
    "final_array_training = np.array(vec_series_training)"
   ]
  },
  {
   "cell_type": "code",
   "execution_count": 320,
   "metadata": {},
   "outputs": [],
   "source": [
    "vec_series_test = vectorizer_of_series(test_padded)"
   ]
  },
  {
   "cell_type": "code",
   "execution_count": 321,
   "metadata": {},
   "outputs": [],
   "source": [
    "final_array_test = np.array(vec_series_test)"
   ]
  },
  {
   "cell_type": "code",
   "execution_count": null,
   "metadata": {},
   "outputs": [],
   "source": [
    "final_array_training.shape"
   ]
  },
  {
   "cell_type": "code",
   "execution_count": null,
   "metadata": {},
   "outputs": [],
   "source": [
    "final_array_test.shape"
   ]
  },
  {
   "cell_type": "code",
   "execution_count": null,
   "metadata": {},
   "outputs": [],
   "source": [
    "len(training_df_mixed['pair class'])"
   ]
  },
  {
   "cell_type": "code",
   "execution_count": 323,
   "metadata": {},
   "outputs": [
    {
     "name": "stdout",
     "output_type": "stream",
     "text": [
      "Train on 137074 samples, validate on 58746 samples\n",
      "Epoch 1/10\n",
      "137074/137074 [==============================] - 187s 1ms/step - loss: 1.5772 - acc: 0.6400 - val_loss: 4.1085 - val_acc: 0.6288\n",
      "Epoch 2/10\n",
      "137056/137074 [============================>.] - ETA: 0s - loss: 1.1857 - acc: 0.5346"
     ]
    },
    {
     "ename": "KeyboardInterrupt",
     "evalue": "",
     "output_type": "error",
     "traceback": [
      "\u001b[0;31m---------------------------------------------------------------------------\u001b[0m",
      "\u001b[0;31mKeyboardInterrupt\u001b[0m                         Traceback (most recent call last)",
      "\u001b[0;32m<ipython-input-323-aebc2e9c2369>\u001b[0m in \u001b[0;36m<module>\u001b[0;34m()\u001b[0m\n\u001b[1;32m     11\u001b[0m \u001b[0mmodel_rnn\u001b[0m\u001b[0;34m.\u001b[0m\u001b[0mcompile\u001b[0m\u001b[0;34m(\u001b[0m\u001b[0mloss\u001b[0m\u001b[0;34m=\u001b[0m\u001b[0;34m'categorical_crossentropy'\u001b[0m\u001b[0;34m,\u001b[0m \u001b[0moptimizer\u001b[0m\u001b[0;34m=\u001b[0m\u001b[0;34m'adam'\u001b[0m\u001b[0;34m,\u001b[0m \u001b[0mmetrics\u001b[0m \u001b[0;34m=\u001b[0m \u001b[0;34m[\u001b[0m\u001b[0;34m'accuracy'\u001b[0m\u001b[0;34m]\u001b[0m\u001b[0;34m)\u001b[0m\u001b[0;34m\u001b[0m\u001b[0m\n\u001b[1;32m     12\u001b[0m \u001b[0;34m\u001b[0m\u001b[0m\n\u001b[0;32m---> 13\u001b[0;31m \u001b[0mmodel_rnn\u001b[0m\u001b[0;34m.\u001b[0m\u001b[0mfit\u001b[0m\u001b[0;34m(\u001b[0m\u001b[0mfinal_array_training\u001b[0m\u001b[0;34m,\u001b[0m \u001b[0my_reshaped_tr\u001b[0m\u001b[0;34m,\u001b[0m \u001b[0mepochs\u001b[0m\u001b[0;34m=\u001b[0m\u001b[0;36m10\u001b[0m\u001b[0;34m,\u001b[0m \u001b[0mverbose\u001b[0m \u001b[0;34m=\u001b[0m \u001b[0;36m1\u001b[0m\u001b[0;34m,\u001b[0m \u001b[0mvalidation_data\u001b[0m \u001b[0;34m=\u001b[0m \u001b[0;34m(\u001b[0m\u001b[0mfinal_array_test\u001b[0m\u001b[0;34m,\u001b[0m \u001b[0my_reshaped_test\u001b[0m\u001b[0;34m)\u001b[0m\u001b[0;34m)\u001b[0m\u001b[0;34m\u001b[0m\u001b[0m\n\u001b[0m",
      "\u001b[0;32m/usr/local/lib/python3.6/site-packages/keras/engine/training.py\u001b[0m in \u001b[0;36mfit\u001b[0;34m(self, x, y, batch_size, epochs, verbose, callbacks, validation_split, validation_data, shuffle, class_weight, sample_weight, initial_epoch, steps_per_epoch, validation_steps, **kwargs)\u001b[0m\n\u001b[1;32m   1035\u001b[0m                                         \u001b[0minitial_epoch\u001b[0m\u001b[0;34m=\u001b[0m\u001b[0minitial_epoch\u001b[0m\u001b[0;34m,\u001b[0m\u001b[0;34m\u001b[0m\u001b[0m\n\u001b[1;32m   1036\u001b[0m                                         \u001b[0msteps_per_epoch\u001b[0m\u001b[0;34m=\u001b[0m\u001b[0msteps_per_epoch\u001b[0m\u001b[0;34m,\u001b[0m\u001b[0;34m\u001b[0m\u001b[0m\n\u001b[0;32m-> 1037\u001b[0;31m                                         validation_steps=validation_steps)\n\u001b[0m\u001b[1;32m   1038\u001b[0m \u001b[0;34m\u001b[0m\u001b[0m\n\u001b[1;32m   1039\u001b[0m     def evaluate(self, x=None, y=None,\n",
      "\u001b[0;32m/usr/local/lib/python3.6/site-packages/keras/engine/training_arrays.py\u001b[0m in \u001b[0;36mfit_loop\u001b[0;34m(model, f, ins, out_labels, batch_size, epochs, verbose, callbacks, val_f, val_ins, shuffle, callback_metrics, initial_epoch, steps_per_epoch, validation_steps)\u001b[0m\n\u001b[1;32m    210\u001b[0m                         val_outs = test_loop(model, val_f, val_ins,\n\u001b[1;32m    211\u001b[0m                                              \u001b[0mbatch_size\u001b[0m\u001b[0;34m=\u001b[0m\u001b[0mbatch_size\u001b[0m\u001b[0;34m,\u001b[0m\u001b[0;34m\u001b[0m\u001b[0m\n\u001b[0;32m--> 212\u001b[0;31m                                              verbose=0)\n\u001b[0m\u001b[1;32m    213\u001b[0m                         \u001b[0mval_outs\u001b[0m \u001b[0;34m=\u001b[0m \u001b[0mto_list\u001b[0m\u001b[0;34m(\u001b[0m\u001b[0mval_outs\u001b[0m\u001b[0;34m)\u001b[0m\u001b[0;34m\u001b[0m\u001b[0m\n\u001b[1;32m    214\u001b[0m                         \u001b[0;31m# Same labels assumed.\u001b[0m\u001b[0;34m\u001b[0m\u001b[0;34m\u001b[0m\u001b[0m\n",
      "\u001b[0;32m/usr/local/lib/python3.6/site-packages/keras/engine/training_arrays.py\u001b[0m in \u001b[0;36mtest_loop\u001b[0;34m(model, f, ins, batch_size, verbose, steps)\u001b[0m\n\u001b[1;32m    390\u001b[0m                 \u001b[0mins_batch\u001b[0m\u001b[0;34m[\u001b[0m\u001b[0mi\u001b[0m\u001b[0;34m]\u001b[0m \u001b[0;34m=\u001b[0m \u001b[0mins_batch\u001b[0m\u001b[0;34m[\u001b[0m\u001b[0mi\u001b[0m\u001b[0;34m]\u001b[0m\u001b[0;34m.\u001b[0m\u001b[0mtoarray\u001b[0m\u001b[0;34m(\u001b[0m\u001b[0;34m)\u001b[0m\u001b[0;34m\u001b[0m\u001b[0m\n\u001b[1;32m    391\u001b[0m \u001b[0;34m\u001b[0m\u001b[0m\n\u001b[0;32m--> 392\u001b[0;31m             \u001b[0mbatch_outs\u001b[0m \u001b[0;34m=\u001b[0m \u001b[0mf\u001b[0m\u001b[0;34m(\u001b[0m\u001b[0mins_batch\u001b[0m\u001b[0;34m)\u001b[0m\u001b[0;34m\u001b[0m\u001b[0m\n\u001b[0m\u001b[1;32m    393\u001b[0m             \u001b[0;32mif\u001b[0m \u001b[0misinstance\u001b[0m\u001b[0;34m(\u001b[0m\u001b[0mbatch_outs\u001b[0m\u001b[0;34m,\u001b[0m \u001b[0mlist\u001b[0m\u001b[0;34m)\u001b[0m\u001b[0;34m:\u001b[0m\u001b[0;34m\u001b[0m\u001b[0m\n\u001b[1;32m    394\u001b[0m                 \u001b[0;32mif\u001b[0m \u001b[0mbatch_index\u001b[0m \u001b[0;34m==\u001b[0m \u001b[0;36m0\u001b[0m\u001b[0;34m:\u001b[0m\u001b[0;34m\u001b[0m\u001b[0m\n",
      "\u001b[0;32m/usr/local/lib/python3.6/site-packages/keras/backend/tensorflow_backend.py\u001b[0m in \u001b[0;36m__call__\u001b[0;34m(self, inputs)\u001b[0m\n\u001b[1;32m   2664\u001b[0m                 \u001b[0;32mreturn\u001b[0m \u001b[0mself\u001b[0m\u001b[0;34m.\u001b[0m\u001b[0m_legacy_call\u001b[0m\u001b[0;34m(\u001b[0m\u001b[0minputs\u001b[0m\u001b[0;34m)\u001b[0m\u001b[0;34m\u001b[0m\u001b[0m\n\u001b[1;32m   2665\u001b[0m \u001b[0;34m\u001b[0m\u001b[0m\n\u001b[0;32m-> 2666\u001b[0;31m             \u001b[0;32mreturn\u001b[0m \u001b[0mself\u001b[0m\u001b[0;34m.\u001b[0m\u001b[0m_call\u001b[0m\u001b[0;34m(\u001b[0m\u001b[0minputs\u001b[0m\u001b[0;34m)\u001b[0m\u001b[0;34m\u001b[0m\u001b[0m\n\u001b[0m\u001b[1;32m   2667\u001b[0m         \u001b[0;32melse\u001b[0m\u001b[0;34m:\u001b[0m\u001b[0;34m\u001b[0m\u001b[0m\n\u001b[1;32m   2668\u001b[0m             \u001b[0;32mif\u001b[0m \u001b[0mpy_any\u001b[0m\u001b[0;34m(\u001b[0m\u001b[0mis_tensor\u001b[0m\u001b[0;34m(\u001b[0m\u001b[0mx\u001b[0m\u001b[0;34m)\u001b[0m \u001b[0;32mfor\u001b[0m \u001b[0mx\u001b[0m \u001b[0;32min\u001b[0m \u001b[0minputs\u001b[0m\u001b[0;34m)\u001b[0m\u001b[0;34m:\u001b[0m\u001b[0;34m\u001b[0m\u001b[0m\n",
      "\u001b[0;32m/usr/local/lib/python3.6/site-packages/keras/backend/tensorflow_backend.py\u001b[0m in \u001b[0;36m_call\u001b[0;34m(self, inputs)\u001b[0m\n\u001b[1;32m   2634\u001b[0m                                 \u001b[0msymbol_vals\u001b[0m\u001b[0;34m,\u001b[0m\u001b[0;34m\u001b[0m\u001b[0m\n\u001b[1;32m   2635\u001b[0m                                 session)\n\u001b[0;32m-> 2636\u001b[0;31m         \u001b[0mfetched\u001b[0m \u001b[0;34m=\u001b[0m \u001b[0mself\u001b[0m\u001b[0;34m.\u001b[0m\u001b[0m_callable_fn\u001b[0m\u001b[0;34m(\u001b[0m\u001b[0;34m*\u001b[0m\u001b[0marray_vals\u001b[0m\u001b[0;34m)\u001b[0m\u001b[0;34m\u001b[0m\u001b[0m\n\u001b[0m\u001b[1;32m   2637\u001b[0m         \u001b[0;32mreturn\u001b[0m \u001b[0mfetched\u001b[0m\u001b[0;34m[\u001b[0m\u001b[0;34m:\u001b[0m\u001b[0mlen\u001b[0m\u001b[0;34m(\u001b[0m\u001b[0mself\u001b[0m\u001b[0;34m.\u001b[0m\u001b[0moutputs\u001b[0m\u001b[0;34m)\u001b[0m\u001b[0;34m]\u001b[0m\u001b[0;34m\u001b[0m\u001b[0m\n\u001b[1;32m   2638\u001b[0m \u001b[0;34m\u001b[0m\u001b[0m\n",
      "\u001b[0;32m/usr/local/lib/python3.6/site-packages/tensorflow/python/client/session.py\u001b[0m in \u001b[0;36m__call__\u001b[0;34m(self, *args, **kwargs)\u001b[0m\n\u001b[1;32m   1380\u001b[0m           ret = tf_session.TF_SessionRunCallable(\n\u001b[1;32m   1381\u001b[0m               \u001b[0mself\u001b[0m\u001b[0;34m.\u001b[0m\u001b[0m_session\u001b[0m\u001b[0;34m.\u001b[0m\u001b[0m_session\u001b[0m\u001b[0;34m,\u001b[0m \u001b[0mself\u001b[0m\u001b[0;34m.\u001b[0m\u001b[0m_handle\u001b[0m\u001b[0;34m,\u001b[0m \u001b[0margs\u001b[0m\u001b[0;34m,\u001b[0m \u001b[0mstatus\u001b[0m\u001b[0;34m,\u001b[0m\u001b[0;34m\u001b[0m\u001b[0m\n\u001b[0;32m-> 1382\u001b[0;31m               run_metadata_ptr)\n\u001b[0m\u001b[1;32m   1383\u001b[0m         \u001b[0;32mif\u001b[0m \u001b[0mrun_metadata\u001b[0m\u001b[0;34m:\u001b[0m\u001b[0;34m\u001b[0m\u001b[0m\n\u001b[1;32m   1384\u001b[0m           \u001b[0mproto_data\u001b[0m \u001b[0;34m=\u001b[0m \u001b[0mtf_session\u001b[0m\u001b[0;34m.\u001b[0m\u001b[0mTF_GetBuffer\u001b[0m\u001b[0;34m(\u001b[0m\u001b[0mrun_metadata_ptr\u001b[0m\u001b[0;34m)\u001b[0m\u001b[0;34m\u001b[0m\u001b[0m\n",
      "\u001b[0;31mKeyboardInterrupt\u001b[0m: "
     ]
    }
   ],
   "source": [
    "from keras.models import Sequential\n",
    "from keras.layers import SimpleRNN, Dense, Dropout, LSTM\n",
    "\n",
    "model_rnn = Sequential()\n",
    "\n",
    "model_rnn.add(LSTM(100, input_shape=(30, 300), activation = 'relu'))\n",
    "\n",
    "model_rnn.add(Dense(2, activation='softmax'))\n",
    "#model.add(Dropout(0.2))\n",
    "#model.add(LSTM(400))\n",
    "model_rnn.compile(loss='categorical_crossentropy', optimizer='adam', metrics = ['accuracy'])\n",
    "\n",
    "model_rnn.fit(final_array_training, y_reshaped_tr, epochs=10, verbose = 1, validation_data = (final_array_test, y_reshaped_test))"
   ]
  },
  {
   "cell_type": "code",
   "execution_count": null,
   "metadata": {},
   "outputs": [],
   "source": [
    "scores = model_rnn.evaluate(final_array_test, y_reshaped_test, verbose=0)\n",
    "print('Test loss:', scores[0])\n",
    "print('Test accuracy:', scores[1])"
   ]
  },
  {
   "cell_type": "code",
   "execution_count": null,
   "metadata": {},
   "outputs": [],
   "source": [
    "model_rnn.predict(final_array_test)"
   ]
  }
 ],
 "metadata": {
  "kernelspec": {
   "display_name": "Python 3",
   "language": "python",
   "name": "python3"
  },
  "language_info": {
   "codemirror_mode": {
    "name": "ipython",
    "version": 3
   },
   "file_extension": ".py",
   "mimetype": "text/x-python",
   "name": "python",
   "nbconvert_exporter": "python",
   "pygments_lexer": "ipython3",
   "version": "3.6.5"
  }
 },
 "nbformat": 4,
 "nbformat_minor": 2
}
