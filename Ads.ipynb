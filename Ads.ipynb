{
 "cells": [
  {
   "cell_type": "code",
   "execution_count": 1,
   "metadata": {},
   "outputs": [],
   "source": [
    "import pandas as pd\n",
    "import numpy as np\n",
    "import matplotlib.pyplot as plt\n",
    "%matplotlib inline\n",
    "import seaborn as sns\n",
    "from pymystem3 import Mystem\n",
    "from stop_words import get_stop_words\n",
    "from sklearn.model_selection import train_test_split\n",
    "from sklearn.linear_model import LogisticRegression\n",
    "import gensim\n",
    "from gensim.models import word2vec\n",
    "from sklearn.model_selection import cross_val_predict\n",
    "import re\n",
    "import string\n",
    "from sklearn.metrics.pairwise import cosine_similarity\n",
    "from sklearn.ensemble import RandomForestClassifier\n",
    "from xgboost import XGBClassifier\n",
    "from sklearn.utils import shuffle\n",
    "from sklearn.model_selection import cross_val_score, GridSearchCV\n",
    "from sklearn.manifold import TSNE\n",
    "import warnings\n",
    "warnings.filterwarnings('ignore')"
   ]
  },
  {
   "cell_type": "code",
   "execution_count": 2,
   "metadata": {},
   "outputs": [],
   "source": [
    "ads = pd.read_csv('/Users/admin/Documents/contextAdvertising1.csv')"
   ]
  },
  {
   "cell_type": "code",
   "execution_count": 3,
   "metadata": {},
   "outputs": [
    {
     "data": {
      "text/plain": [
       "(799999, 3)"
      ]
     },
     "execution_count": 3,
     "metadata": {},
     "output_type": "execute_result"
    }
   ],
   "source": [
    "ads.shape"
   ]
  },
  {
   "cell_type": "code",
   "execution_count": 4,
   "metadata": {},
   "outputs": [
    {
     "data": {
      "text/html": [
       "<div>\n",
       "<style scoped>\n",
       "    .dataframe tbody tr th:only-of-type {\n",
       "        vertical-align: middle;\n",
       "    }\n",
       "\n",
       "    .dataframe tbody tr th {\n",
       "        vertical-align: top;\n",
       "    }\n",
       "\n",
       "    .dataframe thead th {\n",
       "        text-align: right;\n",
       "    }\n",
       "</style>\n",
       "<table border=\"1\" class=\"dataframe\">\n",
       "  <thead>\n",
       "    <tr style=\"text-align: right;\">\n",
       "      <th></th>\n",
       "      <th>atitle</th>\n",
       "      <th>atext</th>\n",
       "      <th>adomain</th>\n",
       "    </tr>\n",
       "  </thead>\n",
       "  <tbody>\n",
       "    <tr>\n",
       "      <th>0</th>\n",
       "      <td>Клуб активного отдыха «0.67»</td>\n",
       "      <td>Детский пейнтбол. Спортивный пейнтбол. Тактиче...</td>\n",
       "      <td>0-67.relax.by</td>\n",
       "    </tr>\n",
       "    <tr>\n",
       "      <th>1</th>\n",
       "      <td>Антигравитационный чехол IPhone 5</td>\n",
       "      <td>Успейте купить антигравитационный чехол для IP...</td>\n",
       "      <td>0-antigravity.ru</td>\n",
       "    </tr>\n",
       "    <tr>\n",
       "      <th>2</th>\n",
       "      <td>Антигравитационный чехол купить!</td>\n",
       "      <td>Антигравитационный чехол для телефона купить з...</td>\n",
       "      <td>0-antigravity.ru</td>\n",
       "    </tr>\n",
       "    <tr>\n",
       "      <th>3</th>\n",
       "      <td>Беспроцентный заем от Moneyveo</td>\n",
       "      <td>Без справок! Получите до 3 000 грн. на карту п...</td>\n",
       "      <td>0-credit.moneyveo.ua</td>\n",
       "    </tr>\n",
       "    <tr>\n",
       "      <th>4</th>\n",
       "      <td>Беспроцентный заем сотруднику</td>\n",
       "      <td>Акция! Получите Кредит Онлайн под 0%. Без Спра...</td>\n",
       "      <td>0-credit.moneyveo.ua</td>\n",
       "    </tr>\n",
       "  </tbody>\n",
       "</table>\n",
       "</div>"
      ],
      "text/plain": [
       "                              atitle  \\\n",
       "0       Клуб активного отдыха «0.67»   \n",
       "1  Антигравитационный чехол IPhone 5   \n",
       "2   Антигравитационный чехол купить!   \n",
       "3     Беспроцентный заем от Moneyveo   \n",
       "4      Беспроцентный заем сотруднику   \n",
       "\n",
       "                                               atext               adomain  \n",
       "0  Детский пейнтбол. Спортивный пейнтбол. Тактиче...         0-67.relax.by  \n",
       "1  Успейте купить антигравитационный чехол для IP...      0-antigravity.ru  \n",
       "2  Антигравитационный чехол для телефона купить з...      0-antigravity.ru  \n",
       "3  Без справок! Получите до 3 000 грн. на карту п...  0-credit.moneyveo.ua  \n",
       "4  Акция! Получите Кредит Онлайн под 0%. Без Спра...  0-credit.moneyveo.ua  "
      ]
     },
     "execution_count": 4,
     "metadata": {},
     "output_type": "execute_result"
    }
   ],
   "source": [
    "ads.head()"
   ]
  },
  {
   "cell_type": "code",
   "execution_count": 5,
   "metadata": {},
   "outputs": [
    {
     "data": {
      "text/plain": [
       "atitle     571923\n",
       "atext      350006\n",
       "adomain     19181\n",
       "dtype: int64"
      ]
     },
     "execution_count": 5,
     "metadata": {},
     "output_type": "execute_result"
    }
   ],
   "source": [
    "ads.nunique()"
   ]
  },
  {
   "cell_type": "code",
   "execution_count": 6,
   "metadata": {},
   "outputs": [
    {
     "data": {
      "text/plain": [
       "792924"
      ]
     },
     "execution_count": 6,
     "metadata": {},
     "output_type": "execute_result"
    }
   ],
   "source": [
    "(ads['atitle'] + ads['atext']).nunique()"
   ]
  },
  {
   "cell_type": "code",
   "execution_count": 7,
   "metadata": {},
   "outputs": [],
   "source": [
    "unique_adstext =ads.drop_duplicates(subset = ['atext'], keep=False)"
   ]
  },
  {
   "cell_type": "code",
   "execution_count": 8,
   "metadata": {},
   "outputs": [
    {
     "data": {
      "text/plain": [
       "atitle     234515\n",
       "atext      323003\n",
       "adomain      4838\n",
       "dtype: int64"
      ]
     },
     "execution_count": 8,
     "metadata": {},
     "output_type": "execute_result"
    }
   ],
   "source": [
    "unique_adstext.nunique()"
   ]
  },
  {
   "cell_type": "code",
   "execution_count": 9,
   "metadata": {},
   "outputs": [
    {
     "data": {
      "text/plain": [
       "234515"
      ]
     },
     "execution_count": 9,
     "metadata": {},
     "output_type": "execute_result"
    }
   ],
   "source": [
    "#it appears that even after we remove duplicate ads texts, we still have duplicate titles \n",
    "unique_adstext['atitle'].nunique()"
   ]
  },
  {
   "cell_type": "code",
   "execution_count": 10,
   "metadata": {},
   "outputs": [],
   "source": [
    "unique =unique_adstext.drop_duplicates(subset = ['atitle'], keep=False)"
   ]
  },
  {
   "cell_type": "code",
   "execution_count": 11,
   "metadata": {},
   "outputs": [
    {
     "data": {
      "text/plain": [
       "atitle     204601\n",
       "atext      204601\n",
       "adomain      4589\n",
       "dtype: int64"
      ]
     },
     "execution_count": 11,
     "metadata": {},
     "output_type": "execute_result"
    }
   ],
   "source": [
    "unique.nunique()"
   ]
  },
  {
   "cell_type": "code",
   "execution_count": 12,
   "metadata": {},
   "outputs": [
    {
     "name": "stdout",
     "output_type": "stream",
     "text": [
      "<class 'pandas.core.frame.DataFrame'>\n",
      "Int64Index: 204601 entries, 0 to 772521\n",
      "Data columns (total 3 columns):\n",
      "atitle     204601 non-null object\n",
      "atext      204601 non-null object\n",
      "adomain    204601 non-null object\n",
      "dtypes: object(3)\n",
      "memory usage: 6.2+ MB\n"
     ]
    }
   ],
   "source": [
    "unique.info()"
   ]
  },
  {
   "cell_type": "code",
   "execution_count": 13,
   "metadata": {},
   "outputs": [
    {
     "data": {
      "text/html": [
       "<div>\n",
       "<style scoped>\n",
       "    .dataframe tbody tr th:only-of-type {\n",
       "        vertical-align: middle;\n",
       "    }\n",
       "\n",
       "    .dataframe tbody tr th {\n",
       "        vertical-align: top;\n",
       "    }\n",
       "\n",
       "    .dataframe thead th {\n",
       "        text-align: right;\n",
       "    }\n",
       "</style>\n",
       "<table border=\"1\" class=\"dataframe\">\n",
       "  <thead>\n",
       "    <tr style=\"text-align: right;\">\n",
       "      <th></th>\n",
       "      <th>atitle</th>\n",
       "      <th>atext</th>\n",
       "      <th>adomain</th>\n",
       "    </tr>\n",
       "  </thead>\n",
       "  <tbody>\n",
       "    <tr>\n",
       "      <th>0</th>\n",
       "      <td>Клуб активного отдыха «0.67»</td>\n",
       "      <td>Детский пейнтбол. Спортивный пейнтбол. Тактиче...</td>\n",
       "      <td>0-67.relax.by</td>\n",
       "    </tr>\n",
       "    <tr>\n",
       "      <th>1</th>\n",
       "      <td>Антигравитационный чехол IPhone 5</td>\n",
       "      <td>Успейте купить антигравитационный чехол для IP...</td>\n",
       "      <td>0-antigravity.ru</td>\n",
       "    </tr>\n",
       "    <tr>\n",
       "      <th>2</th>\n",
       "      <td>Антигравитационный чехол купить!</td>\n",
       "      <td>Антигравитационный чехол для телефона купить з...</td>\n",
       "      <td>0-antigravity.ru</td>\n",
       "    </tr>\n",
       "    <tr>\n",
       "      <th>3</th>\n",
       "      <td>Беспроцентный заем от Moneyveo</td>\n",
       "      <td>Без справок! Получите до 3 000 грн. на карту п...</td>\n",
       "      <td>0-credit.moneyveo.ua</td>\n",
       "    </tr>\n",
       "    <tr>\n",
       "      <th>4</th>\n",
       "      <td>Беспроцентный заем сотруднику</td>\n",
       "      <td>Акция! Получите Кредит Онлайн под 0%. Без Спра...</td>\n",
       "      <td>0-credit.moneyveo.ua</td>\n",
       "    </tr>\n",
       "  </tbody>\n",
       "</table>\n",
       "</div>"
      ],
      "text/plain": [
       "                              atitle  \\\n",
       "0       Клуб активного отдыха «0.67»   \n",
       "1  Антигравитационный чехол IPhone 5   \n",
       "2   Антигравитационный чехол купить!   \n",
       "3     Беспроцентный заем от Moneyveo   \n",
       "4      Беспроцентный заем сотруднику   \n",
       "\n",
       "                                               atext               adomain  \n",
       "0  Детский пейнтбол. Спортивный пейнтбол. Тактиче...         0-67.relax.by  \n",
       "1  Успейте купить антигравитационный чехол для IP...      0-antigravity.ru  \n",
       "2  Антигравитационный чехол для телефона купить з...      0-antigravity.ru  \n",
       "3  Без справок! Получите до 3 000 грн. на карту п...  0-credit.moneyveo.ua  \n",
       "4  Акция! Получите Кредит Онлайн под 0%. Без Спра...  0-credit.moneyveo.ua  "
      ]
     },
     "execution_count": 13,
     "metadata": {},
     "output_type": "execute_result"
    }
   ],
   "source": [
    "unique.head()"
   ]
  },
  {
   "cell_type": "code",
   "execution_count": 14,
   "metadata": {},
   "outputs": [
    {
     "data": {
      "text/plain": [
       "0    Детский пейнтбол. Спортивный пейнтбол. Тактиче...\n",
       "1    Успейте купить антигравитационный чехол для IP...\n",
       "2    Антигравитационный чехол для телефона купить з...\n",
       "3    Без справок! Получите до 3 000 грн. на карту п...\n",
       "4    Акция! Получите Кредит Онлайн под 0%. Без Спра...\n",
       "Name: atext, dtype: object"
      ]
     },
     "execution_count": 14,
     "metadata": {},
     "output_type": "execute_result"
    }
   ],
   "source": [
    "unique['atext'][:5]"
   ]
  },
  {
   "cell_type": "code",
   "execution_count": 15,
   "metadata": {},
   "outputs": [
    {
     "data": {
      "text/plain": [
       "pandas.core.series.Series"
      ]
     },
     "execution_count": 15,
     "metadata": {},
     "output_type": "execute_result"
    }
   ],
   "source": [
    "type(unique['atext'])"
   ]
  },
  {
   "cell_type": "code",
   "execution_count": 16,
   "metadata": {},
   "outputs": [],
   "source": [
    "#include all the punctuation signs\\n\",\n",
    "def punctuation_remover(row):\n",
    "    punctuation = '!\"#$&\\'()*+,-./:;<=>?@[\\\\]^_`{|}~«»'\n",
    "    \n",
    "    punctuationNoPeriod = \"[\" + re.sub(\"\\.\",\"\", punctuation) + \"]\"\n",
    "    row = re.sub(punctuationNoPeriod, \" \", str(row))\n",
    "    #to remove double white spaces and create space after %,\n",
    "    row = row.replace('  ', ' ')\n",
    "    row = row.replace('%', '% ')\n",
    "    return row.strip()\n"
   ]
  },
  {
   "cell_type": "code",
   "execution_count": 17,
   "metadata": {},
   "outputs": [
    {
     "data": {
      "text/plain": [
       "'Детский пейнтбол Спортивный пейнтбол Тактический пейнтбол Выездные игры'"
      ]
     },
     "execution_count": 17,
     "metadata": {},
     "output_type": "execute_result"
    }
   ],
   "source": [
    "punctuation_remover(unique['atext'][0])"
   ]
  },
  {
   "cell_type": "code",
   "execution_count": 18,
   "metadata": {},
   "outputs": [],
   "source": [
    "# remove punctuation from the ads text\n",
    "unique['atext'] = unique['atext'].apply(punctuation_remover)"
   ]
  },
  {
   "cell_type": "code",
   "execution_count": 19,
   "metadata": {},
   "outputs": [],
   "source": [
    "unique['atitle'] = unique['atitle'].apply(punctuation_remover)"
   ]
  },
  {
   "cell_type": "code",
   "execution_count": 20,
   "metadata": {},
   "outputs": [
    {
     "data": {
      "text/plain": [
       "0           Клуб активного отдыха 0 67\n",
       "1    Антигравитационный чехол IPhone 5\n",
       "2      Антигравитационный чехол купить\n",
       "3       Беспроцентный заем от Moneyveo\n",
       "4        Беспроцентный заем сотруднику\n",
       "Name: atitle, dtype: object"
      ]
     },
     "execution_count": 20,
     "metadata": {},
     "output_type": "execute_result"
    }
   ],
   "source": [
    "unique['atitle'][:5]"
   ]
  },
  {
   "cell_type": "code",
   "execution_count": 21,
   "metadata": {},
   "outputs": [
    {
     "data": {
      "text/plain": [
       "'Детский пейнтбол Спортивный пейнтбол Тактический пейнтбол Выездные игры'"
      ]
     },
     "execution_count": 21,
     "metadata": {},
     "output_type": "execute_result"
    }
   ],
   "source": [
    "unique['atext'].iloc[0]"
   ]
  },
  {
   "cell_type": "code",
   "execution_count": 22,
   "metadata": {},
   "outputs": [],
   "source": [
    "unique = unique.drop_duplicates(subset = ['atitle'], keep=False)"
   ]
  },
  {
   "cell_type": "code",
   "execution_count": 23,
   "metadata": {},
   "outputs": [],
   "source": [
    "unique = unique.drop_duplicates(subset = ['atext'], keep=False)"
   ]
  },
  {
   "cell_type": "code",
   "execution_count": 24,
   "metadata": {},
   "outputs": [
    {
     "data": {
      "text/plain": [
       "atitle     200718\n",
       "atext      200718\n",
       "adomain      4534\n",
       "dtype: int64"
      ]
     },
     "execution_count": 24,
     "metadata": {},
     "output_type": "execute_result"
    }
   ],
   "source": [
    "unique.nunique()"
   ]
  },
  {
   "cell_type": "markdown",
   "metadata": {},
   "source": [
    "m = Mystem()\n",
    "def text_parser(series, lemmatize=True): # do lemmatization if true \n",
    "    series_copy = series.copy()\n",
    " \n",
    "    # access each ad by index\n",
    "    for index in series_copy.index:\n",
    "        \n",
    "        text = series_copy[index]\n",
    "        if lemmatize ==True:\n",
    "            lemmas = m.lemmatize(text)\n",
    "\n",
    "            lem_no_punct = [lemma for lemma in lemmas if lemma!= ' '\n",
    "                           and lemma != '\\n']\n",
    "            \n",
    "            output = lem_no_punct\n",
    "        else:\n",
    "            output = text.split()\n",
    "        series_copy[index] =output\n",
    "    return series_copy"
   ]
  },
  {
   "cell_type": "code",
   "execution_count": 25,
   "metadata": {},
   "outputs": [],
   "source": [
    "m = Mystem()\n",
    "def text_parser(series, lemmatize=True): # do lemmatization if true \n",
    "    series_copy = series.copy()\n",
    " \n",
    "    # access each ad by index\n",
    "    for index in series_copy.index:\n",
    "        ad_string = ''\n",
    "        text = series_copy[index]\n",
    "        if lemmatize == True:\n",
    "            lemmas = m.lemmatize(text)\n",
    "            for count, lemma in enumerate(lemmas):\n",
    "                if (lemma !=  ' ' and lemma != '\\n' and count < len(lemmas)):\n",
    "                    ad_string += lemma +' '\n",
    "                                \n",
    "        else:\n",
    "            resultant_list = text.split()\n",
    "            for number, word in enumerate(resultant_list):  \n",
    "                if number <len(resultant_list)-1:\n",
    "                    ad_string+=word +' '\n",
    "                    \n",
    "        series_copy[index] =ad_string.strip()\n",
    "    return series_copy"
   ]
  },
  {
   "cell_type": "code",
   "execution_count": 26,
   "metadata": {},
   "outputs": [],
   "source": [
    "unique['atitle'] = text_parser(unique['atitle'])"
   ]
  },
  {
   "cell_type": "code",
   "execution_count": 27,
   "metadata": {},
   "outputs": [],
   "source": [
    "unique['atext'] = text_parser(unique['atext'])"
   ]
  },
  {
   "cell_type": "code",
   "execution_count": 28,
   "metadata": {},
   "outputs": [
    {
     "data": {
      "text/html": [
       "<div>\n",
       "<style scoped>\n",
       "    .dataframe tbody tr th:only-of-type {\n",
       "        vertical-align: middle;\n",
       "    }\n",
       "\n",
       "    .dataframe tbody tr th {\n",
       "        vertical-align: top;\n",
       "    }\n",
       "\n",
       "    .dataframe thead th {\n",
       "        text-align: right;\n",
       "    }\n",
       "</style>\n",
       "<table border=\"1\" class=\"dataframe\">\n",
       "  <thead>\n",
       "    <tr style=\"text-align: right;\">\n",
       "      <th></th>\n",
       "      <th>atitle</th>\n",
       "      <th>atext</th>\n",
       "      <th>adomain</th>\n",
       "    </tr>\n",
       "  </thead>\n",
       "  <tbody>\n",
       "    <tr>\n",
       "      <th>0</th>\n",
       "      <td>клуб активный отдых 0 67</td>\n",
       "      <td>детский пейнтбол спортивный пейнтбол тактическ...</td>\n",
       "      <td>0-67.relax.by</td>\n",
       "    </tr>\n",
       "    <tr>\n",
       "      <th>1</th>\n",
       "      <td>антигравитационный чехол IPhone 5</td>\n",
       "      <td>успевать купить антигравитационный чехол для I...</td>\n",
       "      <td>0-antigravity.ru</td>\n",
       "    </tr>\n",
       "    <tr>\n",
       "      <th>3</th>\n",
       "      <td>беспроцентный заем от Moneyveo</td>\n",
       "      <td>без справка получать до 3 000 грн на карта под...</td>\n",
       "      <td>0-credit.moneyveo.ua</td>\n",
       "    </tr>\n",
       "    <tr>\n",
       "      <th>4</th>\n",
       "      <td>беспроцентный заем сотрудник</td>\n",
       "      <td>акция получать кредит онлайн под 0 %   без спр...</td>\n",
       "      <td>0-credit.moneyveo.ua</td>\n",
       "    </tr>\n",
       "    <tr>\n",
       "      <th>11</th>\n",
       "      <td>Аnti Gravity Case</td>\n",
       "      <td>Аnti gravity case  –  уникальный антигравитаци...</td>\n",
       "      <td>0-gravity.online-shop-2017.ru</td>\n",
       "    </tr>\n",
       "  </tbody>\n",
       "</table>\n",
       "</div>"
      ],
      "text/plain": [
       "                               atitle  \\\n",
       "0            клуб активный отдых 0 67   \n",
       "1   антигравитационный чехол IPhone 5   \n",
       "3      беспроцентный заем от Moneyveo   \n",
       "4        беспроцентный заем сотрудник   \n",
       "11                  Аnti Gravity Case   \n",
       "\n",
       "                                                atext  \\\n",
       "0   детский пейнтбол спортивный пейнтбол тактическ...   \n",
       "1   успевать купить антигравитационный чехол для I...   \n",
       "3   без справка получать до 3 000 грн на карта под...   \n",
       "4   акция получать кредит онлайн под 0 %   без спр...   \n",
       "11  Аnti gravity case  –  уникальный антигравитаци...   \n",
       "\n",
       "                          adomain  \n",
       "0                   0-67.relax.by  \n",
       "1                0-antigravity.ru  \n",
       "3            0-credit.moneyveo.ua  \n",
       "4            0-credit.moneyveo.ua  \n",
       "11  0-gravity.online-shop-2017.ru  "
      ]
     },
     "execution_count": 28,
     "metadata": {},
     "output_type": "execute_result"
    }
   ],
   "source": [
    "unique.head()"
   ]
  },
  {
   "cell_type": "code",
   "execution_count": 29,
   "metadata": {},
   "outputs": [
    {
     "data": {
      "text/plain": [
       "(200718, 3)"
      ]
     },
     "execution_count": 29,
     "metadata": {},
     "output_type": "execute_result"
    }
   ],
   "source": [
    "unique.shape"
   ]
  },
  {
   "cell_type": "code",
   "execution_count": 30,
   "metadata": {},
   "outputs": [],
   "source": [
    "unique = unique.drop_duplicates(subset = ['atitle'], keep=False)"
   ]
  },
  {
   "cell_type": "code",
   "execution_count": 31,
   "metadata": {},
   "outputs": [],
   "source": [
    "unique = unique.drop_duplicates(subset = ['atext'], keep=False)"
   ]
  },
  {
   "cell_type": "code",
   "execution_count": 32,
   "metadata": {},
   "outputs": [
    {
     "data": {
      "text/plain": [
       "(195820, 3)"
      ]
     },
     "execution_count": 32,
     "metadata": {},
     "output_type": "execute_result"
    }
   ],
   "source": [
    "unique.shape"
   ]
  },
  {
   "cell_type": "code",
   "execution_count": 33,
   "metadata": {},
   "outputs": [
    {
     "data": {
      "text/plain": [
       "atitle     195820\n",
       "atext      195820\n",
       "adomain      4492\n",
       "dtype: int64"
      ]
     },
     "execution_count": 33,
     "metadata": {},
     "output_type": "execute_result"
    }
   ],
   "source": [
    "unique.nunique()"
   ]
  },
  {
   "cell_type": "code",
   "execution_count": 34,
   "metadata": {},
   "outputs": [],
   "source": [
    "unique = unique.drop_duplicates(keep=False)"
   ]
  },
  {
   "cell_type": "code",
   "execution_count": 35,
   "metadata": {},
   "outputs": [
    {
     "data": {
      "text/plain": [
       "atitle     195820\n",
       "atext      195820\n",
       "adomain      4492\n",
       "dtype: int64"
      ]
     },
     "execution_count": 35,
     "metadata": {},
     "output_type": "execute_result"
    }
   ],
   "source": [
    "unique.nunique()"
   ]
  },
  {
   "cell_type": "code",
   "execution_count": 36,
   "metadata": {},
   "outputs": [
    {
     "data": {
      "text/plain": [
       "(195820, 3)"
      ]
     },
     "execution_count": 36,
     "metadata": {},
     "output_type": "execute_result"
    }
   ],
   "source": [
    "unique.shape"
   ]
  },
  {
   "cell_type": "code",
   "execution_count": 37,
   "metadata": {},
   "outputs": [
    {
     "data": {
      "text/plain": [
       "195820"
      ]
     },
     "execution_count": 37,
     "metadata": {},
     "output_type": "execute_result"
    }
   ],
   "source": [
    "len(set(unique['atext']))"
   ]
  },
  {
   "cell_type": "code",
   "execution_count": 38,
   "metadata": {},
   "outputs": [
    {
     "data": {
      "text/plain": [
       "195820"
      ]
     },
     "execution_count": 38,
     "metadata": {},
     "output_type": "execute_result"
    }
   ],
   "source": [
    "len(set(unique['atitle']))"
   ]
  },
  {
   "cell_type": "code",
   "execution_count": 39,
   "metadata": {},
   "outputs": [
    {
     "data": {
      "text/plain": [
       "195820"
      ]
     },
     "execution_count": 39,
     "metadata": {},
     "output_type": "execute_result"
    }
   ],
   "source": [
    "len(unique['atitle'])"
   ]
  },
  {
   "cell_type": "code",
   "execution_count": 40,
   "metadata": {},
   "outputs": [
    {
     "data": {
      "text/plain": [
       "195820"
      ]
     },
     "execution_count": 40,
     "metadata": {},
     "output_type": "execute_result"
    }
   ],
   "source": [
    "len(unique['atext'])"
   ]
  },
  {
   "cell_type": "code",
   "execution_count": 41,
   "metadata": {},
   "outputs": [
    {
     "data": {
      "text/plain": [
       "atitle     0\n",
       "atext      0\n",
       "adomain    0\n",
       "dtype: int64"
      ]
     },
     "execution_count": 41,
     "metadata": {},
     "output_type": "execute_result"
    }
   ],
   "source": [
    "unique.isnull().sum()"
   ]
  },
  {
   "cell_type": "code",
   "execution_count": 42,
   "metadata": {},
   "outputs": [],
   "source": [
    "unique['atitle'] = unique['atitle'].apply(lambda x: x.split())"
   ]
  },
  {
   "cell_type": "code",
   "execution_count": 43,
   "metadata": {},
   "outputs": [],
   "source": [
    "unique['atext'] = unique['atext'].apply(lambda x: x.split())"
   ]
  },
  {
   "cell_type": "code",
   "execution_count": 44,
   "metadata": {},
   "outputs": [],
   "source": [
    "X = unique['atext']\n",
    "y = unique['atitle']"
   ]
  },
  {
   "cell_type": "code",
   "execution_count": 46,
   "metadata": {},
   "outputs": [],
   "source": [
    "X_train, X_test, y_train, y_test = train_test_split(X, y, test_size=0.3, random_state=0)"
   ]
  },
  {
   "cell_type": "code",
   "execution_count": 45,
   "metadata": {},
   "outputs": [],
   "source": [
    "merged_list = X_train + y_train"
   ]
  },
  {
   "cell_type": "markdown",
   "metadata": {},
   "source": [
    "# Training Word2Vec"
   ]
  },
  {
   "cell_type": "code",
   "execution_count": 445,
   "metadata": {},
   "outputs": [],
   "source": [
    "model = word2vec.Word2Vec(\n",
    "    merged_list,\n",
    "    workers=4,     \n",
    "    min_count=5,   \n",
    "    window=50,      \n",
    "    sg=0,          \n",
    "    sample=1e-4 ,  \n",
    "    size=300,      \n",
    "    hs=1           \n",
    ")\n"
   ]
  },
  {
   "cell_type": "code",
   "execution_count": 49,
   "metadata": {},
   "outputs": [
    {
     "name": "stdout",
     "output_type": "stream",
     "text": [
      "26459\n"
     ]
    }
   ],
   "source": [
    "vocab = model.wv.vocab.keys()\n",
    "print(len(vocab))"
   ]
  },
  {
   "cell_type": "code",
   "execution_count": 50,
   "metadata": {},
   "outputs": [],
   "source": [
    "def tsne_plot(model):\n",
    "    #Creates and TSNE model and plots it\n",
    "    \n",
    "    labels = []\n",
    "    tokens = []\n",
    "\n",
    "    for word in model.wv.vocab:\n",
    "        if model.wv.vocab[word].count > 800:\n",
    "            tokens.append(model[word])\n",
    "            labels.append(word)\n",
    "    \n",
    "    tsne_model = TSNE(perplexity=40, n_components=2, init='pca', n_iter=2500, random_state=108)\n",
    "    new_values = tsne_model.fit_transform(tokens)\n",
    "\n",
    "    x = []\n",
    "    y = []\n",
    "    \n",
    "    for value in new_values:\n",
    "        x.append(value[0])\n",
    "        y.append(value[1])\n",
    "        \n",
    "    plt.figure(figsize=(20, 20)) \n",
    "    for i in range(len(x)):\n",
    "        plt.scatter(x[i],y[i])\n",
    "        plt.annotate(labels[i],\n",
    "                     xy=(x[i], y[i]),\n",
    "                     xytext=(5, 2),\n",
    "                     textcoords='offset points',\n",
    "                     ha='right',\n",
    "                     va='bottom')\n",
    "    plt.show()"
   ]
  },
  {
   "cell_type": "code",
   "execution_count": 51,
   "metadata": {},
   "outputs": [
    {
     "data": {
      "image/png": "[encoded data removed]",
      "text/plain": [
       "<Figure size 1440x1440 with 1 Axes>"
      ]
     },
     "metadata": {
      "needs_background": "light"
     },
     "output_type": "display_data"
    }
   ],
   "source": [
    "tsne_plot(model)"
   ]
  },
  {
   "cell_type": "markdown",
   "metadata": {},
   "source": [
    "# Sample For Evaluation"
   ]
  },
  {
   "cell_type": "code",
   "execution_count": 52,
   "metadata": {},
   "outputs": [],
   "source": [
    "indices = X_test.index"
   ]
  },
  {
   "cell_type": "code",
   "execution_count": 53,
   "metadata": {},
   "outputs": [],
   "source": [
    "test_df = pd.DataFrame(X_test, index = indices)"
   ]
  },
  {
   "cell_type": "code",
   "execution_count": 54,
   "metadata": {},
   "outputs": [
    {
     "data": {
      "text/html": [
       "<div>\n",
       "<style scoped>\n",
       "    .dataframe tbody tr th:only-of-type {\n",
       "        vertical-align: middle;\n",
       "    }\n",
       "\n",
       "    .dataframe tbody tr th {\n",
       "        vertical-align: top;\n",
       "    }\n",
       "\n",
       "    .dataframe thead th {\n",
       "        text-align: right;\n",
       "    }\n",
       "</style>\n",
       "<table border=\"1\" class=\"dataframe\">\n",
       "  <thead>\n",
       "    <tr style=\"text-align: right;\">\n",
       "      <th></th>\n",
       "      <th>atext</th>\n",
       "    </tr>\n",
       "  </thead>\n",
       "  <tbody>\n",
       "    <tr>\n",
       "      <th>379691</th>\n",
       "      <td>[электрочайник, Zigmund, Shtain, KE, 81, SD, 1...</td>\n",
       "    </tr>\n",
       "    <tr>\n",
       "      <th>520472</th>\n",
       "      <td>[сабвуфер, огромный, ассортимент, бесплатный, ...</td>\n",
       "    </tr>\n",
       "    <tr>\n",
       "      <th>19942</th>\n",
       "      <td>[Onkyo, Tx, nr545, Black, в, наличие, быстрый,...</td>\n",
       "    </tr>\n",
       "    <tr>\n",
       "      <th>153486</th>\n",
       "      <td>[шаблон, ордер, входить, в, состав, сборник, 1...</td>\n",
       "    </tr>\n",
       "    <tr>\n",
       "      <th>700377</th>\n",
       "      <td>[шпаклевка, финишный, белый, сравнивать, цена,...</td>\n",
       "    </tr>\n",
       "  </tbody>\n",
       "</table>\n",
       "</div>"
      ],
      "text/plain": [
       "                                                    atext\n",
       "379691  [электрочайник, Zigmund, Shtain, KE, 81, SD, 1...\n",
       "520472  [сабвуфер, огромный, ассортимент, бесплатный, ...\n",
       "19942   [Onkyo, Tx, nr545, Black, в, наличие, быстрый,...\n",
       "153486  [шаблон, ордер, входить, в, состав, сборник, 1...\n",
       "700377  [шпаклевка, финишный, белый, сравнивать, цена,..."
      ]
     },
     "execution_count": 54,
     "metadata": {},
     "output_type": "execute_result"
    }
   ],
   "source": [
    "test_df.head()"
   ]
  },
  {
   "cell_type": "code",
   "execution_count": 55,
   "metadata": {},
   "outputs": [],
   "source": [
    "test_df['atitle'] = y_test"
   ]
  },
  {
   "cell_type": "code",
   "execution_count": 56,
   "metadata": {},
   "outputs": [
    {
     "data": {
      "text/plain": [
       "(58746, 2)"
      ]
     },
     "execution_count": 56,
     "metadata": {},
     "output_type": "execute_result"
    }
   ],
   "source": [
    "test_df.shape"
   ]
  },
  {
   "cell_type": "code",
   "execution_count": 57,
   "metadata": {},
   "outputs": [],
   "source": [
    "# we can't fit all the examples in our memory\n",
    "\n",
    "test_sample = test_df.sample(1000)"
   ]
  },
  {
   "cell_type": "code",
   "execution_count": 58,
   "metadata": {},
   "outputs": [],
   "source": [
    "test_text_sample = test_sample['atext']\n",
    "test_title_sample = test_sample['atitle']"
   ]
  },
  {
   "cell_type": "code",
   "execution_count": 59,
   "metadata": {},
   "outputs": [],
   "source": [
    "from sklearn.preprocessing import normalize\n",
    "\n",
    "\n",
    "def result_vector(text):\n",
    "    result = np.zeros(300)\n",
    "    count = 0\n",
    "    for word in text:\n",
    "        if word in vocab:\n",
    "            result+=model.wv[word]\n",
    "            count+=1\n",
    "    if count == 0:\n",
    "        return None\n",
    "    #result = (result / count).reshape(1, -1)\n",
    "    result = normalize(result.reshape(1, -1))     \n",
    "    return result"
   ]
  },
  {
   "cell_type": "code",
   "execution_count": 60,
   "metadata": {},
   "outputs": [],
   "source": [
    "ad_vectors = []\n",
    "for ad_text in test_text_sample:\n",
    "        vector = result_vector(ad_text)\n",
    "        if vector is not None:\n",
    "            ad_vectors.append(vector)\n",
    "        else:\n",
    "            ad_vectors.append('M')"
   ]
  },
  {
   "cell_type": "code",
   "execution_count": 61,
   "metadata": {},
   "outputs": [],
   "source": [
    "title_vectors = []\n",
    "for ad_title in test_title_sample:\n",
    "    vector = result_vector(ad_title)\n",
    "    if vector is not None:\n",
    "        title_vectors.append(vector)\n",
    "    else:\n",
    "        title_vectors.append('M')"
   ]
  },
  {
   "cell_type": "code",
   "execution_count": 62,
   "metadata": {},
   "outputs": [],
   "source": [
    "def cosine_calculator(vector_one, other_vectors):\n",
    "    cosines = []\n",
    "    for each in other_vectors:\n",
    "        if each != 'M':\n",
    "            sim_score = cosine_similarity(vector_one, each)\n",
    "            cosines.extend(sim_score) \n",
    "        else:\n",
    "            cosines.append('M')\n",
    "    return cosines"
   ]
  },
  {
   "cell_type": "code",
   "execution_count": 63,
   "metadata": {},
   "outputs": [],
   "source": [
    "def rank_checker(first_vector_set, other_vectors, smpl_df, number):\n",
    "    cosines_results = cosine_calculator(first_vector_set[number], other_vectors)\n",
    "    series = pd.Series(cosines_results, index =smpl_df.index)\n",
    "    \n",
    "    #cleaning the series for sorting, 'M' stands for missing, was added if no words in the text were found in w2v vocab\n",
    "    cleaned = series[series != 'M']\n",
    "    sorted_df = cleaned.sort_values(ascending=False)\n",
    "    sorted_index = sorted_df.index\n",
    "    \n",
    "    for rank, entry in enumerate(sorted_index):\n",
    "        if entry == smpl_df.index[number]:\n",
    "            return rank"
   ]
  },
  {
   "cell_type": "code",
   "execution_count": 64,
   "metadata": {},
   "outputs": [],
   "source": [
    "ranks = []\n",
    "for row in range(len(test_sample)):\n",
    "    rank = rank_checker(ad_vectors, title_vectors, test_sample, row)\n",
    "    ranks.append(rank)"
   ]
  },
  {
   "cell_type": "code",
   "execution_count": 65,
   "metadata": {},
   "outputs": [
    {
     "data": {
      "image/png": "[encoded data removed]",
      "text/plain": [
       "<Figure size 720x360 with 1 Axes>"
      ]
     },
     "metadata": {
      "needs_background": "light"
     },
     "output_type": "display_data"
    }
   ],
   "source": [
    "plt.figure(figsize=(10, 5))\n",
    "plt.hist([rank for rank in ranks if rank is not None])\n",
    "plt.show()"
   ]
  },
  {
   "cell_type": "code",
   "execution_count": 66,
   "metadata": {},
   "outputs": [
    {
     "data": {
      "text/plain": [
       "15.201207243460765"
      ]
     },
     "execution_count": 66,
     "metadata": {},
     "output_type": "execute_result"
    }
   ],
   "source": [
    "#average rank\n",
    "sum([rank for rank in ranks if rank is not None])/ len([rank for rank in ranks if rank is not None])"
   ]
  },
  {
   "cell_type": "code",
   "execution_count": 67,
   "metadata": {},
   "outputs": [],
   "source": [
    "small = []\n",
    "for rank in ranks:\n",
    "    if rank is not None and rank <=10:\n",
    "        small.append(rank) "
   ]
  },
  {
   "cell_type": "code",
   "execution_count": 68,
   "metadata": {},
   "outputs": [
    {
     "data": {
      "text/plain": [
       "0.9285714285714286"
      ]
     },
     "execution_count": 68,
     "metadata": {},
     "output_type": "execute_result"
    }
   ],
   "source": [
    "# proportion ranked as \n",
    "len(small) / len([rank for rank in ranks if rank is not None])"
   ]
  },
  {
   "cell_type": "markdown",
   "metadata": {},
   "source": [
    "# Supervised Solution"
   ]
  },
  {
   "cell_type": "code",
   "execution_count": 69,
   "metadata": {},
   "outputs": [],
   "source": [
    "training_df = pd.DataFrame()\n",
    "training_df['text vectors'] = X_train \n",
    "training_df['title vectors'] = y_train"
   ]
  },
  {
   "cell_type": "code",
   "execution_count": 70,
   "metadata": {},
   "outputs": [],
   "source": [
    "test_df = pd.DataFrame()\n",
    "test_df['text vectors'] = X_test\n",
    "test_df['title vectors'] = y_test"
   ]
  },
  {
   "cell_type": "code",
   "execution_count": 71,
   "metadata": {},
   "outputs": [
    {
     "data": {
      "text/plain": [
       "(137074, 2)"
      ]
     },
     "execution_count": 71,
     "metadata": {},
     "output_type": "execute_result"
    }
   ],
   "source": [
    "training_df.shape"
   ]
  },
  {
   "cell_type": "code",
   "execution_count": 72,
   "metadata": {},
   "outputs": [
    {
     "data": {
      "text/plain": [
       "(58746, 2)"
      ]
     },
     "execution_count": 72,
     "metadata": {},
     "output_type": "execute_result"
    }
   ],
   "source": [
    "test_df.shape"
   ]
  },
  {
   "cell_type": "code",
   "execution_count": 73,
   "metadata": {},
   "outputs": [],
   "source": [
    "def mixed_df_creator(df):\n",
    "    \n",
    "    df_copy = df.copy()\n",
    "    df_copy = df.reset_index(drop=True)\n",
    "    \n",
    "    first_half = df_copy.iloc[:int(len(df_copy)/2)]\n",
    "    second_half = df_copy.iloc[int(len(df_copy)/2):]\n",
    "    \n",
    "    shuffled_titles = shuffle(second_half['title vectors'])\n",
    "    shuffled_titles = shuffled_titles.reset_index(drop=True)\n",
    "    \n",
    "    second_half = second_half.reset_index(drop=True)\n",
    "    second_half['title vectors'] = shuffled_titles\n",
    "    \n",
    "    first_half['pair class'] = 1\n",
    "    second_half['pair class'] = 0\n",
    "    \n",
    "    #sim_score_one = first_half.apply(cosine_between_rows, axis = 1)\n",
    "    #sim_score_two = second_half.apply(cosine_between_rows, axis = 1)\n",
    "    \n",
    "    #print('Mean cosine similarity score: first half', np.mean(sim_score_one))\n",
    "    #print('Mean cosine similarity score: second half', np.mean(sim_score_two))\n",
    "    \n",
    "    concat_result = pd.concat([first_half, second_half], axis=0, ignore_index = True)\n",
    "    \n",
    "    return concat_result"
   ]
  },
  {
   "cell_type": "code",
   "execution_count": 74,
   "metadata": {},
   "outputs": [],
   "source": [
    "training_df_mixed = mixed_df_creator(training_df)"
   ]
  },
  {
   "cell_type": "code",
   "execution_count": 75,
   "metadata": {},
   "outputs": [],
   "source": [
    "test_df_mixed = mixed_df_creator(test_df)"
   ]
  },
  {
   "cell_type": "code",
   "execution_count": 76,
   "metadata": {},
   "outputs": [
    {
     "data": {
      "text/html": [
       "<div>\n",
       "<style scoped>\n",
       "    .dataframe tbody tr th:only-of-type {\n",
       "        vertical-align: middle;\n",
       "    }\n",
       "\n",
       "    .dataframe tbody tr th {\n",
       "        vertical-align: top;\n",
       "    }\n",
       "\n",
       "    .dataframe thead th {\n",
       "        text-align: right;\n",
       "    }\n",
       "</style>\n",
       "<table border=\"1\" class=\"dataframe\">\n",
       "  <thead>\n",
       "    <tr style=\"text-align: right;\">\n",
       "      <th></th>\n",
       "      <th>text vectors</th>\n",
       "      <th>title vectors</th>\n",
       "      <th>pair class</th>\n",
       "    </tr>\n",
       "  </thead>\n",
       "  <tbody>\n",
       "    <tr>\n",
       "      <th>0</th>\n",
       "      <td>[lg, sh7b, от, 819, 00, доставка]</td>\n",
       "      <td>[lg, sh7b]</td>\n",
       "      <td>1</td>\n",
       "    </tr>\n",
       "    <tr>\n",
       "      <th>1</th>\n",
       "      <td>[нужный, перевод, медицинский, документация, к...</td>\n",
       "      <td>[перевод, медицинский, документация]</td>\n",
       "      <td>1</td>\n",
       "    </tr>\n",
       "    <tr>\n",
       "      <th>2</th>\n",
       "      <td>[результат, на, 3, день, зубной, паста, крест,...</td>\n",
       "      <td>[зубной, паста, крест]</td>\n",
       "      <td>1</td>\n",
       "    </tr>\n",
       "    <tr>\n",
       "      <th>3</th>\n",
       "      <td>[массив, бук, и, дуб, древесный, шпон, ciplex,...</td>\n",
       "      <td>[межкомнатный, дверь, из, россия]</td>\n",
       "      <td>1</td>\n",
       "    </tr>\n",
       "    <tr>\n",
       "      <th>4</th>\n",
       "      <td>[купить, Gerat, лента, пробивной, Gerat, 19мм,...</td>\n",
       "      <td>[Gerat, 19мм, 3, 2мм, 30м, 50327]</td>\n",
       "      <td>1</td>\n",
       "    </tr>\n",
       "  </tbody>\n",
       "</table>\n",
       "</div>"
      ],
      "text/plain": [
       "                                        text vectors  \\\n",
       "0                  [lg, sh7b, от, 819, 00, доставка]   \n",
       "1  [нужный, перевод, медицинский, документация, к...   \n",
       "2  [результат, на, 3, день, зубной, паста, крест,...   \n",
       "3  [массив, бук, и, дуб, древесный, шпон, ciplex,...   \n",
       "4  [купить, Gerat, лента, пробивной, Gerat, 19мм,...   \n",
       "\n",
       "                          title vectors  pair class  \n",
       "0                            [lg, sh7b]           1  \n",
       "1  [перевод, медицинский, документация]           1  \n",
       "2                [зубной, паста, крест]           1  \n",
       "3     [межкомнатный, дверь, из, россия]           1  \n",
       "4     [Gerat, 19мм, 3, 2мм, 30м, 50327]           1  "
      ]
     },
     "execution_count": 76,
     "metadata": {},
     "output_type": "execute_result"
    }
   ],
   "source": [
    "training_df_mixed.head()"
   ]
  },
  {
   "cell_type": "code",
   "execution_count": 77,
   "metadata": {},
   "outputs": [
    {
     "data": {
      "text/plain": [
       "(137074, 3)"
      ]
     },
     "execution_count": 77,
     "metadata": {},
     "output_type": "execute_result"
    }
   ],
   "source": [
    "training_df_mixed.shape"
   ]
  },
  {
   "cell_type": "code",
   "execution_count": 78,
   "metadata": {},
   "outputs": [
    {
     "data": {
      "text/plain": [
       "300"
      ]
     },
     "execution_count": 78,
     "metadata": {},
     "output_type": "execute_result"
    }
   ],
   "source": [
    "len(result_vector(training_df_mixed.iloc[0, 0])[0])"
   ]
  },
  {
   "cell_type": "code",
   "execution_count": 79,
   "metadata": {},
   "outputs": [],
   "source": [
    "# vectorization of the ads text\n",
    "text_vectors = []\n",
    "for row in range(len(training_df_mixed)):\n",
    "    vector = result_vector(training_df_mixed.iloc[row, 0])\n",
    "    if vector is not None:  \n",
    "        text_vectors.append(vector[0])\n",
    "    else:\n",
    "        text_vectors.append('M')"
   ]
  },
  {
   "cell_type": "code",
   "execution_count": 80,
   "metadata": {},
   "outputs": [],
   "source": [
    "training_df_mixed_vectorized = training_df_mixed.copy()"
   ]
  },
  {
   "cell_type": "code",
   "execution_count": 81,
   "metadata": {},
   "outputs": [],
   "source": [
    "training_df_mixed_vectorized['text vectors'] = text_vectors"
   ]
  },
  {
   "cell_type": "code",
   "execution_count": 82,
   "metadata": {},
   "outputs": [],
   "source": [
    "# vectorization of the ads text\n",
    "text_vectors_test = []\n",
    "for row in range(len(test_df_mixed)):\n",
    "    vector = result_vector(test_df_mixed.iloc[row, 0])\n",
    "    if vector is not None:  \n",
    "        text_vectors_test.append(vector[0])\n",
    "    else:\n",
    "        text_vectors_test.append('M')"
   ]
  },
  {
   "cell_type": "code",
   "execution_count": 83,
   "metadata": {},
   "outputs": [],
   "source": [
    "test_df_mixed_vectorized = test_df_mixed.copy()"
   ]
  },
  {
   "cell_type": "code",
   "execution_count": 84,
   "metadata": {},
   "outputs": [],
   "source": [
    "test_df_mixed_vectorized['text vectors'] = text_vectors_test"
   ]
  },
  {
   "cell_type": "code",
   "execution_count": 85,
   "metadata": {},
   "outputs": [],
   "source": [
    "# vectorization of the ads title\n",
    "title_vectors = []\n",
    "for row in range(len(training_df_mixed)):\n",
    "    vector = result_vector(training_df_mixed.iloc[row, 1])\n",
    "    if vector is not None:  \n",
    "        title_vectors.append(vector[0])\n",
    "    else:\n",
    "        title_vectors.append('M')"
   ]
  },
  {
   "cell_type": "code",
   "execution_count": 86,
   "metadata": {},
   "outputs": [],
   "source": [
    "training_df_mixed_vectorized['title vectors'] = title_vectors"
   ]
  },
  {
   "cell_type": "code",
   "execution_count": 87,
   "metadata": {},
   "outputs": [],
   "source": [
    "# vectorization of the ads title\n",
    "title_vectors_test = []\n",
    "for row in range(len(test_df_mixed)):\n",
    "    vector = result_vector(test_df_mixed.iloc[row, 1])\n",
    "    if vector is not None:  \n",
    "        title_vectors_test.append(vector[0])\n",
    "    else:\n",
    "        title_vectors_test.append('M')"
   ]
  },
  {
   "cell_type": "code",
   "execution_count": 88,
   "metadata": {},
   "outputs": [],
   "source": [
    "test_df_mixed_vectorized['title vectors'] = title_vectors_test"
   ]
  },
  {
   "cell_type": "code",
   "execution_count": 89,
   "metadata": {},
   "outputs": [],
   "source": [
    "# remove vectors with that are comprised exclusively of the words that are missing from our vocabulary\n",
    "\n",
    "training_df_mixed_vectorized= training_df_mixed_vectorized[training_df_mixed_vectorized['text vectors'] != 'M']\n",
    "training_df_mixed_vectorized = training_df_mixed_vectorized[training_df_mixed_vectorized['title vectors'] != 'M']\n",
    "\n",
    "test_df_mixed_vectorized= test_df_mixed_vectorized[test_df_mixed_vectorized['text vectors'] != 'M']\n",
    "test_df_mixed_vectorized = test_df_mixed_vectorized[test_df_mixed_vectorized['title vectors'] != 'M']"
   ]
  },
  {
   "cell_type": "code",
   "execution_count": 90,
   "metadata": {},
   "outputs": [
    {
     "data": {
      "text/html": [
       "<div>\n",
       "<style scoped>\n",
       "    .dataframe tbody tr th:only-of-type {\n",
       "        vertical-align: middle;\n",
       "    }\n",
       "\n",
       "    .dataframe tbody tr th {\n",
       "        vertical-align: top;\n",
       "    }\n",
       "\n",
       "    .dataframe thead th {\n",
       "        text-align: right;\n",
       "    }\n",
       "</style>\n",
       "<table border=\"1\" class=\"dataframe\">\n",
       "  <thead>\n",
       "    <tr style=\"text-align: right;\">\n",
       "      <th></th>\n",
       "      <th>text vectors</th>\n",
       "      <th>title vectors</th>\n",
       "      <th>pair class</th>\n",
       "    </tr>\n",
       "  </thead>\n",
       "  <tbody>\n",
       "    <tr>\n",
       "      <th>0</th>\n",
       "      <td>[0.0215330486535309, -0.04305290151995103, 0.0...</td>\n",
       "      <td>[0.044846607035685174, -0.083276574814, 0.0501...</td>\n",
       "      <td>1</td>\n",
       "    </tr>\n",
       "    <tr>\n",
       "      <th>1</th>\n",
       "      <td>[-0.05392652418105021, 0.06523997476698667, -0...</td>\n",
       "      <td>[-0.03535895716559517, 0.0739443385127468, -0....</td>\n",
       "      <td>1</td>\n",
       "    </tr>\n",
       "    <tr>\n",
       "      <th>2</th>\n",
       "      <td>[0.026482487648737625, -0.07452655796969405, -...</td>\n",
       "      <td>[0.033756954213591275, -0.09095690498083923, -...</td>\n",
       "      <td>1</td>\n",
       "    </tr>\n",
       "    <tr>\n",
       "      <th>3</th>\n",
       "      <td>[0.05514824686043516, -0.13254473531447683, -0...</td>\n",
       "      <td>[0.0030009802677997462, -0.1607918739573298, 0...</td>\n",
       "      <td>1</td>\n",
       "    </tr>\n",
       "    <tr>\n",
       "      <th>4</th>\n",
       "      <td>[-0.043815581592819425, -0.0242846568392968, -...</td>\n",
       "      <td>[-0.01974632038497767, -0.03328350266898302, 0...</td>\n",
       "      <td>1</td>\n",
       "    </tr>\n",
       "  </tbody>\n",
       "</table>\n",
       "</div>"
      ],
      "text/plain": [
       "                                        text vectors  \\\n",
       "0  [0.0215330486535309, -0.04305290151995103, 0.0...   \n",
       "1  [-0.05392652418105021, 0.06523997476698667, -0...   \n",
       "2  [0.026482487648737625, -0.07452655796969405, -...   \n",
       "3  [0.05514824686043516, -0.13254473531447683, -0...   \n",
       "4  [-0.043815581592819425, -0.0242846568392968, -...   \n",
       "\n",
       "                                       title vectors  pair class  \n",
       "0  [0.044846607035685174, -0.083276574814, 0.0501...           1  \n",
       "1  [-0.03535895716559517, 0.0739443385127468, -0....           1  \n",
       "2  [0.033756954213591275, -0.09095690498083923, -...           1  \n",
       "3  [0.0030009802677997462, -0.1607918739573298, 0...           1  \n",
       "4  [-0.01974632038497767, -0.03328350266898302, 0...           1  "
      ]
     },
     "execution_count": 90,
     "metadata": {},
     "output_type": "execute_result"
    }
   ],
   "source": [
    "training_df_mixed_vectorized.head()"
   ]
  },
  {
   "cell_type": "code",
   "execution_count": 91,
   "metadata": {},
   "outputs": [
    {
     "data": {
      "text/html": [
       "<div>\n",
       "<style scoped>\n",
       "    .dataframe tbody tr th:only-of-type {\n",
       "        vertical-align: middle;\n",
       "    }\n",
       "\n",
       "    .dataframe tbody tr th {\n",
       "        vertical-align: top;\n",
       "    }\n",
       "\n",
       "    .dataframe thead th {\n",
       "        text-align: right;\n",
       "    }\n",
       "</style>\n",
       "<table border=\"1\" class=\"dataframe\">\n",
       "  <thead>\n",
       "    <tr style=\"text-align: right;\">\n",
       "      <th></th>\n",
       "      <th>text vectors</th>\n",
       "      <th>title vectors</th>\n",
       "      <th>pair class</th>\n",
       "    </tr>\n",
       "  </thead>\n",
       "  <tbody>\n",
       "    <tr>\n",
       "      <th>0</th>\n",
       "      <td>[0.07061064989840407, -0.029337851346217095, -...</td>\n",
       "      <td>[0.06027708972256214, 0.013014543484407557, -0...</td>\n",
       "      <td>1</td>\n",
       "    </tr>\n",
       "    <tr>\n",
       "      <th>1</th>\n",
       "      <td>[0.07697784193410387, 0.03208215255843851, -0....</td>\n",
       "      <td>[-0.02378834066911555, -0.03970476790977809, -...</td>\n",
       "      <td>1</td>\n",
       "    </tr>\n",
       "    <tr>\n",
       "      <th>2</th>\n",
       "      <td>[-0.02305594037961445, -0.048415419819516116, ...</td>\n",
       "      <td>[0.016330164433045878, -0.03639723320826057, -...</td>\n",
       "      <td>1</td>\n",
       "    </tr>\n",
       "    <tr>\n",
       "      <th>3</th>\n",
       "      <td>[0.04797980894679184, -0.047446015091947104, -...</td>\n",
       "      <td>[0.009230866857480707, -0.017513134996159002, ...</td>\n",
       "      <td>1</td>\n",
       "    </tr>\n",
       "    <tr>\n",
       "      <th>4</th>\n",
       "      <td>[-0.09338706221393103, -0.03887129274383281, -...</td>\n",
       "      <td>[-0.026532806840210314, -0.017691119306265674,...</td>\n",
       "      <td>1</td>\n",
       "    </tr>\n",
       "  </tbody>\n",
       "</table>\n",
       "</div>"
      ],
      "text/plain": [
       "                                        text vectors  \\\n",
       "0  [0.07061064989840407, -0.029337851346217095, -...   \n",
       "1  [0.07697784193410387, 0.03208215255843851, -0....   \n",
       "2  [-0.02305594037961445, -0.048415419819516116, ...   \n",
       "3  [0.04797980894679184, -0.047446015091947104, -...   \n",
       "4  [-0.09338706221393103, -0.03887129274383281, -...   \n",
       "\n",
       "                                       title vectors  pair class  \n",
       "0  [0.06027708972256214, 0.013014543484407557, -0...           1  \n",
       "1  [-0.02378834066911555, -0.03970476790977809, -...           1  \n",
       "2  [0.016330164433045878, -0.03639723320826057, -...           1  \n",
       "3  [0.009230866857480707, -0.017513134996159002, ...           1  \n",
       "4  [-0.026532806840210314, -0.017691119306265674,...           1  "
      ]
     },
     "execution_count": 91,
     "metadata": {},
     "output_type": "execute_result"
    }
   ],
   "source": [
    "test_df_mixed_vectorized.head()"
   ]
  },
  {
   "cell_type": "code",
   "execution_count": 92,
   "metadata": {},
   "outputs": [],
   "source": [
    "def cosine_between_rows(row):\n",
    "    sim = cosine_similarity(row['text vectors'].reshape(1, -1), row['title vectors'].reshape(1, -1))\n",
    "    return sim"
   ]
  },
  {
   "cell_type": "markdown",
   "metadata": {},
   "source": [
    "# Cosine Consistency Check"
   ]
  },
  {
   "cell_type": "code",
   "execution_count": 93,
   "metadata": {},
   "outputs": [
    {
     "name": "stdout",
     "output_type": "stream",
     "text": [
      "Mean cosine similarity score: first half [[0.75712123]]\n",
      "Mean cosine similarity score: second half [[0.21286751]]\n"
     ]
    }
   ],
   "source": [
    "sim_score_one = training_df_mixed_vectorized.iloc[:int(len(training_df_mixed_vectorized)/2)].apply(cosine_between_rows, axis = 1)\n",
    "sim_score_two = training_df_mixed_vectorized.iloc[int(len(training_df_mixed_vectorized)/2):].apply(cosine_between_rows, axis = 1)\n",
    "\n",
    "print('Mean cosine similarity score: first half', np.mean(sim_score_one))\n",
    "print('Mean cosine similarity score: second half', np.mean(sim_score_two))"
   ]
  },
  {
   "cell_type": "code",
   "execution_count": 94,
   "metadata": {},
   "outputs": [
    {
     "name": "stdout",
     "output_type": "stream",
     "text": [
      "Mean cosine similarity score: first half [[0.7586609]]\n",
      "Mean cosine similarity score: second half [[0.21317322]]\n"
     ]
    }
   ],
   "source": [
    "sim_score_one_test = test_df_mixed_vectorized.iloc[:int(len(test_df_mixed_vectorized)/2)].apply(cosine_between_rows, axis = 1)\n",
    "sim_score_two_test = test_df_mixed_vectorized.iloc[int(len(test_df_mixed_vectorized)/2):].apply(cosine_between_rows, axis = 1)\n",
    "\n",
    "print('Mean cosine similarity score: first half', np.mean(sim_score_one_test))\n",
    "print('Mean cosine similarity score: second half', np.mean(sim_score_two_test))"
   ]
  },
  {
   "cell_type": "code",
   "execution_count": 95,
   "metadata": {},
   "outputs": [
    {
     "data": {
      "text/html": [
       "<div>\n",
       "<style scoped>\n",
       "    .dataframe tbody tr th:only-of-type {\n",
       "        vertical-align: middle;\n",
       "    }\n",
       "\n",
       "    .dataframe tbody tr th {\n",
       "        vertical-align: top;\n",
       "    }\n",
       "\n",
       "    .dataframe thead th {\n",
       "        text-align: right;\n",
       "    }\n",
       "</style>\n",
       "<table border=\"1\" class=\"dataframe\">\n",
       "  <thead>\n",
       "    <tr style=\"text-align: right;\">\n",
       "      <th></th>\n",
       "      <th>text vectors</th>\n",
       "      <th>title vectors</th>\n",
       "      <th>pair class</th>\n",
       "    </tr>\n",
       "  </thead>\n",
       "  <tbody>\n",
       "    <tr>\n",
       "      <th>0</th>\n",
       "      <td>[lg, sh7b, от, 819, 00, доставка]</td>\n",
       "      <td>[lg, sh7b]</td>\n",
       "      <td>1</td>\n",
       "    </tr>\n",
       "    <tr>\n",
       "      <th>1</th>\n",
       "      <td>[нужный, перевод, медицинский, документация, к...</td>\n",
       "      <td>[перевод, медицинский, документация]</td>\n",
       "      <td>1</td>\n",
       "    </tr>\n",
       "    <tr>\n",
       "      <th>2</th>\n",
       "      <td>[результат, на, 3, день, зубной, паста, крест,...</td>\n",
       "      <td>[зубной, паста, крест]</td>\n",
       "      <td>1</td>\n",
       "    </tr>\n",
       "    <tr>\n",
       "      <th>3</th>\n",
       "      <td>[массив, бук, и, дуб, древесный, шпон, ciplex,...</td>\n",
       "      <td>[межкомнатный, дверь, из, россия]</td>\n",
       "      <td>1</td>\n",
       "    </tr>\n",
       "    <tr>\n",
       "      <th>4</th>\n",
       "      <td>[купить, Gerat, лента, пробивной, Gerat, 19мм,...</td>\n",
       "      <td>[Gerat, 19мм, 3, 2мм, 30м, 50327]</td>\n",
       "      <td>1</td>\n",
       "    </tr>\n",
       "  </tbody>\n",
       "</table>\n",
       "</div>"
      ],
      "text/plain": [
       "                                        text vectors  \\\n",
       "0                  [lg, sh7b, от, 819, 00, доставка]   \n",
       "1  [нужный, перевод, медицинский, документация, к...   \n",
       "2  [результат, на, 3, день, зубной, паста, крест,...   \n",
       "3  [массив, бук, и, дуб, древесный, шпон, ciplex,...   \n",
       "4  [купить, Gerat, лента, пробивной, Gerat, 19мм,...   \n",
       "\n",
       "                          title vectors  pair class  \n",
       "0                            [lg, sh7b]           1  \n",
       "1  [перевод, медицинский, документация]           1  \n",
       "2                [зубной, паста, крест]           1  \n",
       "3     [межкомнатный, дверь, из, россия]           1  \n",
       "4     [Gerat, 19мм, 3, 2мм, 30м, 50327]           1  "
      ]
     },
     "execution_count": 95,
     "metadata": {},
     "output_type": "execute_result"
    }
   ],
   "source": [
    "training_df_mixed.head()"
   ]
  },
  {
   "cell_type": "code",
   "execution_count": 96,
   "metadata": {},
   "outputs": [
    {
     "data": {
      "text/plain": [
       "text vectors     0\n",
       "title vectors    0\n",
       "pair class       0\n",
       "dtype: int64"
      ]
     },
     "execution_count": 96,
     "metadata": {},
     "output_type": "execute_result"
    }
   ],
   "source": [
    "training_df_mixed.isnull().sum()"
   ]
  },
  {
   "cell_type": "code",
   "execution_count": 97,
   "metadata": {},
   "outputs": [
    {
     "data": {
      "text/html": [
       "<div>\n",
       "<style scoped>\n",
       "    .dataframe tbody tr th:only-of-type {\n",
       "        vertical-align: middle;\n",
       "    }\n",
       "\n",
       "    .dataframe tbody tr th {\n",
       "        vertical-align: top;\n",
       "    }\n",
       "\n",
       "    .dataframe thead th {\n",
       "        text-align: right;\n",
       "    }\n",
       "</style>\n",
       "<table border=\"1\" class=\"dataframe\">\n",
       "  <thead>\n",
       "    <tr style=\"text-align: right;\">\n",
       "      <th></th>\n",
       "      <th>text vectors</th>\n",
       "      <th>title vectors</th>\n",
       "      <th>pair class</th>\n",
       "    </tr>\n",
       "  </thead>\n",
       "  <tbody>\n",
       "    <tr>\n",
       "      <th>0</th>\n",
       "      <td>[lg, sh7b, от, 819, 00, доставка]</td>\n",
       "      <td>[lg, sh7b]</td>\n",
       "      <td>1</td>\n",
       "    </tr>\n",
       "    <tr>\n",
       "      <th>1</th>\n",
       "      <td>[нужный, перевод, медицинский, документация, к...</td>\n",
       "      <td>[перевод, медицинский, документация]</td>\n",
       "      <td>1</td>\n",
       "    </tr>\n",
       "    <tr>\n",
       "      <th>2</th>\n",
       "      <td>[результат, на, 3, день, зубной, паста, крест,...</td>\n",
       "      <td>[зубной, паста, крест]</td>\n",
       "      <td>1</td>\n",
       "    </tr>\n",
       "    <tr>\n",
       "      <th>3</th>\n",
       "      <td>[массив, бук, и, дуб, древесный, шпон, ciplex,...</td>\n",
       "      <td>[межкомнатный, дверь, из, россия]</td>\n",
       "      <td>1</td>\n",
       "    </tr>\n",
       "    <tr>\n",
       "      <th>4</th>\n",
       "      <td>[купить, Gerat, лента, пробивной, Gerat, 19мм,...</td>\n",
       "      <td>[Gerat, 19мм, 3, 2мм, 30м, 50327]</td>\n",
       "      <td>1</td>\n",
       "    </tr>\n",
       "  </tbody>\n",
       "</table>\n",
       "</div>"
      ],
      "text/plain": [
       "                                        text vectors  \\\n",
       "0                  [lg, sh7b, от, 819, 00, доставка]   \n",
       "1  [нужный, перевод, медицинский, документация, к...   \n",
       "2  [результат, на, 3, день, зубной, паста, крест,...   \n",
       "3  [массив, бук, и, дуб, древесный, шпон, ciplex,...   \n",
       "4  [купить, Gerat, лента, пробивной, Gerat, 19мм,...   \n",
       "\n",
       "                          title vectors  pair class  \n",
       "0                            [lg, sh7b]           1  \n",
       "1  [перевод, медицинский, документация]           1  \n",
       "2                [зубной, паста, крест]           1  \n",
       "3     [межкомнатный, дверь, из, россия]           1  \n",
       "4     [Gerat, 19мм, 3, 2мм, 30м, 50327]           1  "
      ]
     },
     "execution_count": 97,
     "metadata": {},
     "output_type": "execute_result"
    }
   ],
   "source": [
    "training_df_mixed.head()"
   ]
  },
  {
   "cell_type": "code",
   "execution_count": 98,
   "metadata": {},
   "outputs": [
    {
     "data": {
      "text/plain": [
       "text vectors     0\n",
       "title vectors    0\n",
       "pair class       0\n",
       "dtype: int64"
      ]
     },
     "execution_count": 98,
     "metadata": {},
     "output_type": "execute_result"
    }
   ],
   "source": [
    "test_df_mixed.isnull().sum()"
   ]
  },
  {
   "cell_type": "code",
   "execution_count": 99,
   "metadata": {},
   "outputs": [],
   "source": [
    "def df_converter(df):\n",
    "    resultant_lists = df['text vectors'].apply(list) + df['title vectors'].apply(list)\n",
    "    \n",
    "    #print length for checking the length of concatenated vectors\n",
    "    print(len(resultant_lists.iloc[0]))\n",
    "    \n",
    "    arrays = np.array(list(resultant_lists))\n",
    "    return arrays"
   ]
  },
  {
   "cell_type": "code",
   "execution_count": 100,
   "metadata": {},
   "outputs": [
    {
     "name": "stdout",
     "output_type": "stream",
     "text": [
      "600\n"
     ]
    }
   ],
   "source": [
    "all_training_vectors = df_converter(training_df_mixed_vectorized)"
   ]
  },
  {
   "cell_type": "code",
   "execution_count": 101,
   "metadata": {},
   "outputs": [
    {
     "name": "stdout",
     "output_type": "stream",
     "text": [
      "600\n"
     ]
    }
   ],
   "source": [
    "all_test_vectors = df_converter(test_df_mixed_vectorized)"
   ]
  },
  {
   "cell_type": "code",
   "execution_count": 102,
   "metadata": {},
   "outputs": [],
   "source": [
    "new_y_training = training_df_mixed_vectorized['pair class']"
   ]
  },
  {
   "cell_type": "code",
   "execution_count": 103,
   "metadata": {},
   "outputs": [],
   "source": [
    "new_y_test = test_df_mixed_vectorized['pair class']"
   ]
  },
  {
   "cell_type": "markdown",
   "metadata": {},
   "source": [
    "# Sample for Parameter Finetuning"
   ]
  },
  {
   "cell_type": "code",
   "execution_count": 104,
   "metadata": {},
   "outputs": [],
   "source": [
    "sample_training_df = training_df_mixed_vectorized.sample(10000)"
   ]
  },
  {
   "cell_type": "code",
   "execution_count": 105,
   "metadata": {},
   "outputs": [
    {
     "data": {
      "text/html": [
       "<div>\n",
       "<style scoped>\n",
       "    .dataframe tbody tr th:only-of-type {\n",
       "        vertical-align: middle;\n",
       "    }\n",
       "\n",
       "    .dataframe tbody tr th {\n",
       "        vertical-align: top;\n",
       "    }\n",
       "\n",
       "    .dataframe thead th {\n",
       "        text-align: right;\n",
       "    }\n",
       "</style>\n",
       "<table border=\"1\" class=\"dataframe\">\n",
       "  <thead>\n",
       "    <tr style=\"text-align: right;\">\n",
       "      <th></th>\n",
       "      <th>text vectors</th>\n",
       "      <th>title vectors</th>\n",
       "      <th>pair class</th>\n",
       "    </tr>\n",
       "  </thead>\n",
       "  <tbody>\n",
       "    <tr>\n",
       "      <th>104620</th>\n",
       "      <td>[0.019359608129595286, 0.002451650450464234, 0...</td>\n",
       "      <td>[-0.007148311112493625, -0.10579103308091148, ...</td>\n",
       "      <td>0</td>\n",
       "    </tr>\n",
       "    <tr>\n",
       "      <th>32620</th>\n",
       "      <td>[-0.029042973479022006, -0.12539874173991936, ...</td>\n",
       "      <td>[-0.012259335645181434, -0.1072007810651637, -...</td>\n",
       "      <td>1</td>\n",
       "    </tr>\n",
       "    <tr>\n",
       "      <th>7976</th>\n",
       "      <td>[-0.018823535834782464, -0.08470256093023819, ...</td>\n",
       "      <td>[0.025095851431188428, -0.029747711589684613, ...</td>\n",
       "      <td>1</td>\n",
       "    </tr>\n",
       "    <tr>\n",
       "      <th>34858</th>\n",
       "      <td>[0.0005455075153541237, 0.02436887900868432, -...</td>\n",
       "      <td>[-0.023706812531909014, 0.020550179685658237, ...</td>\n",
       "      <td>1</td>\n",
       "    </tr>\n",
       "    <tr>\n",
       "      <th>62152</th>\n",
       "      <td>[-0.02871323694708855, -0.05973569006877057, -...</td>\n",
       "      <td>[-0.025633384861089063, -0.05684402014616649, ...</td>\n",
       "      <td>1</td>\n",
       "    </tr>\n",
       "  </tbody>\n",
       "</table>\n",
       "</div>"
      ],
      "text/plain": [
       "                                             text vectors  \\\n",
       "104620  [0.019359608129595286, 0.002451650450464234, 0...   \n",
       "32620   [-0.029042973479022006, -0.12539874173991936, ...   \n",
       "7976    [-0.018823535834782464, -0.08470256093023819, ...   \n",
       "34858   [0.0005455075153541237, 0.02436887900868432, -...   \n",
       "62152   [-0.02871323694708855, -0.05973569006877057, -...   \n",
       "\n",
       "                                            title vectors  pair class  \n",
       "104620  [-0.007148311112493625, -0.10579103308091148, ...           0  \n",
       "32620   [-0.012259335645181434, -0.1072007810651637, -...           1  \n",
       "7976    [0.025095851431188428, -0.029747711589684613, ...           1  \n",
       "34858   [-0.023706812531909014, 0.020550179685658237, ...           1  \n",
       "62152   [-0.025633384861089063, -0.05684402014616649, ...           1  "
      ]
     },
     "execution_count": 105,
     "metadata": {},
     "output_type": "execute_result"
    }
   ],
   "source": [
    "sample_training_df.head()"
   ]
  },
  {
   "cell_type": "code",
   "execution_count": 106,
   "metadata": {},
   "outputs": [],
   "source": [
    "from sklearn.decomposition import PCA\n",
    "\n",
    "pca = PCA(n_components = 150)\n",
    "X_train_pca = pca.fit_transform(all_training_vectors)"
   ]
  },
  {
   "cell_type": "code",
   "execution_count": 107,
   "metadata": {},
   "outputs": [
    {
     "name": "stdout",
     "output_type": "stream",
     "text": [
      "0.8456553060741487\n"
     ]
    }
   ],
   "source": [
    "print(sum(pca.explained_variance_ratio_))"
   ]
  },
  {
   "cell_type": "code",
   "execution_count": 108,
   "metadata": {},
   "outputs": [],
   "source": [
    "X_test_pca = pca.transform(all_test_vectors)"
   ]
  },
  {
   "cell_type": "markdown",
   "metadata": {},
   "source": [
    "# Finetuning Models"
   ]
  },
  {
   "cell_type": "code",
   "execution_count": 109,
   "metadata": {},
   "outputs": [
    {
     "name": "stdout",
     "output_type": "stream",
     "text": [
      "600\n"
     ]
    }
   ],
   "source": [
    "sample_training_arrays = df_converter(sample_training_df)"
   ]
  },
  {
   "cell_type": "code",
   "execution_count": 110,
   "metadata": {},
   "outputs": [],
   "source": [
    "sample_y = sample_training_df['pair class']"
   ]
  },
  {
   "cell_type": "code",
   "execution_count": 111,
   "metadata": {},
   "outputs": [],
   "source": [
    "pca_sample = PCA(n_components = 150)\n",
    "X_train_sample_pca = pca_sample.fit_transform(sample_training_arrays)"
   ]
  },
  {
   "cell_type": "code",
   "execution_count": 112,
   "metadata": {},
   "outputs": [
    {
     "data": {
      "text/plain": [
       "(10000, 150)"
      ]
     },
     "execution_count": 112,
     "metadata": {},
     "output_type": "execute_result"
    }
   ],
   "source": [
    "X_train_sample_pca.shape"
   ]
  },
  {
   "cell_type": "code",
   "execution_count": 113,
   "metadata": {},
   "outputs": [
    {
     "name": "stdout",
     "output_type": "stream",
     "text": [
      "0.8507330884311478\n"
     ]
    }
   ],
   "source": [
    "print(sum(pca_sample.explained_variance_ratio_))"
   ]
  },
  {
   "cell_type": "code",
   "execution_count": 114,
   "metadata": {},
   "outputs": [
    {
     "data": {
      "image/png": "[encoded data removed]",
      "text/plain": [
       "<Figure size 864x504 with 1 Axes>"
      ]
     },
     "metadata": {
      "needs_background": "light"
     },
     "output_type": "display_data"
    }
   ],
   "source": [
    "plt.figure(figsize=(12, 7))\n",
    "plt.title('First Two PCA Components')\n",
    "sns.scatterplot(X_train_sample_pca[:, 0], X_train_sample_pca[:, 1])\n",
    "plt.xlabel('First PCA Component')\n",
    "plt.ylabel('Second PCA Componenet')\n",
    "\n",
    "plt.show()"
   ]
  },
  {
   "cell_type": "code",
   "execution_count": 115,
   "metadata": {},
   "outputs": [
    {
     "name": "stdout",
     "output_type": "stream",
     "text": [
      "Fitting 3 folds for each of 12 candidates, totalling 36 fits\n"
     ]
    },
    {
     "name": "stderr",
     "output_type": "stream",
     "text": [
      "[Parallel(n_jobs=1)]: Done  36 out of  36 | elapsed:    2.1s finished\n"
     ]
    },
    {
     "data": {
      "text/plain": [
       "GridSearchCV(cv=3, error_score='raise',\n",
       "       estimator=LogisticRegression(C=1.0, class_weight=None, dual=False, fit_intercept=True,\n",
       "          intercept_scaling=1, max_iter=100, multi_class='ovr', n_jobs=1,\n",
       "          penalty='l2', random_state=None, solver='liblinear', tol=0.0001,\n",
       "          verbose=0, warm_start=False),\n",
       "       fit_params=None, iid=True, n_jobs=1,\n",
       "       param_grid=[{'C': [1e-20, 0.001, 0.001, 10, 100.0, 1000.0], 'penalty': ['l1', 'l2']}],\n",
       "       pre_dispatch='2*n_jobs', refit=True, return_train_score='warn',\n",
       "       scoring='accuracy', verbose=1)"
      ]
     },
     "execution_count": 115,
     "metadata": {},
     "output_type": "execute_result"
    }
   ],
   "source": [
    "from sklearn.linear_model import LogisticRegression\n",
    "\n",
    "param_grid = [\n",
    "    {'C': [1e-20, 1e-3,1e-3,  10, 1e2, 1e3],\n",
    "    'penalty': ['l1', 'l2']}\n",
    "]\n",
    "lr = LogisticRegression()\n",
    "\n",
    "grid_search = GridSearchCV(lr, param_grid, cv =3,\n",
    "                          scoring= 'accuracy', verbose=1)\n",
    "\n",
    "grid_search.fit(X_train_sample_pca, sample_y)"
   ]
  },
  {
   "cell_type": "code",
   "execution_count": 116,
   "metadata": {},
   "outputs": [
    {
     "name": "stdout",
     "output_type": "stream",
     "text": [
      "Best score 0.5138\n",
      "Best parameters {'C': 100.0, 'penalty': 'l1'}\n"
     ]
    }
   ],
   "source": [
    "print('Best score', grid_search.best_score_)\n",
    "print('Best parameters', grid_search.best_params_)"
   ]
  },
  {
   "cell_type": "code",
   "execution_count": 117,
   "metadata": {},
   "outputs": [
    {
     "data": {
      "text/plain": [
       "GridSearchCV(cv=3, error_score='raise',\n",
       "       estimator=RandomForestClassifier(bootstrap=True, class_weight=None, criterion='gini',\n",
       "            max_depth=None, max_features='auto', max_leaf_nodes=None,\n",
       "            min_impurity_decrease=0.0, min_impurity_split=None,\n",
       "            min_samples_leaf=1, min_samples_split=2,\n",
       "            min_weight_fraction_leaf=0.0, n_estimators=10, n_jobs=-1,\n",
       "            oob_score=False, random_state=None, verbose=0,\n",
       "            warm_start=False),\n",
       "       fit_params=None, iid=True, n_jobs=-1,\n",
       "       param_grid=[{'n_estimators': [100, 500, 700], 'max_depth': [5, 8, 12, 20, 30]}],\n",
       "       pre_dispatch='2*n_jobs', refit=True, return_train_score='warn',\n",
       "       scoring='accuracy', verbose=0)"
      ]
     },
     "execution_count": 117,
     "metadata": {},
     "output_type": "execute_result"
    }
   ],
   "source": [
    "param_grid_rfc = [\n",
    "    {'n_estimators': [100, 500, 700],\n",
    "    'max_depth': [5, 8, 12, 20, 30]}\n",
    "]\n",
    "rfc = RandomForestClassifier(n_jobs = -1)\n",
    "\n",
    "grid_search_rfc = GridSearchCV(rfc, param_grid_rfc, cv =3,\n",
    "                          scoring= 'accuracy', verbose=0,\n",
    "                          n_jobs = -1)\n",
    "\n",
    "grid_search_rfc.fit(X_train_sample_pca, sample_y)"
   ]
  },
  {
   "cell_type": "code",
   "execution_count": 118,
   "metadata": {},
   "outputs": [
    {
     "name": "stdout",
     "output_type": "stream",
     "text": [
      "Best score 0.886\n",
      "Best parameters {'max_depth': 30, 'n_estimators': 500}\n"
     ]
    }
   ],
   "source": [
    "print('Best score', grid_search_rfc.best_score_)\n",
    "print('Best parameters', grid_search_rfc.best_params_)"
   ]
  },
  {
   "cell_type": "code",
   "execution_count": 119,
   "metadata": {},
   "outputs": [
    {
     "data": {
      "text/plain": [
       "GridSearchCV(cv=3, error_score='raise',\n",
       "       estimator=RandomForestClassifier(bootstrap=True, class_weight=None, criterion='gini',\n",
       "            max_depth=None, max_features='auto', max_leaf_nodes=None,\n",
       "            min_impurity_decrease=0.0, min_impurity_split=None,\n",
       "            min_samples_leaf=1, min_samples_split=2,\n",
       "            min_weight_fraction_leaf=0.0, n_estimators=10, n_jobs=-1,\n",
       "            oob_score=False, random_state=None, verbose=0,\n",
       "            warm_start=False),\n",
       "       fit_params=None, iid=True, n_jobs=-1,\n",
       "       param_grid=[{'n_estimators': [1000, 1200], 'max_depth': [40, 50]}],\n",
       "       pre_dispatch='2*n_jobs', refit=True, return_train_score='warn',\n",
       "       scoring='accuracy', verbose=0)"
      ]
     },
     "execution_count": 119,
     "metadata": {},
     "output_type": "execute_result"
    }
   ],
   "source": [
    "param_grid_rfc = [\n",
    "    {'n_estimators': [1000, 1200],\n",
    "    'max_depth': [40, 50]}\n",
    "]\n",
    "rfc_one = RandomForestClassifier(n_jobs = -1)\n",
    "\n",
    "grid_search_rfc_one = GridSearchCV(rfc, param_grid_rfc, cv =3,\n",
    "                          scoring= 'accuracy', verbose=0,\n",
    "                          n_jobs = -1)\n",
    "\n",
    "grid_search_rfc_one.fit(X_train_sample_pca, sample_y)"
   ]
  },
  {
   "cell_type": "code",
   "execution_count": 120,
   "metadata": {},
   "outputs": [
    {
     "name": "stdout",
     "output_type": "stream",
     "text": [
      "Best score 0.8876\n",
      "Best parameters {'max_depth': 40, 'n_estimators': 1200}\n"
     ]
    }
   ],
   "source": [
    "print('Best score', grid_search_rfc_one.best_score_)\n",
    "print('Best parameters', grid_search_rfc_one.best_params_)"
   ]
  },
  {
   "cell_type": "code",
   "execution_count": 121,
   "metadata": {},
   "outputs": [
    {
     "data": {
      "text/plain": [
       "GridSearchCV(cv=3, error_score='raise',\n",
       "       estimator=XGBClassifier(base_score=0.5, booster='gbtree', colsample_bylevel=1,\n",
       "       colsample_bytree=1, gamma=0, learning_rate=0.1, max_delta_step=0,\n",
       "       max_depth=3, min_child_weight=1, missing=None, n_estimators=100,\n",
       "       n_jobs=-1, nthread=None, objective='binary:logistic',\n",
       "       random_state=0, reg_alpha=0, reg_lambda=1, scale_pos_weight=1,\n",
       "       seed=None, silent=True, subsample=1),\n",
       "       fit_params=None, iid=True, n_jobs=-1,\n",
       "       param_grid=[{'n_estimators': [100, 500, 700], 'max_depth': [2, 4, 6, 8]}],\n",
       "       pre_dispatch='2*n_jobs', refit=True, return_train_score='warn',\n",
       "       scoring='accuracy', verbose=0)"
      ]
     },
     "execution_count": 121,
     "metadata": {},
     "output_type": "execute_result"
    }
   ],
   "source": [
    "from xgboost import XGBClassifier\n",
    "\n",
    "param_grid_xgb = [\n",
    "    {'n_estimators': [100, 500, 700],\n",
    "    'max_depth': [2, 4, 6, 8],\n",
    "    #'learning_rate': [1e-3, 0.5, 0.1],\n",
    "    }\n",
    "]\n",
    "xgb = XGBClassifier(n_jobs = -1)\n",
    "\n",
    "grid_search_xgb = GridSearchCV(xgb, param_grid_xgb, cv =3,\n",
    "                          scoring= 'accuracy', verbose=0,\n",
    "                          n_jobs = -1)\n",
    "\n",
    "grid_search_xgb.fit(X_train_sample_pca, sample_y)"
   ]
  },
  {
   "cell_type": "code",
   "execution_count": 122,
   "metadata": {},
   "outputs": [
    {
     "name": "stdout",
     "output_type": "stream",
     "text": [
      "Best score 0.9224\n",
      "Best parameters {'max_depth': 6, 'n_estimators': 700}\n"
     ]
    }
   ],
   "source": [
    "print('Best score', grid_search_xgb.best_score_)\n",
    "print('Best parameters', grid_search_xgb.best_params_)"
   ]
  },
  {
   "cell_type": "code",
   "execution_count": 123,
   "metadata": {},
   "outputs": [
    {
     "data": {
      "text/plain": [
       "GridSearchCV(cv=3, error_score='raise',\n",
       "       estimator=XGBClassifier(base_score=0.5, booster='gbtree', colsample_bylevel=1,\n",
       "       colsample_bytree=1, gamma=0, learning_rate=0.1, max_delta_step=0,\n",
       "       max_depth=8, min_child_weight=1, missing=None, n_estimators=100,\n",
       "       n_jobs=-1, nthread=None, objective='binary:logistic',\n",
       "       random_state=0, reg_alpha=0, reg_lambda=1, scale_pos_weight=1,\n",
       "       seed=None, silent=True, subsample=1),\n",
       "       fit_params=None, iid=True, n_jobs=-1,\n",
       "       param_grid=[{'n_estimators': [700, 1000], 'learning_rate': [0.001, 0.5, 0.1]}],\n",
       "       pre_dispatch='2*n_jobs', refit=True, return_train_score='warn',\n",
       "       scoring='accuracy', verbose=0)"
      ]
     },
     "execution_count": 123,
     "metadata": {},
     "output_type": "execute_result"
    }
   ],
   "source": [
    "param_grid_xgb_one = [\n",
    "    {'n_estimators': [700, 1000],\n",
    "    'learning_rate': [1e-3, 0.5, 0.1],\n",
    "    }\n",
    "]\n",
    "xgb = XGBClassifier(n_jobs = -1, max_depth= 8)\n",
    "\n",
    "grid_search_xgb_one = GridSearchCV(xgb, param_grid_xgb_one, cv =3,\n",
    "                          scoring= 'accuracy', verbose=0,\n",
    "                          n_jobs = -1)\n",
    "\n",
    "grid_search_xgb_one.fit(X_train_sample_pca, sample_y)"
   ]
  },
  {
   "cell_type": "code",
   "execution_count": 124,
   "metadata": {},
   "outputs": [
    {
     "name": "stdout",
     "output_type": "stream",
     "text": [
      "Best score 0.9248\n",
      "Best parameters {'learning_rate': 0.1, 'n_estimators': 1000}\n"
     ]
    }
   ],
   "source": [
    "print('Best score', grid_search_xgb_one.best_score_)\n",
    "print('Best parameters', grid_search_xgb_one.best_params_)"
   ]
  },
  {
   "cell_type": "code",
   "execution_count": 125,
   "metadata": {},
   "outputs": [
    {
     "data": {
      "text/plain": [
       "GridSearchCV(cv=3, error_score='raise',\n",
       "       estimator=XGBClassifier(base_score=0.5, booster='gbtree', colsample_bylevel=1,\n",
       "       colsample_bytree=1, gamma=0, learning_rate=0.1, max_delta_step=0,\n",
       "       max_depth=8, min_child_weight=1, missing=None, n_estimators=1000,\n",
       "       n_jobs=-1, nthread=None, objective='binary:logistic',\n",
       "       random_state=0, reg_alpha=0, reg_lambda=1, scale_pos_weight=1,\n",
       "       seed=None, silent=True, subsample=1),\n",
       "       fit_params=None, iid=True, n_jobs=-1,\n",
       "       param_grid=[{'subsample': [0.25, 0.5, 1]}], pre_dispatch='2*n_jobs',\n",
       "       refit=True, return_train_score='warn', scoring='accuracy',\n",
       "       verbose=0)"
      ]
     },
     "execution_count": 125,
     "metadata": {},
     "output_type": "execute_result"
    }
   ],
   "source": [
    "param_grid_xgb_two = [\n",
    "    {'subsample': [0.25, 0.5, 1],\n",
    "    }\n",
    "]\n",
    "xgb = XGBClassifier(n_jobs = -1, max_depth= 8, n_estimators=1000, learning_rate=0.1, )\n",
    "\n",
    "grid_search_xgb_two = GridSearchCV(xgb, param_grid_xgb_two, cv =3,\n",
    "                          scoring= 'accuracy', verbose=0,\n",
    "                          n_jobs = -1)\n",
    "\n",
    "grid_search_xgb_two.fit(X_train_sample_pca, sample_y)"
   ]
  },
  {
   "cell_type": "code",
   "execution_count": 126,
   "metadata": {},
   "outputs": [
    {
     "name": "stdout",
     "output_type": "stream",
     "text": [
      "Best score 0.9286\n",
      "Best parameters {'subsample': 0.5}\n"
     ]
    }
   ],
   "source": [
    "print('Best score', grid_search_xgb_two.best_score_)\n",
    "print('Best parameters', grid_search_xgb_two.best_params_)"
   ]
  },
  {
   "cell_type": "markdown",
   "metadata": {},
   "source": [
    "# Test Set"
   ]
  },
  {
   "cell_type": "code",
   "execution_count": 127,
   "metadata": {},
   "outputs": [
    {
     "name": "stdout",
     "output_type": "stream",
     "text": [
      "0.5024721561649929\n"
     ]
    }
   ],
   "source": [
    "from sklearn.metrics import roc_auc_score\n",
    "lr_test = LogisticRegression(C= 100, penalty= 'l2')\n",
    "\n",
    "lr_test.fit(X_train_pca, new_y_training)\n",
    "\n",
    "print(lr_test.score(X_test_pca, new_y_test))"
   ]
  },
  {
   "cell_type": "code",
   "execution_count": 128,
   "metadata": {},
   "outputs": [
    {
     "name": "stdout",
     "output_type": "stream",
     "text": [
      "0.9378966997998324\n"
     ]
    }
   ],
   "source": [
    "rfc_test = RandomForestClassifier(n_jobs = -1, \n",
    "                            n_estimators = 1200,\n",
    "                            max_depth = 40)\n",
    "\n",
    "rfc_test.fit(X_train_pca, new_y_training)\n",
    "\n",
    "print(rfc_test.score(X_test_pca, new_y_test))"
   ]
  },
  {
   "cell_type": "code",
   "execution_count": 129,
   "metadata": {},
   "outputs": [
    {
     "name": "stdout",
     "output_type": "stream",
     "text": [
      "0.9717883355289045\n"
     ]
    }
   ],
   "source": [
    "xgb_test = XGBClassifier(n_estimators = 1000,\n",
    "                        max_depth = 8,\n",
    "                        learning_rate= 0.1,\n",
    "                        subsample = 0.5)\n",
    "\n",
    "xgb_test.fit(X_train_pca, new_y_training)\n",
    "\n",
    "print(xgb_test.score(X_test_pca, new_y_test))"
   ]
  },
  {
   "cell_type": "code",
   "execution_count": 130,
   "metadata": {},
   "outputs": [
    {
     "data": {
      "text/plain": [
       "58451"
      ]
     },
     "execution_count": 130,
     "metadata": {},
     "output_type": "execute_result"
    }
   ],
   "source": [
    "len(X_test_pca)"
   ]
  },
  {
   "cell_type": "code",
   "execution_count": 131,
   "metadata": {},
   "outputs": [
    {
     "data": {
      "text/plain": [
       "58746"
      ]
     },
     "execution_count": 131,
     "metadata": {},
     "output_type": "execute_result"
    }
   ],
   "source": [
    "len(test_df_mixed['text vectors'])"
   ]
  },
  {
   "cell_type": "code",
   "execution_count": 132,
   "metadata": {},
   "outputs": [],
   "source": [
    "predictions = pd.DataFrame(test_df_mixed['text vectors'].iloc[:200])\n",
    "predictions['title vectors'] = test_df_mixed['title vectors'].iloc[:200]\n",
    "predictions['pair class'] = test_df_mixed['pair class'].iloc[:200]\n",
    "predictions['predicted class'] = xgb_test.predict_proba(X_test_pca[:200])[:, 1]"
   ]
  },
  {
   "cell_type": "code",
   "execution_count": 133,
   "metadata": {},
   "outputs": [
    {
     "data": {
      "text/html": [
       "<div>\n",
       "<style scoped>\n",
       "    .dataframe tbody tr th:only-of-type {\n",
       "        vertical-align: middle;\n",
       "    }\n",
       "\n",
       "    .dataframe tbody tr th {\n",
       "        vertical-align: top;\n",
       "    }\n",
       "\n",
       "    .dataframe thead th {\n",
       "        text-align: right;\n",
       "    }\n",
       "</style>\n",
       "<table border=\"1\" class=\"dataframe\">\n",
       "  <thead>\n",
       "    <tr style=\"text-align: right;\">\n",
       "      <th></th>\n",
       "      <th>text vectors</th>\n",
       "      <th>title vectors</th>\n",
       "      <th>pair class</th>\n",
       "      <th>predicted class</th>\n",
       "    </tr>\n",
       "  </thead>\n",
       "  <tbody>\n",
       "    <tr>\n",
       "      <th>0</th>\n",
       "      <td>[электрочайник, Zigmund, Shtain, KE, 81, SD, 1...</td>\n",
       "      <td>[KE, 81, SD, 119, 00, р]</td>\n",
       "      <td>1</td>\n",
       "      <td>0.993159</td>\n",
       "    </tr>\n",
       "    <tr>\n",
       "      <th>1</th>\n",
       "      <td>[сабвуфер, огромный, ассортимент, бесплатный, ...</td>\n",
       "      <td>[сабвуфер, купить, в, красноярск]</td>\n",
       "      <td>1</td>\n",
       "      <td>0.997835</td>\n",
       "    </tr>\n",
       "    <tr>\n",
       "      <th>2</th>\n",
       "      <td>[Onkyo, Tx, nr545, Black, в, наличие, быстрый,...</td>\n",
       "      <td>[Onkyo, Tx, nr545, Black, всего, 42390р]</td>\n",
       "      <td>1</td>\n",
       "      <td>0.999124</td>\n",
       "    </tr>\n",
       "    <tr>\n",
       "      <th>3</th>\n",
       "      <td>[шаблон, ордер, входить, в, состав, сборник, 1...</td>\n",
       "      <td>[шаблон, ордер]</td>\n",
       "      <td>1</td>\n",
       "      <td>0.997045</td>\n",
       "    </tr>\n",
       "    <tr>\n",
       "      <th>4</th>\n",
       "      <td>[шпаклевка, финишный, белый, сравнивать, цена,...</td>\n",
       "      <td>[шпаклевка, финишный, белый]</td>\n",
       "      <td>1</td>\n",
       "      <td>0.993489</td>\n",
       "    </tr>\n",
       "    <tr>\n",
       "      <th>5</th>\n",
       "      <td>[акция, аккумулятор, на, Toyota, Corolla, розн...</td>\n",
       "      <td>[аккумулятор, на, Toyota, Corolla]</td>\n",
       "      <td>1</td>\n",
       "      <td>0.998063</td>\n",
       "    </tr>\n",
       "    <tr>\n",
       "      <th>6</th>\n",
       "      <td>[пила, торцовочный, только, сегодня, за, 6499,...</td>\n",
       "      <td>[пила, торцовочный, Hammer]</td>\n",
       "      <td>1</td>\n",
       "      <td>0.997450</td>\n",
       "    </tr>\n",
       "    <tr>\n",
       "      <th>7</th>\n",
       "      <td>[по, низкий, цена, шуруповерт, макит, в, спб, ...</td>\n",
       "      <td>[купить, шуруповерт, макит, в, спб]</td>\n",
       "      <td>1</td>\n",
       "      <td>0.999600</td>\n",
       "    </tr>\n",
       "    <tr>\n",
       "      <th>8</th>\n",
       "      <td>[купить, Makita, уровень, Makita, Skr200z, 174...</td>\n",
       "      <td>[уровень, Makita, Skr200z, 174614]</td>\n",
       "      <td>1</td>\n",
       "      <td>0.999781</td>\n",
       "    </tr>\n",
       "    <tr>\n",
       "      <th>9</th>\n",
       "      <td>[дезодорант, регулир, потоотделение, сравниват...</td>\n",
       "      <td>[дезодорант, регулир, потоотделение]</td>\n",
       "      <td>1</td>\n",
       "      <td>0.999286</td>\n",
       "    </tr>\n",
       "    <tr>\n",
       "      <th>10</th>\n",
       "      <td>[удлинитель, 10, м, сравнивать, цена, весь, ин...</td>\n",
       "      <td>[удлинитель, 10, м]</td>\n",
       "      <td>1</td>\n",
       "      <td>0.966260</td>\n",
       "    </tr>\n",
       "    <tr>\n",
       "      <th>11</th>\n",
       "      <td>[замена, ГРМ, с5, в, день, обращение, от, 2500...</td>\n",
       "      <td>[замена, ГРМ, с5]</td>\n",
       "      <td>1</td>\n",
       "      <td>0.999597</td>\n",
       "    </tr>\n",
       "    <tr>\n",
       "      <th>12</th>\n",
       "      <td>[простой, способ, изучение, офисный, программа...</td>\n",
       "      <td>[Excel, для, начинающий]</td>\n",
       "      <td>1</td>\n",
       "      <td>0.998963</td>\n",
       "    </tr>\n",
       "    <tr>\n",
       "      <th>13</th>\n",
       "      <td>[купить, Supra, автомагнитола, USB, SD, Supra,...</td>\n",
       "      <td>[USB, SD, Supra, SFD, 121USC, недорого]</td>\n",
       "      <td>1</td>\n",
       "      <td>0.999878</td>\n",
       "    </tr>\n",
       "    <tr>\n",
       "      <th>14</th>\n",
       "      <td>[телевизор, LG, 49UH750V, 2183, 90, р, гаранти...</td>\n",
       "      <td>[LG, 49UH750V, 2183, 90, руб]</td>\n",
       "      <td>1</td>\n",
       "      <td>0.996986</td>\n",
       "    </tr>\n",
       "    <tr>\n",
       "      <th>15</th>\n",
       "      <td>[ZyXEL, Keenetic, 4G, III, сравнивать, цена, в...</td>\n",
       "      <td>[ZyXEL, Keenetic, 4G, III]</td>\n",
       "      <td>1</td>\n",
       "      <td>0.999831</td>\n",
       "    </tr>\n",
       "    <tr>\n",
       "      <th>16</th>\n",
       "      <td>[купить, ASUS, ноутбук, ASUS, ROG, G771JW, 17,...</td>\n",
       "      <td>[ASUS, ROG, G771JW, 17, 3, 1920x1080, In]</td>\n",
       "      <td>1</td>\n",
       "      <td>0.999990</td>\n",
       "    </tr>\n",
       "    <tr>\n",
       "      <th>17</th>\n",
       "      <td>[санки, скандинавия, сравнивать, цена, весь, и...</td>\n",
       "      <td>[санки, скандинавия]</td>\n",
       "      <td>1</td>\n",
       "      <td>0.999199</td>\n",
       "    </tr>\n",
       "    <tr>\n",
       "      <th>18</th>\n",
       "      <td>[инвертор, сварочный, ударник, уис, 180, 189, ...</td>\n",
       "      <td>[ударник, уис, 180, 189, 90, руб]</td>\n",
       "      <td>1</td>\n",
       "      <td>0.999659</td>\n",
       "    </tr>\n",
       "    <tr>\n",
       "      <th>19</th>\n",
       "      <td>[купить, Hammer, торцовочный, пила, Hammer, St...</td>\n",
       "      <td>[торцовочный, пила, Hammer, Stl1800b]</td>\n",
       "      <td>1</td>\n",
       "      <td>0.999383</td>\n",
       "    </tr>\n",
       "    <tr>\n",
       "      <th>20</th>\n",
       "      <td>[шкаф, рим, 150, от, производитель, в, краснод...</td>\n",
       "      <td>[шкаф, рим, 150]</td>\n",
       "      <td>1</td>\n",
       "      <td>0.976005</td>\n",
       "    </tr>\n",
       "    <tr>\n",
       "      <th>21</th>\n",
       "      <td>[ноутбук, Lenovo, IdeaPad, G50, 45, 854, 32, р...</td>\n",
       "      <td>[Lenovo, IdeaPad, G50, 45, 854, 32, р]</td>\n",
       "      <td>1</td>\n",
       "      <td>0.999900</td>\n",
       "    </tr>\n",
       "    <tr>\n",
       "      <th>22</th>\n",
       "      <td>[дешевый, фасадный, панель, низкий, цена, прям...</td>\n",
       "      <td>[дешевый, фасадный, панель, скидка]</td>\n",
       "      <td>1</td>\n",
       "      <td>0.995134</td>\n",
       "    </tr>\n",
       "    <tr>\n",
       "      <th>23</th>\n",
       "      <td>[курсы, 1С, зарплата, и, кадр, в, красноярск, ...</td>\n",
       "      <td>[курсы, по, программа, 1С, зарплата]</td>\n",
       "      <td>1</td>\n",
       "      <td>0.999610</td>\n",
       "    </tr>\n",
       "    <tr>\n",
       "      <th>24</th>\n",
       "      <td>[цена, весь, 1727, руб, купить, реле, напряжен...</td>\n",
       "      <td>[реле, напряжение, Digitop, Vp, 16a]</td>\n",
       "      <td>1</td>\n",
       "      <td>0.999760</td>\n",
       "    </tr>\n",
       "    <tr>\n",
       "      <th>25</th>\n",
       "      <td>[kil82af30r, от, 1612, 00, доставка]</td>\n",
       "      <td>[kil82af30r]</td>\n",
       "      <td>1</td>\n",
       "      <td>0.999864</td>\n",
       "    </tr>\n",
       "    <tr>\n",
       "      <th>26</th>\n",
       "      <td>[транспорт, быть, тут, перевозка, груз, уфа, р...</td>\n",
       "      <td>[перевозка, груз, уфа]</td>\n",
       "      <td>1</td>\n",
       "      <td>0.999929</td>\n",
       "    </tr>\n",
       "    <tr>\n",
       "      <th>27</th>\n",
       "      <td>[телевизор, Mystery, MTV, 3230LT2, 441, 45, р,...</td>\n",
       "      <td>[Mystery, MTV, 3230LT2, 441, 45, руб]</td>\n",
       "      <td>1</td>\n",
       "      <td>0.998989</td>\n",
       "    </tr>\n",
       "    <tr>\n",
       "      <th>28</th>\n",
       "      <td>[кулер, HotFrost, сравнивать, цена, весь, инте...</td>\n",
       "      <td>[кулер, HotFrost]</td>\n",
       "      <td>1</td>\n",
       "      <td>0.986710</td>\n",
       "    </tr>\n",
       "    <tr>\n",
       "      <th>29</th>\n",
       "      <td>[выпрямитель, для, волос, Bosch, PHS5947, 125,...</td>\n",
       "      <td>[Bosch, PHS5947, 125, 61, руб]</td>\n",
       "      <td>1</td>\n",
       "      <td>0.999177</td>\n",
       "    </tr>\n",
       "    <tr>\n",
       "      <th>...</th>\n",
       "      <td>...</td>\n",
       "      <td>...</td>\n",
       "      <td>...</td>\n",
       "      <td>...</td>\n",
       "    </tr>\n",
       "    <tr>\n",
       "      <th>170</th>\n",
       "      <td>[ноутбук, AsusK751SJ, TY034D, за, 25202, руб, ...</td>\n",
       "      <td>[ноутбук, AsusK751SJ, TY034D]</td>\n",
       "      <td>1</td>\n",
       "      <td>0.999958</td>\n",
       "    </tr>\n",
       "    <tr>\n",
       "      <th>171</th>\n",
       "      <td>[швейный, машина, Janome, 6600P, большой, выбо...</td>\n",
       "      <td>[Janome, 6600P, купить]</td>\n",
       "      <td>1</td>\n",
       "      <td>0.990564</td>\n",
       "    </tr>\n",
       "    <tr>\n",
       "      <th>172</th>\n",
       "      <td>[телескоп, азимутальный, сравнивать, цена, вес...</td>\n",
       "      <td>[телескоп, азимутальный]</td>\n",
       "      <td>1</td>\n",
       "      <td>0.999315</td>\n",
       "    </tr>\n",
       "    <tr>\n",
       "      <th>173</th>\n",
       "      <td>[купить, Bork, пылесос, Bork, V706, пылесос, с...</td>\n",
       "      <td>[пылесос, Bork, V706, недорого]</td>\n",
       "      <td>1</td>\n",
       "      <td>0.994692</td>\n",
       "    </tr>\n",
       "    <tr>\n",
       "      <th>174</th>\n",
       "      <td>[брюки, прямой, сравнивать, цена, весь, интерн...</td>\n",
       "      <td>[брюки, прямой]</td>\n",
       "      <td>1</td>\n",
       "      <td>0.995208</td>\n",
       "    </tr>\n",
       "    <tr>\n",
       "      <th>175</th>\n",
       "      <td>[Lg, 75Uh780v, в, наличие, быстрый, доставка, ...</td>\n",
       "      <td>[Lg, 75Uh780v, всего, 299990р]</td>\n",
       "      <td>1</td>\n",
       "      <td>0.999828</td>\n",
       "    </tr>\n",
       "    <tr>\n",
       "      <th>176</th>\n",
       "      <td>[наушник, гарнитур, Sven, AP, 930M, 32, 92, р,...</td>\n",
       "      <td>[Sven, AP, 930M, 32, 92, р]</td>\n",
       "      <td>1</td>\n",
       "      <td>0.981291</td>\n",
       "    </tr>\n",
       "    <tr>\n",
       "      <th>177</th>\n",
       "      <td>[ведущий, специалист, липосакция, грудь, новый...</td>\n",
       "      <td>[липосакция, грудь, от, 18, 000, руб]</td>\n",
       "      <td>1</td>\n",
       "      <td>0.997917</td>\n",
       "    </tr>\n",
       "    <tr>\n",
       "      <th>178</th>\n",
       "      <td>[SSD, диск, Kingston, HyperX, Fury, 120GB, 113...</td>\n",
       "      <td>[HyperX, Fury, 120GB, 113, 33, р]</td>\n",
       "      <td>1</td>\n",
       "      <td>0.853870</td>\n",
       "    </tr>\n",
       "    <tr>\n",
       "      <th>179</th>\n",
       "      <td>[бесплатный, доставка, и, настройка, доработка...</td>\n",
       "      <td>[продажа, 1C, бухгалтерия, 7, 7, самара]</td>\n",
       "      <td>1</td>\n",
       "      <td>0.982407</td>\n",
       "    </tr>\n",
       "    <tr>\n",
       "      <th>180</th>\n",
       "      <td>[chairman, 653, от, 661, 00, доставка]</td>\n",
       "      <td>[chairman, 653]</td>\n",
       "      <td>1</td>\n",
       "      <td>0.987046</td>\n",
       "    </tr>\n",
       "    <tr>\n",
       "      <th>181</th>\n",
       "      <td>[ламинат, венг, сравнивать, цена, весь, интерн...</td>\n",
       "      <td>[ламинат, венг]</td>\n",
       "      <td>1</td>\n",
       "      <td>0.985927</td>\n",
       "    </tr>\n",
       "    <tr>\n",
       "      <th>182</th>\n",
       "      <td>[комод, лилия, недорого, а, в, салон, еще, деш...</td>\n",
       "      <td>[комод, лилия, москва]</td>\n",
       "      <td>1</td>\n",
       "      <td>0.999915</td>\n",
       "    </tr>\n",
       "    <tr>\n",
       "      <th>183</th>\n",
       "      <td>[огромный, выбор, доставка, 199, руб, москва, ...</td>\n",
       "      <td>[чехол, для, iPhone, 5]</td>\n",
       "      <td>1</td>\n",
       "      <td>0.998949</td>\n",
       "    </tr>\n",
       "    <tr>\n",
       "      <th>184</th>\n",
       "      <td>[продажа, от, 1, метр, ситец, в, рулон, достав...</td>\n",
       "      <td>[ситец, в, рулон, низкий, цена, жать]</td>\n",
       "      <td>1</td>\n",
       "      <td>0.999761</td>\n",
       "    </tr>\n",
       "    <tr>\n",
       "      <th>185</th>\n",
       "      <td>[мфу, Brother, MFC, L2740DWR, 747, 51, р, гара...</td>\n",
       "      <td>[Brother, MFC, L2740DWR, 747, 51, р]</td>\n",
       "      <td>1</td>\n",
       "      <td>0.999638</td>\n",
       "    </tr>\n",
       "    <tr>\n",
       "      <th>186</th>\n",
       "      <td>[купить, Gorenje, стеклокерамический, варочный...</td>\n",
       "      <td>[Gorenje, ECK63CLB, недорого]</td>\n",
       "      <td>1</td>\n",
       "      <td>0.996339</td>\n",
       "    </tr>\n",
       "    <tr>\n",
       "      <th>187</th>\n",
       "      <td>[от, 2, х, день, независимый, оценка, загородн...</td>\n",
       "      <td>[независимый, оценка, дома]</td>\n",
       "      <td>1</td>\n",
       "      <td>0.985383</td>\n",
       "    </tr>\n",
       "    <tr>\n",
       "      <th>188</th>\n",
       "      <td>[посадка, и, уход, подбор, растение, для, живо...</td>\n",
       "      <td>[живой, изгородь]</td>\n",
       "      <td>1</td>\n",
       "      <td>0.962361</td>\n",
       "    </tr>\n",
       "    <tr>\n",
       "      <th>189</th>\n",
       "      <td>[отличный, ящик, для, хранение, деньги, устано...</td>\n",
       "      <td>[заказывать, денежный, ящик, штрих, м]</td>\n",
       "      <td>1</td>\n",
       "      <td>0.999722</td>\n",
       "    </tr>\n",
       "    <tr>\n",
       "      <th>190</th>\n",
       "      <td>[от, 900, руб, в, час, обработка, данные, в, 1...</td>\n",
       "      <td>[обработка, данные, в, 1с, что, это]</td>\n",
       "      <td>1</td>\n",
       "      <td>0.999499</td>\n",
       "    </tr>\n",
       "    <tr>\n",
       "      <th>191</th>\n",
       "      <td>[наливной, промышленный, пол, сравнивать, цена...</td>\n",
       "      <td>[наливной, промышленный, пол]</td>\n",
       "      <td>1</td>\n",
       "      <td>0.999980</td>\n",
       "    </tr>\n",
       "    <tr>\n",
       "      <th>192</th>\n",
       "      <td>[б, у, дверь, задний, правый, Audi, A6, C5, ор...</td>\n",
       "      <td>[дверь, задний, правый, Audi, A6, C5]</td>\n",
       "      <td>1</td>\n",
       "      <td>0.999113</td>\n",
       "    </tr>\n",
       "    <tr>\n",
       "      <th>193</th>\n",
       "      <td>[пылесос, Samsung, SC4520, 137, 00, р, гаранти...</td>\n",
       "      <td>[Samsung, SC4520, 137, 00, р]</td>\n",
       "      <td>1</td>\n",
       "      <td>0.999113</td>\n",
       "    </tr>\n",
       "    <tr>\n",
       "      <th>194</th>\n",
       "      <td>[комплект, постельный, белье, Tutti, Bambini, ...</td>\n",
       "      <td>[Bambini, 11200p]</td>\n",
       "      <td>1</td>\n",
       "      <td>0.997988</td>\n",
       "    </tr>\n",
       "    <tr>\n",
       "      <th>195</th>\n",
       "      <td>[стиральный, машина, Beko, WKB, 61021, PTYS, 5...</td>\n",
       "      <td>[Beko, WKB, 61021, PTYS, 567, 00, руб]</td>\n",
       "      <td>1</td>\n",
       "      <td>0.999845</td>\n",
       "    </tr>\n",
       "    <tr>\n",
       "      <th>196</th>\n",
       "      <td>[телевизор, хайсенс, сравнивать, цена, весь, и...</td>\n",
       "      <td>[телевизор, хайсенс]</td>\n",
       "      <td>1</td>\n",
       "      <td>0.999828</td>\n",
       "    </tr>\n",
       "    <tr>\n",
       "      <th>197</th>\n",
       "      <td>[по, низкий, цена, малярный, краскопульт, поку...</td>\n",
       "      <td>[заказывать, малярный, краскопульт, тут]</td>\n",
       "      <td>1</td>\n",
       "      <td>0.997344</td>\n",
       "    </tr>\n",
       "    <tr>\n",
       "      <th>198</th>\n",
       "      <td>[возврат, деньги, за, страховка, осаго, оформл...</td>\n",
       "      <td>[возврат, деньги, за, страховка, осаго]</td>\n",
       "      <td>1</td>\n",
       "      <td>0.999883</td>\n",
       "    </tr>\n",
       "    <tr>\n",
       "      <th>199</th>\n",
       "      <td>[смеситель, Kordi, сравнивать, цена, весь, инт...</td>\n",
       "      <td>[смеситель, Kordi]</td>\n",
       "      <td>1</td>\n",
       "      <td>0.999900</td>\n",
       "    </tr>\n",
       "  </tbody>\n",
       "</table>\n",
       "<p>200 rows × 4 columns</p>\n",
       "</div>"
      ],
      "text/plain": [
       "                                          text vectors  \\\n",
       "0    [электрочайник, Zigmund, Shtain, KE, 81, SD, 1...   \n",
       "1    [сабвуфер, огромный, ассортимент, бесплатный, ...   \n",
       "2    [Onkyo, Tx, nr545, Black, в, наличие, быстрый,...   \n",
       "3    [шаблон, ордер, входить, в, состав, сборник, 1...   \n",
       "4    [шпаклевка, финишный, белый, сравнивать, цена,...   \n",
       "5    [акция, аккумулятор, на, Toyota, Corolla, розн...   \n",
       "6    [пила, торцовочный, только, сегодня, за, 6499,...   \n",
       "7    [по, низкий, цена, шуруповерт, макит, в, спб, ...   \n",
       "8    [купить, Makita, уровень, Makita, Skr200z, 174...   \n",
       "9    [дезодорант, регулир, потоотделение, сравниват...   \n",
       "10   [удлинитель, 10, м, сравнивать, цена, весь, ин...   \n",
       "11   [замена, ГРМ, с5, в, день, обращение, от, 2500...   \n",
       "12   [простой, способ, изучение, офисный, программа...   \n",
       "13   [купить, Supra, автомагнитола, USB, SD, Supra,...   \n",
       "14   [телевизор, LG, 49UH750V, 2183, 90, р, гаранти...   \n",
       "15   [ZyXEL, Keenetic, 4G, III, сравнивать, цена, в...   \n",
       "16   [купить, ASUS, ноутбук, ASUS, ROG, G771JW, 17,...   \n",
       "17   [санки, скандинавия, сравнивать, цена, весь, и...   \n",
       "18   [инвертор, сварочный, ударник, уис, 180, 189, ...   \n",
       "19   [купить, Hammer, торцовочный, пила, Hammer, St...   \n",
       "20   [шкаф, рим, 150, от, производитель, в, краснод...   \n",
       "21   [ноутбук, Lenovo, IdeaPad, G50, 45, 854, 32, р...   \n",
       "22   [дешевый, фасадный, панель, низкий, цена, прям...   \n",
       "23   [курсы, 1С, зарплата, и, кадр, в, красноярск, ...   \n",
       "24   [цена, весь, 1727, руб, купить, реле, напряжен...   \n",
       "25                [kil82af30r, от, 1612, 00, доставка]   \n",
       "26   [транспорт, быть, тут, перевозка, груз, уфа, р...   \n",
       "27   [телевизор, Mystery, MTV, 3230LT2, 441, 45, р,...   \n",
       "28   [кулер, HotFrost, сравнивать, цена, весь, инте...   \n",
       "29   [выпрямитель, для, волос, Bosch, PHS5947, 125,...   \n",
       "..                                                 ...   \n",
       "170  [ноутбук, AsusK751SJ, TY034D, за, 25202, руб, ...   \n",
       "171  [швейный, машина, Janome, 6600P, большой, выбо...   \n",
       "172  [телескоп, азимутальный, сравнивать, цена, вес...   \n",
       "173  [купить, Bork, пылесос, Bork, V706, пылесос, с...   \n",
       "174  [брюки, прямой, сравнивать, цена, весь, интерн...   \n",
       "175  [Lg, 75Uh780v, в, наличие, быстрый, доставка, ...   \n",
       "176  [наушник, гарнитур, Sven, AP, 930M, 32, 92, р,...   \n",
       "177  [ведущий, специалист, липосакция, грудь, новый...   \n",
       "178  [SSD, диск, Kingston, HyperX, Fury, 120GB, 113...   \n",
       "179  [бесплатный, доставка, и, настройка, доработка...   \n",
       "180             [chairman, 653, от, 661, 00, доставка]   \n",
       "181  [ламинат, венг, сравнивать, цена, весь, интерн...   \n",
       "182  [комод, лилия, недорого, а, в, салон, еще, деш...   \n",
       "183  [огромный, выбор, доставка, 199, руб, москва, ...   \n",
       "184  [продажа, от, 1, метр, ситец, в, рулон, достав...   \n",
       "185  [мфу, Brother, MFC, L2740DWR, 747, 51, р, гара...   \n",
       "186  [купить, Gorenje, стеклокерамический, варочный...   \n",
       "187  [от, 2, х, день, независимый, оценка, загородн...   \n",
       "188  [посадка, и, уход, подбор, растение, для, живо...   \n",
       "189  [отличный, ящик, для, хранение, деньги, устано...   \n",
       "190  [от, 900, руб, в, час, обработка, данные, в, 1...   \n",
       "191  [наливной, промышленный, пол, сравнивать, цена...   \n",
       "192  [б, у, дверь, задний, правый, Audi, A6, C5, ор...   \n",
       "193  [пылесос, Samsung, SC4520, 137, 00, р, гаранти...   \n",
       "194  [комплект, постельный, белье, Tutti, Bambini, ...   \n",
       "195  [стиральный, машина, Beko, WKB, 61021, PTYS, 5...   \n",
       "196  [телевизор, хайсенс, сравнивать, цена, весь, и...   \n",
       "197  [по, низкий, цена, малярный, краскопульт, поку...   \n",
       "198  [возврат, деньги, за, страховка, осаго, оформл...   \n",
       "199  [смеситель, Kordi, сравнивать, цена, весь, инт...   \n",
       "\n",
       "                                 title vectors  pair class  predicted class  \n",
       "0                     [KE, 81, SD, 119, 00, р]           1         0.993159  \n",
       "1            [сабвуфер, купить, в, красноярск]           1         0.997835  \n",
       "2     [Onkyo, Tx, nr545, Black, всего, 42390р]           1         0.999124  \n",
       "3                              [шаблон, ордер]           1         0.997045  \n",
       "4                 [шпаклевка, финишный, белый]           1         0.993489  \n",
       "5           [аккумулятор, на, Toyota, Corolla]           1         0.998063  \n",
       "6                  [пила, торцовочный, Hammer]           1         0.997450  \n",
       "7          [купить, шуруповерт, макит, в, спб]           1         0.999600  \n",
       "8           [уровень, Makita, Skr200z, 174614]           1         0.999781  \n",
       "9         [дезодорант, регулир, потоотделение]           1         0.999286  \n",
       "10                         [удлинитель, 10, м]           1         0.966260  \n",
       "11                           [замена, ГРМ, с5]           1         0.999597  \n",
       "12                    [Excel, для, начинающий]           1         0.998963  \n",
       "13     [USB, SD, Supra, SFD, 121USC, недорого]           1         0.999878  \n",
       "14               [LG, 49UH750V, 2183, 90, руб]           1         0.996986  \n",
       "15                  [ZyXEL, Keenetic, 4G, III]           1         0.999831  \n",
       "16   [ASUS, ROG, G771JW, 17, 3, 1920x1080, In]           1         0.999990  \n",
       "17                        [санки, скандинавия]           1         0.999199  \n",
       "18           [ударник, уис, 180, 189, 90, руб]           1         0.999659  \n",
       "19       [торцовочный, пила, Hammer, Stl1800b]           1         0.999383  \n",
       "20                            [шкаф, рим, 150]           1         0.976005  \n",
       "21      [Lenovo, IdeaPad, G50, 45, 854, 32, р]           1         0.999900  \n",
       "22         [дешевый, фасадный, панель, скидка]           1         0.995134  \n",
       "23        [курсы, по, программа, 1С, зарплата]           1         0.999610  \n",
       "24        [реле, напряжение, Digitop, Vp, 16a]           1         0.999760  \n",
       "25                                [kil82af30r]           1         0.999864  \n",
       "26                      [перевозка, груз, уфа]           1         0.999929  \n",
       "27       [Mystery, MTV, 3230LT2, 441, 45, руб]           1         0.998989  \n",
       "28                           [кулер, HotFrost]           1         0.986710  \n",
       "29              [Bosch, PHS5947, 125, 61, руб]           1         0.999177  \n",
       "..                                         ...         ...              ...  \n",
       "170              [ноутбук, AsusK751SJ, TY034D]           1         0.999958  \n",
       "171                    [Janome, 6600P, купить]           1         0.990564  \n",
       "172                   [телескоп, азимутальный]           1         0.999315  \n",
       "173            [пылесос, Bork, V706, недорого]           1         0.994692  \n",
       "174                            [брюки, прямой]           1         0.995208  \n",
       "175             [Lg, 75Uh780v, всего, 299990р]           1         0.999828  \n",
       "176                [Sven, AP, 930M, 32, 92, р]           1         0.981291  \n",
       "177      [липосакция, грудь, от, 18, 000, руб]           1         0.997917  \n",
       "178          [HyperX, Fury, 120GB, 113, 33, р]           1         0.853870  \n",
       "179   [продажа, 1C, бухгалтерия, 7, 7, самара]           1         0.982407  \n",
       "180                            [chairman, 653]           1         0.987046  \n",
       "181                            [ламинат, венг]           1         0.985927  \n",
       "182                     [комод, лилия, москва]           1         0.999915  \n",
       "183                    [чехол, для, iPhone, 5]           1         0.998949  \n",
       "184      [ситец, в, рулон, низкий, цена, жать]           1         0.999761  \n",
       "185       [Brother, MFC, L2740DWR, 747, 51, р]           1         0.999638  \n",
       "186              [Gorenje, ECK63CLB, недорого]           1         0.996339  \n",
       "187                [независимый, оценка, дома]           1         0.985383  \n",
       "188                          [живой, изгородь]           1         0.962361  \n",
       "189     [заказывать, денежный, ящик, штрих, м]           1         0.999722  \n",
       "190       [обработка, данные, в, 1с, что, это]           1         0.999499  \n",
       "191              [наливной, промышленный, пол]           1         0.999980  \n",
       "192      [дверь, задний, правый, Audi, A6, C5]           1         0.999113  \n",
       "193              [Samsung, SC4520, 137, 00, р]           1         0.999113  \n",
       "194                          [Bambini, 11200p]           1         0.997988  \n",
       "195     [Beko, WKB, 61021, PTYS, 567, 00, руб]           1         0.999845  \n",
       "196                       [телевизор, хайсенс]           1         0.999828  \n",
       "197   [заказывать, малярный, краскопульт, тут]           1         0.997344  \n",
       "198    [возврат, деньги, за, страховка, осаго]           1         0.999883  \n",
       "199                         [смеситель, Kordi]           1         0.999900  \n",
       "\n",
       "[200 rows x 4 columns]"
      ]
     },
     "execution_count": 133,
     "metadata": {},
     "output_type": "execute_result"
    }
   ],
   "source": [
    "predictions"
   ]
  },
  {
   "cell_type": "code",
   "execution_count": 134,
   "metadata": {},
   "outputs": [],
   "source": [
    "predictions = pd.DataFrame(test_df_mixed['text vectors'].iloc[-200:])\n",
    "predictions['title vectors'] = test_df_mixed['title vectors'].iloc[-200:]\n",
    "predictions['pair class'] = test_df_mixed['pair class'].iloc[-200:]\n",
    "predictions['predicted class'] = xgb_test.predict_proba(X_test_pca[-200:])[:, 1]"
   ]
  },
  {
   "cell_type": "code",
   "execution_count": 135,
   "metadata": {},
   "outputs": [
    {
     "data": {
      "text/html": [
       "<div>\n",
       "<style scoped>\n",
       "    .dataframe tbody tr th:only-of-type {\n",
       "        vertical-align: middle;\n",
       "    }\n",
       "\n",
       "    .dataframe tbody tr th {\n",
       "        vertical-align: top;\n",
       "    }\n",
       "\n",
       "    .dataframe thead th {\n",
       "        text-align: right;\n",
       "    }\n",
       "</style>\n",
       "<table border=\"1\" class=\"dataframe\">\n",
       "  <thead>\n",
       "    <tr style=\"text-align: right;\">\n",
       "      <th></th>\n",
       "      <th>text vectors</th>\n",
       "      <th>title vectors</th>\n",
       "      <th>pair class</th>\n",
       "      <th>predicted class</th>\n",
       "    </tr>\n",
       "  </thead>\n",
       "  <tbody>\n",
       "    <tr>\n",
       "      <th>58546</th>\n",
       "      <td>[адресный, табличка, изготовление, 1, день, бо...</td>\n",
       "      <td>[профмаш, б, 130]</td>\n",
       "      <td>0</td>\n",
       "      <td>0.002507</td>\n",
       "    </tr>\n",
       "    <tr>\n",
       "      <th>58547</th>\n",
       "      <td>[телефон, Highscreen, Boost, сравнивать, цена,...</td>\n",
       "      <td>[mystery, mtv, 3228lt2]</td>\n",
       "      <td>0</td>\n",
       "      <td>0.015960</td>\n",
       "    </tr>\n",
       "    <tr>\n",
       "      <th>58548</th>\n",
       "      <td>[электродный, котел, сравнивать, цена, весь, и...</td>\n",
       "      <td>[Rowenta, CV, 5330, Studio, Dry, CV5330]</td>\n",
       "      <td>0</td>\n",
       "      <td>0.000725</td>\n",
       "    </tr>\n",
       "    <tr>\n",
       "      <th>58549</th>\n",
       "      <td>[быть, в, наличие, сейчас, рубанок, BLACK, AND...</td>\n",
       "      <td>[TL, WA860RE, 72, 73, р]</td>\n",
       "      <td>0</td>\n",
       "      <td>0.000079</td>\n",
       "    </tr>\n",
       "    <tr>\n",
       "      <th>58550</th>\n",
       "      <td>[мфу, Brother, DCP, J100, 360, 86, р, гарантия...</td>\n",
       "      <td>[липофилинг, лицо, от, 9, 000, руб]</td>\n",
       "      <td>0</td>\n",
       "      <td>0.012825</td>\n",
       "    </tr>\n",
       "    <tr>\n",
       "      <th>58551</th>\n",
       "      <td>[наушник, вкладыш, большой, выбор, наушник, по...</td>\n",
       "      <td>[чита, отель, панама, сити, жать]</td>\n",
       "      <td>0</td>\n",
       "      <td>0.003167</td>\n",
       "    </tr>\n",
       "    <tr>\n",
       "      <th>58552</th>\n",
       "      <td>[звонить, сейчас, купить, дом, на, авито, стро...</td>\n",
       "      <td>[монитор, 24, NEC, P242W, недорого]</td>\n",
       "      <td>0</td>\n",
       "      <td>0.000002</td>\n",
       "    </tr>\n",
       "    <tr>\n",
       "      <th>58553</th>\n",
       "      <td>[имплантация, и, профессиональный, протезирова...</td>\n",
       "      <td>[штора, веранда]</td>\n",
       "      <td>0</td>\n",
       "      <td>0.001352</td>\n",
       "    </tr>\n",
       "    <tr>\n",
       "      <th>58554</th>\n",
       "      <td>[холодильник, Liebherr, CTP, 3316, низкий, цен...</td>\n",
       "      <td>[D, Link, Switch, DES, 1100, 16]</td>\n",
       "      <td>0</td>\n",
       "      <td>0.000013</td>\n",
       "    </tr>\n",
       "    <tr>\n",
       "      <th>58555</th>\n",
       "      <td>[жакет, теплый, сравнивать, цена, весь, интерн...</td>\n",
       "      <td>[палатка, Trek, Planet]</td>\n",
       "      <td>0</td>\n",
       "      <td>0.000250</td>\n",
       "    </tr>\n",
       "    <tr>\n",
       "      <th>58556</th>\n",
       "      <td>[купить, QNAP, сетевой, хранилище, QNAP, TS, 2...</td>\n",
       "      <td>[209B, 4x, 3, F100, 62118, недорого]</td>\n",
       "      <td>0</td>\n",
       "      <td>0.000745</td>\n",
       "    </tr>\n",
       "    <tr>\n",
       "      <th>58557</th>\n",
       "      <td>[блузка, нарядный, сравнивать, цена, весь, инт...</td>\n",
       "      <td>[чехол, для, Explay, Dream]</td>\n",
       "      <td>0</td>\n",
       "      <td>0.008390</td>\n",
       "    </tr>\n",
       "    <tr>\n",
       "      <th>58558</th>\n",
       "      <td>[секция, универсал, 5М, 6М, со, склад, ниппель...</td>\n",
       "      <td>[купить, 1С, розница, 8, салон, оптика]</td>\n",
       "      <td>0</td>\n",
       "      <td>0.036939</td>\n",
       "    </tr>\n",
       "    <tr>\n",
       "      <th>58559</th>\n",
       "      <td>[кондиционер, в, краснодар, скидка, 35, %, рас...</td>\n",
       "      <td>[тормозной, диск]</td>\n",
       "      <td>0</td>\n",
       "      <td>0.036580</td>\n",
       "    </tr>\n",
       "    <tr>\n",
       "      <th>58560</th>\n",
       "      <td>[купить, Siemens, встраивать, газовый, варочны...</td>\n",
       "      <td>[шарф, Hugo, Boss]</td>\n",
       "      <td>0</td>\n",
       "      <td>0.018760</td>\n",
       "    </tr>\n",
       "    <tr>\n",
       "      <th>58561</th>\n",
       "      <td>[гриль, Steba, FG, 70, за, 8, 950, руб, качест...</td>\n",
       "      <td>[тепловой, пушка, керамический]</td>\n",
       "      <td>0</td>\n",
       "      <td>0.111749</td>\n",
       "    </tr>\n",
       "    <tr>\n",
       "      <th>58562</th>\n",
       "      <td>[доставка, такси, подавать, за, 5, мина, тариф...</td>\n",
       "      <td>[светильник, люстра, и, бра, Donolux]</td>\n",
       "      <td>0</td>\n",
       "      <td>0.000175</td>\n",
       "    </tr>\n",
       "    <tr>\n",
       "      <th>58563</th>\n",
       "      <td>[звонить, сейчас, набор, уже, идти, запись, на...</td>\n",
       "      <td>[LG, CM1560]</td>\n",
       "      <td>0</td>\n",
       "      <td>0.002195</td>\n",
       "    </tr>\n",
       "    <tr>\n",
       "      <th>58564</th>\n",
       "      <td>[эхолот, практик, большой, выбор, качественный...</td>\n",
       "      <td>[удаление, передний, зуб]</td>\n",
       "      <td>0</td>\n",
       "      <td>0.006019</td>\n",
       "    </tr>\n",
       "    <tr>\n",
       "      <th>58565</th>\n",
       "      <td>[для, мой, iPhone, 4S, нужный, новый, аккумуля...</td>\n",
       "      <td>[роутер, мобильный]</td>\n",
       "      <td>0</td>\n",
       "      <td>0.002121</td>\n",
       "    </tr>\n",
       "    <tr>\n",
       "      <th>58566</th>\n",
       "      <td>[купить, Scher, сигнализация, Scher, khan, Mag...</td>\n",
       "      <td>[регистрация, юр, лицо, в, налоговый]</td>\n",
       "      <td>0</td>\n",
       "      <td>0.001248</td>\n",
       "    </tr>\n",
       "    <tr>\n",
       "      <th>58567</th>\n",
       "      <td>[перевозить, груз, грузоперевозка, псков, реша...</td>\n",
       "      <td>[скатерть, водоотталкивающий]</td>\n",
       "      <td>0</td>\n",
       "      <td>0.001445</td>\n",
       "    </tr>\n",
       "    <tr>\n",
       "      <th>58568</th>\n",
       "      <td>[цена, всего, 2, 889, р, электрический, теплов...</td>\n",
       "      <td>[Lenovo, ThinkPad, T550, за, 81470, р]</td>\n",
       "      <td>0</td>\n",
       "      <td>0.967996</td>\n",
       "    </tr>\n",
       "    <tr>\n",
       "      <th>58569</th>\n",
       "      <td>[телевизор, Mystery, MTV, 3223LT2, 476, 22, р,...</td>\n",
       "      <td>[LG, GA, B379SECL, недорого]</td>\n",
       "      <td>0</td>\n",
       "      <td>0.000020</td>\n",
       "    </tr>\n",
       "    <tr>\n",
       "      <th>58570</th>\n",
       "      <td>[усилитель, Wi, Fi, сравнивать, цена, весь, ин...</td>\n",
       "      <td>[HP, Pavilion, 15, ab113ur, N9S91EA]</td>\n",
       "      <td>0</td>\n",
       "      <td>0.000225</td>\n",
       "    </tr>\n",
       "    <tr>\n",
       "      <th>58571</th>\n",
       "      <td>[совместный, покупка, покупать, за, полцены, з...</td>\n",
       "      <td>[удлинитель, на, 3, розетка]</td>\n",
       "      <td>0</td>\n",
       "      <td>0.006817</td>\n",
       "    </tr>\n",
       "    <tr>\n",
       "      <th>58572</th>\n",
       "      <td>[цена, весь, 2469, руб, купить, Thermex, Strea...</td>\n",
       "      <td>[прозрачный, чехол, iPhone, 5]</td>\n",
       "      <td>0</td>\n",
       "      <td>0.011146</td>\n",
       "    </tr>\n",
       "    <tr>\n",
       "      <th>58573</th>\n",
       "      <td>[в, наличие, за, 8660, руб, купить]</td>\n",
       "      <td>[одежда, турецкий]</td>\n",
       "      <td>0</td>\n",
       "      <td>0.000156</td>\n",
       "    </tr>\n",
       "    <tr>\n",
       "      <th>58574</th>\n",
       "      <td>[GEFEST, 3200, 06, 19, от, 319, 000, доставка]</td>\n",
       "      <td>[Dell, P2217H]</td>\n",
       "      <td>0</td>\n",
       "      <td>0.004563</td>\n",
       "    </tr>\n",
       "    <tr>\n",
       "      <th>58575</th>\n",
       "      <td>[радиатор, панельный, сравнивать, цена, весь, ...</td>\n",
       "      <td>[советский, статуэтка, продавать]</td>\n",
       "      <td>0</td>\n",
       "      <td>0.000782</td>\n",
       "    </tr>\n",
       "    <tr>\n",
       "      <th>...</th>\n",
       "      <td>...</td>\n",
       "      <td>...</td>\n",
       "      <td>...</td>\n",
       "      <td>...</td>\n",
       "    </tr>\n",
       "    <tr>\n",
       "      <th>58716</th>\n",
       "      <td>[цена, весь, 13990, руб, купить, Champion, Ps2...</td>\n",
       "      <td>[Xperia, X, 33950p]</td>\n",
       "      <td>0</td>\n",
       "      <td>0.000297</td>\n",
       "    </tr>\n",
       "    <tr>\n",
       "      <th>58717</th>\n",
       "      <td>[купить, Bosch, дрель, ударный, Bosch, Gsb, 21...</td>\n",
       "      <td>[краска, по, дерево, цена, недорого]</td>\n",
       "      <td>0</td>\n",
       "      <td>0.020872</td>\n",
       "    </tr>\n",
       "    <tr>\n",
       "      <th>58718</th>\n",
       "      <td>[ванна, сибирячка, сравнивать, цена, весь, инт...</td>\n",
       "      <td>[Neo, 08, 668, недорого]</td>\n",
       "      <td>0</td>\n",
       "      <td>0.000105</td>\n",
       "    </tr>\n",
       "    <tr>\n",
       "      <th>58719</th>\n",
       "      <td>[огнетушитель, оп, 8, 718, руб, опт, и, розниц...</td>\n",
       "      <td>[Canon, C, EXV, 16M, 1067B002, недорого]</td>\n",
       "      <td>0</td>\n",
       "      <td>0.000300</td>\n",
       "    </tr>\n",
       "    <tr>\n",
       "      <th>58720</th>\n",
       "      <td>[автокресло, Heyner, сравнивать, цена, весь, и...</td>\n",
       "      <td>[NSP, жидкий, хлорофилл, жать]</td>\n",
       "      <td>0</td>\n",
       "      <td>0.000208</td>\n",
       "    </tr>\n",
       "    <tr>\n",
       "      <th>58721</th>\n",
       "      <td>[купить, Supra, автомобильный, медиастанция, S...</td>\n",
       "      <td>[HP, Q3960A, недорого]</td>\n",
       "      <td>0</td>\n",
       "      <td>0.002290</td>\n",
       "    </tr>\n",
       "    <tr>\n",
       "      <th>58722</th>\n",
       "      <td>[гайка, большой, выбор, свыше, 7000, наименова...</td>\n",
       "      <td>[монитор, DELL, S2316H]</td>\n",
       "      <td>0</td>\n",
       "      <td>0.000046</td>\n",
       "    </tr>\n",
       "    <tr>\n",
       "      <th>58723</th>\n",
       "      <td>[холодильник, с, морозильник, Gorenje, RK61FSY...</td>\n",
       "      <td>[компрессор, воздушный, в, алматы]</td>\n",
       "      <td>0</td>\n",
       "      <td>0.000052</td>\n",
       "    </tr>\n",
       "    <tr>\n",
       "      <th>58724</th>\n",
       "      <td>[смартфон, Xiaomi, Mi, 5, 128Gb, 1090, 43, р, ...</td>\n",
       "      <td>[asus, be239qlb]</td>\n",
       "      <td>0</td>\n",
       "      <td>0.000026</td>\n",
       "    </tr>\n",
       "    <tr>\n",
       "      <th>58725</th>\n",
       "      <td>[магазин, телескоп, в, хабаровск, огромный, вы...</td>\n",
       "      <td>[электрощитовой, оборудование]</td>\n",
       "      <td>0</td>\n",
       "      <td>0.000250</td>\n",
       "    </tr>\n",
       "    <tr>\n",
       "      <th>58726</th>\n",
       "      <td>[сеть, клиника, первый, доктор, вызов, стомато...</td>\n",
       "      <td>[весь, косметика, Baikal, Herbals]</td>\n",
       "      <td>0</td>\n",
       "      <td>0.069927</td>\n",
       "    </tr>\n",
       "    <tr>\n",
       "      <th>58727</th>\n",
       "      <td>[дорожный, техника, ремонт, спецтехника, новый...</td>\n",
       "      <td>[материнский, плата, Intel]</td>\n",
       "      <td>0</td>\n",
       "      <td>0.008765</td>\n",
       "    </tr>\n",
       "    <tr>\n",
       "      <th>58728</th>\n",
       "      <td>[перевозка, тут, транспортный, компания, рыбин...</td>\n",
       "      <td>[фен, Remington]</td>\n",
       "      <td>0</td>\n",
       "      <td>0.000073</td>\n",
       "    </tr>\n",
       "    <tr>\n",
       "      <th>58729</th>\n",
       "      <td>[шпатлевка, потолок, экономия, до, 50, %, на, ...</td>\n",
       "      <td>[korting, okb, 4604, cri]</td>\n",
       "      <td>0</td>\n",
       "      <td>0.000166</td>\n",
       "    </tr>\n",
       "    <tr>\n",
       "      <th>58730</th>\n",
       "      <td>[автокресло, Baby, Care, сравнивать, цена, вес...</td>\n",
       "      <td>[Google, Nexus, One]</td>\n",
       "      <td>0</td>\n",
       "      <td>0.000174</td>\n",
       "    </tr>\n",
       "    <tr>\n",
       "      <th>58731</th>\n",
       "      <td>[карандаш, для, глаз, жидкий, сравнивать, цена...</td>\n",
       "      <td>[Consowear]</td>\n",
       "      <td>0</td>\n",
       "      <td>0.002728</td>\n",
       "    </tr>\n",
       "    <tr>\n",
       "      <th>58732</th>\n",
       "      <td>[надежный, уничтожение, мышь, в, дом, гарантия...</td>\n",
       "      <td>[купить, лосина, джеггинсы, спешить]</td>\n",
       "      <td>0</td>\n",
       "      <td>0.000232</td>\n",
       "    </tr>\n",
       "    <tr>\n",
       "      <th>58733</th>\n",
       "      <td>[за, 4586, руб, доставка]</td>\n",
       "      <td>[чехол, на, айфон, 5, S, мужской]</td>\n",
       "      <td>0</td>\n",
       "      <td>0.000101</td>\n",
       "    </tr>\n",
       "    <tr>\n",
       "      <th>58734</th>\n",
       "      <td>[отличный, цена, установка, антенна, триколор,...</td>\n",
       "      <td>[чехол, для, фотоаппарат]</td>\n",
       "      <td>0</td>\n",
       "      <td>0.000961</td>\n",
       "    </tr>\n",
       "    <tr>\n",
       "      <th>58735</th>\n",
       "      <td>[вывеска, для, магазин, цена, дизайн, и, табли...</td>\n",
       "      <td>[Electrolux, EMS, 26004, OK, 25л, 900Вт]</td>\n",
       "      <td>0</td>\n",
       "      <td>0.000001</td>\n",
       "    </tr>\n",
       "    <tr>\n",
       "      <th>58736</th>\n",
       "      <td>[взять, на, себя, весь, забота, веселый, прогр...</td>\n",
       "      <td>[спальня, ярцево, мебель]</td>\n",
       "      <td>0</td>\n",
       "      <td>0.001906</td>\n",
       "    </tr>\n",
       "    <tr>\n",
       "      <th>58737</th>\n",
       "      <td>[нужный, корпус, для, DL, 3DZ2R, 3D, печать, н...</td>\n",
       "      <td>[монитор, 20, NEC, E201w, недорого]</td>\n",
       "      <td>0</td>\n",
       "      <td>0.000009</td>\n",
       "    </tr>\n",
       "    <tr>\n",
       "      <th>58738</th>\n",
       "      <td>[Janome, LW, 30, от, 390, 00, доставка]</td>\n",
       "      <td>[AOC, E2476VWM6, 348, 72, руб]</td>\n",
       "      <td>0</td>\n",
       "      <td>0.104502</td>\n",
       "    </tr>\n",
       "    <tr>\n",
       "      <th>58739</th>\n",
       "      <td>[уборка, квартира, коттедж, низкий, цена, бесп...</td>\n",
       "      <td>[молоток, отбойный, MAKITA, скидка]</td>\n",
       "      <td>0</td>\n",
       "      <td>0.000095</td>\n",
       "    </tr>\n",
       "    <tr>\n",
       "      <th>58740</th>\n",
       "      <td>[чайник, Philips, HD9326, 20, большой, выбор, ...</td>\n",
       "      <td>[Dde, St6562l, 14E, недорого]</td>\n",
       "      <td>0</td>\n",
       "      <td>0.035067</td>\n",
       "    </tr>\n",
       "    <tr>\n",
       "      <th>58741</th>\n",
       "      <td>[телевизор, Samsung, LT19C350EX, сравнивать, ц...</td>\n",
       "      <td>[ремонтный, комплект, HP, Q7842A]</td>\n",
       "      <td>0</td>\n",
       "      <td>0.000233</td>\n",
       "    </tr>\n",
       "    <tr>\n",
       "      <th>58742</th>\n",
       "      <td>[ведущий, специалист, эффективный, лечение, вн...</td>\n",
       "      <td>[Acer, Extensa, 2508, C5W6, NX, EF1ER, 0]</td>\n",
       "      <td>0</td>\n",
       "      <td>0.000128</td>\n",
       "    </tr>\n",
       "    <tr>\n",
       "      <th>58743</th>\n",
       "      <td>[телевизор, LG, 49LH520V, 1236, 71, р, гаранти...</td>\n",
       "      <td>[neoline, x, cop, 9700]</td>\n",
       "      <td>0</td>\n",
       "      <td>0.000054</td>\n",
       "    </tr>\n",
       "    <tr>\n",
       "      <th>58744</th>\n",
       "      <td>[перевозить, груз, грузоперевозка, кандалакша,...</td>\n",
       "      <td>[текущий, уборка, кабинет]</td>\n",
       "      <td>0</td>\n",
       "      <td>0.000021</td>\n",
       "    </tr>\n",
       "    <tr>\n",
       "      <th>58745</th>\n",
       "      <td>[и, не, только, от, 80, 000, руб, делать, из, ...</td>\n",
       "      <td>[техобслуживание, Renault]</td>\n",
       "      <td>0</td>\n",
       "      <td>0.027627</td>\n",
       "    </tr>\n",
       "  </tbody>\n",
       "</table>\n",
       "<p>200 rows × 4 columns</p>\n",
       "</div>"
      ],
      "text/plain": [
       "                                            text vectors  \\\n",
       "58546  [адресный, табличка, изготовление, 1, день, бо...   \n",
       "58547  [телефон, Highscreen, Boost, сравнивать, цена,...   \n",
       "58548  [электродный, котел, сравнивать, цена, весь, и...   \n",
       "58549  [быть, в, наличие, сейчас, рубанок, BLACK, AND...   \n",
       "58550  [мфу, Brother, DCP, J100, 360, 86, р, гарантия...   \n",
       "58551  [наушник, вкладыш, большой, выбор, наушник, по...   \n",
       "58552  [звонить, сейчас, купить, дом, на, авито, стро...   \n",
       "58553  [имплантация, и, профессиональный, протезирова...   \n",
       "58554  [холодильник, Liebherr, CTP, 3316, низкий, цен...   \n",
       "58555  [жакет, теплый, сравнивать, цена, весь, интерн...   \n",
       "58556  [купить, QNAP, сетевой, хранилище, QNAP, TS, 2...   \n",
       "58557  [блузка, нарядный, сравнивать, цена, весь, инт...   \n",
       "58558  [секция, универсал, 5М, 6М, со, склад, ниппель...   \n",
       "58559  [кондиционер, в, краснодар, скидка, 35, %, рас...   \n",
       "58560  [купить, Siemens, встраивать, газовый, варочны...   \n",
       "58561  [гриль, Steba, FG, 70, за, 8, 950, руб, качест...   \n",
       "58562  [доставка, такси, подавать, за, 5, мина, тариф...   \n",
       "58563  [звонить, сейчас, набор, уже, идти, запись, на...   \n",
       "58564  [эхолот, практик, большой, выбор, качественный...   \n",
       "58565  [для, мой, iPhone, 4S, нужный, новый, аккумуля...   \n",
       "58566  [купить, Scher, сигнализация, Scher, khan, Mag...   \n",
       "58567  [перевозить, груз, грузоперевозка, псков, реша...   \n",
       "58568  [цена, всего, 2, 889, р, электрический, теплов...   \n",
       "58569  [телевизор, Mystery, MTV, 3223LT2, 476, 22, р,...   \n",
       "58570  [усилитель, Wi, Fi, сравнивать, цена, весь, ин...   \n",
       "58571  [совместный, покупка, покупать, за, полцены, з...   \n",
       "58572  [цена, весь, 2469, руб, купить, Thermex, Strea...   \n",
       "58573                [в, наличие, за, 8660, руб, купить]   \n",
       "58574     [GEFEST, 3200, 06, 19, от, 319, 000, доставка]   \n",
       "58575  [радиатор, панельный, сравнивать, цена, весь, ...   \n",
       "...                                                  ...   \n",
       "58716  [цена, весь, 13990, руб, купить, Champion, Ps2...   \n",
       "58717  [купить, Bosch, дрель, ударный, Bosch, Gsb, 21...   \n",
       "58718  [ванна, сибирячка, сравнивать, цена, весь, инт...   \n",
       "58719  [огнетушитель, оп, 8, 718, руб, опт, и, розниц...   \n",
       "58720  [автокресло, Heyner, сравнивать, цена, весь, и...   \n",
       "58721  [купить, Supra, автомобильный, медиастанция, S...   \n",
       "58722  [гайка, большой, выбор, свыше, 7000, наименова...   \n",
       "58723  [холодильник, с, морозильник, Gorenje, RK61FSY...   \n",
       "58724  [смартфон, Xiaomi, Mi, 5, 128Gb, 1090, 43, р, ...   \n",
       "58725  [магазин, телескоп, в, хабаровск, огромный, вы...   \n",
       "58726  [сеть, клиника, первый, доктор, вызов, стомато...   \n",
       "58727  [дорожный, техника, ремонт, спецтехника, новый...   \n",
       "58728  [перевозка, тут, транспортный, компания, рыбин...   \n",
       "58729  [шпатлевка, потолок, экономия, до, 50, %, на, ...   \n",
       "58730  [автокресло, Baby, Care, сравнивать, цена, вес...   \n",
       "58731  [карандаш, для, глаз, жидкий, сравнивать, цена...   \n",
       "58732  [надежный, уничтожение, мышь, в, дом, гарантия...   \n",
       "58733                          [за, 4586, руб, доставка]   \n",
       "58734  [отличный, цена, установка, антенна, триколор,...   \n",
       "58735  [вывеска, для, магазин, цена, дизайн, и, табли...   \n",
       "58736  [взять, на, себя, весь, забота, веселый, прогр...   \n",
       "58737  [нужный, корпус, для, DL, 3DZ2R, 3D, печать, н...   \n",
       "58738            [Janome, LW, 30, от, 390, 00, доставка]   \n",
       "58739  [уборка, квартира, коттедж, низкий, цена, бесп...   \n",
       "58740  [чайник, Philips, HD9326, 20, большой, выбор, ...   \n",
       "58741  [телевизор, Samsung, LT19C350EX, сравнивать, ц...   \n",
       "58742  [ведущий, специалист, эффективный, лечение, вн...   \n",
       "58743  [телевизор, LG, 49LH520V, 1236, 71, р, гаранти...   \n",
       "58744  [перевозить, груз, грузоперевозка, кандалакша,...   \n",
       "58745  [и, не, только, от, 80, 000, руб, делать, из, ...   \n",
       "\n",
       "                                   title vectors  pair class  predicted class  \n",
       "58546                          [профмаш, б, 130]           0         0.002507  \n",
       "58547                    [mystery, mtv, 3228lt2]           0         0.015960  \n",
       "58548   [Rowenta, CV, 5330, Studio, Dry, CV5330]           0         0.000725  \n",
       "58549                   [TL, WA860RE, 72, 73, р]           0         0.000079  \n",
       "58550        [липофилинг, лицо, от, 9, 000, руб]           0         0.012825  \n",
       "58551          [чита, отель, панама, сити, жать]           0         0.003167  \n",
       "58552        [монитор, 24, NEC, P242W, недорого]           0         0.000002  \n",
       "58553                           [штора, веранда]           0         0.001352  \n",
       "58554           [D, Link, Switch, DES, 1100, 16]           0         0.000013  \n",
       "58555                    [палатка, Trek, Planet]           0         0.000250  \n",
       "58556       [209B, 4x, 3, F100, 62118, недорого]           0         0.000745  \n",
       "58557                [чехол, для, Explay, Dream]           0         0.008390  \n",
       "58558    [купить, 1С, розница, 8, салон, оптика]           0         0.036939  \n",
       "58559                          [тормозной, диск]           0         0.036580  \n",
       "58560                         [шарф, Hugo, Boss]           0         0.018760  \n",
       "58561            [тепловой, пушка, керамический]           0         0.111749  \n",
       "58562      [светильник, люстра, и, бра, Donolux]           0         0.000175  \n",
       "58563                               [LG, CM1560]           0         0.002195  \n",
       "58564                  [удаление, передний, зуб]           0         0.006019  \n",
       "58565                        [роутер, мобильный]           0         0.002121  \n",
       "58566      [регистрация, юр, лицо, в, налоговый]           0         0.001248  \n",
       "58567              [скатерть, водоотталкивающий]           0         0.001445  \n",
       "58568     [Lenovo, ThinkPad, T550, за, 81470, р]           0         0.967996  \n",
       "58569               [LG, GA, B379SECL, недорого]           0         0.000020  \n",
       "58570       [HP, Pavilion, 15, ab113ur, N9S91EA]           0         0.000225  \n",
       "58571               [удлинитель, на, 3, розетка]           0         0.006817  \n",
       "58572             [прозрачный, чехол, iPhone, 5]           0         0.011146  \n",
       "58573                         [одежда, турецкий]           0         0.000156  \n",
       "58574                             [Dell, P2217H]           0         0.004563  \n",
       "58575          [советский, статуэтка, продавать]           0         0.000782  \n",
       "...                                          ...         ...              ...  \n",
       "58716                        [Xperia, X, 33950p]           0         0.000297  \n",
       "58717       [краска, по, дерево, цена, недорого]           0         0.020872  \n",
       "58718                   [Neo, 08, 668, недорого]           0         0.000105  \n",
       "58719   [Canon, C, EXV, 16M, 1067B002, недорого]           0         0.000300  \n",
       "58720             [NSP, жидкий, хлорофилл, жать]           0         0.000208  \n",
       "58721                     [HP, Q3960A, недорого]           0         0.002290  \n",
       "58722                    [монитор, DELL, S2316H]           0         0.000046  \n",
       "58723         [компрессор, воздушный, в, алматы]           0         0.000052  \n",
       "58724                           [asus, be239qlb]           0         0.000026  \n",
       "58725             [электрощитовой, оборудование]           0         0.000250  \n",
       "58726         [весь, косметика, Baikal, Herbals]           0         0.069927  \n",
       "58727                [материнский, плата, Intel]           0         0.008765  \n",
       "58728                           [фен, Remington]           0         0.000073  \n",
       "58729                  [korting, okb, 4604, cri]           0         0.000166  \n",
       "58730                       [Google, Nexus, One]           0         0.000174  \n",
       "58731                                [Consowear]           0         0.002728  \n",
       "58732       [купить, лосина, джеггинсы, спешить]           0         0.000232  \n",
       "58733          [чехол, на, айфон, 5, S, мужской]           0         0.000101  \n",
       "58734                  [чехол, для, фотоаппарат]           0         0.000961  \n",
       "58735   [Electrolux, EMS, 26004, OK, 25л, 900Вт]           0         0.000001  \n",
       "58736                  [спальня, ярцево, мебель]           0         0.001906  \n",
       "58737        [монитор, 20, NEC, E201w, недорого]           0         0.000009  \n",
       "58738             [AOC, E2476VWM6, 348, 72, руб]           0         0.104502  \n",
       "58739        [молоток, отбойный, MAKITA, скидка]           0         0.000095  \n",
       "58740              [Dde, St6562l, 14E, недорого]           0         0.035067  \n",
       "58741          [ремонтный, комплект, HP, Q7842A]           0         0.000233  \n",
       "58742  [Acer, Extensa, 2508, C5W6, NX, EF1ER, 0]           0         0.000128  \n",
       "58743                    [neoline, x, cop, 9700]           0         0.000054  \n",
       "58744                 [текущий, уборка, кабинет]           0         0.000021  \n",
       "58745                 [техобслуживание, Renault]           0         0.027627  \n",
       "\n",
       "[200 rows x 4 columns]"
      ]
     },
     "execution_count": 135,
     "metadata": {},
     "output_type": "execute_result"
    }
   ],
   "source": [
    "predictions"
   ]
  },
  {
   "cell_type": "code",
   "execution_count": 136,
   "metadata": {},
   "outputs": [
    {
     "name": "stdout",
     "output_type": "stream",
     "text": [
      "0.9717912311613665\n"
     ]
    }
   ],
   "source": [
    "from sklearn.metrics import f1_score\n",
    "print(f1_score(new_y_test, xgb_test.predict(X_test_pca)))"
   ]
  },
  {
   "cell_type": "code",
   "execution_count": 137,
   "metadata": {},
   "outputs": [
    {
     "data": {
      "text/plain": [
       "array([[28398,   813],\n",
       "       [  836, 28404]])"
      ]
     },
     "execution_count": 137,
     "metadata": {},
     "output_type": "execute_result"
    }
   ],
   "source": [
    "from sklearn.metrics import confusion_matrix\n",
    "confusion_matrix(new_y_test, xgb_test.predict(X_test_pca))"
   ]
  },
  {
   "cell_type": "code",
   "execution_count": 138,
   "metadata": {},
   "outputs": [
    {
     "data": {
      "text/plain": [
       "0.9800235424456446"
      ]
     },
     "execution_count": 138,
     "metadata": {},
     "output_type": "execute_result"
    }
   ],
   "source": [
    "28307 / (577+28307)"
   ]
  },
  {
   "cell_type": "code",
   "execution_count": 139,
   "metadata": {},
   "outputs": [
    {
     "data": {
      "text/plain": [
       "0.9685885372112917"
      ]
     },
     "execution_count": 139,
     "metadata": {},
     "output_type": "execute_result"
    }
   ],
   "source": [
    "28307 / (28307+918)"
   ]
  },
  {
   "cell_type": "code",
   "execution_count": 180,
   "metadata": {},
   "outputs": [
    {
     "data": {
      "text/html": [
       "<div>\n",
       "<style scoped>\n",
       "    .dataframe tbody tr th:only-of-type {\n",
       "        vertical-align: middle;\n",
       "    }\n",
       "\n",
       "    .dataframe tbody tr th {\n",
       "        vertical-align: top;\n",
       "    }\n",
       "\n",
       "    .dataframe thead th {\n",
       "        text-align: right;\n",
       "    }\n",
       "</style>\n",
       "<table border=\"1\" class=\"dataframe\">\n",
       "  <thead>\n",
       "    <tr style=\"text-align: right;\">\n",
       "      <th></th>\n",
       "      <th>text vectors</th>\n",
       "      <th>title vectors</th>\n",
       "      <th>pair class</th>\n",
       "    </tr>\n",
       "  </thead>\n",
       "  <tbody>\n",
       "    <tr>\n",
       "      <th>0</th>\n",
       "      <td>[lg, sh7b, от, 819, 00, доставка]</td>\n",
       "      <td>[lg, sh7b]</td>\n",
       "      <td>1</td>\n",
       "    </tr>\n",
       "    <tr>\n",
       "      <th>1</th>\n",
       "      <td>[нужный, перевод, медицинский, документация, к...</td>\n",
       "      <td>[перевод, медицинский, документация]</td>\n",
       "      <td>1</td>\n",
       "    </tr>\n",
       "    <tr>\n",
       "      <th>2</th>\n",
       "      <td>[результат, на, 3, день, зубной, паста, крест,...</td>\n",
       "      <td>[зубной, паста, крест]</td>\n",
       "      <td>1</td>\n",
       "    </tr>\n",
       "    <tr>\n",
       "      <th>3</th>\n",
       "      <td>[массив, бук, и, дуб, древесный, шпон, ciplex,...</td>\n",
       "      <td>[межкомнатный, дверь, из, россия]</td>\n",
       "      <td>1</td>\n",
       "    </tr>\n",
       "    <tr>\n",
       "      <th>4</th>\n",
       "      <td>[купить, Gerat, лента, пробивной, Gerat, 19мм,...</td>\n",
       "      <td>[Gerat, 19мм, 3, 2мм, 30м, 50327]</td>\n",
       "      <td>1</td>\n",
       "    </tr>\n",
       "  </tbody>\n",
       "</table>\n",
       "</div>"
      ],
      "text/plain": [
       "                                        text vectors  \\\n",
       "0                  [lg, sh7b, от, 819, 00, доставка]   \n",
       "1  [нужный, перевод, медицинский, документация, к...   \n",
       "2  [результат, на, 3, день, зубной, паста, крест,...   \n",
       "3  [массив, бук, и, дуб, древесный, шпон, ciplex,...   \n",
       "4  [купить, Gerat, лента, пробивной, Gerat, 19мм,...   \n",
       "\n",
       "                          title vectors  pair class  \n",
       "0                            [lg, sh7b]           1  \n",
       "1  [перевод, медицинский, документация]           1  \n",
       "2                [зубной, паста, крест]           1  \n",
       "3     [межкомнатный, дверь, из, россия]           1  \n",
       "4     [Gerat, 19мм, 3, 2мм, 30м, 50327]           1  "
      ]
     },
     "execution_count": 180,
     "metadata": {},
     "output_type": "execute_result"
    }
   ],
   "source": [
    "training_df_mixed.head()"
   ]
  },
  {
   "cell_type": "code",
   "execution_count": 181,
   "metadata": {},
   "outputs": [
    {
     "data": {
      "text/plain": [
       "0                              [lg, sh7b]\n",
       "1    [перевод, медицинский, документация]\n",
       "2                  [зубной, паста, крест]\n",
       "3       [межкомнатный, дверь, из, россия]\n",
       "4       [Gerat, 19мм, 3, 2мм, 30м, 50327]\n",
       "Name: title vectors, dtype: object"
      ]
     },
     "execution_count": 181,
     "metadata": {},
     "output_type": "execute_result"
    }
   ],
   "source": [
    "training_df_mixed.iloc[:5, 1]"
   ]
  },
  {
   "cell_type": "code",
   "execution_count": 215,
   "metadata": {},
   "outputs": [
    {
     "data": {
      "text/plain": [
       "12"
      ]
     },
     "execution_count": 215,
     "metadata": {},
     "output_type": "execute_result"
    }
   ],
   "source": [
    "max([len(x) for x in small_number_of_texts])"
   ]
  },
  {
   "cell_type": "code",
   "execution_count": 573,
   "metadata": {},
   "outputs": [],
   "source": [
    "merged_trainig_examples = training_df_mixed.iloc[:, 1]+training_df_mixed.iloc[:, 0]"
   ]
  },
  {
   "cell_type": "code",
   "execution_count": 575,
   "metadata": {},
   "outputs": [
    {
     "data": {
      "text/plain": [
       "137074"
      ]
     },
     "execution_count": 575,
     "metadata": {},
     "output_type": "execute_result"
    }
   ],
   "source": [
    "len(merged_trainig_examples)"
   ]
  },
  {
   "cell_type": "code",
   "execution_count": 576,
   "metadata": {},
   "outputs": [],
   "source": [
    "merged_test_examples = test_df_mixed.iloc[:, 1]+test_df_mixed.iloc[:, 0]"
   ]
  },
  {
   "cell_type": "code",
   "execution_count": 577,
   "metadata": {},
   "outputs": [
    {
     "data": {
      "text/plain": [
       "58746"
      ]
     },
     "execution_count": 577,
     "metadata": {},
     "output_type": "execute_result"
    }
   ],
   "source": [
    "len(merged_test_examples)"
   ]
  },
  {
   "cell_type": "code",
   "execution_count": 597,
   "metadata": {},
   "outputs": [
    {
     "data": {
      "text/plain": [
       "30"
      ]
     },
     "execution_count": 597,
     "metadata": {},
     "output_type": "execute_result"
    }
   ],
   "source": [
    "max([len(x) for x in merged_trainig_examples])"
   ]
  },
  {
   "cell_type": "code",
   "execution_count": 598,
   "metadata": {},
   "outputs": [
    {
     "data": {
      "text/plain": [
       "29"
      ]
     },
     "execution_count": 598,
     "metadata": {},
     "output_type": "execute_result"
    }
   ],
   "source": [
    "max([len(x) for x in merged_test_examples])"
   ]
  },
  {
   "cell_type": "code",
   "execution_count": null,
   "metadata": {},
   "outputs": [],
   "source": []
  },
  {
   "cell_type": "code",
   "execution_count": 599,
   "metadata": {},
   "outputs": [],
   "source": [
    "\n",
    "def padder(dataset, max_length = 30):\n",
    "\n",
    "    all_rows = []\n",
    "    for row in dataset:\n",
    "        difference = max_length - len(row)\n",
    "        if difference >0:\n",
    "            row_list = [word for word in row]\n",
    "            for times in range(difference):\n",
    "                row_list.append(0)\n",
    "        all_rows.append(row_list)\n",
    "    series = pd.Series(all_rows)\n",
    "    return series"
   ]
  },
  {
   "cell_type": "code",
   "execution_count": 600,
   "metadata": {},
   "outputs": [],
   "source": [
    "training_padded = padder(merged_trainig_examples)"
   ]
  },
  {
   "cell_type": "code",
   "execution_count": 601,
   "metadata": {},
   "outputs": [],
   "source": [
    "test_padded = padder(merged_test_examples)"
   ]
  },
  {
   "cell_type": "markdown",
   "metadata": {},
   "source": [
    "merged_padded_series = pd.Series(all_rows)"
   ]
  },
  {
   "cell_type": "code",
   "execution_count": 602,
   "metadata": {},
   "outputs": [
    {
     "data": {
      "text/plain": [
       "0    [lg, sh7b, lg, sh7b, от, 819, 00, доставка, 0,...\n",
       "1    [перевод, медицинский, документация, нужный, п...\n",
       "2    [зубной, паста, крест, результат, на, 3, день,...\n",
       "3    [межкомнатный, дверь, из, россия, массив, бук,...\n",
       "4    [Gerat, 19мм, 3, 2мм, 30м, 50327, купить, Gera...\n",
       "dtype: object"
      ]
     },
     "execution_count": 602,
     "metadata": {},
     "output_type": "execute_result"
    }
   ],
   "source": [
    "merged_padded_series.head()"
   ]
  },
  {
   "cell_type": "code",
   "execution_count": 603,
   "metadata": {},
   "outputs": [],
   "source": [
    "def vectorizer_of_series(series):\n",
    "    final_list = []\n",
    "    for row in series:\n",
    "        vectorized_pairs = []\n",
    "        for word in row: \n",
    "            if word== 0:\n",
    "                vectorized_pairs.append(np.zeros(300))\n",
    "            else:\n",
    "                if word in vocab:\n",
    "                    word_emb = model.wv[word]\n",
    "                    vectorized_pairs.append(word_emb)\n",
    "                else:\n",
    "                    vectorized_pairs.append(np.zeros(300))\n",
    "        final_list.append(vectorized_pairs)\n",
    "    return final_list"
   ]
  },
  {
   "cell_type": "code",
   "execution_count": 604,
   "metadata": {},
   "outputs": [],
   "source": [
    "vec_series_training = vectorizer_of_series(training_padded)"
   ]
  },
  {
   "cell_type": "code",
   "execution_count": 605,
   "metadata": {},
   "outputs": [],
   "source": [
    "final_array_training = np.array(vec_series_training)"
   ]
  },
  {
   "cell_type": "code",
   "execution_count": 606,
   "metadata": {},
   "outputs": [],
   "source": [
    "vec_series_test = vectorizer_of_series(test_padded)"
   ]
  },
  {
   "cell_type": "code",
   "execution_count": 607,
   "metadata": {},
   "outputs": [],
   "source": [
    "final_array_test = np.array(vec_series_test)"
   ]
  },
  {
   "cell_type": "code",
   "execution_count": 608,
   "metadata": {},
   "outputs": [
    {
     "data": {
      "text/plain": [
       "(137074, 30, 300)"
      ]
     },
     "execution_count": 608,
     "metadata": {},
     "output_type": "execute_result"
    }
   ],
   "source": [
    "final_array_training.shape"
   ]
  },
  {
   "cell_type": "code",
   "execution_count": 609,
   "metadata": {},
   "outputs": [
    {
     "data": {
      "text/plain": [
       "(58746, 30, 300)"
      ]
     },
     "execution_count": 609,
     "metadata": {},
     "output_type": "execute_result"
    }
   ],
   "source": [
    "final_array_test.shape"
   ]
  },
  {
   "cell_type": "code",
   "execution_count": 564,
   "metadata": {},
   "outputs": [
    {
     "data": {
      "text/plain": [
       "137074"
      ]
     },
     "execution_count": 564,
     "metadata": {},
     "output_type": "execute_result"
    }
   ],
   "source": [
    "len(training_df_mixed['pair class'])"
   ]
  },
  {
   "cell_type": "code",
   "execution_count": 610,
   "metadata": {},
   "outputs": [],
   "source": [
    "import keras\n",
    "from keras.utils import to_categorical\n",
    "y_reshaped_tr = keras.utils.to_categorical(training_df_mixed['pair class'], 2)\n",
    "y_reshaped_test = keras.utils.to_categorical(test_df_mixed['pair class'], 2)"
   ]
  },
  {
   "cell_type": "code",
   "execution_count": 615,
   "metadata": {},
   "outputs": [
    {
     "name": "stdout",
     "output_type": "stream",
     "text": [
      "Train on 137074 samples, validate on 58746 samples\n",
      "Epoch 1/30\n",
      "137074/137074 [==============================] - 74s 538us/step - loss: 0.6195 - acc: 0.6263 - val_loss: 0.5528 - val_acc: 0.7043\n",
      "Epoch 2/30\n",
      "137074/137074 [==============================] - 69s 504us/step - loss: 0.5038 - acc: 0.7426 - val_loss: 0.4954 - val_acc: 0.7662\n",
      "Epoch 3/30\n",
      "137074/137074 [==============================] - 72s 525us/step - loss: 0.4507 - acc: 0.7877 - val_loss: 0.4670 - val_acc: 0.7706\n",
      "Epoch 4/30\n",
      "137074/137074 [==============================] - 71s 521us/step - loss: 0.4220 - acc: 0.8092 - val_loss: 0.4224 - val_acc: 0.8086\n",
      "Epoch 5/30\n",
      "137074/137074 [==============================] - 72s 526us/step - loss: 0.4090 - acc: 0.8184 - val_loss: 0.4087 - val_acc: 0.8160\n",
      "Epoch 6/30\n",
      "137074/137074 [==============================] - 72s 528us/step - loss: 0.3983 - acc: 0.8242 - val_loss: 0.4063 - val_acc: 0.8185\n",
      "Epoch 7/30\n",
      "137074/137074 [==============================] - 72s 528us/step - loss: 0.3868 - acc: 0.8297 - val_loss: 0.3876 - val_acc: 0.8291\n",
      "Epoch 8/30\n",
      "137074/137074 [==============================] - 73s 535us/step - loss: 0.3778 - acc: 0.8362 - val_loss: 0.4432 - val_acc: 0.8051\n",
      "Epoch 9/30\n",
      "137074/137074 [==============================] - 73s 534us/step - loss: 0.3657 - acc: 0.8426 - val_loss: 0.3751 - val_acc: 0.8353\n",
      "Epoch 10/30\n",
      "137074/137074 [==============================] - 72s 524us/step - loss: 0.3633 - acc: 0.8430 - val_loss: 0.3648 - val_acc: 0.8407\n",
      "Epoch 11/30\n",
      "137074/137074 [==============================] - 73s 531us/step - loss: 0.3579 - acc: 0.8474 - val_loss: 0.3719 - val_acc: 0.8406\n",
      "Epoch 12/30\n",
      "137074/137074 [==============================] - 72s 528us/step - loss: 0.3544 - acc: 0.8496 - val_loss: 0.3847 - val_acc: 0.8300\n",
      "Epoch 13/30\n",
      "137074/137074 [==============================] - 72s 527us/step - loss: 0.3502 - acc: 0.8519 - val_loss: 0.3639 - val_acc: 0.8408\n",
      "Epoch 14/30\n",
      "137074/137074 [==============================] - 72s 522us/step - loss: 0.3479 - acc: 0.8534 - val_loss: 0.3733 - val_acc: 0.8348\n",
      "Epoch 15/30\n",
      "137074/137074 [==============================] - 72s 523us/step - loss: 0.3415 - acc: 0.8557 - val_loss: 0.3654 - val_acc: 0.8452\n",
      "Epoch 16/30\n",
      "137074/137074 [==============================] - 70s 514us/step - loss: 0.3405 - acc: 0.8566 - val_loss: 0.3697 - val_acc: 0.8405\n",
      "Epoch 17/30\n",
      "137074/137074 [==============================] - 71s 521us/step - loss: 0.3432 - acc: 0.8543 - val_loss: 0.3643 - val_acc: 0.8449\n",
      "Epoch 18/30\n",
      "137074/137074 [==============================] - 72s 522us/step - loss: 0.3342 - acc: 0.8608 - val_loss: 0.3789 - val_acc: 0.8336\n",
      "Epoch 19/30\n",
      "137074/137074 [==============================] - 70s 512us/step - loss: 0.3362 - acc: 0.8587 - val_loss: 0.4025 - val_acc: 0.8273\n",
      "Epoch 20/30\n",
      "137074/137074 [==============================] - 71s 515us/step - loss: 0.3334 - acc: 0.8598 - val_loss: 0.3615 - val_acc: 0.8442\n",
      "Epoch 21/30\n",
      "137074/137074 [==============================] - 72s 529us/step - loss: 0.3256 - acc: 0.8640 - val_loss: 0.3514 - val_acc: 0.8490\n",
      "Epoch 22/30\n",
      "137074/137074 [==============================] - 73s 529us/step - loss: 0.3254 - acc: 0.8631 - val_loss: 0.3380 - val_acc: 0.8584\n",
      "Epoch 23/30\n",
      "137074/137074 [==============================] - 70s 509us/step - loss: 0.3205 - acc: 0.8683 - val_loss: 0.3789 - val_acc: 0.8372\n",
      "Epoch 24/30\n",
      "137074/137074 [==============================] - 70s 509us/step - loss: 0.3170 - acc: 0.8695 - val_loss: 0.3636 - val_acc: 0.8480\n",
      "Epoch 25/30\n",
      "137074/137074 [==============================] - 70s 512us/step - loss: 0.3132 - acc: 0.8706 - val_loss: 0.3813 - val_acc: 0.8430\n",
      "Epoch 26/30\n",
      "137074/137074 [==============================] - 70s 510us/step - loss: 0.3127 - acc: 0.8709 - val_loss: 0.3497 - val_acc: 0.8496\n",
      "Epoch 27/30\n",
      "137074/137074 [==============================] - 70s 511us/step - loss: 0.3081 - acc: 0.8733 - val_loss: 0.3437 - val_acc: 0.8531\n",
      "Epoch 28/30\n",
      "137074/137074 [==============================] - 70s 512us/step - loss: 0.3126 - acc: 0.8708 - val_loss: 0.3434 - val_acc: 0.8543\n",
      "Epoch 29/30\n",
      "137074/137074 [==============================] - 71s 518us/step - loss: 0.3040 - acc: 0.8762 - val_loss: 0.3414 - val_acc: 0.8624\n",
      "Epoch 30/30\n",
      "137074/137074 [==============================] - 71s 521us/step - loss: 0.3046 - acc: 0.8765 - val_loss: 0.3381 - val_acc: 0.8596\n"
     ]
    },
    {
     "data": {
      "text/plain": [
       "<keras.callbacks.History at 0x2798bb748>"
      ]
     },
     "execution_count": 615,
     "metadata": {},
     "output_type": "execute_result"
    }
   ],
   "source": [
    "from keras.models import Sequential\n",
    "from keras.layers import SimpleRNN, Dense\n",
    "\n",
    "model_rnn = Sequential()\n",
    "\n",
    "model_rnn.add(SimpleRNN(units=100, input_shape=(30, 300), activation = 'relu'))\n",
    "\n",
    "model_rnn.add(Dense(units=2, activation='softmax'))\n",
    "model_rnn.compile(loss='categorical_crossentropy', optimizer='adam', metrics = ['accuracy'])\n",
    "\n",
    "model_rnn.fit(final_array_training, y_reshaped, epochs=30, verbose = 1, validation_data = (final_array_test, y_reshaped_test))"
   ]
  },
  {
   "cell_type": "code",
   "execution_count": 616,
   "metadata": {},
   "outputs": [
    {
     "name": "stdout",
     "output_type": "stream",
     "text": [
      "Test loss: 0.3380773529845125\n",
      "Test accuracy: 0.8596159738433928\n"
     ]
    }
   ],
   "source": [
    "scores = model_rnn.evaluate(final_array_test, y_reshaped_test, verbose=0)\n",
    "print('Test loss:', scores[0])\n",
    "print('Test accuracy:', scores[1])"
   ]
  },
  {
   "cell_type": "code",
   "execution_count": null,
   "metadata": {},
   "outputs": [],
   "source": []
  }
 ],
 "metadata": {
  "kernelspec": {
   "display_name": "Python 3",
   "language": "python",
   "name": "python3"
  },
  "language_info": {
   "codemirror_mode": {
    "name": "ipython",
    "version": 3
   },
   "file_extension": ".py",
   "mimetype": "text/x-python",
   "name": "python",
   "nbconvert_exporter": "python",
   "pygments_lexer": "ipython3",
   "version": "3.6.5"
  }
 },
 "nbformat": 4,
 "nbformat_minor": 2
}
