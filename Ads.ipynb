{
 "cells": [
  {
   "cell_type": "code",
   "execution_count": 313,
   "metadata": {},
   "outputs": [],
   "source": [
    "import pandas as pd\n",
    "import numpy as np\n",
    "import matplotlib.pyplot as plt\n",
    "%matplotlib inline\n",
    "import seaborn as sns\n",
    "from pymystem3 import Mystem\n",
    "from stop_words import get_stop_words\n",
    "import nltk\n",
    "from sklearn.model_selection import train_test_split\n",
    "from sklearn.feature_extraction.text import TfidfVectorizer\n",
    "from sklearn.decomposition import TruncatedSVD\n",
    "from sklearn.pipeline import make_pipeline\n",
    "from sklearn.preprocessing import Normalizer\n",
    "from sklearn.linear_model import LogisticRegression\n",
    "from sklearn.model_selection import cross_val_predict\n",
    "import re\n",
    "import string\n",
    "from sklearn.metrics.pairwise import cosine_similarity\n",
    "from sklearn.ensemble import RandomForestClassifier\n",
    "from sklearn.utils import shuffle"
   ]
  },
  {
   "cell_type": "code",
   "execution_count": 2,
   "metadata": {},
   "outputs": [],
   "source": [
    "ads = pd.read_csv('/Users/admin/Documents/contextAdvertising1.csv')"
   ]
  },
  {
   "cell_type": "code",
   "execution_count": 3,
   "metadata": {},
   "outputs": [
    {
     "data": {
      "text/plain": [
       "(799999, 3)"
      ]
     },
     "execution_count": 3,
     "metadata": {},
     "output_type": "execute_result"
    }
   ],
   "source": [
    "ads.shape"
   ]
  },
  {
   "cell_type": "code",
   "execution_count": 4,
   "metadata": {},
   "outputs": [
    {
     "data": {
      "text/html": [
       "<div>\n",
       "<style scoped>\n",
       "    .dataframe tbody tr th:only-of-type {\n",
       "        vertical-align: middle;\n",
       "    }\n",
       "\n",
       "    .dataframe tbody tr th {\n",
       "        vertical-align: top;\n",
       "    }\n",
       "\n",
       "    .dataframe thead th {\n",
       "        text-align: right;\n",
       "    }\n",
       "</style>\n",
       "<table border=\"1\" class=\"dataframe\">\n",
       "  <thead>\n",
       "    <tr style=\"text-align: right;\">\n",
       "      <th></th>\n",
       "      <th>atitle</th>\n",
       "      <th>atext</th>\n",
       "      <th>adomain</th>\n",
       "    </tr>\n",
       "  </thead>\n",
       "  <tbody>\n",
       "    <tr>\n",
       "      <th>0</th>\n",
       "      <td>Клуб активного отдыха «0.67»</td>\n",
       "      <td>Детский пейнтбол. Спортивный пейнтбол. Тактиче...</td>\n",
       "      <td>0-67.relax.by</td>\n",
       "    </tr>\n",
       "    <tr>\n",
       "      <th>1</th>\n",
       "      <td>Антигравитационный чехол IPhone 5</td>\n",
       "      <td>Успейте купить антигравитационный чехол для IP...</td>\n",
       "      <td>0-antigravity.ru</td>\n",
       "    </tr>\n",
       "    <tr>\n",
       "      <th>2</th>\n",
       "      <td>Антигравитационный чехол купить!</td>\n",
       "      <td>Антигравитационный чехол для телефона купить з...</td>\n",
       "      <td>0-antigravity.ru</td>\n",
       "    </tr>\n",
       "    <tr>\n",
       "      <th>3</th>\n",
       "      <td>Беспроцентный заем от Moneyveo</td>\n",
       "      <td>Без справок! Получите до 3 000 грн. на карту п...</td>\n",
       "      <td>0-credit.moneyveo.ua</td>\n",
       "    </tr>\n",
       "    <tr>\n",
       "      <th>4</th>\n",
       "      <td>Беспроцентный заем сотруднику</td>\n",
       "      <td>Акция! Получите Кредит Онлайн под 0%. Без Спра...</td>\n",
       "      <td>0-credit.moneyveo.ua</td>\n",
       "    </tr>\n",
       "  </tbody>\n",
       "</table>\n",
       "</div>"
      ],
      "text/plain": [
       "                              atitle  \\\n",
       "0       Клуб активного отдыха «0.67»   \n",
       "1  Антигравитационный чехол IPhone 5   \n",
       "2   Антигравитационный чехол купить!   \n",
       "3     Беспроцентный заем от Moneyveo   \n",
       "4      Беспроцентный заем сотруднику   \n",
       "\n",
       "                                               atext               adomain  \n",
       "0  Детский пейнтбол. Спортивный пейнтбол. Тактиче...         0-67.relax.by  \n",
       "1  Успейте купить антигравитационный чехол для IP...      0-antigravity.ru  \n",
       "2  Антигравитационный чехол для телефона купить з...      0-antigravity.ru  \n",
       "3  Без справок! Получите до 3 000 грн. на карту п...  0-credit.moneyveo.ua  \n",
       "4  Акция! Получите Кредит Онлайн под 0%. Без Спра...  0-credit.moneyveo.ua  "
      ]
     },
     "execution_count": 4,
     "metadata": {},
     "output_type": "execute_result"
    }
   ],
   "source": [
    "ads.head()"
   ]
  },
  {
   "cell_type": "code",
   "execution_count": 5,
   "metadata": {},
   "outputs": [
    {
     "data": {
      "text/plain": [
       "571923"
      ]
     },
     "execution_count": 5,
     "metadata": {},
     "output_type": "execute_result"
    }
   ],
   "source": [
    "#check how many unique titles we have\n",
    "ads['atitle'].nunique()"
   ]
  },
  {
   "cell_type": "code",
   "execution_count": 6,
   "metadata": {},
   "outputs": [
    {
     "data": {
      "text/plain": [
       "350006"
      ]
     },
     "execution_count": 6,
     "metadata": {},
     "output_type": "execute_result"
    }
   ],
   "source": [
    "#check how many unique ads texts we have\n",
    "ads['atext'].nunique()"
   ]
  },
  {
   "cell_type": "code",
   "execution_count": 7,
   "metadata": {},
   "outputs": [
    {
     "data": {
      "text/plain": [
       "792924"
      ]
     },
     "execution_count": 7,
     "metadata": {},
     "output_type": "execute_result"
    }
   ],
   "source": [
    "(ads['atitle'] + ads['atext']).nunique()"
   ]
  },
  {
   "cell_type": "code",
   "execution_count": 8,
   "metadata": {},
   "outputs": [],
   "source": [
    "unique_adstext =ads.drop_duplicates(subset = ['atext'])"
   ]
  },
  {
   "cell_type": "code",
   "execution_count": 9,
   "metadata": {},
   "outputs": [
    {
     "data": {
      "text/plain": [
       "atitle     254397\n",
       "atext      350006\n",
       "adomain      5550\n",
       "dtype: int64"
      ]
     },
     "execution_count": 9,
     "metadata": {},
     "output_type": "execute_result"
    }
   ],
   "source": [
    "unique_adstext.nunique()"
   ]
  },
  {
   "cell_type": "code",
   "execution_count": 10,
   "metadata": {},
   "outputs": [
    {
     "data": {
      "text/plain": [
       "254397"
      ]
     },
     "execution_count": 10,
     "metadata": {},
     "output_type": "execute_result"
    }
   ],
   "source": [
    "#it appears that even after we remove duplicate ads texts, we still have duplicate titles \n",
    "unique_adstext['atitle'].nunique()"
   ]
  },
  {
   "cell_type": "code",
   "execution_count": 11,
   "metadata": {},
   "outputs": [],
   "source": [
    "unique =unique_adstext.drop_duplicates(subset = ['atitle'])"
   ]
  },
  {
   "cell_type": "code",
   "execution_count": 12,
   "metadata": {},
   "outputs": [
    {
     "data": {
      "text/plain": [
       "atitle     254397\n",
       "atext      254396\n",
       "adomain      5447\n",
       "dtype: int64"
      ]
     },
     "execution_count": 12,
     "metadata": {},
     "output_type": "execute_result"
    }
   ],
   "source": [
    "unique.nunique()"
   ]
  },
  {
   "cell_type": "code",
   "execution_count": 13,
   "metadata": {},
   "outputs": [
    {
     "name": "stdout",
     "output_type": "stream",
     "text": [
      "<class 'pandas.core.frame.DataFrame'>\n",
      "Int64Index: 254397 entries, 0 to 772549\n",
      "Data columns (total 3 columns):\n",
      "atitle     254397 non-null object\n",
      "atext      254396 non-null object\n",
      "adomain    254397 non-null object\n",
      "dtypes: object(3)\n",
      "memory usage: 7.8+ MB\n"
     ]
    }
   ],
   "source": [
    "unique.info()"
   ]
  },
  {
   "cell_type": "code",
   "execution_count": 14,
   "metadata": {},
   "outputs": [
    {
     "data": {
      "text/html": [
       "<div>\n",
       "<style scoped>\n",
       "    .dataframe tbody tr th:only-of-type {\n",
       "        vertical-align: middle;\n",
       "    }\n",
       "\n",
       "    .dataframe tbody tr th {\n",
       "        vertical-align: top;\n",
       "    }\n",
       "\n",
       "    .dataframe thead th {\n",
       "        text-align: right;\n",
       "    }\n",
       "</style>\n",
       "<table border=\"1\" class=\"dataframe\">\n",
       "  <thead>\n",
       "    <tr style=\"text-align: right;\">\n",
       "      <th></th>\n",
       "      <th>atitle</th>\n",
       "      <th>atext</th>\n",
       "      <th>adomain</th>\n",
       "    </tr>\n",
       "  </thead>\n",
       "  <tbody>\n",
       "    <tr>\n",
       "      <th>0</th>\n",
       "      <td>Клуб активного отдыха «0.67»</td>\n",
       "      <td>Детский пейнтбол. Спортивный пейнтбол. Тактиче...</td>\n",
       "      <td>0-67.relax.by</td>\n",
       "    </tr>\n",
       "    <tr>\n",
       "      <th>1</th>\n",
       "      <td>Антигравитационный чехол IPhone 5</td>\n",
       "      <td>Успейте купить антигравитационный чехол для IP...</td>\n",
       "      <td>0-antigravity.ru</td>\n",
       "    </tr>\n",
       "    <tr>\n",
       "      <th>2</th>\n",
       "      <td>Антигравитационный чехол купить!</td>\n",
       "      <td>Антигравитационный чехол для телефона купить з...</td>\n",
       "      <td>0-antigravity.ru</td>\n",
       "    </tr>\n",
       "    <tr>\n",
       "      <th>3</th>\n",
       "      <td>Беспроцентный заем от Moneyveo</td>\n",
       "      <td>Без справок! Получите до 3 000 грн. на карту п...</td>\n",
       "      <td>0-credit.moneyveo.ua</td>\n",
       "    </tr>\n",
       "    <tr>\n",
       "      <th>4</th>\n",
       "      <td>Беспроцентный заем сотруднику</td>\n",
       "      <td>Акция! Получите Кредит Онлайн под 0%. Без Спра...</td>\n",
       "      <td>0-credit.moneyveo.ua</td>\n",
       "    </tr>\n",
       "  </tbody>\n",
       "</table>\n",
       "</div>"
      ],
      "text/plain": [
       "                              atitle  \\\n",
       "0       Клуб активного отдыха «0.67»   \n",
       "1  Антигравитационный чехол IPhone 5   \n",
       "2   Антигравитационный чехол купить!   \n",
       "3     Беспроцентный заем от Moneyveo   \n",
       "4      Беспроцентный заем сотруднику   \n",
       "\n",
       "                                               atext               adomain  \n",
       "0  Детский пейнтбол. Спортивный пейнтбол. Тактиче...         0-67.relax.by  \n",
       "1  Успейте купить антигравитационный чехол для IP...      0-antigravity.ru  \n",
       "2  Антигравитационный чехол для телефона купить з...      0-antigravity.ru  \n",
       "3  Без справок! Получите до 3 000 грн. на карту п...  0-credit.moneyveo.ua  \n",
       "4  Акция! Получите Кредит Онлайн под 0%. Без Спра...  0-credit.moneyveo.ua  "
      ]
     },
     "execution_count": 14,
     "metadata": {},
     "output_type": "execute_result"
    }
   ],
   "source": [
    "unique.head()"
   ]
  },
  {
   "cell_type": "code",
   "execution_count": 15,
   "metadata": {},
   "outputs": [
    {
     "data": {
      "text/plain": [
       "0    Детский пейнтбол. Спортивный пейнтбол. Тактиче...\n",
       "1    Успейте купить антигравитационный чехол для IP...\n",
       "2    Антигравитационный чехол для телефона купить з...\n",
       "3    Без справок! Получите до 3 000 грн. на карту п...\n",
       "4    Акция! Получите Кредит Онлайн под 0%. Без Спра...\n",
       "Name: atext, dtype: object"
      ]
     },
     "execution_count": 15,
     "metadata": {},
     "output_type": "execute_result"
    }
   ],
   "source": [
    "unique['atext'][:5]"
   ]
  },
  {
   "cell_type": "code",
   "execution_count": 16,
   "metadata": {},
   "outputs": [
    {
     "data": {
      "text/plain": [
       "pandas.core.series.Series"
      ]
     },
     "execution_count": 16,
     "metadata": {},
     "output_type": "execute_result"
    }
   ],
   "source": [
    "type(unique['atext'])"
   ]
  },
  {
   "cell_type": "code",
   "execution_count": 17,
   "metadata": {},
   "outputs": [],
   "source": [
    "#include all the punctuation signs\\n\",\n",
    "def punctuation_remover(row):\n",
    "    punctuation = '!\"#$&\\'()*+,-./:;<=>?@[\\\\]^_`{|}~«»'\n",
    "    \n",
    "    punctuationNoPeriod = \"[\" + re.sub(\"\\.\",\"\", punctuation) + \"]\"\n",
    "    row = re.sub(punctuationNoPeriod, \" \", str(row))\n",
    "    #to remove double white spaces and create space after %,\n",
    "    row = row.replace('  ', ' ')\n",
    "    row = row.replace('%', '% ')\n",
    "    return row.strip()\n"
   ]
  },
  {
   "cell_type": "code",
   "execution_count": 18,
   "metadata": {},
   "outputs": [
    {
     "data": {
      "text/plain": [
       "'Детский пейнтбол Спортивный пейнтбол Тактический пейнтбол Выездные игры'"
      ]
     },
     "execution_count": 18,
     "metadata": {},
     "output_type": "execute_result"
    }
   ],
   "source": [
    "punctuation_remover(unique['atext'][0])"
   ]
  },
  {
   "cell_type": "code",
   "execution_count": 19,
   "metadata": {},
   "outputs": [
    {
     "name": "stderr",
     "output_type": "stream",
     "text": [
      "/usr/local/lib/python3.6/site-packages/ipykernel_launcher.py:2: SettingWithCopyWarning: \n",
      "A value is trying to be set on a copy of a slice from a DataFrame.\n",
      "Try using .loc[row_indexer,col_indexer] = value instead\n",
      "\n",
      "See the caveats in the documentation: http://pandas.pydata.org/pandas-docs/stable/indexing.html#indexing-view-versus-copy\n",
      "  \n"
     ]
    }
   ],
   "source": [
    "# remove punctuation from the ads text\n",
    "unique['atext'] = unique['atext'].apply(punctuation_remover)"
   ]
  },
  {
   "cell_type": "code",
   "execution_count": 20,
   "metadata": {},
   "outputs": [
    {
     "name": "stderr",
     "output_type": "stream",
     "text": [
      "/usr/local/lib/python3.6/site-packages/ipykernel_launcher.py:1: SettingWithCopyWarning: \n",
      "A value is trying to be set on a copy of a slice from a DataFrame.\n",
      "Try using .loc[row_indexer,col_indexer] = value instead\n",
      "\n",
      "See the caveats in the documentation: http://pandas.pydata.org/pandas-docs/stable/indexing.html#indexing-view-versus-copy\n",
      "  \"\"\"Entry point for launching an IPython kernel.\n"
     ]
    }
   ],
   "source": [
    "unique['atitle'] = unique['atitle'].apply(punctuation_remover)"
   ]
  },
  {
   "cell_type": "code",
   "execution_count": 21,
   "metadata": {},
   "outputs": [
    {
     "data": {
      "text/plain": [
       "0           Клуб активного отдыха 0 67\n",
       "1    Антигравитационный чехол IPhone 5\n",
       "2      Антигравитационный чехол купить\n",
       "3       Беспроцентный заем от Moneyveo\n",
       "4        Беспроцентный заем сотруднику\n",
       "Name: atitle, dtype: object"
      ]
     },
     "execution_count": 21,
     "metadata": {},
     "output_type": "execute_result"
    }
   ],
   "source": [
    "unique['atitle'][:5]"
   ]
  },
  {
   "cell_type": "code",
   "execution_count": 133,
   "metadata": {},
   "outputs": [
    {
     "data": {
      "text/plain": [
       "'Детский пейнтбол Спортивный пейнтбол Тактический пейнтбол Выездные игры'"
      ]
     },
     "execution_count": 133,
     "metadata": {},
     "output_type": "execute_result"
    }
   ],
   "source": [
    "unique['atext'][0]"
   ]
  },
  {
   "cell_type": "markdown",
   "metadata": {},
   "source": [
    "# Train Test Split"
   ]
  },
  {
   "cell_type": "code",
   "execution_count": 22,
   "metadata": {},
   "outputs": [],
   "source": [
    "X = unique['atext']\n",
    "y = unique['atitle']"
   ]
  },
  {
   "cell_type": "code",
   "execution_count": 23,
   "metadata": {},
   "outputs": [],
   "source": [
    "X_train, X_test, y_train, y_test = train_test_split(X, y, test_size=0.3, random_state=0)"
   ]
  },
  {
   "cell_type": "code",
   "execution_count": 191,
   "metadata": {},
   "outputs": [],
   "source": [
    "m = Mystem()\n",
    "def text_parser(series, lemmatize=True): # do lemmatization if true \n",
    "    series_copy = series.copy()\n",
    " \n",
    "    # access each ad by index\n",
    "    for index in series_copy.index:\n",
    "        text = series_copy[index]\n",
    "        if lemmatize ==True:\n",
    "            lemmas = m.lemmatize(text)\n",
    "\n",
    "            lem_no_punct = [lemma for lemma in lemmas if lemma!= ' '\n",
    "                           and lemma != '\\n']\n",
    "            output = lem_no_punct\n",
    "        else:\n",
    "            output = text.split()\n",
    "        series_copy[index] =output\n",
    "    return series_copy"
   ]
  },
  {
   "cell_type": "code",
   "execution_count": 25,
   "metadata": {},
   "outputs": [],
   "source": [
    "X_train_processed = text_parser(X_train)"
   ]
  },
  {
   "cell_type": "code",
   "execution_count": 26,
   "metadata": {},
   "outputs": [],
   "source": [
    "y_train_processed = text_parser(y_train)"
   ]
  },
  {
   "cell_type": "code",
   "execution_count": 27,
   "metadata": {},
   "outputs": [
    {
     "data": {
      "text/plain": [
       "538293         [Candy, CED, 112, 07, от, 555, 60, доставка]\n",
       "109045    [от, 5500, руб,   , прога, по, в, подарок, без...\n",
       "270496    [доступный, цена, доктор, лор, клиника, москва...\n",
       "Name: atext, dtype: object"
      ]
     },
     "execution_count": 27,
     "metadata": {},
     "output_type": "execute_result"
    }
   ],
   "source": [
    "X_train_processed[0:3]"
   ]
  },
  {
   "cell_type": "code",
   "execution_count": 28,
   "metadata": {},
   "outputs": [],
   "source": [
    "merged_list = X_train_processed+y_train_processed"
   ]
  },
  {
   "cell_type": "markdown",
   "metadata": {},
   "source": [
    "# Training Word2Vec"
   ]
  },
  {
   "cell_type": "markdown",
   "metadata": {},
   "source": [
    "import gensim\n",
    "from gensim.models import Phrases\n",
    "from gensim.models import Word2Vec\n",
    "bigram_transformer = Phrases(merged_list)\n",
    "\n",
    "model = Word2Vec(bigram_transformer[merged_list], \n",
    "                 size = 300,\n",
    "                 window=50,\n",
    "                 sg = 0,\n",
    "                 min_count=5)"
   ]
  },
  {
   "cell_type": "code",
   "execution_count": 29,
   "metadata": {},
   "outputs": [],
   "source": [
    "import gensim\n",
    "\n",
    "from gensim.models import word2vec\n",
    "model = word2vec.Word2Vec(\n",
    "    merged_list,\n",
    "    workers=4,     \n",
    "    min_count=5,   \n",
    "    window=50,      \n",
    "    sg=0,          \n",
    "    sample=1e-4 ,  \n",
    "    size=300,      \n",
    "    hs=1           \n",
    ")\n"
   ]
  },
  {
   "cell_type": "code",
   "execution_count": 30,
   "metadata": {},
   "outputs": [
    {
     "name": "stdout",
     "output_type": "stream",
     "text": [
      "24801\n"
     ]
    }
   ],
   "source": [
    "vocab = model.wv.vocab.keys()\n",
    "print(len(vocab))"
   ]
  },
  {
   "cell_type": "markdown",
   "metadata": {},
   "source": [
    "# Sample For Evaluation"
   ]
  },
  {
   "cell_type": "code",
   "execution_count": 31,
   "metadata": {},
   "outputs": [],
   "source": [
    "indices = X_test.index"
   ]
  },
  {
   "cell_type": "code",
   "execution_count": 32,
   "metadata": {},
   "outputs": [],
   "source": [
    "test_df = pd.DataFrame(X_test, index = indices)"
   ]
  },
  {
   "cell_type": "code",
   "execution_count": 33,
   "metadata": {},
   "outputs": [
    {
     "data": {
      "text/html": [
       "<div>\n",
       "<style scoped>\n",
       "    .dataframe tbody tr th:only-of-type {\n",
       "        vertical-align: middle;\n",
       "    }\n",
       "\n",
       "    .dataframe tbody tr th {\n",
       "        vertical-align: top;\n",
       "    }\n",
       "\n",
       "    .dataframe thead th {\n",
       "        text-align: right;\n",
       "    }\n",
       "</style>\n",
       "<table border=\"1\" class=\"dataframe\">\n",
       "  <thead>\n",
       "    <tr style=\"text-align: right;\">\n",
       "      <th></th>\n",
       "      <th>atext</th>\n",
       "    </tr>\n",
       "  </thead>\n",
       "  <tbody>\n",
       "    <tr>\n",
       "      <th>363796</th>\n",
       "      <td>Дышите естественно увлажненным и чистым воздух...</td>\n",
       "    </tr>\n",
       "    <tr>\n",
       "      <th>673780</th>\n",
       "      <td>Двери Океан Сравните цены всех интернет магазинов</td>\n",
       "    </tr>\n",
       "    <tr>\n",
       "      <th>20971</th>\n",
       "      <td>Купить Rexel Уничтожитель бумаги Rexel V120 bl...</td>\n",
       "    </tr>\n",
       "    <tr>\n",
       "      <th>485902</th>\n",
       "      <td>Цена всего 9390 руб  Купить КАЛИБР СС 16 550</td>\n",
       "    </tr>\n",
       "    <tr>\n",
       "      <th>207235</th>\n",
       "      <td>Телевизор Supra STV LC24T440WL в интернет мага...</td>\n",
       "    </tr>\n",
       "  </tbody>\n",
       "</table>\n",
       "</div>"
      ],
      "text/plain": [
       "                                                    atext\n",
       "363796  Дышите естественно увлажненным и чистым воздух...\n",
       "673780  Двери Океан Сравните цены всех интернет магазинов\n",
       "20971   Купить Rexel Уничтожитель бумаги Rexel V120 bl...\n",
       "485902       Цена всего 9390 руб  Купить КАЛИБР СС 16 550\n",
       "207235  Телевизор Supra STV LC24T440WL в интернет мага..."
      ]
     },
     "execution_count": 33,
     "metadata": {},
     "output_type": "execute_result"
    }
   ],
   "source": [
    "test_df.head()"
   ]
  },
  {
   "cell_type": "code",
   "execution_count": 130,
   "metadata": {},
   "outputs": [],
   "source": [
    "test_df['atitle'] = y_test"
   ]
  },
  {
   "cell_type": "code",
   "execution_count": 35,
   "metadata": {},
   "outputs": [
    {
     "data": {
      "text/plain": [
       "(76320, 2)"
      ]
     },
     "execution_count": 35,
     "metadata": {},
     "output_type": "execute_result"
    }
   ],
   "source": [
    "test_df.shape"
   ]
  },
  {
   "cell_type": "code",
   "execution_count": 36,
   "metadata": {},
   "outputs": [],
   "source": [
    "# we can't fit all the examples in our memory\n",
    "\n",
    "test_sample = test_df.sample(1000)"
   ]
  },
  {
   "cell_type": "code",
   "execution_count": 37,
   "metadata": {},
   "outputs": [],
   "source": [
    "test_text_processed = text_parser(test_sample['atext'])"
   ]
  },
  {
   "cell_type": "code",
   "execution_count": 38,
   "metadata": {},
   "outputs": [],
   "source": [
    "test_title_processed = text_parser(test_sample['atitle'])"
   ]
  },
  {
   "cell_type": "code",
   "execution_count": 144,
   "metadata": {},
   "outputs": [],
   "source": [
    "from sklearn.preprocessing import normalize\n",
    "\n",
    "\n",
    "def result_vector(text):\n",
    "    result = np.zeros(300)\n",
    "    count = 0\n",
    "    for word in text:\n",
    "        if word in vocab:\n",
    "            result+=model.wv[word]\n",
    "            count+=1\n",
    "    if count == 0:\n",
    "        return None\n",
    "    #result = (result / count).reshape(1, -1)\n",
    "    result = normalize(result.reshape(1, -1))     \n",
    "    return result"
   ]
  },
  {
   "cell_type": "code",
   "execution_count": 136,
   "metadata": {},
   "outputs": [
    {
     "data": {
      "text/plain": [
       "array([1, 9, 4])"
      ]
     },
     "execution_count": 136,
     "metadata": {},
     "output_type": "execute_result"
    }
   ],
   "source": [
    "np.power([1, 3, 2], 2)"
   ]
  },
  {
   "cell_type": "code",
   "execution_count": 138,
   "metadata": {},
   "outputs": [
    {
     "data": {
      "text/plain": [
       "1.0"
      ]
     },
     "execution_count": 138,
     "metadata": {},
     "output_type": "execute_result"
    }
   ],
   "source": [
    "sum(np.power(result_vector(unique['atext'][0]), 2))"
   ]
  },
  {
   "cell_type": "code",
   "execution_count": 145,
   "metadata": {},
   "outputs": [],
   "source": [
    "ad_vectors = []\n",
    "for ad_text in test_text_processed:\n",
    "        vector = result_vector(ad_text)\n",
    "        if vector is not None:\n",
    "            ad_vectors.append(vector)\n",
    "        else:\n",
    "            ad_vectors.append('M')"
   ]
  },
  {
   "cell_type": "code",
   "execution_count": 146,
   "metadata": {},
   "outputs": [],
   "source": [
    "title_vectors = []\n",
    "for ad_title in test_title_processed:\n",
    "    vector = result_vector(ad_title)\n",
    "    if vector is not None:\n",
    "        title_vectors.append(vector)\n",
    "    else:\n",
    "        title_vectors.append('M')"
   ]
  },
  {
   "cell_type": "code",
   "execution_count": 147,
   "metadata": {},
   "outputs": [],
   "source": [
    "def cosine_calculator(vector_one, other_vectors):\n",
    "    cosines = []\n",
    "    for each in other_vectors:\n",
    "        if each != 'M':\n",
    "            sim_score = cosine_similarity(vector_one, each)\n",
    "            cosines.extend(sim_score) \n",
    "        else:\n",
    "            cosines.append('M')\n",
    "    return cosines"
   ]
  },
  {
   "cell_type": "code",
   "execution_count": 148,
   "metadata": {},
   "outputs": [],
   "source": [
    "def rank_checker(first_vector_set, other_vectors, smpl_df, number):\n",
    "    cosines_results = cosine_calculator(first_vector_set[number], other_vectors)\n",
    "    series = pd.Series(cosines_results, index =smpl_df.index)\n",
    "    \n",
    "    #cleaning the series for sorting, 'M' stands for missing, was added if no words in the text were found in w2v vocab\n",
    "    cleaned = series[series != 'M']\n",
    "    sorted_df = cleaned.sort_values(ascending=False)\n",
    "    sorted_index = sorted_df.index\n",
    "    \n",
    "    for rank, entry in enumerate(sorted_index):\n",
    "        if entry == smpl_df.index[number]:\n",
    "            return rank"
   ]
  },
  {
   "cell_type": "code",
   "execution_count": 149,
   "metadata": {},
   "outputs": [
    {
     "name": "stderr",
     "output_type": "stream",
     "text": [
      "/usr/local/lib/python3.6/site-packages/ipykernel_launcher.py:4: FutureWarning: elementwise comparison failed; returning scalar instead, but in the future will perform elementwise comparison\n",
      "  after removing the cwd from sys.path.\n",
      "/usr/local/lib/python3.6/site-packages/pandas/core/ops.py:1122: FutureWarning: elementwise comparison failed; returning scalar instead, but in the future will perform elementwise comparison\n",
      "  result = libops.scalar_compare(x, y, op)\n"
     ]
    }
   ],
   "source": [
    "ranks = []\n",
    "for row in range(len(test_sample)):\n",
    "    rank = rank_checker(ad_vectors, title_vectors, test_sample, row)\n",
    "    ranks.append(rank)"
   ]
  },
  {
   "cell_type": "code",
   "execution_count": 150,
   "metadata": {},
   "outputs": [
    {
     "data": {
      "image/png": "[encoded data removed]",
      "text/plain": [
       "<Figure size 720x360 with 1 Axes>"
      ]
     },
     "metadata": {
      "needs_background": "light"
     },
     "output_type": "display_data"
    }
   ],
   "source": [
    "plt.figure(figsize=(10, 5))\n",
    "plt.hist([rank for rank in ranks if rank is not None])\n",
    "plt.show()"
   ]
  },
  {
   "cell_type": "code",
   "execution_count": 151,
   "metadata": {},
   "outputs": [
    {
     "data": {
      "text/plain": [
       "24.209255533199194"
      ]
     },
     "execution_count": 151,
     "metadata": {},
     "output_type": "execute_result"
    }
   ],
   "source": [
    "#average rank\n",
    "sum([rank for rank in ranks if rank is not None])/ len([rank for rank in ranks if rank is not None])"
   ]
  },
  {
   "cell_type": "code",
   "execution_count": 47,
   "metadata": {},
   "outputs": [],
   "source": [
    "small = []\n",
    "for rank in ranks:\n",
    "    if rank is not None and rank <=10:\n",
    "        small.append(rank) "
   ]
  },
  {
   "cell_type": "code",
   "execution_count": 48,
   "metadata": {},
   "outputs": [
    {
     "data": {
      "text/plain": [
       "0.8903420523138833"
      ]
     },
     "execution_count": 48,
     "metadata": {},
     "output_type": "execute_result"
    }
   ],
   "source": [
    "# proportion ranked as \n",
    "len(small) / len([rank for rank in ranks if rank is not None])"
   ]
  },
  {
   "cell_type": "markdown",
   "metadata": {},
   "source": [
    "# Supervised Solution"
   ]
  },
  {
   "cell_type": "code",
   "execution_count": 189,
   "metadata": {},
   "outputs": [],
   "source": [
    "training_df = pd.DataFrame()\n",
    "training_df['text vectors'] = X_train_processed \n",
    "training_df['title vectors'] = y_train_processed "
   ]
  },
  {
   "cell_type": "code",
   "execution_count": 192,
   "metadata": {},
   "outputs": [],
   "source": [
    "X_test_processed= text_parser(X_test)"
   ]
  },
  {
   "cell_type": "code",
   "execution_count": 193,
   "metadata": {},
   "outputs": [],
   "source": [
    "y_test_processed= text_parser(y_test)"
   ]
  },
  {
   "cell_type": "code",
   "execution_count": 194,
   "metadata": {},
   "outputs": [],
   "source": [
    "test_df = pd.DataFrame()\n",
    "test_df['text vectors'] = X_test_processed\n",
    "test_df['title vectors'] = y_test_processed"
   ]
  },
  {
   "cell_type": "code",
   "execution_count": 195,
   "metadata": {},
   "outputs": [
    {
     "data": {
      "text/plain": [
       "(178077, 2)"
      ]
     },
     "execution_count": 195,
     "metadata": {},
     "output_type": "execute_result"
    }
   ],
   "source": [
    "training_df.shape"
   ]
  },
  {
   "cell_type": "code",
   "execution_count": 196,
   "metadata": {},
   "outputs": [
    {
     "data": {
      "text/plain": [
       "(76320, 2)"
      ]
     },
     "execution_count": 196,
     "metadata": {},
     "output_type": "execute_result"
    }
   ],
   "source": [
    "test_df.shape"
   ]
  },
  {
   "cell_type": "code",
   "execution_count": 205,
   "metadata": {},
   "outputs": [],
   "source": [
    "# vectorization of the ads text\n",
    "for row in range(len(training_df)):\n",
    "    vector = result_vector(training_df.iloc[row, 0])\n",
    "    if vector is not None:  \n",
    "        training_df.iloc[row, 0] = vector[0]\n",
    "    else:\n",
    "        training_df.iloc[row, 0] = 'M'"
   ]
  },
  {
   "cell_type": "code",
   "execution_count": 206,
   "metadata": {},
   "outputs": [],
   "source": [
    "# vectorization of the ads text\n",
    "for row in range(len(test_df)):\n",
    "    vector = result_vector(test_df.iloc[row, 0])\n",
    "    if vector is not None:  \n",
    "        test_df.iloc[row, 0] = vector[0]\n",
    "    else:\n",
    "        test_df.iloc[row, 0] = 'M'"
   ]
  },
  {
   "cell_type": "code",
   "execution_count": 207,
   "metadata": {},
   "outputs": [],
   "source": [
    "# vectorization of the ads title\n",
    "for row in range(len(training_df)):\n",
    "    vector = result_vector(training_df.iloc[row, 1])\n",
    "    if vector is not None:  \n",
    "        training_df.iloc[row, 1] = vector[0]\n",
    "    else:\n",
    "        training_df.iloc[row, 1] = 'M'"
   ]
  },
  {
   "cell_type": "code",
   "execution_count": 208,
   "metadata": {},
   "outputs": [],
   "source": [
    "# vectorization of the ads title\n",
    "for row in range(len(test_df)):\n",
    "    vector = result_vector(test_df.iloc[row, 1])\n",
    "    if vector is not None:  \n",
    "        test_df.iloc[row, 1] = vector[0]\n",
    "    else:\n",
    "        test_df.iloc[row, 1] = 'M'"
   ]
  },
  {
   "cell_type": "code",
   "execution_count": 209,
   "metadata": {},
   "outputs": [
    {
     "data": {
      "text/html": [
       "<div>\n",
       "<style scoped>\n",
       "    .dataframe tbody tr th:only-of-type {\n",
       "        vertical-align: middle;\n",
       "    }\n",
       "\n",
       "    .dataframe tbody tr th {\n",
       "        vertical-align: top;\n",
       "    }\n",
       "\n",
       "    .dataframe thead th {\n",
       "        text-align: right;\n",
       "    }\n",
       "</style>\n",
       "<table border=\"1\" class=\"dataframe\">\n",
       "  <thead>\n",
       "    <tr style=\"text-align: right;\">\n",
       "      <th></th>\n",
       "      <th>text vectors</th>\n",
       "      <th>title vectors</th>\n",
       "    </tr>\n",
       "  </thead>\n",
       "  <tbody>\n",
       "    <tr>\n",
       "      <th>538293</th>\n",
       "      <td>[0.025280893017688714, 0.023379835297242114, -...</td>\n",
       "      <td>[0.03761335470808444, 0.036318673142796895, -0...</td>\n",
       "    </tr>\n",
       "    <tr>\n",
       "      <th>109045</th>\n",
       "      <td>[-0.01994826339063019, 0.08036307945496708, 0....</td>\n",
       "      <td>[-0.012473140246354864, 0.016946764698182137, ...</td>\n",
       "    </tr>\n",
       "    <tr>\n",
       "      <th>270496</th>\n",
       "      <td>[0.011093046484738729, 0.0741589541464377, -0....</td>\n",
       "      <td>[-0.0032796945070777957, 0.02963148260023818, ...</td>\n",
       "    </tr>\n",
       "    <tr>\n",
       "      <th>698055</th>\n",
       "      <td>[0.03191318108101999, 0.14195450896407855, -0....</td>\n",
       "      <td>[-0.06685937991765172, 0.1698023934733745, -0....</td>\n",
       "    </tr>\n",
       "    <tr>\n",
       "      <th>170546</th>\n",
       "      <td>[0.02680304303291408, 0.06821114145321708, 0.1...</td>\n",
       "      <td>[-0.005712896858679875, 0.021568166657080806, ...</td>\n",
       "    </tr>\n",
       "  </tbody>\n",
       "</table>\n",
       "</div>"
      ],
      "text/plain": [
       "                                             text vectors  \\\n",
       "538293  [0.025280893017688714, 0.023379835297242114, -...   \n",
       "109045  [-0.01994826339063019, 0.08036307945496708, 0....   \n",
       "270496  [0.011093046484738729, 0.0741589541464377, -0....   \n",
       "698055  [0.03191318108101999, 0.14195450896407855, -0....   \n",
       "170546  [0.02680304303291408, 0.06821114145321708, 0.1...   \n",
       "\n",
       "                                            title vectors  \n",
       "538293  [0.03761335470808444, 0.036318673142796895, -0...  \n",
       "109045  [-0.012473140246354864, 0.016946764698182137, ...  \n",
       "270496  [-0.0032796945070777957, 0.02963148260023818, ...  \n",
       "698055  [-0.06685937991765172, 0.1698023934733745, -0....  \n",
       "170546  [-0.005712896858679875, 0.021568166657080806, ...  "
      ]
     },
     "execution_count": 209,
     "metadata": {},
     "output_type": "execute_result"
    }
   ],
   "source": [
    "training_df.head()"
   ]
  },
  {
   "cell_type": "code",
   "execution_count": 211,
   "metadata": {},
   "outputs": [
    {
     "data": {
      "text/plain": [
       "300"
      ]
     },
     "execution_count": 211,
     "metadata": {},
     "output_type": "execute_result"
    }
   ],
   "source": [
    "len(test_df.iloc[0, 0])"
   ]
  },
  {
   "cell_type": "code",
   "execution_count": 212,
   "metadata": {},
   "outputs": [
    {
     "data": {
      "text/plain": [
       "300"
      ]
     },
     "execution_count": 212,
     "metadata": {},
     "output_type": "execute_result"
    }
   ],
   "source": [
    "len(training_df.iloc[0, 0])"
   ]
  },
  {
   "cell_type": "code",
   "execution_count": 213,
   "metadata": {},
   "outputs": [
    {
     "name": "stderr",
     "output_type": "stream",
     "text": [
      "/usr/local/lib/python3.6/site-packages/pandas/core/ops.py:1122: FutureWarning: elementwise comparison failed; returning scalar instead, but in the future will perform elementwise comparison\n",
      "  result = libops.scalar_compare(x, y, op)\n"
     ]
    }
   ],
   "source": [
    "# remove vectors with that are comprised exclusively of the words that are missing from our vocabulary\n",
    "\n",
    "training_df= training_df[training_df['text vectors'] != 'M']\n",
    "training_df = training_df[training_df['title vectors'] != 'M']\n",
    "\n",
    "test_df= test_df[test_df['text vectors'] != 'M']\n",
    "test_df = test_df[test_df['title vectors'] != 'M']"
   ]
  },
  {
   "cell_type": "code",
   "execution_count": 330,
   "metadata": {},
   "outputs": [],
   "source": [
    "def mixed_df_creator(df):\n",
    "    \n",
    "    df_copy = df.copy()\n",
    "    df_copy = df.reset_index(drop=True)\n",
    "    \n",
    "    first_half = df_copy.iloc[:int(len(df_copy)/2)]\n",
    "    second_half = df_copy.iloc[int(len(df_copy)/2):]\n",
    "    \n",
    "    shuffled_titles = shuffle(second_half['title vectors'])\n",
    "    shuffled_titles = shuffled_titles.reset_index(drop=True)\n",
    "    \n",
    "    second_half = second_half.reset_index(drop=True)\n",
    "    second_half['title vectors'] = shuffled_titles\n",
    "    \n",
    "    first_half['pair class'] = 1\n",
    "    second_half['pair class'] = 0\n",
    "    \n",
    "    concat_result = pd.concat([first_half, second_half], axis=0, ignore_index = True)\n",
    "    \n",
    "    return concat_result"
   ]
  },
  {
   "cell_type": "code",
   "execution_count": 331,
   "metadata": {},
   "outputs": [
    {
     "name": "stderr",
     "output_type": "stream",
     "text": [
      "/usr/local/lib/python3.6/site-packages/ipykernel_launcher.py:15: SettingWithCopyWarning: \n",
      "A value is trying to be set on a copy of a slice from a DataFrame.\n",
      "Try using .loc[row_indexer,col_indexer] = value instead\n",
      "\n",
      "See the caveats in the documentation: http://pandas.pydata.org/pandas-docs/stable/indexing.html#indexing-view-versus-copy\n",
      "  from ipykernel import kernelapp as app\n"
     ]
    }
   ],
   "source": [
    "training_df_mixed = mixed_df_creator(training_df)"
   ]
  },
  {
   "cell_type": "code",
   "execution_count": 337,
   "metadata": {},
   "outputs": [
    {
     "data": {
      "text/html": [
       "<div>\n",
       "<style scoped>\n",
       "    .dataframe tbody tr th:only-of-type {\n",
       "        vertical-align: middle;\n",
       "    }\n",
       "\n",
       "    .dataframe tbody tr th {\n",
       "        vertical-align: top;\n",
       "    }\n",
       "\n",
       "    .dataframe thead th {\n",
       "        text-align: right;\n",
       "    }\n",
       "</style>\n",
       "<table border=\"1\" class=\"dataframe\">\n",
       "  <thead>\n",
       "    <tr style=\"text-align: right;\">\n",
       "      <th></th>\n",
       "      <th>text vectors</th>\n",
       "      <th>title vectors</th>\n",
       "      <th>pair class</th>\n",
       "    </tr>\n",
       "  </thead>\n",
       "  <tbody>\n",
       "    <tr>\n",
       "      <th>0</th>\n",
       "      <td>[0.025280893017688714, 0.023379835297242114, -...</td>\n",
       "      <td>[0.03761335470808444, 0.036318673142796895, -0...</td>\n",
       "      <td>1</td>\n",
       "    </tr>\n",
       "    <tr>\n",
       "      <th>1</th>\n",
       "      <td>[-0.01994826339063019, 0.08036307945496708, 0....</td>\n",
       "      <td>[-0.012473140246354864, 0.016946764698182137, ...</td>\n",
       "      <td>1</td>\n",
       "    </tr>\n",
       "    <tr>\n",
       "      <th>2</th>\n",
       "      <td>[0.011093046484738729, 0.0741589541464377, -0....</td>\n",
       "      <td>[-0.0032796945070777957, 0.02963148260023818, ...</td>\n",
       "      <td>1</td>\n",
       "    </tr>\n",
       "    <tr>\n",
       "      <th>3</th>\n",
       "      <td>[0.03191318108101999, 0.14195450896407855, -0....</td>\n",
       "      <td>[-0.06685937991765172, 0.1698023934733745, -0....</td>\n",
       "      <td>1</td>\n",
       "    </tr>\n",
       "    <tr>\n",
       "      <th>4</th>\n",
       "      <td>[0.02680304303291408, 0.06821114145321708, 0.1...</td>\n",
       "      <td>[-0.005712896858679875, 0.021568166657080806, ...</td>\n",
       "      <td>1</td>\n",
       "    </tr>\n",
       "  </tbody>\n",
       "</table>\n",
       "</div>"
      ],
      "text/plain": [
       "                                        text vectors  \\\n",
       "0  [0.025280893017688714, 0.023379835297242114, -...   \n",
       "1  [-0.01994826339063019, 0.08036307945496708, 0....   \n",
       "2  [0.011093046484738729, 0.0741589541464377, -0....   \n",
       "3  [0.03191318108101999, 0.14195450896407855, -0....   \n",
       "4  [0.02680304303291408, 0.06821114145321708, 0.1...   \n",
       "\n",
       "                                       title vectors  pair class  \n",
       "0  [0.03761335470808444, 0.036318673142796895, -0...           1  \n",
       "1  [-0.012473140246354864, 0.016946764698182137, ...           1  \n",
       "2  [-0.0032796945070777957, 0.02963148260023818, ...           1  \n",
       "3  [-0.06685937991765172, 0.1698023934733745, -0....           1  \n",
       "4  [-0.005712896858679875, 0.021568166657080806, ...           1  "
      ]
     },
     "execution_count": 337,
     "metadata": {},
     "output_type": "execute_result"
    }
   ],
   "source": [
    "training_df_mixed.head()"
   ]
  },
  {
   "cell_type": "code",
   "execution_count": 338,
   "metadata": {},
   "outputs": [
    {
     "data": {
      "text/html": [
       "<div>\n",
       "<style scoped>\n",
       "    .dataframe tbody tr th:only-of-type {\n",
       "        vertical-align: middle;\n",
       "    }\n",
       "\n",
       "    .dataframe tbody tr th {\n",
       "        vertical-align: top;\n",
       "    }\n",
       "\n",
       "    .dataframe thead th {\n",
       "        text-align: right;\n",
       "    }\n",
       "</style>\n",
       "<table border=\"1\" class=\"dataframe\">\n",
       "  <thead>\n",
       "    <tr style=\"text-align: right;\">\n",
       "      <th></th>\n",
       "      <th>text vectors</th>\n",
       "      <th>title vectors</th>\n",
       "      <th>pair class</th>\n",
       "    </tr>\n",
       "  </thead>\n",
       "  <tbody>\n",
       "    <tr>\n",
       "      <th>177180</th>\n",
       "      <td>[0.004744647318839373, 0.08264011759448525, 0....</td>\n",
       "      <td>[0.09838836674771376, 0.05920620102100111, 0.0...</td>\n",
       "      <td>0</td>\n",
       "    </tr>\n",
       "    <tr>\n",
       "      <th>177181</th>\n",
       "      <td>[-0.04871379291002143, 0.11055756048508947, 0....</td>\n",
       "      <td>[0.0007125601129498924, 0.1375821871967649, 0....</td>\n",
       "      <td>0</td>\n",
       "    </tr>\n",
       "    <tr>\n",
       "      <th>177182</th>\n",
       "      <td>[0.06515243589872181, 0.13891534343771342, 0.0...</td>\n",
       "      <td>[0.10859313739423246, 0.12454978660229182, 0.0...</td>\n",
       "      <td>0</td>\n",
       "    </tr>\n",
       "    <tr>\n",
       "      <th>177183</th>\n",
       "      <td>[-0.01987678013611898, 0.11034278590747913, -0...</td>\n",
       "      <td>[0.0033397121949935733, 0.010076225954675253, ...</td>\n",
       "      <td>0</td>\n",
       "    </tr>\n",
       "    <tr>\n",
       "      <th>177184</th>\n",
       "      <td>[0.046849629594876596, 0.08189101589479017, 0....</td>\n",
       "      <td>[0.02786758167468277, 0.14285421610664228, 0.0...</td>\n",
       "      <td>0</td>\n",
       "    </tr>\n",
       "  </tbody>\n",
       "</table>\n",
       "</div>"
      ],
      "text/plain": [
       "                                             text vectors  \\\n",
       "177180  [0.004744647318839373, 0.08264011759448525, 0....   \n",
       "177181  [-0.04871379291002143, 0.11055756048508947, 0....   \n",
       "177182  [0.06515243589872181, 0.13891534343771342, 0.0...   \n",
       "177183  [-0.01987678013611898, 0.11034278590747913, -0...   \n",
       "177184  [0.046849629594876596, 0.08189101589479017, 0....   \n",
       "\n",
       "                                            title vectors  pair class  \n",
       "177180  [0.09838836674771376, 0.05920620102100111, 0.0...           0  \n",
       "177181  [0.0007125601129498924, 0.1375821871967649, 0....           0  \n",
       "177182  [0.10859313739423246, 0.12454978660229182, 0.0...           0  \n",
       "177183  [0.0033397121949935733, 0.010076225954675253, ...           0  \n",
       "177184  [0.02786758167468277, 0.14285421610664228, 0.0...           0  "
      ]
     },
     "execution_count": 338,
     "metadata": {},
     "output_type": "execute_result"
    }
   ],
   "source": [
    "training_df_mixed.tail()"
   ]
  },
  {
   "cell_type": "code",
   "execution_count": 332,
   "metadata": {},
   "outputs": [
    {
     "name": "stderr",
     "output_type": "stream",
     "text": [
      "/usr/local/lib/python3.6/site-packages/ipykernel_launcher.py:15: SettingWithCopyWarning: \n",
      "A value is trying to be set on a copy of a slice from a DataFrame.\n",
      "Try using .loc[row_indexer,col_indexer] = value instead\n",
      "\n",
      "See the caveats in the documentation: http://pandas.pydata.org/pandas-docs/stable/indexing.html#indexing-view-versus-copy\n",
      "  from ipykernel import kernelapp as app\n"
     ]
    }
   ],
   "source": [
    "test_df_mixed = mixed_df_creator(test_df)"
   ]
  },
  {
   "cell_type": "code",
   "execution_count": 336,
   "metadata": {},
   "outputs": [
    {
     "data": {
      "text/plain": [
       "text vectors     0\n",
       "title vectors    0\n",
       "pair class       0\n",
       "dtype: int64"
      ]
     },
     "execution_count": 336,
     "metadata": {},
     "output_type": "execute_result"
    }
   ],
   "source": [
    "training_df_mixed.isnull().sum()"
   ]
  },
  {
   "cell_type": "code",
   "execution_count": 335,
   "metadata": {},
   "outputs": [
    {
     "data": {
      "text/plain": [
       "text vectors     0\n",
       "title vectors    0\n",
       "pair class       0\n",
       "dtype: int64"
      ]
     },
     "execution_count": 335,
     "metadata": {},
     "output_type": "execute_result"
    }
   ],
   "source": [
    "test_df_mixed.isnull().sum()"
   ]
  },
  {
   "cell_type": "markdown",
   "metadata": {},
   "source": [
    "test_example = [cosine_similarity(row['text vectors'].reshape(1, -1), row['title vectors'].reshape(1, -1)) for index, row in incorrect_training[['text vectors', 'title vectors']].iloc[:int(len(training_df) / 2)].iterrows()]"
   ]
  },
  {
   "cell_type": "code",
   "execution_count": 339,
   "metadata": {},
   "outputs": [],
   "source": [
    "def cosine_between_rows(row):\n",
    "    sim = cosine_similarity(row['text vectors'].reshape(1, -1), row['title vectors'].reshape(1, -1))\n",
    "    return sim"
   ]
  },
  {
   "cell_type": "code",
   "execution_count": 340,
   "metadata": {},
   "outputs": [],
   "source": [
    "first_half_test = test_df_mixed.iloc[:int(len(test_df_mixed) / 2)]\n",
    "cos_checker_test_correct = first_half_test.apply(cosine_between_rows, axis = 1)"
   ]
  },
  {
   "cell_type": "code",
   "execution_count": 341,
   "metadata": {},
   "outputs": [
    {
     "data": {
      "text/plain": [
       "array([[0.74910414]])"
      ]
     },
     "execution_count": 341,
     "metadata": {},
     "output_type": "execute_result"
    }
   ],
   "source": [
    "np.mean(cos_checker_test_correct)"
   ]
  },
  {
   "cell_type": "code",
   "execution_count": 342,
   "metadata": {},
   "outputs": [],
   "source": [
    "second_half_test = test_df_mixed.iloc[int(len(test_df_mixed) / 2):]\n",
    "cos_checker_test_incorrect = second_half_test.apply(cosine_between_rows, axis = 1)"
   ]
  },
  {
   "cell_type": "code",
   "execution_count": 343,
   "metadata": {},
   "outputs": [
    {
     "data": {
      "text/plain": [
       "array([[0.23301563]])"
      ]
     },
     "execution_count": 343,
     "metadata": {},
     "output_type": "execute_result"
    }
   ],
   "source": [
    "np.mean(cos_checker_test_incorrect)"
   ]
  },
  {
   "cell_type": "code",
   "execution_count": 345,
   "metadata": {},
   "outputs": [],
   "source": [
    "first_half_training = training_df_mixed.iloc[:int(len(training_df_mixed) / 2)]\n",
    "cos_checker_training_correct = first_half_training.apply(cosine_between_rows, axis = 1)"
   ]
  },
  {
   "cell_type": "code",
   "execution_count": 346,
   "metadata": {},
   "outputs": [
    {
     "data": {
      "text/plain": [
       "array([[0.75797064]])"
      ]
     },
     "execution_count": 346,
     "metadata": {},
     "output_type": "execute_result"
    }
   ],
   "source": [
    "np.mean(cos_checker_training_correct)"
   ]
  },
  {
   "cell_type": "code",
   "execution_count": 347,
   "metadata": {},
   "outputs": [],
   "source": [
    "second_half_training = training_df_mixed.iloc[int(len(training_df_mixed) / 2):]\n",
    "cos_checker_training_incorrect = second_half_training.apply(cosine_between_rows, axis = 1)"
   ]
  },
  {
   "cell_type": "code",
   "execution_count": 348,
   "metadata": {},
   "outputs": [
    {
     "data": {
      "text/plain": [
       "array([[0.22930394]])"
      ]
     },
     "execution_count": 348,
     "metadata": {},
     "output_type": "execute_result"
    }
   ],
   "source": [
    "np.mean(cos_checker_training_incorrect)"
   ]
  },
  {
   "cell_type": "code",
   "execution_count": 349,
   "metadata": {},
   "outputs": [],
   "source": [
    "# for the training set\n",
    "lists_training = training_df_mixed['text vectors'].apply(list) + training_df_mixed['title vectors'].apply(list)"
   ]
  },
  {
   "cell_type": "code",
   "execution_count": 350,
   "metadata": {},
   "outputs": [],
   "source": [
    "lists_test = test_df_mixed['text vectors'].apply(list) + test_df_mixed['title vectors'].apply(list)"
   ]
  },
  {
   "cell_type": "code",
   "execution_count": 351,
   "metadata": {},
   "outputs": [
    {
     "data": {
      "text/plain": [
       "600"
      ]
     },
     "execution_count": 351,
     "metadata": {},
     "output_type": "execute_result"
    }
   ],
   "source": [
    "len(lists_training.iloc[0])"
   ]
  },
  {
   "cell_type": "code",
   "execution_count": 352,
   "metadata": {},
   "outputs": [
    {
     "data": {
      "text/plain": [
       "600"
      ]
     },
     "execution_count": 352,
     "metadata": {},
     "output_type": "execute_result"
    }
   ],
   "source": [
    "len(lists_test.iloc[0])"
   ]
  },
  {
   "cell_type": "code",
   "execution_count": 353,
   "metadata": {},
   "outputs": [
    {
     "data": {
      "text/plain": [
       "pandas.core.series.Series"
      ]
     },
     "execution_count": 353,
     "metadata": {},
     "output_type": "execute_result"
    }
   ],
   "source": [
    "type(lists_training)"
   ]
  },
  {
   "cell_type": "code",
   "execution_count": 354,
   "metadata": {},
   "outputs": [],
   "source": [
    "new_y_training = training_df_mixed['pair class']"
   ]
  },
  {
   "cell_type": "code",
   "execution_count": 355,
   "metadata": {},
   "outputs": [],
   "source": [
    "new_y_test = test_df_mixed['pair class']"
   ]
  },
  {
   "cell_type": "code",
   "execution_count": 356,
   "metadata": {},
   "outputs": [],
   "source": [
    "concat_vectors_training = np.array(list(lists_training))"
   ]
  },
  {
   "cell_type": "code",
   "execution_count": 357,
   "metadata": {},
   "outputs": [],
   "source": [
    "concat_vectors_test = np.array(list(lists_test))"
   ]
  },
  {
   "cell_type": "code",
   "execution_count": 358,
   "metadata": {},
   "outputs": [
    {
     "data": {
      "text/plain": [
       "(177185, 600)"
      ]
     },
     "execution_count": 358,
     "metadata": {},
     "output_type": "execute_result"
    }
   ],
   "source": [
    "concat_vectors_training.shape"
   ]
  },
  {
   "cell_type": "code",
   "execution_count": 359,
   "metadata": {},
   "outputs": [
    {
     "data": {
      "text/plain": [
       "(75803, 600)"
      ]
     },
     "execution_count": 359,
     "metadata": {},
     "output_type": "execute_result"
    }
   ],
   "source": [
    "concat_vectors_test.shape"
   ]
  },
  {
   "cell_type": "code",
   "execution_count": 360,
   "metadata": {},
   "outputs": [],
   "source": [
    "rfc  =  RandomForestClassifier(\n",
    "          n_jobs = -1, \n",
    "          n_estimators = 700, \n",
    "          max_depth = 6)\n"
   ]
  },
  {
   "cell_type": "code",
   "execution_count": 361,
   "metadata": {},
   "outputs": [
    {
     "data": {
      "text/plain": [
       "RandomForestClassifier(bootstrap=True, class_weight=None, criterion='gini',\n",
       "            max_depth=6, max_features='auto', max_leaf_nodes=None,\n",
       "            min_impurity_decrease=0.0, min_impurity_split=None,\n",
       "            min_samples_leaf=1, min_samples_split=2,\n",
       "            min_weight_fraction_leaf=0.0, n_estimators=700, n_jobs=-1,\n",
       "            oob_score=False, random_state=None, verbose=0,\n",
       "            warm_start=False)"
      ]
     },
     "execution_count": 361,
     "metadata": {},
     "output_type": "execute_result"
    }
   ],
   "source": [
    "rfc.fit(concat_vectors_training, new_y_training)"
   ]
  },
  {
   "cell_type": "code",
   "execution_count": 362,
   "metadata": {},
   "outputs": [
    {
     "data": {
      "text/plain": [
       "0.9258910178626859"
      ]
     },
     "execution_count": 362,
     "metadata": {},
     "output_type": "execute_result"
    }
   ],
   "source": [
    "rfc.score(concat_vectors_training, new_y_training)"
   ]
  },
  {
   "cell_type": "code",
   "execution_count": 363,
   "metadata": {},
   "outputs": [
    {
     "data": {
      "text/plain": [
       "0.9107159347255386"
      ]
     },
     "execution_count": 363,
     "metadata": {},
     "output_type": "execute_result"
    }
   ],
   "source": [
    "rfc.score(concat_vectors_test, new_y_test)"
   ]
  },
  {
   "cell_type": "code",
   "execution_count": 372,
   "metadata": {},
   "outputs": [],
   "source": [
    "rfc_one  =  RandomForestClassifier(\n",
    "          n_jobs = -1, \n",
    "          n_estimators = 900, \n",
    "          max_depth = 6)"
   ]
  },
  {
   "cell_type": "code",
   "execution_count": 373,
   "metadata": {},
   "outputs": [
    {
     "data": {
      "text/plain": [
       "RandomForestClassifier(bootstrap=True, class_weight=None, criterion='gini',\n",
       "            max_depth=6, max_features='auto', max_leaf_nodes=None,\n",
       "            min_impurity_decrease=0.0, min_impurity_split=None,\n",
       "            min_samples_leaf=1, min_samples_split=2,\n",
       "            min_weight_fraction_leaf=0.0, n_estimators=900, n_jobs=-1,\n",
       "            oob_score=False, random_state=None, verbose=0,\n",
       "            warm_start=False)"
      ]
     },
     "execution_count": 373,
     "metadata": {},
     "output_type": "execute_result"
    }
   ],
   "source": [
    "rfc_one.fit(concat_vectors_training, new_y_training)"
   ]
  },
  {
   "cell_type": "code",
   "execution_count": 374,
   "metadata": {},
   "outputs": [
    {
     "data": {
      "text/plain": [
       "0.927307616333211"
      ]
     },
     "execution_count": 374,
     "metadata": {},
     "output_type": "execute_result"
    }
   ],
   "source": [
    "rfc_one.score(concat_vectors_training, new_y_training)"
   ]
  },
  {
   "cell_type": "code",
   "execution_count": 375,
   "metadata": {},
   "outputs": [
    {
     "data": {
      "text/plain": [
       "0.9119032228275926"
      ]
     },
     "execution_count": 375,
     "metadata": {},
     "output_type": "execute_result"
    }
   ],
   "source": [
    "rfc_one.score(concat_vectors_test, new_y_test)"
   ]
  },
  {
   "cell_type": "code",
   "execution_count": 370,
   "metadata": {},
   "outputs": [],
   "source": [
    "from xgboost import XGBClassifier\n",
    "\n",
    "xgb = XGBClassifier(n_jobs = -1,\n",
    "                   n_estimators = 500,\n",
    "                   max_depth = 4)"
   ]
  },
  {
   "cell_type": "code",
   "execution_count": 371,
   "metadata": {},
   "outputs": [
    {
     "ename": "KeyboardInterrupt",
     "evalue": "",
     "output_type": "error",
     "traceback": [
      "\u001b[0;31m---------------------------------------------------------------------------\u001b[0m",
      "\u001b[0;31mKeyboardInterrupt\u001b[0m                         Traceback (most recent call last)",
      "\u001b[0;32m<ipython-input-371-daceea22e349>\u001b[0m in \u001b[0;36m<module>\u001b[0;34m()\u001b[0m\n\u001b[0;32m----> 1\u001b[0;31m \u001b[0mxgb\u001b[0m\u001b[0;34m.\u001b[0m\u001b[0mfit\u001b[0m\u001b[0;34m(\u001b[0m\u001b[0mconcat_vectors_training\u001b[0m\u001b[0;34m,\u001b[0m \u001b[0mnew_y_training\u001b[0m\u001b[0;34m)\u001b[0m\u001b[0;34m\u001b[0m\u001b[0m\n\u001b[0m",
      "\u001b[0;32m/usr/local/lib/python3.6/site-packages/xgboost/sklearn.py\u001b[0m in \u001b[0;36mfit\u001b[0;34m(self, X, y, sample_weight, eval_set, eval_metric, early_stopping_rounds, verbose, xgb_model, sample_weight_eval_set)\u001b[0m\n\u001b[1;32m    545\u001b[0m                               \u001b[0mearly_stopping_rounds\u001b[0m\u001b[0;34m=\u001b[0m\u001b[0mearly_stopping_rounds\u001b[0m\u001b[0;34m,\u001b[0m\u001b[0;34m\u001b[0m\u001b[0m\n\u001b[1;32m    546\u001b[0m                               \u001b[0mevals_result\u001b[0m\u001b[0;34m=\u001b[0m\u001b[0mevals_result\u001b[0m\u001b[0;34m,\u001b[0m \u001b[0mobj\u001b[0m\u001b[0;34m=\u001b[0m\u001b[0mobj\u001b[0m\u001b[0;34m,\u001b[0m \u001b[0mfeval\u001b[0m\u001b[0;34m=\u001b[0m\u001b[0mfeval\u001b[0m\u001b[0;34m,\u001b[0m\u001b[0;34m\u001b[0m\u001b[0m\n\u001b[0;32m--> 547\u001b[0;31m                               verbose_eval=verbose, xgb_model=None)\n\u001b[0m\u001b[1;32m    548\u001b[0m \u001b[0;34m\u001b[0m\u001b[0m\n\u001b[1;32m    549\u001b[0m         \u001b[0mself\u001b[0m\u001b[0;34m.\u001b[0m\u001b[0mobjective\u001b[0m \u001b[0;34m=\u001b[0m \u001b[0mxgb_options\u001b[0m\u001b[0;34m[\u001b[0m\u001b[0;34m\"objective\"\u001b[0m\u001b[0;34m]\u001b[0m\u001b[0;34m\u001b[0m\u001b[0m\n",
      "\u001b[0;32m/usr/local/lib/python3.6/site-packages/xgboost/training.py\u001b[0m in \u001b[0;36mtrain\u001b[0;34m(params, dtrain, num_boost_round, evals, obj, feval, maximize, early_stopping_rounds, evals_result, verbose_eval, xgb_model, callbacks, learning_rates)\u001b[0m\n\u001b[1;32m    202\u001b[0m                            \u001b[0mevals\u001b[0m\u001b[0;34m=\u001b[0m\u001b[0mevals\u001b[0m\u001b[0;34m,\u001b[0m\u001b[0;34m\u001b[0m\u001b[0m\n\u001b[1;32m    203\u001b[0m                            \u001b[0mobj\u001b[0m\u001b[0;34m=\u001b[0m\u001b[0mobj\u001b[0m\u001b[0;34m,\u001b[0m \u001b[0mfeval\u001b[0m\u001b[0;34m=\u001b[0m\u001b[0mfeval\u001b[0m\u001b[0;34m,\u001b[0m\u001b[0;34m\u001b[0m\u001b[0m\n\u001b[0;32m--> 204\u001b[0;31m                            xgb_model=xgb_model, callbacks=callbacks)\n\u001b[0m\u001b[1;32m    205\u001b[0m \u001b[0;34m\u001b[0m\u001b[0m\n\u001b[1;32m    206\u001b[0m \u001b[0;34m\u001b[0m\u001b[0m\n",
      "\u001b[0;32m/usr/local/lib/python3.6/site-packages/xgboost/training.py\u001b[0m in \u001b[0;36m_train_internal\u001b[0;34m(params, dtrain, num_boost_round, evals, obj, feval, xgb_model, callbacks)\u001b[0m\n\u001b[1;32m     72\u001b[0m         \u001b[0;31m# Skip the first update if it is a recovery step.\u001b[0m\u001b[0;34m\u001b[0m\u001b[0;34m\u001b[0m\u001b[0m\n\u001b[1;32m     73\u001b[0m         \u001b[0;32mif\u001b[0m \u001b[0mversion\u001b[0m \u001b[0;34m%\u001b[0m \u001b[0;36m2\u001b[0m \u001b[0;34m==\u001b[0m \u001b[0;36m0\u001b[0m\u001b[0;34m:\u001b[0m\u001b[0;34m\u001b[0m\u001b[0m\n\u001b[0;32m---> 74\u001b[0;31m             \u001b[0mbst\u001b[0m\u001b[0;34m.\u001b[0m\u001b[0mupdate\u001b[0m\u001b[0;34m(\u001b[0m\u001b[0mdtrain\u001b[0m\u001b[0;34m,\u001b[0m \u001b[0mi\u001b[0m\u001b[0;34m,\u001b[0m \u001b[0mobj\u001b[0m\u001b[0;34m)\u001b[0m\u001b[0;34m\u001b[0m\u001b[0m\n\u001b[0m\u001b[1;32m     75\u001b[0m             \u001b[0mbst\u001b[0m\u001b[0;34m.\u001b[0m\u001b[0msave_rabit_checkpoint\u001b[0m\u001b[0;34m(\u001b[0m\u001b[0;34m)\u001b[0m\u001b[0;34m\u001b[0m\u001b[0m\n\u001b[1;32m     76\u001b[0m             \u001b[0mversion\u001b[0m \u001b[0;34m+=\u001b[0m \u001b[0;36m1\u001b[0m\u001b[0;34m\u001b[0m\u001b[0m\n",
      "\u001b[0;32m/usr/local/lib/python3.6/site-packages/xgboost/core.py\u001b[0m in \u001b[0;36mupdate\u001b[0;34m(self, dtrain, iteration, fobj)\u001b[0m\n\u001b[1;32m   1019\u001b[0m         \u001b[0;32mif\u001b[0m \u001b[0mfobj\u001b[0m \u001b[0;32mis\u001b[0m \u001b[0;32mNone\u001b[0m\u001b[0;34m:\u001b[0m\u001b[0;34m\u001b[0m\u001b[0m\n\u001b[1;32m   1020\u001b[0m             _check_call(_LIB.XGBoosterUpdateOneIter(self.handle, ctypes.c_int(iteration),\n\u001b[0;32m-> 1021\u001b[0;31m                                                     dtrain.handle))\n\u001b[0m\u001b[1;32m   1022\u001b[0m         \u001b[0;32melse\u001b[0m\u001b[0;34m:\u001b[0m\u001b[0;34m\u001b[0m\u001b[0m\n\u001b[1;32m   1023\u001b[0m             \u001b[0mpred\u001b[0m \u001b[0;34m=\u001b[0m \u001b[0mself\u001b[0m\u001b[0;34m.\u001b[0m\u001b[0mpredict\u001b[0m\u001b[0;34m(\u001b[0m\u001b[0mdtrain\u001b[0m\u001b[0;34m)\u001b[0m\u001b[0;34m\u001b[0m\u001b[0m\n",
      "\u001b[0;31mKeyboardInterrupt\u001b[0m: "
     ]
    }
   ],
   "source": [
    "xgb.fit(concat_vectors_training, new_y_training)"
   ]
  },
  {
   "cell_type": "code",
   "execution_count": null,
   "metadata": {},
   "outputs": [],
   "source": [
    "xgb.score(concat_vectors_training, new_y_training)"
   ]
  },
  {
   "cell_type": "code",
   "execution_count": null,
   "metadata": {},
   "outputs": [],
   "source": [
    "xgb.score(concat_vectors_test, new_y_test)"
   ]
  },
  {
   "cell_type": "code",
   "execution_count": 364,
   "metadata": {},
   "outputs": [],
   "source": [
    "from sklearn.linear_model import LogisticRegression\n",
    "\n",
    "lr= LogisticRegression(C=1000)"
   ]
  },
  {
   "cell_type": "code",
   "execution_count": 365,
   "metadata": {},
   "outputs": [
    {
     "data": {
      "text/plain": [
       "LogisticRegression(C=1000, class_weight=None, dual=False, fit_intercept=True,\n",
       "          intercept_scaling=1, max_iter=100, multi_class='ovr', n_jobs=1,\n",
       "          penalty='l2', random_state=None, solver='liblinear', tol=0.0001,\n",
       "          verbose=0, warm_start=False)"
      ]
     },
     "execution_count": 365,
     "metadata": {},
     "output_type": "execute_result"
    }
   ],
   "source": [
    "lr.fit(concat_vectors_training, new_y_training)"
   ]
  },
  {
   "cell_type": "code",
   "execution_count": 366,
   "metadata": {},
   "outputs": [
    {
     "data": {
      "text/plain": [
       "0.5219459886559246"
      ]
     },
     "execution_count": 366,
     "metadata": {},
     "output_type": "execute_result"
    }
   ],
   "source": [
    "lr.score(concat_vectors_training, new_y_training)"
   ]
  },
  {
   "cell_type": "code",
   "execution_count": 367,
   "metadata": {},
   "outputs": [
    {
     "data": {
      "text/plain": [
       "0.4968800707096025"
      ]
     },
     "execution_count": 367,
     "metadata": {},
     "output_type": "execute_result"
    }
   ],
   "source": [
    "lr.score(concat_vectors_test, new_y_test)"
   ]
  },
  {
   "cell_type": "code",
   "execution_count": 93,
   "metadata": {},
   "outputs": [
    {
     "data": {
      "text/plain": [
       "LogisticRegression(C=1000, class_weight=None, dual=False, fit_intercept=True,\n",
       "          intercept_scaling=1, max_iter=100, multi_class='ovr', n_jobs=1,\n",
       "          penalty='l1', random_state=None, solver='liblinear', tol=0.0001,\n",
       "          verbose=0, warm_start=False)"
      ]
     },
     "execution_count": 93,
     "metadata": {},
     "output_type": "execute_result"
    }
   ],
   "source": [
    "lasso = LogisticRegression(C=1000, penalty = 'l1')\n",
    "lasso.fit(concat_vectors_training, new_y_training)"
   ]
  },
  {
   "cell_type": "code",
   "execution_count": 94,
   "metadata": {},
   "outputs": [
    {
     "data": {
      "text/plain": [
       "0.5218669751954172"
      ]
     },
     "execution_count": 94,
     "metadata": {},
     "output_type": "execute_result"
    }
   ],
   "source": [
    "lasso.score(concat_vectors_training, new_y_training)"
   ]
  },
  {
   "cell_type": "code",
   "execution_count": 95,
   "metadata": {},
   "outputs": [
    {
     "data": {
      "text/plain": [
       "0.49772436447106316"
      ]
     },
     "execution_count": 95,
     "metadata": {},
     "output_type": "execute_result"
    }
   ],
   "source": [
    "lasso.score(concat_vectors_test, new_y_test)"
   ]
  },
  {
   "cell_type": "code",
   "execution_count": 98,
   "metadata": {},
   "outputs": [],
   "source": [
    "training_difference = concat_training['text vectors'] - concat_training['title vectors']"
   ]
  },
  {
   "cell_type": "code",
   "execution_count": 113,
   "metadata": {},
   "outputs": [],
   "source": [
    "training = np.array(list(training_difference))"
   ]
  },
  {
   "cell_type": "code",
   "execution_count": 114,
   "metadata": {},
   "outputs": [
    {
     "data": {
      "text/plain": [
       "RandomForestClassifier(bootstrap=True, class_weight=None, criterion='gini',\n",
       "            max_depth=8, max_features='auto', max_leaf_nodes=None,\n",
       "            min_impurity_decrease=0.0, min_impurity_split=None,\n",
       "            min_samples_leaf=1, min_samples_split=2,\n",
       "            min_weight_fraction_leaf=0.0, n_estimators=1000, n_jobs=-1,\n",
       "            oob_score=False, random_state=None, verbose=0,\n",
       "            warm_start=False)"
      ]
     },
     "execution_count": 114,
     "metadata": {},
     "output_type": "execute_result"
    }
   ],
   "source": [
    "rfc.fit(training, new_y_training)"
   ]
  },
  {
   "cell_type": "code",
   "execution_count": 115,
   "metadata": {},
   "outputs": [
    {
     "data": {
      "text/plain": [
       "0.6687812173716736"
      ]
     },
     "execution_count": 115,
     "metadata": {},
     "output_type": "execute_result"
    }
   ],
   "source": [
    "rfc.score(training, new_y_training)"
   ]
  },
  {
   "cell_type": "code",
   "execution_count": 116,
   "metadata": {},
   "outputs": [],
   "source": [
    "test_difference = concat_test['text vectors'] - concat_test['title vectors']\n",
    "test = np.array(list(test_difference))"
   ]
  },
  {
   "cell_type": "code",
   "execution_count": 117,
   "metadata": {},
   "outputs": [
    {
     "data": {
      "text/plain": [
       "0.5016819914779098"
      ]
     },
     "execution_count": 117,
     "metadata": {},
     "output_type": "execute_result"
    }
   ],
   "source": [
    "rfc.score(test, new_y_test)"
   ]
  },
  {
   "cell_type": "code",
   "execution_count": 118,
   "metadata": {},
   "outputs": [
    {
     "data": {
      "text/plain": [
       "LogisticRegression(C=1000, class_weight=None, dual=False, fit_intercept=True,\n",
       "          intercept_scaling=1, max_iter=100, multi_class='ovr', n_jobs=1,\n",
       "          penalty='l2', random_state=None, solver='liblinear', tol=0.0001,\n",
       "          verbose=0, warm_start=False)"
      ]
     },
     "execution_count": 118,
     "metadata": {},
     "output_type": "execute_result"
    }
   ],
   "source": [
    "lr.fit(training, new_y_training)"
   ]
  },
  {
   "cell_type": "code",
   "execution_count": 119,
   "metadata": {},
   "outputs": [
    {
     "data": {
      "text/plain": [
       "0.5142816829867088"
      ]
     },
     "execution_count": 119,
     "metadata": {},
     "output_type": "execute_result"
    }
   ],
   "source": [
    "lr.score(training, new_y_training)"
   ]
  },
  {
   "cell_type": "code",
   "execution_count": 120,
   "metadata": {},
   "outputs": [
    {
     "data": {
      "text/plain": [
       "0.5000461723150799"
      ]
     },
     "execution_count": 120,
     "metadata": {},
     "output_type": "execute_result"
    }
   ],
   "source": [
    "lr.score(test, new_y_test)"
   ]
  },
  {
   "cell_type": "code",
   "execution_count": 121,
   "metadata": {},
   "outputs": [
    {
     "data": {
      "text/plain": [
       "LogisticRegression(C=1000, class_weight=None, dual=False, fit_intercept=True,\n",
       "          intercept_scaling=1, max_iter=100, multi_class='ovr', n_jobs=1,\n",
       "          penalty='l1', random_state=None, solver='liblinear', tol=0.0001,\n",
       "          verbose=0, warm_start=False)"
      ]
     },
     "execution_count": 121,
     "metadata": {},
     "output_type": "execute_result"
    }
   ],
   "source": [
    "lasso.fit(training, new_y_training)"
   ]
  },
  {
   "cell_type": "code",
   "execution_count": 122,
   "metadata": {},
   "outputs": [
    {
     "data": {
      "text/plain": [
       "0.5142929706239241"
      ]
     },
     "execution_count": 122,
     "metadata": {},
     "output_type": "execute_result"
    }
   ],
   "source": [
    "lasso.score(training, new_y_training)"
   ]
  },
  {
   "cell_type": "code",
   "execution_count": 123,
   "metadata": {},
   "outputs": [
    {
     "data": {
      "text/plain": [
       "0.5000197881350342"
      ]
     },
     "execution_count": 123,
     "metadata": {},
     "output_type": "execute_result"
    }
   ],
   "source": [
    "lasso.score(test, new_y_test)"
   ]
  },
  {
   "cell_type": "code",
   "execution_count": null,
   "metadata": {},
   "outputs": [],
   "source": []
  }
 ],
 "metadata": {
  "kernelspec": {
   "display_name": "Python 3",
   "language": "python",
   "name": "python3"
  },
  "language_info": {
   "codemirror_mode": {
    "name": "ipython",
    "version": 3
   },
   "file_extension": ".py",
   "mimetype": "text/x-python",
   "name": "python",
   "nbconvert_exporter": "python",
   "pygments_lexer": "ipython3",
   "version": "3.6.5"
  }
 },
 "nbformat": 4,
 "nbformat_minor": 2
}
