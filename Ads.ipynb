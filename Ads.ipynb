{
 "cells": [
  {
   "cell_type": "code",
   "execution_count": 1,
   "metadata": {},
   "outputs": [],
   "source": [
    "import pandas as pd\n",
    "import numpy as np\n",
    "import matplotlib.pyplot as plt\n",
    "%matplotlib inline\n",
    "import seaborn as sns\n",
    "from pymystem3 import Mystem\n",
    "from stop_words import get_stop_words\n",
    "from sklearn.model_selection import train_test_split\n",
    "from sklearn.linear_model import LogisticRegression\n",
    "import gensim\n",
    "from gensim.models import word2vec\n",
    "from sklearn.model_selection import cross_val_predict\n",
    "import re\n",
    "import string\n",
    "from sklearn.metrics.pairwise import cosine_similarity\n",
    "from sklearn.ensemble import RandomForestClassifier\n",
    "from xgboost import XGBClassifier\n",
    "from sklearn.utils import shuffle\n",
    "from sklearn.model_selection import cross_val_score, GridSearchCV\n",
    "from sklearn.manifold import TSNE\n",
    "import warnings\n",
    "warnings.filterwarnings('ignore')"
   ]
  },
  {
   "cell_type": "code",
   "execution_count": 2,
   "metadata": {},
   "outputs": [],
   "source": [
    "ads = pd.read_csv('/Users/admin/Documents/contextAdvertising1.csv')"
   ]
  },
  {
   "cell_type": "code",
   "execution_count": 3,
   "metadata": {},
   "outputs": [
    {
     "data": {
      "text/plain": [
       "(799999, 3)"
      ]
     },
     "execution_count": 3,
     "metadata": {},
     "output_type": "execute_result"
    }
   ],
   "source": [
    "ads.shape"
   ]
  },
  {
   "cell_type": "code",
   "execution_count": 4,
   "metadata": {},
   "outputs": [
    {
     "data": {
      "text/html": [
       "<div>\n",
       "<style scoped>\n",
       "    .dataframe tbody tr th:only-of-type {\n",
       "        vertical-align: middle;\n",
       "    }\n",
       "\n",
       "    .dataframe tbody tr th {\n",
       "        vertical-align: top;\n",
       "    }\n",
       "\n",
       "    .dataframe thead th {\n",
       "        text-align: right;\n",
       "    }\n",
       "</style>\n",
       "<table border=\"1\" class=\"dataframe\">\n",
       "  <thead>\n",
       "    <tr style=\"text-align: right;\">\n",
       "      <th></th>\n",
       "      <th>atitle</th>\n",
       "      <th>atext</th>\n",
       "      <th>adomain</th>\n",
       "    </tr>\n",
       "  </thead>\n",
       "  <tbody>\n",
       "    <tr>\n",
       "      <th>0</th>\n",
       "      <td>Клуб активного отдыха «0.67»</td>\n",
       "      <td>Детский пейнтбол. Спортивный пейнтбол. Тактиче...</td>\n",
       "      <td>0-67.relax.by</td>\n",
       "    </tr>\n",
       "    <tr>\n",
       "      <th>1</th>\n",
       "      <td>Антигравитационный чехол IPhone 5</td>\n",
       "      <td>Успейте купить антигравитационный чехол для IP...</td>\n",
       "      <td>0-antigravity.ru</td>\n",
       "    </tr>\n",
       "    <tr>\n",
       "      <th>2</th>\n",
       "      <td>Антигравитационный чехол купить!</td>\n",
       "      <td>Антигравитационный чехол для телефона купить з...</td>\n",
       "      <td>0-antigravity.ru</td>\n",
       "    </tr>\n",
       "    <tr>\n",
       "      <th>3</th>\n",
       "      <td>Беспроцентный заем от Moneyveo</td>\n",
       "      <td>Без справок! Получите до 3 000 грн. на карту п...</td>\n",
       "      <td>0-credit.moneyveo.ua</td>\n",
       "    </tr>\n",
       "    <tr>\n",
       "      <th>4</th>\n",
       "      <td>Беспроцентный заем сотруднику</td>\n",
       "      <td>Акция! Получите Кредит Онлайн под 0%. Без Спра...</td>\n",
       "      <td>0-credit.moneyveo.ua</td>\n",
       "    </tr>\n",
       "  </tbody>\n",
       "</table>\n",
       "</div>"
      ],
      "text/plain": [
       "                              atitle  \\\n",
       "0       Клуб активного отдыха «0.67»   \n",
       "1  Антигравитационный чехол IPhone 5   \n",
       "2   Антигравитационный чехол купить!   \n",
       "3     Беспроцентный заем от Moneyveo   \n",
       "4      Беспроцентный заем сотруднику   \n",
       "\n",
       "                                               atext               adomain  \n",
       "0  Детский пейнтбол. Спортивный пейнтбол. Тактиче...         0-67.relax.by  \n",
       "1  Успейте купить антигравитационный чехол для IP...      0-antigravity.ru  \n",
       "2  Антигравитационный чехол для телефона купить з...      0-antigravity.ru  \n",
       "3  Без справок! Получите до 3 000 грн. на карту п...  0-credit.moneyveo.ua  \n",
       "4  Акция! Получите Кредит Онлайн под 0%. Без Спра...  0-credit.moneyveo.ua  "
      ]
     },
     "execution_count": 4,
     "metadata": {},
     "output_type": "execute_result"
    }
   ],
   "source": [
    "ads.head()"
   ]
  },
  {
   "cell_type": "code",
   "execution_count": 5,
   "metadata": {},
   "outputs": [
    {
     "data": {
      "text/plain": [
       "atitle     571923\n",
       "atext      350006\n",
       "adomain     19181\n",
       "dtype: int64"
      ]
     },
     "execution_count": 5,
     "metadata": {},
     "output_type": "execute_result"
    }
   ],
   "source": [
    "ads.nunique()"
   ]
  },
  {
   "cell_type": "code",
   "execution_count": 6,
   "metadata": {},
   "outputs": [
    {
     "data": {
      "text/plain": [
       "792924"
      ]
     },
     "execution_count": 6,
     "metadata": {},
     "output_type": "execute_result"
    }
   ],
   "source": [
    "(ads['atitle'] + ads['atext']).nunique()"
   ]
  },
  {
   "cell_type": "code",
   "execution_count": 7,
   "metadata": {},
   "outputs": [],
   "source": [
    "unique_adstext =ads.drop_duplicates(subset = ['atext'], keep=False)"
   ]
  },
  {
   "cell_type": "code",
   "execution_count": 8,
   "metadata": {},
   "outputs": [
    {
     "data": {
      "text/plain": [
       "atitle     234515\n",
       "atext      323003\n",
       "adomain      4838\n",
       "dtype: int64"
      ]
     },
     "execution_count": 8,
     "metadata": {},
     "output_type": "execute_result"
    }
   ],
   "source": [
    "unique_adstext.nunique()"
   ]
  },
  {
   "cell_type": "code",
   "execution_count": 9,
   "metadata": {},
   "outputs": [
    {
     "data": {
      "text/plain": [
       "234515"
      ]
     },
     "execution_count": 9,
     "metadata": {},
     "output_type": "execute_result"
    }
   ],
   "source": [
    "#it appears that even after we remove duplicate ads texts, we still have duplicate titles \n",
    "unique_adstext['atitle'].nunique()"
   ]
  },
  {
   "cell_type": "code",
   "execution_count": 10,
   "metadata": {},
   "outputs": [],
   "source": [
    "unique =unique_adstext.drop_duplicates(subset = ['atitle'], keep=False)"
   ]
  },
  {
   "cell_type": "code",
   "execution_count": 11,
   "metadata": {},
   "outputs": [
    {
     "data": {
      "text/plain": [
       "atitle     204601\n",
       "atext      204601\n",
       "adomain      4589\n",
       "dtype: int64"
      ]
     },
     "execution_count": 11,
     "metadata": {},
     "output_type": "execute_result"
    }
   ],
   "source": [
    "unique.nunique()"
   ]
  },
  {
   "cell_type": "code",
   "execution_count": 12,
   "metadata": {},
   "outputs": [
    {
     "name": "stdout",
     "output_type": "stream",
     "text": [
      "<class 'pandas.core.frame.DataFrame'>\n",
      "Int64Index: 204601 entries, 0 to 772521\n",
      "Data columns (total 3 columns):\n",
      "atitle     204601 non-null object\n",
      "atext      204601 non-null object\n",
      "adomain    204601 non-null object\n",
      "dtypes: object(3)\n",
      "memory usage: 6.2+ MB\n"
     ]
    }
   ],
   "source": [
    "unique.info()"
   ]
  },
  {
   "cell_type": "code",
   "execution_count": 13,
   "metadata": {},
   "outputs": [
    {
     "data": {
      "text/html": [
       "<div>\n",
       "<style scoped>\n",
       "    .dataframe tbody tr th:only-of-type {\n",
       "        vertical-align: middle;\n",
       "    }\n",
       "\n",
       "    .dataframe tbody tr th {\n",
       "        vertical-align: top;\n",
       "    }\n",
       "\n",
       "    .dataframe thead th {\n",
       "        text-align: right;\n",
       "    }\n",
       "</style>\n",
       "<table border=\"1\" class=\"dataframe\">\n",
       "  <thead>\n",
       "    <tr style=\"text-align: right;\">\n",
       "      <th></th>\n",
       "      <th>atitle</th>\n",
       "      <th>atext</th>\n",
       "      <th>adomain</th>\n",
       "    </tr>\n",
       "  </thead>\n",
       "  <tbody>\n",
       "    <tr>\n",
       "      <th>0</th>\n",
       "      <td>Клуб активного отдыха «0.67»</td>\n",
       "      <td>Детский пейнтбол. Спортивный пейнтбол. Тактиче...</td>\n",
       "      <td>0-67.relax.by</td>\n",
       "    </tr>\n",
       "    <tr>\n",
       "      <th>1</th>\n",
       "      <td>Антигравитационный чехол IPhone 5</td>\n",
       "      <td>Успейте купить антигравитационный чехол для IP...</td>\n",
       "      <td>0-antigravity.ru</td>\n",
       "    </tr>\n",
       "    <tr>\n",
       "      <th>2</th>\n",
       "      <td>Антигравитационный чехол купить!</td>\n",
       "      <td>Антигравитационный чехол для телефона купить з...</td>\n",
       "      <td>0-antigravity.ru</td>\n",
       "    </tr>\n",
       "    <tr>\n",
       "      <th>3</th>\n",
       "      <td>Беспроцентный заем от Moneyveo</td>\n",
       "      <td>Без справок! Получите до 3 000 грн. на карту п...</td>\n",
       "      <td>0-credit.moneyveo.ua</td>\n",
       "    </tr>\n",
       "    <tr>\n",
       "      <th>4</th>\n",
       "      <td>Беспроцентный заем сотруднику</td>\n",
       "      <td>Акция! Получите Кредит Онлайн под 0%. Без Спра...</td>\n",
       "      <td>0-credit.moneyveo.ua</td>\n",
       "    </tr>\n",
       "  </tbody>\n",
       "</table>\n",
       "</div>"
      ],
      "text/plain": [
       "                              atitle  \\\n",
       "0       Клуб активного отдыха «0.67»   \n",
       "1  Антигравитационный чехол IPhone 5   \n",
       "2   Антигравитационный чехол купить!   \n",
       "3     Беспроцентный заем от Moneyveo   \n",
       "4      Беспроцентный заем сотруднику   \n",
       "\n",
       "                                               atext               adomain  \n",
       "0  Детский пейнтбол. Спортивный пейнтбол. Тактиче...         0-67.relax.by  \n",
       "1  Успейте купить антигравитационный чехол для IP...      0-antigravity.ru  \n",
       "2  Антигравитационный чехол для телефона купить з...      0-antigravity.ru  \n",
       "3  Без справок! Получите до 3 000 грн. на карту п...  0-credit.moneyveo.ua  \n",
       "4  Акция! Получите Кредит Онлайн под 0%. Без Спра...  0-credit.moneyveo.ua  "
      ]
     },
     "execution_count": 13,
     "metadata": {},
     "output_type": "execute_result"
    }
   ],
   "source": [
    "unique.head()"
   ]
  },
  {
   "cell_type": "code",
   "execution_count": 14,
   "metadata": {},
   "outputs": [
    {
     "data": {
      "text/plain": [
       "0    Детский пейнтбол. Спортивный пейнтбол. Тактиче...\n",
       "1    Успейте купить антигравитационный чехол для IP...\n",
       "2    Антигравитационный чехол для телефона купить з...\n",
       "3    Без справок! Получите до 3 000 грн. на карту п...\n",
       "4    Акция! Получите Кредит Онлайн под 0%. Без Спра...\n",
       "Name: atext, dtype: object"
      ]
     },
     "execution_count": 14,
     "metadata": {},
     "output_type": "execute_result"
    }
   ],
   "source": [
    "unique['atext'][:5]"
   ]
  },
  {
   "cell_type": "code",
   "execution_count": 15,
   "metadata": {},
   "outputs": [
    {
     "data": {
      "text/plain": [
       "pandas.core.series.Series"
      ]
     },
     "execution_count": 15,
     "metadata": {},
     "output_type": "execute_result"
    }
   ],
   "source": [
    "type(unique['atext'])"
   ]
  },
  {
   "cell_type": "code",
   "execution_count": 16,
   "metadata": {},
   "outputs": [],
   "source": [
    "#include all the punctuation signs\\n\",\n",
    "def punctuation_remover(row):\n",
    "    punctuation = '!\"#$&\\'()*+,-./:;<=>?@[\\\\]^_`{|}~«»'\n",
    "    \n",
    "    punctuationNoPeriod = \"[\" + re.sub(\"\\.\",\"\", punctuation) + \"]\"\n",
    "    row = re.sub(punctuationNoPeriod, \" \", str(row))\n",
    "    #to remove double white spaces and create space after %,\n",
    "    row = row.replace('  ', ' ')\n",
    "    row = row.replace('%', '% ')\n",
    "    return row.strip()\n"
   ]
  },
  {
   "cell_type": "code",
   "execution_count": 17,
   "metadata": {},
   "outputs": [
    {
     "data": {
      "text/plain": [
       "'Детский пейнтбол Спортивный пейнтбол Тактический пейнтбол Выездные игры'"
      ]
     },
     "execution_count": 17,
     "metadata": {},
     "output_type": "execute_result"
    }
   ],
   "source": [
    "punctuation_remover(unique['atext'][0])"
   ]
  },
  {
   "cell_type": "code",
   "execution_count": 18,
   "metadata": {},
   "outputs": [],
   "source": [
    "# remove punctuation from the ads text\n",
    "unique['atext'] = unique['atext'].apply(punctuation_remover)"
   ]
  },
  {
   "cell_type": "code",
   "execution_count": 19,
   "metadata": {},
   "outputs": [],
   "source": [
    "unique['atitle'] = unique['atitle'].apply(punctuation_remover)"
   ]
  },
  {
   "cell_type": "code",
   "execution_count": 20,
   "metadata": {},
   "outputs": [
    {
     "data": {
      "text/plain": [
       "0           Клуб активного отдыха 0 67\n",
       "1    Антигравитационный чехол IPhone 5\n",
       "2      Антигравитационный чехол купить\n",
       "3       Беспроцентный заем от Moneyveo\n",
       "4        Беспроцентный заем сотруднику\n",
       "Name: atitle, dtype: object"
      ]
     },
     "execution_count": 20,
     "metadata": {},
     "output_type": "execute_result"
    }
   ],
   "source": [
    "unique['atitle'][:5]"
   ]
  },
  {
   "cell_type": "code",
   "execution_count": 21,
   "metadata": {},
   "outputs": [
    {
     "data": {
      "text/plain": [
       "'Детский пейнтбол Спортивный пейнтбол Тактический пейнтбол Выездные игры'"
      ]
     },
     "execution_count": 21,
     "metadata": {},
     "output_type": "execute_result"
    }
   ],
   "source": [
    "unique['atext'].iloc[0]"
   ]
  },
  {
   "cell_type": "code",
   "execution_count": 22,
   "metadata": {},
   "outputs": [],
   "source": [
    "unique = unique.drop_duplicates(subset = ['atitle'], keep=False)"
   ]
  },
  {
   "cell_type": "code",
   "execution_count": 23,
   "metadata": {},
   "outputs": [],
   "source": [
    "unique = unique.drop_duplicates(subset = ['atext'], keep=False)"
   ]
  },
  {
   "cell_type": "code",
   "execution_count": 24,
   "metadata": {},
   "outputs": [
    {
     "data": {
      "text/plain": [
       "atitle     200718\n",
       "atext      200718\n",
       "adomain      4534\n",
       "dtype: int64"
      ]
     },
     "execution_count": 24,
     "metadata": {},
     "output_type": "execute_result"
    }
   ],
   "source": [
    "unique.nunique()"
   ]
  },
  {
   "cell_type": "markdown",
   "metadata": {},
   "source": [
    "m = Mystem()\n",
    "def text_parser(series, lemmatize=True): # do lemmatization if true \n",
    "    series_copy = series.copy()\n",
    " \n",
    "    # access each ad by index\n",
    "    for index in series_copy.index:\n",
    "        \n",
    "        text = series_copy[index]\n",
    "        if lemmatize ==True:\n",
    "            lemmas = m.lemmatize(text)\n",
    "\n",
    "            lem_no_punct = [lemma for lemma in lemmas if lemma!= ' '\n",
    "                           and lemma != '\\n']\n",
    "            \n",
    "            output = lem_no_punct\n",
    "        else:\n",
    "            output = text.split()\n",
    "        series_copy[index] =output\n",
    "    return series_copy"
   ]
  },
  {
   "cell_type": "code",
   "execution_count": 25,
   "metadata": {},
   "outputs": [],
   "source": [
    "m = Mystem()\n",
    "def text_parser(series, lemmatize=True): # do lemmatization if true \n",
    "    series_copy = series.copy()\n",
    " \n",
    "    # access each ad by index\n",
    "    for index in series_copy.index:\n",
    "        ad_string = ''\n",
    "        text = series_copy[index]\n",
    "        if lemmatize == True:\n",
    "            lemmas = m.lemmatize(text)\n",
    "            for count, lemma in enumerate(lemmas):\n",
    "                if (lemma !=  ' ' and lemma != '\\n' and count < len(lemmas)):\n",
    "                    ad_string += lemma +' '\n",
    "                                \n",
    "        else:\n",
    "            resultant_list = text.split()\n",
    "            for number, word in enumerate(resultant_list):  \n",
    "                if number <len(resultant_list)-1:\n",
    "                    ad_string+=word +' '\n",
    "                    \n",
    "        series_copy[index] =ad_string.strip()\n",
    "    return series_copy"
   ]
  },
  {
   "cell_type": "code",
   "execution_count": 26,
   "metadata": {},
   "outputs": [],
   "source": [
    "unique['atitle'] = text_parser(unique['atitle'])"
   ]
  },
  {
   "cell_type": "code",
   "execution_count": 27,
   "metadata": {},
   "outputs": [],
   "source": [
    "unique['atext'] = text_parser(unique['atext'])"
   ]
  },
  {
   "cell_type": "code",
   "execution_count": 28,
   "metadata": {},
   "outputs": [
    {
     "data": {
      "text/html": [
       "<div>\n",
       "<style scoped>\n",
       "    .dataframe tbody tr th:only-of-type {\n",
       "        vertical-align: middle;\n",
       "    }\n",
       "\n",
       "    .dataframe tbody tr th {\n",
       "        vertical-align: top;\n",
       "    }\n",
       "\n",
       "    .dataframe thead th {\n",
       "        text-align: right;\n",
       "    }\n",
       "</style>\n",
       "<table border=\"1\" class=\"dataframe\">\n",
       "  <thead>\n",
       "    <tr style=\"text-align: right;\">\n",
       "      <th></th>\n",
       "      <th>atitle</th>\n",
       "      <th>atext</th>\n",
       "      <th>adomain</th>\n",
       "    </tr>\n",
       "  </thead>\n",
       "  <tbody>\n",
       "    <tr>\n",
       "      <th>0</th>\n",
       "      <td>клуб активный отдых 0 67</td>\n",
       "      <td>детский пейнтбол спортивный пейнтбол тактическ...</td>\n",
       "      <td>0-67.relax.by</td>\n",
       "    </tr>\n",
       "    <tr>\n",
       "      <th>1</th>\n",
       "      <td>антигравитационный чехол IPhone 5</td>\n",
       "      <td>успевать купить антигравитационный чехол для I...</td>\n",
       "      <td>0-antigravity.ru</td>\n",
       "    </tr>\n",
       "    <tr>\n",
       "      <th>3</th>\n",
       "      <td>беспроцентный заем от Moneyveo</td>\n",
       "      <td>без справка получать до 3 000 грн на карта под...</td>\n",
       "      <td>0-credit.moneyveo.ua</td>\n",
       "    </tr>\n",
       "    <tr>\n",
       "      <th>4</th>\n",
       "      <td>беспроцентный заем сотрудник</td>\n",
       "      <td>акция получать кредит онлайн под 0 %   без спр...</td>\n",
       "      <td>0-credit.moneyveo.ua</td>\n",
       "    </tr>\n",
       "    <tr>\n",
       "      <th>11</th>\n",
       "      <td>Аnti Gravity Case</td>\n",
       "      <td>Аnti gravity case  –  уникальный антигравитаци...</td>\n",
       "      <td>0-gravity.online-shop-2017.ru</td>\n",
       "    </tr>\n",
       "  </tbody>\n",
       "</table>\n",
       "</div>"
      ],
      "text/plain": [
       "                               atitle  \\\n",
       "0            клуб активный отдых 0 67   \n",
       "1   антигравитационный чехол IPhone 5   \n",
       "3      беспроцентный заем от Moneyveo   \n",
       "4        беспроцентный заем сотрудник   \n",
       "11                  Аnti Gravity Case   \n",
       "\n",
       "                                                atext  \\\n",
       "0   детский пейнтбол спортивный пейнтбол тактическ...   \n",
       "1   успевать купить антигравитационный чехол для I...   \n",
       "3   без справка получать до 3 000 грн на карта под...   \n",
       "4   акция получать кредит онлайн под 0 %   без спр...   \n",
       "11  Аnti gravity case  –  уникальный антигравитаци...   \n",
       "\n",
       "                          adomain  \n",
       "0                   0-67.relax.by  \n",
       "1                0-antigravity.ru  \n",
       "3            0-credit.moneyveo.ua  \n",
       "4            0-credit.moneyveo.ua  \n",
       "11  0-gravity.online-shop-2017.ru  "
      ]
     },
     "execution_count": 28,
     "metadata": {},
     "output_type": "execute_result"
    }
   ],
   "source": [
    "unique.head()"
   ]
  },
  {
   "cell_type": "code",
   "execution_count": 29,
   "metadata": {},
   "outputs": [
    {
     "data": {
      "text/plain": [
       "(200718, 3)"
      ]
     },
     "execution_count": 29,
     "metadata": {},
     "output_type": "execute_result"
    }
   ],
   "source": [
    "unique.shape"
   ]
  },
  {
   "cell_type": "code",
   "execution_count": 30,
   "metadata": {},
   "outputs": [],
   "source": [
    "unique = unique.drop_duplicates(subset = ['atitle'], keep=False)"
   ]
  },
  {
   "cell_type": "code",
   "execution_count": 31,
   "metadata": {},
   "outputs": [],
   "source": [
    "unique = unique.drop_duplicates(subset = ['atext'], keep=False)"
   ]
  },
  {
   "cell_type": "code",
   "execution_count": 32,
   "metadata": {},
   "outputs": [
    {
     "data": {
      "text/plain": [
       "(195820, 3)"
      ]
     },
     "execution_count": 32,
     "metadata": {},
     "output_type": "execute_result"
    }
   ],
   "source": [
    "unique.shape"
   ]
  },
  {
   "cell_type": "code",
   "execution_count": 33,
   "metadata": {},
   "outputs": [
    {
     "data": {
      "text/plain": [
       "atitle     195820\n",
       "atext      195820\n",
       "adomain      4492\n",
       "dtype: int64"
      ]
     },
     "execution_count": 33,
     "metadata": {},
     "output_type": "execute_result"
    }
   ],
   "source": [
    "unique.nunique()"
   ]
  },
  {
   "cell_type": "code",
   "execution_count": 34,
   "metadata": {},
   "outputs": [],
   "source": [
    "unique = unique.drop_duplicates(keep=False)"
   ]
  },
  {
   "cell_type": "code",
   "execution_count": 35,
   "metadata": {},
   "outputs": [
    {
     "data": {
      "text/plain": [
       "atitle     195820\n",
       "atext      195820\n",
       "adomain      4492\n",
       "dtype: int64"
      ]
     },
     "execution_count": 35,
     "metadata": {},
     "output_type": "execute_result"
    }
   ],
   "source": [
    "unique.nunique()"
   ]
  },
  {
   "cell_type": "code",
   "execution_count": 36,
   "metadata": {},
   "outputs": [
    {
     "data": {
      "text/plain": [
       "(195820, 3)"
      ]
     },
     "execution_count": 36,
     "metadata": {},
     "output_type": "execute_result"
    }
   ],
   "source": [
    "unique.shape"
   ]
  },
  {
   "cell_type": "code",
   "execution_count": 37,
   "metadata": {},
   "outputs": [
    {
     "data": {
      "text/plain": [
       "195820"
      ]
     },
     "execution_count": 37,
     "metadata": {},
     "output_type": "execute_result"
    }
   ],
   "source": [
    "len(set(unique['atext']))"
   ]
  },
  {
   "cell_type": "code",
   "execution_count": 38,
   "metadata": {},
   "outputs": [
    {
     "data": {
      "text/plain": [
       "195820"
      ]
     },
     "execution_count": 38,
     "metadata": {},
     "output_type": "execute_result"
    }
   ],
   "source": [
    "len(set(unique['atitle']))"
   ]
  },
  {
   "cell_type": "code",
   "execution_count": 39,
   "metadata": {},
   "outputs": [
    {
     "data": {
      "text/plain": [
       "195820"
      ]
     },
     "execution_count": 39,
     "metadata": {},
     "output_type": "execute_result"
    }
   ],
   "source": [
    "len(unique['atitle'])"
   ]
  },
  {
   "cell_type": "code",
   "execution_count": 40,
   "metadata": {},
   "outputs": [
    {
     "data": {
      "text/plain": [
       "195820"
      ]
     },
     "execution_count": 40,
     "metadata": {},
     "output_type": "execute_result"
    }
   ],
   "source": [
    "len(unique['atext'])"
   ]
  },
  {
   "cell_type": "code",
   "execution_count": 41,
   "metadata": {},
   "outputs": [
    {
     "data": {
      "text/plain": [
       "atitle     0\n",
       "atext      0\n",
       "adomain    0\n",
       "dtype: int64"
      ]
     },
     "execution_count": 41,
     "metadata": {},
     "output_type": "execute_result"
    }
   ],
   "source": [
    "unique.isnull().sum()"
   ]
  },
  {
   "cell_type": "code",
   "execution_count": 42,
   "metadata": {},
   "outputs": [],
   "source": [
    "unique['atitle'] = unique['atitle'].apply(lambda x: x.split())"
   ]
  },
  {
   "cell_type": "code",
   "execution_count": 43,
   "metadata": {},
   "outputs": [],
   "source": [
    "unique['atext'] = unique['atext'].apply(lambda x: x.split())"
   ]
  },
  {
   "cell_type": "code",
   "execution_count": 44,
   "metadata": {},
   "outputs": [],
   "source": [
    "X = unique['atext']\n",
    "y = unique['atitle']"
   ]
  },
  {
   "cell_type": "code",
   "execution_count": 45,
   "metadata": {},
   "outputs": [],
   "source": [
    "X_train, X_test, y_train, y_test = train_test_split(X, y, test_size=0.3, random_state=0)"
   ]
  },
  {
   "cell_type": "code",
   "execution_count": 46,
   "metadata": {},
   "outputs": [],
   "source": [
    "merged_list = X_train + y_train"
   ]
  },
  {
   "cell_type": "markdown",
   "metadata": {},
   "source": [
    "# Training Word2Vec"
   ]
  },
  {
   "cell_type": "code",
   "execution_count": 47,
   "metadata": {},
   "outputs": [],
   "source": [
    "model = word2vec.Word2Vec(\n",
    "    merged_list,\n",
    "    workers=4,     \n",
    "    min_count=5,   \n",
    "    window=50,      \n",
    "    sg=0,          \n",
    "    sample=1e-4 ,  \n",
    "    size=300,      \n",
    "    hs=1           \n",
    ")\n"
   ]
  },
  {
   "cell_type": "code",
   "execution_count": 48,
   "metadata": {},
   "outputs": [
    {
     "name": "stdout",
     "output_type": "stream",
     "text": [
      "21000\n"
     ]
    }
   ],
   "source": [
    "vocab = model.wv.vocab.keys()\n",
    "print(len(vocab))"
   ]
  },
  {
   "cell_type": "code",
   "execution_count": 49,
   "metadata": {},
   "outputs": [],
   "source": [
    "def tsne_plot(model):\n",
    "    #Creates and TSNE model and plots it\n",
    "    \n",
    "    labels = []\n",
    "    tokens = []\n",
    "\n",
    "    for word in model.wv.vocab:\n",
    "        if model.wv.vocab[word].count > 800:\n",
    "            tokens.append(model[word])\n",
    "            labels.append(word)\n",
    "    \n",
    "    tsne_model = TSNE(perplexity=40, n_components=2, init='pca', n_iter=2500, random_state=108)\n",
    "    new_values = tsne_model.fit_transform(tokens)\n",
    "\n",
    "    x = []\n",
    "    y = []\n",
    "    \n",
    "    for value in new_values:\n",
    "        x.append(value[0])\n",
    "        y.append(value[1])\n",
    "        \n",
    "    plt.figure(figsize=(20, 20)) \n",
    "    for i in range(len(x)):\n",
    "        plt.scatter(x[i],y[i])\n",
    "        plt.annotate(labels[i],\n",
    "                     xy=(x[i], y[i]),\n",
    "                     xytext=(5, 2),\n",
    "                     textcoords='offset points',\n",
    "                     ha='right',\n",
    "                     va='bottom')\n",
    "    plt.show()"
   ]
  },
  {
   "cell_type": "code",
   "execution_count": 50,
   "metadata": {},
   "outputs": [
    {
     "data": {
      "image/png": "[encoded data removed]",
      "text/plain": [
       "<Figure size 1440x1440 with 1 Axes>"
      ]
     },
     "metadata": {
      "needs_background": "light"
     },
     "output_type": "display_data"
    }
   ],
   "source": [
    "tsne_plot(model)"
   ]
  },
  {
   "cell_type": "markdown",
   "metadata": {},
   "source": [
    "# Sample For Evaluation"
   ]
  },
  {
   "cell_type": "code",
   "execution_count": 51,
   "metadata": {},
   "outputs": [],
   "source": [
    "indices = X_test.index"
   ]
  },
  {
   "cell_type": "code",
   "execution_count": 52,
   "metadata": {},
   "outputs": [],
   "source": [
    "test_df = pd.DataFrame(X_test, index = indices)"
   ]
  },
  {
   "cell_type": "code",
   "execution_count": 53,
   "metadata": {},
   "outputs": [
    {
     "data": {
      "text/html": [
       "<div>\n",
       "<style scoped>\n",
       "    .dataframe tbody tr th:only-of-type {\n",
       "        vertical-align: middle;\n",
       "    }\n",
       "\n",
       "    .dataframe tbody tr th {\n",
       "        vertical-align: top;\n",
       "    }\n",
       "\n",
       "    .dataframe thead th {\n",
       "        text-align: right;\n",
       "    }\n",
       "</style>\n",
       "<table border=\"1\" class=\"dataframe\">\n",
       "  <thead>\n",
       "    <tr style=\"text-align: right;\">\n",
       "      <th></th>\n",
       "      <th>atext</th>\n",
       "    </tr>\n",
       "  </thead>\n",
       "  <tbody>\n",
       "    <tr>\n",
       "      <th>379691</th>\n",
       "      <td>[электрочайник, Zigmund, Shtain, KE, 81, SD, 1...</td>\n",
       "    </tr>\n",
       "    <tr>\n",
       "      <th>520472</th>\n",
       "      <td>[сабвуфер, огромный, ассортимент, бесплатный, ...</td>\n",
       "    </tr>\n",
       "    <tr>\n",
       "      <th>19942</th>\n",
       "      <td>[Onkyo, Tx, nr545, Black, в, наличие, быстрый,...</td>\n",
       "    </tr>\n",
       "    <tr>\n",
       "      <th>153486</th>\n",
       "      <td>[шаблон, ордер, входить, в, состав, сборник, 1...</td>\n",
       "    </tr>\n",
       "    <tr>\n",
       "      <th>700377</th>\n",
       "      <td>[шпаклевка, финишный, белый, сравнивать, цена,...</td>\n",
       "    </tr>\n",
       "  </tbody>\n",
       "</table>\n",
       "</div>"
      ],
      "text/plain": [
       "                                                    atext\n",
       "379691  [электрочайник, Zigmund, Shtain, KE, 81, SD, 1...\n",
       "520472  [сабвуфер, огромный, ассортимент, бесплатный, ...\n",
       "19942   [Onkyo, Tx, nr545, Black, в, наличие, быстрый,...\n",
       "153486  [шаблон, ордер, входить, в, состав, сборник, 1...\n",
       "700377  [шпаклевка, финишный, белый, сравнивать, цена,..."
      ]
     },
     "execution_count": 53,
     "metadata": {},
     "output_type": "execute_result"
    }
   ],
   "source": [
    "test_df.head()"
   ]
  },
  {
   "cell_type": "code",
   "execution_count": 54,
   "metadata": {},
   "outputs": [],
   "source": [
    "test_df['atitle'] = y_test"
   ]
  },
  {
   "cell_type": "code",
   "execution_count": 55,
   "metadata": {},
   "outputs": [
    {
     "data": {
      "text/plain": [
       "(58746, 2)"
      ]
     },
     "execution_count": 55,
     "metadata": {},
     "output_type": "execute_result"
    }
   ],
   "source": [
    "test_df.shape"
   ]
  },
  {
   "cell_type": "code",
   "execution_count": 56,
   "metadata": {},
   "outputs": [],
   "source": [
    "# we can't fit all the examples in our memory\n",
    "\n",
    "test_sample = test_df.sample(1000)"
   ]
  },
  {
   "cell_type": "code",
   "execution_count": 57,
   "metadata": {},
   "outputs": [],
   "source": [
    "test_text_sample = test_sample['atext']\n",
    "test_title_sample = test_sample['atitle']"
   ]
  },
  {
   "cell_type": "code",
   "execution_count": 58,
   "metadata": {},
   "outputs": [],
   "source": [
    "from sklearn.preprocessing import normalize\n",
    "\n",
    "\n",
    "def result_vector(text):\n",
    "    result = np.zeros(300)\n",
    "    count = 0\n",
    "    for word in text:\n",
    "        if word in vocab:\n",
    "            result+=model.wv[word]\n",
    "            count+=1\n",
    "    if count == 0:\n",
    "        return None\n",
    "    #result = (result / count).reshape(1, -1)\n",
    "    result = normalize(result.reshape(1, -1))     \n",
    "    return result"
   ]
  },
  {
   "cell_type": "code",
   "execution_count": 59,
   "metadata": {},
   "outputs": [],
   "source": [
    "ad_vectors = []\n",
    "for ad_text in test_text_sample:\n",
    "        vector = result_vector(ad_text)\n",
    "        if vector is not None:\n",
    "            ad_vectors.append(vector)\n",
    "        else:\n",
    "            ad_vectors.append('M')"
   ]
  },
  {
   "cell_type": "code",
   "execution_count": 179,
   "metadata": {},
   "outputs": [],
   "source": [
    "title_vectors = []\n",
    "for ad_title in test_title_sample:\n",
    "    vector = result_vector(ad_title)\n",
    "    if vector is not None:\n",
    "        title_vectors.append(vector)\n",
    "    else:\n",
    "        title_vectors.append('M')"
   ]
  },
  {
   "cell_type": "code",
   "execution_count": 61,
   "metadata": {},
   "outputs": [],
   "source": [
    "def cosine_calculator(vector_one, other_vectors):\n",
    "    cosines = []\n",
    "    for each in other_vectors:\n",
    "        if each != 'M':\n",
    "            sim_score = cosine_similarity(vector_one, each)\n",
    "            cosines.extend(sim_score) \n",
    "        else:\n",
    "            cosines.append('M')\n",
    "    return cosines"
   ]
  },
  {
   "cell_type": "code",
   "execution_count": 62,
   "metadata": {},
   "outputs": [],
   "source": [
    "def rank_checker(first_vector_set, other_vectors, smpl_df, number):\n",
    "    cosines_results = cosine_calculator(first_vector_set[number], other_vectors)\n",
    "    series = pd.Series(cosines_results, index =smpl_df.index)\n",
    "    \n",
    "    #cleaning the series for sorting, 'M' stands for missing, was added if no words in the text were found in w2v vocab\n",
    "    cleaned = series[series != 'M']\n",
    "    sorted_df = cleaned.sort_values(ascending=False)\n",
    "    sorted_index = sorted_df.index\n",
    "    \n",
    "    for rank, entry in enumerate(sorted_index):\n",
    "        if entry == smpl_df.index[number]:\n",
    "            return rank"
   ]
  },
  {
   "cell_type": "code",
   "execution_count": 63,
   "metadata": {},
   "outputs": [],
   "source": [
    "ranks = []\n",
    "for row in range(len(test_sample)):\n",
    "    rank = rank_checker(ad_vectors, title_vectors, test_sample, row)\n",
    "    ranks.append(rank)"
   ]
  },
  {
   "cell_type": "code",
   "execution_count": 64,
   "metadata": {},
   "outputs": [
    {
     "data": {
      "image/png": "[encoded data removed]",
      "text/plain": [
       "<Figure size 720x360 with 1 Axes>"
      ]
     },
     "metadata": {
      "needs_background": "light"
     },
     "output_type": "display_data"
    }
   ],
   "source": [
    "plt.figure(figsize=(10, 5))\n",
    "plt.hist([rank for rank in ranks if rank is not None])\n",
    "plt.show()"
   ]
  },
  {
   "cell_type": "code",
   "execution_count": 65,
   "metadata": {},
   "outputs": [
    {
     "data": {
      "text/plain": [
       "21.678391959798994"
      ]
     },
     "execution_count": 65,
     "metadata": {},
     "output_type": "execute_result"
    }
   ],
   "source": [
    "#average rank\n",
    "sum([rank for rank in ranks if rank is not None])/ len([rank for rank in ranks if rank is not None])"
   ]
  },
  {
   "cell_type": "code",
   "execution_count": 66,
   "metadata": {},
   "outputs": [],
   "source": [
    "small = []\n",
    "for rank in ranks:\n",
    "    if rank is not None and rank <=10:\n",
    "        small.append(rank) "
   ]
  },
  {
   "cell_type": "code",
   "execution_count": 67,
   "metadata": {},
   "outputs": [
    {
     "data": {
      "text/plain": [
       "0.8733668341708543"
      ]
     },
     "execution_count": 67,
     "metadata": {},
     "output_type": "execute_result"
    }
   ],
   "source": [
    "# proportion ranked as \n",
    "len(small) / len([rank for rank in ranks if rank is not None])"
   ]
  },
  {
   "cell_type": "markdown",
   "metadata": {},
   "source": [
    "# Supervised Solution"
   ]
  },
  {
   "cell_type": "code",
   "execution_count": 68,
   "metadata": {},
   "outputs": [],
   "source": [
    "training_df = pd.DataFrame()\n",
    "training_df['text vectors'] = X_train \n",
    "training_df['title vectors'] = y_train"
   ]
  },
  {
   "cell_type": "code",
   "execution_count": 69,
   "metadata": {},
   "outputs": [],
   "source": [
    "test_df = pd.DataFrame()\n",
    "test_df['text vectors'] = X_test\n",
    "test_df['title vectors'] = y_test"
   ]
  },
  {
   "cell_type": "code",
   "execution_count": 70,
   "metadata": {},
   "outputs": [
    {
     "data": {
      "text/plain": [
       "(137074, 2)"
      ]
     },
     "execution_count": 70,
     "metadata": {},
     "output_type": "execute_result"
    }
   ],
   "source": [
    "training_df.shape"
   ]
  },
  {
   "cell_type": "code",
   "execution_count": 71,
   "metadata": {},
   "outputs": [
    {
     "data": {
      "text/plain": [
       "(58746, 2)"
      ]
     },
     "execution_count": 71,
     "metadata": {},
     "output_type": "execute_result"
    }
   ],
   "source": [
    "test_df.shape"
   ]
  },
  {
   "cell_type": "code",
   "execution_count": 72,
   "metadata": {},
   "outputs": [],
   "source": [
    "def mixed_df_creator(df):\n",
    "    \n",
    "    df_copy = df.copy()\n",
    "    df_copy = df.reset_index(drop=True)\n",
    "    \n",
    "    first_half = df_copy.iloc[:int(len(df_copy)/2)]\n",
    "    second_half = df_copy.iloc[int(len(df_copy)/2):]\n",
    "    \n",
    "    shuffled_titles = shuffle(second_half['title vectors'])\n",
    "    shuffled_titles = shuffled_titles.reset_index(drop=True)\n",
    "    \n",
    "    second_half = second_half.reset_index(drop=True)\n",
    "    second_half['title vectors'] = shuffled_titles\n",
    "    \n",
    "    first_half['pair class'] = 1\n",
    "    second_half['pair class'] = 0\n",
    "    \n",
    "    #sim_score_one = first_half.apply(cosine_between_rows, axis = 1)\n",
    "    #sim_score_two = second_half.apply(cosine_between_rows, axis = 1)\n",
    "    \n",
    "    #print('Mean cosine similarity score: first half', np.mean(sim_score_one))\n",
    "    #print('Mean cosine similarity score: second half', np.mean(sim_score_two))\n",
    "    \n",
    "    concat_result = pd.concat([first_half, second_half], axis=0, ignore_index = True)\n",
    "    \n",
    "    return concat_result"
   ]
  },
  {
   "cell_type": "code",
   "execution_count": 73,
   "metadata": {},
   "outputs": [],
   "source": [
    "training_df_mixed = mixed_df_creator(training_df)"
   ]
  },
  {
   "cell_type": "code",
   "execution_count": 74,
   "metadata": {},
   "outputs": [],
   "source": [
    "test_df_mixed = mixed_df_creator(test_df)"
   ]
  },
  {
   "cell_type": "code",
   "execution_count": 75,
   "metadata": {},
   "outputs": [
    {
     "data": {
      "text/html": [
       "<div>\n",
       "<style scoped>\n",
       "    .dataframe tbody tr th:only-of-type {\n",
       "        vertical-align: middle;\n",
       "    }\n",
       "\n",
       "    .dataframe tbody tr th {\n",
       "        vertical-align: top;\n",
       "    }\n",
       "\n",
       "    .dataframe thead th {\n",
       "        text-align: right;\n",
       "    }\n",
       "</style>\n",
       "<table border=\"1\" class=\"dataframe\">\n",
       "  <thead>\n",
       "    <tr style=\"text-align: right;\">\n",
       "      <th></th>\n",
       "      <th>text vectors</th>\n",
       "      <th>title vectors</th>\n",
       "      <th>pair class</th>\n",
       "    </tr>\n",
       "  </thead>\n",
       "  <tbody>\n",
       "    <tr>\n",
       "      <th>0</th>\n",
       "      <td>[lg, sh7b, от, 819, 00, доставка]</td>\n",
       "      <td>[lg, sh7b]</td>\n",
       "      <td>1</td>\n",
       "    </tr>\n",
       "    <tr>\n",
       "      <th>1</th>\n",
       "      <td>[нужный, перевод, медицинский, документация, к...</td>\n",
       "      <td>[перевод, медицинский, документация]</td>\n",
       "      <td>1</td>\n",
       "    </tr>\n",
       "    <tr>\n",
       "      <th>2</th>\n",
       "      <td>[результат, на, 3, день, зубной, паста, крест,...</td>\n",
       "      <td>[зубной, паста, крест]</td>\n",
       "      <td>1</td>\n",
       "    </tr>\n",
       "    <tr>\n",
       "      <th>3</th>\n",
       "      <td>[массив, бук, и, дуб, древесный, шпон, ciplex,...</td>\n",
       "      <td>[межкомнатный, дверь, из, россия]</td>\n",
       "      <td>1</td>\n",
       "    </tr>\n",
       "    <tr>\n",
       "      <th>4</th>\n",
       "      <td>[купить, Gerat, лента, пробивной, Gerat, 19мм,...</td>\n",
       "      <td>[Gerat, 19мм, 3, 2мм, 30м, 50327]</td>\n",
       "      <td>1</td>\n",
       "    </tr>\n",
       "  </tbody>\n",
       "</table>\n",
       "</div>"
      ],
      "text/plain": [
       "                                        text vectors  \\\n",
       "0                  [lg, sh7b, от, 819, 00, доставка]   \n",
       "1  [нужный, перевод, медицинский, документация, к...   \n",
       "2  [результат, на, 3, день, зубной, паста, крест,...   \n",
       "3  [массив, бук, и, дуб, древесный, шпон, ciplex,...   \n",
       "4  [купить, Gerat, лента, пробивной, Gerat, 19мм,...   \n",
       "\n",
       "                          title vectors  pair class  \n",
       "0                            [lg, sh7b]           1  \n",
       "1  [перевод, медицинский, документация]           1  \n",
       "2                [зубной, паста, крест]           1  \n",
       "3     [межкомнатный, дверь, из, россия]           1  \n",
       "4     [Gerat, 19мм, 3, 2мм, 30м, 50327]           1  "
      ]
     },
     "execution_count": 75,
     "metadata": {},
     "output_type": "execute_result"
    }
   ],
   "source": [
    "training_df_mixed.head()"
   ]
  },
  {
   "cell_type": "code",
   "execution_count": 76,
   "metadata": {},
   "outputs": [
    {
     "data": {
      "text/plain": [
       "(137074, 3)"
      ]
     },
     "execution_count": 76,
     "metadata": {},
     "output_type": "execute_result"
    }
   ],
   "source": [
    "training_df_mixed.shape"
   ]
  },
  {
   "cell_type": "code",
   "execution_count": 77,
   "metadata": {},
   "outputs": [
    {
     "data": {
      "text/plain": [
       "300"
      ]
     },
     "execution_count": 77,
     "metadata": {},
     "output_type": "execute_result"
    }
   ],
   "source": [
    "len(result_vector(training_df_mixed.iloc[0, 0])[0])"
   ]
  },
  {
   "cell_type": "code",
   "execution_count": 78,
   "metadata": {},
   "outputs": [],
   "source": [
    "# vectorization of the ads text\n",
    "text_vectors = []\n",
    "for row in range(len(training_df_mixed)):\n",
    "    vector = result_vector(training_df_mixed.iloc[row, 0])\n",
    "    if vector is not None:  \n",
    "        text_vectors.append(vector[0])\n",
    "    else:\n",
    "        text_vectors.append('M')"
   ]
  },
  {
   "cell_type": "code",
   "execution_count": 79,
   "metadata": {},
   "outputs": [],
   "source": [
    "training_df_mixed_vectorized = training_df_mixed.copy()"
   ]
  },
  {
   "cell_type": "code",
   "execution_count": 80,
   "metadata": {},
   "outputs": [],
   "source": [
    "training_df_mixed_vectorized['text vectors'] = text_vectors"
   ]
  },
  {
   "cell_type": "code",
   "execution_count": 81,
   "metadata": {},
   "outputs": [],
   "source": [
    "# vectorization of the ads text\n",
    "text_vectors_test = []\n",
    "for row in range(len(test_df_mixed)):\n",
    "    vector = result_vector(test_df_mixed.iloc[row, 0])\n",
    "    if vector is not None:  \n",
    "        text_vectors_test.append(vector[0])\n",
    "    else:\n",
    "        text_vectors_test.append('M')"
   ]
  },
  {
   "cell_type": "code",
   "execution_count": 82,
   "metadata": {},
   "outputs": [],
   "source": [
    "test_df_mixed_vectorized = test_df_mixed.copy()"
   ]
  },
  {
   "cell_type": "code",
   "execution_count": 83,
   "metadata": {},
   "outputs": [],
   "source": [
    "test_df_mixed_vectorized['text vectors'] = text_vectors_test"
   ]
  },
  {
   "cell_type": "code",
   "execution_count": 84,
   "metadata": {},
   "outputs": [],
   "source": [
    "# vectorization of the ads title\n",
    "title_vectors_tr = []\n",
    "for row in range(len(training_df_mixed)):\n",
    "    vector = result_vector(training_df_mixed.iloc[row, 1])\n",
    "    if vector is not None:  \n",
    "        title_vectors_tr.append(vector[0])\n",
    "    else:\n",
    "        title_vectors_tr.append('M')"
   ]
  },
  {
   "cell_type": "code",
   "execution_count": 85,
   "metadata": {},
   "outputs": [],
   "source": [
    "training_df_mixed_vectorized['title vectors'] = title_vectors_tr"
   ]
  },
  {
   "cell_type": "code",
   "execution_count": 86,
   "metadata": {},
   "outputs": [],
   "source": [
    "# vectorization of the ads title\n",
    "title_vectors_test = []\n",
    "for row in range(len(test_df_mixed)):\n",
    "    vector = result_vector(test_df_mixed.iloc[row, 1])\n",
    "    if vector is not None:  \n",
    "        title_vectors_test.append(vector[0])\n",
    "    else:\n",
    "        title_vectors_test.append('M')"
   ]
  },
  {
   "cell_type": "code",
   "execution_count": 87,
   "metadata": {},
   "outputs": [],
   "source": [
    "test_df_mixed_vectorized['title vectors'] = title_vectors_test"
   ]
  },
  {
   "cell_type": "code",
   "execution_count": 88,
   "metadata": {},
   "outputs": [],
   "source": [
    "# remove vectors with that are comprised exclusively of the words that are missing from our vocabulary\n",
    "\n",
    "training_df_mixed_vectorized= training_df_mixed_vectorized[training_df_mixed_vectorized['text vectors'] != 'M']\n",
    "training_df_mixed_vectorized = training_df_mixed_vectorized[training_df_mixed_vectorized['title vectors'] != 'M']\n",
    "\n",
    "test_df_mixed_vectorized= test_df_mixed_vectorized[test_df_mixed_vectorized['text vectors'] != 'M']\n",
    "test_df_mixed_vectorized = test_df_mixed_vectorized[test_df_mixed_vectorized['title vectors'] != 'M']"
   ]
  },
  {
   "cell_type": "code",
   "execution_count": 89,
   "metadata": {},
   "outputs": [
    {
     "data": {
      "text/html": [
       "<div>\n",
       "<style scoped>\n",
       "    .dataframe tbody tr th:only-of-type {\n",
       "        vertical-align: middle;\n",
       "    }\n",
       "\n",
       "    .dataframe tbody tr th {\n",
       "        vertical-align: top;\n",
       "    }\n",
       "\n",
       "    .dataframe thead th {\n",
       "        text-align: right;\n",
       "    }\n",
       "</style>\n",
       "<table border=\"1\" class=\"dataframe\">\n",
       "  <thead>\n",
       "    <tr style=\"text-align: right;\">\n",
       "      <th></th>\n",
       "      <th>text vectors</th>\n",
       "      <th>title vectors</th>\n",
       "      <th>pair class</th>\n",
       "    </tr>\n",
       "  </thead>\n",
       "  <tbody>\n",
       "    <tr>\n",
       "      <th>0</th>\n",
       "      <td>[0.01695054995571953, 0.04608391156769124, 0.1...</td>\n",
       "      <td>[0.019677669841633987, 0.027117370848279112, 0...</td>\n",
       "      <td>1</td>\n",
       "    </tr>\n",
       "    <tr>\n",
       "      <th>1</th>\n",
       "      <td>[0.0297132702631313, 0.1543718921572532, -0.02...</td>\n",
       "      <td>[0.022622904520389276, 0.16249493608833382, -0...</td>\n",
       "      <td>1</td>\n",
       "    </tr>\n",
       "    <tr>\n",
       "      <th>2</th>\n",
       "      <td>[0.020543536148751523, 0.03808525783003923, 0....</td>\n",
       "      <td>[0.05691170055656063, 0.019291936130919687, 0....</td>\n",
       "      <td>1</td>\n",
       "    </tr>\n",
       "    <tr>\n",
       "      <th>3</th>\n",
       "      <td>[0.0009807624840399145, -0.016426845006617917,...</td>\n",
       "      <td>[-0.00546912440495362, -0.007555954771221714, ...</td>\n",
       "      <td>1</td>\n",
       "    </tr>\n",
       "    <tr>\n",
       "      <th>4</th>\n",
       "      <td>[0.02838815927302891, 0.03459733901852035, 0.0...</td>\n",
       "      <td>[0.029224103071064565, -0.016956976292576684, ...</td>\n",
       "      <td>1</td>\n",
       "    </tr>\n",
       "  </tbody>\n",
       "</table>\n",
       "</div>"
      ],
      "text/plain": [
       "                                        text vectors  \\\n",
       "0  [0.01695054995571953, 0.04608391156769124, 0.1...   \n",
       "1  [0.0297132702631313, 0.1543718921572532, -0.02...   \n",
       "2  [0.020543536148751523, 0.03808525783003923, 0....   \n",
       "3  [0.0009807624840399145, -0.016426845006617917,...   \n",
       "4  [0.02838815927302891, 0.03459733901852035, 0.0...   \n",
       "\n",
       "                                       title vectors  pair class  \n",
       "0  [0.019677669841633987, 0.027117370848279112, 0...           1  \n",
       "1  [0.022622904520389276, 0.16249493608833382, -0...           1  \n",
       "2  [0.05691170055656063, 0.019291936130919687, 0....           1  \n",
       "3  [-0.00546912440495362, -0.007555954771221714, ...           1  \n",
       "4  [0.029224103071064565, -0.016956976292576684, ...           1  "
      ]
     },
     "execution_count": 89,
     "metadata": {},
     "output_type": "execute_result"
    }
   ],
   "source": [
    "training_df_mixed_vectorized.head()"
   ]
  },
  {
   "cell_type": "code",
   "execution_count": 90,
   "metadata": {},
   "outputs": [
    {
     "data": {
      "text/html": [
       "<div>\n",
       "<style scoped>\n",
       "    .dataframe tbody tr th:only-of-type {\n",
       "        vertical-align: middle;\n",
       "    }\n",
       "\n",
       "    .dataframe tbody tr th {\n",
       "        vertical-align: top;\n",
       "    }\n",
       "\n",
       "    .dataframe thead th {\n",
       "        text-align: right;\n",
       "    }\n",
       "</style>\n",
       "<table border=\"1\" class=\"dataframe\">\n",
       "  <thead>\n",
       "    <tr style=\"text-align: right;\">\n",
       "      <th></th>\n",
       "      <th>text vectors</th>\n",
       "      <th>title vectors</th>\n",
       "      <th>pair class</th>\n",
       "    </tr>\n",
       "  </thead>\n",
       "  <tbody>\n",
       "    <tr>\n",
       "      <th>0</th>\n",
       "      <td>[0.03816810329803067, 0.04412421624319716, 0.1...</td>\n",
       "      <td>[0.059656564453053264, 0.045308673243519185, 0...</td>\n",
       "      <td>1</td>\n",
       "    </tr>\n",
       "    <tr>\n",
       "      <th>1</th>\n",
       "      <td>[-0.0036939520477964442, 0.05393681718870254, ...</td>\n",
       "      <td>[0.0441408530710877, -0.0027612615336370617, 0...</td>\n",
       "      <td>1</td>\n",
       "    </tr>\n",
       "    <tr>\n",
       "      <th>2</th>\n",
       "      <td>[-0.06671670905980331, 0.0031810948990529746, ...</td>\n",
       "      <td>[-0.09311037864112097, -0.025772691680729366, ...</td>\n",
       "      <td>1</td>\n",
       "    </tr>\n",
       "    <tr>\n",
       "      <th>3</th>\n",
       "      <td>[-0.006508055938034276, 0.11122935097009876, 0...</td>\n",
       "      <td>[0.029982551974415454, 0.10544026507673036, 0....</td>\n",
       "      <td>1</td>\n",
       "    </tr>\n",
       "    <tr>\n",
       "      <th>4</th>\n",
       "      <td>[0.005962386628523769, -0.0003985486689071451,...</td>\n",
       "      <td>[-0.02428248010137484, -0.004550992990763728, ...</td>\n",
       "      <td>1</td>\n",
       "    </tr>\n",
       "  </tbody>\n",
       "</table>\n",
       "</div>"
      ],
      "text/plain": [
       "                                        text vectors  \\\n",
       "0  [0.03816810329803067, 0.04412421624319716, 0.1...   \n",
       "1  [-0.0036939520477964442, 0.05393681718870254, ...   \n",
       "2  [-0.06671670905980331, 0.0031810948990529746, ...   \n",
       "3  [-0.006508055938034276, 0.11122935097009876, 0...   \n",
       "4  [0.005962386628523769, -0.0003985486689071451,...   \n",
       "\n",
       "                                       title vectors  pair class  \n",
       "0  [0.059656564453053264, 0.045308673243519185, 0...           1  \n",
       "1  [0.0441408530710877, -0.0027612615336370617, 0...           1  \n",
       "2  [-0.09311037864112097, -0.025772691680729366, ...           1  \n",
       "3  [0.029982551974415454, 0.10544026507673036, 0....           1  \n",
       "4  [-0.02428248010137484, -0.004550992990763728, ...           1  "
      ]
     },
     "execution_count": 90,
     "metadata": {},
     "output_type": "execute_result"
    }
   ],
   "source": [
    "test_df_mixed_vectorized.head()"
   ]
  },
  {
   "cell_type": "code",
   "execution_count": 91,
   "metadata": {},
   "outputs": [],
   "source": [
    "def cosine_between_rows(row):\n",
    "    sim = cosine_similarity(row['text vectors'].reshape(1, -1), row['title vectors'].reshape(1, -1))\n",
    "    return sim"
   ]
  },
  {
   "cell_type": "markdown",
   "metadata": {},
   "source": [
    "# Cosine Consistency Check"
   ]
  },
  {
   "cell_type": "code",
   "execution_count": 92,
   "metadata": {},
   "outputs": [
    {
     "name": "stdout",
     "output_type": "stream",
     "text": [
      "Mean cosine similarity score: first half [[0.77793142]]\n",
      "Mean cosine similarity score: second half [[0.23975193]]\n"
     ]
    }
   ],
   "source": [
    "sim_score_one = training_df_mixed_vectorized.iloc[:int(len(training_df_mixed_vectorized)/2)].apply(cosine_between_rows, axis = 1)\n",
    "sim_score_two = training_df_mixed_vectorized.iloc[int(len(training_df_mixed_vectorized)/2):].apply(cosine_between_rows, axis = 1)\n",
    "\n",
    "print('Mean cosine similarity score: first half', np.mean(sim_score_one))\n",
    "print('Mean cosine similarity score: second half', np.mean(sim_score_two))"
   ]
  },
  {
   "cell_type": "code",
   "execution_count": 93,
   "metadata": {},
   "outputs": [
    {
     "name": "stdout",
     "output_type": "stream",
     "text": [
      "Mean cosine similarity score: first half [[0.77131054]]\n",
      "Mean cosine similarity score: second half [[0.24410764]]\n"
     ]
    }
   ],
   "source": [
    "sim_score_one_test = test_df_mixed_vectorized.iloc[:int(len(test_df_mixed_vectorized)/2)].apply(cosine_between_rows, axis = 1)\n",
    "sim_score_two_test = test_df_mixed_vectorized.iloc[int(len(test_df_mixed_vectorized)/2):].apply(cosine_between_rows, axis = 1)\n",
    "\n",
    "print('Mean cosine similarity score: first half', np.mean(sim_score_one_test))\n",
    "print('Mean cosine similarity score: second half', np.mean(sim_score_two_test))"
   ]
  },
  {
   "cell_type": "code",
   "execution_count": 94,
   "metadata": {},
   "outputs": [
    {
     "data": {
      "text/html": [
       "<div>\n",
       "<style scoped>\n",
       "    .dataframe tbody tr th:only-of-type {\n",
       "        vertical-align: middle;\n",
       "    }\n",
       "\n",
       "    .dataframe tbody tr th {\n",
       "        vertical-align: top;\n",
       "    }\n",
       "\n",
       "    .dataframe thead th {\n",
       "        text-align: right;\n",
       "    }\n",
       "</style>\n",
       "<table border=\"1\" class=\"dataframe\">\n",
       "  <thead>\n",
       "    <tr style=\"text-align: right;\">\n",
       "      <th></th>\n",
       "      <th>text vectors</th>\n",
       "      <th>title vectors</th>\n",
       "      <th>pair class</th>\n",
       "    </tr>\n",
       "  </thead>\n",
       "  <tbody>\n",
       "    <tr>\n",
       "      <th>0</th>\n",
       "      <td>[lg, sh7b, от, 819, 00, доставка]</td>\n",
       "      <td>[lg, sh7b]</td>\n",
       "      <td>1</td>\n",
       "    </tr>\n",
       "    <tr>\n",
       "      <th>1</th>\n",
       "      <td>[нужный, перевод, медицинский, документация, к...</td>\n",
       "      <td>[перевод, медицинский, документация]</td>\n",
       "      <td>1</td>\n",
       "    </tr>\n",
       "    <tr>\n",
       "      <th>2</th>\n",
       "      <td>[результат, на, 3, день, зубной, паста, крест,...</td>\n",
       "      <td>[зубной, паста, крест]</td>\n",
       "      <td>1</td>\n",
       "    </tr>\n",
       "    <tr>\n",
       "      <th>3</th>\n",
       "      <td>[массив, бук, и, дуб, древесный, шпон, ciplex,...</td>\n",
       "      <td>[межкомнатный, дверь, из, россия]</td>\n",
       "      <td>1</td>\n",
       "    </tr>\n",
       "    <tr>\n",
       "      <th>4</th>\n",
       "      <td>[купить, Gerat, лента, пробивной, Gerat, 19мм,...</td>\n",
       "      <td>[Gerat, 19мм, 3, 2мм, 30м, 50327]</td>\n",
       "      <td>1</td>\n",
       "    </tr>\n",
       "  </tbody>\n",
       "</table>\n",
       "</div>"
      ],
      "text/plain": [
       "                                        text vectors  \\\n",
       "0                  [lg, sh7b, от, 819, 00, доставка]   \n",
       "1  [нужный, перевод, медицинский, документация, к...   \n",
       "2  [результат, на, 3, день, зубной, паста, крест,...   \n",
       "3  [массив, бук, и, дуб, древесный, шпон, ciplex,...   \n",
       "4  [купить, Gerat, лента, пробивной, Gerat, 19мм,...   \n",
       "\n",
       "                          title vectors  pair class  \n",
       "0                            [lg, sh7b]           1  \n",
       "1  [перевод, медицинский, документация]           1  \n",
       "2                [зубной, паста, крест]           1  \n",
       "3     [межкомнатный, дверь, из, россия]           1  \n",
       "4     [Gerat, 19мм, 3, 2мм, 30м, 50327]           1  "
      ]
     },
     "execution_count": 94,
     "metadata": {},
     "output_type": "execute_result"
    }
   ],
   "source": [
    "training_df_mixed.head()"
   ]
  },
  {
   "cell_type": "code",
   "execution_count": 95,
   "metadata": {},
   "outputs": [
    {
     "data": {
      "text/plain": [
       "text vectors     0\n",
       "title vectors    0\n",
       "pair class       0\n",
       "dtype: int64"
      ]
     },
     "execution_count": 95,
     "metadata": {},
     "output_type": "execute_result"
    }
   ],
   "source": [
    "training_df_mixed.isnull().sum()"
   ]
  },
  {
   "cell_type": "code",
   "execution_count": 96,
   "metadata": {},
   "outputs": [
    {
     "data": {
      "text/html": [
       "<div>\n",
       "<style scoped>\n",
       "    .dataframe tbody tr th:only-of-type {\n",
       "        vertical-align: middle;\n",
       "    }\n",
       "\n",
       "    .dataframe tbody tr th {\n",
       "        vertical-align: top;\n",
       "    }\n",
       "\n",
       "    .dataframe thead th {\n",
       "        text-align: right;\n",
       "    }\n",
       "</style>\n",
       "<table border=\"1\" class=\"dataframe\">\n",
       "  <thead>\n",
       "    <tr style=\"text-align: right;\">\n",
       "      <th></th>\n",
       "      <th>text vectors</th>\n",
       "      <th>title vectors</th>\n",
       "      <th>pair class</th>\n",
       "    </tr>\n",
       "  </thead>\n",
       "  <tbody>\n",
       "    <tr>\n",
       "      <th>0</th>\n",
       "      <td>[lg, sh7b, от, 819, 00, доставка]</td>\n",
       "      <td>[lg, sh7b]</td>\n",
       "      <td>1</td>\n",
       "    </tr>\n",
       "    <tr>\n",
       "      <th>1</th>\n",
       "      <td>[нужный, перевод, медицинский, документация, к...</td>\n",
       "      <td>[перевод, медицинский, документация]</td>\n",
       "      <td>1</td>\n",
       "    </tr>\n",
       "    <tr>\n",
       "      <th>2</th>\n",
       "      <td>[результат, на, 3, день, зубной, паста, крест,...</td>\n",
       "      <td>[зубной, паста, крест]</td>\n",
       "      <td>1</td>\n",
       "    </tr>\n",
       "    <tr>\n",
       "      <th>3</th>\n",
       "      <td>[массив, бук, и, дуб, древесный, шпон, ciplex,...</td>\n",
       "      <td>[межкомнатный, дверь, из, россия]</td>\n",
       "      <td>1</td>\n",
       "    </tr>\n",
       "    <tr>\n",
       "      <th>4</th>\n",
       "      <td>[купить, Gerat, лента, пробивной, Gerat, 19мм,...</td>\n",
       "      <td>[Gerat, 19мм, 3, 2мм, 30м, 50327]</td>\n",
       "      <td>1</td>\n",
       "    </tr>\n",
       "  </tbody>\n",
       "</table>\n",
       "</div>"
      ],
      "text/plain": [
       "                                        text vectors  \\\n",
       "0                  [lg, sh7b, от, 819, 00, доставка]   \n",
       "1  [нужный, перевод, медицинский, документация, к...   \n",
       "2  [результат, на, 3, день, зубной, паста, крест,...   \n",
       "3  [массив, бук, и, дуб, древесный, шпон, ciplex,...   \n",
       "4  [купить, Gerat, лента, пробивной, Gerat, 19мм,...   \n",
       "\n",
       "                          title vectors  pair class  \n",
       "0                            [lg, sh7b]           1  \n",
       "1  [перевод, медицинский, документация]           1  \n",
       "2                [зубной, паста, крест]           1  \n",
       "3     [межкомнатный, дверь, из, россия]           1  \n",
       "4     [Gerat, 19мм, 3, 2мм, 30м, 50327]           1  "
      ]
     },
     "execution_count": 96,
     "metadata": {},
     "output_type": "execute_result"
    }
   ],
   "source": [
    "training_df_mixed.head()"
   ]
  },
  {
   "cell_type": "code",
   "execution_count": 97,
   "metadata": {},
   "outputs": [
    {
     "data": {
      "text/plain": [
       "text vectors     0\n",
       "title vectors    0\n",
       "pair class       0\n",
       "dtype: int64"
      ]
     },
     "execution_count": 97,
     "metadata": {},
     "output_type": "execute_result"
    }
   ],
   "source": [
    "test_df_mixed.isnull().sum()"
   ]
  },
  {
   "cell_type": "code",
   "execution_count": 207,
   "metadata": {},
   "outputs": [],
   "source": [
    "def df_converter(df):\n",
    "    resultant_lists = df['text vectors'].apply(list) + df['title vectors'].apply(list)\n",
    "    \n",
    "    #print length for checking the length of concatenated vectors\n",
    "    print(len(resultant_lists.iloc[0]))\n",
    "    \n",
    "    arrays = np.array(list(resultant_lists))\n",
    "    return arrays"
   ]
  },
  {
   "cell_type": "code",
   "execution_count": 175,
   "metadata": {},
   "outputs": [
    {
     "data": {
      "text/html": [
       "<div>\n",
       "<style scoped>\n",
       "    .dataframe tbody tr th:only-of-type {\n",
       "        vertical-align: middle;\n",
       "    }\n",
       "\n",
       "    .dataframe tbody tr th {\n",
       "        vertical-align: top;\n",
       "    }\n",
       "\n",
       "    .dataframe thead th {\n",
       "        text-align: right;\n",
       "    }\n",
       "</style>\n",
       "<table border=\"1\" class=\"dataframe\">\n",
       "  <thead>\n",
       "    <tr style=\"text-align: right;\">\n",
       "      <th></th>\n",
       "      <th>atext</th>\n",
       "      <th>atitle</th>\n",
       "    </tr>\n",
       "  </thead>\n",
       "  <tbody>\n",
       "    <tr>\n",
       "      <th>722354</th>\n",
       "      <td>[вычет, на, продажа, квартира, оформлять, возв...</td>\n",
       "      <td>[вычет, на, продажа, квартира]</td>\n",
       "    </tr>\n",
       "    <tr>\n",
       "      <th>698279</th>\n",
       "      <td>[фотоэпилятор, сравнивать, цена, весь, интерне...</td>\n",
       "      <td>[фотоэпилятор]</td>\n",
       "    </tr>\n",
       "    <tr>\n",
       "      <th>13032</th>\n",
       "      <td>[в, наличие, за, 32779, руб, купить]</td>\n",
       "      <td>[HP, 17, x009ur]</td>\n",
       "    </tr>\n",
       "    <tr>\n",
       "      <th>519539</th>\n",
       "      <td>[аквариум, 50, литр, в, магазин, биотоп, широк...</td>\n",
       "      <td>[аквариум, 50, литр]</td>\n",
       "    </tr>\n",
       "    <tr>\n",
       "      <th>194913</th>\n",
       "      <td>[купить, Electrolux, встраивать, электрический...</td>\n",
       "      <td>[Electrolux, EOB, 93410, AX, EOB93410A]</td>\n",
       "    </tr>\n",
       "  </tbody>\n",
       "</table>\n",
       "</div>"
      ],
      "text/plain": [
       "                                                    atext  \\\n",
       "722354  [вычет, на, продажа, квартира, оформлять, возв...   \n",
       "698279  [фотоэпилятор, сравнивать, цена, весь, интерне...   \n",
       "13032                [в, наличие, за, 32779, руб, купить]   \n",
       "519539  [аквариум, 50, литр, в, магазин, биотоп, широк...   \n",
       "194913  [купить, Electrolux, встраивать, электрический...   \n",
       "\n",
       "                                         atitle  \n",
       "722354           [вычет, на, продажа, квартира]  \n",
       "698279                           [фотоэпилятор]  \n",
       "13032                          [HP, 17, x009ur]  \n",
       "519539                     [аквариум, 50, литр]  \n",
       "194913  [Electrolux, EOB, 93410, AX, EOB93410A]  "
      ]
     },
     "execution_count": 175,
     "metadata": {},
     "output_type": "execute_result"
    }
   ],
   "source": [
    "test_sample.head()"
   ]
  },
  {
   "cell_type": "code",
   "execution_count": 176,
   "metadata": {},
   "outputs": [
    {
     "data": {
      "text/plain": [
       "(1000, 2)"
      ]
     },
     "execution_count": 176,
     "metadata": {},
     "output_type": "execute_result"
    }
   ],
   "source": [
    "test_sample.shape"
   ]
  },
  {
   "cell_type": "code",
   "execution_count": 192,
   "metadata": {},
   "outputs": [
    {
     "name": "stdout",
     "output_type": "stream",
     "text": [
      "300\n"
     ]
    }
   ],
   "source": [
    "concatenated_texts_titles_test = df_converter_test(ad_vectors, title_vectors)"
   ]
  },
  {
   "cell_type": "code",
   "execution_count": 99,
   "metadata": {},
   "outputs": [
    {
     "name": "stdout",
     "output_type": "stream",
     "text": [
      "600\n"
     ]
    }
   ],
   "source": [
    "all_training_vectors = df_converter(training_df_mixed_vectorized)"
   ]
  },
  {
   "cell_type": "code",
   "execution_count": 100,
   "metadata": {},
   "outputs": [
    {
     "name": "stdout",
     "output_type": "stream",
     "text": [
      "600\n"
     ]
    }
   ],
   "source": [
    "all_test_vectors = df_converter(test_df_mixed_vectorized)"
   ]
  },
  {
   "cell_type": "code",
   "execution_count": 101,
   "metadata": {},
   "outputs": [],
   "source": [
    "new_y_training = training_df_mixed_vectorized['pair class']"
   ]
  },
  {
   "cell_type": "code",
   "execution_count": 102,
   "metadata": {},
   "outputs": [],
   "source": [
    "new_y_test = test_df_mixed_vectorized['pair class']"
   ]
  },
  {
   "cell_type": "markdown",
   "metadata": {},
   "source": [
    "# Sample for Parameter Finetuning"
   ]
  },
  {
   "cell_type": "code",
   "execution_count": 103,
   "metadata": {},
   "outputs": [],
   "source": [
    "sample_training_df = training_df_mixed_vectorized.sample(10000)"
   ]
  },
  {
   "cell_type": "code",
   "execution_count": 104,
   "metadata": {},
   "outputs": [
    {
     "data": {
      "text/html": [
       "<div>\n",
       "<style scoped>\n",
       "    .dataframe tbody tr th:only-of-type {\n",
       "        vertical-align: middle;\n",
       "    }\n",
       "\n",
       "    .dataframe tbody tr th {\n",
       "        vertical-align: top;\n",
       "    }\n",
       "\n",
       "    .dataframe thead th {\n",
       "        text-align: right;\n",
       "    }\n",
       "</style>\n",
       "<table border=\"1\" class=\"dataframe\">\n",
       "  <thead>\n",
       "    <tr style=\"text-align: right;\">\n",
       "      <th></th>\n",
       "      <th>text vectors</th>\n",
       "      <th>title vectors</th>\n",
       "      <th>pair class</th>\n",
       "    </tr>\n",
       "  </thead>\n",
       "  <tbody>\n",
       "    <tr>\n",
       "      <th>73848</th>\n",
       "      <td>[-0.024461163648745125, 0.07385958251456846, -...</td>\n",
       "      <td>[0.09777075576446484, -0.017477688958758966, 0...</td>\n",
       "      <td>0</td>\n",
       "    </tr>\n",
       "    <tr>\n",
       "      <th>41474</th>\n",
       "      <td>[0.029550488879790324, -0.0007050228360854501,...</td>\n",
       "      <td>[0.04088338147201241, -0.008635741477812502, 0...</td>\n",
       "      <td>1</td>\n",
       "    </tr>\n",
       "    <tr>\n",
       "      <th>71888</th>\n",
       "      <td>[0.07519309326942628, 0.0020413550882636944, 0...</td>\n",
       "      <td>[-0.04150392343382974, -0.027029322814594935, ...</td>\n",
       "      <td>0</td>\n",
       "    </tr>\n",
       "    <tr>\n",
       "      <th>67770</th>\n",
       "      <td>[0.014005950609526377, 0.07399886373448118, 0....</td>\n",
       "      <td>[0.005792041917937523, 0.01267497323845349, 0....</td>\n",
       "      <td>1</td>\n",
       "    </tr>\n",
       "    <tr>\n",
       "      <th>130152</th>\n",
       "      <td>[-0.0334350553809342, 0.10968606998876124, 0.0...</td>\n",
       "      <td>[0.04067004056744627, 0.03655720860357577, 0.0...</td>\n",
       "      <td>0</td>\n",
       "    </tr>\n",
       "  </tbody>\n",
       "</table>\n",
       "</div>"
      ],
      "text/plain": [
       "                                             text vectors  \\\n",
       "73848   [-0.024461163648745125, 0.07385958251456846, -...   \n",
       "41474   [0.029550488879790324, -0.0007050228360854501,...   \n",
       "71888   [0.07519309326942628, 0.0020413550882636944, 0...   \n",
       "67770   [0.014005950609526377, 0.07399886373448118, 0....   \n",
       "130152  [-0.0334350553809342, 0.10968606998876124, 0.0...   \n",
       "\n",
       "                                            title vectors  pair class  \n",
       "73848   [0.09777075576446484, -0.017477688958758966, 0...           0  \n",
       "41474   [0.04088338147201241, -0.008635741477812502, 0...           1  \n",
       "71888   [-0.04150392343382974, -0.027029322814594935, ...           0  \n",
       "67770   [0.005792041917937523, 0.01267497323845349, 0....           1  \n",
       "130152  [0.04067004056744627, 0.03655720860357577, 0.0...           0  "
      ]
     },
     "execution_count": 104,
     "metadata": {},
     "output_type": "execute_result"
    }
   ],
   "source": [
    "sample_training_df.head()"
   ]
  },
  {
   "cell_type": "code",
   "execution_count": 375,
   "metadata": {},
   "outputs": [],
   "source": [
    "from sklearn.decomposition import PCA\n",
    "\n",
    "pca = PCA(n_components = 150)\n",
    "X_train_pca = pca.fit_transform(all_training_vectors)"
   ]
  },
  {
   "cell_type": "code",
   "execution_count": 376,
   "metadata": {},
   "outputs": [
    {
     "name": "stdout",
     "output_type": "stream",
     "text": [
      "0.9633333080771805\n"
     ]
    }
   ],
   "source": [
    "print(sum(pca.explained_variance_ratio_))"
   ]
  },
  {
   "cell_type": "code",
   "execution_count": 386,
   "metadata": {},
   "outputs": [],
   "source": [
    "X_test_pca = pca.transform(all_test_vectors)"
   ]
  },
  {
   "cell_type": "code",
   "execution_count": 387,
   "metadata": {},
   "outputs": [
    {
     "data": {
      "text/plain": [
       "(58275, 250)"
      ]
     },
     "execution_count": 387,
     "metadata": {},
     "output_type": "execute_result"
    }
   ],
   "source": [
    "X_test_pca.shape"
   ]
  },
  {
   "cell_type": "markdown",
   "metadata": {},
   "source": [
    "# Finetuning Models"
   ]
  },
  {
   "cell_type": "code",
   "execution_count": 108,
   "metadata": {},
   "outputs": [
    {
     "name": "stdout",
     "output_type": "stream",
     "text": [
      "600\n"
     ]
    }
   ],
   "source": [
    "sample_training_arrays = df_converter(sample_training_df)"
   ]
  },
  {
   "cell_type": "code",
   "execution_count": 109,
   "metadata": {},
   "outputs": [],
   "source": [
    "sample_y = sample_training_df['pair class']"
   ]
  },
  {
   "cell_type": "code",
   "execution_count": 110,
   "metadata": {},
   "outputs": [],
   "source": [
    "pca_sample = PCA(n_components = 150)\n",
    "X_train_sample_pca = pca_sample.fit_transform(sample_training_arrays)"
   ]
  },
  {
   "cell_type": "code",
   "execution_count": 111,
   "metadata": {},
   "outputs": [
    {
     "data": {
      "text/plain": [
       "(10000, 150)"
      ]
     },
     "execution_count": 111,
     "metadata": {},
     "output_type": "execute_result"
    }
   ],
   "source": [
    "X_train_sample_pca.shape"
   ]
  },
  {
   "cell_type": "code",
   "execution_count": 112,
   "metadata": {},
   "outputs": [
    {
     "name": "stdout",
     "output_type": "stream",
     "text": [
      "0.878388222000111\n"
     ]
    }
   ],
   "source": [
    "print(sum(pca_sample.explained_variance_ratio_))"
   ]
  },
  {
   "cell_type": "code",
   "execution_count": 113,
   "metadata": {},
   "outputs": [
    {
     "data": {
      "image/png": "[encoded data removed]",
      "text/plain": [
       "<Figure size 864x504 with 1 Axes>"
      ]
     },
     "metadata": {
      "needs_background": "light"
     },
     "output_type": "display_data"
    }
   ],
   "source": [
    "plt.figure(figsize=(12, 7))\n",
    "plt.title('First Two PCA Components')\n",
    "sns.scatterplot(X_train_sample_pca[:, 0], X_train_sample_pca[:, 1])\n",
    "plt.xlabel('First PCA Component')\n",
    "plt.ylabel('Second PCA Componenet')\n",
    "\n",
    "plt.show()"
   ]
  },
  {
   "cell_type": "code",
   "execution_count": 114,
   "metadata": {},
   "outputs": [
    {
     "name": "stdout",
     "output_type": "stream",
     "text": [
      "Fitting 3 folds for each of 12 candidates, totalling 36 fits\n"
     ]
    },
    {
     "name": "stderr",
     "output_type": "stream",
     "text": [
      "[Parallel(n_jobs=1)]: Done  36 out of  36 | elapsed:    2.3s finished\n"
     ]
    },
    {
     "data": {
      "text/plain": [
       "GridSearchCV(cv=3, error_score='raise',\n",
       "       estimator=LogisticRegression(C=1.0, class_weight=None, dual=False, fit_intercept=True,\n",
       "          intercept_scaling=1, max_iter=100, multi_class='ovr', n_jobs=1,\n",
       "          penalty='l2', random_state=None, solver='liblinear', tol=0.0001,\n",
       "          verbose=0, warm_start=False),\n",
       "       fit_params=None, iid=True, n_jobs=1,\n",
       "       param_grid=[{'C': [1e-20, 0.001, 0.001, 10, 100.0, 1000.0], 'penalty': ['l1', 'l2']}],\n",
       "       pre_dispatch='2*n_jobs', refit=True, return_train_score='warn',\n",
       "       scoring='accuracy', verbose=1)"
      ]
     },
     "execution_count": 114,
     "metadata": {},
     "output_type": "execute_result"
    }
   ],
   "source": [
    "from sklearn.linear_model import LogisticRegression\n",
    "\n",
    "param_grid = [\n",
    "    {'C': [1e-20, 1e-3,1e-3,  10, 1e2, 1e3],\n",
    "    'penalty': ['l1', 'l2']}\n",
    "]\n",
    "lr = LogisticRegression()\n",
    "\n",
    "grid_search = GridSearchCV(lr, param_grid, cv =3,\n",
    "                          scoring= 'accuracy', verbose=1)\n",
    "\n",
    "grid_search.fit(X_train_sample_pca, sample_y)"
   ]
  },
  {
   "cell_type": "code",
   "execution_count": 115,
   "metadata": {},
   "outputs": [
    {
     "name": "stdout",
     "output_type": "stream",
     "text": [
      "Best score 0.5001\n",
      "Best parameters {'C': 1e-20, 'penalty': 'l1'}\n"
     ]
    }
   ],
   "source": [
    "print('Best score', grid_search.best_score_)\n",
    "print('Best parameters', grid_search.best_params_)"
   ]
  },
  {
   "cell_type": "code",
   "execution_count": 116,
   "metadata": {},
   "outputs": [
    {
     "data": {
      "text/plain": [
       "GridSearchCV(cv=3, error_score='raise',\n",
       "       estimator=RandomForestClassifier(bootstrap=True, class_weight=None, criterion='gini',\n",
       "            max_depth=None, max_features='auto', max_leaf_nodes=None,\n",
       "            min_impurity_decrease=0.0, min_impurity_split=None,\n",
       "            min_samples_leaf=1, min_samples_split=2,\n",
       "            min_weight_fraction_leaf=0.0, n_estimators=10, n_jobs=-1,\n",
       "            oob_score=False, random_state=None, verbose=0,\n",
       "            warm_start=False),\n",
       "       fit_params=None, iid=True, n_jobs=-1,\n",
       "       param_grid=[{'n_estimators': [100, 500, 700], 'max_depth': [5, 8, 12, 20, 30]}],\n",
       "       pre_dispatch='2*n_jobs', refit=True, return_train_score='warn',\n",
       "       scoring='accuracy', verbose=0)"
      ]
     },
     "execution_count": 116,
     "metadata": {},
     "output_type": "execute_result"
    }
   ],
   "source": [
    "param_grid_rfc = [\n",
    "    {'n_estimators': [100, 500, 700],\n",
    "    'max_depth': [5, 8, 12, 20, 30]}\n",
    "]\n",
    "rfc = RandomForestClassifier(n_jobs = -1)\n",
    "\n",
    "grid_search_rfc = GridSearchCV(rfc, param_grid_rfc, cv =3,\n",
    "                          scoring= 'accuracy', verbose=0,\n",
    "                          n_jobs = -1)\n",
    "\n",
    "grid_search_rfc.fit(X_train_sample_pca, sample_y)"
   ]
  },
  {
   "cell_type": "code",
   "execution_count": 117,
   "metadata": {},
   "outputs": [
    {
     "name": "stdout",
     "output_type": "stream",
     "text": [
      "Best score 0.8782\n",
      "Best parameters {'max_depth': 30, 'n_estimators': 700}\n"
     ]
    }
   ],
   "source": [
    "print('Best score', grid_search_rfc.best_score_)\n",
    "print('Best parameters', grid_search_rfc.best_params_)"
   ]
  },
  {
   "cell_type": "code",
   "execution_count": 118,
   "metadata": {},
   "outputs": [
    {
     "data": {
      "text/plain": [
       "GridSearchCV(cv=3, error_score='raise',\n",
       "       estimator=RandomForestClassifier(bootstrap=True, class_weight=None, criterion='gini',\n",
       "            max_depth=None, max_features='auto', max_leaf_nodes=None,\n",
       "            min_impurity_decrease=0.0, min_impurity_split=None,\n",
       "            min_samples_leaf=1, min_samples_split=2,\n",
       "            min_weight_fraction_leaf=0.0, n_estimators=10, n_jobs=-1,\n",
       "            oob_score=False, random_state=None, verbose=0,\n",
       "            warm_start=False),\n",
       "       fit_params=None, iid=True, n_jobs=-1,\n",
       "       param_grid=[{'n_estimators': [1000, 1200], 'max_depth': [40, 50]}],\n",
       "       pre_dispatch='2*n_jobs', refit=True, return_train_score='warn',\n",
       "       scoring='accuracy', verbose=0)"
      ]
     },
     "execution_count": 118,
     "metadata": {},
     "output_type": "execute_result"
    }
   ],
   "source": [
    "param_grid_rfc = [\n",
    "    {'n_estimators': [1000, 1200],\n",
    "    'max_depth': [40, 50]}\n",
    "]\n",
    "rfc_one = RandomForestClassifier(n_jobs = -1)\n",
    "\n",
    "grid_search_rfc_one = GridSearchCV(rfc, param_grid_rfc, cv =3,\n",
    "                          scoring= 'accuracy', verbose=0,\n",
    "                          n_jobs = -1)\n",
    "\n",
    "grid_search_rfc_one.fit(X_train_sample_pca, sample_y)"
   ]
  },
  {
   "cell_type": "code",
   "execution_count": 119,
   "metadata": {},
   "outputs": [
    {
     "name": "stdout",
     "output_type": "stream",
     "text": [
      "Best score 0.8783\n",
      "Best parameters {'max_depth': 50, 'n_estimators': 1000}\n"
     ]
    }
   ],
   "source": [
    "print('Best score', grid_search_rfc_one.best_score_)\n",
    "print('Best parameters', grid_search_rfc_one.best_params_)"
   ]
  },
  {
   "cell_type": "code",
   "execution_count": 120,
   "metadata": {},
   "outputs": [
    {
     "data": {
      "text/plain": [
       "GridSearchCV(cv=3, error_score='raise',\n",
       "       estimator=XGBClassifier(base_score=0.5, booster='gbtree', colsample_bylevel=1,\n",
       "       colsample_bytree=1, gamma=0, learning_rate=0.1, max_delta_step=0,\n",
       "       max_depth=3, min_child_weight=1, missing=None, n_estimators=100,\n",
       "       n_jobs=-1, nthread=None, objective='binary:logistic',\n",
       "       random_state=0, reg_alpha=0, reg_lambda=1, scale_pos_weight=1,\n",
       "       seed=None, silent=True, subsample=1),\n",
       "       fit_params=None, iid=True, n_jobs=-1,\n",
       "       param_grid=[{'n_estimators': [100, 500, 700], 'max_depth': [2, 4, 6, 8]}],\n",
       "       pre_dispatch='2*n_jobs', refit=True, return_train_score='warn',\n",
       "       scoring='accuracy', verbose=0)"
      ]
     },
     "execution_count": 120,
     "metadata": {},
     "output_type": "execute_result"
    }
   ],
   "source": [
    "from xgboost import XGBClassifier\n",
    "\n",
    "param_grid_xgb = [\n",
    "    {'n_estimators': [100, 500, 700],\n",
    "    'max_depth': [2, 4, 6, 8],\n",
    "    #'learning_rate': [1e-3, 0.5, 0.1],\n",
    "    }\n",
    "]\n",
    "xgb = XGBClassifier(n_jobs = -1)\n",
    "\n",
    "grid_search_xgb = GridSearchCV(xgb, param_grid_xgb, cv =3,\n",
    "                          scoring= 'accuracy', verbose=0,\n",
    "                          n_jobs = -1)\n",
    "\n",
    "grid_search_xgb.fit(X_train_sample_pca, sample_y)"
   ]
  },
  {
   "cell_type": "code",
   "execution_count": 121,
   "metadata": {},
   "outputs": [
    {
     "name": "stdout",
     "output_type": "stream",
     "text": [
      "Best score 0.9246\n",
      "Best parameters {'max_depth': 6, 'n_estimators': 700}\n"
     ]
    }
   ],
   "source": [
    "print('Best score', grid_search_xgb.best_score_)\n",
    "print('Best parameters', grid_search_xgb.best_params_)"
   ]
  },
  {
   "cell_type": "code",
   "execution_count": 122,
   "metadata": {},
   "outputs": [
    {
     "data": {
      "text/plain": [
       "GridSearchCV(cv=3, error_score='raise',\n",
       "       estimator=XGBClassifier(base_score=0.5, booster='gbtree', colsample_bylevel=1,\n",
       "       colsample_bytree=1, gamma=0, learning_rate=0.1, max_delta_step=0,\n",
       "       max_depth=6, min_child_weight=1, missing=None, n_estimators=100,\n",
       "       n_jobs=-1, nthread=None, objective='binary:logistic',\n",
       "       random_state=0, reg_alpha=0, reg_lambda=1, scale_pos_weight=1,\n",
       "       seed=None, silent=True, subsample=1),\n",
       "       fit_params=None, iid=True, n_jobs=-1,\n",
       "       param_grid=[{'n_estimators': [700, 1000], 'learning_rate': [0.001, 0.5, 0.1]}],\n",
       "       pre_dispatch='2*n_jobs', refit=True, return_train_score='warn',\n",
       "       scoring='accuracy', verbose=0)"
      ]
     },
     "execution_count": 122,
     "metadata": {},
     "output_type": "execute_result"
    }
   ],
   "source": [
    "param_grid_xgb_one = [\n",
    "    {'n_estimators': [700, 1000],\n",
    "    'learning_rate': [1e-3, 0.5, 0.1],\n",
    "    }\n",
    "]\n",
    "xgb = XGBClassifier(n_jobs = -1, max_depth= 6)\n",
    "\n",
    "grid_search_xgb_one = GridSearchCV(xgb, param_grid_xgb_one, cv =3,\n",
    "                          scoring= 'accuracy', verbose=0,\n",
    "                          n_jobs = -1)\n",
    "\n",
    "grid_search_xgb_one.fit(X_train_sample_pca, sample_y)"
   ]
  },
  {
   "cell_type": "code",
   "execution_count": 123,
   "metadata": {},
   "outputs": [
    {
     "name": "stdout",
     "output_type": "stream",
     "text": [
      "Best score 0.9278\n",
      "Best parameters {'learning_rate': 0.1, 'n_estimators': 1000}\n"
     ]
    }
   ],
   "source": [
    "print('Best score', grid_search_xgb_one.best_score_)\n",
    "print('Best parameters', grid_search_xgb_one.best_params_)"
   ]
  },
  {
   "cell_type": "code",
   "execution_count": 125,
   "metadata": {},
   "outputs": [
    {
     "data": {
      "text/plain": [
       "GridSearchCV(cv=3, error_score='raise',\n",
       "       estimator=XGBClassifier(base_score=0.5, booster='gbtree', colsample_bylevel=1,\n",
       "       colsample_bytree=1, gamma=0, learning_rate=0.1, max_delta_step=0,\n",
       "       max_depth=6, min_child_weight=1, missing=None, n_estimators=1000,\n",
       "       n_jobs=-1, nthread=None, objective='binary:logistic',\n",
       "       random_state=0, reg_alpha=0, reg_lambda=1, scale_pos_weight=1,\n",
       "       seed=None, silent=True, subsample=1),\n",
       "       fit_params=None, iid=True, n_jobs=-1,\n",
       "       param_grid=[{'subsample': [0.25, 0.5, 1]}], pre_dispatch='2*n_jobs',\n",
       "       refit=True, return_train_score='warn', scoring='accuracy',\n",
       "       verbose=0)"
      ]
     },
     "execution_count": 125,
     "metadata": {},
     "output_type": "execute_result"
    }
   ],
   "source": [
    "param_grid_xgb_two = [\n",
    "    {'subsample': [0.25, 0.5, 1],\n",
    "    }\n",
    "]\n",
    "xgb = XGBClassifier(n_jobs = -1, max_depth= 6, n_estimators=1000, learning_rate=0.1, )\n",
    "\n",
    "grid_search_xgb_two = GridSearchCV(xgb, param_grid_xgb_two, cv =3,\n",
    "                          scoring= 'accuracy', verbose=0,\n",
    "                          n_jobs = -1)\n",
    "\n",
    "grid_search_xgb_two.fit(X_train_sample_pca, sample_y)"
   ]
  },
  {
   "cell_type": "code",
   "execution_count": 126,
   "metadata": {},
   "outputs": [
    {
     "name": "stdout",
     "output_type": "stream",
     "text": [
      "Best score 0.9297\n",
      "Best parameters {'subsample': 0.5}\n"
     ]
    }
   ],
   "source": [
    "print('Best score', grid_search_xgb_two.best_score_)\n",
    "print('Best parameters', grid_search_xgb_two.best_params_)"
   ]
  },
  {
   "cell_type": "markdown",
   "metadata": {},
   "source": [
    "# Test Set"
   ]
  },
  {
   "cell_type": "code",
   "execution_count": 127,
   "metadata": {},
   "outputs": [
    {
     "name": "stdout",
     "output_type": "stream",
     "text": [
      "0.4997683397683398\n"
     ]
    }
   ],
   "source": [
    "from sklearn.metrics import roc_auc_score\n",
    "lr_test = LogisticRegression(C= 1e-20, penalty= 'l1')\n",
    "\n",
    "lr_test.fit(X_train_pca, new_y_training)\n",
    "\n",
    "print(lr_test.score(X_test_pca, new_y_test))"
   ]
  },
  {
   "cell_type": "code",
   "execution_count": 128,
   "metadata": {},
   "outputs": [
    {
     "name": "stdout",
     "output_type": "stream",
     "text": [
      "0.9344487344487344\n"
     ]
    }
   ],
   "source": [
    "rfc_test = RandomForestClassifier(n_jobs = -1, \n",
    "                            n_estimators = 1000,\n",
    "                            max_depth = 50)\n",
    "\n",
    "rfc_test.fit(X_train_pca, new_y_training)\n",
    "\n",
    "print(rfc_test.score(X_test_pca, new_y_test))"
   ]
  },
  {
   "cell_type": "code",
   "execution_count": 385,
   "metadata": {},
   "outputs": [
    {
     "ename": "ValueError",
     "evalue": "feature_names mismatch: ['f0', 'f1', 'f2', 'f3', 'f4', 'f5', 'f6', 'f7', 'f8', 'f9', 'f10', 'f11', 'f12', 'f13', 'f14', 'f15', 'f16', 'f17', 'f18', 'f19', 'f20', 'f21', 'f22', 'f23', 'f24', 'f25', 'f26', 'f27', 'f28', 'f29', 'f30', 'f31', 'f32', 'f33', 'f34', 'f35', 'f36', 'f37', 'f38', 'f39', 'f40', 'f41', 'f42', 'f43', 'f44', 'f45', 'f46', 'f47', 'f48', 'f49', 'f50', 'f51', 'f52', 'f53', 'f54', 'f55', 'f56', 'f57', 'f58', 'f59', 'f60', 'f61', 'f62', 'f63', 'f64', 'f65', 'f66', 'f67', 'f68', 'f69', 'f70', 'f71', 'f72', 'f73', 'f74', 'f75', 'f76', 'f77', 'f78', 'f79', 'f80', 'f81', 'f82', 'f83', 'f84', 'f85', 'f86', 'f87', 'f88', 'f89', 'f90', 'f91', 'f92', 'f93', 'f94', 'f95', 'f96', 'f97', 'f98', 'f99', 'f100', 'f101', 'f102', 'f103', 'f104', 'f105', 'f106', 'f107', 'f108', 'f109', 'f110', 'f111', 'f112', 'f113', 'f114', 'f115', 'f116', 'f117', 'f118', 'f119', 'f120', 'f121', 'f122', 'f123', 'f124', 'f125', 'f126', 'f127', 'f128', 'f129', 'f130', 'f131', 'f132', 'f133', 'f134', 'f135', 'f136', 'f137', 'f138', 'f139', 'f140', 'f141', 'f142', 'f143', 'f144', 'f145', 'f146', 'f147', 'f148', 'f149', 'f150', 'f151', 'f152', 'f153', 'f154', 'f155', 'f156', 'f157', 'f158', 'f159', 'f160', 'f161', 'f162', 'f163', 'f164', 'f165', 'f166', 'f167', 'f168', 'f169', 'f170', 'f171', 'f172', 'f173', 'f174', 'f175', 'f176', 'f177', 'f178', 'f179', 'f180', 'f181', 'f182', 'f183', 'f184', 'f185', 'f186', 'f187', 'f188', 'f189', 'f190', 'f191', 'f192', 'f193', 'f194', 'f195', 'f196', 'f197', 'f198', 'f199', 'f200', 'f201', 'f202', 'f203', 'f204', 'f205', 'f206', 'f207', 'f208', 'f209', 'f210', 'f211', 'f212', 'f213', 'f214', 'f215', 'f216', 'f217', 'f218', 'f219', 'f220', 'f221', 'f222', 'f223', 'f224', 'f225', 'f226', 'f227', 'f228', 'f229', 'f230', 'f231', 'f232', 'f233', 'f234', 'f235', 'f236', 'f237', 'f238', 'f239', 'f240', 'f241', 'f242', 'f243', 'f244', 'f245', 'f246', 'f247', 'f248', 'f249'] ['f0', 'f1', 'f2', 'f3', 'f4', 'f5', 'f6', 'f7', 'f8', 'f9', 'f10', 'f11', 'f12', 'f13', 'f14', 'f15', 'f16', 'f17', 'f18', 'f19', 'f20', 'f21', 'f22', 'f23', 'f24', 'f25', 'f26', 'f27', 'f28', 'f29', 'f30', 'f31', 'f32', 'f33', 'f34', 'f35', 'f36', 'f37', 'f38', 'f39', 'f40', 'f41', 'f42', 'f43', 'f44', 'f45', 'f46', 'f47', 'f48', 'f49', 'f50', 'f51', 'f52', 'f53', 'f54', 'f55', 'f56', 'f57', 'f58', 'f59', 'f60', 'f61', 'f62', 'f63', 'f64', 'f65', 'f66', 'f67', 'f68', 'f69', 'f70', 'f71', 'f72', 'f73', 'f74', 'f75', 'f76', 'f77', 'f78', 'f79', 'f80', 'f81', 'f82', 'f83', 'f84', 'f85', 'f86', 'f87', 'f88', 'f89', 'f90', 'f91', 'f92', 'f93', 'f94', 'f95', 'f96', 'f97', 'f98', 'f99', 'f100', 'f101', 'f102', 'f103', 'f104', 'f105', 'f106', 'f107', 'f108', 'f109', 'f110', 'f111', 'f112', 'f113', 'f114', 'f115', 'f116', 'f117', 'f118', 'f119', 'f120', 'f121', 'f122', 'f123', 'f124', 'f125', 'f126', 'f127', 'f128', 'f129', 'f130', 'f131', 'f132', 'f133', 'f134', 'f135', 'f136', 'f137', 'f138', 'f139', 'f140', 'f141', 'f142', 'f143', 'f144', 'f145', 'f146', 'f147', 'f148', 'f149']\nexpected f231, f247, f198, f189, f184, f213, f197, f206, f180, f203, f232, f199, f165, f201, f191, f174, f188, f236, f156, f218, f162, f163, f178, f153, f200, f164, f185, f214, f226, f237, f175, f159, f182, f246, f223, f154, f202, f169, f219, f160, f194, f167, f243, f249, f179, f238, f217, f234, f161, f187, f186, f211, f241, f152, f225, f172, f235, f209, f173, f205, f207, f190, f215, f196, f228, f221, f166, f150, f177, f212, f171, f183, f192, f245, f151, f181, f239, f158, f240, f220, f230, f193, f170, f242, f227, f244, f224, f216, f195, f155, f208, f222, f176, f204, f168, f157, f229, f233, f248, f210 in input data",
     "output_type": "error",
     "traceback": [
      "\u001b[0;31m---------------------------------------------------------------------------\u001b[0m",
      "\u001b[0;31mValueError\u001b[0m                                Traceback (most recent call last)",
      "\u001b[0;32m<ipython-input-385-334722e304ab>\u001b[0m in \u001b[0;36m<module>\u001b[0;34m()\u001b[0m\n\u001b[1;32m      6\u001b[0m \u001b[0mxgb_test\u001b[0m\u001b[0;34m.\u001b[0m\u001b[0mfit\u001b[0m\u001b[0;34m(\u001b[0m\u001b[0mX_train_pca\u001b[0m\u001b[0;34m,\u001b[0m \u001b[0mnew_y_training\u001b[0m\u001b[0;34m)\u001b[0m\u001b[0;34m\u001b[0m\u001b[0m\n\u001b[1;32m      7\u001b[0m \u001b[0;34m\u001b[0m\u001b[0m\n\u001b[0;32m----> 8\u001b[0;31m \u001b[0mprint\u001b[0m\u001b[0;34m(\u001b[0m\u001b[0mxgb_test\u001b[0m\u001b[0;34m.\u001b[0m\u001b[0mscore\u001b[0m\u001b[0;34m(\u001b[0m\u001b[0mX_test_pca\u001b[0m\u001b[0;34m,\u001b[0m \u001b[0mnew_y_test\u001b[0m\u001b[0;34m)\u001b[0m\u001b[0;34m)\u001b[0m\u001b[0;34m\u001b[0m\u001b[0m\n\u001b[0m",
      "\u001b[0;32m/usr/local/lib/python3.6/site-packages/sklearn/base.py\u001b[0m in \u001b[0;36mscore\u001b[0;34m(self, X, y, sample_weight)\u001b[0m\n\u001b[1;32m    347\u001b[0m         \"\"\"\n\u001b[1;32m    348\u001b[0m         \u001b[0;32mfrom\u001b[0m \u001b[0;34m.\u001b[0m\u001b[0mmetrics\u001b[0m \u001b[0;32mimport\u001b[0m \u001b[0maccuracy_score\u001b[0m\u001b[0;34m\u001b[0m\u001b[0m\n\u001b[0;32m--> 349\u001b[0;31m         \u001b[0;32mreturn\u001b[0m \u001b[0maccuracy_score\u001b[0m\u001b[0;34m(\u001b[0m\u001b[0my\u001b[0m\u001b[0;34m,\u001b[0m \u001b[0mself\u001b[0m\u001b[0;34m.\u001b[0m\u001b[0mpredict\u001b[0m\u001b[0;34m(\u001b[0m\u001b[0mX\u001b[0m\u001b[0;34m)\u001b[0m\u001b[0;34m,\u001b[0m \u001b[0msample_weight\u001b[0m\u001b[0;34m=\u001b[0m\u001b[0msample_weight\u001b[0m\u001b[0;34m)\u001b[0m\u001b[0;34m\u001b[0m\u001b[0m\n\u001b[0m\u001b[1;32m    350\u001b[0m \u001b[0;34m\u001b[0m\u001b[0m\n\u001b[1;32m    351\u001b[0m \u001b[0;34m\u001b[0m\u001b[0m\n",
      "\u001b[0;32m/usr/local/lib/python3.6/site-packages/xgboost/sklearn.py\u001b[0m in \u001b[0;36mpredict\u001b[0;34m(self, data, output_margin, ntree_limit)\u001b[0m\n\u001b[1;32m    600\u001b[0m         class_probs = self.get_booster().predict(test_dmatrix,\n\u001b[1;32m    601\u001b[0m                                                  \u001b[0moutput_margin\u001b[0m\u001b[0;34m=\u001b[0m\u001b[0moutput_margin\u001b[0m\u001b[0;34m,\u001b[0m\u001b[0;34m\u001b[0m\u001b[0m\n\u001b[0;32m--> 602\u001b[0;31m                                                  ntree_limit=ntree_limit)\n\u001b[0m\u001b[1;32m    603\u001b[0m         \u001b[0;32mif\u001b[0m \u001b[0mlen\u001b[0m\u001b[0;34m(\u001b[0m\u001b[0mclass_probs\u001b[0m\u001b[0;34m.\u001b[0m\u001b[0mshape\u001b[0m\u001b[0;34m)\u001b[0m \u001b[0;34m>\u001b[0m \u001b[0;36m1\u001b[0m\u001b[0;34m:\u001b[0m\u001b[0;34m\u001b[0m\u001b[0m\n\u001b[1;32m    604\u001b[0m             \u001b[0mcolumn_indexes\u001b[0m \u001b[0;34m=\u001b[0m \u001b[0mnp\u001b[0m\u001b[0;34m.\u001b[0m\u001b[0margmax\u001b[0m\u001b[0;34m(\u001b[0m\u001b[0mclass_probs\u001b[0m\u001b[0;34m,\u001b[0m \u001b[0maxis\u001b[0m\u001b[0;34m=\u001b[0m\u001b[0;36m1\u001b[0m\u001b[0;34m)\u001b[0m\u001b[0;34m\u001b[0m\u001b[0m\n",
      "\u001b[0;32m/usr/local/lib/python3.6/site-packages/xgboost/core.py\u001b[0m in \u001b[0;36mpredict\u001b[0;34m(self, data, output_margin, ntree_limit, pred_leaf, pred_contribs, approx_contribs, pred_interactions, validate_features)\u001b[0m\n\u001b[1;32m   1192\u001b[0m \u001b[0;34m\u001b[0m\u001b[0m\n\u001b[1;32m   1193\u001b[0m         \u001b[0;32mif\u001b[0m \u001b[0mvalidate_features\u001b[0m\u001b[0;34m:\u001b[0m\u001b[0;34m\u001b[0m\u001b[0m\n\u001b[0;32m-> 1194\u001b[0;31m             \u001b[0mself\u001b[0m\u001b[0;34m.\u001b[0m\u001b[0m_validate_features\u001b[0m\u001b[0;34m(\u001b[0m\u001b[0mdata\u001b[0m\u001b[0;34m)\u001b[0m\u001b[0;34m\u001b[0m\u001b[0m\n\u001b[0m\u001b[1;32m   1195\u001b[0m \u001b[0;34m\u001b[0m\u001b[0m\n\u001b[1;32m   1196\u001b[0m         \u001b[0mlength\u001b[0m \u001b[0;34m=\u001b[0m \u001b[0mc_bst_ulong\u001b[0m\u001b[0;34m(\u001b[0m\u001b[0;34m)\u001b[0m\u001b[0;34m\u001b[0m\u001b[0m\n",
      "\u001b[0;32m/usr/local/lib/python3.6/site-packages/xgboost/core.py\u001b[0m in \u001b[0;36m_validate_features\u001b[0;34m(self, data)\u001b[0m\n\u001b[1;32m   1475\u001b[0m \u001b[0;34m\u001b[0m\u001b[0m\n\u001b[1;32m   1476\u001b[0m                 raise ValueError(msg.format(self.feature_names,\n\u001b[0;32m-> 1477\u001b[0;31m                                             data.feature_names))\n\u001b[0m\u001b[1;32m   1478\u001b[0m \u001b[0;34m\u001b[0m\u001b[0m\n\u001b[1;32m   1479\u001b[0m     \u001b[0;32mdef\u001b[0m \u001b[0mget_split_value_histogram\u001b[0m\u001b[0;34m(\u001b[0m\u001b[0mself\u001b[0m\u001b[0;34m,\u001b[0m \u001b[0mfeature\u001b[0m\u001b[0;34m,\u001b[0m \u001b[0mfmap\u001b[0m\u001b[0;34m=\u001b[0m\u001b[0;34m''\u001b[0m\u001b[0;34m,\u001b[0m \u001b[0mbins\u001b[0m\u001b[0;34m=\u001b[0m\u001b[0;32mNone\u001b[0m\u001b[0;34m,\u001b[0m \u001b[0mas_pandas\u001b[0m\u001b[0;34m=\u001b[0m\u001b[0;32mTrue\u001b[0m\u001b[0;34m)\u001b[0m\u001b[0;34m:\u001b[0m\u001b[0;34m\u001b[0m\u001b[0m\n",
      "\u001b[0;31mValueError\u001b[0m: feature_names mismatch: ['f0', 'f1', 'f2', 'f3', 'f4', 'f5', 'f6', 'f7', 'f8', 'f9', 'f10', 'f11', 'f12', 'f13', 'f14', 'f15', 'f16', 'f17', 'f18', 'f19', 'f20', 'f21', 'f22', 'f23', 'f24', 'f25', 'f26', 'f27', 'f28', 'f29', 'f30', 'f31', 'f32', 'f33', 'f34', 'f35', 'f36', 'f37', 'f38', 'f39', 'f40', 'f41', 'f42', 'f43', 'f44', 'f45', 'f46', 'f47', 'f48', 'f49', 'f50', 'f51', 'f52', 'f53', 'f54', 'f55', 'f56', 'f57', 'f58', 'f59', 'f60', 'f61', 'f62', 'f63', 'f64', 'f65', 'f66', 'f67', 'f68', 'f69', 'f70', 'f71', 'f72', 'f73', 'f74', 'f75', 'f76', 'f77', 'f78', 'f79', 'f80', 'f81', 'f82', 'f83', 'f84', 'f85', 'f86', 'f87', 'f88', 'f89', 'f90', 'f91', 'f92', 'f93', 'f94', 'f95', 'f96', 'f97', 'f98', 'f99', 'f100', 'f101', 'f102', 'f103', 'f104', 'f105', 'f106', 'f107', 'f108', 'f109', 'f110', 'f111', 'f112', 'f113', 'f114', 'f115', 'f116', 'f117', 'f118', 'f119', 'f120', 'f121', 'f122', 'f123', 'f124', 'f125', 'f126', 'f127', 'f128', 'f129', 'f130', 'f131', 'f132', 'f133', 'f134', 'f135', 'f136', 'f137', 'f138', 'f139', 'f140', 'f141', 'f142', 'f143', 'f144', 'f145', 'f146', 'f147', 'f148', 'f149', 'f150', 'f151', 'f152', 'f153', 'f154', 'f155', 'f156', 'f157', 'f158', 'f159', 'f160', 'f161', 'f162', 'f163', 'f164', 'f165', 'f166', 'f167', 'f168', 'f169', 'f170', 'f171', 'f172', 'f173', 'f174', 'f175', 'f176', 'f177', 'f178', 'f179', 'f180', 'f181', 'f182', 'f183', 'f184', 'f185', 'f186', 'f187', 'f188', 'f189', 'f190', 'f191', 'f192', 'f193', 'f194', 'f195', 'f196', 'f197', 'f198', 'f199', 'f200', 'f201', 'f202', 'f203', 'f204', 'f205', 'f206', 'f207', 'f208', 'f209', 'f210', 'f211', 'f212', 'f213', 'f214', 'f215', 'f216', 'f217', 'f218', 'f219', 'f220', 'f221', 'f222', 'f223', 'f224', 'f225', 'f226', 'f227', 'f228', 'f229', 'f230', 'f231', 'f232', 'f233', 'f234', 'f235', 'f236', 'f237', 'f238', 'f239', 'f240', 'f241', 'f242', 'f243', 'f244', 'f245', 'f246', 'f247', 'f248', 'f249'] ['f0', 'f1', 'f2', 'f3', 'f4', 'f5', 'f6', 'f7', 'f8', 'f9', 'f10', 'f11', 'f12', 'f13', 'f14', 'f15', 'f16', 'f17', 'f18', 'f19', 'f20', 'f21', 'f22', 'f23', 'f24', 'f25', 'f26', 'f27', 'f28', 'f29', 'f30', 'f31', 'f32', 'f33', 'f34', 'f35', 'f36', 'f37', 'f38', 'f39', 'f40', 'f41', 'f42', 'f43', 'f44', 'f45', 'f46', 'f47', 'f48', 'f49', 'f50', 'f51', 'f52', 'f53', 'f54', 'f55', 'f56', 'f57', 'f58', 'f59', 'f60', 'f61', 'f62', 'f63', 'f64', 'f65', 'f66', 'f67', 'f68', 'f69', 'f70', 'f71', 'f72', 'f73', 'f74', 'f75', 'f76', 'f77', 'f78', 'f79', 'f80', 'f81', 'f82', 'f83', 'f84', 'f85', 'f86', 'f87', 'f88', 'f89', 'f90', 'f91', 'f92', 'f93', 'f94', 'f95', 'f96', 'f97', 'f98', 'f99', 'f100', 'f101', 'f102', 'f103', 'f104', 'f105', 'f106', 'f107', 'f108', 'f109', 'f110', 'f111', 'f112', 'f113', 'f114', 'f115', 'f116', 'f117', 'f118', 'f119', 'f120', 'f121', 'f122', 'f123', 'f124', 'f125', 'f126', 'f127', 'f128', 'f129', 'f130', 'f131', 'f132', 'f133', 'f134', 'f135', 'f136', 'f137', 'f138', 'f139', 'f140', 'f141', 'f142', 'f143', 'f144', 'f145', 'f146', 'f147', 'f148', 'f149']\nexpected f231, f247, f198, f189, f184, f213, f197, f206, f180, f203, f232, f199, f165, f201, f191, f174, f188, f236, f156, f218, f162, f163, f178, f153, f200, f164, f185, f214, f226, f237, f175, f159, f182, f246, f223, f154, f202, f169, f219, f160, f194, f167, f243, f249, f179, f238, f217, f234, f161, f187, f186, f211, f241, f152, f225, f172, f235, f209, f173, f205, f207, f190, f215, f196, f228, f221, f166, f150, f177, f212, f171, f183, f192, f245, f151, f181, f239, f158, f240, f220, f230, f193, f170, f242, f227, f244, f224, f216, f195, f155, f208, f222, f176, f204, f168, f157, f229, f233, f248, f210 in input data"
     ]
    }
   ],
   "source": [
    "xgb_test = XGBClassifier(n_estimators = 1000,\n",
    "                        max_depth = 6,\n",
    "                        learning_rate= 0.1,\n",
    "                        subsample = 0.5)\n",
    "\n",
    "xgb_test.fit(X_train_pca, new_y_training)\n",
    "\n",
    "print(xgb_test.score(X_test_pca, new_y_test))"
   ]
  },
  {
   "cell_type": "code",
   "execution_count": 388,
   "metadata": {},
   "outputs": [
    {
     "name": "stdout",
     "output_type": "stream",
     "text": [
      "0.9658515658515658\n"
     ]
    }
   ],
   "source": [
    "print(xgb_test.score(X_test_pca, new_y_test))"
   ]
  },
  {
   "cell_type": "code",
   "execution_count": 130,
   "metadata": {},
   "outputs": [
    {
     "data": {
      "text/plain": [
       "58275"
      ]
     },
     "execution_count": 130,
     "metadata": {},
     "output_type": "execute_result"
    }
   ],
   "source": [
    "len(X_test_pca)"
   ]
  },
  {
   "cell_type": "code",
   "execution_count": 131,
   "metadata": {},
   "outputs": [
    {
     "data": {
      "text/plain": [
       "58746"
      ]
     },
     "execution_count": 131,
     "metadata": {},
     "output_type": "execute_result"
    }
   ],
   "source": [
    "len(test_df_mixed['text vectors'])"
   ]
  },
  {
   "cell_type": "code",
   "execution_count": 132,
   "metadata": {},
   "outputs": [],
   "source": [
    "predictions = pd.DataFrame(test_df_mixed['text vectors'].iloc[:200])\n",
    "predictions['title vectors'] = test_df_mixed['title vectors'].iloc[:200]\n",
    "predictions['pair class'] = test_df_mixed['pair class'].iloc[:200]\n",
    "predictions['predicted class'] = xgb_test.predict_proba(X_test_pca[:200])[:, 1]"
   ]
  },
  {
   "cell_type": "code",
   "execution_count": 258,
   "metadata": {},
   "outputs": [
    {
     "data": {
      "text/plain": [
       "array([0.94704723], dtype=float32)"
      ]
     },
     "execution_count": 258,
     "metadata": {},
     "output_type": "execute_result"
    }
   ],
   "source": [
    "xgb_test.predict_proba(X_test_pca[0].reshape(1, -1))[:, 1]"
   ]
  },
  {
   "cell_type": "code",
   "execution_count": 133,
   "metadata": {},
   "outputs": [
    {
     "data": {
      "text/html": [
       "<div>\n",
       "<style scoped>\n",
       "    .dataframe tbody tr th:only-of-type {\n",
       "        vertical-align: middle;\n",
       "    }\n",
       "\n",
       "    .dataframe tbody tr th {\n",
       "        vertical-align: top;\n",
       "    }\n",
       "\n",
       "    .dataframe thead th {\n",
       "        text-align: right;\n",
       "    }\n",
       "</style>\n",
       "<table border=\"1\" class=\"dataframe\">\n",
       "  <thead>\n",
       "    <tr style=\"text-align: right;\">\n",
       "      <th></th>\n",
       "      <th>text vectors</th>\n",
       "      <th>title vectors</th>\n",
       "      <th>pair class</th>\n",
       "      <th>predicted class</th>\n",
       "    </tr>\n",
       "  </thead>\n",
       "  <tbody>\n",
       "    <tr>\n",
       "      <th>0</th>\n",
       "      <td>[электрочайник, Zigmund, Shtain, KE, 81, SD, 1...</td>\n",
       "      <td>[KE, 81, SD, 119, 00, р]</td>\n",
       "      <td>1</td>\n",
       "      <td>0.947047</td>\n",
       "    </tr>\n",
       "    <tr>\n",
       "      <th>1</th>\n",
       "      <td>[сабвуфер, огромный, ассортимент, бесплатный, ...</td>\n",
       "      <td>[сабвуфер, купить, в, красноярск]</td>\n",
       "      <td>1</td>\n",
       "      <td>0.998186</td>\n",
       "    </tr>\n",
       "    <tr>\n",
       "      <th>2</th>\n",
       "      <td>[Onkyo, Tx, nr545, Black, в, наличие, быстрый,...</td>\n",
       "      <td>[Onkyo, Tx, nr545, Black, всего, 42390р]</td>\n",
       "      <td>1</td>\n",
       "      <td>0.997832</td>\n",
       "    </tr>\n",
       "    <tr>\n",
       "      <th>3</th>\n",
       "      <td>[шаблон, ордер, входить, в, состав, сборник, 1...</td>\n",
       "      <td>[шаблон, ордер]</td>\n",
       "      <td>1</td>\n",
       "      <td>0.998793</td>\n",
       "    </tr>\n",
       "    <tr>\n",
       "      <th>4</th>\n",
       "      <td>[шпаклевка, финишный, белый, сравнивать, цена,...</td>\n",
       "      <td>[шпаклевка, финишный, белый]</td>\n",
       "      <td>1</td>\n",
       "      <td>0.978355</td>\n",
       "    </tr>\n",
       "    <tr>\n",
       "      <th>5</th>\n",
       "      <td>[акция, аккумулятор, на, Toyota, Corolla, розн...</td>\n",
       "      <td>[аккумулятор, на, Toyota, Corolla]</td>\n",
       "      <td>1</td>\n",
       "      <td>0.997586</td>\n",
       "    </tr>\n",
       "    <tr>\n",
       "      <th>6</th>\n",
       "      <td>[пила, торцовочный, только, сегодня, за, 6499,...</td>\n",
       "      <td>[пила, торцовочный, Hammer]</td>\n",
       "      <td>1</td>\n",
       "      <td>0.995508</td>\n",
       "    </tr>\n",
       "    <tr>\n",
       "      <th>7</th>\n",
       "      <td>[по, низкий, цена, шуруповерт, макит, в, спб, ...</td>\n",
       "      <td>[купить, шуруповерт, макит, в, спб]</td>\n",
       "      <td>1</td>\n",
       "      <td>0.992123</td>\n",
       "    </tr>\n",
       "    <tr>\n",
       "      <th>8</th>\n",
       "      <td>[купить, Makita, уровень, Makita, Skr200z, 174...</td>\n",
       "      <td>[уровень, Makita, Skr200z, 174614]</td>\n",
       "      <td>1</td>\n",
       "      <td>0.998924</td>\n",
       "    </tr>\n",
       "    <tr>\n",
       "      <th>9</th>\n",
       "      <td>[дезодорант, регулир, потоотделение, сравниват...</td>\n",
       "      <td>[дезодорант, регулир, потоотделение]</td>\n",
       "      <td>1</td>\n",
       "      <td>0.993338</td>\n",
       "    </tr>\n",
       "    <tr>\n",
       "      <th>10</th>\n",
       "      <td>[удлинитель, 10, м, сравнивать, цена, весь, ин...</td>\n",
       "      <td>[удлинитель, 10, м]</td>\n",
       "      <td>1</td>\n",
       "      <td>0.988810</td>\n",
       "    </tr>\n",
       "    <tr>\n",
       "      <th>11</th>\n",
       "      <td>[замена, ГРМ, с5, в, день, обращение, от, 2500...</td>\n",
       "      <td>[замена, ГРМ, с5]</td>\n",
       "      <td>1</td>\n",
       "      <td>0.999410</td>\n",
       "    </tr>\n",
       "    <tr>\n",
       "      <th>12</th>\n",
       "      <td>[простой, способ, изучение, офисный, программа...</td>\n",
       "      <td>[Excel, для, начинающий]</td>\n",
       "      <td>1</td>\n",
       "      <td>0.996395</td>\n",
       "    </tr>\n",
       "    <tr>\n",
       "      <th>13</th>\n",
       "      <td>[купить, Supra, автомагнитола, USB, SD, Supra,...</td>\n",
       "      <td>[USB, SD, Supra, SFD, 121USC, недорого]</td>\n",
       "      <td>1</td>\n",
       "      <td>0.996442</td>\n",
       "    </tr>\n",
       "    <tr>\n",
       "      <th>14</th>\n",
       "      <td>[телевизор, LG, 49UH750V, 2183, 90, р, гаранти...</td>\n",
       "      <td>[LG, 49UH750V, 2183, 90, руб]</td>\n",
       "      <td>1</td>\n",
       "      <td>0.984250</td>\n",
       "    </tr>\n",
       "    <tr>\n",
       "      <th>15</th>\n",
       "      <td>[ZyXEL, Keenetic, 4G, III, сравнивать, цена, в...</td>\n",
       "      <td>[ZyXEL, Keenetic, 4G, III]</td>\n",
       "      <td>1</td>\n",
       "      <td>0.998834</td>\n",
       "    </tr>\n",
       "    <tr>\n",
       "      <th>16</th>\n",
       "      <td>[купить, ASUS, ноутбук, ASUS, ROG, G771JW, 17,...</td>\n",
       "      <td>[ASUS, ROG, G771JW, 17, 3, 1920x1080, In]</td>\n",
       "      <td>1</td>\n",
       "      <td>0.996931</td>\n",
       "    </tr>\n",
       "    <tr>\n",
       "      <th>17</th>\n",
       "      <td>[санки, скандинавия, сравнивать, цена, весь, и...</td>\n",
       "      <td>[санки, скандинавия]</td>\n",
       "      <td>1</td>\n",
       "      <td>0.993994</td>\n",
       "    </tr>\n",
       "    <tr>\n",
       "      <th>18</th>\n",
       "      <td>[инвертор, сварочный, ударник, уис, 180, 189, ...</td>\n",
       "      <td>[ударник, уис, 180, 189, 90, руб]</td>\n",
       "      <td>1</td>\n",
       "      <td>0.967727</td>\n",
       "    </tr>\n",
       "    <tr>\n",
       "      <th>19</th>\n",
       "      <td>[купить, Hammer, торцовочный, пила, Hammer, St...</td>\n",
       "      <td>[торцовочный, пила, Hammer, Stl1800b]</td>\n",
       "      <td>1</td>\n",
       "      <td>0.990268</td>\n",
       "    </tr>\n",
       "    <tr>\n",
       "      <th>20</th>\n",
       "      <td>[шкаф, рим, 150, от, производитель, в, краснод...</td>\n",
       "      <td>[шкаф, рим, 150]</td>\n",
       "      <td>1</td>\n",
       "      <td>0.996657</td>\n",
       "    </tr>\n",
       "    <tr>\n",
       "      <th>21</th>\n",
       "      <td>[ноутбук, Lenovo, IdeaPad, G50, 45, 854, 32, р...</td>\n",
       "      <td>[Lenovo, IdeaPad, G50, 45, 854, 32, р]</td>\n",
       "      <td>1</td>\n",
       "      <td>0.996688</td>\n",
       "    </tr>\n",
       "    <tr>\n",
       "      <th>22</th>\n",
       "      <td>[дешевый, фасадный, панель, низкий, цена, прям...</td>\n",
       "      <td>[дешевый, фасадный, панель, скидка]</td>\n",
       "      <td>1</td>\n",
       "      <td>0.998736</td>\n",
       "    </tr>\n",
       "    <tr>\n",
       "      <th>23</th>\n",
       "      <td>[курсы, 1С, зарплата, и, кадр, в, красноярск, ...</td>\n",
       "      <td>[курсы, по, программа, 1С, зарплата]</td>\n",
       "      <td>1</td>\n",
       "      <td>0.995395</td>\n",
       "    </tr>\n",
       "    <tr>\n",
       "      <th>24</th>\n",
       "      <td>[цена, весь, 1727, руб, купить, реле, напряжен...</td>\n",
       "      <td>[реле, напряжение, Digitop, Vp, 16a]</td>\n",
       "      <td>1</td>\n",
       "      <td>0.999680</td>\n",
       "    </tr>\n",
       "    <tr>\n",
       "      <th>25</th>\n",
       "      <td>[kil82af30r, от, 1612, 00, доставка]</td>\n",
       "      <td>[kil82af30r]</td>\n",
       "      <td>1</td>\n",
       "      <td>0.997695</td>\n",
       "    </tr>\n",
       "    <tr>\n",
       "      <th>26</th>\n",
       "      <td>[транспорт, быть, тут, перевозка, груз, уфа, р...</td>\n",
       "      <td>[перевозка, груз, уфа]</td>\n",
       "      <td>1</td>\n",
       "      <td>0.998374</td>\n",
       "    </tr>\n",
       "    <tr>\n",
       "      <th>27</th>\n",
       "      <td>[телевизор, Mystery, MTV, 3230LT2, 441, 45, р,...</td>\n",
       "      <td>[Mystery, MTV, 3230LT2, 441, 45, руб]</td>\n",
       "      <td>1</td>\n",
       "      <td>0.992472</td>\n",
       "    </tr>\n",
       "    <tr>\n",
       "      <th>28</th>\n",
       "      <td>[кулер, HotFrost, сравнивать, цена, весь, инте...</td>\n",
       "      <td>[кулер, HotFrost]</td>\n",
       "      <td>1</td>\n",
       "      <td>0.970538</td>\n",
       "    </tr>\n",
       "    <tr>\n",
       "      <th>29</th>\n",
       "      <td>[выпрямитель, для, волос, Bosch, PHS5947, 125,...</td>\n",
       "      <td>[Bosch, PHS5947, 125, 61, руб]</td>\n",
       "      <td>1</td>\n",
       "      <td>0.991359</td>\n",
       "    </tr>\n",
       "    <tr>\n",
       "      <th>...</th>\n",
       "      <td>...</td>\n",
       "      <td>...</td>\n",
       "      <td>...</td>\n",
       "      <td>...</td>\n",
       "    </tr>\n",
       "    <tr>\n",
       "      <th>170</th>\n",
       "      <td>[ноутбук, AsusK751SJ, TY034D, за, 25202, руб, ...</td>\n",
       "      <td>[ноутбук, AsusK751SJ, TY034D]</td>\n",
       "      <td>1</td>\n",
       "      <td>0.991609</td>\n",
       "    </tr>\n",
       "    <tr>\n",
       "      <th>171</th>\n",
       "      <td>[швейный, машина, Janome, 6600P, большой, выбо...</td>\n",
       "      <td>[Janome, 6600P, купить]</td>\n",
       "      <td>1</td>\n",
       "      <td>0.997093</td>\n",
       "    </tr>\n",
       "    <tr>\n",
       "      <th>172</th>\n",
       "      <td>[телескоп, азимутальный, сравнивать, цена, вес...</td>\n",
       "      <td>[телескоп, азимутальный]</td>\n",
       "      <td>1</td>\n",
       "      <td>0.959899</td>\n",
       "    </tr>\n",
       "    <tr>\n",
       "      <th>173</th>\n",
       "      <td>[купить, Bork, пылесос, Bork, V706, пылесос, с...</td>\n",
       "      <td>[пылесос, Bork, V706, недорого]</td>\n",
       "      <td>1</td>\n",
       "      <td>0.985241</td>\n",
       "    </tr>\n",
       "    <tr>\n",
       "      <th>174</th>\n",
       "      <td>[брюки, прямой, сравнивать, цена, весь, интерн...</td>\n",
       "      <td>[брюки, прямой]</td>\n",
       "      <td>1</td>\n",
       "      <td>0.999041</td>\n",
       "    </tr>\n",
       "    <tr>\n",
       "      <th>175</th>\n",
       "      <td>[Lg, 75Uh780v, в, наличие, быстрый, доставка, ...</td>\n",
       "      <td>[Lg, 75Uh780v, всего, 299990р]</td>\n",
       "      <td>1</td>\n",
       "      <td>0.995147</td>\n",
       "    </tr>\n",
       "    <tr>\n",
       "      <th>176</th>\n",
       "      <td>[наушник, гарнитур, Sven, AP, 930M, 32, 92, р,...</td>\n",
       "      <td>[Sven, AP, 930M, 32, 92, р]</td>\n",
       "      <td>1</td>\n",
       "      <td>0.993885</td>\n",
       "    </tr>\n",
       "    <tr>\n",
       "      <th>177</th>\n",
       "      <td>[ведущий, специалист, липосакция, грудь, новый...</td>\n",
       "      <td>[липосакция, грудь, от, 18, 000, руб]</td>\n",
       "      <td>1</td>\n",
       "      <td>0.374878</td>\n",
       "    </tr>\n",
       "    <tr>\n",
       "      <th>178</th>\n",
       "      <td>[SSD, диск, Kingston, HyperX, Fury, 120GB, 113...</td>\n",
       "      <td>[HyperX, Fury, 120GB, 113, 33, р]</td>\n",
       "      <td>1</td>\n",
       "      <td>0.656399</td>\n",
       "    </tr>\n",
       "    <tr>\n",
       "      <th>179</th>\n",
       "      <td>[бесплатный, доставка, и, настройка, доработка...</td>\n",
       "      <td>[продажа, 1C, бухгалтерия, 7, 7, самара]</td>\n",
       "      <td>1</td>\n",
       "      <td>0.993056</td>\n",
       "    </tr>\n",
       "    <tr>\n",
       "      <th>180</th>\n",
       "      <td>[chairman, 653, от, 661, 00, доставка]</td>\n",
       "      <td>[chairman, 653]</td>\n",
       "      <td>1</td>\n",
       "      <td>0.942241</td>\n",
       "    </tr>\n",
       "    <tr>\n",
       "      <th>181</th>\n",
       "      <td>[ламинат, венг, сравнивать, цена, весь, интерн...</td>\n",
       "      <td>[ламинат, венг]</td>\n",
       "      <td>1</td>\n",
       "      <td>0.999325</td>\n",
       "    </tr>\n",
       "    <tr>\n",
       "      <th>182</th>\n",
       "      <td>[комод, лилия, недорого, а, в, салон, еще, деш...</td>\n",
       "      <td>[комод, лилия, москва]</td>\n",
       "      <td>1</td>\n",
       "      <td>0.989460</td>\n",
       "    </tr>\n",
       "    <tr>\n",
       "      <th>183</th>\n",
       "      <td>[огромный, выбор, доставка, 199, руб, москва, ...</td>\n",
       "      <td>[чехол, для, iPhone, 5]</td>\n",
       "      <td>1</td>\n",
       "      <td>0.998929</td>\n",
       "    </tr>\n",
       "    <tr>\n",
       "      <th>184</th>\n",
       "      <td>[продажа, от, 1, метр, ситец, в, рулон, достав...</td>\n",
       "      <td>[ситец, в, рулон, низкий, цена, жать]</td>\n",
       "      <td>1</td>\n",
       "      <td>0.999300</td>\n",
       "    </tr>\n",
       "    <tr>\n",
       "      <th>185</th>\n",
       "      <td>[мфу, Brother, MFC, L2740DWR, 747, 51, р, гара...</td>\n",
       "      <td>[Brother, MFC, L2740DWR, 747, 51, р]</td>\n",
       "      <td>1</td>\n",
       "      <td>0.917818</td>\n",
       "    </tr>\n",
       "    <tr>\n",
       "      <th>186</th>\n",
       "      <td>[купить, Gorenje, стеклокерамический, варочный...</td>\n",
       "      <td>[Gorenje, ECK63CLB, недорого]</td>\n",
       "      <td>1</td>\n",
       "      <td>0.944476</td>\n",
       "    </tr>\n",
       "    <tr>\n",
       "      <th>187</th>\n",
       "      <td>[от, 2, х, день, независимый, оценка, загородн...</td>\n",
       "      <td>[независимый, оценка, дома]</td>\n",
       "      <td>1</td>\n",
       "      <td>0.969873</td>\n",
       "    </tr>\n",
       "    <tr>\n",
       "      <th>188</th>\n",
       "      <td>[посадка, и, уход, подбор, растение, для, живо...</td>\n",
       "      <td>[живой, изгородь]</td>\n",
       "      <td>1</td>\n",
       "      <td>0.999503</td>\n",
       "    </tr>\n",
       "    <tr>\n",
       "      <th>189</th>\n",
       "      <td>[отличный, ящик, для, хранение, деньги, устано...</td>\n",
       "      <td>[заказывать, денежный, ящик, штрих, м]</td>\n",
       "      <td>1</td>\n",
       "      <td>0.998822</td>\n",
       "    </tr>\n",
       "    <tr>\n",
       "      <th>190</th>\n",
       "      <td>[от, 900, руб, в, час, обработка, данные, в, 1...</td>\n",
       "      <td>[обработка, данные, в, 1с, что, это]</td>\n",
       "      <td>1</td>\n",
       "      <td>0.999850</td>\n",
       "    </tr>\n",
       "    <tr>\n",
       "      <th>191</th>\n",
       "      <td>[наливной, промышленный, пол, сравнивать, цена...</td>\n",
       "      <td>[наливной, промышленный, пол]</td>\n",
       "      <td>1</td>\n",
       "      <td>0.996349</td>\n",
       "    </tr>\n",
       "    <tr>\n",
       "      <th>192</th>\n",
       "      <td>[б, у, дверь, задний, правый, Audi, A6, C5, ор...</td>\n",
       "      <td>[дверь, задний, правый, Audi, A6, C5]</td>\n",
       "      <td>1</td>\n",
       "      <td>0.997524</td>\n",
       "    </tr>\n",
       "    <tr>\n",
       "      <th>193</th>\n",
       "      <td>[пылесос, Samsung, SC4520, 137, 00, р, гаранти...</td>\n",
       "      <td>[Samsung, SC4520, 137, 00, р]</td>\n",
       "      <td>1</td>\n",
       "      <td>0.990009</td>\n",
       "    </tr>\n",
       "    <tr>\n",
       "      <th>194</th>\n",
       "      <td>[комплект, постельный, белье, Tutti, Bambini, ...</td>\n",
       "      <td>[Bambini, 11200p]</td>\n",
       "      <td>1</td>\n",
       "      <td>0.998578</td>\n",
       "    </tr>\n",
       "    <tr>\n",
       "      <th>195</th>\n",
       "      <td>[стиральный, машина, Beko, WKB, 61021, PTYS, 5...</td>\n",
       "      <td>[Beko, WKB, 61021, PTYS, 567, 00, руб]</td>\n",
       "      <td>1</td>\n",
       "      <td>0.993655</td>\n",
       "    </tr>\n",
       "    <tr>\n",
       "      <th>196</th>\n",
       "      <td>[телевизор, хайсенс, сравнивать, цена, весь, и...</td>\n",
       "      <td>[телевизор, хайсенс]</td>\n",
       "      <td>1</td>\n",
       "      <td>0.999270</td>\n",
       "    </tr>\n",
       "    <tr>\n",
       "      <th>197</th>\n",
       "      <td>[по, низкий, цена, малярный, краскопульт, поку...</td>\n",
       "      <td>[заказывать, малярный, краскопульт, тут]</td>\n",
       "      <td>1</td>\n",
       "      <td>0.999036</td>\n",
       "    </tr>\n",
       "    <tr>\n",
       "      <th>198</th>\n",
       "      <td>[возврат, деньги, за, страховка, осаго, оформл...</td>\n",
       "      <td>[возврат, деньги, за, страховка, осаго]</td>\n",
       "      <td>1</td>\n",
       "      <td>0.996730</td>\n",
       "    </tr>\n",
       "    <tr>\n",
       "      <th>199</th>\n",
       "      <td>[смеситель, Kordi, сравнивать, цена, весь, инт...</td>\n",
       "      <td>[смеситель, Kordi]</td>\n",
       "      <td>1</td>\n",
       "      <td>0.992113</td>\n",
       "    </tr>\n",
       "  </tbody>\n",
       "</table>\n",
       "<p>200 rows × 4 columns</p>\n",
       "</div>"
      ],
      "text/plain": [
       "                                          text vectors  \\\n",
       "0    [электрочайник, Zigmund, Shtain, KE, 81, SD, 1...   \n",
       "1    [сабвуфер, огромный, ассортимент, бесплатный, ...   \n",
       "2    [Onkyo, Tx, nr545, Black, в, наличие, быстрый,...   \n",
       "3    [шаблон, ордер, входить, в, состав, сборник, 1...   \n",
       "4    [шпаклевка, финишный, белый, сравнивать, цена,...   \n",
       "5    [акция, аккумулятор, на, Toyota, Corolla, розн...   \n",
       "6    [пила, торцовочный, только, сегодня, за, 6499,...   \n",
       "7    [по, низкий, цена, шуруповерт, макит, в, спб, ...   \n",
       "8    [купить, Makita, уровень, Makita, Skr200z, 174...   \n",
       "9    [дезодорант, регулир, потоотделение, сравниват...   \n",
       "10   [удлинитель, 10, м, сравнивать, цена, весь, ин...   \n",
       "11   [замена, ГРМ, с5, в, день, обращение, от, 2500...   \n",
       "12   [простой, способ, изучение, офисный, программа...   \n",
       "13   [купить, Supra, автомагнитола, USB, SD, Supra,...   \n",
       "14   [телевизор, LG, 49UH750V, 2183, 90, р, гаранти...   \n",
       "15   [ZyXEL, Keenetic, 4G, III, сравнивать, цена, в...   \n",
       "16   [купить, ASUS, ноутбук, ASUS, ROG, G771JW, 17,...   \n",
       "17   [санки, скандинавия, сравнивать, цена, весь, и...   \n",
       "18   [инвертор, сварочный, ударник, уис, 180, 189, ...   \n",
       "19   [купить, Hammer, торцовочный, пила, Hammer, St...   \n",
       "20   [шкаф, рим, 150, от, производитель, в, краснод...   \n",
       "21   [ноутбук, Lenovo, IdeaPad, G50, 45, 854, 32, р...   \n",
       "22   [дешевый, фасадный, панель, низкий, цена, прям...   \n",
       "23   [курсы, 1С, зарплата, и, кадр, в, красноярск, ...   \n",
       "24   [цена, весь, 1727, руб, купить, реле, напряжен...   \n",
       "25                [kil82af30r, от, 1612, 00, доставка]   \n",
       "26   [транспорт, быть, тут, перевозка, груз, уфа, р...   \n",
       "27   [телевизор, Mystery, MTV, 3230LT2, 441, 45, р,...   \n",
       "28   [кулер, HotFrost, сравнивать, цена, весь, инте...   \n",
       "29   [выпрямитель, для, волос, Bosch, PHS5947, 125,...   \n",
       "..                                                 ...   \n",
       "170  [ноутбук, AsusK751SJ, TY034D, за, 25202, руб, ...   \n",
       "171  [швейный, машина, Janome, 6600P, большой, выбо...   \n",
       "172  [телескоп, азимутальный, сравнивать, цена, вес...   \n",
       "173  [купить, Bork, пылесос, Bork, V706, пылесос, с...   \n",
       "174  [брюки, прямой, сравнивать, цена, весь, интерн...   \n",
       "175  [Lg, 75Uh780v, в, наличие, быстрый, доставка, ...   \n",
       "176  [наушник, гарнитур, Sven, AP, 930M, 32, 92, р,...   \n",
       "177  [ведущий, специалист, липосакция, грудь, новый...   \n",
       "178  [SSD, диск, Kingston, HyperX, Fury, 120GB, 113...   \n",
       "179  [бесплатный, доставка, и, настройка, доработка...   \n",
       "180             [chairman, 653, от, 661, 00, доставка]   \n",
       "181  [ламинат, венг, сравнивать, цена, весь, интерн...   \n",
       "182  [комод, лилия, недорого, а, в, салон, еще, деш...   \n",
       "183  [огромный, выбор, доставка, 199, руб, москва, ...   \n",
       "184  [продажа, от, 1, метр, ситец, в, рулон, достав...   \n",
       "185  [мфу, Brother, MFC, L2740DWR, 747, 51, р, гара...   \n",
       "186  [купить, Gorenje, стеклокерамический, варочный...   \n",
       "187  [от, 2, х, день, независимый, оценка, загородн...   \n",
       "188  [посадка, и, уход, подбор, растение, для, живо...   \n",
       "189  [отличный, ящик, для, хранение, деньги, устано...   \n",
       "190  [от, 900, руб, в, час, обработка, данные, в, 1...   \n",
       "191  [наливной, промышленный, пол, сравнивать, цена...   \n",
       "192  [б, у, дверь, задний, правый, Audi, A6, C5, ор...   \n",
       "193  [пылесос, Samsung, SC4520, 137, 00, р, гаранти...   \n",
       "194  [комплект, постельный, белье, Tutti, Bambini, ...   \n",
       "195  [стиральный, машина, Beko, WKB, 61021, PTYS, 5...   \n",
       "196  [телевизор, хайсенс, сравнивать, цена, весь, и...   \n",
       "197  [по, низкий, цена, малярный, краскопульт, поку...   \n",
       "198  [возврат, деньги, за, страховка, осаго, оформл...   \n",
       "199  [смеситель, Kordi, сравнивать, цена, весь, инт...   \n",
       "\n",
       "                                 title vectors  pair class  predicted class  \n",
       "0                     [KE, 81, SD, 119, 00, р]           1         0.947047  \n",
       "1            [сабвуфер, купить, в, красноярск]           1         0.998186  \n",
       "2     [Onkyo, Tx, nr545, Black, всего, 42390р]           1         0.997832  \n",
       "3                              [шаблон, ордер]           1         0.998793  \n",
       "4                 [шпаклевка, финишный, белый]           1         0.978355  \n",
       "5           [аккумулятор, на, Toyota, Corolla]           1         0.997586  \n",
       "6                  [пила, торцовочный, Hammer]           1         0.995508  \n",
       "7          [купить, шуруповерт, макит, в, спб]           1         0.992123  \n",
       "8           [уровень, Makita, Skr200z, 174614]           1         0.998924  \n",
       "9         [дезодорант, регулир, потоотделение]           1         0.993338  \n",
       "10                         [удлинитель, 10, м]           1         0.988810  \n",
       "11                           [замена, ГРМ, с5]           1         0.999410  \n",
       "12                    [Excel, для, начинающий]           1         0.996395  \n",
       "13     [USB, SD, Supra, SFD, 121USC, недорого]           1         0.996442  \n",
       "14               [LG, 49UH750V, 2183, 90, руб]           1         0.984250  \n",
       "15                  [ZyXEL, Keenetic, 4G, III]           1         0.998834  \n",
       "16   [ASUS, ROG, G771JW, 17, 3, 1920x1080, In]           1         0.996931  \n",
       "17                        [санки, скандинавия]           1         0.993994  \n",
       "18           [ударник, уис, 180, 189, 90, руб]           1         0.967727  \n",
       "19       [торцовочный, пила, Hammer, Stl1800b]           1         0.990268  \n",
       "20                            [шкаф, рим, 150]           1         0.996657  \n",
       "21      [Lenovo, IdeaPad, G50, 45, 854, 32, р]           1         0.996688  \n",
       "22         [дешевый, фасадный, панель, скидка]           1         0.998736  \n",
       "23        [курсы, по, программа, 1С, зарплата]           1         0.995395  \n",
       "24        [реле, напряжение, Digitop, Vp, 16a]           1         0.999680  \n",
       "25                                [kil82af30r]           1         0.997695  \n",
       "26                      [перевозка, груз, уфа]           1         0.998374  \n",
       "27       [Mystery, MTV, 3230LT2, 441, 45, руб]           1         0.992472  \n",
       "28                           [кулер, HotFrost]           1         0.970538  \n",
       "29              [Bosch, PHS5947, 125, 61, руб]           1         0.991359  \n",
       "..                                         ...         ...              ...  \n",
       "170              [ноутбук, AsusK751SJ, TY034D]           1         0.991609  \n",
       "171                    [Janome, 6600P, купить]           1         0.997093  \n",
       "172                   [телескоп, азимутальный]           1         0.959899  \n",
       "173            [пылесос, Bork, V706, недорого]           1         0.985241  \n",
       "174                            [брюки, прямой]           1         0.999041  \n",
       "175             [Lg, 75Uh780v, всего, 299990р]           1         0.995147  \n",
       "176                [Sven, AP, 930M, 32, 92, р]           1         0.993885  \n",
       "177      [липосакция, грудь, от, 18, 000, руб]           1         0.374878  \n",
       "178          [HyperX, Fury, 120GB, 113, 33, р]           1         0.656399  \n",
       "179   [продажа, 1C, бухгалтерия, 7, 7, самара]           1         0.993056  \n",
       "180                            [chairman, 653]           1         0.942241  \n",
       "181                            [ламинат, венг]           1         0.999325  \n",
       "182                     [комод, лилия, москва]           1         0.989460  \n",
       "183                    [чехол, для, iPhone, 5]           1         0.998929  \n",
       "184      [ситец, в, рулон, низкий, цена, жать]           1         0.999300  \n",
       "185       [Brother, MFC, L2740DWR, 747, 51, р]           1         0.917818  \n",
       "186              [Gorenje, ECK63CLB, недорого]           1         0.944476  \n",
       "187                [независимый, оценка, дома]           1         0.969873  \n",
       "188                          [живой, изгородь]           1         0.999503  \n",
       "189     [заказывать, денежный, ящик, штрих, м]           1         0.998822  \n",
       "190       [обработка, данные, в, 1с, что, это]           1         0.999850  \n",
       "191              [наливной, промышленный, пол]           1         0.996349  \n",
       "192      [дверь, задний, правый, Audi, A6, C5]           1         0.997524  \n",
       "193              [Samsung, SC4520, 137, 00, р]           1         0.990009  \n",
       "194                          [Bambini, 11200p]           1         0.998578  \n",
       "195     [Beko, WKB, 61021, PTYS, 567, 00, руб]           1         0.993655  \n",
       "196                       [телевизор, хайсенс]           1         0.999270  \n",
       "197   [заказывать, малярный, краскопульт, тут]           1         0.999036  \n",
       "198    [возврат, деньги, за, страховка, осаго]           1         0.996730  \n",
       "199                         [смеситель, Kordi]           1         0.992113  \n",
       "\n",
       "[200 rows x 4 columns]"
      ]
     },
     "execution_count": 133,
     "metadata": {},
     "output_type": "execute_result"
    }
   ],
   "source": [
    "predictions"
   ]
  },
  {
   "cell_type": "code",
   "execution_count": 134,
   "metadata": {},
   "outputs": [],
   "source": [
    "predictions = pd.DataFrame(test_df_mixed['text vectors'].iloc[-200:])\n",
    "predictions['title vectors'] = test_df_mixed['title vectors'].iloc[-200:]\n",
    "predictions['pair class'] = test_df_mixed['pair class'].iloc[-200:]\n",
    "predictions['predicted class'] = xgb_test.predict_proba(X_test_pca[-200:])[:, 1]"
   ]
  },
  {
   "cell_type": "code",
   "execution_count": 232,
   "metadata": {},
   "outputs": [
    {
     "data": {
      "text/plain": [
       "(150,)"
      ]
     },
     "execution_count": 232,
     "metadata": {},
     "output_type": "execute_result"
    }
   ],
   "source": [
    "X_test_pca[0].shape"
   ]
  },
  {
   "cell_type": "code",
   "execution_count": 135,
   "metadata": {},
   "outputs": [
    {
     "data": {
      "text/html": [
       "<div>\n",
       "<style scoped>\n",
       "    .dataframe tbody tr th:only-of-type {\n",
       "        vertical-align: middle;\n",
       "    }\n",
       "\n",
       "    .dataframe tbody tr th {\n",
       "        vertical-align: top;\n",
       "    }\n",
       "\n",
       "    .dataframe thead th {\n",
       "        text-align: right;\n",
       "    }\n",
       "</style>\n",
       "<table border=\"1\" class=\"dataframe\">\n",
       "  <thead>\n",
       "    <tr style=\"text-align: right;\">\n",
       "      <th></th>\n",
       "      <th>text vectors</th>\n",
       "      <th>title vectors</th>\n",
       "      <th>pair class</th>\n",
       "      <th>predicted class</th>\n",
       "    </tr>\n",
       "  </thead>\n",
       "  <tbody>\n",
       "    <tr>\n",
       "      <th>58546</th>\n",
       "      <td>[адресный, табличка, изготовление, 1, день, бо...</td>\n",
       "      <td>[гостиница, регин, бауман, казань]</td>\n",
       "      <td>0</td>\n",
       "      <td>0.001065</td>\n",
       "    </tr>\n",
       "    <tr>\n",
       "      <th>58547</th>\n",
       "      <td>[телефон, Highscreen, Boost, сравнивать, цена,...</td>\n",
       "      <td>[бампер, на, хонда]</td>\n",
       "      <td>0</td>\n",
       "      <td>0.000347</td>\n",
       "    </tr>\n",
       "    <tr>\n",
       "      <th>58548</th>\n",
       "      <td>[электродный, котел, сравнивать, цена, весь, и...</td>\n",
       "      <td>[Braun, J300, CBD00000788, недорого]</td>\n",
       "      <td>0</td>\n",
       "      <td>0.000418</td>\n",
       "    </tr>\n",
       "    <tr>\n",
       "      <th>58549</th>\n",
       "      <td>[быть, в, наличие, сейчас, рубанок, BLACK, AND...</td>\n",
       "      <td>[налоговый, доход, 2016, год]</td>\n",
       "      <td>0</td>\n",
       "      <td>0.000950</td>\n",
       "    </tr>\n",
       "    <tr>\n",
       "      <th>58550</th>\n",
       "      <td>[мфу, Brother, DCP, J100, 360, 86, р, гарантия...</td>\n",
       "      <td>[Damixa, 521000000, elara, недорого]</td>\n",
       "      <td>0</td>\n",
       "      <td>0.005560</td>\n",
       "    </tr>\n",
       "    <tr>\n",
       "      <th>58551</th>\n",
       "      <td>[наушник, вкладыш, большой, выбор, наушник, по...</td>\n",
       "      <td>[Panasonic, NI, E410TMTW, 65, 21, р]</td>\n",
       "      <td>0</td>\n",
       "      <td>0.000307</td>\n",
       "    </tr>\n",
       "    <tr>\n",
       "      <th>58552</th>\n",
       "      <td>[звонить, сейчас, купить, дом, на, авито, стро...</td>\n",
       "      <td>[TS, WX305T, 263, 10, р]</td>\n",
       "      <td>0</td>\n",
       "      <td>0.043286</td>\n",
       "    </tr>\n",
       "    <tr>\n",
       "      <th>58553</th>\n",
       "      <td>[имплантация, и, профессиональный, протезирова...</td>\n",
       "      <td>[ремонт, конусный, дробилка]</td>\n",
       "      <td>0</td>\n",
       "      <td>0.000224</td>\n",
       "    </tr>\n",
       "    <tr>\n",
       "      <th>58554</th>\n",
       "      <td>[холодильник, Liebherr, CTP, 3316, низкий, цен...</td>\n",
       "      <td>[Tamron, SP, AF, 17, 50мм, F2, 8, Di, II, L]</td>\n",
       "      <td>0</td>\n",
       "      <td>0.060258</td>\n",
       "    </tr>\n",
       "    <tr>\n",
       "      <th>58555</th>\n",
       "      <td>[жакет, теплый, сравнивать, цена, весь, интерн...</td>\n",
       "      <td>[зарядка, для, iphone, 5, belkin]</td>\n",
       "      <td>0</td>\n",
       "      <td>0.025551</td>\n",
       "    </tr>\n",
       "    <tr>\n",
       "      <th>58556</th>\n",
       "      <td>[купить, QNAP, сетевой, хранилище, QNAP, TS, 2...</td>\n",
       "      <td>[сделать, кольпоскопия, в, клиника]</td>\n",
       "      <td>0</td>\n",
       "      <td>0.008948</td>\n",
       "    </tr>\n",
       "    <tr>\n",
       "      <th>58557</th>\n",
       "      <td>[блузка, нарядный, сравнивать, цена, весь, инт...</td>\n",
       "      <td>[Craftsman, 77605, 212326, недорого]</td>\n",
       "      <td>0</td>\n",
       "      <td>0.000025</td>\n",
       "    </tr>\n",
       "    <tr>\n",
       "      <th>58558</th>\n",
       "      <td>[секция, универсал, 5М, 6М, со, склад, ниппель...</td>\n",
       "      <td>[интернет, магазин, 101, чай]</td>\n",
       "      <td>0</td>\n",
       "      <td>0.026188</td>\n",
       "    </tr>\n",
       "    <tr>\n",
       "      <th>58559</th>\n",
       "      <td>[кондиционер, в, краснодар, скидка, 35, %, рас...</td>\n",
       "      <td>[мышь, беспроводный]</td>\n",
       "      <td>0</td>\n",
       "      <td>0.024253</td>\n",
       "    </tr>\n",
       "    <tr>\n",
       "      <th>58560</th>\n",
       "      <td>[купить, Siemens, встраивать, газовый, варочны...</td>\n",
       "      <td>[Aist, 67900105, недорого]</td>\n",
       "      <td>0</td>\n",
       "      <td>0.000262</td>\n",
       "    </tr>\n",
       "    <tr>\n",
       "      <th>58561</th>\n",
       "      <td>[гриль, Steba, FG, 70, за, 8, 950, руб, качест...</td>\n",
       "      <td>[27, MSI, AG270, 1920, x, 1080, Intel, Co]</td>\n",
       "      <td>0</td>\n",
       "      <td>0.021218</td>\n",
       "    </tr>\n",
       "    <tr>\n",
       "      <th>58562</th>\n",
       "      <td>[доставка, такси, подавать, за, 5, мина, тариф...</td>\n",
       "      <td>[Tefal, PP1201, 49, 00, р]</td>\n",
       "      <td>0</td>\n",
       "      <td>0.008881</td>\n",
       "    </tr>\n",
       "    <tr>\n",
       "      <th>58563</th>\n",
       "      <td>[звонить, сейчас, набор, уже, идти, запись, на...</td>\n",
       "      <td>[Moulinex, FP513125, 191, 00, руб]</td>\n",
       "      <td>0</td>\n",
       "      <td>0.000009</td>\n",
       "    </tr>\n",
       "    <tr>\n",
       "      <th>58564</th>\n",
       "      <td>[эхолот, практик, большой, выбор, качественный...</td>\n",
       "      <td>[двигатель, Audi, A5]</td>\n",
       "      <td>0</td>\n",
       "      <td>0.001272</td>\n",
       "    </tr>\n",
       "    <tr>\n",
       "      <th>58565</th>\n",
       "      <td>[для, мой, iPhone, 4S, нужный, новый, аккумуля...</td>\n",
       "      <td>[Bosch, PCP611B90E1, PCP611B90E]</td>\n",
       "      <td>0</td>\n",
       "      <td>0.016796</td>\n",
       "    </tr>\n",
       "    <tr>\n",
       "      <th>58566</th>\n",
       "      <td>[купить, Scher, сигнализация, Scher, khan, Mag...</td>\n",
       "      <td>[тур, в, австрия, из, челябинск]</td>\n",
       "      <td>0</td>\n",
       "      <td>0.001505</td>\n",
       "    </tr>\n",
       "    <tr>\n",
       "      <th>58567</th>\n",
       "      <td>[перевозить, груз, грузоперевозка, псков, реша...</td>\n",
       "      <td>[налог, на, строение, для, пенсионер]</td>\n",
       "      <td>0</td>\n",
       "      <td>0.003260</td>\n",
       "    </tr>\n",
       "    <tr>\n",
       "      <th>58568</th>\n",
       "      <td>[цена, всего, 2, 889, р, электрический, теплов...</td>\n",
       "      <td>[Telefunken, TTF, LED39S6T2, недорого]</td>\n",
       "      <td>0</td>\n",
       "      <td>0.000038</td>\n",
       "    </tr>\n",
       "    <tr>\n",
       "      <th>58569</th>\n",
       "      <td>[телевизор, Mystery, MTV, 3223LT2, 476, 22, р,...</td>\n",
       "      <td>[GM, D8601, 8616р]</td>\n",
       "      <td>0</td>\n",
       "      <td>0.094175</td>\n",
       "    </tr>\n",
       "    <tr>\n",
       "      <th>58570</th>\n",
       "      <td>[усилитель, Wi, Fi, сравнивать, цена, весь, ин...</td>\n",
       "      <td>[redmond, rnc, 4901]</td>\n",
       "      <td>0</td>\n",
       "      <td>0.059755</td>\n",
       "    </tr>\n",
       "    <tr>\n",
       "      <th>58571</th>\n",
       "      <td>[совместный, покупка, покупать, за, полцены, з...</td>\n",
       "      <td>[1С, корпортивный, портал, акция]</td>\n",
       "      <td>0</td>\n",
       "      <td>0.017273</td>\n",
       "    </tr>\n",
       "    <tr>\n",
       "      <th>58572</th>\n",
       "      <td>[цена, весь, 2469, руб, купить, Thermex, Strea...</td>\n",
       "      <td>[Nikon, Coolpix, S520]</td>\n",
       "      <td>0</td>\n",
       "      <td>0.081250</td>\n",
       "    </tr>\n",
       "    <tr>\n",
       "      <th>58573</th>\n",
       "      <td>[в, наличие, за, 8660, руб, купить]</td>\n",
       "      <td>[Bosch, MSM, 66130, ErgoMixx, MSM66130]</td>\n",
       "      <td>0</td>\n",
       "      <td>0.056114</td>\n",
       "    </tr>\n",
       "    <tr>\n",
       "      <th>58574</th>\n",
       "      <td>[GEFEST, 3200, 06, 19, от, 319, 000, доставка]</td>\n",
       "      <td>[ламинированный, дсп, по, размер]</td>\n",
       "      <td>0</td>\n",
       "      <td>0.854234</td>\n",
       "    </tr>\n",
       "    <tr>\n",
       "      <th>58575</th>\n",
       "      <td>[радиатор, панельный, сравнивать, цена, весь, ...</td>\n",
       "      <td>[EHV56240AK, 16990р]</td>\n",
       "      <td>0</td>\n",
       "      <td>0.000038</td>\n",
       "    </tr>\n",
       "    <tr>\n",
       "      <th>...</th>\n",
       "      <td>...</td>\n",
       "      <td>...</td>\n",
       "      <td>...</td>\n",
       "      <td>...</td>\n",
       "    </tr>\n",
       "    <tr>\n",
       "      <th>58716</th>\n",
       "      <td>[цена, весь, 13990, руб, купить, Champion, Ps2...</td>\n",
       "      <td>[джемпер, найк]</td>\n",
       "      <td>0</td>\n",
       "      <td>0.003848</td>\n",
       "    </tr>\n",
       "    <tr>\n",
       "      <th>58717</th>\n",
       "      <td>[купить, Bosch, дрель, ударный, Bosch, Gsb, 21...</td>\n",
       "      <td>[3, D, ручка, с, доставка, по, москва]</td>\n",
       "      <td>0</td>\n",
       "      <td>0.003978</td>\n",
       "    </tr>\n",
       "    <tr>\n",
       "      <th>58718</th>\n",
       "      <td>[ванна, сибирячка, сравнивать, цена, весь, инт...</td>\n",
       "      <td>[замена, свеча, шкода, октавий, а5]</td>\n",
       "      <td>0</td>\n",
       "      <td>0.016264</td>\n",
       "    </tr>\n",
       "    <tr>\n",
       "      <th>58719</th>\n",
       "      <td>[огнетушитель, оп, 8, 718, руб, опт, и, розниц...</td>\n",
       "      <td>[гайморит, кукушка, клиника]</td>\n",
       "      <td>0</td>\n",
       "      <td>0.000114</td>\n",
       "    </tr>\n",
       "    <tr>\n",
       "      <th>58720</th>\n",
       "      <td>[автокресло, Heyner, сравнивать, цена, весь, и...</td>\n",
       "      <td>[Jabra, BT2046, 39, 60, руб]</td>\n",
       "      <td>0</td>\n",
       "      <td>0.003680</td>\n",
       "    </tr>\n",
       "    <tr>\n",
       "      <th>58721</th>\n",
       "      <td>[купить, Supra, автомобильный, медиастанция, S...</td>\n",
       "      <td>[светодиодный, табло, бежать, строка]</td>\n",
       "      <td>0</td>\n",
       "      <td>0.001120</td>\n",
       "    </tr>\n",
       "    <tr>\n",
       "      <th>58722</th>\n",
       "      <td>[гайка, большой, выбор, свыше, 7000, наименова...</td>\n",
       "      <td>[дверь, металлический, распашной]</td>\n",
       "      <td>0</td>\n",
       "      <td>0.014702</td>\n",
       "    </tr>\n",
       "    <tr>\n",
       "      <th>58723</th>\n",
       "      <td>[холодильник, с, морозильник, Gorenje, RK61FSY...</td>\n",
       "      <td>[электропила, по, дерево, от, 2, 371, р]</td>\n",
       "      <td>0</td>\n",
       "      <td>0.000708</td>\n",
       "    </tr>\n",
       "    <tr>\n",
       "      <th>58724</th>\n",
       "      <td>[смартфон, Xiaomi, Mi, 5, 128Gb, 1090, 43, р, ...</td>\n",
       "      <td>[3D, OLED, телевизор, LG, 55EG910V]</td>\n",
       "      <td>0</td>\n",
       "      <td>0.000407</td>\n",
       "    </tr>\n",
       "    <tr>\n",
       "      <th>58725</th>\n",
       "      <td>[магазин, телескоп, в, хабаровск, огромный, вы...</td>\n",
       "      <td>[Dremel, 3000, по, спец, цена]</td>\n",
       "      <td>0</td>\n",
       "      <td>0.184329</td>\n",
       "    </tr>\n",
       "    <tr>\n",
       "      <th>58726</th>\n",
       "      <td>[сеть, клиника, первый, доктор, вызов, стомато...</td>\n",
       "      <td>[ремонт, квартира, гатчина, жать]</td>\n",
       "      <td>0</td>\n",
       "      <td>0.014790</td>\n",
       "    </tr>\n",
       "    <tr>\n",
       "      <th>58727</th>\n",
       "      <td>[дорожный, техника, ремонт, спецтехника, новый...</td>\n",
       "      <td>[HP, 250, G4, M9S70EA, 529, 00, руб]</td>\n",
       "      <td>0</td>\n",
       "      <td>0.004144</td>\n",
       "    </tr>\n",
       "    <tr>\n",
       "      <th>58728</th>\n",
       "      <td>[перевозка, тут, транспортный, компания, рыбин...</td>\n",
       "      <td>[виртуальный, 1с]</td>\n",
       "      <td>0</td>\n",
       "      <td>0.000062</td>\n",
       "    </tr>\n",
       "    <tr>\n",
       "      <th>58729</th>\n",
       "      <td>[шпатлевка, потолок, экономия, до, 50, %, на, ...</td>\n",
       "      <td>[блок, розжиг, Hid, ballast]</td>\n",
       "      <td>0</td>\n",
       "      <td>0.075711</td>\n",
       "    </tr>\n",
       "    <tr>\n",
       "      <th>58730</th>\n",
       "      <td>[автокресло, Baby, Care, сравнивать, цена, вес...</td>\n",
       "      <td>[строительный, материал, в, минск]</td>\n",
       "      <td>0</td>\n",
       "      <td>0.000081</td>\n",
       "    </tr>\n",
       "    <tr>\n",
       "      <th>58731</th>\n",
       "      <td>[карандаш, для, глаз, жидкий, сравнивать, цена...</td>\n",
       "      <td>[кресло, яйцо]</td>\n",
       "      <td>0</td>\n",
       "      <td>0.004133</td>\n",
       "    </tr>\n",
       "    <tr>\n",
       "      <th>58732</th>\n",
       "      <td>[надежный, уничтожение, мышь, в, дом, гарантия...</td>\n",
       "      <td>[iPhone, 7, в, ижевск, дешево]</td>\n",
       "      <td>0</td>\n",
       "      <td>0.067593</td>\n",
       "    </tr>\n",
       "    <tr>\n",
       "      <th>58733</th>\n",
       "      <td>[за, 4586, руб, доставка]</td>\n",
       "      <td>[Siemens, ET651BN17R, недорого]</td>\n",
       "      <td>0</td>\n",
       "      <td>0.796339</td>\n",
       "    </tr>\n",
       "    <tr>\n",
       "      <th>58734</th>\n",
       "      <td>[отличный, цена, установка, антенна, триколор,...</td>\n",
       "      <td>[1x, su]</td>\n",
       "      <td>0</td>\n",
       "      <td>0.127868</td>\n",
       "    </tr>\n",
       "    <tr>\n",
       "      <th>58735</th>\n",
       "      <td>[вывеска, для, магазин, цена, дизайн, и, табли...</td>\n",
       "      <td>[труба, ПНД, D20]</td>\n",
       "      <td>0</td>\n",
       "      <td>0.001199</td>\n",
       "    </tr>\n",
       "    <tr>\n",
       "      <th>58736</th>\n",
       "      <td>[взять, на, себя, весь, забота, веселый, прогр...</td>\n",
       "      <td>[хотеть, продавать, производство]</td>\n",
       "      <td>0</td>\n",
       "      <td>0.016248</td>\n",
       "    </tr>\n",
       "    <tr>\n",
       "      <th>58737</th>\n",
       "      <td>[нужный, корпус, для, DL, 3DZ2R, 3D, печать, н...</td>\n",
       "      <td>[MIO, MiVue, 688, 5415N4840012]</td>\n",
       "      <td>0</td>\n",
       "      <td>0.001955</td>\n",
       "    </tr>\n",
       "    <tr>\n",
       "      <th>58738</th>\n",
       "      <td>[Janome, LW, 30, от, 390, 00, доставка]</td>\n",
       "      <td>[зарядный, устройство, Fenix, Are, c2]</td>\n",
       "      <td>0</td>\n",
       "      <td>0.007677</td>\n",
       "    </tr>\n",
       "    <tr>\n",
       "      <th>58739</th>\n",
       "      <td>[уборка, квартира, коттедж, низкий, цена, бесп...</td>\n",
       "      <td>[шкаф, для, обувь, в, прихожая, узкий]</td>\n",
       "      <td>0</td>\n",
       "      <td>0.007404</td>\n",
       "    </tr>\n",
       "    <tr>\n",
       "      <th>58740</th>\n",
       "      <td>[чайник, Philips, HD9326, 20, большой, выбор, ...</td>\n",
       "      <td>[заказывать, детский, аниматор, в]</td>\n",
       "      <td>0</td>\n",
       "      <td>0.000873</td>\n",
       "    </tr>\n",
       "    <tr>\n",
       "      <th>58741</th>\n",
       "      <td>[телевизор, Samsung, LT19C350EX, сравнивать, ц...</td>\n",
       "      <td>[Lenovo, ThinkServer, RD550, 70CV0007]</td>\n",
       "      <td>0</td>\n",
       "      <td>0.002860</td>\n",
       "    </tr>\n",
       "    <tr>\n",
       "      <th>58742</th>\n",
       "      <td>[ведущий, специалист, эффективный, лечение, вн...</td>\n",
       "      <td>[декоративный, штукатурка, цена]</td>\n",
       "      <td>0</td>\n",
       "      <td>0.014494</td>\n",
       "    </tr>\n",
       "    <tr>\n",
       "      <th>58743</th>\n",
       "      <td>[телевизор, LG, 49LH520V, 1236, 71, р, гаранти...</td>\n",
       "      <td>[печь, камин, теплодар, от, 16990, р]</td>\n",
       "      <td>0</td>\n",
       "      <td>0.000033</td>\n",
       "    </tr>\n",
       "    <tr>\n",
       "      <th>58744</th>\n",
       "      <td>[перевозить, груз, грузоперевозка, кандалакша,...</td>\n",
       "      <td>[Karcher, K, 5, Compact, 1, 630, 720, 0, B]</td>\n",
       "      <td>0</td>\n",
       "      <td>0.000013</td>\n",
       "    </tr>\n",
       "    <tr>\n",
       "      <th>58745</th>\n",
       "      <td>[и, не, только, от, 80, 000, руб, делать, из, ...</td>\n",
       "      <td>[заказывать, входной, дверь, недорого]</td>\n",
       "      <td>0</td>\n",
       "      <td>0.745805</td>\n",
       "    </tr>\n",
       "  </tbody>\n",
       "</table>\n",
       "<p>200 rows × 4 columns</p>\n",
       "</div>"
      ],
      "text/plain": [
       "                                            text vectors  \\\n",
       "58546  [адресный, табличка, изготовление, 1, день, бо...   \n",
       "58547  [телефон, Highscreen, Boost, сравнивать, цена,...   \n",
       "58548  [электродный, котел, сравнивать, цена, весь, и...   \n",
       "58549  [быть, в, наличие, сейчас, рубанок, BLACK, AND...   \n",
       "58550  [мфу, Brother, DCP, J100, 360, 86, р, гарантия...   \n",
       "58551  [наушник, вкладыш, большой, выбор, наушник, по...   \n",
       "58552  [звонить, сейчас, купить, дом, на, авито, стро...   \n",
       "58553  [имплантация, и, профессиональный, протезирова...   \n",
       "58554  [холодильник, Liebherr, CTP, 3316, низкий, цен...   \n",
       "58555  [жакет, теплый, сравнивать, цена, весь, интерн...   \n",
       "58556  [купить, QNAP, сетевой, хранилище, QNAP, TS, 2...   \n",
       "58557  [блузка, нарядный, сравнивать, цена, весь, инт...   \n",
       "58558  [секция, универсал, 5М, 6М, со, склад, ниппель...   \n",
       "58559  [кондиционер, в, краснодар, скидка, 35, %, рас...   \n",
       "58560  [купить, Siemens, встраивать, газовый, варочны...   \n",
       "58561  [гриль, Steba, FG, 70, за, 8, 950, руб, качест...   \n",
       "58562  [доставка, такси, подавать, за, 5, мина, тариф...   \n",
       "58563  [звонить, сейчас, набор, уже, идти, запись, на...   \n",
       "58564  [эхолот, практик, большой, выбор, качественный...   \n",
       "58565  [для, мой, iPhone, 4S, нужный, новый, аккумуля...   \n",
       "58566  [купить, Scher, сигнализация, Scher, khan, Mag...   \n",
       "58567  [перевозить, груз, грузоперевозка, псков, реша...   \n",
       "58568  [цена, всего, 2, 889, р, электрический, теплов...   \n",
       "58569  [телевизор, Mystery, MTV, 3223LT2, 476, 22, р,...   \n",
       "58570  [усилитель, Wi, Fi, сравнивать, цена, весь, ин...   \n",
       "58571  [совместный, покупка, покупать, за, полцены, з...   \n",
       "58572  [цена, весь, 2469, руб, купить, Thermex, Strea...   \n",
       "58573                [в, наличие, за, 8660, руб, купить]   \n",
       "58574     [GEFEST, 3200, 06, 19, от, 319, 000, доставка]   \n",
       "58575  [радиатор, панельный, сравнивать, цена, весь, ...   \n",
       "...                                                  ...   \n",
       "58716  [цена, весь, 13990, руб, купить, Champion, Ps2...   \n",
       "58717  [купить, Bosch, дрель, ударный, Bosch, Gsb, 21...   \n",
       "58718  [ванна, сибирячка, сравнивать, цена, весь, инт...   \n",
       "58719  [огнетушитель, оп, 8, 718, руб, опт, и, розниц...   \n",
       "58720  [автокресло, Heyner, сравнивать, цена, весь, и...   \n",
       "58721  [купить, Supra, автомобильный, медиастанция, S...   \n",
       "58722  [гайка, большой, выбор, свыше, 7000, наименова...   \n",
       "58723  [холодильник, с, морозильник, Gorenje, RK61FSY...   \n",
       "58724  [смартфон, Xiaomi, Mi, 5, 128Gb, 1090, 43, р, ...   \n",
       "58725  [магазин, телескоп, в, хабаровск, огромный, вы...   \n",
       "58726  [сеть, клиника, первый, доктор, вызов, стомато...   \n",
       "58727  [дорожный, техника, ремонт, спецтехника, новый...   \n",
       "58728  [перевозка, тут, транспортный, компания, рыбин...   \n",
       "58729  [шпатлевка, потолок, экономия, до, 50, %, на, ...   \n",
       "58730  [автокресло, Baby, Care, сравнивать, цена, вес...   \n",
       "58731  [карандаш, для, глаз, жидкий, сравнивать, цена...   \n",
       "58732  [надежный, уничтожение, мышь, в, дом, гарантия...   \n",
       "58733                          [за, 4586, руб, доставка]   \n",
       "58734  [отличный, цена, установка, антенна, триколор,...   \n",
       "58735  [вывеска, для, магазин, цена, дизайн, и, табли...   \n",
       "58736  [взять, на, себя, весь, забота, веселый, прогр...   \n",
       "58737  [нужный, корпус, для, DL, 3DZ2R, 3D, печать, н...   \n",
       "58738            [Janome, LW, 30, от, 390, 00, доставка]   \n",
       "58739  [уборка, квартира, коттедж, низкий, цена, бесп...   \n",
       "58740  [чайник, Philips, HD9326, 20, большой, выбор, ...   \n",
       "58741  [телевизор, Samsung, LT19C350EX, сравнивать, ц...   \n",
       "58742  [ведущий, специалист, эффективный, лечение, вн...   \n",
       "58743  [телевизор, LG, 49LH520V, 1236, 71, р, гаранти...   \n",
       "58744  [перевозить, груз, грузоперевозка, кандалакша,...   \n",
       "58745  [и, не, только, от, 80, 000, руб, делать, из, ...   \n",
       "\n",
       "                                      title vectors  pair class  \\\n",
       "58546            [гостиница, регин, бауман, казань]           0   \n",
       "58547                           [бампер, на, хонда]           0   \n",
       "58548          [Braun, J300, CBD00000788, недорого]           0   \n",
       "58549                 [налоговый, доход, 2016, год]           0   \n",
       "58550          [Damixa, 521000000, elara, недорого]           0   \n",
       "58551          [Panasonic, NI, E410TMTW, 65, 21, р]           0   \n",
       "58552                      [TS, WX305T, 263, 10, р]           0   \n",
       "58553                  [ремонт, конусный, дробилка]           0   \n",
       "58554  [Tamron, SP, AF, 17, 50мм, F2, 8, Di, II, L]           0   \n",
       "58555             [зарядка, для, iphone, 5, belkin]           0   \n",
       "58556           [сделать, кольпоскопия, в, клиника]           0   \n",
       "58557          [Craftsman, 77605, 212326, недорого]           0   \n",
       "58558                 [интернет, магазин, 101, чай]           0   \n",
       "58559                          [мышь, беспроводный]           0   \n",
       "58560                    [Aist, 67900105, недорого]           0   \n",
       "58561    [27, MSI, AG270, 1920, x, 1080, Intel, Co]           0   \n",
       "58562                    [Tefal, PP1201, 49, 00, р]           0   \n",
       "58563            [Moulinex, FP513125, 191, 00, руб]           0   \n",
       "58564                         [двигатель, Audi, A5]           0   \n",
       "58565              [Bosch, PCP611B90E1, PCP611B90E]           0   \n",
       "58566              [тур, в, австрия, из, челябинск]           0   \n",
       "58567         [налог, на, строение, для, пенсионер]           0   \n",
       "58568        [Telefunken, TTF, LED39S6T2, недорого]           0   \n",
       "58569                            [GM, D8601, 8616р]           0   \n",
       "58570                          [redmond, rnc, 4901]           0   \n",
       "58571             [1С, корпортивный, портал, акция]           0   \n",
       "58572                        [Nikon, Coolpix, S520]           0   \n",
       "58573       [Bosch, MSM, 66130, ErgoMixx, MSM66130]           0   \n",
       "58574             [ламинированный, дсп, по, размер]           0   \n",
       "58575                          [EHV56240AK, 16990р]           0   \n",
       "...                                             ...         ...   \n",
       "58716                               [джемпер, найк]           0   \n",
       "58717        [3, D, ручка, с, доставка, по, москва]           0   \n",
       "58718           [замена, свеча, шкода, октавий, а5]           0   \n",
       "58719                  [гайморит, кукушка, клиника]           0   \n",
       "58720                  [Jabra, BT2046, 39, 60, руб]           0   \n",
       "58721         [светодиодный, табло, бежать, строка]           0   \n",
       "58722             [дверь, металлический, распашной]           0   \n",
       "58723      [электропила, по, дерево, от, 2, 371, р]           0   \n",
       "58724           [3D, OLED, телевизор, LG, 55EG910V]           0   \n",
       "58725                [Dremel, 3000, по, спец, цена]           0   \n",
       "58726             [ремонт, квартира, гатчина, жать]           0   \n",
       "58727          [HP, 250, G4, M9S70EA, 529, 00, руб]           0   \n",
       "58728                             [виртуальный, 1с]           0   \n",
       "58729                  [блок, розжиг, Hid, ballast]           0   \n",
       "58730            [строительный, материал, в, минск]           0   \n",
       "58731                                [кресло, яйцо]           0   \n",
       "58732                [iPhone, 7, в, ижевск, дешево]           0   \n",
       "58733               [Siemens, ET651BN17R, недорого]           0   \n",
       "58734                                      [1x, su]           0   \n",
       "58735                             [труба, ПНД, D20]           0   \n",
       "58736             [хотеть, продавать, производство]           0   \n",
       "58737               [MIO, MiVue, 688, 5415N4840012]           0   \n",
       "58738        [зарядный, устройство, Fenix, Are, c2]           0   \n",
       "58739        [шкаф, для, обувь, в, прихожая, узкий]           0   \n",
       "58740            [заказывать, детский, аниматор, в]           0   \n",
       "58741        [Lenovo, ThinkServer, RD550, 70CV0007]           0   \n",
       "58742              [декоративный, штукатурка, цена]           0   \n",
       "58743         [печь, камин, теплодар, от, 16990, р]           0   \n",
       "58744   [Karcher, K, 5, Compact, 1, 630, 720, 0, B]           0   \n",
       "58745        [заказывать, входной, дверь, недорого]           0   \n",
       "\n",
       "       predicted class  \n",
       "58546         0.001065  \n",
       "58547         0.000347  \n",
       "58548         0.000418  \n",
       "58549         0.000950  \n",
       "58550         0.005560  \n",
       "58551         0.000307  \n",
       "58552         0.043286  \n",
       "58553         0.000224  \n",
       "58554         0.060258  \n",
       "58555         0.025551  \n",
       "58556         0.008948  \n",
       "58557         0.000025  \n",
       "58558         0.026188  \n",
       "58559         0.024253  \n",
       "58560         0.000262  \n",
       "58561         0.021218  \n",
       "58562         0.008881  \n",
       "58563         0.000009  \n",
       "58564         0.001272  \n",
       "58565         0.016796  \n",
       "58566         0.001505  \n",
       "58567         0.003260  \n",
       "58568         0.000038  \n",
       "58569         0.094175  \n",
       "58570         0.059755  \n",
       "58571         0.017273  \n",
       "58572         0.081250  \n",
       "58573         0.056114  \n",
       "58574         0.854234  \n",
       "58575         0.000038  \n",
       "...                ...  \n",
       "58716         0.003848  \n",
       "58717         0.003978  \n",
       "58718         0.016264  \n",
       "58719         0.000114  \n",
       "58720         0.003680  \n",
       "58721         0.001120  \n",
       "58722         0.014702  \n",
       "58723         0.000708  \n",
       "58724         0.000407  \n",
       "58725         0.184329  \n",
       "58726         0.014790  \n",
       "58727         0.004144  \n",
       "58728         0.000062  \n",
       "58729         0.075711  \n",
       "58730         0.000081  \n",
       "58731         0.004133  \n",
       "58732         0.067593  \n",
       "58733         0.796339  \n",
       "58734         0.127868  \n",
       "58735         0.001199  \n",
       "58736         0.016248  \n",
       "58737         0.001955  \n",
       "58738         0.007677  \n",
       "58739         0.007404  \n",
       "58740         0.000873  \n",
       "58741         0.002860  \n",
       "58742         0.014494  \n",
       "58743         0.000033  \n",
       "58744         0.000013  \n",
       "58745         0.745805  \n",
       "\n",
       "[200 rows x 4 columns]"
      ]
     },
     "execution_count": 135,
     "metadata": {},
     "output_type": "execute_result"
    }
   ],
   "source": [
    "predictions"
   ]
  },
  {
   "cell_type": "code",
   "execution_count": 136,
   "metadata": {},
   "outputs": [
    {
     "name": "stdout",
     "output_type": "stream",
     "text": [
      "0.9642863289788471\n"
     ]
    }
   ],
   "source": [
    "from sklearn.metrics import f1_score\n",
    "print(f1_score(new_y_test, xgb_test.predict(X_test_pca)))"
   ]
  },
  {
   "cell_type": "code",
   "execution_count": 137,
   "metadata": {},
   "outputs": [
    {
     "data": {
      "text/plain": [
       "array([[28187,   937],\n",
       "       [ 1138, 28013]])"
      ]
     },
     "execution_count": 137,
     "metadata": {},
     "output_type": "execute_result"
    }
   ],
   "source": [
    "from sklearn.metrics import confusion_matrix\n",
    "confusion_matrix(new_y_test, xgb_test.predict(X_test_pca))"
   ]
  },
  {
   "cell_type": "code",
   "execution_count": 138,
   "metadata": {},
   "outputs": [
    {
     "data": {
      "text/plain": [
       "0.9800235424456446"
      ]
     },
     "execution_count": 138,
     "metadata": {},
     "output_type": "execute_result"
    }
   ],
   "source": [
    "28307 / (577+28307)"
   ]
  },
  {
   "cell_type": "code",
   "execution_count": 139,
   "metadata": {},
   "outputs": [
    {
     "data": {
      "text/plain": [
       "0.9685885372112917"
      ]
     },
     "execution_count": 139,
     "metadata": {},
     "output_type": "execute_result"
    }
   ],
   "source": [
    "28307 / (28307+918)"
   ]
  },
  {
   "cell_type": "code",
   "execution_count": 454,
   "metadata": {},
   "outputs": [],
   "source": [
    "sample_test_df_checking = test_df.sample(1000)"
   ]
  },
  {
   "cell_type": "code",
   "execution_count": 455,
   "metadata": {},
   "outputs": [],
   "source": [
    "sample_test_df_checking = sample_test_df_checking.reset_index(drop=True)"
   ]
  },
  {
   "cell_type": "code",
   "execution_count": 456,
   "metadata": {},
   "outputs": [
    {
     "data": {
      "text/html": [
       "<div>\n",
       "<style scoped>\n",
       "    .dataframe tbody tr th:only-of-type {\n",
       "        vertical-align: middle;\n",
       "    }\n",
       "\n",
       "    .dataframe tbody tr th {\n",
       "        vertical-align: top;\n",
       "    }\n",
       "\n",
       "    .dataframe thead th {\n",
       "        text-align: right;\n",
       "    }\n",
       "</style>\n",
       "<table border=\"1\" class=\"dataframe\">\n",
       "  <thead>\n",
       "    <tr style=\"text-align: right;\">\n",
       "      <th></th>\n",
       "      <th>text vectors</th>\n",
       "      <th>title vectors</th>\n",
       "    </tr>\n",
       "  </thead>\n",
       "  <tbody>\n",
       "    <tr>\n",
       "      <th>0</th>\n",
       "      <td>[как, откручивать, секретка, без, ключ, позвон...</td>\n",
       "      <td>[как, откручивать, секретка, без, ключ]</td>\n",
       "    </tr>\n",
       "    <tr>\n",
       "      <th>1</th>\n",
       "      <td>[медкнижка, недорого, медцентр, м, бауманский]</td>\n",
       "      <td>[медкнижка, недорого]</td>\n",
       "    </tr>\n",
       "    <tr>\n",
       "      <th>2</th>\n",
       "      <td>[цена, весь, 10540, руб, купить, калибр, масте...</td>\n",
       "      <td>[мастер, штбэ, 2600, 230М]</td>\n",
       "    </tr>\n",
       "    <tr>\n",
       "      <th>3</th>\n",
       "      <td>[большой, выбор, ростест, компьютер, в, интерн...</td>\n",
       "      <td>[компьютер, в, магазин, 003, ru]</td>\n",
       "    </tr>\n",
       "    <tr>\n",
       "      <th>4</th>\n",
       "      <td>[по, низкий, цена, дрель, спец, быть, в, налич...</td>\n",
       "      <td>[заказывать, недорогой, дрель, спец, тут]</td>\n",
       "    </tr>\n",
       "  </tbody>\n",
       "</table>\n",
       "</div>"
      ],
      "text/plain": [
       "                                        text vectors  \\\n",
       "0  [как, откручивать, секретка, без, ключ, позвон...   \n",
       "1     [медкнижка, недорого, медцентр, м, бауманский]   \n",
       "2  [цена, весь, 10540, руб, купить, калибр, масте...   \n",
       "3  [большой, выбор, ростест, компьютер, в, интерн...   \n",
       "4  [по, низкий, цена, дрель, спец, быть, в, налич...   \n",
       "\n",
       "                               title vectors  \n",
       "0    [как, откручивать, секретка, без, ключ]  \n",
       "1                      [медкнижка, недорого]  \n",
       "2                 [мастер, штбэ, 2600, 230М]  \n",
       "3           [компьютер, в, магазин, 003, ru]  \n",
       "4  [заказывать, недорогой, дрель, спец, тут]  "
      ]
     },
     "execution_count": 456,
     "metadata": {},
     "output_type": "execute_result"
    }
   ],
   "source": [
    "sample_test_df_checking.head()"
   ]
  },
  {
   "cell_type": "code",
   "execution_count": 457,
   "metadata": {},
   "outputs": [],
   "source": [
    "sample_text_vectors_test = []\n",
    "for row in range(len(sample_test_df_checking)):\n",
    "    vector = result_vector(sample_test_df_checking.iloc[row, 0])\n",
    "    if vector is not None:  \n",
    "        sample_text_vectors_test.append(vector[0])\n",
    "    else:\n",
    "        sample_text_vectors_test.append('M')"
   ]
  },
  {
   "cell_type": "code",
   "execution_count": 458,
   "metadata": {},
   "outputs": [],
   "source": [
    "sample_title_vectors_test = []\n",
    "for row in range(len(sample_test_df_checking)):\n",
    "    vector = result_vector(sample_test_df_checking.iloc[row, 1])\n",
    "    if vector is not None:  \n",
    "        sample_title_vectors_test.append(vector[0])\n",
    "    else:\n",
    "        sample_title_vectors_test.append('M')"
   ]
  },
  {
   "cell_type": "code",
   "execution_count": 459,
   "metadata": {},
   "outputs": [],
   "source": [
    "test_sample_vectorized = sample_test_df_checking.copy()\n",
    "test_sample_vectorized['text vectors'] = sample_text_vectors_test\n",
    "test_sample_vectorized['title vectors'] = sample_title_vectors_test"
   ]
  },
  {
   "cell_type": "code",
   "execution_count": 460,
   "metadata": {},
   "outputs": [
    {
     "data": {
      "text/html": [
       "<div>\n",
       "<style scoped>\n",
       "    .dataframe tbody tr th:only-of-type {\n",
       "        vertical-align: middle;\n",
       "    }\n",
       "\n",
       "    .dataframe tbody tr th {\n",
       "        vertical-align: top;\n",
       "    }\n",
       "\n",
       "    .dataframe thead th {\n",
       "        text-align: right;\n",
       "    }\n",
       "</style>\n",
       "<table border=\"1\" class=\"dataframe\">\n",
       "  <thead>\n",
       "    <tr style=\"text-align: right;\">\n",
       "      <th></th>\n",
       "      <th>text vectors</th>\n",
       "      <th>title vectors</th>\n",
       "    </tr>\n",
       "  </thead>\n",
       "  <tbody>\n",
       "    <tr>\n",
       "      <th>0</th>\n",
       "      <td>[0.03303190755951865, 0.043656322485523404, 0....</td>\n",
       "      <td>[0.0972787703522985, -0.002542677102252535, 0....</td>\n",
       "    </tr>\n",
       "    <tr>\n",
       "      <th>1</th>\n",
       "      <td>[0.05268231867622848, 0.004161773813217803, -0...</td>\n",
       "      <td>[0.05725391073807927, 0.06927703799545912, 0.0...</td>\n",
       "    </tr>\n",
       "    <tr>\n",
       "      <th>2</th>\n",
       "      <td>[0.004669992696851108, -0.007991493975081483, ...</td>\n",
       "      <td>[-0.019670392809173286, -0.0020895669415383223...</td>\n",
       "    </tr>\n",
       "    <tr>\n",
       "      <th>3</th>\n",
       "      <td>[0.015844035016852182, 0.10624481157358256, 0....</td>\n",
       "      <td>[0.034909931174207966, 0.07632702144724259, 0....</td>\n",
       "    </tr>\n",
       "    <tr>\n",
       "      <th>4</th>\n",
       "      <td>[0.05200673904559876, 0.05470269275282025, 0.0...</td>\n",
       "      <td>[0.0737352409537774, 0.06555027415087987, 0.06...</td>\n",
       "    </tr>\n",
       "  </tbody>\n",
       "</table>\n",
       "</div>"
      ],
      "text/plain": [
       "                                        text vectors  \\\n",
       "0  [0.03303190755951865, 0.043656322485523404, 0....   \n",
       "1  [0.05268231867622848, 0.004161773813217803, -0...   \n",
       "2  [0.004669992696851108, -0.007991493975081483, ...   \n",
       "3  [0.015844035016852182, 0.10624481157358256, 0....   \n",
       "4  [0.05200673904559876, 0.05470269275282025, 0.0...   \n",
       "\n",
       "                                       title vectors  \n",
       "0  [0.0972787703522985, -0.002542677102252535, 0....  \n",
       "1  [0.05725391073807927, 0.06927703799545912, 0.0...  \n",
       "2  [-0.019670392809173286, -0.0020895669415383223...  \n",
       "3  [0.034909931174207966, 0.07632702144724259, 0....  \n",
       "4  [0.0737352409537774, 0.06555027415087987, 0.06...  "
      ]
     },
     "execution_count": 460,
     "metadata": {},
     "output_type": "execute_result"
    }
   ],
   "source": [
    "test_sample_vectorized.head()"
   ]
  },
  {
   "cell_type": "code",
   "execution_count": 461,
   "metadata": {},
   "outputs": [
    {
     "data": {
      "text/plain": [
       "(1000, 2)"
      ]
     },
     "execution_count": 461,
     "metadata": {},
     "output_type": "execute_result"
    }
   ],
   "source": [
    "test_sample_vectorized.shape"
   ]
  },
  {
   "cell_type": "code",
   "execution_count": 462,
   "metadata": {},
   "outputs": [],
   "source": [
    "test_sample_vectorized= test_sample_vectorized[test_sample_vectorized['text vectors'] != 'M']\n",
    "test_sample_vectorized = test_sample_vectorized[test_sample_vectorized['title vectors'] != 'M']"
   ]
  },
  {
   "cell_type": "code",
   "execution_count": 463,
   "metadata": {},
   "outputs": [
    {
     "data": {
      "text/plain": [
       "(990, 2)"
      ]
     },
     "execution_count": 463,
     "metadata": {},
     "output_type": "execute_result"
    }
   ],
   "source": [
    "test_sample_vectorized.shape"
   ]
  },
  {
   "cell_type": "code",
   "execution_count": 464,
   "metadata": {},
   "outputs": [],
   "source": [
    "def probability_calculator(text_vector, title_vectors):\n",
    "    probs = []\n",
    "    for each in title_vectors:\n",
    "        resultant_list = list(text_vector) +list(each)\n",
    "        resultant_array = np.array(list(resultant_list))\n",
    "        \n",
    "        array_pca_tr = pca.transform(resultant_array.reshape(1,- 1))\n",
    "        probability = xgb_test.predict_proba(array_pca_tr.reshape(1, -1))[:, 1]\n",
    "        \n",
    "        probs.extend(probability)\n",
    "        \n",
    "    return probs"
   ]
  },
  {
   "cell_type": "code",
   "execution_count": 465,
   "metadata": {},
   "outputs": [],
   "source": [
    "def rank_checker_prob (df, number):\n",
    "    probabilities = probability_calculator(df.iloc[number, 0], df.iloc[:, 1])\n",
    "    series = pd.Series(probabilities, index =df.index)\n",
    "\n",
    "    sorted_df = series.sort_values(ascending=False)\n",
    "    sorted_index = sorted_df.index\n",
    "    \n",
    "    for rank, entry in enumerate(sorted_index):\n",
    "        if entry == df.index[number]:\n",
    "            return rank"
   ]
  },
  {
   "cell_type": "code",
   "execution_count": 294,
   "metadata": {},
   "outputs": [
    {
     "data": {
      "text/plain": [
       "722354"
      ]
     },
     "execution_count": 294,
     "metadata": {},
     "output_type": "execute_result"
    }
   ],
   "source": [
    "test_sample_vectorized.index[0]"
   ]
  },
  {
   "cell_type": "code",
   "execution_count": 295,
   "metadata": {},
   "outputs": [
    {
     "data": {
      "text/plain": [
       "Int64Index([722354, 698279,  13032, 519539, 194913, 381526, 198484,  94853,\n",
       "            719807, 540100,\n",
       "            ...\n",
       "            506933, 190307, 424738, 717815, 354271, 675648, 103840, 632898,\n",
       "            381158, 155727],\n",
       "           dtype='int64', length=996)"
      ]
     },
     "execution_count": 295,
     "metadata": {},
     "output_type": "execute_result"
    }
   ],
   "source": [
    "test_sample_vectorized.index"
   ]
  },
  {
   "cell_type": "code",
   "execution_count": 466,
   "metadata": {},
   "outputs": [],
   "source": [
    "ranks = []\n",
    "for row in range(len(test_sample_vectorized)):     \n",
    "    rank = rank_checker_prob(test_sample_vectorized, row)\n",
    "    ranks.append(rank)"
   ]
  },
  {
   "cell_type": "code",
   "execution_count": 467,
   "metadata": {},
   "outputs": [
    {
     "data": {
      "image/png": "[encoded data removed]",
      "text/plain": [
       "<Figure size 720x360 with 1 Axes>"
      ]
     },
     "metadata": {
      "needs_background": "light"
     },
     "output_type": "display_data"
    }
   ],
   "source": [
    "plt.figure(figsize=(10, 5))\n",
    "plt.hist([rank for rank in ranks if rank is not None])\n",
    "plt.show()"
   ]
  },
  {
   "cell_type": "code",
   "execution_count": 468,
   "metadata": {},
   "outputs": [
    {
     "data": {
      "text/plain": [
       "12.446464646464646"
      ]
     },
     "execution_count": 468,
     "metadata": {},
     "output_type": "execute_result"
    }
   ],
   "source": [
    "np.mean(ranks)"
   ]
  },
  {
   "cell_type": "code",
   "execution_count": 140,
   "metadata": {},
   "outputs": [
    {
     "data": {
      "text/html": [
       "<div>\n",
       "<style scoped>\n",
       "    .dataframe tbody tr th:only-of-type {\n",
       "        vertical-align: middle;\n",
       "    }\n",
       "\n",
       "    .dataframe tbody tr th {\n",
       "        vertical-align: top;\n",
       "    }\n",
       "\n",
       "    .dataframe thead th {\n",
       "        text-align: right;\n",
       "    }\n",
       "</style>\n",
       "<table border=\"1\" class=\"dataframe\">\n",
       "  <thead>\n",
       "    <tr style=\"text-align: right;\">\n",
       "      <th></th>\n",
       "      <th>text vectors</th>\n",
       "      <th>title vectors</th>\n",
       "      <th>pair class</th>\n",
       "    </tr>\n",
       "  </thead>\n",
       "  <tbody>\n",
       "    <tr>\n",
       "      <th>0</th>\n",
       "      <td>[lg, sh7b, от, 819, 00, доставка]</td>\n",
       "      <td>[lg, sh7b]</td>\n",
       "      <td>1</td>\n",
       "    </tr>\n",
       "    <tr>\n",
       "      <th>1</th>\n",
       "      <td>[нужный, перевод, медицинский, документация, к...</td>\n",
       "      <td>[перевод, медицинский, документация]</td>\n",
       "      <td>1</td>\n",
       "    </tr>\n",
       "    <tr>\n",
       "      <th>2</th>\n",
       "      <td>[результат, на, 3, день, зубной, паста, крест,...</td>\n",
       "      <td>[зубной, паста, крест]</td>\n",
       "      <td>1</td>\n",
       "    </tr>\n",
       "    <tr>\n",
       "      <th>3</th>\n",
       "      <td>[массив, бук, и, дуб, древесный, шпон, ciplex,...</td>\n",
       "      <td>[межкомнатный, дверь, из, россия]</td>\n",
       "      <td>1</td>\n",
       "    </tr>\n",
       "    <tr>\n",
       "      <th>4</th>\n",
       "      <td>[купить, Gerat, лента, пробивной, Gerat, 19мм,...</td>\n",
       "      <td>[Gerat, 19мм, 3, 2мм, 30м, 50327]</td>\n",
       "      <td>1</td>\n",
       "    </tr>\n",
       "  </tbody>\n",
       "</table>\n",
       "</div>"
      ],
      "text/plain": [
       "                                        text vectors  \\\n",
       "0                  [lg, sh7b, от, 819, 00, доставка]   \n",
       "1  [нужный, перевод, медицинский, документация, к...   \n",
       "2  [результат, на, 3, день, зубной, паста, крест,...   \n",
       "3  [массив, бук, и, дуб, древесный, шпон, ciplex,...   \n",
       "4  [купить, Gerat, лента, пробивной, Gerat, 19мм,...   \n",
       "\n",
       "                          title vectors  pair class  \n",
       "0                            [lg, sh7b]           1  \n",
       "1  [перевод, медицинский, документация]           1  \n",
       "2                [зубной, паста, крест]           1  \n",
       "3     [межкомнатный, дверь, из, россия]           1  \n",
       "4     [Gerat, 19мм, 3, 2мм, 30м, 50327]           1  "
      ]
     },
     "execution_count": 140,
     "metadata": {},
     "output_type": "execute_result"
    }
   ],
   "source": [
    "training_df_mixed.head()"
   ]
  },
  {
   "cell_type": "code",
   "execution_count": 141,
   "metadata": {},
   "outputs": [
    {
     "data": {
      "text/plain": [
       "0                              [lg, sh7b]\n",
       "1    [перевод, медицинский, документация]\n",
       "2                  [зубной, паста, крест]\n",
       "3       [межкомнатный, дверь, из, россия]\n",
       "4       [Gerat, 19мм, 3, 2мм, 30м, 50327]\n",
       "Name: title vectors, dtype: object"
      ]
     },
     "execution_count": 141,
     "metadata": {},
     "output_type": "execute_result"
    }
   ],
   "source": [
    "training_df_mixed.iloc[:5, 1]"
   ]
  },
  {
   "cell_type": "code",
   "execution_count": 143,
   "metadata": {},
   "outputs": [],
   "source": [
    "merged_trainig_examples = training_df_mixed.iloc[:, 1]+training_df_mixed.iloc[:, 0]"
   ]
  },
  {
   "cell_type": "code",
   "execution_count": 144,
   "metadata": {},
   "outputs": [
    {
     "data": {
      "text/plain": [
       "137074"
      ]
     },
     "execution_count": 144,
     "metadata": {},
     "output_type": "execute_result"
    }
   ],
   "source": [
    "len(merged_trainig_examples)"
   ]
  },
  {
   "cell_type": "code",
   "execution_count": 145,
   "metadata": {},
   "outputs": [],
   "source": [
    "merged_test_examples = test_df_mixed.iloc[:, 1]+test_df_mixed.iloc[:, 0]"
   ]
  },
  {
   "cell_type": "code",
   "execution_count": 146,
   "metadata": {},
   "outputs": [
    {
     "data": {
      "text/plain": [
       "58746"
      ]
     },
     "execution_count": 146,
     "metadata": {},
     "output_type": "execute_result"
    }
   ],
   "source": [
    "len(merged_test_examples)"
   ]
  },
  {
   "cell_type": "code",
   "execution_count": 147,
   "metadata": {},
   "outputs": [
    {
     "data": {
      "text/plain": [
       "30"
      ]
     },
     "execution_count": 147,
     "metadata": {},
     "output_type": "execute_result"
    }
   ],
   "source": [
    "max([len(x) for x in merged_trainig_examples])"
   ]
  },
  {
   "cell_type": "code",
   "execution_count": 148,
   "metadata": {},
   "outputs": [
    {
     "data": {
      "text/plain": [
       "29"
      ]
     },
     "execution_count": 148,
     "metadata": {},
     "output_type": "execute_result"
    }
   ],
   "source": [
    "max([len(x) for x in merged_test_examples])"
   ]
  },
  {
   "cell_type": "code",
   "execution_count": 149,
   "metadata": {},
   "outputs": [],
   "source": [
    "\n",
    "def padder(dataset, max_length = 30):\n",
    "\n",
    "    all_rows = []\n",
    "    for row in dataset:\n",
    "        difference = max_length - len(row)\n",
    "        if difference >0:\n",
    "            row_list = [word for word in row]\n",
    "            for times in range(difference):\n",
    "                row_list.append(0)\n",
    "        all_rows.append(row_list)\n",
    "    series = pd.Series(all_rows)\n",
    "    return series"
   ]
  },
  {
   "cell_type": "code",
   "execution_count": 150,
   "metadata": {},
   "outputs": [],
   "source": [
    "training_padded = padder(merged_trainig_examples)"
   ]
  },
  {
   "cell_type": "code",
   "execution_count": 151,
   "metadata": {},
   "outputs": [],
   "source": [
    "test_padded = padder(merged_test_examples)"
   ]
  },
  {
   "cell_type": "code",
   "execution_count": 153,
   "metadata": {},
   "outputs": [],
   "source": [
    "def vectorizer_of_series(series):\n",
    "    final_list = []\n",
    "    for row in series:\n",
    "        vectorized_pairs = []\n",
    "        for word in row: \n",
    "            if word== 0:\n",
    "                vectorized_pairs.append(np.zeros(300))\n",
    "            else:\n",
    "                if word in vocab:\n",
    "                    word_emb = model.wv[word]\n",
    "                    vectorized_pairs.append(word_emb)\n",
    "                else:\n",
    "                    vectorized_pairs.append(np.zeros(300))\n",
    "        final_list.append(vectorized_pairs)\n",
    "    return final_list"
   ]
  },
  {
   "cell_type": "code",
   "execution_count": 154,
   "metadata": {},
   "outputs": [],
   "source": [
    "vec_series_training = vectorizer_of_series(training_padded)"
   ]
  },
  {
   "cell_type": "code",
   "execution_count": 155,
   "metadata": {},
   "outputs": [],
   "source": [
    "final_array_training = np.array(vec_series_training)"
   ]
  },
  {
   "cell_type": "code",
   "execution_count": 156,
   "metadata": {},
   "outputs": [],
   "source": [
    "vec_series_test = vectorizer_of_series(test_padded)"
   ]
  },
  {
   "cell_type": "code",
   "execution_count": 157,
   "metadata": {},
   "outputs": [],
   "source": [
    "final_array_test = np.array(vec_series_test)"
   ]
  },
  {
   "cell_type": "code",
   "execution_count": 158,
   "metadata": {},
   "outputs": [
    {
     "data": {
      "text/plain": [
       "(137074, 30, 300)"
      ]
     },
     "execution_count": 158,
     "metadata": {},
     "output_type": "execute_result"
    }
   ],
   "source": [
    "final_array_training.shape"
   ]
  },
  {
   "cell_type": "code",
   "execution_count": 159,
   "metadata": {},
   "outputs": [
    {
     "data": {
      "text/plain": [
       "(58746, 30, 300)"
      ]
     },
     "execution_count": 159,
     "metadata": {},
     "output_type": "execute_result"
    }
   ],
   "source": [
    "final_array_test.shape"
   ]
  },
  {
   "cell_type": "code",
   "execution_count": 160,
   "metadata": {},
   "outputs": [
    {
     "data": {
      "text/plain": [
       "137074"
      ]
     },
     "execution_count": 160,
     "metadata": {},
     "output_type": "execute_result"
    }
   ],
   "source": [
    "len(training_df_mixed['pair class'])"
   ]
  },
  {
   "cell_type": "code",
   "execution_count": 161,
   "metadata": {},
   "outputs": [
    {
     "name": "stderr",
     "output_type": "stream",
     "text": [
      "Using TensorFlow backend.\n"
     ]
    }
   ],
   "source": [
    "import keras\n",
    "from keras.utils import to_categorical\n",
    "y_reshaped_tr = keras.utils.to_categorical(training_df_mixed['pair class'], 2)\n",
    "y_reshaped_test = keras.utils.to_categorical(test_df_mixed['pair class'], 2)"
   ]
  },
  {
   "cell_type": "code",
   "execution_count": 167,
   "metadata": {},
   "outputs": [
    {
     "name": "stdout",
     "output_type": "stream",
     "text": [
      "Train on 137074 samples, validate on 58746 samples\n",
      "Epoch 1/30\n",
      "137074/137074 [==============================] - 65s 472us/step - loss: 0.6543 - acc: 0.5933 - val_loss: 0.5471 - val_acc: 0.7259\n",
      "Epoch 2/30\n",
      "137074/137074 [==============================] - 66s 481us/step - loss: 0.4855 - acc: 0.7668 - val_loss: 0.4435 - val_acc: 0.7939\n",
      "Epoch 3/30\n",
      "137074/137074 [==============================] - 68s 494us/step - loss: 0.4285 - acc: 0.8037 - val_loss: 0.4136 - val_acc: 0.8092\n",
      "Epoch 4/30\n",
      "137074/137074 [==============================] - 68s 495us/step - loss: 0.3977 - acc: 0.8221 - val_loss: 0.4062 - val_acc: 0.8179\n",
      "Epoch 5/30\n",
      "137074/137074 [==============================] - 67s 492us/step - loss: 0.3779 - acc: 0.8332 - val_loss: 0.3987 - val_acc: 0.8244\n",
      "Epoch 6/30\n",
      "137074/137074 [==============================] - 66s 484us/step - loss: 0.3627 - acc: 0.8426 - val_loss: 0.3662 - val_acc: 0.8424\n",
      "Epoch 7/30\n",
      "137074/137074 [==============================] - 67s 492us/step - loss: 0.3518 - acc: 0.8494 - val_loss: 0.3555 - val_acc: 0.8481\n",
      "Epoch 8/30\n",
      "137074/137074 [==============================] - 68s 495us/step - loss: 0.3404 - acc: 0.8549 - val_loss: 0.3503 - val_acc: 0.8481\n",
      "Epoch 9/30\n",
      "137074/137074 [==============================] - 67s 492us/step - loss: 0.3331 - acc: 0.8587 - val_loss: 0.3466 - val_acc: 0.8525\n",
      "Epoch 10/30\n",
      "137074/137074 [==============================] - 68s 495us/step - loss: 0.3247 - acc: 0.8644 - val_loss: 0.3415 - val_acc: 0.8537\n",
      "Epoch 11/30\n",
      "137074/137074 [==============================] - 69s 502us/step - loss: 0.3182 - acc: 0.8684 - val_loss: 0.3557 - val_acc: 0.8477\n",
      "Epoch 12/30\n",
      "137074/137074 [==============================] - 69s 503us/step - loss: 0.3170 - acc: 0.8677 - val_loss: 0.3233 - val_acc: 0.8629\n",
      "Epoch 13/30\n",
      "137074/137074 [==============================] - 69s 502us/step - loss: 0.3249 - acc: 0.8633 - val_loss: 0.3454 - val_acc: 0.8525\n",
      "Epoch 14/30\n",
      "137074/137074 [==============================] - 69s 506us/step - loss: 0.3227 - acc: 0.8651 - val_loss: 0.3425 - val_acc: 0.8531\n",
      "Epoch 15/30\n",
      "137074/137074 [==============================] - 70s 507us/step - loss: 0.3220 - acc: 0.8647 - val_loss: 0.3421 - val_acc: 0.8559\n",
      "Epoch 16/30\n",
      "137074/137074 [==============================] - 69s 506us/step - loss: 0.3270 - acc: 0.8617 - val_loss: 0.3443 - val_acc: 0.8532\n",
      "Epoch 17/30\n",
      "137074/137074 [==============================] - 69s 506us/step - loss: 0.3190 - acc: 0.8662 - val_loss: 0.3413 - val_acc: 0.8553\n",
      "Epoch 18/30\n",
      "137074/137074 [==============================] - 69s 504us/step - loss: 0.3142 - acc: 0.8695 - val_loss: 0.3483 - val_acc: 0.8504\n",
      "Epoch 19/30\n",
      "137074/137074 [==============================] - 69s 506us/step - loss: 0.3149 - acc: 0.8687 - val_loss: 0.3347 - val_acc: 0.8579\n",
      "Epoch 20/30\n",
      "137074/137074 [==============================] - 69s 507us/step - loss: 0.3180 - acc: 0.8677 - val_loss: 0.3606 - val_acc: 0.8455\n",
      "Epoch 21/30\n",
      "137074/137074 [==============================] - 69s 503us/step - loss: 0.3153 - acc: 0.8686 - val_loss: 0.3345 - val_acc: 0.8577\n",
      "Epoch 22/30\n",
      "137074/137074 [==============================] - 68s 496us/step - loss: 0.3132 - acc: 0.8709 - val_loss: 0.3557 - val_acc: 0.8484\n",
      "Epoch 23/30\n",
      "137074/137074 [==============================] - 68s 499us/step - loss: 0.2982 - acc: 0.8786 - val_loss: 0.3285 - val_acc: 0.8636\n",
      "Epoch 24/30\n",
      "137074/137074 [==============================] - 69s 506us/step - loss: 0.3016 - acc: 0.8754 - val_loss: 0.3307 - val_acc: 0.8627\n",
      "Epoch 25/30\n",
      "137074/137074 [==============================] - 69s 503us/step - loss: 0.3179 - acc: 0.8663 - val_loss: 0.3284 - val_acc: 0.8629\n",
      "Epoch 26/30\n",
      "137074/137074 [==============================] - 69s 505us/step - loss: 0.3052 - acc: 0.8741 - val_loss: 0.3314 - val_acc: 0.8619\n",
      "Epoch 27/30\n",
      "137074/137074 [==============================] - 70s 507us/step - loss: 0.3053 - acc: 0.8742 - val_loss: 0.3237 - val_acc: 0.8656\n",
      "Epoch 28/30\n",
      "137074/137074 [==============================] - 69s 506us/step - loss: 0.3090 - acc: 0.8736 - val_loss: 0.3487 - val_acc: 0.8524\n",
      "Epoch 29/30\n",
      "137074/137074 [==============================] - 70s 508us/step - loss: 0.3203 - acc: 0.8665 - val_loss: 0.3523 - val_acc: 0.8530\n",
      "Epoch 30/30\n",
      "137074/137074 [==============================] - 70s 513us/step - loss: 0.3154 - acc: 0.8694 - val_loss: 0.3256 - val_acc: 0.8628\n"
     ]
    },
    {
     "data": {
      "text/plain": [
       "<keras.callbacks.History at 0x22de239b0>"
      ]
     },
     "execution_count": 167,
     "metadata": {},
     "output_type": "execute_result"
    }
   ],
   "source": [
    "from keras.models import Sequential\n",
    "from keras.layers import SimpleRNN, Dense\n",
    "\n",
    "model_rnn = Sequential()\n",
    "\n",
    "model_rnn.add(SimpleRNN(units=100, input_shape=(30, 300), activation = 'relu'))\n",
    "\n",
    "model_rnn.add(Dense(units=2, activation='softmax'))\n",
    "model_rnn.compile(loss='categorical_crossentropy', optimizer='adam', metrics = ['accuracy'])\n",
    "\n",
    "model_rnn.fit(final_array_training, y_reshaped_tr, epochs=30, verbose = 1, validation_data = (final_array_test, y_reshaped_test))"
   ]
  },
  {
   "cell_type": "code",
   "execution_count": 168,
   "metadata": {},
   "outputs": [
    {
     "name": "stdout",
     "output_type": "stream",
     "text": [
      "Test loss: 0.3256272388154744\n",
      "Test accuracy: 0.8627651244299456\n"
     ]
    }
   ],
   "source": [
    "scores = model_rnn.evaluate(final_array_test, y_reshaped_test, verbose=0)\n",
    "print('Test loss:', scores[0])\n",
    "print('Test accuracy:', scores[1])"
   ]
  },
  {
   "cell_type": "code",
   "execution_count": 384,
   "metadata": {},
   "outputs": [
    {
     "data": {
      "text/plain": [
       "array([[0.06160137, 0.9383986 ],\n",
       "       [0.5411746 , 0.45882535],\n",
       "       [0.2109836 , 0.7890164 ],\n",
       "       ...,\n",
       "       [0.45762172, 0.5423782 ],\n",
       "       [0.22215958, 0.77784044],\n",
       "       [0.22541952, 0.7745805 ]], dtype=float32)"
      ]
     },
     "execution_count": 384,
     "metadata": {},
     "output_type": "execute_result"
    }
   ],
   "source": [
    "model_rnn.predict(final_array_test)"
   ]
  },
  {
   "cell_type": "code",
   "execution_count": null,
   "metadata": {},
   "outputs": [],
   "source": []
  }
 ],
 "metadata": {
  "kernelspec": {
   "display_name": "Python 3",
   "language": "python",
   "name": "python3"
  },
  "language_info": {
   "codemirror_mode": {
    "name": "ipython",
    "version": 3
   },
   "file_extension": ".py",
   "mimetype": "text/x-python",
   "name": "python",
   "nbconvert_exporter": "python",
   "pygments_lexer": "ipython3",
   "version": "3.6.5"
  }
 },
 "nbformat": 4,
 "nbformat_minor": 2
}
