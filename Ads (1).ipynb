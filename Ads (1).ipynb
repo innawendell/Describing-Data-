{
 "cells": [
  {
   "cell_type": "markdown",
   "metadata": {},
   "source": [
    "# Automated Ads"
   ]
  },
  {
   "cell_type": "markdown",
   "metadata": {},
   "source": [
    "Writing ads for a product is usually reserved for humans. What would happen if we tried to make this process easier by automating the following processes:\n",
    "\n",
    "- 1) Ad title/ headline suggestion\n",
    "- 2) Ad title/ ad text automatic generation\n",
    "\n",
    "This notebook contains my attempts to accomplish the first task: suggest ad titles that are relevant for a particular ad. I attempt two approaches:\n",
    "1) Unsupervised Models\n",
    "2) Supervised Learning Models:\n",
    "   - Logistic Regression\n",
    "   - Random Forest\n",
    "   - XGBoost\n",
    "   - RNN\n",
    "   \n",
    "The data set comes from Russian-speaking countries and was collected from October 2016 to January 2017. It includes ads in Russian for a vast variety of products. The data set came to my possession from a public source: https://www.kaggle.com/kotobotov/context-advertising."
   ]
  },
  {
   "cell_type": "markdown",
   "metadata": {},
   "source": [
    "# I. Importing the Libraries"
   ]
  },
  {
   "cell_type": "code",
   "execution_count": 1,
   "metadata": {},
   "outputs": [
    {
     "name": "stderr",
     "output_type": "stream",
     "text": [
      "Using TensorFlow backend.\n"
     ]
    }
   ],
   "source": [
    "import pandas as pd\n",
    "import numpy as np\n",
    "import matplotlib.pyplot as plt\n",
    "%matplotlib inline\n",
    "import seaborn as sns\n",
    "from pymystem3 import Mystem\n",
    "from stop_words import get_stop_words\n",
    "from sklearn.model_selection import train_test_split\n",
    "from sklearn.linear_model import LogisticRegression\n",
    "import gensim\n",
    "from gensim.models import word2vec\n",
    "from sklearn.model_selection import cross_val_predict\n",
    "import re\n",
    "import string\n",
    "from sklearn.metrics.pairwise import cosine_similarity\n",
    "from sklearn.ensemble import RandomForestClassifier\n",
    "from xgboost import XGBClassifier\n",
    "from sklearn.utils import shuffle\n",
    "from sklearn.model_selection import cross_val_score, GridSearchCV\n",
    "from sklearn.manifold import TSNE\n",
    "import warnings\n",
    "warnings.filterwarnings('ignore')\n",
    "\n",
    "\n",
    "import keras.utils as ku \n",
    "from keras.preprocessing.sequence import pad_sequences\n",
    "from keras.layers import Dense, Input, Embedding, Dropout, GRU, Bidirectional\n",
    "from keras.models import Sequential\n",
    "from keras.layers.normalization import BatchNormalization"
   ]
  },
  {
   "cell_type": "markdown",
   "metadata": {},
   "source": [
    "# II. Preprocessing The Data"
   ]
  },
  {
   "cell_type": "code",
   "execution_count": 2,
   "metadata": {},
   "outputs": [],
   "source": [
    "ads = pd.read_csv('/Users/admin/Documents/contextAdvertising1.csv')"
   ]
  },
  {
   "cell_type": "code",
   "execution_count": 3,
   "metadata": {},
   "outputs": [
    {
     "data": {
      "text/plain": [
       "(799999, 3)"
      ]
     },
     "execution_count": 3,
     "metadata": {},
     "output_type": "execute_result"
    }
   ],
   "source": [
    "ads.shape"
   ]
  },
  {
   "cell_type": "code",
   "execution_count": 4,
   "metadata": {},
   "outputs": [
    {
     "data": {
      "text/html": [
       "<div>\n",
       "<style scoped>\n",
       "    .dataframe tbody tr th:only-of-type {\n",
       "        vertical-align: middle;\n",
       "    }\n",
       "\n",
       "    .dataframe tbody tr th {\n",
       "        vertical-align: top;\n",
       "    }\n",
       "\n",
       "    .dataframe thead th {\n",
       "        text-align: right;\n",
       "    }\n",
       "</style>\n",
       "<table border=\"1\" class=\"dataframe\">\n",
       "  <thead>\n",
       "    <tr style=\"text-align: right;\">\n",
       "      <th></th>\n",
       "      <th>atitle</th>\n",
       "      <th>atext</th>\n",
       "      <th>adomain</th>\n",
       "    </tr>\n",
       "  </thead>\n",
       "  <tbody>\n",
       "    <tr>\n",
       "      <th>0</th>\n",
       "      <td>Клуб активного отдыха «0.67»</td>\n",
       "      <td>Детский пейнтбол. Спортивный пейнтбол. Тактиче...</td>\n",
       "      <td>0-67.relax.by</td>\n",
       "    </tr>\n",
       "    <tr>\n",
       "      <th>1</th>\n",
       "      <td>Антигравитационный чехол IPhone 5</td>\n",
       "      <td>Успейте купить антигравитационный чехол для IP...</td>\n",
       "      <td>0-antigravity.ru</td>\n",
       "    </tr>\n",
       "    <tr>\n",
       "      <th>2</th>\n",
       "      <td>Антигравитационный чехол купить!</td>\n",
       "      <td>Антигравитационный чехол для телефона купить з...</td>\n",
       "      <td>0-antigravity.ru</td>\n",
       "    </tr>\n",
       "    <tr>\n",
       "      <th>3</th>\n",
       "      <td>Беспроцентный заем от Moneyveo</td>\n",
       "      <td>Без справок! Получите до 3 000 грн. на карту п...</td>\n",
       "      <td>0-credit.moneyveo.ua</td>\n",
       "    </tr>\n",
       "    <tr>\n",
       "      <th>4</th>\n",
       "      <td>Беспроцентный заем сотруднику</td>\n",
       "      <td>Акция! Получите Кредит Онлайн под 0%. Без Спра...</td>\n",
       "      <td>0-credit.moneyveo.ua</td>\n",
       "    </tr>\n",
       "  </tbody>\n",
       "</table>\n",
       "</div>"
      ],
      "text/plain": [
       "                              atitle  \\\n",
       "0       Клуб активного отдыха «0.67»   \n",
       "1  Антигравитационный чехол IPhone 5   \n",
       "2   Антигравитационный чехол купить!   \n",
       "3     Беспроцентный заем от Moneyveo   \n",
       "4      Беспроцентный заем сотруднику   \n",
       "\n",
       "                                               atext               adomain  \n",
       "0  Детский пейнтбол. Спортивный пейнтбол. Тактиче...         0-67.relax.by  \n",
       "1  Успейте купить антигравитационный чехол для IP...      0-antigravity.ru  \n",
       "2  Антигравитационный чехол для телефона купить з...      0-antigravity.ru  \n",
       "3  Без справок! Получите до 3 000 грн. на карту п...  0-credit.moneyveo.ua  \n",
       "4  Акция! Получите Кредит Онлайн под 0%. Без Спра...  0-credit.moneyveo.ua  "
      ]
     },
     "execution_count": 4,
     "metadata": {},
     "output_type": "execute_result"
    }
   ],
   "source": [
    "ads.head()"
   ]
  },
  {
   "cell_type": "code",
   "execution_count": 5,
   "metadata": {},
   "outputs": [
    {
     "data": {
      "text/plain": [
       "atitle     571923\n",
       "atext      350006\n",
       "adomain     19181\n",
       "dtype: int64"
      ]
     },
     "execution_count": 5,
     "metadata": {},
     "output_type": "execute_result"
    }
   ],
   "source": [
    "ads.nunique()"
   ]
  },
  {
   "cell_type": "code",
   "execution_count": 6,
   "metadata": {},
   "outputs": [
    {
     "data": {
      "text/plain": [
       "792924"
      ]
     },
     "execution_count": 6,
     "metadata": {},
     "output_type": "execute_result"
    }
   ],
   "source": [
    "(ads['atitle'] + ads['atext']).nunique()"
   ]
  },
  {
   "cell_type": "code",
   "execution_count": 7,
   "metadata": {},
   "outputs": [],
   "source": [
    "unique_adstext =ads.drop_duplicates(subset = ['atext'], keep=False)"
   ]
  },
  {
   "cell_type": "code",
   "execution_count": 8,
   "metadata": {},
   "outputs": [
    {
     "data": {
      "text/plain": [
       "atitle     234515\n",
       "atext      323003\n",
       "adomain      4838\n",
       "dtype: int64"
      ]
     },
     "execution_count": 8,
     "metadata": {},
     "output_type": "execute_result"
    }
   ],
   "source": [
    "unique_adstext.nunique()"
   ]
  },
  {
   "cell_type": "code",
   "execution_count": 9,
   "metadata": {},
   "outputs": [
    {
     "data": {
      "text/plain": [
       "234515"
      ]
     },
     "execution_count": 9,
     "metadata": {},
     "output_type": "execute_result"
    }
   ],
   "source": [
    "#it appears that even after we remove duplicate ads texts, we still have duplicate titles \n",
    "unique_adstext['atitle'].nunique()"
   ]
  },
  {
   "cell_type": "code",
   "execution_count": 10,
   "metadata": {},
   "outputs": [],
   "source": [
    "unique =unique_adstext.drop_duplicates(subset = ['atitle'], keep=False)"
   ]
  },
  {
   "cell_type": "code",
   "execution_count": 11,
   "metadata": {},
   "outputs": [
    {
     "data": {
      "text/plain": [
       "atitle     204601\n",
       "atext      204601\n",
       "adomain      4589\n",
       "dtype: int64"
      ]
     },
     "execution_count": 11,
     "metadata": {},
     "output_type": "execute_result"
    }
   ],
   "source": [
    "unique.nunique()"
   ]
  },
  {
   "cell_type": "code",
   "execution_count": 12,
   "metadata": {},
   "outputs": [
    {
     "name": "stdout",
     "output_type": "stream",
     "text": [
      "<class 'pandas.core.frame.DataFrame'>\n",
      "Int64Index: 204601 entries, 0 to 772521\n",
      "Data columns (total 3 columns):\n",
      "atitle     204601 non-null object\n",
      "atext      204601 non-null object\n",
      "adomain    204601 non-null object\n",
      "dtypes: object(3)\n",
      "memory usage: 6.2+ MB\n"
     ]
    }
   ],
   "source": [
    "unique.info()"
   ]
  },
  {
   "cell_type": "code",
   "execution_count": 13,
   "metadata": {},
   "outputs": [
    {
     "data": {
      "text/html": [
       "<div>\n",
       "<style scoped>\n",
       "    .dataframe tbody tr th:only-of-type {\n",
       "        vertical-align: middle;\n",
       "    }\n",
       "\n",
       "    .dataframe tbody tr th {\n",
       "        vertical-align: top;\n",
       "    }\n",
       "\n",
       "    .dataframe thead th {\n",
       "        text-align: right;\n",
       "    }\n",
       "</style>\n",
       "<table border=\"1\" class=\"dataframe\">\n",
       "  <thead>\n",
       "    <tr style=\"text-align: right;\">\n",
       "      <th></th>\n",
       "      <th>atitle</th>\n",
       "      <th>atext</th>\n",
       "      <th>adomain</th>\n",
       "    </tr>\n",
       "  </thead>\n",
       "  <tbody>\n",
       "    <tr>\n",
       "      <th>0</th>\n",
       "      <td>Клуб активного отдыха «0.67»</td>\n",
       "      <td>Детский пейнтбол. Спортивный пейнтбол. Тактиче...</td>\n",
       "      <td>0-67.relax.by</td>\n",
       "    </tr>\n",
       "    <tr>\n",
       "      <th>1</th>\n",
       "      <td>Антигравитационный чехол IPhone 5</td>\n",
       "      <td>Успейте купить антигравитационный чехол для IP...</td>\n",
       "      <td>0-antigravity.ru</td>\n",
       "    </tr>\n",
       "    <tr>\n",
       "      <th>2</th>\n",
       "      <td>Антигравитационный чехол купить!</td>\n",
       "      <td>Антигравитационный чехол для телефона купить з...</td>\n",
       "      <td>0-antigravity.ru</td>\n",
       "    </tr>\n",
       "    <tr>\n",
       "      <th>3</th>\n",
       "      <td>Беспроцентный заем от Moneyveo</td>\n",
       "      <td>Без справок! Получите до 3 000 грн. на карту п...</td>\n",
       "      <td>0-credit.moneyveo.ua</td>\n",
       "    </tr>\n",
       "    <tr>\n",
       "      <th>4</th>\n",
       "      <td>Беспроцентный заем сотруднику</td>\n",
       "      <td>Акция! Получите Кредит Онлайн под 0%. Без Спра...</td>\n",
       "      <td>0-credit.moneyveo.ua</td>\n",
       "    </tr>\n",
       "  </tbody>\n",
       "</table>\n",
       "</div>"
      ],
      "text/plain": [
       "                              atitle  \\\n",
       "0       Клуб активного отдыха «0.67»   \n",
       "1  Антигравитационный чехол IPhone 5   \n",
       "2   Антигравитационный чехол купить!   \n",
       "3     Беспроцентный заем от Moneyveo   \n",
       "4      Беспроцентный заем сотруднику   \n",
       "\n",
       "                                               atext               adomain  \n",
       "0  Детский пейнтбол. Спортивный пейнтбол. Тактиче...         0-67.relax.by  \n",
       "1  Успейте купить антигравитационный чехол для IP...      0-antigravity.ru  \n",
       "2  Антигравитационный чехол для телефона купить з...      0-antigravity.ru  \n",
       "3  Без справок! Получите до 3 000 грн. на карту п...  0-credit.moneyveo.ua  \n",
       "4  Акция! Получите Кредит Онлайн под 0%. Без Спра...  0-credit.moneyveo.ua  "
      ]
     },
     "execution_count": 13,
     "metadata": {},
     "output_type": "execute_result"
    }
   ],
   "source": [
    "unique.head()"
   ]
  },
  {
   "cell_type": "code",
   "execution_count": 14,
   "metadata": {},
   "outputs": [
    {
     "data": {
      "text/plain": [
       "0    Детский пейнтбол. Спортивный пейнтбол. Тактиче...\n",
       "1    Успейте купить антигравитационный чехол для IP...\n",
       "2    Антигравитационный чехол для телефона купить з...\n",
       "3    Без справок! Получите до 3 000 грн. на карту п...\n",
       "4    Акция! Получите Кредит Онлайн под 0%. Без Спра...\n",
       "Name: atext, dtype: object"
      ]
     },
     "execution_count": 14,
     "metadata": {},
     "output_type": "execute_result"
    }
   ],
   "source": [
    "unique['atext'][:5]"
   ]
  },
  {
   "cell_type": "code",
   "execution_count": 15,
   "metadata": {},
   "outputs": [
    {
     "data": {
      "text/plain": [
       "pandas.core.series.Series"
      ]
     },
     "execution_count": 15,
     "metadata": {},
     "output_type": "execute_result"
    }
   ],
   "source": [
    "type(unique['atext'])"
   ]
  },
  {
   "cell_type": "code",
   "execution_count": 16,
   "metadata": {},
   "outputs": [],
   "source": [
    "#include all the punctuation signs\\n\",\n",
    "def punctuation_remover(row):\n",
    "    punctuation = '!\"#$&\\'()*+,-./:;<=>?@[\\\\]^_`{|}~«»'\n",
    "    \n",
    "    punctuationNoPeriod = \"[\" + re.sub(\"\\.\",\"\", punctuation) + \"]\"\n",
    "    row = re.sub(punctuationNoPeriod, \" \", str(row))\n",
    "    #to remove double white spaces and create space after %,\n",
    "    row = row.replace('  ', ' ')\n",
    "    row = row.replace('%', '% ')\n",
    "    return row.strip()\n"
   ]
  },
  {
   "cell_type": "code",
   "execution_count": 17,
   "metadata": {},
   "outputs": [
    {
     "data": {
      "text/plain": [
       "'Детский пейнтбол Спортивный пейнтбол Тактический пейнтбол Выездные игры'"
      ]
     },
     "execution_count": 17,
     "metadata": {},
     "output_type": "execute_result"
    }
   ],
   "source": [
    "punctuation_remover(unique['atext'][0])"
   ]
  },
  {
   "cell_type": "code",
   "execution_count": 18,
   "metadata": {},
   "outputs": [],
   "source": [
    "# remove punctuation from the ads text\n",
    "unique['atext'] = unique['atext'].apply(punctuation_remover)"
   ]
  },
  {
   "cell_type": "code",
   "execution_count": 19,
   "metadata": {},
   "outputs": [],
   "source": [
    "unique['atitle'] = unique['atitle'].apply(punctuation_remover)"
   ]
  },
  {
   "cell_type": "code",
   "execution_count": 20,
   "metadata": {},
   "outputs": [
    {
     "data": {
      "text/plain": [
       "0           Клуб активного отдыха 0 67\n",
       "1    Антигравитационный чехол IPhone 5\n",
       "2      Антигравитационный чехол купить\n",
       "3       Беспроцентный заем от Moneyveo\n",
       "4        Беспроцентный заем сотруднику\n",
       "Name: atitle, dtype: object"
      ]
     },
     "execution_count": 20,
     "metadata": {},
     "output_type": "execute_result"
    }
   ],
   "source": [
    "unique['atitle'][:5]"
   ]
  },
  {
   "cell_type": "code",
   "execution_count": 21,
   "metadata": {},
   "outputs": [
    {
     "data": {
      "text/plain": [
       "'Детский пейнтбол Спортивный пейнтбол Тактический пейнтбол Выездные игры'"
      ]
     },
     "execution_count": 21,
     "metadata": {},
     "output_type": "execute_result"
    }
   ],
   "source": [
    "unique['atext'].iloc[0]"
   ]
  },
  {
   "cell_type": "code",
   "execution_count": 22,
   "metadata": {},
   "outputs": [],
   "source": [
    "unique = unique.drop_duplicates(subset = ['atitle'], keep=False)"
   ]
  },
  {
   "cell_type": "code",
   "execution_count": 23,
   "metadata": {},
   "outputs": [],
   "source": [
    "unique = unique.drop_duplicates(subset = ['atext'], keep=False)"
   ]
  },
  {
   "cell_type": "code",
   "execution_count": 24,
   "metadata": {},
   "outputs": [
    {
     "data": {
      "text/plain": [
       "atitle     200718\n",
       "atext      200718\n",
       "adomain      4534\n",
       "dtype: int64"
      ]
     },
     "execution_count": 24,
     "metadata": {},
     "output_type": "execute_result"
    }
   ],
   "source": [
    "unique.nunique()"
   ]
  },
  {
   "cell_type": "code",
   "execution_count": 25,
   "metadata": {},
   "outputs": [],
   "source": [
    "m = Mystem()\n",
    "def text_parser(series): # do lemmatization if true \n",
    "    series_copy = series.copy()\n",
    "    list_of_strings = []\n",
    "\n",
    "    for row in series:\n",
    "        ad_string = ''\n",
    "        lemmas = m.lemmatize(row)\n",
    "        for count, lemma in enumerate(lemmas):\n",
    "            if (lemma !=  ' ' and lemma != '\\n' and count < len(lemmas)):\n",
    "                ad_string += lemma +' ' \n",
    "        list_of_strings.append(ad_string.lower())\n",
    "    return list_of_strings"
   ]
  },
  {
   "cell_type": "code",
   "execution_count": 26,
   "metadata": {},
   "outputs": [],
   "source": [
    "unique_lem = unique.copy()\n",
    "unique_lem['atitle'] = text_parser(unique['atitle'])"
   ]
  },
  {
   "cell_type": "code",
   "execution_count": 27,
   "metadata": {},
   "outputs": [],
   "source": [
    "unique_lem['atext'] = text_parser(unique['atext'])"
   ]
  },
  {
   "cell_type": "code",
   "execution_count": 28,
   "metadata": {},
   "outputs": [
    {
     "data": {
      "text/html": [
       "<div>\n",
       "<style scoped>\n",
       "    .dataframe tbody tr th:only-of-type {\n",
       "        vertical-align: middle;\n",
       "    }\n",
       "\n",
       "    .dataframe tbody tr th {\n",
       "        vertical-align: top;\n",
       "    }\n",
       "\n",
       "    .dataframe thead th {\n",
       "        text-align: right;\n",
       "    }\n",
       "</style>\n",
       "<table border=\"1\" class=\"dataframe\">\n",
       "  <thead>\n",
       "    <tr style=\"text-align: right;\">\n",
       "      <th></th>\n",
       "      <th>atitle</th>\n",
       "      <th>atext</th>\n",
       "      <th>adomain</th>\n",
       "    </tr>\n",
       "  </thead>\n",
       "  <tbody>\n",
       "    <tr>\n",
       "      <th>0</th>\n",
       "      <td>клуб активный отдых 0 67</td>\n",
       "      <td>детский пейнтбол спортивный пейнтбол тактическ...</td>\n",
       "      <td>0-67.relax.by</td>\n",
       "    </tr>\n",
       "    <tr>\n",
       "      <th>1</th>\n",
       "      <td>антигравитационный чехол iphone 5</td>\n",
       "      <td>успевать купить антигравитационный чехол для i...</td>\n",
       "      <td>0-antigravity.ru</td>\n",
       "    </tr>\n",
       "    <tr>\n",
       "      <th>3</th>\n",
       "      <td>беспроцентный заем от moneyveo</td>\n",
       "      <td>без справка получать до 3 000 грн на карта под...</td>\n",
       "      <td>0-credit.moneyveo.ua</td>\n",
       "    </tr>\n",
       "    <tr>\n",
       "      <th>4</th>\n",
       "      <td>беспроцентный заем сотрудник</td>\n",
       "      <td>акция получать кредит онлайн под 0 %   без спр...</td>\n",
       "      <td>0-credit.moneyveo.ua</td>\n",
       "    </tr>\n",
       "    <tr>\n",
       "      <th>11</th>\n",
       "      <td>аnti gravity case</td>\n",
       "      <td>аnti gravity case  –  уникальный антигравитаци...</td>\n",
       "      <td>0-gravity.online-shop-2017.ru</td>\n",
       "    </tr>\n",
       "  </tbody>\n",
       "</table>\n",
       "</div>"
      ],
      "text/plain": [
       "                                atitle  \\\n",
       "0            клуб активный отдых 0 67    \n",
       "1   антигравитационный чехол iphone 5    \n",
       "3      беспроцентный заем от moneyveo    \n",
       "4        беспроцентный заем сотрудник    \n",
       "11                  аnti gravity case    \n",
       "\n",
       "                                                atext  \\\n",
       "0   детский пейнтбол спортивный пейнтбол тактическ...   \n",
       "1   успевать купить антигравитационный чехол для i...   \n",
       "3   без справка получать до 3 000 грн на карта под...   \n",
       "4   акция получать кредит онлайн под 0 %   без спр...   \n",
       "11  аnti gravity case  –  уникальный антигравитаци...   \n",
       "\n",
       "                          adomain  \n",
       "0                   0-67.relax.by  \n",
       "1                0-antigravity.ru  \n",
       "3            0-credit.moneyveo.ua  \n",
       "4            0-credit.moneyveo.ua  \n",
       "11  0-gravity.online-shop-2017.ru  "
      ]
     },
     "execution_count": 28,
     "metadata": {},
     "output_type": "execute_result"
    }
   ],
   "source": [
    "unique_lem.head()"
   ]
  },
  {
   "cell_type": "code",
   "execution_count": 29,
   "metadata": {},
   "outputs": [
    {
     "data": {
      "text/plain": [
       "(200718, 3)"
      ]
     },
     "execution_count": 29,
     "metadata": {},
     "output_type": "execute_result"
    }
   ],
   "source": [
    "unique_lem.shape"
   ]
  },
  {
   "cell_type": "code",
   "execution_count": 30,
   "metadata": {},
   "outputs": [],
   "source": [
    "unique_lem = unique_lem.drop_duplicates(subset = ['atitle'], keep=False)"
   ]
  },
  {
   "cell_type": "code",
   "execution_count": 31,
   "metadata": {},
   "outputs": [],
   "source": [
    "unique_lem = unique_lem.drop_duplicates(subset = ['atext'], keep=False)"
   ]
  },
  {
   "cell_type": "code",
   "execution_count": 32,
   "metadata": {},
   "outputs": [],
   "source": [
    "unique_lem = unique_lem.drop_duplicates(keep=False)"
   ]
  },
  {
   "cell_type": "code",
   "execution_count": 33,
   "metadata": {},
   "outputs": [
    {
     "data": {
      "text/plain": [
       "(191257, 3)"
      ]
     },
     "execution_count": 33,
     "metadata": {},
     "output_type": "execute_result"
    }
   ],
   "source": [
    "unique_lem.shape"
   ]
  },
  {
   "cell_type": "code",
   "execution_count": 34,
   "metadata": {},
   "outputs": [
    {
     "data": {
      "text/plain": [
       "atitle     191257\n",
       "atext      191257\n",
       "adomain      4479\n",
       "dtype: int64"
      ]
     },
     "execution_count": 34,
     "metadata": {},
     "output_type": "execute_result"
    }
   ],
   "source": [
    "unique_lem.nunique()"
   ]
  },
  {
   "cell_type": "code",
   "execution_count": 35,
   "metadata": {},
   "outputs": [
    {
     "data": {
      "text/plain": [
       "atitle     191257\n",
       "atext      191257\n",
       "adomain      4479\n",
       "dtype: int64"
      ]
     },
     "execution_count": 35,
     "metadata": {},
     "output_type": "execute_result"
    }
   ],
   "source": [
    "unique_lem.nunique()"
   ]
  },
  {
   "cell_type": "code",
   "execution_count": 36,
   "metadata": {},
   "outputs": [
    {
     "data": {
      "text/plain": [
       "(191257, 3)"
      ]
     },
     "execution_count": 36,
     "metadata": {},
     "output_type": "execute_result"
    }
   ],
   "source": [
    "unique_lem.shape"
   ]
  },
  {
   "cell_type": "code",
   "execution_count": 37,
   "metadata": {},
   "outputs": [
    {
     "data": {
      "text/plain": [
       "191257"
      ]
     },
     "execution_count": 37,
     "metadata": {},
     "output_type": "execute_result"
    }
   ],
   "source": [
    "len(set(unique_lem['atext']))"
   ]
  },
  {
   "cell_type": "code",
   "execution_count": 38,
   "metadata": {},
   "outputs": [
    {
     "data": {
      "text/plain": [
       "191257"
      ]
     },
     "execution_count": 38,
     "metadata": {},
     "output_type": "execute_result"
    }
   ],
   "source": [
    "len(set(unique_lem['atitle']))"
   ]
  },
  {
   "cell_type": "code",
   "execution_count": 39,
   "metadata": {},
   "outputs": [
    {
     "data": {
      "text/plain": [
       "atitle     0\n",
       "atext      0\n",
       "adomain    0\n",
       "dtype: int64"
      ]
     },
     "execution_count": 39,
     "metadata": {},
     "output_type": "execute_result"
    }
   ],
   "source": [
    "unique_lem.isnull().sum()"
   ]
  },
  {
   "cell_type": "code",
   "execution_count": 40,
   "metadata": {},
   "outputs": [],
   "source": [
    "unique_lem['atitle'] = unique_lem['atitle'].apply(lambda x: x.split())"
   ]
  },
  {
   "cell_type": "code",
   "execution_count": 41,
   "metadata": {},
   "outputs": [],
   "source": [
    "unique_lem['atext'] = unique_lem['atext'].apply(lambda x: x.split())"
   ]
  },
  {
   "cell_type": "code",
   "execution_count": 42,
   "metadata": {},
   "outputs": [],
   "source": [
    "X = unique_lem['atext']\n",
    "y = unique_lem['atitle']"
   ]
  },
  {
   "cell_type": "code",
   "execution_count": 43,
   "metadata": {},
   "outputs": [],
   "source": [
    "X_train, X_test, y_train, y_test = train_test_split(X, y, test_size=0.3, random_state=0)"
   ]
  },
  {
   "cell_type": "code",
   "execution_count": 44,
   "metadata": {},
   "outputs": [
    {
     "data": {
      "text/plain": [
       "538096          [bosch, smv, 65m30, от, 1642, 84, доставка]\n",
       "482436    [быть, в, наличие, плиткорез, на, монорельс, 6...\n",
       "371034    [купить, баня, из, брус, под, ключ, высокий, к...\n",
       "201971    [купить, thrustmaster, джойстик, thrustmaster,...\n",
       "599930    [свитшот, в, интернет, магазин, 3d, футболка, ...\n",
       "Name: atext, dtype: object"
      ]
     },
     "execution_count": 44,
     "metadata": {},
     "output_type": "execute_result"
    }
   ],
   "source": [
    "X_test.head()"
   ]
  },
  {
   "cell_type": "code",
   "execution_count": 45,
   "metadata": {},
   "outputs": [],
   "source": [
    "merged_list = X_train + y_train"
   ]
  },
  {
   "cell_type": "markdown",
   "metadata": {},
   "source": [
    "# III. Training Word2Vec Model"
   ]
  },
  {
   "cell_type": "code",
   "execution_count": 46,
   "metadata": {},
   "outputs": [],
   "source": [
    "model = word2vec.Word2Vec(\n",
    "    merged_list,\n",
    "    workers=4,     \n",
    "    min_count=5,   \n",
    "    window=50,      \n",
    "    sg=0,          \n",
    "    sample=1e-4,  \n",
    "    size=300,      \n",
    "    hs=1           \n",
    ")\n"
   ]
  },
  {
   "cell_type": "code",
   "execution_count": 47,
   "metadata": {},
   "outputs": [
    {
     "name": "stdout",
     "output_type": "stream",
     "text": [
      "19849\n"
     ]
    }
   ],
   "source": [
    "vocab = model.wv.vocab.keys()\n",
    "print(len(vocab))"
   ]
  },
  {
   "cell_type": "code",
   "execution_count": 48,
   "metadata": {},
   "outputs": [],
   "source": [
    "def tsne_plot(model):\n",
    "    #Creates and TSNE model and plots it\n",
    "    \n",
    "    labels = []\n",
    "    tokens = []\n",
    "\n",
    "    for word in model.wv.vocab:\n",
    "        if model.wv.vocab[word].count > 1000:\n",
    "            tokens.append(model[word])\n",
    "            labels.append(word)\n",
    "    \n",
    "    tsne_model = TSNE(perplexity=40, n_components=2, init='pca', n_iter=2500, random_state=108)\n",
    "    new_values = tsne_model.fit_transform(tokens)\n",
    "\n",
    "    x = []\n",
    "    y = []\n",
    "    \n",
    "    for value in new_values:\n",
    "        x.append(value[0])\n",
    "        y.append(value[1])\n",
    "        \n",
    "    plt.figure(figsize=(20, 20)) \n",
    "    for i in range(len(x)):\n",
    "        plt.scatter(x[i],y[i])\n",
    "        plt.annotate(labels[i],\n",
    "                     xy=(x[i], y[i]),\n",
    "                     xytext=(5, 2),\n",
    "                     textcoords='offset points',\n",
    "                     ha='right',\n",
    "                     va='bottom')\n",
    "    plt.show()"
   ]
  },
  {
   "cell_type": "code",
   "execution_count": 49,
   "metadata": {},
   "outputs": [
    {
     "data": {
      "image/png": "[encoded data removed]",
      "text/plain": [
       "<Figure size 1440x1440 with 1 Axes>"
      ]
     },
     "metadata": {
      "needs_background": "light"
     },
     "output_type": "display_data"
    }
   ],
   "source": [
    "tsne_plot(model)"
   ]
  },
  {
   "cell_type": "markdown",
   "metadata": {},
   "source": [
    "# IV. Unsupervised Solution"
   ]
  },
  {
   "cell_type": "code",
   "execution_count": 50,
   "metadata": {},
   "outputs": [],
   "source": [
    "test_df = pd.DataFrame(X_test)"
   ]
  },
  {
   "cell_type": "code",
   "execution_count": 51,
   "metadata": {},
   "outputs": [],
   "source": [
    "test_df['atitle'] = y_test"
   ]
  },
  {
   "cell_type": "code",
   "execution_count": 52,
   "metadata": {},
   "outputs": [
    {
     "data": {
      "text/plain": [
       "(57378, 2)"
      ]
     },
     "execution_count": 52,
     "metadata": {},
     "output_type": "execute_result"
    }
   ],
   "source": [
    "test_df.shape"
   ]
  },
  {
   "cell_type": "code",
   "execution_count": 53,
   "metadata": {},
   "outputs": [
    {
     "data": {
      "text/html": [
       "<div>\n",
       "<style scoped>\n",
       "    .dataframe tbody tr th:only-of-type {\n",
       "        vertical-align: middle;\n",
       "    }\n",
       "\n",
       "    .dataframe tbody tr th {\n",
       "        vertical-align: top;\n",
       "    }\n",
       "\n",
       "    .dataframe thead th {\n",
       "        text-align: right;\n",
       "    }\n",
       "</style>\n",
       "<table border=\"1\" class=\"dataframe\">\n",
       "  <thead>\n",
       "    <tr style=\"text-align: right;\">\n",
       "      <th></th>\n",
       "      <th>atext</th>\n",
       "      <th>atitle</th>\n",
       "    </tr>\n",
       "  </thead>\n",
       "  <tbody>\n",
       "    <tr>\n",
       "      <th>538096</th>\n",
       "      <td>[bosch, smv, 65m30, от, 1642, 84, доставка]</td>\n",
       "      <td>[bosch, smv, 65m30]</td>\n",
       "    </tr>\n",
       "    <tr>\n",
       "      <th>482436</th>\n",
       "      <td>[быть, в, наличие, плиткорез, на, монорельс, 6...</td>\n",
       "      <td>[плиткорез, на, монорельс, 600, мм]</td>\n",
       "    </tr>\n",
       "    <tr>\n",
       "      <th>371034</th>\n",
       "      <td>[купить, баня, из, брус, под, ключ, высокий, к...</td>\n",
       "      <td>[купить, баня, из, брус, под, ключ]</td>\n",
       "    </tr>\n",
       "    <tr>\n",
       "      <th>201971</th>\n",
       "      <td>[купить, thrustmaster, джойстик, thrustmaster,...</td>\n",
       "      <td>[thrustmaster, hotas, warthog, 296072]</td>\n",
       "    </tr>\n",
       "    <tr>\n",
       "      <th>599930</th>\n",
       "      <td>[свитшот, в, интернет, магазин, 3d, футболка, ...</td>\n",
       "      <td>[свитшот, в, интернет, магазин]</td>\n",
       "    </tr>\n",
       "  </tbody>\n",
       "</table>\n",
       "</div>"
      ],
      "text/plain": [
       "                                                    atext  \\\n",
       "538096        [bosch, smv, 65m30, от, 1642, 84, доставка]   \n",
       "482436  [быть, в, наличие, плиткорез, на, монорельс, 6...   \n",
       "371034  [купить, баня, из, брус, под, ключ, высокий, к...   \n",
       "201971  [купить, thrustmaster, джойстик, thrustmaster,...   \n",
       "599930  [свитшот, в, интернет, магазин, 3d, футболка, ...   \n",
       "\n",
       "                                        atitle  \n",
       "538096                     [bosch, smv, 65m30]  \n",
       "482436     [плиткорез, на, монорельс, 600, мм]  \n",
       "371034     [купить, баня, из, брус, под, ключ]  \n",
       "201971  [thrustmaster, hotas, warthog, 296072]  \n",
       "599930         [свитшот, в, интернет, магазин]  "
      ]
     },
     "execution_count": 53,
     "metadata": {},
     "output_type": "execute_result"
    }
   ],
   "source": [
    "test_df.head()"
   ]
  },
  {
   "cell_type": "code",
   "execution_count": 54,
   "metadata": {},
   "outputs": [],
   "source": [
    "sample_test_df_checking = test_df.sample(1000, random_state=0)"
   ]
  },
  {
   "cell_type": "code",
   "execution_count": 55,
   "metadata": {},
   "outputs": [],
   "source": [
    "sample_test_df_checking = sample_test_df_checking.reset_index(drop=True)"
   ]
  },
  {
   "cell_type": "code",
   "execution_count": 56,
   "metadata": {},
   "outputs": [
    {
     "data": {
      "text/html": [
       "<div>\n",
       "<style scoped>\n",
       "    .dataframe tbody tr th:only-of-type {\n",
       "        vertical-align: middle;\n",
       "    }\n",
       "\n",
       "    .dataframe tbody tr th {\n",
       "        vertical-align: top;\n",
       "    }\n",
       "\n",
       "    .dataframe thead th {\n",
       "        text-align: right;\n",
       "    }\n",
       "</style>\n",
       "<table border=\"1\" class=\"dataframe\">\n",
       "  <thead>\n",
       "    <tr style=\"text-align: right;\">\n",
       "      <th></th>\n",
       "      <th>atext</th>\n",
       "      <th>atitle</th>\n",
       "    </tr>\n",
       "  </thead>\n",
       "  <tbody>\n",
       "    <tr>\n",
       "      <th>0</th>\n",
       "      <td>[печь, теплодар, топ, купить, здесь, хороший, ...</td>\n",
       "      <td>[печь, теплодар, топ, купить, здесь]</td>\n",
       "    </tr>\n",
       "    <tr>\n",
       "      <th>1</th>\n",
       "      <td>[покупать, origin, и, др, аккаунт, по, низкий,...</td>\n",
       "      <td>[магазин, игровой, аккаунт, origin]</td>\n",
       "    </tr>\n",
       "    <tr>\n",
       "      <th>2</th>\n",
       "      <td>[обновлять, навигатор, garmin, nuvi, жать]</td>\n",
       "      <td>[обновлять, навигатор, garmin, nuvi]</td>\n",
       "    </tr>\n",
       "    <tr>\n",
       "      <th>3</th>\n",
       "      <td>[полукомбинезон, crockid, сравнивать, цена, ве...</td>\n",
       "      <td>[полукомбинезон, crockid]</td>\n",
       "    </tr>\n",
       "    <tr>\n",
       "      <th>4</th>\n",
       "      <td>[декоративный, зеркало, сравнивать, цена, весь...</td>\n",
       "      <td>[декоративный, зеркало]</td>\n",
       "    </tr>\n",
       "  </tbody>\n",
       "</table>\n",
       "</div>"
      ],
      "text/plain": [
       "                                               atext  \\\n",
       "0  [печь, теплодар, топ, купить, здесь, хороший, ...   \n",
       "1  [покупать, origin, и, др, аккаунт, по, низкий,...   \n",
       "2         [обновлять, навигатор, garmin, nuvi, жать]   \n",
       "3  [полукомбинезон, crockid, сравнивать, цена, ве...   \n",
       "4  [декоративный, зеркало, сравнивать, цена, весь...   \n",
       "\n",
       "                                 atitle  \n",
       "0  [печь, теплодар, топ, купить, здесь]  \n",
       "1   [магазин, игровой, аккаунт, origin]  \n",
       "2  [обновлять, навигатор, garmin, nuvi]  \n",
       "3             [полукомбинезон, crockid]  \n",
       "4               [декоративный, зеркало]  "
      ]
     },
     "execution_count": 56,
     "metadata": {},
     "output_type": "execute_result"
    }
   ],
   "source": [
    "sample_test_df_checking.head()"
   ]
  },
  {
   "cell_type": "code",
   "execution_count": 57,
   "metadata": {},
   "outputs": [],
   "source": [
    "from sklearn.preprocessing import normalize\n",
    "\n",
    "\n",
    "def result_vector(text):\n",
    "    result = np.zeros(300)\n",
    "    count = 0\n",
    "    for word in text:\n",
    "        if word in vocab:\n",
    "            result+=model.wv[word]\n",
    "            count+=1\n",
    "    if count == 0:\n",
    "        return None\n",
    "    #result = (result / count).reshape(1, -1)\n",
    "    result = normalize(result.reshape(1, -1))     \n",
    "    return result"
   ]
  },
  {
   "cell_type": "code",
   "execution_count": 58,
   "metadata": {},
   "outputs": [],
   "source": [
    "sample_text_vectors_test = []\n",
    "for row in range(len(sample_test_df_checking)):\n",
    "    vector = result_vector(sample_test_df_checking.iloc[row, 0])\n",
    "    if vector is not None:  \n",
    "        sample_text_vectors_test.append(vector[0])\n",
    "    else:\n",
    "        sample_text_vectors_test.append('M')"
   ]
  },
  {
   "cell_type": "code",
   "execution_count": 59,
   "metadata": {},
   "outputs": [],
   "source": [
    "sample_title_vectors_test = []\n",
    "for row in range(len(sample_test_df_checking)):\n",
    "    vector = result_vector(sample_test_df_checking.iloc[row, 1])\n",
    "    if vector is not None:  \n",
    "        sample_title_vectors_test.append(vector[0])\n",
    "    else:\n",
    "        sample_title_vectors_test.append('M')"
   ]
  },
  {
   "cell_type": "code",
   "execution_count": 60,
   "metadata": {},
   "outputs": [],
   "source": [
    "test_sample_vectorized = sample_test_df_checking.copy()\n",
    "test_sample_vectorized['text vectors'] = sample_text_vectors_test\n",
    "test_sample_vectorized['title vectors'] = sample_title_vectors_test"
   ]
  },
  {
   "cell_type": "code",
   "execution_count": 61,
   "metadata": {},
   "outputs": [],
   "source": [
    "test_sample_vectorized = test_sample_vectorized[test_sample_vectorized['text vectors'] != 'M']\n",
    "test_sample_vectorized = test_sample_vectorized[test_sample_vectorized['title vectors'] != 'M']"
   ]
  },
  {
   "cell_type": "code",
   "execution_count": 62,
   "metadata": {},
   "outputs": [
    {
     "data": {
      "text/html": [
       "<div>\n",
       "<style scoped>\n",
       "    .dataframe tbody tr th:only-of-type {\n",
       "        vertical-align: middle;\n",
       "    }\n",
       "\n",
       "    .dataframe tbody tr th {\n",
       "        vertical-align: top;\n",
       "    }\n",
       "\n",
       "    .dataframe thead th {\n",
       "        text-align: right;\n",
       "    }\n",
       "</style>\n",
       "<table border=\"1\" class=\"dataframe\">\n",
       "  <thead>\n",
       "    <tr style=\"text-align: right;\">\n",
       "      <th></th>\n",
       "      <th>atext</th>\n",
       "      <th>atitle</th>\n",
       "      <th>text vectors</th>\n",
       "      <th>title vectors</th>\n",
       "    </tr>\n",
       "  </thead>\n",
       "  <tbody>\n",
       "    <tr>\n",
       "      <th>0</th>\n",
       "      <td>[печь, теплодар, топ, купить, здесь, хороший, ...</td>\n",
       "      <td>[печь, теплодар, топ, купить, здесь]</td>\n",
       "      <td>[-0.012165328135384039, -0.05829603946107548, ...</td>\n",
       "      <td>[-0.016803732942445235, -0.01798980556321842, ...</td>\n",
       "    </tr>\n",
       "    <tr>\n",
       "      <th>1</th>\n",
       "      <td>[покупать, origin, и, др, аккаунт, по, низкий,...</td>\n",
       "      <td>[магазин, игровой, аккаунт, origin]</td>\n",
       "      <td>[0.0026607800340348303, -0.0074289492008903215...</td>\n",
       "      <td>[0.027554853521271537, 0.051067897611309726, 0...</td>\n",
       "    </tr>\n",
       "    <tr>\n",
       "      <th>2</th>\n",
       "      <td>[обновлять, навигатор, garmin, nuvi, жать]</td>\n",
       "      <td>[обновлять, навигатор, garmin, nuvi]</td>\n",
       "      <td>[-0.013033558059133756, 0.02896459095084477, 0...</td>\n",
       "      <td>[-0.018267125313184626, 0.03579497263279199, 0...</td>\n",
       "    </tr>\n",
       "    <tr>\n",
       "      <th>3</th>\n",
       "      <td>[полукомбинезон, crockid, сравнивать, цена, ве...</td>\n",
       "      <td>[полукомбинезон, crockid]</td>\n",
       "      <td>[-0.055336739446052684, 0.023552204905021065, ...</td>\n",
       "      <td>[-0.011259474332971536, -0.008995498843055555,...</td>\n",
       "    </tr>\n",
       "    <tr>\n",
       "      <th>4</th>\n",
       "      <td>[декоративный, зеркало, сравнивать, цена, весь...</td>\n",
       "      <td>[декоративный, зеркало]</td>\n",
       "      <td>[-0.07637128225902386, 0.03493874623990901, 0....</td>\n",
       "      <td>[-0.06736673179332726, 0.027085589694762553, 0...</td>\n",
       "    </tr>\n",
       "  </tbody>\n",
       "</table>\n",
       "</div>"
      ],
      "text/plain": [
       "                                               atext  \\\n",
       "0  [печь, теплодар, топ, купить, здесь, хороший, ...   \n",
       "1  [покупать, origin, и, др, аккаунт, по, низкий,...   \n",
       "2         [обновлять, навигатор, garmin, nuvi, жать]   \n",
       "3  [полукомбинезон, crockid, сравнивать, цена, ве...   \n",
       "4  [декоративный, зеркало, сравнивать, цена, весь...   \n",
       "\n",
       "                                 atitle  \\\n",
       "0  [печь, теплодар, топ, купить, здесь]   \n",
       "1   [магазин, игровой, аккаунт, origin]   \n",
       "2  [обновлять, навигатор, garmin, nuvi]   \n",
       "3             [полукомбинезон, crockid]   \n",
       "4               [декоративный, зеркало]   \n",
       "\n",
       "                                        text vectors  \\\n",
       "0  [-0.012165328135384039, -0.05829603946107548, ...   \n",
       "1  [0.0026607800340348303, -0.0074289492008903215...   \n",
       "2  [-0.013033558059133756, 0.02896459095084477, 0...   \n",
       "3  [-0.055336739446052684, 0.023552204905021065, ...   \n",
       "4  [-0.07637128225902386, 0.03493874623990901, 0....   \n",
       "\n",
       "                                       title vectors  \n",
       "0  [-0.016803732942445235, -0.01798980556321842, ...  \n",
       "1  [0.027554853521271537, 0.051067897611309726, 0...  \n",
       "2  [-0.018267125313184626, 0.03579497263279199, 0...  \n",
       "3  [-0.011259474332971536, -0.008995498843055555,...  \n",
       "4  [-0.06736673179332726, 0.027085589694762553, 0...  "
      ]
     },
     "execution_count": 62,
     "metadata": {},
     "output_type": "execute_result"
    }
   ],
   "source": [
    "test_sample_vectorized.head()"
   ]
  },
  {
   "cell_type": "code",
   "execution_count": 63,
   "metadata": {},
   "outputs": [],
   "source": [
    "def cosine_calculator(vector_one, other_vectors):\n",
    "    cosines = []\n",
    "    for each in other_vectors:\n",
    "        sim_score = cosine_similarity(vector_one.reshape(1, -1), each.reshape(1, -1))\n",
    "        cosines.extend(sim_score) \n",
    "    return cosines"
   ]
  },
  {
   "cell_type": "code",
   "execution_count": 64,
   "metadata": {},
   "outputs": [
    {
     "data": {
      "text/plain": [
       "atext     [печь, теплодар, топ, купить, здесь, хороший, ...\n",
       "atitle                 [печь, теплодар, топ, купить, здесь]\n",
       "Name: 0, dtype: object"
      ]
     },
     "execution_count": 64,
     "metadata": {},
     "output_type": "execute_result"
    }
   ],
   "source": [
    "sample_test_df_checking.iloc[0, :]"
   ]
  },
  {
   "cell_type": "code",
   "execution_count": 65,
   "metadata": {},
   "outputs": [],
   "source": [
    "def rank_checker(df, number):\n",
    "    cosines_results = cosine_calculator(df.iloc[number, 2], df.iloc[:, 3])\n",
    "    series = pd.Series(cosines_results, index =df.index)\n",
    "    \n",
    "    sorted_df = series.sort_values(ascending=False)\n",
    "    sorted_index = sorted_df.index\n",
    "    \n",
    "    for rank, entry in enumerate(sorted_index):\n",
    "        if entry == df.index[number]:\n",
    "            return rank"
   ]
  },
  {
   "cell_type": "code",
   "execution_count": 66,
   "metadata": {},
   "outputs": [
    {
     "data": {
      "text/plain": [
       "array([[0.98837064]])"
      ]
     },
     "execution_count": 66,
     "metadata": {},
     "output_type": "execute_result"
    }
   ],
   "source": [
    "cosine_similarity(test_sample_vectorized.iloc[2, 2].reshape(1, -1), test_sample_vectorized.iloc[2, 3].reshape(1, -1))"
   ]
  },
  {
   "cell_type": "code",
   "execution_count": 67,
   "metadata": {},
   "outputs": [],
   "source": [
    "ranks = []\n",
    "for row in range(len(test_sample_vectorized)):\n",
    "    rank = rank_checker(test_sample_vectorized, row)\n",
    "    ranks.append(rank)"
   ]
  },
  {
   "cell_type": "code",
   "execution_count": 68,
   "metadata": {},
   "outputs": [
    {
     "data": {
      "image/png": "[encoded data removed]",
      "text/plain": [
       "<Figure size 720x360 with 1 Axes>"
      ]
     },
     "metadata": {
      "needs_background": "light"
     },
     "output_type": "display_data"
    }
   ],
   "source": [
    "plt.figure(figsize=(10, 5))\n",
    "plt.hist([rank for rank in ranks if rank is not None])\n",
    "plt.show()"
   ]
  },
  {
   "cell_type": "code",
   "execution_count": 69,
   "metadata": {},
   "outputs": [
    {
     "name": "stdout",
     "output_type": "stream",
     "text": [
      "Mean Rank:  16.980885311871226\n",
      "Proportion of the Correct Titles In The Top Three Results:  0.8370221327967807\n"
     ]
    }
   ],
   "source": [
    "small = []\n",
    "for rank in ranks:\n",
    "    if rank <=3:\n",
    "        small.append(rank)   \n",
    "        \n",
    "print('Mean Rank: ', np.mean(ranks))    \n",
    "print('Proportion of the Correct Titles In The Top Three Results: ', len(small) / len(ranks)) "
   ]
  },
  {
   "cell_type": "markdown",
   "metadata": {},
   "source": [
    "# V. Supervised Solution"
   ]
  },
  {
   "cell_type": "markdown",
   "metadata": {},
   "source": [
    "## 1. Training Set Preparation"
   ]
  },
  {
   "cell_type": "code",
   "execution_count": 70,
   "metadata": {},
   "outputs": [],
   "source": [
    "training_df = pd.DataFrame()\n",
    "training_df['text vectors'] = X_train \n",
    "training_df['title vectors'] = y_train"
   ]
  },
  {
   "cell_type": "code",
   "execution_count": 71,
   "metadata": {},
   "outputs": [
    {
     "data": {
      "text/plain": [
       "157245    [цена, от, 450, руб, сут, бронировать, хостеть...\n",
       "54265                             [за, 1400, руб, доставка]\n",
       "379999    [мобильный, телефон, keneksi, m2, 40, 25, р, г...\n",
       "692639    [семя, колокольчик, сравнивать, цена, весь, ин...\n",
       "44467     [купить, lenovo, смартфон, lenovo, a7000, a, b...\n",
       "Name: atext, dtype: object"
      ]
     },
     "execution_count": 71,
     "metadata": {},
     "output_type": "execute_result"
    }
   ],
   "source": [
    "X_train.head()"
   ]
  },
  {
   "cell_type": "code",
   "execution_count": 72,
   "metadata": {},
   "outputs": [
    {
     "data": {
      "text/plain": [
       "157245           [дом, путешественник, ярославль]\n",
       "54265                   [чайник, sinbo, sk, 7310]\n",
       "379999                   [keneksi, m2, 40, 25, р]\n",
       "692639                        [семя, колокольчик]\n",
       "44467     [смартфон, lenovo, a7000, a, black, ds]\n",
       "Name: atitle, dtype: object"
      ]
     },
     "execution_count": 72,
     "metadata": {},
     "output_type": "execute_result"
    }
   ],
   "source": [
    "y_train.head()"
   ]
  },
  {
   "cell_type": "code",
   "execution_count": 73,
   "metadata": {},
   "outputs": [],
   "source": [
    "test_df = pd.DataFrame()\n",
    "test_df['text vectors'] = X_test\n",
    "test_df['title vectors'] = y_test"
   ]
  },
  {
   "cell_type": "code",
   "execution_count": 74,
   "metadata": {},
   "outputs": [
    {
     "data": {
      "text/html": [
       "<div>\n",
       "<style scoped>\n",
       "    .dataframe tbody tr th:only-of-type {\n",
       "        vertical-align: middle;\n",
       "    }\n",
       "\n",
       "    .dataframe tbody tr th {\n",
       "        vertical-align: top;\n",
       "    }\n",
       "\n",
       "    .dataframe thead th {\n",
       "        text-align: right;\n",
       "    }\n",
       "</style>\n",
       "<table border=\"1\" class=\"dataframe\">\n",
       "  <thead>\n",
       "    <tr style=\"text-align: right;\">\n",
       "      <th></th>\n",
       "      <th>text vectors</th>\n",
       "      <th>title vectors</th>\n",
       "    </tr>\n",
       "  </thead>\n",
       "  <tbody>\n",
       "    <tr>\n",
       "      <th>538096</th>\n",
       "      <td>[bosch, smv, 65m30, от, 1642, 84, доставка]</td>\n",
       "      <td>[bosch, smv, 65m30]</td>\n",
       "    </tr>\n",
       "    <tr>\n",
       "      <th>482436</th>\n",
       "      <td>[быть, в, наличие, плиткорез, на, монорельс, 6...</td>\n",
       "      <td>[плиткорез, на, монорельс, 600, мм]</td>\n",
       "    </tr>\n",
       "    <tr>\n",
       "      <th>371034</th>\n",
       "      <td>[купить, баня, из, брус, под, ключ, высокий, к...</td>\n",
       "      <td>[купить, баня, из, брус, под, ключ]</td>\n",
       "    </tr>\n",
       "    <tr>\n",
       "      <th>201971</th>\n",
       "      <td>[купить, thrustmaster, джойстик, thrustmaster,...</td>\n",
       "      <td>[thrustmaster, hotas, warthog, 296072]</td>\n",
       "    </tr>\n",
       "    <tr>\n",
       "      <th>599930</th>\n",
       "      <td>[свитшот, в, интернет, магазин, 3d, футболка, ...</td>\n",
       "      <td>[свитшот, в, интернет, магазин]</td>\n",
       "    </tr>\n",
       "  </tbody>\n",
       "</table>\n",
       "</div>"
      ],
      "text/plain": [
       "                                             text vectors  \\\n",
       "538096        [bosch, smv, 65m30, от, 1642, 84, доставка]   \n",
       "482436  [быть, в, наличие, плиткорез, на, монорельс, 6...   \n",
       "371034  [купить, баня, из, брус, под, ключ, высокий, к...   \n",
       "201971  [купить, thrustmaster, джойстик, thrustmaster,...   \n",
       "599930  [свитшот, в, интернет, магазин, 3d, футболка, ...   \n",
       "\n",
       "                                 title vectors  \n",
       "538096                     [bosch, smv, 65m30]  \n",
       "482436     [плиткорез, на, монорельс, 600, мм]  \n",
       "371034     [купить, баня, из, брус, под, ключ]  \n",
       "201971  [thrustmaster, hotas, warthog, 296072]  \n",
       "599930         [свитшот, в, интернет, магазин]  "
      ]
     },
     "execution_count": 74,
     "metadata": {},
     "output_type": "execute_result"
    }
   ],
   "source": [
    "test_df.head()"
   ]
  },
  {
   "cell_type": "code",
   "execution_count": 75,
   "metadata": {},
   "outputs": [
    {
     "data": {
      "text/plain": [
       "(133879, 2)"
      ]
     },
     "execution_count": 75,
     "metadata": {},
     "output_type": "execute_result"
    }
   ],
   "source": [
    "training_df.shape"
   ]
  },
  {
   "cell_type": "code",
   "execution_count": 76,
   "metadata": {},
   "outputs": [
    {
     "data": {
      "text/plain": [
       "(57378, 2)"
      ]
     },
     "execution_count": 76,
     "metadata": {},
     "output_type": "execute_result"
    }
   ],
   "source": [
    "test_df.shape"
   ]
  },
  {
   "cell_type": "code",
   "execution_count": 77,
   "metadata": {},
   "outputs": [],
   "source": [
    "def mixed_df_creator(df):\n",
    "    \n",
    "    df_copy = df.copy()\n",
    "    df_copy = df.reset_index(drop=True)\n",
    "    \n",
    "    first_half = df_copy.iloc[:int(len(df_copy)/2)]\n",
    "    second_half = df_copy.iloc[int(len(df_copy)/2):]\n",
    "    \n",
    "    shuffled_titles = shuffle(second_half['title vectors'])\n",
    "    shuffled_titles = shuffled_titles.reset_index(drop=True)\n",
    "    \n",
    "    second_half = second_half.reset_index(drop=True)\n",
    "    second_half['title vectors'] = shuffled_titles\n",
    "    \n",
    "    first_half['pair class'] = 1\n",
    "    second_half['pair class'] = 0\n",
    "    \n",
    "    concat_result = pd.concat([first_half, second_half], axis=0, ignore_index=True)\n",
    "    \n",
    "    return concat_result"
   ]
  },
  {
   "cell_type": "code",
   "execution_count": 78,
   "metadata": {},
   "outputs": [],
   "source": [
    "training_df_mixed = mixed_df_creator(training_df)"
   ]
  },
  {
   "cell_type": "code",
   "execution_count": 79,
   "metadata": {},
   "outputs": [],
   "source": [
    "test_df_mixed = mixed_df_creator(test_df)"
   ]
  },
  {
   "cell_type": "code",
   "execution_count": 80,
   "metadata": {},
   "outputs": [
    {
     "data": {
      "text/html": [
       "<div>\n",
       "<style scoped>\n",
       "    .dataframe tbody tr th:only-of-type {\n",
       "        vertical-align: middle;\n",
       "    }\n",
       "\n",
       "    .dataframe tbody tr th {\n",
       "        vertical-align: top;\n",
       "    }\n",
       "\n",
       "    .dataframe thead th {\n",
       "        text-align: right;\n",
       "    }\n",
       "</style>\n",
       "<table border=\"1\" class=\"dataframe\">\n",
       "  <thead>\n",
       "    <tr style=\"text-align: right;\">\n",
       "      <th></th>\n",
       "      <th>text vectors</th>\n",
       "      <th>title vectors</th>\n",
       "      <th>pair class</th>\n",
       "    </tr>\n",
       "  </thead>\n",
       "  <tbody>\n",
       "    <tr>\n",
       "      <th>133874</th>\n",
       "      <td>[карнавальный, костюм, медведь, сравнивать, це...</td>\n",
       "      <td>[гостиница, тибет, воронеж]</td>\n",
       "      <td>0</td>\n",
       "    </tr>\n",
       "    <tr>\n",
       "      <th>133875</th>\n",
       "      <td>[построение, стена, в, 3d, max, обучать, мини,...</td>\n",
       "      <td>[аккумулятор, 6ст, 140]</td>\n",
       "      <td>0</td>\n",
       "    </tr>\n",
       "    <tr>\n",
       "      <th>133876</th>\n",
       "      <td>[edifier, s2000, от, 556, 44, доставка]</td>\n",
       "      <td>[bosch, gex, 125, 150, ave, купить]</td>\n",
       "      <td>0</td>\n",
       "    </tr>\n",
       "    <tr>\n",
       "      <th>133877</th>\n",
       "      <td>[часы, longines, сравнивать, цена, весь, интер...</td>\n",
       "      <td>[мотоблок, huter, gmc, 9, 0, 70, 5, 4]</td>\n",
       "      <td>0</td>\n",
       "    </tr>\n",
       "    <tr>\n",
       "      <th>133878</th>\n",
       "      <td>[купить, intel, процессор, intel, core, i7, 39...</td>\n",
       "      <td>[сколько, стоить, бахила]</td>\n",
       "      <td>0</td>\n",
       "    </tr>\n",
       "  </tbody>\n",
       "</table>\n",
       "</div>"
      ],
      "text/plain": [
       "                                             text vectors  \\\n",
       "133874  [карнавальный, костюм, медведь, сравнивать, це...   \n",
       "133875  [построение, стена, в, 3d, max, обучать, мини,...   \n",
       "133876            [edifier, s2000, от, 556, 44, доставка]   \n",
       "133877  [часы, longines, сравнивать, цена, весь, интер...   \n",
       "133878  [купить, intel, процессор, intel, core, i7, 39...   \n",
       "\n",
       "                                 title vectors  pair class  \n",
       "133874             [гостиница, тибет, воронеж]           0  \n",
       "133875                 [аккумулятор, 6ст, 140]           0  \n",
       "133876     [bosch, gex, 125, 150, ave, купить]           0  \n",
       "133877  [мотоблок, huter, gmc, 9, 0, 70, 5, 4]           0  \n",
       "133878               [сколько, стоить, бахила]           0  "
      ]
     },
     "execution_count": 80,
     "metadata": {},
     "output_type": "execute_result"
    }
   ],
   "source": [
    "training_df_mixed.tail()"
   ]
  },
  {
   "cell_type": "code",
   "execution_count": 81,
   "metadata": {},
   "outputs": [
    {
     "data": {
      "text/html": [
       "<div>\n",
       "<style scoped>\n",
       "    .dataframe tbody tr th:only-of-type {\n",
       "        vertical-align: middle;\n",
       "    }\n",
       "\n",
       "    .dataframe tbody tr th {\n",
       "        vertical-align: top;\n",
       "    }\n",
       "\n",
       "    .dataframe thead th {\n",
       "        text-align: right;\n",
       "    }\n",
       "</style>\n",
       "<table border=\"1\" class=\"dataframe\">\n",
       "  <thead>\n",
       "    <tr style=\"text-align: right;\">\n",
       "      <th></th>\n",
       "      <th>text vectors</th>\n",
       "      <th>title vectors</th>\n",
       "      <th>pair class</th>\n",
       "    </tr>\n",
       "  </thead>\n",
       "  <tbody>\n",
       "    <tr>\n",
       "      <th>0</th>\n",
       "      <td>[bosch, smv, 65m30, от, 1642, 84, доставка]</td>\n",
       "      <td>[bosch, smv, 65m30]</td>\n",
       "      <td>1</td>\n",
       "    </tr>\n",
       "    <tr>\n",
       "      <th>1</th>\n",
       "      <td>[быть, в, наличие, плиткорез, на, монорельс, 6...</td>\n",
       "      <td>[плиткорез, на, монорельс, 600, мм]</td>\n",
       "      <td>1</td>\n",
       "    </tr>\n",
       "    <tr>\n",
       "      <th>2</th>\n",
       "      <td>[купить, баня, из, брус, под, ключ, высокий, к...</td>\n",
       "      <td>[купить, баня, из, брус, под, ключ]</td>\n",
       "      <td>1</td>\n",
       "    </tr>\n",
       "    <tr>\n",
       "      <th>3</th>\n",
       "      <td>[купить, thrustmaster, джойстик, thrustmaster,...</td>\n",
       "      <td>[thrustmaster, hotas, warthog, 296072]</td>\n",
       "      <td>1</td>\n",
       "    </tr>\n",
       "    <tr>\n",
       "      <th>4</th>\n",
       "      <td>[свитшот, в, интернет, магазин, 3d, футболка, ...</td>\n",
       "      <td>[свитшот, в, интернет, магазин]</td>\n",
       "      <td>1</td>\n",
       "    </tr>\n",
       "  </tbody>\n",
       "</table>\n",
       "</div>"
      ],
      "text/plain": [
       "                                        text vectors  \\\n",
       "0        [bosch, smv, 65m30, от, 1642, 84, доставка]   \n",
       "1  [быть, в, наличие, плиткорез, на, монорельс, 6...   \n",
       "2  [купить, баня, из, брус, под, ключ, высокий, к...   \n",
       "3  [купить, thrustmaster, джойстик, thrustmaster,...   \n",
       "4  [свитшот, в, интернет, магазин, 3d, футболка, ...   \n",
       "\n",
       "                            title vectors  pair class  \n",
       "0                     [bosch, smv, 65m30]           1  \n",
       "1     [плиткорез, на, монорельс, 600, мм]           1  \n",
       "2     [купить, баня, из, брус, под, ключ]           1  \n",
       "3  [thrustmaster, hotas, warthog, 296072]           1  \n",
       "4         [свитшот, в, интернет, магазин]           1  "
      ]
     },
     "execution_count": 81,
     "metadata": {},
     "output_type": "execute_result"
    }
   ],
   "source": [
    "test_df_mixed.head()"
   ]
  },
  {
   "cell_type": "code",
   "execution_count": 82,
   "metadata": {},
   "outputs": [
    {
     "data": {
      "text/plain": [
       "(133879, 3)"
      ]
     },
     "execution_count": 82,
     "metadata": {},
     "output_type": "execute_result"
    }
   ],
   "source": [
    "training_df_mixed.shape"
   ]
  },
  {
   "cell_type": "code",
   "execution_count": 83,
   "metadata": {},
   "outputs": [
    {
     "data": {
      "text/plain": [
       "300"
      ]
     },
     "execution_count": 83,
     "metadata": {},
     "output_type": "execute_result"
    }
   ],
   "source": [
    "len(result_vector(training_df_mixed.iloc[0, 0])[0])"
   ]
  },
  {
   "cell_type": "code",
   "execution_count": 84,
   "metadata": {},
   "outputs": [],
   "source": [
    "# vectorization of the ads text\n",
    "text_vectors = []\n",
    "for row in range(len(training_df_mixed)):\n",
    "    vector = result_vector(training_df_mixed.iloc[row, 0])\n",
    "    if vector is not None:  \n",
    "        text_vectors.append(vector[0])\n",
    "    else:\n",
    "        text_vectors.append('M')"
   ]
  },
  {
   "cell_type": "code",
   "execution_count": 85,
   "metadata": {},
   "outputs": [],
   "source": [
    "training_df_mixed_vectorized = training_df_mixed.copy()"
   ]
  },
  {
   "cell_type": "code",
   "execution_count": 86,
   "metadata": {},
   "outputs": [],
   "source": [
    "training_df_mixed_vectorized['text vectors'] = text_vectors"
   ]
  },
  {
   "cell_type": "code",
   "execution_count": 87,
   "metadata": {},
   "outputs": [],
   "source": [
    "# vectorization of the ads text\n",
    "text_vectors_test = []\n",
    "for row in range(len(test_df_mixed)):\n",
    "    vector = result_vector(test_df_mixed.iloc[row, 0])\n",
    "    if vector is not None:  \n",
    "        text_vectors_test.append(vector[0])\n",
    "    else:\n",
    "        text_vectors_test.append('M')"
   ]
  },
  {
   "cell_type": "code",
   "execution_count": 88,
   "metadata": {},
   "outputs": [],
   "source": [
    "test_df_mixed_vectorized = test_df_mixed.copy()"
   ]
  },
  {
   "cell_type": "code",
   "execution_count": 89,
   "metadata": {},
   "outputs": [],
   "source": [
    "test_df_mixed_vectorized['text vectors'] = text_vectors_test"
   ]
  },
  {
   "cell_type": "code",
   "execution_count": 90,
   "metadata": {},
   "outputs": [],
   "source": [
    "# vectorization of the ads title\n",
    "title_vectors_tr = []\n",
    "for row in range(len(training_df_mixed)):\n",
    "    vector = result_vector(training_df_mixed.iloc[row, 1])\n",
    "    if vector is not None:  \n",
    "        title_vectors_tr.append(vector[0])\n",
    "    else:\n",
    "        title_vectors_tr.append('M')"
   ]
  },
  {
   "cell_type": "code",
   "execution_count": 91,
   "metadata": {},
   "outputs": [],
   "source": [
    "training_df_mixed_vectorized['title vectors'] = title_vectors_tr"
   ]
  },
  {
   "cell_type": "code",
   "execution_count": 92,
   "metadata": {},
   "outputs": [],
   "source": [
    "# vectorization of the ads title\n",
    "title_vectors_test = []\n",
    "for row in range(len(test_df_mixed)):\n",
    "    vector = result_vector(test_df_mixed.iloc[row, 1])\n",
    "    if vector is not None:  \n",
    "        title_vectors_test.append(vector[0])\n",
    "    else:\n",
    "        title_vectors_test.append('M')"
   ]
  },
  {
   "cell_type": "code",
   "execution_count": 93,
   "metadata": {},
   "outputs": [],
   "source": [
    "test_df_mixed_vectorized['title vectors'] = title_vectors_test"
   ]
  },
  {
   "cell_type": "code",
   "execution_count": 94,
   "metadata": {},
   "outputs": [],
   "source": [
    "# remove vectors with that are comprised exclusively of the words that are missing from our vocabulary\n",
    "\n",
    "training_df_mixed_vectorized= training_df_mixed_vectorized[training_df_mixed_vectorized['text vectors'] != 'M']\n",
    "training_df_mixed_vectorized = training_df_mixed_vectorized[training_df_mixed_vectorized['title vectors'] != 'M']\n",
    "\n",
    "test_df_mixed_vectorized= test_df_mixed_vectorized[test_df_mixed_vectorized['text vectors'] != 'M']\n",
    "test_df_mixed_vectorized = test_df_mixed_vectorized[test_df_mixed_vectorized['title vectors'] != 'M']"
   ]
  },
  {
   "cell_type": "code",
   "execution_count": 95,
   "metadata": {},
   "outputs": [
    {
     "data": {
      "text/html": [
       "<div>\n",
       "<style scoped>\n",
       "    .dataframe tbody tr th:only-of-type {\n",
       "        vertical-align: middle;\n",
       "    }\n",
       "\n",
       "    .dataframe tbody tr th {\n",
       "        vertical-align: top;\n",
       "    }\n",
       "\n",
       "    .dataframe thead th {\n",
       "        text-align: right;\n",
       "    }\n",
       "</style>\n",
       "<table border=\"1\" class=\"dataframe\">\n",
       "  <thead>\n",
       "    <tr style=\"text-align: right;\">\n",
       "      <th></th>\n",
       "      <th>text vectors</th>\n",
       "      <th>title vectors</th>\n",
       "      <th>pair class</th>\n",
       "    </tr>\n",
       "  </thead>\n",
       "  <tbody>\n",
       "    <tr>\n",
       "      <th>0</th>\n",
       "      <td>[0.02544660047329015, 0.0011707810425195231, 0...</td>\n",
       "      <td>[0.015198098036355846, -0.05213342759809982, 0...</td>\n",
       "      <td>1</td>\n",
       "    </tr>\n",
       "    <tr>\n",
       "      <th>1</th>\n",
       "      <td>[0.0516573081411133, 0.04961228635702311, 0.17...</td>\n",
       "      <td>[-0.020864336136039073, 0.05624800853075846, 0...</td>\n",
       "      <td>1</td>\n",
       "    </tr>\n",
       "    <tr>\n",
       "      <th>2</th>\n",
       "      <td>[0.05171520681832581, -0.09692307439560113, 0....</td>\n",
       "      <td>[0.06936322380652053, -0.060187326935168685, 0...</td>\n",
       "      <td>1</td>\n",
       "    </tr>\n",
       "    <tr>\n",
       "      <th>3</th>\n",
       "      <td>[-0.0534009538584657, -0.005319961921192986, 0...</td>\n",
       "      <td>[-0.037221739126971624, -0.03195540881985159, ...</td>\n",
       "      <td>1</td>\n",
       "    </tr>\n",
       "    <tr>\n",
       "      <th>4</th>\n",
       "      <td>[0.08585735811197197, -0.01758867201049432, 0....</td>\n",
       "      <td>[0.08681373663851291, 0.01630877987328536, 0.0...</td>\n",
       "      <td>1</td>\n",
       "    </tr>\n",
       "  </tbody>\n",
       "</table>\n",
       "</div>"
      ],
      "text/plain": [
       "                                        text vectors  \\\n",
       "0  [0.02544660047329015, 0.0011707810425195231, 0...   \n",
       "1  [0.0516573081411133, 0.04961228635702311, 0.17...   \n",
       "2  [0.05171520681832581, -0.09692307439560113, 0....   \n",
       "3  [-0.0534009538584657, -0.005319961921192986, 0...   \n",
       "4  [0.08585735811197197, -0.01758867201049432, 0....   \n",
       "\n",
       "                                       title vectors  pair class  \n",
       "0  [0.015198098036355846, -0.05213342759809982, 0...           1  \n",
       "1  [-0.020864336136039073, 0.05624800853075846, 0...           1  \n",
       "2  [0.06936322380652053, -0.060187326935168685, 0...           1  \n",
       "3  [-0.037221739126971624, -0.03195540881985159, ...           1  \n",
       "4  [0.08681373663851291, 0.01630877987328536, 0.0...           1  "
      ]
     },
     "execution_count": 95,
     "metadata": {},
     "output_type": "execute_result"
    }
   ],
   "source": [
    "training_df_mixed_vectorized.head()"
   ]
  },
  {
   "cell_type": "code",
   "execution_count": 96,
   "metadata": {},
   "outputs": [
    {
     "data": {
      "text/html": [
       "<div>\n",
       "<style scoped>\n",
       "    .dataframe tbody tr th:only-of-type {\n",
       "        vertical-align: middle;\n",
       "    }\n",
       "\n",
       "    .dataframe tbody tr th {\n",
       "        vertical-align: top;\n",
       "    }\n",
       "\n",
       "    .dataframe thead th {\n",
       "        text-align: right;\n",
       "    }\n",
       "</style>\n",
       "<table border=\"1\" class=\"dataframe\">\n",
       "  <thead>\n",
       "    <tr style=\"text-align: right;\">\n",
       "      <th></th>\n",
       "      <th>text vectors</th>\n",
       "      <th>title vectors</th>\n",
       "      <th>pair class</th>\n",
       "    </tr>\n",
       "  </thead>\n",
       "  <tbody>\n",
       "    <tr>\n",
       "      <th>0</th>\n",
       "      <td>[0.024666528995219074, 0.049405161975092676, 0...</td>\n",
       "      <td>[0.06545065127986378, 0.0780018034864091, 0.01...</td>\n",
       "      <td>1</td>\n",
       "    </tr>\n",
       "    <tr>\n",
       "      <th>1</th>\n",
       "      <td>[0.021816723765101267, 0.024676030341124464, 0...</td>\n",
       "      <td>[0.05880607107079969, 0.05520591482410514, 0.0...</td>\n",
       "      <td>1</td>\n",
       "    </tr>\n",
       "    <tr>\n",
       "      <th>2</th>\n",
       "      <td>[-0.11535827586952777, -0.039044689100362316, ...</td>\n",
       "      <td>[-0.11845730082128247, -0.06688823228895374, 0...</td>\n",
       "      <td>1</td>\n",
       "    </tr>\n",
       "    <tr>\n",
       "      <th>3</th>\n",
       "      <td>[0.05458239301304493, 0.03686340994410696, -0....</td>\n",
       "      <td>[0.08798639535798412, 0.08486310808031754, -0....</td>\n",
       "      <td>1</td>\n",
       "    </tr>\n",
       "    <tr>\n",
       "      <th>4</th>\n",
       "      <td>[-0.049653448006533346, 0.030218458533691293, ...</td>\n",
       "      <td>[-0.03963005196180652, 0.016070349965537634, 0...</td>\n",
       "      <td>1</td>\n",
       "    </tr>\n",
       "  </tbody>\n",
       "</table>\n",
       "</div>"
      ],
      "text/plain": [
       "                                        text vectors  \\\n",
       "0  [0.024666528995219074, 0.049405161975092676, 0...   \n",
       "1  [0.021816723765101267, 0.024676030341124464, 0...   \n",
       "2  [-0.11535827586952777, -0.039044689100362316, ...   \n",
       "3  [0.05458239301304493, 0.03686340994410696, -0....   \n",
       "4  [-0.049653448006533346, 0.030218458533691293, ...   \n",
       "\n",
       "                                       title vectors  pair class  \n",
       "0  [0.06545065127986378, 0.0780018034864091, 0.01...           1  \n",
       "1  [0.05880607107079969, 0.05520591482410514, 0.0...           1  \n",
       "2  [-0.11845730082128247, -0.06688823228895374, 0...           1  \n",
       "3  [0.08798639535798412, 0.08486310808031754, -0....           1  \n",
       "4  [-0.03963005196180652, 0.016070349965537634, 0...           1  "
      ]
     },
     "execution_count": 96,
     "metadata": {},
     "output_type": "execute_result"
    }
   ],
   "source": [
    "test_df_mixed_vectorized.head()"
   ]
  },
  {
   "cell_type": "code",
   "execution_count": 97,
   "metadata": {},
   "outputs": [],
   "source": [
    "def cosine_between_rows(row):\n",
    "    sim = cosine_similarity(row['text vectors'].reshape(1, -1), row['title vectors'].reshape(1, -1))\n",
    "    return sim"
   ]
  },
  {
   "cell_type": "markdown",
   "metadata": {},
   "source": [
    "# Cosine Consistency Check"
   ]
  },
  {
   "cell_type": "code",
   "execution_count": 98,
   "metadata": {},
   "outputs": [
    {
     "name": "stdout",
     "output_type": "stream",
     "text": [
      "Mean cosine similarity score: first half [[0.78024414]]\n",
      "Mean cosine similarity score: second half [[0.23585755]]\n"
     ]
    }
   ],
   "source": [
    "sim_score_one = training_df_mixed_vectorized.iloc[:66939].apply(cosine_between_rows, axis = 1)\n",
    "sim_score_two = training_df_mixed_vectorized.iloc[66939:].apply(cosine_between_rows, axis = 1)\n",
    "\n",
    "print('Mean cosine similarity score: first half', np.mean(sim_score_one))\n",
    "print('Mean cosine similarity score: second half', np.mean(sim_score_two))"
   ]
  },
  {
   "cell_type": "code",
   "execution_count": 99,
   "metadata": {},
   "outputs": [
    {
     "name": "stdout",
     "output_type": "stream",
     "text": [
      "Mean cosine similarity score: first half [[0.77205639]]\n",
      "Mean cosine similarity score: second half [[0.24044585]]\n"
     ]
    }
   ],
   "source": [
    "sim_score_one_test = test_df_mixed_vectorized.iloc[:28689].apply(cosine_between_rows, axis = 1)\n",
    "sim_score_two_test = test_df_mixed_vectorized.iloc[28689:].apply(cosine_between_rows, axis = 1)\n",
    "\n",
    "print('Mean cosine similarity score: first half', np.mean(sim_score_one_test))\n",
    "print('Mean cosine similarity score: second half', np.mean(sim_score_two_test))"
   ]
  },
  {
   "cell_type": "code",
   "execution_count": 100,
   "metadata": {},
   "outputs": [
    {
     "data": {
      "text/html": [
       "<div>\n",
       "<style scoped>\n",
       "    .dataframe tbody tr th:only-of-type {\n",
       "        vertical-align: middle;\n",
       "    }\n",
       "\n",
       "    .dataframe tbody tr th {\n",
       "        vertical-align: top;\n",
       "    }\n",
       "\n",
       "    .dataframe thead th {\n",
       "        text-align: right;\n",
       "    }\n",
       "</style>\n",
       "<table border=\"1\" class=\"dataframe\">\n",
       "  <thead>\n",
       "    <tr style=\"text-align: right;\">\n",
       "      <th></th>\n",
       "      <th>text vectors</th>\n",
       "      <th>title vectors</th>\n",
       "      <th>pair class</th>\n",
       "    </tr>\n",
       "  </thead>\n",
       "  <tbody>\n",
       "    <tr>\n",
       "      <th>0</th>\n",
       "      <td>[цена, от, 450, руб, сут, бронировать, хостеть...</td>\n",
       "      <td>[дом, путешественник, ярославль]</td>\n",
       "      <td>1</td>\n",
       "    </tr>\n",
       "    <tr>\n",
       "      <th>1</th>\n",
       "      <td>[за, 1400, руб, доставка]</td>\n",
       "      <td>[чайник, sinbo, sk, 7310]</td>\n",
       "      <td>1</td>\n",
       "    </tr>\n",
       "    <tr>\n",
       "      <th>2</th>\n",
       "      <td>[мобильный, телефон, keneksi, m2, 40, 25, р, г...</td>\n",
       "      <td>[keneksi, m2, 40, 25, р]</td>\n",
       "      <td>1</td>\n",
       "    </tr>\n",
       "    <tr>\n",
       "      <th>3</th>\n",
       "      <td>[семя, колокольчик, сравнивать, цена, весь, ин...</td>\n",
       "      <td>[семя, колокольчик]</td>\n",
       "      <td>1</td>\n",
       "    </tr>\n",
       "    <tr>\n",
       "      <th>4</th>\n",
       "      <td>[купить, lenovo, смартфон, lenovo, a7000, a, b...</td>\n",
       "      <td>[смартфон, lenovo, a7000, a, black, ds]</td>\n",
       "      <td>1</td>\n",
       "    </tr>\n",
       "  </tbody>\n",
       "</table>\n",
       "</div>"
      ],
      "text/plain": [
       "                                        text vectors  \\\n",
       "0  [цена, от, 450, руб, сут, бронировать, хостеть...   \n",
       "1                          [за, 1400, руб, доставка]   \n",
       "2  [мобильный, телефон, keneksi, m2, 40, 25, р, г...   \n",
       "3  [семя, колокольчик, сравнивать, цена, весь, ин...   \n",
       "4  [купить, lenovo, смартфон, lenovo, a7000, a, b...   \n",
       "\n",
       "                             title vectors  pair class  \n",
       "0         [дом, путешественник, ярославль]           1  \n",
       "1                [чайник, sinbo, sk, 7310]           1  \n",
       "2                 [keneksi, m2, 40, 25, р]           1  \n",
       "3                      [семя, колокольчик]           1  \n",
       "4  [смартфон, lenovo, a7000, a, black, ds]           1  "
      ]
     },
     "execution_count": 100,
     "metadata": {},
     "output_type": "execute_result"
    }
   ],
   "source": [
    "training_df_mixed.head()"
   ]
  },
  {
   "cell_type": "code",
   "execution_count": 101,
   "metadata": {},
   "outputs": [
    {
     "data": {
      "text/plain": [
       "text vectors     0\n",
       "title vectors    0\n",
       "pair class       0\n",
       "dtype: int64"
      ]
     },
     "execution_count": 101,
     "metadata": {},
     "output_type": "execute_result"
    }
   ],
   "source": [
    "training_df_mixed.isnull().sum()"
   ]
  },
  {
   "cell_type": "code",
   "execution_count": 102,
   "metadata": {},
   "outputs": [
    {
     "data": {
      "text/html": [
       "<div>\n",
       "<style scoped>\n",
       "    .dataframe tbody tr th:only-of-type {\n",
       "        vertical-align: middle;\n",
       "    }\n",
       "\n",
       "    .dataframe tbody tr th {\n",
       "        vertical-align: top;\n",
       "    }\n",
       "\n",
       "    .dataframe thead th {\n",
       "        text-align: right;\n",
       "    }\n",
       "</style>\n",
       "<table border=\"1\" class=\"dataframe\">\n",
       "  <thead>\n",
       "    <tr style=\"text-align: right;\">\n",
       "      <th></th>\n",
       "      <th>text vectors</th>\n",
       "      <th>title vectors</th>\n",
       "      <th>pair class</th>\n",
       "    </tr>\n",
       "  </thead>\n",
       "  <tbody>\n",
       "    <tr>\n",
       "      <th>0</th>\n",
       "      <td>[цена, от, 450, руб, сут, бронировать, хостеть...</td>\n",
       "      <td>[дом, путешественник, ярославль]</td>\n",
       "      <td>1</td>\n",
       "    </tr>\n",
       "    <tr>\n",
       "      <th>1</th>\n",
       "      <td>[за, 1400, руб, доставка]</td>\n",
       "      <td>[чайник, sinbo, sk, 7310]</td>\n",
       "      <td>1</td>\n",
       "    </tr>\n",
       "    <tr>\n",
       "      <th>2</th>\n",
       "      <td>[мобильный, телефон, keneksi, m2, 40, 25, р, г...</td>\n",
       "      <td>[keneksi, m2, 40, 25, р]</td>\n",
       "      <td>1</td>\n",
       "    </tr>\n",
       "    <tr>\n",
       "      <th>3</th>\n",
       "      <td>[семя, колокольчик, сравнивать, цена, весь, ин...</td>\n",
       "      <td>[семя, колокольчик]</td>\n",
       "      <td>1</td>\n",
       "    </tr>\n",
       "    <tr>\n",
       "      <th>4</th>\n",
       "      <td>[купить, lenovo, смартфон, lenovo, a7000, a, b...</td>\n",
       "      <td>[смартфон, lenovo, a7000, a, black, ds]</td>\n",
       "      <td>1</td>\n",
       "    </tr>\n",
       "  </tbody>\n",
       "</table>\n",
       "</div>"
      ],
      "text/plain": [
       "                                        text vectors  \\\n",
       "0  [цена, от, 450, руб, сут, бронировать, хостеть...   \n",
       "1                          [за, 1400, руб, доставка]   \n",
       "2  [мобильный, телефон, keneksi, m2, 40, 25, р, г...   \n",
       "3  [семя, колокольчик, сравнивать, цена, весь, ин...   \n",
       "4  [купить, lenovo, смартфон, lenovo, a7000, a, b...   \n",
       "\n",
       "                             title vectors  pair class  \n",
       "0         [дом, путешественник, ярославль]           1  \n",
       "1                [чайник, sinbo, sk, 7310]           1  \n",
       "2                 [keneksi, m2, 40, 25, р]           1  \n",
       "3                      [семя, колокольчик]           1  \n",
       "4  [смартфон, lenovo, a7000, a, black, ds]           1  "
      ]
     },
     "execution_count": 102,
     "metadata": {},
     "output_type": "execute_result"
    }
   ],
   "source": [
    "training_df_mixed.head()"
   ]
  },
  {
   "cell_type": "code",
   "execution_count": 103,
   "metadata": {},
   "outputs": [
    {
     "data": {
      "text/plain": [
       "text vectors     0\n",
       "title vectors    0\n",
       "pair class       0\n",
       "dtype: int64"
      ]
     },
     "execution_count": 103,
     "metadata": {},
     "output_type": "execute_result"
    }
   ],
   "source": [
    "test_df_mixed.isnull().sum()"
   ]
  },
  {
   "cell_type": "code",
   "execution_count": 104,
   "metadata": {},
   "outputs": [],
   "source": [
    "def df_converter(df):\n",
    "    resultant_lists = df['text vectors'].apply(list) + df['title vectors'].apply(list)\n",
    "    \n",
    "    #print length for checking the length of concatenated vectors\n",
    "    print(len(resultant_lists.iloc[0]))\n",
    "    \n",
    "    arrays = np.array(list(resultant_lists))\n",
    "    return arrays"
   ]
  },
  {
   "cell_type": "code",
   "execution_count": 105,
   "metadata": {},
   "outputs": [
    {
     "name": "stdout",
     "output_type": "stream",
     "text": [
      "600\n"
     ]
    }
   ],
   "source": [
    "all_training_vectors = df_converter(training_df_mixed_vectorized)"
   ]
  },
  {
   "cell_type": "code",
   "execution_count": 106,
   "metadata": {},
   "outputs": [
    {
     "name": "stdout",
     "output_type": "stream",
     "text": [
      "600\n"
     ]
    }
   ],
   "source": [
    "all_test_vectors = df_converter(test_df_mixed_vectorized)"
   ]
  },
  {
   "cell_type": "code",
   "execution_count": 107,
   "metadata": {},
   "outputs": [],
   "source": [
    "new_y_training = training_df_mixed_vectorized['pair class']"
   ]
  },
  {
   "cell_type": "code",
   "execution_count": 108,
   "metadata": {},
   "outputs": [],
   "source": [
    "new_y_test = test_df_mixed_vectorized['pair class']"
   ]
  },
  {
   "cell_type": "markdown",
   "metadata": {},
   "source": [
    "## 2. PCA And Parameter Finetuning"
   ]
  },
  {
   "cell_type": "code",
   "execution_count": 109,
   "metadata": {},
   "outputs": [],
   "source": [
    "sample_training_df = training_df_mixed_vectorized.sample(10000, random_state=0)"
   ]
  },
  {
   "cell_type": "code",
   "execution_count": 110,
   "metadata": {},
   "outputs": [
    {
     "data": {
      "text/html": [
       "<div>\n",
       "<style scoped>\n",
       "    .dataframe tbody tr th:only-of-type {\n",
       "        vertical-align: middle;\n",
       "    }\n",
       "\n",
       "    .dataframe tbody tr th {\n",
       "        vertical-align: top;\n",
       "    }\n",
       "\n",
       "    .dataframe thead th {\n",
       "        text-align: right;\n",
       "    }\n",
       "</style>\n",
       "<table border=\"1\" class=\"dataframe\">\n",
       "  <thead>\n",
       "    <tr style=\"text-align: right;\">\n",
       "      <th></th>\n",
       "      <th>text vectors</th>\n",
       "      <th>title vectors</th>\n",
       "      <th>pair class</th>\n",
       "    </tr>\n",
       "  </thead>\n",
       "  <tbody>\n",
       "    <tr>\n",
       "      <th>100527</th>\n",
       "      <td>[-0.06564139194051566, 0.032995899964511244, 0...</td>\n",
       "      <td>[0.07408974409360328, -0.034764985742462215, 0...</td>\n",
       "      <td>0</td>\n",
       "    </tr>\n",
       "    <tr>\n",
       "      <th>25083</th>\n",
       "      <td>[0.05884931551291509, -0.049131845362865384, 0...</td>\n",
       "      <td>[0.0858738413626561, -0.09996082926322494, -0....</td>\n",
       "      <td>1</td>\n",
       "    </tr>\n",
       "    <tr>\n",
       "      <th>69956</th>\n",
       "      <td>[-0.039078905295983554, 0.028571696330134108, ...</td>\n",
       "      <td>[-0.008040678539049351, 0.03801823840014913, 0...</td>\n",
       "      <td>0</td>\n",
       "    </tr>\n",
       "    <tr>\n",
       "      <th>71144</th>\n",
       "      <td>[-0.08282363245517602, 0.028861952575292345, 0...</td>\n",
       "      <td>[-0.004116660968997862, -0.03636474826532888, ...</td>\n",
       "      <td>0</td>\n",
       "    </tr>\n",
       "    <tr>\n",
       "      <th>118937</th>\n",
       "      <td>[-0.018110658984371236, 0.13308508856234968, 0...</td>\n",
       "      <td>[-0.058187864019798516, 0.0281978554047003, 0....</td>\n",
       "      <td>0</td>\n",
       "    </tr>\n",
       "  </tbody>\n",
       "</table>\n",
       "</div>"
      ],
      "text/plain": [
       "                                             text vectors  \\\n",
       "100527  [-0.06564139194051566, 0.032995899964511244, 0...   \n",
       "25083   [0.05884931551291509, -0.049131845362865384, 0...   \n",
       "69956   [-0.039078905295983554, 0.028571696330134108, ...   \n",
       "71144   [-0.08282363245517602, 0.028861952575292345, 0...   \n",
       "118937  [-0.018110658984371236, 0.13308508856234968, 0...   \n",
       "\n",
       "                                            title vectors  pair class  \n",
       "100527  [0.07408974409360328, -0.034764985742462215, 0...           0  \n",
       "25083   [0.0858738413626561, -0.09996082926322494, -0....           1  \n",
       "69956   [-0.008040678539049351, 0.03801823840014913, 0...           0  \n",
       "71144   [-0.004116660968997862, -0.03636474826532888, ...           0  \n",
       "118937  [-0.058187864019798516, 0.0281978554047003, 0....           0  "
      ]
     },
     "execution_count": 110,
     "metadata": {},
     "output_type": "execute_result"
    }
   ],
   "source": [
    "sample_training_df.head()"
   ]
  },
  {
   "cell_type": "code",
   "execution_count": 111,
   "metadata": {},
   "outputs": [],
   "source": [
    "from sklearn.decomposition import PCA\n"
   ]
  },
  {
   "cell_type": "code",
   "execution_count": 112,
   "metadata": {},
   "outputs": [
    {
     "name": "stdout",
     "output_type": "stream",
     "text": [
      "600\n"
     ]
    }
   ],
   "source": [
    "sample_training_arrays = df_converter(sample_training_df)"
   ]
  },
  {
   "cell_type": "code",
   "execution_count": 113,
   "metadata": {},
   "outputs": [],
   "source": [
    "sample_y = sample_training_df['pair class']"
   ]
  },
  {
   "cell_type": "code",
   "execution_count": 114,
   "metadata": {},
   "outputs": [],
   "source": [
    "pca_sample = PCA(n_components = 150)\n",
    "X_train_sample_pca = pca_sample.fit_transform(sample_training_arrays)"
   ]
  },
  {
   "cell_type": "code",
   "execution_count": 115,
   "metadata": {},
   "outputs": [
    {
     "data": {
      "text/plain": [
       "(10000, 150)"
      ]
     },
     "execution_count": 115,
     "metadata": {},
     "output_type": "execute_result"
    }
   ],
   "source": [
    "X_train_sample_pca.shape"
   ]
  },
  {
   "cell_type": "code",
   "execution_count": 116,
   "metadata": {},
   "outputs": [
    {
     "name": "stdout",
     "output_type": "stream",
     "text": [
      "0.878237057539938\n"
     ]
    }
   ],
   "source": [
    "print(sum(pca_sample.explained_variance_ratio_))"
   ]
  },
  {
   "cell_type": "code",
   "execution_count": 117,
   "metadata": {},
   "outputs": [
    {
     "data": {
      "image/png": "[encoded data removed]",
      "text/plain": [
       "<Figure size 864x504 with 1 Axes>"
      ]
     },
     "metadata": {
      "needs_background": "light"
     },
     "output_type": "display_data"
    }
   ],
   "source": [
    "plt.figure(figsize=(12, 7))\n",
    "plt.title('First Two PCA Components')\n",
    "sns.scatterplot(X_train_sample_pca[:, 0], X_train_sample_pca[:, 1])\n",
    "plt.xlabel('First PCA Component')\n",
    "plt.ylabel('Second PCA Componenet')\n",
    "\n",
    "plt.show()"
   ]
  },
  {
   "cell_type": "markdown",
   "metadata": {},
   "source": [
    "## 1. Logistic Regression"
   ]
  },
  {
   "cell_type": "code",
   "execution_count": 118,
   "metadata": {},
   "outputs": [
    {
     "name": "stdout",
     "output_type": "stream",
     "text": [
      "Fitting 3 folds for each of 12 candidates, totalling 36 fits\n"
     ]
    },
    {
     "name": "stderr",
     "output_type": "stream",
     "text": [
      "[Parallel(n_jobs=1)]: Done  36 out of  36 | elapsed:    2.2s finished\n"
     ]
    },
    {
     "data": {
      "text/plain": [
       "GridSearchCV(cv=3, error_score='raise',\n",
       "       estimator=LogisticRegression(C=1.0, class_weight=None, dual=False, fit_intercept=True,\n",
       "          intercept_scaling=1, max_iter=100, multi_class='ovr', n_jobs=1,\n",
       "          penalty='l2', random_state=None, solver='liblinear', tol=0.0001,\n",
       "          verbose=0, warm_start=False),\n",
       "       fit_params=None, iid=True, n_jobs=1,\n",
       "       param_grid=[{'C': [1e-20, 0.001, 0.001, 10, 100.0, 1000.0], 'penalty': ['l1', 'l2']}],\n",
       "       pre_dispatch='2*n_jobs', refit=True, return_train_score='warn',\n",
       "       scoring='accuracy', verbose=1)"
      ]
     },
     "execution_count": 118,
     "metadata": {},
     "output_type": "execute_result"
    }
   ],
   "source": [
    "from sklearn.linear_model import LogisticRegression\n",
    "\n",
    "param_grid = [\n",
    "    {'C': [1e-20, 1e-3,1e-3,  10, 1e2, 1e3],\n",
    "    'penalty': ['l1', 'l2']}\n",
    "]\n",
    "lr = LogisticRegression()\n",
    "\n",
    "grid_search = GridSearchCV(lr, param_grid, cv =3,\n",
    "                          scoring= 'accuracy', verbose=1)\n",
    "\n",
    "grid_search.fit(X_train_sample_pca, sample_y)"
   ]
  },
  {
   "cell_type": "code",
   "execution_count": 119,
   "metadata": {},
   "outputs": [
    {
     "name": "stdout",
     "output_type": "stream",
     "text": [
      "Best score 0.5087\n",
      "Best parameters {'C': 1e-20, 'penalty': 'l1'}\n"
     ]
    }
   ],
   "source": [
    "print('Best score', grid_search.best_score_)\n",
    "print('Best parameters', grid_search.best_params_)"
   ]
  },
  {
   "cell_type": "markdown",
   "metadata": {},
   "source": [
    "## 2. Random Forest"
   ]
  },
  {
   "cell_type": "code",
   "execution_count": 120,
   "metadata": {},
   "outputs": [
    {
     "data": {
      "text/plain": [
       "GridSearchCV(cv=3, error_score='raise',\n",
       "       estimator=RandomForestClassifier(bootstrap=True, class_weight=None, criterion='gini',\n",
       "            max_depth=None, max_features='auto', max_leaf_nodes=None,\n",
       "            min_impurity_decrease=0.0, min_impurity_split=None,\n",
       "            min_samples_leaf=1, min_samples_split=2,\n",
       "            min_weight_fraction_leaf=0.0, n_estimators=10, n_jobs=-1,\n",
       "            oob_score=False, random_state=None, verbose=0,\n",
       "            warm_start=False),\n",
       "       fit_params=None, iid=True, n_jobs=-1,\n",
       "       param_grid=[{'n_estimators': [100, 500, 700], 'max_depth': [5, 8, 12, 20, 30]}],\n",
       "       pre_dispatch='2*n_jobs', refit=True, return_train_score='warn',\n",
       "       scoring='accuracy', verbose=0)"
      ]
     },
     "execution_count": 120,
     "metadata": {},
     "output_type": "execute_result"
    }
   ],
   "source": [
    "param_grid_rfc = [\n",
    "    {'n_estimators': [100, 500, 700],\n",
    "    'max_depth': [5, 8, 12, 20, 30]}\n",
    "]\n",
    "rfc = RandomForestClassifier(n_jobs = -1)\n",
    "\n",
    "grid_search_rfc = GridSearchCV(rfc, param_grid_rfc, cv =3,\n",
    "                          scoring= 'accuracy', verbose=0,\n",
    "                          n_jobs = -1)\n",
    "\n",
    "grid_search_rfc.fit(X_train_sample_pca, sample_y)"
   ]
  },
  {
   "cell_type": "code",
   "execution_count": 121,
   "metadata": {},
   "outputs": [
    {
     "name": "stdout",
     "output_type": "stream",
     "text": [
      "Best score 0.8856\n",
      "Best parameters {'max_depth': 30, 'n_estimators': 700}\n"
     ]
    }
   ],
   "source": [
    "print('Best score', grid_search_rfc.best_score_)\n",
    "print('Best parameters', grid_search_rfc.best_params_)"
   ]
  },
  {
   "cell_type": "code",
   "execution_count": 123,
   "metadata": {},
   "outputs": [
    {
     "data": {
      "text/plain": [
       "GridSearchCV(cv=3, error_score='raise',\n",
       "       estimator=RandomForestClassifier(bootstrap=True, class_weight=None, criterion='gini',\n",
       "            max_depth=None, max_features='auto', max_leaf_nodes=None,\n",
       "            min_impurity_decrease=0.0, min_impurity_split=None,\n",
       "            min_samples_leaf=1, min_samples_split=2,\n",
       "            min_weight_fraction_leaf=0.0, n_estimators=10, n_jobs=-1,\n",
       "            oob_score=False, random_state=None, verbose=0,\n",
       "            warm_start=False),\n",
       "       fit_params=None, iid=True, n_jobs=-1,\n",
       "       param_grid=[{'n_estimators': [1000, 1200]}],\n",
       "       pre_dispatch='2*n_jobs', refit=True, return_train_score='warn',\n",
       "       scoring='accuracy', verbose=0)"
      ]
     },
     "execution_count": 123,
     "metadata": {},
     "output_type": "execute_result"
    }
   ],
   "source": [
    "param_grid_rfc = [\n",
    "    {'n_estimators': [1000, 1200]\n",
    "    }\n",
    "]\n",
    "rfc_one = RandomForestClassifier(n_jobs = -1, max_depth=30)\n",
    "\n",
    "grid_search_rfc_one = GridSearchCV(rfc, param_grid_rfc, cv =3,\n",
    "                          scoring= 'accuracy', verbose=0,\n",
    "                          n_jobs = -1)\n",
    "\n",
    "grid_search_rfc_one.fit(X_train_sample_pca, sample_y)"
   ]
  },
  {
   "cell_type": "code",
   "execution_count": 124,
   "metadata": {},
   "outputs": [
    {
     "name": "stdout",
     "output_type": "stream",
     "text": [
      "Best score 0.8852\n",
      "Best parameters {'n_estimators': 1000}\n"
     ]
    }
   ],
   "source": [
    "print('Best score', grid_search_rfc_one.best_score_)\n",
    "print('Best parameters', grid_search_rfc_one.best_params_)"
   ]
  },
  {
   "cell_type": "code",
   "execution_count": 125,
   "metadata": {},
   "outputs": [
    {
     "data": {
      "text/plain": [
       "GridSearchCV(cv=3, error_score='raise',\n",
       "       estimator=XGBClassifier(base_score=0.5, booster='gbtree', colsample_bylevel=1,\n",
       "       colsample_bytree=1, gamma=0, learning_rate=0.1, max_delta_step=0,\n",
       "       max_depth=3, min_child_weight=1, missing=None, n_estimators=100,\n",
       "       n_jobs=-1, nthread=None, objective='binary:logistic',\n",
       "       random_state=0, reg_alpha=0, reg_lambda=1, scale_pos_weight=1,\n",
       "       seed=None, silent=True, subsample=1),\n",
       "       fit_params=None, iid=True, n_jobs=-1,\n",
       "       param_grid=[{'n_estimators': [100, 500, 700], 'max_depth': [2, 4, 6, 8]}],\n",
       "       pre_dispatch='2*n_jobs', refit=True, return_train_score='warn',\n",
       "       scoring='accuracy', verbose=0)"
      ]
     },
     "execution_count": 125,
     "metadata": {},
     "output_type": "execute_result"
    }
   ],
   "source": [
    "from xgboost import XGBClassifier\n",
    "\n",
    "param_grid_xgb = [\n",
    "    {'n_estimators': [100, 500, 700],\n",
    "    'max_depth': [2, 4, 6, 8]\n",
    "    }\n",
    "]\n",
    "xgb = XGBClassifier(n_jobs = -1)\n",
    "\n",
    "grid_search_xgb = GridSearchCV(xgb, param_grid_xgb, cv =3,\n",
    "                          scoring= 'accuracy', verbose=0,\n",
    "                          n_jobs = -1)\n",
    "\n",
    "grid_search_xgb.fit(X_train_sample_pca, sample_y)"
   ]
  },
  {
   "cell_type": "code",
   "execution_count": 126,
   "metadata": {},
   "outputs": [
    {
     "name": "stdout",
     "output_type": "stream",
     "text": [
      "Best score 0.9238\n",
      "Best parameters {'max_depth': 6, 'n_estimators': 700}\n"
     ]
    }
   ],
   "source": [
    "print('Best score', grid_search_xgb.best_score_)\n",
    "print('Best parameters', grid_search_xgb.best_params_)"
   ]
  },
  {
   "cell_type": "code",
   "execution_count": 127,
   "metadata": {},
   "outputs": [
    {
     "data": {
      "text/plain": [
       "GridSearchCV(cv=3, error_score='raise',\n",
       "       estimator=XGBClassifier(base_score=0.5, booster='gbtree', colsample_bylevel=1,\n",
       "       colsample_bytree=1, gamma=0, learning_rate=0.1, max_delta_step=0,\n",
       "       max_depth=6, min_child_weight=1, missing=None, n_estimators=100,\n",
       "       n_jobs=-1, nthread=None, objective='binary:logistic',\n",
       "       random_state=0, reg_alpha=0, reg_lambda=1, scale_pos_weight=1,\n",
       "       seed=None, silent=True, subsample=1),\n",
       "       fit_params=None, iid=True, n_jobs=-1,\n",
       "       param_grid=[{'n_estimators': [700, 1000], 'learning_rate': [0.001, 0.5, 0.1]}],\n",
       "       pre_dispatch='2*n_jobs', refit=True, return_train_score='warn',\n",
       "       scoring='accuracy', verbose=0)"
      ]
     },
     "execution_count": 127,
     "metadata": {},
     "output_type": "execute_result"
    }
   ],
   "source": [
    "param_grid_xgb_one = [\n",
    "    {'n_estimators': [700, 1000],\n",
    "    'learning_rate': [1e-3, 0.5, 0.1],\n",
    "    }\n",
    "]\n",
    "xgb = XGBClassifier(n_jobs = -1, max_depth= 6)\n",
    "\n",
    "grid_search_xgb_one = GridSearchCV(xgb, param_grid_xgb_one, cv =3,\n",
    "                          scoring= 'accuracy', verbose=0,\n",
    "                          n_jobs = -1)\n",
    "\n",
    "grid_search_xgb_one.fit(X_train_sample_pca, sample_y)"
   ]
  },
  {
   "cell_type": "code",
   "execution_count": 128,
   "metadata": {},
   "outputs": [
    {
     "name": "stdout",
     "output_type": "stream",
     "text": [
      "Best score 0.9271\n",
      "Best parameters {'learning_rate': 0.1, 'n_estimators': 1000}\n"
     ]
    }
   ],
   "source": [
    "print('Best score', grid_search_xgb_one.best_score_)\n",
    "print('Best parameters', grid_search_xgb_one.best_params_)"
   ]
  },
  {
   "cell_type": "code",
   "execution_count": 129,
   "metadata": {},
   "outputs": [
    {
     "data": {
      "text/plain": [
       "GridSearchCV(cv=3, error_score='raise',\n",
       "       estimator=XGBClassifier(base_score=0.5, booster='gbtree', colsample_bylevel=1,\n",
       "       colsample_bytree=1, gamma=0, learning_rate=0.1, max_delta_step=0,\n",
       "       max_depth=6, min_child_weight=1, missing=None, n_estimators=1000,\n",
       "       n_jobs=-1, nthread=None, objective='binary:logistic',\n",
       "       random_state=0, reg_alpha=0, reg_lambda=1, scale_pos_weight=1,\n",
       "       seed=None, silent=True, subsample=1),\n",
       "       fit_params=None, iid=True, n_jobs=-1,\n",
       "       param_grid=[{'subsample': [0.25, 0.5, 1]}], pre_dispatch='2*n_jobs',\n",
       "       refit=True, return_train_score='warn', scoring='accuracy',\n",
       "       verbose=0)"
      ]
     },
     "execution_count": 129,
     "metadata": {},
     "output_type": "execute_result"
    }
   ],
   "source": [
    "param_grid_xgb_two = [\n",
    "    {'subsample': [0.25, 0.5, 1],\n",
    "    }\n",
    "]\n",
    "xgb = XGBClassifier(n_jobs = -1, max_depth= 6, n_estimators=1000, learning_rate=0.1, )\n",
    "\n",
    "grid_search_xgb_two = GridSearchCV(xgb, param_grid_xgb_two, cv =3,\n",
    "                          scoring= 'accuracy', verbose=0,\n",
    "                          n_jobs = -1)\n",
    "\n",
    "grid_search_xgb_two.fit(X_train_sample_pca, sample_y)"
   ]
  },
  {
   "cell_type": "code",
   "execution_count": 130,
   "metadata": {},
   "outputs": [
    {
     "name": "stdout",
     "output_type": "stream",
     "text": [
      "Best score 0.9307\n",
      "Best parameters {'subsample': 0.5}\n"
     ]
    }
   ],
   "source": [
    "print('Best score', grid_search_xgb_two.best_score_)\n",
    "print('Best parameters', grid_search_xgb_two.best_params_)"
   ]
  },
  {
   "cell_type": "markdown",
   "metadata": {},
   "source": [
    "# VI. Test Set Evaluation"
   ]
  },
  {
   "cell_type": "code",
   "execution_count": 131,
   "metadata": {},
   "outputs": [
    {
     "name": "stdout",
     "output_type": "stream",
     "text": [
      "0.8751461742520695\n",
      "(57054, 150)\n"
     ]
    }
   ],
   "source": [
    "pca_testing = PCA(n_components = 150)\n",
    "X_train_pca = pca_testing.fit_transform(all_training_vectors)\n",
    "print(sum(pca_testing.explained_variance_ratio_))\n",
    "\n",
    "X_test_pca = pca_testing.transform(all_test_vectors)\n",
    "\n",
    "print(X_test_pca.shape)"
   ]
  },
  {
   "cell_type": "code",
   "execution_count": 132,
   "metadata": {},
   "outputs": [],
   "source": [
    "from sklearn.metrics import f1_score, confusion_matrix, precision_score, recall_score"
   ]
  },
  {
   "cell_type": "code",
   "execution_count": 133,
   "metadata": {},
   "outputs": [],
   "source": [
    "def probability_calculator(text_vector, title_vectors, model):\n",
    "    list_concat_arrays = []\n",
    "    for each in title_vectors:\n",
    "        resultant_list = list(text_vector) +list(each)\n",
    "        resultant_array = np.array(list(resultant_list))\n",
    "        list_concat_arrays.append(resultant_array)\n",
    "    \n",
    "    made_array = np.array(list_concat_arrays)\n",
    "    pca_transformed = pca_testing.transform(made_array)\n",
    "    predictions = model.predict_proba(pca_transformed)[:, 1]\n",
    "      \n",
    "    return predictions"
   ]
  },
  {
   "cell_type": "code",
   "execution_count": 134,
   "metadata": {},
   "outputs": [],
   "source": [
    "def rank_checker(df, number, model):\n",
    "    probabilities = probability_calculator(df.iloc[number, 2], df.iloc[:, 3], model)\n",
    "    series = pd.Series(probabilities, index =df.index)\n",
    "\n",
    "    sorted_df = series.sort_values(ascending=False)\n",
    "    sorted_index = sorted_df.index\n",
    "    \n",
    "    for rank, entry in enumerate(sorted_index):\n",
    "        if entry == df.index[number]:\n",
    "            return rank"
   ]
  },
  {
   "cell_type": "code",
   "execution_count": 135,
   "metadata": {},
   "outputs": [],
   "source": [
    "def ranks_evaluation(df, model):\n",
    "    ranks = []\n",
    "    for row in range(len(test_sample_vectorized)):     \n",
    "        rank = rank_checker(test_sample_vectorized, row, model)\n",
    "        ranks.append(rank)\n",
    "\n",
    "    small = []\n",
    "    for rank in ranks:\n",
    "        if rank <=3:\n",
    "            small.append(rank)   \n",
    "\n",
    "    print(model) \n",
    "    print('Mean Rank: ', np.mean(ranks))    \n",
    "    print('Proportion of the Correct Titles In The Top Three Results: ', len(small) / len(ranks)) \n",
    "\n",
    "    plt.figure(figsize=(10, 5))\n",
    "    plt.hist(ranks)\n",
    "    plt.title('Ranks of The Correct Title as Predicted', )\n",
    "    plt.show()\n",
    "    return ranks, small"
   ]
  },
  {
   "cell_type": "markdown",
   "metadata": {},
   "source": [
    "## 1. Logistic Regression"
   ]
  },
  {
   "cell_type": "code",
   "execution_count": 136,
   "metadata": {},
   "outputs": [
    {
     "name": "stdout",
     "output_type": "stream",
     "text": [
      "Accuracy: 0.5000175272548814\n"
     ]
    }
   ],
   "source": [
    "lr_test = LogisticRegression(C= 1e-20, penalty= 'l1')\n",
    "\n",
    "lr_test.fit(X_train_pca, new_y_training)\n",
    "\n",
    "print('Accuracy:', lr_test.score(X_test_pca, new_y_test))"
   ]
  },
  {
   "cell_type": "code",
   "execution_count": 137,
   "metadata": {},
   "outputs": [],
   "source": [
    "lr_pred = lr_test.predict(X_test_pca)"
   ]
  },
  {
   "cell_type": "code",
   "execution_count": 138,
   "metadata": {},
   "outputs": [
    {
     "data": {
      "text/plain": [
       "(array([0]), array([57054]))"
      ]
     },
     "execution_count": 138,
     "metadata": {},
     "output_type": "execute_result"
    }
   ],
   "source": [
    "np.unique(lr_pred, return_counts=True)"
   ]
  },
  {
   "cell_type": "code",
   "execution_count": 139,
   "metadata": {},
   "outputs": [
    {
     "data": {
      "text/plain": [
       "array([[28528,     0],\n",
       "       [28526,     0]])"
      ]
     },
     "execution_count": 139,
     "metadata": {},
     "output_type": "execute_result"
    }
   ],
   "source": [
    "confusion_matrix(new_y_test, lr_pred )"
   ]
  },
  {
   "cell_type": "code",
   "execution_count": 140,
   "metadata": {},
   "outputs": [
    {
     "name": "stdout",
     "output_type": "stream",
     "text": [
      "F1 Score: 0.0\n"
     ]
    }
   ],
   "source": [
    "print('F1 Score:', f1_score(new_y_test, lr_pred ))"
   ]
  },
  {
   "cell_type": "code",
   "execution_count": 141,
   "metadata": {},
   "outputs": [
    {
     "name": "stdout",
     "output_type": "stream",
     "text": [
      "Recall score: 0.0\n"
     ]
    }
   ],
   "source": [
    "print('Recall score:', recall_score(new_y_test, lr_pred ))"
   ]
  },
  {
   "cell_type": "code",
   "execution_count": 142,
   "metadata": {},
   "outputs": [
    {
     "name": "stdout",
     "output_type": "stream",
     "text": [
      "Precision score: 0.0\n"
     ]
    }
   ],
   "source": [
    "print('Precision score:', precision_score(new_y_test, lr_pred ))"
   ]
  },
  {
   "cell_type": "code",
   "execution_count": 143,
   "metadata": {},
   "outputs": [
    {
     "name": "stdout",
     "output_type": "stream",
     "text": [
      "LogisticRegression(C=1e-20, class_weight=None, dual=False, fit_intercept=True,\n",
      "          intercept_scaling=1, max_iter=100, multi_class='ovr', n_jobs=1,\n",
      "          penalty='l1', random_state=None, solver='liblinear', tol=0.0001,\n",
      "          verbose=0, warm_start=False)\n",
      "Mean Rank:  496.5\n",
      "Proportion of the Correct Titles In The Top Three Results:  0.004024144869215292\n"
     ]
    },
    {
     "data": {
      "image/png": "[encoded data removed]",
      "text/plain": [
       "<Figure size 720x360 with 1 Axes>"
      ]
     },
     "metadata": {
      "needs_background": "light"
     },
     "output_type": "display_data"
    }
   ],
   "source": [
    "lr_ranks, lr_small = ranks_evaluation(test_sample_vectorized, lr_test)"
   ]
  },
  {
   "cell_type": "markdown",
   "metadata": {},
   "source": [
    "## 2. Random Forest"
   ]
  },
  {
   "cell_type": "code",
   "execution_count": 144,
   "metadata": {},
   "outputs": [
    {
     "name": "stdout",
     "output_type": "stream",
     "text": [
      "Accuracy: 0.9320643600799243\n"
     ]
    }
   ],
   "source": [
    "rfc_test = RandomForestClassifier(n_jobs = -1, \n",
    "                            n_estimators = 1000,\n",
    "                            max_depth = 30)\n",
    "\n",
    "rfc_test.fit(X_train_pca, new_y_training)\n",
    "\n",
    "print('Accuracy:', rfc_test.score(X_test_pca, new_y_test))"
   ]
  },
  {
   "cell_type": "code",
   "execution_count": 145,
   "metadata": {},
   "outputs": [
    {
     "name": "stdout",
     "output_type": "stream",
     "text": [
      "[[26863  1665]\n",
      " [ 2211 26315]]\n"
     ]
    }
   ],
   "source": [
    "rfc_pred = rfc_test.predict(X_test_pca)\n",
    "print(confusion_matrix(new_y_test, rfc_pred ))"
   ]
  },
  {
   "cell_type": "code",
   "execution_count": 146,
   "metadata": {},
   "outputs": [
    {
     "name": "stdout",
     "output_type": "stream",
     "text": [
      "F1 Score: 0.9314055144586415\n"
     ]
    }
   ],
   "source": [
    "print('F1 Score:', f1_score(new_y_test, rfc_pred ))"
   ]
  },
  {
   "cell_type": "code",
   "execution_count": 147,
   "metadata": {},
   "outputs": [
    {
     "name": "stdout",
     "output_type": "stream",
     "text": [
      "Precision score: 0.9404932094353109\n"
     ]
    }
   ],
   "source": [
    "print('Precision score:', precision_score(new_y_test, rfc_pred ))"
   ]
  },
  {
   "cell_type": "code",
   "execution_count": 148,
   "metadata": {},
   "outputs": [
    {
     "name": "stdout",
     "output_type": "stream",
     "text": [
      "Recall score: 0.9224917619014232\n"
     ]
    }
   ],
   "source": [
    "print('Recall score:', recall_score(new_y_test, rfc_pred ))"
   ]
  },
  {
   "cell_type": "code",
   "execution_count": 149,
   "metadata": {},
   "outputs": [
    {
     "name": "stdout",
     "output_type": "stream",
     "text": [
      "RandomForestClassifier(bootstrap=True, class_weight=None, criterion='gini',\n",
      "            max_depth=30, max_features='auto', max_leaf_nodes=None,\n",
      "            min_impurity_decrease=0.0, min_impurity_split=None,\n",
      "            min_samples_leaf=1, min_samples_split=2,\n",
      "            min_weight_fraction_leaf=0.0, n_estimators=1000, n_jobs=-1,\n",
      "            oob_score=False, random_state=None, verbose=0,\n",
      "            warm_start=False)\n",
      "Mean Rank:  22.11066398390342\n",
      "Proportion of the Correct Titles In The Top Three Results:  0.6991951710261569\n"
     ]
    },
    {
     "data": {
      "image/png": "[encoded data removed]",
      "text/plain": [
       "<Figure size 720x360 with 1 Axes>"
      ]
     },
     "metadata": {
      "needs_background": "light"
     },
     "output_type": "display_data"
    }
   ],
   "source": [
    "rfc_ranks, rfc_small = ranks_evaluation(test_sample_vectorized, rfc_test)"
   ]
  },
  {
   "cell_type": "markdown",
   "metadata": {},
   "source": [
    "## 3. XGBoost"
   ]
  },
  {
   "cell_type": "code",
   "execution_count": 150,
   "metadata": {},
   "outputs": [
    {
     "name": "stdout",
     "output_type": "stream",
     "text": [
      "Accuracy: 0.9656991621972166\n"
     ]
    }
   ],
   "source": [
    "xgb_test = XGBClassifier(n_estimators = 1000,\n",
    "                        max_depth = 6,\n",
    "                        learning_rate= 0.1,\n",
    "                        subsample = 0.5)\n",
    "\n",
    "xgb_test.fit(X_train_pca, new_y_training)\n",
    "\n",
    "print('Accuracy:', xgb_test.score(X_test_pca, new_y_test))"
   ]
  },
  {
   "cell_type": "code",
   "execution_count": 151,
   "metadata": {},
   "outputs": [
    {
     "name": "stdout",
     "output_type": "stream",
     "text": [
      "F1 Score: 0.965586368192449\n"
     ]
    }
   ],
   "source": [
    "xgb_pred = xgb_test.predict(X_test_pca)\n",
    "print('F1 Score:', f1_score(new_y_test, xgb_pred ))"
   ]
  },
  {
   "cell_type": "code",
   "execution_count": 152,
   "metadata": {},
   "outputs": [
    {
     "name": "stdout",
     "output_type": "stream",
     "text": [
      "[[27642   886]\n",
      " [ 1071 27455]]\n"
     ]
    }
   ],
   "source": [
    "print(confusion_matrix(new_y_test, xgb_pred))"
   ]
  },
  {
   "cell_type": "code",
   "execution_count": 154,
   "metadata": {},
   "outputs": [
    {
     "name": "stdout",
     "output_type": "stream",
     "text": [
      "Precision score: 0.9687378709290427\n"
     ]
    }
   ],
   "source": [
    "print('Precision score:', precision_score(new_y_test, xgb_pred))"
   ]
  },
  {
   "cell_type": "code",
   "execution_count": 155,
   "metadata": {},
   "outputs": [
    {
     "name": "stdout",
     "output_type": "stream",
     "text": [
      "Recall score: 0.9624553039332538\n"
     ]
    }
   ],
   "source": [
    "print('Recall score:', recall_score(new_y_test, xgb_pred))"
   ]
  },
  {
   "cell_type": "code",
   "execution_count": 156,
   "metadata": {},
   "outputs": [
    {
     "name": "stdout",
     "output_type": "stream",
     "text": [
      "XGBClassifier(base_score=0.5, booster='gbtree', colsample_bylevel=1,\n",
      "       colsample_bytree=1, gamma=0, learning_rate=0.1, max_delta_step=0,\n",
      "       max_depth=6, min_child_weight=1, missing=None, n_estimators=1000,\n",
      "       n_jobs=1, nthread=None, objective='binary:logistic', random_state=0,\n",
      "       reg_alpha=0, reg_lambda=1, scale_pos_weight=1, seed=None,\n",
      "       silent=True, subsample=0.5)\n",
      "Mean Rank:  10.872233400402415\n",
      "Proportion of the Correct Titles In The Top Three Results:  0.8470824949698189\n"
     ]
    },
    {
     "data": {
      "image/png": "[encoded data removed]",
      "text/plain": [
       "<Figure size 720x360 with 1 Axes>"
      ]
     },
     "metadata": {
      "needs_background": "light"
     },
     "output_type": "display_data"
    }
   ],
   "source": [
    "xgb_ranks, xgb_small = ranks_evaluation(test_sample_vectorized, xgb_test)"
   ]
  },
  {
   "cell_type": "markdown",
   "metadata": {},
   "source": [
    "# VII.  RNN Solution"
   ]
  },
  {
   "cell_type": "markdown",
   "metadata": {},
   "source": [
    "## 1. Data Preprocessing"
   ]
  },
  {
   "cell_type": "code",
   "execution_count": 157,
   "metadata": {},
   "outputs": [
    {
     "data": {
      "text/plain": [
       "(994, 4)"
      ]
     },
     "execution_count": 157,
     "metadata": {},
     "output_type": "execute_result"
    }
   ],
   "source": [
    "test_sample_vectorized.shape"
   ]
  },
  {
   "cell_type": "code",
   "execution_count": 158,
   "metadata": {},
   "outputs": [
    {
     "data": {
      "text/html": [
       "<div>\n",
       "<style scoped>\n",
       "    .dataframe tbody tr th:only-of-type {\n",
       "        vertical-align: middle;\n",
       "    }\n",
       "\n",
       "    .dataframe tbody tr th {\n",
       "        vertical-align: top;\n",
       "    }\n",
       "\n",
       "    .dataframe thead th {\n",
       "        text-align: right;\n",
       "    }\n",
       "</style>\n",
       "<table border=\"1\" class=\"dataframe\">\n",
       "  <thead>\n",
       "    <tr style=\"text-align: right;\">\n",
       "      <th></th>\n",
       "      <th>atext</th>\n",
       "      <th>atitle</th>\n",
       "      <th>text vectors</th>\n",
       "      <th>title vectors</th>\n",
       "    </tr>\n",
       "  </thead>\n",
       "  <tbody>\n",
       "    <tr>\n",
       "      <th>0</th>\n",
       "      <td>[печь, теплодар, топ, купить, здесь, хороший, ...</td>\n",
       "      <td>[печь, теплодар, топ, купить, здесь]</td>\n",
       "      <td>[-0.012165328135384039, -0.05829603946107548, ...</td>\n",
       "      <td>[-0.016803732942445235, -0.01798980556321842, ...</td>\n",
       "    </tr>\n",
       "    <tr>\n",
       "      <th>1</th>\n",
       "      <td>[покупать, origin, и, др, аккаунт, по, низкий,...</td>\n",
       "      <td>[магазин, игровой, аккаунт, origin]</td>\n",
       "      <td>[0.0026607800340348303, -0.0074289492008903215...</td>\n",
       "      <td>[0.027554853521271537, 0.051067897611309726, 0...</td>\n",
       "    </tr>\n",
       "    <tr>\n",
       "      <th>2</th>\n",
       "      <td>[обновлять, навигатор, garmin, nuvi, жать]</td>\n",
       "      <td>[обновлять, навигатор, garmin, nuvi]</td>\n",
       "      <td>[-0.013033558059133756, 0.02896459095084477, 0...</td>\n",
       "      <td>[-0.018267125313184626, 0.03579497263279199, 0...</td>\n",
       "    </tr>\n",
       "    <tr>\n",
       "      <th>3</th>\n",
       "      <td>[полукомбинезон, crockid, сравнивать, цена, ве...</td>\n",
       "      <td>[полукомбинезон, crockid]</td>\n",
       "      <td>[-0.055336739446052684, 0.023552204905021065, ...</td>\n",
       "      <td>[-0.011259474332971536, -0.008995498843055555,...</td>\n",
       "    </tr>\n",
       "    <tr>\n",
       "      <th>4</th>\n",
       "      <td>[декоративный, зеркало, сравнивать, цена, весь...</td>\n",
       "      <td>[декоративный, зеркало]</td>\n",
       "      <td>[-0.07637128225902386, 0.03493874623990901, 0....</td>\n",
       "      <td>[-0.06736673179332726, 0.027085589694762553, 0...</td>\n",
       "    </tr>\n",
       "  </tbody>\n",
       "</table>\n",
       "</div>"
      ],
      "text/plain": [
       "                                               atext  \\\n",
       "0  [печь, теплодар, топ, купить, здесь, хороший, ...   \n",
       "1  [покупать, origin, и, др, аккаунт, по, низкий,...   \n",
       "2         [обновлять, навигатор, garmin, nuvi, жать]   \n",
       "3  [полукомбинезон, crockid, сравнивать, цена, ве...   \n",
       "4  [декоративный, зеркало, сравнивать, цена, весь...   \n",
       "\n",
       "                                 atitle  \\\n",
       "0  [печь, теплодар, топ, купить, здесь]   \n",
       "1   [магазин, игровой, аккаунт, origin]   \n",
       "2  [обновлять, навигатор, garmin, nuvi]   \n",
       "3             [полукомбинезон, crockid]   \n",
       "4               [декоративный, зеркало]   \n",
       "\n",
       "                                        text vectors  \\\n",
       "0  [-0.012165328135384039, -0.05829603946107548, ...   \n",
       "1  [0.0026607800340348303, -0.0074289492008903215...   \n",
       "2  [-0.013033558059133756, 0.02896459095084477, 0...   \n",
       "3  [-0.055336739446052684, 0.023552204905021065, ...   \n",
       "4  [-0.07637128225902386, 0.03493874623990901, 0....   \n",
       "\n",
       "                                       title vectors  \n",
       "0  [-0.016803732942445235, -0.01798980556321842, ...  \n",
       "1  [0.027554853521271537, 0.051067897611309726, 0...  \n",
       "2  [-0.018267125313184626, 0.03579497263279199, 0...  \n",
       "3  [-0.011259474332971536, -0.008995498843055555,...  \n",
       "4  [-0.06736673179332726, 0.027085589694762553, 0...  "
      ]
     },
     "execution_count": 158,
     "metadata": {},
     "output_type": "execute_result"
    }
   ],
   "source": [
    "test_sample_vectorized.head()"
   ]
  },
  {
   "cell_type": "code",
   "execution_count": 159,
   "metadata": {},
   "outputs": [
    {
     "data": {
      "text/html": [
       "<div>\n",
       "<style scoped>\n",
       "    .dataframe tbody tr th:only-of-type {\n",
       "        vertical-align: middle;\n",
       "    }\n",
       "\n",
       "    .dataframe tbody tr th {\n",
       "        vertical-align: top;\n",
       "    }\n",
       "\n",
       "    .dataframe thead th {\n",
       "        text-align: right;\n",
       "    }\n",
       "</style>\n",
       "<table border=\"1\" class=\"dataframe\">\n",
       "  <thead>\n",
       "    <tr style=\"text-align: right;\">\n",
       "      <th></th>\n",
       "      <th>text vectors</th>\n",
       "      <th>title vectors</th>\n",
       "      <th>pair class</th>\n",
       "    </tr>\n",
       "  </thead>\n",
       "  <tbody>\n",
       "    <tr>\n",
       "      <th>0</th>\n",
       "      <td>[цена, от, 450, руб, сут, бронировать, хостеть...</td>\n",
       "      <td>[дом, путешественник, ярославль]</td>\n",
       "      <td>1</td>\n",
       "    </tr>\n",
       "    <tr>\n",
       "      <th>1</th>\n",
       "      <td>[за, 1400, руб, доставка]</td>\n",
       "      <td>[чайник, sinbo, sk, 7310]</td>\n",
       "      <td>1</td>\n",
       "    </tr>\n",
       "    <tr>\n",
       "      <th>2</th>\n",
       "      <td>[мобильный, телефон, keneksi, m2, 40, 25, р, г...</td>\n",
       "      <td>[keneksi, m2, 40, 25, р]</td>\n",
       "      <td>1</td>\n",
       "    </tr>\n",
       "    <tr>\n",
       "      <th>3</th>\n",
       "      <td>[семя, колокольчик, сравнивать, цена, весь, ин...</td>\n",
       "      <td>[семя, колокольчик]</td>\n",
       "      <td>1</td>\n",
       "    </tr>\n",
       "    <tr>\n",
       "      <th>4</th>\n",
       "      <td>[купить, lenovo, смартфон, lenovo, a7000, a, b...</td>\n",
       "      <td>[смартфон, lenovo, a7000, a, black, ds]</td>\n",
       "      <td>1</td>\n",
       "    </tr>\n",
       "  </tbody>\n",
       "</table>\n",
       "</div>"
      ],
      "text/plain": [
       "                                        text vectors  \\\n",
       "0  [цена, от, 450, руб, сут, бронировать, хостеть...   \n",
       "1                          [за, 1400, руб, доставка]   \n",
       "2  [мобильный, телефон, keneksi, m2, 40, 25, р, г...   \n",
       "3  [семя, колокольчик, сравнивать, цена, весь, ин...   \n",
       "4  [купить, lenovo, смартфон, lenovo, a7000, a, b...   \n",
       "\n",
       "                             title vectors  pair class  \n",
       "0         [дом, путешественник, ярославль]           1  \n",
       "1                [чайник, sinbo, sk, 7310]           1  \n",
       "2                 [keneksi, m2, 40, 25, р]           1  \n",
       "3                      [семя, колокольчик]           1  \n",
       "4  [смартфон, lenovo, a7000, a, black, ds]           1  "
      ]
     },
     "execution_count": 159,
     "metadata": {},
     "output_type": "execute_result"
    }
   ],
   "source": [
    "training_df_mixed.head()"
   ]
  },
  {
   "cell_type": "code",
   "execution_count": 160,
   "metadata": {},
   "outputs": [
    {
     "data": {
      "text/plain": [
       "0           [дом, путешественник, ярославль]\n",
       "1                  [чайник, sinbo, sk, 7310]\n",
       "2                   [keneksi, m2, 40, 25, р]\n",
       "3                        [семя, колокольчик]\n",
       "4    [смартфон, lenovo, a7000, a, black, ds]\n",
       "Name: title vectors, dtype: object"
      ]
     },
     "execution_count": 160,
     "metadata": {},
     "output_type": "execute_result"
    }
   ],
   "source": [
    "training_df_mixed.iloc[:5, 1]"
   ]
  },
  {
   "cell_type": "code",
   "execution_count": 161,
   "metadata": {},
   "outputs": [],
   "source": [
    "merged_trainig_examples = training_df_mixed.iloc[:, 1]+training_df_mixed.iloc[:, 0]"
   ]
  },
  {
   "cell_type": "code",
   "execution_count": 162,
   "metadata": {},
   "outputs": [
    {
     "data": {
      "text/plain": [
       "133879"
      ]
     },
     "execution_count": 162,
     "metadata": {},
     "output_type": "execute_result"
    }
   ],
   "source": [
    "len(merged_trainig_examples)"
   ]
  },
  {
   "cell_type": "code",
   "execution_count": 163,
   "metadata": {},
   "outputs": [],
   "source": [
    "merged_test_examples = test_df_mixed.iloc[:, 1]+test_df_mixed.iloc[:, 0]"
   ]
  },
  {
   "cell_type": "code",
   "execution_count": 164,
   "metadata": {},
   "outputs": [
    {
     "data": {
      "text/plain": [
       "57378"
      ]
     },
     "execution_count": 164,
     "metadata": {},
     "output_type": "execute_result"
    }
   ],
   "source": [
    "len(merged_test_examples)"
   ]
  },
  {
   "cell_type": "code",
   "execution_count": 165,
   "metadata": {},
   "outputs": [
    {
     "data": {
      "text/plain": [
       "28"
      ]
     },
     "execution_count": 165,
     "metadata": {},
     "output_type": "execute_result"
    }
   ],
   "source": [
    "max([len(x) for x in merged_trainig_examples])"
   ]
  },
  {
   "cell_type": "code",
   "execution_count": 166,
   "metadata": {},
   "outputs": [
    {
     "data": {
      "text/plain": [
       "28"
      ]
     },
     "execution_count": 166,
     "metadata": {},
     "output_type": "execute_result"
    }
   ],
   "source": [
    "max([len(x) for x in merged_test_examples])"
   ]
  },
  {
   "cell_type": "code",
   "execution_count": 167,
   "metadata": {},
   "outputs": [],
   "source": [
    "training_df_mixed['concatenated_text_title'] = training_df_mixed['text vectors'] + training_df_mixed['title vectors']"
   ]
  },
  {
   "cell_type": "code",
   "execution_count": 168,
   "metadata": {},
   "outputs": [],
   "source": [
    "test_df_mixed['concatenated_text_title'] = test_df_mixed['text vectors'] + test_df_mixed['title vectors']"
   ]
  },
  {
   "cell_type": "code",
   "execution_count": 169,
   "metadata": {},
   "outputs": [
    {
     "data": {
      "text/plain": [
       "0    [bosch, smv, 65m30, от, 1642, 84, доставка, bo...\n",
       "1    [быть, в, наличие, плиткорез, на, монорельс, 6...\n",
       "2    [купить, баня, из, брус, под, ключ, высокий, к...\n",
       "3    [купить, thrustmaster, джойстик, thrustmaster,...\n",
       "4    [свитшот, в, интернет, магазин, 3d, футболка, ...\n",
       "Name: concatenated_text_title, dtype: object"
      ]
     },
     "execution_count": 169,
     "metadata": {},
     "output_type": "execute_result"
    }
   ],
   "source": [
    "test_df_mixed['concatenated_text_title'].head()"
   ]
  },
  {
   "cell_type": "code",
   "execution_count": 170,
   "metadata": {},
   "outputs": [
    {
     "data": {
      "text/html": [
       "<div>\n",
       "<style scoped>\n",
       "    .dataframe tbody tr th:only-of-type {\n",
       "        vertical-align: middle;\n",
       "    }\n",
       "\n",
       "    .dataframe tbody tr th {\n",
       "        vertical-align: top;\n",
       "    }\n",
       "\n",
       "    .dataframe thead th {\n",
       "        text-align: right;\n",
       "    }\n",
       "</style>\n",
       "<table border=\"1\" class=\"dataframe\">\n",
       "  <thead>\n",
       "    <tr style=\"text-align: right;\">\n",
       "      <th></th>\n",
       "      <th>text vectors</th>\n",
       "      <th>title vectors</th>\n",
       "      <th>pair class</th>\n",
       "      <th>concatenated_text_title</th>\n",
       "    </tr>\n",
       "  </thead>\n",
       "  <tbody>\n",
       "    <tr>\n",
       "      <th>0</th>\n",
       "      <td>[цена, от, 450, руб, сут, бронировать, хостеть...</td>\n",
       "      <td>[дом, путешественник, ярославль]</td>\n",
       "      <td>1</td>\n",
       "      <td>[цена, от, 450, руб, сут, бронировать, хостеть...</td>\n",
       "    </tr>\n",
       "    <tr>\n",
       "      <th>1</th>\n",
       "      <td>[за, 1400, руб, доставка]</td>\n",
       "      <td>[чайник, sinbo, sk, 7310]</td>\n",
       "      <td>1</td>\n",
       "      <td>[за, 1400, руб, доставка, чайник, sinbo, sk, 7...</td>\n",
       "    </tr>\n",
       "    <tr>\n",
       "      <th>2</th>\n",
       "      <td>[мобильный, телефон, keneksi, m2, 40, 25, р, г...</td>\n",
       "      <td>[keneksi, m2, 40, 25, р]</td>\n",
       "      <td>1</td>\n",
       "      <td>[мобильный, телефон, keneksi, m2, 40, 25, р, г...</td>\n",
       "    </tr>\n",
       "    <tr>\n",
       "      <th>3</th>\n",
       "      <td>[семя, колокольчик, сравнивать, цена, весь, ин...</td>\n",
       "      <td>[семя, колокольчик]</td>\n",
       "      <td>1</td>\n",
       "      <td>[семя, колокольчик, сравнивать, цена, весь, ин...</td>\n",
       "    </tr>\n",
       "    <tr>\n",
       "      <th>4</th>\n",
       "      <td>[купить, lenovo, смартфон, lenovo, a7000, a, b...</td>\n",
       "      <td>[смартфон, lenovo, a7000, a, black, ds]</td>\n",
       "      <td>1</td>\n",
       "      <td>[купить, lenovo, смартфон, lenovo, a7000, a, b...</td>\n",
       "    </tr>\n",
       "  </tbody>\n",
       "</table>\n",
       "</div>"
      ],
      "text/plain": [
       "                                        text vectors  \\\n",
       "0  [цена, от, 450, руб, сут, бронировать, хостеть...   \n",
       "1                          [за, 1400, руб, доставка]   \n",
       "2  [мобильный, телефон, keneksi, m2, 40, 25, р, г...   \n",
       "3  [семя, колокольчик, сравнивать, цена, весь, ин...   \n",
       "4  [купить, lenovo, смартфон, lenovo, a7000, a, b...   \n",
       "\n",
       "                             title vectors  pair class  \\\n",
       "0         [дом, путешественник, ярославль]           1   \n",
       "1                [чайник, sinbo, sk, 7310]           1   \n",
       "2                 [keneksi, m2, 40, 25, р]           1   \n",
       "3                      [семя, колокольчик]           1   \n",
       "4  [смартфон, lenovo, a7000, a, black, ds]           1   \n",
       "\n",
       "                             concatenated_text_title  \n",
       "0  [цена, от, 450, руб, сут, бронировать, хостеть...  \n",
       "1  [за, 1400, руб, доставка, чайник, sinbo, sk, 7...  \n",
       "2  [мобильный, телефон, keneksi, m2, 40, 25, р, г...  \n",
       "3  [семя, колокольчик, сравнивать, цена, весь, ин...  \n",
       "4  [купить, lenovo, смартфон, lenovo, a7000, a, b...  "
      ]
     },
     "execution_count": 170,
     "metadata": {},
     "output_type": "execute_result"
    }
   ],
   "source": [
    "training_df_mixed.head()"
   ]
  },
  {
   "cell_type": "code",
   "execution_count": 171,
   "metadata": {},
   "outputs": [
    {
     "data": {
      "text/plain": [
       "['семя',\n",
       " 'колокольчик',\n",
       " 'сравнивать',\n",
       " 'цена',\n",
       " 'весь',\n",
       " 'интернет',\n",
       " 'магазин',\n",
       " 'на',\n",
       " 'семя',\n",
       " 'семя',\n",
       " 'колокольчик']"
      ]
     },
     "execution_count": 171,
     "metadata": {},
     "output_type": "execute_result"
    }
   ],
   "source": [
    "training_df_mixed['concatenated_text_title'][3]"
   ]
  },
  {
   "cell_type": "code",
   "execution_count": 172,
   "metadata": {},
   "outputs": [],
   "source": [
    "import keras.utils as ku \n",
    "from keras.preprocessing.sequence import pad_sequences"
   ]
  },
  {
   "cell_type": "code",
   "execution_count": 173,
   "metadata": {},
   "outputs": [],
   "source": [
    "import keras\n",
    "\n",
    "from keras.utils import to_categorical\n",
    "y_reshaped_tr = to_categorical(training_df_mixed['pair class'], 2)\n",
    "y_reshaped_test = to_categorical(test_df_mixed['pair class'], 2)"
   ]
  },
  {
   "cell_type": "code",
   "execution_count": 174,
   "metadata": {},
   "outputs": [],
   "source": [
    "word_vectors = model.wv"
   ]
  },
  {
   "cell_type": "code",
   "execution_count": 175,
   "metadata": {},
   "outputs": [
    {
     "data": {
      "text/plain": [
       "300"
      ]
     },
     "execution_count": 175,
     "metadata": {},
     "output_type": "execute_result"
    }
   ],
   "source": [
    "len(word_vectors['нужно'])"
   ]
  },
  {
   "cell_type": "code",
   "execution_count": 176,
   "metadata": {},
   "outputs": [
    {
     "name": "stdout",
     "output_type": "stream",
     "text": [
      "Number of word vectors: 19849\n"
     ]
    }
   ],
   "source": [
    "print(\"Number of word vectors: {}\".format(len(word_vectors.vocab)))"
   ]
  },
  {
   "cell_type": "code",
   "execution_count": 177,
   "metadata": {},
   "outputs": [
    {
     "data": {
      "text/plain": [
       "[('настройка', 0.7941992878913879),\n",
       " ('починять', 0.749427080154419),\n",
       " ('чистка', 0.7436109781265259),\n",
       " ('администратор', 0.7422517538070679),\n",
       " ('обслуживание', 0.7417911887168884),\n",
       " ('пк', 0.7386230826377869),\n",
       " ('приезжать', 0.7334417104721069),\n",
       " ('аутсорсинг', 0.7274552583694458),\n",
       " ('выезд', 0.7231505513191223),\n",
       " ('сломаться', 0.7178391218185425)]"
      ]
     },
     "execution_count": 177,
     "metadata": {},
     "output_type": "execute_result"
    }
   ],
   "source": [
    "model.wv.most_similar_cosmul(positive=['компьютер']) "
   ]
  },
  {
   "cell_type": "code",
   "execution_count": 178,
   "metadata": {},
   "outputs": [],
   "source": [
    "MAX_NB_WORDS = len(word_vectors.vocab)\n",
    "MAX_SEQUENCE_LENGTH = 30"
   ]
  },
  {
   "cell_type": "code",
   "execution_count": 179,
   "metadata": {},
   "outputs": [],
   "source": [
    "from collections import Counter\n",
    "vocab=Counter()\n",
    "\n",
    "for entry in training_df_mixed['concatenated_text_title']:\n",
    "    vocab.update(entry)"
   ]
  },
  {
   "cell_type": "code",
   "execution_count": 180,
   "metadata": {},
   "outputs": [
    {
     "data": {
      "text/plain": [
       "19849"
      ]
     },
     "execution_count": 180,
     "metadata": {},
     "output_type": "execute_result"
    }
   ],
   "source": [
    "MAX_NB_WORDS"
   ]
  },
  {
   "cell_type": "code",
   "execution_count": 181,
   "metadata": {},
   "outputs": [],
   "source": [
    "word_index = {t[0]: i+1 for i,t in enumerate(vocab.most_common(MAX_NB_WORDS))}"
   ]
  },
  {
   "cell_type": "code",
   "execution_count": 182,
   "metadata": {},
   "outputs": [],
   "source": [
    "training_sequences = [[word_index.get(t, 0) for t in ad_title_combo]\n",
    "             for ad_title_combo in training_df_mixed['concatenated_text_title']]"
   ]
  },
  {
   "cell_type": "code",
   "execution_count": 183,
   "metadata": {},
   "outputs": [],
   "source": [
    "test_sequences = [[word_index.get(t, 0)  for t in ad_title_combo] \n",
    "                  for ad_title_combo in test_df_mixed['concatenated_text_title']]"
   ]
  },
  {
   "cell_type": "code",
   "execution_count": 184,
   "metadata": {},
   "outputs": [],
   "source": [
    "# pad sequences\n",
    "data = pad_sequences(training_sequences, maxlen=MAX_SEQUENCE_LENGTH, \n",
    "                     padding=\"pre\", truncating=\"post\")"
   ]
  },
  {
   "cell_type": "code",
   "execution_count": 185,
   "metadata": {},
   "outputs": [
    {
     "data": {
      "text/html": [
       "<div>\n",
       "<style scoped>\n",
       "    .dataframe tbody tr th:only-of-type {\n",
       "        vertical-align: middle;\n",
       "    }\n",
       "\n",
       "    .dataframe tbody tr th {\n",
       "        vertical-align: top;\n",
       "    }\n",
       "\n",
       "    .dataframe thead th {\n",
       "        text-align: right;\n",
       "    }\n",
       "</style>\n",
       "<table border=\"1\" class=\"dataframe\">\n",
       "  <thead>\n",
       "    <tr style=\"text-align: right;\">\n",
       "      <th></th>\n",
       "      <th>text vectors</th>\n",
       "      <th>title vectors</th>\n",
       "      <th>pair class</th>\n",
       "      <th>concatenated_text_title</th>\n",
       "    </tr>\n",
       "  </thead>\n",
       "  <tbody>\n",
       "    <tr>\n",
       "      <th>0</th>\n",
       "      <td>[цена, от, 450, руб, сут, бронировать, хостеть...</td>\n",
       "      <td>[дом, путешественник, ярославль]</td>\n",
       "      <td>1</td>\n",
       "      <td>[цена, от, 450, руб, сут, бронировать, хостеть...</td>\n",
       "    </tr>\n",
       "    <tr>\n",
       "      <th>1</th>\n",
       "      <td>[за, 1400, руб, доставка]</td>\n",
       "      <td>[чайник, sinbo, sk, 7310]</td>\n",
       "      <td>1</td>\n",
       "      <td>[за, 1400, руб, доставка, чайник, sinbo, sk, 7...</td>\n",
       "    </tr>\n",
       "    <tr>\n",
       "      <th>2</th>\n",
       "      <td>[мобильный, телефон, keneksi, m2, 40, 25, р, г...</td>\n",
       "      <td>[keneksi, m2, 40, 25, р]</td>\n",
       "      <td>1</td>\n",
       "      <td>[мобильный, телефон, keneksi, m2, 40, 25, р, г...</td>\n",
       "    </tr>\n",
       "    <tr>\n",
       "      <th>3</th>\n",
       "      <td>[семя, колокольчик, сравнивать, цена, весь, ин...</td>\n",
       "      <td>[семя, колокольчик]</td>\n",
       "      <td>1</td>\n",
       "      <td>[семя, колокольчик, сравнивать, цена, весь, ин...</td>\n",
       "    </tr>\n",
       "    <tr>\n",
       "      <th>4</th>\n",
       "      <td>[купить, lenovo, смартфон, lenovo, a7000, a, b...</td>\n",
       "      <td>[смартфон, lenovo, a7000, a, black, ds]</td>\n",
       "      <td>1</td>\n",
       "      <td>[купить, lenovo, смартфон, lenovo, a7000, a, b...</td>\n",
       "    </tr>\n",
       "  </tbody>\n",
       "</table>\n",
       "</div>"
      ],
      "text/plain": [
       "                                        text vectors  \\\n",
       "0  [цена, от, 450, руб, сут, бронировать, хостеть...   \n",
       "1                          [за, 1400, руб, доставка]   \n",
       "2  [мобильный, телефон, keneksi, m2, 40, 25, р, г...   \n",
       "3  [семя, колокольчик, сравнивать, цена, весь, ин...   \n",
       "4  [купить, lenovo, смартфон, lenovo, a7000, a, b...   \n",
       "\n",
       "                             title vectors  pair class  \\\n",
       "0         [дом, путешественник, ярославль]           1   \n",
       "1                [чайник, sinbo, sk, 7310]           1   \n",
       "2                 [keneksi, m2, 40, 25, р]           1   \n",
       "3                      [семя, колокольчик]           1   \n",
       "4  [смартфон, lenovo, a7000, a, black, ds]           1   \n",
       "\n",
       "                             concatenated_text_title  \n",
       "0  [цена, от, 450, руб, сут, бронировать, хостеть...  \n",
       "1  [за, 1400, руб, доставка, чайник, sinbo, sk, 7...  \n",
       "2  [мобильный, телефон, keneksi, m2, 40, 25, р, г...  \n",
       "3  [семя, колокольчик, сравнивать, цена, весь, ин...  \n",
       "4  [купить, lenovo, смартфон, lenovo, a7000, a, b...  "
      ]
     },
     "execution_count": 185,
     "metadata": {},
     "output_type": "execute_result"
    }
   ],
   "source": [
    "training_df_mixed.head()"
   ]
  },
  {
   "cell_type": "code",
   "execution_count": 186,
   "metadata": {},
   "outputs": [
    {
     "data": {
      "text/plain": [
       "(133879, 30)"
      ]
     },
     "execution_count": 186,
     "metadata": {},
     "output_type": "execute_result"
    }
   ],
   "source": [
    "data.shape"
   ]
  },
  {
   "cell_type": "code",
   "execution_count": 188,
   "metadata": {},
   "outputs": [],
   "source": [
    "# pad sequences\n",
    "test_data = pad_sequences(test_sequences, maxlen=MAX_SEQUENCE_LENGTH, \n",
    "                     padding=\"pre\", truncating=\"post\")"
   ]
  },
  {
   "cell_type": "code",
   "execution_count": 191,
   "metadata": {},
   "outputs": [
    {
     "data": {
      "text/plain": [
       "(57378, 30)"
      ]
     },
     "execution_count": 191,
     "metadata": {},
     "output_type": "execute_result"
    }
   ],
   "source": [
    "test_data.shape"
   ]
  },
  {
   "cell_type": "code",
   "execution_count": 192,
   "metadata": {},
   "outputs": [
    {
     "data": {
      "text/plain": [
       "(133879, 2)"
      ]
     },
     "execution_count": 192,
     "metadata": {},
     "output_type": "execute_result"
    }
   ],
   "source": [
    "y_reshaped_tr.shape"
   ]
  },
  {
   "cell_type": "code",
   "execution_count": 193,
   "metadata": {},
   "outputs": [
    {
     "data": {
      "text/plain": [
       "(57378, 2)"
      ]
     },
     "execution_count": 193,
     "metadata": {},
     "output_type": "execute_result"
    }
   ],
   "source": [
    "y_reshaped_test.shape"
   ]
  },
  {
   "cell_type": "code",
   "execution_count": 194,
   "metadata": {},
   "outputs": [
    {
     "data": {
      "text/plain": [
       "19849"
      ]
     },
     "execution_count": 194,
     "metadata": {},
     "output_type": "execute_result"
    }
   ],
   "source": [
    "MAX_NB_WORDS"
   ]
  },
  {
   "cell_type": "code",
   "execution_count": 195,
   "metadata": {},
   "outputs": [
    {
     "data": {
      "text/plain": [
       "19849"
      ]
     },
     "execution_count": 195,
     "metadata": {},
     "output_type": "execute_result"
    }
   ],
   "source": [
    "len(word_vectors.vocab)"
   ]
  },
  {
   "cell_type": "code",
   "execution_count": 196,
   "metadata": {},
   "outputs": [],
   "source": [
    "WV_DIM = 300\n",
    "nb_words = min(MAX_NB_WORDS, len(word_vectors.vocab))"
   ]
  },
  {
   "cell_type": "code",
   "execution_count": 197,
   "metadata": {},
   "outputs": [],
   "source": [
    "length_maxtrix = len(word_vectors.vocab)+1\n",
    "\n",
    "embedding_matrix = np.zeros((length_maxtrix, 300))\n",
    "\n",
    "for word, i in word_index.items():\n",
    "    if i >= MAX_NB_WORDS:\n",
    "            continue\n",
    "    try:        \n",
    "        embedding_vector = word_vectors[word]\n",
    "        # words not found in embedding index will be all-zeros.\n",
    "        if embedding_vector is not None:  \n",
    "            embedding_matrix[i] = embedding_vector\n",
    "    except:\n",
    "        pass"
   ]
  },
  {
   "cell_type": "code",
   "execution_count": 198,
   "metadata": {},
   "outputs": [
    {
     "data": {
      "text/plain": [
       "(19850, 300)"
      ]
     },
     "execution_count": 198,
     "metadata": {},
     "output_type": "execute_result"
    }
   ],
   "source": [
    "embedding_matrix.shape"
   ]
  },
  {
   "cell_type": "markdown",
   "metadata": {},
   "source": [
    "## 2. Model Training"
   ]
  },
  {
   "cell_type": "code",
   "execution_count": 199,
   "metadata": {},
   "outputs": [],
   "source": [
    "from keras.layers import Dense, Input, Embedding, Dropout,  GRU, Bidirectional\n",
    "from keras.models import Sequential\n",
    "from keras.layers.normalization import BatchNormalization"
   ]
  },
  {
   "cell_type": "code",
   "execution_count": 245,
   "metadata": {},
   "outputs": [],
   "source": [
    "model_rnn = Sequential()\n",
    "model_rnn.add(Embedding(nb_words+1,\n",
    "                     WV_DIM,\n",
    "                     mask_zero=False,\n",
    "                     weights=[embedding_matrix],\n",
    "                     input_length=MAX_SEQUENCE_LENGTH,\n",
    "                     trainable=False))\n",
    "\n",
    "model_rnn.add(Bidirectional(GRU(500)))\n",
    "model_rnn.add(Dropout(0.5))\n",
    "\n",
    "model_rnn.add(BatchNormalization())\n",
    "model_rnn.add(Dense(2, activation = 'softmax'))\n",
    "\n",
    "model_rnn.compile(loss='categorical_crossentropy', \n",
    "                   optimizer = 'adam', \n",
    "                   metrics = ['accuracy']) "
   ]
  },
  {
   "cell_type": "code",
   "execution_count": 246,
   "metadata": {},
   "outputs": [
    {
     "data": {
      "text/plain": [
       "133879"
      ]
     },
     "execution_count": 246,
     "metadata": {},
     "output_type": "execute_result"
    }
   ],
   "source": [
    "len(y_reshaped_tr)"
   ]
  },
  {
   "cell_type": "code",
   "execution_count": 249,
   "metadata": {},
   "outputs": [
    {
     "name": "stdout",
     "output_type": "stream",
     "text": [
      "Train on 133879 samples, validate on 57378 samples\n",
      "Epoch 1/15\n",
      "133879/133879 [==============================] - 620s 5ms/step - loss: 0.3689 - acc: 0.8287 - val_loss: 0.1808 - val_acc: 0.9323\n",
      "Epoch 2/15\n",
      "133879/133879 [==============================] - 637s 5ms/step - loss: 0.1270 - acc: 0.9532 - val_loss: 0.1232 - val_acc: 0.9547\n",
      "Epoch 3/15\n",
      "133879/133879 [==============================] - 707s 5ms/step - loss: 0.0741 - acc: 0.9736 - val_loss: 0.1237 - val_acc: 0.9558\n",
      "Epoch 4/15\n",
      "133879/133879 [==============================] - 661s 5ms/step - loss: 0.0481 - acc: 0.9830 - val_loss: 0.1105 - val_acc: 0.9630\n",
      "Epoch 5/15\n",
      "133879/133879 [==============================] - 646s 5ms/step - loss: 0.0350 - acc: 0.9876 - val_loss: 0.1277 - val_acc: 0.9620\n",
      "Epoch 6/15\n",
      "133879/133879 [==============================] - 657s 5ms/step - loss: 0.0269 - acc: 0.9906 - val_loss: 0.1237 - val_acc: 0.9625\n",
      "Epoch 7/15\n",
      "133879/133879 [==============================] - 663s 5ms/step - loss: 0.0226 - acc: 0.9922 - val_loss: 0.1378 - val_acc: 0.9646\n",
      "Epoch 8/15\n",
      "133879/133879 [==============================] - 692s 5ms/step - loss: 0.0208 - acc: 0.9928 - val_loss: 0.1435 - val_acc: 0.9634\n",
      "Epoch 9/15\n",
      "133879/133879 [==============================] - 677s 5ms/step - loss: 0.0207 - acc: 0.9932 - val_loss: 0.1504 - val_acc: 0.9643\n",
      "Epoch 10/15\n",
      "133879/133879 [==============================] - 689s 5ms/step - loss: 0.0200 - acc: 0.9933 - val_loss: 0.1659 - val_acc: 0.9630\n",
      "Epoch 11/15\n",
      "133879/133879 [==============================] - 681s 5ms/step - loss: 0.0167 - acc: 0.9945 - val_loss: 0.1442 - val_acc: 0.9648\n",
      "Epoch 12/15\n",
      "133879/133879 [==============================] - 659s 5ms/step - loss: 0.0143 - acc: 0.9952 - val_loss: 0.1641 - val_acc: 0.9648\n",
      "Epoch 13/15\n",
      "133879/133879 [==============================] - 644s 5ms/step - loss: 0.0151 - acc: 0.9951 - val_loss: 0.1476 - val_acc: 0.9655\n",
      "Epoch 14/15\n",
      "133879/133879 [==============================] - 648s 5ms/step - loss: 0.0135 - acc: 0.9955 - val_loss: 0.1616 - val_acc: 0.9641\n",
      "Epoch 15/15\n",
      "133879/133879 [==============================] - 651s 5ms/step - loss: 0.0130 - acc: 0.9959 - val_loss: 0.1662 - val_acc: 0.9642\n"
     ]
    },
    {
     "data": {
      "text/plain": [
       "<keras.callbacks.History at 0x259f00208>"
      ]
     },
     "execution_count": 249,
     "metadata": {},
     "output_type": "execute_result"
    }
   ],
   "source": [
    "model_rnn.fit(data, y_reshaped_tr, \n",
    "               verbose = 1, \n",
    "               epochs=15, \n",
    "               batch_size=256,\n",
    "               shuffle=True,\n",
    "               validation_data = (test_data, y_reshaped_test))"
   ]
  },
  {
   "cell_type": "markdown",
   "metadata": {},
   "source": [
    "## 3. Model Evaluation"
   ]
  },
  {
   "cell_type": "code",
   "execution_count": 250,
   "metadata": {},
   "outputs": [],
   "source": [
    "def probability_calculator_rnn(text_vector, title_vectors, model):\n",
    "    list_concat_arrays = []\n",
    "    for each in title_vectors:\n",
    "        resultant_list = list(text_vector) +list(each)\n",
    "        resultant_array = np.array(list(resultant_list))\n",
    "        list_concat_arrays.append(resultant_array)\n",
    "    \n",
    "    made_array = np.array(list_concat_arrays)\n",
    "    training_sequences = [[word_index.get(t, 0) for t in combo]\n",
    "                         for combo in  made_array]\n",
    "    training_padded = pad_sequences(training_sequences, maxlen=MAX_SEQUENCE_LENGTH, \n",
    "                     padding=\"pre\", truncating=\"post\")         \n",
    "    predictions = model.predict(training_padded)[:, 1]\n",
    "        \n",
    "    return predictions"
   ]
  },
  {
   "cell_type": "code",
   "execution_count": 251,
   "metadata": {},
   "outputs": [],
   "source": [
    "def rank_checker_rnn (df, number, model):\n",
    "    probabilities = probability_calculator_rnn(df.iloc[number, 0], df.iloc[:, 1], model)\n",
    "    series = pd.Series(probabilities, index =df.index)\n",
    "\n",
    "    sorted_df = series.sort_values(ascending=False)\n",
    "    sorted_index = sorted_df.index\n",
    "    \n",
    "    for rank, entry in enumerate(sorted_index):\n",
    "        if entry == df.index[number]:\n",
    "            return rank"
   ]
  },
  {
   "cell_type": "code",
   "execution_count": 252,
   "metadata": {},
   "outputs": [],
   "source": [
    "ranks_rnn = []\n",
    "for row in range(len(sample_test_df_checking)):     \n",
    "    rank = rank_checker_rnn(sample_test_df_checking, row, model_rnn)\n",
    "\n",
    "    ranks_rnn.append(rank)"
   ]
  },
  {
   "cell_type": "code",
   "execution_count": 253,
   "metadata": {},
   "outputs": [
    {
     "data": {
      "text/plain": [
       "9.9"
      ]
     },
     "execution_count": 253,
     "metadata": {},
     "output_type": "execute_result"
    }
   ],
   "source": [
    "np.mean(ranks_rnn)"
   ]
  },
  {
   "cell_type": "code",
   "execution_count": 254,
   "metadata": {},
   "outputs": [],
   "source": [
    "small_rnn = []\n",
    "for rank in ranks_rnn:\n",
    "    if rank <=3:\n",
    "        small_rnn.append(rank)"
   ]
  },
  {
   "cell_type": "code",
   "execution_count": 255,
   "metadata": {},
   "outputs": [
    {
     "data": {
      "text/plain": [
       "0.783"
      ]
     },
     "execution_count": 255,
     "metadata": {},
     "output_type": "execute_result"
    }
   ],
   "source": [
    "len(small_rnn)/ len(ranks_rnn)"
   ]
  },
  {
   "cell_type": "code",
   "execution_count": 256,
   "metadata": {},
   "outputs": [
    {
     "data": {
      "image/png": "[encoded data removed]",
      "text/plain": [
       "<Figure size 720x360 with 1 Axes>"
      ]
     },
     "metadata": {
      "needs_background": "light"
     },
     "output_type": "display_data"
    }
   ],
   "source": [
    "plt.figure(figsize=(10, 5))\n",
    "plt.hist([rank for rank in ranks_rnn])\n",
    "plt.title('Ranks of The Correct Title as Predicted By GRU')\n",
    "plt.show()"
   ]
  },
  {
   "cell_type": "code",
   "execution_count": 261,
   "metadata": {},
   "outputs": [
    {
     "data": {
      "text/plain": [
       "array([[1.4634598e-03, 9.9853659e-01],\n",
       "       [3.9681250e-05, 9.9996030e-01]], dtype=float32)"
      ]
     },
     "execution_count": 261,
     "metadata": {},
     "output_type": "execute_result"
    }
   ],
   "source": [
    "for model_rnn.predict(test_data[:2])[:, :]"
   ]
  },
  {
   "cell_type": "code",
   "execution_count": 267,
   "metadata": {},
   "outputs": [],
   "source": [
    "predictions = []\n",
    "for prob in model_rnn.predict(test_data)[:, :]:\n",
    "    if prob[0] > prob[1]:\n",
    "        predictions.append(0)\n",
    "    else:\n",
    "        predictions.append(1)"
   ]
  },
  {
   "cell_type": "code",
   "execution_count": 268,
   "metadata": {},
   "outputs": [
    {
     "data": {
      "text/plain": [
       "57378"
      ]
     },
     "execution_count": 268,
     "metadata": {},
     "output_type": "execute_result"
    }
   ],
   "source": [
    "len(predictions)"
   ]
  },
  {
   "cell_type": "code",
   "execution_count": 269,
   "metadata": {},
   "outputs": [
    {
     "data": {
      "text/plain": [
       "57378"
      ]
     },
     "execution_count": 269,
     "metadata": {},
     "output_type": "execute_result"
    }
   ],
   "source": [
    "len(test_df_mixed['pair class'])"
   ]
  },
  {
   "cell_type": "code",
   "execution_count": 270,
   "metadata": {},
   "outputs": [
    {
     "name": "stdout",
     "output_type": "stream",
     "text": [
      "F1 Score: 0.9642677053085497\n"
     ]
    }
   ],
   "source": [
    "print('F1 Score:', f1_score(test_df_mixed['pair class'], predictions ))"
   ]
  },
  {
   "cell_type": "code",
   "execution_count": 271,
   "metadata": {},
   "outputs": [
    {
     "name": "stdout",
     "output_type": "stream",
     "text": [
      "[[27595  1094]\n",
      " [  961 27728]]\n"
     ]
    }
   ],
   "source": [
    "print(confusion_matrix(test_df_mixed['pair class'], predictions))"
   ]
  },
  {
   "cell_type": "code",
   "execution_count": 273,
   "metadata": {},
   "outputs": [
    {
     "name": "stdout",
     "output_type": "stream",
     "text": [
      "Precision score: 0.9620428839081258\n"
     ]
    }
   ],
   "source": [
    "print('Precision score:', precision_score(test_df_mixed['pair class'], predictions))"
   ]
  },
  {
   "cell_type": "code",
   "execution_count": 274,
   "metadata": {},
   "outputs": [
    {
     "name": "stdout",
     "output_type": "stream",
     "text": [
      "Recall score: 0.9665028408100665\n"
     ]
    }
   ],
   "source": [
    "print('Recall score:', recall_score(test_df_mixed['pair class'], predictions))"
   ]
  },
  {
   "cell_type": "code",
   "execution_count": null,
   "metadata": {},
   "outputs": [],
   "source": []
  }
 ],
 "metadata": {
  "kernelspec": {
   "display_name": "Python 3",
   "language": "python",
   "name": "python3"
  },
  "language_info": {
   "codemirror_mode": {
    "name": "ipython",
    "version": 3
   },
   "file_extension": ".py",
   "mimetype": "text/x-python",
   "name": "python",
   "nbconvert_exporter": "python",
   "pygments_lexer": "ipython3",
   "version": "3.6.5"
  }
 },
 "nbformat": 4,
 "nbformat_minor": 2
}
