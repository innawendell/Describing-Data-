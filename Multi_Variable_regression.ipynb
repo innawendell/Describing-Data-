{
 "cells": [
  {
   "cell_type": "code",
   "execution_count": 1,
   "metadata": {},
   "outputs": [],
   "source": [
    "import pandas as pd\n",
    "import numpy as np\n",
    "from sklearn import linear_model\n",
    "import matplotlib.pyplot as plt\n",
    "import seaborn as sns\n",
    "%matplotlib inline\n",
    "import scipy.stats as stats\n",
    "from sklearn import linear_model\n",
    "import statsmodels.formula.api as smf\n",
    "from sklearn.preprocessing import StandardScaler\n",
    "from statsmodels.sandbox.regression.predstd import wls_prediction_std\n",
    "from sklearn.model_selection import cross_val_score\n",
    "from sklearn.model_selection import cross_val_predict\n",
    "from sklearn.metrics import r2_score\n",
    "from sklearn.metrics import mean_squared_error"
   ]
  },
  {
   "cell_type": "code",
   "execution_count": 2,
   "metadata": {},
   "outputs": [],
   "source": [
    "table = pd.read_csv(r'C:\\Users\\owner\\projects\\table_8.csv', encoding='ISO-8859-1')"
   ]
  },
  {
   "cell_type": "code",
   "execution_count": 3,
   "metadata": {},
   "outputs": [],
   "source": [
    "fbi = table.drop([0, 1, 2, 3])\n",
    "fbi.columns = ['City', 'Population', 'Violent_crime', 'Murder and nonnegligent manslaughter', 'Rape(revised definition)', 'Rape','Robbery', 'Aggrevated_assault', 'Property_crime', 'Buglary', 'Larceny_theft', 'Motor-vehicle theft', 'Arson', 'blank']"
   ]
  },
  {
   "cell_type": "code",
   "execution_count": 4,
   "metadata": {},
   "outputs": [
    {
     "data": {
      "text/html": [
       "<div>\n",
       "<style scoped>\n",
       "    .dataframe tbody tr th:only-of-type {\n",
       "        vertical-align: middle;\n",
       "    }\n",
       "\n",
       "    .dataframe tbody tr th {\n",
       "        vertical-align: top;\n",
       "    }\n",
       "\n",
       "    .dataframe thead th {\n",
       "        text-align: right;\n",
       "    }\n",
       "</style>\n",
       "<table border=\"1\" class=\"dataframe\">\n",
       "  <thead>\n",
       "    <tr style=\"text-align: right;\">\n",
       "      <th></th>\n",
       "      <th>City</th>\n",
       "      <th>Population</th>\n",
       "      <th>Violent_crime</th>\n",
       "      <th>Murder and nonnegligent manslaughter</th>\n",
       "      <th>Rape(revised definition)</th>\n",
       "      <th>Rape</th>\n",
       "      <th>Robbery</th>\n",
       "      <th>Aggrevated_assault</th>\n",
       "      <th>Property_crime</th>\n",
       "      <th>Buglary</th>\n",
       "      <th>Larceny_theft</th>\n",
       "      <th>Motor-vehicle theft</th>\n",
       "      <th>Arson</th>\n",
       "    </tr>\n",
       "  </thead>\n",
       "  <tbody>\n",
       "    <tr>\n",
       "      <th>4</th>\n",
       "      <td>Adams Village</td>\n",
       "      <td>1,861</td>\n",
       "      <td>0</td>\n",
       "      <td>0</td>\n",
       "      <td>NaN</td>\n",
       "      <td>0</td>\n",
       "      <td>0</td>\n",
       "      <td>0</td>\n",
       "      <td>12</td>\n",
       "      <td>2</td>\n",
       "      <td>10</td>\n",
       "      <td>0</td>\n",
       "      <td>0</td>\n",
       "    </tr>\n",
       "    <tr>\n",
       "      <th>5</th>\n",
       "      <td>Addison Town and Village</td>\n",
       "      <td>2,577</td>\n",
       "      <td>3</td>\n",
       "      <td>0</td>\n",
       "      <td>NaN</td>\n",
       "      <td>0</td>\n",
       "      <td>0</td>\n",
       "      <td>3</td>\n",
       "      <td>24</td>\n",
       "      <td>3</td>\n",
       "      <td>20</td>\n",
       "      <td>1</td>\n",
       "      <td>0</td>\n",
       "    </tr>\n",
       "    <tr>\n",
       "      <th>6</th>\n",
       "      <td>Akron Village</td>\n",
       "      <td>2,846</td>\n",
       "      <td>3</td>\n",
       "      <td>0</td>\n",
       "      <td>NaN</td>\n",
       "      <td>0</td>\n",
       "      <td>0</td>\n",
       "      <td>3</td>\n",
       "      <td>16</td>\n",
       "      <td>1</td>\n",
       "      <td>15</td>\n",
       "      <td>0</td>\n",
       "      <td>0</td>\n",
       "    </tr>\n",
       "    <tr>\n",
       "      <th>7</th>\n",
       "      <td>Albany</td>\n",
       "      <td>97,956</td>\n",
       "      <td>791</td>\n",
       "      <td>8</td>\n",
       "      <td>NaN</td>\n",
       "      <td>30</td>\n",
       "      <td>227</td>\n",
       "      <td>526</td>\n",
       "      <td>4,090</td>\n",
       "      <td>705</td>\n",
       "      <td>3,243</td>\n",
       "      <td>142</td>\n",
       "      <td>NaN</td>\n",
       "    </tr>\n",
       "    <tr>\n",
       "      <th>8</th>\n",
       "      <td>Albion Village</td>\n",
       "      <td>6,388</td>\n",
       "      <td>23</td>\n",
       "      <td>0</td>\n",
       "      <td>NaN</td>\n",
       "      <td>3</td>\n",
       "      <td>4</td>\n",
       "      <td>16</td>\n",
       "      <td>223</td>\n",
       "      <td>53</td>\n",
       "      <td>165</td>\n",
       "      <td>5</td>\n",
       "      <td>NaN</td>\n",
       "    </tr>\n",
       "  </tbody>\n",
       "</table>\n",
       "</div>"
      ],
      "text/plain": [
       "                       City Population Violent_crime  \\\n",
       "4             Adams Village      1,861             0   \n",
       "5  Addison Town and Village      2,577             3   \n",
       "6             Akron Village      2,846             3   \n",
       "7                    Albany     97,956           791   \n",
       "8            Albion Village      6,388            23   \n",
       "\n",
       "  Murder and nonnegligent manslaughter Rape(revised definition) Rape Robbery  \\\n",
       "4                                    0                      NaN    0       0   \n",
       "5                                    0                      NaN    0       0   \n",
       "6                                    0                      NaN    0       0   \n",
       "7                                    8                      NaN   30     227   \n",
       "8                                    0                      NaN    3       4   \n",
       "\n",
       "  Aggrevated_assault Property_crime Buglary Larceny_theft Motor-vehicle theft  \\\n",
       "4                  0             12       2            10                   0   \n",
       "5                  3             24       3            20                   1   \n",
       "6                  3             16       1            15                   0   \n",
       "7                526          4,090     705         3,243                 142   \n",
       "8                 16            223      53           165                   5   \n",
       "\n",
       "  Arson  \n",
       "4     0  \n",
       "5     0  \n",
       "6     0  \n",
       "7   NaN  \n",
       "8   NaN  "
      ]
     },
     "execution_count": 4,
     "metadata": {},
     "output_type": "execute_result"
    }
   ],
   "source": [
    "fbi_new= fbi.drop(columns = ['blank'])\n",
    "fbi_new.head()"
   ]
  },
  {
   "cell_type": "code",
   "execution_count": 5,
   "metadata": {},
   "outputs": [
    {
     "data": {
      "text/plain": [
       "City                                    object\n",
       "Population                              object\n",
       "Violent_crime                           object\n",
       "Murder and nonnegligent manslaughter    object\n",
       "Rape(revised definition)                object\n",
       "Rape                                    object\n",
       "Robbery                                 object\n",
       "Aggrevated_assault                      object\n",
       "Property_crime                          object\n",
       "Buglary                                 object\n",
       "Larceny_theft                           object\n",
       "Motor-vehicle theft                     object\n",
       "Arson                                   object\n",
       "dtype: object"
      ]
     },
     "execution_count": 5,
     "metadata": {},
     "output_type": "execute_result"
    }
   ],
   "source": [
    "fbi_new.dtypes"
   ]
  },
  {
   "cell_type": "code",
   "execution_count": 6,
   "metadata": {},
   "outputs": [],
   "source": [
    "# determined that the entire column is nan and dropped it\n",
    "np.unique(fbi_new['Rape(revised definition)'])\n",
    "fbi_new= fbi_new.drop(columns = ['Rape(revised definition)'])"
   ]
  },
  {
   "cell_type": "code",
   "execution_count": 7,
   "metadata": {},
   "outputs": [],
   "source": [
    "fbi_new['Violent_crime'] = pd.to_numeric(fbi_new['Violent_crime'], errors='coerce')\n",
    "fbi_new['Murder and nonnegligent manslaughter'] = pd.to_numeric(fbi_new['Murder and nonnegligent manslaughter'], errors='coerce')\n",
    "fbi_new['Rape'] = pd.to_numeric(fbi_new['Rape'], errors='coerce')\n",
    "fbi_new['Robbery'] = pd.to_numeric(fbi_new['Robbery'], errors='coerce')\n",
    "fbi_new['Aggrevated_assault'] = pd.to_numeric(fbi_new['Aggrevated_assault'], errors='coerce')\n",
    "fbi_new['Property_crime'] = pd.to_numeric(fbi_new['Property_crime'], errors='coerce')\n",
    "fbi_new['Buglary'] = pd.to_numeric(fbi_new['Buglary'], errors='coerce')\n",
    "fbi_new['Larceny_theft'] = pd.to_numeric(fbi_new['Larceny_theft'], errors='coerce')\n",
    "fbi_new['Motor-vehicle theft'] = pd.to_numeric(fbi_new['Motor-vehicle theft'], errors='coerce')\n",
    "fbi_new['Arson'] = pd.to_numeric(fbi_new['Arson'], errors='coerce')"
   ]
  },
  {
   "cell_type": "code",
   "execution_count": 8,
   "metadata": {},
   "outputs": [
    {
     "data": {
      "text/plain": [
       "City                                     object\n",
       "Population                               object\n",
       "Violent_crime                           float64\n",
       "Murder and nonnegligent manslaughter    float64\n",
       "Rape                                    float64\n",
       "Robbery                                 float64\n",
       "Aggrevated_assault                      float64\n",
       "Property_crime                          float64\n",
       "Buglary                                 float64\n",
       "Larceny_theft                           float64\n",
       "Motor-vehicle theft                     float64\n",
       "Arson                                   float64\n",
       "dtype: object"
      ]
     },
     "execution_count": 8,
     "metadata": {},
     "output_type": "execute_result"
    }
   ],
   "source": [
    "fbi_new.dtypes"
   ]
  },
  {
   "cell_type": "code",
   "execution_count": 9,
   "metadata": {},
   "outputs": [],
   "source": [
    "#removing the commas\n",
    "fbi_new.Population = fbi_new.Population.str.replace(',', '')"
   ]
  },
  {
   "cell_type": "code",
   "execution_count": 10,
   "metadata": {},
   "outputs": [],
   "source": [
    "fbi_new['Population'] = pd.to_numeric(fbi_new['Population'], errors='coerce')"
   ]
  },
  {
   "cell_type": "code",
   "execution_count": 11,
   "metadata": {},
   "outputs": [],
   "source": [
    "#remove the data that was falsely included in the dataframe\n",
    "\n",
    "fbi_new = fbi_new[fbi_new.Population.isnull() ==False]"
   ]
  },
  {
   "cell_type": "code",
   "execution_count": 12,
   "metadata": {},
   "outputs": [
    {
     "data": {
      "text/html": [
       "<div>\n",
       "<style scoped>\n",
       "    .dataframe tbody tr th:only-of-type {\n",
       "        vertical-align: middle;\n",
       "    }\n",
       "\n",
       "    .dataframe tbody tr th {\n",
       "        vertical-align: top;\n",
       "    }\n",
       "\n",
       "    .dataframe thead th {\n",
       "        text-align: right;\n",
       "    }\n",
       "</style>\n",
       "<table border=\"1\" class=\"dataframe\">\n",
       "  <thead>\n",
       "    <tr style=\"text-align: right;\">\n",
       "      <th></th>\n",
       "      <th>City</th>\n",
       "      <th>Population</th>\n",
       "      <th>Violent_crime</th>\n",
       "      <th>Murder and nonnegligent manslaughter</th>\n",
       "      <th>Rape</th>\n",
       "      <th>Robbery</th>\n",
       "      <th>Aggrevated_assault</th>\n",
       "      <th>Property_crime</th>\n",
       "      <th>Buglary</th>\n",
       "      <th>Larceny_theft</th>\n",
       "      <th>Motor-vehicle theft</th>\n",
       "      <th>Arson</th>\n",
       "    </tr>\n",
       "  </thead>\n",
       "  <tbody>\n",
       "    <tr>\n",
       "      <th>4</th>\n",
       "      <td>Adams Village</td>\n",
       "      <td>1861.0</td>\n",
       "      <td>0.0</td>\n",
       "      <td>0.0</td>\n",
       "      <td>0.0</td>\n",
       "      <td>0.0</td>\n",
       "      <td>0.0</td>\n",
       "      <td>12.0</td>\n",
       "      <td>2.0</td>\n",
       "      <td>10.0</td>\n",
       "      <td>0.0</td>\n",
       "      <td>0.0</td>\n",
       "    </tr>\n",
       "    <tr>\n",
       "      <th>5</th>\n",
       "      <td>Addison Town and Village</td>\n",
       "      <td>2577.0</td>\n",
       "      <td>3.0</td>\n",
       "      <td>0.0</td>\n",
       "      <td>0.0</td>\n",
       "      <td>0.0</td>\n",
       "      <td>3.0</td>\n",
       "      <td>24.0</td>\n",
       "      <td>3.0</td>\n",
       "      <td>20.0</td>\n",
       "      <td>1.0</td>\n",
       "      <td>0.0</td>\n",
       "    </tr>\n",
       "    <tr>\n",
       "      <th>6</th>\n",
       "      <td>Akron Village</td>\n",
       "      <td>2846.0</td>\n",
       "      <td>3.0</td>\n",
       "      <td>0.0</td>\n",
       "      <td>0.0</td>\n",
       "      <td>0.0</td>\n",
       "      <td>3.0</td>\n",
       "      <td>16.0</td>\n",
       "      <td>1.0</td>\n",
       "      <td>15.0</td>\n",
       "      <td>0.0</td>\n",
       "      <td>0.0</td>\n",
       "    </tr>\n",
       "    <tr>\n",
       "      <th>7</th>\n",
       "      <td>Albany</td>\n",
       "      <td>97956.0</td>\n",
       "      <td>791.0</td>\n",
       "      <td>8.0</td>\n",
       "      <td>30.0</td>\n",
       "      <td>227.0</td>\n",
       "      <td>526.0</td>\n",
       "      <td>NaN</td>\n",
       "      <td>705.0</td>\n",
       "      <td>NaN</td>\n",
       "      <td>142.0</td>\n",
       "      <td>NaN</td>\n",
       "    </tr>\n",
       "    <tr>\n",
       "      <th>8</th>\n",
       "      <td>Albion Village</td>\n",
       "      <td>6388.0</td>\n",
       "      <td>23.0</td>\n",
       "      <td>0.0</td>\n",
       "      <td>3.0</td>\n",
       "      <td>4.0</td>\n",
       "      <td>16.0</td>\n",
       "      <td>223.0</td>\n",
       "      <td>53.0</td>\n",
       "      <td>165.0</td>\n",
       "      <td>5.0</td>\n",
       "      <td>NaN</td>\n",
       "    </tr>\n",
       "  </tbody>\n",
       "</table>\n",
       "</div>"
      ],
      "text/plain": [
       "                       City  Population  Violent_crime  \\\n",
       "4             Adams Village      1861.0            0.0   \n",
       "5  Addison Town and Village      2577.0            3.0   \n",
       "6             Akron Village      2846.0            3.0   \n",
       "7                    Albany     97956.0          791.0   \n",
       "8            Albion Village      6388.0           23.0   \n",
       "\n",
       "   Murder and nonnegligent manslaughter  Rape  Robbery  Aggrevated_assault  \\\n",
       "4                                   0.0   0.0      0.0                 0.0   \n",
       "5                                   0.0   0.0      0.0                 3.0   \n",
       "6                                   0.0   0.0      0.0                 3.0   \n",
       "7                                   8.0  30.0    227.0               526.0   \n",
       "8                                   0.0   3.0      4.0                16.0   \n",
       "\n",
       "   Property_crime  Buglary  Larceny_theft  Motor-vehicle theft  Arson  \n",
       "4            12.0      2.0           10.0                  0.0    0.0  \n",
       "5            24.0      3.0           20.0                  1.0    0.0  \n",
       "6            16.0      1.0           15.0                  0.0    0.0  \n",
       "7             NaN    705.0            NaN                142.0    NaN  \n",
       "8           223.0     53.0          165.0                  5.0    NaN  "
      ]
     },
     "execution_count": 12,
     "metadata": {},
     "output_type": "execute_result"
    }
   ],
   "source": [
    "fbi_new.head()"
   ]
  },
  {
   "cell_type": "code",
   "execution_count": 13,
   "metadata": {},
   "outputs": [],
   "source": [
    "fbi_new.rename(columns={'Murder and nonnegligent manslaughter':'Murder'}, inplace = True)"
   ]
  },
  {
   "cell_type": "code",
   "execution_count": 14,
   "metadata": {},
   "outputs": [
    {
     "name": "stderr",
     "output_type": "stream",
     "text": [
      "c:\\users\\owner\\appdata\\local\\programs\\python\\python36\\lib\\site-packages\\matplotlib\\axes\\_axes.py:6462: UserWarning: The 'normed' kwarg is deprecated, and has been replaced by the 'density' kwarg.\n",
      "  warnings.warn(\"The 'normed' kwarg is deprecated, and has been \"\n"
     ]
    },
    {
     "data": {
      "text/plain": [
       "<matplotlib.axes._subplots.AxesSubplot at 0xcd262934a8>"
      ]
     },
     "execution_count": 14,
     "metadata": {},
     "output_type": "execute_result"
    },
    {
     "data": {
      "image/png": "[encoded data removed]",
      "text/plain": [
       "<Figure size 432x288 with 1 Axes>"
      ]
     },
     "metadata": {},
     "output_type": "display_data"
    }
   ],
   "source": [
    "sns.distplot(fbi_new.Population, bins = 5)"
   ]
  },
  {
   "cell_type": "code",
   "execution_count": 15,
   "metadata": {},
   "outputs": [
    {
     "data": {
      "text/plain": [
       "<matplotlib.axes._subplots.AxesSubplot at 0xcd28403518>"
      ]
     },
     "execution_count": 15,
     "metadata": {},
     "output_type": "execute_result"
    },
    {
     "data": {
      "image/png": "[encoded data removed]",
      "text/plain": [
       "<Figure size 432x288 with 1 Axes>"
      ]
     },
     "metadata": {},
     "output_type": "display_data"
    }
   ],
   "source": [
    "sns.boxplot(fbi_new.Aggrevated_assault)"
   ]
  },
  {
   "cell_type": "code",
   "execution_count": 16,
   "metadata": {},
   "outputs": [
    {
     "data": {
      "text/plain": [
       "<matplotlib.axes._subplots.AxesSubplot at 0xcd28473860>"
      ]
     },
     "execution_count": 16,
     "metadata": {},
     "output_type": "execute_result"
    },
    {
     "data": {
      "image/png": "[encoded data removed]",
      "text/plain": [
       "<Figure size 432x288 with 1 Axes>"
      ]
     },
     "metadata": {},
     "output_type": "display_data"
    }
   ],
   "source": [
    "sns.boxplot(fbi_new.Larceny_theft)"
   ]
  },
  {
   "cell_type": "code",
   "execution_count": 17,
   "metadata": {},
   "outputs": [
    {
     "data": {
      "text/plain": [
       "<matplotlib.axes._subplots.AxesSubplot at 0xcd284cb550>"
      ]
     },
     "execution_count": 17,
     "metadata": {},
     "output_type": "execute_result"
    },
    {
     "data": {
      "image/png": "[encoded data removed]",
      "text/plain": [
       "<Figure size 432x288 with 1 Axes>"
      ]
     },
     "metadata": {},
     "output_type": "display_data"
    }
   ],
   "source": [
    "sns.boxplot(fbi_new.Arson)"
   ]
  },
  {
   "cell_type": "code",
   "execution_count": 18,
   "metadata": {},
   "outputs": [
    {
     "data": {
      "text/plain": [
       "<matplotlib.axes._subplots.AxesSubplot at 0xcd2851c748>"
      ]
     },
     "execution_count": 18,
     "metadata": {},
     "output_type": "execute_result"
    },
    {
     "data": {
      "image/png": "[encoded data removed]",
      "text/plain": [
       "<Figure size 432x288 with 1 Axes>"
      ]
     },
     "metadata": {},
     "output_type": "display_data"
    }
   ],
   "source": [
    "sns.boxplot(fbi_new.Violent_crime)"
   ]
  },
  {
   "cell_type": "code",
   "execution_count": 19,
   "metadata": {},
   "outputs": [
    {
     "data": {
      "text/plain": [
       "<matplotlib.axes._subplots.AxesSubplot at 0xcd28577438>"
      ]
     },
     "execution_count": 19,
     "metadata": {},
     "output_type": "execute_result"
    },
    {
     "data": {
      "image/png": "[encoded data removed]",
      "text/plain": [
       "<Figure size 432x288 with 1 Axes>"
      ]
     },
     "metadata": {},
     "output_type": "display_data"
    }
   ],
   "source": [
    "sns.boxplot(fbi_new.Property_crime)"
   ]
  },
  {
   "cell_type": "code",
   "execution_count": 20,
   "metadata": {},
   "outputs": [
    {
     "data": {
      "text/plain": [
       "<matplotlib.axes._subplots.AxesSubplot at 0xcd285d95f8>"
      ]
     },
     "execution_count": 20,
     "metadata": {},
     "output_type": "execute_result"
    },
    {
     "data": {
      "image/png": "[encoded data removed]",
      "text/plain": [
       "<Figure size 432x288 with 1 Axes>"
      ]
     },
     "metadata": {},
     "output_type": "display_data"
    }
   ],
   "source": [
    "sns.boxplot(fbi_new.Murder)"
   ]
  },
  {
   "cell_type": "code",
   "execution_count": 21,
   "metadata": {},
   "outputs": [
    {
     "data": {
      "text/plain": [
       "<matplotlib.axes._subplots.AxesSubplot at 0xcd28643ac8>"
      ]
     },
     "execution_count": 21,
     "metadata": {},
     "output_type": "execute_result"
    },
    {
     "data": {
      "image/png": "[encoded data removed]",
      "text/plain": [
       "<Figure size 432x288 with 1 Axes>"
      ]
     },
     "metadata": {},
     "output_type": "display_data"
    }
   ],
   "source": [
    "sns.boxplot(fbi_new.Rape)"
   ]
  },
  {
   "cell_type": "code",
   "execution_count": 22,
   "metadata": {},
   "outputs": [
    {
     "data": {
      "text/plain": [
       "<matplotlib.axes._subplots.AxesSubplot at 0xcd286a2668>"
      ]
     },
     "execution_count": 22,
     "metadata": {},
     "output_type": "execute_result"
    },
    {
     "data": {
      "image/png": "[encoded data removed]",
      "text/plain": [
       "<Figure size 432x288 with 1 Axes>"
      ]
     },
     "metadata": {},
     "output_type": "display_data"
    }
   ],
   "source": [
    "sns.boxplot(fbi_new.Robbery)"
   ]
  },
  {
   "cell_type": "code",
   "execution_count": 23,
   "metadata": {},
   "outputs": [
    {
     "data": {
      "text/plain": [
       "<matplotlib.axes._subplots.AxesSubplot at 0xcd285e2d30>"
      ]
     },
     "execution_count": 23,
     "metadata": {},
     "output_type": "execute_result"
    },
    {
     "data": {
      "image/png": "[encoded data removed]",
      "text/plain": [
       "<Figure size 432x288 with 1 Axes>"
      ]
     },
     "metadata": {},
     "output_type": "display_data"
    }
   ],
   "source": [
    "sns.boxplot(fbi_new['Motor-vehicle theft'])"
   ]
  },
  {
   "cell_type": "code",
   "execution_count": 24,
   "metadata": {},
   "outputs": [],
   "source": [
    "#filled nans with the mean\n",
    "fbi_new.fillna(fbi_new.mean(), inplace = True)"
   ]
  },
  {
   "cell_type": "code",
   "execution_count": 25,
   "metadata": {},
   "outputs": [],
   "source": [
    "# removing outliers\n",
    "\n",
    "fbi_new = fbi_new.loc[(fbi_new['Property_crime'] <=500)& (fbi_new['Aggrevated_assault'] <150) &(fbi_new['Larceny_theft'] <500)&(fbi_new['Arson'] <5) & (fbi_new['Violent_crime'] < 50) & (fbi_new['Murder'] <10) & (fbi_new['Rape'] <40) & (fbi_new['Robbery'] < 300) & (fbi_new['Motor-vehicle theft'] <200)]"
   ]
  },
  {
   "cell_type": "code",
   "execution_count": 26,
   "metadata": {},
   "outputs": [
    {
     "data": {
      "text/html": [
       "<div>\n",
       "<style scoped>\n",
       "    .dataframe tbody tr th:only-of-type {\n",
       "        vertical-align: middle;\n",
       "    }\n",
       "\n",
       "    .dataframe tbody tr th {\n",
       "        vertical-align: top;\n",
       "    }\n",
       "\n",
       "    .dataframe thead th {\n",
       "        text-align: right;\n",
       "    }\n",
       "</style>\n",
       "<table border=\"1\" class=\"dataframe\">\n",
       "  <thead>\n",
       "    <tr style=\"text-align: right;\">\n",
       "      <th></th>\n",
       "      <th>City</th>\n",
       "      <th>Population</th>\n",
       "      <th>Violent_crime</th>\n",
       "      <th>Murder</th>\n",
       "      <th>Rape</th>\n",
       "      <th>Robbery</th>\n",
       "      <th>Aggrevated_assault</th>\n",
       "      <th>Property_crime</th>\n",
       "      <th>Buglary</th>\n",
       "      <th>Larceny_theft</th>\n",
       "      <th>Motor-vehicle theft</th>\n",
       "      <th>Arson</th>\n",
       "    </tr>\n",
       "  </thead>\n",
       "  <tbody>\n",
       "    <tr>\n",
       "      <th>4</th>\n",
       "      <td>Adams Village</td>\n",
       "      <td>1861.0</td>\n",
       "      <td>0.0</td>\n",
       "      <td>0.0</td>\n",
       "      <td>0.0</td>\n",
       "      <td>0.0</td>\n",
       "      <td>0.0</td>\n",
       "      <td>12.0</td>\n",
       "      <td>2.0</td>\n",
       "      <td>10.0</td>\n",
       "      <td>0.0</td>\n",
       "      <td>0.000000</td>\n",
       "    </tr>\n",
       "    <tr>\n",
       "      <th>5</th>\n",
       "      <td>Addison Town and Village</td>\n",
       "      <td>2577.0</td>\n",
       "      <td>3.0</td>\n",
       "      <td>0.0</td>\n",
       "      <td>0.0</td>\n",
       "      <td>0.0</td>\n",
       "      <td>3.0</td>\n",
       "      <td>24.0</td>\n",
       "      <td>3.0</td>\n",
       "      <td>20.0</td>\n",
       "      <td>1.0</td>\n",
       "      <td>0.000000</td>\n",
       "    </tr>\n",
       "    <tr>\n",
       "      <th>6</th>\n",
       "      <td>Akron Village</td>\n",
       "      <td>2846.0</td>\n",
       "      <td>3.0</td>\n",
       "      <td>0.0</td>\n",
       "      <td>0.0</td>\n",
       "      <td>0.0</td>\n",
       "      <td>3.0</td>\n",
       "      <td>16.0</td>\n",
       "      <td>1.0</td>\n",
       "      <td>15.0</td>\n",
       "      <td>0.0</td>\n",
       "      <td>0.000000</td>\n",
       "    </tr>\n",
       "    <tr>\n",
       "      <th>8</th>\n",
       "      <td>Albion Village</td>\n",
       "      <td>6388.0</td>\n",
       "      <td>23.0</td>\n",
       "      <td>0.0</td>\n",
       "      <td>3.0</td>\n",
       "      <td>4.0</td>\n",
       "      <td>16.0</td>\n",
       "      <td>223.0</td>\n",
       "      <td>53.0</td>\n",
       "      <td>165.0</td>\n",
       "      <td>5.0</td>\n",
       "      <td>1.871658</td>\n",
       "    </tr>\n",
       "    <tr>\n",
       "      <th>9</th>\n",
       "      <td>Alfred Village</td>\n",
       "      <td>4089.0</td>\n",
       "      <td>5.0</td>\n",
       "      <td>0.0</td>\n",
       "      <td>0.0</td>\n",
       "      <td>3.0</td>\n",
       "      <td>2.0</td>\n",
       "      <td>46.0</td>\n",
       "      <td>10.0</td>\n",
       "      <td>36.0</td>\n",
       "      <td>0.0</td>\n",
       "      <td>1.871658</td>\n",
       "    </tr>\n",
       "  </tbody>\n",
       "</table>\n",
       "</div>"
      ],
      "text/plain": [
       "                       City  Population  Violent_crime  Murder  Rape  Robbery  \\\n",
       "4             Adams Village      1861.0            0.0     0.0   0.0      0.0   \n",
       "5  Addison Town and Village      2577.0            3.0     0.0   0.0      0.0   \n",
       "6             Akron Village      2846.0            3.0     0.0   0.0      0.0   \n",
       "8            Albion Village      6388.0           23.0     0.0   3.0      4.0   \n",
       "9            Alfred Village      4089.0            5.0     0.0   0.0      3.0   \n",
       "\n",
       "   Aggrevated_assault  Property_crime  Buglary  Larceny_theft  \\\n",
       "4                 0.0            12.0      2.0           10.0   \n",
       "5                 3.0            24.0      3.0           20.0   \n",
       "6                 3.0            16.0      1.0           15.0   \n",
       "8                16.0           223.0     53.0          165.0   \n",
       "9                 2.0            46.0     10.0           36.0   \n",
       "\n",
       "   Motor-vehicle theft     Arson  \n",
       "4                  0.0  0.000000  \n",
       "5                  1.0  0.000000  \n",
       "6                  0.0  0.000000  \n",
       "8                  5.0  1.871658  \n",
       "9                  0.0  1.871658  "
      ]
     },
     "execution_count": 26,
     "metadata": {},
     "output_type": "execute_result"
    }
   ],
   "source": [
    "fbi_new.head()"
   ]
  },
  {
   "cell_type": "code",
   "execution_count": 27,
   "metadata": {},
   "outputs": [],
   "source": [
    "#sns.distplot(fbi_new.Robbery, bins = 5)"
   ]
  },
  {
   "cell_type": "code",
   "execution_count": 28,
   "metadata": {},
   "outputs": [],
   "source": [
    "features = pd.DataFrame(fbi_new.Population)\n",
    "features['Population_sqrd'] = features['Population'] ** 2\n",
    "features['Murder'] = np.where(fbi_new['Murder'] >0, 1,0) \n",
    "features['Robbery'] = np.where(fbi_new['Robbery'] >0, 1,0) \n",
    "features['Property_crime'] = fbi_new['Property_crime']"
   ]
  },
  {
   "cell_type": "code",
   "execution_count": 29,
   "metadata": {},
   "outputs": [
    {
     "data": {
      "text/html": [
       "<div>\n",
       "<style scoped>\n",
       "    .dataframe tbody tr th:only-of-type {\n",
       "        vertical-align: middle;\n",
       "    }\n",
       "\n",
       "    .dataframe tbody tr th {\n",
       "        vertical-align: top;\n",
       "    }\n",
       "\n",
       "    .dataframe thead th {\n",
       "        text-align: right;\n",
       "    }\n",
       "</style>\n",
       "<table border=\"1\" class=\"dataframe\">\n",
       "  <thead>\n",
       "    <tr style=\"text-align: right;\">\n",
       "      <th></th>\n",
       "      <th>Population</th>\n",
       "      <th>Population_sqrd</th>\n",
       "      <th>Murder</th>\n",
       "      <th>Robbery</th>\n",
       "      <th>Property_crime</th>\n",
       "    </tr>\n",
       "  </thead>\n",
       "  <tbody>\n",
       "    <tr>\n",
       "      <th>4</th>\n",
       "      <td>1861.0</td>\n",
       "      <td>3463321.0</td>\n",
       "      <td>0</td>\n",
       "      <td>0</td>\n",
       "      <td>12.0</td>\n",
       "    </tr>\n",
       "    <tr>\n",
       "      <th>5</th>\n",
       "      <td>2577.0</td>\n",
       "      <td>6640929.0</td>\n",
       "      <td>0</td>\n",
       "      <td>0</td>\n",
       "      <td>24.0</td>\n",
       "    </tr>\n",
       "    <tr>\n",
       "      <th>6</th>\n",
       "      <td>2846.0</td>\n",
       "      <td>8099716.0</td>\n",
       "      <td>0</td>\n",
       "      <td>0</td>\n",
       "      <td>16.0</td>\n",
       "    </tr>\n",
       "    <tr>\n",
       "      <th>8</th>\n",
       "      <td>6388.0</td>\n",
       "      <td>40806544.0</td>\n",
       "      <td>0</td>\n",
       "      <td>1</td>\n",
       "      <td>223.0</td>\n",
       "    </tr>\n",
       "    <tr>\n",
       "      <th>9</th>\n",
       "      <td>4089.0</td>\n",
       "      <td>16719921.0</td>\n",
       "      <td>0</td>\n",
       "      <td>1</td>\n",
       "      <td>46.0</td>\n",
       "    </tr>\n",
       "  </tbody>\n",
       "</table>\n",
       "</div>"
      ],
      "text/plain": [
       "   Population  Population_sqrd  Murder  Robbery  Property_crime\n",
       "4      1861.0        3463321.0       0        0            12.0\n",
       "5      2577.0        6640929.0       0        0            24.0\n",
       "6      2846.0        8099716.0       0        0            16.0\n",
       "8      6388.0       40806544.0       0        1           223.0\n",
       "9      4089.0       16719921.0       0        1            46.0"
      ]
     },
     "execution_count": 29,
     "metadata": {},
     "output_type": "execute_result"
    }
   ],
   "source": [
    "features.head()"
   ]
  },
  {
   "cell_type": "code",
   "execution_count": 30,
   "metadata": {},
   "outputs": [
    {
     "data": {
      "text/html": [
       "<div>\n",
       "<style scoped>\n",
       "    .dataframe tbody tr th:only-of-type {\n",
       "        vertical-align: middle;\n",
       "    }\n",
       "\n",
       "    .dataframe tbody tr th {\n",
       "        vertical-align: top;\n",
       "    }\n",
       "\n",
       "    .dataframe thead th {\n",
       "        text-align: right;\n",
       "    }\n",
       "</style>\n",
       "<table border=\"1\" class=\"dataframe\">\n",
       "  <thead>\n",
       "    <tr style=\"text-align: right;\">\n",
       "      <th></th>\n",
       "      <th>Population</th>\n",
       "      <th>Violent_crime</th>\n",
       "      <th>Murder</th>\n",
       "      <th>Rape</th>\n",
       "      <th>Robbery</th>\n",
       "      <th>Aggrevated_assault</th>\n",
       "      <th>Property_crime</th>\n",
       "      <th>Buglary</th>\n",
       "      <th>Larceny_theft</th>\n",
       "      <th>Motor-vehicle theft</th>\n",
       "      <th>Arson</th>\n",
       "    </tr>\n",
       "  </thead>\n",
       "  <tbody>\n",
       "    <tr>\n",
       "      <th>Population</th>\n",
       "      <td>1.000000</td>\n",
       "      <td>0.570479</td>\n",
       "      <td>0.173548</td>\n",
       "      <td>0.276380</td>\n",
       "      <td>0.542224</td>\n",
       "      <td>0.520193</td>\n",
       "      <td>0.675508</td>\n",
       "      <td>0.629007</td>\n",
       "      <td>0.673162</td>\n",
       "      <td>0.592188</td>\n",
       "      <td>0.235481</td>\n",
       "    </tr>\n",
       "    <tr>\n",
       "      <th>Violent_crime</th>\n",
       "      <td>0.570479</td>\n",
       "      <td>1.000000</td>\n",
       "      <td>0.275321</td>\n",
       "      <td>0.614074</td>\n",
       "      <td>0.803402</td>\n",
       "      <td>0.959973</td>\n",
       "      <td>0.711833</td>\n",
       "      <td>0.789851</td>\n",
       "      <td>0.677817</td>\n",
       "      <td>0.582671</td>\n",
       "      <td>0.347714</td>\n",
       "    </tr>\n",
       "    <tr>\n",
       "      <th>Murder</th>\n",
       "      <td>0.173548</td>\n",
       "      <td>0.275321</td>\n",
       "      <td>1.000000</td>\n",
       "      <td>0.151498</td>\n",
       "      <td>0.208947</td>\n",
       "      <td>0.243015</td>\n",
       "      <td>0.118964</td>\n",
       "      <td>0.211191</td>\n",
       "      <td>0.103684</td>\n",
       "      <td>0.199480</td>\n",
       "      <td>0.111060</td>\n",
       "    </tr>\n",
       "    <tr>\n",
       "      <th>Rape</th>\n",
       "      <td>0.276380</td>\n",
       "      <td>0.614074</td>\n",
       "      <td>0.151498</td>\n",
       "      <td>1.000000</td>\n",
       "      <td>0.405577</td>\n",
       "      <td>0.531747</td>\n",
       "      <td>0.482428</td>\n",
       "      <td>0.564394</td>\n",
       "      <td>0.458381</td>\n",
       "      <td>0.344221</td>\n",
       "      <td>0.225212</td>\n",
       "    </tr>\n",
       "    <tr>\n",
       "      <th>Robbery</th>\n",
       "      <td>0.542224</td>\n",
       "      <td>0.803402</td>\n",
       "      <td>0.208947</td>\n",
       "      <td>0.405577</td>\n",
       "      <td>1.000000</td>\n",
       "      <td>0.622263</td>\n",
       "      <td>0.575565</td>\n",
       "      <td>0.693326</td>\n",
       "      <td>0.542420</td>\n",
       "      <td>0.617792</td>\n",
       "      <td>0.204013</td>\n",
       "    </tr>\n",
       "    <tr>\n",
       "      <th>Aggrevated_assault</th>\n",
       "      <td>0.520193</td>\n",
       "      <td>0.959973</td>\n",
       "      <td>0.243015</td>\n",
       "      <td>0.531747</td>\n",
       "      <td>0.622263</td>\n",
       "      <td>1.000000</td>\n",
       "      <td>0.676940</td>\n",
       "      <td>0.718796</td>\n",
       "      <td>0.647657</td>\n",
       "      <td>0.491313</td>\n",
       "      <td>0.366148</td>\n",
       "    </tr>\n",
       "    <tr>\n",
       "      <th>Property_crime</th>\n",
       "      <td>0.675508</td>\n",
       "      <td>0.711833</td>\n",
       "      <td>0.118964</td>\n",
       "      <td>0.482428</td>\n",
       "      <td>0.575565</td>\n",
       "      <td>0.676940</td>\n",
       "      <td>1.000000</td>\n",
       "      <td>0.799466</td>\n",
       "      <td>0.994223</td>\n",
       "      <td>0.548518</td>\n",
       "      <td>0.410014</td>\n",
       "    </tr>\n",
       "    <tr>\n",
       "      <th>Buglary</th>\n",
       "      <td>0.629007</td>\n",
       "      <td>0.789851</td>\n",
       "      <td>0.211191</td>\n",
       "      <td>0.564394</td>\n",
       "      <td>0.693326</td>\n",
       "      <td>0.718796</td>\n",
       "      <td>0.799466</td>\n",
       "      <td>1.000000</td>\n",
       "      <td>0.752834</td>\n",
       "      <td>0.586609</td>\n",
       "      <td>0.403399</td>\n",
       "    </tr>\n",
       "    <tr>\n",
       "      <th>Larceny_theft</th>\n",
       "      <td>0.673162</td>\n",
       "      <td>0.677817</td>\n",
       "      <td>0.103684</td>\n",
       "      <td>0.458381</td>\n",
       "      <td>0.542420</td>\n",
       "      <td>0.647657</td>\n",
       "      <td>0.994223</td>\n",
       "      <td>0.752834</td>\n",
       "      <td>1.000000</td>\n",
       "      <td>0.525725</td>\n",
       "      <td>0.397151</td>\n",
       "    </tr>\n",
       "    <tr>\n",
       "      <th>Motor-vehicle theft</th>\n",
       "      <td>0.592188</td>\n",
       "      <td>0.582671</td>\n",
       "      <td>0.199480</td>\n",
       "      <td>0.344221</td>\n",
       "      <td>0.617792</td>\n",
       "      <td>0.491313</td>\n",
       "      <td>0.548518</td>\n",
       "      <td>0.586609</td>\n",
       "      <td>0.525725</td>\n",
       "      <td>1.000000</td>\n",
       "      <td>0.247557</td>\n",
       "    </tr>\n",
       "    <tr>\n",
       "      <th>Arson</th>\n",
       "      <td>0.235481</td>\n",
       "      <td>0.347714</td>\n",
       "      <td>0.111060</td>\n",
       "      <td>0.225212</td>\n",
       "      <td>0.204013</td>\n",
       "      <td>0.366148</td>\n",
       "      <td>0.410014</td>\n",
       "      <td>0.403399</td>\n",
       "      <td>0.397151</td>\n",
       "      <td>0.247557</td>\n",
       "      <td>1.000000</td>\n",
       "    </tr>\n",
       "  </tbody>\n",
       "</table>\n",
       "</div>"
      ],
      "text/plain": [
       "                     Population  Violent_crime    Murder      Rape   Robbery  \\\n",
       "Population             1.000000       0.570479  0.173548  0.276380  0.542224   \n",
       "Violent_crime          0.570479       1.000000  0.275321  0.614074  0.803402   \n",
       "Murder                 0.173548       0.275321  1.000000  0.151498  0.208947   \n",
       "Rape                   0.276380       0.614074  0.151498  1.000000  0.405577   \n",
       "Robbery                0.542224       0.803402  0.208947  0.405577  1.000000   \n",
       "Aggrevated_assault     0.520193       0.959973  0.243015  0.531747  0.622263   \n",
       "Property_crime         0.675508       0.711833  0.118964  0.482428  0.575565   \n",
       "Buglary                0.629007       0.789851  0.211191  0.564394  0.693326   \n",
       "Larceny_theft          0.673162       0.677817  0.103684  0.458381  0.542420   \n",
       "Motor-vehicle theft    0.592188       0.582671  0.199480  0.344221  0.617792   \n",
       "Arson                  0.235481       0.347714  0.111060  0.225212  0.204013   \n",
       "\n",
       "                     Aggrevated_assault  Property_crime   Buglary  \\\n",
       "Population                     0.520193        0.675508  0.629007   \n",
       "Violent_crime                  0.959973        0.711833  0.789851   \n",
       "Murder                         0.243015        0.118964  0.211191   \n",
       "Rape                           0.531747        0.482428  0.564394   \n",
       "Robbery                        0.622263        0.575565  0.693326   \n",
       "Aggrevated_assault             1.000000        0.676940  0.718796   \n",
       "Property_crime                 0.676940        1.000000  0.799466   \n",
       "Buglary                        0.718796        0.799466  1.000000   \n",
       "Larceny_theft                  0.647657        0.994223  0.752834   \n",
       "Motor-vehicle theft            0.491313        0.548518  0.586609   \n",
       "Arson                          0.366148        0.410014  0.403399   \n",
       "\n",
       "                     Larceny_theft  Motor-vehicle theft     Arson  \n",
       "Population                0.673162             0.592188  0.235481  \n",
       "Violent_crime             0.677817             0.582671  0.347714  \n",
       "Murder                    0.103684             0.199480  0.111060  \n",
       "Rape                      0.458381             0.344221  0.225212  \n",
       "Robbery                   0.542420             0.617792  0.204013  \n",
       "Aggrevated_assault        0.647657             0.491313  0.366148  \n",
       "Property_crime            0.994223             0.548518  0.410014  \n",
       "Buglary                   0.752834             0.586609  0.403399  \n",
       "Larceny_theft             1.000000             0.525725  0.397151  \n",
       "Motor-vehicle theft       0.525725             1.000000  0.247557  \n",
       "Arson                     0.397151             0.247557  1.000000  "
      ]
     },
     "execution_count": 30,
     "metadata": {},
     "output_type": "execute_result"
    }
   ],
   "source": [
    "fbi_new.corr()"
   ]
  },
  {
   "cell_type": "code",
   "execution_count": 31,
   "metadata": {},
   "outputs": [
    {
     "name": "stdout",
     "output_type": "stream",
     "text": [
      "\n",
      "Coeffiicients: \n",
      " [[ 1.49300523e-02 -2.17249948e-07 -2.38747336e+01  8.19845499e+01]]\n",
      "\n",
      "Intercept: \n",
      " [-9.91974722]\n",
      "\n",
      "R-squared:\n",
      "0.6041194574973419\n"
     ]
    }
   ],
   "source": [
    "regr = linear_model.LinearRegression()\n",
    "Y = features['Property_crime'].values.reshape(-1, 1)\n",
    "X = features[['Population', 'Population_sqrd', 'Murder', 'Robbery']]\n",
    "regr.fit(X, Y)\n",
    "\n",
    "print('\\nCoeffiicients: \\n', regr.coef_)\n",
    "print('\\nIntercept: \\n', regr.intercept_)\n",
    "print('\\nR-squared:')\n",
    "print(regr.score(X,Y))"
   ]
  },
  {
   "cell_type": "code",
   "execution_count": 32,
   "metadata": {},
   "outputs": [],
   "source": [
    "features_new = pd.DataFrame(fbi_new.Population)\n",
    "features_new['Larceny_theft'] = fbi_new['Larceny_theft']\n",
    "features_new['Buglary'] = fbi_new['Buglary']\n",
    "features_new['Violent_crime'] = fbi_new['Violent_crime']\n",
    "features_new['Property_crime'] = fbi_new['Property_crime']\n",
    "features_new['Motor-vehicle theft'] = fbi_new['Motor-vehicle theft']\n",
    "features_new['Arson'] = fbi_new['Arson']\n",
    "features_new['Aggrevated_assault'] = fbi_new['Aggrevated_assault']\n",
    "features_new['Rape'] = fbi_new['Rape']\n",
    "features_new['Property_crime_sqrt'] =np.sqrt(features_new['Property_crime'])"
   ]
  },
  {
   "cell_type": "code",
   "execution_count": 33,
   "metadata": {},
   "outputs": [
    {
     "data": {
      "text/html": [
       "<div>\n",
       "<style scoped>\n",
       "    .dataframe tbody tr th:only-of-type {\n",
       "        vertical-align: middle;\n",
       "    }\n",
       "\n",
       "    .dataframe tbody tr th {\n",
       "        vertical-align: top;\n",
       "    }\n",
       "\n",
       "    .dataframe thead th {\n",
       "        text-align: right;\n",
       "    }\n",
       "</style>\n",
       "<table border=\"1\" class=\"dataframe\">\n",
       "  <thead>\n",
       "    <tr style=\"text-align: right;\">\n",
       "      <th></th>\n",
       "      <th>Population</th>\n",
       "      <th>Larceny_theft</th>\n",
       "      <th>Buglary</th>\n",
       "      <th>Violent_crime</th>\n",
       "      <th>Property_crime</th>\n",
       "      <th>Motor-vehicle theft</th>\n",
       "      <th>Arson</th>\n",
       "      <th>Aggrevated_assault</th>\n",
       "      <th>Rape</th>\n",
       "      <th>Property_crime_sqrt</th>\n",
       "    </tr>\n",
       "  </thead>\n",
       "  <tbody>\n",
       "    <tr>\n",
       "      <th>4</th>\n",
       "      <td>1861.0</td>\n",
       "      <td>10.0</td>\n",
       "      <td>2.0</td>\n",
       "      <td>0.0</td>\n",
       "      <td>12.0</td>\n",
       "      <td>0.0</td>\n",
       "      <td>0.000000</td>\n",
       "      <td>0.0</td>\n",
       "      <td>0.0</td>\n",
       "      <td>3.464102</td>\n",
       "    </tr>\n",
       "    <tr>\n",
       "      <th>5</th>\n",
       "      <td>2577.0</td>\n",
       "      <td>20.0</td>\n",
       "      <td>3.0</td>\n",
       "      <td>3.0</td>\n",
       "      <td>24.0</td>\n",
       "      <td>1.0</td>\n",
       "      <td>0.000000</td>\n",
       "      <td>3.0</td>\n",
       "      <td>0.0</td>\n",
       "      <td>4.898979</td>\n",
       "    </tr>\n",
       "    <tr>\n",
       "      <th>6</th>\n",
       "      <td>2846.0</td>\n",
       "      <td>15.0</td>\n",
       "      <td>1.0</td>\n",
       "      <td>3.0</td>\n",
       "      <td>16.0</td>\n",
       "      <td>0.0</td>\n",
       "      <td>0.000000</td>\n",
       "      <td>3.0</td>\n",
       "      <td>0.0</td>\n",
       "      <td>4.000000</td>\n",
       "    </tr>\n",
       "    <tr>\n",
       "      <th>8</th>\n",
       "      <td>6388.0</td>\n",
       "      <td>165.0</td>\n",
       "      <td>53.0</td>\n",
       "      <td>23.0</td>\n",
       "      <td>223.0</td>\n",
       "      <td>5.0</td>\n",
       "      <td>1.871658</td>\n",
       "      <td>16.0</td>\n",
       "      <td>3.0</td>\n",
       "      <td>14.933185</td>\n",
       "    </tr>\n",
       "    <tr>\n",
       "      <th>9</th>\n",
       "      <td>4089.0</td>\n",
       "      <td>36.0</td>\n",
       "      <td>10.0</td>\n",
       "      <td>5.0</td>\n",
       "      <td>46.0</td>\n",
       "      <td>0.0</td>\n",
       "      <td>1.871658</td>\n",
       "      <td>2.0</td>\n",
       "      <td>0.0</td>\n",
       "      <td>6.782330</td>\n",
       "    </tr>\n",
       "  </tbody>\n",
       "</table>\n",
       "</div>"
      ],
      "text/plain": [
       "   Population  Larceny_theft  Buglary  Violent_crime  Property_crime  \\\n",
       "4      1861.0           10.0      2.0            0.0            12.0   \n",
       "5      2577.0           20.0      3.0            3.0            24.0   \n",
       "6      2846.0           15.0      1.0            3.0            16.0   \n",
       "8      6388.0          165.0     53.0           23.0           223.0   \n",
       "9      4089.0           36.0     10.0            5.0            46.0   \n",
       "\n",
       "   Motor-vehicle theft     Arson  Aggrevated_assault  Rape  \\\n",
       "4                  0.0  0.000000                 0.0   0.0   \n",
       "5                  1.0  0.000000                 3.0   0.0   \n",
       "6                  0.0  0.000000                 3.0   0.0   \n",
       "8                  5.0  1.871658                16.0   3.0   \n",
       "9                  0.0  1.871658                 2.0   0.0   \n",
       "\n",
       "   Property_crime_sqrt  \n",
       "4             3.464102  \n",
       "5             4.898979  \n",
       "6             4.000000  \n",
       "8            14.933185  \n",
       "9             6.782330  "
      ]
     },
     "execution_count": 33,
     "metadata": {},
     "output_type": "execute_result"
    }
   ],
   "source": [
    "features_new.head()"
   ]
  },
  {
   "cell_type": "code",
   "execution_count": 62,
   "metadata": {},
   "outputs": [],
   "source": [
    "features_new['Larceny_theft_sqrt'] = (features_new['Larceny_theft']+1) **0.5\n",
    "#features_new['Buglary_sqrt'] = (features_new['Buglary'] +1)**0.7\n",
    "features_new['Violent_crime_sqrt'] = (features_new['Violent_crime'] +1) **0.5\n",
    "#features_new['Aggrevated_assault_sqrt'] = (features_new['Aggrevated_assault']+1)**0.5"
   ]
  },
  {
   "cell_type": "code",
   "execution_count": 63,
   "metadata": {},
   "outputs": [
    {
     "name": "stdout",
     "output_type": "stream",
     "text": [
      "\n",
      "Coefficients: \n",
      " [[23.227281   3.7627443]]\n",
      "\n",
      "Intercept: \n",
      " [-92.07408871]\n",
      "\n",
      "R-squared:\n",
      "0.9375785897724994\n"
     ]
    }
   ],
   "source": [
    "Y_one = features_new['Property_crime'].values.reshape(-1, 1)\n",
    "X_one = features_new[['Larceny_theft_sqrt', 'Violent_crime_sqrt']]\n",
    "regr.fit(X_one, Y_one)\n",
    "\n",
    "print('\\nCoefficients: \\n', regr.coef_)\n",
    "print('\\nIntercept: \\n', regr.intercept_)\n",
    "print('\\nR-squared:')\n",
    "print(regr.score(X_one,Y_one))"
   ]
  },
  {
   "cell_type": "code",
   "execution_count": 64,
   "metadata": {},
   "outputs": [
    {
     "data": {
      "image/png": "[encoded data removed]",
      "text/plain": [
       "<Figure size 432x288 with 1 Axes>"
      ]
     },
     "metadata": {},
     "output_type": "display_data"
    }
   ],
   "source": [
    "predicted = regr.predict(X_one).ravel()\n",
    "actual= features_new['Property_crime']\n",
    "predicted_sqrd = predicted ** 2\n",
    "residual = actual - predicted\n",
    "\n",
    "plt.hist(residual)\n",
    "plt.title('Residual Counts')\n",
    "plt.xlabel('Residual')\n",
    "plt.ylabel('Count')\n",
    "plt.show()"
   ]
  },
  {
   "cell_type": "code",
   "execution_count": 65,
   "metadata": {},
   "outputs": [
    {
     "data": {
      "image/png": "[encoded data removed]",
      "text/plain": [
       "<Figure size 432x288 with 1 Axes>"
      ]
     },
     "metadata": {},
     "output_type": "display_data"
    }
   ],
   "source": [
    "plt.scatter(predicted, residual)\n",
    "plt.xlabel('Predicted')\n",
    "plt.ylabel('Residual')\n",
    "plt.axhline(y=0)\n",
    "plt.title('Residual vs.Predicted')\n",
    "plt.show()"
   ]
  },
  {
   "cell_type": "code",
   "execution_count": 66,
   "metadata": {},
   "outputs": [
    {
     "data": {
      "text/plain": [
       "0.9375785897724994"
      ]
     },
     "execution_count": 66,
     "metadata": {},
     "output_type": "execute_result"
    }
   ],
   "source": [
    "r2_score(actual, predicted)"
   ]
  },
  {
   "cell_type": "code",
   "execution_count": 39,
   "metadata": {},
   "outputs": [
    {
     "data": {
      "text/html": [
       "<div>\n",
       "<style scoped>\n",
       "    .dataframe tbody tr th:only-of-type {\n",
       "        vertical-align: middle;\n",
       "    }\n",
       "\n",
       "    .dataframe tbody tr th {\n",
       "        vertical-align: top;\n",
       "    }\n",
       "\n",
       "    .dataframe thead th {\n",
       "        text-align: right;\n",
       "    }\n",
       "</style>\n",
       "<table border=\"1\" class=\"dataframe\">\n",
       "  <thead>\n",
       "    <tr style=\"text-align: right;\">\n",
       "      <th></th>\n",
       "      <th>Larceny_theft_sqrt</th>\n",
       "      <th>Violent_crime_sqrt</th>\n",
       "    </tr>\n",
       "  </thead>\n",
       "  <tbody>\n",
       "    <tr>\n",
       "      <th>Larceny_theft_sqrt</th>\n",
       "      <td>1.000000</td>\n",
       "      <td>0.777559</td>\n",
       "    </tr>\n",
       "    <tr>\n",
       "      <th>Violent_crime_sqrt</th>\n",
       "      <td>0.777559</td>\n",
       "      <td>1.000000</td>\n",
       "    </tr>\n",
       "  </tbody>\n",
       "</table>\n",
       "</div>"
      ],
      "text/plain": [
       "                    Larceny_theft_sqrt  Violent_crime_sqrt\n",
       "Larceny_theft_sqrt            1.000000            0.777559\n",
       "Violent_crime_sqrt            0.777559            1.000000"
      ]
     },
     "metadata": {},
     "output_type": "display_data"
    }
   ],
   "source": [
    "correlation_matrix = X_one.corr()\n",
    "display(correlation_matrix)"
   ]
  },
  {
   "cell_type": "code",
   "execution_count": 40,
   "metadata": {},
   "outputs": [],
   "source": [
    "linear_formula = 'Property_crime ~ Larceny_theft_sqrt+ Violent_crime_sqrt'\n",
    "\n",
    "lm_new = smf.ols(formula=linear_formula, data = features_new).fit()"
   ]
  },
  {
   "cell_type": "code",
   "execution_count": 41,
   "metadata": {},
   "outputs": [
    {
     "data": {
      "text/plain": [
       "Intercept            -89.534650\n",
       "Larceny_theft_sqrt    24.602715\n",
       "Violent_crime_sqrt    -3.031314\n",
       "dtype: float64"
      ]
     },
     "execution_count": 41,
     "metadata": {},
     "output_type": "execute_result"
    }
   ],
   "source": [
    "lm_new.params"
   ]
  },
  {
   "cell_type": "code",
   "execution_count": 42,
   "metadata": {},
   "outputs": [
    {
     "data": {
      "text/plain": [
       "Intercept              5.200592e-69\n",
       "Larceny_theft_sqrt    1.952003e-122\n",
       "Violent_crime_sqrt     2.492120e-01\n",
       "dtype: float64"
      ]
     },
     "execution_count": 42,
     "metadata": {},
     "output_type": "execute_result"
    }
   ],
   "source": [
    "lm_new.pvalues"
   ]
  },
  {
   "cell_type": "code",
   "execution_count": 43,
   "metadata": {},
   "outputs": [
    {
     "data": {
      "text/plain": [
       "0.9370433268091934"
      ]
     },
     "execution_count": 43,
     "metadata": {},
     "output_type": "execute_result"
    }
   ],
   "source": [
    "lm_new.rsquared"
   ]
  },
  {
   "cell_type": "code",
   "execution_count": 44,
   "metadata": {},
   "outputs": [
    {
     "data": {
      "text/html": [
       "<div>\n",
       "<style scoped>\n",
       "    .dataframe tbody tr th:only-of-type {\n",
       "        vertical-align: middle;\n",
       "    }\n",
       "\n",
       "    .dataframe tbody tr th {\n",
       "        vertical-align: top;\n",
       "    }\n",
       "\n",
       "    .dataframe thead th {\n",
       "        text-align: right;\n",
       "    }\n",
       "</style>\n",
       "<table border=\"1\" class=\"dataframe\">\n",
       "  <thead>\n",
       "    <tr style=\"text-align: right;\">\n",
       "      <th></th>\n",
       "      <th>0</th>\n",
       "      <th>1</th>\n",
       "    </tr>\n",
       "  </thead>\n",
       "  <tbody>\n",
       "    <tr>\n",
       "      <th>Intercept</th>\n",
       "      <td>-96.976330</td>\n",
       "      <td>-82.092969</td>\n",
       "    </tr>\n",
       "    <tr>\n",
       "      <th>Larceny_theft_sqrt</th>\n",
       "      <td>23.439403</td>\n",
       "      <td>25.766028</td>\n",
       "    </tr>\n",
       "    <tr>\n",
       "      <th>Violent_crime_sqrt</th>\n",
       "      <td>-8.199014</td>\n",
       "      <td>2.136386</td>\n",
       "    </tr>\n",
       "  </tbody>\n",
       "</table>\n",
       "</div>"
      ],
      "text/plain": [
       "                            0          1\n",
       "Intercept          -96.976330 -82.092969\n",
       "Larceny_theft_sqrt  23.439403  25.766028\n",
       "Violent_crime_sqrt  -8.199014   2.136386"
      ]
     },
     "execution_count": 44,
     "metadata": {},
     "output_type": "execute_result"
    }
   ],
   "source": [
    "lm_new.conf_int()"
   ]
  },
  {
   "cell_type": "code",
   "execution_count": 45,
   "metadata": {},
   "outputs": [
    {
     "data": {
      "text/plain": [
       "array([0.92875057, 0.95174139, 0.91844612, 0.94214742, 0.92494729,\n",
       "       0.9185173 , 0.93226487, 0.9219544 , 0.90412158, 0.92947251])"
      ]
     },
     "execution_count": 45,
     "metadata": {},
     "output_type": "execute_result"
    }
   ],
   "source": [
    "cross_val_score(regr, X_one, Y_one, cv=10)"
   ]
  },
  {
   "cell_type": "markdown",
   "metadata": {},
   "source": [
    "# NY 2014(different year)"
   ]
  },
  {
   "cell_type": "code",
   "execution_count": 46,
   "metadata": {},
   "outputs": [],
   "source": [
    "new_table = pd.read_csv(r'C:\\Users\\owner\\projects\\table_8_2014.csv', encoding='ISO-8859-1')"
   ]
  },
  {
   "cell_type": "code",
   "execution_count": 47,
   "metadata": {},
   "outputs": [
    {
     "data": {
      "text/html": [
       "<div>\n",
       "<style scoped>\n",
       "    .dataframe tbody tr th:only-of-type {\n",
       "        vertical-align: middle;\n",
       "    }\n",
       "\n",
       "    .dataframe tbody tr th {\n",
       "        vertical-align: top;\n",
       "    }\n",
       "\n",
       "    .dataframe thead th {\n",
       "        text-align: right;\n",
       "    }\n",
       "</style>\n",
       "<table border=\"1\" class=\"dataframe\">\n",
       "  <thead>\n",
       "    <tr style=\"text-align: right;\">\n",
       "      <th></th>\n",
       "      <th>Table 8</th>\n",
       "      <th>Unnamed: 1</th>\n",
       "      <th>Unnamed: 2</th>\n",
       "      <th>Unnamed: 3</th>\n",
       "      <th>Unnamed: 4</th>\n",
       "      <th>Unnamed: 5</th>\n",
       "      <th>Unnamed: 6</th>\n",
       "      <th>Unnamed: 7</th>\n",
       "      <th>Unnamed: 8</th>\n",
       "      <th>Unnamed: 9</th>\n",
       "      <th>Unnamed: 10</th>\n",
       "      <th>Unnamed: 11</th>\n",
       "      <th>Unnamed: 12</th>\n",
       "      <th>Unnamed: 13</th>\n",
       "    </tr>\n",
       "  </thead>\n",
       "  <tbody>\n",
       "    <tr>\n",
       "      <th>0</th>\n",
       "      <td>NEW YORK</td>\n",
       "      <td>NaN</td>\n",
       "      <td>NaN</td>\n",
       "      <td>NaN</td>\n",
       "      <td>NaN</td>\n",
       "      <td>NaN</td>\n",
       "      <td>NaN</td>\n",
       "      <td>NaN</td>\n",
       "      <td>NaN</td>\n",
       "      <td>NaN</td>\n",
       "      <td>NaN</td>\n",
       "      <td>NaN</td>\n",
       "      <td>NaN</td>\n",
       "      <td>NaN</td>\n",
       "    </tr>\n",
       "    <tr>\n",
       "      <th>1</th>\n",
       "      <td>Offenses Known to Law Enforcement</td>\n",
       "      <td>NaN</td>\n",
       "      <td>NaN</td>\n",
       "      <td>NaN</td>\n",
       "      <td>NaN</td>\n",
       "      <td></td>\n",
       "      <td>NaN</td>\n",
       "      <td>NaN</td>\n",
       "      <td>NaN</td>\n",
       "      <td>NaN</td>\n",
       "      <td>NaN</td>\n",
       "      <td>NaN</td>\n",
       "      <td>NaN</td>\n",
       "      <td>NaN</td>\n",
       "    </tr>\n",
       "    <tr>\n",
       "      <th>2</th>\n",
       "      <td>by City, 2014</td>\n",
       "      <td>NaN</td>\n",
       "      <td>NaN</td>\n",
       "      <td>NaN</td>\n",
       "      <td>NaN</td>\n",
       "      <td>NaN</td>\n",
       "      <td>NaN</td>\n",
       "      <td>NaN</td>\n",
       "      <td>NaN</td>\n",
       "      <td>NaN</td>\n",
       "      <td>NaN</td>\n",
       "      <td>NaN</td>\n",
       "      <td>NaN</td>\n",
       "      <td>NaN</td>\n",
       "    </tr>\n",
       "    <tr>\n",
       "      <th>3</th>\n",
       "      <td>City</td>\n",
       "      <td>Population</td>\n",
       "      <td>Violent\\ncrime</td>\n",
       "      <td>Murder and\\nnonnegligent\\nmanslaughter</td>\n",
       "      <td>Rape\\n(revised\\ndefinition)1</td>\n",
       "      <td>Rape\\n(legacy\\ndefinition)2</td>\n",
       "      <td>Robbery</td>\n",
       "      <td>Aggravated\\nassault</td>\n",
       "      <td>Property\\ncrime</td>\n",
       "      <td>Burglary</td>\n",
       "      <td>Larceny-\\ntheft</td>\n",
       "      <td>Motor\\nvehicle\\ntheft</td>\n",
       "      <td>Arson3</td>\n",
       "      <td>NaN</td>\n",
       "    </tr>\n",
       "    <tr>\n",
       "      <th>4</th>\n",
       "      <td>Adams Village</td>\n",
       "      <td>1,851</td>\n",
       "      <td>0</td>\n",
       "      <td>0</td>\n",
       "      <td>NaN</td>\n",
       "      <td>0</td>\n",
       "      <td>0</td>\n",
       "      <td>0</td>\n",
       "      <td>11</td>\n",
       "      <td>1</td>\n",
       "      <td>10</td>\n",
       "      <td>0</td>\n",
       "      <td>0</td>\n",
       "      <td>NaN</td>\n",
       "    </tr>\n",
       "  </tbody>\n",
       "</table>\n",
       "</div>"
      ],
      "text/plain": [
       "                             Table 8  Unnamed: 1      Unnamed: 2  \\\n",
       "0                           NEW YORK         NaN             NaN   \n",
       "1  Offenses Known to Law Enforcement         NaN             NaN   \n",
       "2                      by City, 2014         NaN             NaN   \n",
       "3                               City  Population  Violent\\ncrime   \n",
       "4                      Adams Village       1,851               0   \n",
       "\n",
       "                               Unnamed: 3                    Unnamed: 4  \\\n",
       "0                                     NaN                           NaN   \n",
       "1                                     NaN                           NaN   \n",
       "2                                     NaN                           NaN   \n",
       "3  Murder and\\nnonnegligent\\nmanslaughter  Rape\\n(revised\\ndefinition)1   \n",
       "4                                       0                           NaN   \n",
       "\n",
       "                    Unnamed: 5 Unnamed: 6           Unnamed: 7  \\\n",
       "0                          NaN        NaN                  NaN   \n",
       "1                                     NaN                  NaN   \n",
       "2                          NaN        NaN                  NaN   \n",
       "3  Rape\\n(legacy\\ndefinition)2    Robbery  Aggravated\\nassault   \n",
       "4                            0          0                    0   \n",
       "\n",
       "        Unnamed: 8 Unnamed: 9      Unnamed: 10            Unnamed: 11  \\\n",
       "0              NaN        NaN              NaN                    NaN   \n",
       "1              NaN        NaN              NaN                    NaN   \n",
       "2              NaN        NaN              NaN                    NaN   \n",
       "3  Property\\ncrime   Burglary  Larceny-\\ntheft  Motor\\nvehicle\\ntheft   \n",
       "4               11          1               10                      0   \n",
       "\n",
       "  Unnamed: 12  Unnamed: 13  \n",
       "0         NaN          NaN  \n",
       "1         NaN          NaN  \n",
       "2         NaN          NaN  \n",
       "3      Arson3          NaN  \n",
       "4           0          NaN  "
      ]
     },
     "execution_count": 47,
     "metadata": {},
     "output_type": "execute_result"
    }
   ],
   "source": [
    "new_table.head()"
   ]
  },
  {
   "cell_type": "code",
   "execution_count": 48,
   "metadata": {},
   "outputs": [],
   "source": [
    "ny_2014 = new_table.drop([0, 1, 2, 3])\n",
    "ny_2014.columns = ['City', 'Population', 'Violent_crime', 'Murder and nonnegligent manslaughter', 'Rape(revised definition)', 'Rape','Robbery', 'Aggrevated_assault', 'Property_crime', 'Buglary', 'Larceny_theft', 'Motor-vehicle theft', 'Arson', 'blank']"
   ]
  },
  {
   "cell_type": "code",
   "execution_count": 49,
   "metadata": {},
   "outputs": [
    {
     "data": {
      "text/html": [
       "<div>\n",
       "<style scoped>\n",
       "    .dataframe tbody tr th:only-of-type {\n",
       "        vertical-align: middle;\n",
       "    }\n",
       "\n",
       "    .dataframe tbody tr th {\n",
       "        vertical-align: top;\n",
       "    }\n",
       "\n",
       "    .dataframe thead th {\n",
       "        text-align: right;\n",
       "    }\n",
       "</style>\n",
       "<table border=\"1\" class=\"dataframe\">\n",
       "  <thead>\n",
       "    <tr style=\"text-align: right;\">\n",
       "      <th></th>\n",
       "      <th>City</th>\n",
       "      <th>Population</th>\n",
       "      <th>Violent_crime</th>\n",
       "      <th>Murder and nonnegligent manslaughter</th>\n",
       "      <th>Rape(revised definition)</th>\n",
       "      <th>Rape</th>\n",
       "      <th>Robbery</th>\n",
       "      <th>Aggrevated_assault</th>\n",
       "      <th>Property_crime</th>\n",
       "      <th>Buglary</th>\n",
       "      <th>Larceny_theft</th>\n",
       "      <th>Motor-vehicle theft</th>\n",
       "      <th>Arson</th>\n",
       "      <th>blank</th>\n",
       "    </tr>\n",
       "  </thead>\n",
       "  <tbody>\n",
       "    <tr>\n",
       "      <th>4</th>\n",
       "      <td>Adams Village</td>\n",
       "      <td>1,851</td>\n",
       "      <td>0</td>\n",
       "      <td>0</td>\n",
       "      <td>NaN</td>\n",
       "      <td>0</td>\n",
       "      <td>0</td>\n",
       "      <td>0</td>\n",
       "      <td>11</td>\n",
       "      <td>1</td>\n",
       "      <td>10</td>\n",
       "      <td>0</td>\n",
       "      <td>0</td>\n",
       "      <td>NaN</td>\n",
       "    </tr>\n",
       "    <tr>\n",
       "      <th>5</th>\n",
       "      <td>Addison Town and Village</td>\n",
       "      <td>2,568</td>\n",
       "      <td>2</td>\n",
       "      <td>0</td>\n",
       "      <td>NaN</td>\n",
       "      <td>0</td>\n",
       "      <td>1</td>\n",
       "      <td>1</td>\n",
       "      <td>49</td>\n",
       "      <td>1</td>\n",
       "      <td>47</td>\n",
       "      <td>1</td>\n",
       "      <td>0</td>\n",
       "      <td>NaN</td>\n",
       "    </tr>\n",
       "    <tr>\n",
       "      <th>6</th>\n",
       "      <td>Afton Village4</td>\n",
       "      <td>820</td>\n",
       "      <td>0</td>\n",
       "      <td>0</td>\n",
       "      <td>0</td>\n",
       "      <td>NaN</td>\n",
       "      <td>0</td>\n",
       "      <td>0</td>\n",
       "      <td>1</td>\n",
       "      <td>0</td>\n",
       "      <td>1</td>\n",
       "      <td>0</td>\n",
       "      <td>0</td>\n",
       "      <td>NaN</td>\n",
       "    </tr>\n",
       "    <tr>\n",
       "      <th>7</th>\n",
       "      <td>Akron Village</td>\n",
       "      <td>2,842</td>\n",
       "      <td>1</td>\n",
       "      <td>0</td>\n",
       "      <td>NaN</td>\n",
       "      <td>0</td>\n",
       "      <td>0</td>\n",
       "      <td>1</td>\n",
       "      <td>17</td>\n",
       "      <td>0</td>\n",
       "      <td>17</td>\n",
       "      <td>0</td>\n",
       "      <td>0</td>\n",
       "      <td>NaN</td>\n",
       "    </tr>\n",
       "    <tr>\n",
       "      <th>8</th>\n",
       "      <td>Albany4</td>\n",
       "      <td>98,595</td>\n",
       "      <td>802</td>\n",
       "      <td>8</td>\n",
       "      <td>54</td>\n",
       "      <td>NaN</td>\n",
       "      <td>237</td>\n",
       "      <td>503</td>\n",
       "      <td>3,888</td>\n",
       "      <td>683</td>\n",
       "      <td>3,083</td>\n",
       "      <td>122</td>\n",
       "      <td>12</td>\n",
       "      <td>NaN</td>\n",
       "    </tr>\n",
       "  </tbody>\n",
       "</table>\n",
       "</div>"
      ],
      "text/plain": [
       "                       City Population Violent_crime  \\\n",
       "4             Adams Village      1,851             0   \n",
       "5  Addison Town and Village      2,568             2   \n",
       "6            Afton Village4        820             0   \n",
       "7             Akron Village      2,842             1   \n",
       "8                   Albany4     98,595           802   \n",
       "\n",
       "  Murder and nonnegligent manslaughter Rape(revised definition) Rape Robbery  \\\n",
       "4                                    0                      NaN    0       0   \n",
       "5                                    0                      NaN    0       1   \n",
       "6                                    0                        0  NaN       0   \n",
       "7                                    0                      NaN    0       0   \n",
       "8                                    8                       54  NaN     237   \n",
       "\n",
       "  Aggrevated_assault Property_crime Buglary Larceny_theft Motor-vehicle theft  \\\n",
       "4                  0             11       1            10                   0   \n",
       "5                  1             49       1            47                   1   \n",
       "6                  0              1       0             1                   0   \n",
       "7                  1             17       0            17                   0   \n",
       "8                503          3,888     683         3,083                 122   \n",
       "\n",
       "  Arson  blank  \n",
       "4     0    NaN  \n",
       "5     0    NaN  \n",
       "6     0    NaN  \n",
       "7     0    NaN  \n",
       "8    12    NaN  "
      ]
     },
     "execution_count": 49,
     "metadata": {},
     "output_type": "execute_result"
    }
   ],
   "source": [
    "ny_2014.head()"
   ]
  },
  {
   "cell_type": "code",
   "execution_count": 50,
   "metadata": {},
   "outputs": [],
   "source": [
    "ny_2014= ny_2014.drop(columns = ['blank'])"
   ]
  },
  {
   "cell_type": "code",
   "execution_count": 51,
   "metadata": {},
   "outputs": [],
   "source": [
    "#np.unique(cali['Rape(revised definition)'])\n",
    "ny_2014= ny_2014.drop(columns = ['Rape(revised definition)'])"
   ]
  },
  {
   "cell_type": "code",
   "execution_count": 52,
   "metadata": {},
   "outputs": [],
   "source": [
    "ny_2014['Violent_crime'] = pd.to_numeric(ny_2014['Violent_crime'], errors='coerce')\n",
    "ny_2014['Property_crime'] = pd.to_numeric(ny_2014['Property_crime'], errors='coerce')\n",
    "ny_2014['Larceny_theft'] = pd.to_numeric(ny_2014['Larceny_theft'], errors='coerce')"
   ]
  },
  {
   "cell_type": "code",
   "execution_count": 53,
   "metadata": {},
   "outputs": [
    {
     "data": {
      "text/plain": [
       "<matplotlib.axes._subplots.AxesSubplot at 0xcd287911d0>"
      ]
     },
     "execution_count": 53,
     "metadata": {},
     "output_type": "execute_result"
    },
    {
     "data": {
      "image/png": "[encoded data removed]",
      "text/plain": [
       "<Figure size 432x288 with 1 Axes>"
      ]
     },
     "metadata": {},
     "output_type": "display_data"
    }
   ],
   "source": [
    "sns.boxplot(ny_2014['Property_crime'])"
   ]
  },
  {
   "cell_type": "code",
   "execution_count": 54,
   "metadata": {},
   "outputs": [
    {
     "data": {
      "text/plain": [
       "<matplotlib.axes._subplots.AxesSubplot at 0xcd287eb278>"
      ]
     },
     "execution_count": 54,
     "metadata": {},
     "output_type": "execute_result"
    },
    {
     "data": {
      "image/png": "[encoded data removed]",
      "text/plain": [
       "<Figure size 432x288 with 1 Axes>"
      ]
     },
     "metadata": {},
     "output_type": "display_data"
    }
   ],
   "source": [
    "sns.boxplot(ny_2014['Larceny_theft'])"
   ]
  },
  {
   "cell_type": "code",
   "execution_count": 55,
   "metadata": {},
   "outputs": [
    {
     "data": {
      "text/plain": [
       "<matplotlib.axes._subplots.AxesSubplot at 0xcd287a2550>"
      ]
     },
     "execution_count": 55,
     "metadata": {},
     "output_type": "execute_result"
    },
    {
     "data": {
      "image/png": "[encoded data removed]",
      "text/plain": [
       "<Figure size 432x288 with 1 Axes>"
      ]
     },
     "metadata": {},
     "output_type": "display_data"
    }
   ],
   "source": [
    "sns.boxplot(ny_2014['Violent_crime'])"
   ]
  },
  {
   "cell_type": "code",
   "execution_count": 56,
   "metadata": {},
   "outputs": [],
   "source": [
    "#removing outliers\n",
    "ny_2014 = ny_2014.loc[(ny_2014['Larceny_theft']<400) &(ny_2014['Property_crime'] <500)&(ny_2014['Violent_crime']<200)]"
   ]
  },
  {
   "cell_type": "code",
   "execution_count": 67,
   "metadata": {},
   "outputs": [],
   "source": [
    "ny_2014['Larceny_theft_sqrt'] = (ny_2014['Larceny_theft']+1) **0.5\n",
    "ny_2014['Violent_crime_sqrt'] = (ny_2014['Violent_crime'] +1) **0.5"
   ]
  },
  {
   "cell_type": "code",
   "execution_count": 68,
   "metadata": {},
   "outputs": [],
   "source": [
    "ny_2014['Larceny_theft_sqrt'].fillna(ny_2014['Larceny_theft_sqrt'].median(), inplace = True)\n",
    "ny_2014['Property_crime'].fillna(ny_2014['Property_crime'].median(), inplace = True)\n",
    "ny_2014['Violent_crime_sqrt'].fillna(ny_2014['Violent_crime_sqrt'].median(), inplace = True)"
   ]
  },
  {
   "cell_type": "code",
   "execution_count": 69,
   "metadata": {},
   "outputs": [],
   "source": [
    "X_ny_2014 = ny_2014[['Larceny_theft_sqrt', 'Violent_crime_sqrt']]\n",
    "prediction = regr.predict(X_ny_2014)\n",
    "Y_ny_2014 = ny_2014[['Property_crime']]"
   ]
  },
  {
   "cell_type": "code",
   "execution_count": 70,
   "metadata": {},
   "outputs": [
    {
     "name": "stdout",
     "output_type": "stream",
     "text": [
      "0.9283182700534568\n"
     ]
    }
   ],
   "source": [
    "print(r2_score(Y_ny_2014, prediction))"
   ]
  },
  {
   "cell_type": "markdown",
   "metadata": {},
   "source": [
    "Different iterations were attempted:\n",
    " - Version with no outliers removed from the training dataset and from the test data set. Results were not satisfactory.\n",
    " - Buglary, aggrevated assualt, rape, robbery were tested as potential features and eventually eliminated after their p-values proved to be too high.\n",
    "  - NY data for 2014 was selected because it seems to be a better candiate than 2013 data from a different state since our train data only included information about NY and no other states.\n",
    "  - Various exponents for the existing features were tested and the best results were reached with square roots of both features(Larceny_theft and Violent_crime). "
   ]
  },
  {
   "cell_type": "code",
   "execution_count": null,
   "metadata": {},
   "outputs": [],
   "source": []
  }
 ],
 "metadata": {
  "kernelspec": {
   "display_name": "Python 3",
   "language": "python",
   "name": "python3"
  },
  "language_info": {
   "codemirror_mode": {
    "name": "ipython",
    "version": 3
   },
   "file_extension": ".py",
   "mimetype": "text/x-python",
   "name": "python",
   "nbconvert_exporter": "python",
   "pygments_lexer": "ipython3",
   "version": "3.6.5"
  }
 },
 "nbformat": 4,
 "nbformat_minor": 2
}
