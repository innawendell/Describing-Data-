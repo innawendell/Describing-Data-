{
 "cells": [
  {
   "cell_type": "code",
   "execution_count": 1,
   "metadata": {},
   "outputs": [],
   "source": [
    "import pandas as pd\n",
    "import numpy as np\n",
    "from sklearn import linear_model\n",
    "import matplotlib.pyplot as plt\n",
    "import seaborn as sns\n",
    "%matplotlib inline\n",
    "import scipy.stats as stats\n",
    "from sklearn import linear_model\n",
    "import statsmodels.formula.api as smf\n",
    "from sklearn.preprocessing import StandardScaler\n",
    "from statsmodels.sandbox.regression.predstd import wls_prediction_std\n",
    "from sklearn.model_selection import cross_val_score\n",
    "from sklearn.model_selection import cross_val_predict\n",
    "from sklearn.metrics import r2_score\n",
    "from sklearn.metrics import mean_squared_error\n",
    "from sklearn.feature_selection import f_regression"
   ]
  },
  {
   "cell_type": "code",
   "execution_count": 2,
   "metadata": {},
   "outputs": [],
   "source": [
    "table = pd.read_csv(r'C:\\Users\\owner\\projects\\table_8.csv', encoding='ISO-8859-1')"
   ]
  },
  {
   "cell_type": "code",
   "execution_count": 3,
   "metadata": {},
   "outputs": [],
   "source": [
    "fbi = table.drop([0, 1, 2, 3])\n",
    "fbi.columns = ['City', 'Population', 'Violent_crime', 'Murder and nonnegligent manslaughter', 'Rape(revised definition)', 'Rape','Robbery', 'Aggrevated_assault', 'Property_crime', 'Buglary', 'Larceny_theft', 'Motor-vehicle theft', 'Arson', 'blank']"
   ]
  },
  {
   "cell_type": "code",
   "execution_count": 4,
   "metadata": {},
   "outputs": [
    {
     "data": {
      "text/html": [
       "<div>\n",
       "<style scoped>\n",
       "    .dataframe tbody tr th:only-of-type {\n",
       "        vertical-align: middle;\n",
       "    }\n",
       "\n",
       "    .dataframe tbody tr th {\n",
       "        vertical-align: top;\n",
       "    }\n",
       "\n",
       "    .dataframe thead th {\n",
       "        text-align: right;\n",
       "    }\n",
       "</style>\n",
       "<table border=\"1\" class=\"dataframe\">\n",
       "  <thead>\n",
       "    <tr style=\"text-align: right;\">\n",
       "      <th></th>\n",
       "      <th>City</th>\n",
       "      <th>Population</th>\n",
       "      <th>Violent_crime</th>\n",
       "      <th>Murder and nonnegligent manslaughter</th>\n",
       "      <th>Rape(revised definition)</th>\n",
       "      <th>Rape</th>\n",
       "      <th>Robbery</th>\n",
       "      <th>Aggrevated_assault</th>\n",
       "      <th>Property_crime</th>\n",
       "      <th>Buglary</th>\n",
       "      <th>Larceny_theft</th>\n",
       "      <th>Motor-vehicle theft</th>\n",
       "      <th>Arson</th>\n",
       "    </tr>\n",
       "  </thead>\n",
       "  <tbody>\n",
       "    <tr>\n",
       "      <th>4</th>\n",
       "      <td>Adams Village</td>\n",
       "      <td>1,861</td>\n",
       "      <td>0</td>\n",
       "      <td>0</td>\n",
       "      <td>NaN</td>\n",
       "      <td>0</td>\n",
       "      <td>0</td>\n",
       "      <td>0</td>\n",
       "      <td>12</td>\n",
       "      <td>2</td>\n",
       "      <td>10</td>\n",
       "      <td>0</td>\n",
       "      <td>0</td>\n",
       "    </tr>\n",
       "    <tr>\n",
       "      <th>5</th>\n",
       "      <td>Addison Town and Village</td>\n",
       "      <td>2,577</td>\n",
       "      <td>3</td>\n",
       "      <td>0</td>\n",
       "      <td>NaN</td>\n",
       "      <td>0</td>\n",
       "      <td>0</td>\n",
       "      <td>3</td>\n",
       "      <td>24</td>\n",
       "      <td>3</td>\n",
       "      <td>20</td>\n",
       "      <td>1</td>\n",
       "      <td>0</td>\n",
       "    </tr>\n",
       "    <tr>\n",
       "      <th>6</th>\n",
       "      <td>Akron Village</td>\n",
       "      <td>2,846</td>\n",
       "      <td>3</td>\n",
       "      <td>0</td>\n",
       "      <td>NaN</td>\n",
       "      <td>0</td>\n",
       "      <td>0</td>\n",
       "      <td>3</td>\n",
       "      <td>16</td>\n",
       "      <td>1</td>\n",
       "      <td>15</td>\n",
       "      <td>0</td>\n",
       "      <td>0</td>\n",
       "    </tr>\n",
       "    <tr>\n",
       "      <th>7</th>\n",
       "      <td>Albany</td>\n",
       "      <td>97,956</td>\n",
       "      <td>791</td>\n",
       "      <td>8</td>\n",
       "      <td>NaN</td>\n",
       "      <td>30</td>\n",
       "      <td>227</td>\n",
       "      <td>526</td>\n",
       "      <td>4,090</td>\n",
       "      <td>705</td>\n",
       "      <td>3,243</td>\n",
       "      <td>142</td>\n",
       "      <td>NaN</td>\n",
       "    </tr>\n",
       "    <tr>\n",
       "      <th>8</th>\n",
       "      <td>Albion Village</td>\n",
       "      <td>6,388</td>\n",
       "      <td>23</td>\n",
       "      <td>0</td>\n",
       "      <td>NaN</td>\n",
       "      <td>3</td>\n",
       "      <td>4</td>\n",
       "      <td>16</td>\n",
       "      <td>223</td>\n",
       "      <td>53</td>\n",
       "      <td>165</td>\n",
       "      <td>5</td>\n",
       "      <td>NaN</td>\n",
       "    </tr>\n",
       "  </tbody>\n",
       "</table>\n",
       "</div>"
      ],
      "text/plain": [
       "                       City Population Violent_crime  \\\n",
       "4             Adams Village      1,861             0   \n",
       "5  Addison Town and Village      2,577             3   \n",
       "6             Akron Village      2,846             3   \n",
       "7                    Albany     97,956           791   \n",
       "8            Albion Village      6,388            23   \n",
       "\n",
       "  Murder and nonnegligent manslaughter Rape(revised definition) Rape Robbery  \\\n",
       "4                                    0                      NaN    0       0   \n",
       "5                                    0                      NaN    0       0   \n",
       "6                                    0                      NaN    0       0   \n",
       "7                                    8                      NaN   30     227   \n",
       "8                                    0                      NaN    3       4   \n",
       "\n",
       "  Aggrevated_assault Property_crime Buglary Larceny_theft Motor-vehicle theft  \\\n",
       "4                  0             12       2            10                   0   \n",
       "5                  3             24       3            20                   1   \n",
       "6                  3             16       1            15                   0   \n",
       "7                526          4,090     705         3,243                 142   \n",
       "8                 16            223      53           165                   5   \n",
       "\n",
       "  Arson  \n",
       "4     0  \n",
       "5     0  \n",
       "6     0  \n",
       "7   NaN  \n",
       "8   NaN  "
      ]
     },
     "execution_count": 4,
     "metadata": {},
     "output_type": "execute_result"
    }
   ],
   "source": [
    "fbi_new= fbi.drop(columns = ['blank'])\n",
    "fbi_new.head()"
   ]
  },
  {
   "cell_type": "code",
   "execution_count": 5,
   "metadata": {},
   "outputs": [
    {
     "data": {
      "text/plain": [
       "City                                    object\n",
       "Population                              object\n",
       "Violent_crime                           object\n",
       "Murder and nonnegligent manslaughter    object\n",
       "Rape(revised definition)                object\n",
       "Rape                                    object\n",
       "Robbery                                 object\n",
       "Aggrevated_assault                      object\n",
       "Property_crime                          object\n",
       "Buglary                                 object\n",
       "Larceny_theft                           object\n",
       "Motor-vehicle theft                     object\n",
       "Arson                                   object\n",
       "dtype: object"
      ]
     },
     "execution_count": 5,
     "metadata": {},
     "output_type": "execute_result"
    }
   ],
   "source": [
    "fbi_new.dtypes"
   ]
  },
  {
   "cell_type": "code",
   "execution_count": 6,
   "metadata": {},
   "outputs": [],
   "source": [
    "# determined that the entire column is nan and dropped it\n",
    "np.unique(fbi_new['Rape(revised definition)'])\n",
    "fbi_new= fbi_new.drop(columns = ['Rape(revised definition)'])"
   ]
  },
  {
   "cell_type": "code",
   "execution_count": 7,
   "metadata": {},
   "outputs": [],
   "source": [
    "fbi_new['Violent_crime'] = pd.to_numeric(fbi_new['Violent_crime'], errors='coerce')\n",
    "fbi_new['Murder and nonnegligent manslaughter'] = pd.to_numeric(fbi_new['Murder and nonnegligent manslaughter'], errors='coerce')\n",
    "fbi_new['Rape'] = pd.to_numeric(fbi_new['Rape'], errors='coerce')\n",
    "fbi_new['Robbery'] = pd.to_numeric(fbi_new['Robbery'], errors='coerce')\n",
    "fbi_new['Aggrevated_assault'] = pd.to_numeric(fbi_new['Aggrevated_assault'], errors='coerce')\n",
    "fbi_new['Property_crime'] = pd.to_numeric(fbi_new['Property_crime'], errors='coerce')\n",
    "fbi_new['Buglary'] = pd.to_numeric(fbi_new['Buglary'], errors='coerce')\n",
    "fbi_new['Larceny_theft'] = pd.to_numeric(fbi_new['Larceny_theft'], errors='coerce')\n",
    "fbi_new['Motor-vehicle theft'] = pd.to_numeric(fbi_new['Motor-vehicle theft'], errors='coerce')\n",
    "fbi_new['Arson'] = pd.to_numeric(fbi_new['Arson'], errors='coerce')"
   ]
  },
  {
   "cell_type": "code",
   "execution_count": 8,
   "metadata": {},
   "outputs": [
    {
     "data": {
      "text/plain": [
       "City                                     object\n",
       "Population                               object\n",
       "Violent_crime                           float64\n",
       "Murder and nonnegligent manslaughter    float64\n",
       "Rape                                    float64\n",
       "Robbery                                 float64\n",
       "Aggrevated_assault                      float64\n",
       "Property_crime                          float64\n",
       "Buglary                                 float64\n",
       "Larceny_theft                           float64\n",
       "Motor-vehicle theft                     float64\n",
       "Arson                                   float64\n",
       "dtype: object"
      ]
     },
     "execution_count": 8,
     "metadata": {},
     "output_type": "execute_result"
    }
   ],
   "source": [
    "fbi_new.dtypes"
   ]
  },
  {
   "cell_type": "code",
   "execution_count": 9,
   "metadata": {},
   "outputs": [],
   "source": [
    "#removing the commas\n",
    "fbi_new.Population = fbi_new.Population.str.replace(',', '')"
   ]
  },
  {
   "cell_type": "code",
   "execution_count": 10,
   "metadata": {},
   "outputs": [],
   "source": [
    "fbi_new['Population'] = pd.to_numeric(fbi_new['Population'], errors='coerce')"
   ]
  },
  {
   "cell_type": "code",
   "execution_count": 11,
   "metadata": {},
   "outputs": [],
   "source": [
    "#remove the data that was falsely included in the dataframe\n",
    "fbi_new = fbi_new[fbi_new.Population.isnull() ==False]"
   ]
  },
  {
   "cell_type": "code",
   "execution_count": 12,
   "metadata": {},
   "outputs": [
    {
     "data": {
      "text/html": [
       "<div>\n",
       "<style scoped>\n",
       "    .dataframe tbody tr th:only-of-type {\n",
       "        vertical-align: middle;\n",
       "    }\n",
       "\n",
       "    .dataframe tbody tr th {\n",
       "        vertical-align: top;\n",
       "    }\n",
       "\n",
       "    .dataframe thead th {\n",
       "        text-align: right;\n",
       "    }\n",
       "</style>\n",
       "<table border=\"1\" class=\"dataframe\">\n",
       "  <thead>\n",
       "    <tr style=\"text-align: right;\">\n",
       "      <th></th>\n",
       "      <th>City</th>\n",
       "      <th>Population</th>\n",
       "      <th>Violent_crime</th>\n",
       "      <th>Murder and nonnegligent manslaughter</th>\n",
       "      <th>Rape</th>\n",
       "      <th>Robbery</th>\n",
       "      <th>Aggrevated_assault</th>\n",
       "      <th>Property_crime</th>\n",
       "      <th>Buglary</th>\n",
       "      <th>Larceny_theft</th>\n",
       "      <th>Motor-vehicle theft</th>\n",
       "      <th>Arson</th>\n",
       "    </tr>\n",
       "  </thead>\n",
       "  <tbody>\n",
       "    <tr>\n",
       "      <th>4</th>\n",
       "      <td>Adams Village</td>\n",
       "      <td>1861.0</td>\n",
       "      <td>0.0</td>\n",
       "      <td>0.0</td>\n",
       "      <td>0.0</td>\n",
       "      <td>0.0</td>\n",
       "      <td>0.0</td>\n",
       "      <td>12.0</td>\n",
       "      <td>2.0</td>\n",
       "      <td>10.0</td>\n",
       "      <td>0.0</td>\n",
       "      <td>0.0</td>\n",
       "    </tr>\n",
       "    <tr>\n",
       "      <th>5</th>\n",
       "      <td>Addison Town and Village</td>\n",
       "      <td>2577.0</td>\n",
       "      <td>3.0</td>\n",
       "      <td>0.0</td>\n",
       "      <td>0.0</td>\n",
       "      <td>0.0</td>\n",
       "      <td>3.0</td>\n",
       "      <td>24.0</td>\n",
       "      <td>3.0</td>\n",
       "      <td>20.0</td>\n",
       "      <td>1.0</td>\n",
       "      <td>0.0</td>\n",
       "    </tr>\n",
       "    <tr>\n",
       "      <th>6</th>\n",
       "      <td>Akron Village</td>\n",
       "      <td>2846.0</td>\n",
       "      <td>3.0</td>\n",
       "      <td>0.0</td>\n",
       "      <td>0.0</td>\n",
       "      <td>0.0</td>\n",
       "      <td>3.0</td>\n",
       "      <td>16.0</td>\n",
       "      <td>1.0</td>\n",
       "      <td>15.0</td>\n",
       "      <td>0.0</td>\n",
       "      <td>0.0</td>\n",
       "    </tr>\n",
       "    <tr>\n",
       "      <th>7</th>\n",
       "      <td>Albany</td>\n",
       "      <td>97956.0</td>\n",
       "      <td>791.0</td>\n",
       "      <td>8.0</td>\n",
       "      <td>30.0</td>\n",
       "      <td>227.0</td>\n",
       "      <td>526.0</td>\n",
       "      <td>NaN</td>\n",
       "      <td>705.0</td>\n",
       "      <td>NaN</td>\n",
       "      <td>142.0</td>\n",
       "      <td>NaN</td>\n",
       "    </tr>\n",
       "    <tr>\n",
       "      <th>8</th>\n",
       "      <td>Albion Village</td>\n",
       "      <td>6388.0</td>\n",
       "      <td>23.0</td>\n",
       "      <td>0.0</td>\n",
       "      <td>3.0</td>\n",
       "      <td>4.0</td>\n",
       "      <td>16.0</td>\n",
       "      <td>223.0</td>\n",
       "      <td>53.0</td>\n",
       "      <td>165.0</td>\n",
       "      <td>5.0</td>\n",
       "      <td>NaN</td>\n",
       "    </tr>\n",
       "  </tbody>\n",
       "</table>\n",
       "</div>"
      ],
      "text/plain": [
       "                       City  Population  Violent_crime  \\\n",
       "4             Adams Village      1861.0            0.0   \n",
       "5  Addison Town and Village      2577.0            3.0   \n",
       "6             Akron Village      2846.0            3.0   \n",
       "7                    Albany     97956.0          791.0   \n",
       "8            Albion Village      6388.0           23.0   \n",
       "\n",
       "   Murder and nonnegligent manslaughter  Rape  Robbery  Aggrevated_assault  \\\n",
       "4                                   0.0   0.0      0.0                 0.0   \n",
       "5                                   0.0   0.0      0.0                 3.0   \n",
       "6                                   0.0   0.0      0.0                 3.0   \n",
       "7                                   8.0  30.0    227.0               526.0   \n",
       "8                                   0.0   3.0      4.0                16.0   \n",
       "\n",
       "   Property_crime  Buglary  Larceny_theft  Motor-vehicle theft  Arson  \n",
       "4            12.0      2.0           10.0                  0.0    0.0  \n",
       "5            24.0      3.0           20.0                  1.0    0.0  \n",
       "6            16.0      1.0           15.0                  0.0    0.0  \n",
       "7             NaN    705.0            NaN                142.0    NaN  \n",
       "8           223.0     53.0          165.0                  5.0    NaN  "
      ]
     },
     "execution_count": 12,
     "metadata": {},
     "output_type": "execute_result"
    }
   ],
   "source": [
    "fbi_new.head()"
   ]
  },
  {
   "cell_type": "code",
   "execution_count": 13,
   "metadata": {},
   "outputs": [],
   "source": [
    "fbi_new.rename(columns={'Murder and nonnegligent manslaughter':'Murder'}, inplace = True)"
   ]
  },
  {
   "cell_type": "code",
   "execution_count": 14,
   "metadata": {},
   "outputs": [
    {
     "data": {
      "text/plain": [
       "<matplotlib.axes._subplots.AxesSubplot at 0x18f1392550>"
      ]
     },
     "execution_count": 14,
     "metadata": {},
     "output_type": "execute_result"
    },
    {
     "data": {
      "image/png": "[encoded data removed]",
      "text/plain": [
       "<Figure size 432x288 with 1 Axes>"
      ]
     },
     "metadata": {},
     "output_type": "display_data"
    }
   ],
   "source": [
    "sns.boxplot(fbi_new.Population)"
   ]
  },
  {
   "cell_type": "code",
   "execution_count": 15,
   "metadata": {},
   "outputs": [
    {
     "data": {
      "text/plain": [
       "<matplotlib.axes._subplots.AxesSubplot at 0x18f3442e48>"
      ]
     },
     "execution_count": 15,
     "metadata": {},
     "output_type": "execute_result"
    },
    {
     "data": {
      "image/png": "[encoded data removed]",
      "text/plain": [
       "<Figure size 432x288 with 1 Axes>"
      ]
     },
     "metadata": {},
     "output_type": "display_data"
    }
   ],
   "source": [
    "sns.boxplot(fbi_new.Aggrevated_assault)"
   ]
  },
  {
   "cell_type": "code",
   "execution_count": 16,
   "metadata": {},
   "outputs": [
    {
     "data": {
      "text/plain": [
       "<matplotlib.axes._subplots.AxesSubplot at 0x18f34a2c88>"
      ]
     },
     "execution_count": 16,
     "metadata": {},
     "output_type": "execute_result"
    },
    {
     "data": {
      "image/png": "[encoded data removed]",
      "text/plain": [
       "<Figure size 432x288 with 1 Axes>"
      ]
     },
     "metadata": {},
     "output_type": "display_data"
    }
   ],
   "source": [
    "sns.boxplot(fbi_new.Larceny_theft)"
   ]
  },
  {
   "cell_type": "code",
   "execution_count": 17,
   "metadata": {},
   "outputs": [
    {
     "data": {
      "text/plain": [
       "<matplotlib.axes._subplots.AxesSubplot at 0x18f350b978>"
      ]
     },
     "execution_count": 17,
     "metadata": {},
     "output_type": "execute_result"
    },
    {
     "data": {
      "image/png": "[encoded data removed]",
      "text/plain": [
       "<Figure size 432x288 with 1 Axes>"
      ]
     },
     "metadata": {},
     "output_type": "display_data"
    }
   ],
   "source": [
    "sns.boxplot(fbi_new.Arson)"
   ]
  },
  {
   "cell_type": "code",
   "execution_count": 18,
   "metadata": {},
   "outputs": [
    {
     "data": {
      "text/plain": [
       "<matplotlib.axes._subplots.AxesSubplot at 0x18f3578c50>"
      ]
     },
     "execution_count": 18,
     "metadata": {},
     "output_type": "execute_result"
    },
    {
     "data": {
      "image/png": "[encoded data removed]",
      "text/plain": [
       "<Figure size 432x288 with 1 Axes>"
      ]
     },
     "metadata": {},
     "output_type": "display_data"
    }
   ],
   "source": [
    "sns.boxplot(fbi_new.Violent_crime)"
   ]
  },
  {
   "cell_type": "code",
   "execution_count": 19,
   "metadata": {},
   "outputs": [
    {
     "data": {
      "text/plain": [
       "<matplotlib.axes._subplots.AxesSubplot at 0x18f35ce358>"
      ]
     },
     "execution_count": 19,
     "metadata": {},
     "output_type": "execute_result"
    },
    {
     "data": {
      "image/png": "[encoded data removed]",
      "text/plain": [
       "<Figure size 432x288 with 1 Axes>"
      ]
     },
     "metadata": {},
     "output_type": "display_data"
    }
   ],
   "source": [
    "sns.boxplot(fbi_new.Property_crime)"
   ]
  },
  {
   "cell_type": "code",
   "execution_count": 20,
   "metadata": {},
   "outputs": [
    {
     "data": {
      "text/plain": [
       "<matplotlib.axes._subplots.AxesSubplot at 0x18f3626780>"
      ]
     },
     "execution_count": 20,
     "metadata": {},
     "output_type": "execute_result"
    },
    {
     "data": {
      "image/png": "[encoded data removed]",
      "text/plain": [
       "<Figure size 432x288 with 1 Axes>"
      ]
     },
     "metadata": {},
     "output_type": "display_data"
    }
   ],
   "source": [
    "sns.boxplot(fbi_new.Murder)"
   ]
  },
  {
   "cell_type": "code",
   "execution_count": 21,
   "metadata": {},
   "outputs": [
    {
     "data": {
      "text/plain": [
       "<matplotlib.axes._subplots.AxesSubplot at 0x18f35cea90>"
      ]
     },
     "execution_count": 21,
     "metadata": {},
     "output_type": "execute_result"
    },
    {
     "data": {
      "image/png": "[encoded data removed]",
      "text/plain": [
       "<Figure size 432x288 with 1 Axes>"
      ]
     },
     "metadata": {},
     "output_type": "display_data"
    }
   ],
   "source": [
    "sns.boxplot(fbi_new.Rape)"
   ]
  },
  {
   "cell_type": "code",
   "execution_count": 22,
   "metadata": {},
   "outputs": [
    {
     "data": {
      "text/plain": [
       "<matplotlib.axes._subplots.AxesSubplot at 0x18f35ce780>"
      ]
     },
     "execution_count": 22,
     "metadata": {},
     "output_type": "execute_result"
    },
    {
     "data": {
      "image/png": "[encoded data removed]",
      "text/plain": [
       "<Figure size 432x288 with 1 Axes>"
      ]
     },
     "metadata": {},
     "output_type": "display_data"
    }
   ],
   "source": [
    "sns.boxplot(fbi_new.Robbery)"
   ]
  },
  {
   "cell_type": "code",
   "execution_count": 23,
   "metadata": {},
   "outputs": [
    {
     "data": {
      "text/plain": [
       "<matplotlib.axes._subplots.AxesSubplot at 0x18f373cc88>"
      ]
     },
     "execution_count": 23,
     "metadata": {},
     "output_type": "execute_result"
    },
    {
     "data": {
      "image/png": "[encoded data removed]",
      "text/plain": [
       "<Figure size 432x288 with 1 Axes>"
      ]
     },
     "metadata": {},
     "output_type": "display_data"
    }
   ],
   "source": [
    "sns.boxplot(fbi_new['Motor-vehicle theft'])"
   ]
  },
  {
   "cell_type": "code",
   "execution_count": 24,
   "metadata": {},
   "outputs": [],
   "source": [
    "#filled nans with the mean\n",
    "fbi_new.fillna(fbi_new.mean(), inplace = True)"
   ]
  },
  {
   "cell_type": "code",
   "execution_count": 25,
   "metadata": {},
   "outputs": [],
   "source": [
    "# removing outliers\n",
    "\n",
    "#fbi_new = fbi_new.loc[(fbi_new['Property_crime'] <=500)& (fbi_new['Aggrevated_assault'] <150) &(fbi_new['Larceny_theft'] <500)&(fbi_new['Arson'] <5) & (fbi_new['Violent_crime'] < 50) & (fbi_new['Murder'] <10) & (fbi_new['Rape'] <40) & (fbi_new['Robbery'] < 300) & (fbi_new['Motor-vehicle theft'] <200)]"
   ]
  },
  {
   "cell_type": "code",
   "execution_count": 26,
   "metadata": {},
   "outputs": [
    {
     "data": {
      "text/html": [
       "<div>\n",
       "<style scoped>\n",
       "    .dataframe tbody tr th:only-of-type {\n",
       "        vertical-align: middle;\n",
       "    }\n",
       "\n",
       "    .dataframe tbody tr th {\n",
       "        vertical-align: top;\n",
       "    }\n",
       "\n",
       "    .dataframe thead th {\n",
       "        text-align: right;\n",
       "    }\n",
       "</style>\n",
       "<table border=\"1\" class=\"dataframe\">\n",
       "  <thead>\n",
       "    <tr style=\"text-align: right;\">\n",
       "      <th></th>\n",
       "      <th>City</th>\n",
       "      <th>Population</th>\n",
       "      <th>Violent_crime</th>\n",
       "      <th>Murder</th>\n",
       "      <th>Rape</th>\n",
       "      <th>Robbery</th>\n",
       "      <th>Aggrevated_assault</th>\n",
       "      <th>Property_crime</th>\n",
       "      <th>Buglary</th>\n",
       "      <th>Larceny_theft</th>\n",
       "      <th>Motor-vehicle theft</th>\n",
       "      <th>Arson</th>\n",
       "    </tr>\n",
       "  </thead>\n",
       "  <tbody>\n",
       "    <tr>\n",
       "      <th>4</th>\n",
       "      <td>Adams Village</td>\n",
       "      <td>1861.0</td>\n",
       "      <td>0.0</td>\n",
       "      <td>0.0</td>\n",
       "      <td>0.0</td>\n",
       "      <td>0.0</td>\n",
       "      <td>0.0</td>\n",
       "      <td>12.000000</td>\n",
       "      <td>2.0</td>\n",
       "      <td>10.000000</td>\n",
       "      <td>0.0</td>\n",
       "      <td>0.000000</td>\n",
       "    </tr>\n",
       "    <tr>\n",
       "      <th>5</th>\n",
       "      <td>Addison Town and Village</td>\n",
       "      <td>2577.0</td>\n",
       "      <td>3.0</td>\n",
       "      <td>0.0</td>\n",
       "      <td>0.0</td>\n",
       "      <td>0.0</td>\n",
       "      <td>3.0</td>\n",
       "      <td>24.000000</td>\n",
       "      <td>3.0</td>\n",
       "      <td>20.000000</td>\n",
       "      <td>1.0</td>\n",
       "      <td>0.000000</td>\n",
       "    </tr>\n",
       "    <tr>\n",
       "      <th>6</th>\n",
       "      <td>Akron Village</td>\n",
       "      <td>2846.0</td>\n",
       "      <td>3.0</td>\n",
       "      <td>0.0</td>\n",
       "      <td>0.0</td>\n",
       "      <td>0.0</td>\n",
       "      <td>3.0</td>\n",
       "      <td>16.000000</td>\n",
       "      <td>1.0</td>\n",
       "      <td>15.000000</td>\n",
       "      <td>0.0</td>\n",
       "      <td>0.000000</td>\n",
       "    </tr>\n",
       "    <tr>\n",
       "      <th>7</th>\n",
       "      <td>Albany</td>\n",
       "      <td>97956.0</td>\n",
       "      <td>791.0</td>\n",
       "      <td>8.0</td>\n",
       "      <td>30.0</td>\n",
       "      <td>227.0</td>\n",
       "      <td>526.0</td>\n",
       "      <td>183.918239</td>\n",
       "      <td>705.0</td>\n",
       "      <td>167.944785</td>\n",
       "      <td>142.0</td>\n",
       "      <td>1.871658</td>\n",
       "    </tr>\n",
       "    <tr>\n",
       "      <th>8</th>\n",
       "      <td>Albion Village</td>\n",
       "      <td>6388.0</td>\n",
       "      <td>23.0</td>\n",
       "      <td>0.0</td>\n",
       "      <td>3.0</td>\n",
       "      <td>4.0</td>\n",
       "      <td>16.0</td>\n",
       "      <td>223.000000</td>\n",
       "      <td>53.0</td>\n",
       "      <td>165.000000</td>\n",
       "      <td>5.0</td>\n",
       "      <td>1.871658</td>\n",
       "    </tr>\n",
       "  </tbody>\n",
       "</table>\n",
       "</div>"
      ],
      "text/plain": [
       "                       City  Population  Violent_crime  Murder  Rape  Robbery  \\\n",
       "4             Adams Village      1861.0            0.0     0.0   0.0      0.0   \n",
       "5  Addison Town and Village      2577.0            3.0     0.0   0.0      0.0   \n",
       "6             Akron Village      2846.0            3.0     0.0   0.0      0.0   \n",
       "7                    Albany     97956.0          791.0     8.0  30.0    227.0   \n",
       "8            Albion Village      6388.0           23.0     0.0   3.0      4.0   \n",
       "\n",
       "   Aggrevated_assault  Property_crime  Buglary  Larceny_theft  \\\n",
       "4                 0.0       12.000000      2.0      10.000000   \n",
       "5                 3.0       24.000000      3.0      20.000000   \n",
       "6                 3.0       16.000000      1.0      15.000000   \n",
       "7               526.0      183.918239    705.0     167.944785   \n",
       "8                16.0      223.000000     53.0     165.000000   \n",
       "\n",
       "   Motor-vehicle theft     Arson  \n",
       "4                  0.0  0.000000  \n",
       "5                  1.0  0.000000  \n",
       "6                  0.0  0.000000  \n",
       "7                142.0  1.871658  \n",
       "8                  5.0  1.871658  "
      ]
     },
     "execution_count": 26,
     "metadata": {},
     "output_type": "execute_result"
    }
   ],
   "source": [
    "fbi_new.head()"
   ]
  },
  {
   "cell_type": "code",
   "execution_count": 27,
   "metadata": {},
   "outputs": [],
   "source": [
    "#sns.distplot(fbi_new.Robbery, bins = 5)"
   ]
  },
  {
   "cell_type": "code",
   "execution_count": 28,
   "metadata": {},
   "outputs": [],
   "source": [
    "features = pd.DataFrame(fbi_new.Population)\n",
    "features['Population_sqrd'] = features['Population'] ** 2\n",
    "features['Murder'] = np.where(fbi_new['Murder'] >0, 1,0) \n",
    "features['Robbery'] = np.where(fbi_new['Robbery'] >0, 1,0) \n",
    "features['Property_crime'] = fbi_new['Property_crime']"
   ]
  },
  {
   "cell_type": "code",
   "execution_count": 29,
   "metadata": {},
   "outputs": [
    {
     "data": {
      "text/html": [
       "<div>\n",
       "<style scoped>\n",
       "    .dataframe tbody tr th:only-of-type {\n",
       "        vertical-align: middle;\n",
       "    }\n",
       "\n",
       "    .dataframe tbody tr th {\n",
       "        vertical-align: top;\n",
       "    }\n",
       "\n",
       "    .dataframe thead th {\n",
       "        text-align: right;\n",
       "    }\n",
       "</style>\n",
       "<table border=\"1\" class=\"dataframe\">\n",
       "  <thead>\n",
       "    <tr style=\"text-align: right;\">\n",
       "      <th></th>\n",
       "      <th>Population</th>\n",
       "      <th>Population_sqrd</th>\n",
       "      <th>Murder</th>\n",
       "      <th>Robbery</th>\n",
       "      <th>Property_crime</th>\n",
       "    </tr>\n",
       "  </thead>\n",
       "  <tbody>\n",
       "    <tr>\n",
       "      <th>4</th>\n",
       "      <td>1861.0</td>\n",
       "      <td>3.463321e+06</td>\n",
       "      <td>0</td>\n",
       "      <td>0</td>\n",
       "      <td>12.000000</td>\n",
       "    </tr>\n",
       "    <tr>\n",
       "      <th>5</th>\n",
       "      <td>2577.0</td>\n",
       "      <td>6.640929e+06</td>\n",
       "      <td>0</td>\n",
       "      <td>0</td>\n",
       "      <td>24.000000</td>\n",
       "    </tr>\n",
       "    <tr>\n",
       "      <th>6</th>\n",
       "      <td>2846.0</td>\n",
       "      <td>8.099716e+06</td>\n",
       "      <td>0</td>\n",
       "      <td>0</td>\n",
       "      <td>16.000000</td>\n",
       "    </tr>\n",
       "    <tr>\n",
       "      <th>7</th>\n",
       "      <td>97956.0</td>\n",
       "      <td>9.595378e+09</td>\n",
       "      <td>1</td>\n",
       "      <td>1</td>\n",
       "      <td>183.918239</td>\n",
       "    </tr>\n",
       "    <tr>\n",
       "      <th>8</th>\n",
       "      <td>6388.0</td>\n",
       "      <td>4.080654e+07</td>\n",
       "      <td>0</td>\n",
       "      <td>1</td>\n",
       "      <td>223.000000</td>\n",
       "    </tr>\n",
       "  </tbody>\n",
       "</table>\n",
       "</div>"
      ],
      "text/plain": [
       "   Population  Population_sqrd  Murder  Robbery  Property_crime\n",
       "4      1861.0     3.463321e+06       0        0       12.000000\n",
       "5      2577.0     6.640929e+06       0        0       24.000000\n",
       "6      2846.0     8.099716e+06       0        0       16.000000\n",
       "7     97956.0     9.595378e+09       1        1      183.918239\n",
       "8      6388.0     4.080654e+07       0        1      223.000000"
      ]
     },
     "execution_count": 29,
     "metadata": {},
     "output_type": "execute_result"
    }
   ],
   "source": [
    "features.head()"
   ]
  },
  {
   "cell_type": "code",
   "execution_count": 30,
   "metadata": {},
   "outputs": [
    {
     "name": "stdout",
     "output_type": "stream",
     "text": [
      "\n",
      "Coeffiicients: \n",
      " [[ 1.82166185e-04 -2.43379817e-11  1.28613078e+02  1.94038971e+02]]\n",
      "\n",
      "Intercept: \n",
      " [46.93463373]\n",
      "\n",
      "R-squared:\n",
      "0.34041015862890944\n"
     ]
    }
   ],
   "source": [
    "regr = linear_model.LinearRegression()\n",
    "Y = features['Property_crime'].values.reshape(-1, 1)\n",
    "X = features[['Population', 'Population_sqrd', 'Murder', 'Robbery']]\n",
    "regr.fit(X, Y)\n",
    "\n",
    "print('\\nCoeffiicients: \\n', regr.coef_)\n",
    "print('\\nIntercept: \\n', regr.intercept_)\n",
    "print('\\nR-squared:')\n",
    "print(regr.score(X,Y))"
   ]
  },
  {
   "cell_type": "markdown",
   "metadata": {},
   "source": [
    "# Creation of New Features"
   ]
  },
  {
   "cell_type": "code",
   "execution_count": 31,
   "metadata": {},
   "outputs": [],
   "source": [
    "features_new = pd.DataFrame(fbi_new.Population)\n",
    "features_new['Property_crime_per_capita'] = fbi_new['Property_crime'] /fbi_new['Population']\n",
    "features_new['Larceny_per_capita'] = fbi_new['Larceny_theft'] / fbi_new['Population']\n",
    "features_new['Buglary_per_capita'] = fbi_new['Buglary'] / fbi_new['Population']\n",
    "features_new['Violent_crime_per_capita'] = fbi_new['Violent_crime'] / fbi_new['Population']\n",
    "features_new['Vehicle_theft_per_capita'] = fbi_new['Motor-vehicle theft'] / fbi_new['Population']\n",
    "features_new['Arson_per_capita'] = fbi_new['Arson']  / fbi_new['Population']\n",
    "features_new['Aggrevated_assault_per_capita'] = fbi_new['Aggrevated_assault'] / fbi_new['Population']\n",
    "features_new['Rape_per_capita'] = fbi_new['Rape'] / fbi_new['Population']"
   ]
  },
  {
   "cell_type": "code",
   "execution_count": 32,
   "metadata": {},
   "outputs": [
    {
     "data": {
      "text/html": [
       "<div>\n",
       "<style scoped>\n",
       "    .dataframe tbody tr th:only-of-type {\n",
       "        vertical-align: middle;\n",
       "    }\n",
       "\n",
       "    .dataframe tbody tr th {\n",
       "        vertical-align: top;\n",
       "    }\n",
       "\n",
       "    .dataframe thead th {\n",
       "        text-align: right;\n",
       "    }\n",
       "</style>\n",
       "<table border=\"1\" class=\"dataframe\">\n",
       "  <thead>\n",
       "    <tr style=\"text-align: right;\">\n",
       "      <th></th>\n",
       "      <th>Population</th>\n",
       "      <th>Property_crime_per_capita</th>\n",
       "      <th>Larceny_per_capita</th>\n",
       "      <th>Buglary_per_capita</th>\n",
       "      <th>Violent_crime_per_capita</th>\n",
       "      <th>Vehicle_theft_per_capita</th>\n",
       "      <th>Arson_per_capita</th>\n",
       "      <th>Aggrevated_assault_per_capita</th>\n",
       "      <th>Rape_per_capita</th>\n",
       "    </tr>\n",
       "  </thead>\n",
       "  <tbody>\n",
       "    <tr>\n",
       "      <th>Population</th>\n",
       "      <td>1.000000</td>\n",
       "      <td>-0.077448</td>\n",
       "      <td>-0.074871</td>\n",
       "      <td>-0.057987</td>\n",
       "      <td>-0.031947</td>\n",
       "      <td>-0.014345</td>\n",
       "      <td>-0.046962</td>\n",
       "      <td>-0.030283</td>\n",
       "      <td>-0.016613</td>\n",
       "    </tr>\n",
       "    <tr>\n",
       "      <th>Property_crime_per_capita</th>\n",
       "      <td>-0.077448</td>\n",
       "      <td>1.000000</td>\n",
       "      <td>0.957260</td>\n",
       "      <td>0.604544</td>\n",
       "      <td>0.269117</td>\n",
       "      <td>0.217130</td>\n",
       "      <td>0.315074</td>\n",
       "      <td>0.263281</td>\n",
       "      <td>0.293247</td>\n",
       "    </tr>\n",
       "    <tr>\n",
       "      <th>Larceny_per_capita</th>\n",
       "      <td>-0.074871</td>\n",
       "      <td>0.957260</td>\n",
       "      <td>1.000000</td>\n",
       "      <td>0.567194</td>\n",
       "      <td>0.302314</td>\n",
       "      <td>0.231567</td>\n",
       "      <td>0.287803</td>\n",
       "      <td>0.284747</td>\n",
       "      <td>0.316379</td>\n",
       "    </tr>\n",
       "    <tr>\n",
       "      <th>Buglary_per_capita</th>\n",
       "      <td>-0.057987</td>\n",
       "      <td>0.604544</td>\n",
       "      <td>0.567194</td>\n",
       "      <td>1.000000</td>\n",
       "      <td>0.681289</td>\n",
       "      <td>0.409274</td>\n",
       "      <td>0.263320</td>\n",
       "      <td>0.641645</td>\n",
       "      <td>0.427849</td>\n",
       "    </tr>\n",
       "    <tr>\n",
       "      <th>Violent_crime_per_capita</th>\n",
       "      <td>-0.031947</td>\n",
       "      <td>0.269117</td>\n",
       "      <td>0.302314</td>\n",
       "      <td>0.681289</td>\n",
       "      <td>1.000000</td>\n",
       "      <td>0.423320</td>\n",
       "      <td>0.120777</td>\n",
       "      <td>0.939125</td>\n",
       "      <td>0.555703</td>\n",
       "    </tr>\n",
       "    <tr>\n",
       "      <th>Vehicle_theft_per_capita</th>\n",
       "      <td>-0.014345</td>\n",
       "      <td>0.217130</td>\n",
       "      <td>0.231567</td>\n",
       "      <td>0.409274</td>\n",
       "      <td>0.423320</td>\n",
       "      <td>1.000000</td>\n",
       "      <td>0.105357</td>\n",
       "      <td>0.409776</td>\n",
       "      <td>0.265596</td>\n",
       "    </tr>\n",
       "    <tr>\n",
       "      <th>Arson_per_capita</th>\n",
       "      <td>-0.046962</td>\n",
       "      <td>0.315074</td>\n",
       "      <td>0.287803</td>\n",
       "      <td>0.263320</td>\n",
       "      <td>0.120777</td>\n",
       "      <td>0.105357</td>\n",
       "      <td>1.000000</td>\n",
       "      <td>0.160751</td>\n",
       "      <td>0.143939</td>\n",
       "    </tr>\n",
       "    <tr>\n",
       "      <th>Aggrevated_assault_per_capita</th>\n",
       "      <td>-0.030283</td>\n",
       "      <td>0.263281</td>\n",
       "      <td>0.284747</td>\n",
       "      <td>0.641645</td>\n",
       "      <td>0.939125</td>\n",
       "      <td>0.409776</td>\n",
       "      <td>0.160751</td>\n",
       "      <td>1.000000</td>\n",
       "      <td>0.509403</td>\n",
       "    </tr>\n",
       "    <tr>\n",
       "      <th>Rape_per_capita</th>\n",
       "      <td>-0.016613</td>\n",
       "      <td>0.293247</td>\n",
       "      <td>0.316379</td>\n",
       "      <td>0.427849</td>\n",
       "      <td>0.555703</td>\n",
       "      <td>0.265596</td>\n",
       "      <td>0.143939</td>\n",
       "      <td>0.509403</td>\n",
       "      <td>1.000000</td>\n",
       "    </tr>\n",
       "  </tbody>\n",
       "</table>\n",
       "</div>"
      ],
      "text/plain": [
       "                               Population  Property_crime_per_capita  \\\n",
       "Population                       1.000000                  -0.077448   \n",
       "Property_crime_per_capita       -0.077448                   1.000000   \n",
       "Larceny_per_capita              -0.074871                   0.957260   \n",
       "Buglary_per_capita              -0.057987                   0.604544   \n",
       "Violent_crime_per_capita        -0.031947                   0.269117   \n",
       "Vehicle_theft_per_capita        -0.014345                   0.217130   \n",
       "Arson_per_capita                -0.046962                   0.315074   \n",
       "Aggrevated_assault_per_capita   -0.030283                   0.263281   \n",
       "Rape_per_capita                 -0.016613                   0.293247   \n",
       "\n",
       "                               Larceny_per_capita  Buglary_per_capita  \\\n",
       "Population                              -0.074871           -0.057987   \n",
       "Property_crime_per_capita                0.957260            0.604544   \n",
       "Larceny_per_capita                       1.000000            0.567194   \n",
       "Buglary_per_capita                       0.567194            1.000000   \n",
       "Violent_crime_per_capita                 0.302314            0.681289   \n",
       "Vehicle_theft_per_capita                 0.231567            0.409274   \n",
       "Arson_per_capita                         0.287803            0.263320   \n",
       "Aggrevated_assault_per_capita            0.284747            0.641645   \n",
       "Rape_per_capita                          0.316379            0.427849   \n",
       "\n",
       "                               Violent_crime_per_capita  \\\n",
       "Population                                    -0.031947   \n",
       "Property_crime_per_capita                      0.269117   \n",
       "Larceny_per_capita                             0.302314   \n",
       "Buglary_per_capita                             0.681289   \n",
       "Violent_crime_per_capita                       1.000000   \n",
       "Vehicle_theft_per_capita                       0.423320   \n",
       "Arson_per_capita                               0.120777   \n",
       "Aggrevated_assault_per_capita                  0.939125   \n",
       "Rape_per_capita                                0.555703   \n",
       "\n",
       "                               Vehicle_theft_per_capita  Arson_per_capita  \\\n",
       "Population                                    -0.014345         -0.046962   \n",
       "Property_crime_per_capita                      0.217130          0.315074   \n",
       "Larceny_per_capita                             0.231567          0.287803   \n",
       "Buglary_per_capita                             0.409274          0.263320   \n",
       "Violent_crime_per_capita                       0.423320          0.120777   \n",
       "Vehicle_theft_per_capita                       1.000000          0.105357   \n",
       "Arson_per_capita                               0.105357          1.000000   \n",
       "Aggrevated_assault_per_capita                  0.409776          0.160751   \n",
       "Rape_per_capita                                0.265596          0.143939   \n",
       "\n",
       "                               Aggrevated_assault_per_capita  Rape_per_capita  \n",
       "Population                                         -0.030283        -0.016613  \n",
       "Property_crime_per_capita                           0.263281         0.293247  \n",
       "Larceny_per_capita                                  0.284747         0.316379  \n",
       "Buglary_per_capita                                  0.641645         0.427849  \n",
       "Violent_crime_per_capita                            0.939125         0.555703  \n",
       "Vehicle_theft_per_capita                            0.409776         0.265596  \n",
       "Arson_per_capita                                    0.160751         0.143939  \n",
       "Aggrevated_assault_per_capita                       1.000000         0.509403  \n",
       "Rape_per_capita                                     0.509403         1.000000  "
      ]
     },
     "execution_count": 32,
     "metadata": {},
     "output_type": "execute_result"
    }
   ],
   "source": [
    "features_new.corr()"
   ]
  },
  {
   "cell_type": "code",
   "execution_count": 33,
   "metadata": {},
   "outputs": [
    {
     "name": "stdout",
     "output_type": "stream",
     "text": [
      "\n",
      "Coefficients: \n",
      " [[ 1.04748435  0.93615781 -0.96159032]]\n",
      "\n",
      "Intercept: \n",
      " [0.00039258]\n",
      "\n",
      "R-squared:\n",
      "0.930373621310551\n"
     ]
    }
   ],
   "source": [
    "Y_one = features_new['Property_crime_per_capita'].values.reshape(-1, 1)\n",
    "X_one = features_new[['Larceny_per_capita', 'Buglary_per_capita','Violent_crime_per_capita']]\n",
    "regr.fit(X_one, Y_one)\n",
    "\n",
    "print('\\nCoefficients: \\n', regr.coef_)\n",
    "print('\\nIntercept: \\n', regr.intercept_)\n",
    "print('\\nR-squared:')\n",
    "print(regr.score(X_one,Y_one))"
   ]
  },
  {
   "cell_type": "code",
   "execution_count": 34,
   "metadata": {},
   "outputs": [
    {
     "data": {
      "image/png": "[encoded data removed]",
      "text/plain": [
       "<Figure size 432x288 with 1 Axes>"
      ]
     },
     "metadata": {},
     "output_type": "display_data"
    }
   ],
   "source": [
    "predicted = regr.predict(X_one).ravel()\n",
    "actual= features_new['Property_crime_per_capita']\n",
    "\n",
    "residual = actual - predicted\n",
    "\n",
    "plt.hist(residual)\n",
    "plt.title('Residual Counts')\n",
    "plt.xlabel('Residual')\n",
    "plt.ylabel('Count')\n",
    "plt.show()"
   ]
  },
  {
   "cell_type": "code",
   "execution_count": 35,
   "metadata": {},
   "outputs": [
    {
     "data": {
      "image/png": "[encoded data removed]",
      "text/plain": [
       "<Figure size 432x288 with 1 Axes>"
      ]
     },
     "metadata": {},
     "output_type": "display_data"
    }
   ],
   "source": [
    "plt.scatter(predicted, residual)\n",
    "plt.xlabel('Predicted')\n",
    "plt.ylabel('Residual')\n",
    "plt.axhline(y=0)\n",
    "plt.title('Residual vs.Predicted')\n",
    "plt.show()"
   ]
  },
  {
   "cell_type": "code",
   "execution_count": 36,
   "metadata": {},
   "outputs": [
    {
     "data": {
      "text/plain": [
       "0.930373621310551"
      ]
     },
     "execution_count": 36,
     "metadata": {},
     "output_type": "execute_result"
    }
   ],
   "source": [
    "r2_score(actual, predicted)"
   ]
  },
  {
   "cell_type": "code",
   "execution_count": 37,
   "metadata": {},
   "outputs": [
    {
     "data": {
      "text/html": [
       "<div>\n",
       "<style scoped>\n",
       "    .dataframe tbody tr th:only-of-type {\n",
       "        vertical-align: middle;\n",
       "    }\n",
       "\n",
       "    .dataframe tbody tr th {\n",
       "        vertical-align: top;\n",
       "    }\n",
       "\n",
       "    .dataframe thead th {\n",
       "        text-align: right;\n",
       "    }\n",
       "</style>\n",
       "<table border=\"1\" class=\"dataframe\">\n",
       "  <thead>\n",
       "    <tr style=\"text-align: right;\">\n",
       "      <th></th>\n",
       "      <th>Larceny_per_capita</th>\n",
       "      <th>Buglary_per_capita</th>\n",
       "      <th>Violent_crime_per_capita</th>\n",
       "    </tr>\n",
       "  </thead>\n",
       "  <tbody>\n",
       "    <tr>\n",
       "      <th>Larceny_per_capita</th>\n",
       "      <td>1.000000</td>\n",
       "      <td>0.567194</td>\n",
       "      <td>0.302314</td>\n",
       "    </tr>\n",
       "    <tr>\n",
       "      <th>Buglary_per_capita</th>\n",
       "      <td>0.567194</td>\n",
       "      <td>1.000000</td>\n",
       "      <td>0.681289</td>\n",
       "    </tr>\n",
       "    <tr>\n",
       "      <th>Violent_crime_per_capita</th>\n",
       "      <td>0.302314</td>\n",
       "      <td>0.681289</td>\n",
       "      <td>1.000000</td>\n",
       "    </tr>\n",
       "  </tbody>\n",
       "</table>\n",
       "</div>"
      ],
      "text/plain": [
       "                          Larceny_per_capita  Buglary_per_capita  \\\n",
       "Larceny_per_capita                  1.000000            0.567194   \n",
       "Buglary_per_capita                  0.567194            1.000000   \n",
       "Violent_crime_per_capita            0.302314            0.681289   \n",
       "\n",
       "                          Violent_crime_per_capita  \n",
       "Larceny_per_capita                        0.302314  \n",
       "Buglary_per_capita                        0.681289  \n",
       "Violent_crime_per_capita                  1.000000  "
      ]
     },
     "metadata": {},
     "output_type": "display_data"
    }
   ],
   "source": [
    "correlation_matrix = X_one.corr()\n",
    "display(correlation_matrix)"
   ]
  },
  {
   "cell_type": "code",
   "execution_count": 38,
   "metadata": {},
   "outputs": [],
   "source": [
    "linear_formula = 'Property_crime_per_capita ~ Larceny_per_capita+Buglary_per_capita + Violent_crime_per_capita' \n",
    "\n",
    "lm_new = smf.ols(formula=linear_formula, data = features_new).fit()"
   ]
  },
  {
   "cell_type": "code",
   "execution_count": 39,
   "metadata": {},
   "outputs": [
    {
     "name": "stdout",
     "output_type": "stream",
     "text": [
      "                                OLS Regression Results                               \n",
      "=====================================================================================\n",
      "Dep. Variable:     Property_crime_per_capita   R-squared:                       0.930\n",
      "Model:                                   OLS   Adj. R-squared:                  0.930\n",
      "Method:                        Least Squares   F-statistic:                     1532.\n",
      "Date:                       Thu, 07 Jun 2018   Prob (F-statistic):          1.30e-198\n",
      "Time:                               10:41:13   Log-Likelihood:                 1449.8\n",
      "No. Observations:                        348   AIC:                            -2892.\n",
      "Df Residuals:                            344   BIC:                            -2876.\n",
      "Df Model:                                  3                                         \n",
      "Covariance Type:                   nonrobust                                         \n",
      "============================================================================================\n",
      "                               coef    std err          t      P>|t|      [0.025      0.975]\n",
      "--------------------------------------------------------------------------------------------\n",
      "Intercept                    0.0004      0.000      1.185      0.237      -0.000       0.001\n",
      "Larceny_per_capita           1.0475      0.021     51.020      0.000       1.007       1.088\n",
      "Buglary_per_capita           0.9362      0.114      8.190      0.000       0.711       1.161\n",
      "Violent_crime_per_capita    -0.9616      0.149     -6.455      0.000      -1.255      -0.669\n",
      "==============================================================================\n",
      "Omnibus:                      409.376   Durbin-Watson:                   2.025\n",
      "Prob(Omnibus):                  0.000   Jarque-Bera (JB):            22686.508\n",
      "Skew:                          -5.387   Prob(JB):                         0.00\n",
      "Kurtosis:                      41.059   Cond. No.                         851.\n",
      "==============================================================================\n",
      "\n",
      "Warnings:\n",
      "[1] Standard Errors assume that the covariance matrix of the errors is correctly specified.\n"
     ]
    }
   ],
   "source": [
    "print(lm_new.summary())"
   ]
  },
  {
   "cell_type": "code",
   "execution_count": 40,
   "metadata": {},
   "outputs": [
    {
     "data": {
      "text/plain": [
       "Intercept                   0.000393\n",
       "Larceny_per_capita          1.047484\n",
       "Buglary_per_capita          0.936158\n",
       "Violent_crime_per_capita   -0.961590\n",
       "dtype: float64"
      ]
     },
     "execution_count": 40,
     "metadata": {},
     "output_type": "execute_result"
    }
   ],
   "source": [
    "lm_new.params"
   ]
  },
  {
   "cell_type": "code",
   "execution_count": 41,
   "metadata": {},
   "outputs": [
    {
     "data": {
      "text/plain": [
       "Intercept                    2.370293e-01\n",
       "Larceny_per_capita          1.631472e-162\n",
       "Buglary_per_capita           5.196809e-15\n",
       "Violent_crime_per_capita     3.675549e-10\n",
       "dtype: float64"
      ]
     },
     "execution_count": 41,
     "metadata": {},
     "output_type": "execute_result"
    }
   ],
   "source": [
    "lm_new.pvalues"
   ]
  },
  {
   "cell_type": "code",
   "execution_count": 42,
   "metadata": {},
   "outputs": [
    {
     "data": {
      "text/plain": [
       "0.930373621310551"
      ]
     },
     "execution_count": 42,
     "metadata": {},
     "output_type": "execute_result"
    }
   ],
   "source": [
    "lm_new.rsquared"
   ]
  },
  {
   "cell_type": "code",
   "execution_count": 43,
   "metadata": {},
   "outputs": [
    {
     "data": {
      "text/html": [
       "<div>\n",
       "<style scoped>\n",
       "    .dataframe tbody tr th:only-of-type {\n",
       "        vertical-align: middle;\n",
       "    }\n",
       "\n",
       "    .dataframe tbody tr th {\n",
       "        vertical-align: top;\n",
       "    }\n",
       "\n",
       "    .dataframe thead th {\n",
       "        text-align: right;\n",
       "    }\n",
       "</style>\n",
       "<table border=\"1\" class=\"dataframe\">\n",
       "  <thead>\n",
       "    <tr style=\"text-align: right;\">\n",
       "      <th></th>\n",
       "      <th>0</th>\n",
       "      <th>1</th>\n",
       "    </tr>\n",
       "  </thead>\n",
       "  <tbody>\n",
       "    <tr>\n",
       "      <th>Intercept</th>\n",
       "      <td>-0.000259</td>\n",
       "      <td>0.001044</td>\n",
       "    </tr>\n",
       "    <tr>\n",
       "      <th>Larceny_per_capita</th>\n",
       "      <td>1.007103</td>\n",
       "      <td>1.087866</td>\n",
       "    </tr>\n",
       "    <tr>\n",
       "      <th>Buglary_per_capita</th>\n",
       "      <td>0.711320</td>\n",
       "      <td>1.160996</td>\n",
       "    </tr>\n",
       "    <tr>\n",
       "      <th>Violent_crime_per_capita</th>\n",
       "      <td>-1.254577</td>\n",
       "      <td>-0.668603</td>\n",
       "    </tr>\n",
       "  </tbody>\n",
       "</table>\n",
       "</div>"
      ],
      "text/plain": [
       "                                 0         1\n",
       "Intercept                -0.000259  0.001044\n",
       "Larceny_per_capita        1.007103  1.087866\n",
       "Buglary_per_capita        0.711320  1.160996\n",
       "Violent_crime_per_capita -1.254577 -0.668603"
      ]
     },
     "execution_count": 43,
     "metadata": {},
     "output_type": "execute_result"
    }
   ],
   "source": [
    "lm_new.conf_int()"
   ]
  },
  {
   "cell_type": "code",
   "execution_count": 44,
   "metadata": {},
   "outputs": [
    {
     "data": {
      "text/plain": [
       "array([0.97838101, 0.98677633, 0.91013262, 0.79701696, 0.87842161,\n",
       "       0.90183278, 0.99059443, 0.96459141, 0.98003892, 0.78153843])"
      ]
     },
     "execution_count": 44,
     "metadata": {},
     "output_type": "execute_result"
    }
   ],
   "source": [
    "cross_val_score(regr, X_one, Y_one, cv=10)"
   ]
  },
  {
   "cell_type": "markdown",
   "metadata": {},
   "source": [
    "# NY 2014(different year)"
   ]
  },
  {
   "cell_type": "markdown",
   "metadata": {},
   "source": [
    "## Cleaning the Data"
   ]
  },
  {
   "cell_type": "code",
   "execution_count": 45,
   "metadata": {},
   "outputs": [],
   "source": [
    "new_table = pd.read_csv(r'C:\\Users\\owner\\projects\\table_8_2014.csv', encoding='ISO-8859-1')"
   ]
  },
  {
   "cell_type": "code",
   "execution_count": 46,
   "metadata": {},
   "outputs": [
    {
     "data": {
      "text/html": [
       "<div>\n",
       "<style scoped>\n",
       "    .dataframe tbody tr th:only-of-type {\n",
       "        vertical-align: middle;\n",
       "    }\n",
       "\n",
       "    .dataframe tbody tr th {\n",
       "        vertical-align: top;\n",
       "    }\n",
       "\n",
       "    .dataframe thead th {\n",
       "        text-align: right;\n",
       "    }\n",
       "</style>\n",
       "<table border=\"1\" class=\"dataframe\">\n",
       "  <thead>\n",
       "    <tr style=\"text-align: right;\">\n",
       "      <th></th>\n",
       "      <th>Table 8</th>\n",
       "      <th>Unnamed: 1</th>\n",
       "      <th>Unnamed: 2</th>\n",
       "      <th>Unnamed: 3</th>\n",
       "      <th>Unnamed: 4</th>\n",
       "      <th>Unnamed: 5</th>\n",
       "      <th>Unnamed: 6</th>\n",
       "      <th>Unnamed: 7</th>\n",
       "      <th>Unnamed: 8</th>\n",
       "      <th>Unnamed: 9</th>\n",
       "      <th>Unnamed: 10</th>\n",
       "      <th>Unnamed: 11</th>\n",
       "      <th>Unnamed: 12</th>\n",
       "      <th>Unnamed: 13</th>\n",
       "    </tr>\n",
       "  </thead>\n",
       "  <tbody>\n",
       "    <tr>\n",
       "      <th>0</th>\n",
       "      <td>NEW YORK</td>\n",
       "      <td>NaN</td>\n",
       "      <td>NaN</td>\n",
       "      <td>NaN</td>\n",
       "      <td>NaN</td>\n",
       "      <td>NaN</td>\n",
       "      <td>NaN</td>\n",
       "      <td>NaN</td>\n",
       "      <td>NaN</td>\n",
       "      <td>NaN</td>\n",
       "      <td>NaN</td>\n",
       "      <td>NaN</td>\n",
       "      <td>NaN</td>\n",
       "      <td>NaN</td>\n",
       "    </tr>\n",
       "    <tr>\n",
       "      <th>1</th>\n",
       "      <td>Offenses Known to Law Enforcement</td>\n",
       "      <td>NaN</td>\n",
       "      <td>NaN</td>\n",
       "      <td>NaN</td>\n",
       "      <td>NaN</td>\n",
       "      <td></td>\n",
       "      <td>NaN</td>\n",
       "      <td>NaN</td>\n",
       "      <td>NaN</td>\n",
       "      <td>NaN</td>\n",
       "      <td>NaN</td>\n",
       "      <td>NaN</td>\n",
       "      <td>NaN</td>\n",
       "      <td>NaN</td>\n",
       "    </tr>\n",
       "    <tr>\n",
       "      <th>2</th>\n",
       "      <td>by City, 2014</td>\n",
       "      <td>NaN</td>\n",
       "      <td>NaN</td>\n",
       "      <td>NaN</td>\n",
       "      <td>NaN</td>\n",
       "      <td>NaN</td>\n",
       "      <td>NaN</td>\n",
       "      <td>NaN</td>\n",
       "      <td>NaN</td>\n",
       "      <td>NaN</td>\n",
       "      <td>NaN</td>\n",
       "      <td>NaN</td>\n",
       "      <td>NaN</td>\n",
       "      <td>NaN</td>\n",
       "    </tr>\n",
       "    <tr>\n",
       "      <th>3</th>\n",
       "      <td>City</td>\n",
       "      <td>Population</td>\n",
       "      <td>Violent\\ncrime</td>\n",
       "      <td>Murder and\\nnonnegligent\\nmanslaughter</td>\n",
       "      <td>Rape\\n(revised\\ndefinition)1</td>\n",
       "      <td>Rape\\n(legacy\\ndefinition)2</td>\n",
       "      <td>Robbery</td>\n",
       "      <td>Aggravated\\nassault</td>\n",
       "      <td>Property\\ncrime</td>\n",
       "      <td>Burglary</td>\n",
       "      <td>Larceny-\\ntheft</td>\n",
       "      <td>Motor\\nvehicle\\ntheft</td>\n",
       "      <td>Arson3</td>\n",
       "      <td>NaN</td>\n",
       "    </tr>\n",
       "    <tr>\n",
       "      <th>4</th>\n",
       "      <td>Adams Village</td>\n",
       "      <td>1,851</td>\n",
       "      <td>0</td>\n",
       "      <td>0</td>\n",
       "      <td>NaN</td>\n",
       "      <td>0</td>\n",
       "      <td>0</td>\n",
       "      <td>0</td>\n",
       "      <td>11</td>\n",
       "      <td>1</td>\n",
       "      <td>10</td>\n",
       "      <td>0</td>\n",
       "      <td>0</td>\n",
       "      <td>NaN</td>\n",
       "    </tr>\n",
       "  </tbody>\n",
       "</table>\n",
       "</div>"
      ],
      "text/plain": [
       "                             Table 8  Unnamed: 1      Unnamed: 2  \\\n",
       "0                           NEW YORK         NaN             NaN   \n",
       "1  Offenses Known to Law Enforcement         NaN             NaN   \n",
       "2                      by City, 2014         NaN             NaN   \n",
       "3                               City  Population  Violent\\ncrime   \n",
       "4                      Adams Village       1,851               0   \n",
       "\n",
       "                               Unnamed: 3                    Unnamed: 4  \\\n",
       "0                                     NaN                           NaN   \n",
       "1                                     NaN                           NaN   \n",
       "2                                     NaN                           NaN   \n",
       "3  Murder and\\nnonnegligent\\nmanslaughter  Rape\\n(revised\\ndefinition)1   \n",
       "4                                       0                           NaN   \n",
       "\n",
       "                    Unnamed: 5 Unnamed: 6           Unnamed: 7  \\\n",
       "0                          NaN        NaN                  NaN   \n",
       "1                                     NaN                  NaN   \n",
       "2                          NaN        NaN                  NaN   \n",
       "3  Rape\\n(legacy\\ndefinition)2    Robbery  Aggravated\\nassault   \n",
       "4                            0          0                    0   \n",
       "\n",
       "        Unnamed: 8 Unnamed: 9      Unnamed: 10            Unnamed: 11  \\\n",
       "0              NaN        NaN              NaN                    NaN   \n",
       "1              NaN        NaN              NaN                    NaN   \n",
       "2              NaN        NaN              NaN                    NaN   \n",
       "3  Property\\ncrime   Burglary  Larceny-\\ntheft  Motor\\nvehicle\\ntheft   \n",
       "4               11          1               10                      0   \n",
       "\n",
       "  Unnamed: 12  Unnamed: 13  \n",
       "0         NaN          NaN  \n",
       "1         NaN          NaN  \n",
       "2         NaN          NaN  \n",
       "3      Arson3          NaN  \n",
       "4           0          NaN  "
      ]
     },
     "execution_count": 46,
     "metadata": {},
     "output_type": "execute_result"
    }
   ],
   "source": [
    "new_table.head()"
   ]
  },
  {
   "cell_type": "code",
   "execution_count": 47,
   "metadata": {},
   "outputs": [],
   "source": [
    "ny_2014 = new_table.drop([0, 1, 2, 3])\n",
    "ny_2014.columns = ['City', 'Population', 'Violent_crime', 'Murder and nonnegligent manslaughter', 'Rape(revised definition)', 'Rape','Robbery', 'Aggrevated_assault', 'Property_crime', 'Buglary', 'Larceny_theft', 'Motor-vehicle theft', 'Arson', 'blank']"
   ]
  },
  {
   "cell_type": "code",
   "execution_count": 48,
   "metadata": {},
   "outputs": [
    {
     "data": {
      "text/html": [
       "<div>\n",
       "<style scoped>\n",
       "    .dataframe tbody tr th:only-of-type {\n",
       "        vertical-align: middle;\n",
       "    }\n",
       "\n",
       "    .dataframe tbody tr th {\n",
       "        vertical-align: top;\n",
       "    }\n",
       "\n",
       "    .dataframe thead th {\n",
       "        text-align: right;\n",
       "    }\n",
       "</style>\n",
       "<table border=\"1\" class=\"dataframe\">\n",
       "  <thead>\n",
       "    <tr style=\"text-align: right;\">\n",
       "      <th></th>\n",
       "      <th>City</th>\n",
       "      <th>Population</th>\n",
       "      <th>Violent_crime</th>\n",
       "      <th>Murder and nonnegligent manslaughter</th>\n",
       "      <th>Rape(revised definition)</th>\n",
       "      <th>Rape</th>\n",
       "      <th>Robbery</th>\n",
       "      <th>Aggrevated_assault</th>\n",
       "      <th>Property_crime</th>\n",
       "      <th>Buglary</th>\n",
       "      <th>Larceny_theft</th>\n",
       "      <th>Motor-vehicle theft</th>\n",
       "      <th>Arson</th>\n",
       "      <th>blank</th>\n",
       "    </tr>\n",
       "  </thead>\n",
       "  <tbody>\n",
       "    <tr>\n",
       "      <th>4</th>\n",
       "      <td>Adams Village</td>\n",
       "      <td>1,851</td>\n",
       "      <td>0</td>\n",
       "      <td>0</td>\n",
       "      <td>NaN</td>\n",
       "      <td>0</td>\n",
       "      <td>0</td>\n",
       "      <td>0</td>\n",
       "      <td>11</td>\n",
       "      <td>1</td>\n",
       "      <td>10</td>\n",
       "      <td>0</td>\n",
       "      <td>0</td>\n",
       "      <td>NaN</td>\n",
       "    </tr>\n",
       "    <tr>\n",
       "      <th>5</th>\n",
       "      <td>Addison Town and Village</td>\n",
       "      <td>2,568</td>\n",
       "      <td>2</td>\n",
       "      <td>0</td>\n",
       "      <td>NaN</td>\n",
       "      <td>0</td>\n",
       "      <td>1</td>\n",
       "      <td>1</td>\n",
       "      <td>49</td>\n",
       "      <td>1</td>\n",
       "      <td>47</td>\n",
       "      <td>1</td>\n",
       "      <td>0</td>\n",
       "      <td>NaN</td>\n",
       "    </tr>\n",
       "    <tr>\n",
       "      <th>6</th>\n",
       "      <td>Afton Village4</td>\n",
       "      <td>820</td>\n",
       "      <td>0</td>\n",
       "      <td>0</td>\n",
       "      <td>0</td>\n",
       "      <td>NaN</td>\n",
       "      <td>0</td>\n",
       "      <td>0</td>\n",
       "      <td>1</td>\n",
       "      <td>0</td>\n",
       "      <td>1</td>\n",
       "      <td>0</td>\n",
       "      <td>0</td>\n",
       "      <td>NaN</td>\n",
       "    </tr>\n",
       "    <tr>\n",
       "      <th>7</th>\n",
       "      <td>Akron Village</td>\n",
       "      <td>2,842</td>\n",
       "      <td>1</td>\n",
       "      <td>0</td>\n",
       "      <td>NaN</td>\n",
       "      <td>0</td>\n",
       "      <td>0</td>\n",
       "      <td>1</td>\n",
       "      <td>17</td>\n",
       "      <td>0</td>\n",
       "      <td>17</td>\n",
       "      <td>0</td>\n",
       "      <td>0</td>\n",
       "      <td>NaN</td>\n",
       "    </tr>\n",
       "    <tr>\n",
       "      <th>8</th>\n",
       "      <td>Albany4</td>\n",
       "      <td>98,595</td>\n",
       "      <td>802</td>\n",
       "      <td>8</td>\n",
       "      <td>54</td>\n",
       "      <td>NaN</td>\n",
       "      <td>237</td>\n",
       "      <td>503</td>\n",
       "      <td>3,888</td>\n",
       "      <td>683</td>\n",
       "      <td>3,083</td>\n",
       "      <td>122</td>\n",
       "      <td>12</td>\n",
       "      <td>NaN</td>\n",
       "    </tr>\n",
       "  </tbody>\n",
       "</table>\n",
       "</div>"
      ],
      "text/plain": [
       "                       City Population Violent_crime  \\\n",
       "4             Adams Village      1,851             0   \n",
       "5  Addison Town and Village      2,568             2   \n",
       "6            Afton Village4        820             0   \n",
       "7             Akron Village      2,842             1   \n",
       "8                   Albany4     98,595           802   \n",
       "\n",
       "  Murder and nonnegligent manslaughter Rape(revised definition) Rape Robbery  \\\n",
       "4                                    0                      NaN    0       0   \n",
       "5                                    0                      NaN    0       1   \n",
       "6                                    0                        0  NaN       0   \n",
       "7                                    0                      NaN    0       0   \n",
       "8                                    8                       54  NaN     237   \n",
       "\n",
       "  Aggrevated_assault Property_crime Buglary Larceny_theft Motor-vehicle theft  \\\n",
       "4                  0             11       1            10                   0   \n",
       "5                  1             49       1            47                   1   \n",
       "6                  0              1       0             1                   0   \n",
       "7                  1             17       0            17                   0   \n",
       "8                503          3,888     683         3,083                 122   \n",
       "\n",
       "  Arson  blank  \n",
       "4     0    NaN  \n",
       "5     0    NaN  \n",
       "6     0    NaN  \n",
       "7     0    NaN  \n",
       "8    12    NaN  "
      ]
     },
     "execution_count": 48,
     "metadata": {},
     "output_type": "execute_result"
    }
   ],
   "source": [
    "ny_2014.head()"
   ]
  },
  {
   "cell_type": "code",
   "execution_count": 49,
   "metadata": {},
   "outputs": [],
   "source": [
    "ny_2014= ny_2014.drop(columns = ['blank'])"
   ]
  },
  {
   "cell_type": "code",
   "execution_count": 50,
   "metadata": {},
   "outputs": [],
   "source": [
    "#np.unique(cali['Rape(revised definition)'])\n",
    "ny_2014= ny_2014.drop(columns = ['Rape(revised definition)'])"
   ]
  },
  {
   "cell_type": "code",
   "execution_count": 51,
   "metadata": {},
   "outputs": [],
   "source": [
    "ny_2014['Violent_crime'] = pd.to_numeric(ny_2014['Violent_crime'], errors='coerce')\n",
    "ny_2014['Property_crime'] = pd.to_numeric(ny_2014['Property_crime'], errors='coerce')\n",
    "ny_2014['Larceny_theft'] = pd.to_numeric(ny_2014['Larceny_theft'], errors='coerce')\n",
    "ny_2014['Population'] = pd.to_numeric(ny_2014['Population'], errors='coerce')\n",
    "ny_2014['Buglary'] = pd.to_numeric(ny_2014['Buglary'], errors='coerce')"
   ]
  },
  {
   "cell_type": "code",
   "execution_count": 52,
   "metadata": {},
   "outputs": [],
   "source": [
    "#ny_2014['Larceny_theft_sqrt'] = (ny_2014['Larceny_theft']+1) **0.5\n",
    "#ny_2014['Violent_crime_sqrt'] = (ny_2014['Violent_crime'] +1) **0.5\n",
    "#ny_2014['Population_sqrt'] = (ny_2014['Population'] +1) **0.5"
   ]
  },
  {
   "cell_type": "markdown",
   "metadata": {},
   "source": [
    "## Creation of New Features"
   ]
  },
  {
   "cell_type": "code",
   "execution_count": 53,
   "metadata": {},
   "outputs": [],
   "source": [
    "ny_2014['Property_crime_per_capita'] = ny_2014['Property_crime'] /ny_2014['Population']\n",
    "ny_2014['Larceny_per_capita'] = ny_2014['Larceny_theft'] / ny_2014['Population']\n",
    "ny_2014['Buglary_per_capita'] = ny_2014['Buglary'] / ny_2014['Population']\n",
    "ny_2014['Violent_crime_per_capita'] = ny_2014['Violent_crime'] / ny_2014['Population']"
   ]
  },
  {
   "cell_type": "code",
   "execution_count": 54,
   "metadata": {},
   "outputs": [],
   "source": [
    "ny_2014['Larceny_per_capita'].fillna(ny_2014['Larceny_per_capita'].median(), inplace = True)\n",
    "ny_2014['Property_crime_per_capita'].fillna(ny_2014['Property_crime_per_capita'].median(), inplace = True)\n",
    "ny_2014['Violent_crime_per_capita'].fillna(ny_2014['Violent_crime_per_capita'].median(), inplace = True)\n",
    "ny_2014['Buglary_per_capita'].fillna(ny_2014['Buglary_per_capita'].median(), inplace = True)"
   ]
  },
  {
   "cell_type": "code",
   "execution_count": 55,
   "metadata": {},
   "outputs": [],
   "source": [
    "X_ny_2014 = ny_2014[['Larceny_per_capita', 'Buglary_per_capita', 'Violent_crime_per_capita']]\n",
    "prediction = regr.predict(X_ny_2014)\n",
    "Y_ny_2014 = ny_2014[['Property_crime_per_capita']]"
   ]
  },
  {
   "cell_type": "code",
   "execution_count": 56,
   "metadata": {},
   "outputs": [
    {
     "name": "stdout",
     "output_type": "stream",
     "text": [
      "0.9974937641655844\n"
     ]
    }
   ],
   "source": [
    "print(r2_score(Y_ny_2014, prediction))"
   ]
  },
  {
   "cell_type": "code",
   "execution_count": 57,
   "metadata": {},
   "outputs": [
    {
     "name": "stderr",
     "output_type": "stream",
     "text": [
      "c:\\users\\owner\\appdata\\local\\programs\\python\\python36\\lib\\site-packages\\sklearn\\utils\\validation.py:578: DataConversionWarning: A column-vector y was passed when a 1d array was expected. Please change the shape of y to (n_samples, ), for example using ravel().\n",
      "  y = column_or_1d(y, warn=True)\n"
     ]
    },
    {
     "data": {
      "text/plain": [
       "(array([4.76671617e+05, 7.32181310e+03, 1.12966699e-02]),\n",
       " array([0.00000000e+000, 1.05528270e-247, 9.15412588e-001]))"
      ]
     },
     "execution_count": 57,
     "metadata": {},
     "output_type": "execute_result"
    }
   ],
   "source": [
    "f_regression(X_ny_2014, Y_ny_2014)"
   ]
  }
 ],
 "metadata": {
  "kernelspec": {
   "display_name": "Python 3",
   "language": "python",
   "name": "python3"
  },
  "language_info": {
   "codemirror_mode": {
    "name": "ipython",
    "version": 3
   },
   "file_extension": ".py",
   "mimetype": "text/x-python",
   "name": "python",
   "nbconvert_exporter": "python",
   "pygments_lexer": "ipython3",
   "version": "3.6.5"
  }
 },
 "nbformat": 4,
 "nbformat_minor": 2
}
