{
 "cells": [
  {
   "cell_type": "code",
   "execution_count": 1,
   "metadata": {},
   "outputs": [
    {
     "name": "stderr",
     "output_type": "stream",
     "text": [
      "Using TensorFlow backend.\n"
     ]
    }
   ],
   "source": [
    "import pandas as pd\n",
    "import numpy as np\n",
    "import matplotlib.pyplot as plt\n",
    "%matplotlib inline\n",
    "import seaborn as sns\n",
    "from stop_words import get_stop_words\n",
    "from sklearn.model_selection import train_test_split\n",
    "from sklearn.linear_model import LogisticRegression\n",
    "import gensim\n",
    "from gensim.models import word2vec\n",
    "from sklearn.model_selection import cross_val_predict\n",
    "import re\n",
    "import string\n",
    "from sklearn.metrics.pairwise import cosine_similarity\n",
    "from sklearn.ensemble import RandomForestClassifier\n",
    "from xgboost import XGBClassifier\n",
    "from sklearn.utils import shuffle\n",
    "from sklearn.model_selection import cross_val_score, GridSearchCV\n",
    "from sklearn.manifold import TSNE\n",
    "import warnings\n",
    "warnings.filterwarnings('ignore')\n",
    "\n",
    "from keras.layers import Dense, Input, Embedding, Dropout, GRU, Bidirectional\n",
    "from keras.models import Sequential\n",
    "from keras.layers.normalization import BatchNormalization\n",
    "from keras.preprocessing.sequence import pad_sequences"
   ]
  },
  {
   "cell_type": "code",
   "execution_count": 2,
   "metadata": {},
   "outputs": [],
   "source": [
    "ads = pd.read_csv('/Users/admin/Documents/contextAdvertising1.csv')"
   ]
  },
  {
   "cell_type": "code",
   "execution_count": 3,
   "metadata": {},
   "outputs": [
    {
     "data": {
      "text/html": [
       "<div>\n",
       "<style scoped>\n",
       "    .dataframe tbody tr th:only-of-type {\n",
       "        vertical-align: middle;\n",
       "    }\n",
       "\n",
       "    .dataframe tbody tr th {\n",
       "        vertical-align: top;\n",
       "    }\n",
       "\n",
       "    .dataframe thead th {\n",
       "        text-align: right;\n",
       "    }\n",
       "</style>\n",
       "<table border=\"1\" class=\"dataframe\">\n",
       "  <thead>\n",
       "    <tr style=\"text-align: right;\">\n",
       "      <th></th>\n",
       "      <th>atitle</th>\n",
       "      <th>atext</th>\n",
       "      <th>adomain</th>\n",
       "    </tr>\n",
       "  </thead>\n",
       "  <tbody>\n",
       "    <tr>\n",
       "      <th>0</th>\n",
       "      <td>Клуб активного отдыха «0.67»</td>\n",
       "      <td>Детский пейнтбол. Спортивный пейнтбол. Тактиче...</td>\n",
       "      <td>0-67.relax.by</td>\n",
       "    </tr>\n",
       "    <tr>\n",
       "      <th>1</th>\n",
       "      <td>Антигравитационный чехол IPhone 5</td>\n",
       "      <td>Успейте купить антигравитационный чехол для IP...</td>\n",
       "      <td>0-antigravity.ru</td>\n",
       "    </tr>\n",
       "    <tr>\n",
       "      <th>2</th>\n",
       "      <td>Антигравитационный чехол купить!</td>\n",
       "      <td>Антигравитационный чехол для телефона купить з...</td>\n",
       "      <td>0-antigravity.ru</td>\n",
       "    </tr>\n",
       "    <tr>\n",
       "      <th>3</th>\n",
       "      <td>Беспроцентный заем от Moneyveo</td>\n",
       "      <td>Без справок! Получите до 3 000 грн. на карту п...</td>\n",
       "      <td>0-credit.moneyveo.ua</td>\n",
       "    </tr>\n",
       "    <tr>\n",
       "      <th>4</th>\n",
       "      <td>Беспроцентный заем сотруднику</td>\n",
       "      <td>Акция! Получите Кредит Онлайн под 0%. Без Спра...</td>\n",
       "      <td>0-credit.moneyveo.ua</td>\n",
       "    </tr>\n",
       "  </tbody>\n",
       "</table>\n",
       "</div>"
      ],
      "text/plain": [
       "                              atitle  \\\n",
       "0       Клуб активного отдыха «0.67»   \n",
       "1  Антигравитационный чехол IPhone 5   \n",
       "2   Антигравитационный чехол купить!   \n",
       "3     Беспроцентный заем от Moneyveo   \n",
       "4      Беспроцентный заем сотруднику   \n",
       "\n",
       "                                               atext               adomain  \n",
       "0  Детский пейнтбол. Спортивный пейнтбол. Тактиче...         0-67.relax.by  \n",
       "1  Успейте купить антигравитационный чехол для IP...      0-antigravity.ru  \n",
       "2  Антигравитационный чехол для телефона купить з...      0-antigravity.ru  \n",
       "3  Без справок! Получите до 3 000 грн. на карту п...  0-credit.moneyveo.ua  \n",
       "4  Акция! Получите Кредит Онлайн под 0%. Без Спра...  0-credit.moneyveo.ua  "
      ]
     },
     "execution_count": 3,
     "metadata": {},
     "output_type": "execute_result"
    }
   ],
   "source": [
    "ads.head()"
   ]
  },
  {
   "cell_type": "code",
   "execution_count": 4,
   "metadata": {},
   "outputs": [
    {
     "data": {
      "text/plain": [
       "(799999, 3)"
      ]
     },
     "execution_count": 4,
     "metadata": {},
     "output_type": "execute_result"
    }
   ],
   "source": [
    "ads.shape"
   ]
  },
  {
   "cell_type": "code",
   "execution_count": 5,
   "metadata": {},
   "outputs": [
    {
     "name": "stdout",
     "output_type": "stream",
     "text": [
      "<class 'pandas.core.frame.DataFrame'>\n",
      "RangeIndex: 799999 entries, 0 to 799998\n",
      "Data columns (total 3 columns):\n",
      "atitle     799999 non-null object\n",
      "atext      799983 non-null object\n",
      "adomain    799999 non-null object\n",
      "dtypes: object(3)\n",
      "memory usage: 18.3+ MB\n"
     ]
    }
   ],
   "source": [
    "ads.info()"
   ]
  },
  {
   "cell_type": "code",
   "execution_count": 6,
   "metadata": {},
   "outputs": [
    {
     "data": {
      "text/html": [
       "<div>\n",
       "<style scoped>\n",
       "    .dataframe tbody tr th:only-of-type {\n",
       "        vertical-align: middle;\n",
       "    }\n",
       "\n",
       "    .dataframe tbody tr th {\n",
       "        vertical-align: top;\n",
       "    }\n",
       "\n",
       "    .dataframe thead th {\n",
       "        text-align: right;\n",
       "    }\n",
       "</style>\n",
       "<table border=\"1\" class=\"dataframe\">\n",
       "  <thead>\n",
       "    <tr style=\"text-align: right;\">\n",
       "      <th></th>\n",
       "      <th>atitle</th>\n",
       "      <th>atext</th>\n",
       "      <th>adomain</th>\n",
       "    </tr>\n",
       "  </thead>\n",
       "  <tbody>\n",
       "    <tr>\n",
       "      <th>0</th>\n",
       "      <td>Клуб активного отдыха «0.67»</td>\n",
       "      <td>Детский пейнтбол. Спортивный пейнтбол. Тактиче...</td>\n",
       "      <td>0-67.relax.by</td>\n",
       "    </tr>\n",
       "    <tr>\n",
       "      <th>1</th>\n",
       "      <td>Антигравитационный чехол IPhone 5</td>\n",
       "      <td>Успейте купить антигравитационный чехол для IP...</td>\n",
       "      <td>0-antigravity.ru</td>\n",
       "    </tr>\n",
       "    <tr>\n",
       "      <th>2</th>\n",
       "      <td>Антигравитационный чехол купить!</td>\n",
       "      <td>Антигравитационный чехол для телефона купить з...</td>\n",
       "      <td>0-antigravity.ru</td>\n",
       "    </tr>\n",
       "    <tr>\n",
       "      <th>3</th>\n",
       "      <td>Беспроцентный заем от Moneyveo</td>\n",
       "      <td>Без справок! Получите до 3 000 грн. на карту п...</td>\n",
       "      <td>0-credit.moneyveo.ua</td>\n",
       "    </tr>\n",
       "    <tr>\n",
       "      <th>4</th>\n",
       "      <td>Беспроцентный заем сотруднику</td>\n",
       "      <td>Акция! Получите Кредит Онлайн под 0%. Без Спра...</td>\n",
       "      <td>0-credit.moneyveo.ua</td>\n",
       "    </tr>\n",
       "  </tbody>\n",
       "</table>\n",
       "</div>"
      ],
      "text/plain": [
       "                              atitle  \\\n",
       "0       Клуб активного отдыха «0.67»   \n",
       "1  Антигравитационный чехол IPhone 5   \n",
       "2   Антигравитационный чехол купить!   \n",
       "3     Беспроцентный заем от Moneyveo   \n",
       "4      Беспроцентный заем сотруднику   \n",
       "\n",
       "                                               atext               adomain  \n",
       "0  Детский пейнтбол. Спортивный пейнтбол. Тактиче...         0-67.relax.by  \n",
       "1  Успейте купить антигравитационный чехол для IP...      0-antigravity.ru  \n",
       "2  Антигравитационный чехол для телефона купить з...      0-antigravity.ru  \n",
       "3  Без справок! Получите до 3 000 грн. на карту п...  0-credit.moneyveo.ua  \n",
       "4  Акция! Получите Кредит Онлайн под 0%. Без Спра...  0-credit.moneyveo.ua  "
      ]
     },
     "execution_count": 6,
     "metadata": {},
     "output_type": "execute_result"
    }
   ],
   "source": [
    "ads.head()"
   ]
  },
  {
   "cell_type": "code",
   "execution_count": 7,
   "metadata": {},
   "outputs": [],
   "source": [
    "#include all the punctuation signs\\n\",\n",
    "def punctuation_remover(row):\n",
    "    punctuation = '!\"#$&\\'()*+,-./:;<=>?@[\\\\]^_`{|}~«»'\n",
    "    \n",
    "    punctuationNoPeriod = \"[\" + re.sub(\"\\.\",\"\", punctuation) + \"]\"\n",
    "    row = re.sub(punctuationNoPeriod, \" \", str(row))\n",
    "    #to remove double white spaces and create space after %,\n",
    "    row = row.replace('  ', ' ')\n",
    "    row = row.replace('%', '% ')\n",
    "    return row.strip()"
   ]
  },
  {
   "cell_type": "code",
   "execution_count": 8,
   "metadata": {},
   "outputs": [],
   "source": [
    "# remove punctuation from the ads text\n",
    "ads['atext'] = ads['atext'].apply(punctuation_remover)"
   ]
  },
  {
   "cell_type": "code",
   "execution_count": 9,
   "metadata": {},
   "outputs": [],
   "source": [
    "# remove punctuation from the ads text\n",
    "ads['atitle'] = ads['atitle'].apply(punctuation_remover)"
   ]
  },
  {
   "cell_type": "code",
   "execution_count": 10,
   "metadata": {},
   "outputs": [
    {
     "data": {
      "text/plain": [
       "atitle     557981\n",
       "atext      348409\n",
       "adomain     19181\n",
       "dtype: int64"
      ]
     },
     "execution_count": 10,
     "metadata": {},
     "output_type": "execute_result"
    }
   ],
   "source": [
    "ads.nunique()"
   ]
  },
  {
   "cell_type": "code",
   "execution_count": 11,
   "metadata": {},
   "outputs": [
    {
     "data": {
      "text/plain": [
       "789564"
      ]
     },
     "execution_count": 11,
     "metadata": {},
     "output_type": "execute_result"
    }
   ],
   "source": [
    "(ads['atitle'] + ads['atext']).nunique()"
   ]
  },
  {
   "cell_type": "code",
   "execution_count": 12,
   "metadata": {},
   "outputs": [],
   "source": [
    "def text_parser_first(series): \n",
    "    series_copy = series.copy()\n",
    "    list_of_strings = []\n",
    "    for row in series:\n",
    "        row= row.lower().strip()      \n",
    "        list_of_strings.append(row)\n",
    "    return list_of_strings"
   ]
  },
  {
   "cell_type": "code",
   "execution_count": 13,
   "metadata": {},
   "outputs": [],
   "source": [
    "ads['atitle'] = text_parser_first(ads['atitle'])"
   ]
  },
  {
   "cell_type": "code",
   "execution_count": 14,
   "metadata": {},
   "outputs": [],
   "source": [
    "ads['atext'] = text_parser_first(ads['atext'])"
   ]
  },
  {
   "cell_type": "code",
   "execution_count": 15,
   "metadata": {},
   "outputs": [],
   "source": [
    "unique =ads.drop_duplicates(subset = ['atext'], keep=False)"
   ]
  },
  {
   "cell_type": "code",
   "execution_count": 16,
   "metadata": {},
   "outputs": [],
   "source": [
    "unique =unique.drop_duplicates(subset = ['atitle'], keep=False)"
   ]
  },
  {
   "cell_type": "code",
   "execution_count": 17,
   "metadata": {},
   "outputs": [],
   "source": [
    "unique = unique.drop_duplicates(keep=False)"
   ]
  },
  {
   "cell_type": "code",
   "execution_count": 18,
   "metadata": {},
   "outputs": [
    {
     "data": {
      "text/plain": [
       "atitle     192694\n",
       "atext      192694\n",
       "adomain      4465\n",
       "dtype: int64"
      ]
     },
     "execution_count": 18,
     "metadata": {},
     "output_type": "execute_result"
    }
   ],
   "source": [
    "unique.nunique()"
   ]
  },
  {
   "cell_type": "code",
   "execution_count": 19,
   "metadata": {},
   "outputs": [
    {
     "data": {
      "text/plain": [
       "(192694, 3)"
      ]
     },
     "execution_count": 19,
     "metadata": {},
     "output_type": "execute_result"
    }
   ],
   "source": [
    "unique.shape"
   ]
  },
  {
   "cell_type": "code",
   "execution_count": 20,
   "metadata": {},
   "outputs": [],
   "source": [
    "def text_parser_second(series): \n",
    "    series_copy = series.copy()\n",
    "    list_of_strings = []\n",
    "    for row in series:\n",
    "        row= row.split()      \n",
    "        list_of_strings.append(row)\n",
    "    return list_of_strings"
   ]
  },
  {
   "cell_type": "code",
   "execution_count": 21,
   "metadata": {},
   "outputs": [],
   "source": [
    "split_ads = unique.copy()"
   ]
  },
  {
   "cell_type": "code",
   "execution_count": 22,
   "metadata": {},
   "outputs": [
    {
     "data": {
      "text/plain": [
       "(192694, 3)"
      ]
     },
     "execution_count": 22,
     "metadata": {},
     "output_type": "execute_result"
    }
   ],
   "source": [
    "split_ads.shape"
   ]
  },
  {
   "cell_type": "code",
   "execution_count": 23,
   "metadata": {},
   "outputs": [],
   "source": [
    "split_ads['atitle'] = text_parser_second(unique['atitle'])"
   ]
  },
  {
   "cell_type": "code",
   "execution_count": 24,
   "metadata": {},
   "outputs": [],
   "source": [
    "split_ads['atext'] = text_parser_second(unique['atext'])"
   ]
  },
  {
   "cell_type": "code",
   "execution_count": 25,
   "metadata": {},
   "outputs": [
    {
     "data": {
      "text/html": [
       "<div>\n",
       "<style scoped>\n",
       "    .dataframe tbody tr th:only-of-type {\n",
       "        vertical-align: middle;\n",
       "    }\n",
       "\n",
       "    .dataframe tbody tr th {\n",
       "        vertical-align: top;\n",
       "    }\n",
       "\n",
       "    .dataframe thead th {\n",
       "        text-align: right;\n",
       "    }\n",
       "</style>\n",
       "<table border=\"1\" class=\"dataframe\">\n",
       "  <thead>\n",
       "    <tr style=\"text-align: right;\">\n",
       "      <th></th>\n",
       "      <th>atitle</th>\n",
       "      <th>atext</th>\n",
       "      <th>adomain</th>\n",
       "    </tr>\n",
       "  </thead>\n",
       "  <tbody>\n",
       "    <tr>\n",
       "      <th>0</th>\n",
       "      <td>[клуб, активного, отдыха, 0, 67]</td>\n",
       "      <td>[детский, пейнтбол, спортивный, пейнтбол, такт...</td>\n",
       "      <td>0-67.relax.by</td>\n",
       "    </tr>\n",
       "    <tr>\n",
       "      <th>1</th>\n",
       "      <td>[антигравитационный, чехол, iphone, 5]</td>\n",
       "      <td>[успейте, купить, антигравитационный, чехол, д...</td>\n",
       "      <td>0-antigravity.ru</td>\n",
       "    </tr>\n",
       "    <tr>\n",
       "      <th>3</th>\n",
       "      <td>[беспроцентный, заем, от, moneyveo]</td>\n",
       "      <td>[без, справок, получите, до, 3, 000, грн, на, ...</td>\n",
       "      <td>0-credit.moneyveo.ua</td>\n",
       "    </tr>\n",
       "    <tr>\n",
       "      <th>4</th>\n",
       "      <td>[беспроцентный, заем, сотруднику]</td>\n",
       "      <td>[акция, получите, кредит, онлайн, под, 0%, без...</td>\n",
       "      <td>0-credit.moneyveo.ua</td>\n",
       "    </tr>\n",
       "    <tr>\n",
       "      <th>11</th>\n",
       "      <td>[аnti, gravity, case]</td>\n",
       "      <td>[аnti, gravity, case, –, уникальный, антиграви...</td>\n",
       "      <td>0-gravity.online-shop-2017.ru</td>\n",
       "    </tr>\n",
       "  </tbody>\n",
       "</table>\n",
       "</div>"
      ],
      "text/plain": [
       "                                    atitle  \\\n",
       "0         [клуб, активного, отдыха, 0, 67]   \n",
       "1   [антигравитационный, чехол, iphone, 5]   \n",
       "3      [беспроцентный, заем, от, moneyveo]   \n",
       "4        [беспроцентный, заем, сотруднику]   \n",
       "11                   [аnti, gravity, case]   \n",
       "\n",
       "                                                atext  \\\n",
       "0   [детский, пейнтбол, спортивный, пейнтбол, такт...   \n",
       "1   [успейте, купить, антигравитационный, чехол, д...   \n",
       "3   [без, справок, получите, до, 3, 000, грн, на, ...   \n",
       "4   [акция, получите, кредит, онлайн, под, 0%, без...   \n",
       "11  [аnti, gravity, case, –, уникальный, антиграви...   \n",
       "\n",
       "                          adomain  \n",
       "0                   0-67.relax.by  \n",
       "1                0-antigravity.ru  \n",
       "3            0-credit.moneyveo.ua  \n",
       "4            0-credit.moneyveo.ua  \n",
       "11  0-gravity.online-shop-2017.ru  "
      ]
     },
     "execution_count": 25,
     "metadata": {},
     "output_type": "execute_result"
    }
   ],
   "source": [
    "split_ads.head()"
   ]
  },
  {
   "cell_type": "code",
   "execution_count": 26,
   "metadata": {},
   "outputs": [
    {
     "data": {
      "text/plain": [
       "['нужен', 'бухгалтер']"
      ]
     },
     "execution_count": 26,
     "metadata": {},
     "output_type": "execute_result"
    }
   ],
   "source": [
    "split_ads.iloc[10, 0]"
   ]
  },
  {
   "cell_type": "code",
   "execution_count": 27,
   "metadata": {},
   "outputs": [
    {
     "data": {
      "text/plain": [
       "['бухгалтер', 'под', 'ключ', 'дешево']"
      ]
     },
     "execution_count": 27,
     "metadata": {},
     "output_type": "execute_result"
    }
   ],
   "source": [
    "split_ads.iloc[10, 1]"
   ]
  },
  {
   "cell_type": "code",
   "execution_count": 28,
   "metadata": {},
   "outputs": [],
   "source": [
    "split_ads['combined'] = split_ads['atext'] +split_ads['atitle']"
   ]
  },
  {
   "cell_type": "code",
   "execution_count": 29,
   "metadata": {},
   "outputs": [],
   "source": [
    "model_w2v = word2vec.Word2Vec(\n",
    "    split_ads['combined'],\n",
    "    workers=4,     \n",
    "    min_count=30,   \n",
    "    window=30,      \n",
    "    sg=0,          \n",
    "    sample=1e-3 ,  \n",
    "    size=300,      \n",
    "    hs=1           \n",
    ")"
   ]
  },
  {
   "cell_type": "code",
   "execution_count": 30,
   "metadata": {},
   "outputs": [
    {
     "name": "stdout",
     "output_type": "stream",
     "text": [
      "8057\n"
     ]
    }
   ],
   "source": [
    "vocabulary = model_w2v.wv.vocab.keys()\n",
    "print(len(vocabulary))"
   ]
  },
  {
   "cell_type": "code",
   "execution_count": 31,
   "metadata": {},
   "outputs": [],
   "source": [
    "from sklearn.manifold import TSNE\n",
    "def tsne_plot(model):\n",
    "    #Creates and TSNE model and plots it\n",
    "    \n",
    "    labels = []\n",
    "    tokens = []\n",
    "\n",
    "    for word in model.wv.vocab:\n",
    "        if model.wv.vocab[word].count > 1000:\n",
    "            tokens.append(model[word])\n",
    "            labels.append(word)\n",
    "    \n",
    "    tsne_model = TSNE(perplexity=40, n_components=2, init='pca', n_iter=2500, random_state=108)\n",
    "    new_values = tsne_model.fit_transform(tokens)\n",
    "\n",
    "    x = []\n",
    "    y = []\n",
    "    \n",
    "    for value in new_values:\n",
    "        x.append(value[0])\n",
    "        y.append(value[1])\n",
    "        \n",
    "    plt.figure(figsize=(20, 20)) \n",
    "    for i in range(len(x)):\n",
    "        plt.scatter(x[i],y[i])\n",
    "        plt.annotate(labels[i],\n",
    "                     xy=(x[i], y[i]),\n",
    "                     xytext=(5, 2),\n",
    "                     textcoords='offset points',\n",
    "                     ha='right',\n",
    "                     va='bottom')\n",
    "    plt.show()"
   ]
  },
  {
   "cell_type": "code",
   "execution_count": 32,
   "metadata": {},
   "outputs": [
    {
     "data": {
      "image/png": "[encoded data removed]",
      "text/plain": [
       "<Figure size 1440x1440 with 1 Axes>"
      ]
     },
     "metadata": {
      "needs_background": "light"
     },
     "output_type": "display_data"
    }
   ],
   "source": [
    "tsne_plot(model_w2v)"
   ]
  },
  {
   "cell_type": "code",
   "execution_count": 33,
   "metadata": {},
   "outputs": [
    {
     "data": {
      "text/plain": [
       "[('стабилизатор', 0.6141299605369568),\n",
       " ('ифнс', 0.6122391223907471),\n",
       " ('green', 0.605126678943634),\n",
       " ('отеля', 0.6034844517707825),\n",
       " ('покупке', 0.6017177700996399),\n",
       " ('подставки', 0.5986883044242859),\n",
       " ('перевезти', 0.5931029319763184),\n",
       " ('перфораторы', 0.592728853225708),\n",
       " ('379', 0.5925114750862122),\n",
       " ('подбор', 0.5905246734619141)]"
      ]
     },
     "execution_count": 33,
     "metadata": {},
     "output_type": "execute_result"
    }
   ],
   "source": [
    "model_w2v.wv.most_similar_cosmul(positive=['компьютер'])"
   ]
  },
  {
   "cell_type": "code",
   "execution_count": 36,
   "metadata": {},
   "outputs": [
    {
     "data": {
      "text/plain": [
       "[('компьютере', 0.6900703310966492),\n",
       " ('работает', 0.6674776673316956),\n",
       " ('починим', 0.665978193283081),\n",
       " ('16р', 0.6570090651512146),\n",
       " ('бухучета', 0.6556369662284851),\n",
       " ('ангар24', 0.6555264592170715),\n",
       " ('услуга', 0.6544506549835205),\n",
       " ('замена', 0.652470588684082),\n",
       " ('займ', 0.6524112224578857),\n",
       " ('настройки', 0.6516008973121643)]"
      ]
     },
     "execution_count": 36,
     "metadata": {},
     "output_type": "execute_result"
    }
   ],
   "source": [
    "model_w2v.wv.most_similar_cosmul(positive=['компьютер'])"
   ]
  },
  {
   "cell_type": "code",
   "execution_count": 37,
   "metadata": {},
   "outputs": [],
   "source": [
    "word_vectors = model_w2v.wv"
   ]
  },
  {
   "cell_type": "code",
   "execution_count": 38,
   "metadata": {},
   "outputs": [],
   "source": [
    "X = split_ads['atext']"
   ]
  },
  {
   "cell_type": "code",
   "execution_count": 39,
   "metadata": {},
   "outputs": [],
   "source": [
    "X_train, X_test = train_test_split(X, test_size=0.3, random_state=0)"
   ]
  },
  {
   "cell_type": "code",
   "execution_count": 40,
   "metadata": {},
   "outputs": [
    {
     "data": {
      "text/plain": [
       "134885"
      ]
     },
     "execution_count": 40,
     "metadata": {},
     "output_type": "execute_result"
    }
   ],
   "source": [
    "len(X_train)"
   ]
  },
  {
   "cell_type": "code",
   "execution_count": 41,
   "metadata": {},
   "outputs": [
    {
     "data": {
      "text/plain": [
       "57809"
      ]
     },
     "execution_count": 41,
     "metadata": {},
     "output_type": "execute_result"
    }
   ],
   "source": [
    "len(X_test)"
   ]
  },
  {
   "cell_type": "code",
   "execution_count": 42,
   "metadata": {},
   "outputs": [],
   "source": [
    "MAX_NB_WORDS = len(vocabulary)"
   ]
  },
  {
   "cell_type": "code",
   "execution_count": 43,
   "metadata": {},
   "outputs": [
    {
     "data": {
      "text/plain": [
       "8057"
      ]
     },
     "execution_count": 43,
     "metadata": {},
     "output_type": "execute_result"
    }
   ],
   "source": [
    "MAX_NB_WORDS"
   ]
  },
  {
   "cell_type": "code",
   "execution_count": 44,
   "metadata": {},
   "outputs": [],
   "source": [
    "from collections import Counter\n",
    "vocab=Counter()\n",
    "\n",
    "for entry in X_train:\n",
    "    vocab.update(entry)"
   ]
  },
  {
   "cell_type": "code",
   "execution_count": 45,
   "metadata": {},
   "outputs": [],
   "source": [
    "word_index = {t[0]: i+1 for i,t in enumerate(vocab.most_common(MAX_NB_WORDS))}"
   ]
  },
  {
   "cell_type": "code",
   "execution_count": 46,
   "metadata": {},
   "outputs": [],
   "source": [
    "training_sequences = [[word_index.get(t, 0) for t in ad_text]\n",
    "             for ad_text in X_train]"
   ]
  },
  {
   "cell_type": "code",
   "execution_count": 47,
   "metadata": {},
   "outputs": [],
   "source": [
    "test_sequences = [[word_index.get(t, 0) for t in ad_text]\n",
    "             for ad_text in X_test]"
   ]
  },
  {
   "cell_type": "code",
   "execution_count": 48,
   "metadata": {},
   "outputs": [
    {
     "data": {
      "text/plain": [
       "22"
      ]
     },
     "execution_count": 48,
     "metadata": {},
     "output_type": "execute_result"
    }
   ],
   "source": [
    "max([len(x) for x in training_sequences])"
   ]
  },
  {
   "cell_type": "code",
   "execution_count": 49,
   "metadata": {},
   "outputs": [
    {
     "data": {
      "text/plain": [
       "20"
      ]
     },
     "execution_count": 49,
     "metadata": {},
     "output_type": "execute_result"
    }
   ],
   "source": [
    "max([len(x) for x in test_sequences])"
   ]
  },
  {
   "cell_type": "code",
   "execution_count": 50,
   "metadata": {},
   "outputs": [],
   "source": [
    "MAX_SEQUENCE_LENGTH = max([len(x) for x in training_sequences])"
   ]
  },
  {
   "cell_type": "code",
   "execution_count": 51,
   "metadata": {},
   "outputs": [],
   "source": [
    "def ngram_sequence_generator(input_text):\n",
    "    ngram_inputs = []\n",
    "    for entry in input_text:\n",
    "        for i in range(1, len(entry)):\n",
    "            ngram_seq = entry[:i+1]\n",
    "            ngram_inputs.append(ngram_seq)\n",
    "            \n",
    "    return ngram_inputs"
   ]
  },
  {
   "cell_type": "code",
   "execution_count": 52,
   "metadata": {},
   "outputs": [],
   "source": [
    "ngram_input_sequences_training = ngram_sequence_generator(training_sequences)"
   ]
  },
  {
   "cell_type": "code",
   "execution_count": 53,
   "metadata": {},
   "outputs": [],
   "source": [
    "ngram_input_sequences_test = ngram_sequence_generator(test_sequences)"
   ]
  },
  {
   "cell_type": "code",
   "execution_count": 54,
   "metadata": {},
   "outputs": [
    {
     "data": {
      "text/plain": [
       "[[2382, 468],\n",
       " [2382, 468, 7],\n",
       " [2382, 468, 7, 1],\n",
       " [2382, 468, 7, 1, 5],\n",
       " [2382, 468, 7, 1, 5, 4],\n",
       " [2382, 468, 7, 1, 5, 4, 6],\n",
       " [4267, 135],\n",
       " [4267, 135, 118],\n",
       " [4267, 135, 118, 3295],\n",
       " [4267, 135, 118, 3295, 10],\n",
       " [4267, 135, 118, 3295, 10, 47],\n",
       " [4267, 135, 118, 3295, 10, 47, 208],\n",
       " [4267, 135, 118, 3295, 10, 47, 208, 198],\n",
       " [3, 207],\n",
       " [3, 207, 127],\n",
       " [3, 207, 127, 207],\n",
       " [3, 207, 127, 207, 0],\n",
       " [3, 207, 127, 207, 0, 0],\n",
       " [3, 207, 127, 207, 0, 0, 0],\n",
       " [3, 207, 127, 207, 0, 0, 0, 274]]"
      ]
     },
     "execution_count": 54,
     "metadata": {},
     "output_type": "execute_result"
    }
   ],
   "source": [
    "ngram_input_sequences_training[:20]"
   ]
  },
  {
   "cell_type": "code",
   "execution_count": 55,
   "metadata": {},
   "outputs": [],
   "source": [
    "from keras.utils import to_categorical\n",
    "def generate_padded_sequence(input_sequences):\n",
    "    input_sequences = pad_sequences(input_sequences, maxlen=MAX_SEQUENCE_LENGTH, \n",
    "                     padding=\"pre\", truncating=\"post\")\n",
    "    \n",
    "\n",
    "    \n",
    "    predictors, label = input_sequences[:,:-1],input_sequences[:,-1]\n",
    "    label = to_categorical(label, num_classes=MAX_NB_WORDS+1)\n",
    "    return predictors, label"
   ]
  },
  {
   "cell_type": "code",
   "execution_count": 56,
   "metadata": {},
   "outputs": [
    {
     "ename": "KeyboardInterrupt",
     "evalue": "",
     "output_type": "error",
     "traceback": [
      "\u001b[0;31m---------------------------------------------------------------------------\u001b[0m",
      "\u001b[0;31mKeyboardInterrupt\u001b[0m                         Traceback (most recent call last)",
      "\u001b[0;32m<ipython-input-56-ca138ca0cf9f>\u001b[0m in \u001b[0;36m<module>\u001b[0;34m()\u001b[0m\n\u001b[0;32m----> 1\u001b[0;31m \u001b[0mpredictors_tr\u001b[0m\u001b[0;34m,\u001b[0m \u001b[0mlabel_tr\u001b[0m \u001b[0;34m=\u001b[0m \u001b[0mgenerate_padded_sequence\u001b[0m\u001b[0;34m(\u001b[0m\u001b[0mngram_input_sequences_training\u001b[0m\u001b[0;34m)\u001b[0m\u001b[0;34m\u001b[0m\u001b[0m\n\u001b[0m",
      "\u001b[0;32m<ipython-input-55-f279cd6baa87>\u001b[0m in \u001b[0;36mgenerate_padded_sequence\u001b[0;34m(input_sequences)\u001b[0m\n\u001b[1;32m      2\u001b[0m \u001b[0;32mdef\u001b[0m \u001b[0mgenerate_padded_sequence\u001b[0m\u001b[0;34m(\u001b[0m\u001b[0minput_sequences\u001b[0m\u001b[0;34m)\u001b[0m\u001b[0;34m:\u001b[0m\u001b[0;34m\u001b[0m\u001b[0m\n\u001b[1;32m      3\u001b[0m     input_sequences = pad_sequences(input_sequences, maxlen=MAX_SEQUENCE_LENGTH, \n\u001b[0;32m----> 4\u001b[0;31m                      padding=\"pre\", truncating=\"post\")\n\u001b[0m\u001b[1;32m      5\u001b[0m \u001b[0;34m\u001b[0m\u001b[0m\n\u001b[1;32m      6\u001b[0m \u001b[0;34m\u001b[0m\u001b[0m\n",
      "\u001b[0;32m/usr/local/lib/python3.6/site-packages/keras_preprocessing/sequence.py\u001b[0m in \u001b[0;36mpad_sequences\u001b[0;34m(sequences, maxlen, dtype, padding, truncating, value)\u001b[0m\n\u001b[1;32m     96\u001b[0m             \u001b[0mx\u001b[0m\u001b[0;34m[\u001b[0m\u001b[0midx\u001b[0m\u001b[0;34m,\u001b[0m \u001b[0;34m:\u001b[0m\u001b[0mlen\u001b[0m\u001b[0;34m(\u001b[0m\u001b[0mtrunc\u001b[0m\u001b[0;34m)\u001b[0m\u001b[0;34m]\u001b[0m \u001b[0;34m=\u001b[0m \u001b[0mtrunc\u001b[0m\u001b[0;34m\u001b[0m\u001b[0m\n\u001b[1;32m     97\u001b[0m         \u001b[0;32melif\u001b[0m \u001b[0mpadding\u001b[0m \u001b[0;34m==\u001b[0m \u001b[0;34m'pre'\u001b[0m\u001b[0;34m:\u001b[0m\u001b[0;34m\u001b[0m\u001b[0m\n\u001b[0;32m---> 98\u001b[0;31m             \u001b[0mx\u001b[0m\u001b[0;34m[\u001b[0m\u001b[0midx\u001b[0m\u001b[0;34m,\u001b[0m \u001b[0;34m-\u001b[0m\u001b[0mlen\u001b[0m\u001b[0;34m(\u001b[0m\u001b[0mtrunc\u001b[0m\u001b[0;34m)\u001b[0m\u001b[0;34m:\u001b[0m\u001b[0;34m]\u001b[0m \u001b[0;34m=\u001b[0m \u001b[0mtrunc\u001b[0m\u001b[0;34m\u001b[0m\u001b[0m\n\u001b[0m\u001b[1;32m     99\u001b[0m         \u001b[0;32melse\u001b[0m\u001b[0;34m:\u001b[0m\u001b[0;34m\u001b[0m\u001b[0m\n\u001b[1;32m    100\u001b[0m             \u001b[0;32mraise\u001b[0m \u001b[0mValueError\u001b[0m\u001b[0;34m(\u001b[0m\u001b[0;34m'Padding type \"%s\" not understood'\u001b[0m \u001b[0;34m%\u001b[0m \u001b[0mpadding\u001b[0m\u001b[0;34m)\u001b[0m\u001b[0;34m\u001b[0m\u001b[0m\n",
      "\u001b[0;31mKeyboardInterrupt\u001b[0m: "
     ]
    }
   ],
   "source": [
    "predictors_tr, label_tr = generate_padded_sequence(ngram_input_sequences_training)"
   ]
  },
  {
   "cell_type": "code",
   "execution_count": null,
   "metadata": {},
   "outputs": [],
   "source": [
    "predictors_test, label_test = generate_padded_sequence(ngram_input_sequences_test)"
   ]
  },
  {
   "cell_type": "code",
   "execution_count": null,
   "metadata": {},
   "outputs": [],
   "source": [
    "len(predictors_tr)"
   ]
  },
  {
   "cell_type": "code",
   "execution_count": null,
   "metadata": {},
   "outputs": [],
   "source": [
    "length_maxtrix = len(vocabulary)+1\n",
    "\n",
    "embedding_matrix = np.zeros((length_maxtrix, 300))\n",
    "\n",
    "for word, i in word_index.items():\n",
    "    if i >= MAX_NB_WORDS:\n",
    "            continue\n",
    "    try:        \n",
    "        embedding_vector = word_vectors[word]\n",
    "        # words not found in embedding index will be all-zeros.\n",
    "        if embedding_vector is not None:  \n",
    "            embedding_matrix[i] = embedding_vector\n",
    "    except:\n",
    "        pass"
   ]
  },
  {
   "cell_type": "code",
   "execution_count": null,
   "metadata": {},
   "outputs": [],
   "source": [
    "embedding_matrix.shape"
   ]
  },
  {
   "cell_type": "code",
   "execution_count": null,
   "metadata": {},
   "outputs": [],
   "source": [
    "WV_DIM = 300"
   ]
  },
  {
   "cell_type": "code",
   "execution_count": null,
   "metadata": {},
   "outputs": [],
   "source": [
    "model_gen = Sequential()\n",
    "model_gen.add(Embedding(MAX_NB_WORDS +1,\n",
    "                     WV_DIM,\n",
    "                     mask_zero=False,\n",
    "                     weights=[embedding_matrix],\n",
    "                     input_length=MAX_SEQUENCE_LENGTH-1,\n",
    "                     trainable=False))\n",
    "\n",
    "model_gen.add(GRU(200))\n",
    "model_gen.add(Dropout(0.2))\n",
    "model_gen.add(BatchNormalization())\n",
    "model_gen.add(Dense(MAX_NB_WORDS+1, activation = 'softmax'))\n",
    "\n",
    "model_gen.compile(loss='categorical_crossentropy', \n",
    "                   optimizer = 'adam', \n",
    "                   metrics = ['accuracy']) "
   ]
  },
  {
   "cell_type": "code",
   "execution_count": null,
   "metadata": {},
   "outputs": [],
   "source": [
    "model_gen.fit(predictors_tr[:10000], label_tr[:10000], \n",
    "               epochs = 100, \n",
    "               verbose=1,\n",
    "               batch_size=50,\n",
    "               shuffle=True,\n",
    "               validation_data = (predictors_test[:1000], label_test[:1000]))"
   ]
  },
  {
   "cell_type": "code",
   "execution_count": null,
   "metadata": {},
   "outputs": [],
   "source": [
    "def generate_text(seed_text, next_words, model, max_sequence_len):\n",
    "    output_sequence = ''\n",
    "    for _ in range(next_words):\n",
    "        seed_text = seed_text.lower()\n",
    "        seed_list = seed_text.split()\n",
    "        token_list = [word_index.get(word)for word in seed_list]\n",
    "        token_list= pad_sequences([token_list], maxlen=MAX_SEQUENCE_LENGTH-1, padding=\"pre\")\n",
    "        predicted = model.predict_classes(token_list, verbose=0)\n",
    "        \n",
    "        output_word = \"\"\n",
    "        for word,index in word_index.items():\n",
    "            if index == predicted:\n",
    "                output_word = word\n",
    "                break\n",
    "        seed_text += \" \"+output_word\n",
    "    for word in seed_list:\n",
    "        output_sequence+=word+ ' '\n",
    "    return output_sequence.strip()"
   ]
  },
  {
   "cell_type": "code",
   "execution_count": null,
   "metadata": {},
   "outputs": [],
   "source": [
    "generate_text('с', 15, model_gen, 30)"
   ]
  },
  {
   "cell_type": "code",
   "execution_count": null,
   "metadata": {},
   "outputs": [],
   "source": [
    "generate_text('двери', 10, model_gen, 30)"
   ]
  },
  {
   "cell_type": "code",
   "execution_count": null,
   "metadata": {},
   "outputs": [],
   "source": [
    "model_gen_larger = Sequential()\n",
    "model_gen_larger.add(Embedding(MAX_NB_WORDS +1,\n",
    "                     WV_DIM,\n",
    "                     mask_zero=False,\n",
    "                     weights=[embedding_matrix],\n",
    "                     input_length=MAX_SEQUENCE_LENGTH-1,\n",
    "                     trainable=False))\n",
    "\n",
    "model_gen_larger.add(GRU(100, return_sequences=True))\n",
    "model_gen_larger.add(Dropout(0.2))\n",
    "model_gen_larger.add(GRU(100))\n",
    "model_gen_larger.add(Dropout(0.2))\n",
    "model_gen_larger.add(BatchNormalization())\n",
    "model_gen_larger.add(Dense(MAX_NB_WORDS+1, activation = 'softmax'))\n",
    "\n",
    "model_gen_larger.compile(loss='categorical_crossentropy', \n",
    "                   optimizer = 'adam', \n",
    "                   metrics = ['accuracy']) "
   ]
  },
  {
   "cell_type": "code",
   "execution_count": null,
   "metadata": {},
   "outputs": [],
   "source": [
    "model_gen_larger.fit(predictors_tr[:200000], label_tr[:200000], \n",
    "               epochs = 30, \n",
    "               verbose=1,\n",
    "               batch_size=30,\n",
    "               shuffle=True,\n",
    "               validation_data = (predictors_test[:1000], label_test[:1000]))"
   ]
  },
  {
   "cell_type": "code",
   "execution_count": null,
   "metadata": {},
   "outputs": [],
   "source": [
    "generate_text('окна', 20, model_gen_larger, 15)"
   ]
  },
  {
   "cell_type": "code",
   "execution_count": null,
   "metadata": {},
   "outputs": [],
   "source": [
    "generate_text('ноутбук', 20, model_gen_larger, 15)"
   ]
  },
  {
   "cell_type": "code",
   "execution_count": null,
   "metadata": {},
   "outputs": [],
   "source": []
  }
 ],
 "metadata": {
  "kernelspec": {
   "display_name": "Python 3",
   "language": "python",
   "name": "python3"
  },
  "language_info": {
   "codemirror_mode": {
    "name": "ipython",
    "version": 3
   },
   "file_extension": ".py",
   "mimetype": "text/x-python",
   "name": "python",
   "nbconvert_exporter": "python",
   "pygments_lexer": "ipython3",
   "version": "3.6.5"
  }
 },
 "nbformat": 4,
 "nbformat_minor": 2
}
