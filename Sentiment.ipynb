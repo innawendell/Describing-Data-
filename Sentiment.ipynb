{
 "cells": [
  {
   "cell_type": "code",
   "execution_count": 1,
   "metadata": {},
   "outputs": [],
   "source": [
    "%matplotlib inline\n",
    "import numpy as np\n",
    "import pandas as pd\n",
    "import scipy\n",
    "import sklearn\n",
    "import matplotlib.pyplot as plt\n",
    "import seaborn as sns\n",
    "from collections import Counter"
   ]
  },
  {
   "cell_type": "code",
   "execution_count": 2,
   "metadata": {},
   "outputs": [],
   "source": [
    "sentiment_raw = pd.read_csv(r'C:\\Users\\owner\\projects\\Thinkful_Projects\\sentiment labelled sentences\\yelp_labelled.txt', encoding='ISO-8859-1', delimiter = '\\t', header=None)\n",
    "sentiment_raw.columns = ['review', 'score']\n",
    "#sentiment_raw.iloc[200:500, 0]"
   ]
  },
  {
   "cell_type": "markdown",
   "metadata": {},
   "source": [
    "# Version 1: One Word"
   ]
  },
  {
   "cell_type": "code",
   "execution_count": 3,
   "metadata": {},
   "outputs": [],
   "source": [
    "keywords = ['not']\n",
    "\n",
    "for word in keywords:\n",
    "    sentiment_raw[str(word)] = sentiment_raw.review.str.contains(\n",
    "      ' ' +  str(word) + ' ',\n",
    "        case=False\n",
    "   )      "
   ]
  },
  {
   "cell_type": "code",
   "execution_count": 4,
   "metadata": {},
   "outputs": [],
   "source": [
    "#checks if it is negative, False means positive\n",
    "sentiment_raw['score'] =(sentiment_raw['score']==0)"
   ]
  },
  {
   "cell_type": "code",
   "execution_count": 5,
   "metadata": {},
   "outputs": [
    {
     "data": {
      "text/plain": [
       "<matplotlib.axes._subplots.AxesSubplot at 0xf59ed08e80>"
      ]
     },
     "execution_count": 5,
     "metadata": {},
     "output_type": "execute_result"
    },
    {
     "data": {
      "image/png": "[encoded data removed]",
      "text/plain": [
       "<Figure size 720x504 with 2 Axes>"
      ]
     },
     "metadata": {},
     "output_type": "display_data"
    }
   ],
   "source": [
    "plt.figure(figsize = (10,7))\n",
    "sns.heatmap(sentiment_raw.corr(), cmap = 'Pastel1')"
   ]
  },
  {
   "cell_type": "code",
   "execution_count": 6,
   "metadata": {},
   "outputs": [],
   "source": [
    "data=sentiment_raw[keywords]\n",
    "target=sentiment_raw['score']"
   ]
  },
  {
   "cell_type": "code",
   "execution_count": 7,
   "metadata": {},
   "outputs": [
    {
     "name": "stdout",
     "output_type": "stream",
     "text": [
      "The number of mislabelled points out of a total 1000 points: 431\n"
     ]
    }
   ],
   "source": [
    "from sklearn.naive_bayes import BernoulliNB\n",
    "\n",
    "bern = BernoulliNB()\n",
    "bern.fit(data, target)\n",
    "\n",
    "y_pred = bern.predict(data)\n",
    "print('The number of mislabelled points out of a total {} points: {}'.format(\n",
    "    data.shape[0], \n",
    "    (target != y_pred).sum()\n",
    "))"
   ]
  },
  {
   "cell_type": "markdown",
   "metadata": {},
   "source": [
    "# Confusion Matrix"
   ]
  },
  {
   "cell_type": "code",
   "execution_count": 8,
   "metadata": {},
   "outputs": [
    {
     "name": "stdout",
     "output_type": "stream",
     "text": [
      "Actual NO: 500  | Predicted NO: 484 | Predicted Yes: 16  | Specitivity: 0.968 or negatives identified correctly\n",
      "Type I error or false positives: 0.032 \n",
      "\n",
      "Actual YES: 500 | Predicted NO: 415 | Predicted YES: 85 | Sensitivity: 0.17 or positives identified correctly\n",
      "Type II error or false negatives: 0.83 \n",
      "\n",
      "Accuracy if guessed at random: 500 /100 = 0.5\n"
     ]
    }
   ],
   "source": [
    "matrix = pd.DataFrame(y_pred)\n",
    "matrix.columns = ['predicted']\n",
    "matrix['actual'] = sentiment_raw['score']\n",
    "matrix.head()\n",
    "\n",
    "#actually not a negative comment, i.e. positive\n",
    "print('Actual NO:', len(matrix[matrix.actual ==False]), ' |',\n",
    "      'Predicted NO:', len(matrix.loc[(matrix['predicted'] == False) & (matrix['actual'] ==False)]), '|',\n",
    "      'Predicted Yes:', len(matrix.loc[(matrix['predicted'] == True) & (matrix['actual'] ==False)]), ' |',\n",
    "      'Specitivity:', len(matrix.loc[(matrix['predicted'] == False) & (matrix['actual'] ==False)]) / len(matrix[matrix.actual ==False]), 'or negatives identified correctly')\n",
    "print('Type I error or false positives:', len(matrix.loc[(matrix['predicted'] == True) & (matrix['actual'] ==False)]) / len(matrix[matrix.actual ==False]),'\\n')\n",
    "      \n",
    "print('Actual YES:', len(matrix[matrix.actual ==True]), '|',\n",
    "      'Predicted NO:', len(matrix.loc[(matrix['predicted'] == False) & (matrix['actual'] ==True)]), '|',\n",
    "      'Predicted YES:', len(matrix.loc[(matrix['predicted'] == True) & (matrix['actual'] ==True)]), '|',\n",
    "      'Sensitivity:', len(matrix.loc[(matrix['predicted'] == True) & (matrix['actual'] ==True)]) / len(matrix[matrix.actual ==True]), 'or positives identified correctly')\n",
    "print('Type II error or false negatives:', len(matrix.loc[(matrix['predicted'] == False) & (matrix['actual'] ==True)]) /len(matrix[matrix.actual ==True]), '\\n')\n",
    "\n",
    "print('Accuracy if guessed at random: 500 /100 = 0.5')"
   ]
  },
  {
   "cell_type": "markdown",
   "metadata": {},
   "source": [
    "# Train / Test Groups(Holdout Groups)"
   ]
  },
  {
   "cell_type": "code",
   "execution_count": 9,
   "metadata": {},
   "outputs": [
    {
     "name": "stdout",
     "output_type": "stream",
     "text": [
      "With 20% Holdout: 0.55\n",
      "Testing on Sample: 0.569\n"
     ]
    }
   ],
   "source": [
    "from sklearn.model_selection import train_test_split\n",
    "\n",
    "# Use train_test_split to create the necessary training and test groups\n",
    "X_train, X_test, y_train, y_test = train_test_split(data, target, test_size=0.2, random_state=20)\n",
    "\n",
    "print('With 20% Holdout: ' + str(bern.fit(X_train, y_train).score(X_test, y_test)))\n",
    "print('Testing on Sample: ' + str(bern.fit(data, target).score(data, target)))"
   ]
  },
  {
   "cell_type": "markdown",
   "metadata": {},
   "source": [
    "# Cross Validation"
   ]
  },
  {
   "cell_type": "code",
   "execution_count": 10,
   "metadata": {},
   "outputs": [
    {
     "data": {
      "text/plain": [
       "array([0.56, 0.56, 0.58, 0.52, 0.59, 0.59, 0.59, 0.57, 0.56, 0.57])"
      ]
     },
     "execution_count": 10,
     "metadata": {},
     "output_type": "execute_result"
    }
   ],
   "source": [
    "from sklearn.model_selection import cross_val_score\n",
    "cross_val_score(bern, data, target, cv=10)"
   ]
  },
  {
   "cell_type": "markdown",
   "metadata": {},
   "source": [
    "# Version 2: more words"
   ]
  },
  {
   "cell_type": "code",
   "execution_count": 11,
   "metadata": {},
   "outputs": [
    {
     "name": "stdout",
     "output_type": "stream",
     "text": [
      "The number of mislabelled points out of a total 1000 points: 394\n"
     ]
    }
   ],
   "source": [
    "keywords_larger = ['not', 'not good','angry', 'never', 'NEVER', 'bad','disappointing', 'poor', 'worst', 'no way','nasty', 'misleading']\n",
    "\n",
    "for word in keywords_larger:\n",
    "    sentiment_raw[str(word)] = sentiment_raw.review.str.contains(\n",
    "      ' ' +  str(word) + ' ',\n",
    "        case=False\n",
    "   ) \n",
    "    \n",
    "data_larger=sentiment_raw[keywords_larger]\n",
    "\n",
    "bern.fit(data_larger, target)\n",
    "\n",
    "y_pred_two = bern.predict(data_larger)\n",
    "print('The number of mislabelled points out of a total {} points: {}'.format(\n",
    "    data_larger.shape[0], \n",
    "    (target != y_pred_two).sum()\n",
    "))"
   ]
  },
  {
   "cell_type": "code",
   "execution_count": 12,
   "metadata": {},
   "outputs": [
    {
     "data": {
      "text/plain": [
       "<matplotlib.axes._subplots.AxesSubplot at 0xf59ed087f0>"
      ]
     },
     "execution_count": 12,
     "metadata": {},
     "output_type": "execute_result"
    },
    {
     "data": {
      "image/png": "[encoded data removed]",
      "text/plain": [
       "<Figure size 720x504 with 2 Axes>"
      ]
     },
     "metadata": {},
     "output_type": "display_data"
    }
   ],
   "source": [
    "plt.figure(figsize = (10,7))\n",
    "sns.heatmap(sentiment_raw.corr(), cmap = 'Pastel1')"
   ]
  },
  {
   "cell_type": "code",
   "execution_count": 13,
   "metadata": {},
   "outputs": [
    {
     "name": "stdout",
     "output_type": "stream",
     "text": [
      "[[480  20]\n",
      " [374 126]]\n"
     ]
    }
   ],
   "source": [
    "from sklearn.metrics import confusion_matrix\n",
    "matrix = confusion_matrix(target, y_pred_two)\n",
    "print(matrix)"
   ]
  },
  {
   "cell_type": "code",
   "execution_count": 14,
   "metadata": {},
   "outputs": [
    {
     "name": "stdout",
     "output_type": "stream",
     "text": [
      "Specitivity or negatives correctly identified: 0.96 type I error or false positives: 0.04\n",
      "Sensitivity or positives correctly identified: 0.252 type II error or false negatives 0.748\n"
     ]
    }
   ],
   "source": [
    "print('Specitivity or negatives correctly identified:', matrix[0,0] / (matrix[0,0] + matrix[0,1]), 'type I error or false positives:', matrix[0,1] / (matrix[0,0] + matrix[0,1]))\n",
    "print('Sensitivity or positives correctly identified:', matrix[1,1] / (matrix[1,0] + matrix[1,1]), 'type II error or false negatives', matrix[1,0] /(matrix[1,0] + matrix[1,1]))      "
   ]
  },
  {
   "cell_type": "code",
   "execution_count": 15,
   "metadata": {},
   "outputs": [
    {
     "data": {
      "text/plain": [
       "array([0.66, 0.57, 0.64, 0.56, 0.61, 0.62, 0.62, 0.61, 0.57, 0.58])"
      ]
     },
     "execution_count": 15,
     "metadata": {},
     "output_type": "execute_result"
    }
   ],
   "source": [
    "cross_val_score(bern, data_larger, target, cv=10)"
   ]
  },
  {
   "cell_type": "markdown",
   "metadata": {},
   "source": [
    "# Version 3: Even More Words"
   ]
  },
  {
   "cell_type": "code",
   "execution_count": 16,
   "metadata": {},
   "outputs": [],
   "source": [
    "negative_reviews = sentiment_raw[sentiment_raw.score ==True]\n",
    "positive_reviews = sentiment_raw[sentiment_raw.score ==False]\n",
    "\n",
    "only_reviews = negative_reviews.iloc[:, 0]\n",
    "only_positive = positive_reviews.iloc[:, 0]\n",
    "\n",
    "\n",
    "\n",
    "#Counts the most frequent words in negative and positive reviews\n",
    "#[Counter(\" \".join(only_reviews).split()).most_common(300)[x][0] for x in range(0, 300)]\n",
    "#Counter(\" \".join(only_positive).split()).most_common(200)"
   ]
  },
  {
   "cell_type": "code",
   "execution_count": 17,
   "metadata": {},
   "outputs": [
    {
     "name": "stdout",
     "output_type": "stream",
     "text": [
      "The number of mislabelled points out of a total 1000 points: 234\n"
     ]
    }
   ],
   "source": [
    "#keywords_even_larger =['not', 'but', 'don\\'t','never', 'wasn\\'t', 'didn\\'t', 'again', 'better', 'another', 'too', 'than', 'slow', 'worst', 'took', 'bit', 'way', 'waited', 'ordered', 'over', 'asked', 'can\\'t', 'bad', 'barely']\n",
    "keywords_even_larger = [Counter(\" \".join(only_reviews).split()).most_common(600)[x][0] for x in range(0, 599)]\n",
    " \n",
    "for word in keywords_even_larger:\n",
    "    sentiment_raw[str(word)] = sentiment_raw.review.str.contains(\n",
    "      ' ' +  str(word) + ' ',\n",
    "        case=False\n",
    "   ) \n",
    "    \n",
    "data_even_larger=sentiment_raw[keywords_even_larger]\n",
    "\n",
    "bern.fit(data_even_larger, target)\n",
    "\n",
    "y_pred_three = bern.predict(data_even_larger)\n",
    "print('The number of mislabelled points out of a total {} points: {}'.format(\n",
    "    data_even_larger.shape[0], \n",
    "    (target != y_pred_three).sum()\n",
    "))\n"
   ]
  },
  {
   "cell_type": "markdown",
   "metadata": {},
   "source": [
    "# Confusion Matrix"
   ]
  },
  {
   "cell_type": "code",
   "execution_count": 18,
   "metadata": {},
   "outputs": [
    {
     "name": "stdout",
     "output_type": "stream",
     "text": [
      "[[448  52]\n",
      " [182 318]]\n"
     ]
    }
   ],
   "source": [
    "matrix_one = confusion_matrix(target, y_pred_three)\n",
    "print(matrix_one)"
   ]
  },
  {
   "cell_type": "code",
   "execution_count": 19,
   "metadata": {},
   "outputs": [
    {
     "name": "stdout",
     "output_type": "stream",
     "text": [
      "Specificity or negatives correctly identified: 0.896 type I error or false positives: 0.104\n",
      "Sensitivity or positives correctly identified: 0.636 type II error or false negatives 0.364\n"
     ]
    }
   ],
   "source": [
    "print('Specificity or negatives correctly identified:', matrix_one[0,0] / (matrix_one[0,0] + matrix_one[0,1]), 'type I error or false positives:', matrix_one[0,1] / (matrix_one[0,0] + matrix_one[0,1]))\n",
    "print('Sensitivity or positives correctly identified:', matrix_one[1,1] / (matrix_one[1,0] + matrix_one[1,1]), 'type II error or false negatives', matrix_one[1,0] /(matrix_one[1,0] + matrix_one[1,1]))      "
   ]
  },
  {
   "cell_type": "markdown",
   "metadata": {},
   "source": [
    "# Precion, Recall, and F1 Score"
   ]
  },
  {
   "cell_type": "code",
   "execution_count": 20,
   "metadata": {},
   "outputs": [
    {
     "data": {
      "text/plain": [
       "0.8594594594594595"
      ]
     },
     "execution_count": 20,
     "metadata": {},
     "output_type": "execute_result"
    }
   ],
   "source": [
    "from sklearn.metrics import precision_score, recall_score, f1_score\n",
    "\n",
    "#precision = TP/(TP + FP)\n",
    "precision_score(target, y_pred_three)"
   ]
  },
  {
   "cell_type": "code",
   "execution_count": 21,
   "metadata": {},
   "outputs": [
    {
     "data": {
      "text/plain": [
       "0.636"
      ]
     },
     "execution_count": 21,
     "metadata": {},
     "output_type": "execute_result"
    }
   ],
   "source": [
    "#recall = TP/(TP+FN)\n",
    "recall_score(target, y_pred_three)"
   ]
  },
  {
   "cell_type": "code",
   "execution_count": 22,
   "metadata": {},
   "outputs": [
    {
     "data": {
      "text/plain": [
       "0.7310344827586207"
      ]
     },
     "execution_count": 22,
     "metadata": {},
     "output_type": "execute_result"
    }
   ],
   "source": [
    "f1_score(target, y_pred_three)"
   ]
  },
  {
   "cell_type": "markdown",
   "metadata": {},
   "source": [
    "# Cross-Validation"
   ]
  },
  {
   "cell_type": "code",
   "execution_count": 23,
   "metadata": {},
   "outputs": [
    {
     "data": {
      "text/plain": [
       "array([0.76, 0.66, 0.77, 0.66, 0.61, 0.64, 0.66, 0.7 , 0.68, 0.74])"
      ]
     },
     "execution_count": 23,
     "metadata": {},
     "output_type": "execute_result"
    }
   ],
   "source": [
    "cross_val_score(bern, data_even_larger, target, cv=10)"
   ]
  },
  {
   "cell_type": "markdown",
   "metadata": {},
   "source": [
    "# Version 4: Positive Words"
   ]
  },
  {
   "cell_type": "code",
   "execution_count": 24,
   "metadata": {},
   "outputs": [
    {
     "name": "stdout",
     "output_type": "stream",
     "text": [
      "The number of mislabelled points out of a total 1000 points: 208\n"
     ]
    }
   ],
   "source": [
    "#positive =['good', 'very', 'great', 'really', 'friendly', 'nice', 'love', 'best', 'definitely', 'always', 'excellent', 'happy', 'amazing', 'delicious', '!', 'awesome', 'loved', 'wonderful', 'fantastic', 'well', 'atmosphere', 'super', 'everything']\n",
    "positive = [Counter(\" \".join(only_positive).split()).most_common(600)[x][0] for x in range(0, 599)]\n",
    "for word in positive:\n",
    "    sentiment_raw[str(word)] = sentiment_raw.review.str.contains(\n",
    "      str(word) + ' ',\n",
    "        case=False\n",
    "   ) == False\n",
    "    \n",
    "    \n",
    "data_positive=sentiment_raw[positive]\n",
    "\n",
    "bern.fit(data_positive, target)\n",
    "\n",
    "y_pred_four = bern.predict(data_positive)\n",
    "print('The number of mislabelled points out of a total {} points: {}'.format(\n",
    "    data_positive.shape[0], \n",
    "    (target != y_pred_four).sum()\n",
    "))\n"
   ]
  },
  {
   "cell_type": "code",
   "execution_count": 25,
   "metadata": {},
   "outputs": [
    {
     "name": "stdout",
     "output_type": "stream",
     "text": [
      "[[354  62]\n",
      " [146 438]]\n"
     ]
    }
   ],
   "source": [
    "matrix_two = confusion_matrix(y_pred_four, target)\n",
    "print(matrix_two)"
   ]
  },
  {
   "cell_type": "code",
   "execution_count": 26,
   "metadata": {},
   "outputs": [
    {
     "name": "stdout",
     "output_type": "stream",
     "text": [
      "Specificity or negatives correctly identified: 0.8509615384615384 type I error or false positives: 0.14903846153846154\n",
      "Sensitivity or positives correctly identified: 0.75 type II error or false negatives 0.25\n"
     ]
    }
   ],
   "source": [
    "print('Specificity or negatives correctly identified:', matrix_two[0,0] / (matrix_two[0,0] + matrix_two[0,1]), 'type I error or false positives:', matrix_two[0,1] / (matrix_two[0,0] + matrix_two[0,1]))\n",
    "print('Sensitivity or positives correctly identified:', matrix_two[1,1] / (matrix_two[1,0] + matrix_two[1,1]), 'type II error or false negatives', matrix_two[1,0] /(matrix_two[1,0] + matrix_two[1,1]))      "
   ]
  },
  {
   "cell_type": "code",
   "execution_count": 27,
   "metadata": {},
   "outputs": [
    {
     "data": {
      "text/plain": [
       "array([0.67, 0.68, 0.76, 0.74, 0.66, 0.7 , 0.75, 0.73, 0.64, 0.85])"
      ]
     },
     "execution_count": 27,
     "metadata": {},
     "output_type": "execute_result"
    }
   ],
   "source": [
    "cross_val_score(bern, data_positive, target, cv=10)"
   ]
  },
  {
   "cell_type": "markdown",
   "metadata": {},
   "source": [
    "# Precion, Recall, and F1 Score"
   ]
  },
  {
   "cell_type": "code",
   "execution_count": 28,
   "metadata": {},
   "outputs": [
    {
     "data": {
      "text/plain": [
       "0.75"
      ]
     },
     "execution_count": 28,
     "metadata": {},
     "output_type": "execute_result"
    }
   ],
   "source": [
    "precision_score(target, y_pred_four)"
   ]
  },
  {
   "cell_type": "code",
   "execution_count": 29,
   "metadata": {},
   "outputs": [
    {
     "data": {
      "text/plain": [
       "0.876"
      ]
     },
     "execution_count": 29,
     "metadata": {},
     "output_type": "execute_result"
    }
   ],
   "source": [
    "#same as sensitivity\n",
    "recall_score(target, y_pred_four)"
   ]
  },
  {
   "cell_type": "code",
   "execution_count": 30,
   "metadata": {},
   "outputs": [
    {
     "data": {
      "text/plain": [
       "0.8081180811808119"
      ]
     },
     "execution_count": 30,
     "metadata": {},
     "output_type": "execute_result"
    }
   ],
   "source": [
    "f1_score(target, y_pred_four)"
   ]
  },
  {
   "cell_type": "markdown",
   "metadata": {},
   "source": [
    "# Version 5: Combination"
   ]
  },
  {
   "cell_type": "code",
   "execution_count": 31,
   "metadata": {},
   "outputs": [],
   "source": [
    "neg_missed = ['slow', 'Blah', 'the worst', 'blow', 'poor service', 'stupid', 'sucks', 'disgust', 'the worst', 'excuse', 'meh', 'appalling', 'bland', 'unsatisfying', 'disappointing ',  'rude', 'rarely', 'disappointed', 'overpriced', 'aren\\'t as good', 'unprofessional', 'sad', 'disgusting', 'lacked', 'ridiculous',  'horrible', 'dirty', 'disappointment', 'below average', 'closed down', 'some place else' , 'awful']\n",
    "for word in neg_missed:\n",
    "    sentiment_raw[str(word)] = sentiment_raw.review.str.contains(\n",
    "      str(word),\n",
    "        case=False\n",
    "   )\n",
    "    "
   ]
  },
  {
   "cell_type": "code",
   "execution_count": 32,
   "metadata": {},
   "outputs": [],
   "source": [
    "positive_missed = ['could not be happier', 'a lot', 'delight', 'the rigth amount', 'perfect', 'perfectly', 'definitely go back', 'amazing',  '!', 'one of the better', 'Will go back', 'worth', 'will return', 'awesome', 'good', ]\n",
    "for word in positive_missed:\n",
    "    sentiment_raw[str(word)] = sentiment_raw.review.str.contains(\n",
    "      str(word),\n",
    "        case=False\n",
    "   ) == False"
   ]
  },
  {
   "cell_type": "code",
   "execution_count": 33,
   "metadata": {},
   "outputs": [
    {
     "name": "stdout",
     "output_type": "stream",
     "text": [
      "The number of mislabelled points out of a total 1000 points: 161\n"
     ]
    }
   ],
   "source": [
    "data_combo = sentiment_raw[keywords_even_larger + positive + neg_missed + positive_missed]\n",
    "bern.fit(data_combo, target)\n",
    "\n",
    "y_pred_five = bern.predict(data_combo)\n",
    "print('The number of mislabelled points out of a total {} points: {}'.format(\n",
    "    data_combo.shape[0], \n",
    "    (target != y_pred_five).sum()\n",
    "))\n"
   ]
  },
  {
   "cell_type": "code",
   "execution_count": 34,
   "metadata": {},
   "outputs": [],
   "source": [
    "sentiment_raw['Predictions'] = np.array(target == y_pred_five).reshape(-1,1)"
   ]
  },
  {
   "cell_type": "code",
   "execution_count": 65,
   "metadata": {},
   "outputs": [],
   "source": [
    "#check where the algorith is miscategorizing\n",
    "#sentiment_raw[sentiment_raw.Predictions ==False]"
   ]
  },
  {
   "cell_type": "code",
   "execution_count": 37,
   "metadata": {},
   "outputs": [
    {
     "name": "stdout",
     "output_type": "stream",
     "text": [
      "[[428  72]\n",
      " [ 89 411]]\n"
     ]
    }
   ],
   "source": [
    "matrix_three = confusion_matrix(target, y_pred_five)\n",
    "print(matrix_three)"
   ]
  },
  {
   "cell_type": "code",
   "execution_count": 38,
   "metadata": {},
   "outputs": [
    {
     "name": "stdout",
     "output_type": "stream",
     "text": [
      "Specificity or negatives correctly identified: 0.856 type I error or false positives: 0.13846153846153847\n",
      "Sensitivity or positives correctly identified: 0.822 type II error or false negatives 0.15008431703204048\n"
     ]
    }
   ],
   "source": [
    "print('Specificity or negatives correctly identified:', matrix_three[0,0] / (matrix_three[0,0] + matrix_three[0,1]), 'type I error or false positives:', matrix_three[0,1] / (matrix_one[0,0] + matrix_three[0,1]))\n",
    "print('Sensitivity or positives correctly identified:', matrix_three[1,1] / (matrix_three[1,0] + matrix_three[1,1]), 'type II error or false negatives', matrix_three[1,0] /(matrix_one[1,0] + matrix_three[1,1]))      "
   ]
  },
  {
   "cell_type": "markdown",
   "metadata": {},
   "source": [
    "# Precion, Recall, and F1 Score"
   ]
  },
  {
   "cell_type": "code",
   "execution_count": 39,
   "metadata": {},
   "outputs": [
    {
     "data": {
      "text/plain": [
       "0.8509316770186336"
      ]
     },
     "execution_count": 39,
     "metadata": {},
     "output_type": "execute_result"
    }
   ],
   "source": [
    "precision_score(target, y_pred_five)"
   ]
  },
  {
   "cell_type": "code",
   "execution_count": 40,
   "metadata": {},
   "outputs": [
    {
     "data": {
      "text/plain": [
       "0.822"
      ]
     },
     "execution_count": 40,
     "metadata": {},
     "output_type": "execute_result"
    }
   ],
   "source": [
    "recall_score(target, y_pred_five)"
   ]
  },
  {
   "cell_type": "code",
   "execution_count": 41,
   "metadata": {},
   "outputs": [
    {
     "data": {
      "text/plain": [
       "0.8362156663275686"
      ]
     },
     "execution_count": 41,
     "metadata": {},
     "output_type": "execute_result"
    }
   ],
   "source": [
    "f1_score(target, y_pred_five)"
   ]
  },
  {
   "cell_type": "markdown",
   "metadata": {},
   "source": [
    "# Cross-Validation"
   ]
  },
  {
   "cell_type": "code",
   "execution_count": 42,
   "metadata": {},
   "outputs": [
    {
     "data": {
      "text/plain": [
       "array([0.75, 0.69, 0.81, 0.69, 0.65, 0.73, 0.78, 0.86, 0.73, 0.81])"
      ]
     },
     "execution_count": 42,
     "metadata": {},
     "output_type": "execute_result"
    }
   ],
   "source": [
    "cross_val_score(bern, data_combo, target, cv=10)"
   ]
  },
  {
   "cell_type": "code",
   "execution_count": 64,
   "metadata": {},
   "outputs": [
    {
     "data": {
      "text/plain": [
       "0.75"
      ]
     },
     "execution_count": 64,
     "metadata": {},
     "output_type": "execute_result"
    }
   ],
   "source": [
    "(cross_val_score(bern, data_combo, target, cv=10)).mean()"
   ]
  },
  {
   "cell_type": "markdown",
   "metadata": {},
   "source": [
    "# Amazon"
   ]
  },
  {
   "cell_type": "code",
   "execution_count": 43,
   "metadata": {},
   "outputs": [],
   "source": [
    "sentiment_amazon = pd.read_csv(r'C:\\Users\\owner\\projects\\Thinkful_Projects\\sentiment labelled sentences\\amazon_cells_labelled.txt', encoding='ISO-8859-1', delimiter = '\\t', header=None)"
   ]
  },
  {
   "cell_type": "code",
   "execution_count": 44,
   "metadata": {},
   "outputs": [],
   "source": [
    "sentiment_amazon.columns  =['review', 'score']"
   ]
  },
  {
   "cell_type": "code",
   "execution_count": 45,
   "metadata": {},
   "outputs": [
    {
     "data": {
      "text/html": [
       "<div>\n",
       "<style scoped>\n",
       "    .dataframe tbody tr th:only-of-type {\n",
       "        vertical-align: middle;\n",
       "    }\n",
       "\n",
       "    .dataframe tbody tr th {\n",
       "        vertical-align: top;\n",
       "    }\n",
       "\n",
       "    .dataframe thead th {\n",
       "        text-align: right;\n",
       "    }\n",
       "</style>\n",
       "<table border=\"1\" class=\"dataframe\">\n",
       "  <thead>\n",
       "    <tr style=\"text-align: right;\">\n",
       "      <th></th>\n",
       "      <th>review</th>\n",
       "      <th>score</th>\n",
       "    </tr>\n",
       "  </thead>\n",
       "  <tbody>\n",
       "    <tr>\n",
       "      <th>0</th>\n",
       "      <td>So there is no way for me to plug it in here i...</td>\n",
       "      <td>0</td>\n",
       "    </tr>\n",
       "    <tr>\n",
       "      <th>1</th>\n",
       "      <td>Good case, Excellent value.</td>\n",
       "      <td>1</td>\n",
       "    </tr>\n",
       "    <tr>\n",
       "      <th>2</th>\n",
       "      <td>Great for the jawbone.</td>\n",
       "      <td>1</td>\n",
       "    </tr>\n",
       "    <tr>\n",
       "      <th>3</th>\n",
       "      <td>Tied to charger for conversations lasting more...</td>\n",
       "      <td>0</td>\n",
       "    </tr>\n",
       "    <tr>\n",
       "      <th>4</th>\n",
       "      <td>The mic is great.</td>\n",
       "      <td>1</td>\n",
       "    </tr>\n",
       "  </tbody>\n",
       "</table>\n",
       "</div>"
      ],
      "text/plain": [
       "                                              review  score\n",
       "0  So there is no way for me to plug it in here i...      0\n",
       "1                        Good case, Excellent value.      1\n",
       "2                             Great for the jawbone.      1\n",
       "3  Tied to charger for conversations lasting more...      0\n",
       "4                                  The mic is great.      1"
      ]
     },
     "execution_count": 45,
     "metadata": {},
     "output_type": "execute_result"
    }
   ],
   "source": [
    "sentiment_amazon.head()"
   ]
  },
  {
   "cell_type": "code",
   "execution_count": 46,
   "metadata": {},
   "outputs": [],
   "source": [
    "sentiment_amazon['score'] =(sentiment_amazon['score']==0)"
   ]
  },
  {
   "cell_type": "code",
   "execution_count": 47,
   "metadata": {},
   "outputs": [
    {
     "data": {
      "text/html": [
       "<div>\n",
       "<style scoped>\n",
       "    .dataframe tbody tr th:only-of-type {\n",
       "        vertical-align: middle;\n",
       "    }\n",
       "\n",
       "    .dataframe tbody tr th {\n",
       "        vertical-align: top;\n",
       "    }\n",
       "\n",
       "    .dataframe thead th {\n",
       "        text-align: right;\n",
       "    }\n",
       "</style>\n",
       "<table border=\"1\" class=\"dataframe\">\n",
       "  <thead>\n",
       "    <tr style=\"text-align: right;\">\n",
       "      <th></th>\n",
       "      <th>review</th>\n",
       "      <th>score</th>\n",
       "    </tr>\n",
       "  </thead>\n",
       "  <tbody>\n",
       "    <tr>\n",
       "      <th>0</th>\n",
       "      <td>So there is no way for me to plug it in here i...</td>\n",
       "      <td>True</td>\n",
       "    </tr>\n",
       "    <tr>\n",
       "      <th>1</th>\n",
       "      <td>Good case, Excellent value.</td>\n",
       "      <td>False</td>\n",
       "    </tr>\n",
       "    <tr>\n",
       "      <th>2</th>\n",
       "      <td>Great for the jawbone.</td>\n",
       "      <td>False</td>\n",
       "    </tr>\n",
       "    <tr>\n",
       "      <th>3</th>\n",
       "      <td>Tied to charger for conversations lasting more...</td>\n",
       "      <td>True</td>\n",
       "    </tr>\n",
       "    <tr>\n",
       "      <th>4</th>\n",
       "      <td>The mic is great.</td>\n",
       "      <td>False</td>\n",
       "    </tr>\n",
       "  </tbody>\n",
       "</table>\n",
       "</div>"
      ],
      "text/plain": [
       "                                              review  score\n",
       "0  So there is no way for me to plug it in here i...   True\n",
       "1                        Good case, Excellent value.  False\n",
       "2                             Great for the jawbone.  False\n",
       "3  Tied to charger for conversations lasting more...   True\n",
       "4                                  The mic is great.  False"
      ]
     },
     "execution_count": 47,
     "metadata": {},
     "output_type": "execute_result"
    }
   ],
   "source": [
    "sentiment_amazon.head()"
   ]
  },
  {
   "cell_type": "code",
   "execution_count": 56,
   "metadata": {},
   "outputs": [],
   "source": [
    "for word in keywords_even_larger:\n",
    "    sentiment_amazon[str(word)] = sentiment_amazon.review.str.contains(\n",
    "    ' ' + str(word) + ' ',\n",
    "        case=False\n",
    "    )\n",
    "    \n",
    "for word in positive:\n",
    "    sentiment_amazon[str(word)] = sentiment_raw.review.str.contains(\n",
    "      str(word) + ' ',\n",
    "        case=False\n",
    "   ) == False\n",
    "    \n",
    "\n",
    "for word in neg_missed:\n",
    "    sentiment_amazon[str(word)] = sentiment_raw.review.str.contains(\n",
    "      str(word),\n",
    "        case=False\n",
    "   )    \n",
    "    \n",
    "\n",
    "for word in positive_missed:\n",
    "    sentiment_amazon[str(word)] = sentiment_raw.review.str.contains(\n",
    "      str(word),\n",
    "        case=False\n",
    "   ) == False"
   ]
  },
  {
   "cell_type": "code",
   "execution_count": 57,
   "metadata": {},
   "outputs": [],
   "source": [
    "data_amaz=sentiment_amazon[keywords_even_larger + positive + neg_missed + positive_missed]\n",
    "target_amaz=sentiment_amazon['score']"
   ]
  },
  {
   "cell_type": "code",
   "execution_count": 58,
   "metadata": {},
   "outputs": [
    {
     "name": "stdout",
     "output_type": "stream",
     "text": [
      "The number of mislabelled points out of a total 1000 points: 258\n"
     ]
    }
   ],
   "source": [
    "bern.fit(data_amaz, target_amaz)\n",
    "\n",
    "y_pred_amaz = bern.predict(data_amaz)\n",
    "\n",
    "print('The number of mislabelled points out of a total {} points: {}'.format(\n",
    "    data.shape[0], \n",
    "    (target_amaz != y_pred_amaz).sum()\n",
    "))"
   ]
  },
  {
   "cell_type": "markdown",
   "metadata": {},
   "source": [
    "# IMDB"
   ]
  },
  {
   "cell_type": "code",
   "execution_count": 51,
   "metadata": {},
   "outputs": [],
   "source": [
    "sentiment_imdb = pd.read_csv(r'C:\\Users\\owner\\projects\\Thinkful_Projects\\sentiment labelled sentences\\imdb_labelled.txt', encoding='ISO-8859-1', delimiter = '\\t', header=None)\n",
    "sentiment_imdb.columns  =['review', 'score']\n",
    "#sentiment_imdb.head(100)"
   ]
  },
  {
   "cell_type": "code",
   "execution_count": 60,
   "metadata": {},
   "outputs": [],
   "source": [
    "for word in keywords_even_larger:\n",
    "    sentiment_imdb[str(word)] = sentiment_imdb.review.str.contains(\n",
    "        ' ' + str(word) + ' ',\n",
    "        case=False\n",
    "    )\n",
    "    \n",
    "for word in positive:\n",
    "    sentiment_imdb[str(word)] = sentiment_raw.review.str.contains(\n",
    "      str(word) + ' ',\n",
    "        case=False\n",
    "   ) == False\n",
    "    \n",
    "    \n",
    "for word in neg_missed:\n",
    "    sentiment_imdb[str(word)] = sentiment_raw.review.str.contains(\n",
    "      str(word),\n",
    "          case=False\n",
    "    )\n",
    "        \n",
    "for word in positive_missed:\n",
    "    sentiment_imdb[str(word)] = sentiment_raw.review.str.contains(\n",
    "      str(word),\n",
    "        case=False\n",
    "   ) == False"
   ]
  },
  {
   "cell_type": "code",
   "execution_count": 61,
   "metadata": {},
   "outputs": [],
   "source": [
    "sentiment_imdb['score'] =(sentiment_imdb['score']==0)"
   ]
  },
  {
   "cell_type": "code",
   "execution_count": 62,
   "metadata": {},
   "outputs": [],
   "source": [
    "data_imdb=sentiment_imdb[keywords_even_larger+positive]\n",
    "target_imdb=sentiment_imdb['score']"
   ]
  },
  {
   "cell_type": "code",
   "execution_count": 63,
   "metadata": {},
   "outputs": [
    {
     "name": "stdout",
     "output_type": "stream",
     "text": [
      "The number of mislabelled points out of a total 1000 points: 155\n"
     ]
    }
   ],
   "source": [
    "bern.fit(data_imdb, target_imdb)\n",
    "\n",
    "y_pred_imdb = bern.predict(data_imdb)\n",
    "\n",
    "print('The number of mislabelled points out of a total {} points: {}'.format(\n",
    "    data.shape[0], \n",
    "    (target_imdb != y_pred_imdb).sum()\n",
    "))"
   ]
  }
 ],
 "metadata": {
  "kernelspec": {
   "display_name": "Python 3",
   "language": "python",
   "name": "python3"
  },
  "language_info": {
   "codemirror_mode": {
    "name": "ipython",
    "version": 3
   },
   "file_extension": ".py",
   "mimetype": "text/x-python",
   "name": "python",
   "nbconvert_exporter": "python",
   "pygments_lexer": "ipython3",
   "version": "3.6.5"
  }
 },
 "nbformat": 4,
 "nbformat_minor": 2
}
