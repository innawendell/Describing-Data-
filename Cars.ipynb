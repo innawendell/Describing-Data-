{
 "cells": [
  {
   "cell_type": "code",
   "execution_count": 1,
   "metadata": {},
   "outputs": [],
   "source": [
    "import numpy as np\n",
    "import pandas as pd\n",
    "import matplotlib.pyplot as plt\n",
    "import scipy.stats as stats\n",
    "import seaborn as sns\n",
    "%matplotlib inline"
   ]
  },
  {
   "cell_type": "markdown",
   "metadata": {},
   "source": [
    "# Used Cars Dataset\n",
    "This dataset was uploaded to Kaggle by Orges Leka and is accessible under the url: https://www.kaggle.com/orgesleka/used-cars-database. He scraped over 371,713 used car listings from German *Ebay* Classified Ads. The content of the data is in German."
   ]
  },
  {
   "cell_type": "markdown",
   "metadata": {},
   "source": [
    "## What can we find out?\n",
    "We will approach this data set from the perspective of a potential used car buyer. What is a good deal? To determine this, it becomes necessary to explore the following questions:\n",
    "\n",
    "1. Does mileage effect the car price? Is the car with low mileage always going to be expensive?\n",
    "2. Is there a correlation between the registration year and the car price?  Is a newer car always more expensive?\n",
    "3. What are the chances of getting a good deal depending on the type of transmission?\n",
    "4. How about fuel type? Do we have better chances with diesel or with gas?\n",
    "5. How much time do we have as buyers to spot a great deal before it disappears from *Ebay*?"
   ]
  },
  {
   "cell_type": "code",
   "execution_count": 2,
   "metadata": {},
   "outputs": [
    {
     "data": {
      "text/plain": [
       "Index(['dateCrawled', 'name', 'seller', 'offerType', 'price', 'abtest',\n",
       "       'vehicleType', 'yearOfRegistration', 'gearbox', 'powerPS', 'model',\n",
       "       'kilometer', 'monthOfRegistration', 'fuelType', 'brand',\n",
       "       'notRepairedDamage', 'dateCreated', 'nrOfPictures', 'postalCode',\n",
       "       'lastSeen'],\n",
       "      dtype='object')"
      ]
     },
     "execution_count": 2,
     "metadata": {},
     "output_type": "execute_result"
    }
   ],
   "source": [
    "#Import the raw data\n",
    "cars = pd.read_csv('C:\\Inna\\'s files\\data\\Cars\\cars.csv', encoding='ISO-8859-1')\n",
    "cars.columns"
   ]
  },
  {
   "cell_type": "code",
   "execution_count": 3,
   "metadata": {},
   "outputs": [
    {
     "data": {
      "text/html": [
       "<div>\n",
       "<style scoped>\n",
       "    .dataframe tbody tr th:only-of-type {\n",
       "        vertical-align: middle;\n",
       "    }\n",
       "\n",
       "    .dataframe tbody tr th {\n",
       "        vertical-align: top;\n",
       "    }\n",
       "\n",
       "    .dataframe thead th {\n",
       "        text-align: right;\n",
       "    }\n",
       "</style>\n",
       "<table border=\"1\" class=\"dataframe\">\n",
       "  <thead>\n",
       "    <tr style=\"text-align: right;\">\n",
       "      <th></th>\n",
       "      <th>dateCrawled</th>\n",
       "      <th>name</th>\n",
       "      <th>seller</th>\n",
       "      <th>offerType</th>\n",
       "      <th>price</th>\n",
       "      <th>abtest</th>\n",
       "      <th>vehicleType</th>\n",
       "      <th>yearOfRegistration</th>\n",
       "      <th>gearbox</th>\n",
       "      <th>powerPS</th>\n",
       "      <th>model</th>\n",
       "      <th>kilometer</th>\n",
       "      <th>monthOfRegistration</th>\n",
       "      <th>fuelType</th>\n",
       "      <th>brand</th>\n",
       "      <th>notRepairedDamage</th>\n",
       "      <th>dateCreated</th>\n",
       "      <th>nrOfPictures</th>\n",
       "      <th>postalCode</th>\n",
       "      <th>lastSeen</th>\n",
       "    </tr>\n",
       "  </thead>\n",
       "  <tbody>\n",
       "    <tr>\n",
       "      <th>0</th>\n",
       "      <td>3/24/2016 11:52</td>\n",
       "      <td>Golf_3_1.6</td>\n",
       "      <td>privat</td>\n",
       "      <td>Angebot</td>\n",
       "      <td>480.0</td>\n",
       "      <td>test</td>\n",
       "      <td>NaN</td>\n",
       "      <td>1993</td>\n",
       "      <td>manuell</td>\n",
       "      <td>0</td>\n",
       "      <td>golf</td>\n",
       "      <td>150000</td>\n",
       "      <td>0</td>\n",
       "      <td>benzin</td>\n",
       "      <td>volkswagen</td>\n",
       "      <td>NaN</td>\n",
       "      <td>3/24/2016 0:00</td>\n",
       "      <td>0</td>\n",
       "      <td>70435</td>\n",
       "      <td>4/7/2016 3:16</td>\n",
       "    </tr>\n",
       "    <tr>\n",
       "      <th>1</th>\n",
       "      <td>3/24/2016 10:58</td>\n",
       "      <td>A5_Sportback_2.7_Tdi</td>\n",
       "      <td>privat</td>\n",
       "      <td>Angebot</td>\n",
       "      <td>18300.0</td>\n",
       "      <td>test</td>\n",
       "      <td>coupe</td>\n",
       "      <td>2011</td>\n",
       "      <td>manuell</td>\n",
       "      <td>190</td>\n",
       "      <td>NaN</td>\n",
       "      <td>125000</td>\n",
       "      <td>5</td>\n",
       "      <td>diesel</td>\n",
       "      <td>audi</td>\n",
       "      <td>ja</td>\n",
       "      <td>3/24/2016 0:00</td>\n",
       "      <td>0</td>\n",
       "      <td>66954</td>\n",
       "      <td>4/7/2016 1:46</td>\n",
       "    </tr>\n",
       "    <tr>\n",
       "      <th>2</th>\n",
       "      <td>3/14/2016 12:52</td>\n",
       "      <td>Jeep_Grand_Cherokee_\"Overland\"</td>\n",
       "      <td>privat</td>\n",
       "      <td>Angebot</td>\n",
       "      <td>9800.0</td>\n",
       "      <td>test</td>\n",
       "      <td>suv</td>\n",
       "      <td>2004</td>\n",
       "      <td>automatik</td>\n",
       "      <td>163</td>\n",
       "      <td>grand</td>\n",
       "      <td>125000</td>\n",
       "      <td>8</td>\n",
       "      <td>diesel</td>\n",
       "      <td>jeep</td>\n",
       "      <td>NaN</td>\n",
       "      <td>3/14/2016 0:00</td>\n",
       "      <td>0</td>\n",
       "      <td>90480</td>\n",
       "      <td>4/5/2016 12:47</td>\n",
       "    </tr>\n",
       "    <tr>\n",
       "      <th>3</th>\n",
       "      <td>3/17/2016 16:54</td>\n",
       "      <td>GOLF_4_1_4__3TÜRER</td>\n",
       "      <td>privat</td>\n",
       "      <td>Angebot</td>\n",
       "      <td>1500.0</td>\n",
       "      <td>test</td>\n",
       "      <td>kleinwagen</td>\n",
       "      <td>2001</td>\n",
       "      <td>manuell</td>\n",
       "      <td>75</td>\n",
       "      <td>golf</td>\n",
       "      <td>150000</td>\n",
       "      <td>6</td>\n",
       "      <td>benzin</td>\n",
       "      <td>volkswagen</td>\n",
       "      <td>nein</td>\n",
       "      <td>3/17/2016 0:00</td>\n",
       "      <td>0</td>\n",
       "      <td>91074</td>\n",
       "      <td>3/17/2016 17:40</td>\n",
       "    </tr>\n",
       "    <tr>\n",
       "      <th>4</th>\n",
       "      <td>3/31/2016 17:25</td>\n",
       "      <td>Skoda_Fabia_1.4_TDI_PD_Classic</td>\n",
       "      <td>privat</td>\n",
       "      <td>Angebot</td>\n",
       "      <td>3600.0</td>\n",
       "      <td>test</td>\n",
       "      <td>kleinwagen</td>\n",
       "      <td>2008</td>\n",
       "      <td>manuell</td>\n",
       "      <td>69</td>\n",
       "      <td>fabia</td>\n",
       "      <td>90000</td>\n",
       "      <td>7</td>\n",
       "      <td>diesel</td>\n",
       "      <td>skoda</td>\n",
       "      <td>nein</td>\n",
       "      <td>3/31/2016 0:00</td>\n",
       "      <td>0</td>\n",
       "      <td>60437</td>\n",
       "      <td>4/6/2016 10:17</td>\n",
       "    </tr>\n",
       "  </tbody>\n",
       "</table>\n",
       "</div>"
      ],
      "text/plain": [
       "       dateCrawled                            name  seller offerType    price  \\\n",
       "0  3/24/2016 11:52                      Golf_3_1.6  privat   Angebot    480.0   \n",
       "1  3/24/2016 10:58            A5_Sportback_2.7_Tdi  privat   Angebot  18300.0   \n",
       "2  3/14/2016 12:52  Jeep_Grand_Cherokee_\"Overland\"  privat   Angebot   9800.0   \n",
       "3  3/17/2016 16:54              GOLF_4_1_4__3TÜRER  privat   Angebot   1500.0   \n",
       "4  3/31/2016 17:25  Skoda_Fabia_1.4_TDI_PD_Classic  privat   Angebot   3600.0   \n",
       "\n",
       "  abtest vehicleType  yearOfRegistration    gearbox  powerPS  model  \\\n",
       "0   test         NaN                1993    manuell        0   golf   \n",
       "1   test       coupe                2011    manuell      190    NaN   \n",
       "2   test         suv                2004  automatik      163  grand   \n",
       "3   test  kleinwagen                2001    manuell       75   golf   \n",
       "4   test  kleinwagen                2008    manuell       69  fabia   \n",
       "\n",
       "   kilometer  monthOfRegistration fuelType       brand notRepairedDamage  \\\n",
       "0     150000                    0   benzin  volkswagen               NaN   \n",
       "1     125000                    5   diesel        audi                ja   \n",
       "2     125000                    8   diesel        jeep               NaN   \n",
       "3     150000                    6   benzin  volkswagen              nein   \n",
       "4      90000                    7   diesel       skoda              nein   \n",
       "\n",
       "      dateCreated  nrOfPictures  postalCode         lastSeen  \n",
       "0  3/24/2016 0:00             0       70435    4/7/2016 3:16  \n",
       "1  3/24/2016 0:00             0       66954    4/7/2016 1:46  \n",
       "2  3/14/2016 0:00             0       90480   4/5/2016 12:47  \n",
       "3  3/17/2016 0:00             0       91074  3/17/2016 17:40  \n",
       "4  3/31/2016 0:00             0       60437   4/6/2016 10:17  "
      ]
     },
     "execution_count": 3,
     "metadata": {},
     "output_type": "execute_result"
    }
   ],
   "source": [
    "cars.head()"
   ]
  },
  {
   "cell_type": "code",
   "execution_count": 4,
   "metadata": {},
   "outputs": [],
   "source": [
    "#Change the data type of the columns\n",
    "cars['dateCreated'] = pd.to_datetime(cars['dateCreated'])\n",
    "cars['lastSeen'] = pd.to_datetime(cars['lastSeen'])\n",
    "cars['price'] = pd.to_numeric(cars['price'], errors='coerce')\n",
    "cars = cars.dropna(subset=['price'])                             \n",
    "cars['price'] = cars['price'].astype(int)"
   ]
  },
  {
   "cell_type": "markdown",
   "metadata": {},
   "source": [
    "Since we are approaching this data as potential buyers, we will only look at cars for sale ('Angebot') and not wanted ('Gesuch')."
   ]
  },
  {
   "cell_type": "code",
   "execution_count": 5,
   "metadata": {},
   "outputs": [],
   "source": [
    "#Remove 'wanted'\n",
    "cars = cars.drop(cars[cars['offerType'] != 'Angebot'].index)"
   ]
  },
  {
   "cell_type": "markdown",
   "metadata": {},
   "source": [
    "Additionally, we will make the decision that we are not interested in purchasing a car with unrepaired damage, so we will only look at the corresponding subset of the data."
   ]
  },
  {
   "cell_type": "code",
   "execution_count": 6,
   "metadata": {},
   "outputs": [],
   "source": [
    "#Exclude the cars with not repaired damage\n",
    "no_damage = cars.loc[lambda df: cars['notRepairedDamage'] == 'nein', :]"
   ]
  },
  {
   "cell_type": "code",
   "execution_count": 7,
   "metadata": {},
   "outputs": [
    {
     "data": {
      "text/plain": [
       "dateCrawled                    object\n",
       "name                           object\n",
       "seller                         object\n",
       "offerType                      object\n",
       "price                           int32\n",
       "abtest                         object\n",
       "vehicleType                    object\n",
       "yearOfRegistration              int64\n",
       "gearbox                        object\n",
       "powerPS                         int64\n",
       "model                          object\n",
       "kilometer                       int64\n",
       "monthOfRegistration             int64\n",
       "fuelType                       object\n",
       "brand                          object\n",
       "notRepairedDamage              object\n",
       "dateCreated            datetime64[ns]\n",
       "nrOfPictures                    int64\n",
       "postalCode                      int64\n",
       "lastSeen               datetime64[ns]\n",
       "dtype: object"
      ]
     },
     "execution_count": 7,
     "metadata": {},
     "output_type": "execute_result"
    }
   ],
   "source": [
    "#Verify the data types of the columns\n",
    "no_damage.dtypes"
   ]
  },
  {
   "cell_type": "code",
   "execution_count": 8,
   "metadata": {},
   "outputs": [
    {
     "data": {
      "text/html": [
       "<div>\n",
       "<style scoped>\n",
       "    .dataframe tbody tr th:only-of-type {\n",
       "        vertical-align: middle;\n",
       "    }\n",
       "\n",
       "    .dataframe tbody tr th {\n",
       "        vertical-align: top;\n",
       "    }\n",
       "\n",
       "    .dataframe thead th {\n",
       "        text-align: right;\n",
       "    }\n",
       "</style>\n",
       "<table border=\"1\" class=\"dataframe\">\n",
       "  <thead>\n",
       "    <tr style=\"text-align: right;\">\n",
       "      <th></th>\n",
       "      <th>price</th>\n",
       "      <th>yearOfRegistration</th>\n",
       "      <th>powerPS</th>\n",
       "      <th>kilometer</th>\n",
       "      <th>monthOfRegistration</th>\n",
       "      <th>nrOfPictures</th>\n",
       "      <th>postalCode</th>\n",
       "    </tr>\n",
       "  </thead>\n",
       "  <tbody>\n",
       "    <tr>\n",
       "      <th>count</th>\n",
       "      <td>2.633140e+05</td>\n",
       "      <td>263314.000000</td>\n",
       "      <td>263314.000000</td>\n",
       "      <td>263314.000000</td>\n",
       "      <td>263314.000000</td>\n",
       "      <td>263314.0</td>\n",
       "      <td>263314.000000</td>\n",
       "    </tr>\n",
       "    <tr>\n",
       "      <th>mean</th>\n",
       "      <td>9.130037e+03</td>\n",
       "      <td>2004.126659</td>\n",
       "      <td>125.359924</td>\n",
       "      <td>123037.723023</td>\n",
       "      <td>6.140596</td>\n",
       "      <td>0.0</td>\n",
       "      <td>51511.622044</td>\n",
       "    </tr>\n",
       "    <tr>\n",
       "      <th>std</th>\n",
       "      <td>3.959994e+05</td>\n",
       "      <td>33.801479</td>\n",
       "      <td>168.193558</td>\n",
       "      <td>40559.612775</td>\n",
       "      <td>3.503986</td>\n",
       "      <td>0.0</td>\n",
       "      <td>25902.340202</td>\n",
       "    </tr>\n",
       "    <tr>\n",
       "      <th>min</th>\n",
       "      <td>0.000000e+00</td>\n",
       "      <td>1000.000000</td>\n",
       "      <td>0.000000</td>\n",
       "      <td>5000.000000</td>\n",
       "      <td>0.000000</td>\n",
       "      <td>0.0</td>\n",
       "      <td>1067.000000</td>\n",
       "    </tr>\n",
       "    <tr>\n",
       "      <th>25%</th>\n",
       "      <td>1.700000e+03</td>\n",
       "      <td>2000.000000</td>\n",
       "      <td>75.000000</td>\n",
       "      <td>100000.000000</td>\n",
       "      <td>3.000000</td>\n",
       "      <td>0.0</td>\n",
       "      <td>30989.000000</td>\n",
       "    </tr>\n",
       "    <tr>\n",
       "      <th>50%</th>\n",
       "      <td>3.999000e+03</td>\n",
       "      <td>2004.000000</td>\n",
       "      <td>116.000000</td>\n",
       "      <td>150000.000000</td>\n",
       "      <td>6.000000</td>\n",
       "      <td>0.0</td>\n",
       "      <td>50735.000000</td>\n",
       "    </tr>\n",
       "    <tr>\n",
       "      <th>75%</th>\n",
       "      <td>8.900000e+03</td>\n",
       "      <td>2009.000000</td>\n",
       "      <td>150.000000</td>\n",
       "      <td>150000.000000</td>\n",
       "      <td>9.000000</td>\n",
       "      <td>0.0</td>\n",
       "      <td>72535.000000</td>\n",
       "    </tr>\n",
       "    <tr>\n",
       "      <th>max</th>\n",
       "      <td>1.000000e+08</td>\n",
       "      <td>9999.000000</td>\n",
       "      <td>20000.000000</td>\n",
       "      <td>150000.000000</td>\n",
       "      <td>12.000000</td>\n",
       "      <td>0.0</td>\n",
       "      <td>99998.000000</td>\n",
       "    </tr>\n",
       "  </tbody>\n",
       "</table>\n",
       "</div>"
      ],
      "text/plain": [
       "              price  yearOfRegistration        powerPS      kilometer  \\\n",
       "count  2.633140e+05       263314.000000  263314.000000  263314.000000   \n",
       "mean   9.130037e+03         2004.126659     125.359924  123037.723023   \n",
       "std    3.959994e+05           33.801479     168.193558   40559.612775   \n",
       "min    0.000000e+00         1000.000000       0.000000    5000.000000   \n",
       "25%    1.700000e+03         2000.000000      75.000000  100000.000000   \n",
       "50%    3.999000e+03         2004.000000     116.000000  150000.000000   \n",
       "75%    8.900000e+03         2009.000000     150.000000  150000.000000   \n",
       "max    1.000000e+08         9999.000000   20000.000000  150000.000000   \n",
       "\n",
       "       monthOfRegistration  nrOfPictures     postalCode  \n",
       "count        263314.000000      263314.0  263314.000000  \n",
       "mean              6.140596           0.0   51511.622044  \n",
       "std               3.503986           0.0   25902.340202  \n",
       "min               0.000000           0.0    1067.000000  \n",
       "25%               3.000000           0.0   30989.000000  \n",
       "50%               6.000000           0.0   50735.000000  \n",
       "75%               9.000000           0.0   72535.000000  \n",
       "max              12.000000           0.0   99998.000000  "
      ]
     },
     "execution_count": 8,
     "metadata": {},
     "output_type": "execute_result"
    }
   ],
   "source": [
    "no_damage.describe()"
   ]
  },
  {
   "cell_type": "code",
   "execution_count": 9,
   "metadata": {},
   "outputs": [],
   "source": [
    "#There is a year value of 9999 which is not helpful for our analysis. We will remove this entry from the data. \n",
    "#Also, we will remove any data with years earlier than 1910 and over 2018 which are suspicious.\n",
    "fixed_year = no_damage.loc[(no_damage['yearOfRegistration'] != 9999) &(no_damage['yearOfRegistration']> 1910) & (no_damage['yearOfRegistration']< 2019)]"
   ]
  },
  {
   "cell_type": "markdown",
   "metadata": {},
   "source": [
    "The chart above shows us that minimum price is 0. We would like to get rid of all the listings that the price of 0 because they do not contribute to our analysis."
   ]
  },
  {
   "cell_type": "code",
   "execution_count": 10,
   "metadata": {},
   "outputs": [],
   "source": [
    "fixed_prices = fixed_year.loc[lambda df: fixed_year['price'] !=0, :]"
   ]
  },
  {
   "cell_type": "markdown",
   "metadata": {},
   "source": [
    "Price is what interests us the most. We could compare the measures of central tendency:"
   ]
  },
  {
   "cell_type": "code",
   "execution_count": 11,
   "metadata": {},
   "outputs": [
    {
     "name": "stdout",
     "output_type": "stream",
     "text": [
      "The mean price:\n",
      "9252.621237023723\n",
      "The median price:\n",
      "4050.0\n"
     ]
    }
   ],
   "source": [
    "print ('The mean price:')\n",
    "print(np.mean(fixed_prices['price']))\n",
    "print ('The median price:')\n",
    "print(np.median(fixed_prices['price']))"
   ]
  },
  {
   "cell_type": "markdown",
   "metadata": {},
   "source": [
    "The difference between the mean and median is very significant, which tells us that the mean is most likely affected by high outliers. "
   ]
  },
  {
   "cell_type": "markdown",
   "metadata": {},
   "source": [
    "We can use a boxplot to identify low price outliers. For our purposes, we will further examine cars that fall into the lower 75% of the percentage (first three quartiles) or under 8,900. These cars we will deem as affordable. "
   ]
  },
  {
   "cell_type": "code",
   "execution_count": 13,
   "metadata": {},
   "outputs": [],
   "source": [
    "affordable = fixed_prices.loc[lambda df: fixed_prices['price'] < 8900, :]"
   ]
  },
  {
   "cell_type": "code",
   "execution_count": 14,
   "metadata": {},
   "outputs": [
    {
     "data": {
      "image/png": "[encoded data removed]",
      "text/plain": [
       "<Figure size 720x360 with 1 Axes>"
      ]
     },
     "metadata": {},
     "output_type": "display_data"
    }
   ],
   "source": [
    "plt.figure(figsize=(10,5))\n",
    "plt.hist(affordable['price'], color='g')\n",
    "plt.title('Used Cars Priced Under 8,900')\n",
    "plt.xlabel('Prices')\n",
    "plt.ylabel('Number of Cars')\n",
    "plt.show()"
   ]
  },
  {
   "cell_type": "markdown",
   "metadata": {},
   "source": [
    "If we look at the distribution of the used cars under 8,900 we will immediately realize that the price distribution is not normal."
   ]
  },
  {
   "cell_type": "code",
   "execution_count": 15,
   "metadata": {},
   "outputs": [
    {
     "data": {
      "text/html": [
       "<div>\n",
       "<style scoped>\n",
       "    .dataframe tbody tr th:only-of-type {\n",
       "        vertical-align: middle;\n",
       "    }\n",
       "\n",
       "    .dataframe tbody tr th {\n",
       "        vertical-align: top;\n",
       "    }\n",
       "\n",
       "    .dataframe thead th {\n",
       "        text-align: right;\n",
       "    }\n",
       "</style>\n",
       "<table border=\"1\" class=\"dataframe\">\n",
       "  <thead>\n",
       "    <tr style=\"text-align: right;\">\n",
       "      <th></th>\n",
       "      <th>price</th>\n",
       "      <th>yearOfRegistration</th>\n",
       "      <th>powerPS</th>\n",
       "      <th>kilometer</th>\n",
       "      <th>monthOfRegistration</th>\n",
       "      <th>nrOfPictures</th>\n",
       "      <th>postalCode</th>\n",
       "    </tr>\n",
       "  </thead>\n",
       "  <tbody>\n",
       "    <tr>\n",
       "      <th>price</th>\n",
       "      <td>1.000000</td>\n",
       "      <td>0.388099</td>\n",
       "      <td>0.118681</td>\n",
       "      <td>-0.259392</td>\n",
       "      <td>0.057057</td>\n",
       "      <td>NaN</td>\n",
       "      <td>0.046264</td>\n",
       "    </tr>\n",
       "    <tr>\n",
       "      <th>yearOfRegistration</th>\n",
       "      <td>0.388099</td>\n",
       "      <td>1.000000</td>\n",
       "      <td>0.000168</td>\n",
       "      <td>-0.176807</td>\n",
       "      <td>0.003062</td>\n",
       "      <td>NaN</td>\n",
       "      <td>0.001365</td>\n",
       "    </tr>\n",
       "    <tr>\n",
       "      <th>powerPS</th>\n",
       "      <td>0.118681</td>\n",
       "      <td>0.000168</td>\n",
       "      <td>1.000000</td>\n",
       "      <td>0.054066</td>\n",
       "      <td>0.011790</td>\n",
       "      <td>NaN</td>\n",
       "      <td>0.015789</td>\n",
       "    </tr>\n",
       "    <tr>\n",
       "      <th>kilometer</th>\n",
       "      <td>-0.259392</td>\n",
       "      <td>-0.176807</td>\n",
       "      <td>0.054066</td>\n",
       "      <td>1.000000</td>\n",
       "      <td>0.001887</td>\n",
       "      <td>NaN</td>\n",
       "      <td>0.007179</td>\n",
       "    </tr>\n",
       "    <tr>\n",
       "      <th>monthOfRegistration</th>\n",
       "      <td>0.057057</td>\n",
       "      <td>0.003062</td>\n",
       "      <td>0.011790</td>\n",
       "      <td>0.001887</td>\n",
       "      <td>1.000000</td>\n",
       "      <td>NaN</td>\n",
       "      <td>0.003811</td>\n",
       "    </tr>\n",
       "    <tr>\n",
       "      <th>nrOfPictures</th>\n",
       "      <td>NaN</td>\n",
       "      <td>NaN</td>\n",
       "      <td>NaN</td>\n",
       "      <td>NaN</td>\n",
       "      <td>NaN</td>\n",
       "      <td>NaN</td>\n",
       "      <td>NaN</td>\n",
       "    </tr>\n",
       "    <tr>\n",
       "      <th>postalCode</th>\n",
       "      <td>0.046264</td>\n",
       "      <td>0.001365</td>\n",
       "      <td>0.015789</td>\n",
       "      <td>0.007179</td>\n",
       "      <td>0.003811</td>\n",
       "      <td>NaN</td>\n",
       "      <td>1.000000</td>\n",
       "    </tr>\n",
       "  </tbody>\n",
       "</table>\n",
       "</div>"
      ],
      "text/plain": [
       "                        price  yearOfRegistration   powerPS  kilometer  \\\n",
       "price                1.000000            0.388099  0.118681  -0.259392   \n",
       "yearOfRegistration   0.388099            1.000000  0.000168  -0.176807   \n",
       "powerPS              0.118681            0.000168  1.000000   0.054066   \n",
       "kilometer           -0.259392           -0.176807  0.054066   1.000000   \n",
       "monthOfRegistration  0.057057            0.003062  0.011790   0.001887   \n",
       "nrOfPictures              NaN                 NaN       NaN        NaN   \n",
       "postalCode           0.046264            0.001365  0.015789   0.007179   \n",
       "\n",
       "                     monthOfRegistration  nrOfPictures  postalCode  \n",
       "price                           0.057057           NaN    0.046264  \n",
       "yearOfRegistration              0.003062           NaN    0.001365  \n",
       "powerPS                         0.011790           NaN    0.015789  \n",
       "kilometer                       0.001887           NaN    0.007179  \n",
       "monthOfRegistration             1.000000           NaN    0.003811  \n",
       "nrOfPictures                         NaN           NaN         NaN  \n",
       "postalCode                      0.003811           NaN    1.000000  "
      ]
     },
     "execution_count": 15,
     "metadata": {},
     "output_type": "execute_result"
    }
   ],
   "source": [
    "affordable.corr()"
   ]
  },
  {
   "cell_type": "markdown",
   "metadata": {},
   "source": [
    "Next, we will turn to mileage. As buyers, we are interested in buying a car with lower mileage. The boxplot of mileage shows us that our data has a few low outliers: used cars with mileage under 40,000 kilometers (or approx. 24854.85 miles). It seems that there is a negative correlation between price and mileage."
   ]
  },
  {
   "cell_type": "code",
   "execution_count": 16,
   "metadata": {},
   "outputs": [
    {
     "data": {
      "image/png": "[encoded data removed]",
      "text/plain": [
       "<Figure size 576x360 with 1 Axes>"
      ]
     },
     "metadata": {},
     "output_type": "display_data"
    }
   ],
   "source": [
    "plt.figure(figsize=(8,5))\n",
    "plt.boxplot(affordable['kilometer'])\n",
    "plt.title('Mileage of Used Cars Priced under 8,900')\n",
    "plt.ylabel('Mileage')\n",
    "plt.show()"
   ]
  },
  {
   "cell_type": "code",
   "execution_count": 17,
   "metadata": {},
   "outputs": [
    {
     "data": {
      "image/png": "[encoded data removed]",
      "text/plain": [
       "<Figure size 576x360 with 1 Axes>"
      ]
     },
     "metadata": {},
     "output_type": "display_data"
    }
   ],
   "source": [
    "plt.figure(figsize=(8,5))\n",
    "plt.boxplot(affordable['yearOfRegistration'])\n",
    "plt.title('Registration Years for Cars Priced under 8,900')\n",
    "plt.ylabel('Registration Years')\n",
    "plt.show()"
   ]
  },
  {
   "cell_type": "code",
   "execution_count": 19,
   "metadata": {},
   "outputs": [
    {
     "data": {
      "image/png": "[encoded data removed]",
      "text/plain": [
       "<Figure size 432x288 with 1 Axes>"
      ]
     },
     "metadata": {},
     "output_type": "display_data"
    }
   ],
   "source": [
    "plt.scatter(x=affordable['kilometer'], y=affordable['price'], alpha=.5)\n",
    "plt.title('Mileage of Cars \\n Priced Under 8,900')\n",
    "plt.xlabel('Mileage in kilometers')\n",
    "plt.ylabel('Car Price')\n",
    "plt.show()"
   ]
  },
  {
   "cell_type": "code",
   "execution_count": 20,
   "metadata": {},
   "outputs": [
    {
     "data": {
      "image/png": "[encoded data removed]",
      "text/plain": [
       "<Figure size 432x288 with 1 Axes>"
      ]
     },
     "metadata": {},
     "output_type": "display_data"
    }
   ],
   "source": [
    "plt.scatter(x=affordable['yearOfRegistration'], y=affordable['price'], alpha=.5)\n",
    "plt.title('Registration Years of the Cars \\n Priced Under 8,900')\n",
    "plt.xlabel('Registration Years')\n",
    "plt.ylabel('Car Price')\n",
    "plt.show()"
   ]
  },
  {
   "cell_type": "code",
   "execution_count": null,
   "metadata": {},
   "outputs": [],
   "source": []
  }
 ],
 "metadata": {
  "kernelspec": {
   "display_name": "Python 3",
   "language": "python",
   "name": "python3"
  },
  "language_info": {
   "codemirror_mode": {
    "name": "ipython",
    "version": 3
   },
   "file_extension": ".py",
   "mimetype": "text/x-python",
   "name": "python",
   "nbconvert_exporter": "python",
   "pygments_lexer": "ipython3",
   "version": "3.6.5"
  }
 },
 "nbformat": 4,
 "nbformat_minor": 2
}
