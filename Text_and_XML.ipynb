{
 "cells": [
  {
   "cell_type": "code",
   "execution_count": 2,
   "metadata": {},
   "outputs": [],
   "source": [
    "import pandas\n",
    "import xml.etree.ElementTree as ET"
   ]
  },
  {
   "cell_type": "code",
   "execution_count": 6,
   "metadata": {},
   "outputs": [
    {
     "name": "stdout",
     "output_type": "stream",
     "text": [
      "          0    1   2  3\n",
      "0    George   US  16  2\n",
      "1      John  CAN  42  1\n",
      "2    Thomas  CAN  32  0\n",
      "3     James   US  13  8\n",
      "4    Andrew  CAN  63  0\n",
      "5    Martin   US  19  5\n",
      "6   William   US  65  7\n",
      "7   Zachary   US  23  3\n",
      "8   Millard  CAN  16  0\n",
      "9  Franklin   US  77  5\n"
     ]
    }
   ],
   "source": [
    "tree = ET.parse('C:\\Inna\\'s files\\data\\purchases.xml')\n",
    "root = tree.getroot()\n",
    "def xml_to_list(root):\n",
    "    result = []\n",
    "    for row in root:\n",
    "        row_list = []\n",
    "        for column in row:\n",
    "            row_list.append(column.text)\n",
    "        result.append(row_list)\n",
    "    return result\n",
    "df = pandas.DataFrame(xml_to_list(root))\n",
    "print(df)"
   ]
  },
  {
   "cell_type": "code",
   "execution_count": 7,
   "metadata": {},
   "outputs": [
    {
     "name": "stdout",
     "output_type": "stream",
     "text": [
      "This file is 19 lines long\n",
      "Beautiful is better than ugly.\n",
      "\n",
      "Explicit is better than implicit.\n",
      "\n",
      "Simple is better than complex.\n",
      "\n",
      "Complex is better than complicated.\n",
      "\n",
      "Flat is better than nested.\n",
      "\n",
      "Sparse is better than dense.\n",
      "\n",
      "Readability counts.\n",
      "\n",
      "Special cases aren't special enough to break the rules.\n",
      "\n",
      "Although practicality beats purity.\n",
      "\n",
      "Errors should never pass silently.\n",
      "\n",
      "Unless explicitly silenced.\n",
      "\n",
      "In the face of ambiguity, refuse the temptation to guess.\n",
      "\n",
      "There should be one-- and preferably only one --obvious way to do it.\n",
      "\n",
      "Although that way may not be obvious at first unless you're Dutch.\n",
      "\n",
      "Now is better than never.\n",
      "\n",
      "Although never is often better than *right* now.\n",
      "\n",
      "If the implementation is hard to explain, it's a bad idea.\n",
      "\n",
      "If the implementation is easy to explain, it may be a good idea.\n",
      "\n",
      "Namespaces are one honking great idea -- let's do more of those!\n"
     ]
    }
   ],
   "source": [
    "with open('C:\\Inna\\'s files\\data\\poem.txt') as poem_file:\n",
    "    text = poem_file.readlines()\n",
    "    print(\"This file is {} lines long\".format(len(text)))\n",
    "    for line in text:\n",
    "        print(line)"
   ]
  },
  {
   "cell_type": "code",
   "execution_count": 9,
   "metadata": {},
   "outputs": [
    {
     "name": "stdout",
     "output_type": "stream",
     "text": [
      "This file is 11 lines long\n",
      ",country,ad_views,items_purchased\n",
      "\n",
      "George,US,16,2\n",
      "\n",
      "John,CAN,42,1\n",
      "\n",
      "Thomas,CAN,32,0\n",
      "\n",
      "James,US,13,8\n",
      "\n",
      "Andrew,CAN,63,0\n",
      "\n",
      "Martin,US,19,5\n",
      "\n",
      "William,US,65,7\n",
      "\n",
      "Zachary,US,23,3\n",
      "\n",
      "Millard,CAN,16,0\n",
      "\n",
      "Franklin,US,77,5\n"
     ]
    }
   ],
   "source": [
    "with open('C:\\Inna\\'s files\\data\\purchases.csv') as poem_file:\n",
    "    text = poem_file.readlines()\n",
    "    print(\"This file is {} lines long\".format(len(text)))\n",
    "    for line in text:\n",
    "        print(line)"
   ]
  },
  {
   "cell_type": "code",
   "execution_count": null,
   "metadata": {},
   "outputs": [],
   "source": []
  }
 ],
 "metadata": {
  "kernelspec": {
   "display_name": "Python 3",
   "language": "python",
   "name": "python3"
  },
  "language_info": {
   "codemirror_mode": {
    "name": "ipython",
    "version": 3
   },
   "file_extension": ".py",
   "mimetype": "text/x-python",
   "name": "python",
   "nbconvert_exporter": "python",
   "pygments_lexer": "ipython3",
   "version": "3.6.5"
  }
 },
 "nbformat": 4,
 "nbformat_minor": 2
}
