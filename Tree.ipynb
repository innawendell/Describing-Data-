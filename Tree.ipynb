{
 "cells": [
  {
   "cell_type": "code",
   "execution_count": 1,
   "metadata": {},
   "outputs": [],
   "source": [
    "class Node:\n",
    "\n",
    "    def __init__(self, data):\n",
    "        self.left = None\n",
    "        self.right = None\n",
    "        self.data = data\n",
    "        \n",
    "    def print_node(self):\n",
    "        print(self.data)        "
   ]
  },
  {
   "cell_type": "code",
   "execution_count": 53,
   "metadata": {},
   "outputs": [],
   "source": [
    "root = Node('Alex')\n",
    "root.left= Node('Sasha')\n",
    "root.right = Node('Will')\n",
    "root.left.left = Node('Misha')\n",
    "root.left.right = Node('Vika')\n",
    "root.left.left.right = Node('Lev')\n",
    "root.left.left.left = Node('Olga')\n",
    "root.left.right.left = Node('Inna')\n",
    "root.left.right.right = Node('Tania')\n",
    "root.right.left = Node('Ulf')\n",
    "root.right.right = Node('Rurik')\n",
    "root.right.left.left = Node('Thor')\n",
    "root.right.left.right = Node('Frea')\n",
    "root.right.right.left=Node('Erik')\n",
    "root.right.right.right = Node('Finehair')"
   ]
  },
  {
   "cell_type": "code",
   "execution_count": 54,
   "metadata": {},
   "outputs": [
    {
     "name": "stdout",
     "output_type": "stream",
     "text": [
      "Alex\n"
     ]
    }
   ],
   "source": [
    "root.print_node()"
   ]
  },
  {
   "cell_type": "markdown",
   "metadata": {},
   "source": [
    "## Breadth First Traversal"
   ]
  },
  {
   "cell_type": "code",
   "execution_count": 55,
   "metadata": {},
   "outputs": [],
   "source": [
    "def traverse(node):\n",
    "    to_do_list = []\n",
    "    to_do_list.append(node)\n",
    "    \n",
    "    while len(to_do_list) > 0:\n",
    "        current_node = to_do_list[0]\n",
    "        print(current_node.data)\n",
    "        if current_node.left != None:\n",
    "            to_do_list.append(current_node.left)\n",
    "        if current_node.right != None:\n",
    "            to_do_list.append(current_node.right)\n",
    "        to_do_list = to_do_list[1:]    "
   ]
  },
  {
   "cell_type": "code",
   "execution_count": 56,
   "metadata": {},
   "outputs": [
    {
     "name": "stdout",
     "output_type": "stream",
     "text": [
      "Alex\n",
      "Sasha\n",
      "Will\n",
      "Misha\n",
      "Vika\n",
      "Ulf\n",
      "Rurik\n",
      "Olga\n",
      "Lev\n",
      "Inna\n",
      "Tania\n",
      "Thor\n",
      "Frea\n",
      "Erik\n",
      "Finehair\n"
     ]
    }
   ],
   "source": [
    "traverse(root)"
   ]
  },
  {
   "cell_type": "markdown",
   "metadata": {},
   "source": [
    "## Depth-First Traversal"
   ]
  },
  {
   "cell_type": "code",
   "execution_count": 142,
   "metadata": {},
   "outputs": [],
   "source": [
    "def traverse_new(node):\n",
    "    to_do_list = []\n",
    "    to_do_list.append(node)\n",
    "    current_node = to_do_list[0]\n",
    "    while len(to_do_list) > 0:\n",
    "        print(current_node.data)\n",
    "        if current_node.right != None:\n",
    "            to_do_list.append(current_node.right)\n",
    "        if current_node.left !=None:\n",
    "            to_do_list.append(current_node.left) \n",
    "        current_node = to_do_list[-1]\n",
    "        to_do_list = to_do_list[:-1]"
   ]
  },
  {
   "cell_type": "code",
   "execution_count": 143,
   "metadata": {},
   "outputs": [
    {
     "name": "stdout",
     "output_type": "stream",
     "text": [
      "Alex\n",
      "Sasha\n",
      "Misha\n",
      "Olga\n",
      "Lev\n",
      "Vika\n",
      "Inna\n",
      "Tania\n",
      "Will\n",
      "Ulf\n",
      "Thor\n",
      "Frea\n",
      "Rurik\n",
      "Erik\n",
      "Finehair\n"
     ]
    }
   ],
   "source": [
    "traverse_new(root)"
   ]
  },
  {
   "cell_type": "code",
   "execution_count": null,
   "metadata": {},
   "outputs": [],
   "source": []
  }
 ],
 "metadata": {
  "kernelspec": {
   "display_name": "Python 3",
   "language": "python",
   "name": "python3"
  },
  "language_info": {
   "codemirror_mode": {
    "name": "ipython",
    "version": 3
   },
   "file_extension": ".py",
   "mimetype": "text/x-python",
   "name": "python",
   "nbconvert_exporter": "python",
   "pygments_lexer": "ipython3",
   "version": "3.7.0"
  }
 },
 "nbformat": 4,
 "nbformat_minor": 2
}
