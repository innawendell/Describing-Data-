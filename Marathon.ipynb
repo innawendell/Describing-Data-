{
 "cells": [
  {
   "cell_type": "code",
   "execution_count": 35,
   "metadata": {},
   "outputs": [],
   "source": [
    "import numpy as np\n",
    "import pandas as pd\n",
    "import scipy\n",
    "import matplotlib.pyplot as plt\n",
    "import seaborn as sns\n",
    "from sklearn.cluster import KMeans\n",
    "from sklearn.preprocessing import normalize\n",
    "from sklearn.decomposition import PCA\n",
    "from sklearn.cluster import MiniBatchKMeans,MeanShift, estimate_bandwidth, SpectralClustering\n",
    "from sklearn.preprocessing import normalize\n",
    "%matplotlib inline\n",
    "from sklearn import metrics\n",
    "from sklearn.metrics import pairwise_distances\n",
    "from sklearn.model_selection import train_test_split"
   ]
  },
  {
   "cell_type": "code",
   "execution_count": 2,
   "metadata": {},
   "outputs": [],
   "source": [
    "# 2014\n",
    "df = pd.read_csv('/Users/admin/Documents/Thinkful_Projects/results.csv', error_bad_lines=False)"
   ]
  },
  {
   "cell_type": "code",
   "execution_count": 3,
   "metadata": {},
   "outputs": [
    {
     "data": {
      "text/plain": [
       "(31984, 21)"
      ]
     },
     "execution_count": 3,
     "metadata": {},
     "output_type": "execute_result"
    }
   ],
   "source": [
    "df.shape"
   ]
  },
  {
   "cell_type": "code",
   "execution_count": 4,
   "metadata": {},
   "outputs": [
    {
     "data": {
      "text/html": [
       "<div>\n",
       "<style scoped>\n",
       "    .dataframe tbody tr th:only-of-type {\n",
       "        vertical-align: middle;\n",
       "    }\n",
       "\n",
       "    .dataframe tbody tr th {\n",
       "        vertical-align: top;\n",
       "    }\n",
       "\n",
       "    .dataframe thead th {\n",
       "        text-align: right;\n",
       "    }\n",
       "</style>\n",
       "<table border=\"1\" class=\"dataframe\">\n",
       "  <thead>\n",
       "    <tr style=\"text-align: right;\">\n",
       "      <th></th>\n",
       "      <th>10k</th>\n",
       "      <th>name</th>\n",
       "      <th>division</th>\n",
       "      <th>25k</th>\n",
       "      <th>gender</th>\n",
       "      <th>age</th>\n",
       "      <th>official</th>\n",
       "      <th>bib</th>\n",
       "      <th>genderdiv</th>\n",
       "      <th>ctz</th>\n",
       "      <th>35k</th>\n",
       "      <th>overall</th>\n",
       "      <th>pace</th>\n",
       "      <th>state</th>\n",
       "      <th>30k</th>\n",
       "      <th>5k</th>\n",
       "      <th>half</th>\n",
       "      <th>20k</th>\n",
       "      <th>country</th>\n",
       "      <th>city</th>\n",
       "      <th>40k</th>\n",
       "    </tr>\n",
       "  </thead>\n",
       "  <tbody>\n",
       "    <tr>\n",
       "      <th>0</th>\n",
       "      <td>17.37</td>\n",
       "      <td>Yamamoto, Hiroyuki</td>\n",
       "      <td>8</td>\n",
       "      <td>47.67</td>\n",
       "      <td>M</td>\n",
       "      <td>47</td>\n",
       "      <td>85.25</td>\n",
       "      <td>W1</td>\n",
       "      <td>8</td>\n",
       "      <td>NaN</td>\n",
       "      <td>71.40</td>\n",
       "      <td>8</td>\n",
       "      <td>3.27</td>\n",
       "      <td>NaN</td>\n",
       "      <td>59.18</td>\n",
       "      <td>8.02</td>\n",
       "      <td>39.72</td>\n",
       "      <td>37.65</td>\n",
       "      <td>JPN</td>\n",
       "      <td>Fukuoka</td>\n",
       "      <td>80.43</td>\n",
       "    </tr>\n",
       "    <tr>\n",
       "      <th>1</th>\n",
       "      <td>32.58</td>\n",
       "      <td>Jeptoo, Rita</td>\n",
       "      <td>1</td>\n",
       "      <td>82.43</td>\n",
       "      <td>F</td>\n",
       "      <td>33</td>\n",
       "      <td>138.95</td>\n",
       "      <td>F1</td>\n",
       "      <td>1</td>\n",
       "      <td>NaN</td>\n",
       "      <td>116.37</td>\n",
       "      <td>21</td>\n",
       "      <td>5.30</td>\n",
       "      <td>NaN</td>\n",
       "      <td>99.33</td>\n",
       "      <td>16.22</td>\n",
       "      <td>69.47</td>\n",
       "      <td>65.83</td>\n",
       "      <td>KEN</td>\n",
       "      <td>Eldoret</td>\n",
       "      <td>132.10</td>\n",
       "    </tr>\n",
       "    <tr>\n",
       "      <th>2</th>\n",
       "      <td>16.62</td>\n",
       "      <td>Van Dyk, Ernst F.</td>\n",
       "      <td>1</td>\n",
       "      <td>45.80</td>\n",
       "      <td>M</td>\n",
       "      <td>41</td>\n",
       "      <td>80.60</td>\n",
       "      <td>W2</td>\n",
       "      <td>1</td>\n",
       "      <td>NaN</td>\n",
       "      <td>67.42</td>\n",
       "      <td>1</td>\n",
       "      <td>3.08</td>\n",
       "      <td>NaN</td>\n",
       "      <td>56.45</td>\n",
       "      <td>7.75</td>\n",
       "      <td>38.03</td>\n",
       "      <td>36.10</td>\n",
       "      <td>RSA</td>\n",
       "      <td>Paarl</td>\n",
       "      <td>76.10</td>\n",
       "    </tr>\n",
       "    <tr>\n",
       "      <th>3</th>\n",
       "      <td>32.57</td>\n",
       "      <td>Dibaba, Mare</td>\n",
       "      <td>3</td>\n",
       "      <td>82.43</td>\n",
       "      <td>F</td>\n",
       "      <td>24</td>\n",
       "      <td>140.58</td>\n",
       "      <td>F2</td>\n",
       "      <td>3</td>\n",
       "      <td>NaN</td>\n",
       "      <td>116.37</td>\n",
       "      <td>27</td>\n",
       "      <td>5.37</td>\n",
       "      <td>NaN</td>\n",
       "      <td>99.33</td>\n",
       "      <td>16.20</td>\n",
       "      <td>69.47</td>\n",
       "      <td>65.83</td>\n",
       "      <td>ETH</td>\n",
       "      <td>Shoa</td>\n",
       "      <td>132.95</td>\n",
       "    </tr>\n",
       "    <tr>\n",
       "      <th>4</th>\n",
       "      <td>17.12</td>\n",
       "      <td>Hokinoue, Kota</td>\n",
       "      <td>2</td>\n",
       "      <td>46.37</td>\n",
       "      <td>M</td>\n",
       "      <td>40</td>\n",
       "      <td>81.23</td>\n",
       "      <td>W3</td>\n",
       "      <td>2</td>\n",
       "      <td>NaN</td>\n",
       "      <td>67.83</td>\n",
       "      <td>2</td>\n",
       "      <td>3.10</td>\n",
       "      <td>NaN</td>\n",
       "      <td>57.03</td>\n",
       "      <td>8.02</td>\n",
       "      <td>38.60</td>\n",
       "      <td>36.58</td>\n",
       "      <td>JPN</td>\n",
       "      <td>Nogata Fukuoka</td>\n",
       "      <td>76.72</td>\n",
       "    </tr>\n",
       "  </tbody>\n",
       "</table>\n",
       "</div>"
      ],
      "text/plain": [
       "     10k                name  division    25k gender  age  official bib  \\\n",
       "0  17.37  Yamamoto, Hiroyuki         8  47.67      M   47     85.25  W1   \n",
       "1  32.58        Jeptoo, Rita         1  82.43      F   33    138.95  F1   \n",
       "2  16.62   Van Dyk, Ernst F.         1  45.80      M   41     80.60  W2   \n",
       "3  32.57        Dibaba, Mare         3  82.43      F   24    140.58  F2   \n",
       "4  17.12      Hokinoue, Kota         2  46.37      M   40     81.23  W3   \n",
       "\n",
       "   genderdiv  ctz     35k  overall  pace state    30k     5k   half    20k  \\\n",
       "0          8  NaN   71.40        8  3.27   NaN  59.18   8.02  39.72  37.65   \n",
       "1          1  NaN  116.37       21  5.30   NaN  99.33  16.22  69.47  65.83   \n",
       "2          1  NaN   67.42        1  3.08   NaN  56.45   7.75  38.03  36.10   \n",
       "3          3  NaN  116.37       27  5.37   NaN  99.33  16.20  69.47  65.83   \n",
       "4          2  NaN   67.83        2  3.10   NaN  57.03   8.02  38.60  36.58   \n",
       "\n",
       "  country            city     40k  \n",
       "0     JPN         Fukuoka   80.43  \n",
       "1     KEN         Eldoret  132.10  \n",
       "2     RSA           Paarl   76.10  \n",
       "3     ETH            Shoa  132.95  \n",
       "4     JPN  Nogata Fukuoka   76.72  "
      ]
     },
     "execution_count": 4,
     "metadata": {},
     "output_type": "execute_result"
    }
   ],
   "source": [
    "pd.set_option('display.max_columns', 21)\n",
    "df.head()"
   ]
  },
  {
   "cell_type": "code",
   "execution_count": 5,
   "metadata": {},
   "outputs": [
    {
     "data": {
      "text/plain": [
       "Index(['10k', 'name', 'division', '25k', 'gender', 'age', 'official', 'bib',\n",
       "       'genderdiv', 'ctz', '35k', 'overall', 'pace', 'state', '30k', '5k',\n",
       "       'half', '20k', 'country', 'city', '40k'],\n",
       "      dtype='object')"
      ]
     },
     "execution_count": 5,
     "metadata": {},
     "output_type": "execute_result"
    }
   ],
   "source": [
    "df.columns"
   ]
  },
  {
   "cell_type": "code",
   "execution_count": 6,
   "metadata": {},
   "outputs": [
    {
     "data": {
      "text/plain": [
       "10k           object\n",
       "name          object\n",
       "division       int64\n",
       "25k           object\n",
       "gender        object\n",
       "age            int64\n",
       "official     float64\n",
       "bib           object\n",
       "genderdiv      int64\n",
       "ctz           object\n",
       "35k           object\n",
       "overall        int64\n",
       "pace         float64\n",
       "state         object\n",
       "30k           object\n",
       "5k            object\n",
       "half          object\n",
       "20k           object\n",
       "country       object\n",
       "city          object\n",
       "40k           object\n",
       "dtype: object"
      ]
     },
     "execution_count": 6,
     "metadata": {},
     "output_type": "execute_result"
    }
   ],
   "source": [
    "df.dtypes"
   ]
  },
  {
   "cell_type": "code",
   "execution_count": 7,
   "metadata": {},
   "outputs": [
    {
     "data": {
      "text/plain": [
       "2576"
      ]
     },
     "execution_count": 7,
     "metadata": {},
     "output_type": "execute_result"
    }
   ],
   "source": [
    "df['state'].isnull().sum()"
   ]
  },
  {
   "cell_type": "code",
   "execution_count": 8,
   "metadata": {},
   "outputs": [],
   "source": [
    "#creating a binary row capturing wheelchair participants\n",
    "\n",
    "def remove(row):\n",
    "    if row['bib'].count('W') >0:\n",
    "        return 1\n",
    "    else:\n",
    "        return 0\n",
    "\n",
    "df['wheelchair'] = df.apply(remove, axis=1)"
   ]
  },
  {
   "cell_type": "code",
   "execution_count": 9,
   "metadata": {},
   "outputs": [
    {
     "data": {
      "text/plain": [
       "array([0, 1])"
      ]
     },
     "execution_count": 9,
     "metadata": {},
     "output_type": "execute_result"
    }
   ],
   "source": [
    "np.unique(df['wheelchair'])"
   ]
  },
  {
   "cell_type": "code",
   "execution_count": 10,
   "metadata": {},
   "outputs": [],
   "source": [
    "# encode women as '1'\n",
    "df['gender'] = np.where(df['gender']=='F', 1,0)"
   ]
  },
  {
   "cell_type": "code",
   "execution_count": 11,
   "metadata": {},
   "outputs": [
    {
     "data": {
      "text/html": [
       "<div>\n",
       "<style scoped>\n",
       "    .dataframe tbody tr th:only-of-type {\n",
       "        vertical-align: middle;\n",
       "    }\n",
       "\n",
       "    .dataframe tbody tr th {\n",
       "        vertical-align: top;\n",
       "    }\n",
       "\n",
       "    .dataframe thead th {\n",
       "        text-align: right;\n",
       "    }\n",
       "</style>\n",
       "<table border=\"1\" class=\"dataframe\">\n",
       "  <thead>\n",
       "    <tr style=\"text-align: right;\">\n",
       "      <th></th>\n",
       "      <th>10k</th>\n",
       "      <th>name</th>\n",
       "      <th>division</th>\n",
       "      <th>25k</th>\n",
       "      <th>gender</th>\n",
       "      <th>age</th>\n",
       "      <th>official</th>\n",
       "      <th>bib</th>\n",
       "      <th>genderdiv</th>\n",
       "      <th>ctz</th>\n",
       "      <th>...</th>\n",
       "      <th>pace</th>\n",
       "      <th>state</th>\n",
       "      <th>30k</th>\n",
       "      <th>5k</th>\n",
       "      <th>half</th>\n",
       "      <th>20k</th>\n",
       "      <th>country</th>\n",
       "      <th>city</th>\n",
       "      <th>40k</th>\n",
       "      <th>wheelchair</th>\n",
       "    </tr>\n",
       "  </thead>\n",
       "  <tbody>\n",
       "    <tr>\n",
       "      <th>0</th>\n",
       "      <td>17.37</td>\n",
       "      <td>Yamamoto, Hiroyuki</td>\n",
       "      <td>8</td>\n",
       "      <td>47.67</td>\n",
       "      <td>0</td>\n",
       "      <td>47</td>\n",
       "      <td>85.25</td>\n",
       "      <td>W1</td>\n",
       "      <td>8</td>\n",
       "      <td>NaN</td>\n",
       "      <td>...</td>\n",
       "      <td>3.27</td>\n",
       "      <td>NaN</td>\n",
       "      <td>59.18</td>\n",
       "      <td>8.02</td>\n",
       "      <td>39.72</td>\n",
       "      <td>37.65</td>\n",
       "      <td>JPN</td>\n",
       "      <td>Fukuoka</td>\n",
       "      <td>80.43</td>\n",
       "      <td>1</td>\n",
       "    </tr>\n",
       "    <tr>\n",
       "      <th>1</th>\n",
       "      <td>32.58</td>\n",
       "      <td>Jeptoo, Rita</td>\n",
       "      <td>1</td>\n",
       "      <td>82.43</td>\n",
       "      <td>1</td>\n",
       "      <td>33</td>\n",
       "      <td>138.95</td>\n",
       "      <td>F1</td>\n",
       "      <td>1</td>\n",
       "      <td>NaN</td>\n",
       "      <td>...</td>\n",
       "      <td>5.30</td>\n",
       "      <td>NaN</td>\n",
       "      <td>99.33</td>\n",
       "      <td>16.22</td>\n",
       "      <td>69.47</td>\n",
       "      <td>65.83</td>\n",
       "      <td>KEN</td>\n",
       "      <td>Eldoret</td>\n",
       "      <td>132.10</td>\n",
       "      <td>0</td>\n",
       "    </tr>\n",
       "    <tr>\n",
       "      <th>2</th>\n",
       "      <td>16.62</td>\n",
       "      <td>Van Dyk, Ernst F.</td>\n",
       "      <td>1</td>\n",
       "      <td>45.80</td>\n",
       "      <td>0</td>\n",
       "      <td>41</td>\n",
       "      <td>80.60</td>\n",
       "      <td>W2</td>\n",
       "      <td>1</td>\n",
       "      <td>NaN</td>\n",
       "      <td>...</td>\n",
       "      <td>3.08</td>\n",
       "      <td>NaN</td>\n",
       "      <td>56.45</td>\n",
       "      <td>7.75</td>\n",
       "      <td>38.03</td>\n",
       "      <td>36.10</td>\n",
       "      <td>RSA</td>\n",
       "      <td>Paarl</td>\n",
       "      <td>76.10</td>\n",
       "      <td>1</td>\n",
       "    </tr>\n",
       "    <tr>\n",
       "      <th>3</th>\n",
       "      <td>32.57</td>\n",
       "      <td>Dibaba, Mare</td>\n",
       "      <td>3</td>\n",
       "      <td>82.43</td>\n",
       "      <td>1</td>\n",
       "      <td>24</td>\n",
       "      <td>140.58</td>\n",
       "      <td>F2</td>\n",
       "      <td>3</td>\n",
       "      <td>NaN</td>\n",
       "      <td>...</td>\n",
       "      <td>5.37</td>\n",
       "      <td>NaN</td>\n",
       "      <td>99.33</td>\n",
       "      <td>16.20</td>\n",
       "      <td>69.47</td>\n",
       "      <td>65.83</td>\n",
       "      <td>ETH</td>\n",
       "      <td>Shoa</td>\n",
       "      <td>132.95</td>\n",
       "      <td>0</td>\n",
       "    </tr>\n",
       "    <tr>\n",
       "      <th>4</th>\n",
       "      <td>17.12</td>\n",
       "      <td>Hokinoue, Kota</td>\n",
       "      <td>2</td>\n",
       "      <td>46.37</td>\n",
       "      <td>0</td>\n",
       "      <td>40</td>\n",
       "      <td>81.23</td>\n",
       "      <td>W3</td>\n",
       "      <td>2</td>\n",
       "      <td>NaN</td>\n",
       "      <td>...</td>\n",
       "      <td>3.10</td>\n",
       "      <td>NaN</td>\n",
       "      <td>57.03</td>\n",
       "      <td>8.02</td>\n",
       "      <td>38.60</td>\n",
       "      <td>36.58</td>\n",
       "      <td>JPN</td>\n",
       "      <td>Nogata Fukuoka</td>\n",
       "      <td>76.72</td>\n",
       "      <td>1</td>\n",
       "    </tr>\n",
       "  </tbody>\n",
       "</table>\n",
       "<p>5 rows × 22 columns</p>\n",
       "</div>"
      ],
      "text/plain": [
       "     10k                name  division    25k  gender  age  official bib  \\\n",
       "0  17.37  Yamamoto, Hiroyuki         8  47.67       0   47     85.25  W1   \n",
       "1  32.58        Jeptoo, Rita         1  82.43       1   33    138.95  F1   \n",
       "2  16.62   Van Dyk, Ernst F.         1  45.80       0   41     80.60  W2   \n",
       "3  32.57        Dibaba, Mare         3  82.43       1   24    140.58  F2   \n",
       "4  17.12      Hokinoue, Kota         2  46.37       0   40     81.23  W3   \n",
       "\n",
       "   genderdiv  ctz    ...      pace  state    30k     5k   half    20k country  \\\n",
       "0          8  NaN    ...      3.27    NaN  59.18   8.02  39.72  37.65     JPN   \n",
       "1          1  NaN    ...      5.30    NaN  99.33  16.22  69.47  65.83     KEN   \n",
       "2          1  NaN    ...      3.08    NaN  56.45   7.75  38.03  36.10     RSA   \n",
       "3          3  NaN    ...      5.37    NaN  99.33  16.20  69.47  65.83     ETH   \n",
       "4          2  NaN    ...      3.10    NaN  57.03   8.02  38.60  36.58     JPN   \n",
       "\n",
       "             city     40k wheelchair  \n",
       "0         Fukuoka   80.43          1  \n",
       "1         Eldoret  132.10          0  \n",
       "2           Paarl   76.10          1  \n",
       "3            Shoa  132.95          0  \n",
       "4  Nogata Fukuoka   76.72          1  \n",
       "\n",
       "[5 rows x 22 columns]"
      ]
     },
     "execution_count": 11,
     "metadata": {},
     "output_type": "execute_result"
    }
   ],
   "source": [
    "df.head()"
   ]
  },
  {
   "cell_type": "code",
   "execution_count": 12,
   "metadata": {},
   "outputs": [],
   "source": [
    "df = df.apply(lambda x: x.fillna(x.value_counts().index[0]))"
   ]
  },
  {
   "cell_type": "code",
   "execution_count": 13,
   "metadata": {},
   "outputs": [],
   "source": [
    "df['10k'] = pd.to_numeric(df['10k'], errors = 'coerce')\n",
    "df['division'] = pd.to_numeric(df['division'], errors = 'coerce')\n",
    "df['25k'] = pd.to_numeric(df['25k'], errors = 'coerce')\n",
    "df['official'] = pd.to_numeric(df['official'], errors = 'coerce')\n",
    "df['genderdiv'] = pd.to_numeric(df['genderdiv'], errors = 'coerce')\n",
    "df['35k'] = pd.to_numeric(df['35k'], errors = 'coerce')\n",
    "df['10k'] = pd.to_numeric(df['10k'], errors = 'coerce')\n",
    "df['30k'] = pd.to_numeric(df['30k'], errors = 'coerce')\n",
    "df['5k'] = pd.to_numeric(df['5k'], errors = 'coerce')\n",
    "df['half'] = pd.to_numeric(df['half'], errors = 'coerce')\n",
    "df['20k'] = pd.to_numeric(df['20k'], errors = 'coerce')\n",
    "df['40k'] = pd.to_numeric(df['40k'], errors = 'coerce')"
   ]
  },
  {
   "cell_type": "code",
   "execution_count": 14,
   "metadata": {},
   "outputs": [
    {
     "data": {
      "text/plain": [
       "10k           float64\n",
       "name           object\n",
       "division        int64\n",
       "25k           float64\n",
       "gender          int64\n",
       "age             int64\n",
       "official      float64\n",
       "bib            object\n",
       "genderdiv       int64\n",
       "ctz            object\n",
       "35k           float64\n",
       "overall         int64\n",
       "pace          float64\n",
       "state          object\n",
       "30k           float64\n",
       "5k            float64\n",
       "half          float64\n",
       "20k           float64\n",
       "country        object\n",
       "city           object\n",
       "40k           float64\n",
       "wheelchair      int64\n",
       "dtype: object"
      ]
     },
     "execution_count": 14,
     "metadata": {},
     "output_type": "execute_result"
    }
   ],
   "source": [
    "df.dtypes"
   ]
  },
  {
   "cell_type": "code",
   "execution_count": 15,
   "metadata": {},
   "outputs": [],
   "source": [
    "numerical =df[['10k',\n",
    "    'division', \n",
    "    '25k', \n",
    "    'age',\n",
    "    'official',\n",
    "    'genderdiv', \n",
    "    '35k', \n",
    "    'overall',\n",
    "    'pace',\n",
    "    '30k', \n",
    "    '5k',\n",
    "    'half', \n",
    "    '20k',  \n",
    "    '40k']]\n"
   ]
  },
  {
   "cell_type": "code",
   "execution_count": 16,
   "metadata": {},
   "outputs": [],
   "source": [
    "numerical = numerical.fillna(numerical.mean())"
   ]
  },
  {
   "cell_type": "code",
   "execution_count": 17,
   "metadata": {},
   "outputs": [],
   "source": [
    "numerical_normalized = normalize(numerical)"
   ]
  },
  {
   "cell_type": "code",
   "execution_count": 18,
   "metadata": {},
   "outputs": [],
   "source": [
    "numerical_normalized_df = pd.DataFrame(numerical_normalized)"
   ]
  },
  {
   "cell_type": "code",
   "execution_count": 19,
   "metadata": {},
   "outputs": [
    {
     "data": {
      "text/plain": [
       "(31984, 14)"
      ]
     },
     "execution_count": 19,
     "metadata": {},
     "output_type": "execute_result"
    }
   ],
   "source": [
    "numerical_normalized_df.shape"
   ]
  },
  {
   "cell_type": "code",
   "execution_count": 20,
   "metadata": {},
   "outputs": [],
   "source": [
    "df_concat = pd.concat([numerical_normalized_df, df['gender'], df['wheelchair']], axis=1, join='outer', join_axes=None, ignore_index=False,\n",
    "          keys=None, levels=None, names=None, verify_integrity=False,copy=True)"
   ]
  },
  {
   "cell_type": "code",
   "execution_count": 21,
   "metadata": {},
   "outputs": [
    {
     "data": {
      "text/html": [
       "<div>\n",
       "<style scoped>\n",
       "    .dataframe tbody tr th:only-of-type {\n",
       "        vertical-align: middle;\n",
       "    }\n",
       "\n",
       "    .dataframe tbody tr th {\n",
       "        vertical-align: top;\n",
       "    }\n",
       "\n",
       "    .dataframe thead th {\n",
       "        text-align: right;\n",
       "    }\n",
       "</style>\n",
       "<table border=\"1\" class=\"dataframe\">\n",
       "  <thead>\n",
       "    <tr style=\"text-align: right;\">\n",
       "      <th></th>\n",
       "      <th>0</th>\n",
       "      <th>1</th>\n",
       "      <th>2</th>\n",
       "      <th>3</th>\n",
       "      <th>4</th>\n",
       "      <th>5</th>\n",
       "      <th>6</th>\n",
       "      <th>7</th>\n",
       "      <th>8</th>\n",
       "      <th>9</th>\n",
       "      <th>10</th>\n",
       "      <th>11</th>\n",
       "      <th>12</th>\n",
       "      <th>13</th>\n",
       "      <th>gender</th>\n",
       "      <th>wheelchair</th>\n",
       "    </tr>\n",
       "  </thead>\n",
       "  <tbody>\n",
       "    <tr>\n",
       "      <th>0</th>\n",
       "      <td>0.099653</td>\n",
       "      <td>0.045897</td>\n",
       "      <td>0.273487</td>\n",
       "      <td>0.269643</td>\n",
       "      <td>0.489086</td>\n",
       "      <td>0.045897</td>\n",
       "      <td>0.409627</td>\n",
       "      <td>0.045897</td>\n",
       "      <td>0.018760</td>\n",
       "      <td>0.339520</td>\n",
       "      <td>0.046011</td>\n",
       "      <td>0.227877</td>\n",
       "      <td>0.216001</td>\n",
       "      <td>0.461433</td>\n",
       "      <td>0</td>\n",
       "      <td>1</td>\n",
       "    </tr>\n",
       "    <tr>\n",
       "      <th>1</th>\n",
       "      <td>0.115911</td>\n",
       "      <td>0.003558</td>\n",
       "      <td>0.293264</td>\n",
       "      <td>0.117405</td>\n",
       "      <td>0.494346</td>\n",
       "      <td>0.003558</td>\n",
       "      <td>0.414013</td>\n",
       "      <td>0.074712</td>\n",
       "      <td>0.018856</td>\n",
       "      <td>0.353389</td>\n",
       "      <td>0.057706</td>\n",
       "      <td>0.247155</td>\n",
       "      <td>0.234205</td>\n",
       "      <td>0.469976</td>\n",
       "      <td>1</td>\n",
       "      <td>0</td>\n",
       "    </tr>\n",
       "    <tr>\n",
       "      <th>2</th>\n",
       "      <td>0.101340</td>\n",
       "      <td>0.006098</td>\n",
       "      <td>0.279266</td>\n",
       "      <td>0.249998</td>\n",
       "      <td>0.491459</td>\n",
       "      <td>0.006098</td>\n",
       "      <td>0.411093</td>\n",
       "      <td>0.006098</td>\n",
       "      <td>0.018780</td>\n",
       "      <td>0.344204</td>\n",
       "      <td>0.047256</td>\n",
       "      <td>0.231888</td>\n",
       "      <td>0.220120</td>\n",
       "      <td>0.464020</td>\n",
       "      <td>0</td>\n",
       "      <td>1</td>\n",
       "    </tr>\n",
       "    <tr>\n",
       "      <th>3</th>\n",
       "      <td>0.115531</td>\n",
       "      <td>0.010641</td>\n",
       "      <td>0.292393</td>\n",
       "      <td>0.085132</td>\n",
       "      <td>0.498660</td>\n",
       "      <td>0.010641</td>\n",
       "      <td>0.412783</td>\n",
       "      <td>0.095773</td>\n",
       "      <td>0.019048</td>\n",
       "      <td>0.352340</td>\n",
       "      <td>0.057464</td>\n",
       "      <td>0.246421</td>\n",
       "      <td>0.233510</td>\n",
       "      <td>0.471595</td>\n",
       "      <td>1</td>\n",
       "      <td>0</td>\n",
       "    </tr>\n",
       "    <tr>\n",
       "      <th>4</th>\n",
       "      <td>0.103625</td>\n",
       "      <td>0.012106</td>\n",
       "      <td>0.280670</td>\n",
       "      <td>0.242114</td>\n",
       "      <td>0.491673</td>\n",
       "      <td>0.012106</td>\n",
       "      <td>0.410564</td>\n",
       "      <td>0.012106</td>\n",
       "      <td>0.018764</td>\n",
       "      <td>0.345194</td>\n",
       "      <td>0.048544</td>\n",
       "      <td>0.233640</td>\n",
       "      <td>0.221413</td>\n",
       "      <td>0.464374</td>\n",
       "      <td>0</td>\n",
       "      <td>1</td>\n",
       "    </tr>\n",
       "    <tr>\n",
       "      <th>5</th>\n",
       "      <td>0.115301</td>\n",
       "      <td>0.014156</td>\n",
       "      <td>0.291791</td>\n",
       "      <td>0.102631</td>\n",
       "      <td>0.497868</td>\n",
       "      <td>0.014156</td>\n",
       "      <td>0.411834</td>\n",
       "      <td>0.099092</td>\n",
       "      <td>0.019004</td>\n",
       "      <td>0.351530</td>\n",
       "      <td>0.057403</td>\n",
       "      <td>0.245855</td>\n",
       "      <td>0.232973</td>\n",
       "      <td>0.470511</td>\n",
       "      <td>1</td>\n",
       "      <td>0</td>\n",
       "    </tr>\n",
       "    <tr>\n",
       "      <th>6</th>\n",
       "      <td>0.104740</td>\n",
       "      <td>0.023737</td>\n",
       "      <td>0.282887</td>\n",
       "      <td>0.166160</td>\n",
       "      <td>0.502337</td>\n",
       "      <td>0.023737</td>\n",
       "      <td>0.416764</td>\n",
       "      <td>0.023737</td>\n",
       "      <td>0.019168</td>\n",
       "      <td>0.347749</td>\n",
       "      <td>0.049729</td>\n",
       "      <td>0.235709</td>\n",
       "      <td>0.223426</td>\n",
       "      <td>0.473733</td>\n",
       "      <td>0</td>\n",
       "      <td>1</td>\n",
       "    </tr>\n",
       "    <tr>\n",
       "      <th>7</th>\n",
       "      <td>0.116826</td>\n",
       "      <td>0.019164</td>\n",
       "      <td>0.294940</td>\n",
       "      <td>0.111153</td>\n",
       "      <td>0.497622</td>\n",
       "      <td>0.019164</td>\n",
       "      <td>0.411919</td>\n",
       "      <td>0.019164</td>\n",
       "      <td>0.019049</td>\n",
       "      <td>0.354618</td>\n",
       "      <td>0.058145</td>\n",
       "      <td>0.248562</td>\n",
       "      <td>0.236182</td>\n",
       "      <td>0.470677</td>\n",
       "      <td>0</td>\n",
       "      <td>0</td>\n",
       "    </tr>\n",
       "    <tr>\n",
       "      <th>8</th>\n",
       "      <td>0.103131</td>\n",
       "      <td>0.018072</td>\n",
       "      <td>0.279333</td>\n",
       "      <td>0.259032</td>\n",
       "      <td>0.489329</td>\n",
       "      <td>0.018072</td>\n",
       "      <td>0.408608</td>\n",
       "      <td>0.018072</td>\n",
       "      <td>0.018674</td>\n",
       "      <td>0.343548</td>\n",
       "      <td>0.048192</td>\n",
       "      <td>0.232526</td>\n",
       "      <td>0.220478</td>\n",
       "      <td>0.462040</td>\n",
       "      <td>0</td>\n",
       "      <td>1</td>\n",
       "    </tr>\n",
       "    <tr>\n",
       "      <th>9</th>\n",
       "      <td>0.111376</td>\n",
       "      <td>0.073081</td>\n",
       "      <td>0.283848</td>\n",
       "      <td>0.113276</td>\n",
       "      <td>0.503640</td>\n",
       "      <td>0.073081</td>\n",
       "      <td>0.410242</td>\n",
       "      <td>0.073081</td>\n",
       "      <td>0.019257</td>\n",
       "      <td>0.346333</td>\n",
       "      <td>0.055359</td>\n",
       "      <td>0.238355</td>\n",
       "      <td>0.225748</td>\n",
       "      <td>0.474408</td>\n",
       "      <td>0</td>\n",
       "      <td>0</td>\n",
       "    </tr>\n",
       "    <tr>\n",
       "      <th>10</th>\n",
       "      <td>0.113731</td>\n",
       "      <td>0.027926</td>\n",
       "      <td>0.287817</td>\n",
       "      <td>0.104724</td>\n",
       "      <td>0.499186</td>\n",
       "      <td>0.027926</td>\n",
       "      <td>0.408145</td>\n",
       "      <td>0.139632</td>\n",
       "      <td>0.019095</td>\n",
       "      <td>0.346812</td>\n",
       "      <td>0.056621</td>\n",
       "      <td>0.242506</td>\n",
       "      <td>0.229870</td>\n",
       "      <td>0.470037</td>\n",
       "      <td>1</td>\n",
       "      <td>0</td>\n",
       "    </tr>\n",
       "    <tr>\n",
       "      <th>11</th>\n",
       "      <td>0.117486</td>\n",
       "      <td>0.007699</td>\n",
       "      <td>0.296293</td>\n",
       "      <td>0.107785</td>\n",
       "      <td>0.495811</td>\n",
       "      <td>0.007699</td>\n",
       "      <td>0.413702</td>\n",
       "      <td>0.007699</td>\n",
       "      <td>0.018939</td>\n",
       "      <td>0.356152</td>\n",
       "      <td>0.058435</td>\n",
       "      <td>0.249715</td>\n",
       "      <td>0.237242</td>\n",
       "      <td>0.469442</td>\n",
       "      <td>0</td>\n",
       "      <td>0</td>\n",
       "    </tr>\n",
       "    <tr>\n",
       "      <th>12</th>\n",
       "      <td>0.101197</td>\n",
       "      <td>0.061399</td>\n",
       "      <td>0.274454</td>\n",
       "      <td>0.273505</td>\n",
       "      <td>0.485332</td>\n",
       "      <td>0.061399</td>\n",
       "      <td>0.405234</td>\n",
       "      <td>0.061399</td>\n",
       "      <td>0.018531</td>\n",
       "      <td>0.339649</td>\n",
       "      <td>0.046887</td>\n",
       "      <td>0.229856</td>\n",
       "      <td>0.217855</td>\n",
       "      <td>0.458651</td>\n",
       "      <td>0</td>\n",
       "      <td>1</td>\n",
       "    </tr>\n",
       "    <tr>\n",
       "      <th>13</th>\n",
       "      <td>0.100716</td>\n",
       "      <td>0.052553</td>\n",
       "      <td>0.264463</td>\n",
       "      <td>0.102014</td>\n",
       "      <td>0.470098</td>\n",
       "      <td>0.052553</td>\n",
       "      <td>0.384005</td>\n",
       "      <td>0.374051</td>\n",
       "      <td>0.017930</td>\n",
       "      <td>0.323415</td>\n",
       "      <td>0.050141</td>\n",
       "      <td>0.219794</td>\n",
       "      <td>0.207583</td>\n",
       "      <td>0.443606</td>\n",
       "      <td>1</td>\n",
       "      <td>0</td>\n",
       "    </tr>\n",
       "    <tr>\n",
       "      <th>14</th>\n",
       "      <td>0.097875</td>\n",
       "      <td>0.074321</td>\n",
       "      <td>0.279447</td>\n",
       "      <td>0.165793</td>\n",
       "      <td>0.499666</td>\n",
       "      <td>0.074321</td>\n",
       "      <td>0.416369</td>\n",
       "      <td>0.074321</td>\n",
       "      <td>0.019152</td>\n",
       "      <td>0.347708</td>\n",
       "      <td>0.045850</td>\n",
       "      <td>0.229823</td>\n",
       "      <td>0.217360</td>\n",
       "      <td>0.470966</td>\n",
       "      <td>0</td>\n",
       "      <td>1</td>\n",
       "    </tr>\n",
       "    <tr>\n",
       "      <th>15</th>\n",
       "      <td>0.115831</td>\n",
       "      <td>0.034138</td>\n",
       "      <td>0.290279</td>\n",
       "      <td>0.102415</td>\n",
       "      <td>0.491251</td>\n",
       "      <td>0.034138</td>\n",
       "      <td>0.408568</td>\n",
       "      <td>0.157037</td>\n",
       "      <td>0.018776</td>\n",
       "      <td>0.349577</td>\n",
       "      <td>0.057762</td>\n",
       "      <td>0.244704</td>\n",
       "      <td>0.231868</td>\n",
       "      <td>0.465886</td>\n",
       "      <td>1</td>\n",
       "      <td>0</td>\n",
       "    </tr>\n",
       "    <tr>\n",
       "      <th>16</th>\n",
       "      <td>0.101039</td>\n",
       "      <td>0.029492</td>\n",
       "      <td>0.279877</td>\n",
       "      <td>0.200544</td>\n",
       "      <td>0.499590</td>\n",
       "      <td>0.029492</td>\n",
       "      <td>0.416423</td>\n",
       "      <td>0.029492</td>\n",
       "      <td>0.019052</td>\n",
       "      <td>0.346410</td>\n",
       "      <td>0.047305</td>\n",
       "      <td>0.230743</td>\n",
       "      <td>0.218121</td>\n",
       "      <td>0.471396</td>\n",
       "      <td>0</td>\n",
       "      <td>1</td>\n",
       "    </tr>\n",
       "    <tr>\n",
       "      <th>17</th>\n",
       "      <td>0.115718</td>\n",
       "      <td>0.007106</td>\n",
       "      <td>0.292865</td>\n",
       "      <td>0.092375</td>\n",
       "      <td>0.497333</td>\n",
       "      <td>0.007106</td>\n",
       "      <td>0.413485</td>\n",
       "      <td>0.088822</td>\n",
       "      <td>0.019008</td>\n",
       "      <td>0.352979</td>\n",
       "      <td>0.057557</td>\n",
       "      <td>0.246819</td>\n",
       "      <td>0.233887</td>\n",
       "      <td>0.471291</td>\n",
       "      <td>1</td>\n",
       "      <td>0</td>\n",
       "    </tr>\n",
       "    <tr>\n",
       "      <th>18</th>\n",
       "      <td>0.105105</td>\n",
       "      <td>0.040492</td>\n",
       "      <td>0.284310</td>\n",
       "      <td>0.219812</td>\n",
       "      <td>0.490991</td>\n",
       "      <td>0.040492</td>\n",
       "      <td>0.409719</td>\n",
       "      <td>0.040492</td>\n",
       "      <td>0.018800</td>\n",
       "      <td>0.346609</td>\n",
       "      <td>0.050152</td>\n",
       "      <td>0.238323</td>\n",
       "      <td>0.225886</td>\n",
       "      <td>0.463804</td>\n",
       "      <td>0</td>\n",
       "      <td>1</td>\n",
       "    </tr>\n",
       "    <tr>\n",
       "      <th>19</th>\n",
       "      <td>0.109449</td>\n",
       "      <td>0.040886</td>\n",
       "      <td>0.276234</td>\n",
       "      <td>0.097498</td>\n",
       "      <td>0.473274</td>\n",
       "      <td>0.040886</td>\n",
       "      <td>0.391659</td>\n",
       "      <td>0.320800</td>\n",
       "      <td>0.018084</td>\n",
       "      <td>0.333474</td>\n",
       "      <td>0.054473</td>\n",
       "      <td>0.232580</td>\n",
       "      <td>0.220471</td>\n",
       "      <td>0.448742</td>\n",
       "      <td>1</td>\n",
       "      <td>0</td>\n",
       "    </tr>\n",
       "  </tbody>\n",
       "</table>\n",
       "</div>"
      ],
      "text/plain": [
       "           0         1         2         3         4         5         6  \\\n",
       "0   0.099653  0.045897  0.273487  0.269643  0.489086  0.045897  0.409627   \n",
       "1   0.115911  0.003558  0.293264  0.117405  0.494346  0.003558  0.414013   \n",
       "2   0.101340  0.006098  0.279266  0.249998  0.491459  0.006098  0.411093   \n",
       "3   0.115531  0.010641  0.292393  0.085132  0.498660  0.010641  0.412783   \n",
       "4   0.103625  0.012106  0.280670  0.242114  0.491673  0.012106  0.410564   \n",
       "5   0.115301  0.014156  0.291791  0.102631  0.497868  0.014156  0.411834   \n",
       "6   0.104740  0.023737  0.282887  0.166160  0.502337  0.023737  0.416764   \n",
       "7   0.116826  0.019164  0.294940  0.111153  0.497622  0.019164  0.411919   \n",
       "8   0.103131  0.018072  0.279333  0.259032  0.489329  0.018072  0.408608   \n",
       "9   0.111376  0.073081  0.283848  0.113276  0.503640  0.073081  0.410242   \n",
       "10  0.113731  0.027926  0.287817  0.104724  0.499186  0.027926  0.408145   \n",
       "11  0.117486  0.007699  0.296293  0.107785  0.495811  0.007699  0.413702   \n",
       "12  0.101197  0.061399  0.274454  0.273505  0.485332  0.061399  0.405234   \n",
       "13  0.100716  0.052553  0.264463  0.102014  0.470098  0.052553  0.384005   \n",
       "14  0.097875  0.074321  0.279447  0.165793  0.499666  0.074321  0.416369   \n",
       "15  0.115831  0.034138  0.290279  0.102415  0.491251  0.034138  0.408568   \n",
       "16  0.101039  0.029492  0.279877  0.200544  0.499590  0.029492  0.416423   \n",
       "17  0.115718  0.007106  0.292865  0.092375  0.497333  0.007106  0.413485   \n",
       "18  0.105105  0.040492  0.284310  0.219812  0.490991  0.040492  0.409719   \n",
       "19  0.109449  0.040886  0.276234  0.097498  0.473274  0.040886  0.391659   \n",
       "\n",
       "           7         8         9        10        11        12        13  \\\n",
       "0   0.045897  0.018760  0.339520  0.046011  0.227877  0.216001  0.461433   \n",
       "1   0.074712  0.018856  0.353389  0.057706  0.247155  0.234205  0.469976   \n",
       "2   0.006098  0.018780  0.344204  0.047256  0.231888  0.220120  0.464020   \n",
       "3   0.095773  0.019048  0.352340  0.057464  0.246421  0.233510  0.471595   \n",
       "4   0.012106  0.018764  0.345194  0.048544  0.233640  0.221413  0.464374   \n",
       "5   0.099092  0.019004  0.351530  0.057403  0.245855  0.232973  0.470511   \n",
       "6   0.023737  0.019168  0.347749  0.049729  0.235709  0.223426  0.473733   \n",
       "7   0.019164  0.019049  0.354618  0.058145  0.248562  0.236182  0.470677   \n",
       "8   0.018072  0.018674  0.343548  0.048192  0.232526  0.220478  0.462040   \n",
       "9   0.073081  0.019257  0.346333  0.055359  0.238355  0.225748  0.474408   \n",
       "10  0.139632  0.019095  0.346812  0.056621  0.242506  0.229870  0.470037   \n",
       "11  0.007699  0.018939  0.356152  0.058435  0.249715  0.237242  0.469442   \n",
       "12  0.061399  0.018531  0.339649  0.046887  0.229856  0.217855  0.458651   \n",
       "13  0.374051  0.017930  0.323415  0.050141  0.219794  0.207583  0.443606   \n",
       "14  0.074321  0.019152  0.347708  0.045850  0.229823  0.217360  0.470966   \n",
       "15  0.157037  0.018776  0.349577  0.057762  0.244704  0.231868  0.465886   \n",
       "16  0.029492  0.019052  0.346410  0.047305  0.230743  0.218121  0.471396   \n",
       "17  0.088822  0.019008  0.352979  0.057557  0.246819  0.233887  0.471291   \n",
       "18  0.040492  0.018800  0.346609  0.050152  0.238323  0.225886  0.463804   \n",
       "19  0.320800  0.018084  0.333474  0.054473  0.232580  0.220471  0.448742   \n",
       "\n",
       "    gender  wheelchair  \n",
       "0        0           1  \n",
       "1        1           0  \n",
       "2        0           1  \n",
       "3        1           0  \n",
       "4        0           1  \n",
       "5        1           0  \n",
       "6        0           1  \n",
       "7        0           0  \n",
       "8        0           1  \n",
       "9        0           0  \n",
       "10       1           0  \n",
       "11       0           0  \n",
       "12       0           1  \n",
       "13       1           0  \n",
       "14       0           1  \n",
       "15       1           0  \n",
       "16       0           1  \n",
       "17       1           0  \n",
       "18       0           1  \n",
       "19       1           0  "
      ]
     },
     "execution_count": 21,
     "metadata": {},
     "output_type": "execute_result"
    }
   ],
   "source": [
    "df_concat.head(20)"
   ]
  },
  {
   "cell_type": "code",
   "execution_count": 22,
   "metadata": {},
   "outputs": [
    {
     "data": {
      "text/plain": [
       "0             float64\n",
       "1             float64\n",
       "2             float64\n",
       "3             float64\n",
       "4             float64\n",
       "5             float64\n",
       "6             float64\n",
       "7             float64\n",
       "8             float64\n",
       "9             float64\n",
       "10            float64\n",
       "11            float64\n",
       "12            float64\n",
       "13            float64\n",
       "gender          int64\n",
       "wheelchair      int64\n",
       "dtype: object"
      ]
     },
     "execution_count": 22,
     "metadata": {},
     "output_type": "execute_result"
    }
   ],
   "source": [
    "df_concat.dtypes"
   ]
  },
  {
   "cell_type": "code",
   "execution_count": 23,
   "metadata": {},
   "outputs": [],
   "source": [
    "pca = PCA(n_components=2)\n",
    "df_concat_pca = pca.fit_transform(df_concat)"
   ]
  },
  {
   "cell_type": "code",
   "execution_count": 24,
   "metadata": {},
   "outputs": [],
   "source": [
    "X_half1, X_half2, X_pcahalf1, X_pcahalf2 = train_test_split(\n",
    "    df_concat,\n",
    "    df_concat_pca,\n",
    "    test_size=0.5,\n",
    "    random_state=42)\n",
    "\n",
    "# Then we halve the halves.\n",
    "X1, X2, X_pca1, X_pca2 = train_test_split(\n",
    "    X_half1,\n",
    "    X_pcahalf1,\n",
    "    test_size=0.5,\n",
    "    random_state=42)\n",
    "X3, X4, X_pca3, X_pca4 = train_test_split(\n",
    "    X_half2,\n",
    "    X_pcahalf2,\n",
    "    test_size=0.5,\n",
    "    random_state=42)"
   ]
  },
  {
   "cell_type": "markdown",
   "metadata": {},
   "source": [
    "# Mean Shift"
   ]
  },
  {
   "cell_type": "code",
   "execution_count": 33,
   "metadata": {},
   "outputs": [
    {
     "name": "stdout",
     "output_type": "stream",
     "text": [
      "0.7361448666971003\n",
      "0.7368740942302812\n",
      "0.7350203290692406\n",
      "0.7326757726645842\n"
     ]
    }
   ],
   "source": [
    "n_clusters = []\n",
    "for sample in [X1, X2, X3, X4]:\n",
    "    bandwidth = estimate_bandwidth(sample, quantile=0.2, n_samples=500)\n",
    "    model = MeanShift(bandwidth=bandwidth, bin_seeding=True, n_jobs = -1).fit(sample)\n",
    "    labels = model.labels_\n",
    "    n_clusters_ = len(np.unique(labels))\n",
    "    n_clusters.append(n_clusters_)\n",
    "    print(metrics.silhouette_score(sample, labels, metric='euclidean'))"
   ]
  },
  {
   "cell_type": "code",
   "execution_count": 26,
   "metadata": {},
   "outputs": [
    {
     "data": {
      "text/plain": [
       "[5, 6, 7, 5]"
      ]
     },
     "execution_count": 26,
     "metadata": {},
     "output_type": "execute_result"
    }
   ],
   "source": [
    "# the number of clusters stays consistent\n",
    "n_clusters"
   ]
  },
  {
   "cell_type": "code",
   "execution_count": 28,
   "metadata": {},
   "outputs": [
    {
     "name": "stdout",
     "output_type": "stream",
     "text": [
      "Estimated number of clusters: 2\n",
      "0.8163252085922451\n",
      "Estimated number of clusters: 3\n",
      "0.7396828531263254\n",
      "Estimated number of clusters: 5\n",
      "0.5621637245477953\n",
      "Estimated number of clusters: 7\n",
      "0.5609382915995623\n",
      "Estimated number of clusters: 8\n",
      "0.5509048720784234\n"
     ]
    }
   ],
   "source": [
    "clusters = [2, 3, 5, 7, 8]\n",
    "for number in clusters:\n",
    "    minibatchkmeans = MiniBatchKMeans(init='k-means++',\n",
    "                        n_clusters=number, \n",
    "                        random_state=42, \n",
    "                        batch_size=200).fit(X1)\n",
    "    labels = minibatchkmeans.labels_\n",
    "    print('Estimated number of clusters: {}'.format(number))\n",
    "    print(metrics.silhouette_score(X1, labels, metric='euclidean'))"
   ]
  },
  {
   "cell_type": "code",
   "execution_count": 29,
   "metadata": {},
   "outputs": [
    {
     "name": "stdout",
     "output_type": "stream",
     "text": [
      "Estimated number of clusters: 2\n",
      "0.8153309509505956\n",
      "Estimated number of clusters: 3\n",
      "0.7411592126577566\n",
      "Estimated number of clusters: 5\n",
      "0.5484894148830073\n",
      "Estimated number of clusters: 7\n",
      "0.5569053517381527\n",
      "Estimated number of clusters: 8\n",
      "0.5160872328852645\n"
     ]
    }
   ],
   "source": [
    "clusters = [2, 3, 5, 7, 8]\n",
    "for number in clusters:\n",
    "    minibatchkmeans = MiniBatchKMeans(init='k-means++',\n",
    "                        n_clusters=number, \n",
    "                        random_state=42, \n",
    "                        batch_size=200).fit(X2)\n",
    "    labels = minibatchkmeans.labels_\n",
    "    print('Estimated number of clusters: {}'.format(number))\n",
    "    print(metrics.silhouette_score(X2, labels, metric='euclidean'))"
   ]
  },
  {
   "cell_type": "code",
   "execution_count": 30,
   "metadata": {},
   "outputs": [
    {
     "name": "stdout",
     "output_type": "stream",
     "text": [
      "Estimated number of clusters: 2\n",
      "0.8157272093792844\n",
      "Estimated number of clusters: 3\n",
      "0.7401112147531731\n",
      "Estimated number of clusters: 5\n",
      "0.5637817654540003\n",
      "Estimated number of clusters: 7\n",
      "0.4938964667356427\n",
      "Estimated number of clusters: 8\n",
      "0.5302459424242177\n"
     ]
    }
   ],
   "source": [
    "clusters = [2, 3, 5, 7, 8]\n",
    "for number in clusters:\n",
    "    minibatchkmeans = MiniBatchKMeans(init='k-means++',\n",
    "                        n_clusters=number, \n",
    "                        random_state=42, \n",
    "                        batch_size=200).fit(X3)\n",
    "    labels = minibatchkmeans.labels_\n",
    "    print('Estimated number of clusters: {}'.format(number))\n",
    "    print(metrics.silhouette_score(X3, labels, metric='euclidean'))"
   ]
  },
  {
   "cell_type": "code",
   "execution_count": 31,
   "metadata": {},
   "outputs": [
    {
     "name": "stdout",
     "output_type": "stream",
     "text": [
      "Estimated number of clusters: 2\n",
      "0.8169946563821632\n",
      "Estimated number of clusters: 3\n",
      "0.7424771105997154\n",
      "Estimated number of clusters: 5\n",
      "0.6708877911003399\n",
      "Estimated number of clusters: 7\n",
      "0.502075626582156\n",
      "Estimated number of clusters: 8\n",
      "0.5125302474018786\n"
     ]
    }
   ],
   "source": [
    "clusters = [2, 3, 5, 7, 8]\n",
    "for number in clusters:\n",
    "    minibatchkmeans = MiniBatchKMeans(init='k-means++',\n",
    "                        n_clusters=number, \n",
    "                        random_state=42, \n",
    "                        batch_size=200).fit(X4)\n",
    "    labels = minibatchkmeans.labels_\n",
    "    print('Estimated number of clusters: {}'.format(number))\n",
    "    print(metrics.silhouette_score(X4, labels, metric='euclidean'))"
   ]
  },
  {
   "cell_type": "markdown",
   "metadata": {},
   "source": [
    "`MiniBatchKmeans stays stable with 2 and 3 clusters.`"
   ]
  },
  {
   "cell_type": "markdown",
   "metadata": {},
   "source": [
    "# Spectral Clustering"
   ]
  },
  {
   "cell_type": "code",
   "execution_count": 38,
   "metadata": {},
   "outputs": [
    {
     "name": "stdout",
     "output_type": "stream",
     "text": [
      "Estimated number of clusters: 2\n",
      "0.8163252085922451\n",
      "Estimated number of clusters: 3\n",
      "0.8209403817393217\n",
      "Estimated number of clusters: 5\n",
      "0.7396667686235134\n",
      "Estimated number of clusters: 7\n",
      "0.5825479635388562\n",
      "Estimated number of clusters: 8\n",
      "0.5762018413543668\n"
     ]
    }
   ],
   "source": [
    "clusters = [2, 3, 5, 7, 8]\n",
    "for number in clusters:\n",
    "    sc = SpectralClustering(n_clusters=number, n_jobs = -1)\n",
    "    sc.fit(X1)\n",
    "    labels = sc.labels_\n",
    "    print('Estimated number of clusters: {}'.format(number))\n",
    "    print(metrics.silhouette_score(X1, labels, metric='euclidean'))"
   ]
  },
  {
   "cell_type": "code",
   "execution_count": 39,
   "metadata": {},
   "outputs": [
    {
     "name": "stdout",
     "output_type": "stream",
     "text": [
      "Estimated number of clusters: 2\n",
      "0.8153309509505956\n",
      "Estimated number of clusters: 3\n",
      "0.8184108568889351\n",
      "Estimated number of clusters: 5\n",
      "0.7396492437450859\n",
      "Estimated number of clusters: 7\n",
      "0.505723990692689\n",
      "Estimated number of clusters: 8\n",
      "0.5490508940475134\n"
     ]
    }
   ],
   "source": [
    "clusters = [2, 3, 5, 7, 8]\n",
    "for number in clusters:\n",
    "    sc = SpectralClustering(n_clusters=number, n_jobs = -1)\n",
    "    sc.fit(X2)\n",
    "    labels = sc.labels_\n",
    "    print('Estimated number of clusters: {}'.format(number))\n",
    "    print(metrics.silhouette_score(X2, labels, metric='euclidean'))"
   ]
  },
  {
   "cell_type": "code",
   "execution_count": 40,
   "metadata": {},
   "outputs": [
    {
     "name": "stdout",
     "output_type": "stream",
     "text": [
      "Estimated number of clusters: 2\n",
      "0.8157272093792844\n",
      "Estimated number of clusters: 3\n",
      "0.7418781193094346\n",
      "Estimated number of clusters: 5\n",
      "0.7390038016983881\n",
      "Estimated number of clusters: 7\n",
      "0.5002342552920428\n",
      "Estimated number of clusters: 8\n",
      "0.5670050277165873\n"
     ]
    }
   ],
   "source": [
    "clusters = [2, 3, 5, 7, 8]\n",
    "for number in clusters:\n",
    "    sc = SpectralClustering(n_clusters=number, n_jobs = -1)\n",
    "    sc.fit(X3)\n",
    "    labels = sc.labels_\n",
    "    print('Estimated number of clusters: {}'.format(number))\n",
    "    print(metrics.silhouette_score(X3, labels, metric='euclidean'))"
   ]
  },
  {
   "cell_type": "code",
   "execution_count": 41,
   "metadata": {},
   "outputs": [
    {
     "name": "stdout",
     "output_type": "stream",
     "text": [
      "Estimated number of clusters: 2\n",
      "0.8169946563821632\n",
      "Estimated number of clusters: 3\n",
      "0.7446713422149196\n",
      "Estimated number of clusters: 5\n",
      "0.736879457989109\n",
      "Estimated number of clusters: 7\n",
      "0.5023044986514933\n",
      "Estimated number of clusters: 8\n",
      "0.5439851141588248\n"
     ]
    }
   ],
   "source": [
    "clusters = [2, 3, 5, 7, 8]\n",
    "for number in clusters:\n",
    "    sc = SpectralClustering(n_clusters=number, n_jobs = -1)\n",
    "    sc.fit(X4)\n",
    "    labels = sc.labels_\n",
    "    print('Estimated number of clusters: {}'.format(number))\n",
    "    print(metrics.silhouette_score(X4, labels, metric='euclidean'))"
   ]
  },
  {
   "cell_type": "markdown",
   "metadata": {},
   "source": [
    "`Spectral clustering stays stable with 2 and 5 clusters.`"
   ]
  },
  {
   "cell_type": "code",
   "execution_count": 58,
   "metadata": {},
   "outputs": [],
   "source": [
    "sc = SpectralClustering(n_clusters=2, n_jobs = -1)\n",
    "sc.fit(X1)\n",
    "sc_labels = sc.labels_"
   ]
  },
  {
   "cell_type": "code",
   "execution_count": 79,
   "metadata": {},
   "outputs": [
    {
     "data": {
      "image/png": "[encoded data removed]",
      "text/plain": [
       "<Figure size 1440x504 with 4 Axes>"
      ]
     },
     "metadata": {},
     "output_type": "display_data"
    }
   ],
   "source": [
    "plt.figure(figsize=(20,7))\n",
    "\n",
    "plt.subplot(141)\n",
    "sc = SpectralClustering(n_clusters=2, n_jobs = -1)\n",
    "sc.fit(X1)\n",
    "sc_labels = sc.labels_\n",
    "plt.scatter(X_pca1[:, 0], X_pca1[:, 1], c=sc_labels)\n",
    "plt.title('Sample 1')\n",
    "\n",
    "plt.subplot(142)\n",
    "sc.fit(X2)\n",
    "sc_2labels = sc.labels_\n",
    "plt.scatter(X_pca2[:, 0], X_pca2[:, 1], c=sc_2labels)\n",
    "plt.title('Sample 2')\n",
    "\n",
    "plt.subplot(143)\n",
    "sc.fit(X3)\n",
    "sc_3labels = sc.labels_\n",
    "plt.scatter(X_pca3[:, 0], X_pca3[:, 1], c=sc_3labels)\n",
    "plt.title('Spectral Clustering With Two Clusters')\n",
    "plt.title('Sample 3')\n",
    "\n",
    "plt.subplot(144)\n",
    "sc.fit(X4)\n",
    "sc_4labels = sc.labels_\n",
    "plt.scatter(X_pca4[:, 0], X_pca4[:, 1], c=sc_4labels)\n",
    "plt.title('Sample 4')\n",
    "\n",
    "plt.suptitle('Spectral Clustering With Two Clusters')\n",
    "plt.show()"
   ]
  },
  {
   "cell_type": "code",
   "execution_count": 81,
   "metadata": {},
   "outputs": [],
   "source": [
    "minibatchkmeans = MiniBatchKMeans(init='k-means++',\n",
    "                        n_clusters=2, \n",
    "                        random_state=42, \n",
    "                        batch_size=200)"
   ]
  },
  {
   "cell_type": "code",
   "execution_count": 82,
   "metadata": {},
   "outputs": [
    {
     "data": {
      "image/png": "[encoded data removed]",
      "text/plain": [
       "<Figure size 1440x504 with 4 Axes>"
      ]
     },
     "metadata": {},
     "output_type": "display_data"
    }
   ],
   "source": [
    "plt.figure(figsize=(20,7))\n",
    "\n",
    "plt.subplot(141)\n",
    "\n",
    "minibatchkmeans.fit(X1)\n",
    "mini_labels = minibatchkmeans.labels_\n",
    "plt.scatter(X_pca1[:, 0], X_pca1[:, 1], c=mini_labels)\n",
    "plt.title('Sample 1')\n",
    "\n",
    "plt.subplot(142)\n",
    "minibatchkmeans.fit(X2)\n",
    "mini_2labels = minibatchkmeans.labels_\n",
    "plt.scatter(X_pca2[:, 0], X_pca2[:, 1], c=mini_2labels)\n",
    "plt.title('Sample 2')\n",
    "\n",
    "plt.subplot(143)\n",
    "minibatchkmeans.fit(X3)\n",
    "mini_3labels = minibatchkmeans.labels_\n",
    "plt.scatter(X_pca3[:, 0], X_pca3[:, 1], c=mini_3labels)\n",
    "plt.title('Sample 3')\n",
    "\n",
    "plt.subplot(144)\n",
    "minibatchkmeans.fit(X4)\n",
    "mini_4labels = minibatchkmeans.labels_\n",
    "plt.scatter(X_pca4[:, 0], X_pca4[:, 1], c=mini_4labels)\n",
    "plt.title('Sample 4')\n",
    "\n",
    "plt.suptitle('MiniBatch KMeans With Two Clusters')\n",
    "plt.show()"
   ]
  },
  {
   "cell_type": "code",
   "execution_count": 86,
   "metadata": {},
   "outputs": [
    {
     "data": {
      "image/png": "[encoded data removed]",
      "text/plain": [
       "<Figure size 1440x504 with 4 Axes>"
      ]
     },
     "metadata": {},
     "output_type": "display_data"
    }
   ],
   "source": [
    "plt.figure(figsize=(20,7))\n",
    "\n",
    "plt.subplot(141)\n",
    "bandwidth = estimate_bandwidth(X1, quantile=0.2, n_samples=500)\n",
    "ms = MeanShift(bandwidth=bandwidth, bin_seeding=True, n_jobs = -1).fit(X1)\n",
    "ms_labels = ms.labels_\n",
    "plt.scatter(X_pca1[:, 0], X_pca1[:, 1], c=ms_labels)\n",
    "plt.title('Sample 1')\n",
    "\n",
    "plt.subplot(142)\n",
    "bandwidth = estimate_bandwidth(X2, quantile=0.2, n_samples=500)\n",
    "ms = MeanShift(bandwidth=bandwidth, bin_seeding=True, n_jobs = -1).fit(X2)\n",
    "ms1_labels = ms.labels_\n",
    "plt.scatter(X_pca2[:, 0], X_pca2[:, 1], c=ms1_labels)\n",
    "plt.title('Sample 2')\n",
    "\n",
    "plt.subplot(143)\n",
    "bandwidth = estimate_bandwidth(X3, quantile=0.2, n_samples=500)\n",
    "ms = MeanShift(bandwidth=bandwidth, bin_seeding=True, n_jobs = -1).fit(X3)\n",
    "ms2_labels = ms.labels_\n",
    "plt.scatter(X_pca3[:, 0], X_pca3[:, 1], c=ms2_labels)\n",
    "plt.title('Sample 3')\n",
    "\n",
    "plt.subplot(144)\n",
    "bandwidth = estimate_bandwidth(X4, quantile=0.2, n_samples=500)\n",
    "ms = MeanShift(bandwidth=bandwidth, bin_seeding=True, n_jobs = -1).fit(X4)\n",
    "ms3_labels = ms.labels_\n",
    "plt.scatter(X_pca4[:, 0], X_pca4[:, 1], c=ms3_labels)\n",
    "plt.title('Sample 4')\n",
    "\n",
    "plt.suptitle('Mean Shift Clustering')\n",
    "plt.show()"
   ]
  },
  {
   "cell_type": "code",
   "execution_count": 91,
   "metadata": {},
   "outputs": [
    {
     "data": {
      "image/png": "[encoded data removed]",
      "text/plain": [
       "<Figure size 1440x504 with 4 Axes>"
      ]
     },
     "metadata": {},
     "output_type": "display_data"
    }
   ],
   "source": [
    "plt.figure(figsize=(20,7))\n",
    "\n",
    "plt.subplot(141)\n",
    "sc = SpectralClustering(n_clusters=5, n_jobs = -1)\n",
    "sc.fit(X1)\n",
    "sc_labels = sc.labels_\n",
    "plt.scatter(X_pca1[:, 0], X_pca1[:, 1], c=sc_labels)\n",
    "plt.title('Sample 1')\n",
    "\n",
    "plt.subplot(142)\n",
    "sc = SpectralClustering(n_clusters=5, n_jobs = -1)\n",
    "sc.fit(X2)\n",
    "sc1_labels = sc.labels_\n",
    "plt.scatter(X_pca2[:, 0], X_pca2[:, 1], c=sc1_labels)\n",
    "plt.title('Sample 2')\n",
    "\n",
    "plt.subplot(143)\n",
    "sc = SpectralClustering(n_clusters=5, n_jobs = -1)\n",
    "sc.fit(X3)\n",
    "sc2_labels = sc.labels_\n",
    "plt.scatter(X_pca3[:, 0], X_pca3[:, 1], c=sc2_labels)\n",
    "plt.title('Sample 3')\n",
    "\n",
    "plt.subplot(144)\n",
    "sc = SpectralClustering(n_clusters=5, n_jobs = -1)\n",
    "sc.fit(X4)\n",
    "sc3_labels = sc.labels_\n",
    "plt.scatter(X_pca4[:, 0], X_pca4[:, 1], c=sc3_labels)\n",
    "plt.title('Sample 4')\n",
    "\n",
    "plt.suptitle('Spectral Clustering with Five Clusters')\n",
    "plt.show()"
   ]
  },
  {
   "cell_type": "markdown",
   "metadata": {},
   "source": [
    "# Affinity Propagation\n",
    "This algorithm does not come to consistent solutions across samples and arrives at much higher number of clusters than any other algorithm."
   ]
  },
  {
   "cell_type": "code",
   "execution_count": 92,
   "metadata": {},
   "outputs": [
    {
     "name": "stdout",
     "output_type": "stream",
     "text": [
      "Estimated number of clusters: 7093\n",
      "0.061365598149702494\n",
      "Estimated number of clusters: 5406\n",
      "0.07157500545699107\n",
      "Estimated number of clusters: 4061\n",
      "0.22333655186151827\n",
      "Estimated number of clusters: 3308\n",
      "0.16112715848734302\n"
     ]
    }
   ],
   "source": [
    "from sklearn.cluster import AffinityPropagation\n",
    "\n",
    "# Declare the model and fit it in one statement.\n",
    "# Note that you can provide arguments to the model, but we didn't.\n",
    "for sample in [X1, X2, X3, X4]: \n",
    "    af = AffinityPropagation().fit(sample)\n",
    "    cluster_centers_indices = af.cluster_centers_indices_\n",
    "    n_clusters_ = len(cluster_centers_indices)\n",
    "    labels = af.labels_\n",
    "    print('Estimated number of clusters: {}'.format(n_clusters_))\n",
    "    print(metrics.silhouette_score(sample, labels, metric='euclidean'))"
   ]
  },
  {
   "cell_type": "code",
   "execution_count": null,
   "metadata": {},
   "outputs": [],
   "source": []
  }
 ],
 "metadata": {
  "kernelspec": {
   "display_name": "Python 3",
   "language": "python",
   "name": "python3"
  },
  "language_info": {
   "codemirror_mode": {
    "name": "ipython",
    "version": 3
   },
   "file_extension": ".py",
   "mimetype": "text/x-python",
   "name": "python",
   "nbconvert_exporter": "python",
   "pygments_lexer": "ipython3",
   "version": "3.7.0"
  }
 },
 "nbformat": 4,
 "nbformat_minor": 2
}
