{
 "cells": [
  {
   "cell_type": "code",
   "execution_count": 1,
   "metadata": {},
   "outputs": [],
   "source": [
    "import numpy as np\n",
    "import matplotlib.pyplot as plt\n",
    "import pandas as pd\n",
    "import seaborn as sns\n",
    "import statsmodels.api as sm\n",
    "from sklearn import linear_model\n",
    "from sklearn.linear_model import LogisticRegression\n",
    "from sklearn.linear_model import RidgeClassifier\n",
    "from sklearn import preprocessing\n",
    "from sklearn.model_selection import cross_val_score"
   ]
  },
  {
   "cell_type": "code",
   "execution_count": 2,
   "metadata": {},
   "outputs": [],
   "source": [
    "news = pd.read_csv(r'C:\\Users\\owner\\OnlineNewsPopularity\\OnlineNewsPopularity.csv')"
   ]
  },
  {
   "cell_type": "markdown",
   "metadata": {},
   "source": [
    "The data was found on https://archive.ics.uci.edu/ml/datasets/Online+News+Popularity"
   ]
  },
  {
   "cell_type": "code",
   "execution_count": 3,
   "metadata": {},
   "outputs": [
    {
     "data": {
      "text/html": [
       "<div>\n",
       "<style scoped>\n",
       "    .dataframe tbody tr th:only-of-type {\n",
       "        vertical-align: middle;\n",
       "    }\n",
       "\n",
       "    .dataframe tbody tr th {\n",
       "        vertical-align: top;\n",
       "    }\n",
       "\n",
       "    .dataframe thead th {\n",
       "        text-align: right;\n",
       "    }\n",
       "</style>\n",
       "<table border=\"1\" class=\"dataframe\">\n",
       "  <thead>\n",
       "    <tr style=\"text-align: right;\">\n",
       "      <th></th>\n",
       "      <th>url</th>\n",
       "      <th>timedelta</th>\n",
       "      <th>n_tokens_title</th>\n",
       "      <th>n_tokens_content</th>\n",
       "      <th>n_unique_tokens</th>\n",
       "      <th>n_non_stop_words</th>\n",
       "      <th>n_non_stop_unique_tokens</th>\n",
       "      <th>num_hrefs</th>\n",
       "      <th>num_self_hrefs</th>\n",
       "      <th>num_imgs</th>\n",
       "      <th>...</th>\n",
       "      <th>min_positive_polarity</th>\n",
       "      <th>max_positive_polarity</th>\n",
       "      <th>avg_negative_polarity</th>\n",
       "      <th>min_negative_polarity</th>\n",
       "      <th>max_negative_polarity</th>\n",
       "      <th>title_subjectivity</th>\n",
       "      <th>title_sentiment_polarity</th>\n",
       "      <th>abs_title_subjectivity</th>\n",
       "      <th>abs_title_sentiment_polarity</th>\n",
       "      <th>shares</th>\n",
       "    </tr>\n",
       "  </thead>\n",
       "  <tbody>\n",
       "    <tr>\n",
       "      <th>0</th>\n",
       "      <td>http://mashable.com/2013/01/07/amazon-instant-...</td>\n",
       "      <td>731.0</td>\n",
       "      <td>12.0</td>\n",
       "      <td>219.0</td>\n",
       "      <td>0.663594</td>\n",
       "      <td>1.0</td>\n",
       "      <td>0.815385</td>\n",
       "      <td>4.0</td>\n",
       "      <td>2.0</td>\n",
       "      <td>1.0</td>\n",
       "      <td>...</td>\n",
       "      <td>0.100000</td>\n",
       "      <td>0.7</td>\n",
       "      <td>-0.350000</td>\n",
       "      <td>-0.600</td>\n",
       "      <td>-0.200000</td>\n",
       "      <td>0.500000</td>\n",
       "      <td>-0.187500</td>\n",
       "      <td>0.000000</td>\n",
       "      <td>0.187500</td>\n",
       "      <td>593</td>\n",
       "    </tr>\n",
       "    <tr>\n",
       "      <th>1</th>\n",
       "      <td>http://mashable.com/2013/01/07/ap-samsung-spon...</td>\n",
       "      <td>731.0</td>\n",
       "      <td>9.0</td>\n",
       "      <td>255.0</td>\n",
       "      <td>0.604743</td>\n",
       "      <td>1.0</td>\n",
       "      <td>0.791946</td>\n",
       "      <td>3.0</td>\n",
       "      <td>1.0</td>\n",
       "      <td>1.0</td>\n",
       "      <td>...</td>\n",
       "      <td>0.033333</td>\n",
       "      <td>0.7</td>\n",
       "      <td>-0.118750</td>\n",
       "      <td>-0.125</td>\n",
       "      <td>-0.100000</td>\n",
       "      <td>0.000000</td>\n",
       "      <td>0.000000</td>\n",
       "      <td>0.500000</td>\n",
       "      <td>0.000000</td>\n",
       "      <td>711</td>\n",
       "    </tr>\n",
       "    <tr>\n",
       "      <th>2</th>\n",
       "      <td>http://mashable.com/2013/01/07/apple-40-billio...</td>\n",
       "      <td>731.0</td>\n",
       "      <td>9.0</td>\n",
       "      <td>211.0</td>\n",
       "      <td>0.575130</td>\n",
       "      <td>1.0</td>\n",
       "      <td>0.663866</td>\n",
       "      <td>3.0</td>\n",
       "      <td>1.0</td>\n",
       "      <td>1.0</td>\n",
       "      <td>...</td>\n",
       "      <td>0.100000</td>\n",
       "      <td>1.0</td>\n",
       "      <td>-0.466667</td>\n",
       "      <td>-0.800</td>\n",
       "      <td>-0.133333</td>\n",
       "      <td>0.000000</td>\n",
       "      <td>0.000000</td>\n",
       "      <td>0.500000</td>\n",
       "      <td>0.000000</td>\n",
       "      <td>1500</td>\n",
       "    </tr>\n",
       "    <tr>\n",
       "      <th>3</th>\n",
       "      <td>http://mashable.com/2013/01/07/astronaut-notre...</td>\n",
       "      <td>731.0</td>\n",
       "      <td>9.0</td>\n",
       "      <td>531.0</td>\n",
       "      <td>0.503788</td>\n",
       "      <td>1.0</td>\n",
       "      <td>0.665635</td>\n",
       "      <td>9.0</td>\n",
       "      <td>0.0</td>\n",
       "      <td>1.0</td>\n",
       "      <td>...</td>\n",
       "      <td>0.136364</td>\n",
       "      <td>0.8</td>\n",
       "      <td>-0.369697</td>\n",
       "      <td>-0.600</td>\n",
       "      <td>-0.166667</td>\n",
       "      <td>0.000000</td>\n",
       "      <td>0.000000</td>\n",
       "      <td>0.500000</td>\n",
       "      <td>0.000000</td>\n",
       "      <td>1200</td>\n",
       "    </tr>\n",
       "    <tr>\n",
       "      <th>4</th>\n",
       "      <td>http://mashable.com/2013/01/07/att-u-verse-apps/</td>\n",
       "      <td>731.0</td>\n",
       "      <td>13.0</td>\n",
       "      <td>1072.0</td>\n",
       "      <td>0.415646</td>\n",
       "      <td>1.0</td>\n",
       "      <td>0.540890</td>\n",
       "      <td>19.0</td>\n",
       "      <td>19.0</td>\n",
       "      <td>20.0</td>\n",
       "      <td>...</td>\n",
       "      <td>0.033333</td>\n",
       "      <td>1.0</td>\n",
       "      <td>-0.220192</td>\n",
       "      <td>-0.500</td>\n",
       "      <td>-0.050000</td>\n",
       "      <td>0.454545</td>\n",
       "      <td>0.136364</td>\n",
       "      <td>0.045455</td>\n",
       "      <td>0.136364</td>\n",
       "      <td>505</td>\n",
       "    </tr>\n",
       "  </tbody>\n",
       "</table>\n",
       "<p>5 rows × 61 columns</p>\n",
       "</div>"
      ],
      "text/plain": [
       "                                                 url   timedelta  \\\n",
       "0  http://mashable.com/2013/01/07/amazon-instant-...       731.0   \n",
       "1  http://mashable.com/2013/01/07/ap-samsung-spon...       731.0   \n",
       "2  http://mashable.com/2013/01/07/apple-40-billio...       731.0   \n",
       "3  http://mashable.com/2013/01/07/astronaut-notre...       731.0   \n",
       "4   http://mashable.com/2013/01/07/att-u-verse-apps/       731.0   \n",
       "\n",
       "    n_tokens_title   n_tokens_content   n_unique_tokens   n_non_stop_words  \\\n",
       "0             12.0              219.0          0.663594                1.0   \n",
       "1              9.0              255.0          0.604743                1.0   \n",
       "2              9.0              211.0          0.575130                1.0   \n",
       "3              9.0              531.0          0.503788                1.0   \n",
       "4             13.0             1072.0          0.415646                1.0   \n",
       "\n",
       "    n_non_stop_unique_tokens   num_hrefs   num_self_hrefs   num_imgs   ...     \\\n",
       "0                   0.815385         4.0              2.0        1.0   ...      \n",
       "1                   0.791946         3.0              1.0        1.0   ...      \n",
       "2                   0.663866         3.0              1.0        1.0   ...      \n",
       "3                   0.665635         9.0              0.0        1.0   ...      \n",
       "4                   0.540890        19.0             19.0       20.0   ...      \n",
       "\n",
       "    min_positive_polarity   max_positive_polarity   avg_negative_polarity  \\\n",
       "0                0.100000                     0.7               -0.350000   \n",
       "1                0.033333                     0.7               -0.118750   \n",
       "2                0.100000                     1.0               -0.466667   \n",
       "3                0.136364                     0.8               -0.369697   \n",
       "4                0.033333                     1.0               -0.220192   \n",
       "\n",
       "    min_negative_polarity   max_negative_polarity   title_subjectivity  \\\n",
       "0                  -0.600               -0.200000             0.500000   \n",
       "1                  -0.125               -0.100000             0.000000   \n",
       "2                  -0.800               -0.133333             0.000000   \n",
       "3                  -0.600               -0.166667             0.000000   \n",
       "4                  -0.500               -0.050000             0.454545   \n",
       "\n",
       "    title_sentiment_polarity   abs_title_subjectivity  \\\n",
       "0                  -0.187500                 0.000000   \n",
       "1                   0.000000                 0.500000   \n",
       "2                   0.000000                 0.500000   \n",
       "3                   0.000000                 0.500000   \n",
       "4                   0.136364                 0.045455   \n",
       "\n",
       "    abs_title_sentiment_polarity   shares  \n",
       "0                       0.187500      593  \n",
       "1                       0.000000      711  \n",
       "2                       0.000000     1500  \n",
       "3                       0.000000     1200  \n",
       "4                       0.136364      505  \n",
       "\n",
       "[5 rows x 61 columns]"
      ]
     },
     "execution_count": 3,
     "metadata": {},
     "output_type": "execute_result"
    }
   ],
   "source": [
    "news.head()"
   ]
  },
  {
   "cell_type": "code",
   "execution_count": 4,
   "metadata": {},
   "outputs": [
    {
     "data": {
      "text/plain": [
       "Index(['url', ' timedelta', ' n_tokens_title', ' n_tokens_content',\n",
       "       ' n_unique_tokens', ' n_non_stop_words', ' n_non_stop_unique_tokens',\n",
       "       ' num_hrefs', ' num_self_hrefs', ' num_imgs', ' num_videos',\n",
       "       ' average_token_length', ' num_keywords', ' data_channel_is_lifestyle',\n",
       "       ' data_channel_is_entertainment', ' data_channel_is_bus',\n",
       "       ' data_channel_is_socmed', ' data_channel_is_tech',\n",
       "       ' data_channel_is_world', ' kw_min_min', ' kw_max_min', ' kw_avg_min',\n",
       "       ' kw_min_max', ' kw_max_max', ' kw_avg_max', ' kw_min_avg',\n",
       "       ' kw_max_avg', ' kw_avg_avg', ' self_reference_min_shares',\n",
       "       ' self_reference_max_shares', ' self_reference_avg_sharess',\n",
       "       ' weekday_is_monday', ' weekday_is_tuesday', ' weekday_is_wednesday',\n",
       "       ' weekday_is_thursday', ' weekday_is_friday', ' weekday_is_saturday',\n",
       "       ' weekday_is_sunday', ' is_weekend', ' LDA_00', ' LDA_01', ' LDA_02',\n",
       "       ' LDA_03', ' LDA_04', ' global_subjectivity',\n",
       "       ' global_sentiment_polarity', ' global_rate_positive_words',\n",
       "       ' global_rate_negative_words', ' rate_positive_words',\n",
       "       ' rate_negative_words', ' avg_positive_polarity',\n",
       "       ' min_positive_polarity', ' max_positive_polarity',\n",
       "       ' avg_negative_polarity', ' min_negative_polarity',\n",
       "       ' max_negative_polarity', ' title_subjectivity',\n",
       "       ' title_sentiment_polarity', ' abs_title_subjectivity',\n",
       "       ' abs_title_sentiment_polarity', ' shares'],\n",
       "      dtype='object')"
      ]
     },
     "execution_count": 4,
     "metadata": {},
     "output_type": "execute_result"
    }
   ],
   "source": [
    "news.columns"
   ]
  },
  {
   "cell_type": "code",
   "execution_count": 5,
   "metadata": {},
   "outputs": [
    {
     "name": "stdout",
     "output_type": "stream",
     "text": [
      "['url', 'timedelta', 'n_tokens_title', 'n_tokens_content', 'n_unique_tokens', 'n_non_stop_words', 'n_non_stop_unique_tokens', 'num_hrefs', 'num_self_hrefs', 'num_imgs', 'num_videos', 'average_token_length', 'num_keywords', 'data_channel_is_lifestyle', 'data_channel_is_entertainment', 'data_channel_is_bus', 'data_channel_is_socmed', 'data_channel_is_tech', 'data_channel_is_world', 'kw_min_min', 'kw_max_min', 'kw_avg_min', 'kw_min_max', 'kw_max_max', 'kw_avg_max', 'kw_min_avg', 'kw_max_avg', 'kw_avg_avg', 'self_reference_min_shares', 'self_reference_max_shares', 'self_reference_avg_sharess', 'weekday_is_monday', 'weekday_is_tuesday', 'weekday_is_wednesday', 'weekday_is_thursday', 'weekday_is_friday', 'weekday_is_saturday', 'weekday_is_sunday', 'is_weekend', 'LDA_00', 'LDA_01', 'LDA_02', 'LDA_03', 'LDA_04', 'global_subjectivity', 'global_sentiment_polarity', 'global_rate_positive_words', 'global_rate_negative_words', 'rate_positive_words', 'rate_negative_words', 'avg_positive_polarity', 'min_positive_polarity', 'max_positive_polarity', 'avg_negative_polarity', 'min_negative_polarity', 'max_negative_polarity', 'title_subjectivity', 'title_sentiment_polarity', 'abs_title_subjectivity', 'abs_title_sentiment_polarity', 'shares']\n"
     ]
    }
   ],
   "source": [
    "#removing the white spaces in the column names\n",
    "names = []\n",
    "for name in news.columns:\n",
    "    name = name.replace(' ', '')\n",
    "    names.append(name)\n",
    "print(names)"
   ]
  },
  {
   "cell_type": "code",
   "execution_count": 6,
   "metadata": {},
   "outputs": [],
   "source": [
    "news.columns = names"
   ]
  },
  {
   "cell_type": "code",
   "execution_count": 7,
   "metadata": {},
   "outputs": [],
   "source": [
    "matrix = news.corr()"
   ]
  },
  {
   "cell_type": "code",
   "execution_count": 8,
   "metadata": {
    "scrolled": true
   },
   "outputs": [
    {
     "data": {
      "text/plain": [
       "LDA_03                          -0.261583\n",
       "data_channel_is_world           -0.247787\n",
       "data_channel_is_entertainment   -0.221935\n",
       "data_channel_is_bus             -0.206478\n",
       "LDA_00                          -0.200416\n",
       "LDA_02                          -0.179419\n",
       "LDA_01                          -0.165020\n",
       "kw_avg_max                      -0.161675\n",
       "kw_avg_avg                      -0.140958\n",
       "data_channel_is_socmed          -0.118983\n",
       "rate_negative_words             -0.114082\n",
       "data_channel_is_lifestyle       -0.112763\n",
       "global_rate_negative_words      -0.095851\n",
       "num_videos                      -0.093192\n",
       "kw_max_avg                      -0.083915\n",
       "num_hrefs                       -0.061734\n",
       "kw_min_max                      -0.054299\n",
       "kw_min_avg                      -0.050530\n",
       "n_tokens_title                  -0.046716\n",
       "title_subjectivity              -0.043031\n",
       "abs_title_sentiment_polarity    -0.042207\n",
       "kw_max_max                      -0.033972\n",
       "weekday_is_sunday               -0.028467\n",
       "shares                          -0.013253\n",
       "weekday_is_friday               -0.012468\n",
       "is_weekend                      -0.007834\n",
       "num_imgs                        -0.006292\n",
       "weekday_is_thursday             -0.006136\n",
       "n_unique_tokens                 -0.002328\n",
       "n_non_stop_unique_tokens        -0.000921\n",
       "n_non_stop_words                 0.000061\n",
       "kw_max_min                       0.000080\n",
       "weekday_is_monday                0.000125\n",
       "kw_avg_min                       0.004117\n",
       "weekday_is_wednesday             0.006536\n",
       "abs_title_subjectivity           0.007188\n",
       "self_reference_min_shares        0.010267\n",
       "avg_positive_polarity            0.014761\n",
       "self_reference_avg_sharess       0.016094\n",
       "self_reference_max_shares        0.016943\n",
       "weekday_is_tuesday               0.017444\n",
       "weekday_is_saturday              0.018987\n",
       "average_token_length             0.019138\n",
       "max_negative_polarity            0.024031\n",
       "min_positive_polarity            0.024879\n",
       "n_tokens_content                 0.025408\n",
       "kw_min_min                       0.026495\n",
       "title_sentiment_polarity         0.026831\n",
       "max_positive_polarity            0.029225\n",
       "global_subjectivity              0.054914\n",
       "timedelta                        0.083277\n",
       "global_rate_positive_words       0.089518\n",
       "avg_negative_polarity            0.114834\n",
       "min_negative_polarity            0.116122\n",
       "global_sentiment_polarity        0.130174\n",
       "num_keywords                     0.137936\n",
       "rate_positive_words              0.161503\n",
       "num_self_hrefs                   0.166668\n",
       "LDA_04                           0.749737\n",
       "data_channel_is_tech             1.000000\n",
       "Name: data_channel_is_tech, dtype: float64"
      ]
     },
     "execution_count": 8,
     "metadata": {},
     "output_type": "execute_result"
    }
   ],
   "source": [
    "matrix.loc[:, 'data_channel_is_tech'].sort_values()"
   ]
  },
  {
   "cell_type": "code",
   "execution_count": 9,
   "metadata": {},
   "outputs": [
    {
     "data": {
      "text/plain": [
       "(39644, 61)"
      ]
     },
     "execution_count": 9,
     "metadata": {},
     "output_type": "execute_result"
    }
   ],
   "source": [
    "news.shape"
   ]
  },
  {
   "cell_type": "markdown",
   "metadata": {},
   "source": [
    "# Target = Is Data Channel Tech?"
   ]
  },
  {
   "cell_type": "markdown",
   "metadata": {},
   "source": [
    "# Logistic Regression"
   ]
  },
  {
   "cell_type": "code",
   "execution_count": 23,
   "metadata": {},
   "outputs": [
    {
     "name": "stdout",
     "output_type": "stream",
     "text": [
      "Coefficients\n",
      "[[ 2.66291025e-04  1.04217223e-04 -7.71379873e-03  9.01214849e-03\n",
      "  -3.96052796e-03  5.51435684e-04  4.09998146e-03 -4.23966538e-04\n",
      "  -1.32648967e-03 -1.01178295e-03 -2.23170658e-03 -1.69622194e-06\n",
      "  -3.41365385e-06  1.59280743e-04 -4.64810836e-05 -1.95673309e-04\n",
      "  -1.20631213e-06  1.01771600e-06  3.22244726e-06  1.21908260e-04\n",
      "   7.67907147e-05  1.65321009e-04  2.04232344e-04  2.56338169e-05\n",
      "  -1.36809105e-05  5.04543659e-04 -2.45120674e-04  7.07629715e-05\n",
      "   5.15357844e-05  1.61476147e-04  1.67099069e-04  4.73186441e-04\n",
      "  -3.02014573e-06  1.35230416e-04]]\n",
      "\n",
      "Intercept: [0.00014254]\n",
      "\n",
      "Accuracy\n",
      "data_channel_is_tech   0.0   1.0\n",
      "row_0                           \n",
      "0.0                   6523  1383\n",
      "1.0                     14     9\n",
      "\n",
      "Percentage accuracy\n",
      "0.8238113255139362\n"
     ]
    }
   ],
   "source": [
    "from sklearn.model_selection import train_test_split\n",
    "\n",
    "lr= LogisticRegression(C=1e9)\n",
    "X=news.drop(['url', 'timedelta','LDA_00', 'LDA_01', 'LDA_02', 'LDA_03', 'LDA_04', \n",
    "             'data_channel_is_socmed', 'data_channel_is_tech', 'data_channel_is_world',\n",
    "            'is_weekend', 'num_imgs', 'weekday_is_thursday',  'n_unique_tokens', 'n_non_stop_unique_tokens',\n",
    "            'n_non_stop_words', 'kw_max_min', 'weekday_is_monday', 'kw_avg_min', 'weekday_is_wednesday', 'abs_title_subjectivity',\n",
    "            'title_subjectivity', 'abs_title_sentiment_polarity', 'kw_max_max', 'weekday_is_sunday', 'shares', 'weekday_is_friday'], 1)\n",
    "\n",
    "Y=news['data_channel_is_tech']\n",
    "\n",
    "X_train, X_test, Y_train, Y_test = train_test_split(X, Y, test_size = 0.2, random_state=108)\n",
    "\n",
    "fit = lr.fit(X_train, Y_train)\n",
    "\n",
    "print('Coefficients')\n",
    "print(fit.coef_)\n",
    "print('\\nIntercept:',fit.intercept_)\n",
    "pred_y_lr = lr.predict(X_test)\n",
    "\n",
    "print('\\nAccuracy')\n",
    "print(pd.crosstab(pred_y_lr, Y_test))\n",
    "\n",
    "print('\\nPercentage accuracy')\n",
    "print(lr.score(X_test, Y_test))"
   ]
  },
  {
   "cell_type": "code",
   "execution_count": 11,
   "metadata": {},
   "outputs": [
    {
     "data": {
      "text/plain": [
       "<matplotlib.axes._subplots.AxesSubplot at 0xecbac6d240>"
      ]
     },
     "execution_count": 11,
     "metadata": {},
     "output_type": "execute_result"
    },
    {
     "data": {
      "image/png": "[encoded data removed]",
      "text/plain": [
       "<Figure size 432x288 with 2 Axes>"
      ]
     },
     "metadata": {},
     "output_type": "display_data"
    }
   ],
   "source": [
    "matrix = X_train.corr()\n",
    "sns.heatmap(matrix)"
   ]
  },
  {
   "cell_type": "markdown",
   "metadata": {},
   "source": [
    "# Ridge Classifier"
   ]
  },
  {
   "cell_type": "code",
   "execution_count": 29,
   "metadata": {},
   "outputs": [
    {
     "name": "stdout",
     "output_type": "stream",
     "text": [
      "Score: 0.8234329675873376\n",
      "\n",
      "Coefficients\n",
      "[[-1.47288409e-05  6.75432130e-05 -4.24771889e-04  4.34727125e-04\n",
      "  -2.03615426e-04  1.17778372e-05  1.87100762e-04 -2.02539841e-05\n",
      "  -6.35164833e-05 -5.11304609e-05 -2.06945933e-03 -1.76196771e-06\n",
      "  -3.37844867e-06  1.52541170e-04 -5.18986736e-05 -1.87144414e-04\n",
      "  -1.33577831e-06  9.27433213e-07  3.41227338e-06  5.43469147e-06\n",
      "   3.73527152e-06  6.67105393e-06  9.43049832e-06  1.11023187e-06\n",
      "  -7.02954381e-07  2.20538971e-05 -1.26241510e-05  2.33998139e-06\n",
      "   2.15896659e-06  5.77579962e-06  8.77524336e-06  2.38571602e-05\n",
      "   2.83338869e-07  6.20760797e-06]]\n",
      "\n",
      "Intercept: [3.86950717e-06]\n",
      "\n",
      "Accuracy\n",
      "data_channel_is_tech   0.0   1.0\n",
      "row_0                           \n",
      "0.0                   6520  1383\n",
      "1.0                     17     9\n"
     ]
    }
   ],
   "source": [
    "ridge = linear_model.LogisticRegression(C=100)\n",
    "fit = ridge.fit(X_train, Y_train)\n",
    "print('Score:', ridge.score(X_test, Y_test))\n",
    "\n",
    "print('\\nCoefficients')\n",
    "print(fit.coef_)\n",
    "print('\\nIntercept:', fit.intercept_)\n",
    "\n",
    "pred_y_ridge = ridge.predict(X_test)\n",
    "print('\\nAccuracy')\n",
    "print(pd.crosstab(pred_y_ridge, Y_test))\n"
   ]
  },
  {
   "cell_type": "markdown",
   "metadata": {},
   "source": [
    "# Lasso Regression"
   ]
  },
  {
   "cell_type": "code",
   "execution_count": 15,
   "metadata": {},
   "outputs": [
    {
     "name": "stdout",
     "output_type": "stream",
     "text": [
      "Percentage accuracy\n",
      "0.8712321856476226\n",
      "\n",
      "Coefficients\n",
      "[[-5.68956309e-02  4.25308019e-04 -5.60463918e-02  1.23651902e-01\n",
      "  -1.71853050e-01 -1.69060687e+00  1.57014726e-01 -1.18493704e+01\n",
      "  -1.26963246e+01 -1.26256120e+01 -1.55572011e-03 -3.61207830e-07\n",
      "  -1.29114860e-06  2.49723947e-04 -2.68013991e-06 -5.58305819e-04\n",
      "  -7.19890930e-06 -3.23011189e-06  1.27465520e-05  7.39559130e-02\n",
      "   2.70721345e-02  2.20003164e+00  5.36544475e-01 -2.56416626e+00\n",
      "   1.00808863e+01  1.01734207e+01  7.72857137e+00 -1.46175948e+00\n",
      "   1.00359505e+00  3.73566486e-01  2.77626603e-01  1.15771949e+00\n",
      "   2.42918639e-01  1.07045909e-01]]\n",
      "\n",
      "Intercept: [-1.49300515]\n",
      "\n",
      "Accuracy\n",
      "data_channel_is_tech   0.0  1.0\n",
      "row_0                          \n",
      "0.0                   6200  684\n",
      "1.0                    337  708\n"
     ]
    }
   ],
   "source": [
    "lr_one = LogisticRegression(C=100, penalty ='l1')\n",
    "fit = lr_one.fit(X_train, Y_train)\n",
    "print('Percentage accuracy')\n",
    "print(lr_one.score(X_test, Y_test))\n",
    "\n",
    "print('\\nCoefficients')\n",
    "print(fit.coef_)\n",
    "print('\\nIntercept:', fit.intercept_)\n",
    "\n",
    "pred_y_lr_one = lr_one.predict(X_test)\n",
    "print('\\nAccuracy')\n",
    "print(pd.crosstab(pred_y_lr_one, Y_test))"
   ]
  },
  {
   "cell_type": "code",
   "execution_count": 22,
   "metadata": {},
   "outputs": [
    {
     "data": {
      "text/plain": [
       "(array([0., 1.]), array([6537, 1392], dtype=int64))"
      ]
     },
     "execution_count": 22,
     "metadata": {},
     "output_type": "execute_result"
    }
   ],
   "source": [
    "np.unique(Y_test, return_counts=True)\n"
   ]
  },
  {
   "cell_type": "markdown",
   "metadata": {},
   "source": [
    "In this case, both Ridge and Lasso regression models were improvements on the Logistic Regression model. In all cases our sensitivity is not great, the best model, Lasso, is only able to identify 708 out of 1392 (i.e. appr. 50.8%). Our specitivity rate is much higher though: 6200 out of 6537 (app. 94.84%). Yet, this is significantly better than vanilla logistic regression that was able to correctly identify only 9 'tech data channels'."
   ]
  },
  {
   "cell_type": "code",
   "execution_count": null,
   "metadata": {},
   "outputs": [],
   "source": []
  }
 ],
 "metadata": {
  "kernelspec": {
   "display_name": "Python 3",
   "language": "python",
   "name": "python3"
  },
  "language_info": {
   "codemirror_mode": {
    "name": "ipython",
    "version": 3
   },
   "file_extension": ".py",
   "mimetype": "text/x-python",
   "name": "python",
   "nbconvert_exporter": "python",
   "pygments_lexer": "ipython3",
   "version": "3.6.5"
  }
 },
 "nbformat": 4,
 "nbformat_minor": 2
}
