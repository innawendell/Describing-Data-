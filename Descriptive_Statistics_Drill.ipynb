{
 "cells": [
  {
   "cell_type": "code",
   "execution_count": 1,
   "metadata": {},
   "outputs": [],
   "source": [
    "import numpy as np\n",
    "import pandas as pd\n",
    "import matplotlib.pyplot as plt\n",
    "%matplotlib inline"
   ]
  },
  {
   "cell_type": "code",
   "execution_count": 9,
   "metadata": {},
   "outputs": [
    {
     "data": {
      "image/png": "[encoded data removed]",
      "text/plain": [
       "<Figure size 432x288 with 1 Axes>"
      ]
     },
     "metadata": {},
     "output_type": "display_data"
    },
    {
     "name": "stdout",
     "output_type": "stream",
     "text": [
      "The mean is 0.14831566206610197\n",
      "The standard deviation is 1.043639174237474\n",
      "[ 1.42450433  0.30208457 -0.62810834  0.39673967 -0.94797831 -1.71680991\n",
      "  0.87087469 -1.02853128  0.86941778  1.30104557  1.76770636  1.49954233\n",
      "  0.15553098  0.53312257  0.19082644  1.00650522 -1.6178979   1.29171388\n",
      "  1.51460926 -0.55145299  1.01694009 -1.43936092  0.24847849  0.48853913\n",
      " -0.46777258  0.11503072  0.32593507  0.87029842  0.66746824  1.10608541\n",
      "  0.15728725  0.39810956 -1.62527968 -1.22238086 -2.26279738 -0.88626837\n",
      " -1.23092244  0.94121457 -0.06149819  1.36726518  0.77303711 -1.73549945\n",
      " -0.03879422  1.96718647  1.52328364  0.40820654  1.93327886  1.21209494\n",
      "  0.20395297  0.11828995  0.54424485 -2.89053438 -1.03803011 -0.34688046\n",
      "  0.25397463  1.11475601  0.89765308 -1.13545552 -0.81046032  1.39164061\n",
      " -0.63922476  0.14084386  0.43574094  1.98347867  0.18220643 -0.14852463\n",
      "  0.86489938 -0.42177013  1.23961047 -0.29762262 -1.33445803 -1.65116876\n",
      " -1.24881481 -0.67113564 -0.39052605  0.80077549  0.74591221 -0.04883591\n",
      " -0.82531517  1.30472089  1.04974013  1.04332143  0.50291155  1.46057096\n",
      " -0.25175649  0.72710267  2.26557957  0.34002563 -0.45243003 -0.77076793\n",
      " -0.68257125 -0.82385284 -0.96128892 -0.39819134  0.5034227  -0.42068338\n",
      "  0.96838612  0.09207266 -0.14413053  1.27755183]\n"
     ]
    }
   ],
   "source": [
    "normal = np.random.normal(0, 1, 100)\n",
    "\n",
    "plt.hist(normal, bins=range(-3, 5), color='g')\n",
    "mean = plt.axvline(normal.mean(), color='b',linestyle='solid', linewidth=2)\n",
    "std = plt.axvline(normal.mean() + normal.std(), color = 'b', linestyle='dashed', linewidth=2)\n",
    "std_plt.axvline(normal.mean() - normal.std(), color='b', linestyle='dashed', linewidth=2)\n",
    "plt.title('Normal Distribution')\n",
    "\n",
    "mean_norm=np.mean(normal)\n",
    "std_norm=np.std(normal, ddof=1)\n",
    "\n",
    "plt.show()\n",
    "\n",
    "print('The mean is {}'.format(mean_norm))\n",
    "print('The standard deviation is {}'.format(std_norm))\n"
   ]
  },
  {
   "cell_type": "markdown",
   "metadata": {},
   "source": [
    "The mean and the standard deviation can provide useful information about the variable because the distribution is normal."
   ]
  },
  {
   "cell_type": "code",
   "execution_count": 3,
   "metadata": {},
   "outputs": [
    {
     "data": {
      "image/png": "[encoded data removed]",
      "text/plain": [
       "<Figure size 432x288 with 1 Axes>"
      ]
     },
     "metadata": {},
     "output_type": "display_data"
    },
    {
     "name": "stdout",
     "output_type": "stream",
     "text": [
      "The mean is 3.11071792478769\n",
      "The standard deviation is 1.7106975020926274\n"
     ]
    }
   ],
   "source": [
    "gamma = np.random.gamma(3, 1, 100)\n",
    "\n",
    "plt.hist(gamma, bins= range(0, 10), color='c')\n",
    "plt.axvline(gamma.mean(), color='b', linestyle='solid', linewidth=2)\n",
    "plt.axvline(gamma.mean()+ gamma.std(), color='b', linestyle='dashed', linewidth=2)\n",
    "plt.axvline(gamma.mean() - gamma.std(), color='b', linestyle='dashed', linewidth=2)\n",
    "plt.title('Gamma Distribution')\n",
    "\n",
    "mean=np.mean(gamma)\n",
    "std = np.std(gamma, ddof=1)\n",
    "\n",
    "plt.show()\n",
    "\n",
    "print('The mean is {}'.format(mean))\n",
    "print('The standard deviation is {}'.format(std))"
   ]
  },
  {
   "cell_type": "markdown",
   "metadata": {},
   "source": [
    "The mean and the standard deviation are not very useful in this case: the distribution is asymmetrical, skewed to the right. \n",
    "A higher proportion of the datapoints falls to the left of the mean. Most of the datapoints are within one standard deviation of the mean."
   ]
  },
  {
   "cell_type": "code",
   "execution_count": 4,
   "metadata": {},
   "outputs": [
    {
     "data": {
      "image/png": "[encoded data removed]",
      "text/plain": [
       "<Figure size 432x288 with 1 Axes>"
      ]
     },
     "metadata": {},
     "output_type": "display_data"
    },
    {
     "name": "stdout",
     "output_type": "stream",
     "text": [
      "The mean is 2.1\n",
      "The standard deviation is 1.3889898953170716\n"
     ]
    }
   ],
   "source": [
    "poisson = np.random.poisson(2, 100)\n",
    "\n",
    "plt.hist(poisson, bins= range(0, 10), color='c')\n",
    "\n",
    "plt.axvline(poisson.mean(), color='b',linestyle='solid', linewidth=2)\n",
    "plt.axvline(poisson.mean() + normal.std(), color = 'b', linestyle='dashed', linewidth=2)\n",
    "plt.axvline(poisson.mean() - normal.std(), color='b', linestyle='dashed', linewidth=2)\n",
    "plt.title('Poisson Distribution')\n",
    "\n",
    "mean_poisson=np.mean(poisson)\n",
    "std_poisson=np.std(poisson, ddof=1)\n",
    "\n",
    "\n",
    "plt.show()\n",
    "\n",
    "print('The mean is {}'.format(mean_poisson))\n",
    "print('The standard deviation is {}'.format(std_poisson))"
   ]
  },
  {
   "cell_type": "markdown",
   "metadata": {},
   "source": [
    "The mean is placed where the data clusters, but not exactly in the center. The standard deviation does not encompass the same amount of data. The distribution is skewed to the right."
   ]
  },
  {
   "cell_type": "code",
   "execution_count": 5,
   "metadata": {},
   "outputs": [
    {
     "data": {
      "image/png": "[encoded data removed]",
      "text/plain": [
       "<Figure size 432x288 with 1 Axes>"
      ]
     },
     "metadata": {},
     "output_type": "display_data"
    },
    {
     "name": "stdout",
     "output_type": "stream",
     "text": [
      "The mean is 4.59\n",
      "The standard deviation is 1.6642103111073308\n"
     ]
    }
   ],
   "source": [
    "binomial = np.random.binomial(15, .3, 100)\n",
    "\n",
    "plt.hist(binomial, bins= range(0, 10), color='c')\n",
    "plt.axvline(binomial.mean(), color='b',linestyle='solid', linewidth=2)\n",
    "plt.axvline(binomial.mean() + normal.std(), color = 'b', linestyle='dashed', linewidth=2)\n",
    "plt.axvline(binomial.mean() - normal.std(), color='b', linestyle='dashed', linewidth=2)\n",
    "plt.title('Binomial Distribution')\n",
    "\n",
    "mean_binomial=np.mean(binomial)\n",
    "std_binomial=np.std(binomial, ddof=1)\n",
    "\n",
    "plt.show()\n",
    "\n",
    "print('The mean is {}'.format(mean_binomial))\n",
    "print('The standard deviation is {}'.format(std_binomial))"
   ]
  },
  {
   "cell_type": "markdown",
   "metadata": {},
   "source": [
    "Mean does seem to capture the central tendency. Standard deviation does not seem to be a good measure of variance."
   ]
  },
  {
   "cell_type": "code",
   "execution_count": 6,
   "metadata": {},
   "outputs": [
    {
     "name": "stdout",
     "output_type": "stream",
     "text": [
      "The mean is 2.767707729880138\n",
      "The standard deviation is 1.225488241929298\n"
     ]
    },
    {
     "data": {
      "image/png": "[encoded data removed]",
      "text/plain": [
       "<Figure size 432x288 with 1 Axes>"
      ]
     },
     "metadata": {},
     "output_type": "display_data"
    }
   ],
   "source": [
    "laplace = np.random.laplace(3, 1, 100)\n",
    "\n",
    "plt.hist(laplace, bins= range(-2, 8), color='c')\n",
    "\n",
    "plt.axvline(laplace.mean(), color='b',linestyle='solid', linewidth=2)\n",
    "plt.axvline(laplace.mean() + normal.std(), color = 'b', linestyle='dashed', linewidth=2)\n",
    "plt.axvline(laplace.mean() - normal.std(), color='b', linestyle='dashed', linewidth=2)\n",
    "plt.title('Laplace Distribution')\n",
    "\n",
    "mean_laplace=np.mean(laplace)\n",
    "std_laplace=np.std(laplace, ddof=1)\n",
    "\n",
    "print('The mean is {}'.format(mean_laplace))\n",
    "print('The standard deviation is {}'.format(std_laplace))\n",
    "\n",
    "plt.show()\n",
    "\n",
    "#The mean is placed where the data clusters and does show a central tendency. \n",
    "#The distribution is symmetrical.\n",
    "#Standard deviation could serve as a measure of variance in the data. \n",
    "#The tails are 'fatter' that under a normal distribution."
   ]
  },
  {
   "cell_type": "markdown",
   "metadata": {},
   "source": [
    "The mean is placed where the data clusters and does show a central tendency. The distribution is symmetrical. Standard deviation could serve as a measure of variance in the data. "
   ]
  },
  {
   "cell_type": "code",
   "execution_count": 7,
   "metadata": {},
   "outputs": [
    {
     "data": {
      "image/png": "[encoded data removed]",
      "text/plain": [
       "<Figure size 432x288 with 1 Axes>"
      ]
     },
     "metadata": {},
     "output_type": "display_data"
    },
    {
     "name": "stdout",
     "output_type": "stream",
     "text": [
      "The mean is 3.2491640371054857\n",
      "The standard deviation is 3.4527912448580103\n"
     ]
    }
   ],
   "source": [
    "logistic = np.random.logistic(3, 2, 100)\n",
    "\n",
    "plt.hist(logistic, bins= range(-15, 15), color='c')\n",
    "plt.axvline(logistic.mean(), color='b',linestyle='solid', linewidth=2)\n",
    "plt.axvline(logistic.mean() + normal.std(), color = 'b', linestyle='dashed', linewidth=2)\n",
    "plt.axvline(logistic.mean() - normal.std(), color='b', linestyle='dashed', linewidth=2)\n",
    "plt.title('Logistic Distribution')\n",
    "\n",
    "mean_logistic=np.mean(logistic)\n",
    "std_logistic=np.std(logistic, ddof=1)\n",
    "\n",
    "\n",
    "plt.show()\n",
    "\n",
    "print('The mean is {}'.format(mean_logistic))\n",
    "print('The standard deviation is {}'.format(std_logistic))"
   ]
  },
  {
   "cell_type": "markdown",
   "metadata": {},
   "source": [
    "The mean captures the central tendency. Not sure if standard deviation captures the variance. 68-95-99.7 rule does not apply."
   ]
  },
  {
   "cell_type": "code",
   "execution_count": 8,
   "metadata": {},
   "outputs": [
    {
     "data": {
      "image/png": "[encoded data removed]",
      "text/plain": [
       "<Figure size 432x288 with 1 Axes>"
      ]
     },
     "metadata": {},
     "output_type": "display_data"
    },
    {
     "name": "stdout",
     "output_type": "stream",
     "text": [
      "The mean is 14.8880093944267\n",
      "The standard deviation is 1.122761690552061\n"
     ]
    }
   ],
   "source": [
    "normal_one = np.random.normal(5, .5, 100)\n",
    "normal_two = np.random.normal(10, 1, 100)\n",
    "normal_added = normal_one + normal_two\n",
    "\n",
    "plt.hist(normal_added, bins= range(10,20), color='g')\n",
    "plt.axvline(normal_added.mean(), color='b',linestyle='solid', linewidth=2)\n",
    "plt.axvline(normal_added.mean() + normal_added.std(), color = 'b', linestyle='dashed', linewidth=2)\n",
    "plt.axvline(normal_added.mean() - normal_added.std(), color='b', linestyle='dashed', linewidth=2)\n",
    "\n",
    "\n",
    "mean_norm_added=np.mean(normal_added)\n",
    "std_norm_added=np.std(normal_added, ddof=1)\n",
    "\n",
    "plt.show()\n",
    "\n",
    "print('The mean is {}'.format(mean_norm_added))\n",
    "print('The standard deviation is {}'.format(std_norm_added))"
   ]
  },
  {
   "cell_type": "markdown",
   "metadata": {},
   "source": [
    "The distribution is not symmetrical: it is skewed either to the right or left on different runs. "
   ]
  }
 ],
 "metadata": {
  "kernelspec": {
   "display_name": "Python 3",
   "language": "python",
   "name": "python3"
  },
  "language_info": {
   "codemirror_mode": {
    "name": "ipython",
    "version": 3
   },
   "file_extension": ".py",
   "mimetype": "text/x-python",
   "name": "python",
   "nbconvert_exporter": "python",
   "pygments_lexer": "ipython3",
   "version": "3.7.0"
  }
 },
 "nbformat": 4,
 "nbformat_minor": 2
}
