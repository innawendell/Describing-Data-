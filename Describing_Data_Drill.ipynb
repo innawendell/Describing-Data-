{
 "cells": [
  {
   "cell_type": "code",
   "execution_count": 1,
   "metadata": {},
   "outputs": [],
   "source": [
    "import pandas as pd\n",
    "import numpy as np\n",
    "import statistics"
   ]
  },
  {
   "cell_type": "code",
   "execution_count": 3,
   "metadata": {},
   "outputs": [
    {
     "name": "stdout",
     "output_type": "stream",
     "text": [
      "mean is 9.857142857142858\n",
      "median is 10.0\n",
      "mode is 8\n",
      "variance is 6.408163265306122\n",
      "standard deviation is 2.531435020952764\n",
      "standard error is 0.9567925036515135\n"
     ]
    }
   ],
   "source": [
    "age = [14, 12, 11, 10, 8, 8, 6]\n",
    "def result(age):\n",
    "    print('mean is',np.mean(age))\n",
    "    print('median is', np.median(age))\n",
    "    print('mode is', statistics.mode(age))\n",
    "    print('variance is', np.var(age))\n",
    "    print('standard deviation is', np.std(age))\n",
    "    print('standard error is', np.std(age) / np.sqrt(len(age)))\n",
    "result(age)"
   ]
  },
  {
   "cell_type": "code",
   "execution_count": 4,
   "metadata": {},
   "outputs": [
    {
     "name": "stdout",
     "output_type": "stream",
     "text": [
      "mean is 10.0\n",
      "median is 10.0\n",
      "mode is 8\n",
      "variance is 5.428571428571429\n",
      "standard deviation is 2.32992949004287\n",
      "standard error is 0.8806305718527109\n"
     ]
    }
   ],
   "source": [
    "age_new = [14, 12, 11, 10, 8, 8, 7]\n",
    "result(age_new)"
   ]
  },
  {
   "cell_type": "code",
   "execution_count": 7,
   "metadata": {},
   "outputs": [
    {
     "name": "stdout",
     "output_type": "stream",
     "text": [
      "mean is 9.0\n",
      "median is 10.0\n",
      "variance is 15.428571428571429\n",
      "standard deviation is 3.927922024247863\n",
      "standard error is 1.4846149779161806\n",
      "no mode\n"
     ]
    }
   ],
   "source": [
    "age_newer = [14, 12, 11, 10, 8, 1, 7]\n",
    "def result_updated(age):\n",
    "    print('mean is',np.mean(age))\n",
    "    print('median is', np.median(age))\n",
    "    print('variance is', np.var(age))\n",
    "    print('standard deviation is', np.std(age))\n",
    "    print('standard error is', np.std(age) / np.sqrt(len(age)))\n",
    "result_updated(age_newer)\n",
    "print('no mode')"
   ]
  },
  {
   "cell_type": "code",
   "execution_count": 9,
   "metadata": {},
   "outputs": [
    {
     "name": "stdout",
     "output_type": "stream",
     "text": [
      "the median is 18.5\n"
     ]
    }
   ],
   "source": [
    "percentages = [20, 23, 17, 5]\n",
    "print('the median is', np.median(percentages))"
   ]
  },
  {
   "cell_type": "code",
   "execution_count": null,
   "metadata": {},
   "outputs": [],
   "source": []
  }
 ],
 "metadata": {
  "kernelspec": {
   "display_name": "Python 3",
   "language": "python",
   "name": "python3"
  },
  "language_info": {
   "codemirror_mode": {
    "name": "ipython",
    "version": 3
   },
   "file_extension": ".py",
   "mimetype": "text/x-python",
   "name": "python",
   "nbconvert_exporter": "python",
   "pygments_lexer": "ipython3",
   "version": "3.6.5"
  }
 },
 "nbformat": 4,
 "nbformat_minor": 2
}
